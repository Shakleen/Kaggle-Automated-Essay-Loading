{
 "cells": [
  {
   "cell_type": "markdown",
   "metadata": {},
   "source": [
    "# 📊 Data Preparation\n",
    "\n",
    "This notebook prepares the data for training the deep learning model. At a highlevel it performs the following tasks:\n",
    "1. Stratified k-fold spliting the dataset\n",
    "2. Tokenize \n",
    "3. Create hugging face Dataset"
   ]
  },
  {
   "cell_type": "markdown",
   "metadata": {},
   "source": [
    "## ⚙️ Setup "
   ]
  },
  {
   "cell_type": "markdown",
   "metadata": {},
   "source": [
    "### 📚 Importing Libraries"
   ]
  },
  {
   "cell_type": "markdown",
   "metadata": {},
   "source": [
    "Importing from packages"
   ]
  },
  {
   "cell_type": "code",
   "execution_count": 1,
   "metadata": {},
   "outputs": [
    {
     "name": "stderr",
     "output_type": "stream",
     "text": [
      "/media/ishfar/New Volume/Studies/Projects/Kaggle-Automated-Essay-Scoring/venv/lib/python3.11/site-packages/tqdm/auto.py:21: TqdmWarning: IProgress not found. Please update jupyter and ipywidgets. See https://ipywidgets.readthedocs.io/en/stable/user_install.html\n",
      "  from .autonotebook import tqdm as notebook_tqdm\n"
     ]
    }
   ],
   "source": [
    "import os\n",
    "import pandas as pd\n",
    "from tqdm import tqdm\n",
    "from pprint import pprint\n",
    "import matplotlib.pyplot as plt\n",
    "import torch\n",
    "from sklearn.model_selection import StratifiedKFold\n",
    "from transformers import AutoTokenizer\n",
    "from tokenizers import AddedToken"
   ]
  },
  {
   "cell_type": "code",
   "execution_count": 2,
   "metadata": {},
   "outputs": [],
   "source": [
    "os.chdir(\"../\")"
   ]
  },
  {
   "cell_type": "markdown",
   "metadata": {},
   "source": [
    "Importing user defined packages"
   ]
  },
  {
   "cell_type": "code",
   "execution_count": 3,
   "metadata": {},
   "outputs": [],
   "source": [
    "from lib.utils.utils import seed_everything\n",
    "from lib.config import Config\n",
    "from lib.paths import Paths\n",
    "from lib.data import get_data_loaders"
   ]
  },
  {
   "cell_type": "markdown",
   "metadata": {},
   "source": [
    "### 🌱 Setting Random Seeds"
   ]
  },
  {
   "cell_type": "code",
   "execution_count": 4,
   "metadata": {},
   "outputs": [],
   "source": [
    "seed_everything(Config.RANDOM_SEED)"
   ]
  },
  {
   "cell_type": "markdown",
   "metadata": {},
   "source": [
    "### 💽 Loading Data"
   ]
  },
  {
   "cell_type": "code",
   "execution_count": 5,
   "metadata": {},
   "outputs": [
    {
     "data": {
      "text/plain": [
       "((17307, 5), (3, 4))"
      ]
     },
     "execution_count": 5,
     "metadata": {},
     "output_type": "execute_result"
    }
   ],
   "source": [
    "train_df = pd.read_csv(Paths.TRAIN_CSV_PATH)\n",
    "test_df = pd.read_csv(Paths.TEST_CSV_PATH)\n",
    "\n",
    "train_df.shape, test_df.shape"
   ]
  },
  {
   "cell_type": "code",
   "execution_count": 6,
   "metadata": {},
   "outputs": [],
   "source": [
    "train_df[\"score\"] = train_df[\"score\"] - 1"
   ]
  },
  {
   "cell_type": "markdown",
   "metadata": {},
   "source": [
    "## ✂️ Train-Validation Splitting\n",
    "\n",
    "Use `StratifiedGroupKFold` to split `train_df` into `Config.N_FOLDS`.\n",
    "\n",
    "Sources\n",
    "1. [MOTH's Notebook](https://www.kaggle.com/code/alejopaullier/aes-2-multi-class-classification-train?scriptVersionId=170290107&cellId=12)"
   ]
  },
  {
   "cell_type": "code",
   "execution_count": 7,
   "metadata": {},
   "outputs": [],
   "source": [
    "skf = StratifiedKFold(n_splits=Config.N_FOLDS)"
   ]
  },
  {
   "cell_type": "markdown",
   "metadata": {},
   "source": [
    "Seperate feature `X` and labels `y`."
   ]
  },
  {
   "cell_type": "code",
   "execution_count": 8,
   "metadata": {},
   "outputs": [],
   "source": [
    "X, y = train_df[\"full_text\"], train_df[\"score\"]"
   ]
  },
  {
   "cell_type": "markdown",
   "metadata": {},
   "source": [
    "Assign fold number to dataframe `train_df`"
   ]
  },
  {
   "cell_type": "code",
   "execution_count": 9,
   "metadata": {},
   "outputs": [],
   "source": [
    "train_df[\"fold\"] = -1\n",
    "\n",
    "for i, (train_idx, valid_idx) in enumerate(skf.split(X, y)):\n",
    "    train_df.loc[valid_idx, \"fold\"] = i"
   ]
  },
  {
   "cell_type": "markdown",
   "metadata": {},
   "source": [
    "Distribution of data across `Config.N_FOLDS`."
   ]
  },
  {
   "cell_type": "code",
   "execution_count": 10,
   "metadata": {},
   "outputs": [
    {
     "data": {
      "text/plain": [
       "fold\n",
       "0    3462\n",
       "1    3462\n",
       "2    3461\n",
       "3    3461\n",
       "4    3461\n",
       "Name: count, dtype: int64"
      ]
     },
     "execution_count": 10,
     "metadata": {},
     "output_type": "execute_result"
    }
   ],
   "source": [
    "train_df[\"fold\"].value_counts()"
   ]
  },
  {
   "cell_type": "markdown",
   "metadata": {},
   "source": [
    "## 🪙 Tokenizer\n",
    "\n",
    "Sources:\n",
    "1. [MOTH's Notebook](https://www.kaggle.com/code/alejopaullier/aes-2-multi-class-classification-train?scriptVersionId=170290107&cellId=14)"
   ]
  },
  {
   "cell_type": "code",
   "execution_count": 11,
   "metadata": {},
   "outputs": [
    {
     "name": "stdout",
     "output_type": "stream",
     "text": [
      "env: TOKENIZERS_PARALLELISM=true\n"
     ]
    }
   ],
   "source": [
    "%env TOKENIZERS_PARALLELISM=true"
   ]
  },
  {
   "cell_type": "code",
   "execution_count": 12,
   "metadata": {},
   "outputs": [
    {
     "name": "stderr",
     "output_type": "stream",
     "text": [
      "/media/ishfar/New Volume/Studies/Projects/Kaggle-Automated-Essay-Scoring/venv/lib/python3.11/site-packages/transformers/convert_slow_tokenizer.py:550: UserWarning: The sentencepiece tokenizer that you are converting to a fast tokenizer uses the byte fallback option which is not implemented in the fast tokenizers. In practice this means that the fast version of the tokenizer can produce unknown tokens whereas the sentencepiece version would have converted these unknown tokens into a sequence of byte tokens matching the original piece of text.\n",
      "  warnings.warn(\n"
     ]
    }
   ],
   "source": [
    "tokenizer = AutoTokenizer.from_pretrained(Config.MODEL)"
   ]
  },
  {
   "cell_type": "markdown",
   "metadata": {},
   "source": [
    "[Idea of adding special tokens from Chris Deotte](https://www.kaggle.com/code/cdeotte/deberta-v3-small-starter-cv-0-820-lb-0-800?scriptVersionId=174239814&cellId=17)"
   ]
  },
  {
   "cell_type": "code",
   "execution_count": 13,
   "metadata": {},
   "outputs": [
    {
     "data": {
      "text/plain": [
       "1"
      ]
     },
     "execution_count": 13,
     "metadata": {},
     "output_type": "execute_result"
    }
   ],
   "source": [
    "tokenizer.add_tokens([AddedToken(\"\\n\", normalized=False)])\n",
    "tokenizer.add_tokens([AddedToken(\" \"*2, normalized=False)])"
   ]
  },
  {
   "cell_type": "code",
   "execution_count": 14,
   "metadata": {},
   "outputs": [
    {
     "data": {
      "text/plain": [
       "('output/microsoft/deberta-v3-base/tokenizer_v1/tokenizer_config.json',\n",
       " 'output/microsoft/deberta-v3-base/tokenizer_v1/special_tokens_map.json',\n",
       " 'output/microsoft/deberta-v3-base/tokenizer_v1/spm.model',\n",
       " 'output/microsoft/deberta-v3-base/tokenizer_v1/added_tokens.json',\n",
       " 'output/microsoft/deberta-v3-base/tokenizer_v1/tokenizer.json')"
      ]
     },
     "execution_count": 14,
     "metadata": {},
     "output_type": "execute_result"
    }
   ],
   "source": [
    "tokenizer.save_pretrained(Paths.TOKENIZER_PATH)"
   ]
  },
  {
   "cell_type": "code",
   "execution_count": 15,
   "metadata": {},
   "outputs": [
    {
     "name": "stdout",
     "output_type": "stream",
     "text": [
      "DebertaV2TokenizerFast(name_or_path='microsoft/deberta-v3-base', vocab_size=128000, model_max_length=1000000000000000019884624838656, is_fast=True, padding_side='right', truncation_side='right', special_tokens={'bos_token': '[CLS]', 'eos_token': '[SEP]', 'unk_token': '[UNK]', 'sep_token': '[SEP]', 'pad_token': '[PAD]', 'cls_token': '[CLS]', 'mask_token': '[MASK]'}, clean_up_tokenization_spaces=True),  added_tokens_decoder={\n",
      "\t0: AddedToken(\"[PAD]\", rstrip=False, lstrip=False, single_word=False, normalized=False, special=True),\n",
      "\t1: AddedToken(\"[CLS]\", rstrip=False, lstrip=False, single_word=False, normalized=False, special=True),\n",
      "\t2: AddedToken(\"[SEP]\", rstrip=False, lstrip=False, single_word=False, normalized=False, special=True),\n",
      "\t3: AddedToken(\"[UNK]\", rstrip=False, lstrip=False, single_word=False, normalized=True, special=True),\n",
      "\t128000: AddedToken(\"[MASK]\", rstrip=False, lstrip=False, single_word=False, normalized=False, special=True),\n",
      "\t128001: AddedToken(\"\n",
      "\", rstrip=False, lstrip=False, single_word=False, normalized=False, special=False),\n",
      "\t128002: AddedToken(\"  \", rstrip=False, lstrip=False, single_word=False, normalized=False, special=False),\n",
      "}\n"
     ]
    }
   ],
   "source": [
    "print(tokenizer)"
   ]
  },
  {
   "cell_type": "markdown",
   "metadata": {},
   "source": [
    "## 🗃️ Torch Dataset\n",
    "\n",
    "Sources\n",
    "1. [MOTH's Notebook](https://www.kaggle.com/code/alejopaullier/aes-2-multi-class-classification-train?scriptVersionId=170290107&cellId=16)"
   ]
  },
  {
   "cell_type": "code",
   "execution_count": 16,
   "metadata": {},
   "outputs": [
    {
     "name": "stderr",
     "output_type": "stream",
     "text": [
      "  0%|          | 0/17307 [00:00<?, ?it/s]"
     ]
    },
    {
     "name": "stderr",
     "output_type": "stream",
     "text": [
      "100%|██████████| 17307/17307 [00:09<00:00, 1773.87it/s]\n"
     ]
    }
   ],
   "source": [
    "lengths = [\n",
    "    len(tokenizer(text, add_special_tokens=False)[\"input_ids\"])\n",
    "    for text in tqdm(train_df[\"full_text\"].fillna(\"\"), total=len(train_df))\n",
    "]"
   ]
  },
  {
   "cell_type": "code",
   "execution_count": 17,
   "metadata": {},
   "outputs": [
    {
     "data": {
      "image/png": "[encoded data removed]",
      "text/plain": [
       "<Figure size 640x480 with 1 Axes>"
      ]
     },
     "metadata": {},
     "output_type": "display_data"
    }
   ],
   "source": [
    "_ = plt.hist(lengths, bins=25)\n",
    "plt.title(\"Token Sequence Length Histogram\")\n",
    "plt.xlabel(\"Length\")\n",
    "plt.ylabel(\"Count\")\n",
    "plt.show()"
   ]
  },
  {
   "cell_type": "code",
   "execution_count": 18,
   "metadata": {},
   "outputs": [
    {
     "name": "stdout",
     "output_type": "stream",
     "text": [
      "\"Encoding keys: dict_keys(['inputs', 'essay_ids', 'labels']) \\n\"\n",
      "{'essay_ids': ['3feb2e6',\n",
      "               'f0b3065',\n",
      "               'dafc727',\n",
      "               'e27d629',\n",
      "               'bbbd46b',\n",
      "               '8e49acb',\n",
      "               'ec00b60',\n",
      "               '422e6e7'],\n",
      " 'inputs': {'attention_mask': tensor([[1, 1, 1,  ..., 0, 0, 0],\n",
      "        [1, 1, 1,  ..., 0, 0, 0],\n",
      "        [1, 1, 1,  ..., 0, 0, 0],\n",
      "        ...,\n",
      "        [1, 1, 1,  ..., 0, 0, 0],\n",
      "        [1, 1, 1,  ..., 0, 0, 0],\n",
      "        [1, 1, 1,  ..., 0, 0, 0]]),\n",
      "            'input_ids': tensor([[    1, 14962,   269,  ...,     0,     0,     0],\n",
      "        [    1, 15343,   261,  ...,     0,     0,     0],\n",
      "        [    1,   344,   561,  ...,     0,     0,     0],\n",
      "        ...,\n",
      "        [    1,  1768,   274,  ...,     0,     0,     0],\n",
      "        [    1,  1768,   632,  ...,     0,     0,     0],\n",
      "        [    1,   307,   558,  ...,     0,     0,     0]]),\n",
      "            'token_type_ids': tensor([[0, 0, 0,  ..., 0, 0, 0],\n",
      "        [0, 0, 0,  ..., 0, 0, 0],\n",
      "        [0, 0, 0,  ..., 0, 0, 0],\n",
      "        ...,\n",
      "        [0, 0, 0,  ..., 0, 0, 0],\n",
      "        [0, 0, 0,  ..., 0, 0, 0],\n",
      "        [0, 0, 0,  ..., 0, 0, 0]])},\n",
      " 'labels': tensor([1, 3, 3, 3, 1, 2, 2, 2])}\n"
     ]
    }
   ],
   "source": [
    "if True:\n",
    "    train_fold = train_df[train_df[\"fold\"] != 0].reset_index(drop=True)\n",
    "    valid_fold = train_df[train_df[\"fold\"] == 0].reset_index(drop=True)\n",
    "\n",
    "    train_loader, valid_loader = get_data_loaders(train_fold, valid_fold, tokenizer)\n",
    "\n",
    "    # === Let's check one sample ===\n",
    "    for sample in train_loader:\n",
    "        pprint(f\"Encoding keys: {sample.keys()} \\n\")\n",
    "        pprint(sample)\n",
    "        break"
   ]
  },
  {
   "cell_type": "markdown",
   "metadata": {},
   "source": [
    "Saving data loaders to disk."
   ]
  },
  {
   "cell_type": "code",
   "execution_count": 19,
   "metadata": {},
   "outputs": [
    {
     "name": "stdout",
     "output_type": "stream",
     "text": [
      "Saved data/dataloader_v1/train_0.pth\n",
      "Saved data/dataloader_v1/valid_0.pth\n",
      "Saved data/dataloader_v1/valid_0.csv\n",
      "Saved data/dataloader_v1/train_1.pth\n",
      "Saved data/dataloader_v1/valid_1.pth\n",
      "Saved data/dataloader_v1/valid_1.csv\n",
      "Saved data/dataloader_v1/train_2.pth\n",
      "Saved data/dataloader_v1/valid_2.pth\n",
      "Saved data/dataloader_v1/valid_2.csv\n",
      "Saved data/dataloader_v1/train_3.pth\n",
      "Saved data/dataloader_v1/valid_3.pth\n",
      "Saved data/dataloader_v1/valid_3.csv\n",
      "Saved data/dataloader_v1/train_4.pth\n",
      "Saved data/dataloader_v1/valid_4.pth\n",
      "Saved data/dataloader_v1/valid_4.csv\n"
     ]
    }
   ],
   "source": [
    "if not os.path.exists(Paths.DATA_LOADER_PATH):\n",
    "    os.makedirs(Paths.DATA_LOADER_PATH)\n",
    "\n",
    "for fold in train_df.fold.unique():\n",
    "    train_fold = train_df[train_df[\"fold\"] != fold].reset_index(drop=True)\n",
    "    valid_fold = train_df[train_df[\"fold\"] == fold].reset_index(drop=True)\n",
    "\n",
    "    train_loader, valid_loader = get_data_loaders(train_fold, valid_fold, tokenizer)\n",
    "\n",
    "    train_dataloader_path = os.path.join(Paths.DATA_LOADER_PATH, f\"train_{fold}.pth\")\n",
    "    torch.save(train_loader, train_dataloader_path)\n",
    "    print(f\"Saved {train_dataloader_path}\")\n",
    "\n",
    "    valid_dataloader_path = os.path.join(Paths.DATA_LOADER_PATH, f\"valid_{fold}.pth\")\n",
    "    torch.save(valid_loader, valid_dataloader_path)\n",
    "    print(f\"Saved {valid_dataloader_path}\")\n",
    "\n",
    "    valid_csv_path = os.path.join(Paths.DATA_LOADER_PATH, f\"valid_{fold}.csv\")\n",
    "    valid_fold.to_csv(valid_csv_path, index=False)\n",
    "    print(f\"Saved {valid_csv_path}\")"
   ]
  }
 ],
 "metadata": {
  "kernelspec": {
   "display_name": "venv",
   "language": "python",
   "name": "python3"
  },
  "language_info": {
   "codemirror_mode": {
    "name": "ipython",
    "version": 3
   },
   "file_extension": ".py",
   "mimetype": "text/x-python",
   "name": "python",
   "nbconvert_exporter": "python",
   "pygments_lexer": "ipython3",
   "version": "3.11.8"
  }
 },
 "nbformat": 4,
 "nbformat_minor": 2
}
