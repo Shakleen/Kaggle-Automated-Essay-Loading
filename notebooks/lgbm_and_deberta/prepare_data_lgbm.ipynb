{
 "cells": [
  {
   "cell_type": "markdown",
   "metadata": {},
   "source": [
    "# Prepare Data - LGBM"
   ]
  },
  {
   "cell_type": "markdown",
   "metadata": {},
   "source": [
    "## Setup"
   ]
  },
  {
   "cell_type": "code",
   "execution_count": 1,
   "metadata": {},
   "outputs": [],
   "source": [
    "import os\n",
    "import pandas as pd\n",
    "import numpy as np\n",
    "import pickle as pkl\n",
    "from sklearn.feature_extraction.text import TfidfVectorizer, CountVectorizer\n",
    "from sklearn.model_selection import StratifiedKFold"
   ]
  },
  {
   "cell_type": "code",
   "execution_count": 2,
   "metadata": {},
   "outputs": [],
   "source": [
    "os.chdir(\"../../\")"
   ]
  },
  {
   "cell_type": "code",
   "execution_count": 3,
   "metadata": {},
   "outputs": [],
   "source": [
    "from lib.config import config\n",
    "from lib.paths import Paths\n",
    "from lib.utils.utils import seed_everything"
   ]
  },
  {
   "cell_type": "code",
   "execution_count": 4,
   "metadata": {},
   "outputs": [],
   "source": [
    "seed_everything()"
   ]
  },
  {
   "cell_type": "markdown",
   "metadata": {},
   "source": [
    "## Global Definitions"
   ]
  },
  {
   "cell_type": "markdown",
   "metadata": {},
   "source": [
    "### Constants"
   ]
  },
  {
   "cell_type": "code",
   "execution_count": 5,
   "metadata": {},
   "outputs": [],
   "source": [
    "root_data_dir = \"data/lgbm_deberta\""
   ]
  },
  {
   "cell_type": "code",
   "execution_count": 6,
   "metadata": {},
   "outputs": [],
   "source": [
    "all_features = pd.read_csv(Paths.FEATURE_ENGG_CSV_PATH)"
   ]
  },
  {
   "cell_type": "markdown",
   "metadata": {},
   "source": [
    "### Functions"
   ]
  },
  {
   "cell_type": "code",
   "execution_count": 7,
   "metadata": {},
   "outputs": [],
   "source": [
    "def get_train_and_valid_df(fold, fold_dir):\n",
    "    usecols = [\"essay_id\"]\n",
    "\n",
    "    train_df = pd.read_csv(os.path.join(fold_dir, f\"train_{fold}.csv\"), usecols=usecols)\n",
    "    valid_df = pd.read_csv(os.path.join(fold_dir, f\"valid_{fold}.csv\"), usecols=usecols)\n",
    "\n",
    "    return train_df, valid_df"
   ]
  },
  {
   "cell_type": "code",
   "execution_count": 8,
   "metadata": {},
   "outputs": [],
   "source": [
    "def get_train_and_valid_oof(fold, fold_dir):\n",
    "    train_oof = pd.read_csv(os.path.join(fold_dir, f\"oof_train_{fold}.csv\"))\n",
    "    valid_oof = pd.read_csv(os.path.join(fold_dir, f\"oof_valid_{fold}.csv\"))\n",
    "\n",
    "    feature_list = [f\"score_prob_{i}\" for i in range(config.num_classes)]\n",
    "    train_oof = train_oof.groupby(\"essay_id\")[feature_list].mean()\n",
    "    valid_oof = valid_oof.groupby(\"essay_id\")[feature_list].mean()\n",
    "\n",
    "    return train_oof, valid_oof"
   ]
  },
  {
   "cell_type": "code",
   "execution_count": 9,
   "metadata": {},
   "outputs": [],
   "source": [
    "def select_fold_rows(train_df, valid_df):\n",
    "    train_features = all_features[\n",
    "        all_features.essay_id.isin(train_df.essay_id)\n",
    "    ].reset_index(drop=True)\n",
    "    valid_features = all_features[\n",
    "        all_features.essay_id.isin(valid_df.essay_id)\n",
    "    ].reset_index(drop=True)\n",
    "    \n",
    "    return train_features,valid_features"
   ]
  },
  {
   "cell_type": "code",
   "execution_count": 10,
   "metadata": {},
   "outputs": [],
   "source": [
    "def add_oof_prediction_column(fold, fold_dir, train_features: pd.DataFrame, valid_features: pd.DataFrame):\n",
    "    train_oof, valid_oof = get_train_and_valid_oof(fold, fold_dir)\n",
    "    \n",
    "    train_features = train_features.join(train_oof, on=\"essay_id\", how=\"outer\")\n",
    "    valid_features = valid_features.join(valid_oof, on=\"essay_id\", how=\"outer\")\n",
    "\n",
    "    return train_features, valid_features"
   ]
  },
  {
   "cell_type": "markdown",
   "metadata": {},
   "source": [
    "## Feature Engineering"
   ]
  },
  {
   "cell_type": "code",
   "execution_count": 11,
   "metadata": {},
   "outputs": [],
   "source": [
    "skf = StratifiedKFold(\n",
    "    n_splits=config.n_folds,\n",
    "    shuffle=True,\n",
    "    random_state=config.random_seed + 20,\n",
    ")"
   ]
  },
  {
   "cell_type": "code",
   "execution_count": 12,
   "metadata": {},
   "outputs": [
    {
     "name": "stdout",
     "output_type": "stream",
     "text": [
      "Processing: data/lgbm_deberta/fold_0\n",
      "add_oof_prediction_column (13845, 22052) (3462, 22052)\n",
      "Processing part 0\n",
      "Processing part 1\n",
      "Processing part 2\n",
      "Processing part 3\n",
      "Processing part 4\n",
      "Processing: data/lgbm_deberta/fold_1\n",
      "add_oof_prediction_column (13845, 22052) (3462, 22052)\n",
      "Processing part 0\n",
      "Processing part 1\n",
      "Processing part 2\n",
      "Processing part 3\n",
      "Processing part 4\n",
      "Processing: data/lgbm_deberta/fold_2\n",
      "add_oof_prediction_column (13846, 22052) (3461, 22052)\n",
      "Processing part 0\n",
      "Processing part 1\n",
      "Processing part 2\n",
      "Processing part 3\n",
      "Processing part 4\n",
      "Processing: data/lgbm_deberta/fold_3\n",
      "add_oof_prediction_column (13846, 22052) (3461, 22052)\n",
      "Processing part 0\n",
      "Processing part 1\n",
      "Processing part 2\n",
      "Processing part 3\n",
      "Processing part 4\n",
      "Processing: data/lgbm_deberta/fold_4\n",
      "add_oof_prediction_column (13846, 22052) (3461, 22052)\n",
      "Processing part 0\n",
      "Processing part 1\n",
      "Processing part 2\n",
      "Processing part 3\n",
      "Processing part 4\n"
     ]
    }
   ],
   "source": [
    "for fold in range(config.n_folds):\n",
    "    fold_dir = os.path.join(root_data_dir, f\"fold_{fold}\")\n",
    "    print(f\"Processing: {fold_dir}\")\n",
    "\n",
    "    train_df, valid_df = get_train_and_valid_df(fold, fold_dir)\n",
    "    train_features, valid_features = select_fold_rows(train_df, valid_df)\n",
    "    train_features, valid_features = add_oof_prediction_column(\n",
    "        fold, fold_dir, train_features, valid_features\n",
    "    )\n",
    "\n",
    "    X = train_features.drop(columns=[\"score\"])\n",
    "    y = train_features[\"score\"]\n",
    "\n",
    "    for part, (train_idx, valid_idx) in enumerate(skf.split(X, y)):\n",
    "        print(\"Processing part\", part)\n",
    "        train_part = train_features.loc[train_idx].reset_index(drop=True)\n",
    "        valid_part = train_features.loc[valid_idx].reset_index(drop=True)\n",
    "\n",
    "        part_dir = os.path.join(fold_dir, f\"part_{part}\")\n",
    "        train_part.to_csv(\n",
    "            os.path.join(part_dir, f\"train_lgbm_{fold}_{part}.csv\"),\n",
    "            index=False,\n",
    "        )\n",
    "        valid_part.to_csv(\n",
    "            os.path.join(part_dir, f\"valid_lgbm_{fold}_{part}.csv\"),\n",
    "            index=False,\n",
    "        )\n",
    "\n",
    "    valid_features.to_csv(\n",
    "        os.path.join(fold_dir, f\"lgbm_valid_{fold}.csv\"),\n",
    "        index=False,\n",
    "    )"
   ]
  }
 ],
 "metadata": {
  "kernelspec": {
   "display_name": "Python 3 (ipykernel)",
   "language": "python",
   "name": "python3"
  },
  "language_info": {
   "codemirror_mode": {
    "name": "ipython",
    "version": 3
   },
   "file_extension": ".py",
   "mimetype": "text/x-python",
   "name": "python",
   "nbconvert_exporter": "python",
   "pygments_lexer": "ipython3",
   "version": "3.11.8"
  }
 },
 "nbformat": 4,
 "nbformat_minor": 4
}
