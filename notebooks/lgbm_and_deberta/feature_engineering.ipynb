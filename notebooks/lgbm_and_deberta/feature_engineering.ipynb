{
 "cells": [
  {
   "cell_type": "markdown",
   "metadata": {},
   "source": [
    "# Feature Engineering\n",
    "\n",
    "In this notebook, I engineer features for LGBM."
   ]
  },
  {
   "cell_type": "markdown",
   "metadata": {},
   "source": [
    "## Setup"
   ]
  },
  {
   "cell_type": "code",
   "execution_count": 1,
   "metadata": {},
   "outputs": [],
   "source": [
    "import os\n",
    "import pandas as pd\n",
    "import numpy as np\n",
    "import pickle as pkl\n",
    "from sklearn.feature_extraction.text import TfidfVectorizer, CountVectorizer"
   ]
  },
  {
   "cell_type": "code",
   "execution_count": 2,
   "metadata": {},
   "outputs": [],
   "source": [
    "os.chdir(\"../../\")"
   ]
  },
  {
   "cell_type": "code",
   "execution_count": 3,
   "metadata": {},
   "outputs": [],
   "source": [
    "from lib.config import config\n",
    "from lib.paths import Paths\n",
    "from lib.utils.utils import seed_everything\n",
    "from lib.data_tools.feature_engineering import (\n",
    "    process_paragraph,\n",
    "    paragraph_feature_engineering,\n",
    "    process_sentence,\n",
    "    sentence_feature_engineering,\n",
    "    process_word,\n",
    "    word_feature_engineering,\n",
    "    generate_tfidf_features,\n",
    "    generate_count_features,\n",
    ")"
   ]
  },
  {
   "cell_type": "code",
   "execution_count": 4,
   "metadata": {},
   "outputs": [],
   "source": [
    "seed_everything()"
   ]
  },
  {
   "cell_type": "markdown",
   "metadata": {},
   "source": [
    "## Global Definitions"
   ]
  },
  {
   "cell_type": "markdown",
   "metadata": {},
   "source": [
    "### Constants"
   ]
  },
  {
   "cell_type": "code",
   "execution_count": 5,
   "metadata": {},
   "outputs": [],
   "source": [
    "root_data_dir = \"data/lgbm_deberta\""
   ]
  },
  {
   "cell_type": "code",
   "execution_count": 7,
   "metadata": {},
   "outputs": [],
   "source": [
    "all_features = pd.read_csv(Paths.FEATURE_ENGG_CSV_PATH)"
   ]
  },
  {
   "cell_type": "markdown",
   "metadata": {},
   "source": [
    "### Functions"
   ]
  },
  {
   "cell_type": "code",
   "execution_count": 6,
   "metadata": {},
   "outputs": [],
   "source": [
    "def get_train_and_valid_df(fold, fold_dir):\n",
    "    usecols = [\"essay_id\", \"full_text\"]\n",
    "\n",
    "    train_df = pd.read_csv(os.path.join(fold_dir, f\"train_{fold}.csv\"), usecols=usecols)\n",
    "    valid_df = pd.read_csv(os.path.join(fold_dir, f\"valid_{fold}.csv\"), usecols=usecols)\n",
    "\n",
    "    return train_df, valid_df"
   ]
  },
  {
   "cell_type": "markdown",
   "metadata": {},
   "source": [
    "## Feature Engineering"
   ]
  },
  {
   "cell_type": "code",
   "execution_count": 10,
   "metadata": {},
   "outputs": [
    {
     "name": "stdout",
     "output_type": "stream",
     "text": [
      "Processing: data/lgbm_deberta/fold_0\n",
      "Processing: data/lgbm_deberta/fold_1\n",
      "Processing: data/lgbm_deberta/fold_2\n",
      "Processing: data/lgbm_deberta/fold_3\n",
      "Processing: data/lgbm_deberta/fold_4\n"
     ]
    }
   ],
   "source": [
    "for fold in range(config.n_folds):\n",
    "    fold_dir = os.path.join(root_data_dir, f\"fold_{fold}\")\n",
    "    print(f\"Processing: {fold_dir}\")\n",
    "\n",
    "    train_df, valid_df = get_train_and_valid_df(fold, fold_dir)\n",
    "\n",
    "    train_features = all_features[\n",
    "        all_features.essay_id.isin(train_df.essay_id)\n",
    "    ].reset_index(drop=True)\n",
    "    valid_features = all_features[\n",
    "        all_features.essay_id.isin(valid_df.essay_id)\n",
    "    ].reset_index(drop=True)\n",
    "\n",
    "    train_features.to_csv(\n",
    "        os.path.join(fold_dir, f\"train_features_{fold}.csv\"),\n",
    "        index=False\n",
    "    )\n",
    "    valid_features.to_csv(\n",
    "        os.path.join(fold_dir, f\"valid_features_{fold}.csv\"),\n",
    "        index=False\n",
    "    )"
   ]
  }
 ],
 "metadata": {
  "kernelspec": {
   "display_name": "Python 3 (ipykernel)",
   "language": "python",
   "name": "python3"
  },
  "language_info": {
   "codemirror_mode": {
    "name": "ipython",
    "version": 3
   },
   "file_extension": ".py",
   "mimetype": "text/x-python",
   "name": "python",
   "nbconvert_exporter": "python",
   "pygments_lexer": "ipython3",
   "version": "3.11.8"
  }
 },
 "nbformat": 4,
 "nbformat_minor": 4
}
