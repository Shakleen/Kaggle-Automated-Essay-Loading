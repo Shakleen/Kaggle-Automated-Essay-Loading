{
 "cells": [
  {
   "cell_type": "markdown",
   "metadata": {},
   "source": [
    "# 🏋️ Model Training"
   ]
  },
  {
   "cell_type": "markdown",
   "metadata": {},
   "source": [
    "## ⚙️ Setup "
   ]
  },
  {
   "cell_type": "markdown",
   "metadata": {},
   "source": [
    "### 📚 Importing Libraries"
   ]
  },
  {
   "cell_type": "markdown",
   "metadata": {},
   "source": [
    "Importing from packages"
   ]
  },
  {
   "cell_type": "code",
   "execution_count": 1,
   "metadata": {
    "metadata": {}
   },
   "outputs": [],
   "source": [
    "import os\n",
    "import gc\n",
    "import time\n",
    "from dotenv import load_dotenv\n",
    "\n",
    "import pandas as pd\n",
    "import numpy as np\n",
    "import torch\n",
    "from torch import nn\n",
    "import wandb\n",
    "from pprint import pprint\n",
    "import warnings\n",
    "from transformers import AutoTokenizer\n",
    "import math\n",
    "from tqdm import tqdm\n",
    "\n",
    "import matplotlib.pyplot as plt\n",
    "import plotly.express as px\n",
    "import plotly.graph_objects as go\n",
    "from sklearn.metrics import confusion_matrix, ConfusionMatrixDisplay"
   ]
  },
  {
   "cell_type": "code",
   "execution_count": 2,
   "metadata": {},
   "outputs": [
    {
     "data": {
      "text/plain": [
       "True"
      ]
     },
     "execution_count": 2,
     "metadata": {},
     "output_type": "execute_result"
    }
   ],
   "source": [
    "os.chdir(\"../../\")\n",
    "warnings.filterwarnings(\"ignore\")\n",
    "load_dotenv()"
   ]
  },
  {
   "cell_type": "markdown",
   "metadata": {},
   "source": [
    "Importing user defined packages"
   ]
  },
  {
   "cell_type": "code",
   "execution_count": 3,
   "metadata": {},
   "outputs": [],
   "source": [
    "from lib.config import config\n",
    "from lib.paths import Paths\n",
    "from lib.model.utils import get_score, get_model_optimizer_and_scheduler\n",
    "from lib.utils.utils import seed_everything\n",
    "from lib.utils.average_meter import AverageMeter\n",
    "from lib.data_tools.data import collate\n",
    "from lib.model.inference import ensemble_inference\n",
    "from lib.criterion.metrics import log_metrics"
   ]
  },
  {
   "cell_type": "code",
   "execution_count": 4,
   "metadata": {},
   "outputs": [
    {
     "name": "stdout",
     "output_type": "stream",
     "text": [
      "namespace(apex=True,\n",
      "          batch_scheduler=True,\n",
      "          batch_size_train=32,\n",
      "          batch_size_valid=32,\n",
      "          betas=[0.9, 0.999],\n",
      "          data_version=2,\n",
      "          debug=False,\n",
      "          decoder_lr=2e-05,\n",
      "          encoder_lr=2e-05,\n",
      "          epochs=2,\n",
      "          eps=1e-06,\n",
      "          gradient_accumulation_steps=1,\n",
      "          gradient_checkpointing=True,\n",
      "          lgbm_a=2.998,\n",
      "          lgbm_b=1.092,\n",
      "          lgbm_n_folds=15,\n",
      "          max_grad_norm=1000,\n",
      "          max_length=512,\n",
      "          min_lr=1e-06,\n",
      "          model='microsoft/deberta-v3-xsmall',\n",
      "          n_folds=5,\n",
      "          negative_sample=True,\n",
      "          negative_sample_partitions=3,\n",
      "          num_classes=6,\n",
      "          num_cycles=0.5,\n",
      "          num_warmup_steps=0,\n",
      "          num_workers=6,\n",
      "          positive_classes=[0, 5],\n",
      "          negative_classes=[1, 2, 3, 4],\n",
      "          print_freq=6,\n",
      "          random_seed=20,\n",
      "          regression=False,\n",
      "          scheduler='cosine',\n",
      "          stride=192,\n",
      "          tokenizer_version=2,\n",
      "          train=True,\n",
      "          train_folds=[0, 1, 2, 3, 4, 5, 6, 7],\n",
      "          weight_decay=0.01)\n"
     ]
    }
   ],
   "source": [
    "pprint(config)"
   ]
  },
  {
   "cell_type": "code",
   "execution_count": 5,
   "metadata": {},
   "outputs": [],
   "source": [
    "seed_everything()"
   ]
  },
  {
   "cell_type": "code",
   "execution_count": 6,
   "metadata": {},
   "outputs": [
    {
     "name": "stdout",
     "output_type": "stream",
     "text": [
      "env: TOKENIZERS_PARALLELISM=true\n"
     ]
    }
   ],
   "source": [
    "%env TOKENIZERS_PARALLELISM=true"
   ]
  },
  {
   "cell_type": "markdown",
   "metadata": {},
   "source": [
    "### Setting Up WandB"
   ]
  },
  {
   "cell_type": "code",
   "execution_count": 7,
   "metadata": {},
   "outputs": [],
   "source": [
    "WANDB_PROJECT = \"Kaggle_ASE_2.0\"\n",
    "model_name = config.model.split(\"/\")[-1]\n",
    "WANDB_NAME = f\"{model_name}-{config.max_length}-D{config.data_version}-T{config.tokenizer_version}\""
   ]
  },
  {
   "cell_type": "code",
   "execution_count": 8,
   "metadata": {},
   "outputs": [
    {
     "name": "stderr",
     "output_type": "stream",
     "text": [
      "Failed to detect the name of this notebook, you can set it manually with the WANDB_NOTEBOOK_NAME environment variable to enable code saving.\n",
      "\u001b[34m\u001b[1mwandb\u001b[0m: Currently logged in as: \u001b[33mshakleenishfar\u001b[0m (\u001b[33mlaplacesdemon43\u001b[0m). Use \u001b[1m`wandb login --relogin`\u001b[0m to force relogin\n",
      "\u001b[34m\u001b[1mwandb\u001b[0m: \u001b[33mWARNING\u001b[0m If you're specifying your api key in code, ensure this code is not shared publicly.\n",
      "\u001b[34m\u001b[1mwandb\u001b[0m: \u001b[33mWARNING\u001b[0m Consider setting the WANDB_API_KEY environment variable, or running `wandb login` from the command line.\n",
      "\u001b[34m\u001b[1mwandb\u001b[0m: Appending key for api.wandb.ai to your netrc file: /home/ishfar/.netrc\n"
     ]
    },
    {
     "data": {
      "text/html": [
       "wandb version 0.17.0 is available!  To upgrade, please run:\n",
       " $ pip install wandb --upgrade"
      ],
      "text/plain": [
       "<IPython.core.display.HTML object>"
      ]
     },
     "metadata": {},
     "output_type": "display_data"
    },
    {
     "data": {
      "text/html": [
       "Tracking run with wandb version 0.16.6"
      ],
      "text/plain": [
       "<IPython.core.display.HTML object>"
      ]
     },
     "metadata": {},
     "output_type": "display_data"
    },
    {
     "data": {
      "text/html": [
       "Run data is saved locally in <code>/media/ishfar/New Volume/Studies/Projects/Kaggle-Automated-Essay-Scoring/wandb/run-20240525_092616-h035qv4y</code>"
      ],
      "text/plain": [
       "<IPython.core.display.HTML object>"
      ]
     },
     "metadata": {},
     "output_type": "display_data"
    },
    {
     "data": {
      "text/html": [
       "Syncing run <strong><a href='https://wandb.ai/laplacesdemon43/Kaggle_ASE_2.0/runs/h035qv4y' target=\"_blank\">deberta-v3-xsmall-512-D2-T2</a></strong> to <a href='https://wandb.ai/laplacesdemon43/Kaggle_ASE_2.0' target=\"_blank\">Weights & Biases</a> (<a href='https://wandb.me/run' target=\"_blank\">docs</a>)<br/>"
      ],
      "text/plain": [
       "<IPython.core.display.HTML object>"
      ]
     },
     "metadata": {},
     "output_type": "display_data"
    },
    {
     "data": {
      "text/html": [
       " View project at <a href='https://wandb.ai/laplacesdemon43/Kaggle_ASE_2.0' target=\"_blank\">https://wandb.ai/laplacesdemon43/Kaggle_ASE_2.0</a>"
      ],
      "text/plain": [
       "<IPython.core.display.HTML object>"
      ]
     },
     "metadata": {},
     "output_type": "display_data"
    },
    {
     "data": {
      "text/html": [
       " View run at <a href='https://wandb.ai/laplacesdemon43/Kaggle_ASE_2.0/runs/h035qv4y' target=\"_blank\">https://wandb.ai/laplacesdemon43/Kaggle_ASE_2.0/runs/h035qv4y</a>"
      ],
      "text/plain": [
       "<IPython.core.display.HTML object>"
      ]
     },
     "metadata": {},
     "output_type": "display_data"
    }
   ],
   "source": [
    "wandb.login(key=os.environ.get('WANDB_API_KEY'))\n",
    "wandb.init(\n",
    "    project=WANDB_PROJECT,\n",
    "    name=WANDB_NAME,\n",
    "    save_code=True,\n",
    "    job_type=\"train\",\n",
    "    config=config,\n",
    ")\n",
    "config = wandb.config"
   ]
  },
  {
   "cell_type": "markdown",
   "metadata": {},
   "source": [
    "## 📖 Definitions"
   ]
  },
  {
   "cell_type": "markdown",
   "metadata": {},
   "source": [
    "### 🌎 Global Variables"
   ]
  },
  {
   "cell_type": "code",
   "execution_count": 9,
   "metadata": {},
   "outputs": [],
   "source": [
    "device = torch.device('cuda' if torch.cuda.is_available() else 'cpu')"
   ]
  },
  {
   "cell_type": "markdown",
   "metadata": {},
   "source": [
    "The competition data has a class imbalance problem. Which is why I assign higher weights to classes having lower samples."
   ]
  },
  {
   "cell_type": "code",
   "execution_count": 10,
   "metadata": {},
   "outputs": [],
   "source": [
    "class_weights = torch.tensor([1.0] * 6).to(device)"
   ]
  },
  {
   "cell_type": "code",
   "execution_count": 11,
   "metadata": {},
   "outputs": [
    {
     "name": "stderr",
     "output_type": "stream",
     "text": [
      "Special tokens have been added in the vocabulary, make sure the associated word embeddings are fine-tuned or trained.\n"
     ]
    },
    {
     "name": "stdout",
     "output_type": "stream",
     "text": [
      "Total number of tokens in the tokenizer: 128003\n",
      "DebertaV2TokenizerFast(name_or_path='output/microsoft/deberta-v3-xsmall/tokenizer_v2', vocab_size=128000, model_max_length=1000000000000000019884624838656, is_fast=True, padding_side='right', truncation_side='right', special_tokens={'bos_token': '[CLS]', 'eos_token': '[SEP]', 'unk_token': '[UNK]', 'sep_token': '[SEP]', 'pad_token': '[PAD]', 'cls_token': '[CLS]', 'mask_token': '[MASK]'}, clean_up_tokenization_spaces=True),  added_tokens_decoder={\n",
      "\t0: AddedToken(\"[PAD]\", rstrip=False, lstrip=False, single_word=False, normalized=False, special=True),\n",
      "\t1: AddedToken(\"[CLS]\", rstrip=False, lstrip=False, single_word=False, normalized=False, special=True),\n",
      "\t2: AddedToken(\"[SEP]\", rstrip=False, lstrip=False, single_word=False, normalized=False, special=True),\n",
      "\t3: AddedToken(\"[UNK]\", rstrip=False, lstrip=False, single_word=False, normalized=True, special=True),\n",
      "\t128000: AddedToken(\"[MASK]\", rstrip=False, lstrip=False, single_word=False, normalized=False, special=True),\n",
      "\t128001: AddedToken(\"\n",
      "\", rstrip=False, lstrip=False, single_word=False, normalized=False, special=False),\n",
      "\t128002: AddedToken(\"  \", rstrip=False, lstrip=False, single_word=False, normalized=False, special=False),\n",
      "}\n"
     ]
    }
   ],
   "source": [
    "tokenizer = AutoTokenizer.from_pretrained(Paths.TOKENIZER_PATH)\n",
    "vocabulary = tokenizer.get_vocab()\n",
    "total_tokens = len(vocabulary)\n",
    "print(\"Total number of tokens in the tokenizer:\", total_tokens)\n",
    "print(tokenizer)"
   ]
  },
  {
   "cell_type": "code",
   "execution_count": 12,
   "metadata": {},
   "outputs": [],
   "source": [
    "root_data_dir = \"data/lgbm_deberta\""
   ]
  },
  {
   "cell_type": "markdown",
   "metadata": {},
   "source": [
    "### 🛠️ Functions"
   ]
  },
  {
   "cell_type": "code",
   "execution_count": 13,
   "metadata": {},
   "outputs": [],
   "source": [
    "def read_data_for_path(fold, part):\n",
    "    fold_path = os.path.join(root_data_dir, f\"fold_{fold}\")\n",
    "    part_path = os.path.join(fold_path, f\"part_{part}\")\n",
    "\n",
    "    train_loader = torch.load(os.path.join(part_path, f\"train_{fold}_{part}.pth\"))\n",
    "    valid_loader = torch.load(os.path.join(part_path, f\"valid_{fold}_{part}.pth\"))\n",
    "    valid_csv = pd.read_csv(os.path.join(part_path, f\"valid_{fold}_{part}.csv\"), usecols=[\"score\"])\n",
    "\n",
    "    return train_loader, valid_loader, valid_csv.values"
   ]
  },
  {
   "cell_type": "code",
   "execution_count": 14,
   "metadata": {},
   "outputs": [],
   "source": [
    "def get_input_and_labels(batch):\n",
    "    inputs = collate(batch.pop(\"inputs\"))\n",
    "    labels = batch.pop(\"labels\")\n",
    "\n",
    "    for k, v in inputs.items():  # send each tensor value to `device`\n",
    "        inputs[k] = v.to(device)\n",
    "\n",
    "    labels = labels.to(device)  # send labels to `device`\n",
    "\n",
    "    return inputs, labels"
   ]
  },
  {
   "cell_type": "code",
   "execution_count": 15,
   "metadata": {},
   "outputs": [],
   "source": [
    "def grad_step(step, scaler, model, optimizer, scheduler, labels, losses, loss):\n",
    "    if config.gradient_accumulation_steps > 1:\n",
    "        loss = loss / config.gradient_accumulation_steps\n",
    "\n",
    "    losses.update(loss.item(), labels.size(0))  # update loss function tracking\n",
    "    scaler.scale(loss).backward()  # backward propagation pass\n",
    "    grad_norm = torch.nn.utils.clip_grad_norm_(model.parameters(), config.max_grad_norm)\n",
    "\n",
    "    if (step + 1) % config.gradient_accumulation_steps == 0:\n",
    "        scaler.step(optimizer)  # update optimizer parameters\n",
    "        scaler.update()\n",
    "        optimizer.zero_grad()  # zero out the gradients\n",
    "\n",
    "        if config.batch_scheduler:\n",
    "            scheduler.step()  # update learning rate\n",
    "\n",
    "    return grad_norm"
   ]
  },
  {
   "cell_type": "code",
   "execution_count": 16,
   "metadata": {},
   "outputs": [],
   "source": [
    "def log_metrics_training(\n",
    "    fold,\n",
    "    part,\n",
    "    train_loader,\n",
    "    epoch,\n",
    "    scheduler,\n",
    "    losses,\n",
    "    n_steps_per_epoch,\n",
    "    step,\n",
    "    grad_norm,\n",
    "):\n",
    "    if step % config.print_freq == 0 or step == (len(train_loader) - 1):\n",
    "        wandb.log(\n",
    "            {\n",
    "                f\"train/epoch_f{fold}_p{part}\": (step + 1 + (n_steps_per_epoch * epoch))\n",
    "                / n_steps_per_epoch,\n",
    "                f\"train/train_loss_f{fold}_p{part}\": losses.avg,\n",
    "                f\"train/grad_norm_f{fold}_p{part}\": grad_norm,\n",
    "                f\"train/learning_rate_f{fold}_p{part}\": scheduler.get_lr()[0],\n",
    "            }\n",
    "        )"
   ]
  },
  {
   "cell_type": "code",
   "execution_count": 17,
   "metadata": {},
   "outputs": [],
   "source": [
    "def train_epoch(\n",
    "    fold,\n",
    "    part,\n",
    "    train_loader,\n",
    "    model,\n",
    "    criterion,\n",
    "    optimizer,\n",
    "    epoch,\n",
    "    scheduler,\n",
    "):\n",
    "    \"\"\"One epoch training pass.\n",
    "\n",
    "    Source:\n",
    "    https://www.kaggle.com/code/alejopaullier/aes-2-multi-class-classification-train?scriptVersionId=170290107&cellId=26\n",
    "    \"\"\"\n",
    "    model.train()\n",
    "    scaler = torch.cuda.amp.GradScaler(enabled=config.apex)\n",
    "    losses = AverageMeter()  # initiate AverageMeter to track the loss.\n",
    "    n_steps_per_epoch = math.ceil(len(train_loader) / config.batch_size_train)\n",
    "\n",
    "    with tqdm(\n",
    "        train_loader,\n",
    "        unit=\"train_batch\",\n",
    "        desc=f\"Training Fold {fold} Part {part}\",\n",
    "    ) as tqdm_train_loader:\n",
    "        for step, batch in enumerate(tqdm_train_loader):\n",
    "            inputs, labels = get_input_and_labels(batch)\n",
    "\n",
    "            with torch.cuda.amp.autocast(enabled=config.apex):\n",
    "                y_preds = model(inputs)\n",
    "                loss = criterion(y_preds, labels)\n",
    "\n",
    "            grad_norm = grad_step(step, scaler, model, optimizer, scheduler, labels, losses, loss)\n",
    "\n",
    "            log_metrics_training(\n",
    "                fold,\n",
    "                part,\n",
    "                train_loader,\n",
    "                epoch,\n",
    "                scheduler,\n",
    "                losses,\n",
    "                n_steps_per_epoch,\n",
    "                step,\n",
    "                grad_norm,\n",
    "            )\n",
    "\n",
    "    return losses.avg"
   ]
  },
  {
   "cell_type": "code",
   "execution_count": 18,
   "metadata": {},
   "outputs": [],
   "source": [
    "def valid_epoch(fold, part, epoch, valid_loader, model, criterion, valid_labels):\n",
    "    model.eval()\n",
    "    losses = AverageMeter()\n",
    "    softmax = nn.Softmax(dim=1)\n",
    "    prediction_dict = {}\n",
    "    preds = []\n",
    "    ids = []\n",
    "\n",
    "    with tqdm(\n",
    "        valid_loader,\n",
    "        unit=\"valid_batch\",\n",
    "        desc=f\"Validating Fold {fold} Part {part}\",\n",
    "    ) as tqdm_valid_loader:\n",
    "        for _, batch in enumerate(tqdm_valid_loader):\n",
    "            essay_ids = batch.pop(\"essay_ids\")\n",
    "            inputs, labels = get_input_and_labels(batch)\n",
    "\n",
    "            with torch.no_grad():\n",
    "                y_preds = model(inputs)\n",
    "                loss = criterion(y_preds, labels)\n",
    "\n",
    "            if config.gradient_accumulation_steps > 1:\n",
    "                loss = loss / config.gradient_accumulation_steps\n",
    "\n",
    "            losses.update(loss.item(), labels.size(0))\n",
    "            preds.append(y_preds.to(\"cpu\").numpy())\n",
    "            ids.append(essay_ids)\n",
    "\n",
    "    prediction_dict[\"predictions\"] = softmax(torch.tensor(np.concatenate(preds)))\n",
    "    prediction_dict[\"essay_id\"] = np.concatenate(ids)\n",
    "\n",
    "    _, predictions = torch.max(prediction_dict[\"predictions\"], dim=1)\n",
    "\n",
    "    score = get_score(valid_labels, predictions)\n",
    "\n",
    "    wandb.log(\n",
    "        {\n",
    "            f\"eval/eval_epoch_f{fold}_p{part}\": epoch + 1,\n",
    "            f\"eval/eval_loss_f{fold}_p{part}\": losses.avg,\n",
    "            f\"eval/qwk_score_f{fold}_p{part}\": score,\n",
    "        }\n",
    "    )\n",
    "\n",
    "    return losses.avg, score, prediction_dict"
   ]
  },
  {
   "cell_type": "code",
   "execution_count": 19,
   "metadata": {},
   "outputs": [],
   "source": [
    "def get_model_save_path(fold, part):\n",
    "    model_name = f\"{config.model.replace('/', '_')}_fold_{fold}_part_{part}.pth\"\n",
    "    model_fold_path = os.path.join(Paths.MODEL_OUTPUT_PATH, f\"fold_{fold}\")\n",
    "\n",
    "    if not os.path.exists(model_fold_path):\n",
    "        os.makedirs(model_fold_path)\n",
    "\n",
    "    model_save_path = os.path.join(model_fold_path, model_name)\n",
    "    return model_save_path"
   ]
  },
  {
   "cell_type": "code",
   "execution_count": 20,
   "metadata": {},
   "outputs": [],
   "source": [
    "def train_model_part(fold, part):\n",
    "    train_loader, valid_loader, valid_labels = read_data_for_path(fold, part)\n",
    "    model, optimizer, scheduler = get_model_optimizer_and_scheduler(\n",
    "        train_loader, device\n",
    "    )\n",
    "    criterion = nn.CrossEntropyLoss(weight=class_weights)\n",
    "    best_score = -np.inf\n",
    "\n",
    "    for epoch in range(config.epochs):\n",
    "        start_time = time.time()\n",
    "\n",
    "        # ======= TRAIN ==========\n",
    "        avg_loss = train_epoch(\n",
    "            fold,\n",
    "            part,\n",
    "            train_loader,\n",
    "            model,\n",
    "            criterion,\n",
    "            optimizer,\n",
    "            epoch,\n",
    "            scheduler,\n",
    "        )\n",
    "\n",
    "        # ======= EVALUATION ==========\n",
    "        avg_val_loss, score, prediction_dict = valid_epoch(\n",
    "            fold,\n",
    "            part,\n",
    "            epoch,\n",
    "            valid_loader,\n",
    "            model,\n",
    "            criterion,\n",
    "            valid_labels,\n",
    "        )\n",
    "\n",
    "        elapsed = time.time() - start_time\n",
    "\n",
    "        print(\n",
    "            f\"Epoch {epoch+1} - \"\n",
    "            + f\"avg_train_loss: {avg_loss:.4f} \"\n",
    "            + f\"avg_val_loss: {avg_val_loss:.4f} \"\n",
    "            + f\"time: {elapsed:.0f}s \"\n",
    "            + f\"Score: {score:.4f}\"\n",
    "        )\n",
    "\n",
    "        if score > best_score:\n",
    "            best_score = score\n",
    "            print(f\"Epoch {epoch+1} - Save Best Score: {best_score:.4f} Model\")\n",
    "            torch.save({\"model\": model.state_dict()}, get_model_save_path(fold, part))\n",
    "\n",
    "    del model, optimizer, scheduler, criterion\n",
    "    torch.cuda.empty_cache()\n",
    "    gc.collect()\n",
    "\n",
    "    return prediction_dict"
   ]
  },
  {
   "cell_type": "code",
   "execution_count": 21,
   "metadata": {},
   "outputs": [],
   "source": [
    "def evaluate_group(fold, valid_fold, valid_labels, model_paths):\n",
    "    predictions = ensemble_inference(\n",
    "        valid_fold,\n",
    "        tokenizer,\n",
    "        model_paths,\n",
    "        device,\n",
    "        overall=False,\n",
    "    )\n",
    "    score = get_score(valid_labels, predictions)\n",
    "\n",
    "    wandb.log(\n",
    "        {\n",
    "            f\"eval/eval_epoch_f{fold}\": config.epochs,\n",
    "            f\"eval/qwk_score_f{fold}\": score,\n",
    "        }\n",
    "    )\n",
    "    return predictions"
   ]
  },
  {
   "cell_type": "code",
   "execution_count": 22,
   "metadata": {},
   "outputs": [],
   "source": [
    "def parse_prediction_dict(predictions):\n",
    "    temp = {\"essay_id\": predictions[\"essay_id\"]}\n",
    "\n",
    "    for i in range(predictions[\"predictions\"].shape[1]):\n",
    "        temp[f\"score_prob_{i}\"] = predictions[\"predictions\"][:, i]\n",
    "\n",
    "    temp = pd.DataFrame(temp)\n",
    "    return temp"
   ]
  },
  {
   "cell_type": "code",
   "execution_count": 23,
   "metadata": {},
   "outputs": [],
   "source": [
    "def train_all_parts(fold):\n",
    "    model_paths = {\n",
    "        os.path.join(\n",
    "            Paths.MODEL_OUTPUT_PATH,\n",
    "            f\"fold_{fold}/{config.model.replace('/', '_')}_fold_{fold}_part_{part}.pth\",\n",
    "        ): 1\n",
    "        for part in range(config.n_folds)\n",
    "    }\n",
    "\n",
    "    train_oof_df = pd.DataFrame()\n",
    "    for part in range(config.n_folds):\n",
    "        prediction_dict = train_model_part(fold, part)\n",
    "        predictions = parse_prediction_dict(prediction_dict)\n",
    "        train_oof_df = pd.concat([train_oof_df, predictions])\n",
    "\n",
    "    train_oof_df.to_csv(\n",
    "        os.path.join(root_data_dir, f\"fold_{fold}/oof_train_{fold}.csv\"),\n",
    "        index=False,\n",
    "    )\n",
    "\n",
    "    valid_fold = pd.read_csv(\n",
    "        os.path.join(root_data_dir, f\"fold_{fold}/valid_{fold}.csv\")\n",
    "    )\n",
    "    valid_labels = valid_fold[\"score\"].values\n",
    "    valid_fold[\"pred_score\"] = evaluate_group(\n",
    "        fold,\n",
    "        valid_fold,\n",
    "        valid_labels,\n",
    "        model_paths,\n",
    "    )\n",
    "    valid_fold.to_csv(\n",
    "        os.path.join(root_data_dir, f\"fold_{fold}/oof_valid_{fold}.csv\"),\n",
    "        index=False,\n",
    "    )\n",
    "\n",
    "    return valid_fold"
   ]
  },
  {
   "cell_type": "code",
   "execution_count": 24,
   "metadata": {},
   "outputs": [],
   "source": [
    "def get_result(oof_df):\n",
    "    labels = oof_df[\"score\"].values\n",
    "    preds = oof_df[\"pred_score\"].values\n",
    "    score = get_score(labels, preds)\n",
    "    print(f'Score: {score:<.4f}')\n",
    "    return score"
   ]
  },
  {
   "cell_type": "markdown",
   "metadata": {},
   "source": [
    "## 🏁 Start Training"
   ]
  },
  {
   "cell_type": "code",
   "execution_count": 25,
   "metadata": {},
   "outputs": [
    {
     "name": "stderr",
     "output_type": "stream",
     "text": [
      "Special tokens have been added in the vocabulary, make sure the associated word embeddings are fine-tuned or trained.\n",
      "Training Fold 0 Part 0: 100%|██████████| 476/476 [02:24<00:00,  3.30train_batch/s]\n",
      "Validating Fold 0 Part 0: 100%|██████████| 119/119 [00:18<00:00,  6.54valid_batch/s]\n"
     ]
    },
    {
     "name": "stdout",
     "output_type": "stream",
     "text": [
      "Epoch 1 - avg_train_loss: 1.2250 avg_val_loss: 0.9974 time: 163s Score: 0.7562\n",
      "Epoch 1 - Save Best Score: 0.7562 Model\n"
     ]
    },
    {
     "name": "stderr",
     "output_type": "stream",
     "text": [
      "Training Fold 0 Part 0: 100%|██████████| 476/476 [02:23<00:00,  3.32train_batch/s]\n",
      "Validating Fold 0 Part 0: 100%|██████████| 119/119 [00:18<00:00,  6.55valid_batch/s]\n"
     ]
    },
    {
     "name": "stdout",
     "output_type": "stream",
     "text": [
      "Epoch 2 - avg_train_loss: 0.9755 avg_val_loss: 0.9807 time: 161s Score: 0.7455\n"
     ]
    },
    {
     "name": "stderr",
     "output_type": "stream",
     "text": [
      "Special tokens have been added in the vocabulary, make sure the associated word embeddings are fine-tuned or trained.\n",
      "Training Fold 0 Part 1: 100%|██████████| 474/474 [02:22<00:00,  3.33train_batch/s]\n",
      "Validating Fold 0 Part 1: 100%|██████████| 121/121 [00:18<00:00,  6.58valid_batch/s]\n"
     ]
    },
    {
     "name": "stdout",
     "output_type": "stream",
     "text": [
      "Epoch 1 - avg_train_loss: 1.2180 avg_val_loss: 1.0431 time: 161s Score: 0.7349\n",
      "Epoch 1 - Save Best Score: 0.7349 Model\n"
     ]
    },
    {
     "name": "stderr",
     "output_type": "stream",
     "text": [
      "Training Fold 0 Part 1: 100%|██████████| 474/474 [02:22<00:00,  3.33train_batch/s]\n",
      "Validating Fold 0 Part 1: 100%|██████████| 121/121 [00:18<00:00,  6.57valid_batch/s]\n"
     ]
    },
    {
     "name": "stdout",
     "output_type": "stream",
     "text": [
      "Epoch 2 - avg_train_loss: 0.9571 avg_val_loss: 0.9927 time: 161s Score: 0.7545\n",
      "Epoch 2 - Save Best Score: 0.7545 Model\n"
     ]
    },
    {
     "name": "stderr",
     "output_type": "stream",
     "text": [
      "Special tokens have been added in the vocabulary, make sure the associated word embeddings are fine-tuned or trained.\n",
      "Training Fold 0 Part 2: 100%|██████████| 476/476 [02:23<00:00,  3.33train_batch/s]\n",
      "Validating Fold 0 Part 2: 100%|██████████| 119/119 [00:18<00:00,  6.58valid_batch/s]\n"
     ]
    },
    {
     "name": "stdout",
     "output_type": "stream",
     "text": [
      "Epoch 1 - avg_train_loss: 1.2366 avg_val_loss: 1.0355 time: 161s Score: 0.7461\n",
      "Epoch 1 - Save Best Score: 0.7461 Model\n"
     ]
    },
    {
     "name": "stderr",
     "output_type": "stream",
     "text": [
      "Training Fold 0 Part 2: 100%|██████████| 476/476 [02:23<00:00,  3.33train_batch/s]\n",
      "Validating Fold 0 Part 2: 100%|██████████| 119/119 [00:18<00:00,  6.58valid_batch/s]\n"
     ]
    },
    {
     "name": "stdout",
     "output_type": "stream",
     "text": [
      "Epoch 2 - avg_train_loss: 0.9590 avg_val_loss: 0.9316 time: 161s Score: 0.7918\n",
      "Epoch 2 - Save Best Score: 0.7918 Model\n"
     ]
    },
    {
     "name": "stderr",
     "output_type": "stream",
     "text": [
      "Special tokens have been added in the vocabulary, make sure the associated word embeddings are fine-tuned or trained.\n",
      "Training Fold 0 Part 3: 100%|██████████| 476/476 [02:23<00:00,  3.32train_batch/s]\n",
      "Validating Fold 0 Part 3: 100%|██████████| 120/120 [00:18<00:00,  6.58valid_batch/s]\n"
     ]
    },
    {
     "name": "stdout",
     "output_type": "stream",
     "text": [
      "Epoch 1 - avg_train_loss: 1.2342 avg_val_loss: 1.0625 time: 161s Score: 0.7726\n",
      "Epoch 1 - Save Best Score: 0.7726 Model\n"
     ]
    },
    {
     "name": "stderr",
     "output_type": "stream",
     "text": [
      "Training Fold 0 Part 3: 100%|██████████| 476/476 [02:23<00:00,  3.32train_batch/s]\n",
      "Validating Fold 0 Part 3: 100%|██████████| 120/120 [00:18<00:00,  6.60valid_batch/s]\n"
     ]
    },
    {
     "name": "stdout",
     "output_type": "stream",
     "text": [
      "Epoch 2 - avg_train_loss: 0.9584 avg_val_loss: 0.9497 time: 161s Score: 0.7793\n",
      "Epoch 2 - Save Best Score: 0.7793 Model\n"
     ]
    },
    {
     "name": "stderr",
     "output_type": "stream",
     "text": [
      "Special tokens have been added in the vocabulary, make sure the associated word embeddings are fine-tuned or trained.\n",
      "Training Fold 0 Part 4: 100%|██████████| 476/476 [02:23<00:00,  3.32train_batch/s]\n",
      "Validating Fold 0 Part 4: 100%|██████████| 119/119 [00:18<00:00,  6.58valid_batch/s]\n"
     ]
    },
    {
     "name": "stdout",
     "output_type": "stream",
     "text": [
      "Epoch 1 - avg_train_loss: 1.2232 avg_val_loss: 1.1202 time: 161s Score: 0.6660\n",
      "Epoch 1 - Save Best Score: 0.6660 Model\n"
     ]
    },
    {
     "name": "stderr",
     "output_type": "stream",
     "text": [
      "Training Fold 0 Part 4: 100%|██████████| 476/476 [02:23<00:00,  3.32train_batch/s]\n",
      "Validating Fold 0 Part 4: 100%|██████████| 119/119 [00:18<00:00,  6.59valid_batch/s]\n"
     ]
    },
    {
     "name": "stdout",
     "output_type": "stream",
     "text": [
      "Epoch 2 - avg_train_loss: 0.9779 avg_val_loss: 1.0352 time: 161s Score: 0.7094\n",
      "Epoch 2 - Save Best Score: 0.7094 Model\n"
     ]
    },
    {
     "name": "stderr",
     "output_type": "stream",
     "text": [
      "Special tokens have been added in the vocabulary, make sure the associated word embeddings are fine-tuned or trained.\n",
      "Model 0 Inference: 100%|██████████| 109/109 [00:18<00:00,  5.83test_batch/s]\n",
      "Special tokens have been added in the vocabulary, make sure the associated word embeddings are fine-tuned or trained.\n",
      "Model 1 Inference: 100%|██████████| 109/109 [00:18<00:00,  5.85test_batch/s]\n",
      "Special tokens have been added in the vocabulary, make sure the associated word embeddings are fine-tuned or trained.\n",
      "Model 2 Inference: 100%|██████████| 109/109 [00:18<00:00,  5.85test_batch/s]\n",
      "Special tokens have been added in the vocabulary, make sure the associated word embeddings are fine-tuned or trained.\n",
      "Model 3 Inference: 100%|██████████| 109/109 [00:18<00:00,  5.84test_batch/s]\n",
      "Special tokens have been added in the vocabulary, make sure the associated word embeddings are fine-tuned or trained.\n",
      "Model 4 Inference: 100%|██████████| 109/109 [00:18<00:00,  5.84test_batch/s]\n"
     ]
    },
    {
     "name": "stdout",
     "output_type": "stream",
     "text": [
      "========== Fold: 0 result ==========\n",
      "Score: 0.7583\n"
     ]
    },
    {
     "name": "stderr",
     "output_type": "stream",
     "text": [
      "Special tokens have been added in the vocabulary, make sure the associated word embeddings are fine-tuned or trained.\n",
      "Training Fold 1 Part 0: 100%|██████████| 476/476 [02:23<00:00,  3.32train_batch/s]\n",
      "Validating Fold 1 Part 0: 100%|██████████| 119/119 [00:18<00:00,  6.57valid_batch/s]\n"
     ]
    },
    {
     "name": "stdout",
     "output_type": "stream",
     "text": [
      "Epoch 1 - avg_train_loss: 1.1938 avg_val_loss: 1.0128 time: 161s Score: 0.7517\n",
      "Epoch 1 - Save Best Score: 0.7517 Model\n"
     ]
    },
    {
     "name": "stderr",
     "output_type": "stream",
     "text": [
      "Training Fold 1 Part 0: 100%|██████████| 476/476 [02:23<00:00,  3.33train_batch/s]\n",
      "Validating Fold 1 Part 0: 100%|██████████| 119/119 [00:18<00:00,  6.57valid_batch/s]\n"
     ]
    },
    {
     "name": "stdout",
     "output_type": "stream",
     "text": [
      "Epoch 2 - avg_train_loss: 0.9552 avg_val_loss: 0.9401 time: 161s Score: 0.7751\n",
      "Epoch 2 - Save Best Score: 0.7751 Model\n"
     ]
    },
    {
     "name": "stderr",
     "output_type": "stream",
     "text": [
      "Special tokens have been added in the vocabulary, make sure the associated word embeddings are fine-tuned or trained.\n",
      "Training Fold 1 Part 1: 100%|██████████| 475/475 [02:22<00:00,  3.32train_batch/s]\n",
      "Validating Fold 1 Part 1: 100%|██████████| 119/119 [00:18<00:00,  6.56valid_batch/s]\n"
     ]
    },
    {
     "name": "stdout",
     "output_type": "stream",
     "text": [
      "Epoch 1 - avg_train_loss: 1.2259 avg_val_loss: 1.0285 time: 161s Score: 0.7558\n",
      "Epoch 1 - Save Best Score: 0.7558 Model\n"
     ]
    },
    {
     "name": "stderr",
     "output_type": "stream",
     "text": [
      "Training Fold 1 Part 1: 100%|██████████| 475/475 [02:22<00:00,  3.32train_batch/s]\n",
      "Validating Fold 1 Part 1: 100%|██████████| 119/119 [00:18<00:00,  6.55valid_batch/s]\n"
     ]
    },
    {
     "name": "stdout",
     "output_type": "stream",
     "text": [
      "Epoch 2 - avg_train_loss: 0.9633 avg_val_loss: 0.9754 time: 161s Score: 0.7609\n",
      "Epoch 2 - Save Best Score: 0.7609 Model\n"
     ]
    },
    {
     "name": "stderr",
     "output_type": "stream",
     "text": [
      "Special tokens have been added in the vocabulary, make sure the associated word embeddings are fine-tuned or trained.\n",
      "Training Fold 1 Part 2: 100%|██████████| 475/475 [02:22<00:00,  3.32train_batch/s]\n",
      "Validating Fold 1 Part 2: 100%|██████████| 119/119 [00:18<00:00,  6.56valid_batch/s]\n"
     ]
    },
    {
     "name": "stdout",
     "output_type": "stream",
     "text": [
      "Epoch 1 - avg_train_loss: 1.2058 avg_val_loss: 1.0876 time: 161s Score: 0.6981\n",
      "Epoch 1 - Save Best Score: 0.6981 Model\n"
     ]
    },
    {
     "name": "stderr",
     "output_type": "stream",
     "text": [
      "Training Fold 1 Part 2: 100%|██████████| 475/475 [02:22<00:00,  3.32train_batch/s]\n",
      "Validating Fold 1 Part 2: 100%|██████████| 119/119 [00:18<00:00,  6.56valid_batch/s]\n"
     ]
    },
    {
     "name": "stdout",
     "output_type": "stream",
     "text": [
      "Epoch 2 - avg_train_loss: 0.9585 avg_val_loss: 0.9795 time: 161s Score: 0.7572\n",
      "Epoch 2 - Save Best Score: 0.7572 Model\n"
     ]
    },
    {
     "name": "stderr",
     "output_type": "stream",
     "text": [
      "Special tokens have been added in the vocabulary, make sure the associated word embeddings are fine-tuned or trained.\n",
      "Training Fold 1 Part 3: 100%|██████████| 477/477 [02:23<00:00,  3.32train_batch/s]\n",
      "Validating Fold 1 Part 3: 100%|██████████| 118/118 [00:17<00:00,  6.58valid_batch/s]\n"
     ]
    },
    {
     "name": "stdout",
     "output_type": "stream",
     "text": [
      "Epoch 1 - avg_train_loss: 1.2194 avg_val_loss: 1.0041 time: 161s Score: 0.7213\n",
      "Epoch 1 - Save Best Score: 0.7213 Model\n"
     ]
    },
    {
     "name": "stderr",
     "output_type": "stream",
     "text": [
      "Training Fold 1 Part 3: 100%|██████████| 477/477 [02:23<00:00,  3.32train_batch/s]\n",
      "Validating Fold 1 Part 3: 100%|██████████| 118/118 [00:17<00:00,  6.58valid_batch/s]\n"
     ]
    },
    {
     "name": "stdout",
     "output_type": "stream",
     "text": [
      "Epoch 2 - avg_train_loss: 0.9758 avg_val_loss: 0.9611 time: 161s Score: 0.7669\n",
      "Epoch 2 - Save Best Score: 0.7669 Model\n"
     ]
    },
    {
     "name": "stderr",
     "output_type": "stream",
     "text": [
      "Special tokens have been added in the vocabulary, make sure the associated word embeddings are fine-tuned or trained.\n",
      "Training Fold 1 Part 4: 100%|██████████| 472/472 [02:21<00:00,  3.33train_batch/s]\n",
      "Validating Fold 1 Part 4: 100%|██████████| 122/122 [00:18<00:00,  6.56valid_batch/s]\n"
     ]
    },
    {
     "name": "stdout",
     "output_type": "stream",
     "text": [
      "Epoch 1 - avg_train_loss: 1.2287 avg_val_loss: 1.0359 time: 161s Score: 0.7211\n",
      "Epoch 1 - Save Best Score: 0.7211 Model\n"
     ]
    },
    {
     "name": "stderr",
     "output_type": "stream",
     "text": [
      "Training Fold 1 Part 4: 100%|██████████| 472/472 [02:22<00:00,  3.32train_batch/s]\n",
      "Validating Fold 1 Part 4: 100%|██████████| 122/122 [00:18<00:00,  6.57valid_batch/s]\n"
     ]
    },
    {
     "name": "stdout",
     "output_type": "stream",
     "text": [
      "Epoch 2 - avg_train_loss: 0.9800 avg_val_loss: 0.9618 time: 161s Score: 0.7415\n",
      "Epoch 2 - Save Best Score: 0.7415 Model\n"
     ]
    },
    {
     "name": "stderr",
     "output_type": "stream",
     "text": [
      "Special tokens have been added in the vocabulary, make sure the associated word embeddings are fine-tuned or trained.\n",
      "Model 0 Inference: 100%|██████████| 109/109 [00:18<00:00,  5.86test_batch/s]\n",
      "Special tokens have been added in the vocabulary, make sure the associated word embeddings are fine-tuned or trained.\n",
      "Model 1 Inference: 100%|██████████| 109/109 [00:18<00:00,  5.85test_batch/s]\n",
      "Special tokens have been added in the vocabulary, make sure the associated word embeddings are fine-tuned or trained.\n",
      "Model 2 Inference: 100%|██████████| 109/109 [00:18<00:00,  5.85test_batch/s]\n",
      "Special tokens have been added in the vocabulary, make sure the associated word embeddings are fine-tuned or trained.\n",
      "Model 3 Inference: 100%|██████████| 109/109 [00:18<00:00,  5.86test_batch/s]\n",
      "Special tokens have been added in the vocabulary, make sure the associated word embeddings are fine-tuned or trained.\n",
      "Model 4 Inference: 100%|██████████| 109/109 [00:18<00:00,  5.85test_batch/s]\n"
     ]
    },
    {
     "name": "stdout",
     "output_type": "stream",
     "text": [
      "========== Fold: 1 result ==========\n",
      "Score: 0.7488\n"
     ]
    },
    {
     "name": "stderr",
     "output_type": "stream",
     "text": [
      "Special tokens have been added in the vocabulary, make sure the associated word embeddings are fine-tuned or trained.\n",
      "Training Fold 2 Part 0: 100%|██████████| 475/475 [02:23<00:00,  3.32train_batch/s]\n",
      "Validating Fold 2 Part 0: 100%|██████████| 120/120 [00:18<00:00,  6.57valid_batch/s]\n"
     ]
    },
    {
     "name": "stdout",
     "output_type": "stream",
     "text": [
      "Epoch 1 - avg_train_loss: 1.2106 avg_val_loss: 1.0334 time: 161s Score: 0.7058\n",
      "Epoch 1 - Save Best Score: 0.7058 Model\n"
     ]
    },
    {
     "name": "stderr",
     "output_type": "stream",
     "text": [
      "Training Fold 2 Part 0: 100%|██████████| 475/475 [02:22<00:00,  3.33train_batch/s]\n",
      "Validating Fold 2 Part 0: 100%|██████████| 120/120 [00:18<00:00,  6.57valid_batch/s]\n"
     ]
    },
    {
     "name": "stdout",
     "output_type": "stream",
     "text": [
      "Epoch 2 - avg_train_loss: 0.9599 avg_val_loss: 0.9607 time: 161s Score: 0.7837\n",
      "Epoch 2 - Save Best Score: 0.7837 Model\n"
     ]
    },
    {
     "name": "stderr",
     "output_type": "stream",
     "text": [
      "Special tokens have been added in the vocabulary, make sure the associated word embeddings are fine-tuned or trained.\n",
      "Training Fold 2 Part 1: 100%|██████████| 474/474 [02:22<00:00,  3.32train_batch/s]\n",
      "Validating Fold 2 Part 1: 100%|██████████| 120/120 [00:18<00:00,  6.55valid_batch/s]\n"
     ]
    },
    {
     "name": "stdout",
     "output_type": "stream",
     "text": [
      "Epoch 1 - avg_train_loss: 1.2182 avg_val_loss: 1.0181 time: 161s Score: 0.7595\n",
      "Epoch 1 - Save Best Score: 0.7595 Model\n"
     ]
    },
    {
     "name": "stderr",
     "output_type": "stream",
     "text": [
      "Training Fold 2 Part 1: 100%|██████████| 474/474 [02:22<00:00,  3.33train_batch/s]\n",
      "Validating Fold 2 Part 1: 100%|██████████| 120/120 [00:18<00:00,  6.56valid_batch/s]\n"
     ]
    },
    {
     "name": "stdout",
     "output_type": "stream",
     "text": [
      "Epoch 2 - avg_train_loss: 0.9632 avg_val_loss: 0.9453 time: 161s Score: 0.7690\n",
      "Epoch 2 - Save Best Score: 0.7690 Model\n"
     ]
    },
    {
     "name": "stderr",
     "output_type": "stream",
     "text": [
      "Special tokens have been added in the vocabulary, make sure the associated word embeddings are fine-tuned or trained.\n",
      "Training Fold 2 Part 2: 100%|██████████| 475/475 [02:22<00:00,  3.33train_batch/s]\n",
      "Validating Fold 2 Part 2: 100%|██████████| 119/119 [00:18<00:00,  6.54valid_batch/s]\n"
     ]
    },
    {
     "name": "stdout",
     "output_type": "stream",
     "text": [
      "Epoch 1 - avg_train_loss: 1.1997 avg_val_loss: 1.0198 time: 161s Score: 0.7220\n",
      "Epoch 1 - Save Best Score: 0.7220 Model\n"
     ]
    },
    {
     "name": "stderr",
     "output_type": "stream",
     "text": [
      "Training Fold 2 Part 2: 100%|██████████| 475/475 [02:22<00:00,  3.32train_batch/s]\n",
      "Validating Fold 2 Part 2: 100%|██████████| 119/119 [00:18<00:00,  6.54valid_batch/s]\n"
     ]
    },
    {
     "name": "stdout",
     "output_type": "stream",
     "text": [
      "Epoch 2 - avg_train_loss: 0.9484 avg_val_loss: 0.9443 time: 161s Score: 0.7590\n",
      "Epoch 2 - Save Best Score: 0.7590 Model\n"
     ]
    },
    {
     "name": "stderr",
     "output_type": "stream",
     "text": [
      "Special tokens have been added in the vocabulary, make sure the associated word embeddings are fine-tuned or trained.\n",
      "Training Fold 2 Part 3: 100%|██████████| 476/476 [02:23<00:00,  3.33train_batch/s]\n",
      "Validating Fold 2 Part 3: 100%|██████████| 119/119 [00:18<00:00,  6.59valid_batch/s]\n"
     ]
    },
    {
     "name": "stdout",
     "output_type": "stream",
     "text": [
      "Epoch 1 - avg_train_loss: 1.1915 avg_val_loss: 1.0507 time: 161s Score: 0.7570\n",
      "Epoch 1 - Save Best Score: 0.7570 Model\n"
     ]
    },
    {
     "name": "stderr",
     "output_type": "stream",
     "text": [
      "Training Fold 2 Part 3: 100%|██████████| 476/476 [02:23<00:00,  3.32train_batch/s]\n",
      "Validating Fold 2 Part 3: 100%|██████████| 119/119 [00:18<00:00,  6.59valid_batch/s]\n"
     ]
    },
    {
     "name": "stdout",
     "output_type": "stream",
     "text": [
      "Epoch 2 - avg_train_loss: 0.9535 avg_val_loss: 0.9609 time: 161s Score: 0.7796\n",
      "Epoch 2 - Save Best Score: 0.7796 Model\n"
     ]
    },
    {
     "name": "stderr",
     "output_type": "stream",
     "text": [
      "Special tokens have been added in the vocabulary, make sure the associated word embeddings are fine-tuned or trained.\n",
      "Training Fold 2 Part 4: 100%|██████████| 476/476 [02:23<00:00,  3.33train_batch/s]\n",
      "Validating Fold 2 Part 4: 100%|██████████| 119/119 [00:18<00:00,  6.56valid_batch/s]\n"
     ]
    },
    {
     "name": "stdout",
     "output_type": "stream",
     "text": [
      "Epoch 1 - avg_train_loss: 1.2295 avg_val_loss: 0.9875 time: 161s Score: 0.7868\n",
      "Epoch 1 - Save Best Score: 0.7868 Model\n"
     ]
    },
    {
     "name": "stderr",
     "output_type": "stream",
     "text": [
      "Training Fold 2 Part 4: 100%|██████████| 476/476 [02:23<00:00,  3.32train_batch/s]\n",
      "Validating Fold 2 Part 4: 100%|██████████| 119/119 [00:18<00:00,  6.56valid_batch/s]\n"
     ]
    },
    {
     "name": "stdout",
     "output_type": "stream",
     "text": [
      "Epoch 2 - avg_train_loss: 0.9545 avg_val_loss: 0.9182 time: 161s Score: 0.7979\n",
      "Epoch 2 - Save Best Score: 0.7979 Model\n"
     ]
    },
    {
     "name": "stderr",
     "output_type": "stream",
     "text": [
      "Special tokens have been added in the vocabulary, make sure the associated word embeddings are fine-tuned or trained.\n",
      "Model 0 Inference: 100%|██████████| 109/109 [00:18<00:00,  5.82test_batch/s]\n",
      "Special tokens have been added in the vocabulary, make sure the associated word embeddings are fine-tuned or trained.\n",
      "Model 1 Inference: 100%|██████████| 109/109 [00:18<00:00,  5.83test_batch/s]\n",
      "Special tokens have been added in the vocabulary, make sure the associated word embeddings are fine-tuned or trained.\n",
      "Model 2 Inference: 100%|██████████| 109/109 [00:20<00:00,  5.35test_batch/s]\n",
      "Special tokens have been added in the vocabulary, make sure the associated word embeddings are fine-tuned or trained.\n",
      "Model 3 Inference: 100%|██████████| 109/109 [00:20<00:00,  5.36test_batch/s]\n",
      "Special tokens have been added in the vocabulary, make sure the associated word embeddings are fine-tuned or trained.\n",
      "Model 4 Inference: 100%|██████████| 109/109 [00:20<00:00,  5.39test_batch/s]\n"
     ]
    },
    {
     "name": "stdout",
     "output_type": "stream",
     "text": [
      "========== Fold: 2 result ==========\n",
      "Score: 0.7704\n"
     ]
    },
    {
     "name": "stderr",
     "output_type": "stream",
     "text": [
      "Special tokens have been added in the vocabulary, make sure the associated word embeddings are fine-tuned or trained.\n",
      "Training Fold 3 Part 0: 100%|██████████| 477/477 [02:24<00:00,  3.29train_batch/s]\n",
      "Validating Fold 3 Part 0: 100%|██████████| 120/120 [00:18<00:00,  6.56valid_batch/s]\n"
     ]
    },
    {
     "name": "stdout",
     "output_type": "stream",
     "text": [
      "Epoch 1 - avg_train_loss: 1.2112 avg_val_loss: 0.9962 time: 163s Score: 0.7363\n",
      "Epoch 1 - Save Best Score: 0.7363 Model\n"
     ]
    },
    {
     "name": "stderr",
     "output_type": "stream",
     "text": [
      "Training Fold 3 Part 0: 100%|██████████| 477/477 [02:23<00:00,  3.33train_batch/s]\n",
      "Validating Fold 3 Part 0: 100%|██████████| 120/120 [00:18<00:00,  6.56valid_batch/s]\n"
     ]
    },
    {
     "name": "stdout",
     "output_type": "stream",
     "text": [
      "Epoch 2 - avg_train_loss: 0.9357 avg_val_loss: 0.9594 time: 162s Score: 0.7719\n",
      "Epoch 2 - Save Best Score: 0.7719 Model\n"
     ]
    },
    {
     "name": "stderr",
     "output_type": "stream",
     "text": [
      "Special tokens have been added in the vocabulary, make sure the associated word embeddings are fine-tuned or trained.\n",
      "Training Fold 3 Part 1: 100%|██████████| 477/477 [02:23<00:00,  3.32train_batch/s]\n",
      "Validating Fold 3 Part 1: 100%|██████████| 120/120 [00:18<00:00,  6.54valid_batch/s]\n"
     ]
    },
    {
     "name": "stdout",
     "output_type": "stream",
     "text": [
      "Epoch 1 - avg_train_loss: 1.2199 avg_val_loss: 1.0253 time: 162s Score: 0.7272\n",
      "Epoch 1 - Save Best Score: 0.7272 Model\n"
     ]
    },
    {
     "name": "stderr",
     "output_type": "stream",
     "text": [
      "Training Fold 3 Part 1: 100%|██████████| 477/477 [02:23<00:00,  3.32train_batch/s]\n",
      "Validating Fold 3 Part 1: 100%|██████████| 120/120 [00:18<00:00,  6.55valid_batch/s]\n"
     ]
    },
    {
     "name": "stdout",
     "output_type": "stream",
     "text": [
      "Epoch 2 - avg_train_loss: 0.9755 avg_val_loss: 0.9658 time: 162s Score: 0.7768\n",
      "Epoch 2 - Save Best Score: 0.7768 Model\n"
     ]
    },
    {
     "name": "stderr",
     "output_type": "stream",
     "text": [
      "Special tokens have been added in the vocabulary, make sure the associated word embeddings are fine-tuned or trained.\n",
      "Training Fold 3 Part 2: 100%|██████████| 478/478 [02:23<00:00,  3.32train_batch/s]\n",
      "Validating Fold 3 Part 2: 100%|██████████| 119/119 [00:18<00:00,  6.57valid_batch/s]\n"
     ]
    },
    {
     "name": "stdout",
     "output_type": "stream",
     "text": [
      "Epoch 1 - avg_train_loss: 1.1788 avg_val_loss: 0.9754 time: 162s Score: 0.7608\n",
      "Epoch 1 - Save Best Score: 0.7608 Model\n"
     ]
    },
    {
     "name": "stderr",
     "output_type": "stream",
     "text": [
      "Training Fold 3 Part 2: 100%|██████████| 478/478 [02:23<00:00,  3.32train_batch/s]\n",
      "Validating Fold 3 Part 2: 100%|██████████| 119/119 [00:18<00:00,  6.58valid_batch/s]\n"
     ]
    },
    {
     "name": "stdout",
     "output_type": "stream",
     "text": [
      "Epoch 2 - avg_train_loss: 0.9775 avg_val_loss: 0.9393 time: 162s Score: 0.8011\n",
      "Epoch 2 - Save Best Score: 0.8011 Model\n"
     ]
    },
    {
     "name": "stderr",
     "output_type": "stream",
     "text": [
      "Special tokens have been added in the vocabulary, make sure the associated word embeddings are fine-tuned or trained.\n",
      "Training Fold 3 Part 3: 100%|██████████| 477/477 [02:23<00:00,  3.32train_batch/s]\n",
      "Validating Fold 3 Part 3: 100%|██████████| 120/120 [00:18<00:00,  6.56valid_batch/s]\n"
     ]
    },
    {
     "name": "stdout",
     "output_type": "stream",
     "text": [
      "Epoch 1 - avg_train_loss: 1.1889 avg_val_loss: 1.0522 time: 162s Score: 0.7583\n",
      "Epoch 1 - Save Best Score: 0.7583 Model\n"
     ]
    },
    {
     "name": "stderr",
     "output_type": "stream",
     "text": [
      "Training Fold 3 Part 3: 100%|██████████| 477/477 [02:23<00:00,  3.32train_batch/s]\n",
      "Validating Fold 3 Part 3: 100%|██████████| 120/120 [00:18<00:00,  6.56valid_batch/s]\n"
     ]
    },
    {
     "name": "stdout",
     "output_type": "stream",
     "text": [
      "Epoch 2 - avg_train_loss: 0.9549 avg_val_loss: 0.9429 time: 162s Score: 0.7839\n",
      "Epoch 2 - Save Best Score: 0.7839 Model\n"
     ]
    },
    {
     "name": "stderr",
     "output_type": "stream",
     "text": [
      "Special tokens have been added in the vocabulary, make sure the associated word embeddings are fine-tuned or trained.\n",
      "Training Fold 3 Part 4: 100%|██████████| 477/477 [02:23<00:00,  3.32train_batch/s]\n",
      "Validating Fold 3 Part 4: 100%|██████████| 120/120 [00:18<00:00,  6.56valid_batch/s]\n"
     ]
    },
    {
     "name": "stdout",
     "output_type": "stream",
     "text": [
      "Epoch 1 - avg_train_loss: 1.1777 avg_val_loss: 1.0272 time: 162s Score: 0.7661\n",
      "Epoch 1 - Save Best Score: 0.7661 Model\n"
     ]
    },
    {
     "name": "stderr",
     "output_type": "stream",
     "text": [
      "Training Fold 3 Part 4: 100%|██████████| 477/477 [02:23<00:00,  3.32train_batch/s]\n",
      "Validating Fold 3 Part 4: 100%|██████████| 120/120 [00:18<00:00,  6.57valid_batch/s]\n"
     ]
    },
    {
     "name": "stdout",
     "output_type": "stream",
     "text": [
      "Epoch 2 - avg_train_loss: 0.9718 avg_val_loss: 0.9762 time: 162s Score: 0.7674\n",
      "Epoch 2 - Save Best Score: 0.7674 Model\n"
     ]
    },
    {
     "name": "stderr",
     "output_type": "stream",
     "text": [
      "Special tokens have been added in the vocabulary, make sure the associated word embeddings are fine-tuned or trained.\n",
      "Model 0 Inference: 100%|██████████| 109/109 [00:18<00:00,  5.83test_batch/s]\n",
      "Special tokens have been added in the vocabulary, make sure the associated word embeddings are fine-tuned or trained.\n",
      "Model 1 Inference: 100%|██████████| 109/109 [00:18<00:00,  5.84test_batch/s]\n",
      "Special tokens have been added in the vocabulary, make sure the associated word embeddings are fine-tuned or trained.\n",
      "Model 2 Inference: 100%|██████████| 109/109 [00:18<00:00,  5.84test_batch/s]\n",
      "Special tokens have been added in the vocabulary, make sure the associated word embeddings are fine-tuned or trained.\n",
      "Model 3 Inference: 100%|██████████| 109/109 [00:18<00:00,  5.84test_batch/s]\n",
      "Special tokens have been added in the vocabulary, make sure the associated word embeddings are fine-tuned or trained.\n",
      "Model 4 Inference: 100%|██████████| 109/109 [00:18<00:00,  5.83test_batch/s]\n"
     ]
    },
    {
     "name": "stdout",
     "output_type": "stream",
     "text": [
      "========== Fold: 3 result ==========\n",
      "Score: 0.7823\n"
     ]
    },
    {
     "name": "stderr",
     "output_type": "stream",
     "text": [
      "Special tokens have been added in the vocabulary, make sure the associated word embeddings are fine-tuned or trained.\n",
      "Training Fold 4 Part 0: 100%|██████████| 474/474 [02:22<00:00,  3.32train_batch/s]\n",
      "Validating Fold 4 Part 0: 100%|██████████| 121/121 [00:18<00:00,  6.58valid_batch/s]\n"
     ]
    },
    {
     "name": "stdout",
     "output_type": "stream",
     "text": [
      "Epoch 1 - avg_train_loss: 1.2120 avg_val_loss: 1.0124 time: 161s Score: 0.7519\n",
      "Epoch 1 - Save Best Score: 0.7519 Model\n"
     ]
    },
    {
     "name": "stderr",
     "output_type": "stream",
     "text": [
      "Training Fold 4 Part 0: 100%|██████████| 474/474 [02:22<00:00,  3.33train_batch/s]\n",
      "Validating Fold 4 Part 0: 100%|██████████| 121/121 [00:18<00:00,  6.58valid_batch/s]\n"
     ]
    },
    {
     "name": "stdout",
     "output_type": "stream",
     "text": [
      "Epoch 2 - avg_train_loss: 0.9635 avg_val_loss: 0.9703 time: 161s Score: 0.7710\n",
      "Epoch 2 - Save Best Score: 0.7710 Model\n"
     ]
    },
    {
     "name": "stderr",
     "output_type": "stream",
     "text": [
      "Special tokens have been added in the vocabulary, make sure the associated word embeddings are fine-tuned or trained.\n",
      "Training Fold 4 Part 1: 100%|██████████| 476/476 [02:23<00:00,  3.33train_batch/s]\n",
      "Validating Fold 4 Part 1: 100%|██████████| 119/119 [00:18<00:00,  6.55valid_batch/s]\n"
     ]
    },
    {
     "name": "stdout",
     "output_type": "stream",
     "text": [
      "Epoch 1 - avg_train_loss: 1.2177 avg_val_loss: 1.0098 time: 161s Score: 0.7612\n",
      "Epoch 1 - Save Best Score: 0.7612 Model\n"
     ]
    },
    {
     "name": "stderr",
     "output_type": "stream",
     "text": [
      "Training Fold 4 Part 1: 100%|██████████| 476/476 [02:23<00:00,  3.33train_batch/s]\n",
      "Validating Fold 4 Part 1: 100%|██████████| 119/119 [00:18<00:00,  6.55valid_batch/s]\n"
     ]
    },
    {
     "name": "stdout",
     "output_type": "stream",
     "text": [
      "Epoch 2 - avg_train_loss: 0.9728 avg_val_loss: 0.9988 time: 161s Score: 0.7267\n"
     ]
    },
    {
     "name": "stderr",
     "output_type": "stream",
     "text": [
      "Special tokens have been added in the vocabulary, make sure the associated word embeddings are fine-tuned or trained.\n",
      "Training Fold 4 Part 2: 100%|██████████| 476/476 [02:23<00:00,  3.32train_batch/s]\n",
      "Validating Fold 4 Part 2: 100%|██████████| 119/119 [00:18<00:00,  6.56valid_batch/s]\n"
     ]
    },
    {
     "name": "stdout",
     "output_type": "stream",
     "text": [
      "Epoch 1 - avg_train_loss: 1.2169 avg_val_loss: 1.0719 time: 161s Score: 0.6830\n",
      "Epoch 1 - Save Best Score: 0.6830 Model\n"
     ]
    },
    {
     "name": "stderr",
     "output_type": "stream",
     "text": [
      "Training Fold 4 Part 2: 100%|██████████| 476/476 [02:23<00:00,  3.32train_batch/s]\n",
      "Validating Fold 4 Part 2: 100%|██████████| 119/119 [00:18<00:00,  6.56valid_batch/s]\n"
     ]
    },
    {
     "name": "stdout",
     "output_type": "stream",
     "text": [
      "Epoch 2 - avg_train_loss: 0.9880 avg_val_loss: 0.9821 time: 161s Score: 0.7605\n",
      "Epoch 2 - Save Best Score: 0.7605 Model\n"
     ]
    },
    {
     "name": "stderr",
     "output_type": "stream",
     "text": [
      "Special tokens have been added in the vocabulary, make sure the associated word embeddings are fine-tuned or trained.\n",
      "Training Fold 4 Part 3: 100%|██████████| 476/476 [02:23<00:00,  3.32train_batch/s]\n",
      "Validating Fold 4 Part 3: 100%|██████████| 119/119 [00:18<00:00,  6.58valid_batch/s]\n"
     ]
    },
    {
     "name": "stdout",
     "output_type": "stream",
     "text": [
      "Epoch 1 - avg_train_loss: 1.2178 avg_val_loss: 1.0479 time: 161s Score: 0.7259\n",
      "Epoch 1 - Save Best Score: 0.7259 Model\n"
     ]
    },
    {
     "name": "stderr",
     "output_type": "stream",
     "text": [
      "Training Fold 4 Part 3: 100%|██████████| 476/476 [02:23<00:00,  3.32train_batch/s]\n",
      "Validating Fold 4 Part 3: 100%|██████████| 119/119 [00:18<00:00,  6.58valid_batch/s]\n"
     ]
    },
    {
     "name": "stdout",
     "output_type": "stream",
     "text": [
      "Epoch 2 - avg_train_loss: 0.9573 avg_val_loss: 0.9502 time: 161s Score: 0.7713\n",
      "Epoch 2 - Save Best Score: 0.7713 Model\n"
     ]
    },
    {
     "name": "stderr",
     "output_type": "stream",
     "text": [
      "Special tokens have been added in the vocabulary, make sure the associated word embeddings are fine-tuned or trained.\n",
      "Training Fold 4 Part 4: 100%|██████████| 475/475 [02:22<00:00,  3.32train_batch/s]\n",
      "Validating Fold 4 Part 4: 100%|██████████| 120/120 [00:18<00:00,  6.58valid_batch/s]\n"
     ]
    },
    {
     "name": "stdout",
     "output_type": "stream",
     "text": [
      "Epoch 1 - avg_train_loss: 1.1933 avg_val_loss: 1.0545 time: 161s Score: 0.7281\n",
      "Epoch 1 - Save Best Score: 0.7281 Model\n"
     ]
    },
    {
     "name": "stderr",
     "output_type": "stream",
     "text": [
      "Training Fold 4 Part 4: 100%|██████████| 475/475 [02:22<00:00,  3.33train_batch/s]\n",
      "Validating Fold 4 Part 4: 100%|██████████| 120/120 [00:18<00:00,  6.58valid_batch/s]\n"
     ]
    },
    {
     "name": "stdout",
     "output_type": "stream",
     "text": [
      "Epoch 2 - avg_train_loss: 1.0125 avg_val_loss: 0.9782 time: 161s Score: 0.7650\n",
      "Epoch 2 - Save Best Score: 0.7650 Model\n"
     ]
    },
    {
     "name": "stderr",
     "output_type": "stream",
     "text": [
      "Special tokens have been added in the vocabulary, make sure the associated word embeddings are fine-tuned or trained.\n",
      "Model 0 Inference: 100%|██████████| 109/109 [00:18<00:00,  5.82test_batch/s]\n",
      "Special tokens have been added in the vocabulary, make sure the associated word embeddings are fine-tuned or trained.\n",
      "Model 1 Inference: 100%|██████████| 109/109 [00:18<00:00,  5.83test_batch/s]\n",
      "Special tokens have been added in the vocabulary, make sure the associated word embeddings are fine-tuned or trained.\n",
      "Model 2 Inference: 100%|██████████| 109/109 [00:18<00:00,  5.83test_batch/s]\n",
      "Special tokens have been added in the vocabulary, make sure the associated word embeddings are fine-tuned or trained.\n",
      "Model 3 Inference: 100%|██████████| 109/109 [00:18<00:00,  5.83test_batch/s]\n",
      "Special tokens have been added in the vocabulary, make sure the associated word embeddings are fine-tuned or trained.\n",
      "Model 4 Inference: 100%|██████████| 109/109 [00:18<00:00,  5.83test_batch/s]\n"
     ]
    },
    {
     "name": "stdout",
     "output_type": "stream",
     "text": [
      "========== Fold: 4 result ==========\n",
      "Score: 0.7599\n",
      "========== CV ==========\n",
      "Score: 0.7642\n"
     ]
    }
   ],
   "source": [
    "if config.train:\n",
    "    oof_df = pd.DataFrame()\n",
    "\n",
    "    for fold in range(config.n_folds):\n",
    "        if fold in config.train_folds:\n",
    "            _oof_df = train_all_parts(fold)\n",
    "            log_metrics(_oof_df, f\"Fold {fold}\")\n",
    "            oof_df = pd.concat([oof_df, _oof_df])\n",
    "            print(f\"========== Fold: {fold} result ==========\")\n",
    "            get_result(_oof_df)\n",
    "\n",
    "    oof_df = oof_df.reset_index(drop=True)\n",
    "    print(f\"========== CV ==========\")\n",
    "    score = get_result(oof_df)\n",
    "    wandb.log({\"CV/qwk_score\": score})\n",
    "    oof_df.to_csv(\"data/lgbm_deberta/oof_df.csv\", index=False)"
   ]
  },
  {
   "cell_type": "code",
   "execution_count": 26,
   "metadata": {},
   "outputs": [],
   "source": [
    "wandb.log({\"oof_table\": wandb.Table(dataframe=oof_df)})"
   ]
  },
  {
   "cell_type": "markdown",
   "metadata": {},
   "source": [
    "## Evaluate"
   ]
  },
  {
   "cell_type": "code",
   "execution_count": 27,
   "metadata": {},
   "outputs": [],
   "source": [
    "log_metrics(oof_df, \"Overall\")"
   ]
  },
  {
   "cell_type": "markdown",
   "metadata": {},
   "source": [
    "### Confusion Matrix"
   ]
  },
  {
   "cell_type": "code",
   "execution_count": 28,
   "metadata": {},
   "outputs": [
    {
     "data": {
      "image/png": "[encoded data removed]",
      "text/plain": [
       "<Figure size 640x480 with 2 Axes>"
      ]
     },
     "metadata": {},
     "output_type": "display_data"
    }
   ],
   "source": [
    "cm = confusion_matrix(oof_df[\"score\"], oof_df[\"pred_score\"])\n",
    "disp = ConfusionMatrixDisplay(confusion_matrix=cm, display_labels=list(range(config.num_classes)))\n",
    "\n",
    "# Plot the confusion matrix\n",
    "disp.plot(cmap='viridis', values_format='d')\n",
    "plt.title(\"Confusion Matrix\")\n",
    "plt.show()"
   ]
  },
  {
   "cell_type": "markdown",
   "metadata": {},
   "source": [
    "Finish experiment"
   ]
  },
  {
   "cell_type": "code",
   "execution_count": 29,
   "metadata": {},
   "outputs": [
    {
     "data": {
      "application/vnd.jupyter.widget-view+json": {
       "model_id": "4d093887cc7947349b0a7302e1b2db6f",
       "version_major": 2,
       "version_minor": 0
      },
      "text/plain": [
       "VBox(children=(Label(value='54.171 MB of 54.171 MB uploaded\\r'), FloatProgress(value=1.0, max=1.0)))"
      ]
     },
     "metadata": {},
     "output_type": "display_data"
    },
    {
     "data": {
      "text/html": [
       "<style>\n",
       "    table.wandb td:nth-child(1) { padding: 0 10px; text-align: left ; width: auto;} td:nth-child(2) {text-align: left ; width: 100%}\n",
       "    .wandb-row { display: flex; flex-direction: row; flex-wrap: wrap; justify-content: flex-start; width: 100% }\n",
       "    .wandb-col { display: flex; flex-direction: column; flex-basis: 100%; flex: 1; padding: 10px; }\n",
       "    </style>\n",
       "<div class=\"wandb-row\"><div class=\"wandb-col\"><h3>Run history:</h3><br/><table class=\"wandb\"><tr><td>CV/qwk_score</td><td>▁</td></tr><tr><td>eval/eval_epoch_f0</td><td>▁</td></tr><tr><td>eval/eval_epoch_f0_p0</td><td>▁█</td></tr><tr><td>eval/eval_epoch_f0_p1</td><td>▁█</td></tr><tr><td>eval/eval_epoch_f0_p2</td><td>▁█</td></tr><tr><td>eval/eval_epoch_f0_p3</td><td>▁█</td></tr><tr><td>eval/eval_epoch_f0_p4</td><td>▁█</td></tr><tr><td>eval/eval_epoch_f1</td><td>▁</td></tr><tr><td>eval/eval_epoch_f1_p0</td><td>▁█</td></tr><tr><td>eval/eval_epoch_f1_p1</td><td>▁█</td></tr><tr><td>eval/eval_epoch_f1_p2</td><td>▁█</td></tr><tr><td>eval/eval_epoch_f1_p3</td><td>▁█</td></tr><tr><td>eval/eval_epoch_f1_p4</td><td>▁█</td></tr><tr><td>eval/eval_epoch_f2</td><td>▁</td></tr><tr><td>eval/eval_epoch_f2_p0</td><td>▁█</td></tr><tr><td>eval/eval_epoch_f2_p1</td><td>▁█</td></tr><tr><td>eval/eval_epoch_f2_p2</td><td>▁█</td></tr><tr><td>eval/eval_epoch_f2_p3</td><td>▁█</td></tr><tr><td>eval/eval_epoch_f2_p4</td><td>▁█</td></tr><tr><td>eval/eval_epoch_f3</td><td>▁</td></tr><tr><td>eval/eval_epoch_f3_p0</td><td>▁█</td></tr><tr><td>eval/eval_epoch_f3_p1</td><td>▁█</td></tr><tr><td>eval/eval_epoch_f3_p2</td><td>▁█</td></tr><tr><td>eval/eval_epoch_f3_p3</td><td>▁█</td></tr><tr><td>eval/eval_epoch_f3_p4</td><td>▁█</td></tr><tr><td>eval/eval_epoch_f4</td><td>▁</td></tr><tr><td>eval/eval_epoch_f4_p0</td><td>▁█</td></tr><tr><td>eval/eval_epoch_f4_p1</td><td>▁█</td></tr><tr><td>eval/eval_epoch_f4_p2</td><td>▁█</td></tr><tr><td>eval/eval_epoch_f4_p3</td><td>▁█</td></tr><tr><td>eval/eval_epoch_f4_p4</td><td>▁█</td></tr><tr><td>eval/eval_loss_f0_p0</td><td>█▁</td></tr><tr><td>eval/eval_loss_f0_p1</td><td>█▁</td></tr><tr><td>eval/eval_loss_f0_p2</td><td>█▁</td></tr><tr><td>eval/eval_loss_f0_p3</td><td>█▁</td></tr><tr><td>eval/eval_loss_f0_p4</td><td>█▁</td></tr><tr><td>eval/eval_loss_f1_p0</td><td>█▁</td></tr><tr><td>eval/eval_loss_f1_p1</td><td>█▁</td></tr><tr><td>eval/eval_loss_f1_p2</td><td>█▁</td></tr><tr><td>eval/eval_loss_f1_p3</td><td>█▁</td></tr><tr><td>eval/eval_loss_f1_p4</td><td>█▁</td></tr><tr><td>eval/eval_loss_f2_p0</td><td>█▁</td></tr><tr><td>eval/eval_loss_f2_p1</td><td>█▁</td></tr><tr><td>eval/eval_loss_f2_p2</td><td>█▁</td></tr><tr><td>eval/eval_loss_f2_p3</td><td>█▁</td></tr><tr><td>eval/eval_loss_f2_p4</td><td>█▁</td></tr><tr><td>eval/eval_loss_f3_p0</td><td>█▁</td></tr><tr><td>eval/eval_loss_f3_p1</td><td>█▁</td></tr><tr><td>eval/eval_loss_f3_p2</td><td>█▁</td></tr><tr><td>eval/eval_loss_f3_p3</td><td>█▁</td></tr><tr><td>eval/eval_loss_f3_p4</td><td>█▁</td></tr><tr><td>eval/eval_loss_f4_p0</td><td>█▁</td></tr><tr><td>eval/eval_loss_f4_p1</td><td>█▁</td></tr><tr><td>eval/eval_loss_f4_p2</td><td>█▁</td></tr><tr><td>eval/eval_loss_f4_p3</td><td>█▁</td></tr><tr><td>eval/eval_loss_f4_p4</td><td>█▁</td></tr><tr><td>eval/qwk_score_f0</td><td>▁</td></tr><tr><td>eval/qwk_score_f0_p0</td><td>█▁</td></tr><tr><td>eval/qwk_score_f0_p1</td><td>▁█</td></tr><tr><td>eval/qwk_score_f0_p2</td><td>▁█</td></tr><tr><td>eval/qwk_score_f0_p3</td><td>▁█</td></tr><tr><td>eval/qwk_score_f0_p4</td><td>▁█</td></tr><tr><td>eval/qwk_score_f1</td><td>▁</td></tr><tr><td>eval/qwk_score_f1_p0</td><td>▁█</td></tr><tr><td>eval/qwk_score_f1_p1</td><td>▁█</td></tr><tr><td>eval/qwk_score_f1_p2</td><td>▁█</td></tr><tr><td>eval/qwk_score_f1_p3</td><td>▁█</td></tr><tr><td>eval/qwk_score_f1_p4</td><td>▁█</td></tr><tr><td>eval/qwk_score_f2</td><td>▁</td></tr><tr><td>eval/qwk_score_f2_p0</td><td>▁█</td></tr><tr><td>eval/qwk_score_f2_p1</td><td>▁█</td></tr><tr><td>eval/qwk_score_f2_p2</td><td>▁█</td></tr><tr><td>eval/qwk_score_f2_p3</td><td>▁█</td></tr><tr><td>eval/qwk_score_f2_p4</td><td>▁█</td></tr><tr><td>eval/qwk_score_f3</td><td>▁</td></tr><tr><td>eval/qwk_score_f3_p0</td><td>▁█</td></tr><tr><td>eval/qwk_score_f3_p1</td><td>▁█</td></tr><tr><td>eval/qwk_score_f3_p2</td><td>▁█</td></tr><tr><td>eval/qwk_score_f3_p3</td><td>▁█</td></tr><tr><td>eval/qwk_score_f3_p4</td><td>▁█</td></tr><tr><td>eval/qwk_score_f4</td><td>▁</td></tr><tr><td>eval/qwk_score_f4_p0</td><td>▁█</td></tr><tr><td>eval/qwk_score_f4_p1</td><td>█▁</td></tr><tr><td>eval/qwk_score_f4_p2</td><td>▁█</td></tr><tr><td>eval/qwk_score_f4_p3</td><td>▁█</td></tr><tr><td>eval/qwk_score_f4_p4</td><td>▁█</td></tr><tr><td>train/epoch_f0_p0</td><td>▁▁▂▂▂▃▃▃▄▄▄▅▅▆▆▆▇▇▇█▁▂▂▂▃▃▃▄▄▄▅▅▅▆▆▇▇▇██</td></tr><tr><td>train/epoch_f0_p1</td><td>▁▁▂▂▂▃▃▃▄▄▄▅▅▆▆▆▇▇▇█▁▂▂▂▃▃▃▄▄▄▅▅▅▆▆▆▇▇▇█</td></tr><tr><td>train/epoch_f0_p2</td><td>▁▁▂▂▂▃▃▃▄▄▄▅▅▆▆▆▇▇▇█▁▂▂▂▃▃▃▄▄▄▅▅▅▆▆▇▇▇██</td></tr><tr><td>train/epoch_f0_p3</td><td>▁▁▂▂▂▃▃▃▄▄▄▅▅▆▆▆▇▇▇█▁▂▂▂▃▃▃▄▄▄▅▅▅▆▆▇▇▇██</td></tr><tr><td>train/epoch_f0_p4</td><td>▁▁▂▂▂▃▃▃▄▄▄▅▅▆▆▆▇▇▇█▁▂▂▂▃▃▃▄▄▄▅▅▅▆▆▇▇▇██</td></tr><tr><td>train/epoch_f1_p0</td><td>▁▁▂▂▂▃▃▃▄▄▄▅▅▆▆▆▇▇▇█▁▂▂▂▃▃▃▄▄▄▅▅▅▆▆▇▇▇██</td></tr><tr><td>train/epoch_f1_p1</td><td>▁▁▂▂▂▃▃▃▄▄▄▅▅▆▆▆▇▇▇█▁▂▂▂▃▃▃▄▄▄▅▅▅▆▆▆▇▇▇█</td></tr><tr><td>train/epoch_f1_p2</td><td>▁▁▂▂▂▃▃▃▄▄▄▅▅▆▆▆▇▇▇█▁▂▂▂▃▃▃▄▄▄▅▅▅▆▆▆▇▇▇█</td></tr><tr><td>train/epoch_f1_p3</td><td>▁▁▂▂▂▃▃▃▄▄▄▅▅▆▆▆▇▇▇█▁▂▂▂▃▃▃▄▄▄▅▅▅▆▆▆▇▇██</td></tr><tr><td>train/epoch_f1_p4</td><td>▁▁▂▂▂▃▃▃▄▄▅▅▅▆▆▆▇▇▇█▁▂▂▂▃▃▃▄▄▄▅▅▅▆▆▆▇▇██</td></tr><tr><td>train/epoch_f2_p0</td><td>▁▁▂▂▂▃▃▃▄▄▄▅▅▆▆▆▇▇▇█▁▂▂▂▃▃▃▄▄▄▅▅▅▆▆▆▇▇▇█</td></tr><tr><td>train/epoch_f2_p1</td><td>▁▁▂▂▂▃▃▃▄▄▄▅▅▆▆▆▇▇▇█▁▂▂▂▃▃▃▄▄▄▅▅▅▆▆▆▇▇▇█</td></tr><tr><td>train/epoch_f2_p2</td><td>▁▁▂▂▂▃▃▃▄▄▄▅▅▆▆▆▇▇▇█▁▂▂▂▃▃▃▄▄▄▅▅▅▆▆▆▇▇▇█</td></tr><tr><td>train/epoch_f2_p3</td><td>▁▁▂▂▂▃▃▃▄▄▄▅▅▆▆▆▇▇▇█▁▂▂▂▃▃▃▄▄▄▅▅▅▆▆▇▇▇██</td></tr><tr><td>train/epoch_f2_p4</td><td>▁▁▂▂▂▃▃▃▄▄▄▅▅▆▆▆▇▇▇█▁▂▂▂▃▃▃▄▄▄▅▅▅▆▆▇▇▇██</td></tr><tr><td>train/epoch_f3_p0</td><td>▁▁▂▂▂▃▃▃▄▄▄▅▅▆▆▆▇▇▇█▁▂▂▂▃▃▃▄▄▄▅▅▅▆▆▆▇▇██</td></tr><tr><td>train/epoch_f3_p1</td><td>▁▁▂▂▂▃▃▃▄▄▄▅▅▆▆▆▇▇▇█▁▂▂▂▃▃▃▄▄▄▅▅▅▆▆▆▇▇██</td></tr><tr><td>train/epoch_f3_p2</td><td>▁▁▂▂▂▃▃▃▄▄▄▅▅▅▆▆▇▇▇█▁▂▂▂▃▃▃▄▄▄▅▅▅▆▆▆▇▇██</td></tr><tr><td>train/epoch_f3_p3</td><td>▁▁▂▂▂▃▃▃▄▄▄▅▅▆▆▆▇▇▇█▁▂▂▂▃▃▃▄▄▄▅▅▅▆▆▆▇▇██</td></tr><tr><td>train/epoch_f3_p4</td><td>▁▁▂▂▂▃▃▃▄▄▄▅▅▆▆▆▇▇▇█▁▂▂▂▃▃▃▄▄▄▅▅▅▆▆▆▇▇██</td></tr><tr><td>train/epoch_f4_p0</td><td>▁▁▂▂▂▃▃▃▄▄▄▅▅▆▆▆▇▇▇█▁▂▂▂▃▃▃▄▄▄▅▅▅▆▆▆▇▇▇█</td></tr><tr><td>train/epoch_f4_p1</td><td>▁▁▂▂▂▃▃▃▄▄▄▅▅▆▆▆▇▇▇█▁▂▂▂▃▃▃▄▄▄▅▅▅▆▆▇▇▇██</td></tr><tr><td>train/epoch_f4_p2</td><td>▁▁▂▂▂▃▃▃▄▄▄▅▅▆▆▆▇▇▇█▁▂▂▂▃▃▃▄▄▄▅▅▅▆▆▇▇▇██</td></tr><tr><td>train/epoch_f4_p3</td><td>▁▁▂▂▂▃▃▃▄▄▄▅▅▆▆▆▇▇▇█▁▂▂▂▃▃▃▄▄▄▅▅▅▆▆▇▇▇██</td></tr><tr><td>train/epoch_f4_p4</td><td>▁▁▂▂▂▃▃▃▄▄▄▅▅▆▆▆▇▇▇█▁▂▂▂▃▃▃▄▄▄▅▅▅▆▆▆▇▇▇█</td></tr><tr><td>train/grad_norm_f0_p0</td><td>▂▂▁▂▁▃▁▃▂▂▄▁▂▂▂▅▂▂▃▂▅▃▂▆█▂▂▂▂▅▂▂▃▃▂▁▅▃▂▃</td></tr><tr><td>train/grad_norm_f0_p1</td><td>▁▁▁▁▁▁▁▁▁▁▂▁▂▂▁▁▁▁▂▃█▂▃▂▃▃▄▄▂▂▃▄▂▂▄▂▂▅▂▂</td></tr><tr><td>train/grad_norm_f0_p2</td><td>▄▂▁▁▂▂▃▃▆▇▅▃▇▃▁▂▇▄▃▄█▅▂▂▄▇▇█▂▅▂▃█▃▆▂▂▂▇▃</td></tr><tr><td>train/grad_norm_f0_p3</td><td>▄▁▁▂▂▁▃█▃▅▄▃▃▁▃▁▄▆▂▂▂▃▂▁▄▁▅▂▃▃▄▁▃▂▂▂▂▂▂▂</td></tr><tr><td>train/grad_norm_f0_p4</td><td>▂▁▁▁▁▂▁▁▃▄▄▂▄▃▆▄▃▄▂▄▅▇▆▄▂▃▃▂▁▂▃▂▂▂▃▂█▂▃▅</td></tr><tr><td>train/grad_norm_f1_p0</td><td>▃▃▂▄▃▃▄▃▆▄▂▂▁▁▁▁▁▂▂▃▅▆▃▆▂▂▃▂▆▇▃█▇█▄▅▄▇▃▃</td></tr><tr><td>train/grad_norm_f1_p1</td><td>▂▁▁▁▁▁▁▁▁▂▂▁▁▁▁▁▂▂▂▂ ▂▂█▅▅▄▆▆▃▃▄▄▂▁▂▃▃▃▂</td></tr><tr><td>train/grad_norm_f1_p2</td><td>▂▁▁▁▁▂▂▁▂▂▂▂ ▂▁▁▃▃▁▄▃▃▅█▅▃▂▂▂▇▁▂▂▂▄▄▃▂▂▂</td></tr><tr><td>train/grad_norm_f1_p3</td><td>▂▂▁▁▂▂▂▂▃▄▇▂▂▃▅▃▅▆▃▃▆█▄▃▂▂▂▂▂▂▄▁▂▂▂▂▁▄▁▁</td></tr><tr><td>train/grad_norm_f1_p4</td><td>▂▁▂▁▂▂▂▂▂▂█▄▃▂▃▃█▁▂▅▄▂▂▄▆▃▂▁▂▃▃▂▃▁▂▁▁▂▁▂</td></tr><tr><td>train/grad_norm_f2_p0</td><td>▁▁▁▁▂▂▁▂▃▃▅▂▁▁▃▃▂▂▂▄▃▃█▅▃▂▃▂▃▂▅▂▃▂▃▄▂▁▂▂</td></tr><tr><td>train/grad_norm_f2_p1</td><td>▂▂▁▁▁▁▁▁▂▂▃▁▂▃▁▁▂▃▃▅█▃▂▁▃▂▂▁▂▃▂▂▂▂▃▃▂▁▂▂</td></tr><tr><td>train/grad_norm_f2_p2</td><td>▂▂▃▂▂▄▃▃▅▇▃▂▃▁▄▁▂▂▂▁█▄▃▁▃▂▁▁▄▄▁▂▂▅▃▂▁▅▃▃</td></tr><tr><td>train/grad_norm_f2_p3</td><td> ▁▁▃▁▁▂▃▁▂▅▂▁▂▂▂▂▆▂▂▃▄▅█▆▃▃▁▁▂▁▂▂▄▃▃▂▃▂▂</td></tr><tr><td>train/grad_norm_f2_p4</td><td>▃▁▁▂▂▂▂▂▂▂▆▃█▄▂▂▄▂▂▂▇▄▃▃▁▂▂▁▂▃▃▄▁▁▃▂▂▂▃▁</td></tr><tr><td>train/grad_norm_f3_p0</td><td>▄▂▁▂▃▄▃▅▂▄▃▂▂▃▆▇▃▅▃▃▇█▃▄█▃▇▆▅▃▂▂▂▂▁▁▂▁▁▂</td></tr><tr><td>train/grad_norm_f3_p1</td><td>▁▂▁▁▂▂▁▁▂▂▁▄▃▁▃▃▄▅▂▅▂▄█▃▆▃▁▂▂▂▁▁▂▂▁▁▂▂▂▂</td></tr><tr><td>train/grad_norm_f3_p2</td><td>▃▂▁▂▃█▄▁▁▅▆▃▃▃▂▄▄▂▄▇▄▂▅▄▂▃▃▂▅▄▃▃▄█▃▅▂▂▇▃</td></tr><tr><td>train/grad_norm_f3_p3</td><td>▂▂▃▂▂▄▅██▅▇▁▁▂▂▂▄▂▄▃▅▃▄▇▅▄▆▃▅▃▃▃▄▄▄▂▃▂▃▃</td></tr><tr><td>train/grad_norm_f3_p4</td><td>▂▂▂▁▂▃▃▃▂▂▃▁▂▃▅▁▂▂▂▆▇▃▄▃▅▅▄▄▁▂▁█▅▂▃▄▃▂▅▂</td></tr><tr><td>train/grad_norm_f4_p0</td><td>▂▁▁▁▁▁▁▂▁▁▃▁▂▁▅▂▃▂▃▄▂█▄▄▄▂▁▃▂▂▂▂▄▃▃▃▂▂▂▂</td></tr><tr><td>train/grad_norm_f4_p1</td><td>▄▂▁▁▂▂▂▆▂▂▄▁▄▅▄▃▅▅▄▄█▄▅▂█▆▂▃▄▃▅▅▄▃▄▄▃▄▃▃</td></tr><tr><td>train/grad_norm_f4_p2</td><td>▁▁▁▁▁▁▁▃▁▂▂▁▁▂▂▁▂▃▂▂█▂▁▁▂▂▄▂▃▂▂▅▂▂▂▂▁▂▁▃</td></tr><tr><td>train/grad_norm_f4_p3</td><td>▃▁▁▁▁▁▂▃▁▁▃▁▂▃▄▂▃▃▂▁▃█▄▂▅▃▇▅▃▅▂▄█▃▃▂▄▃▄▃</td></tr><tr><td>train/grad_norm_f4_p4</td><td>▂▁▁▃▂▂▁▄▃▂▇▁▂█▅▃▆▂▃▂▇▄▄▂▄▁▄▂▁▂▃▃▂▁▁▁▁▁▂▂</td></tr><tr><td>train/learning_rate_f0_p0</td><td>▇▁█▂▅▆▂█▁▆▄▃█▁█▃▄▆▁█▁▆▄▃█▁█▃▄▆▁█▂▆▅▂█▁▇▂</td></tr><tr><td>train/learning_rate_f0_p1</td><td>▇▁█▂▅▆▂█▁▆▄▃█▁█▃▄▆▁█▄▄▇▁█▂▅▆▂█▁▆▄▃█▁█▃▄▃</td></tr><tr><td>train/learning_rate_f0_p2</td><td>▇▁█▂▅▆▂█▁▆▄▃█▁█▃▄▆▁█▁▆▄▃█▁█▃▄▆▁█▂▆▅▂█▁▇▂</td></tr><tr><td>train/learning_rate_f0_p3</td><td>▇▁█▂▅▆▂█▁▆▄▃█▁█▃▄▆▁█▁▆▄▃█▁█▃▄▆▁█▂▆▅▂█▁▇▂</td></tr><tr><td>train/learning_rate_f0_p4</td><td>▇▁█▂▅▆▂█▁▆▄▃█▁█▃▄▆▁█▁▆▄▃█▁█▃▄▆▁█▂▆▅▂█▁▇▂</td></tr><tr><td>train/learning_rate_f1_p0</td><td>▇▁█▂▅▆▂█▁▆▄▃█▁█▃▄▆▁█▁▆▄▃█▁█▃▄▆▁█▂▆▅▂█▁▇▂</td></tr><tr><td>train/learning_rate_f1_p1</td><td>▇▁█▂▅▆▂█▁▆▄▃█▁█▃▄▆▁█▃▄▇▁█▂▅▅▂█▁▇▄▃▇▁█▃▅▂</td></tr><tr><td>train/learning_rate_f1_p2</td><td>▇▁█▂▅▆▂█▁▆▄▃█▁█▃▄▆▁█▃▄▇▁█▂▅▅▂█▁▇▄▃▇▁█▃▅▂</td></tr><tr><td>train/learning_rate_f1_p3</td><td>▇▁█▂▅▆▂█▁▆▄▃▇▁▇▃▄▆▁█▁▇▄▃▇▁█▃▅▆▂█▂▆▅▃█▁▇▁</td></tr><tr><td>train/learning_rate_f1_p4</td><td>▇▁█▂▅▆▂█▁▆▄▃█▁█▃▄▆▁█▄▃█▁█▃▄▆▁█▂▆▅▂█▁▇▄▄▄</td></tr><tr><td>train/learning_rate_f2_p0</td><td>▇▁█▂▅▆▂█▁▆▄▃█▁█▃▄▆▁█▃▄▇▁█▂▅▅▂█▁▇▄▃▇▁█▃▅▂</td></tr><tr><td>train/learning_rate_f2_p1</td><td>▇▁█▂▅▆▂█▁▆▄▃█▁█▃▄▆▁█▄▄▇▁█▂▅▆▂█▁▆▄▃█▁█▃▄▃</td></tr><tr><td>train/learning_rate_f2_p2</td><td>▇▁█▂▅▆▂█▁▆▄▃█▁█▃▄▆▁█▃▄▇▁█▂▅▅▂█▁▇▄▃▇▁█▃▅▂</td></tr><tr><td>train/learning_rate_f2_p3</td><td>▇▁█▂▅▆▂█▁▆▄▃█▁█▃▄▆▁█▁▆▄▃█▁█▃▄▆▁█▂▆▅▂█▁▇▂</td></tr><tr><td>train/learning_rate_f2_p4</td><td>▇▁█▂▅▆▂█▁▆▄▃█▁█▃▄▆▁█▁▆▄▃█▁█▃▄▆▁█▂▆▅▂█▁▇▂</td></tr><tr><td>train/learning_rate_f3_p0</td><td>▇▁█▂▅▆▂█▁▆▄▃▇▁▇▃▄▆▁█▁▇▄▃▇▁█▃▅▆▂█▂▆▅▃█▁▇▁</td></tr><tr><td>train/learning_rate_f3_p1</td><td>▇▁█▂▅▆▂█▁▆▄▃▇▁▇▃▄▆▁█▁▇▄▃▇▁█▃▅▆▂█▂▆▅▃█▁▇▁</td></tr><tr><td>train/learning_rate_f3_p2</td><td>▇▁█▂▅▆▂█▁▆▄▃█▁█▃▄▆▁█▁▇▄▄▇▁█▂▅▆▂█▁▆▄▃█▁█▁</td></tr><tr><td>train/learning_rate_f3_p3</td><td>▇▁█▂▅▆▂█▁▆▄▃▇▁▇▃▄▆▁█▁▇▄▃▇▁█▃▅▆▂█▂▆▅▃█▁▇▁</td></tr><tr><td>train/learning_rate_f3_p4</td><td>▇▁█▂▅▆▂█▁▆▄▃▇▁▇▃▄▆▁█▁▇▄▃▇▁█▃▅▆▂█▂▆▅▃█▁▇▁</td></tr><tr><td>train/learning_rate_f4_p0</td><td>▇▁█▂▅▆▂█▁▆▄▃█▁█▃▄▆▁█▄▄▇▁█▂▅▆▂█▁▆▄▃█▁█▃▄▃</td></tr><tr><td>train/learning_rate_f4_p1</td><td>▇▁█▂▅▆▂█▁▆▄▃█▁█▃▄▆▁█▁▆▄▃█▁█▃▄▆▁█▂▆▅▂█▁▇▂</td></tr><tr><td>train/learning_rate_f4_p2</td><td>▇▁█▂▅▆▂█▁▆▄▃█▁█▃▄▆▁█▁▆▄▃█▁█▃▄▆▁█▂▆▅▂█▁▇▂</td></tr><tr><td>train/learning_rate_f4_p3</td><td>▇▁█▂▅▆▂█▁▆▄▃█▁█▃▄▆▁█▁▆▄▃█▁█▃▄▆▁█▂▆▅▂█▁▇▂</td></tr><tr><td>train/learning_rate_f4_p4</td><td>▇▁█▂▅▆▂█▁▆▄▃█▁█▃▄▆▁█▃▄▇▁█▂▅▅▂█▁▇▄▃▇▁█▃▅▂</td></tr><tr><td>train/train_loss_f0_p0</td><td>█▇▆▆▅▅▅▄▄▄▄▄▃▃▃▃▃▃▃▃▁▁▁▁▁▁▁▁▁▁▁▁▁▁▁▁▁▁▁▁</td></tr><tr><td>train/train_loss_f0_p1</td><td>█▇▇▆▆▆▆▅▅▅▅▄▄▄▄▄▄▄▃▃▂▂▂▂▁▁▁▁▁▁▁▁▁▁▁▁▁▁▁▁</td></tr><tr><td>train/train_loss_f0_p2</td><td>█▇▇▆▆▆▆▅▅▅▅▄▄▄▄▄▄▄▃▃▂▂▁▁▁▁▁▁▁▁▁▁▁▁▁▁▁▁▁▁</td></tr><tr><td>train/train_loss_f0_p3</td><td>█▇▆▆▆▆▅▅▅▅▄▄▄▄▄▄▃▃▃▃▃▂▂▁▁▁▁▁▁▁▁▁▁▁▁▁▁▁▁▁</td></tr><tr><td>train/train_loss_f0_p4</td><td>█▇▇▆▆▆▅▅▅▄▄▄▄▄▄▃▃▃▃▃▂▁▁▁▁▁▁▁▁▁▁▁▁▁▁▁▁▁▁▁</td></tr><tr><td>train/train_loss_f1_p0</td><td>█▇▇▆▆▆▅▅▅▄▄▄▄▄▄▄▃▃▃▃▂▂▁▁▁▁▁▁▁▁▁▁▁▁▁▁▁▁▁▁</td></tr><tr><td>train/train_loss_f1_p1</td><td>█▇▇▆▆▆▅▅▅▅▄▄▄▄▄▄▃▃▃▃▁▁▁▁▁▁▁▁▁▁▁▁▁▁▁▁▁▁▁▁</td></tr><tr><td>train/train_loss_f1_p2</td><td>█▆▆▅▅▅▄▄▄▄▄▃▃▃▃▃▃▃▃▃▁▁▁▁▁▁▁▁▁▁▁▁▁▁▁▁▁▁▁▁</td></tr><tr><td>train/train_loss_f1_p3</td><td>█▇▇▆▆▆▅▅▅▄▄▄▄▄▄▃▃▃▃▃▂▂▂▁▁▁▁▁▁▁▁▁▁▁▁▁▁▁▁▁</td></tr><tr><td>train/train_loss_f1_p4</td><td>█▇▆▆▆▅▅▅▄▄▄▄▄▄▃▃▃▃▃▃▁▁▁▁▁▁▁▁▁▁▁▁▁▁▁▁▁▁▁▁</td></tr><tr><td>train/train_loss_f2_p0</td><td>█▇▇▇▇▆▆▆▅▅▅▅▅▄▄▄▄▄▄▄▁▁▂▁▁▁▁▁▁▁▁▁▁▁▁▁▁▁▁▁</td></tr><tr><td>train/train_loss_f2_p1</td><td>█▇▆▆▆▅▅▅▅▄▄▄▄▄▃▃▃▃▃▃▂▁▁▁▁▁▁▁▁▁▁▁▁▁▁▁▁▁▁▁</td></tr><tr><td>train/train_loss_f2_p2</td><td>█▇▇▆▆▆▆▆▅▅▅▄▄▄▄▄▄▄▃▃▂▂▂▂▁▁▁▁▁▁▁▁▁▁▁▁▁▁▁▁</td></tr><tr><td>train/train_loss_f2_p3</td><td>██▇▇▇▆▆▆▅▅▅▅▄▄▄▄▄▄▄▃▂▂▂▁▁▁▁▁▁▁▁▁▁▁▁▁▁▁▁▁</td></tr><tr><td>train/train_loss_f2_p4</td><td>█▇▇▆▆▆▆▅▅▅▅▄▄▄▄▄▄▃▃▃▁▁▁▁▁▁▁▁▁▁▁▁▁▁▁▁▁▁▁▁</td></tr><tr><td>train/train_loss_f3_p0</td><td>█▇▇▆▆▆▆▆▅▅▅▄▄▄▄▄▄▄▃▃▁▁▁▁▁▁▁▁▁▁▁▁▁▁▁▁▁▁▁▁</td></tr><tr><td>train/train_loss_f3_p1</td><td>█▇▇▇▆▆▆▆▅▅▅▅▅▄▄▄▄▄▄▄▁▁▁▁▂▂▂▂▁▁▁▁▁▁▁▁▁▁▁▁</td></tr><tr><td>train/train_loss_f3_p2</td><td>█▇▆▆▅▅▅▄▄▄▄▄▃▃▃▃▃▃▃▃▁▁▁▁▁▁▁▁▁▁▁▁▁▁▁▁▁▁▁▁</td></tr><tr><td>train/train_loss_f3_p3</td><td>█▇▇▇▆▆▆▅▅▅▄▄▄▄▄▄▄▃▃▃▂▁▁▁▁▁▁▁▁▁▁▁▁▁▁▁▁▁▁▁</td></tr><tr><td>train/train_loss_f3_p4</td><td>█▇▇▇▆▆▅▅▅▅▄▄▄▄▄▄▃▃▃▃▂▂▂▂▁▁▁▁▁▁▁▁▁▁▁▁▁▁▁▁</td></tr><tr><td>train/train_loss_f4_p0</td><td>█▆▆▅▅▅▄▄▄▄▄▃▃▃▃▃▃▃▃▃▁▁▁▁▁▁▁▁▁▁▁▁▁▁▁▁▁▁▁▁</td></tr><tr><td>train/train_loss_f4_p1</td><td>█▇▆▆▆▅▅▅▄▄▄▄▄▄▃▃▃▃▃▃▁▁▁▁▁▁▁▁▁▁▁▁▁▁▁▁▁▁▁▁</td></tr><tr><td>train/train_loss_f4_p2</td><td>█▇▆▆▆▅▅▅▄▄▄▄▄▄▃▃▃▃▃▃▁▁▁▁▁▁▁▁▁▁▁▁▁▁▁▁▁▁▁▁</td></tr><tr><td>train/train_loss_f4_p3</td><td>█▇▆▆▆▅▅▅▄▄▄▄▄▄▃▃▃▃▃▃▁▁▁▁▁▁▁▁▁▁▁▁▁▁▁▁▁▁▁▁</td></tr><tr><td>train/train_loss_f4_p4</td><td>█▇▆▆▅▅▄▄▄▄▃▃▃▃▃▃▃▃▃▃▂▁▁▁▁▁▁▁▁▁▁▁▁▁▁▁▁▁▁▁</td></tr></table><br/></div><div class=\"wandb-col\"><h3>Run summary:</h3><br/><table class=\"wandb\"><tr><td>CV/qwk_score</td><td>0.76422</td></tr><tr><td>eval/eval_epoch_f0</td><td>2</td></tr><tr><td>eval/eval_epoch_f0_p0</td><td>2</td></tr><tr><td>eval/eval_epoch_f0_p1</td><td>2</td></tr><tr><td>eval/eval_epoch_f0_p2</td><td>2</td></tr><tr><td>eval/eval_epoch_f0_p3</td><td>2</td></tr><tr><td>eval/eval_epoch_f0_p4</td><td>2</td></tr><tr><td>eval/eval_epoch_f1</td><td>2</td></tr><tr><td>eval/eval_epoch_f1_p0</td><td>2</td></tr><tr><td>eval/eval_epoch_f1_p1</td><td>2</td></tr><tr><td>eval/eval_epoch_f1_p2</td><td>2</td></tr><tr><td>eval/eval_epoch_f1_p3</td><td>2</td></tr><tr><td>eval/eval_epoch_f1_p4</td><td>2</td></tr><tr><td>eval/eval_epoch_f2</td><td>2</td></tr><tr><td>eval/eval_epoch_f2_p0</td><td>2</td></tr><tr><td>eval/eval_epoch_f2_p1</td><td>2</td></tr><tr><td>eval/eval_epoch_f2_p2</td><td>2</td></tr><tr><td>eval/eval_epoch_f2_p3</td><td>2</td></tr><tr><td>eval/eval_epoch_f2_p4</td><td>2</td></tr><tr><td>eval/eval_epoch_f3</td><td>2</td></tr><tr><td>eval/eval_epoch_f3_p0</td><td>2</td></tr><tr><td>eval/eval_epoch_f3_p1</td><td>2</td></tr><tr><td>eval/eval_epoch_f3_p2</td><td>2</td></tr><tr><td>eval/eval_epoch_f3_p3</td><td>2</td></tr><tr><td>eval/eval_epoch_f3_p4</td><td>2</td></tr><tr><td>eval/eval_epoch_f4</td><td>2</td></tr><tr><td>eval/eval_epoch_f4_p0</td><td>2</td></tr><tr><td>eval/eval_epoch_f4_p1</td><td>2</td></tr><tr><td>eval/eval_epoch_f4_p2</td><td>2</td></tr><tr><td>eval/eval_epoch_f4_p3</td><td>2</td></tr><tr><td>eval/eval_epoch_f4_p4</td><td>2</td></tr><tr><td>eval/eval_loss_f0_p0</td><td>0.98066</td></tr><tr><td>eval/eval_loss_f0_p1</td><td>0.99273</td></tr><tr><td>eval/eval_loss_f0_p2</td><td>0.93157</td></tr><tr><td>eval/eval_loss_f0_p3</td><td>0.94966</td></tr><tr><td>eval/eval_loss_f0_p4</td><td>1.03524</td></tr><tr><td>eval/eval_loss_f1_p0</td><td>0.94011</td></tr><tr><td>eval/eval_loss_f1_p1</td><td>0.9754</td></tr><tr><td>eval/eval_loss_f1_p2</td><td>0.97955</td></tr><tr><td>eval/eval_loss_f1_p3</td><td>0.96113</td></tr><tr><td>eval/eval_loss_f1_p4</td><td>0.96181</td></tr><tr><td>eval/eval_loss_f2_p0</td><td>0.96067</td></tr><tr><td>eval/eval_loss_f2_p1</td><td>0.94525</td></tr><tr><td>eval/eval_loss_f2_p2</td><td>0.94432</td></tr><tr><td>eval/eval_loss_f2_p3</td><td>0.96092</td></tr><tr><td>eval/eval_loss_f2_p4</td><td>0.91817</td></tr><tr><td>eval/eval_loss_f3_p0</td><td>0.95944</td></tr><tr><td>eval/eval_loss_f3_p1</td><td>0.96577</td></tr><tr><td>eval/eval_loss_f3_p2</td><td>0.93932</td></tr><tr><td>eval/eval_loss_f3_p3</td><td>0.94286</td></tr><tr><td>eval/eval_loss_f3_p4</td><td>0.97623</td></tr><tr><td>eval/eval_loss_f4_p0</td><td>0.97026</td></tr><tr><td>eval/eval_loss_f4_p1</td><td>0.99882</td></tr><tr><td>eval/eval_loss_f4_p2</td><td>0.98212</td></tr><tr><td>eval/eval_loss_f4_p3</td><td>0.95023</td></tr><tr><td>eval/eval_loss_f4_p4</td><td>0.97815</td></tr><tr><td>eval/qwk_score_f0</td><td>0.75833</td></tr><tr><td>eval/qwk_score_f0_p0</td><td>0.74554</td></tr><tr><td>eval/qwk_score_f0_p1</td><td>0.75453</td></tr><tr><td>eval/qwk_score_f0_p2</td><td>0.79185</td></tr><tr><td>eval/qwk_score_f0_p3</td><td>0.77926</td></tr><tr><td>eval/qwk_score_f0_p4</td><td>0.70939</td></tr><tr><td>eval/qwk_score_f1</td><td>0.7488</td></tr><tr><td>eval/qwk_score_f1_p0</td><td>0.77509</td></tr><tr><td>eval/qwk_score_f1_p1</td><td>0.76095</td></tr><tr><td>eval/qwk_score_f1_p2</td><td>0.75715</td></tr><tr><td>eval/qwk_score_f1_p3</td><td>0.76692</td></tr><tr><td>eval/qwk_score_f1_p4</td><td>0.74145</td></tr><tr><td>eval/qwk_score_f2</td><td>0.77038</td></tr><tr><td>eval/qwk_score_f2_p0</td><td>0.78366</td></tr><tr><td>eval/qwk_score_f2_p1</td><td>0.76902</td></tr><tr><td>eval/qwk_score_f2_p2</td><td>0.75901</td></tr><tr><td>eval/qwk_score_f2_p3</td><td>0.77965</td></tr><tr><td>eval/qwk_score_f2_p4</td><td>0.7979</td></tr><tr><td>eval/qwk_score_f3</td><td>0.78233</td></tr><tr><td>eval/qwk_score_f3_p0</td><td>0.77194</td></tr><tr><td>eval/qwk_score_f3_p1</td><td>0.77684</td></tr><tr><td>eval/qwk_score_f3_p2</td><td>0.80112</td></tr><tr><td>eval/qwk_score_f3_p3</td><td>0.78393</td></tr><tr><td>eval/qwk_score_f3_p4</td><td>0.76737</td></tr><tr><td>eval/qwk_score_f4</td><td>0.75993</td></tr><tr><td>eval/qwk_score_f4_p0</td><td>0.77104</td></tr><tr><td>eval/qwk_score_f4_p1</td><td>0.72674</td></tr><tr><td>eval/qwk_score_f4_p2</td><td>0.76052</td></tr><tr><td>eval/qwk_score_f4_p3</td><td>0.77134</td></tr><tr><td>eval/qwk_score_f4_p4</td><td>0.76504</td></tr><tr><td>train/epoch_f0_p0</td><td>32.73333</td></tr><tr><td>train/epoch_f0_p1</td><td>32.6</td></tr><tr><td>train/epoch_f0_p2</td><td>32.73333</td></tr><tr><td>train/epoch_f0_p3</td><td>32.73333</td></tr><tr><td>train/epoch_f0_p4</td><td>32.73333</td></tr><tr><td>train/epoch_f1_p0</td><td>32.73333</td></tr><tr><td>train/epoch_f1_p1</td><td>32.66667</td></tr><tr><td>train/epoch_f1_p2</td><td>32.66667</td></tr><tr><td>train/epoch_f1_p3</td><td>32.8</td></tr><tr><td>train/epoch_f1_p4</td><td>32.46667</td></tr><tr><td>train/epoch_f2_p0</td><td>32.66667</td></tr><tr><td>train/epoch_f2_p1</td><td>32.6</td></tr><tr><td>train/epoch_f2_p2</td><td>32.66667</td></tr><tr><td>train/epoch_f2_p3</td><td>32.73333</td></tr><tr><td>train/epoch_f2_p4</td><td>32.73333</td></tr><tr><td>train/epoch_f3_p0</td><td>32.8</td></tr><tr><td>train/epoch_f3_p1</td><td>32.8</td></tr><tr><td>train/epoch_f3_p2</td><td>32.86667</td></tr><tr><td>train/epoch_f3_p3</td><td>32.8</td></tr><tr><td>train/epoch_f3_p4</td><td>32.8</td></tr><tr><td>train/epoch_f4_p0</td><td>32.6</td></tr><tr><td>train/epoch_f4_p1</td><td>32.73333</td></tr><tr><td>train/epoch_f4_p2</td><td>32.73333</td></tr><tr><td>train/epoch_f4_p3</td><td>32.73333</td></tr><tr><td>train/epoch_f4_p4</td><td>32.66667</td></tr><tr><td>train/grad_norm_f0_p0</td><td>79549.26562</td></tr><tr><td>train/grad_norm_f0_p1</td><td>115738.75781</td></tr><tr><td>train/grad_norm_f0_p2</td><td>60758.56641</td></tr><tr><td>train/grad_norm_f0_p3</td><td>75580.03906</td></tr><tr><td>train/grad_norm_f0_p4</td><td>157686.5625</td></tr><tr><td>train/grad_norm_f1_p0</td><td>51245.15625</td></tr><tr><td>train/grad_norm_f1_p1</td><td>75459.75781</td></tr><tr><td>train/grad_norm_f1_p2</td><td>52075.46094</td></tr><tr><td>train/grad_norm_f1_p3</td><td>48027.21875</td></tr><tr><td>train/grad_norm_f1_p4</td><td>80847.79688</td></tr><tr><td>train/grad_norm_f2_p0</td><td>45023.33203</td></tr><tr><td>train/grad_norm_f2_p1</td><td>52010.06641</td></tr><tr><td>train/grad_norm_f2_p2</td><td>103775.67188</td></tr><tr><td>train/grad_norm_f2_p3</td><td>74378.25781</td></tr><tr><td>train/grad_norm_f2_p4</td><td>49479.73438</td></tr><tr><td>train/grad_norm_f3_p0</td><td>40398.40625</td></tr><tr><td>train/grad_norm_f3_p1</td><td>107898.75</td></tr><tr><td>train/grad_norm_f3_p2</td><td>83339.36719</td></tr><tr><td>train/grad_norm_f3_p3</td><td>79643.28906</td></tr><tr><td>train/grad_norm_f3_p4</td><td>56493.88672</td></tr><tr><td>train/grad_norm_f4_p0</td><td>57425.00781</td></tr><tr><td>train/grad_norm_f4_p1</td><td>52563.24219</td></tr><tr><td>train/grad_norm_f4_p2</td><td>127067.54688</td></tr><tr><td>train/grad_norm_f4_p3</td><td>125178.39062</td></tr><tr><td>train/grad_norm_f4_p4</td><td>62346.81641</td></tr><tr><td>train/learning_rate_f0_p0</td><td>0.0</td></tr><tr><td>train/learning_rate_f0_p1</td><td>0.0</td></tr><tr><td>train/learning_rate_f0_p2</td><td>0.0</td></tr><tr><td>train/learning_rate_f0_p3</td><td>0.0</td></tr><tr><td>train/learning_rate_f0_p4</td><td>0.0</td></tr><tr><td>train/learning_rate_f1_p0</td><td>0.0</td></tr><tr><td>train/learning_rate_f1_p1</td><td>0.0</td></tr><tr><td>train/learning_rate_f1_p2</td><td>0.0</td></tr><tr><td>train/learning_rate_f1_p3</td><td>0.0</td></tr><tr><td>train/learning_rate_f1_p4</td><td>1e-05</td></tr><tr><td>train/learning_rate_f2_p0</td><td>0.0</td></tr><tr><td>train/learning_rate_f2_p1</td><td>0.0</td></tr><tr><td>train/learning_rate_f2_p2</td><td>0.0</td></tr><tr><td>train/learning_rate_f2_p3</td><td>0.0</td></tr><tr><td>train/learning_rate_f2_p4</td><td>0.0</td></tr><tr><td>train/learning_rate_f3_p0</td><td>0.0</td></tr><tr><td>train/learning_rate_f3_p1</td><td>0.0</td></tr><tr><td>train/learning_rate_f3_p2</td><td>0.0</td></tr><tr><td>train/learning_rate_f3_p3</td><td>0.0</td></tr><tr><td>train/learning_rate_f3_p4</td><td>0.0</td></tr><tr><td>train/learning_rate_f4_p0</td><td>0.0</td></tr><tr><td>train/learning_rate_f4_p1</td><td>0.0</td></tr><tr><td>train/learning_rate_f4_p2</td><td>0.0</td></tr><tr><td>train/learning_rate_f4_p3</td><td>0.0</td></tr><tr><td>train/learning_rate_f4_p4</td><td>0.0</td></tr><tr><td>train/train_loss_f0_p0</td><td>0.9755</td></tr><tr><td>train/train_loss_f0_p1</td><td>0.95711</td></tr><tr><td>train/train_loss_f0_p2</td><td>0.95903</td></tr><tr><td>train/train_loss_f0_p3</td><td>0.95839</td></tr><tr><td>train/train_loss_f0_p4</td><td>0.9779</td></tr><tr><td>train/train_loss_f1_p0</td><td>0.95518</td></tr><tr><td>train/train_loss_f1_p1</td><td>0.9633</td></tr><tr><td>train/train_loss_f1_p2</td><td>0.9585</td></tr><tr><td>train/train_loss_f1_p3</td><td>0.97579</td></tr><tr><td>train/train_loss_f1_p4</td><td>0.98002</td></tr><tr><td>train/train_loss_f2_p0</td><td>0.95994</td></tr><tr><td>train/train_loss_f2_p1</td><td>0.96325</td></tr><tr><td>train/train_loss_f2_p2</td><td>0.94844</td></tr><tr><td>train/train_loss_f2_p3</td><td>0.95347</td></tr><tr><td>train/train_loss_f2_p4</td><td>0.95449</td></tr><tr><td>train/train_loss_f3_p0</td><td>0.93565</td></tr><tr><td>train/train_loss_f3_p1</td><td>0.97551</td></tr><tr><td>train/train_loss_f3_p2</td><td>0.97746</td></tr><tr><td>train/train_loss_f3_p3</td><td>0.95486</td></tr><tr><td>train/train_loss_f3_p4</td><td>0.97181</td></tr><tr><td>train/train_loss_f4_p0</td><td>0.96345</td></tr><tr><td>train/train_loss_f4_p1</td><td>0.97283</td></tr><tr><td>train/train_loss_f4_p2</td><td>0.98803</td></tr><tr><td>train/train_loss_f4_p3</td><td>0.95732</td></tr><tr><td>train/train_loss_f4_p4</td><td>1.01252</td></tr></table><br/></div></div>"
      ],
      "text/plain": [
       "<IPython.core.display.HTML object>"
      ]
     },
     "metadata": {},
     "output_type": "display_data"
    },
    {
     "data": {
      "text/html": [
       " View run <strong style=\"color:#cdcd00\">deberta-v3-xsmall-512-D2-T2</strong> at: <a href='https://wandb.ai/laplacesdemon43/Kaggle_ASE_2.0/runs/h035qv4y' target=\"_blank\">https://wandb.ai/laplacesdemon43/Kaggle_ASE_2.0/runs/h035qv4y</a><br/> View project at: <a href='https://wandb.ai/laplacesdemon43/Kaggle_ASE_2.0' target=\"_blank\">https://wandb.ai/laplacesdemon43/Kaggle_ASE_2.0</a><br/>Synced 5 W&B file(s), 25 media file(s), 25 artifact file(s) and 2 other file(s)"
      ],
      "text/plain": [
       "<IPython.core.display.HTML object>"
      ]
     },
     "metadata": {},
     "output_type": "display_data"
    },
    {
     "data": {
      "text/html": [
       "Find logs at: <code>./wandb/run-20240525_092616-h035qv4y/logs</code>"
      ],
      "text/plain": [
       "<IPython.core.display.HTML object>"
      ]
     },
     "metadata": {},
     "output_type": "display_data"
    }
   ],
   "source": [
    "wandb.finish()"
   ]
  }
 ],
 "metadata": {
  "kernelspec": {
   "display_name": "venv",
   "language": "python",
   "name": "python3"
  },
  "language_info": {
   "codemirror_mode": {
    "name": "ipython",
    "version": 3
   },
   "file_extension": ".py",
   "mimetype": "text/x-python",
   "name": "python",
   "nbconvert_exporter": "python",
   "pygments_lexer": "ipython3",
   "version": "3.11.8"
  }
 },
 "nbformat": 4,
 "nbformat_minor": 2
}
