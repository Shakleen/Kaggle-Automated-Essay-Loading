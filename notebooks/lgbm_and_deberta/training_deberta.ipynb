{
 "cells": [
  {
   "cell_type": "markdown",
   "metadata": {},
   "source": [
    "# 🏋️ Model Training"
   ]
  },
  {
   "cell_type": "markdown",
   "metadata": {},
   "source": [
    "## ⚙️ Setup "
   ]
  },
  {
   "cell_type": "markdown",
   "metadata": {},
   "source": [
    "### 📚 Importing Libraries"
   ]
  },
  {
   "cell_type": "markdown",
   "metadata": {},
   "source": [
    "Importing from packages"
   ]
  },
  {
   "cell_type": "code",
   "execution_count": 1,
   "metadata": {
    "metadata": {}
   },
   "outputs": [],
   "source": [
    "import os\n",
    "import gc\n",
    "import time\n",
    "from dotenv import load_dotenv\n",
    "\n",
    "import pandas as pd\n",
    "import numpy as np\n",
    "import torch\n",
    "from torch import nn\n",
    "import wandb\n",
    "from pprint import pprint\n",
    "import warnings\n",
    "from transformers import AutoTokenizer\n",
    "import math\n",
    "from tqdm import tqdm\n",
    "\n",
    "import matplotlib.pyplot as plt\n",
    "import plotly.express as px\n",
    "import plotly.graph_objects as go\n",
    "from sklearn.metrics import confusion_matrix, ConfusionMatrixDisplay"
   ]
  },
  {
   "cell_type": "code",
   "execution_count": 2,
   "metadata": {},
   "outputs": [
    {
     "data": {
      "text/plain": [
       "True"
      ]
     },
     "execution_count": 2,
     "metadata": {},
     "output_type": "execute_result"
    }
   ],
   "source": [
    "os.chdir(\"../../\")\n",
    "warnings.filterwarnings(\"ignore\")\n",
    "load_dotenv()"
   ]
  },
  {
   "cell_type": "markdown",
   "metadata": {},
   "source": [
    "Importing user defined packages"
   ]
  },
  {
   "cell_type": "code",
   "execution_count": 3,
   "metadata": {},
   "outputs": [],
   "source": [
    "from lib.config import config\n",
    "from lib.paths import Paths\n",
    "from lib.model.utils import get_score, get_model_optimizer_and_scheduler\n",
    "from lib.utils.utils import seed_everything\n",
    "from lib.utils.average_meter import AverageMeter\n",
    "from lib.data_tools.data import collate\n",
    "from lib.model.inference import ensemble_inference\n",
    "from lib.criterion.metrics import log_metrics"
   ]
  },
  {
   "cell_type": "code",
   "execution_count": 4,
   "metadata": {},
   "outputs": [
    {
     "name": "stdout",
     "output_type": "stream",
     "text": [
      "namespace(apex=True,\n",
      "          batch_scheduler=True,\n",
      "          batch_size_train=32,\n",
      "          batch_size_valid=32,\n",
      "          betas=[0.9, 0.999],\n",
      "          data_version=2,\n",
      "          debug=False,\n",
      "          decoder_lr=2e-05,\n",
      "          encoder_lr=2e-05,\n",
      "          epochs=2,\n",
      "          eps=1e-06,\n",
      "          gradient_accumulation_steps=1,\n",
      "          gradient_checkpointing=True,\n",
      "          lgbm_a=2.998,\n",
      "          lgbm_b=1.092,\n",
      "          lgbm_n_folds=15,\n",
      "          max_grad_norm=1000,\n",
      "          max_length=512,\n",
      "          min_lr=1e-06,\n",
      "          model='microsoft/deberta-v3-xsmall',\n",
      "          n_folds=5,\n",
      "          negative_sample=True,\n",
      "          negative_sample_partitions=3,\n",
      "          num_classes=6,\n",
      "          num_cycles=0.5,\n",
      "          num_warmup_steps=0,\n",
      "          num_workers=6,\n",
      "          positive_classes=[0, 5],\n",
      "          negative_classes=[1, 2, 3, 4],\n",
      "          print_freq=6,\n",
      "          random_seed=20,\n",
      "          regression=False,\n",
      "          scheduler='cosine',\n",
      "          stride=192,\n",
      "          tokenizer_version=2,\n",
      "          train=True,\n",
      "          train_folds=[0, 1, 2, 3, 4, 5, 6, 7],\n",
      "          weight_decay=0.01)\n"
     ]
    }
   ],
   "source": [
    "pprint(config)"
   ]
  },
  {
   "cell_type": "code",
   "execution_count": 5,
   "metadata": {},
   "outputs": [],
   "source": [
    "seed_everything()"
   ]
  },
  {
   "cell_type": "code",
   "execution_count": 6,
   "metadata": {},
   "outputs": [
    {
     "name": "stdout",
     "output_type": "stream",
     "text": [
      "env: TOKENIZERS_PARALLELISM=true\n"
     ]
    }
   ],
   "source": [
    "%env TOKENIZERS_PARALLELISM=true"
   ]
  },
  {
   "cell_type": "markdown",
   "metadata": {},
   "source": [
    "### Setting Up WandB"
   ]
  },
  {
   "cell_type": "code",
   "execution_count": 7,
   "metadata": {},
   "outputs": [],
   "source": [
    "WANDB_PROJECT = \"Kaggle_ASE_2.0\"\n",
    "model_name = config.model.split(\"/\")[-1]\n",
    "WANDB_NAME = f\"{model_name}-{config.max_length}-D{config.data_version}-T{config.tokenizer_version}\""
   ]
  },
  {
   "cell_type": "code",
   "execution_count": 8,
   "metadata": {},
   "outputs": [
    {
     "name": "stderr",
     "output_type": "stream",
     "text": [
      "Failed to detect the name of this notebook, you can set it manually with the WANDB_NOTEBOOK_NAME environment variable to enable code saving.\n",
      "\u001b[34m\u001b[1mwandb\u001b[0m: Currently logged in as: \u001b[33mshakleenishfar\u001b[0m (\u001b[33mlaplacesdemon43\u001b[0m). Use \u001b[1m`wandb login --relogin`\u001b[0m to force relogin\n",
      "\u001b[34m\u001b[1mwandb\u001b[0m: \u001b[33mWARNING\u001b[0m If you're specifying your api key in code, ensure this code is not shared publicly.\n",
      "\u001b[34m\u001b[1mwandb\u001b[0m: \u001b[33mWARNING\u001b[0m Consider setting the WANDB_API_KEY environment variable, or running `wandb login` from the command line.\n",
      "\u001b[34m\u001b[1mwandb\u001b[0m: Appending key for api.wandb.ai to your netrc file: /home/ishfar/.netrc\n"
     ]
    },
    {
     "data": {
      "text/html": [
       "wandb version 0.17.0 is available!  To upgrade, please run:\n",
       " $ pip install wandb --upgrade"
      ],
      "text/plain": [
       "<IPython.core.display.HTML object>"
      ]
     },
     "metadata": {},
     "output_type": "display_data"
    },
    {
     "data": {
      "text/html": [
       "Tracking run with wandb version 0.16.6"
      ],
      "text/plain": [
       "<IPython.core.display.HTML object>"
      ]
     },
     "metadata": {},
     "output_type": "display_data"
    },
    {
     "data": {
      "text/html": [
       "Run data is saved locally in <code>/media/ishfar/New Volume/Studies/Projects/Kaggle-Automated-Essay-Scoring/wandb/run-20240526_122232-g2c8mued</code>"
      ],
      "text/plain": [
       "<IPython.core.display.HTML object>"
      ]
     },
     "metadata": {},
     "output_type": "display_data"
    },
    {
     "data": {
      "text/html": [
       "Syncing run <strong><a href='https://wandb.ai/laplacesdemon43/Kaggle_ASE_2.0/runs/g2c8mued' target=\"_blank\">deberta-v3-xsmall-512-D2-T2</a></strong> to <a href='https://wandb.ai/laplacesdemon43/Kaggle_ASE_2.0' target=\"_blank\">Weights & Biases</a> (<a href='https://wandb.me/run' target=\"_blank\">docs</a>)<br/>"
      ],
      "text/plain": [
       "<IPython.core.display.HTML object>"
      ]
     },
     "metadata": {},
     "output_type": "display_data"
    },
    {
     "data": {
      "text/html": [
       " View project at <a href='https://wandb.ai/laplacesdemon43/Kaggle_ASE_2.0' target=\"_blank\">https://wandb.ai/laplacesdemon43/Kaggle_ASE_2.0</a>"
      ],
      "text/plain": [
       "<IPython.core.display.HTML object>"
      ]
     },
     "metadata": {},
     "output_type": "display_data"
    },
    {
     "data": {
      "text/html": [
       " View run at <a href='https://wandb.ai/laplacesdemon43/Kaggle_ASE_2.0/runs/g2c8mued' target=\"_blank\">https://wandb.ai/laplacesdemon43/Kaggle_ASE_2.0/runs/g2c8mued</a>"
      ],
      "text/plain": [
       "<IPython.core.display.HTML object>"
      ]
     },
     "metadata": {},
     "output_type": "display_data"
    }
   ],
   "source": [
    "wandb.login(key=os.environ.get('WANDB_API_KEY'))\n",
    "wandb.init(\n",
    "    project=WANDB_PROJECT,\n",
    "    name=WANDB_NAME,\n",
    "    save_code=True,\n",
    "    job_type=\"train\",\n",
    "    config=config,\n",
    ")\n",
    "config = wandb.config"
   ]
  },
  {
   "cell_type": "markdown",
   "metadata": {},
   "source": [
    "## 📖 Definitions"
   ]
  },
  {
   "cell_type": "markdown",
   "metadata": {},
   "source": [
    "### 🌎 Global Variables"
   ]
  },
  {
   "cell_type": "code",
   "execution_count": 9,
   "metadata": {},
   "outputs": [],
   "source": [
    "device = torch.device('cuda' if torch.cuda.is_available() else 'cpu')"
   ]
  },
  {
   "cell_type": "markdown",
   "metadata": {},
   "source": [
    "The competition data has a class imbalance problem. Which is why I assign higher weights to classes having lower samples."
   ]
  },
  {
   "cell_type": "code",
   "execution_count": 10,
   "metadata": {},
   "outputs": [],
   "source": [
    "class_weights = torch.tensor([1.0] * 6).to(device)"
   ]
  },
  {
   "cell_type": "code",
   "execution_count": 11,
   "metadata": {},
   "outputs": [
    {
     "name": "stderr",
     "output_type": "stream",
     "text": [
      "Special tokens have been added in the vocabulary, make sure the associated word embeddings are fine-tuned or trained.\n"
     ]
    },
    {
     "name": "stdout",
     "output_type": "stream",
     "text": [
      "Total number of tokens in the tokenizer: 128003\n",
      "DebertaV2TokenizerFast(name_or_path='output/microsoft/deberta-v3-xsmall/tokenizer_v2', vocab_size=128000, model_max_length=1000000000000000019884624838656, is_fast=True, padding_side='right', truncation_side='right', special_tokens={'bos_token': '[CLS]', 'eos_token': '[SEP]', 'unk_token': '[UNK]', 'sep_token': '[SEP]', 'pad_token': '[PAD]', 'cls_token': '[CLS]', 'mask_token': '[MASK]'}, clean_up_tokenization_spaces=True),  added_tokens_decoder={\n",
      "\t0: AddedToken(\"[PAD]\", rstrip=False, lstrip=False, single_word=False, normalized=False, special=True),\n",
      "\t1: AddedToken(\"[CLS]\", rstrip=False, lstrip=False, single_word=False, normalized=False, special=True),\n",
      "\t2: AddedToken(\"[SEP]\", rstrip=False, lstrip=False, single_word=False, normalized=False, special=True),\n",
      "\t3: AddedToken(\"[UNK]\", rstrip=False, lstrip=False, single_word=False, normalized=True, special=True),\n",
      "\t128000: AddedToken(\"[MASK]\", rstrip=False, lstrip=False, single_word=False, normalized=False, special=True),\n",
      "\t128001: AddedToken(\"\n",
      "\", rstrip=False, lstrip=False, single_word=False, normalized=False, special=False),\n",
      "\t128002: AddedToken(\"  \", rstrip=False, lstrip=False, single_word=False, normalized=False, special=False),\n",
      "}\n"
     ]
    }
   ],
   "source": [
    "tokenizer = AutoTokenizer.from_pretrained(Paths.TOKENIZER_PATH)\n",
    "vocabulary = tokenizer.get_vocab()\n",
    "total_tokens = len(vocabulary)\n",
    "print(\"Total number of tokens in the tokenizer:\", total_tokens)\n",
    "print(tokenizer)"
   ]
  },
  {
   "cell_type": "code",
   "execution_count": 12,
   "metadata": {},
   "outputs": [],
   "source": [
    "root_data_dir = \"data/lgbm_deberta\""
   ]
  },
  {
   "cell_type": "markdown",
   "metadata": {},
   "source": [
    "### 🛠️ Functions"
   ]
  },
  {
   "cell_type": "code",
   "execution_count": 13,
   "metadata": {},
   "outputs": [],
   "source": [
    "def read_data_for_path(fold, part):\n",
    "    fold_path = os.path.join(root_data_dir, f\"fold_{fold}\")\n",
    "    part_path = os.path.join(fold_path, f\"part_{part}\")\n",
    "\n",
    "    train_loader = torch.load(os.path.join(part_path, f\"train_{fold}_{part}.pth\"))\n",
    "    valid_loader = torch.load(os.path.join(part_path, f\"valid_{fold}_{part}.pth\"))\n",
    "    valid_csv = pd.read_csv(os.path.join(part_path, f\"valid_{fold}_{part}.csv\"), usecols=[\"score\"])\n",
    "\n",
    "    return train_loader, valid_loader, valid_csv.values"
   ]
  },
  {
   "cell_type": "code",
   "execution_count": 14,
   "metadata": {},
   "outputs": [],
   "source": [
    "def get_input_and_labels(batch):\n",
    "    inputs = collate(batch.pop(\"inputs\"))\n",
    "    labels = batch.pop(\"labels\")\n",
    "\n",
    "    for k, v in inputs.items():  # send each tensor value to `device`\n",
    "        inputs[k] = v.to(device)\n",
    "\n",
    "    labels = labels.to(device)  # send labels to `device`\n",
    "\n",
    "    return inputs, labels"
   ]
  },
  {
   "cell_type": "code",
   "execution_count": 15,
   "metadata": {},
   "outputs": [],
   "source": [
    "def grad_step(step, scaler, model, optimizer, scheduler, labels, losses, loss):\n",
    "    if config.gradient_accumulation_steps > 1:\n",
    "        loss = loss / config.gradient_accumulation_steps\n",
    "\n",
    "    losses.update(loss.item(), labels.size(0))  # update loss function tracking\n",
    "    scaler.scale(loss).backward()  # backward propagation pass\n",
    "    grad_norm = torch.nn.utils.clip_grad_norm_(model.parameters(), config.max_grad_norm)\n",
    "\n",
    "    if (step + 1) % config.gradient_accumulation_steps == 0:\n",
    "        scaler.step(optimizer)  # update optimizer parameters\n",
    "        scaler.update()\n",
    "        optimizer.zero_grad()  # zero out the gradients\n",
    "\n",
    "        if config.batch_scheduler:\n",
    "            scheduler.step()  # update learning rate\n",
    "\n",
    "    return grad_norm"
   ]
  },
  {
   "cell_type": "code",
   "execution_count": 16,
   "metadata": {},
   "outputs": [],
   "source": [
    "def log_metrics_training(\n",
    "    fold,\n",
    "    part,\n",
    "    train_loader,\n",
    "    epoch,\n",
    "    scheduler,\n",
    "    losses,\n",
    "    n_steps_per_epoch,\n",
    "    step,\n",
    "    grad_norm,\n",
    "):\n",
    "    if step % config.print_freq == 0 or step == (len(train_loader) - 1):\n",
    "        wandb.log(\n",
    "            {\n",
    "                f\"train/epoch_f{fold}_p{part}\": (step + 1 + (n_steps_per_epoch * epoch))\n",
    "                / n_steps_per_epoch,\n",
    "                f\"train/train_loss_f{fold}_p{part}\": losses.avg,\n",
    "                f\"train/grad_norm_f{fold}_p{part}\": grad_norm,\n",
    "                f\"train/learning_rate_f{fold}_p{part}\": scheduler.get_lr()[0],\n",
    "            }\n",
    "        )"
   ]
  },
  {
   "cell_type": "code",
   "execution_count": 17,
   "metadata": {},
   "outputs": [],
   "source": [
    "def train_epoch(\n",
    "    fold,\n",
    "    part,\n",
    "    train_loader,\n",
    "    model,\n",
    "    criterion,\n",
    "    optimizer,\n",
    "    epoch,\n",
    "    scheduler,\n",
    "):\n",
    "    \"\"\"One epoch training pass.\n",
    "\n",
    "    Source:\n",
    "    https://www.kaggle.com/code/alejopaullier/aes-2-multi-class-classification-train?scriptVersionId=170290107&cellId=26\n",
    "    \"\"\"\n",
    "    model.train()\n",
    "    scaler = torch.cuda.amp.GradScaler(enabled=config.apex)\n",
    "    losses = AverageMeter()  # initiate AverageMeter to track the loss.\n",
    "    n_steps_per_epoch = math.ceil(len(train_loader) / config.batch_size_train)\n",
    "\n",
    "    with tqdm(\n",
    "        train_loader,\n",
    "        unit=\"train_batch\",\n",
    "        desc=f\"Training Fold {fold} Part {part}\",\n",
    "    ) as tqdm_train_loader:\n",
    "        for step, batch in enumerate(tqdm_train_loader):\n",
    "            inputs, labels = get_input_and_labels(batch)\n",
    "\n",
    "            with torch.cuda.amp.autocast(enabled=config.apex):\n",
    "                y_preds = model(inputs)\n",
    "                loss = criterion(y_preds, labels)\n",
    "\n",
    "            grad_norm = grad_step(step, scaler, model, optimizer, scheduler, labels, losses, loss)\n",
    "\n",
    "            log_metrics_training(\n",
    "                fold,\n",
    "                part,\n",
    "                train_loader,\n",
    "                epoch,\n",
    "                scheduler,\n",
    "                losses,\n",
    "                n_steps_per_epoch,\n",
    "                step,\n",
    "                grad_norm,\n",
    "            )\n",
    "\n",
    "    return losses.avg"
   ]
  },
  {
   "cell_type": "code",
   "execution_count": 18,
   "metadata": {},
   "outputs": [],
   "source": [
    "def valid_epoch(fold, part, epoch, valid_loader, model, criterion, valid_labels):\n",
    "    model.eval()\n",
    "    losses = AverageMeter()\n",
    "    softmax = nn.Softmax(dim=1)\n",
    "    prediction_dict = {}\n",
    "    preds = []\n",
    "    ids = []\n",
    "\n",
    "    with tqdm(\n",
    "        valid_loader,\n",
    "        unit=\"valid_batch\",\n",
    "        desc=f\"Validating Fold {fold} Part {part}\",\n",
    "    ) as tqdm_valid_loader:\n",
    "        for _, batch in enumerate(tqdm_valid_loader):\n",
    "            essay_ids = batch.pop(\"essay_ids\")\n",
    "            inputs, labels = get_input_and_labels(batch)\n",
    "\n",
    "            with torch.no_grad():\n",
    "                y_preds = model(inputs)\n",
    "                loss = criterion(y_preds, labels)\n",
    "\n",
    "            if config.gradient_accumulation_steps > 1:\n",
    "                loss = loss / config.gradient_accumulation_steps\n",
    "\n",
    "            losses.update(loss.item(), labels.size(0))\n",
    "            preds.append(y_preds.to(\"cpu\").numpy())\n",
    "            ids.append(essay_ids)\n",
    "\n",
    "    prediction_dict[\"predictions\"] = softmax(torch.tensor(np.concatenate(preds)))\n",
    "    prediction_dict[\"essay_id\"] = np.concatenate(ids)\n",
    "\n",
    "    _, predictions = torch.max(prediction_dict[\"predictions\"], dim=1)\n",
    "\n",
    "    score = get_score(valid_labels, predictions)\n",
    "\n",
    "    wandb.log(\n",
    "        {\n",
    "            f\"eval/eval_epoch_f{fold}_p{part}\": epoch + 1,\n",
    "            f\"eval/eval_loss_f{fold}_p{part}\": losses.avg,\n",
    "            f\"eval/qwk_score_f{fold}_p{part}\": score,\n",
    "        }\n",
    "    )\n",
    "\n",
    "    return losses.avg, score, prediction_dict"
   ]
  },
  {
   "cell_type": "code",
   "execution_count": 19,
   "metadata": {},
   "outputs": [],
   "source": [
    "def get_model_save_path(fold, part):\n",
    "    model_name = f\"{config.model.replace('/', '_')}_fold_{fold}_part_{part}.pth\"\n",
    "    model_fold_path = os.path.join(Paths.MODEL_OUTPUT_PATH, f\"fold_{fold}\")\n",
    "\n",
    "    if not os.path.exists(model_fold_path):\n",
    "        os.makedirs(model_fold_path)\n",
    "\n",
    "    model_save_path = os.path.join(model_fold_path, model_name)\n",
    "    return model_save_path"
   ]
  },
  {
   "cell_type": "code",
   "execution_count": 20,
   "metadata": {},
   "outputs": [],
   "source": [
    "def train_model_part(fold, part):\n",
    "    train_loader, valid_loader, valid_labels = read_data_for_path(fold, part)\n",
    "    model, optimizer, scheduler = get_model_optimizer_and_scheduler(\n",
    "        train_loader, device\n",
    "    )\n",
    "    criterion = nn.CrossEntropyLoss(weight=class_weights)\n",
    "    best_score = -np.inf\n",
    "\n",
    "    for epoch in range(config.epochs):\n",
    "        start_time = time.time()\n",
    "\n",
    "        # ======= TRAIN ==========\n",
    "        avg_loss = train_epoch(\n",
    "            fold,\n",
    "            part,\n",
    "            train_loader,\n",
    "            model,\n",
    "            criterion,\n",
    "            optimizer,\n",
    "            epoch,\n",
    "            scheduler,\n",
    "        )\n",
    "\n",
    "        # ======= EVALUATION ==========\n",
    "        avg_val_loss, score, prediction_dict = valid_epoch(\n",
    "            fold,\n",
    "            part,\n",
    "            epoch,\n",
    "            valid_loader,\n",
    "            model,\n",
    "            criterion,\n",
    "            valid_labels,\n",
    "        )\n",
    "\n",
    "        elapsed = time.time() - start_time\n",
    "\n",
    "        print(\n",
    "            f\"Epoch {epoch+1} - \"\n",
    "            + f\"avg_train_loss: {avg_loss:.4f} \"\n",
    "            + f\"avg_val_loss: {avg_val_loss:.4f} \"\n",
    "            + f\"time: {elapsed:.0f}s \"\n",
    "            + f\"Score: {score:.4f}\"\n",
    "        )\n",
    "\n",
    "        if score > best_score:\n",
    "            best_score = score\n",
    "            print(f\"Epoch {epoch+1} - Save Best Score: {best_score:.4f} Model\")\n",
    "            torch.save({\"model\": model.state_dict()}, get_model_save_path(fold, part))\n",
    "\n",
    "    del model, optimizer, scheduler, criterion\n",
    "    torch.cuda.empty_cache()\n",
    "    gc.collect()\n",
    "\n",
    "    return prediction_dict"
   ]
  },
  {
   "cell_type": "code",
   "execution_count": 21,
   "metadata": {},
   "outputs": [],
   "source": [
    "def evaluate_group(fold, valid_fold, valid_labels, model_paths):\n",
    "    predictions = ensemble_inference(\n",
    "        valid_fold,\n",
    "        tokenizer,\n",
    "        model_paths,\n",
    "        device,\n",
    "        overall=True,\n",
    "        logits=True,\n",
    "    )\n",
    "    score = get_score(valid_labels, predictions[\"score\"])\n",
    "\n",
    "    wandb.log(\n",
    "        {\n",
    "            f\"eval/eval_epoch_f{fold}\": config.epochs,\n",
    "            f\"eval/qwk_score_f{fold}\": score,\n",
    "        }\n",
    "    )\n",
    "    return predictions"
   ]
  },
  {
   "cell_type": "code",
   "execution_count": 22,
   "metadata": {},
   "outputs": [],
   "source": [
    "def parse_prediction_dict(predictions):\n",
    "    temp = {\"essay_id\": predictions[\"essay_id\"]}\n",
    "\n",
    "    for i in range(predictions[\"predictions\"].shape[1]):\n",
    "        temp[f\"score_prob_{i}\"] = predictions[\"predictions\"][:, i]\n",
    "\n",
    "    temp = pd.DataFrame(temp)\n",
    "    return temp"
   ]
  },
  {
   "cell_type": "code",
   "execution_count": 23,
   "metadata": {},
   "outputs": [],
   "source": [
    "def train_all_parts(fold):\n",
    "    model_paths = {\n",
    "        os.path.join(\n",
    "            Paths.MODEL_OUTPUT_PATH,\n",
    "            f\"fold_{fold}/{config.model.replace('/', '_')}_fold_{fold}_part_{part}.pth\",\n",
    "        ): 1\n",
    "        for part in range(config.n_folds)\n",
    "    }\n",
    "\n",
    "    train_oof_df = pd.DataFrame()\n",
    "    for part in range(config.n_folds):\n",
    "        prediction_dict = train_model_part(fold, part)\n",
    "        predictions = parse_prediction_dict(prediction_dict)\n",
    "        train_oof_df = pd.concat([train_oof_df, predictions])\n",
    "\n",
    "    train_oof_df.to_csv(\n",
    "        os.path.join(root_data_dir, f\"fold_{fold}/oof_train_{fold}.csv\"),\n",
    "        index=False,\n",
    "    )\n",
    "\n",
    "    valid_fold = pd.read_csv(\n",
    "        os.path.join(root_data_dir, f\"fold_{fold}/valid_{fold}.csv\")\n",
    "    )\n",
    "    valid_labels = valid_fold[\"score\"].values\n",
    "\n",
    "    group_pred = evaluate_group(fold, valid_fold, valid_labels, model_paths)\n",
    "    valid_fold[\"pred_score\"] = group_pred[\"score\"]\n",
    "    \n",
    "    group_pred.to_csv(\n",
    "        os.path.join(root_data_dir, f\"fold_{fold}/oof_valid_{fold}.csv\"),\n",
    "        index=False,\n",
    "    )\n",
    "\n",
    "    return valid_fold"
   ]
  },
  {
   "cell_type": "code",
   "execution_count": 24,
   "metadata": {},
   "outputs": [],
   "source": [
    "def get_result(oof_df):\n",
    "    labels = oof_df[\"score\"].values\n",
    "    preds = oof_df[\"pred_score\"].values\n",
    "    score = get_score(labels, preds)\n",
    "    print(f'Score: {score:<.4f}')\n",
    "    return score"
   ]
  },
  {
   "cell_type": "markdown",
   "metadata": {},
   "source": [
    "## 🏁 Start Training"
   ]
  },
  {
   "cell_type": "code",
   "execution_count": 25,
   "metadata": {},
   "outputs": [
    {
     "name": "stderr",
     "output_type": "stream",
     "text": [
      "Special tokens have been added in the vocabulary, make sure the associated word embeddings are fine-tuned or trained.\n",
      "Training Fold 0 Part 0: 100%|██████████| 476/476 [02:22<00:00,  3.35train_batch/s]\n",
      "Validating Fold 0 Part 0: 100%|██████████| 119/119 [00:18<00:00,  6.57valid_batch/s]\n"
     ]
    },
    {
     "name": "stdout",
     "output_type": "stream",
     "text": [
      "Epoch 1 - avg_train_loss: 1.2247 avg_val_loss: 0.9967 time: 160s Score: 0.7580\n",
      "Epoch 1 - Save Best Score: 0.7580 Model\n"
     ]
    },
    {
     "name": "stderr",
     "output_type": "stream",
     "text": [
      "Training Fold 0 Part 0: 100%|██████████| 476/476 [02:23<00:00,  3.33train_batch/s]\n",
      "Validating Fold 0 Part 0: 100%|██████████| 119/119 [00:18<00:00,  6.55valid_batch/s]\n"
     ]
    },
    {
     "name": "stdout",
     "output_type": "stream",
     "text": [
      "Epoch 2 - avg_train_loss: 0.9718 avg_val_loss: 0.9784 time: 161s Score: 0.7482\n"
     ]
    },
    {
     "name": "stderr",
     "output_type": "stream",
     "text": [
      "Special tokens have been added in the vocabulary, make sure the associated word embeddings are fine-tuned or trained.\n",
      "Training Fold 0 Part 1: 100%|██████████| 474/474 [02:22<00:00,  3.32train_batch/s]\n",
      "Validating Fold 0 Part 1: 100%|██████████| 121/121 [00:18<00:00,  6.57valid_batch/s]\n"
     ]
    },
    {
     "name": "stdout",
     "output_type": "stream",
     "text": [
      "Epoch 1 - avg_train_loss: 1.2181 avg_val_loss: 1.0430 time: 161s Score: 0.7351\n",
      "Epoch 1 - Save Best Score: 0.7351 Model\n"
     ]
    },
    {
     "name": "stderr",
     "output_type": "stream",
     "text": [
      "Training Fold 0 Part 1: 100%|██████████| 474/474 [02:22<00:00,  3.32train_batch/s]\n",
      "Validating Fold 0 Part 1: 100%|██████████| 121/121 [00:18<00:00,  6.58valid_batch/s]\n"
     ]
    },
    {
     "name": "stdout",
     "output_type": "stream",
     "text": [
      "Epoch 2 - avg_train_loss: 0.9570 avg_val_loss: 0.9927 time: 161s Score: 0.7548\n",
      "Epoch 2 - Save Best Score: 0.7548 Model\n"
     ]
    },
    {
     "name": "stderr",
     "output_type": "stream",
     "text": [
      "Special tokens have been added in the vocabulary, make sure the associated word embeddings are fine-tuned or trained.\n",
      "Training Fold 0 Part 2: 100%|██████████| 476/476 [02:23<00:00,  3.32train_batch/s]\n",
      "Validating Fold 0 Part 2: 100%|██████████| 119/119 [00:18<00:00,  6.58valid_batch/s]\n"
     ]
    },
    {
     "name": "stdout",
     "output_type": "stream",
     "text": [
      "Epoch 1 - avg_train_loss: 1.2331 avg_val_loss: 1.0228 time: 161s Score: 0.7692\n",
      "Epoch 1 - Save Best Score: 0.7692 Model\n"
     ]
    },
    {
     "name": "stderr",
     "output_type": "stream",
     "text": [
      "Training Fold 0 Part 2: 100%|██████████| 476/476 [02:26<00:00,  3.24train_batch/s]\n",
      "Validating Fold 0 Part 2: 100%|██████████| 119/119 [00:18<00:00,  6.58valid_batch/s]\n"
     ]
    },
    {
     "name": "stdout",
     "output_type": "stream",
     "text": [
      "Epoch 2 - avg_train_loss: 0.9559 avg_val_loss: 0.9430 time: 165s Score: 0.7956\n",
      "Epoch 2 - Save Best Score: 0.7956 Model\n"
     ]
    },
    {
     "name": "stderr",
     "output_type": "stream",
     "text": [
      "Special tokens have been added in the vocabulary, make sure the associated word embeddings are fine-tuned or trained.\n",
      "Training Fold 0 Part 3: 100%|██████████| 476/476 [02:23<00:00,  3.32train_batch/s]\n",
      "Validating Fold 0 Part 3: 100%|██████████| 120/120 [00:18<00:00,  6.59valid_batch/s]\n"
     ]
    },
    {
     "name": "stdout",
     "output_type": "stream",
     "text": [
      "Epoch 1 - avg_train_loss: 1.2343 avg_val_loss: 1.0620 time: 161s Score: 0.7729\n",
      "Epoch 1 - Save Best Score: 0.7729 Model\n"
     ]
    },
    {
     "name": "stderr",
     "output_type": "stream",
     "text": [
      "Training Fold 0 Part 3: 100%|██████████| 476/476 [02:23<00:00,  3.32train_batch/s]\n",
      "Validating Fold 0 Part 3: 100%|██████████| 120/120 [00:18<00:00,  6.59valid_batch/s]\n"
     ]
    },
    {
     "name": "stdout",
     "output_type": "stream",
     "text": [
      "Epoch 2 - avg_train_loss: 0.9584 avg_val_loss: 0.9496 time: 161s Score: 0.7790\n",
      "Epoch 2 - Save Best Score: 0.7790 Model\n"
     ]
    },
    {
     "name": "stderr",
     "output_type": "stream",
     "text": [
      "Special tokens have been added in the vocabulary, make sure the associated word embeddings are fine-tuned or trained.\n",
      "Training Fold 0 Part 4: 100%|██████████| 476/476 [02:23<00:00,  3.32train_batch/s]\n",
      "Validating Fold 0 Part 4: 100%|██████████| 119/119 [00:18<00:00,  6.58valid_batch/s]\n"
     ]
    },
    {
     "name": "stdout",
     "output_type": "stream",
     "text": [
      "Epoch 1 - avg_train_loss: 1.2232 avg_val_loss: 1.1210 time: 161s Score: 0.6655\n",
      "Epoch 1 - Save Best Score: 0.6655 Model\n"
     ]
    },
    {
     "name": "stderr",
     "output_type": "stream",
     "text": [
      "Training Fold 0 Part 4: 100%|██████████| 476/476 [02:23<00:00,  3.32train_batch/s]\n",
      "Validating Fold 0 Part 4: 100%|██████████| 119/119 [00:18<00:00,  6.59valid_batch/s]\n"
     ]
    },
    {
     "name": "stdout",
     "output_type": "stream",
     "text": [
      "Epoch 2 - avg_train_loss: 0.9780 avg_val_loss: 1.0340 time: 161s Score: 0.7099\n",
      "Epoch 2 - Save Best Score: 0.7099 Model\n"
     ]
    },
    {
     "name": "stderr",
     "output_type": "stream",
     "text": [
      "Special tokens have been added in the vocabulary, make sure the associated word embeddings are fine-tuned or trained.\n",
      "Model 0 Inference: 100%|██████████| 109/109 [00:18<00:00,  5.84test_batch/s]\n",
      "Special tokens have been added in the vocabulary, make sure the associated word embeddings are fine-tuned or trained.\n",
      "Model 1 Inference: 100%|██████████| 109/109 [00:18<00:00,  5.85test_batch/s]\n",
      "Special tokens have been added in the vocabulary, make sure the associated word embeddings are fine-tuned or trained.\n",
      "Model 2 Inference: 100%|██████████| 109/109 [00:18<00:00,  5.85test_batch/s]\n",
      "Special tokens have been added in the vocabulary, make sure the associated word embeddings are fine-tuned or trained.\n",
      "Model 3 Inference: 100%|██████████| 109/109 [00:18<00:00,  5.84test_batch/s]\n",
      "Special tokens have been added in the vocabulary, make sure the associated word embeddings are fine-tuned or trained.\n",
      "Model 4 Inference: 100%|██████████| 109/109 [00:18<00:00,  5.85test_batch/s]\n"
     ]
    },
    {
     "name": "stdout",
     "output_type": "stream",
     "text": [
      "========== Fold: 0 result ==========\n",
      "Score: 0.7602\n"
     ]
    },
    {
     "name": "stderr",
     "output_type": "stream",
     "text": [
      "Special tokens have been added in the vocabulary, make sure the associated word embeddings are fine-tuned or trained.\n",
      "Training Fold 1 Part 0: 100%|██████████| 476/476 [02:23<00:00,  3.32train_batch/s]\n",
      "Validating Fold 1 Part 0: 100%|██████████| 119/119 [00:18<00:00,  6.58valid_batch/s]\n"
     ]
    },
    {
     "name": "stdout",
     "output_type": "stream",
     "text": [
      "Epoch 1 - avg_train_loss: 1.1945 avg_val_loss: 1.0152 time: 161s Score: 0.7490\n",
      "Epoch 1 - Save Best Score: 0.7490 Model\n"
     ]
    },
    {
     "name": "stderr",
     "output_type": "stream",
     "text": [
      "Training Fold 1 Part 0: 100%|██████████| 476/476 [02:23<00:00,  3.33train_batch/s]\n",
      "Validating Fold 1 Part 0: 100%|██████████| 119/119 [00:18<00:00,  6.58valid_batch/s]\n"
     ]
    },
    {
     "name": "stdout",
     "output_type": "stream",
     "text": [
      "Epoch 2 - avg_train_loss: 0.9561 avg_val_loss: 0.9394 time: 161s Score: 0.7738\n",
      "Epoch 2 - Save Best Score: 0.7738 Model\n"
     ]
    },
    {
     "name": "stderr",
     "output_type": "stream",
     "text": [
      "Special tokens have been added in the vocabulary, make sure the associated word embeddings are fine-tuned or trained.\n",
      "Training Fold 1 Part 1: 100%|██████████| 475/475 [02:26<00:00,  3.24train_batch/s]\n",
      "Validating Fold 1 Part 1: 100%|██████████| 119/119 [00:18<00:00,  6.34valid_batch/s]\n"
     ]
    },
    {
     "name": "stdout",
     "output_type": "stream",
     "text": [
      "Epoch 1 - avg_train_loss: 1.2259 avg_val_loss: 1.0285 time: 165s Score: 0.7558\n",
      "Epoch 1 - Save Best Score: 0.7558 Model\n"
     ]
    },
    {
     "name": "stderr",
     "output_type": "stream",
     "text": [
      "Training Fold 1 Part 1: 100%|██████████| 475/475 [02:36<00:00,  3.03train_batch/s]\n",
      "Validating Fold 1 Part 1: 100%|██████████| 119/119 [00:20<00:00,  5.95valid_batch/s]\n"
     ]
    },
    {
     "name": "stdout",
     "output_type": "stream",
     "text": [
      "Epoch 2 - avg_train_loss: 0.9633 avg_val_loss: 0.9754 time: 177s Score: 0.7609\n",
      "Epoch 2 - Save Best Score: 0.7609 Model\n"
     ]
    },
    {
     "name": "stderr",
     "output_type": "stream",
     "text": [
      "Special tokens have been added in the vocabulary, make sure the associated word embeddings are fine-tuned or trained.\n",
      "Training Fold 1 Part 2: 100%|██████████| 475/475 [02:37<00:00,  3.02train_batch/s]\n",
      "Validating Fold 1 Part 2: 100%|██████████| 119/119 [00:19<00:00,  5.99valid_batch/s]\n"
     ]
    },
    {
     "name": "stdout",
     "output_type": "stream",
     "text": [
      "Epoch 1 - avg_train_loss: 1.2036 avg_val_loss: 1.0815 time: 177s Score: 0.6991\n",
      "Epoch 1 - Save Best Score: 0.6991 Model\n"
     ]
    },
    {
     "name": "stderr",
     "output_type": "stream",
     "text": [
      "Training Fold 1 Part 2: 100%|██████████| 475/475 [02:37<00:00,  3.02train_batch/s]\n",
      "Validating Fold 1 Part 2: 100%|██████████| 119/119 [00:19<00:00,  6.03valid_batch/s]\n"
     ]
    },
    {
     "name": "stdout",
     "output_type": "stream",
     "text": [
      "Epoch 2 - avg_train_loss: 0.9578 avg_val_loss: 0.9802 time: 177s Score: 0.7543\n",
      "Epoch 2 - Save Best Score: 0.7543 Model\n"
     ]
    },
    {
     "name": "stderr",
     "output_type": "stream",
     "text": [
      "Special tokens have been added in the vocabulary, make sure the associated word embeddings are fine-tuned or trained.\n",
      "Training Fold 1 Part 3: 100%|██████████| 477/477 [02:37<00:00,  3.03train_batch/s]\n",
      "Validating Fold 1 Part 3: 100%|██████████| 118/118 [00:19<00:00,  6.01valid_batch/s]\n"
     ]
    },
    {
     "name": "stdout",
     "output_type": "stream",
     "text": [
      "Epoch 1 - avg_train_loss: 1.2194 avg_val_loss: 1.0041 time: 177s Score: 0.7211\n",
      "Epoch 1 - Save Best Score: 0.7211 Model\n"
     ]
    },
    {
     "name": "stderr",
     "output_type": "stream",
     "text": [
      "Training Fold 1 Part 3: 100%|██████████| 477/477 [02:37<00:00,  3.03train_batch/s]\n",
      "Validating Fold 1 Part 3: 100%|██████████| 118/118 [00:19<00:00,  5.98valid_batch/s]\n"
     ]
    },
    {
     "name": "stdout",
     "output_type": "stream",
     "text": [
      "Epoch 2 - avg_train_loss: 0.9753 avg_val_loss: 0.9535 time: 177s Score: 0.7665\n",
      "Epoch 2 - Save Best Score: 0.7665 Model\n"
     ]
    },
    {
     "name": "stderr",
     "output_type": "stream",
     "text": [
      "Special tokens have been added in the vocabulary, make sure the associated word embeddings are fine-tuned or trained.\n",
      "Training Fold 1 Part 4: 100%|██████████| 472/472 [02:30<00:00,  3.13train_batch/s]\n",
      "Validating Fold 1 Part 4: 100%|██████████| 122/122 [00:19<00:00,  6.27valid_batch/s]\n"
     ]
    },
    {
     "name": "stdout",
     "output_type": "stream",
     "text": [
      "Epoch 1 - avg_train_loss: 1.2287 avg_val_loss: 1.0395 time: 170s Score: 0.7206\n",
      "Epoch 1 - Save Best Score: 0.7206 Model\n"
     ]
    },
    {
     "name": "stderr",
     "output_type": "stream",
     "text": [
      "Training Fold 1 Part 4: 100%|██████████| 472/472 [02:31<00:00,  3.12train_batch/s]\n",
      "Validating Fold 1 Part 4: 100%|██████████| 122/122 [00:19<00:00,  6.12valid_batch/s]\n"
     ]
    },
    {
     "name": "stdout",
     "output_type": "stream",
     "text": [
      "Epoch 2 - avg_train_loss: 0.9788 avg_val_loss: 0.9571 time: 171s Score: 0.7447\n",
      "Epoch 2 - Save Best Score: 0.7447 Model\n"
     ]
    },
    {
     "name": "stderr",
     "output_type": "stream",
     "text": [
      "Special tokens have been added in the vocabulary, make sure the associated word embeddings are fine-tuned or trained.\n",
      "Model 0 Inference: 100%|██████████| 109/109 [00:19<00:00,  5.52test_batch/s]\n",
      "Special tokens have been added in the vocabulary, make sure the associated word embeddings are fine-tuned or trained.\n",
      "Model 1 Inference: 100%|██████████| 109/109 [00:18<00:00,  5.78test_batch/s]\n",
      "Special tokens have been added in the vocabulary, make sure the associated word embeddings are fine-tuned or trained.\n",
      "Model 2 Inference: 100%|██████████| 109/109 [00:18<00:00,  5.86test_batch/s]\n",
      "Special tokens have been added in the vocabulary, make sure the associated word embeddings are fine-tuned or trained.\n",
      "Model 3 Inference: 100%|██████████| 109/109 [00:18<00:00,  5.87test_batch/s]\n",
      "Special tokens have been added in the vocabulary, make sure the associated word embeddings are fine-tuned or trained.\n",
      "Model 4 Inference: 100%|██████████| 109/109 [00:18<00:00,  5.86test_batch/s]\n"
     ]
    },
    {
     "name": "stdout",
     "output_type": "stream",
     "text": [
      "========== Fold: 1 result ==========\n",
      "Score: 0.7516\n"
     ]
    },
    {
     "name": "stderr",
     "output_type": "stream",
     "text": [
      "Special tokens have been added in the vocabulary, make sure the associated word embeddings are fine-tuned or trained.\n",
      "Training Fold 2 Part 0: 100%|██████████| 475/475 [02:22<00:00,  3.32train_batch/s]\n",
      "Validating Fold 2 Part 0: 100%|██████████| 120/120 [00:18<00:00,  6.58valid_batch/s]\n"
     ]
    },
    {
     "name": "stdout",
     "output_type": "stream",
     "text": [
      "Epoch 1 - avg_train_loss: 1.2106 avg_val_loss: 1.0338 time: 161s Score: 0.7049\n",
      "Epoch 1 - Save Best Score: 0.7049 Model\n"
     ]
    },
    {
     "name": "stderr",
     "output_type": "stream",
     "text": [
      "Training Fold 2 Part 0: 100%|██████████| 475/475 [02:22<00:00,  3.33train_batch/s]\n",
      "Validating Fold 2 Part 0: 100%|██████████| 120/120 [00:18<00:00,  6.58valid_batch/s]\n"
     ]
    },
    {
     "name": "stdout",
     "output_type": "stream",
     "text": [
      "Epoch 2 - avg_train_loss: 0.9600 avg_val_loss: 0.9607 time: 161s Score: 0.7833\n",
      "Epoch 2 - Save Best Score: 0.7833 Model\n"
     ]
    },
    {
     "name": "stderr",
     "output_type": "stream",
     "text": [
      "Special tokens have been added in the vocabulary, make sure the associated word embeddings are fine-tuned or trained.\n",
      "Training Fold 2 Part 1: 100%|██████████| 474/474 [02:22<00:00,  3.33train_batch/s]\n",
      "Validating Fold 2 Part 1: 100%|██████████| 120/120 [00:18<00:00,  6.55valid_batch/s]\n"
     ]
    },
    {
     "name": "stdout",
     "output_type": "stream",
     "text": [
      "Epoch 1 - avg_train_loss: 1.2182 avg_val_loss: 1.0143 time: 161s Score: 0.7615\n",
      "Epoch 1 - Save Best Score: 0.7615 Model\n"
     ]
    },
    {
     "name": "stderr",
     "output_type": "stream",
     "text": [
      "Training Fold 2 Part 1: 100%|██████████| 474/474 [02:28<00:00,  3.20train_batch/s]\n",
      "Validating Fold 2 Part 1: 100%|██████████| 120/120 [00:18<00:00,  6.56valid_batch/s]\n"
     ]
    },
    {
     "name": "stdout",
     "output_type": "stream",
     "text": [
      "Epoch 2 - avg_train_loss: 0.9634 avg_val_loss: 0.9451 time: 166s Score: 0.7690\n",
      "Epoch 2 - Save Best Score: 0.7690 Model\n"
     ]
    },
    {
     "name": "stderr",
     "output_type": "stream",
     "text": [
      "Special tokens have been added in the vocabulary, make sure the associated word embeddings are fine-tuned or trained.\n",
      "Training Fold 2 Part 2: 100%|██████████| 475/475 [02:22<00:00,  3.33train_batch/s]\n",
      "Validating Fold 2 Part 2: 100%|██████████| 119/119 [00:18<00:00,  6.55valid_batch/s]\n"
     ]
    },
    {
     "name": "stdout",
     "output_type": "stream",
     "text": [
      "Epoch 1 - avg_train_loss: 1.1998 avg_val_loss: 1.0194 time: 161s Score: 0.7205\n",
      "Epoch 1 - Save Best Score: 0.7205 Model\n"
     ]
    },
    {
     "name": "stderr",
     "output_type": "stream",
     "text": [
      "Training Fold 2 Part 2: 100%|██████████| 475/475 [02:22<00:00,  3.33train_batch/s]\n",
      "Validating Fold 2 Part 2: 100%|██████████| 119/119 [00:18<00:00,  6.55valid_batch/s]\n"
     ]
    },
    {
     "name": "stdout",
     "output_type": "stream",
     "text": [
      "Epoch 2 - avg_train_loss: 0.9497 avg_val_loss: 0.9446 time: 161s Score: 0.7594\n",
      "Epoch 2 - Save Best Score: 0.7594 Model\n"
     ]
    },
    {
     "name": "stderr",
     "output_type": "stream",
     "text": [
      "Special tokens have been added in the vocabulary, make sure the associated word embeddings are fine-tuned or trained.\n",
      "Training Fold 2 Part 3: 100%|██████████| 476/476 [02:23<00:00,  3.33train_batch/s]\n",
      "Validating Fold 2 Part 3: 100%|██████████| 119/119 [00:18<00:00,  6.60valid_batch/s]\n"
     ]
    },
    {
     "name": "stdout",
     "output_type": "stream",
     "text": [
      "Epoch 1 - avg_train_loss: 1.1915 avg_val_loss: 1.0507 time: 161s Score: 0.7572\n",
      "Epoch 1 - Save Best Score: 0.7572 Model\n"
     ]
    },
    {
     "name": "stderr",
     "output_type": "stream",
     "text": [
      "Training Fold 2 Part 3: 100%|██████████| 476/476 [02:25<00:00,  3.27train_batch/s]\n",
      "Validating Fold 2 Part 3: 100%|██████████| 119/119 [00:19<00:00,  6.22valid_batch/s]\n"
     ]
    },
    {
     "name": "stdout",
     "output_type": "stream",
     "text": [
      "Epoch 2 - avg_train_loss: 0.9535 avg_val_loss: 0.9609 time: 165s Score: 0.7799\n",
      "Epoch 2 - Save Best Score: 0.7799 Model\n"
     ]
    },
    {
     "name": "stderr",
     "output_type": "stream",
     "text": [
      "Special tokens have been added in the vocabulary, make sure the associated word embeddings are fine-tuned or trained.\n",
      "Training Fold 2 Part 4: 100%|██████████| 476/476 [02:29<00:00,  3.19train_batch/s]\n",
      "Validating Fold 2 Part 4: 100%|██████████| 119/119 [00:18<00:00,  6.56valid_batch/s]\n"
     ]
    },
    {
     "name": "stdout",
     "output_type": "stream",
     "text": [
      "Epoch 1 - avg_train_loss: 1.2295 avg_val_loss: 0.9875 time: 167s Score: 0.7866\n",
      "Epoch 1 - Save Best Score: 0.7866 Model\n"
     ]
    },
    {
     "name": "stderr",
     "output_type": "stream",
     "text": [
      "Training Fold 2 Part 4: 100%|██████████| 476/476 [02:24<00:00,  3.30train_batch/s]\n",
      "Validating Fold 2 Part 4: 100%|██████████| 119/119 [00:19<00:00,  6.05valid_batch/s]\n"
     ]
    },
    {
     "name": "stdout",
     "output_type": "stream",
     "text": [
      "Epoch 2 - avg_train_loss: 0.9545 avg_val_loss: 0.9182 time: 164s Score: 0.7978\n",
      "Epoch 2 - Save Best Score: 0.7978 Model\n"
     ]
    },
    {
     "name": "stderr",
     "output_type": "stream",
     "text": [
      "Special tokens have been added in the vocabulary, make sure the associated word embeddings are fine-tuned or trained.\n",
      "Model 0 Inference: 100%|██████████| 109/109 [00:20<00:00,  5.33test_batch/s]\n",
      "Special tokens have been added in the vocabulary, make sure the associated word embeddings are fine-tuned or trained.\n",
      "Model 1 Inference: 100%|██████████| 109/109 [00:20<00:00,  5.38test_batch/s]\n",
      "Special tokens have been added in the vocabulary, make sure the associated word embeddings are fine-tuned or trained.\n",
      "Model 2 Inference: 100%|██████████| 109/109 [00:20<00:00,  5.40test_batch/s]\n",
      "Special tokens have been added in the vocabulary, make sure the associated word embeddings are fine-tuned or trained.\n",
      "Model 3 Inference: 100%|██████████| 109/109 [00:20<00:00,  5.38test_batch/s]\n",
      "Special tokens have been added in the vocabulary, make sure the associated word embeddings are fine-tuned or trained.\n",
      "Model 4 Inference: 100%|██████████| 109/109 [00:20<00:00,  5.40test_batch/s]\n"
     ]
    },
    {
     "name": "stdout",
     "output_type": "stream",
     "text": [
      "========== Fold: 2 result ==========\n",
      "Score: 0.7699\n"
     ]
    },
    {
     "name": "stderr",
     "output_type": "stream",
     "text": [
      "Special tokens have been added in the vocabulary, make sure the associated word embeddings are fine-tuned or trained.\n",
      "Training Fold 3 Part 0: 100%|██████████| 477/477 [02:35<00:00,  3.06train_batch/s]\n",
      "Validating Fold 3 Part 0: 100%|██████████| 120/120 [00:19<00:00,  6.07valid_batch/s]\n"
     ]
    },
    {
     "name": "stdout",
     "output_type": "stream",
     "text": [
      "Epoch 1 - avg_train_loss: 1.2112 avg_val_loss: 0.9962 time: 176s Score: 0.7362\n",
      "Epoch 1 - Save Best Score: 0.7362 Model\n"
     ]
    },
    {
     "name": "stderr",
     "output_type": "stream",
     "text": [
      "Training Fold 3 Part 0: 100%|██████████| 477/477 [02:33<00:00,  3.11train_batch/s]\n",
      "Validating Fold 3 Part 0: 100%|██████████| 120/120 [00:18<00:00,  6.35valid_batch/s]\n"
     ]
    },
    {
     "name": "stdout",
     "output_type": "stream",
     "text": [
      "Epoch 2 - avg_train_loss: 0.9356 avg_val_loss: 0.9594 time: 172s Score: 0.7723\n",
      "Epoch 2 - Save Best Score: 0.7723 Model\n"
     ]
    },
    {
     "name": "stderr",
     "output_type": "stream",
     "text": [
      "Special tokens have been added in the vocabulary, make sure the associated word embeddings are fine-tuned or trained.\n",
      "Training Fold 3 Part 1: 100%|██████████| 477/477 [02:26<00:00,  3.26train_batch/s]\n",
      "Validating Fold 3 Part 1: 100%|██████████| 120/120 [00:18<00:00,  6.35valid_batch/s]\n"
     ]
    },
    {
     "name": "stdout",
     "output_type": "stream",
     "text": [
      "Epoch 1 - avg_train_loss: 1.2199 avg_val_loss: 1.0251 time: 165s Score: 0.7272\n",
      "Epoch 1 - Save Best Score: 0.7272 Model\n"
     ]
    },
    {
     "name": "stderr",
     "output_type": "stream",
     "text": [
      "Training Fold 3 Part 1: 100%|██████████| 477/477 [02:32<00:00,  3.13train_batch/s]\n",
      "Validating Fold 3 Part 1: 100%|██████████| 120/120 [00:19<00:00,  6.13valid_batch/s]\n"
     ]
    },
    {
     "name": "stdout",
     "output_type": "stream",
     "text": [
      "Epoch 2 - avg_train_loss: 0.9756 avg_val_loss: 0.9661 time: 172s Score: 0.7775\n",
      "Epoch 2 - Save Best Score: 0.7775 Model\n"
     ]
    },
    {
     "name": "stderr",
     "output_type": "stream",
     "text": [
      "Special tokens have been added in the vocabulary, make sure the associated word embeddings are fine-tuned or trained.\n",
      "Training Fold 3 Part 2: 100%|██████████| 478/478 [02:33<00:00,  3.11train_batch/s]\n",
      "Validating Fold 3 Part 2: 100%|██████████| 119/119 [00:19<00:00,  6.17valid_batch/s]\n"
     ]
    },
    {
     "name": "stdout",
     "output_type": "stream",
     "text": [
      "Epoch 1 - avg_train_loss: 1.1791 avg_val_loss: 0.9770 time: 173s Score: 0.7551\n",
      "Epoch 1 - Save Best Score: 0.7551 Model\n"
     ]
    },
    {
     "name": "stderr",
     "output_type": "stream",
     "text": [
      "Training Fold 3 Part 2: 100%|██████████| 478/478 [02:35<00:00,  3.07train_batch/s]\n",
      "Validating Fold 3 Part 2: 100%|██████████| 119/119 [00:19<00:00,  6.01valid_batch/s]\n"
     ]
    },
    {
     "name": "stdout",
     "output_type": "stream",
     "text": [
      "Epoch 2 - avg_train_loss: 0.9807 avg_val_loss: 0.9341 time: 175s Score: 0.7972\n",
      "Epoch 2 - Save Best Score: 0.7972 Model\n"
     ]
    },
    {
     "name": "stderr",
     "output_type": "stream",
     "text": [
      "Special tokens have been added in the vocabulary, make sure the associated word embeddings are fine-tuned or trained.\n",
      "Training Fold 3 Part 3: 100%|██████████| 477/477 [02:27<00:00,  3.23train_batch/s]\n",
      "Validating Fold 3 Part 3: 100%|██████████| 120/120 [00:18<00:00,  6.57valid_batch/s]\n"
     ]
    },
    {
     "name": "stdout",
     "output_type": "stream",
     "text": [
      "Epoch 1 - avg_train_loss: 1.1889 avg_val_loss: 1.0525 time: 166s Score: 0.7582\n",
      "Epoch 1 - Save Best Score: 0.7582 Model\n"
     ]
    },
    {
     "name": "stderr",
     "output_type": "stream",
     "text": [
      "Training Fold 3 Part 3: 100%|██████████| 477/477 [02:23<00:00,  3.33train_batch/s]\n",
      "Validating Fold 3 Part 3: 100%|██████████| 120/120 [00:18<00:00,  6.57valid_batch/s]\n"
     ]
    },
    {
     "name": "stdout",
     "output_type": "stream",
     "text": [
      "Epoch 2 - avg_train_loss: 0.9575 avg_val_loss: 0.9442 time: 162s Score: 0.7837\n",
      "Epoch 2 - Save Best Score: 0.7837 Model\n"
     ]
    },
    {
     "name": "stderr",
     "output_type": "stream",
     "text": [
      "Special tokens have been added in the vocabulary, make sure the associated word embeddings are fine-tuned or trained.\n",
      "Training Fold 3 Part 4: 100%|██████████| 477/477 [02:23<00:00,  3.33train_batch/s]\n",
      "Validating Fold 3 Part 4: 100%|██████████| 120/120 [00:18<00:00,  6.56valid_batch/s]\n"
     ]
    },
    {
     "name": "stdout",
     "output_type": "stream",
     "text": [
      "Epoch 1 - avg_train_loss: 1.1777 avg_val_loss: 1.0272 time: 162s Score: 0.7667\n",
      "Epoch 1 - Save Best Score: 0.7667 Model\n"
     ]
    },
    {
     "name": "stderr",
     "output_type": "stream",
     "text": [
      "Training Fold 3 Part 4: 100%|██████████| 477/477 [02:23<00:00,  3.32train_batch/s]\n",
      "Validating Fold 3 Part 4: 100%|██████████| 120/120 [00:18<00:00,  6.56valid_batch/s]\n"
     ]
    },
    {
     "name": "stdout",
     "output_type": "stream",
     "text": [
      "Epoch 2 - avg_train_loss: 0.9718 avg_val_loss: 0.9762 time: 162s Score: 0.7678\n",
      "Epoch 2 - Save Best Score: 0.7678 Model\n"
     ]
    },
    {
     "name": "stderr",
     "output_type": "stream",
     "text": [
      "Special tokens have been added in the vocabulary, make sure the associated word embeddings are fine-tuned or trained.\n",
      "Model 0 Inference: 100%|██████████| 109/109 [00:18<00:00,  5.84test_batch/s]\n",
      "Special tokens have been added in the vocabulary, make sure the associated word embeddings are fine-tuned or trained.\n",
      "Model 1 Inference: 100%|██████████| 109/109 [00:18<00:00,  5.85test_batch/s]\n",
      "Special tokens have been added in the vocabulary, make sure the associated word embeddings are fine-tuned or trained.\n",
      "Model 2 Inference: 100%|██████████| 109/109 [00:18<00:00,  5.84test_batch/s]\n",
      "Special tokens have been added in the vocabulary, make sure the associated word embeddings are fine-tuned or trained.\n",
      "Model 3 Inference: 100%|██████████| 109/109 [00:18<00:00,  5.84test_batch/s]\n",
      "Special tokens have been added in the vocabulary, make sure the associated word embeddings are fine-tuned or trained.\n",
      "Model 4 Inference: 100%|██████████| 109/109 [00:18<00:00,  5.84test_batch/s]\n"
     ]
    },
    {
     "name": "stdout",
     "output_type": "stream",
     "text": [
      "========== Fold: 3 result ==========\n",
      "Score: 0.7813\n"
     ]
    },
    {
     "name": "stderr",
     "output_type": "stream",
     "text": [
      "Special tokens have been added in the vocabulary, make sure the associated word embeddings are fine-tuned or trained.\n",
      "Training Fold 4 Part 0: 100%|██████████| 474/474 [02:22<00:00,  3.32train_batch/s]\n",
      "Validating Fold 4 Part 0: 100%|██████████| 121/121 [00:18<00:00,  6.59valid_batch/s]\n"
     ]
    },
    {
     "name": "stdout",
     "output_type": "stream",
     "text": [
      "Epoch 1 - avg_train_loss: 1.2120 avg_val_loss: 1.0122 time: 161s Score: 0.7520\n",
      "Epoch 1 - Save Best Score: 0.7520 Model\n"
     ]
    },
    {
     "name": "stderr",
     "output_type": "stream",
     "text": [
      "Training Fold 4 Part 0: 100%|██████████| 474/474 [02:22<00:00,  3.33train_batch/s]\n",
      "Validating Fold 4 Part 0: 100%|██████████| 121/121 [00:18<00:00,  6.56valid_batch/s]\n"
     ]
    },
    {
     "name": "stdout",
     "output_type": "stream",
     "text": [
      "Epoch 2 - avg_train_loss: 0.9634 avg_val_loss: 0.9702 time: 161s Score: 0.7710\n",
      "Epoch 2 - Save Best Score: 0.7710 Model\n"
     ]
    },
    {
     "name": "stderr",
     "output_type": "stream",
     "text": [
      "Special tokens have been added in the vocabulary, make sure the associated word embeddings are fine-tuned or trained.\n",
      "Training Fold 4 Part 1: 100%|██████████| 476/476 [02:23<00:00,  3.33train_batch/s]\n",
      "Validating Fold 4 Part 1: 100%|██████████| 119/119 [00:18<00:00,  6.54valid_batch/s]\n"
     ]
    },
    {
     "name": "stdout",
     "output_type": "stream",
     "text": [
      "Epoch 1 - avg_train_loss: 1.2176 avg_val_loss: 1.0097 time: 161s Score: 0.7612\n",
      "Epoch 1 - Save Best Score: 0.7612 Model\n"
     ]
    },
    {
     "name": "stderr",
     "output_type": "stream",
     "text": [
      "Training Fold 4 Part 1: 100%|██████████| 476/476 [02:23<00:00,  3.33train_batch/s]\n",
      "Validating Fold 4 Part 1: 100%|██████████| 119/119 [00:18<00:00,  6.55valid_batch/s]\n"
     ]
    },
    {
     "name": "stdout",
     "output_type": "stream",
     "text": [
      "Epoch 2 - avg_train_loss: 0.9728 avg_val_loss: 0.9988 time: 161s Score: 0.7267\n"
     ]
    },
    {
     "name": "stderr",
     "output_type": "stream",
     "text": [
      "Special tokens have been added in the vocabulary, make sure the associated word embeddings are fine-tuned or trained.\n",
      "Training Fold 4 Part 2: 100%|██████████| 476/476 [02:23<00:00,  3.33train_batch/s]\n",
      "Validating Fold 4 Part 2: 100%|██████████| 119/119 [00:18<00:00,  6.56valid_batch/s]\n"
     ]
    },
    {
     "name": "stdout",
     "output_type": "stream",
     "text": [
      "Epoch 1 - avg_train_loss: 1.2169 avg_val_loss: 1.0739 time: 161s Score: 0.6817\n",
      "Epoch 1 - Save Best Score: 0.6817 Model\n"
     ]
    },
    {
     "name": "stderr",
     "output_type": "stream",
     "text": [
      "Training Fold 4 Part 2: 100%|██████████| 476/476 [02:23<00:00,  3.33train_batch/s]\n",
      "Validating Fold 4 Part 2: 100%|██████████| 119/119 [00:18<00:00,  6.57valid_batch/s]\n"
     ]
    },
    {
     "name": "stdout",
     "output_type": "stream",
     "text": [
      "Epoch 2 - avg_train_loss: 0.9886 avg_val_loss: 0.9861 time: 161s Score: 0.7593\n",
      "Epoch 2 - Save Best Score: 0.7593 Model\n"
     ]
    },
    {
     "name": "stderr",
     "output_type": "stream",
     "text": [
      "Special tokens have been added in the vocabulary, make sure the associated word embeddings are fine-tuned or trained.\n",
      "Training Fold 4 Part 3: 100%|██████████| 476/476 [02:23<00:00,  3.32train_batch/s]\n",
      "Validating Fold 4 Part 3: 100%|██████████| 119/119 [00:18<00:00,  6.58valid_batch/s]\n"
     ]
    },
    {
     "name": "stdout",
     "output_type": "stream",
     "text": [
      "Epoch 1 - avg_train_loss: 1.2178 avg_val_loss: 1.0470 time: 161s Score: 0.7257\n",
      "Epoch 1 - Save Best Score: 0.7257 Model\n"
     ]
    },
    {
     "name": "stderr",
     "output_type": "stream",
     "text": [
      "Training Fold 4 Part 3: 100%|██████████| 476/476 [02:23<00:00,  3.33train_batch/s]\n",
      "Validating Fold 4 Part 3: 100%|██████████| 119/119 [00:18<00:00,  6.58valid_batch/s]\n"
     ]
    },
    {
     "name": "stdout",
     "output_type": "stream",
     "text": [
      "Epoch 2 - avg_train_loss: 0.9573 avg_val_loss: 0.9503 time: 161s Score: 0.7715\n",
      "Epoch 2 - Save Best Score: 0.7715 Model\n"
     ]
    },
    {
     "name": "stderr",
     "output_type": "stream",
     "text": [
      "Special tokens have been added in the vocabulary, make sure the associated word embeddings are fine-tuned or trained.\n",
      "Training Fold 4 Part 4: 100%|██████████| 475/475 [02:22<00:00,  3.33train_batch/s]\n",
      "Validating Fold 4 Part 4: 100%|██████████| 120/120 [00:18<00:00,  6.57valid_batch/s]\n"
     ]
    },
    {
     "name": "stdout",
     "output_type": "stream",
     "text": [
      "Epoch 1 - avg_train_loss: 1.1938 avg_val_loss: 1.0612 time: 161s Score: 0.7261\n",
      "Epoch 1 - Save Best Score: 0.7261 Model\n"
     ]
    },
    {
     "name": "stderr",
     "output_type": "stream",
     "text": [
      "Training Fold 4 Part 4: 100%|██████████| 475/475 [02:22<00:00,  3.33train_batch/s]\n",
      "Validating Fold 4 Part 4: 100%|██████████| 120/120 [00:18<00:00,  6.58valid_batch/s]\n"
     ]
    },
    {
     "name": "stdout",
     "output_type": "stream",
     "text": [
      "Epoch 2 - avg_train_loss: 0.9738 avg_val_loss: 0.9694 time: 161s Score: 0.7728\n",
      "Epoch 2 - Save Best Score: 0.7728 Model\n"
     ]
    },
    {
     "name": "stderr",
     "output_type": "stream",
     "text": [
      "Special tokens have been added in the vocabulary, make sure the associated word embeddings are fine-tuned or trained.\n",
      "Model 0 Inference: 100%|██████████| 109/109 [00:18<00:00,  5.83test_batch/s]\n",
      "Special tokens have been added in the vocabulary, make sure the associated word embeddings are fine-tuned or trained.\n",
      "Model 1 Inference: 100%|██████████| 109/109 [00:18<00:00,  5.83test_batch/s]\n",
      "Special tokens have been added in the vocabulary, make sure the associated word embeddings are fine-tuned or trained.\n",
      "Model 2 Inference: 100%|██████████| 109/109 [00:18<00:00,  5.84test_batch/s]\n",
      "Special tokens have been added in the vocabulary, make sure the associated word embeddings are fine-tuned or trained.\n",
      "Model 3 Inference: 100%|██████████| 109/109 [00:18<00:00,  5.84test_batch/s]\n",
      "Special tokens have been added in the vocabulary, make sure the associated word embeddings are fine-tuned or trained.\n",
      "Model 4 Inference: 100%|██████████| 109/109 [00:18<00:00,  5.83test_batch/s]\n"
     ]
    },
    {
     "name": "stdout",
     "output_type": "stream",
     "text": [
      "========== Fold: 4 result ==========\n",
      "Score: 0.7611\n",
      "========== CV ==========\n",
      "Score: 0.7650\n"
     ]
    }
   ],
   "source": [
    "if config.train:\n",
    "    oof_df = pd.DataFrame()\n",
    "\n",
    "    for fold in range(config.n_folds):\n",
    "        if fold in config.train_folds:\n",
    "            _oof_df = train_all_parts(fold)\n",
    "            log_metrics(_oof_df, f\"Fold {fold}\")\n",
    "            oof_df = pd.concat([oof_df, _oof_df])\n",
    "            print(f\"========== Fold: {fold} result ==========\")\n",
    "            get_result(_oof_df)\n",
    "\n",
    "    oof_df = oof_df.reset_index(drop=True)\n",
    "    print(f\"========== CV ==========\")\n",
    "    score = get_result(oof_df)\n",
    "    wandb.log({\"CV/qwk_score\": score})\n",
    "    oof_df.to_csv(\"data/lgbm_deberta/oof_df.csv\", index=False)"
   ]
  },
  {
   "cell_type": "code",
   "execution_count": 26,
   "metadata": {},
   "outputs": [],
   "source": [
    "wandb.log({\"oof_table\": wandb.Table(dataframe=oof_df)})"
   ]
  },
  {
   "cell_type": "markdown",
   "metadata": {},
   "source": [
    "## Evaluate"
   ]
  },
  {
   "cell_type": "code",
   "execution_count": 27,
   "metadata": {},
   "outputs": [],
   "source": [
    "log_metrics(oof_df, \"Overall\")"
   ]
  },
  {
   "cell_type": "markdown",
   "metadata": {},
   "source": [
    "### Confusion Matrix"
   ]
  },
  {
   "cell_type": "code",
   "execution_count": 28,
   "metadata": {},
   "outputs": [
    {
     "data": {
      "image/png": "[encoded data removed]",
      "text/plain": [
       "<Figure size 640x480 with 2 Axes>"
      ]
     },
     "metadata": {},
     "output_type": "display_data"
    }
   ],
   "source": [
    "cm = confusion_matrix(oof_df[\"score\"], oof_df[\"pred_score\"])\n",
    "disp = ConfusionMatrixDisplay(confusion_matrix=cm, display_labels=list(range(config.num_classes)))\n",
    "\n",
    "# Plot the confusion matrix\n",
    "disp.plot(cmap='viridis', values_format='d')\n",
    "plt.title(\"Confusion Matrix\")\n",
    "plt.show()"
   ]
  },
  {
   "cell_type": "markdown",
   "metadata": {},
   "source": [
    "Finish experiment"
   ]
  },
  {
   "cell_type": "code",
   "execution_count": 29,
   "metadata": {},
   "outputs": [
    {
     "data": {
      "application/vnd.jupyter.widget-view+json": {
       "model_id": "060d0f03cb1b4897abe6afe407fd9917",
       "version_major": 2,
       "version_minor": 0
      },
      "text/plain": [
       "VBox(children=(Label(value='54.984 MB of 54.984 MB uploaded\\r'), FloatProgress(value=1.0, max=1.0)))"
      ]
     },
     "metadata": {},
     "output_type": "display_data"
    },
    {
     "data": {
      "text/html": [
       "<style>\n",
       "    table.wandb td:nth-child(1) { padding: 0 10px; text-align: left ; width: auto;} td:nth-child(2) {text-align: left ; width: 100%}\n",
       "    .wandb-row { display: flex; flex-direction: row; flex-wrap: wrap; justify-content: flex-start; width: 100% }\n",
       "    .wandb-col { display: flex; flex-direction: column; flex-basis: 100%; flex: 1; padding: 10px; }\n",
       "    </style>\n",
       "<div class=\"wandb-row\"><div class=\"wandb-col\"><h3>Run history:</h3><br/><table class=\"wandb\"><tr><td>CV/qwk_score</td><td>▁</td></tr><tr><td>eval/eval_epoch_f0</td><td>▁</td></tr><tr><td>eval/eval_epoch_f0_p0</td><td>▁█</td></tr><tr><td>eval/eval_epoch_f0_p1</td><td>▁█</td></tr><tr><td>eval/eval_epoch_f0_p2</td><td>▁█</td></tr><tr><td>eval/eval_epoch_f0_p3</td><td>▁█</td></tr><tr><td>eval/eval_epoch_f0_p4</td><td>▁█</td></tr><tr><td>eval/eval_epoch_f1</td><td>▁</td></tr><tr><td>eval/eval_epoch_f1_p0</td><td>▁█</td></tr><tr><td>eval/eval_epoch_f1_p1</td><td>▁█</td></tr><tr><td>eval/eval_epoch_f1_p2</td><td>▁█</td></tr><tr><td>eval/eval_epoch_f1_p3</td><td>▁█</td></tr><tr><td>eval/eval_epoch_f1_p4</td><td>▁█</td></tr><tr><td>eval/eval_epoch_f2</td><td>▁</td></tr><tr><td>eval/eval_epoch_f2_p0</td><td>▁█</td></tr><tr><td>eval/eval_epoch_f2_p1</td><td>▁█</td></tr><tr><td>eval/eval_epoch_f2_p2</td><td>▁█</td></tr><tr><td>eval/eval_epoch_f2_p3</td><td>▁█</td></tr><tr><td>eval/eval_epoch_f2_p4</td><td>▁█</td></tr><tr><td>eval/eval_epoch_f3</td><td>▁</td></tr><tr><td>eval/eval_epoch_f3_p0</td><td>▁█</td></tr><tr><td>eval/eval_epoch_f3_p1</td><td>▁█</td></tr><tr><td>eval/eval_epoch_f3_p2</td><td>▁█</td></tr><tr><td>eval/eval_epoch_f3_p3</td><td>▁█</td></tr><tr><td>eval/eval_epoch_f3_p4</td><td>▁█</td></tr><tr><td>eval/eval_epoch_f4</td><td>▁</td></tr><tr><td>eval/eval_epoch_f4_p0</td><td>▁█</td></tr><tr><td>eval/eval_epoch_f4_p1</td><td>▁█</td></tr><tr><td>eval/eval_epoch_f4_p2</td><td>▁█</td></tr><tr><td>eval/eval_epoch_f4_p3</td><td>▁█</td></tr><tr><td>eval/eval_epoch_f4_p4</td><td>▁█</td></tr><tr><td>eval/eval_loss_f0_p0</td><td>█▁</td></tr><tr><td>eval/eval_loss_f0_p1</td><td>█▁</td></tr><tr><td>eval/eval_loss_f0_p2</td><td>█▁</td></tr><tr><td>eval/eval_loss_f0_p3</td><td>█▁</td></tr><tr><td>eval/eval_loss_f0_p4</td><td>█▁</td></tr><tr><td>eval/eval_loss_f1_p0</td><td>█▁</td></tr><tr><td>eval/eval_loss_f1_p1</td><td>█▁</td></tr><tr><td>eval/eval_loss_f1_p2</td><td>█▁</td></tr><tr><td>eval/eval_loss_f1_p3</td><td>█▁</td></tr><tr><td>eval/eval_loss_f1_p4</td><td>█▁</td></tr><tr><td>eval/eval_loss_f2_p0</td><td>█▁</td></tr><tr><td>eval/eval_loss_f2_p1</td><td>█▁</td></tr><tr><td>eval/eval_loss_f2_p2</td><td>█▁</td></tr><tr><td>eval/eval_loss_f2_p3</td><td>█▁</td></tr><tr><td>eval/eval_loss_f2_p4</td><td>█▁</td></tr><tr><td>eval/eval_loss_f3_p0</td><td>█▁</td></tr><tr><td>eval/eval_loss_f3_p1</td><td>█▁</td></tr><tr><td>eval/eval_loss_f3_p2</td><td>█▁</td></tr><tr><td>eval/eval_loss_f3_p3</td><td>█▁</td></tr><tr><td>eval/eval_loss_f3_p4</td><td>█▁</td></tr><tr><td>eval/eval_loss_f4_p0</td><td>█▁</td></tr><tr><td>eval/eval_loss_f4_p1</td><td>█▁</td></tr><tr><td>eval/eval_loss_f4_p2</td><td>█▁</td></tr><tr><td>eval/eval_loss_f4_p3</td><td>█▁</td></tr><tr><td>eval/eval_loss_f4_p4</td><td>█▁</td></tr><tr><td>eval/qwk_score_f0</td><td>▁</td></tr><tr><td>eval/qwk_score_f0_p0</td><td>█▁</td></tr><tr><td>eval/qwk_score_f0_p1</td><td>▁█</td></tr><tr><td>eval/qwk_score_f0_p2</td><td>▁█</td></tr><tr><td>eval/qwk_score_f0_p3</td><td>▁█</td></tr><tr><td>eval/qwk_score_f0_p4</td><td>▁█</td></tr><tr><td>eval/qwk_score_f1</td><td>▁</td></tr><tr><td>eval/qwk_score_f1_p0</td><td>▁█</td></tr><tr><td>eval/qwk_score_f1_p1</td><td>▁█</td></tr><tr><td>eval/qwk_score_f1_p2</td><td>▁█</td></tr><tr><td>eval/qwk_score_f1_p3</td><td>▁█</td></tr><tr><td>eval/qwk_score_f1_p4</td><td>▁█</td></tr><tr><td>eval/qwk_score_f2</td><td>▁</td></tr><tr><td>eval/qwk_score_f2_p0</td><td>▁█</td></tr><tr><td>eval/qwk_score_f2_p1</td><td>▁█</td></tr><tr><td>eval/qwk_score_f2_p2</td><td>▁█</td></tr><tr><td>eval/qwk_score_f2_p3</td><td>▁█</td></tr><tr><td>eval/qwk_score_f2_p4</td><td>▁█</td></tr><tr><td>eval/qwk_score_f3</td><td>▁</td></tr><tr><td>eval/qwk_score_f3_p0</td><td>▁█</td></tr><tr><td>eval/qwk_score_f3_p1</td><td>▁█</td></tr><tr><td>eval/qwk_score_f3_p2</td><td>▁█</td></tr><tr><td>eval/qwk_score_f3_p3</td><td>▁█</td></tr><tr><td>eval/qwk_score_f3_p4</td><td>▁█</td></tr><tr><td>eval/qwk_score_f4</td><td>▁</td></tr><tr><td>eval/qwk_score_f4_p0</td><td>▁█</td></tr><tr><td>eval/qwk_score_f4_p1</td><td>█▁</td></tr><tr><td>eval/qwk_score_f4_p2</td><td>▁█</td></tr><tr><td>eval/qwk_score_f4_p3</td><td>▁█</td></tr><tr><td>eval/qwk_score_f4_p4</td><td>▁█</td></tr><tr><td>train/epoch_f0_p0</td><td>▁▁▂▂▂▃▃▃▄▄▄▅▅▆▆▆▇▇▇█▁▂▂▂▃▃▃▄▄▄▅▅▅▆▆▇▇▇██</td></tr><tr><td>train/epoch_f0_p1</td><td>▁▁▂▂▂▃▃▃▄▄▄▅▅▆▆▆▇▇▇█▁▂▂▂▃▃▃▄▄▄▅▅▅▆▆▆▇▇▇█</td></tr><tr><td>train/epoch_f0_p2</td><td>▁▁▂▂▂▃▃▃▄▄▄▅▅▆▆▆▇▇▇█▁▂▂▂▃▃▃▄▄▄▅▅▅▆▆▇▇▇██</td></tr><tr><td>train/epoch_f0_p3</td><td>▁▁▂▂▂▃▃▃▄▄▄▅▅▆▆▆▇▇▇█▁▂▂▂▃▃▃▄▄▄▅▅▅▆▆▇▇▇██</td></tr><tr><td>train/epoch_f0_p4</td><td>▁▁▂▂▂▃▃▃▄▄▄▅▅▆▆▆▇▇▇█▁▂▂▂▃▃▃▄▄▄▅▅▅▆▆▇▇▇██</td></tr><tr><td>train/epoch_f1_p0</td><td>▁▁▂▂▂▃▃▃▄▄▄▅▅▆▆▆▇▇▇█▁▂▂▂▃▃▃▄▄▄▅▅▅▆▆▇▇▇██</td></tr><tr><td>train/epoch_f1_p1</td><td>▁▁▂▂▂▃▃▃▄▄▄▅▅▆▆▆▇▇▇█▁▂▂▂▃▃▃▄▄▄▅▅▅▆▆▆▇▇▇█</td></tr><tr><td>train/epoch_f1_p2</td><td>▁▁▂▂▂▃▃▃▄▄▄▅▅▆▆▆▇▇▇█▁▂▂▂▃▃▃▄▄▄▅▅▅▆▆▆▇▇▇█</td></tr><tr><td>train/epoch_f1_p3</td><td>▁▁▂▂▂▃▃▃▄▄▄▅▅▆▆▆▇▇▇█▁▂▂▂▃▃▃▄▄▄▅▅▅▆▆▆▇▇██</td></tr><tr><td>train/epoch_f1_p4</td><td>▁▁▂▂▂▃▃▃▄▄▅▅▅▆▆▆▇▇▇█▁▂▂▂▃▃▃▄▄▄▅▅▅▆▆▆▇▇██</td></tr><tr><td>train/epoch_f2_p0</td><td>▁▁▂▂▂▃▃▃▄▄▄▅▅▆▆▆▇▇▇█▁▂▂▂▃▃▃▄▄▄▅▅▅▆▆▆▇▇▇█</td></tr><tr><td>train/epoch_f2_p1</td><td>▁▁▂▂▂▃▃▃▄▄▄▅▅▆▆▆▇▇▇█▁▂▂▂▃▃▃▄▄▄▅▅▅▆▆▆▇▇▇█</td></tr><tr><td>train/epoch_f2_p2</td><td>▁▁▂▂▂▃▃▃▄▄▄▅▅▆▆▆▇▇▇█▁▂▂▂▃▃▃▄▄▄▅▅▅▆▆▆▇▇▇█</td></tr><tr><td>train/epoch_f2_p3</td><td>▁▁▂▂▂▃▃▃▄▄▄▅▅▆▆▆▇▇▇█▁▂▂▂▃▃▃▄▄▄▅▅▅▆▆▇▇▇██</td></tr><tr><td>train/epoch_f2_p4</td><td>▁▁▂▂▂▃▃▃▄▄▄▅▅▆▆▆▇▇▇█▁▂▂▂▃▃▃▄▄▄▅▅▅▆▆▇▇▇██</td></tr><tr><td>train/epoch_f3_p0</td><td>▁▁▂▂▂▃▃▃▄▄▄▅▅▆▆▆▇▇▇█▁▂▂▂▃▃▃▄▄▄▅▅▅▆▆▆▇▇██</td></tr><tr><td>train/epoch_f3_p1</td><td>▁▁▂▂▂▃▃▃▄▄▄▅▅▆▆▆▇▇▇█▁▂▂▂▃▃▃▄▄▄▅▅▅▆▆▆▇▇██</td></tr><tr><td>train/epoch_f3_p2</td><td>▁▁▂▂▂▃▃▃▄▄▄▅▅▅▆▆▇▇▇█▁▂▂▂▃▃▃▄▄▄▅▅▅▆▆▆▇▇██</td></tr><tr><td>train/epoch_f3_p3</td><td>▁▁▂▂▂▃▃▃▄▄▄▅▅▆▆▆▇▇▇█▁▂▂▂▃▃▃▄▄▄▅▅▅▆▆▆▇▇██</td></tr><tr><td>train/epoch_f3_p4</td><td>▁▁▂▂▂▃▃▃▄▄▄▅▅▆▆▆▇▇▇█▁▂▂▂▃▃▃▄▄▄▅▅▅▆▆▆▇▇██</td></tr><tr><td>train/epoch_f4_p0</td><td>▁▁▂▂▂▃▃▃▄▄▄▅▅▆▆▆▇▇▇█▁▂▂▂▃▃▃▄▄▄▅▅▅▆▆▆▇▇▇█</td></tr><tr><td>train/epoch_f4_p1</td><td>▁▁▂▂▂▃▃▃▄▄▄▅▅▆▆▆▇▇▇█▁▂▂▂▃▃▃▄▄▄▅▅▅▆▆▇▇▇██</td></tr><tr><td>train/epoch_f4_p2</td><td>▁▁▂▂▂▃▃▃▄▄▄▅▅▆▆▆▇▇▇█▁▂▂▂▃▃▃▄▄▄▅▅▅▆▆▇▇▇██</td></tr><tr><td>train/epoch_f4_p3</td><td>▁▁▂▂▂▃▃▃▄▄▄▅▅▆▆▆▇▇▇█▁▂▂▂▃▃▃▄▄▄▅▅▅▆▆▇▇▇██</td></tr><tr><td>train/epoch_f4_p4</td><td>▁▁▂▂▂▃▃▃▄▄▄▅▅▆▆▆▇▇▇█▁▂▂▂▃▃▃▄▄▄▅▅▅▆▆▆▇▇▇█</td></tr><tr><td>train/grad_norm_f0_p0</td><td>▃▂▁▂▁▄▂▅▂▃▆▁▃▃▃█▂▃▄▃█▅▂▅▇▄▄▃▃█▂▂▄▄▃▂█▄▃▄</td></tr><tr><td>train/grad_norm_f0_p1</td><td>▁▁▁▁▁▁▁▁▁▁▂▁▂▂▁▁▁▁▂▃█▂▃▂▃▃▄▄▂▂▃▄▂▂▄▂▂▅▂▂</td></tr><tr><td>train/grad_norm_f0_p2</td><td>▄▂▁▁▁▂▃▃▆▇▄▃▇▃▁▃▇▄▃▂▃▄▂▂▄▆▇█▃▄▂▃█▃▇▂▂▂▇▂</td></tr><tr><td>train/grad_norm_f0_p3</td><td>▄▁▁▂▂▁▃█▃▅▄▃▃▁▃▁▄▆▂▂▂▃▂▁▄▁▅▂▃▃▄▁▃▂▂▂▂▂▂▂</td></tr><tr><td>train/grad_norm_f0_p4</td><td>▂▁▁▁▁▂▁▁▃▄▄▂▄▃▆▄▃▄▂▄▄▇▆▄▂▃▃▂▁▂▃▂▂▂▃▂█▂▃▄</td></tr><tr><td>train/grad_norm_f1_p0</td><td>▃▂▁▃▂▂▄▃▅▃▁▂▁▁▁▁▁▂▂▂█▄▃▅▂▂▂▂▄▆▂▆▆▇▃▄▃▆▃▂</td></tr><tr><td>train/grad_norm_f1_p1</td><td>▂▁▁▁▁▁▁▁▁▂▂▁▁▁▁▁▂▂▂▂ ▂▂█▅▅▄▆▆▃▃▄▄▂▁▂▃▃▃▂</td></tr><tr><td>train/grad_norm_f1_p2</td><td>▂▁▁▁▁▂▂▁▂▂▂▂ ▂▂▁▂▃▁▃▃▃▅█▅▃▂▂▂▇▂▂▃▂▄▃▃▂▂▂</td></tr><tr><td>train/grad_norm_f1_p3</td><td>▂▂▁▁▂▂▂▂▃▄▇▂▂▃▅▃▅▆▃▃▆█▄▃▂▂▂▂▂▂▄▂▂▂▂▂▁▅▁▁</td></tr><tr><td>train/grad_norm_f1_p4</td><td>▂▁▂▁▂▂▂▂▂▂█▄▃▂▃▃█▂▂▅▃▂▁▃▆▃▂▁▂▃▃▂▃▁▂▁▁▂▁▂</td></tr><tr><td>train/grad_norm_f2_p0</td><td>▁▁▁▁▂▂▁▂▃▃▅▂▁▁▃▃▂▂▂▄▃▃█▅▃▂▃▂▃▂▅▂▃▂▃▄▂▁▂▂</td></tr><tr><td>train/grad_norm_f2_p1</td><td>▂▂▁▁▁▁▁▁▂▂▃▁▂▃▁▁▂▃▃▅█▃▂▁▃▂▂▁▂▃▂▂▂▂▃▃▂▁▂▂</td></tr><tr><td>train/grad_norm_f2_p2</td><td>▂▂▃▁▂▄▃▃▅▇▃▂▃▁▄▁▂▂▂▁█▄▂▁▄▂▁▁▄▄▁▁▃▅▂▂▁▆▃▃</td></tr><tr><td>train/grad_norm_f2_p3</td><td> ▁▁▃▁▁▂▃▁▂▅▂▁▂▂▂▂▆▂▁▃▄▅█▆▃▃▁▁▂▁▂▂▄▃▃▂▃▂▂</td></tr><tr><td>train/grad_norm_f2_p4</td><td>▃▁▁▂▂▂▂▂▂▂▆▃█▄▂▂▄▂▂▂▇▄▃▃▁▂▂▁▂▃▃▄▁▁▃▂▂▂▃▁</td></tr><tr><td>train/grad_norm_f3_p0</td><td>▄▂▁▂▃▄▃▅▂▄▃▂▂▃▆▇▃▅▃▃▇█▃▄█▃▇▆▅▃▂▂▂▂▁▁▂▁▁▂</td></tr><tr><td>train/grad_norm_f3_p1</td><td>▁▂▁▁▂▂▁▁▂▂▁▄▃▁▃▃▄▅▂▅▂▄█▃▆▃▁▃▂▂▁▁▂▂▁▁▂▂▂▂</td></tr><tr><td>train/grad_norm_f3_p2</td><td>▃▂▂▃▄█▄▁▂▅▆▃▄▄▃▅▄▂▅█▃▃▄▅▃▃▃▃▆▂▂▃▁▃▂▃▂▁▄▁</td></tr><tr><td>train/grad_norm_f3_p3</td><td>▁▂▂▂▁▂▃▄▄▃▄▁▁▁▂▂▃▂▂▂▃▂▂▄▅▃█▂▃▂▂▂▂▃▂▁▂▁▂▂</td></tr><tr><td>train/grad_norm_f3_p4</td><td>▂▂▁▁▂▃▃▃▂▂▃▁▂▃▅▁▂▂▂▆▇▃▄▃▅▅▄▄▁▂▁█▅▂▃▄▃▂▅▂</td></tr><tr><td>train/grad_norm_f4_p0</td><td>▂▁▁▁▁▁▁▂▁▁▃▁▂▁▅▂▃▂▃▄▂█▄▄▄▂▁▃▂▂▂▂▄▃▃▃▂▂▂▂</td></tr><tr><td>train/grad_norm_f4_p1</td><td>▄▂▁▁▂▂▂▆▂▂▄▁▄▅▄▃▅▅▄▄█▄▅▂█▆▂▃▄▃▅▅▄▃▄▄▃▄▃▃</td></tr><tr><td>train/grad_norm_f4_p2</td><td>▁▁▁▁▁▁▁▃▁▂▂▁▁▂▂▁▂▃▂▂█▂▁▁▂▂▄▂▃▂▂▄▂▂▂▂▂▂▁▃</td></tr><tr><td>train/grad_norm_f4_p3</td><td>▃▁▁▁▁▁▂▃▁▁▃▁▂▃▄▂▃▃▂▁▃█▄▂▅▃▇▅▃▅▂▄█▃▃▂▄▃▄▃</td></tr><tr><td>train/grad_norm_f4_p4</td><td>▂▁▁▃▂▂▁▄▂▁▃▁▂▃▃▂▅▁▂▃█▃▄▂▇▃▆▃▁▆▄▄▅▂▃▂▃▂▂▃</td></tr><tr><td>train/learning_rate_f0_p0</td><td>▇▁█▂▅▆▂█▁▆▄▃█▁█▃▄▆▁█▁▆▄▃█▁█▃▄▆▁█▂▆▅▂█▁▇▂</td></tr><tr><td>train/learning_rate_f0_p1</td><td>▇▁█▂▅▆▂█▁▆▄▃█▁█▃▄▆▁█▄▄▇▁█▂▅▆▂█▁▆▄▃█▁█▃▄▃</td></tr><tr><td>train/learning_rate_f0_p2</td><td>▇▁█▂▅▆▂█▁▆▄▃█▁█▃▄▆▁█▁▆▄▃█▁█▃▄▆▁█▂▆▅▂█▁▇▂</td></tr><tr><td>train/learning_rate_f0_p3</td><td>▇▁█▂▅▆▂█▁▆▄▃█▁█▃▄▆▁█▁▆▄▃█▁█▃▄▆▁█▂▆▅▂█▁▇▂</td></tr><tr><td>train/learning_rate_f0_p4</td><td>▇▁█▂▅▆▂█▁▆▄▃█▁█▃▄▆▁█▁▆▄▃█▁█▃▄▆▁█▂▆▅▂█▁▇▂</td></tr><tr><td>train/learning_rate_f1_p0</td><td>▇▁█▂▅▆▂█▁▆▄▃█▁█▃▄▆▁█▁▆▄▃█▁█▃▄▆▁█▂▆▅▂█▁▇▂</td></tr><tr><td>train/learning_rate_f1_p1</td><td>▇▁█▂▅▆▂█▁▆▄▃█▁█▃▄▆▁█▃▄▇▁█▂▅▅▂█▁▇▄▃▇▁█▃▅▂</td></tr><tr><td>train/learning_rate_f1_p2</td><td>▇▁█▂▅▆▂█▁▆▄▃█▁█▃▄▆▁█▃▄▇▁█▂▅▅▂█▁▇▄▃▇▁█▃▅▂</td></tr><tr><td>train/learning_rate_f1_p3</td><td>▇▁█▂▅▆▂█▁▆▄▃▇▁▇▃▄▆▁█▁▇▄▃▇▁█▃▅▆▂█▂▆▅▃█▁▇▁</td></tr><tr><td>train/learning_rate_f1_p4</td><td>▇▁█▂▅▆▂█▁▆▄▃█▁█▃▄▆▁█▄▃█▁█▃▄▆▁█▂▆▅▂█▁▇▄▄▄</td></tr><tr><td>train/learning_rate_f2_p0</td><td>▇▁█▂▅▆▂█▁▆▄▃█▁█▃▄▆▁█▃▄▇▁█▂▅▅▂█▁▇▄▃▇▁█▃▅▂</td></tr><tr><td>train/learning_rate_f2_p1</td><td>▇▁█▂▅▆▂█▁▆▄▃█▁█▃▄▆▁█▄▄▇▁█▂▅▆▂█▁▆▄▃█▁█▃▄▃</td></tr><tr><td>train/learning_rate_f2_p2</td><td>▇▁█▂▅▆▂█▁▆▄▃█▁█▃▄▆▁█▃▄▇▁█▂▅▅▂█▁▇▄▃▇▁█▃▅▂</td></tr><tr><td>train/learning_rate_f2_p3</td><td>▇▁█▂▅▆▂█▁▆▄▃█▁█▃▄▆▁█▁▆▄▃█▁█▃▄▆▁█▂▆▅▂█▁▇▂</td></tr><tr><td>train/learning_rate_f2_p4</td><td>▇▁█▂▅▆▂█▁▆▄▃█▁█▃▄▆▁█▁▆▄▃█▁█▃▄▆▁█▂▆▅▂█▁▇▂</td></tr><tr><td>train/learning_rate_f3_p0</td><td>▇▁█▂▅▆▂█▁▆▄▃▇▁▇▃▄▆▁█▁▇▄▃▇▁█▃▅▆▂█▂▆▅▃█▁▇▁</td></tr><tr><td>train/learning_rate_f3_p1</td><td>▇▁█▂▅▆▂█▁▆▄▃▇▁▇▃▄▆▁█▁▇▄▃▇▁█▃▅▆▂█▂▆▅▃█▁▇▁</td></tr><tr><td>train/learning_rate_f3_p2</td><td>▇▁█▂▅▆▂█▁▆▄▃█▁█▃▄▆▁█▁▇▄▄▇▁█▂▅▆▂█▁▆▄▃█▁█▁</td></tr><tr><td>train/learning_rate_f3_p3</td><td>▇▁█▂▅▆▂█▁▆▄▃▇▁▇▃▄▆▁█▁▇▄▃▇▁█▃▅▆▂█▂▆▅▃█▁▇▁</td></tr><tr><td>train/learning_rate_f3_p4</td><td>▇▁█▂▅▆▂█▁▆▄▃▇▁▇▃▄▆▁█▁▇▄▃▇▁█▃▅▆▂█▂▆▅▃█▁▇▁</td></tr><tr><td>train/learning_rate_f4_p0</td><td>▇▁█▂▅▆▂█▁▆▄▃█▁█▃▄▆▁█▄▄▇▁█▂▅▆▂█▁▆▄▃█▁█▃▄▃</td></tr><tr><td>train/learning_rate_f4_p1</td><td>▇▁█▂▅▆▂█▁▆▄▃█▁█▃▄▆▁█▁▆▄▃█▁█▃▄▆▁█▂▆▅▂█▁▇▂</td></tr><tr><td>train/learning_rate_f4_p2</td><td>▇▁█▂▅▆▂█▁▆▄▃█▁█▃▄▆▁█▁▆▄▃█▁█▃▄▆▁█▂▆▅▂█▁▇▂</td></tr><tr><td>train/learning_rate_f4_p3</td><td>▇▁█▂▅▆▂█▁▆▄▃█▁█▃▄▆▁█▁▆▄▃█▁█▃▄▆▁█▂▆▅▂█▁▇▂</td></tr><tr><td>train/learning_rate_f4_p4</td><td>▇▁█▂▅▆▂█▁▆▄▃█▁█▃▄▆▁█▃▄▇▁█▂▅▅▂█▁▇▄▃▇▁█▃▅▂</td></tr><tr><td>train/train_loss_f0_p0</td><td>█▇▆▆▅▅▅▄▄▄▄▄▃▃▃▃▃▃▃▃▁▁▁▁▁▁▁▁▁▁▁▁▁▁▁▁▁▁▁▁</td></tr><tr><td>train/train_loss_f0_p1</td><td>█▇▇▆▆▆▆▅▅▅▅▄▄▄▄▄▄▄▃▃▂▂▂▂▁▁▁▁▁▁▁▁▁▁▁▁▁▁▁▁</td></tr><tr><td>train/train_loss_f0_p2</td><td>█▇▇▆▆▆▆▅▅▅▅▄▄▄▄▄▄▄▃▃▂▁▁▁▁▁▁▁▁▁▁▁▁▁▁▁▁▁▁▁</td></tr><tr><td>train/train_loss_f0_p3</td><td>█▇▆▆▆▆▅▅▅▅▄▄▄▄▄▄▃▃▃▃▃▂▂▁▁▁▁▁▁▁▁▁▁▁▁▁▁▁▁▁</td></tr><tr><td>train/train_loss_f0_p4</td><td>█▇▇▆▆▆▅▅▅▄▄▄▄▄▄▃▃▃▃▃▂▁▁▁▁▁▁▁▁▁▁▁▁▁▁▁▁▁▁▁</td></tr><tr><td>train/train_loss_f1_p0</td><td>█▇▇▆▆▆▅▅▅▄▄▄▄▄▄▄▃▃▃▃▂▂▁▁▁▁▁▁▁▁▁▁▁▁▁▁▁▁▁▁</td></tr><tr><td>train/train_loss_f1_p1</td><td>█▇▇▆▆▆▅▅▅▅▄▄▄▄▄▄▃▃▃▃▁▁▁▁▁▁▁▁▁▁▁▁▁▁▁▁▁▁▁▁</td></tr><tr><td>train/train_loss_f1_p2</td><td>█▆▆▅▅▅▄▄▄▄▄▃▃▃▃▃▃▃▃▃▁▁▁▁▁▁▁▁▁▁▁▁▁▁▁▁▁▁▁▁</td></tr><tr><td>train/train_loss_f1_p3</td><td>█▇▇▆▆▆▅▅▅▄▄▄▄▄▄▃▃▃▃▃▂▂▂▁▁▁▁▁▁▁▁▁▁▁▁▁▁▁▁▁</td></tr><tr><td>train/train_loss_f1_p4</td><td>█▇▆▆▆▅▅▅▄▄▄▄▄▄▃▃▃▃▃▃▁▁▁▁▁▁▁▁▁▁▁▁▁▁▁▁▁▁▁▁</td></tr><tr><td>train/train_loss_f2_p0</td><td>█▇▇▇▇▆▆▆▅▅▅▅▅▄▄▄▄▄▄▄▁▁▂▁▁▁▁▁▁▁▁▁▁▁▁▁▁▁▁▁</td></tr><tr><td>train/train_loss_f2_p1</td><td>█▇▆▆▆▅▅▅▅▄▄▄▄▄▃▃▃▃▃▃▂▁▁▁▁▁▁▁▁▁▁▁▁▁▁▁▁▁▁▁</td></tr><tr><td>train/train_loss_f2_p2</td><td>█▇▇▆▆▆▆▆▅▅▅▄▄▄▄▄▄▃▃▃▂▂▂▂▁▁▁▁▁▁▁▁▁▁▁▁▁▁▁▁</td></tr><tr><td>train/train_loss_f2_p3</td><td>██▇▇▇▆▆▆▅▅▅▅▄▄▄▄▄▄▄▃▂▂▂▁▁▁▁▁▁▁▁▁▁▁▁▁▁▁▁▁</td></tr><tr><td>train/train_loss_f2_p4</td><td>█▇▇▆▆▆▆▅▅▅▅▄▄▄▄▄▄▃▃▃▁▁▁▁▁▁▁▁▁▁▁▁▁▁▁▁▁▁▁▁</td></tr><tr><td>train/train_loss_f3_p0</td><td>█▇▇▆▆▆▆▆▅▅▅▄▄▄▄▄▄▄▃▃▁▁▁▁▁▁▁▁▁▁▁▁▁▁▁▁▁▁▁▁</td></tr><tr><td>train/train_loss_f3_p1</td><td>█▇▇▇▆▆▆▆▅▅▅▅▅▄▄▄▄▄▄▄▁▁▁▁▂▂▂▂▁▁▁▁▁▁▁▁▁▁▁▁</td></tr><tr><td>train/train_loss_f3_p2</td><td>█▇▆▆▅▅▅▄▄▄▄▄▃▃▃▃▃▃▃▃▁▁▁▁▁▁▁▁▁▁▁▁▁▁▁▁▁▁▁▁</td></tr><tr><td>train/train_loss_f3_p3</td><td>█▇▇▇▆▆▆▅▅▅▄▄▄▄▄▄▄▃▃▃▂▁▁▁▁▁▁▁▁▁▁▁▁▁▁▁▁▁▁▁</td></tr><tr><td>train/train_loss_f3_p4</td><td>█▇▇▇▆▆▅▅▅▅▄▄▄▄▄▄▃▃▃▃▂▂▂▂▁▁▁▁▁▁▁▁▁▁▁▁▁▁▁▁</td></tr><tr><td>train/train_loss_f4_p0</td><td>█▆▆▅▅▅▄▄▄▄▄▃▃▃▃▃▃▃▃▃▁▁▁▁▁▁▁▁▁▁▁▁▁▁▁▁▁▁▁▁</td></tr><tr><td>train/train_loss_f4_p1</td><td>█▇▆▆▆▅▅▅▄▄▄▄▄▄▃▃▃▃▃▃▁▁▁▁▁▁▁▁▁▁▁▁▁▁▁▁▁▁▁▁</td></tr><tr><td>train/train_loss_f4_p2</td><td>█▇▆▆▆▅▅▅▄▄▄▄▄▄▃▃▃▃▃▃▁▁▁▁▁▁▁▁▁▁▁▁▁▁▁▁▁▁▁▁</td></tr><tr><td>train/train_loss_f4_p3</td><td>█▇▆▆▆▅▅▅▄▄▄▄▄▄▃▃▃▃▃▃▁▁▁▁▁▁▁▁▁▁▁▁▁▁▁▁▁▁▁▁</td></tr><tr><td>train/train_loss_f4_p4</td><td>█▇▇▆▆▅▅▄▄▄▄▄▃▃▃▃▃▃▃▃▂▁▁▁▁▁▁▁▁▁▁▁▁▁▁▁▁▁▁▁</td></tr></table><br/></div><div class=\"wandb-col\"><h3>Run summary:</h3><br/><table class=\"wandb\"><tr><td>CV/qwk_score</td><td>0.76503</td></tr><tr><td>eval/eval_epoch_f0</td><td>2</td></tr><tr><td>eval/eval_epoch_f0_p0</td><td>2</td></tr><tr><td>eval/eval_epoch_f0_p1</td><td>2</td></tr><tr><td>eval/eval_epoch_f0_p2</td><td>2</td></tr><tr><td>eval/eval_epoch_f0_p3</td><td>2</td></tr><tr><td>eval/eval_epoch_f0_p4</td><td>2</td></tr><tr><td>eval/eval_epoch_f1</td><td>2</td></tr><tr><td>eval/eval_epoch_f1_p0</td><td>2</td></tr><tr><td>eval/eval_epoch_f1_p1</td><td>2</td></tr><tr><td>eval/eval_epoch_f1_p2</td><td>2</td></tr><tr><td>eval/eval_epoch_f1_p3</td><td>2</td></tr><tr><td>eval/eval_epoch_f1_p4</td><td>2</td></tr><tr><td>eval/eval_epoch_f2</td><td>2</td></tr><tr><td>eval/eval_epoch_f2_p0</td><td>2</td></tr><tr><td>eval/eval_epoch_f2_p1</td><td>2</td></tr><tr><td>eval/eval_epoch_f2_p2</td><td>2</td></tr><tr><td>eval/eval_epoch_f2_p3</td><td>2</td></tr><tr><td>eval/eval_epoch_f2_p4</td><td>2</td></tr><tr><td>eval/eval_epoch_f3</td><td>2</td></tr><tr><td>eval/eval_epoch_f3_p0</td><td>2</td></tr><tr><td>eval/eval_epoch_f3_p1</td><td>2</td></tr><tr><td>eval/eval_epoch_f3_p2</td><td>2</td></tr><tr><td>eval/eval_epoch_f3_p3</td><td>2</td></tr><tr><td>eval/eval_epoch_f3_p4</td><td>2</td></tr><tr><td>eval/eval_epoch_f4</td><td>2</td></tr><tr><td>eval/eval_epoch_f4_p0</td><td>2</td></tr><tr><td>eval/eval_epoch_f4_p1</td><td>2</td></tr><tr><td>eval/eval_epoch_f4_p2</td><td>2</td></tr><tr><td>eval/eval_epoch_f4_p3</td><td>2</td></tr><tr><td>eval/eval_epoch_f4_p4</td><td>2</td></tr><tr><td>eval/eval_loss_f0_p0</td><td>0.97841</td></tr><tr><td>eval/eval_loss_f0_p1</td><td>0.99269</td></tr><tr><td>eval/eval_loss_f0_p2</td><td>0.94301</td></tr><tr><td>eval/eval_loss_f0_p3</td><td>0.94965</td></tr><tr><td>eval/eval_loss_f0_p4</td><td>1.034</td></tr><tr><td>eval/eval_loss_f1_p0</td><td>0.93944</td></tr><tr><td>eval/eval_loss_f1_p1</td><td>0.97537</td></tr><tr><td>eval/eval_loss_f1_p2</td><td>0.98022</td></tr><tr><td>eval/eval_loss_f1_p3</td><td>0.95349</td></tr><tr><td>eval/eval_loss_f1_p4</td><td>0.9571</td></tr><tr><td>eval/eval_loss_f2_p0</td><td>0.96073</td></tr><tr><td>eval/eval_loss_f2_p1</td><td>0.94507</td></tr><tr><td>eval/eval_loss_f2_p2</td><td>0.94456</td></tr><tr><td>eval/eval_loss_f2_p3</td><td>0.96089</td></tr><tr><td>eval/eval_loss_f2_p4</td><td>0.91817</td></tr><tr><td>eval/eval_loss_f3_p0</td><td>0.95938</td></tr><tr><td>eval/eval_loss_f3_p1</td><td>0.96607</td></tr><tr><td>eval/eval_loss_f3_p2</td><td>0.93414</td></tr><tr><td>eval/eval_loss_f3_p3</td><td>0.94417</td></tr><tr><td>eval/eval_loss_f3_p4</td><td>0.97617</td></tr><tr><td>eval/eval_loss_f4_p0</td><td>0.97025</td></tr><tr><td>eval/eval_loss_f4_p1</td><td>0.99878</td></tr><tr><td>eval/eval_loss_f4_p2</td><td>0.98607</td></tr><tr><td>eval/eval_loss_f4_p3</td><td>0.95026</td></tr><tr><td>eval/eval_loss_f4_p4</td><td>0.96941</td></tr><tr><td>eval/qwk_score_f0</td><td>0.76022</td></tr><tr><td>eval/qwk_score_f0_p0</td><td>0.74821</td></tr><tr><td>eval/qwk_score_f0_p1</td><td>0.75477</td></tr><tr><td>eval/qwk_score_f0_p2</td><td>0.79556</td></tr><tr><td>eval/qwk_score_f0_p3</td><td>0.77905</td></tr><tr><td>eval/qwk_score_f0_p4</td><td>0.70987</td></tr><tr><td>eval/qwk_score_f1</td><td>0.75157</td></tr><tr><td>eval/qwk_score_f1_p0</td><td>0.77382</td></tr><tr><td>eval/qwk_score_f1_p1</td><td>0.76095</td></tr><tr><td>eval/qwk_score_f1_p2</td><td>0.75433</td></tr><tr><td>eval/qwk_score_f1_p3</td><td>0.76648</td></tr><tr><td>eval/qwk_score_f1_p4</td><td>0.74466</td></tr><tr><td>eval/qwk_score_f2</td><td>0.76991</td></tr><tr><td>eval/qwk_score_f2_p0</td><td>0.7833</td></tr><tr><td>eval/qwk_score_f2_p1</td><td>0.76902</td></tr><tr><td>eval/qwk_score_f2_p2</td><td>0.75937</td></tr><tr><td>eval/qwk_score_f2_p3</td><td>0.7799</td></tr><tr><td>eval/qwk_score_f2_p4</td><td>0.79776</td></tr><tr><td>eval/qwk_score_f3</td><td>0.78134</td></tr><tr><td>eval/qwk_score_f3_p0</td><td>0.77234</td></tr><tr><td>eval/qwk_score_f3_p1</td><td>0.77747</td></tr><tr><td>eval/qwk_score_f3_p2</td><td>0.7972</td></tr><tr><td>eval/qwk_score_f3_p3</td><td>0.78365</td></tr><tr><td>eval/qwk_score_f3_p4</td><td>0.76784</td></tr><tr><td>eval/qwk_score_f4</td><td>0.76108</td></tr><tr><td>eval/qwk_score_f4_p0</td><td>0.77104</td></tr><tr><td>eval/qwk_score_f4_p1</td><td>0.72674</td></tr><tr><td>eval/qwk_score_f4_p2</td><td>0.75926</td></tr><tr><td>eval/qwk_score_f4_p3</td><td>0.77147</td></tr><tr><td>eval/qwk_score_f4_p4</td><td>0.77281</td></tr><tr><td>train/epoch_f0_p0</td><td>32.73333</td></tr><tr><td>train/epoch_f0_p1</td><td>32.6</td></tr><tr><td>train/epoch_f0_p2</td><td>32.73333</td></tr><tr><td>train/epoch_f0_p3</td><td>32.73333</td></tr><tr><td>train/epoch_f0_p4</td><td>32.73333</td></tr><tr><td>train/epoch_f1_p0</td><td>32.73333</td></tr><tr><td>train/epoch_f1_p1</td><td>32.66667</td></tr><tr><td>train/epoch_f1_p2</td><td>32.66667</td></tr><tr><td>train/epoch_f1_p3</td><td>32.8</td></tr><tr><td>train/epoch_f1_p4</td><td>32.46667</td></tr><tr><td>train/epoch_f2_p0</td><td>32.66667</td></tr><tr><td>train/epoch_f2_p1</td><td>32.6</td></tr><tr><td>train/epoch_f2_p2</td><td>32.66667</td></tr><tr><td>train/epoch_f2_p3</td><td>32.73333</td></tr><tr><td>train/epoch_f2_p4</td><td>32.73333</td></tr><tr><td>train/epoch_f3_p0</td><td>32.8</td></tr><tr><td>train/epoch_f3_p1</td><td>32.8</td></tr><tr><td>train/epoch_f3_p2</td><td>32.86667</td></tr><tr><td>train/epoch_f3_p3</td><td>32.8</td></tr><tr><td>train/epoch_f3_p4</td><td>32.8</td></tr><tr><td>train/epoch_f4_p0</td><td>32.6</td></tr><tr><td>train/epoch_f4_p1</td><td>32.73333</td></tr><tr><td>train/epoch_f4_p2</td><td>32.73333</td></tr><tr><td>train/epoch_f4_p3</td><td>32.73333</td></tr><tr><td>train/epoch_f4_p4</td><td>32.66667</td></tr><tr><td>train/grad_norm_f0_p0</td><td>79985.49219</td></tr><tr><td>train/grad_norm_f0_p1</td><td>115756.82812</td></tr><tr><td>train/grad_norm_f0_p2</td><td>59712.59375</td></tr><tr><td>train/grad_norm_f0_p3</td><td>75459.77344</td></tr><tr><td>train/grad_norm_f0_p4</td><td>154778.34375</td></tr><tr><td>train/grad_norm_f1_p0</td><td>51553.36328</td></tr><tr><td>train/grad_norm_f1_p1</td><td>75530.04688</td></tr><tr><td>train/grad_norm_f1_p2</td><td>50129.35938</td></tr><tr><td>train/grad_norm_f1_p3</td><td>48493.35156</td></tr><tr><td>train/grad_norm_f1_p4</td><td>76991.34375</td></tr><tr><td>train/grad_norm_f2_p0</td><td>44964.50781</td></tr><tr><td>train/grad_norm_f2_p1</td><td>51758.89062</td></tr><tr><td>train/grad_norm_f2_p2</td><td>104255.42188</td></tr><tr><td>train/grad_norm_f2_p3</td><td>74362.08594</td></tr><tr><td>train/grad_norm_f2_p4</td><td>49476.57031</td></tr><tr><td>train/grad_norm_f3_p0</td><td>40407.5</td></tr><tr><td>train/grad_norm_f3_p1</td><td>107934.33594</td></tr><tr><td>train/grad_norm_f3_p2</td><td>34215.0625</td></tr><tr><td>train/grad_norm_f3_p3</td><td>75673.10156</td></tr><tr><td>train/grad_norm_f3_p4</td><td>56375.37109</td></tr><tr><td>train/grad_norm_f4_p0</td><td>57404.02734</td></tr><tr><td>train/grad_norm_f4_p1</td><td>52636.90625</td></tr><tr><td>train/grad_norm_f4_p2</td><td>130038.23438</td></tr><tr><td>train/grad_norm_f4_p3</td><td>125503.88281</td></tr><tr><td>train/grad_norm_f4_p4</td><td>82786.13281</td></tr><tr><td>train/learning_rate_f0_p0</td><td>0.0</td></tr><tr><td>train/learning_rate_f0_p1</td><td>0.0</td></tr><tr><td>train/learning_rate_f0_p2</td><td>0.0</td></tr><tr><td>train/learning_rate_f0_p3</td><td>0.0</td></tr><tr><td>train/learning_rate_f0_p4</td><td>0.0</td></tr><tr><td>train/learning_rate_f1_p0</td><td>0.0</td></tr><tr><td>train/learning_rate_f1_p1</td><td>0.0</td></tr><tr><td>train/learning_rate_f1_p2</td><td>0.0</td></tr><tr><td>train/learning_rate_f1_p3</td><td>0.0</td></tr><tr><td>train/learning_rate_f1_p4</td><td>1e-05</td></tr><tr><td>train/learning_rate_f2_p0</td><td>0.0</td></tr><tr><td>train/learning_rate_f2_p1</td><td>0.0</td></tr><tr><td>train/learning_rate_f2_p2</td><td>0.0</td></tr><tr><td>train/learning_rate_f2_p3</td><td>0.0</td></tr><tr><td>train/learning_rate_f2_p4</td><td>0.0</td></tr><tr><td>train/learning_rate_f3_p0</td><td>0.0</td></tr><tr><td>train/learning_rate_f3_p1</td><td>0.0</td></tr><tr><td>train/learning_rate_f3_p2</td><td>0.0</td></tr><tr><td>train/learning_rate_f3_p3</td><td>0.0</td></tr><tr><td>train/learning_rate_f3_p4</td><td>0.0</td></tr><tr><td>train/learning_rate_f4_p0</td><td>0.0</td></tr><tr><td>train/learning_rate_f4_p1</td><td>0.0</td></tr><tr><td>train/learning_rate_f4_p2</td><td>0.0</td></tr><tr><td>train/learning_rate_f4_p3</td><td>0.0</td></tr><tr><td>train/learning_rate_f4_p4</td><td>0.0</td></tr><tr><td>train/train_loss_f0_p0</td><td>0.97179</td></tr><tr><td>train/train_loss_f0_p1</td><td>0.957</td></tr><tr><td>train/train_loss_f0_p2</td><td>0.95586</td></tr><tr><td>train/train_loss_f0_p3</td><td>0.95836</td></tr><tr><td>train/train_loss_f0_p4</td><td>0.97802</td></tr><tr><td>train/train_loss_f1_p0</td><td>0.95611</td></tr><tr><td>train/train_loss_f1_p1</td><td>0.9633</td></tr><tr><td>train/train_loss_f1_p2</td><td>0.95784</td></tr><tr><td>train/train_loss_f1_p3</td><td>0.97527</td></tr><tr><td>train/train_loss_f1_p4</td><td>0.97882</td></tr><tr><td>train/train_loss_f2_p0</td><td>0.95996</td></tr><tr><td>train/train_loss_f2_p1</td><td>0.9634</td></tr><tr><td>train/train_loss_f2_p2</td><td>0.94971</td></tr><tr><td>train/train_loss_f2_p3</td><td>0.95348</td></tr><tr><td>train/train_loss_f2_p4</td><td>0.95446</td></tr><tr><td>train/train_loss_f3_p0</td><td>0.93564</td></tr><tr><td>train/train_loss_f3_p1</td><td>0.97563</td></tr><tr><td>train/train_loss_f3_p2</td><td>0.98072</td></tr><tr><td>train/train_loss_f3_p3</td><td>0.95746</td></tr><tr><td>train/train_loss_f3_p4</td><td>0.97175</td></tr><tr><td>train/train_loss_f4_p0</td><td>0.96343</td></tr><tr><td>train/train_loss_f4_p1</td><td>0.97284</td></tr><tr><td>train/train_loss_f4_p2</td><td>0.9886</td></tr><tr><td>train/train_loss_f4_p3</td><td>0.95729</td></tr><tr><td>train/train_loss_f4_p4</td><td>0.9738</td></tr></table><br/></div></div>"
      ],
      "text/plain": [
       "<IPython.core.display.HTML object>"
      ]
     },
     "metadata": {},
     "output_type": "display_data"
    },
    {
     "data": {
      "text/html": [
       " View run <strong style=\"color:#cdcd00\">deberta-v3-xsmall-512-D2-T2</strong> at: <a href='https://wandb.ai/laplacesdemon43/Kaggle_ASE_2.0/runs/g2c8mued' target=\"_blank\">https://wandb.ai/laplacesdemon43/Kaggle_ASE_2.0/runs/g2c8mued</a><br/> View project at: <a href='https://wandb.ai/laplacesdemon43/Kaggle_ASE_2.0' target=\"_blank\">https://wandb.ai/laplacesdemon43/Kaggle_ASE_2.0</a><br/>Synced 6 W&B file(s), 25 media file(s), 25 artifact file(s) and 2 other file(s)"
      ],
      "text/plain": [
       "<IPython.core.display.HTML object>"
      ]
     },
     "metadata": {},
     "output_type": "display_data"
    },
    {
     "data": {
      "text/html": [
       "Find logs at: <code>./wandb/run-20240526_122232-g2c8mued/logs</code>"
      ],
      "text/plain": [
       "<IPython.core.display.HTML object>"
      ]
     },
     "metadata": {},
     "output_type": "display_data"
    }
   ],
   "source": [
    "wandb.finish()"
   ]
  }
 ],
 "metadata": {
  "kernelspec": {
   "display_name": "venv",
   "language": "python",
   "name": "python3"
  },
  "language_info": {
   "codemirror_mode": {
    "name": "ipython",
    "version": 3
   },
   "file_extension": ".py",
   "mimetype": "text/x-python",
   "name": "python",
   "nbconvert_exporter": "python",
   "pygments_lexer": "ipython3",
   "version": "3.11.8"
  }
 },
 "nbformat": 4,
 "nbformat_minor": 2
}
