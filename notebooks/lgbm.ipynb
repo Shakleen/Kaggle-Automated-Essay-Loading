{
 "cells": [
  {
   "cell_type": "markdown",
   "metadata": {},
   "source": [
    "# LGBM\n",
    "\n",
    "Sources\n",
    "1. [LGBM & Deberta Explained by ZULQARNAIN ALI](https://www.kaggle.com/code/zulqarnainalipk/lgbm-deberta-explained)"
   ]
  },
  {
   "cell_type": "markdown",
   "metadata": {},
   "source": [
    "## Setup"
   ]
  },
  {
   "cell_type": "code",
   "execution_count": 1,
   "metadata": {},
   "outputs": [],
   "source": [
    "import os\n",
    "import pandas as pd\n",
    "import numpy as np"
   ]
  },
  {
   "cell_type": "code",
   "execution_count": 2,
   "metadata": {},
   "outputs": [],
   "source": [
    "os.chdir(\"../\")"
   ]
  },
  {
   "cell_type": "code",
   "execution_count": 3,
   "metadata": {},
   "outputs": [],
   "source": [
    "from lib.config import config\n",
    "from lib.paths import Paths"
   ]
  },
  {
   "cell_type": "markdown",
   "metadata": {},
   "source": [
    "## Data Preparation"
   ]
  },
  {
   "cell_type": "markdown",
   "metadata": {},
   "source": [
    "### Data Loading"
   ]
  },
  {
   "cell_type": "code",
   "execution_count": 4,
   "metadata": {},
   "outputs": [],
   "source": [
    "train_df = pd.read_csv(Paths.COMPETITION_TRAIN_CSV_PATH)\n",
    "test_df = pd.read_csv(Paths.COMPETITION_TEST_CSE_PATH)"
   ]
  },
  {
   "cell_type": "markdown",
   "metadata": {},
   "source": [
    "### Counting Spelling Errors"
   ]
  },
  {
   "cell_type": "code",
   "execution_count": 5,
   "metadata": {},
   "outputs": [],
   "source": [
    "import spacy"
   ]
  },
  {
   "cell_type": "code",
   "execution_count": 6,
   "metadata": {},
   "outputs": [],
   "source": [
    "nlp = spacy.load(\"en_core_web_sm\")"
   ]
  },
  {
   "cell_type": "code",
   "execution_count": 7,
   "metadata": {},
   "outputs": [],
   "source": [
    "with open(Paths.ENG_WORDS_HX, 'r') as file:\n",
    "    english_vocab = set(word.strip().lower() for word in file)"
   ]
  },
  {
   "cell_type": "code",
   "execution_count": 8,
   "metadata": {},
   "outputs": [
    {
     "data": {
      "text/plain": [
       "1"
      ]
     },
     "execution_count": 8,
     "metadata": {},
     "output_type": "execute_result"
    }
   ],
   "source": [
    "def count_spelling_errors(text):\n",
    "    \"\"\"Uses `spacy` and list of correctly spelled english words\n",
    "    located at `Paths.ENG_WORDS_HX` to count number of spelling\n",
    "    errors.\n",
    "    \"\"\"\n",
    "    doc = nlp(text)\n",
    "    lemmatized_tokens = [token.lemma_.lower() for token in doc]\n",
    "\n",
    "    spelling_errors = sum(\n",
    "        1 for token in lemmatized_tokens if token not in english_vocab\n",
    "    )\n",
    "\n",
    "    return spelling_errors\n",
    "\n",
    "\n",
    "count_spelling_errors(\"There is one speling error here\")"
   ]
  },
  {
   "cell_type": "markdown",
   "metadata": {},
   "source": [
    "### Expanding Contractions"
   ]
  },
  {
   "cell_type": "code",
   "execution_count": 9,
   "metadata": {},
   "outputs": [],
   "source": [
    "import re\n",
    "import json"
   ]
  },
  {
   "cell_type": "code",
   "execution_count": 10,
   "metadata": {},
   "outputs": [],
   "source": [
    "contraction_dict = json.load(open(Paths.CONTRACTION_FILE_PATH, \"r\"))\n",
    "contraction_re = re.compile('(%s)' % '|'.join(contraction_dict.keys()))"
   ]
  },
  {
   "cell_type": "code",
   "execution_count": 11,
   "metadata": {},
   "outputs": [
    {
     "data": {
      "text/plain": [
       "'You are not working!'"
      ]
     },
     "execution_count": 11,
     "metadata": {},
     "output_type": "execute_result"
    }
   ],
   "source": [
    "def expand_contractions(text: str, c_re=contraction_re) -> str:\n",
    "    \"\"\"Replaces contracted word/phrase with enlongated word/phrase.\"\"\"\n",
    "\n",
    "    def replace(match):\n",
    "        return contraction_dict[match.group(0)]\n",
    "\n",
    "    return c_re.sub(replace, text)\n",
    "\n",
    "expand_contractions(\"You aren't working!\")"
   ]
  },
  {
   "cell_type": "markdown",
   "metadata": {},
   "source": [
    "### Data Cleaning"
   ]
  },
  {
   "cell_type": "code",
   "execution_count": 12,
   "metadata": {},
   "outputs": [],
   "source": [
    "def remove_HTML_tags(text: str) -> str:\n",
    "    \"\"\"Remove HTML tags from a text string\"\"\"\n",
    "    return re.sub(r\"<[^>]*>\", \"\", text)"
   ]
  },
  {
   "cell_type": "code",
   "execution_count": 13,
   "metadata": {},
   "outputs": [],
   "source": [
    "def remove_URL(text: str) -> str:\n",
    "    \"\"\"Remove URLs from a text string\"\"\"\n",
    "    return re.sub(r\"http\\S+\", \"\", text)"
   ]
  },
  {
   "cell_type": "code",
   "execution_count": 14,
   "metadata": {},
   "outputs": [
    {
     "data": {
      "text/plain": [
       "'this is example: for user'"
      ]
     },
     "execution_count": 14,
     "metadata": {},
     "output_type": "execute_result"
    }
   ],
   "source": [
    "def data_preprocessing(x: str) -> str:\n",
    "    x = x.lower()\n",
    "    x = remove_HTML_tags(x)\n",
    "    x = re.sub(\"@\\w+\", \"\", x)\n",
    "    x = re.sub(\"'\\d+\", \"\", x)\n",
    "    x = re.sub(\"\\d+\", \"\", x)\n",
    "    x = remove_URL(x)\n",
    "    x = re.sub(r\"\\s+\", \" \", x)\n",
    "    x = re.sub(r\"\\.+\", \".\", x)\n",
    "    x = re.sub(r\"\\,+\", \",\", x)\n",
    "    x = x.strip()\n",
    "    return x\n",
    "\n",
    "\n",
    "data_preprocessing(\"This is 1 example: <b>https://www.kaggle.com/</b> for user @shakleen\")"
   ]
  },
  {
   "cell_type": "markdown",
   "metadata": {},
   "source": [
    "### Punctuation Removal"
   ]
  },
  {
   "cell_type": "code",
   "execution_count": 15,
   "metadata": {},
   "outputs": [],
   "source": [
    "import string"
   ]
  },
  {
   "cell_type": "code",
   "execution_count": 16,
   "metadata": {},
   "outputs": [
    {
     "data": {
      "text/plain": [
       "'ThisHasNoPunctuations'"
      ]
     },
     "execution_count": 16,
     "metadata": {},
     "output_type": "execute_result"
    }
   ],
   "source": [
    "def remove_punctuation(text: str) -> str:\n",
    "    \"\"\"A translator is created using str.maketrans('', '', string.punctuation), \n",
    "    which generates a translation table that maps each character in the \n",
    "    string string.punctuation to None. This effectively removes all punctuation characters.\"\"\"\n",
    "    translator = str.maketrans(\"\", \"\", string.punctuation)\n",
    "    return text.translate(translator)\n",
    "\n",
    "\n",
    "remove_punctuation(\"This.Has!No-Punctuations!\")"
   ]
  },
  {
   "cell_type": "markdown",
   "metadata": {},
   "source": [
    "### Feature Engineerings"
   ]
  },
  {
   "cell_type": "markdown",
   "metadata": {},
   "source": [
    "#### Paragraph Level"
   ]
  },
  {
   "cell_type": "code",
   "execution_count": 17,
   "metadata": {},
   "outputs": [],
   "source": [
    "def process_paragraph(df: pd.DataFrame) -> pd.DataFrame:\n",
    "    # Construct paragraphs\n",
    "    df[\"paragraph\"] = df[\"full_text\"].map(lambda x: x.split(\"\\n\\n\"))\n",
    "\n",
    "    # Have each paragraph be its own row\n",
    "    df = df.explode(\"paragraph\")\n",
    "\n",
    "    # Process Paragraph text\n",
    "    df[\"paragraph\"] = df[\"paragraph\"].map(data_preprocessing)\n",
    "    df[\"paragraph_no_punctuation\"] = df[\"paragraph\"].map(remove_punctuation)\n",
    "\n",
    "    # Calculate base stats\n",
    "    df[\"paragraph_error_count\"] = df[\"paragraph_no_punctuation\"].map(count_spelling_errors)\n",
    "    df[\"paragraph_char_count\"] = df[\"paragraph\"].map(lambda x: len(x))\n",
    "    df[\"paragraph_word_count\"] = df[\"paragraph\"].map(lambda x: len(re.findall(r'\\w+', x)))\n",
    "    df[\"paragraph_sentence_count\"] = df[\"paragraph\"].map(lambda x: len(re.findall(r'[.!?]', x)))\n",
    "    \n",
    "    return df"
   ]
  },
  {
   "cell_type": "code",
   "execution_count": 18,
   "metadata": {},
   "outputs": [
    {
     "data": {
      "text/plain": [
       "(85934, 9)"
      ]
     },
     "execution_count": 18,
     "metadata": {},
     "output_type": "execute_result"
    }
   ],
   "source": [
    "train_df = process_paragraph(train_df)\n",
    "train_df.shape"
   ]
  },
  {
   "cell_type": "code",
   "execution_count": 19,
   "metadata": {},
   "outputs": [
    {
     "data": {
      "text/html": [
       "<div>\n",
       "<style scoped>\n",
       "    .dataframe tbody tr th:only-of-type {\n",
       "        vertical-align: middle;\n",
       "    }\n",
       "\n",
       "    .dataframe tbody tr th {\n",
       "        vertical-align: top;\n",
       "    }\n",
       "\n",
       "    .dataframe thead th {\n",
       "        text-align: right;\n",
       "    }\n",
       "</style>\n",
       "<table border=\"1\" class=\"dataframe\">\n",
       "  <thead>\n",
       "    <tr style=\"text-align: right;\">\n",
       "      <th></th>\n",
       "      <th>essay_id</th>\n",
       "      <th>full_text</th>\n",
       "      <th>score</th>\n",
       "      <th>paragraph</th>\n",
       "      <th>paragraph_no_punctuation</th>\n",
       "      <th>paragraph_error_count</th>\n",
       "      <th>paragraph_char_count</th>\n",
       "      <th>paragraph_word_count</th>\n",
       "      <th>paragraph_sentence_count</th>\n",
       "    </tr>\n",
       "  </thead>\n",
       "  <tbody>\n",
       "    <tr>\n",
       "      <th>7632</th>\n",
       "      <td>7235637</td>\n",
       "      <td>Driverless cars might sound awesome but at the...</td>\n",
       "      <td>2</td>\n",
       "      <td>my overall opinion is to get these cars. like ...</td>\n",
       "      <td>my overall opinion is to get these cars like i...</td>\n",
       "      <td>1</td>\n",
       "      <td>453</td>\n",
       "      <td>97</td>\n",
       "      <td>5</td>\n",
       "    </tr>\n",
       "    <tr>\n",
       "      <th>1974</th>\n",
       "      <td>1e1bb4e</td>\n",
       "      <td>Electoral college should be changed to electio...</td>\n",
       "      <td>2</td>\n",
       "      <td>electoral college should be changed to electio...</td>\n",
       "      <td>electoral college should be changed to electio...</td>\n",
       "      <td>3</td>\n",
       "      <td>619</td>\n",
       "      <td>99</td>\n",
       "      <td>4</td>\n",
       "    </tr>\n",
       "    <tr>\n",
       "      <th>1444</th>\n",
       "      <td>16729f5</td>\n",
       "      <td>Dear Senator,\\n\\nI believe that we should keep...</td>\n",
       "      <td>2</td>\n",
       "      <td>dear senator,</td>\n",
       "      <td>dear senator</td>\n",
       "      <td>0</td>\n",
       "      <td>13</td>\n",
       "      <td>2</td>\n",
       "      <td>0</td>\n",
       "    </tr>\n",
       "  </tbody>\n",
       "</table>\n",
       "</div>"
      ],
      "text/plain": [
       "     essay_id                                          full_text  score  \\\n",
       "7632  7235637  Driverless cars might sound awesome but at the...      2   \n",
       "1974  1e1bb4e  Electoral college should be changed to electio...      2   \n",
       "1444  16729f5  Dear Senator,\\n\\nI believe that we should keep...      2   \n",
       "\n",
       "                                              paragraph  \\\n",
       "7632  my overall opinion is to get these cars. like ...   \n",
       "1974  electoral college should be changed to electio...   \n",
       "1444                                      dear senator,   \n",
       "\n",
       "                               paragraph_no_punctuation  \\\n",
       "7632  my overall opinion is to get these cars like i...   \n",
       "1974  electoral college should be changed to electio...   \n",
       "1444                                       dear senator   \n",
       "\n",
       "      paragraph_error_count  paragraph_char_count  paragraph_word_count  \\\n",
       "7632                      1                   453                    97   \n",
       "1974                      3                   619                    99   \n",
       "1444                      0                    13                     2   \n",
       "\n",
       "      paragraph_sentence_count  \n",
       "7632                         5  \n",
       "1974                         4  \n",
       "1444                         0  "
      ]
     },
     "execution_count": 19,
     "metadata": {},
     "output_type": "execute_result"
    }
   ],
   "source": [
    "train_df.sample(3)"
   ]
  },
  {
   "cell_type": "code",
   "execution_count": 43,
   "metadata": {},
   "outputs": [],
   "source": [
    "def paragraph_feature_engineering(df: pd.DataFrame) -> pd.DataFrame:\n",
    "    feature_list = [\n",
    "        \"paragraph_error_count\",\n",
    "        \"paragraph_char_count\",\n",
    "        \"paragraph_word_count\",\n",
    "        \"paragraph_sentence_count\",\n",
    "    ]\n",
    "\n",
    "    feature_df = df.groupby(\"essay_id\")[feature_list].agg(\n",
    "        [\"mean\", \"min\", \"max\", \"sum\", \"first\", \"last\"]\n",
    "    )\n",
    "\n",
    "    feature_df = pd.concat(\n",
    "        [\n",
    "            feature_df,\n",
    "            df.groupby(\"essay_id\")[feature_list]\n",
    "            .agg([lambda x: np.quantile(x, 0.25), lambda x: np.quantile(x, 0.75)])\n",
    "            .rename(columns={\"<lambda_0>\": \"q1\", \"<lambda_1>\": \"q3\"}),\n",
    "        ],\n",
    "        axis=1,\n",
    "    )\n",
    "\n",
    "    feature_df = feature_df.set_axis(feature_df.columns.map(\"_\".join), axis=1)\n",
    "    feature_df = pd.concat([feature_df, df.groupby(\"essay_id\")[\"score\"].mean()], axis=1)\n",
    "    return feature_df.reset_index()"
   ]
  },
  {
   "cell_type": "code",
   "execution_count": 47,
   "metadata": {},
   "outputs": [
    {
     "data": {
      "text/plain": [
       "(17307, 34)"
      ]
     },
     "execution_count": 47,
     "metadata": {},
     "output_type": "execute_result"
    }
   ],
   "source": [
    "paragraph_features = paragraph_feature_engineering(train_df)\n",
    "paragraph_features.shape"
   ]
  },
  {
   "cell_type": "code",
   "execution_count": 48,
   "metadata": {},
   "outputs": [
    {
     "data": {
      "text/plain": [
       "Index(['essay_id', 'paragraph_error_count_mean', 'paragraph_error_count_min',\n",
       "       'paragraph_error_count_max', 'paragraph_error_count_sum',\n",
       "       'paragraph_error_count_first', 'paragraph_error_count_last',\n",
       "       'paragraph_char_count_mean', 'paragraph_char_count_min',\n",
       "       'paragraph_char_count_max', 'paragraph_char_count_sum',\n",
       "       'paragraph_char_count_first', 'paragraph_char_count_last',\n",
       "       'paragraph_word_count_mean', 'paragraph_word_count_min',\n",
       "       'paragraph_word_count_max', 'paragraph_word_count_sum',\n",
       "       'paragraph_word_count_first', 'paragraph_word_count_last',\n",
       "       'paragraph_sentence_count_mean', 'paragraph_sentence_count_min',\n",
       "       'paragraph_sentence_count_max', 'paragraph_sentence_count_sum',\n",
       "       'paragraph_sentence_count_first', 'paragraph_sentence_count_last',\n",
       "       'paragraph_error_count_q1', 'paragraph_error_count_q3',\n",
       "       'paragraph_char_count_q1', 'paragraph_char_count_q3',\n",
       "       'paragraph_word_count_q1', 'paragraph_word_count_q3',\n",
       "       'paragraph_sentence_count_q1', 'paragraph_sentence_count_q3', 'score'],\n",
       "      dtype='object')"
      ]
     },
     "execution_count": 48,
     "metadata": {},
     "output_type": "execute_result"
    }
   ],
   "source": [
    "paragraph_features.columns"
   ]
  },
  {
   "cell_type": "code",
   "execution_count": 49,
   "metadata": {},
   "outputs": [
    {
     "data": {
      "text/html": [
       "<div>\n",
       "<style scoped>\n",
       "    .dataframe tbody tr th:only-of-type {\n",
       "        vertical-align: middle;\n",
       "    }\n",
       "\n",
       "    .dataframe tbody tr th {\n",
       "        vertical-align: top;\n",
       "    }\n",
       "\n",
       "    .dataframe thead th {\n",
       "        text-align: right;\n",
       "    }\n",
       "</style>\n",
       "<table border=\"1\" class=\"dataframe\">\n",
       "  <thead>\n",
       "    <tr style=\"text-align: right;\">\n",
       "      <th></th>\n",
       "      <th>essay_id</th>\n",
       "      <th>paragraph_error_count_mean</th>\n",
       "      <th>paragraph_error_count_min</th>\n",
       "      <th>paragraph_error_count_max</th>\n",
       "      <th>paragraph_error_count_sum</th>\n",
       "      <th>paragraph_error_count_first</th>\n",
       "      <th>paragraph_error_count_last</th>\n",
       "      <th>paragraph_char_count_mean</th>\n",
       "      <th>paragraph_char_count_min</th>\n",
       "      <th>paragraph_char_count_max</th>\n",
       "      <th>...</th>\n",
       "      <th>paragraph_sentence_count_last</th>\n",
       "      <th>paragraph_error_count_q1</th>\n",
       "      <th>paragraph_error_count_q3</th>\n",
       "      <th>paragraph_char_count_q1</th>\n",
       "      <th>paragraph_char_count_q3</th>\n",
       "      <th>paragraph_word_count_q1</th>\n",
       "      <th>paragraph_word_count_q3</th>\n",
       "      <th>paragraph_sentence_count_q1</th>\n",
       "      <th>paragraph_sentence_count_q3</th>\n",
       "      <th>score</th>\n",
       "    </tr>\n",
       "  </thead>\n",
       "  <tbody>\n",
       "    <tr>\n",
       "      <th>4347</th>\n",
       "      <td>408b7f2</td>\n",
       "      <td>2.000000</td>\n",
       "      <td>0</td>\n",
       "      <td>5</td>\n",
       "      <td>6</td>\n",
       "      <td>1</td>\n",
       "      <td>5</td>\n",
       "      <td>514.666667</td>\n",
       "      <td>468</td>\n",
       "      <td>605</td>\n",
       "      <td>...</td>\n",
       "      <td>4</td>\n",
       "      <td>0.50</td>\n",
       "      <td>3.0</td>\n",
       "      <td>469.5</td>\n",
       "      <td>538.0</td>\n",
       "      <td>83.0</td>\n",
       "      <td>103.00</td>\n",
       "      <td>4.50</td>\n",
       "      <td>5.50</td>\n",
       "      <td>4.0</td>\n",
       "    </tr>\n",
       "    <tr>\n",
       "      <th>16749</th>\n",
       "      <td>f6ff58e</td>\n",
       "      <td>3.333333</td>\n",
       "      <td>0</td>\n",
       "      <td>7</td>\n",
       "      <td>20</td>\n",
       "      <td>0</td>\n",
       "      <td>3</td>\n",
       "      <td>386.000000</td>\n",
       "      <td>85</td>\n",
       "      <td>693</td>\n",
       "      <td>...</td>\n",
       "      <td>1</td>\n",
       "      <td>2.25</td>\n",
       "      <td>4.0</td>\n",
       "      <td>265.5</td>\n",
       "      <td>542.5</td>\n",
       "      <td>46.5</td>\n",
       "      <td>102.75</td>\n",
       "      <td>1.25</td>\n",
       "      <td>3.75</td>\n",
       "      <td>4.0</td>\n",
       "    </tr>\n",
       "    <tr>\n",
       "      <th>16400</th>\n",
       "      <td>f1c54fc</td>\n",
       "      <td>4.000000</td>\n",
       "      <td>1</td>\n",
       "      <td>7</td>\n",
       "      <td>12</td>\n",
       "      <td>1</td>\n",
       "      <td>4</td>\n",
       "      <td>506.000000</td>\n",
       "      <td>233</td>\n",
       "      <td>841</td>\n",
       "      <td>...</td>\n",
       "      <td>3</td>\n",
       "      <td>2.50</td>\n",
       "      <td>5.5</td>\n",
       "      <td>338.5</td>\n",
       "      <td>642.5</td>\n",
       "      <td>63.0</td>\n",
       "      <td>121.50</td>\n",
       "      <td>2.50</td>\n",
       "      <td>3.50</td>\n",
       "      <td>3.0</td>\n",
       "    </tr>\n",
       "  </tbody>\n",
       "</table>\n",
       "<p>3 rows × 34 columns</p>\n",
       "</div>"
      ],
      "text/plain": [
       "      essay_id  paragraph_error_count_mean  paragraph_error_count_min  \\\n",
       "4347   408b7f2                    2.000000                          0   \n",
       "16749  f6ff58e                    3.333333                          0   \n",
       "16400  f1c54fc                    4.000000                          1   \n",
       "\n",
       "       paragraph_error_count_max  paragraph_error_count_sum  \\\n",
       "4347                           5                          6   \n",
       "16749                          7                         20   \n",
       "16400                          7                         12   \n",
       "\n",
       "       paragraph_error_count_first  paragraph_error_count_last  \\\n",
       "4347                             1                           5   \n",
       "16749                            0                           3   \n",
       "16400                            1                           4   \n",
       "\n",
       "       paragraph_char_count_mean  paragraph_char_count_min  \\\n",
       "4347                  514.666667                       468   \n",
       "16749                 386.000000                        85   \n",
       "16400                 506.000000                       233   \n",
       "\n",
       "       paragraph_char_count_max  ...  paragraph_sentence_count_last  \\\n",
       "4347                        605  ...                              4   \n",
       "16749                       693  ...                              1   \n",
       "16400                       841  ...                              3   \n",
       "\n",
       "       paragraph_error_count_q1  paragraph_error_count_q3  \\\n",
       "4347                       0.50                       3.0   \n",
       "16749                      2.25                       4.0   \n",
       "16400                      2.50                       5.5   \n",
       "\n",
       "       paragraph_char_count_q1  paragraph_char_count_q3  \\\n",
       "4347                     469.5                    538.0   \n",
       "16749                    265.5                    542.5   \n",
       "16400                    338.5                    642.5   \n",
       "\n",
       "       paragraph_word_count_q1  paragraph_word_count_q3  \\\n",
       "4347                      83.0                   103.00   \n",
       "16749                     46.5                   102.75   \n",
       "16400                     63.0                   121.50   \n",
       "\n",
       "       paragraph_sentence_count_q1  paragraph_sentence_count_q3  score  \n",
       "4347                          4.50                         5.50    4.0  \n",
       "16749                         1.25                         3.75    4.0  \n",
       "16400                         2.50                         3.50    3.0  \n",
       "\n",
       "[3 rows x 34 columns]"
      ]
     },
     "execution_count": 49,
     "metadata": {},
     "output_type": "execute_result"
    }
   ],
   "source": [
    "paragraph_features.sample(3)"
   ]
  },
  {
   "cell_type": "code",
   "execution_count": 54,
   "metadata": {},
   "outputs": [],
   "source": [
    "paragraph_features.to_csv(Paths.PARAGRAPH_FEATURES_CSV_PATH, index=False)"
   ]
  },
  {
   "cell_type": "markdown",
   "metadata": {},
   "source": [
    "#### Sentence Level"
   ]
  },
  {
   "cell_type": "code",
   "execution_count": 17,
   "metadata": {},
   "outputs": [],
   "source": [
    "from nltk import sent_tokenize"
   ]
  },
  {
   "cell_type": "code",
   "execution_count": 21,
   "metadata": {},
   "outputs": [],
   "source": [
    "def process_sentence(df: pd.DataFrame) -> pd.DataFrame:\n",
    "    # Construct sentences\n",
    "    df[\"sentence\"] = df[\"full_text\"].map(lambda x: sent_tokenize(x))\n",
    "\n",
    "    # Have each paragraph be its own row\n",
    "    df = df.explode(\"sentence\")\n",
    "\n",
    "    # Process Paragraph text\n",
    "    df[\"sentence\"] = df[\"sentence\"].map(data_preprocessing)\n",
    "    df[\"sentence_no_punctuation\"] = df[\"sentence\"].map(remove_punctuation)\n",
    "\n",
    "    # Calculate base stats\n",
    "    df[\"sentence_error_count\"] = df[\"sentence_no_punctuation\"].map(count_spelling_errors)\n",
    "    df[\"sentence_char_count\"] = df[\"sentence\"].map(lambda x: len(x))\n",
    "    df[\"sentence_word_count\"] = df[\"sentence\"].map(lambda x: len(re.findall(r'\\w+', x)))\n",
    "    \n",
    "    return df"
   ]
  },
  {
   "cell_type": "code",
   "execution_count": 22,
   "metadata": {},
   "outputs": [
    {
     "data": {
      "text/plain": [
       "(330422, 8)"
      ]
     },
     "execution_count": 22,
     "metadata": {},
     "output_type": "execute_result"
    }
   ],
   "source": [
    "train_df = process_sentence(train_df)\n",
    "train_df.shape"
   ]
  },
  {
   "cell_type": "code",
   "execution_count": 25,
   "metadata": {},
   "outputs": [],
   "source": [
    "def sentence_feature_engineering(df: pd.DataFrame) -> pd.DataFrame:\n",
    "    feature_list = [\n",
    "        \"sentence_error_count\",\n",
    "        \"sentence_char_count\",\n",
    "        \"sentence_word_count\",\n",
    "    ]\n",
    "\n",
    "    feature_df = df.groupby(\"essay_id\")[feature_list].agg(\n",
    "        [\"mean\", \"min\", \"max\", \"sum\", \"first\", \"last\"]\n",
    "    )\n",
    "\n",
    "    feature_df = pd.concat(\n",
    "        [\n",
    "            feature_df,\n",
    "            df.groupby(\"essay_id\")[feature_list]\n",
    "            .agg([lambda x: np.quantile(x, 0.25), lambda x: np.quantile(x, 0.75)])\n",
    "            .rename(columns={\"<lambda_0>\": \"q1\", \"<lambda_1>\": \"q3\"}),\n",
    "        ],\n",
    "        axis=1,\n",
    "    )\n",
    "\n",
    "    feature_df = feature_df.set_axis(feature_df.columns.map(\"_\".join), axis=1)\n",
    "    feature_df = pd.concat([feature_df, df.groupby(\"essay_id\")[\"score\"].mean()], axis=1)\n",
    "    return feature_df.reset_index()"
   ]
  },
  {
   "cell_type": "code",
   "execution_count": 27,
   "metadata": {},
   "outputs": [],
   "source": [
    "sentence_features = sentence_feature_engineering(train_df)\n",
    "sentence_features.to_csv(Paths.SENTENCE_FEATURES_CSV_PATH, index=False)"
   ]
  },
  {
   "cell_type": "code",
   "execution_count": 28,
   "metadata": {},
   "outputs": [
    {
     "data": {
      "text/html": [
       "<div>\n",
       "<style scoped>\n",
       "    .dataframe tbody tr th:only-of-type {\n",
       "        vertical-align: middle;\n",
       "    }\n",
       "\n",
       "    .dataframe tbody tr th {\n",
       "        vertical-align: top;\n",
       "    }\n",
       "\n",
       "    .dataframe thead th {\n",
       "        text-align: right;\n",
       "    }\n",
       "</style>\n",
       "<table border=\"1\" class=\"dataframe\">\n",
       "  <thead>\n",
       "    <tr style=\"text-align: right;\">\n",
       "      <th></th>\n",
       "      <th>essay_id</th>\n",
       "      <th>sentence_error_count_mean</th>\n",
       "      <th>sentence_error_count_min</th>\n",
       "      <th>sentence_error_count_max</th>\n",
       "      <th>sentence_error_count_sum</th>\n",
       "      <th>sentence_error_count_first</th>\n",
       "      <th>sentence_error_count_last</th>\n",
       "      <th>sentence_char_count_mean</th>\n",
       "      <th>sentence_char_count_min</th>\n",
       "      <th>sentence_char_count_max</th>\n",
       "      <th>...</th>\n",
       "      <th>sentence_word_count_sum</th>\n",
       "      <th>sentence_word_count_first</th>\n",
       "      <th>sentence_word_count_last</th>\n",
       "      <th>sentence_error_count_q1</th>\n",
       "      <th>sentence_error_count_q3</th>\n",
       "      <th>sentence_char_count_q1</th>\n",
       "      <th>sentence_char_count_q3</th>\n",
       "      <th>sentence_word_count_q1</th>\n",
       "      <th>sentence_word_count_q3</th>\n",
       "      <th>score</th>\n",
       "    </tr>\n",
       "  </thead>\n",
       "  <tbody>\n",
       "    <tr>\n",
       "      <th>3446</th>\n",
       "      <td>3302250</td>\n",
       "      <td>1.200000</td>\n",
       "      <td>0</td>\n",
       "      <td>2</td>\n",
       "      <td>12</td>\n",
       "      <td>1</td>\n",
       "      <td>2</td>\n",
       "      <td>152.200000</td>\n",
       "      <td>57</td>\n",
       "      <td>243</td>\n",
       "      <td>...</td>\n",
       "      <td>253</td>\n",
       "      <td>15</td>\n",
       "      <td>23</td>\n",
       "      <td>1.0</td>\n",
       "      <td>2.0</td>\n",
       "      <td>107.50</td>\n",
       "      <td>201.75</td>\n",
       "      <td>16.75</td>\n",
       "      <td>34.50</td>\n",
       "      <td>1.0</td>\n",
       "    </tr>\n",
       "    <tr>\n",
       "      <th>15744</th>\n",
       "      <td>e86e8a9</td>\n",
       "      <td>0.473684</td>\n",
       "      <td>0</td>\n",
       "      <td>3</td>\n",
       "      <td>9</td>\n",
       "      <td>1</td>\n",
       "      <td>0</td>\n",
       "      <td>124.421053</td>\n",
       "      <td>51</td>\n",
       "      <td>258</td>\n",
       "      <td>...</td>\n",
       "      <td>446</td>\n",
       "      <td>32</td>\n",
       "      <td>21</td>\n",
       "      <td>0.0</td>\n",
       "      <td>1.0</td>\n",
       "      <td>83.50</td>\n",
       "      <td>152.50</td>\n",
       "      <td>15.00</td>\n",
       "      <td>29.50</td>\n",
       "      <td>4.0</td>\n",
       "    </tr>\n",
       "    <tr>\n",
       "      <th>3528</th>\n",
       "      <td>3432298</td>\n",
       "      <td>0.125000</td>\n",
       "      <td>0</td>\n",
       "      <td>1</td>\n",
       "      <td>3</td>\n",
       "      <td>0</td>\n",
       "      <td>0</td>\n",
       "      <td>73.750000</td>\n",
       "      <td>29</td>\n",
       "      <td>124</td>\n",
       "      <td>...</td>\n",
       "      <td>346</td>\n",
       "      <td>19</td>\n",
       "      <td>6</td>\n",
       "      <td>0.0</td>\n",
       "      <td>0.0</td>\n",
       "      <td>55.75</td>\n",
       "      <td>93.00</td>\n",
       "      <td>11.75</td>\n",
       "      <td>18.25</td>\n",
       "      <td>3.0</td>\n",
       "    </tr>\n",
       "  </tbody>\n",
       "</table>\n",
       "<p>3 rows × 26 columns</p>\n",
       "</div>"
      ],
      "text/plain": [
       "      essay_id  sentence_error_count_mean  sentence_error_count_min  \\\n",
       "3446   3302250                   1.200000                         0   \n",
       "15744  e86e8a9                   0.473684                         0   \n",
       "3528   3432298                   0.125000                         0   \n",
       "\n",
       "       sentence_error_count_max  sentence_error_count_sum  \\\n",
       "3446                          2                        12   \n",
       "15744                         3                         9   \n",
       "3528                          1                         3   \n",
       "\n",
       "       sentence_error_count_first  sentence_error_count_last  \\\n",
       "3446                            1                          2   \n",
       "15744                           1                          0   \n",
       "3528                            0                          0   \n",
       "\n",
       "       sentence_char_count_mean  sentence_char_count_min  \\\n",
       "3446                 152.200000                       57   \n",
       "15744                124.421053                       51   \n",
       "3528                  73.750000                       29   \n",
       "\n",
       "       sentence_char_count_max  ...  sentence_word_count_sum  \\\n",
       "3446                       243  ...                      253   \n",
       "15744                      258  ...                      446   \n",
       "3528                       124  ...                      346   \n",
       "\n",
       "       sentence_word_count_first  sentence_word_count_last  \\\n",
       "3446                          15                        23   \n",
       "15744                         32                        21   \n",
       "3528                          19                         6   \n",
       "\n",
       "       sentence_error_count_q1  sentence_error_count_q3  \\\n",
       "3446                       1.0                      2.0   \n",
       "15744                      0.0                      1.0   \n",
       "3528                       0.0                      0.0   \n",
       "\n",
       "       sentence_char_count_q1  sentence_char_count_q3  sentence_word_count_q1  \\\n",
       "3446                   107.50                  201.75                   16.75   \n",
       "15744                   83.50                  152.50                   15.00   \n",
       "3528                    55.75                   93.00                   11.75   \n",
       "\n",
       "       sentence_word_count_q3  score  \n",
       "3446                    34.50    1.0  \n",
       "15744                   29.50    4.0  \n",
       "3528                    18.25    3.0  \n",
       "\n",
       "[3 rows x 26 columns]"
      ]
     },
     "execution_count": 28,
     "metadata": {},
     "output_type": "execute_result"
    }
   ],
   "source": [
    "sentence_features.sample(3)"
   ]
  },
  {
   "cell_type": "code",
   "execution_count": 29,
   "metadata": {},
   "outputs": [
    {
     "data": {
      "text/plain": [
       "(17307, 26)"
      ]
     },
     "execution_count": 29,
     "metadata": {},
     "output_type": "execute_result"
    }
   ],
   "source": [
    "sentence_features.shape"
   ]
  },
  {
   "cell_type": "markdown",
   "metadata": {},
   "source": [
    "#### Word Level"
   ]
  },
  {
   "cell_type": "code",
   "execution_count": 19,
   "metadata": {},
   "outputs": [],
   "source": [
    "def process_word(df: pd.DataFrame) -> pd.DataFrame:\n",
    "    # Construct sentences\n",
    "    temp = df[\"full_text\"].map(data_preprocessing)\n",
    "    df[\"word\"] = temp.map(lambda x: x.split(\" \"))\n",
    "\n",
    "    # Have each paragraph be its own row\n",
    "    df = df.explode(\"word\")\n",
    "\n",
    "    # Calculate base stats\n",
    "    df[\"word_char_count\"] = df[\"word\"].map(lambda x: len(x))\n",
    "\n",
    "    return df"
   ]
  },
  {
   "cell_type": "code",
   "execution_count": 20,
   "metadata": {},
   "outputs": [
    {
     "data": {
      "text/plain": [
       "(6350538, 5)"
      ]
     },
     "execution_count": 20,
     "metadata": {},
     "output_type": "execute_result"
    }
   ],
   "source": [
    "train_df = process_word(train_df)\n",
    "train_df.shape"
   ]
  },
  {
   "cell_type": "code",
   "execution_count": 21,
   "metadata": {},
   "outputs": [],
   "source": [
    "def word_feature_engineering(df: pd.DataFrame) -> pd.DataFrame:\n",
    "    feature_list = [\"word_char_count\"]\n",
    "\n",
    "    feature_df = df.groupby(\"essay_id\")[feature_list].agg([\"mean\", \"min\", \"max\"])\n",
    "\n",
    "    feature_df = pd.concat(\n",
    "        [\n",
    "            feature_df,\n",
    "            df.groupby(\"essay_id\")[feature_list]\n",
    "            .agg(\n",
    "                [\n",
    "                    lambda x: np.quantile(x, 0.25),\n",
    "                    lambda x: np.quantile(x, 0.50),\n",
    "                    lambda x: np.quantile(x, 0.75),\n",
    "                ]\n",
    "            )\n",
    "            .rename(\n",
    "                columns={\n",
    "                    \"<lambda_0>\": \"q1\",\n",
    "                    \"<lambda_1>\": \"q2\",\n",
    "                    \"<lambda_1>\": \"q3\",\n",
    "                }\n",
    "            ),\n",
    "        ],\n",
    "        axis=1,\n",
    "    )\n",
    "\n",
    "    feature_df = feature_df.set_axis(feature_df.columns.map(\"_\".join), axis=1)\n",
    "    feature_df = pd.concat([feature_df, df.groupby(\"essay_id\")[\"score\"].mean()], axis=1)\n",
    "    return feature_df.reset_index()"
   ]
  },
  {
   "cell_type": "code",
   "execution_count": 22,
   "metadata": {},
   "outputs": [
    {
     "data": {
      "text/plain": [
       "(17307, 8)"
      ]
     },
     "execution_count": 22,
     "metadata": {},
     "output_type": "execute_result"
    }
   ],
   "source": [
    "word_features = word_feature_engineering(train_df)\n",
    "word_features.shape"
   ]
  },
  {
   "cell_type": "code",
   "execution_count": 23,
   "metadata": {},
   "outputs": [],
   "source": [
    "word_features.to_csv(Paths.WORD_FEATURES_CSV_PATH, index=False)"
   ]
  }
 ],
 "metadata": {
  "kernelspec": {
   "display_name": "venv",
   "language": "python",
   "name": "python3"
  },
  "language_info": {
   "codemirror_mode": {
    "name": "ipython",
    "version": 3
   },
   "file_extension": ".py",
   "mimetype": "text/x-python",
   "name": "python",
   "nbconvert_exporter": "python",
   "pygments_lexer": "ipython3",
   "version": "3.11.8"
  }
 },
 "nbformat": 4,
 "nbformat_minor": 2
}
