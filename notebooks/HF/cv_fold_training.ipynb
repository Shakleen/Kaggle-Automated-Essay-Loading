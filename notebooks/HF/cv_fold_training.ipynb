{
 "cells": [
  {
   "cell_type": "markdown",
   "metadata": {},
   "source": [
    "# 🤗 HuggingFace Neural Network Notebook - CV Split\n",
    "\n",
    "Sources:\n",
    "1. [Originally based on cdoette's notebook](https://www.kaggle.com/code/cdeotte/deberta-v3-small-starter-cv-0-820-lb-0-800?scriptVersionId=174239814)"
   ]
  },
  {
   "cell_type": "markdown",
   "metadata": {},
   "source": [
    "## Version History"
   ]
  },
  {
   "cell_type": "markdown",
   "metadata": {},
   "source": [
    "### 1.0\n",
    "Base implementation following [cdoette's notebook](https://www.kaggle.com/code/cdeotte/deberta-v3-small-starter-cv-0-820-lb-0-800?scriptVersionId=174239814)\n",
    "\n",
    "### 2.0\n",
    "1. Sliding window technique\n",
    "2. wandb logging\n",
    "3. Threshold"
   ]
  },
  {
   "cell_type": "markdown",
   "metadata": {},
   "source": [
    "## Setup"
   ]
  },
  {
   "cell_type": "markdown",
   "metadata": {},
   "source": [
    "### Environment Variables"
   ]
  },
  {
   "cell_type": "code",
   "execution_count": 1,
   "metadata": {},
   "outputs": [
    {
     "name": "stdout",
     "output_type": "stream",
     "text": [
      "env: TOKENIZERS_PARALLELISM=true\n"
     ]
    }
   ],
   "source": [
    "%env TOKENIZERS_PARALLELISM=true"
   ]
  },
  {
   "cell_type": "markdown",
   "metadata": {},
   "source": [
    "### Import Libraries"
   ]
  },
  {
   "cell_type": "code",
   "execution_count": 2,
   "metadata": {},
   "outputs": [],
   "source": [
    "import gc\n",
    "import os\n",
    "import random\n",
    "import time\n",
    "from typing import Tuple, List\n",
    "import warnings\n",
    "import pickle as pkl\n",
    "\n",
    "from dotenv import load_dotenv\n",
    "import wandb\n",
    "from tqdm import tqdm\n",
    "import torch\n",
    "import pandas as pd, numpy as np\n",
    "import matplotlib.pyplot as plt\n",
    "from transformers import (\n",
    "    AutoTokenizer,\n",
    "    AutoModelForSequenceClassification,\n",
    "    AutoConfig,\n",
    "    TrainingArguments,\n",
    "    Trainer,\n",
    "    DataCollatorWithPadding,\n",
    "    PreTrainedTokenizer,\n",
    ")\n",
    "from datasets import Dataset\n",
    "from tokenizers import AddedToken\n",
    "from sklearn.model_selection import StratifiedGroupKFold\n",
    "from sklearn.metrics import (\n",
    "    confusion_matrix,\n",
    "    ConfusionMatrixDisplay,\n",
    "    cohen_kappa_score,\n",
    ")"
   ]
  },
  {
   "cell_type": "code",
   "execution_count": 3,
   "metadata": {},
   "outputs": [
    {
     "data": {
      "text/plain": [
       "True"
      ]
     },
     "execution_count": 3,
     "metadata": {},
     "output_type": "execute_result"
    }
   ],
   "source": [
    "os.chdir(\"../../\")\n",
    "warnings.simplefilter('ignore')\n",
    "load_dotenv()"
   ]
  },
  {
   "cell_type": "code",
   "execution_count": 4,
   "metadata": {},
   "outputs": [],
   "source": [
    "from lib.criterion.metrics import log_metrics\n",
    "from lib.utils.find_threshold import find_thresholds"
   ]
  },
  {
   "cell_type": "markdown",
   "metadata": {},
   "source": [
    "### Paths"
   ]
  },
  {
   "cell_type": "code",
   "execution_count": 5,
   "metadata": {},
   "outputs": [],
   "source": [
    "class Paths:\n",
    "    # Competition data with added topic column\n",
    "    train_csv: str = \"data/processed/train.csv\"\n",
    "    test_csv: str = \"data/processed/test.csv\"\n",
    "\n",
    "    # Output path\n",
    "    output_path: str = \"output/model_dir_cv\"\n",
    "    model_path: str = os.path.join(output_path, \"{model_name}_fold_{fold}\")\n",
    "    tokenizer_path: str =  os.path.join(output_path, \"{model_name}_tokenizer\")\n",
    "    oof_path: str = os.path.join(output_path, \"valid_df_fold_{fold}.csv\")\n",
    "    threshold_path: str = os.path.join(output_path, \"threshold.pkl\")\n",
    "    logging_path: str = os.path.join(output_path, \"logging\")"
   ]
  },
  {
   "cell_type": "markdown",
   "metadata": {},
   "source": [
    "### Configurations"
   ]
  },
  {
   "cell_type": "code",
   "execution_count": 6,
   "metadata": {},
   "outputs": [],
   "source": [
    "DEBUG = False\n",
    "DO_SLIDING_WINDOW = True\n",
    "DO_REGRESSION = True"
   ]
  },
  {
   "cell_type": "code",
   "execution_count": 7,
   "metadata": {},
   "outputs": [],
   "source": [
    "class CFG:\n",
    "    backbone_model: str = \"microsoft/deberta-v3-large\"\n",
    "    gradient_accumulation_steps: int = 1\n",
    "    gradient_checkpointing: bool = True\n",
    "    lr: float = 2e-5\n",
    "    lr_scheduler_type: str = \"cosine\"\n",
    "    max_length: int = 512\n",
    "    n_splits: int = 7\n",
    "    num_labels: int = 6\n",
    "    num_folds: int = 7\n",
    "    num_epochs: int = 3\n",
    "    num_workers: int = 6\n",
    "    seed: int = 20\n",
    "    stride_length: int = 384\n",
    "    train_batch_size: int = 16\n",
    "    valid_batch_size: int = 32\n",
    "    weight_decay: float = 0.03\n",
    "    warmup_ratio: float = 0.01\n",
    "    train_folds: List[int] = list(range(num_folds))"
   ]
  },
  {
   "cell_type": "code",
   "execution_count": 8,
   "metadata": {},
   "outputs": [],
   "source": [
    "if DEBUG:\n",
    "    CFG.num_epochs = 1\n",
    "    CFG.train_folds = [0]"
   ]
  },
  {
   "cell_type": "code",
   "execution_count": 9,
   "metadata": {},
   "outputs": [],
   "source": [
    "MODEL_NAME = CFG.backbone_model.split(\"/\")[-1]"
   ]
  },
  {
   "cell_type": "markdown",
   "metadata": {},
   "source": [
    "### Setting Random Seed"
   ]
  },
  {
   "cell_type": "code",
   "execution_count": 10,
   "metadata": {},
   "outputs": [],
   "source": [
    "def seed_everything() -> None:\n",
    "    \"\"\"Seed everything to ensure reproducibility\n",
    "\n",
    "    Sources:\n",
    "    1. https://www.kaggle.com/code/alejopaullier/aes-2-multi-class-classification-train\n",
    "    2. https://www.kaggle.com/code/hashidoyuto/deberta-baseline-aes2-0-train\n",
    "    \"\"\"\n",
    "    random.seed(CFG.seed)\n",
    "    os.environ[\"PYTHONHASHCFG.SEED\"] = str(CFG.seed)\n",
    "    np.random.seed(CFG.seed)\n",
    "    torch.manual_seed(CFG.seed)\n",
    "    torch.cuda.manual_seed(CFG.seed)\n",
    "    torch.backends.cudnn.deterministic = True\n",
    "    torch.backends.cudnn.benchmark = True\n",
    "\n",
    "seed_everything()"
   ]
  },
  {
   "cell_type": "markdown",
   "metadata": {},
   "source": [
    "### WandB setup"
   ]
  },
  {
   "cell_type": "code",
   "execution_count": 11,
   "metadata": {},
   "outputs": [],
   "source": [
    "WANDB_PROJECT = \"Kaggle_ASE_2.0\"\n",
    "type = \"R\" if DO_REGRESSION else \"C\"\n",
    "WANDB_NAME = f\"{MODEL_NAME}-{CFG.max_length}-{type}-CV\""
   ]
  },
  {
   "cell_type": "code",
   "execution_count": 12,
   "metadata": {},
   "outputs": [
    {
     "name": "stderr",
     "output_type": "stream",
     "text": [
      "Failed to detect the name of this notebook, you can set it manually with the WANDB_NOTEBOOK_NAME environment variable to enable code saving.\n",
      "\u001b[34m\u001b[1mwandb\u001b[0m: Currently logged in as: \u001b[33mshakleenishfar\u001b[0m (\u001b[33mlaplacesdemon43\u001b[0m). Use \u001b[1m`wandb login --relogin`\u001b[0m to force relogin\n",
      "\u001b[34m\u001b[1mwandb\u001b[0m: \u001b[33mWARNING\u001b[0m If you're specifying your api key in code, ensure this code is not shared publicly.\n",
      "\u001b[34m\u001b[1mwandb\u001b[0m: \u001b[33mWARNING\u001b[0m Consider setting the WANDB_API_KEY environment variable, or running `wandb login` from the command line.\n",
      "\u001b[34m\u001b[1mwandb\u001b[0m: Appending key for api.wandb.ai to your netrc file: /home/ishfar/.netrc\n"
     ]
    },
    {
     "data": {
      "text/html": [
       "wandb version 0.17.1 is available!  To upgrade, please run:\n",
       " $ pip install wandb --upgrade"
      ],
      "text/plain": [
       "<IPython.core.display.HTML object>"
      ]
     },
     "metadata": {},
     "output_type": "display_data"
    },
    {
     "data": {
      "text/html": [
       "Tracking run with wandb version 0.16.6"
      ],
      "text/plain": [
       "<IPython.core.display.HTML object>"
      ]
     },
     "metadata": {},
     "output_type": "display_data"
    },
    {
     "data": {
      "text/html": [
       "Run data is saved locally in <code>/media/ishfar/New Volume/Studies/Projects/Kaggle-Automated-Essay-Scoring/wandb/run-20240614_215326-iff1gzrm</code>"
      ],
      "text/plain": [
       "<IPython.core.display.HTML object>"
      ]
     },
     "metadata": {},
     "output_type": "display_data"
    },
    {
     "data": {
      "text/html": [
       "Syncing run <strong><a href='https://wandb.ai/laplacesdemon43/Kaggle_ASE_2.0/runs/iff1gzrm' target=\"_blank\">deberta-v3-large-512-R-CV</a></strong> to <a href='https://wandb.ai/laplacesdemon43/Kaggle_ASE_2.0' target=\"_blank\">Weights & Biases</a> (<a href='https://wandb.me/run' target=\"_blank\">docs</a>)<br/>"
      ],
      "text/plain": [
       "<IPython.core.display.HTML object>"
      ]
     },
     "metadata": {},
     "output_type": "display_data"
    },
    {
     "data": {
      "text/html": [
       " View project at <a href='https://wandb.ai/laplacesdemon43/Kaggle_ASE_2.0' target=\"_blank\">https://wandb.ai/laplacesdemon43/Kaggle_ASE_2.0</a>"
      ],
      "text/plain": [
       "<IPython.core.display.HTML object>"
      ]
     },
     "metadata": {},
     "output_type": "display_data"
    },
    {
     "data": {
      "text/html": [
       " View run at <a href='https://wandb.ai/laplacesdemon43/Kaggle_ASE_2.0/runs/iff1gzrm' target=\"_blank\">https://wandb.ai/laplacesdemon43/Kaggle_ASE_2.0/runs/iff1gzrm</a>"
      ],
      "text/plain": [
       "<IPython.core.display.HTML object>"
      ]
     },
     "metadata": {},
     "output_type": "display_data"
    }
   ],
   "source": [
    "wandb.login(key=os.environ.get('WANDB_API_KEY'))\n",
    "wandb.init(\n",
    "    project=WANDB_PROJECT,\n",
    "    name=WANDB_NAME,\n",
    "    save_code=True,\n",
    "    job_type=\"train\",\n",
    ")\n",
    "config = wandb.config"
   ]
  },
  {
   "cell_type": "markdown",
   "metadata": {},
   "source": [
    "## Data Preparation"
   ]
  },
  {
   "cell_type": "markdown",
   "metadata": {},
   "source": [
    "### Tokenizer"
   ]
  },
  {
   "cell_type": "code",
   "execution_count": 13,
   "metadata": {},
   "outputs": [],
   "source": [
    "class Tokenize(object):\n",
    "    def __init__(self, train, valid, tokenizer):\n",
    "        self.tokenizer = tokenizer\n",
    "        self.train = train\n",
    "        self.valid = valid\n",
    "\n",
    "    def get_dataset(self, df):\n",
    "        ds = Dataset.from_dict(\n",
    "            {\n",
    "                \"essay_id\": [e for e in df[\"essay_id\"]],\n",
    "                \"full_text\": [ft for ft in df[\"full_text\"]],\n",
    "                \"label\": [s for s in df[\"label\"]],\n",
    "            }\n",
    "        )\n",
    "        return ds\n",
    "\n",
    "    def tokenize_function(self, example):\n",
    "        tokenized_inputs = self.tokenizer(\n",
    "            example[\"full_text\"],\n",
    "            truncation=True,\n",
    "            max_length=CFG.max_length,\n",
    "            padding=\"max_length\",\n",
    "            \n",
    "        )\n",
    "        return tokenized_inputs\n",
    "\n",
    "    def __call__(self):\n",
    "        train_ds = self.get_dataset(self.train)\n",
    "        valid_ds = self.get_dataset(self.valid)\n",
    "\n",
    "        tokenized_train = train_ds.map(self.tokenize_function, batched=True)\n",
    "        tokenized_valid = valid_ds.map(self.tokenize_function, batched=True)\n",
    "\n",
    "        return tokenized_train, tokenized_valid, self.tokenizer"
   ]
  },
  {
   "cell_type": "code",
   "execution_count": 14,
   "metadata": {},
   "outputs": [
    {
     "data": {
      "text/plain": [
       "('output/model_dir_cv/deberta-v3-large_tokenizer/tokenizer_config.json',\n",
       " 'output/model_dir_cv/deberta-v3-large_tokenizer/special_tokens_map.json',\n",
       " 'output/model_dir_cv/deberta-v3-large_tokenizer/spm.model',\n",
       " 'output/model_dir_cv/deberta-v3-large_tokenizer/added_tokens.json',\n",
       " 'output/model_dir_cv/deberta-v3-large_tokenizer/tokenizer.json')"
      ]
     },
     "execution_count": 14,
     "metadata": {},
     "output_type": "execute_result"
    }
   ],
   "source": [
    "tokenizer = AutoTokenizer.from_pretrained(CFG.backbone_model)\n",
    "tokenizer.add_tokens([AddedToken(\"\\n\", normalized=False)])\n",
    "tokenizer.add_tokens([AddedToken(\" \" * 2, normalized=False)])\n",
    "tokenizer.save_pretrained(Paths.tokenizer_path.format(model_name=MODEL_NAME))"
   ]
  },
  {
   "cell_type": "markdown",
   "metadata": {},
   "source": [
    "### Data Preprocessing\n",
    "\n",
    "1. Convert `label` to be in `scores` which are processed to be in range $[0-5]$.\n",
    "2. Convert `label` data type based on whether we are doing regression or classification."
   ]
  },
  {
   "cell_type": "code",
   "execution_count": 15,
   "metadata": {},
   "outputs": [
    {
     "name": "stdout",
     "output_type": "stream",
     "text": [
      "Training dataset has shape: (17307, 4)\n"
     ]
    },
    {
     "data": {
      "text/html": [
       "<div>\n",
       "<style scoped>\n",
       "    .dataframe tbody tr th:only-of-type {\n",
       "        vertical-align: middle;\n",
       "    }\n",
       "\n",
       "    .dataframe tbody tr th {\n",
       "        vertical-align: top;\n",
       "    }\n",
       "\n",
       "    .dataframe thead th {\n",
       "        text-align: right;\n",
       "    }\n",
       "</style>\n",
       "<table border=\"1\" class=\"dataframe\">\n",
       "  <thead>\n",
       "    <tr style=\"text-align: right;\">\n",
       "      <th></th>\n",
       "      <th>essay_id</th>\n",
       "      <th>full_text</th>\n",
       "      <th>score</th>\n",
       "      <th>topic</th>\n",
       "      <th>label</th>\n",
       "    </tr>\n",
       "  </thead>\n",
       "  <tbody>\n",
       "    <tr>\n",
       "      <th>0</th>\n",
       "      <td>000d118</td>\n",
       "      <td>Many people have car where they live. The thin...</td>\n",
       "      <td>3</td>\n",
       "      <td>5</td>\n",
       "      <td>2.0</td>\n",
       "    </tr>\n",
       "    <tr>\n",
       "      <th>1</th>\n",
       "      <td>000fe60</td>\n",
       "      <td>I am a scientist at NASA that is discussing th...</td>\n",
       "      <td>3</td>\n",
       "      <td>3</td>\n",
       "      <td>2.0</td>\n",
       "    </tr>\n",
       "    <tr>\n",
       "      <th>2</th>\n",
       "      <td>001ab80</td>\n",
       "      <td>People always wish they had the same technolog...</td>\n",
       "      <td>4</td>\n",
       "      <td>0</td>\n",
       "      <td>3.0</td>\n",
       "    </tr>\n",
       "  </tbody>\n",
       "</table>\n",
       "</div>"
      ],
      "text/plain": [
       "  essay_id                                          full_text  score  topic  \\\n",
       "0  000d118  Many people have car where they live. The thin...      3      5   \n",
       "1  000fe60  I am a scientist at NASA that is discussing th...      3      3   \n",
       "2  001ab80  People always wish they had the same technolog...      4      0   \n",
       "\n",
       "   label  \n",
       "0    2.0  \n",
       "1    2.0  \n",
       "2    3.0  "
      ]
     },
     "execution_count": 15,
     "metadata": {},
     "output_type": "execute_result"
    }
   ],
   "source": [
    "data = pd.read_csv(Paths.train_csv, low_memory=False)\n",
    "print(\"Training dataset has shape:\", data.shape)\n",
    "\n",
    "data[\"label\"] = data[\"score\"].map(lambda x: x- 1)\n",
    "\n",
    "if DO_REGRESSION:\n",
    "    data[\"label\"] = data[\"label\"].astype(pd.Float32Dtype())\n",
    "else:\n",
    "    data[\"label\"] = data[\"label\"].astype(pd.Int32Dtype())\n",
    "\n",
    "data.head(3)"
   ]
  },
  {
   "cell_type": "markdown",
   "metadata": {},
   "source": [
    "### Train-Valid Splitting"
   ]
  },
  {
   "cell_type": "code",
   "execution_count": 16,
   "metadata": {},
   "outputs": [
    {
     "data": {
      "text/html": [
       "<div>\n",
       "<style scoped>\n",
       "    .dataframe tbody tr th:only-of-type {\n",
       "        vertical-align: middle;\n",
       "    }\n",
       "\n",
       "    .dataframe tbody tr th {\n",
       "        vertical-align: top;\n",
       "    }\n",
       "\n",
       "    .dataframe thead th {\n",
       "        text-align: right;\n",
       "    }\n",
       "</style>\n",
       "<table border=\"1\" class=\"dataframe\">\n",
       "  <thead>\n",
       "    <tr style=\"text-align: right;\">\n",
       "      <th></th>\n",
       "      <th>essay_id</th>\n",
       "      <th>full_text</th>\n",
       "      <th>score</th>\n",
       "      <th>topic</th>\n",
       "      <th>label</th>\n",
       "      <th>fold</th>\n",
       "    </tr>\n",
       "  </thead>\n",
       "  <tbody>\n",
       "    <tr>\n",
       "      <th>0</th>\n",
       "      <td>000d118</td>\n",
       "      <td>Many people have car where they live. The thin...</td>\n",
       "      <td>3</td>\n",
       "      <td>5</td>\n",
       "      <td>2.0</td>\n",
       "      <td>1.0</td>\n",
       "    </tr>\n",
       "    <tr>\n",
       "      <th>1</th>\n",
       "      <td>000fe60</td>\n",
       "      <td>I am a scientist at NASA that is discussing th...</td>\n",
       "      <td>3</td>\n",
       "      <td>3</td>\n",
       "      <td>2.0</td>\n",
       "      <td>5.0</td>\n",
       "    </tr>\n",
       "    <tr>\n",
       "      <th>2</th>\n",
       "      <td>001ab80</td>\n",
       "      <td>People always wish they had the same technolog...</td>\n",
       "      <td>4</td>\n",
       "      <td>0</td>\n",
       "      <td>3.0</td>\n",
       "      <td>4.0</td>\n",
       "    </tr>\n",
       "  </tbody>\n",
       "</table>\n",
       "</div>"
      ],
      "text/plain": [
       "  essay_id                                          full_text  score  topic  \\\n",
       "0  000d118  Many people have car where they live. The thin...      3      5   \n",
       "1  000fe60  I am a scientist at NASA that is discussing th...      3      3   \n",
       "2  001ab80  People always wish they had the same technolog...      4      0   \n",
       "\n",
       "   label  fold  \n",
       "0    2.0   1.0  \n",
       "1    2.0   5.0  \n",
       "2    3.0   4.0  "
      ]
     },
     "execution_count": 16,
     "metadata": {},
     "output_type": "execute_result"
    }
   ],
   "source": [
    "skf = StratifiedGroupKFold(n_splits=CFG.num_folds, shuffle=True, random_state=CFG.seed)\n",
    "\n",
    "for i, (_, val_index) in enumerate(skf.split(data, data[\"label\"], data[\"topic\"])):\n",
    "    data.loc[val_index, \"fold\"] = i\n",
    "\n",
    "data.head(3)"
   ]
  },
  {
   "cell_type": "markdown",
   "metadata": {},
   "source": [
    "### Sliding Window\n",
    "\n",
    "Essays can have varying lengths. Instead of truncating, see the entire essay as windows of length `CFG.max_length` which are strided with `CFG.stride_length`."
   ]
  },
  {
   "cell_type": "code",
   "execution_count": 17,
   "metadata": {},
   "outputs": [],
   "source": [
    "def construct_new_row(old_row, text):\n",
    "    new_row = {key: old_row[key] for key in old_row.keys() if key != \"index\"}\n",
    "    new_row[\"full_text\"] = text\n",
    "    return new_row"
   ]
  },
  {
   "cell_type": "code",
   "execution_count": 18,
   "metadata": {},
   "outputs": [],
   "source": [
    "def split_tokens(tokens, stride):\n",
    "    \"\"\"Splits `tokens` into multiple sequences that have at most\n",
    "    `CFG.max_length` tokens. Uses `CFG.stride` for sliding\n",
    "    window.\n",
    "\n",
    "    Args:\n",
    "        tokens (List): List of tokens.\n",
    "        stride (int): Stride length.\n",
    "\n",
    "    Returns:\n",
    "        List[List[int]]: List of split token sequences.\n",
    "    \"\"\"\n",
    "    start = 0\n",
    "    sequence_list = []\n",
    "\n",
    "    while start < len(tokens):\n",
    "        remaining_tokens = len(tokens) - start\n",
    "\n",
    "        if remaining_tokens < CFG.max_length and start > 0:\n",
    "            start = max(0, len(tokens) - CFG.max_length)\n",
    "\n",
    "        end = min(start + CFG.max_length, len(tokens))\n",
    "        sequence_list.append(tokens[start:end])\n",
    "\n",
    "        if remaining_tokens >= CFG.max_length:\n",
    "            start += stride\n",
    "        else:\n",
    "            break\n",
    "\n",
    "    return sequence_list"
   ]
  },
  {
   "cell_type": "code",
   "execution_count": 19,
   "metadata": {},
   "outputs": [],
   "source": [
    "def sliding_window(df, tokenizer):\n",
    "    \"\"\"Splits rows of `df` so that each row's text has at most\n",
    "    `CFG.max_length` number of tokens.\n",
    "\n",
    "    Args:\n",
    "        df (pd.DataFrame): Input data frame.\n",
    "        tokenizer (_type_): Tokenizer used to encode and decode text.\n",
    "\n",
    "    Returns:\n",
    "        pd.DataFrame: Newly constructed dataframe.\n",
    "    \"\"\"\n",
    "\n",
    "    new_df = []\n",
    "\n",
    "    for _, row in tqdm(df.iterrows(), total=df.shape[0]):\n",
    "        tokens = tokenizer.encode(row[\"full_text\"], add_special_tokens=False)\n",
    "\n",
    "        if len(tokens) <= CFG.max_length:\n",
    "            new_df.append(construct_new_row(row, row[\"full_text\"]))\n",
    "        else:\n",
    "            sequence_list = split_tokens(tokens, CFG.stride_length)\n",
    "\n",
    "            for seq in sequence_list:\n",
    "                new_df.append(\n",
    "                    construct_new_row(\n",
    "                        row,\n",
    "                        tokenizer.decode(seq, skip_special_tokens=True),\n",
    "                    )\n",
    "                )\n",
    "\n",
    "    return pd.DataFrame(new_df)"
   ]
  },
  {
   "cell_type": "code",
   "execution_count": 20,
   "metadata": {},
   "outputs": [
    {
     "name": "stderr",
     "output_type": "stream",
     "text": [
      "100%|██████████| 17307/17307 [00:40<00:00, 428.06it/s]\n"
     ]
    }
   ],
   "source": [
    "if DO_SLIDING_WINDOW:\n",
    "    data = sliding_window(data, tokenizer)\n",
    "    data.head(3)"
   ]
  },
  {
   "cell_type": "markdown",
   "metadata": {},
   "source": [
    "## Metrics"
   ]
  },
  {
   "cell_type": "markdown",
   "metadata": {},
   "source": [
    "### QWK Score Calculation"
   ]
  },
  {
   "cell_type": "code",
   "execution_count": 21,
   "metadata": {},
   "outputs": [],
   "source": [
    "def compute_metrics_for_regression(eval_pred):\n",
    "    predictions, labels = eval_pred\n",
    "\n",
    "    qwk = cohen_kappa_score(\n",
    "        labels,\n",
    "        predictions.clip(0, 5).round(0),\n",
    "        weights=\"quadratic\",\n",
    "    )\n",
    "\n",
    "    return {\"qwk\": qwk}"
   ]
  },
  {
   "cell_type": "code",
   "execution_count": 22,
   "metadata": {},
   "outputs": [],
   "source": [
    "def compute_metrics_for_classification(eval_pred):\n",
    "    predictions, labels = eval_pred\n",
    "\n",
    "    qwk = cohen_kappa_score(\n",
    "        labels,\n",
    "        predictions.argmax(-1),\n",
    "        weights=\"quadratic\",\n",
    "    )\n",
    "    \n",
    "    return {\"qwk\": qwk}"
   ]
  },
  {
   "cell_type": "code",
   "execution_count": 23,
   "metadata": {},
   "outputs": [],
   "source": [
    "if DO_REGRESSION:\n",
    "    compute_metrics = compute_metrics_for_regression\n",
    "else:\n",
    "    compute_metrics = compute_metrics_for_classification"
   ]
  },
  {
   "cell_type": "markdown",
   "metadata": {},
   "source": [
    "### WandB Metric Logging"
   ]
  },
  {
   "cell_type": "code",
   "execution_count": 24,
   "metadata": {},
   "outputs": [],
   "source": [
    "def plot_wandb_bar(data, label, value, id, title):\n",
    "    table = wandb.Table(data=data, columns=[label, value])\n",
    "    wandb.log({id: wandb.plot.bar(table, label, value, title=title)})"
   ]
  },
  {
   "cell_type": "code",
   "execution_count": 25,
   "metadata": {},
   "outputs": [],
   "source": [
    "def plot_metrics(prefix, precision_data, recall_data, f1_data):\n",
    "    plot_wandb_bar(\n",
    "        f1_data,\n",
    "        \"score\",\n",
    "        \"F1 Score\",\n",
    "        f\"{prefix}/F1 Score\",\n",
    "        f\"F1 score for {prefix}\",\n",
    "    )\n",
    "    plot_wandb_bar(\n",
    "        recall_data,\n",
    "        \"score\",\n",
    "        \"Recall\",\n",
    "        f\"{prefix}/Recall\",\n",
    "        f\"Recall for {prefix}\",\n",
    "    )\n",
    "    plot_wandb_bar(\n",
    "        precision_data,\n",
    "        \"score\",\n",
    "        \"Precision\",\n",
    "        f\"{prefix}/Precision\",\n",
    "        f\"Precision for {prefix}\",\n",
    "    )"
   ]
  },
  {
   "cell_type": "code",
   "execution_count": 26,
   "metadata": {},
   "outputs": [],
   "source": [
    "def calcluate_metrics(df):\n",
    "    precision_data = [None for _ in range(CFG.num_labels)]\n",
    "    recall_data = [None for _ in range(CFG.num_labels)]\n",
    "    f1_data = [None for _ in range(CFG.num_labels)]\n",
    "\n",
    "    for label in range(CFG.num_labels):\n",
    "        tp = df.loc[(df.label == label) & (df.label == df.pred_score), \"label\"].count()\n",
    "        fp = df.loc[(df.label != label) & (df.pred_score == label), \"label\"].count()\n",
    "        tn = df.loc[(df.label != label) & (df.pred_score != label), \"label\"].count()\n",
    "        fn = df.loc[(df.label == label) & (df.pred_score != label), \"label\"].count()\n",
    "\n",
    "        precision = tp / (tp + fp)\n",
    "        recall = tp / (tp + fn)\n",
    "        f1 = (2 * precision * recall) / (precision + recall)\n",
    "\n",
    "        precision_data[label] = (label, precision)\n",
    "        recall_data[label] = (label, recall)\n",
    "        f1_data[label] = (label, f1)\n",
    "\n",
    "    return precision_data, recall_data, f1_data"
   ]
  },
  {
   "cell_type": "code",
   "execution_count": 27,
   "metadata": {},
   "outputs": [],
   "source": [
    "def log_metrics(df, prefix):\n",
    "    wandb.log(\n",
    "        {\n",
    "            f\"{prefix}/conf_mat\": wandb.plot.confusion_matrix(\n",
    "                probs=None,\n",
    "                y_true=df[\"label\"].astype(pd.Int32Dtype()),\n",
    "                preds=df[\"pred_score\"].astype(pd.Int32Dtype()),\n",
    "                class_names=list(range(CFG.num_labels)),\n",
    "            )\n",
    "        }\n",
    "    )\n",
    "\n",
    "    precision_data, recall_data, f1_data = calcluate_metrics(df)\n",
    "    plot_metrics(prefix, precision_data, recall_data, f1_data)"
   ]
  },
  {
   "cell_type": "markdown",
   "metadata": {},
   "source": [
    "## Training"
   ]
  },
  {
   "cell_type": "markdown",
   "metadata": {},
   "source": [
    "### Training Arguments"
   ]
  },
  {
   "cell_type": "code",
   "execution_count": 28,
   "metadata": {},
   "outputs": [],
   "source": [
    "training_args = TrainingArguments(\n",
    "    data_seed=CFG.seed,\n",
    "    dataloader_num_workers=CFG.num_workers,\n",
    "    evaluation_strategy=\"epoch\",\n",
    "    fp16=True,\n",
    "    gradient_checkpointing=CFG.gradient_checkpointing,\n",
    "    gradient_accumulation_steps=CFG.gradient_accumulation_steps,\n",
    "    learning_rate=CFG.lr,\n",
    "    load_best_model_at_end=True,\n",
    "    logging_first_step=True,\n",
    "    logging_steps=50,\n",
    "    logging_dir=Paths.logging_path,\n",
    "    lr_scheduler_type=CFG.lr_scheduler_type,\n",
    "    metric_for_best_model=\"qwk\",\n",
    "    num_train_epochs=CFG.num_epochs,\n",
    "    output_dir=Paths.output_path,\n",
    "    optim=\"adamw_torch\",\n",
    "    per_device_eval_batch_size=CFG.valid_batch_size,\n",
    "    per_device_train_batch_size=CFG.train_batch_size,\n",
    "    report_to=\"wandb\",\n",
    "    seed=CFG.seed,\n",
    "    save_strategy=\"epoch\",\n",
    "    save_total_limit=1,\n",
    "    weight_decay=CFG.weight_decay,\n",
    "    warmup_ratio=CFG.warmup_ratio,\n",
    ")"
   ]
  },
  {
   "cell_type": "markdown",
   "metadata": {},
   "source": [
    "### Utility Functions"
   ]
  },
  {
   "cell_type": "code",
   "execution_count": 29,
   "metadata": {},
   "outputs": [],
   "source": [
    "def get_fold_data(fold: int) -> Tuple[pd.DataFrame, pd.DataFrame]:\n",
    "    train = data[data[\"fold\"] != fold].reset_index(drop=True)\n",
    "    valid = data[data[\"fold\"] == fold].reset_index(drop=True)\n",
    "    return train, valid"
   ]
  },
  {
   "cell_type": "code",
   "execution_count": 30,
   "metadata": {},
   "outputs": [],
   "source": [
    "def tokenize_data(train: pd.DataFrame, valid: pd.DataFrame) -> Tuple[Dataset, Dataset]:\n",
    "    tokenize = Tokenize(train, valid, tokenizer)\n",
    "    tokenized_train, tokenized_valid, _ = tokenize()\n",
    "    return tokenized_train, tokenized_valid"
   ]
  },
  {
   "cell_type": "code",
   "execution_count": 31,
   "metadata": {},
   "outputs": [],
   "source": [
    "def configure():\n",
    "    config = AutoConfig.from_pretrained(CFG.backbone_model)\n",
    "    \n",
    "    if DO_REGRESSION:\n",
    "        config.attention_probs_dropout_prob = 0.0\n",
    "        config.hidden_dropout_prob = 0.0\n",
    "        config.num_labels = 1\n",
    "    else:\n",
    "        config.num_labels = CFG.num_labels\n",
    "\n",
    "    return config"
   ]
  },
  {
   "cell_type": "code",
   "execution_count": 32,
   "metadata": {},
   "outputs": [],
   "source": [
    "def get_model(config):\n",
    "    backbone_model = AutoModelForSequenceClassification.from_pretrained(\n",
    "        CFG.backbone_model,\n",
    "        config=config,\n",
    "    )\n",
    "    backbone_model.resize_token_embeddings(len(tokenizer))\n",
    "    return backbone_model"
   ]
  },
  {
   "cell_type": "code",
   "execution_count": 33,
   "metadata": {},
   "outputs": [],
   "source": [
    "def post_process_predictions(predictions0):\n",
    "    if DO_REGRESSION:\n",
    "        predictions = predictions0.clip(0, 5).round(0)\n",
    "    else:\n",
    "        predictions = predictions0.argmax(axis=1)\n",
    "\n",
    "    return predictions"
   ]
  },
  {
   "cell_type": "code",
   "execution_count": 34,
   "metadata": {},
   "outputs": [],
   "source": [
    "def plot_confusion_matrxi(y_true, y_pred):\n",
    "    cm = confusion_matrix(y_true, y_pred, labels=[x for x in range(CFG.num_labels)])\n",
    "    draw_cm = ConfusionMatrixDisplay(\n",
    "        confusion_matrix=cm, display_labels=[x for x in range(CFG.num_labels)]\n",
    "    )\n",
    "    draw_cm.plot()\n",
    "    plt.show()"
   ]
  },
  {
   "cell_type": "code",
   "execution_count": 35,
   "metadata": {},
   "outputs": [],
   "source": [
    "def save_oof_predictions(fold, valid, logits, y_pred):\n",
    "    if DO_REGRESSION:\n",
    "        valid[\"logit\"] = logits\n",
    "    else:\n",
    "        COLS = [f\"p{x}\" for x in range(CFG.num_labels)]\n",
    "        valid[COLS] = logits\n",
    "\n",
    "    valid[\"pred_score\"] = y_pred\n",
    "    valid.to_csv(Paths.oof_path.format(fold=fold), index=False)\n",
    "    return valid"
   ]
  },
  {
   "cell_type": "markdown",
   "metadata": {},
   "source": [
    "### CV Training Fold Loop"
   ]
  },
  {
   "cell_type": "code",
   "execution_count": 36,
   "metadata": {},
   "outputs": [
    {
     "data": {
      "application/vnd.jupyter.widget-view+json": {
       "model_id": "33ee2165716c4c69bbb0c87f8422c1fd",
       "version_major": 2,
       "version_minor": 0
      },
      "text/plain": [
       "Map:   0%|          | 0/18959 [00:00<?, ? examples/s]"
      ]
     },
     "metadata": {},
     "output_type": "display_data"
    },
    {
     "data": {
      "application/vnd.jupyter.widget-view+json": {
       "model_id": "bf2a8182d55d4a05ab65843692feb807",
       "version_major": 2,
       "version_minor": 0
      },
      "text/plain": [
       "Map:   0%|          | 0/3788 [00:00<?, ? examples/s]"
      ]
     },
     "metadata": {},
     "output_type": "display_data"
    },
    {
     "name": "stderr",
     "output_type": "stream",
     "text": [
      "Some weights of DebertaV2ForSequenceClassification were not initialized from the model checkpoint at microsoft/deberta-v3-large and are newly initialized: ['classifier.bias', 'classifier.weight', 'pooler.dense.bias', 'pooler.dense.weight']\n",
      "You should probably TRAIN this model on a down-stream task to be able to use it for predictions and inference.\n"
     ]
    },
    {
     "data": {
      "application/vnd.jupyter.widget-view+json": {
       "model_id": "cb5f5d67659d4eefa3c87a04be69620c",
       "version_major": 2,
       "version_minor": 0
      },
      "text/plain": [
       "  0%|          | 0/3555 [00:00<?, ?it/s]"
      ]
     },
     "metadata": {},
     "output_type": "display_data"
    },
    {
     "name": "stdout",
     "output_type": "stream",
     "text": [
      "{'loss': 6.0466, 'grad_norm': inf, 'learning_rate': 0.0, 'epoch': 0.0}\n",
      "{'loss': 3.5072, 'grad_norm': 16.84636116027832, 'learning_rate': 1.9999677214588314e-05, 'epoch': 0.04}\n",
      "{'loss': 0.6029, 'grad_norm': 40.37558364868164, 'learning_rate': 1.998613132953312e-05, 'epoch': 0.08}\n",
      "{'loss': 0.7236, 'grad_norm': 30.22718620300293, 'learning_rate': 1.9952691248998676e-05, 'epoch': 0.13}\n",
      "{'loss': 0.5214, 'grad_norm': 9.517505645751953, 'learning_rate': 1.989942359172622e-05, 'epoch': 0.17}\n",
      "{'loss': 0.4878, 'grad_norm': 5.510385990142822, 'learning_rate': 1.9826434476607198e-05, 'epoch': 0.21}\n",
      "{'loss': 0.4278, 'grad_norm': 3.7511141300201416, 'learning_rate': 1.9733869311275063e-05, 'epoch': 0.25}\n",
      "{'loss': 0.4688, 'grad_norm': 22.68305015563965, 'learning_rate': 1.962191250242676e-05, 'epoch': 0.3}\n",
      "{'loss': 0.5014, 'grad_norm': 11.843547821044922, 'learning_rate': 1.9490787088450922e-05, 'epoch': 0.34}\n",
      "{'loss': 0.4357, 'grad_norm': 8.748495101928711, 'learning_rate': 1.9340754295094726e-05, 'epoch': 0.38}\n",
      "{'loss': 0.4522, 'grad_norm': 3.9035604000091553, 'learning_rate': 1.917211301505453e-05, 'epoch': 0.42}\n",
      "{'loss': 0.381, 'grad_norm': 3.678144693374634, 'learning_rate': 1.8985199212527115e-05, 'epoch': 0.46}\n",
      "{'loss': 0.4036, 'grad_norm': 3.567250967025757, 'learning_rate': 1.8780385253907683e-05, 'epoch': 0.51}\n",
      "{'loss': 0.4308, 'grad_norm': 13.86867618560791, 'learning_rate': 1.8558079165968087e-05, 'epoch': 0.55}\n",
      "{'loss': 0.3465, 'grad_norm': 15.423406600952148, 'learning_rate': 1.831872382299305e-05, 'epoch': 0.59}\n",
      "{'loss': 0.3576, 'grad_norm': 4.4344916343688965, 'learning_rate': 1.8062796064493778e-05, 'epoch': 0.63}\n",
      "{'loss': 0.4117, 'grad_norm': 3.12034010887146, 'learning_rate': 1.7790805745256703e-05, 'epoch': 0.68}\n",
      "{'loss': 0.3515, 'grad_norm': 5.5864996910095215, 'learning_rate': 1.7503294719619686e-05, 'epoch': 0.72}\n",
      "{'loss': 0.3237, 'grad_norm': 3.4159603118896484, 'learning_rate': 1.7200835761999325e-05, 'epoch': 0.76}\n",
      "{'loss': 0.3511, 'grad_norm': 6.88530158996582, 'learning_rate': 1.6884031425819852e-05, 'epoch': 0.8}\n",
      "{'loss': 0.352, 'grad_norm': 7.615205764770508, 'learning_rate': 1.655351284311675e-05, 'epoch': 0.84}\n",
      "{'loss': 0.349, 'grad_norm': 10.669897079467773, 'learning_rate': 1.6209938467206612e-05, 'epoch': 0.89}\n",
      "{'loss': 0.3481, 'grad_norm': 11.652213096618652, 'learning_rate': 1.5853992760927985e-05, 'epoch': 0.93}\n",
      "{'loss': 0.3423, 'grad_norm': 4.7056756019592285, 'learning_rate': 1.5486384833066557e-05, 'epoch': 0.97}\n"
     ]
    },
    {
     "data": {
      "application/vnd.jupyter.widget-view+json": {
       "model_id": "37b9b3d07bc14ae5b4fbe60eefd1b2b7",
       "version_major": 2,
       "version_minor": 0
      },
      "text/plain": [
       "  0%|          | 0/119 [00:00<?, ?it/s]"
      ]
     },
     "metadata": {},
     "output_type": "display_data"
    },
    {
     "name": "stdout",
     "output_type": "stream",
     "text": [
      "{'eval_loss': 0.45948174595832825, 'eval_qwk': 0.7621010044943256, 'eval_runtime': 68.8094, 'eval_samples_per_second': 55.051, 'eval_steps_per_second': 1.729, 'epoch': 1.0}\n",
      "{'loss': 0.2848, 'grad_norm': 4.929188251495361, 'learning_rate': 1.5107847025681048e-05, 'epoch': 1.01}\n",
      "{'loss': 0.2426, 'grad_norm': 3.963155746459961, 'learning_rate': 1.4719133455144252e-05, 'epoch': 1.05}\n",
      "{'loss': 0.2344, 'grad_norm': 4.878218173980713, 'learning_rate': 1.4321018509805617e-05, 'epoch': 1.1}\n",
      "{'loss': 0.2121, 'grad_norm': 17.724252700805664, 'learning_rate': 1.3914295307268396e-05, 'epoch': 1.14}\n",
      "{'loss': 0.2026, 'grad_norm': 11.171797752380371, 'learning_rate': 1.3499774114354655e-05, 'epoch': 1.18}\n",
      "{'loss': 0.2192, 'grad_norm': 5.795461177825928, 'learning_rate': 1.3078280732905976e-05, 'epoch': 1.22}\n",
      "{'loss': 0.2431, 'grad_norm': 8.178966522216797, 'learning_rate': 1.2650654854635498e-05, 'epoch': 1.27}\n",
      "{'loss': 0.2117, 'grad_norm': 5.848771572113037, 'learning_rate': 1.2217748388308844e-05, 'epoch': 1.31}\n",
      "{'loss': 0.2, 'grad_norm': 5.569257736206055, 'learning_rate': 1.1780423762586435e-05, 'epoch': 1.35}\n",
      "{'loss': 0.2043, 'grad_norm': 9.063125610351562, 'learning_rate': 1.1339552207908261e-05, 'epoch': 1.39}\n",
      "{'loss': 0.1945, 'grad_norm': 4.73025369644165, 'learning_rate': 1.0896012020843892e-05, 'epoch': 1.43}\n",
      "{'loss': 0.2072, 'grad_norm': 3.3951680660247803, 'learning_rate': 1.045068681436548e-05, 'epoch': 1.48}\n",
      "{'loss': 0.2016, 'grad_norm': 5.768551349639893, 'learning_rate': 1.0004463757529501e-05, 'epoch': 1.52}\n",
      "{'loss': 0.1806, 'grad_norm': 6.390692710876465, 'learning_rate': 9.558231808074157e-06, 'epoch': 1.56}\n",
      "{'loss': 0.1808, 'grad_norm': 4.1332926750183105, 'learning_rate': 9.112879941453361e-06, 'epoch': 1.6}\n",
      "{'loss': 0.1783, 'grad_norm': 5.988806247711182, 'learning_rate': 8.669295379835467e-06, 'epoch': 1.65}\n",
      "{'loss': 0.1643, 'grad_norm': 4.308988094329834, 'learning_rate': 8.228361824594827e-06, 'epoch': 1.69}\n",
      "{'loss': 0.1621, 'grad_norm': 3.5039501190185547, 'learning_rate': 7.79095769581744e-06, 'epoch': 1.73}\n",
      "{'loss': 0.1862, 'grad_norm': 7.230953693389893, 'learning_rate': 7.3579543823278894e-06, 'epoch': 1.77}\n",
      "{'loss': 0.1795, 'grad_norm': 7.619997501373291, 'learning_rate': 6.930214505723816e-06, 'epoch': 1.81}\n",
      "{'loss': 0.164, 'grad_norm': 2.5447514057159424, 'learning_rate': 6.508590201876317e-06, 'epoch': 1.86}\n",
      "{'loss': 0.191, 'grad_norm': 10.360568046569824, 'learning_rate': 6.093921423319842e-06, 'epoch': 1.9}\n",
      "{'loss': 0.1819, 'grad_norm': 4.767832279205322, 'learning_rate': 5.687034265913484e-06, 'epoch': 1.94}\n",
      "{'loss': 0.172, 'grad_norm': 3.386819362640381, 'learning_rate': 5.288739323107337e-06, 'epoch': 1.98}\n"
     ]
    },
    {
     "data": {
      "application/vnd.jupyter.widget-view+json": {
       "model_id": "1b2cebc01f014cca8dee956e4aadd741",
       "version_major": 2,
       "version_minor": 0
      },
      "text/plain": [
       "  0%|          | 0/119 [00:00<?, ?it/s]"
      ]
     },
     "metadata": {},
     "output_type": "display_data"
    },
    {
     "name": "stdout",
     "output_type": "stream",
     "text": [
      "{'eval_loss': 0.5665403008460999, 'eval_qwk': 0.7596475667800836, 'eval_runtime': 68.8014, 'eval_samples_per_second': 55.057, 'eval_steps_per_second': 1.73, 'epoch': 2.0}\n",
      "{'loss': 0.1041, 'grad_norm': 2.5112032890319824, 'learning_rate': 4.899830071092442e-06, 'epoch': 2.03}\n",
      "{'loss': 0.0775, 'grad_norm': 4.302321434020996, 'learning_rate': 4.5210812880514485e-06, 'epoch': 2.07}\n",
      "{'loss': 0.0784, 'grad_norm': 2.6680896282196045, 'learning_rate': 4.153247510659151e-06, 'epoch': 2.11}\n",
      "{'loss': 0.0696, 'grad_norm': 3.4516382217407227, 'learning_rate': 3.7970615309077364e-06, 'epoch': 2.15}\n",
      "{'loss': 0.0754, 'grad_norm': 2.832540273666382, 'learning_rate': 3.453232936251485e-06, 'epoch': 2.19}\n",
      "{'loss': 0.0686, 'grad_norm': 2.5004827976226807, 'learning_rate': 3.1224466959790676e-06, 'epoch': 2.24}\n",
      "{'loss': 0.0634, 'grad_norm': 2.0737149715423584, 'learning_rate': 2.8053617966297908e-06, 'epoch': 2.28}\n",
      "{'loss': 0.0628, 'grad_norm': 5.926382541656494, 'learning_rate': 2.5026099291721517e-06, 'epoch': 2.32}\n",
      "{'loss': 0.0669, 'grad_norm': 4.519830226898193, 'learning_rate': 2.2147942305602144e-06, 'epoch': 2.36}\n",
      "{'loss': 0.064, 'grad_norm': 2.746826171875, 'learning_rate': 1.942488082174734e-06, 'epoch': 2.41}\n",
      "{'loss': 0.0579, 'grad_norm': 4.6920857429504395, 'learning_rate': 1.6862339675428595e-06, 'epoch': 2.45}\n",
      "{'loss': 0.0629, 'grad_norm': 2.054809093475342, 'learning_rate': 1.4465423916119637e-06, 'epoch': 2.49}\n",
      "{'loss': 0.0581, 'grad_norm': 1.9064114093780518, 'learning_rate': 1.2238908637306534e-06, 'epoch': 2.53}\n",
      "{'loss': 0.0585, 'grad_norm': 2.8124594688415527, 'learning_rate': 1.01872294636304e-06, 'epoch': 2.57}\n",
      "{'loss': 0.0575, 'grad_norm': 2.521561622619629, 'learning_rate': 8.31447371431372e-07, 'epoch': 2.62}\n",
      "{'loss': 0.0601, 'grad_norm': 3.9366915225982666, 'learning_rate': 6.62437226047491e-07, 'epoch': 2.66}\n",
      "{'loss': 0.0556, 'grad_norm': 7.805740833282471, 'learning_rate': 5.12029209255227e-07, 'epoch': 2.7}\n",
      "{'loss': 0.0669, 'grad_norm': 3.468472957611084, 'learning_rate': 3.8052296126448897e-07, 'epoch': 2.74}\n",
      "{'loss': 0.0625, 'grad_norm': 5.827875137329102, 'learning_rate': 2.6818046651328143e-07, 'epoch': 2.78}\n",
      "{'loss': 0.0573, 'grad_norm': 1.9231773614883423, 'learning_rate': 1.7522553174693091e-07, 'epoch': 2.83}\n",
      "{'loss': 0.0549, 'grad_norm': 2.044419527053833, 'learning_rate': 1.0184334015419517e-07, 'epoch': 2.87}\n",
      "{'loss': 0.0575, 'grad_norm': 2.2399463653564453, 'learning_rate': 4.818008244858452e-08, 'epoch': 2.91}\n",
      "{'loss': 0.0577, 'grad_norm': 4.029633045196533, 'learning_rate': 1.4342665629777375e-08, 'epoch': 2.95}\n",
      "{'loss': 0.0609, 'grad_norm': 3.0574662685394287, 'learning_rate': 3.985000053785548e-10, 'epoch': 3.0}\n"
     ]
    },
    {
     "data": {
      "application/vnd.jupyter.widget-view+json": {
       "model_id": "6ddcecb590474541a149837164e0e70a",
       "version_major": 2,
       "version_minor": 0
      },
      "text/plain": [
       "  0%|          | 0/119 [00:00<?, ?it/s]"
      ]
     },
     "metadata": {},
     "output_type": "display_data"
    },
    {
     "name": "stdout",
     "output_type": "stream",
     "text": [
      "{'eval_loss': 0.4586372375488281, 'eval_qwk': 0.7879682479352201, 'eval_runtime': 69.5894, 'eval_samples_per_second': 54.434, 'eval_steps_per_second': 1.71, 'epoch': 3.0}\n",
      "{'train_runtime': 4205.7781, 'train_samples_per_second': 13.524, 'train_steps_per_second': 0.845, 'train_loss': 0.2713328214637338, 'epoch': 3.0}\n"
     ]
    },
    {
     "data": {
      "application/vnd.jupyter.widget-view+json": {
       "model_id": "401ab386c50047e99c452c0f517031a4",
       "version_major": 2,
       "version_minor": 0
      },
      "text/plain": [
       "  0%|          | 0/119 [00:00<?, ?it/s]"
      ]
     },
     "metadata": {},
     "output_type": "display_data"
    },
    {
     "data": {
      "application/vnd.jupyter.widget-view+json": {
       "model_id": "3666bf64783942189d8fdce8e7191072",
       "version_major": 2,
       "version_minor": 0
      },
      "text/plain": [
       "Map:   0%|          | 0/19638 [00:00<?, ? examples/s]"
      ]
     },
     "metadata": {},
     "output_type": "display_data"
    },
    {
     "data": {
      "application/vnd.jupyter.widget-view+json": {
       "model_id": "fa800a4e9f1e4d88b2c1b28147a55a87",
       "version_major": 2,
       "version_minor": 0
      },
      "text/plain": [
       "Map:   0%|          | 0/3109 [00:00<?, ? examples/s]"
      ]
     },
     "metadata": {},
     "output_type": "display_data"
    },
    {
     "name": "stderr",
     "output_type": "stream",
     "text": [
      "Some weights of DebertaV2ForSequenceClassification were not initialized from the model checkpoint at microsoft/deberta-v3-large and are newly initialized: ['classifier.bias', 'classifier.weight', 'pooler.dense.bias', 'pooler.dense.weight']\n",
      "You should probably TRAIN this model on a down-stream task to be able to use it for predictions and inference.\n"
     ]
    },
    {
     "data": {
      "application/vnd.jupyter.widget-view+json": {
       "model_id": "705b27c0c01a40589cfcaa25dfa4da85",
       "version_major": 2,
       "version_minor": 0
      },
      "text/plain": [
       "  0%|          | 0/3684 [00:00<?, ?it/s]"
      ]
     },
     "metadata": {},
     "output_type": "display_data"
    },
    {
     "name": "stdout",
     "output_type": "stream",
     "text": [
      "{'loss': 7.4537, 'grad_norm': inf, 'learning_rate': 0.0, 'epoch': 0.0}\n",
      "{'loss': 2.7176, 'grad_norm': 26.14816665649414, 'learning_rate': 1.9999628981523677e-05, 'epoch': 0.04}\n",
      "{'loss': 0.6187, 'grad_norm': 6.8150553703308105, 'learning_rate': 1.9986646225372382e-05, 'epoch': 0.08}\n",
      "{'loss': 0.5684, 'grad_norm': 30.151098251342773, 'learning_rate': 1.9955140067165346e-05, 'epoch': 0.12}\n",
      "{'loss': 0.5175, 'grad_norm': 9.14035415649414, 'learning_rate': 1.9905168945063136e-05, 'epoch': 0.16}\n",
      "{'loss': 0.474, 'grad_norm': 7.134177207946777, 'learning_rate': 1.9836825546356862e-05, 'epoch': 0.2}\n",
      "{'loss': 0.4461, 'grad_norm': 13.281290054321289, 'learning_rate': 1.9750236635550194e-05, 'epoch': 0.24}\n",
      "{'loss': 0.4345, 'grad_norm': 4.513244152069092, 'learning_rate': 1.96455628192344e-05, 'epoch': 0.29}\n",
      "{'loss': 0.3935, 'grad_norm': 10.208441734313965, 'learning_rate': 1.952299824819249e-05, 'epoch': 0.33}\n",
      "{'loss': 0.4361, 'grad_norm': 7.052241802215576, 'learning_rate': 1.9382770257285033e-05, 'epoch': 0.37}\n",
      "{'loss': 0.4273, 'grad_norm': 7.2229228019714355, 'learning_rate': 1.9225138943785574e-05, 'epoch': 0.41}\n",
      "{'loss': 0.3917, 'grad_norm': 6.680270671844482, 'learning_rate': 1.9050396684947757e-05, 'epoch': 0.45}\n",
      "{'loss': 0.349, 'grad_norm': 9.478791236877441, 'learning_rate': 1.8858867595699017e-05, 'epoch': 0.49}\n",
      "{'loss': 0.3924, 'grad_norm': 12.876636505126953, 'learning_rate': 1.8650906927466645e-05, 'epoch': 0.53}\n",
      "{'loss': 0.3591, 'grad_norm': 15.183052062988281, 'learning_rate': 1.8426900409251407e-05, 'epoch': 0.57}\n",
      "{'loss': 0.3413, 'grad_norm': 3.8783910274505615, 'learning_rate': 1.8187263532170777e-05, 'epoch': 0.61}\n",
      "{'loss': 0.3447, 'grad_norm': 9.938965797424316, 'learning_rate': 1.7932440778798925e-05, 'epoch': 0.65}\n",
      "{'loss': 0.3467, 'grad_norm': 8.468766212463379, 'learning_rate': 1.7662904798732832e-05, 'epoch': 0.69}\n",
      "{'loss': 0.3828, 'grad_norm': 9.756542205810547, 'learning_rate': 1.7379155531913755e-05, 'epoch': 0.73}\n",
      "{'loss': 0.3568, 'grad_norm': 3.2605063915252686, 'learning_rate': 1.7081719281330072e-05, 'epoch': 0.77}\n",
      "{'loss': 0.3234, 'grad_norm': 9.601845741271973, 'learning_rate': 1.677114773682152e-05, 'epoch': 0.81}\n",
      "{'loss': 0.3435, 'grad_norm': 18.402973175048828, 'learning_rate': 1.6448016951795432e-05, 'epoch': 0.86}\n",
      "{'loss': 0.3442, 'grad_norm': 7.814053058624268, 'learning_rate': 1.611292627475305e-05, 'epoch': 0.9}\n",
      "{'loss': 0.3535, 'grad_norm': 5.48698091506958, 'learning_rate': 1.5766497237607684e-05, 'epoch': 0.94}\n",
      "{'loss': 0.3328, 'grad_norm': 8.127199172973633, 'learning_rate': 1.5409372402856698e-05, 'epoch': 0.98}\n"
     ]
    },
    {
     "data": {
      "application/vnd.jupyter.widget-view+json": {
       "model_id": "312d5a1135fb4ba3a0d1b8a3eb426af0",
       "version_major": 2,
       "version_minor": 0
      },
      "text/plain": [
       "  0%|          | 0/98 [00:00<?, ?it/s]"
      ]
     },
     "metadata": {},
     "output_type": "display_data"
    },
    {
     "name": "stdout",
     "output_type": "stream",
     "text": [
      "{'eval_loss': 0.4641028344631195, 'eval_qwk': 0.710947098612187, 'eval_runtime': 58.037, 'eval_samples_per_second': 53.569, 'eval_steps_per_second': 1.689, 'epoch': 1.0}\n",
      "{'loss': 0.2821, 'grad_norm': 4.657806396484375, 'learning_rate': 1.5042214171745598e-05, 'epoch': 1.02}\n",
      "{'loss': 0.2638, 'grad_norm': 4.346651077270508, 'learning_rate': 1.4665703555634907e-05, 'epoch': 1.06}\n",
      "{'loss': 0.252, 'grad_norm': 7.284741401672363, 'learning_rate': 1.4280538912848636e-05, 'epoch': 1.1}\n",
      "{'loss': 0.2235, 'grad_norm': 6.029150485992432, 'learning_rate': 1.3887434653347347e-05, 'epoch': 1.14}\n",
      "{'loss': 0.231, 'grad_norm': 6.214317798614502, 'learning_rate': 1.348711991362834e-05, 'epoch': 1.18}\n",
      "{'loss': 0.2295, 'grad_norm': 5.235035419464111, 'learning_rate': 1.3080337204310827e-05, 'epoch': 1.22}\n",
      "{'loss': 0.2363, 'grad_norm': 5.652911186218262, 'learning_rate': 1.266784103291455e-05, 'epoch': 1.26}\n",
      "{'loss': 0.2197, 'grad_norm': 7.8504719734191895, 'learning_rate': 1.225039650438633e-05, 'epoch': 1.3}\n",
      "{'loss': 0.2443, 'grad_norm': 3.000666618347168, 'learning_rate': 1.1828777901970357e-05, 'epoch': 1.34}\n",
      "{'loss': 0.2074, 'grad_norm': 4.044288158416748, 'learning_rate': 1.1403767251054376e-05, 'epoch': 1.38}\n",
      "{'loss': 0.2008, 'grad_norm': 4.961376667022705, 'learning_rate': 1.097615286865566e-05, 'epoch': 1.43}\n",
      "{'loss': 0.2158, 'grad_norm': 11.877634048461914, 'learning_rate': 1.054672790123711e-05, 'epoch': 1.47}\n",
      "{'loss': 0.2052, 'grad_norm': 3.8390953540802, 'learning_rate': 1.0116288853565676e-05, 'epoch': 1.51}\n",
      "{'loss': 0.1965, 'grad_norm': 3.011490821838379, 'learning_rate': 9.685634111341682e-06, 'epoch': 1.55}\n",
      "{'loss': 0.2223, 'grad_norm': 16.840412139892578, 'learning_rate': 9.255562460339382e-06, 'epoch': 1.59}\n",
      "{'loss': 0.1955, 'grad_norm': 3.1622695922851562, 'learning_rate': 8.826871604805488e-06, 'epoch': 1.63}\n",
      "{'loss': 0.1754, 'grad_norm': 3.1015188694000244, 'learning_rate': 8.400356687863667e-06, 'epoch': 1.67}\n",
      "{'loss': 0.1692, 'grad_norm': 3.6866507530212402, 'learning_rate': 7.97680881666952e-06, 'epoch': 1.71}\n",
      "{'loss': 0.1925, 'grad_norm': 13.638800621032715, 'learning_rate': 7.557013595051488e-06, 'epoch': 1.75}\n",
      "{'loss': 0.2083, 'grad_norm': 3.660853862762451, 'learning_rate': 7.141749666359463e-06, 'epoch': 1.79}\n",
      "{'loss': 0.1937, 'grad_norm': 6.082204818725586, 'learning_rate': 6.731787269223797e-06, 'epoch': 1.83}\n",
      "{'loss': 0.1744, 'grad_norm': 3.115987539291382, 'learning_rate': 6.327886808903523e-06, 'epoch': 1.87}\n",
      "{'loss': 0.1616, 'grad_norm': 5.79553747177124, 'learning_rate': 5.9307974468736885e-06, 'epoch': 1.91}\n",
      "{'loss': 0.1653, 'grad_norm': 1.9941999912261963, 'learning_rate': 5.541255711267859e-06, 'epoch': 1.95}\n",
      "{'loss': 0.1662, 'grad_norm': 5.671147346496582, 'learning_rate': 5.159984130753148e-06, 'epoch': 2.0}\n"
     ]
    },
    {
     "data": {
      "application/vnd.jupyter.widget-view+json": {
       "model_id": "bf17c6c657af4cafb306f2aca20ac0a8",
       "version_major": 2,
       "version_minor": 0
      },
      "text/plain": [
       "  0%|          | 0/98 [00:00<?, ?it/s]"
      ]
     },
     "metadata": {},
     "output_type": "display_data"
    },
    {
     "name": "stdout",
     "output_type": "stream",
     "text": [
      "{'eval_loss': 0.5719500780105591, 'eval_qwk': 0.6904300778979819, 'eval_runtime': 56.218, 'eval_samples_per_second': 55.303, 'eval_steps_per_second': 1.743, 'epoch': 2.0}\n",
      "{'loss': 0.0986, 'grad_norm': 3.7600460052490234, 'learning_rate': 4.787689894371692e-06, 'epoch': 2.04}\n",
      "{'loss': 0.0801, 'grad_norm': 2.0803322792053223, 'learning_rate': 4.425063539834341e-06, 'epoch': 2.08}\n",
      "{'loss': 0.0837, 'grad_norm': 2.1344029903411865, 'learning_rate': 4.072777672699508e-06, 'epoch': 2.12}\n",
      "{'loss': 0.0797, 'grad_norm': 3.5655508041381836, 'learning_rate': 3.7314857188128927e-06, 'epoch': 2.16}\n",
      "{'loss': 0.0728, 'grad_norm': 5.241758823394775, 'learning_rate': 3.4018207123220503e-06, 'epoch': 2.2}\n",
      "{'loss': 0.075, 'grad_norm': 5.508511066436768, 'learning_rate': 3.084394121513845e-06, 'epoch': 2.24}\n",
      "{'loss': 0.0731, 'grad_norm': 1.8170607089996338, 'learning_rate': 2.7797947146526195e-06, 'epoch': 2.28}\n",
      "{'loss': 0.0803, 'grad_norm': 3.58601450920105, 'learning_rate': 2.4885874679227617e-06, 'epoch': 2.32}\n",
      "{'loss': 0.0724, 'grad_norm': 5.3089375495910645, 'learning_rate': 2.2113125175012206e-06, 'epoch': 2.36}\n",
      "{'loss': 0.0762, 'grad_norm': 4.298271179199219, 'learning_rate': 1.9484841577036994e-06, 'epoch': 2.4}\n",
      "{'loss': 0.0821, 'grad_norm': 2.547977924346924, 'learning_rate': 1.7005898870627701e-06, 'epoch': 2.44}\n",
      "{'loss': 0.0723, 'grad_norm': 5.08516788482666, 'learning_rate': 1.468089504107264e-06, 'epoch': 2.48}\n",
      "{'loss': 0.0699, 'grad_norm': 2.5938034057617188, 'learning_rate': 1.2514142545201092e-06, 'epoch': 2.52}\n",
      "{'loss': 0.0769, 'grad_norm': 3.1445107460021973, 'learning_rate': 1.0509660312564607e-06, 'epoch': 2.57}\n",
      "{'loss': 0.0694, 'grad_norm': 2.779381275177002, 'learning_rate': 8.671166291057908e-07, 'epoch': 2.61}\n",
      "{'loss': 0.0596, 'grad_norm': 2.5211541652679443, 'learning_rate': 7.002070550805529e-07, 'epoch': 2.65}\n",
      "{'loss': 0.0796, 'grad_norm': 3.041766405105591, 'learning_rate': 5.505468959105498e-07, 'epoch': 2.69}\n",
      "{'loss': 0.0724, 'grad_norm': 1.1319355964660645, 'learning_rate': 4.184137438161795e-07, 'epoch': 2.73}\n",
      "{'loss': 0.0691, 'grad_norm': 3.263002634048462, 'learning_rate': 3.0405268162564284e-07, 'epoch': 2.77}\n",
      "{'loss': 0.0673, 'grad_norm': 1.9814797639846802, 'learning_rate': 2.0767582819112065e-07, 'epoch': 2.81}\n",
      "{'loss': 0.0703, 'grad_norm': 2.494518756866455, 'learning_rate': 1.2946194494710685e-07, 'epoch': 2.85}\n",
      "{'loss': 0.0695, 'grad_norm': 2.89774751663208, 'learning_rate': 6.955610434064675e-08, 'epoch': 2.89}\n",
      "{'loss': 0.0758, 'grad_norm': 2.5042309761047363, 'learning_rate': 2.806942074847774e-08, 'epoch': 2.93}\n",
      "{'loss': 0.068, 'grad_norm': 4.850969314575195, 'learning_rate': 5.078844380188575e-09, 'epoch': 2.97}\n"
     ]
    },
    {
     "data": {
      "application/vnd.jupyter.widget-view+json": {
       "model_id": "edb0d317ae334a078e38b2559ba2a37e",
       "version_major": 2,
       "version_minor": 0
      },
      "text/plain": [
       "  0%|          | 0/98 [00:00<?, ?it/s]"
      ]
     },
     "metadata": {},
     "output_type": "display_data"
    },
    {
     "name": "stdout",
     "output_type": "stream",
     "text": [
      "{'eval_loss': 0.4821445941925049, 'eval_qwk': 0.7316397965665009, 'eval_runtime': 55.6339, 'eval_samples_per_second': 55.883, 'eval_steps_per_second': 1.762, 'epoch': 3.0}\n",
      "{'train_runtime': 4291.811, 'train_samples_per_second': 13.727, 'train_steps_per_second': 0.858, 'train_loss': 0.26017614684586415, 'epoch': 3.0}\n"
     ]
    },
    {
     "data": {
      "application/vnd.jupyter.widget-view+json": {
       "model_id": "bdf2718dc0324fd58f9a28648fe6399e",
       "version_major": 2,
       "version_minor": 0
      },
      "text/plain": [
       "  0%|          | 0/98 [00:00<?, ?it/s]"
      ]
     },
     "metadata": {},
     "output_type": "display_data"
    },
    {
     "data": {
      "application/vnd.jupyter.widget-view+json": {
       "model_id": "9fbe77b6cf304df3b6eaf787e188ff08",
       "version_major": 2,
       "version_minor": 0
      },
      "text/plain": [
       "Map:   0%|          | 0/18892 [00:00<?, ? examples/s]"
      ]
     },
     "metadata": {},
     "output_type": "display_data"
    },
    {
     "data": {
      "application/vnd.jupyter.widget-view+json": {
       "model_id": "b240c1a6e1ed438dbb2fcd35f38f8d2d",
       "version_major": 2,
       "version_minor": 0
      },
      "text/plain": [
       "Map:   0%|          | 0/3855 [00:00<?, ? examples/s]"
      ]
     },
     "metadata": {},
     "output_type": "display_data"
    },
    {
     "name": "stderr",
     "output_type": "stream",
     "text": [
      "Some weights of DebertaV2ForSequenceClassification were not initialized from the model checkpoint at microsoft/deberta-v3-large and are newly initialized: ['classifier.bias', 'classifier.weight', 'pooler.dense.bias', 'pooler.dense.weight']\n",
      "You should probably TRAIN this model on a down-stream task to be able to use it for predictions and inference.\n"
     ]
    },
    {
     "data": {
      "application/vnd.jupyter.widget-view+json": {
       "model_id": "8e0c1c770f5047f089412242daf9c529",
       "version_major": 2,
       "version_minor": 0
      },
      "text/plain": [
       "  0%|          | 0/3543 [00:00<?, ?it/s]"
      ]
     },
     "metadata": {},
     "output_type": "display_data"
    },
    {
     "name": "stdout",
     "output_type": "stream",
     "text": [
      "{'loss': 6.2072, 'grad_norm': inf, 'learning_rate': 0.0, 'epoch': 0.0}\n",
      "{'loss': 2.895, 'grad_norm': 11.693952560424805, 'learning_rate': 1.9999598768229937e-05, 'epoch': 0.04}\n",
      "{'loss': 0.6354, 'grad_norm': 35.46957778930664, 'learning_rate': 1.998555903671379e-05, 'epoch': 0.08}\n",
      "{'loss': 0.6495, 'grad_norm': 11.457828521728516, 'learning_rate': 1.9951489902469014e-05, 'epoch': 0.13}\n",
      "{'loss': 0.4929, 'grad_norm': 18.70824432373047, 'learning_rate': 1.989745970262204e-05, 'epoch': 0.17}\n",
      "{'loss': 0.4998, 'grad_norm': 11.975519180297852, 'learning_rate': 1.982357681294114e-05, 'epoch': 0.21}\n",
      "{'loss': 0.4839, 'grad_norm': 17.81357192993164, 'learning_rate': 1.972998943045231e-05, 'epoch': 0.25}\n",
      "{'loss': 0.4843, 'grad_norm': 10.836403846740723, 'learning_rate': 1.9616885276180216e-05, 'epoch': 0.3}\n",
      "{'loss': 0.4567, 'grad_norm': 14.13190746307373, 'learning_rate': 1.9484491218610423e-05, 'epoch': 0.34}\n",
      "{'loss': 0.4298, 'grad_norm': 15.209813117980957, 'learning_rate': 1.9333072818628222e-05, 'epoch': 0.38}\n",
      "{'loss': 0.4244, 'grad_norm': 3.7450971603393555, 'learning_rate': 1.9162933796846817e-05, 'epoch': 0.42}\n",
      "{'loss': 0.3884, 'grad_norm': 7.107223033905029, 'learning_rate': 1.8974415424393302e-05, 'epoch': 0.47}\n",
      "{'loss': 0.3798, 'grad_norm': 8.167083740234375, 'learning_rate': 1.8767895838374438e-05, 'epoch': 0.51}\n",
      "{'loss': 0.4094, 'grad_norm': 31.39539909362793, 'learning_rate': 1.854378928339532e-05, 'epoch': 0.55}\n",
      "{'loss': 0.4073, 'grad_norm': 3.945833206176758, 'learning_rate': 1.8302545280652234e-05, 'epoch': 0.59}\n",
      "{'loss': 0.4055, 'grad_norm': 26.20187759399414, 'learning_rate': 1.804464772626647e-05, 'epoch': 0.64}\n",
      "{'loss': 0.3698, 'grad_norm': 5.861905097961426, 'learning_rate': 1.777061392066764e-05, 'epoch': 0.68}\n",
      "{'loss': 0.3669, 'grad_norm': 4.362776756286621, 'learning_rate': 1.748099353097336e-05, 'epoch': 0.72}\n",
      "{'loss': 0.3643, 'grad_norm': 12.255746841430664, 'learning_rate': 1.7176367488446696e-05, 'epoch': 0.76}\n",
      "{'loss': 0.3604, 'grad_norm': 6.169281005859375, 'learning_rate': 1.68573468232428e-05, 'epoch': 0.8}\n",
      "{'loss': 0.3343, 'grad_norm': 1.9844274520874023, 'learning_rate': 1.652457143878206e-05, 'epoch': 0.85}\n",
      "{'loss': 0.3771, 'grad_norm': 14.671090126037598, 'learning_rate': 1.6178708828208226e-05, 'epoch': 0.89}\n",
      "{'loss': 0.3567, 'grad_norm': 10.73408317565918, 'learning_rate': 1.582045273550604e-05, 'epoch': 0.93}\n",
      "{'loss': 0.3545, 'grad_norm': 6.013420581817627, 'learning_rate': 1.5450521763963943e-05, 'epoch': 0.97}\n"
     ]
    },
    {
     "data": {
      "application/vnd.jupyter.widget-view+json": {
       "model_id": "0c69c2a394344c8d89c7e154f5652b32",
       "version_major": 2,
       "version_minor": 0
      },
      "text/plain": [
       "  0%|          | 0/121 [00:00<?, ?it/s]"
      ]
     },
     "metadata": {},
     "output_type": "display_data"
    },
    {
     "name": "stdout",
     "output_type": "stream",
     "text": [
      "{'eval_loss': 0.36777547001838684, 'eval_qwk': 0.8030443511406266, 'eval_runtime': 68.5937, 'eval_samples_per_second': 56.201, 'eval_steps_per_second': 1.764, 'epoch': 1.0}\n",
      "{'loss': 0.2514, 'grad_norm': 4.656144618988037, 'learning_rate': 1.5069657934773085e-05, 'epoch': 1.02}\n",
      "{'loss': 0.2385, 'grad_norm': 4.358079433441162, 'learning_rate': 1.4678625198653875e-05, 'epoch': 1.06}\n",
      "{'loss': 0.2322, 'grad_norm': 3.404064893722534, 'learning_rate': 1.4278207903495388e-05, 'epoch': 1.1}\n",
      "{'loss': 0.2605, 'grad_norm': 5.702356815338135, 'learning_rate': 1.3869209221081483e-05, 'epoch': 1.14}\n",
      "{'loss': 0.2493, 'grad_norm': 5.808937072753906, 'learning_rate': 1.3452449536059164e-05, 'epoch': 1.19}\n",
      "{'loss': 0.2385, 'grad_norm': 5.693689346313477, 'learning_rate': 1.3028764800380818e-05, 'epoch': 1.23}\n",
      "{'loss': 0.2609, 'grad_norm': 5.612465858459473, 'learning_rate': 1.2599004856520926e-05, 'epoch': 1.27}\n",
      "{'loss': 0.235, 'grad_norm': 4.380953311920166, 'learning_rate': 1.216403173283069e-05, 'epoch': 1.31}\n",
      "{'loss': 0.2234, 'grad_norm': 4.260599613189697, 'learning_rate': 1.1724717914449744e-05, 'epoch': 1.35}\n",
      "{'loss': 0.2222, 'grad_norm': 4.110016345977783, 'learning_rate': 1.1281944593243289e-05, 'epoch': 1.4}\n",
      "{'loss': 0.2316, 'grad_norm': 2.7918527126312256, 'learning_rate': 1.0836599900274924e-05, 'epoch': 1.44}\n",
      "{'loss': 0.2224, 'grad_norm': 2.2404043674468994, 'learning_rate': 1.038957712436061e-05, 'epoch': 1.48}\n",
      "{'loss': 0.2138, 'grad_norm': 8.52798843383789, 'learning_rate': 9.941772920276972e-06, 'epoch': 1.52}\n",
      "{'loss': 0.2921, 'grad_norm': 2.1941161155700684, 'learning_rate': 9.503032303494112e-06, 'epoch': 1.57}\n",
      "{'loss': 0.1944, 'grad_norm': 4.2746734619140625, 'learning_rate': 9.056330589661236e-06, 'epoch': 1.61}\n",
      "{'loss': 0.2135, 'grad_norm': 11.329882621765137, 'learning_rate': 8.61152172274788e-06, 'epoch': 1.65}\n",
      "{'loss': 0.2057, 'grad_norm': 5.4410271644592285, 'learning_rate': 8.169497916790327e-06, 'epoch': 1.69}\n",
      "{'loss': 0.1865, 'grad_norm': 5.270036220550537, 'learning_rate': 7.731145799446846e-06, 'epoch': 1.74}\n",
      "{'loss': 0.2157, 'grad_norm': 6.434632301330566, 'learning_rate': 7.297344633567208e-06, 'epoch': 1.78}\n",
      "{'loss': 0.203, 'grad_norm': 9.58747673034668, 'learning_rate': 6.8689645535348355e-06, 'epoch': 1.82}\n",
      "{'loss': 0.1922, 'grad_norm': 5.0466766357421875, 'learning_rate': 6.446864819919155e-06, 'epoch': 1.86}\n",
      "{'loss': 0.1836, 'grad_norm': 3.431871175765991, 'learning_rate': 6.031892095939034e-06, 'epoch': 1.91}\n",
      "{'loss': 0.1898, 'grad_norm': 2.165555477142334, 'learning_rate': 5.624878749194471e-06, 'epoch': 1.95}\n",
      "{'loss': 0.1819, 'grad_norm': 2.557100772857666, 'learning_rate': 5.226641182072937e-06, 'epoch': 1.99}\n"
     ]
    },
    {
     "data": {
      "application/vnd.jupyter.widget-view+json": {
       "model_id": "b70f0334fe5647aa9eb2f4d83695add4",
       "version_major": 2,
       "version_minor": 0
      },
      "text/plain": [
       "  0%|          | 0/121 [00:00<?, ?it/s]"
      ]
     },
     "metadata": {},
     "output_type": "display_data"
    },
    {
     "name": "stdout",
     "output_type": "stream",
     "text": [
      "{'eval_loss': 0.3404313921928406, 'eval_qwk': 0.8218400129667096, 'eval_runtime': 68.7873, 'eval_samples_per_second': 56.042, 'eval_steps_per_second': 1.759, 'epoch': 2.0}\n",
      "{'loss': 0.1061, 'grad_norm': 2.5054826736450195, 'learning_rate': 4.83797819417937e-06, 'epoch': 2.03}\n",
      "{'loss': 0.0916, 'grad_norm': 6.451237201690674, 'learning_rate': 4.45966938007443e-06, 'epoch': 2.07}\n",
      "{'loss': 0.0906, 'grad_norm': 7.487259864807129, 'learning_rate': 4.092473565534997e-06, 'epoch': 2.12}\n",
      "{'loss': 0.0866, 'grad_norm': 10.958023071289062, 'learning_rate': 3.7371272854733855e-06, 'epoch': 2.16}\n",
      "{'loss': 0.0857, 'grad_norm': 4.700131893157959, 'learning_rate': 3.3943433065685006e-06, 'epoch': 2.2}\n",
      "{'loss': 0.0799, 'grad_norm': 4.102060317993164, 'learning_rate': 3.064809197572084e-06, 'epoch': 2.24}\n",
      "{'loss': 0.0757, 'grad_norm': 3.171873092651367, 'learning_rate': 2.749185950157983e-06, 'epoch': 2.29}\n",
      "{'loss': 0.0799, 'grad_norm': 4.461956024169922, 'learning_rate': 2.44810665308064e-06, 'epoch': 2.33}\n",
      "{'loss': 0.0813, 'grad_norm': 1.911870002746582, 'learning_rate': 2.1621752223023153e-06, 'epoch': 2.37}\n",
      "{'loss': 0.0686, 'grad_norm': 6.199055194854736, 'learning_rate': 1.8919651896361845e-06, 'epoch': 2.41}\n",
      "{'loss': 0.0807, 'grad_norm': 3.0918641090393066, 'learning_rate': 1.6380185523350479e-06, 'epoch': 2.46}\n",
      "{'loss': 0.0752, 'grad_norm': 3.9090707302093506, 'learning_rate': 1.4008446859332503e-06, 'epoch': 2.5}\n",
      "{'loss': 0.0911, 'grad_norm': 4.991070747375488, 'learning_rate': 1.1809193225224446e-06, 'epoch': 2.54}\n",
      "{'loss': 0.0732, 'grad_norm': 3.366579532623291, 'learning_rate': 9.786835965106146e-07, 'epoch': 2.58}\n",
      "{'loss': 0.0755, 'grad_norm': 2.8460516929626465, 'learning_rate': 7.945431597783904e-07, 'epoch': 2.62}\n",
      "{'loss': 0.0693, 'grad_norm': 4.398807525634766, 'learning_rate': 6.288673680075474e-07, 'epoch': 2.67}\n",
      "{'loss': 0.0757, 'grad_norm': 2.574828863143921, 'learning_rate': 4.819885398137558e-07, 'epoch': 2.71}\n",
      "{'loss': 0.07, 'grad_norm': 7.097928047180176, 'learning_rate': 3.54201290169639e-07, 'epoch': 2.75}\n",
      "{'loss': 0.0768, 'grad_norm': 3.0580780506134033, 'learning_rate': 2.457619394551836e-07, 'epoch': 2.79}\n",
      "{'loss': 0.0794, 'grad_norm': 2.5875141620635986, 'learning_rate': 1.5688799932087606e-07, 'epoch': 2.84}\n",
      "{'loss': 0.0704, 'grad_norm': 4.952576637268066, 'learning_rate': 8.775773639480456e-08, 'epoch': 2.88}\n",
      "{'loss': 0.0738, 'grad_norm': 1.869243860244751, 'learning_rate': 3.850981470887361e-08, 'epoch': 2.92}\n",
      "{'loss': 0.0717, 'grad_norm': 6.777472019195557, 'learning_rate': 9.243017561382239e-09, 'epoch': 2.96}\n"
     ]
    },
    {
     "data": {
      "application/vnd.jupyter.widget-view+json": {
       "model_id": "08d6f0380dd84c48a36731baf6f71763",
       "version_major": 2,
       "version_minor": 0
      },
      "text/plain": [
       "  0%|          | 0/121 [00:00<?, ?it/s]"
      ]
     },
     "metadata": {},
     "output_type": "display_data"
    },
    {
     "name": "stdout",
     "output_type": "stream",
     "text": [
      "{'eval_loss': 0.38347890973091125, 'eval_qwk': 0.8104404551701085, 'eval_runtime': 68.598, 'eval_samples_per_second': 56.197, 'eval_steps_per_second': 1.764, 'epoch': 3.0}\n",
      "{'train_runtime': 4128.74, 'train_samples_per_second': 13.727, 'train_steps_per_second': 0.858, 'train_loss': 0.2769367612757455, 'epoch': 3.0}\n"
     ]
    },
    {
     "data": {
      "application/vnd.jupyter.widget-view+json": {
       "model_id": "65df6aad2e934504971953f5e1ac2e3b",
       "version_major": 2,
       "version_minor": 0
      },
      "text/plain": [
       "  0%|          | 0/121 [00:00<?, ?it/s]"
      ]
     },
     "metadata": {},
     "output_type": "display_data"
    },
    {
     "data": {
      "application/vnd.jupyter.widget-view+json": {
       "model_id": "c7c988e5b95142f89188fe9464877989",
       "version_major": 2,
       "version_minor": 0
      },
      "text/plain": [
       "Map:   0%|          | 0/20923 [00:00<?, ? examples/s]"
      ]
     },
     "metadata": {},
     "output_type": "display_data"
    },
    {
     "data": {
      "application/vnd.jupyter.widget-view+json": {
       "model_id": "ed36073e99c74a8dabeadbfc15cfa017",
       "version_major": 2,
       "version_minor": 0
      },
      "text/plain": [
       "Map:   0%|          | 0/1824 [00:00<?, ? examples/s]"
      ]
     },
     "metadata": {},
     "output_type": "display_data"
    },
    {
     "name": "stderr",
     "output_type": "stream",
     "text": [
      "Some weights of DebertaV2ForSequenceClassification were not initialized from the model checkpoint at microsoft/deberta-v3-large and are newly initialized: ['classifier.bias', 'classifier.weight', 'pooler.dense.bias', 'pooler.dense.weight']\n",
      "You should probably TRAIN this model on a down-stream task to be able to use it for predictions and inference.\n"
     ]
    },
    {
     "data": {
      "application/vnd.jupyter.widget-view+json": {
       "model_id": "f92555a38c6f4faf8d00699344d80b0d",
       "version_major": 2,
       "version_minor": 0
      },
      "text/plain": [
       "  0%|          | 0/3924 [00:00<?, ?it/s]"
      ]
     },
     "metadata": {},
     "output_type": "display_data"
    },
    {
     "name": "stdout",
     "output_type": "stream",
     "text": [
      "{'loss': 5.7821, 'grad_norm': inf, 'learning_rate': 0.0, 'epoch': 0.0}\n",
      "{'loss': 3.2992, 'grad_norm': 39.4379997253418, 'learning_rate': 1.9999882235889635e-05, 'epoch': 0.04}\n",
      "{'loss': 0.6133, 'grad_norm': 8.395864486694336, 'learning_rate': 1.998974317121727e-05, 'epoch': 0.08}\n",
      "{'loss': 0.4586, 'grad_norm': 11.893623352050781, 'learning_rate': 1.99632669511918e-05, 'epoch': 0.11}\n",
      "{'loss': 0.5656, 'grad_norm': 31.394027709960938, 'learning_rate': 1.9920496874836268e-05, 'epoch': 0.15}\n",
      "{'loss': 0.4651, 'grad_norm': 10.271514892578125, 'learning_rate': 1.9861502888031153e-05, 'epoch': 0.19}\n",
      "{'loss': 0.418, 'grad_norm': 4.674680709838867, 'learning_rate': 1.9786381469125378e-05, 'epoch': 0.23}\n",
      "{'loss': 0.5192, 'grad_norm': 3.3946495056152344, 'learning_rate': 1.9695255471156298e-05, 'epoch': 0.27}\n",
      "{'loss': 0.4702, 'grad_norm': 9.730781555175781, 'learning_rate': 1.9588273920936724e-05, 'epoch': 0.31}\n",
      "{'loss': 0.3863, 'grad_norm': 13.054981231689453, 'learning_rate': 1.94656117753375e-05, 'epoch': 0.34}\n",
      "{'loss': 0.429, 'grad_norm': 4.15834379196167, 'learning_rate': 1.93274696351643e-05, 'epoch': 0.38}\n",
      "{'loss': 0.403, 'grad_norm': 3.153301477432251, 'learning_rate': 1.9174073417096478e-05, 'epoch': 0.42}\n",
      "{'loss': 0.3536, 'grad_norm': 12.202993392944336, 'learning_rate': 1.9005673984224525e-05, 'epoch': 0.46}\n",
      "{'loss': 0.5423, 'grad_norm': 14.666150093078613, 'learning_rate': 1.8822546735790346e-05, 'epoch': 0.5}\n",
      "{'loss': 0.385, 'grad_norm': 7.500401020050049, 'learning_rate': 1.8624991156801297e-05, 'epoch': 0.54}\n",
      "{'loss': 0.3508, 'grad_norm': 2.528125524520874, 'learning_rate': 1.8413330328254497e-05, 'epoch': 0.57}\n",
      "{'loss': 0.4168, 'grad_norm': 9.280818939208984, 'learning_rate': 1.8187910398772486e-05, 'epoch': 0.61}\n",
      "{'loss': 0.3698, 'grad_norm': 3.860475778579712, 'learning_rate': 1.7949100018514176e-05, 'epoch': 0.65}\n",
      "{'loss': 0.3199, 'grad_norm': 15.902771949768066, 'learning_rate': 1.7697289736287015e-05, 'epoch': 0.69}\n",
      "{'loss': 0.3478, 'grad_norm': 11.055848121643066, 'learning_rate': 1.743289136084622e-05, 'epoch': 0.73}\n",
      "{'loss': 0.4089, 'grad_norm': 7.234493255615234, 'learning_rate': 1.7156337287425643e-05, 'epoch': 0.76}\n",
      "{'loss': 0.3721, 'grad_norm': 10.7864408493042, 'learning_rate': 1.6868079790601676e-05, 'epoch': 0.8}\n",
      "{'loss': 0.3084, 'grad_norm': 3.0052742958068848, 'learning_rate': 1.6568590284646603e-05, 'epoch': 0.84}\n",
      "{'loss': 0.3004, 'grad_norm': 2.7244532108306885, 'learning_rate': 1.6258358552581013e-05, 'epoch': 0.88}\n",
      "{'loss': 0.3381, 'grad_norm': 12.41650104522705, 'learning_rate': 1.5937891945186147e-05, 'epoch': 0.92}\n",
      "{'loss': 0.3454, 'grad_norm': 7.328494548797607, 'learning_rate': 1.560771455128598e-05, 'epoch': 0.96}\n",
      "{'loss': 0.3281, 'grad_norm': 5.865968704223633, 'learning_rate': 1.5268366340656094e-05, 'epoch': 0.99}\n"
     ]
    },
    {
     "data": {
      "application/vnd.jupyter.widget-view+json": {
       "model_id": "e113c2e48e85484d9d740b598bec7c6b",
       "version_major": 2,
       "version_minor": 0
      },
      "text/plain": [
       "  0%|          | 0/57 [00:00<?, ?it/s]"
      ]
     },
     "metadata": {},
     "output_type": "display_data"
    },
    {
     "name": "stdout",
     "output_type": "stream",
     "text": [
      "{'eval_loss': 0.3450387120246887, 'eval_qwk': 0.6447599773032107, 'eval_runtime': 32.5888, 'eval_samples_per_second': 55.97, 'eval_steps_per_second': 1.749, 'epoch': 1.0}\n",
      "{'loss': 0.2642, 'grad_norm': 3.6195149421691895, 'learning_rate': 1.4920402280960904e-05, 'epoch': 1.03}\n",
      "{'loss': 0.2714, 'grad_norm': 9.474109649658203, 'learning_rate': 1.4564391430163474e-05, 'epoch': 1.07}\n",
      "{'loss': 0.2731, 'grad_norm': 6.7950119972229, 'learning_rate': 1.4200916005892141e-05, 'epoch': 1.11}\n",
      "{'loss': 0.2501, 'grad_norm': 3.674868106842041, 'learning_rate': 1.3830570433285932e-05, 'epoch': 1.15}\n",
      "{'loss': 0.2263, 'grad_norm': 3.655850410461426, 'learning_rate': 1.3453960372875881e-05, 'epoch': 1.19}\n",
      "{'loss': 0.2389, 'grad_norm': 4.562559127807617, 'learning_rate': 1.3071701730092088e-05, 'epoch': 1.22}\n",
      "{'loss': 0.2094, 'grad_norm': 5.2036848068237305, 'learning_rate': 1.2684419648016334e-05, 'epoch': 1.26}\n",
      "{'loss': 0.21, 'grad_norm': 14.54428768157959, 'learning_rate': 1.2292747485027498e-05, 'epoch': 1.3}\n",
      "{'loss': 0.2192, 'grad_norm': 5.407847881317139, 'learning_rate': 1.1897325779011743e-05, 'epoch': 1.34}\n",
      "{'loss': 0.2094, 'grad_norm': 6.613281726837158, 'learning_rate': 1.1498801199831395e-05, 'epoch': 1.38}\n",
      "{'loss': 0.2074, 'grad_norm': 5.544591903686523, 'learning_rate': 1.109782549176561e-05, 'epoch': 1.41}\n",
      "{'loss': 0.1928, 'grad_norm': 3.2470850944519043, 'learning_rate': 1.0695054407652395e-05, 'epoch': 1.45}\n",
      "{'loss': 0.1975, 'grad_norm': 6.816658973693848, 'learning_rate': 1.0291146636475054e-05, 'epoch': 1.49}\n",
      "{'loss': 0.1836, 'grad_norm': 2.9825479984283447, 'learning_rate': 9.886762726146876e-06, 'epoch': 1.53}\n",
      "{'loss': 0.2159, 'grad_norm': 2.6739375591278076, 'learning_rate': 9.482564003255749e-06, 'epoch': 1.57}\n",
      "{'loss': 0.1869, 'grad_norm': 4.302052021026611, 'learning_rate': 9.079211491535341e-06, 'epoch': 1.61}\n",
      "{'loss': 0.1969, 'grad_norm': 5.786456108093262, 'learning_rate': 8.677364830831552e-06, 'epoch': 1.64}\n",
      "{'loss': 0.2146, 'grad_norm': 6.537046432495117, 'learning_rate': 8.277681198332177e-06, 'epoch': 1.68}\n",
      "{'loss': 0.2021, 'grad_norm': 3.788726568222046, 'learning_rate': 7.880814233823976e-06, 'epoch': 1.72}\n",
      "{'loss': 0.202, 'grad_norm': 3.9573326110839844, 'learning_rate': 7.487412970734791e-06, 'epoch': 1.76}\n",
      "{'loss': 0.1759, 'grad_norm': 6.3500847816467285, 'learning_rate': 7.098120774708872e-06, 'epoch': 1.8}\n",
      "{'loss': 0.1863, 'grad_norm': 4.947495937347412, 'learning_rate': 6.713574291451234e-06, 'epoch': 1.83}\n",
      "{'loss': 0.1849, 'grad_norm': 7.812986850738525, 'learning_rate': 6.334402405561793e-06, 'epoch': 1.87}\n",
      "{'loss': 0.1609, 'grad_norm': 3.6031906604766846, 'learning_rate': 5.961225212061926e-06, 'epoch': 1.91}\n",
      "{'loss': 0.1574, 'grad_norm': 7.04636287689209, 'learning_rate': 5.5946530022954616e-06, 'epoch': 1.95}\n",
      "{'loss': 0.1802, 'grad_norm': 6.706823825836182, 'learning_rate': 5.235285265862521e-06, 'epoch': 1.99}\n"
     ]
    },
    {
     "data": {
      "application/vnd.jupyter.widget-view+json": {
       "model_id": "3365c5b061de4f04950cb2567c11e38a",
       "version_major": 2,
       "version_minor": 0
      },
      "text/plain": [
       "  0%|          | 0/57 [00:00<?, ?it/s]"
      ]
     },
     "metadata": {},
     "output_type": "display_data"
    },
    {
     "name": "stdout",
     "output_type": "stream",
     "text": [
      "{'eval_loss': 0.486769437789917, 'eval_qwk': 0.6043136791631006, 'eval_runtime': 32.7781, 'eval_samples_per_second': 55.647, 'eval_steps_per_second': 1.739, 'epoch': 2.0}\n",
      "{'loss': 0.1047, 'grad_norm': 2.0459911823272705, 'learning_rate': 4.8837097102184864e-06, 'epoch': 2.03}\n",
      "{'loss': 0.0803, 'grad_norm': 6.577542304992676, 'learning_rate': 4.540501299541356e-06, 'epoch': 2.06}\n",
      "{'loss': 0.0803, 'grad_norm': 4.625548362731934, 'learning_rate': 4.206221314439416e-06, 'epoch': 2.1}\n",
      "{'loss': 0.0904, 'grad_norm': 2.644449472427368, 'learning_rate': 3.8814164340368806e-06, 'epoch': 2.14}\n",
      "{'loss': 0.0771, 'grad_norm': 2.9139726161956787, 'learning_rate': 3.5666178419387464e-06, 'epoch': 2.18}\n",
      "{'loss': 0.0728, 'grad_norm': 5.165752410888672, 'learning_rate': 3.2623403575368493e-06, 'epoch': 2.22}\n",
      "{'loss': 0.0736, 'grad_norm': 1.153062343597412, 'learning_rate': 2.969081594077886e-06, 'epoch': 2.26}\n",
      "{'loss': 0.0714, 'grad_norm': 2.7418575286865234, 'learning_rate': 2.6873211448702363e-06, 'epoch': 2.29}\n",
      "{'loss': 0.0811, 'grad_norm': 1.8210978507995605, 'learning_rate': 2.4175197989604373e-06, 'epoch': 2.33}\n",
      "{'loss': 0.0717, 'grad_norm': 2.9091851711273193, 'learning_rate': 2.1601187875620567e-06, 'epoch': 2.37}\n",
      "{'loss': 0.0724, 'grad_norm': 2.8591394424438477, 'learning_rate': 1.9155390624692594e-06, 'epoch': 2.41}\n",
      "{'loss': 0.0749, 'grad_norm': 3.2592175006866455, 'learning_rate': 1.6841806076352507e-06, 'epoch': 2.45}\n",
      "{'loss': 0.0796, 'grad_norm': 1.9111367464065552, 'learning_rate': 1.466421785041321e-06, 'epoch': 2.48}\n",
      "{'loss': 0.0639, 'grad_norm': 2.796772003173828, 'learning_rate': 1.2626187159263536e-06, 'epoch': 2.52}\n",
      "{'loss': 0.0688, 'grad_norm': 4.817984580993652, 'learning_rate': 1.073104698388654e-06, 'epoch': 2.56}\n",
      "{'loss': 0.0678, 'grad_norm': 2.561927080154419, 'learning_rate': 8.981896623126118e-07, 'epoch': 2.6}\n",
      "{'loss': 0.0681, 'grad_norm': 3.270805597305298, 'learning_rate': 7.381596625115462e-07, 'epoch': 2.64}\n",
      "{'loss': 0.0616, 'grad_norm': 3.4077165126800537, 'learning_rate': 5.932764109156985e-07, 'epoch': 2.68}\n",
      "{'loss': 0.071, 'grad_norm': 5.282677173614502, 'learning_rate': 4.6377684857037196e-07, 'epoch': 2.71}\n",
      "{'loss': 0.0592, 'grad_norm': 2.657599449157715, 'learning_rate': 3.498727581442507e-07, 'epoch': 2.75}\n",
      "{'loss': 0.0759, 'grad_norm': 3.890848159790039, 'learning_rate': 2.517504175814933e-07, 'epoch': 2.79}\n",
      "{'loss': 0.0674, 'grad_norm': 4.246393203735352, 'learning_rate': 1.695702954641143e-07, 'epoch': 2.83}\n",
      "{'loss': 0.0604, 'grad_norm': 3.694611072540283, 'learning_rate': 1.0346678858280223e-07, 'epoch': 2.87}\n",
      "{'loss': 0.069, 'grad_norm': 2.5416319370269775, 'learning_rate': 5.354800214534384e-08, 'epoch': 2.91}\n",
      "{'loss': 0.061, 'grad_norm': 1.6131149530410767, 'learning_rate': 1.989557298214817e-08, 'epoch': 2.94}\n",
      "{'loss': 0.0608, 'grad_norm': 2.857534408569336, 'learning_rate': 2.564536037937826e-09, 'epoch': 2.98}\n"
     ]
    },
    {
     "data": {
      "application/vnd.jupyter.widget-view+json": {
       "model_id": "d17f1677e9e14e1fb87390180f4b7383",
       "version_major": 2,
       "version_minor": 0
      },
      "text/plain": [
       "  0%|          | 0/57 [00:00<?, ?it/s]"
      ]
     },
     "metadata": {},
     "output_type": "display_data"
    },
    {
     "name": "stdout",
     "output_type": "stream",
     "text": [
      "{'eval_loss': 0.46028849482536316, 'eval_qwk': 0.6247901663318682, 'eval_runtime': 32.5291, 'eval_samples_per_second': 56.073, 'eval_steps_per_second': 1.752, 'epoch': 3.0}\n",
      "{'train_runtime': 4440.2461, 'train_samples_per_second': 14.136, 'train_steps_per_second': 0.884, 'train_loss': 0.26626836542689475, 'epoch': 3.0}\n"
     ]
    },
    {
     "data": {
      "application/vnd.jupyter.widget-view+json": {
       "model_id": "fe8c23ba06e048fd94001b9d46c1a87d",
       "version_major": 2,
       "version_minor": 0
      },
      "text/plain": [
       "  0%|          | 0/57 [00:00<?, ?it/s]"
      ]
     },
     "metadata": {},
     "output_type": "display_data"
    },
    {
     "name": "stderr",
     "output_type": "stream",
     "text": [
      "wandb: Network error (ConnectionError), entering retry loop.\n"
     ]
    },
    {
     "data": {
      "application/vnd.jupyter.widget-view+json": {
       "model_id": "6523c44aaeb2420a842ebd4d63b1a43d",
       "version_major": 2,
       "version_minor": 0
      },
      "text/plain": [
       "Map:   0%|          | 0/17996 [00:00<?, ? examples/s]"
      ]
     },
     "metadata": {},
     "output_type": "display_data"
    },
    {
     "data": {
      "application/vnd.jupyter.widget-view+json": {
       "model_id": "2ab4c2d461c14a9fa154a07673ac5cd5",
       "version_major": 2,
       "version_minor": 0
      },
      "text/plain": [
       "Map:   0%|          | 0/4751 [00:00<?, ? examples/s]"
      ]
     },
     "metadata": {},
     "output_type": "display_data"
    },
    {
     "name": "stderr",
     "output_type": "stream",
     "text": [
      "Some weights of DebertaV2ForSequenceClassification were not initialized from the model checkpoint at microsoft/deberta-v3-large and are newly initialized: ['classifier.bias', 'classifier.weight', 'pooler.dense.bias', 'pooler.dense.weight']\n",
      "You should probably TRAIN this model on a down-stream task to be able to use it for predictions and inference.\n"
     ]
    },
    {
     "data": {
      "application/vnd.jupyter.widget-view+json": {
       "model_id": "8c473ae436c04c2aa6d7a21368a13f5e",
       "version_major": 2,
       "version_minor": 0
      },
      "text/plain": [
       "  0%|          | 0/3375 [00:00<?, ?it/s]"
      ]
     },
     "metadata": {},
     "output_type": "display_data"
    },
    {
     "name": "stdout",
     "output_type": "stream",
     "text": [
      "{'loss': 5.3351, 'grad_norm': inf, 'learning_rate': 0.0, 'epoch': 0.0}\n",
      "{'loss': 2.8135, 'grad_norm': 55.12452697753906, 'learning_rate': 1.9999363388202554e-05, 'epoch': 0.04}\n",
      "{'loss': 0.6438, 'grad_norm': 10.304142951965332, 'learning_rate': 1.9983010634250762e-05, 'epoch': 0.09}\n",
      "{'loss': 0.559, 'grad_norm': 32.326690673828125, 'learning_rate': 1.994459468877063e-05, 'epoch': 0.13}\n",
      "{'loss': 0.5183, 'grad_norm': 8.132916450500488, 'learning_rate': 1.988420045384169e-05, 'epoch': 0.18}\n",
      "{'loss': 0.5092, 'grad_norm': 23.172042846679688, 'learning_rate': 1.980196140518798e-05, 'epoch': 0.22}\n",
      "{'loss': 0.4689, 'grad_norm': 4.989927768707275, 'learning_rate': 1.969805929718681e-05, 'epoch': 0.27}\n",
      "{'loss': 0.499, 'grad_norm': 9.667501449584961, 'learning_rate': 1.9572723761178168e-05, 'epoch': 0.31}\n",
      "{'loss': 0.4894, 'grad_norm': 8.021368026733398, 'learning_rate': 1.942623179796247e-05, 'epoch': 0.36}\n",
      "{'loss': 0.4425, 'grad_norm': 3.645915985107422, 'learning_rate': 1.9258907165608326e-05, 'epoch': 0.4}\n",
      "{'loss': 0.4368, 'grad_norm': 9.919905662536621, 'learning_rate': 1.9071119663923248e-05, 'epoch': 0.44}\n",
      "{'loss': 0.3747, 'grad_norm': 7.782317161560059, 'learning_rate': 1.8863284317168772e-05, 'epoch': 0.49}\n",
      "{'loss': 0.4058, 'grad_norm': 7.810986518859863, 'learning_rate': 1.863586045682613e-05, 'epoch': 0.53}\n",
      "{'loss': 0.4029, 'grad_norm': 16.24982261657715, 'learning_rate': 1.8389350706439722e-05, 'epoch': 0.58}\n",
      "{'loss': 0.4458, 'grad_norm': 5.280236721038818, 'learning_rate': 1.8124299870781955e-05, 'epoch': 0.62}\n",
      "{'loss': 0.3489, 'grad_norm': 7.160142421722412, 'learning_rate': 1.7841293731794368e-05, 'epoch': 0.67}\n",
      "{'loss': 0.3922, 'grad_norm': 6.333759307861328, 'learning_rate': 1.7540957753966282e-05, 'epoch': 0.71}\n",
      "{'loss': 0.3372, 'grad_norm': 8.6599760055542, 'learning_rate': 1.722395570201202e-05, 'epoch': 0.76}\n",
      "{'loss': 0.4087, 'grad_norm': 2.5588455200195312, 'learning_rate': 1.68909881739018e-05, 'epoch': 0.8}\n",
      "{'loss': 0.3947, 'grad_norm': 9.135594367980957, 'learning_rate': 1.6542791052488466e-05, 'epoch': 0.84}\n",
      "{'loss': 0.3364, 'grad_norm': 16.217100143432617, 'learning_rate': 1.6180133879151943e-05, 'epoch': 0.89}\n",
      "{'loss': 0.3396, 'grad_norm': 4.488884925842285, 'learning_rate': 1.5803818153055928e-05, 'epoch': 0.93}\n",
      "{'loss': 0.4022, 'grad_norm': 27.512500762939453, 'learning_rate': 1.5414675559775457e-05, 'epoch': 0.98}\n"
     ]
    },
    {
     "data": {
      "application/vnd.jupyter.widget-view+json": {
       "model_id": "52af888bbd594956bc3cdd35c0758f22",
       "version_major": 2,
       "version_minor": 0
      },
      "text/plain": [
       "  0%|          | 0/149 [00:00<?, ?it/s]"
      ]
     },
     "metadata": {},
     "output_type": "display_data"
    },
    {
     "name": "stdout",
     "output_type": "stream",
     "text": [
      "{'eval_loss': 0.33491072058677673, 'eval_qwk': 0.751195832073134, 'eval_runtime': 84.9614, 'eval_samples_per_second': 55.92, 'eval_steps_per_second': 1.754, 'epoch': 1.0}\n",
      "{'loss': 0.3097, 'grad_norm': 2.970433473587036, 'learning_rate': 1.5013566133210317e-05, 'epoch': 1.02}\n",
      "{'loss': 0.2356, 'grad_norm': 8.264913558959961, 'learning_rate': 1.460137635484654e-05, 'epoch': 1.07}\n",
      "{'loss': 0.264, 'grad_norm': 11.552536964416504, 'learning_rate': 1.4179017194566786e-05, 'epoch': 1.11}\n",
      "{'loss': 0.2604, 'grad_norm': 5.3705735206604, 'learning_rate': 1.3747422097339553e-05, 'epoch': 1.16}\n",
      "{'loss': 0.2607, 'grad_norm': 9.525503158569336, 'learning_rate': 1.3307544920236788e-05, 'epoch': 1.2}\n",
      "{'loss': 0.2402, 'grad_norm': 6.778589725494385, 'learning_rate': 1.2860357824339246e-05, 'epoch': 1.24}\n",
      "{'loss': 0.2407, 'grad_norm': 2.199359178543091, 'learning_rate': 1.2406849126188628e-05, 'epoch': 1.29}\n",
      "{'loss': 0.2723, 'grad_norm': 4.348560333251953, 'learning_rate': 1.1948021113534948e-05, 'epoch': 1.33}\n",
      "{'loss': 0.2555, 'grad_norm': 8.482303619384766, 'learning_rate': 1.1484887830206541e-05, 'epoch': 1.38}\n",
      "{'loss': 0.2194, 'grad_norm': 9.424713134765625, 'learning_rate': 1.1018472834998198e-05, 'epoch': 1.42}\n",
      "{'loss': 0.23, 'grad_norm': 8.241463661193848, 'learning_rate': 1.054980693953058e-05, 'epoch': 1.47}\n",
      "{'loss': 0.2179, 'grad_norm': 4.618476390838623, 'learning_rate': 1.0079925930080328e-05, 'epoch': 1.51}\n",
      "{'loss': 0.2148, 'grad_norm': 5.554443836212158, 'learning_rate': 9.609868278415811e-06, 'epoch': 1.56}\n",
      "{'loss': 0.2105, 'grad_norm': 7.967556953430176, 'learning_rate': 9.140672846697756e-06, 'epoch': 1.6}\n",
      "{'loss': 0.2114, 'grad_norm': 13.706844329833984, 'learning_rate': 8.673376591517065e-06, 'epoch': 1.64}\n",
      "{'loss': 0.1996, 'grad_norm': 8.887100219726562, 'learning_rate': 8.209012272144085e-06, 'epoch': 1.69}\n",
      "{'loss': 0.2136, 'grad_norm': 8.127029418945312, 'learning_rate': 7.748606168054285e-06, 'epoch': 1.73}\n",
      "{'loss': 0.1752, 'grad_norm': 2.5940370559692383, 'learning_rate': 7.2931758107747175e-06, 'epoch': 1.78}\n",
      "{'loss': 0.1813, 'grad_norm': 6.351706504821777, 'learning_rate': 6.843727735064155e-06, 'epoch': 1.82}\n",
      "{'loss': 0.1893, 'grad_norm': 2.8521981239318848, 'learning_rate': 6.401255254396828e-06, 'epoch': 1.87}\n",
      "{'loss': 0.1821, 'grad_norm': 3.031003713607788, 'learning_rate': 5.966736265666238e-06, 'epoch': 1.91}\n",
      "{'loss': 0.1919, 'grad_norm': 5.4000678062438965, 'learning_rate': 5.541131087960712e-06, 'epoch': 1.96}\n",
      "{'loss': 0.1789, 'grad_norm': 16.141286849975586, 'learning_rate': 5.125380340187233e-06, 'epoch': 2.0}\n"
     ]
    },
    {
     "data": {
      "application/vnd.jupyter.widget-view+json": {
       "model_id": "8879c2cee8f8478198a0e7547f10b689",
       "version_major": 2,
       "version_minor": 0
      },
      "text/plain": [
       "  0%|          | 0/149 [00:00<?, ?it/s]"
      ]
     },
     "metadata": {},
     "output_type": "display_data"
    },
    {
     "name": "stdout",
     "output_type": "stream",
     "text": [
      "{'eval_loss': 0.40738990902900696, 'eval_qwk': 0.7312452991382887, 'eval_runtime': 84.6322, 'eval_samples_per_second': 56.137, 'eval_steps_per_second': 1.761, 'epoch': 2.0}\n",
      "{'loss': 0.0869, 'grad_norm': 3.9090771675109863, 'learning_rate': 4.720402862234105e-06, 'epoch': 2.04}\n",
      "{'loss': 0.09, 'grad_norm': 5.296076774597168, 'learning_rate': 4.327093684266895e-06, 'epoch': 2.09}\n",
      "{'loss': 0.0857, 'grad_norm': 2.2177724838256836, 'learning_rate': 3.946322048645573e-06, 'epoch': 2.13}\n",
      "{'loss': 0.0844, 'grad_norm': 1.8957266807556152, 'learning_rate': 3.578929488834646e-06, 'epoch': 2.18}\n",
      "{'loss': 0.0833, 'grad_norm': 6.75679874420166, 'learning_rate': 3.2257279695519915e-06, 'epoch': 2.22}\n",
      "{'loss': 0.0845, 'grad_norm': 2.9724295139312744, 'learning_rate': 2.887498092266798e-06, 'epoch': 2.27}\n",
      "{'loss': 0.0798, 'grad_norm': 3.080284357070923, 'learning_rate': 2.5649873700126137e-06, 'epoch': 2.31}\n",
      "{'loss': 0.0815, 'grad_norm': 2.2881665229797363, 'learning_rate': 2.258908575328281e-06, 'epoch': 2.36}\n",
      "{'loss': 0.0864, 'grad_norm': 4.165962219238281, 'learning_rate': 1.969938164977927e-06, 'epoch': 2.4}\n",
      "{'loss': 0.0705, 'grad_norm': 2.098492383956909, 'learning_rate': 1.6987147849314988e-06, 'epoch': 2.44}\n",
      "{'loss': 0.0737, 'grad_norm': 1.507684350013733, 'learning_rate': 1.445837858909982e-06, 'epoch': 2.49}\n",
      "{'loss': 0.0589, 'grad_norm': 3.261582851409912, 'learning_rate': 1.2118662636146305e-06, 'epoch': 2.53}\n",
      "{'loss': 0.0792, 'grad_norm': 4.166138648986816, 'learning_rate': 9.973170935681641e-07, 'epoch': 2.58}\n",
      "{'loss': 0.068, 'grad_norm': 2.951911687850952, 'learning_rate': 8.0266451829763e-07, 'epoch': 2.62}\n",
      "{'loss': 0.0648, 'grad_norm': 5.055494785308838, 'learning_rate': 6.283387343847081e-07, 'epoch': 2.67}\n",
      "{'loss': 0.0734, 'grad_norm': 7.5695390701293945, 'learning_rate': 4.747250146994431e-07, 'epoch': 2.71}\n",
      "{'loss': 0.063, 'grad_norm': 4.204011917114258, 'learning_rate': 3.421628569187385e-07, 'epoch': 2.76}\n",
      "{'loss': 0.0739, 'grad_norm': 2.0605053901672363, 'learning_rate': 2.309452332113793e-07, 'epoch': 2.8}\n",
      "{'loss': 0.0686, 'grad_norm': 3.518305778503418, 'learning_rate': 1.413179427478839e-07, 'epoch': 2.84}\n",
      "{'loss': 0.0828, 'grad_norm': 3.0860989093780518, 'learning_rate': 7.347906846616571e-08, 'epoch': 2.89}\n",
      "{'loss': 0.0662, 'grad_norm': 2.5176126956939697, 'learning_rate': 2.7578539293600102e-08, 'epoch': 2.93}\n",
      "{'loss': 0.0683, 'grad_norm': 2.1892900466918945, 'learning_rate': 3.7177987930037127e-09, 'epoch': 2.98}\n"
     ]
    },
    {
     "data": {
      "application/vnd.jupyter.widget-view+json": {
       "model_id": "1d69aa12b2874d27a638d8ce813b39f0",
       "version_major": 2,
       "version_minor": 0
      },
      "text/plain": [
       "  0%|          | 0/149 [00:00<?, ?it/s]"
      ]
     },
     "metadata": {},
     "output_type": "display_data"
    },
    {
     "name": "stdout",
     "output_type": "stream",
     "text": [
      "{'eval_loss': 0.33483561873435974, 'eval_qwk': 0.7560216903749215, 'eval_runtime': 84.8942, 'eval_samples_per_second': 55.964, 'eval_steps_per_second': 1.755, 'epoch': 3.0}\n",
      "{'train_runtime': 3994.1346, 'train_samples_per_second': 13.517, 'train_steps_per_second': 0.845, 'train_loss': 0.27967847223635073, 'epoch': 3.0}\n"
     ]
    },
    {
     "data": {
      "application/vnd.jupyter.widget-view+json": {
       "model_id": "abea7ddd5e4e456991143f526aceeaee",
       "version_major": 2,
       "version_minor": 0
      },
      "text/plain": [
       "  0%|          | 0/149 [00:00<?, ?it/s]"
      ]
     },
     "metadata": {},
     "output_type": "display_data"
    },
    {
     "data": {
      "application/vnd.jupyter.widget-view+json": {
       "model_id": "de2ea9c17d074d14b5988809ede36c17",
       "version_major": 2,
       "version_minor": 0
      },
      "text/plain": [
       "Map:   0%|          | 0/20196 [00:00<?, ? examples/s]"
      ]
     },
     "metadata": {},
     "output_type": "display_data"
    },
    {
     "data": {
      "application/vnd.jupyter.widget-view+json": {
       "model_id": "2ca3421647f347ab925f021867e7f302",
       "version_major": 2,
       "version_minor": 0
      },
      "text/plain": [
       "Map:   0%|          | 0/2551 [00:00<?, ? examples/s]"
      ]
     },
     "metadata": {},
     "output_type": "display_data"
    },
    {
     "name": "stderr",
     "output_type": "stream",
     "text": [
      "Some weights of DebertaV2ForSequenceClassification were not initialized from the model checkpoint at microsoft/deberta-v3-large and are newly initialized: ['classifier.bias', 'classifier.weight', 'pooler.dense.bias', 'pooler.dense.weight']\n",
      "You should probably TRAIN this model on a down-stream task to be able to use it for predictions and inference.\n"
     ]
    },
    {
     "data": {
      "application/vnd.jupyter.widget-view+json": {
       "model_id": "3020b220a1bc46448f2b4adc7e76a966",
       "version_major": 2,
       "version_minor": 0
      },
      "text/plain": [
       "  0%|          | 0/3789 [00:00<?, ?it/s]"
      ]
     },
     "metadata": {},
     "output_type": "display_data"
    },
    {
     "name": "stdout",
     "output_type": "stream",
     "text": [
      "{'loss': 6.4134, 'grad_norm': inf, 'learning_rate': 0.0, 'epoch': 0.0}\n",
      "{'loss': 2.8925, 'grad_norm': 7.799527645111084, 'learning_rate': 1.9999775532241056e-05, 'epoch': 0.04}\n",
      "{'loss': 0.6602, 'grad_norm': 5.542455673217773, 'learning_rate': 1.998820368922582e-05, 'epoch': 0.08}\n",
      "{'loss': 0.5634, 'grad_norm': 18.27945899963379, 'learning_rate': 1.9959118483264944e-05, 'epoch': 0.12}\n",
      "{'loss': 0.5722, 'grad_norm': 25.086027145385742, 'learning_rate': 1.991257091249425e-05, 'epoch': 0.16}\n",
      "{'loss': 0.4871, 'grad_norm': 20.96141242980957, 'learning_rate': 1.9848642593641476e-05, 'epoch': 0.2}\n",
      "{'loss': 0.4263, 'grad_norm': 3.0243923664093018, 'learning_rate': 1.976744561891914e-05, 'epoch': 0.24}\n",
      "{'loss': 0.4868, 'grad_norm': 5.639791965484619, 'learning_rate': 1.9669122359481526e-05, 'epoch': 0.28}\n",
      "{'loss': 0.4712, 'grad_norm': 5.8660125732421875, 'learning_rate': 1.9553845215790417e-05, 'epoch': 0.32}\n",
      "{'loss': 0.547, 'grad_norm': 10.159919738769531, 'learning_rate': 1.9421816315327366e-05, 'epoch': 0.36}\n",
      "{'loss': 0.4063, 'grad_norm': 18.60857582092285, 'learning_rate': 1.9273267158182373e-05, 'epoch': 0.4}\n",
      "{'loss': 0.497, 'grad_norm': 8.832897186279297, 'learning_rate': 1.9108458211140594e-05, 'epoch': 0.44}\n",
      "{'loss': 0.3789, 'grad_norm': 5.4209980964660645, 'learning_rate': 1.892767845097864e-05, 'epoch': 0.48}\n",
      "{'loss': 0.3618, 'grad_norm': 3.0214827060699463, 'learning_rate': 1.8731244857771345e-05, 'epoch': 0.51}\n",
      "{'loss': 0.3867, 'grad_norm': 5.5577921867370605, 'learning_rate': 1.8519501859097448e-05, 'epoch': 0.55}\n",
      "{'loss': 0.3991, 'grad_norm': 9.858156204223633, 'learning_rate': 1.8292820726118642e-05, 'epoch': 0.59}\n",
      "{'loss': 0.4299, 'grad_norm': 9.775350570678711, 'learning_rate': 1.8051598922591006e-05, 'epoch': 0.63}\n",
      "{'loss': 0.3902, 'grad_norm': 9.27309799194336, 'learning_rate': 1.77962594079502e-05, 'epoch': 0.67}\n",
      "{'loss': 0.3304, 'grad_norm': 17.409664154052734, 'learning_rate': 1.752724989569239e-05, 'epoch': 0.71}\n",
      "{'loss': 0.3866, 'grad_norm': 12.304695129394531, 'learning_rate': 1.7245042068351364e-05, 'epoch': 0.75}\n",
      "{'loss': 0.3783, 'grad_norm': 5.496419429779053, 'learning_rate': 1.695013075044813e-05, 'epoch': 0.79}\n",
      "{'loss': 0.4069, 'grad_norm': 41.025169372558594, 'learning_rate': 1.6643033040863322e-05, 'epoch': 0.83}\n",
      "{'loss': 0.6503, 'grad_norm': 3.191704273223877, 'learning_rate': 1.63242874061536e-05, 'epoch': 0.87}\n",
      "{'loss': 0.3504, 'grad_norm': 5.224058628082275, 'learning_rate': 1.5994452736401872e-05, 'epoch': 0.91}\n",
      "{'loss': 0.3309, 'grad_norm': 6.811683177947998, 'learning_rate': 1.5654107365256828e-05, 'epoch': 0.95}\n",
      "{'loss': 0.3224, 'grad_norm': 8.081183433532715, 'learning_rate': 1.5303848055880006e-05, 'epoch': 0.99}\n"
     ]
    },
    {
     "data": {
      "application/vnd.jupyter.widget-view+json": {
       "model_id": "3ef95037f73d41bba189783f5baafe5e",
       "version_major": 2,
       "version_minor": 0
      },
      "text/plain": [
       "  0%|          | 0/80 [00:00<?, ?it/s]"
      ]
     },
     "metadata": {},
     "output_type": "display_data"
    },
    {
     "name": "stdout",
     "output_type": "stream",
     "text": [
      "{'eval_loss': 0.8786149024963379, 'eval_qwk': 0.5961267114219497, 'eval_runtime': 45.5417, 'eval_samples_per_second': 56.015, 'eval_steps_per_second': 1.757, 'epoch': 1.0}\n",
      "{'loss': 0.3001, 'grad_norm': 6.306370735168457, 'learning_rate': 1.4944288954578505e-05, 'epoch': 1.03}\n",
      "{'loss': 0.2707, 'grad_norm': 5.724617958068848, 'learning_rate': 1.4576060513957959e-05, 'epoch': 1.07}\n",
      "{'loss': 0.2811, 'grad_norm': 6.223255157470703, 'learning_rate': 1.4199808387484006e-05, 'epoch': 1.11}\n",
      "{'loss': 0.221, 'grad_norm': 4.867225170135498, 'learning_rate': 1.3816192297390503e-05, 'epoch': 1.15}\n",
      "{'loss': 0.2225, 'grad_norm': 5.430709362030029, 'learning_rate': 1.3425884877919457e-05, 'epoch': 1.19}\n",
      "{'loss': 0.2556, 'grad_norm': 4.637945652008057, 'learning_rate': 1.3029570495921037e-05, 'epoch': 1.23}\n",
      "{'loss': 0.2441, 'grad_norm': 3.279740571975708, 'learning_rate': 1.2627944050881525e-05, 'epoch': 1.27}\n",
      "{'loss': 0.2607, 'grad_norm': 4.369043350219727, 'learning_rate': 1.2221709756483312e-05, 'epoch': 1.31}\n",
      "{'loss': 0.2272, 'grad_norm': 9.471366882324219, 'learning_rate': 1.1811579905833366e-05, 'epoch': 1.35}\n",
      "{'loss': 0.2132, 'grad_norm': 4.645672798156738, 'learning_rate': 1.1398273622525154e-05, 'epoch': 1.39}\n",
      "{'loss': 0.221, 'grad_norm': 2.683651924133301, 'learning_rate': 1.0982515599723982e-05, 'epoch': 1.43}\n",
      "{'loss': 0.2375, 'grad_norm': 4.237878322601318, 'learning_rate': 1.0565034829486625e-05, 'epoch': 1.46}\n",
      "{'loss': 0.2131, 'grad_norm': 7.229868412017822, 'learning_rate': 1.0146563324543244e-05, 'epoch': 1.5}\n",
      "{'loss': 0.2353, 'grad_norm': 8.280019760131836, 'learning_rate': 9.727834834782862e-06, 'epoch': 1.54}\n",
      "{'loss': 0.2259, 'grad_norm': 2.7958028316497803, 'learning_rate': 9.30958356069288e-06, 'epoch': 1.58}\n",
      "{'loss': 0.2366, 'grad_norm': 3.5137057304382324, 'learning_rate': 8.892542866008504e-06, 'epoch': 1.62}\n",
      "{'loss': 0.1927, 'grad_norm': 14.642722129821777, 'learning_rate': 8.477443991829381e-06, 'epoch': 1.66}\n",
      "{'loss': 0.2269, 'grad_norm': 8.93580150604248, 'learning_rate': 8.065014774458004e-06, 'epoch': 1.7}\n",
      "{'loss': 0.1821, 'grad_norm': 4.195487022399902, 'learning_rate': 7.655978369208188e-06, 'epoch': 1.74}\n",
      "{'loss': 0.1977, 'grad_norm': 2.6685140132904053, 'learning_rate': 7.251051982421123e-06, 'epoch': 1.78}\n",
      "{'loss': 0.1981, 'grad_norm': 4.794676303863525, 'learning_rate': 6.85094561391247e-06, 'epoch': 1.82}\n",
      "{'loss': 0.194, 'grad_norm': 4.6598334312438965, 'learning_rate': 6.456360812055349e-06, 'epoch': 1.86}\n",
      "{'loss': 0.1968, 'grad_norm': 9.45405387878418, 'learning_rate': 6.067989443682145e-06, 'epoch': 1.9}\n",
      "{'loss': 0.1705, 'grad_norm': 4.038483619689941, 'learning_rate': 5.686512480962003e-06, 'epoch': 1.94}\n",
      "{'loss': 0.186, 'grad_norm': 5.44012451171875, 'learning_rate': 5.312598807381012e-06, 'epoch': 1.98}\n"
     ]
    },
    {
     "data": {
      "application/vnd.jupyter.widget-view+json": {
       "model_id": "4951e46198a44d528845da94bbb274b3",
       "version_major": 2,
       "version_minor": 0
      },
      "text/plain": [
       "  0%|          | 0/80 [00:00<?, ?it/s]"
      ]
     },
     "metadata": {},
     "output_type": "display_data"
    },
    {
     "name": "stdout",
     "output_type": "stream",
     "text": [
      "{'eval_loss': 0.7335002422332764, 'eval_qwk': 0.6822337964191709, 'eval_runtime': 45.759, 'eval_samples_per_second': 55.749, 'eval_steps_per_second': 1.748, 'epoch': 2.0}\n",
      "{'loss': 0.1512, 'grad_norm': 3.9785940647125244, 'learning_rate': 4.946904044918819e-06, 'epoch': 2.02}\n",
      "{'loss': 0.0997, 'grad_norm': 5.502175331115723, 'learning_rate': 4.590069404477957e-06, 'epoch': 2.06}\n",
      "{'loss': 0.105, 'grad_norm': 1.6901826858520508, 'learning_rate': 4.242720561581686e-06, 'epoch': 2.1}\n",
      "{'loss': 0.081, 'grad_norm': 3.0724244117736816, 'learning_rate': 3.905466559311584e-06, 'epoch': 2.14}\n",
      "{'loss': 0.0848, 'grad_norm': 2.3788228034973145, 'learning_rate': 3.5788987404085916e-06, 'epoch': 2.18}\n",
      "{'loss': 0.0863, 'grad_norm': 1.6195429563522339, 'learning_rate': 3.263589710409881e-06, 'epoch': 2.22}\n",
      "{'loss': 0.086, 'grad_norm': 2.6143345832824707, 'learning_rate': 2.9600923336396258e-06, 'epoch': 2.26}\n",
      "{'loss': 0.0799, 'grad_norm': 2.5126614570617676, 'learning_rate': 2.668938763814134e-06, 'epoch': 2.3}\n",
      "{'loss': 0.0862, 'grad_norm': 2.193206310272217, 'learning_rate': 2.3906395109610224e-06, 'epoch': 2.34}\n",
      "{'loss': 0.0872, 'grad_norm': 9.348267555236816, 'learning_rate': 2.12568254628857e-06, 'epoch': 2.38}\n",
      "{'loss': 0.088, 'grad_norm': 1.5725880861282349, 'learning_rate': 1.874532446574705e-06, 'epoch': 2.41}\n",
      "{'loss': 0.0803, 'grad_norm': 7.502192974090576, 'learning_rate': 1.6376295795759333e-06, 'epoch': 2.45}\n",
      "{'loss': 0.0764, 'grad_norm': 2.8855390548706055, 'learning_rate': 1.4153893318844525e-06, 'epoch': 2.49}\n",
      "{'loss': 0.0794, 'grad_norm': 4.10723876953125, 'learning_rate': 1.2082013805873539e-06, 'epoch': 2.53}\n",
      "{'loss': 0.0755, 'grad_norm': 4.648338794708252, 'learning_rate': 1.016429010005019e-06, 'epoch': 2.57}\n",
      "{'loss': 0.069, 'grad_norm': 2.4292993545532227, 'learning_rate': 8.404084747066799e-07, 'epoch': 2.61}\n",
      "{'loss': 0.0723, 'grad_norm': 2.695250988006592, 'learning_rate': 6.804484099201014e-07, 'epoch': 2.65}\n",
      "{'loss': 0.0801, 'grad_norm': 2.6136934757232666, 'learning_rate': 5.368292903691263e-07, 'epoch': 2.69}\n",
      "{'loss': 0.0727, 'grad_norm': 3.130221128463745, 'learning_rate': 4.0980293848798536e-07, 'epoch': 2.73}\n",
      "{'loss': 0.0725, 'grad_norm': 2.279428243637085, 'learning_rate': 2.9959208287467124e-07, 'epoch': 2.77}\n",
      "{'loss': 0.0772, 'grad_norm': 1.6293339729309082, 'learning_rate': 2.063899677575698e-07, 'epoch': 2.81}\n",
      "{'loss': 0.0747, 'grad_norm': 3.8859503269195557, 'learning_rate': 1.3036001416013577e-07, 'epoch': 2.85}\n",
      "{'loss': 0.0761, 'grad_norm': 4.915912628173828, 'learning_rate': 7.163553335770124e-08, 'epoch': 2.89}\n",
      "{'loss': 0.0718, 'grad_norm': 2.5825462341308594, 'learning_rate': 3.03194931288664e-08, 'epoch': 2.93}\n",
      "{'loss': 0.0703, 'grad_norm': 2.2819652557373047, 'learning_rate': 6.484337211316582e-09, 'epoch': 2.97}\n"
     ]
    },
    {
     "data": {
      "application/vnd.jupyter.widget-view+json": {
       "model_id": "67053846b5624ef89c81119548638ef2",
       "version_major": 2,
       "version_minor": 0
      },
      "text/plain": [
       "  0%|          | 0/80 [00:00<?, ?it/s]"
      ]
     },
     "metadata": {},
     "output_type": "display_data"
    },
    {
     "name": "stdout",
     "output_type": "stream",
     "text": [
      "{'eval_loss': 0.9301013946533203, 'eval_qwk': 0.6091255914577567, 'eval_runtime': 45.5502, 'eval_samples_per_second': 56.004, 'eval_steps_per_second': 1.756, 'epoch': 3.0}\n",
      "{'train_runtime': 4330.7854, 'train_samples_per_second': 13.99, 'train_steps_per_second': 0.875, 'train_loss': 0.2815923563689662, 'epoch': 3.0}\n"
     ]
    },
    {
     "data": {
      "application/vnd.jupyter.widget-view+json": {
       "model_id": "433a363edbc94fa987c622354429ffbf",
       "version_major": 2,
       "version_minor": 0
      },
      "text/plain": [
       "  0%|          | 0/80 [00:00<?, ?it/s]"
      ]
     },
     "metadata": {},
     "output_type": "display_data"
    },
    {
     "data": {
      "application/vnd.jupyter.widget-view+json": {
       "model_id": "eff77d76edec4cc4b7dfa876b8a67d9d",
       "version_major": 2,
       "version_minor": 0
      },
      "text/plain": [
       "Map:   0%|          | 0/19878 [00:00<?, ? examples/s]"
      ]
     },
     "metadata": {},
     "output_type": "display_data"
    },
    {
     "data": {
      "application/vnd.jupyter.widget-view+json": {
       "model_id": "c17525957ed2402f9357216d790b90e9",
       "version_major": 2,
       "version_minor": 0
      },
      "text/plain": [
       "Map:   0%|          | 0/2869 [00:00<?, ? examples/s]"
      ]
     },
     "metadata": {},
     "output_type": "display_data"
    },
    {
     "name": "stderr",
     "output_type": "stream",
     "text": [
      "Some weights of DebertaV2ForSequenceClassification were not initialized from the model checkpoint at microsoft/deberta-v3-large and are newly initialized: ['classifier.bias', 'classifier.weight', 'pooler.dense.bias', 'pooler.dense.weight']\n",
      "You should probably TRAIN this model on a down-stream task to be able to use it for predictions and inference.\n"
     ]
    },
    {
     "data": {
      "application/vnd.jupyter.widget-view+json": {
       "model_id": "27878aa3c28f4c59b96700ce23b56521",
       "version_major": 2,
       "version_minor": 0
      },
      "text/plain": [
       "  0%|          | 0/3729 [00:00<?, ?it/s]"
      ]
     },
     "metadata": {},
     "output_type": "display_data"
    },
    {
     "name": "stdout",
     "output_type": "stream",
     "text": [
      "{'loss': 5.6326, 'grad_norm': inf, 'learning_rate': 0.0, 'epoch': 0.0}\n",
      "{'loss': 2.881, 'grad_norm': 31.341188430786133, 'learning_rate': 1.999976817516716e-05, 'epoch': 0.04}\n",
      "{'loss': 0.6437, 'grad_norm': 10.885871887207031, 'learning_rate': 1.9987817134649997e-05, 'epoch': 0.08}\n",
      "{'loss': 0.5439, 'grad_norm': 18.2054386138916, 'learning_rate': 1.9957779503969486e-05, 'epoch': 0.12}\n",
      "{'loss': 0.4317, 'grad_norm': 13.829374313354492, 'learning_rate': 1.990970967722478e-05, 'epoch': 0.16}\n",
      "{'loss': 0.5196, 'grad_norm': 9.53882122039795, 'learning_rate': 1.9843694702390818e-05, 'epoch': 0.2}\n",
      "{'loss': 0.4474, 'grad_norm': 11.768196105957031, 'learning_rate': 1.975985412368615e-05, 'epoch': 0.24}\n",
      "{'loss': 0.3846, 'grad_norm': 5.800601482391357, 'learning_rate': 1.9658339765094508e-05, 'epoch': 0.28}\n",
      "{'loss': 0.4042, 'grad_norm': 7.106357097625732, 'learning_rate': 1.953933545543201e-05, 'epoch': 0.32}\n",
      "{'loss': 0.4749, 'grad_norm': 7.5212202072143555, 'learning_rate': 1.940305669545799e-05, 'epoch': 0.36}\n",
      "{'loss': 0.4478, 'grad_norm': 5.828965187072754, 'learning_rate': 1.9249750267632152e-05, 'epoch': 0.4}\n",
      "{'loss': 0.3852, 'grad_norm': 9.3255033493042, 'learning_rate': 1.907969378922483e-05, 'epoch': 0.44}\n",
      "{'loss': 0.4455, 'grad_norm': 9.112404823303223, 'learning_rate': 1.8893195209589535e-05, 'epoch': 0.48}\n",
      "{'loss': 0.3531, 'grad_norm': 9.080229759216309, 'learning_rate': 1.869059225250819e-05, 'epoch': 0.52}\n",
      "{'loss': 0.4151, 'grad_norm': 7.380809307098389, 'learning_rate': 1.847225180461891e-05, 'epoch': 0.56}\n",
      "{'loss': 0.3679, 'grad_norm': 9.52587604522705, 'learning_rate': 1.8238569251033756e-05, 'epoch': 0.6}\n",
      "{'loss': 0.3838, 'grad_norm': 6.281459331512451, 'learning_rate': 1.798996775934962e-05, 'epoch': 0.64}\n",
      "{'loss': 0.3349, 'grad_norm': 2.2394816875457764, 'learning_rate': 1.7726897513348746e-05, 'epoch': 0.68}\n",
      "{'loss': 0.3439, 'grad_norm': 6.232710838317871, 'learning_rate': 1.7449834897776617e-05, 'epoch': 0.72}\n",
      "{'loss': 0.3461, 'grad_norm': 7.722248077392578, 'learning_rate': 1.71592816356734e-05, 'epoch': 0.76}\n",
      "{'loss': 0.3392, 'grad_norm': 6.001805782318115, 'learning_rate': 1.6855763879821173e-05, 'epoch': 0.8}\n",
      "{'loss': 0.33, 'grad_norm': 3.5032527446746826, 'learning_rate': 1.6539831259952177e-05, 'epoch': 0.84}\n",
      "{'loss': 0.3321, 'grad_norm': 11.653550148010254, 'learning_rate': 1.6212055887443484e-05, 'epoch': 0.88}\n",
      "{'loss': 0.3163, 'grad_norm': 6.9285569190979, 'learning_rate': 1.5873031319300416e-05, 'epoch': 0.93}\n",
      "{'loss': 0.3263, 'grad_norm': 5.194770336151123, 'learning_rate': 1.552337148330486e-05, 'epoch': 0.97}\n"
     ]
    },
    {
     "data": {
      "application/vnd.jupyter.widget-view+json": {
       "model_id": "1859eb01f7744162b13e13f2b8084297",
       "version_major": 2,
       "version_minor": 0
      },
      "text/plain": [
       "  0%|          | 0/90 [00:00<?, ?it/s]"
      ]
     },
     "metadata": {},
     "output_type": "display_data"
    },
    {
     "name": "stdout",
     "output_type": "stream",
     "text": [
      "{'eval_loss': 0.5890913009643555, 'eval_qwk': 0.7399490870103813, 'eval_runtime': 51.2757, 'eval_samples_per_second': 55.952, 'eval_steps_per_second': 1.755, 'epoch': 1.0}\n",
      "{'loss': 0.3433, 'grad_norm': 10.463722229003906, 'learning_rate': 1.5163709566274807e-05, 'epoch': 1.01}\n",
      "{'loss': 0.2519, 'grad_norm': 4.113266468048096, 'learning_rate': 1.4794696867448422e-05, 'epoch': 1.05}\n",
      "{'loss': 0.2337, 'grad_norm': 12.916274070739746, 'learning_rate': 1.4417001619068924e-05, 'epoch': 1.09}\n",
      "{'loss': 0.2204, 'grad_norm': 2.639439344406128, 'learning_rate': 1.4031307776306096e-05, 'epoch': 1.13}\n",
      "{'loss': 0.2313, 'grad_norm': 3.013040781021118, 'learning_rate': 1.3638313778705688e-05, 'epoch': 1.17}\n",
      "{'loss': 0.2255, 'grad_norm': 6.283066272735596, 'learning_rate': 1.3238731285409577e-05, 'epoch': 1.21}\n",
      "{'loss': 0.228, 'grad_norm': 5.307410717010498, 'learning_rate': 1.2833283886437006e-05, 'epoch': 1.25}\n",
      "{'loss': 0.2609, 'grad_norm': 4.014354705810547, 'learning_rate': 1.2422705792360636e-05, 'epoch': 1.29}\n",
      "{'loss': 0.2158, 'grad_norm': 12.153946876525879, 'learning_rate': 1.2007740504750179e-05, 'epoch': 1.33}\n",
      "{'loss': 0.2189, 'grad_norm': 2.6604807376861572, 'learning_rate': 1.1589139469791302e-05, 'epoch': 1.37}\n",
      "{'loss': 0.1874, 'grad_norm': 3.9514410495758057, 'learning_rate': 1.1167660717517917e-05, 'epoch': 1.41}\n",
      "{'loss': 0.2036, 'grad_norm': 7.9867658615112305, 'learning_rate': 1.0744067489121988e-05, 'epoch': 1.45}\n",
      "{'loss': 0.2049, 'grad_norm': 2.7036259174346924, 'learning_rate': 1.0319126854826628e-05, 'epoch': 1.49}\n",
      "{'loss': 0.2371, 'grad_norm': 6.093824863433838, 'learning_rate': 9.893608324825378e-06, 'epoch': 1.53}\n",
      "{'loss': 0.1939, 'grad_norm': 6.488497257232666, 'learning_rate': 9.46828245580297e-06, 'epoch': 1.57}\n",
      "{'loss': 0.1923, 'grad_norm': 4.587530612945557, 'learning_rate': 9.043919455561087e-06, 'epoch': 1.61}\n",
      "{'loss': 0.1807, 'grad_norm': 3.9730939865112305, 'learning_rate': 8.621287788275877e-06, 'epoch': 1.65}\n",
      "{'loss': 0.18, 'grad_norm': 6.415521621704102, 'learning_rate': 8.201152782912935e-06, 'epoch': 1.69}\n",
      "{'loss': 0.1829, 'grad_norm': 4.256028652191162, 'learning_rate': 7.784275247319744e-06, 'epoch': 1.73}\n",
      "{'loss': 0.1829, 'grad_norm': 7.7430267333984375, 'learning_rate': 7.371410090505244e-06, 'epoch': 1.77}\n",
      "{'loss': 0.1737, 'grad_norm': 6.056859016418457, 'learning_rate': 6.963304955601398e-06, 'epoch': 1.81}\n",
      "{'loss': 0.1745, 'grad_norm': 2.965006113052368, 'learning_rate': 6.56069886598229e-06, 'epoch': 1.85}\n",
      "{'loss': 0.1918, 'grad_norm': 5.844413757324219, 'learning_rate': 6.164320886992432e-06, 'epoch': 1.89}\n",
      "{'loss': 0.1884, 'grad_norm': 8.947746276855469, 'learning_rate': 5.7748888057077345e-06, 'epoch': 1.93}\n",
      "{'loss': 0.1902, 'grad_norm': 4.576884746551514, 'learning_rate': 5.393107831119875e-06, 'epoch': 1.97}\n"
     ]
    },
    {
     "data": {
      "application/vnd.jupyter.widget-view+json": {
       "model_id": "82a9af1258c54db088f916f8fb86a93c",
       "version_major": 2,
       "version_minor": 0
      },
      "text/plain": [
       "  0%|          | 0/90 [00:00<?, ?it/s]"
      ]
     },
     "metadata": {},
     "output_type": "display_data"
    },
    {
     "name": "stdout",
     "output_type": "stream",
     "text": [
      "{'eval_loss': 0.4692945182323456, 'eval_qwk': 0.770248093811599, 'eval_runtime': 51.4579, 'eval_samples_per_second': 55.754, 'eval_steps_per_second': 1.749, 'epoch': 2.0}\n",
      "{'loss': 0.1405, 'grad_norm': 4.242092132568359, 'learning_rate': 5.019669317097919e-06, 'epoch': 2.01}\n",
      "{'loss': 0.0815, 'grad_norm': 7.247753143310547, 'learning_rate': 4.655249510439668e-06, 'epoch': 2.05}\n",
      "{'loss': 0.0786, 'grad_norm': 1.7199658155441284, 'learning_rate': 4.300508326279887e-06, 'epoch': 2.09}\n",
      "{'loss': 0.0781, 'grad_norm': 2.9033122062683105, 'learning_rate': 3.95608815307298e-06, 'epoch': 2.13}\n",
      "{'loss': 0.0854, 'grad_norm': 2.2858071327209473, 'learning_rate': 3.6226126893141036e-06, 'epoch': 2.17}\n",
      "{'loss': 0.0634, 'grad_norm': 2.238194465637207, 'learning_rate': 3.3006858141052845e-06, 'epoch': 2.21}\n",
      "{'loss': 0.073, 'grad_norm': 2.3055806159973145, 'learning_rate': 2.9908904936118044e-06, 'epoch': 2.25}\n",
      "{'loss': 0.0723, 'grad_norm': 2.2735211849212646, 'learning_rate': 2.6937877253890577e-06, 'epoch': 2.29}\n",
      "{'loss': 0.0709, 'grad_norm': 1.4409018754959106, 'learning_rate': 2.4099155224916304e-06, 'epoch': 2.33}\n",
      "{'loss': 0.0619, 'grad_norm': 2.930173635482788, 'learning_rate': 2.139787939204192e-06, 'epoch': 2.37}\n",
      "{'loss': 0.0668, 'grad_norm': 5.5340681076049805, 'learning_rate': 1.8838941401585008e-06, 'epoch': 2.41}\n",
      "{'loss': 0.0653, 'grad_norm': 3.1362318992614746, 'learning_rate': 1.6426975145222113e-06, 'epoch': 2.45}\n",
      "{'loss': 0.0665, 'grad_norm': 1.8995418548583984, 'learning_rate': 1.4166348368635597e-06, 'epoch': 2.49}\n",
      "{'loss': 0.0825, 'grad_norm': 3.8702428340911865, 'learning_rate': 1.2061154762115278e-06, 'epoch': 2.53}\n",
      "{'loss': 0.0623, 'grad_norm': 2.3743014335632324, 'learning_rate': 1.0115206547437207e-06, 'epoch': 2.57}\n",
      "{'loss': 0.0755, 'grad_norm': 3.5163612365722656, 'learning_rate': 8.332027574443969e-07, 'epoch': 2.61}\n",
      "{'loss': 0.0681, 'grad_norm': 2.132049798965454, 'learning_rate': 6.714846939827835e-07, 'epoch': 2.65}\n",
      "{'loss': 0.0726, 'grad_norm': 2.1292028427124023, 'learning_rate': 5.266593139672016e-07, 'epoch': 2.7}\n",
      "{'loss': 0.0652, 'grad_norm': 1.6851545572280884, 'learning_rate': 3.989888766339023e-07, 'epoch': 2.74}\n",
      "{'loss': 0.0676, 'grad_norm': 1.9901998043060303, 'learning_rate': 2.887045759309648e-07, 'epoch': 2.78}\n",
      "{'loss': 0.0642, 'grad_norm': 5.895600318908691, 'learning_rate': 1.9600612185721625e-07, 'epoch': 2.82}\n",
      "{'loss': 0.0629, 'grad_norm': 2.491260528564453, 'learning_rate': 1.2106137881435997e-07, 'epoch': 2.86}\n",
      "{'loss': 0.0633, 'grad_norm': 2.541623592376709, 'learning_rate': 6.400606162716983e-08, 'epoch': 2.9}\n",
      "{'loss': 0.0626, 'grad_norm': 1.754157543182373, 'learning_rate': 2.4943489782245367e-08, 'epoch': 2.94}\n",
      "{'loss': 0.0663, 'grad_norm': 2.9212188720703125, 'learning_rate': 3.944400330351262e-09, 'epoch': 2.98}\n"
     ]
    },
    {
     "data": {
      "application/vnd.jupyter.widget-view+json": {
       "model_id": "36dd210eaec54e70b5f49d59ed433470",
       "version_major": 2,
       "version_minor": 0
      },
      "text/plain": [
       "  0%|          | 0/90 [00:00<?, ?it/s]"
      ]
     },
     "metadata": {},
     "output_type": "display_data"
    },
    {
     "name": "stdout",
     "output_type": "stream",
     "text": [
      "{'eval_loss': 0.4749595522880554, 'eval_qwk': 0.7697262602045462, 'eval_runtime': 51.2802, 'eval_samples_per_second': 55.948, 'eval_steps_per_second': 1.755, 'epoch': 3.0}\n",
      "{'train_runtime': 4280.96, 'train_samples_per_second': 13.93, 'train_steps_per_second': 0.871, 'train_loss': 0.26015842833637903, 'epoch': 3.0}\n"
     ]
    },
    {
     "data": {
      "application/vnd.jupyter.widget-view+json": {
       "model_id": "ef196dafea1b4f79b7888c0b1784dad0",
       "version_major": 2,
       "version_minor": 0
      },
      "text/plain": [
       "  0%|          | 0/90 [00:00<?, ?it/s]"
      ]
     },
     "metadata": {},
     "output_type": "display_data"
    },
    {
     "name": "stderr",
     "output_type": "stream",
     "text": [
      "\u001b[34m\u001b[1mwandb\u001b[0m: Network error resolved after 0:00:01.181452, resuming normal operation.\n"
     ]
    }
   ],
   "source": [
    "scores = []\n",
    "\n",
    "for fold in CFG.train_folds:\n",
    "    train, valid = get_fold_data(fold)\n",
    "\n",
    "    tokenized_train, tokenized_valid = tokenize_data(train, valid)\n",
    "\n",
    "    config = configure()\n",
    "\n",
    "    backbone_model = get_model(config)\n",
    "\n",
    "    data_collator = DataCollatorWithPadding(tokenizer=tokenizer)\n",
    "\n",
    "    trainer = Trainer(\n",
    "        model=backbone_model,\n",
    "        args=training_args,\n",
    "        train_dataset=tokenized_train,\n",
    "        eval_dataset=tokenized_valid,\n",
    "        data_collator=data_collator,\n",
    "        tokenizer=tokenizer,\n",
    "        compute_metrics=compute_metrics,\n",
    "    )\n",
    "\n",
    "    trainer.train()\n",
    "\n",
    "    y_true = valid[\"label\"].values\n",
    "    logits = trainer.predict(tokenized_valid).predictions\n",
    "    y_pred = post_process_predictions(logits)\n",
    "\n",
    "    trainer.save_model(Paths.model_path.format(model_name=MODEL_NAME, fold=fold))\n",
    "\n",
    "    oof_df = save_oof_predictions(fold, valid, logits, y_pred)\n",
    "    log_metrics(oof_df, f\"Fold {fold}\")\n",
    "\n",
    "    score = compute_metrics((oof_df[\"pred_score\"], oof_df[\"label\"]))\n",
    "    scores.append((fold, score))\n",
    "\n",
    "    del (\n",
    "        train,\n",
    "        valid,\n",
    "        tokenized_train,\n",
    "        tokenized_valid,\n",
    "        backbone_model,\n",
    "        data_collator,\n",
    "        trainer,\n",
    "        y_pred,\n",
    "        y_true,\n",
    "        logits,\n",
    "    )\n",
    "    gc.collect()\n",
    "    torch.cuda.empty_cache()\n",
    "    time.sleep(5)"
   ]
  },
  {
   "cell_type": "markdown",
   "metadata": {},
   "source": [
    "## Overall"
   ]
  },
  {
   "cell_type": "markdown",
   "metadata": {},
   "source": [
    "### Logging Metrics"
   ]
  },
  {
   "cell_type": "code",
   "execution_count": 37,
   "metadata": {},
   "outputs": [
    {
     "name": "stdout",
     "output_type": "stream",
     "text": [
      "Overall QWK score before thresholding: 0.770248093811599\n"
     ]
    }
   ],
   "source": [
    "log_metrics(oof_df, \"Overall\")\n",
    "\n",
    "table = wandb.Table(data=scores, columns=[\"score\", \"QWK\"])\n",
    "wandb.log(\n",
    "    {\n",
    "        \"Overall/QWK_all_folds\": wandb.plot.bar(\n",
    "            table,\n",
    "            \"score\",\n",
    "            \"QWK\",\n",
    "            title=\"Fold wise QWK Scores\",\n",
    "        )\n",
    "    }\n",
    ")\n",
    "\n",
    "score = compute_metrics((oof_df[\"pred_score\"], oof_df[\"label\"]))[\"qwk\"]\n",
    "print(f\"Overall QWK score before thresholding: {score}\")\n",
    "wandb.log({\"CV/qwk_score\": score})"
   ]
  },
  {
   "cell_type": "markdown",
   "metadata": {},
   "source": [
    "### Confusion Matrix"
   ]
  },
  {
   "cell_type": "code",
   "execution_count": 38,
   "metadata": {},
   "outputs": [
    {
     "data": {
      "image/png": "[encoded data removed]",
      "text/plain": [
       "<Figure size 640x480 with 2 Axes>"
      ]
     },
     "metadata": {},
     "output_type": "display_data"
    }
   ],
   "source": [
    "cm = confusion_matrix(oof_df[\"label\"], oof_df[\"pred_score\"])\n",
    "disp = ConfusionMatrixDisplay(confusion_matrix=cm, display_labels=list(range(CFG.num_labels)))\n",
    "\n",
    "# Plot the confusion matrix\n",
    "disp.plot(cmap='viridis', values_format='d')\n",
    "plt.title(\"Confusion Matrix\")\n",
    "plt.show()"
   ]
  },
  {
   "cell_type": "markdown",
   "metadata": {},
   "source": [
    "## Optimal Thresholds"
   ]
  },
  {
   "cell_type": "code",
   "execution_count": 44,
   "metadata": {},
   "outputs": [],
   "source": [
    "best, threshold, xs, ys = find_thresholds(oof_df[\"label\"] + 1, oof_df[\"logit\"] + 1, steps=250)"
   ]
  },
  {
   "cell_type": "code",
   "execution_count": 45,
   "metadata": {},
   "outputs": [
    {
     "data": {
      "image/png": "[encoded data removed]",
      "text/plain": [
       "<Figure size 1500x300 with 5 Axes>"
      ]
     },
     "metadata": {},
     "output_type": "display_data"
    }
   ],
   "source": [
    "diff = 0.5\n",
    "nrows, ncols = 1, 5  # Define grid for 5 subplots (1 row, 5 columns)\n",
    "\n",
    "fig, axes = plt.subplots(nrows, ncols, figsize=(15, 3))  # Create figure and subplots\n",
    "\n",
    "# Loop through data and plot on each subplot\n",
    "for k in range(5):\n",
    "    ax = axes.flat[k]  # Access each subplot using flattened axes\n",
    "    ax.scatter(xs[k], ys[k], s=3)\n",
    "    m = k + 1.5\n",
    "    ax.set_xlim((m - diff, m + diff))\n",
    "    i = np.where((np.array(xs[k]) > m - diff) & (np.array(xs[k]) < m + diff))[0]\n",
    "    mn = np.min(np.array(ys[k])[i])\n",
    "    mx = np.max(np.array(ys[k])[i])\n",
    "    ax.set_ylim((mn, mx))\n",
    "\n",
    "    ax.plot(\n",
    "        [threshold[k], threshold[k]],\n",
    "        [mn, mx],\n",
    "        \"--\",\n",
    "        color=\"black\",\n",
    "        label=\"optimal threshold\",\n",
    "    )\n",
    "\n",
    "    ax.set_title(f\"Optimal Thresh: {threshold[k]:4.3f}\", size=12)  # Adjust title size\n",
    "    ax.set_xlabel(f\"Threshold between {k+1} and {k+2}\", size=10)\n",
    "    ax.set_ylabel(\"QWK CV score\", size=10)\n",
    "\n",
    "# Common legend for all subplots\n",
    "plt.suptitle(\"Optimal Thresholds\", size=12)\n",
    "plt.tight_layout()  # Adjust spacing between subplots\n",
    "plt.show()"
   ]
  },
  {
   "cell_type": "code",
   "execution_count": 46,
   "metadata": {},
   "outputs": [],
   "source": [
    "with open(Paths.threshold_path, \"wb\") as file:\n",
    "    pkl.dump(threshold, file)"
   ]
  },
  {
   "cell_type": "markdown",
   "metadata": {},
   "source": [
    "### QWK Score After optimal Thresholding"
   ]
  },
  {
   "cell_type": "code",
   "execution_count": 47,
   "metadata": {},
   "outputs": [],
   "source": [
    "def raw_to_class(pred, threshold):\n",
    "    return pd.cut(\n",
    "        pred,\n",
    "        [-np.inf] + threshold + [np.inf],\n",
    "        labels=range(CFG.num_labels),\n",
    "    ).astype(pd.Int32Dtype())"
   ]
  },
  {
   "cell_type": "code",
   "execution_count": 48,
   "metadata": {},
   "outputs": [
    {
     "name": "stdout",
     "output_type": "stream",
     "text": [
      "Test dataset QWK score after thresholding: 0.816229845232483\n"
     ]
    }
   ],
   "source": [
    "oof_df[\"pred_score\"] = raw_to_class(oof_df[\"logit\"] + 1, threshold)\n",
    "score = compute_metrics((oof_df[\"pred_score\"], oof_df[\"label\"]))[\"qwk\"]\n",
    "print(f\"Test dataset QWK score after thresholding: {score}\")\n",
    "wandb.log({\"CV/qwk_score_after_threshold\": score})"
   ]
  },
  {
   "cell_type": "markdown",
   "metadata": {},
   "source": [
    "## Wrapping up"
   ]
  },
  {
   "cell_type": "code",
   "execution_count": 49,
   "metadata": {},
   "outputs": [
    {
     "data": {
      "application/vnd.jupyter.widget-view+json": {
       "model_id": "6fd2b2ffb78749c2bff6530b282b7cb0",
       "version_major": 2,
       "version_minor": 0
      },
      "text/plain": [
       "VBox(children=(Label(value='0.035 MB of 0.035 MB uploaded\\r'), FloatProgress(value=1.0, max=1.0)))"
      ]
     },
     "metadata": {},
     "output_type": "display_data"
    },
    {
     "data": {
      "text/html": [
       "<style>\n",
       "    table.wandb td:nth-child(1) { padding: 0 10px; text-align: left ; width: auto;} td:nth-child(2) {text-align: left ; width: 100%}\n",
       "    .wandb-row { display: flex; flex-direction: row; flex-wrap: wrap; justify-content: flex-start; width: 100% }\n",
       "    .wandb-col { display: flex; flex-direction: column; flex-basis: 100%; flex: 1; padding: 10px; }\n",
       "    </style>\n",
       "<div class=\"wandb-row\"><div class=\"wandb-col\"><h3>Run history:</h3><br/><table class=\"wandb\"><tr><td>CV/qwk_score</td><td>▁</td></tr><tr><td>CV/qwk_score_after_threshold</td><td>▁</td></tr><tr><td>eval/loss</td><td>▂▄▂▃▄▃▁▁▂▁▃▂▁▂▁▇▆█▄▃▃</td></tr><tr><td>eval/qwk</td><td>▆▆▇▅▄▅▇██▃▁▂▆▅▆▁▄▁▅▆▆</td></tr><tr><td>eval/runtime</td><td>▆▆▆▄▄▄▆▆▆▁▁▁███▃▃▃▄▄▄</td></tr><tr><td>eval/samples_per_second</td><td>▅▅▃▁▆▇███▇▇█▇█▇█▇▇▇▇▇</td></tr><tr><td>eval/steps_per_second</td><td>▅▅▃▁▆████▇▆▇▇█▇▇▇▇▇▇▇</td></tr><tr><td>train/epoch</td><td>▂▂▄▅▆█▂▃▄▆▆█▂▄▄▆█▁▂▄▅▆▇█▂▄▆▆█▂▃▄▆▇█▂▃▄▆▇</td></tr><tr><td>train/global_step</td><td>▁▂▄▅▆▇▁▃▄▆▇▁▂▃▅▆▇▁▃▄▆▇█▁▃▄▆▇▁▂▄▅▇█▁▃▄▆▇█</td></tr><tr><td>train/grad_norm</td><td>▆▂▂▂▂▁▂▂▂▂▁▁█▂▁▁▁▂▁▁▁▂▁▃▂▃▂▁▅▃▂▃▁▁▁▃▂▂▁▁</td></tr><tr><td>train/learning_rate</td><td>█▇▅▄▂▁█▇▅▃▁▁█▆▄▂▁█▇▆▄▃▁█▇▅▃▂██▆▄▃▁▁▇▆▄▂▁</td></tr><tr><td>train/loss</td><td>▇▅▃▃▁▁▆▅▃▂▁▁▆▃▄▁▁▆▄▄▃▁▁▇▅▄▁▁█▇▄▃▂▁▁▅▃▃▁▁</td></tr></table><br/></div><div class=\"wandb-col\"><h3>Run summary:</h3><br/><table class=\"wandb\"><tr><td>CV/qwk_score</td><td>0.77025</td></tr><tr><td>CV/qwk_score_after_threshold</td><td>0.81623</td></tr><tr><td>eval/loss</td><td>0.47496</td></tr><tr><td>eval/qwk</td><td>0.76973</td></tr><tr><td>eval/runtime</td><td>51.2802</td></tr><tr><td>eval/samples_per_second</td><td>55.948</td></tr><tr><td>eval/steps_per_second</td><td>1.755</td></tr><tr><td>total_flos</td><td>5.557498232984986e+16</td></tr><tr><td>train/epoch</td><td>3.0</td></tr><tr><td>train/global_step</td><td>3729</td></tr><tr><td>train/grad_norm</td><td>2.92122</td></tr><tr><td>train/learning_rate</td><td>0.0</td></tr><tr><td>train/loss</td><td>0.0663</td></tr><tr><td>train_loss</td><td>0.26016</td></tr><tr><td>train_runtime</td><td>4280.96</td></tr><tr><td>train_samples_per_second</td><td>13.93</td></tr><tr><td>train_steps_per_second</td><td>0.871</td></tr></table><br/></div></div>"
      ],
      "text/plain": [
       "<IPython.core.display.HTML object>"
      ]
     },
     "metadata": {},
     "output_type": "display_data"
    },
    {
     "data": {
      "text/html": [
       " View run <strong style=\"color:#cdcd00\">deberta-v3-large-512-R-CV</strong> at: <a href='https://wandb.ai/laplacesdemon43/Kaggle_ASE_2.0/runs/iff1gzrm' target=\"_blank\">https://wandb.ai/laplacesdemon43/Kaggle_ASE_2.0/runs/iff1gzrm</a><br/> View project at: <a href='https://wandb.ai/laplacesdemon43/Kaggle_ASE_2.0' target=\"_blank\">https://wandb.ai/laplacesdemon43/Kaggle_ASE_2.0</a><br/>Synced 6 W&B file(s), 33 media file(s), 33 artifact file(s) and 0 other file(s)"
      ],
      "text/plain": [
       "<IPython.core.display.HTML object>"
      ]
     },
     "metadata": {},
     "output_type": "display_data"
    },
    {
     "data": {
      "text/html": [
       "Find logs at: <code>./wandb/run-20240614_215326-iff1gzrm/logs</code>"
      ],
      "text/plain": [
       "<IPython.core.display.HTML object>"
      ]
     },
     "metadata": {},
     "output_type": "display_data"
    }
   ],
   "source": [
    "wandb.finish()"
   ]
  }
 ],
 "metadata": {
  "kernelspec": {
   "display_name": "venv",
   "language": "python",
   "name": "python3"
  },
  "language_info": {
   "codemirror_mode": {
    "name": "ipython",
    "version": 3
   },
   "file_extension": ".py",
   "mimetype": "text/x-python",
   "name": "python",
   "nbconvert_exporter": "python",
   "pygments_lexer": "ipython3",
   "version": "3.11.8"
  }
 },
 "nbformat": 4,
 "nbformat_minor": 2
}
