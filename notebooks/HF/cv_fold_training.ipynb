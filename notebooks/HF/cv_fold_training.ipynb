{
 "cells": [
  {
   "cell_type": "markdown",
   "metadata": {},
   "source": [
    "# 🤗 HuggingFace Neural Network Notebook\n",
    "\n",
    "Sources:\n",
    "1. [Originally based on cdoette's notebook](https://www.kaggle.com/code/cdeotte/deberta-v3-small-starter-cv-0-820-lb-0-800?scriptVersionId=174239814)"
   ]
  },
  {
   "cell_type": "markdown",
   "metadata": {},
   "source": [
    "## Version History"
   ]
  },
  {
   "cell_type": "markdown",
   "metadata": {},
   "source": [
    "### 1.0\n",
    "Base implementation following [cdoette's notebook](https://www.kaggle.com/code/cdeotte/deberta-v3-small-starter-cv-0-820-lb-0-800?scriptVersionId=174239814)\n",
    "\n",
    "### 2.0\n",
    "1. Sliding window technique\n",
    "2. wandb logging\n",
    "3. Threshold"
   ]
  },
  {
   "cell_type": "markdown",
   "metadata": {},
   "source": [
    "## Setup"
   ]
  },
  {
   "cell_type": "markdown",
   "metadata": {},
   "source": [
    "### Environment Variables"
   ]
  },
  {
   "cell_type": "code",
   "execution_count": 1,
   "metadata": {},
   "outputs": [
    {
     "name": "stdout",
     "output_type": "stream",
     "text": [
      "env: TOKENIZERS_PARALLELISM=true\n",
      "env: WANDB_NOTEBOOK_NAME=\"neural_network.ipynb\"\n"
     ]
    }
   ],
   "source": [
    "%env TOKENIZERS_PARALLELISM=true"
   ]
  },
  {
   "cell_type": "markdown",
   "metadata": {},
   "source": [
    "### Import Libraries"
   ]
  },
  {
   "cell_type": "code",
   "execution_count": 2,
   "metadata": {},
   "outputs": [],
   "source": [
    "import gc\n",
    "import os\n",
    "import random\n",
    "import time\n",
    "from typing import Tuple, List\n",
    "import warnings\n",
    "import pickle as pkl\n",
    "\n",
    "from dotenv import load_dotenv\n",
    "import wandb\n",
    "from tqdm import tqdm\n",
    "import torch\n",
    "import pandas as pd, numpy as np\n",
    "import matplotlib.pyplot as plt\n",
    "from transformers import (\n",
    "    AutoTokenizer,\n",
    "    AutoModelForSequenceClassification,\n",
    "    AutoConfig,\n",
    "    TrainingArguments,\n",
    "    Trainer,\n",
    "    DataCollatorWithPadding,\n",
    "    PreTrainedTokenizer,\n",
    ")\n",
    "from datasets import Dataset\n",
    "from tokenizers import AddedToken\n",
    "from sklearn.model_selection import StratifiedGroupKFold\n",
    "from sklearn.metrics import (\n",
    "    confusion_matrix,\n",
    "    ConfusionMatrixDisplay,\n",
    "    cohen_kappa_score,\n",
    ")"
   ]
  },
  {
   "cell_type": "code",
   "execution_count": 3,
   "metadata": {},
   "outputs": [
    {
     "data": {
      "text/plain": [
       "True"
      ]
     },
     "execution_count": 3,
     "metadata": {},
     "output_type": "execute_result"
    }
   ],
   "source": [
    "os.chdir(\"../../\")\n",
    "warnings.simplefilter('ignore')\n",
    "load_dotenv()"
   ]
  },
  {
   "cell_type": "code",
   "execution_count": 4,
   "metadata": {},
   "outputs": [],
   "source": [
    "from lib.criterion.metrics import log_metrics\n",
    "from lib.utils.find_threshold import find_thresholds"
   ]
  },
  {
   "cell_type": "markdown",
   "metadata": {},
   "source": [
    "### Paths"
   ]
  },
  {
   "cell_type": "code",
   "execution_count": 5,
   "metadata": {},
   "outputs": [],
   "source": [
    "class Paths:\n",
    "    # Competition data with added topic column\n",
    "    train_csv: str = \"data/processed/train.csv\"\n",
    "    test_csv: str = \"data/processed/test.csv\"\n",
    "\n",
    "    # Output path\n",
    "    output_path: str = \"output/model_dir\"\n",
    "    model_path: str = os.path.join(output_path, \"{model_name}_fold_{fold}\")\n",
    "    tokenizer_path: str =  os.path.join(output_path, \"{model_name}_tokenizer\")\n",
    "    oof_path: str = os.path.join(output_path, \"valid_df_fold_{fold}.csv\")\n",
    "    threshold_path: str = os.path.join(output_path, \"threshold.pkl\")\n",
    "    logging_path: str = os.path.join(output_path, \"logging\")"
   ]
  },
  {
   "cell_type": "markdown",
   "metadata": {},
   "source": [
    "### Configurations"
   ]
  },
  {
   "cell_type": "code",
   "execution_count": 6,
   "metadata": {},
   "outputs": [],
   "source": [
    "DEBUG = False\n",
    "DO_SLIDING_WINDOW = True\n",
    "DO_REGRESSION = True"
   ]
  },
  {
   "cell_type": "code",
   "execution_count": 7,
   "metadata": {},
   "outputs": [],
   "source": [
    "class CFG:\n",
    "    backbone_model: str = \"microsoft/deberta-v3-large\"\n",
    "    gradient_accumulation_steps: int = 1\n",
    "    gradient_checkpointing: bool = True\n",
    "    lr: float = 2e-5\n",
    "    lr_scheduler_type: str = \"cosine\"\n",
    "    max_length: int = 512\n",
    "    n_splits: int = 7\n",
    "    num_labels: int = 6\n",
    "    num_folds: int = 7\n",
    "    num_epochs: int = 3\n",
    "    num_workers: int = 6\n",
    "    seed: int = 20\n",
    "    stride_length: int = 384\n",
    "    train_batch_size: int = 32\n",
    "    valid_batch_size: int = 32\n",
    "    weight_decay: float = 0.01\n",
    "    warmup_ratio: float = 0\n",
    "    train_folds: List[int] = list(range(num_folds))"
   ]
  },
  {
   "cell_type": "code",
   "execution_count": 8,
   "metadata": {},
   "outputs": [],
   "source": [
    "if DEBUG:\n",
    "    CFG.num_epochs = 1\n",
    "    CFG.train_folds = [0]"
   ]
  },
  {
   "cell_type": "code",
   "execution_count": 9,
   "metadata": {},
   "outputs": [],
   "source": [
    "MODEL_NAME = CFG.backbone_model.split(\"/\")[-1]"
   ]
  },
  {
   "cell_type": "markdown",
   "metadata": {},
   "source": [
    "### Setting Random Seed"
   ]
  },
  {
   "cell_type": "code",
   "execution_count": 10,
   "metadata": {},
   "outputs": [],
   "source": [
    "def seed_everything() -> None:\n",
    "    \"\"\"Seed everything to ensure reproducibility\n",
    "\n",
    "    Sources:\n",
    "    1. https://www.kaggle.com/code/alejopaullier/aes-2-multi-class-classification-train\n",
    "    2. https://www.kaggle.com/code/hashidoyuto/deberta-baseline-aes2-0-train\n",
    "    \"\"\"\n",
    "    random.seed(CFG.seed)\n",
    "    os.environ[\"PYTHONHASHCFG.SEED\"] = str(CFG.seed)\n",
    "    np.random.seed(CFG.seed)\n",
    "    torch.manual_seed(CFG.seed)\n",
    "    torch.cuda.manual_seed(CFG.seed)\n",
    "    torch.backends.cudnn.deterministic = True\n",
    "    torch.backends.cudnn.benchmark = True\n",
    "\n",
    "seed_everything()"
   ]
  },
  {
   "cell_type": "markdown",
   "metadata": {},
   "source": [
    "### WandB setup"
   ]
  },
  {
   "cell_type": "code",
   "execution_count": 11,
   "metadata": {},
   "outputs": [],
   "source": [
    "WANDB_PROJECT = \"Kaggle_ASE_2.0\"\n",
    "model_name = CFG.backbone_model.split(\"/\")[-1]\n",
    "type = \"R\" if DO_REGRESSION else \"C\"\n",
    "WANDB_NAME = f\"{model_name}-{CFG.max_length}-{type}\""
   ]
  },
  {
   "cell_type": "code",
   "execution_count": 12,
   "metadata": {},
   "outputs": [
    {
     "name": "stderr",
     "output_type": "stream",
     "text": [
      "\u001b[34m\u001b[1mwandb\u001b[0m: \u001b[33mWARNING\u001b[0m WANDB_NOTEBOOK_NAME should be a path to a notebook file, couldn't find \"neural_network.ipynb\".\n",
      "\u001b[34m\u001b[1mwandb\u001b[0m: Currently logged in as: \u001b[33mshakleenishfar\u001b[0m (\u001b[33mlaplacesdemon43\u001b[0m). Use \u001b[1m`wandb login --relogin`\u001b[0m to force relogin\n",
      "\u001b[34m\u001b[1mwandb\u001b[0m: \u001b[33mWARNING\u001b[0m If you're specifying your api key in code, ensure this code is not shared publicly.\n",
      "\u001b[34m\u001b[1mwandb\u001b[0m: \u001b[33mWARNING\u001b[0m Consider setting the WANDB_API_KEY environment variable, or running `wandb login` from the command line.\n",
      "\u001b[34m\u001b[1mwandb\u001b[0m: Appending key for api.wandb.ai to your netrc file: /home/ishfar/.netrc\n"
     ]
    },
    {
     "data": {
      "text/html": [
       "wandb version 0.17.1 is available!  To upgrade, please run:\n",
       " $ pip install wandb --upgrade"
      ],
      "text/plain": [
       "<IPython.core.display.HTML object>"
      ]
     },
     "metadata": {},
     "output_type": "display_data"
    },
    {
     "data": {
      "text/html": [
       "Tracking run with wandb version 0.16.6"
      ],
      "text/plain": [
       "<IPython.core.display.HTML object>"
      ]
     },
     "metadata": {},
     "output_type": "display_data"
    },
    {
     "data": {
      "text/html": [
       "Run data is saved locally in <code>/media/ishfar/New Volume/Studies/Projects/Kaggle-Automated-Essay-Scoring/wandb/run-20240612_205011-xfe9yvp8</code>"
      ],
      "text/plain": [
       "<IPython.core.display.HTML object>"
      ]
     },
     "metadata": {},
     "output_type": "display_data"
    },
    {
     "data": {
      "text/html": [
       "Syncing run <strong><a href='https://wandb.ai/laplacesdemon43/Kaggle_ASE_2.0/runs/xfe9yvp8' target=\"_blank\">deberta-v3-large-512-R</a></strong> to <a href='https://wandb.ai/laplacesdemon43/Kaggle_ASE_2.0' target=\"_blank\">Weights & Biases</a> (<a href='https://wandb.me/run' target=\"_blank\">docs</a>)<br/>"
      ],
      "text/plain": [
       "<IPython.core.display.HTML object>"
      ]
     },
     "metadata": {},
     "output_type": "display_data"
    },
    {
     "data": {
      "text/html": [
       " View project at <a href='https://wandb.ai/laplacesdemon43/Kaggle_ASE_2.0' target=\"_blank\">https://wandb.ai/laplacesdemon43/Kaggle_ASE_2.0</a>"
      ],
      "text/plain": [
       "<IPython.core.display.HTML object>"
      ]
     },
     "metadata": {},
     "output_type": "display_data"
    },
    {
     "data": {
      "text/html": [
       " View run at <a href='https://wandb.ai/laplacesdemon43/Kaggle_ASE_2.0/runs/xfe9yvp8' target=\"_blank\">https://wandb.ai/laplacesdemon43/Kaggle_ASE_2.0/runs/xfe9yvp8</a>"
      ],
      "text/plain": [
       "<IPython.core.display.HTML object>"
      ]
     },
     "metadata": {},
     "output_type": "display_data"
    }
   ],
   "source": [
    "wandb.login(key=os.environ.get('WANDB_API_KEY'))\n",
    "wandb.init(\n",
    "    project=WANDB_PROJECT,\n",
    "    name=WANDB_NAME,\n",
    "    save_code=True,\n",
    "    job_type=\"train\",\n",
    ")\n",
    "config = wandb.config"
   ]
  },
  {
   "cell_type": "markdown",
   "metadata": {},
   "source": [
    "## Data Preparation"
   ]
  },
  {
   "cell_type": "markdown",
   "metadata": {},
   "source": [
    "### Tokenizer"
   ]
  },
  {
   "cell_type": "code",
   "execution_count": 13,
   "metadata": {},
   "outputs": [],
   "source": [
    "class Tokenize(object):\n",
    "    def __init__(self, train, valid, tokenizer):\n",
    "        self.tokenizer = tokenizer\n",
    "        self.train = train\n",
    "        self.valid = valid\n",
    "\n",
    "    def get_dataset(self, df):\n",
    "        ds = Dataset.from_dict(\n",
    "            {\n",
    "                \"essay_id\": [e for e in df[\"essay_id\"]],\n",
    "                \"full_text\": [ft for ft in df[\"full_text\"]],\n",
    "                \"label\": [s for s in df[\"label\"]],\n",
    "            }\n",
    "        )\n",
    "        return ds\n",
    "\n",
    "    def tokenize_function(self, example):\n",
    "        tokenized_inputs = self.tokenizer(\n",
    "            example[\"full_text\"],\n",
    "            truncation=True,\n",
    "            max_length=CFG.max_length,\n",
    "            padding=\"max_length\",\n",
    "            \n",
    "        )\n",
    "        return tokenized_inputs\n",
    "\n",
    "    def __call__(self):\n",
    "        train_ds = self.get_dataset(self.train)\n",
    "        valid_ds = self.get_dataset(self.valid)\n",
    "\n",
    "        tokenized_train = train_ds.map(self.tokenize_function, batched=True)\n",
    "        tokenized_valid = valid_ds.map(self.tokenize_function, batched=True)\n",
    "\n",
    "        return tokenized_train, tokenized_valid, self.tokenizer"
   ]
  },
  {
   "cell_type": "code",
   "execution_count": 14,
   "metadata": {},
   "outputs": [
    {
     "data": {
      "text/plain": [
       "('output/model_dir/deberta-v3-large_tokenizer/tokenizer_config.json',\n",
       " 'output/model_dir/deberta-v3-large_tokenizer/special_tokens_map.json',\n",
       " 'output/model_dir/deberta-v3-large_tokenizer/spm.model',\n",
       " 'output/model_dir/deberta-v3-large_tokenizer/added_tokens.json',\n",
       " 'output/model_dir/deberta-v3-large_tokenizer/tokenizer.json')"
      ]
     },
     "execution_count": 14,
     "metadata": {},
     "output_type": "execute_result"
    }
   ],
   "source": [
    "tokenizer = AutoTokenizer.from_pretrained(CFG.backbone_model)\n",
    "tokenizer.add_tokens([AddedToken(\"\\n\", normalized=False)])\n",
    "tokenizer.add_tokens([AddedToken(\" \" * 2, normalized=False)])\n",
    "tokenizer.save_pretrained(Paths.tokenizer_path.format(model_name=MODEL_NAME))"
   ]
  },
  {
   "cell_type": "markdown",
   "metadata": {},
   "source": [
    "### Data Preprocessing\n",
    "\n",
    "1. Convert `label` to be in `scores` which are processed to be in range $[0-5]$.\n",
    "2. Convert `label` data type based on whether we are doing regression or classification."
   ]
  },
  {
   "cell_type": "code",
   "execution_count": 15,
   "metadata": {},
   "outputs": [
    {
     "name": "stdout",
     "output_type": "stream",
     "text": [
      "Training dataset has shape: (17307, 4)\n"
     ]
    },
    {
     "data": {
      "text/html": [
       "<div>\n",
       "<style scoped>\n",
       "    .dataframe tbody tr th:only-of-type {\n",
       "        vertical-align: middle;\n",
       "    }\n",
       "\n",
       "    .dataframe tbody tr th {\n",
       "        vertical-align: top;\n",
       "    }\n",
       "\n",
       "    .dataframe thead th {\n",
       "        text-align: right;\n",
       "    }\n",
       "</style>\n",
       "<table border=\"1\" class=\"dataframe\">\n",
       "  <thead>\n",
       "    <tr style=\"text-align: right;\">\n",
       "      <th></th>\n",
       "      <th>essay_id</th>\n",
       "      <th>full_text</th>\n",
       "      <th>score</th>\n",
       "      <th>topic</th>\n",
       "      <th>label</th>\n",
       "    </tr>\n",
       "  </thead>\n",
       "  <tbody>\n",
       "    <tr>\n",
       "      <th>0</th>\n",
       "      <td>000d118</td>\n",
       "      <td>Many people have car where they live. The thin...</td>\n",
       "      <td>3</td>\n",
       "      <td>5</td>\n",
       "      <td>2.0</td>\n",
       "    </tr>\n",
       "    <tr>\n",
       "      <th>1</th>\n",
       "      <td>000fe60</td>\n",
       "      <td>I am a scientist at NASA that is discussing th...</td>\n",
       "      <td>3</td>\n",
       "      <td>3</td>\n",
       "      <td>2.0</td>\n",
       "    </tr>\n",
       "    <tr>\n",
       "      <th>2</th>\n",
       "      <td>001ab80</td>\n",
       "      <td>People always wish they had the same technolog...</td>\n",
       "      <td>4</td>\n",
       "      <td>0</td>\n",
       "      <td>3.0</td>\n",
       "    </tr>\n",
       "  </tbody>\n",
       "</table>\n",
       "</div>"
      ],
      "text/plain": [
       "  essay_id                                          full_text  score  topic  \\\n",
       "0  000d118  Many people have car where they live. The thin...      3      5   \n",
       "1  000fe60  I am a scientist at NASA that is discussing th...      3      3   \n",
       "2  001ab80  People always wish they had the same technolog...      4      0   \n",
       "\n",
       "   label  \n",
       "0    2.0  \n",
       "1    2.0  \n",
       "2    3.0  "
      ]
     },
     "execution_count": 15,
     "metadata": {},
     "output_type": "execute_result"
    }
   ],
   "source": [
    "data = pd.read_csv(Paths.train_csv, low_memory=False)\n",
    "print(\"Training dataset has shape:\", data.shape)\n",
    "\n",
    "data[\"label\"] = data[\"score\"].map(lambda x: x- 1)\n",
    "\n",
    "if DO_REGRESSION:\n",
    "    data[\"label\"] = data[\"label\"].astype(pd.Float32Dtype())\n",
    "else:\n",
    "    data[\"label\"] = data[\"label\"].astype(pd.Int32Dtype())\n",
    "\n",
    "data.head(3)"
   ]
  },
  {
   "cell_type": "markdown",
   "metadata": {},
   "source": [
    "### Train-Valid Splitting"
   ]
  },
  {
   "cell_type": "code",
   "execution_count": 16,
   "metadata": {},
   "outputs": [
    {
     "data": {
      "text/html": [
       "<div>\n",
       "<style scoped>\n",
       "    .dataframe tbody tr th:only-of-type {\n",
       "        vertical-align: middle;\n",
       "    }\n",
       "\n",
       "    .dataframe tbody tr th {\n",
       "        vertical-align: top;\n",
       "    }\n",
       "\n",
       "    .dataframe thead th {\n",
       "        text-align: right;\n",
       "    }\n",
       "</style>\n",
       "<table border=\"1\" class=\"dataframe\">\n",
       "  <thead>\n",
       "    <tr style=\"text-align: right;\">\n",
       "      <th></th>\n",
       "      <th>essay_id</th>\n",
       "      <th>full_text</th>\n",
       "      <th>score</th>\n",
       "      <th>topic</th>\n",
       "      <th>label</th>\n",
       "      <th>fold</th>\n",
       "    </tr>\n",
       "  </thead>\n",
       "  <tbody>\n",
       "    <tr>\n",
       "      <th>0</th>\n",
       "      <td>000d118</td>\n",
       "      <td>Many people have car where they live. The thin...</td>\n",
       "      <td>3</td>\n",
       "      <td>5</td>\n",
       "      <td>2.0</td>\n",
       "      <td>1.0</td>\n",
       "    </tr>\n",
       "    <tr>\n",
       "      <th>1</th>\n",
       "      <td>000fe60</td>\n",
       "      <td>I am a scientist at NASA that is discussing th...</td>\n",
       "      <td>3</td>\n",
       "      <td>3</td>\n",
       "      <td>2.0</td>\n",
       "      <td>5.0</td>\n",
       "    </tr>\n",
       "    <tr>\n",
       "      <th>2</th>\n",
       "      <td>001ab80</td>\n",
       "      <td>People always wish they had the same technolog...</td>\n",
       "      <td>4</td>\n",
       "      <td>0</td>\n",
       "      <td>3.0</td>\n",
       "      <td>4.0</td>\n",
       "    </tr>\n",
       "    <tr>\n",
       "      <th>3</th>\n",
       "      <td>001bdc0</td>\n",
       "      <td>We all heard about Venus, the planet without a...</td>\n",
       "      <td>4</td>\n",
       "      <td>2</td>\n",
       "      <td>3.0</td>\n",
       "      <td>0.0</td>\n",
       "    </tr>\n",
       "    <tr>\n",
       "      <th>4</th>\n",
       "      <td>002ba53</td>\n",
       "      <td>Dear, State Senator\\n\\nThis is a letter to arg...</td>\n",
       "      <td>3</td>\n",
       "      <td>4</td>\n",
       "      <td>2.0</td>\n",
       "      <td>6.0</td>\n",
       "    </tr>\n",
       "  </tbody>\n",
       "</table>\n",
       "</div>"
      ],
      "text/plain": [
       "  essay_id                                          full_text  score  topic  \\\n",
       "0  000d118  Many people have car where they live. The thin...      3      5   \n",
       "1  000fe60  I am a scientist at NASA that is discussing th...      3      3   \n",
       "2  001ab80  People always wish they had the same technolog...      4      0   \n",
       "3  001bdc0  We all heard about Venus, the planet without a...      4      2   \n",
       "4  002ba53  Dear, State Senator\\n\\nThis is a letter to arg...      3      4   \n",
       "\n",
       "   label  fold  \n",
       "0    2.0   1.0  \n",
       "1    2.0   5.0  \n",
       "2    3.0   4.0  \n",
       "3    3.0   0.0  \n",
       "4    2.0   6.0  "
      ]
     },
     "execution_count": 16,
     "metadata": {},
     "output_type": "execute_result"
    }
   ],
   "source": [
    "skf = StratifiedGroupKFold(n_splits=CFG.num_folds, shuffle=True, random_state=CFG.seed)\n",
    "\n",
    "for i, (_, val_index) in enumerate(skf.split(data, data[\"label\"], data[\"topic\"])):\n",
    "    data.loc[val_index, \"fold\"] = i\n",
    "\n",
    "data.head(3)"
   ]
  },
  {
   "cell_type": "markdown",
   "metadata": {},
   "source": [
    "### Sliding Window\n",
    "\n",
    "Essays can have varying lengths. Instead of truncating, see the entire essay as windows of length `CFG.max_length` which are strided with `CFG.stride_length`."
   ]
  },
  {
   "cell_type": "code",
   "execution_count": 17,
   "metadata": {},
   "outputs": [],
   "source": [
    "def construct_new_row(old_row, text):\n",
    "    new_row = {key: old_row[key] for key in old_row.keys() if key != \"index\"}\n",
    "    new_row[\"full_text\"] = text\n",
    "    return new_row"
   ]
  },
  {
   "cell_type": "code",
   "execution_count": 18,
   "metadata": {},
   "outputs": [],
   "source": [
    "def split_tokens(tokens, stride):\n",
    "    \"\"\"Splits `tokens` into multiple sequences that have at most\n",
    "    `CFG.max_length` tokens. Uses `CFG.stride` for sliding\n",
    "    window.\n",
    "\n",
    "    Args:\n",
    "        tokens (List): List of tokens.\n",
    "        stride (int): Stride length.\n",
    "\n",
    "    Returns:\n",
    "        List[List[int]]: List of split token sequences.\n",
    "    \"\"\"\n",
    "    start = 0\n",
    "    sequence_list = []\n",
    "\n",
    "    while start < len(tokens):\n",
    "        remaining_tokens = len(tokens) - start\n",
    "\n",
    "        if remaining_tokens < CFG.max_length and start > 0:\n",
    "            start = max(0, len(tokens) - CFG.max_length)\n",
    "\n",
    "        end = min(start + CFG.max_length, len(tokens))\n",
    "        sequence_list.append(tokens[start:end])\n",
    "\n",
    "        if remaining_tokens >= CFG.max_length:\n",
    "            start += stride\n",
    "        else:\n",
    "            break\n",
    "\n",
    "    return sequence_list"
   ]
  },
  {
   "cell_type": "code",
   "execution_count": 19,
   "metadata": {},
   "outputs": [],
   "source": [
    "def sliding_window(df, tokenizer):\n",
    "    \"\"\"Splits rows of `df` so that each row's text has at most\n",
    "    `CFG.max_length` number of tokens.\n",
    "\n",
    "    Args:\n",
    "        df (pd.DataFrame): Input data frame.\n",
    "        tokenizer (_type_): Tokenizer used to encode and decode text.\n",
    "\n",
    "    Returns:\n",
    "        pd.DataFrame: Newly constructed dataframe.\n",
    "    \"\"\"\n",
    "\n",
    "    new_df = []\n",
    "\n",
    "    for _, row in tqdm(df.iterrows(), total=df.shape[0]):\n",
    "        tokens = tokenizer.encode(row[\"full_text\"], add_special_tokens=False)\n",
    "\n",
    "        if len(tokens) <= CFG.max_length:\n",
    "            new_df.append(construct_new_row(row, row[\"full_text\"]))\n",
    "        else:\n",
    "            sequence_list = split_tokens(tokens, CFG.stride_length)\n",
    "\n",
    "            for seq in sequence_list:\n",
    "                new_df.append(\n",
    "                    construct_new_row(\n",
    "                        row,\n",
    "                        tokenizer.decode(seq, skip_special_tokens=True),\n",
    "                    )\n",
    "                )\n",
    "\n",
    "    return pd.DataFrame(new_df)"
   ]
  },
  {
   "cell_type": "code",
   "execution_count": 20,
   "metadata": {},
   "outputs": [
    {
     "name": "stderr",
     "output_type": "stream",
     "text": [
      "100%|██████████| 17307/17307 [00:32<00:00, 540.05it/s]\n"
     ]
    }
   ],
   "source": [
    "if DO_SLIDING_WINDOW:\n",
    "    data = sliding_window(data, tokenizer)\n",
    "    data.head(3)"
   ]
  },
  {
   "cell_type": "markdown",
   "metadata": {},
   "source": [
    "## Metrics"
   ]
  },
  {
   "cell_type": "markdown",
   "metadata": {},
   "source": [
    "### QWK Score Calculation"
   ]
  },
  {
   "cell_type": "code",
   "execution_count": 21,
   "metadata": {},
   "outputs": [],
   "source": [
    "def compute_metrics_for_regression(eval_pred):\n",
    "    predictions, labels = eval_pred\n",
    "\n",
    "    qwk = cohen_kappa_score(\n",
    "        labels,\n",
    "        predictions.clip(0, 5).round(0),\n",
    "        weights=\"quadratic\",\n",
    "    )\n",
    "\n",
    "    return {\"qwk\": qwk}"
   ]
  },
  {
   "cell_type": "code",
   "execution_count": 22,
   "metadata": {},
   "outputs": [],
   "source": [
    "def compute_metrics_for_classification(eval_pred):\n",
    "    predictions, labels = eval_pred\n",
    "\n",
    "    qwk = cohen_kappa_score(\n",
    "        labels,\n",
    "        predictions.argmax(-1),\n",
    "        weights=\"quadratic\",\n",
    "    )\n",
    "    \n",
    "    return {\"qwk\": qwk}"
   ]
  },
  {
   "cell_type": "code",
   "execution_count": 23,
   "metadata": {},
   "outputs": [],
   "source": [
    "if DO_REGRESSION:\n",
    "    compute_metrics = compute_metrics_for_regression\n",
    "else:\n",
    "    compute_metrics = compute_metrics_for_classification"
   ]
  },
  {
   "cell_type": "markdown",
   "metadata": {},
   "source": [
    "### WandB Metric Logging"
   ]
  },
  {
   "cell_type": "code",
   "execution_count": 24,
   "metadata": {},
   "outputs": [],
   "source": [
    "def plot_wandb_bar(data, label, value, id, title):\n",
    "    table = wandb.Table(data=data, columns=[label, value])\n",
    "    wandb.log({id: wandb.plot.bar(table, label, value, title=title)})"
   ]
  },
  {
   "cell_type": "code",
   "execution_count": 25,
   "metadata": {},
   "outputs": [],
   "source": [
    "def plot_metrics(prefix, precision_data, recall_data, f1_data):\n",
    "    plot_wandb_bar(\n",
    "        f1_data,\n",
    "        \"score\",\n",
    "        \"F1 Score\",\n",
    "        f\"{prefix}/F1 Score\",\n",
    "        f\"F1 score for {prefix}\",\n",
    "    )\n",
    "    plot_wandb_bar(\n",
    "        recall_data,\n",
    "        \"score\",\n",
    "        \"Recall\",\n",
    "        f\"{prefix}/Recall\",\n",
    "        f\"Recall for {prefix}\",\n",
    "    )\n",
    "    plot_wandb_bar(\n",
    "        precision_data,\n",
    "        \"score\",\n",
    "        \"Precision\",\n",
    "        f\"{prefix}/Precision\",\n",
    "        f\"Precision for {prefix}\",\n",
    "    )"
   ]
  },
  {
   "cell_type": "code",
   "execution_count": 26,
   "metadata": {},
   "outputs": [],
   "source": [
    "def calcluate_metrics(df):\n",
    "    precision_data = [None for _ in range(CFG.num_labels)]\n",
    "    recall_data = [None for _ in range(CFG.num_labels)]\n",
    "    f1_data = [None for _ in range(CFG.num_labels)]\n",
    "\n",
    "    for label in range(CFG.num_labels):\n",
    "        tp = df.loc[(df.label == label) & (df.label == df.pred_score), \"label\"].count()\n",
    "        fp = df.loc[(df.label != label) & (df.pred_score == label), \"label\"].count()\n",
    "        tn = df.loc[(df.label != label) & (df.pred_score != label), \"label\"].count()\n",
    "        fn = df.loc[(df.label == label) & (df.pred_score != label), \"label\"].count()\n",
    "\n",
    "        precision = tp / (tp + fp)\n",
    "        recall = tp / (tp + fn)\n",
    "        f1 = (2 * precision * recall) / (precision + recall)\n",
    "\n",
    "        precision_data[label] = (label, precision)\n",
    "        recall_data[label] = (label, recall)\n",
    "        f1_data[label] = (label, f1)\n",
    "\n",
    "    return precision_data, recall_data, f1_data"
   ]
  },
  {
   "cell_type": "code",
   "execution_count": 27,
   "metadata": {},
   "outputs": [],
   "source": [
    "def log_metrics(df, prefix):\n",
    "    wandb.log(\n",
    "        {\n",
    "            f\"{prefix}/conf_mat\": wandb.plot.confusion_matrix(\n",
    "                probs=None,\n",
    "                y_true=df[\"label\"].astype(pd.Int32Dtype()),\n",
    "                preds=df[\"pred_score\"].astype(pd.Int32Dtype()),\n",
    "                class_names=list(range(CFG.num_labels)),\n",
    "            )\n",
    "        }\n",
    "    )\n",
    "\n",
    "    precision_data, recall_data, f1_data = calcluate_metrics(df)\n",
    "    plot_metrics(prefix, precision_data, recall_data, f1_data)"
   ]
  },
  {
   "cell_type": "markdown",
   "metadata": {},
   "source": [
    "## Training"
   ]
  },
  {
   "cell_type": "markdown",
   "metadata": {},
   "source": [
    "### Training Arguments"
   ]
  },
  {
   "cell_type": "code",
   "execution_count": 28,
   "metadata": {},
   "outputs": [],
   "source": [
    "training_args = TrainingArguments(\n",
    "    data_seed=CFG.seed,\n",
    "    dataloader_num_workers=CFG.num_workers,\n",
    "    evaluation_strategy=\"epoch\",\n",
    "    fp16=True,\n",
    "    gradient_checkpointing=CFG.gradient_checkpointing,\n",
    "    gradient_accumulation_steps=CFG.gradient_accumulation_steps,\n",
    "    learning_rate=CFG.lr,\n",
    "    load_best_model_at_end=True,\n",
    "    logging_first_step=True,\n",
    "    logging_steps=50,\n",
    "    logging_dir=Paths.logging_path,\n",
    "    lr_scheduler_type=CFG.lr_scheduler_type,\n",
    "    metric_for_best_model=\"qwk\",\n",
    "    num_train_epochs=CFG.num_epochs,\n",
    "    output_dir=Paths.output_path,\n",
    "    optim=\"adamw_torch\",\n",
    "    per_device_eval_batch_size=CFG.valid_batch_size,\n",
    "    per_device_train_batch_size=CFG.train_batch_size,\n",
    "    report_to=\"wandb\",\n",
    "    seed=CFG.seed,\n",
    "    save_strategy=\"epoch\",\n",
    "    save_total_limit=1,\n",
    "    weight_decay=CFG.weight_decay,\n",
    "    warmup_ratio=CFG.warmup_ratio,\n",
    ")"
   ]
  },
  {
   "cell_type": "markdown",
   "metadata": {},
   "source": [
    "### Utility Functions"
   ]
  },
  {
   "cell_type": "code",
   "execution_count": 29,
   "metadata": {},
   "outputs": [],
   "source": [
    "def get_fold_data(fold: int) -> Tuple[pd.DataFrame, pd.DataFrame]:\n",
    "    train = data[data[\"fold\"] != fold].reset_index(drop=True)\n",
    "    valid = data[data[\"fold\"] == fold].reset_index(drop=True)\n",
    "    return train, valid"
   ]
  },
  {
   "cell_type": "code",
   "execution_count": 30,
   "metadata": {},
   "outputs": [],
   "source": [
    "def tokenize_data(train: pd.DataFrame, valid: pd.DataFrame) -> Tuple[Dataset, Dataset]:\n",
    "    tokenize = Tokenize(train, valid, tokenizer)\n",
    "    tokenized_train, tokenized_valid, _ = tokenize()\n",
    "    return tokenized_train, tokenized_valid"
   ]
  },
  {
   "cell_type": "code",
   "execution_count": 31,
   "metadata": {},
   "outputs": [],
   "source": [
    "def configure():\n",
    "    config = AutoConfig.from_pretrained(CFG.backbone_model)\n",
    "    \n",
    "    if DO_REGRESSION:\n",
    "        config.attention_probs_dropout_prob = 0.0\n",
    "        config.hidden_dropout_prob = 0.0\n",
    "        config.num_labels = 1\n",
    "    else:\n",
    "        config.num_labels = CFG.num_labels\n",
    "\n",
    "    return config"
   ]
  },
  {
   "cell_type": "code",
   "execution_count": 32,
   "metadata": {},
   "outputs": [],
   "source": [
    "def get_model(config):\n",
    "    backbone_model = AutoModelForSequenceClassification.from_pretrained(\n",
    "        CFG.backbone_model,\n",
    "        config=config,\n",
    "    )\n",
    "    backbone_model.resize_token_embeddings(len(tokenizer))\n",
    "    return backbone_model"
   ]
  },
  {
   "cell_type": "code",
   "execution_count": 33,
   "metadata": {},
   "outputs": [],
   "source": [
    "def post_process_predictions(predictions0):\n",
    "    if DO_REGRESSION:\n",
    "        predictions = predictions0.clip(0, 5).round(0)\n",
    "    else:\n",
    "        predictions = predictions0.argmax(axis=1)\n",
    "\n",
    "    return predictions"
   ]
  },
  {
   "cell_type": "code",
   "execution_count": 34,
   "metadata": {},
   "outputs": [],
   "source": [
    "def plot_confusion_matrxi(y_true, y_pred):\n",
    "    cm = confusion_matrix(y_true, y_pred, labels=[x for x in range(CFG.num_labels)])\n",
    "    draw_cm = ConfusionMatrixDisplay(\n",
    "        confusion_matrix=cm, display_labels=[x for x in range(CFG.num_labels)]\n",
    "    )\n",
    "    draw_cm.plot()\n",
    "    plt.show()"
   ]
  },
  {
   "cell_type": "code",
   "execution_count": 35,
   "metadata": {},
   "outputs": [],
   "source": [
    "def save_model_and_tokenizer(fold: int, trainer: Trainer):\n",
    "    trainer.save_model(Paths.model_path.format(model_name=MODEL_NAME, fold=fold))"
   ]
  },
  {
   "cell_type": "code",
   "execution_count": 36,
   "metadata": {},
   "outputs": [],
   "source": [
    "def save_oof_predictions(fold, valid, logits, y_pred):\n",
    "    if DO_REGRESSION:\n",
    "        valid[\"logit\"] = logits\n",
    "    else:\n",
    "        COLS = [f\"p{x}\" for x in range(CFG.num_labels)]\n",
    "        valid[COLS] = logits\n",
    "\n",
    "    valid[\"pred_score\"] = y_pred\n",
    "    valid.to_csv(Paths.oof_path.format(fold=fold), index=False)\n",
    "    return valid"
   ]
  },
  {
   "cell_type": "markdown",
   "metadata": {},
   "source": [
    "### CV Training Fold Loop"
   ]
  },
  {
   "cell_type": "code",
   "execution_count": 37,
   "metadata": {},
   "outputs": [
    {
     "data": {
      "application/vnd.jupyter.widget-view+json": {
       "model_id": "36f11a42cef4454cbf1c5953ca387b05",
       "version_major": 2,
       "version_minor": 0
      },
      "text/plain": [
       "Map:   0%|          | 0/18959 [00:00<?, ? examples/s]"
      ]
     },
     "metadata": {},
     "output_type": "display_data"
    },
    {
     "data": {
      "application/vnd.jupyter.widget-view+json": {
       "model_id": "ae4fd9d5896b40199d939183c5c63820",
       "version_major": 2,
       "version_minor": 0
      },
      "text/plain": [
       "Map:   0%|          | 0/3788 [00:00<?, ? examples/s]"
      ]
     },
     "metadata": {},
     "output_type": "display_data"
    },
    {
     "name": "stderr",
     "output_type": "stream",
     "text": [
      "Some weights of DebertaV2ForSequenceClassification were not initialized from the model checkpoint at microsoft/deberta-v3-large and are newly initialized: ['classifier.bias', 'classifier.weight', 'pooler.dense.bias', 'pooler.dense.weight']\n",
      "You should probably TRAIN this model on a down-stream task to be able to use it for predictions and inference.\n"
     ]
    },
    {
     "data": {
      "application/vnd.jupyter.widget-view+json": {
       "model_id": "6b78178e7c4c466a8c64255ff6657963",
       "version_major": 2,
       "version_minor": 0
      },
      "text/plain": [
       "  0%|          | 0/1779 [00:00<?, ?it/s]"
      ]
     },
     "metadata": {},
     "output_type": "display_data"
    },
    {
     "name": "stdout",
     "output_type": "stream",
     "text": [
      "{'loss': 5.6893, 'grad_norm': inf, 'learning_rate': 2e-05, 'epoch': 0.0}\n",
      "{'loss': 1.6903, 'grad_norm': 58.03953552246094, 'learning_rate': 1.9965575769494185e-05, 'epoch': 0.08}\n",
      "{'loss': 0.5128, 'grad_norm': 5.967362403869629, 'learning_rate': 1.985364784018266e-05, 'epoch': 0.17}\n",
      "{'loss': 0.4462, 'grad_norm': 18.39863395690918, 'learning_rate': 1.9664947934767614e-05, 'epoch': 0.25}\n",
      "{'loss': 0.4486, 'grad_norm': 13.0922212600708, 'learning_rate': 1.940094625645341e-05, 'epoch': 0.34}\n",
      "{'loss': 0.4299, 'grad_norm': 7.379660129547119, 'learning_rate': 1.906369970141368e-05, 'epoch': 0.42}\n",
      "{'loss': 0.4462, 'grad_norm': 25.678030014038086, 'learning_rate': 1.8655835833052808e-05, 'epoch': 0.51}\n",
      "{'loss': 0.3895, 'grad_norm': 2.3169610500335693, 'learning_rate': 1.8180532410071236e-05, 'epoch': 0.59}\n",
      "{'loss': 0.3686, 'grad_norm': 7.118103981018066, 'learning_rate': 1.7641492627836093e-05, 'epoch': 0.67}\n",
      "{'loss': 0.3715, 'grad_norm': 3.824005603790283, 'learning_rate': 1.7042916265957107e-05, 'epoch': 0.76}\n",
      "{'loss': 0.3514, 'grad_norm': 3.595780849456787, 'learning_rate': 1.6389466966863515e-05, 'epoch': 0.84}\n",
      "{'loss': 0.3508, 'grad_norm': 4.957970142364502, 'learning_rate': 1.5686235900321943e-05, 'epoch': 0.93}\n"
     ]
    },
    {
     "data": {
      "application/vnd.jupyter.widget-view+json": {
       "model_id": "cabe080a713e4821bfc33d9039781a67",
       "version_major": 2,
       "version_minor": 0
      },
      "text/plain": [
       "  0%|          | 0/119 [00:00<?, ?it/s]"
      ]
     },
     "metadata": {},
     "output_type": "display_data"
    },
    {
     "name": "stdout",
     "output_type": "stream",
     "text": [
      "{'eval_loss': 0.5164181590080261, 'eval_qwk': 0.7479556078832483, 'eval_runtime': 61.9793, 'eval_samples_per_second': 61.117, 'eval_steps_per_second': 1.92, 'epoch': 1.0}\n",
      "{'loss': 0.3074, 'grad_norm': 3.76750111579895, 'learning_rate': 1.4938702096993057e-05, 'epoch': 1.01}\n",
      "{'loss': 0.2568, 'grad_norm': 4.753366947174072, 'learning_rate': 1.4152689760077191e-05, 'epoch': 1.1}\n",
      "{'loss': 0.2814, 'grad_norm': 14.482589721679688, 'learning_rate': 1.3334322887643436e-05, 'epoch': 1.18}\n",
      "{'loss': 0.2451, 'grad_norm': 9.688562393188477, 'learning_rate': 1.2489977559189796e-05, 'epoch': 1.26}\n",
      "{'loss': 0.2235, 'grad_norm': 5.344655513763428, 'learning_rate': 1.1626232258180528e-05, 'epoch': 1.35}\n",
      "{'loss': 0.2251, 'grad_norm': 3.5451507568359375, 'learning_rate': 1.074981661760882e-05, 'epoch': 1.43}\n",
      "{'loss': 0.2363, 'grad_norm': 2.837968349456787, 'learning_rate': 9.867558987919704e-06, 'epoch': 1.52}\n",
      "{'loss': 0.2086, 'grad_norm': 9.206805229187012, 'learning_rate': 8.98633323580319e-06, 'epoch': 1.6}\n",
      "{'loss': 0.1912, 'grad_norm': 3.5974724292755127, 'learning_rate': 8.11300518836011e-06, 'epoch': 1.69}\n",
      "{'loss': 0.2313, 'grad_norm': 7.614684104919434, 'learning_rate': 7.2543791399062755e-06, 'epoch': 1.77}\n",
      "{'loss': 0.1989, 'grad_norm': 5.903736114501953, 'learning_rate': 6.417144838192248e-06, 'epoch': 1.85}\n",
      "{'loss': 0.2069, 'grad_norm': 4.139333248138428, 'learning_rate': 5.6078253630811116e-06, 'epoch': 1.94}\n"
     ]
    },
    {
     "data": {
      "application/vnd.jupyter.widget-view+json": {
       "model_id": "861058f45d174384bb52b17cec495bf2",
       "version_major": 2,
       "version_minor": 0
      },
      "text/plain": [
       "  0%|          | 0/119 [00:00<?, ?it/s]"
      ]
     },
     "metadata": {},
     "output_type": "display_data"
    },
    {
     "name": "stdout",
     "output_type": "stream",
     "text": [
      "{'eval_loss': 0.5070301294326782, 'eval_qwk': 0.7749410816849163, 'eval_runtime': 61.9734, 'eval_samples_per_second': 61.123, 'eval_steps_per_second': 1.92, 'epoch': 2.0}\n",
      "{'loss': 0.1675, 'grad_norm': 2.245270252227783, 'learning_rate': 4.832726303773042e-06, 'epoch': 2.02}\n",
      "{'loss': 0.1106, 'grad_norm': 3.4544034004211426, 'learning_rate': 4.0978866305482965e-06, 'epoch': 2.11}\n",
      "{'loss': 0.112, 'grad_norm': 2.2039101123809814, 'learning_rate': 3.409031643797942e-06, 'epoch': 2.19}\n",
      "{'loss': 0.098, 'grad_norm': 1.9011200666427612, 'learning_rate': 2.771528366926837e-06, 'epoch': 2.28}\n",
      "{'loss': 0.096, 'grad_norm': 1.6561259031295776, 'learning_rate': 2.1903437306728902e-06, 'epoch': 2.36}\n",
      "{'loss': 0.0971, 'grad_norm': 2.1694867610931396, 'learning_rate': 1.6700058746377879e-06, 'epoch': 2.45}\n",
      "{'loss': 0.0965, 'grad_norm': 4.055523872375488, 'learning_rate': 1.2145688675377243e-06, 'epoch': 2.53}\n",
      "{'loss': 0.0921, 'grad_norm': 3.267329216003418, 'learning_rate': 8.275811210465101e-07, 'epoch': 2.61}\n",
      "{'loss': 0.092, 'grad_norm': 2.7207648754119873, 'learning_rate': 5.120577433259e-07, 'epoch': 2.7}\n",
      "{'loss': 0.0959, 'grad_norm': 2.237339735031128, 'learning_rate': 2.7045704764295686e-07, 'epoch': 2.78}\n",
      "{'loss': 0.0852, 'grad_norm': 3.0632059574127197, 'learning_rate': 1.0466139910108031e-07, 'epoch': 2.87}\n",
      "{'loss': 0.0905, 'grad_norm': 3.2405526638031006, 'learning_rate': 1.596254871211511e-08, 'epoch': 2.95}\n"
     ]
    },
    {
     "data": {
      "application/vnd.jupyter.widget-view+json": {
       "model_id": "170eeca4ce1044ad8a591c8c3f6bb3c7",
       "version_major": 2,
       "version_minor": 0
      },
      "text/plain": [
       "  0%|          | 0/119 [00:00<?, ?it/s]"
      ]
     },
     "metadata": {},
     "output_type": "display_data"
    },
    {
     "name": "stdout",
     "output_type": "stream",
     "text": [
      "{'eval_loss': 0.48601868748664856, 'eval_qwk': 0.7749243911438951, 'eval_runtime': 62.045, 'eval_samples_per_second': 61.052, 'eval_steps_per_second': 1.918, 'epoch': 3.0}\n",
      "{'train_runtime': 3609.4363, 'train_samples_per_second': 15.758, 'train_steps_per_second': 0.493, 'train_loss': 0.28078243811523196, 'epoch': 3.0}\n"
     ]
    },
    {
     "data": {
      "application/vnd.jupyter.widget-view+json": {
       "model_id": "6b6685c96f3c453ca870e2a31a88d727",
       "version_major": 2,
       "version_minor": 0
      },
      "text/plain": [
       "  0%|          | 0/119 [00:00<?, ?it/s]"
      ]
     },
     "metadata": {},
     "output_type": "display_data"
    },
    {
     "data": {
      "application/vnd.jupyter.widget-view+json": {
       "model_id": "644cd93bb316480b93e91af48abcea39",
       "version_major": 2,
       "version_minor": 0
      },
      "text/plain": [
       "Map:   0%|          | 0/19638 [00:00<?, ? examples/s]"
      ]
     },
     "metadata": {},
     "output_type": "display_data"
    },
    {
     "data": {
      "application/vnd.jupyter.widget-view+json": {
       "model_id": "cb4e7cbfe6904120bb874f622bd09b5d",
       "version_major": 2,
       "version_minor": 0
      },
      "text/plain": [
       "Map:   0%|          | 0/3109 [00:00<?, ? examples/s]"
      ]
     },
     "metadata": {},
     "output_type": "display_data"
    },
    {
     "name": "stderr",
     "output_type": "stream",
     "text": [
      "Some weights of DebertaV2ForSequenceClassification were not initialized from the model checkpoint at microsoft/deberta-v3-large and are newly initialized: ['classifier.bias', 'classifier.weight', 'pooler.dense.bias', 'pooler.dense.weight']\n",
      "You should probably TRAIN this model on a down-stream task to be able to use it for predictions and inference.\n"
     ]
    },
    {
     "data": {
      "application/vnd.jupyter.widget-view+json": {
       "model_id": "4d09e75c09fc494e94b05d6b66fbf53e",
       "version_major": 2,
       "version_minor": 0
      },
      "text/plain": [
       "  0%|          | 0/1842 [00:00<?, ?it/s]"
      ]
     },
     "metadata": {},
     "output_type": "display_data"
    },
    {
     "name": "stdout",
     "output_type": "stream",
     "text": [
      "{'loss': 5.4782, 'grad_norm': inf, 'learning_rate': 2e-05, 'epoch': 0.0}\n",
      "{'loss': 1.4156, 'grad_norm': 10.940593719482422, 'learning_rate': 1.9967889013361734e-05, 'epoch': 0.08}\n",
      "{'loss': 0.5048, 'grad_norm': 12.006794929504395, 'learning_rate': 1.9863465246086695e-05, 'epoch': 0.16}\n",
      "{'loss': 0.4491, 'grad_norm': 3.6746811866760254, 'learning_rate': 1.9687356721613084e-05, 'epoch': 0.24}\n",
      "{'loss': 0.4472, 'grad_norm': 4.595831871032715, 'learning_rate': 1.944084334477175e-05, 'epoch': 0.33}\n",
      "{'loss': 0.5132, 'grad_norm': 3.4765400886535645, 'learning_rate': 1.9125716702101943e-05, 'epoch': 0.41}\n",
      "{'loss': 0.3617, 'grad_norm': 9.204696655273438, 'learning_rate': 1.8744267041128528e-05, 'epoch': 0.49}\n",
      "{'loss': 0.373, 'grad_norm': 7.450947284698486, 'learning_rate': 1.82992666255183e-05, 'epoch': 0.57}\n",
      "{'loss': 0.3335, 'grad_norm': 3.440671920776367, 'learning_rate': 1.7793949587085014e-05, 'epoch': 0.65}\n",
      "{'loss': 0.3526, 'grad_norm': 5.9435133934021, 'learning_rate': 1.7231988421072957e-05, 'epoch': 0.73}\n",
      "{'loss': 0.3376, 'grad_norm': 7.726381778717041, 'learning_rate': 1.6617467295544315e-05, 'epoch': 0.81}\n",
      "{'loss': 0.3249, 'grad_norm': 5.389071464538574, 'learning_rate': 1.5954852368849923e-05, 'epoch': 0.9}\n",
      "{'loss': 0.3624, 'grad_norm': 3.732903480529785, 'learning_rate': 1.5248959330907186e-05, 'epoch': 0.98}\n"
     ]
    },
    {
     "data": {
      "application/vnd.jupyter.widget-view+json": {
       "model_id": "ea4289535bb94f998b634de9870ed74d",
       "version_major": 2,
       "version_minor": 0
      },
      "text/plain": [
       "  0%|          | 0/98 [00:00<?, ?it/s]"
      ]
     },
     "metadata": {},
     "output_type": "display_data"
    },
    {
     "name": "stdout",
     "output_type": "stream",
     "text": [
      "{'eval_loss': 0.4669998586177826, 'eval_qwk': 0.6958731504007124, 'eval_runtime': 51.0263, 'eval_samples_per_second': 60.929, 'eval_steps_per_second': 1.921, 'epoch': 1.0}\n",
      "{'loss': 0.2727, 'grad_norm': 9.174480438232422, 'learning_rate': 1.4504918404185642e-05, 'epoch': 1.06}\n",
      "{'loss': 0.262, 'grad_norm': 9.915054321289062, 'learning_rate': 1.3728137058762715e-05, 'epoch': 1.14}\n",
      "{'loss': 0.2591, 'grad_norm': 3.8824350833892822, 'learning_rate': 1.2924260712425536e-05, 'epoch': 1.22}\n",
      "{'loss': 0.2582, 'grad_norm': 4.847653388977051, 'learning_rate': 1.209913170143901e-05, 'epoch': 1.3}\n",
      "{'loss': 0.2307, 'grad_norm': 2.893662929534912, 'learning_rate': 1.125874682016844e-05, 'epoch': 1.38}\n",
      "{'loss': 0.2318, 'grad_norm': 11.949493408203125, 'learning_rate': 1.0409213738146207e-05, 'epoch': 1.47}\n",
      "{'loss': 0.2238, 'grad_norm': 4.916473865509033, 'learning_rate': 9.556706611330435e-06, 'epoch': 1.55}\n",
      "{'loss': 0.2375, 'grad_norm': 3.578916072845459, 'learning_rate': 8.707421210159935e-06, 'epoch': 1.63}\n",
      "{'loss': 0.2052, 'grad_norm': 2.861841917037964, 'learning_rate': 7.867529890521424e-06, 'epoch': 1.71}\n",
      "{'loss': 0.2118, 'grad_norm': 2.7772064208984375, 'learning_rate': 7.043136734886871e-06, 'epoch': 1.79}\n",
      "{'loss': 0.2042, 'grad_norm': 4.366243839263916, 'learning_rate': 6.240233189641844e-06, 'epoch': 1.87}\n",
      "{'loss': 0.1866, 'grad_norm': 3.3356833457946777, 'learning_rate': 5.4646545210197435e-06, 'epoch': 1.95}\n"
     ]
    },
    {
     "data": {
      "application/vnd.jupyter.widget-view+json": {
       "model_id": "5b39cee631144eea84e6f4474576d2ef",
       "version_major": 2,
       "version_minor": 0
      },
      "text/plain": [
       "  0%|          | 0/98 [00:00<?, ?it/s]"
      ]
     },
     "metadata": {},
     "output_type": "display_data"
    },
    {
     "name": "stdout",
     "output_type": "stream",
     "text": [
      "{'eval_loss': 0.5783936977386475, 'eval_qwk': 0.6856951533641138, 'eval_runtime': 51.1359, 'eval_samples_per_second': 60.799, 'eval_steps_per_second': 1.916, 'epoch': 2.0}\n",
      "{'loss': 0.1785, 'grad_norm': 2.6372783184051514, 'learning_rate': 4.722037406107308e-06, 'epoch': 2.04}\n",
      "{'loss': 0.1234, 'grad_norm': 2.304769992828369, 'learning_rate': 4.017778967137533e-06, 'epoch': 2.12}\n",
      "{'loss': 0.104, 'grad_norm': 6.200413227081299, 'learning_rate': 3.3569975467965955e-06, 'epoch': 2.2}\n",
      "{'loss': 0.1132, 'grad_norm': 8.174712181091309, 'learning_rate': 2.744495509618319e-06, 'epoch': 2.28}\n",
      "{'loss': 0.1065, 'grad_norm': 2.0326828956604004, 'learning_rate': 2.1847243398147266e-06, 'epoch': 2.36}\n",
      "{'loss': 0.1026, 'grad_norm': 1.8204716444015503, 'learning_rate': 1.6817522892012762e-06, 'epoch': 2.44}\n",
      "{'loss': 0.1011, 'grad_norm': 2.600802183151245, 'learning_rate': 1.2392348103421903e-06, 'epoch': 2.52}\n",
      "{'loss': 0.1064, 'grad_norm': 1.8487049341201782, 'learning_rate': 8.603879897990042e-07, 'epoch': 2.61}\n",
      "{'loss': 0.0999, 'grad_norm': 3.5037753582000732, 'learning_rate': 5.47965174561701e-07, 'epoch': 2.69}\n",
      "{'loss': 0.1001, 'grad_norm': 1.979432463645935, 'learning_rate': 3.0423696153459417e-07, 'epoch': 2.77}\n",
      "{'loss': 0.0973, 'grad_norm': 2.0637001991271973, 'learning_rate': 1.3097469550750974e-07, 'epoch': 2.85}\n",
      "{'loss': 0.1005, 'grad_norm': 1.4818322658538818, 'learning_rate': 2.9437595544130615e-08, 'epoch': 2.93}\n"
     ]
    },
    {
     "data": {
      "application/vnd.jupyter.widget-view+json": {
       "model_id": "6c5d2f41b50d49e0b9e4f8f5cf703128",
       "version_major": 2,
       "version_minor": 0
      },
      "text/plain": [
       "  0%|          | 0/98 [00:00<?, ?it/s]"
      ]
     },
     "metadata": {},
     "output_type": "display_data"
    },
    {
     "name": "stdout",
     "output_type": "stream",
     "text": [
      "{'eval_loss': 0.47657033801078796, 'eval_qwk': 0.7292090564759764, 'eval_runtime': 51.1148, 'eval_samples_per_second': 60.824, 'eval_steps_per_second': 1.917, 'epoch': 3.0}\n",
      "{'train_runtime': 3655.0763, 'train_samples_per_second': 16.118, 'train_steps_per_second': 0.504, 'train_loss': 0.272933213382021, 'epoch': 3.0}\n"
     ]
    },
    {
     "data": {
      "application/vnd.jupyter.widget-view+json": {
       "model_id": "72687cf832c047cf985acc68f42ba7b2",
       "version_major": 2,
       "version_minor": 0
      },
      "text/plain": [
       "  0%|          | 0/98 [00:00<?, ?it/s]"
      ]
     },
     "metadata": {},
     "output_type": "display_data"
    },
    {
     "data": {
      "application/vnd.jupyter.widget-view+json": {
       "model_id": "7e32e853c5fc4bc49b35d875c4fb17ae",
       "version_major": 2,
       "version_minor": 0
      },
      "text/plain": [
       "Map:   0%|          | 0/18892 [00:00<?, ? examples/s]"
      ]
     },
     "metadata": {},
     "output_type": "display_data"
    },
    {
     "data": {
      "application/vnd.jupyter.widget-view+json": {
       "model_id": "8315e744b0ef4864942b71ea339f292c",
       "version_major": 2,
       "version_minor": 0
      },
      "text/plain": [
       "Map:   0%|          | 0/3855 [00:00<?, ? examples/s]"
      ]
     },
     "metadata": {},
     "output_type": "display_data"
    },
    {
     "name": "stderr",
     "output_type": "stream",
     "text": [
      "Some weights of DebertaV2ForSequenceClassification were not initialized from the model checkpoint at microsoft/deberta-v3-large and are newly initialized: ['classifier.bias', 'classifier.weight', 'pooler.dense.bias', 'pooler.dense.weight']\n",
      "You should probably TRAIN this model on a down-stream task to be able to use it for predictions and inference.\n"
     ]
    },
    {
     "data": {
      "application/vnd.jupyter.widget-view+json": {
       "model_id": "69242a25ac7e4791a3c6a6da7f67585d",
       "version_major": 2,
       "version_minor": 0
      },
      "text/plain": [
       "  0%|          | 0/1773 [00:00<?, ?it/s]"
      ]
     },
     "metadata": {},
     "output_type": "display_data"
    },
    {
     "name": "stdout",
     "output_type": "stream",
     "text": [
      "{'loss': 5.844, 'grad_norm': inf, 'learning_rate': 2e-05, 'epoch': 0.0}\n",
      "{'loss': 1.467, 'grad_norm': 6.300933837890625, 'learning_rate': 1.9965342520450313e-05, 'epoch': 0.08}\n",
      "{'loss': 0.4971, 'grad_norm': 17.488876342773438, 'learning_rate': 1.9852658068758722e-05, 'epoch': 0.17}\n",
      "{'loss': 0.5182, 'grad_norm': 11.942164421081543, 'learning_rate': 1.9662689258749555e-05, 'epoch': 0.25}\n",
      "{'loss': 0.456, 'grad_norm': 31.87725067138672, 'learning_rate': 1.9396926207859085e-05, 'epoch': 0.34}\n",
      "{'loss': 0.4614, 'grad_norm': 6.900332927703857, 'learning_rate': 1.905745356438316e-05, 'epoch': 0.42}\n",
      "{'loss': 0.393, 'grad_norm': 8.530701637268066, 'learning_rate': 1.8646934155473025e-05, 'epoch': 0.51}\n",
      "{'loss': 0.3933, 'grad_norm': 9.954643249511719, 'learning_rate': 1.8168588099889838e-05, 'epoch': 0.59}\n",
      "{'loss': 0.3651, 'grad_norm': 4.662531852722168, 'learning_rate': 1.7626167549357682e-05, 'epoch': 0.68}\n",
      "{'loss': 0.3828, 'grad_norm': 13.151227951049805, 'learning_rate': 1.702392725664415e-05, 'epoch': 0.76}\n",
      "{'loss': 0.3383, 'grad_norm': 8.581705093383789, 'learning_rate': 1.6366591201232798e-05, 'epoch': 0.85}\n",
      "{'loss': 0.3479, 'grad_norm': 11.907279014587402, 'learning_rate': 1.5659315534376104e-05, 'epoch': 0.93}\n"
     ]
    },
    {
     "data": {
      "application/vnd.jupyter.widget-view+json": {
       "model_id": "d7f4305369ea447c8ba70407529272b5",
       "version_major": 2,
       "version_minor": 0
      },
      "text/plain": [
       "  0%|          | 0/121 [00:00<?, ?it/s]"
      ]
     },
     "metadata": {},
     "output_type": "display_data"
    },
    {
     "name": "stdout",
     "output_type": "stream",
     "text": [
      "{'eval_loss': 0.5589443445205688, 'eval_qwk': 0.718245156929185, 'eval_runtime': 63.0274, 'eval_samples_per_second': 61.164, 'eval_steps_per_second': 1.92, 'epoch': 1.0}\n",
      "{'loss': 0.3207, 'grad_norm': 5.2781524658203125, 'learning_rate': 1.4907648134188304e-05, 'epoch': 1.02}\n",
      "{'loss': 0.2477, 'grad_norm': 9.882737159729004, 'learning_rate': 1.4117485088028391e-05, 'epoch': 1.1}\n",
      "{'loss': 0.2688, 'grad_norm': 3.164824962615967, 'learning_rate': 1.329502444352601e-05, 'epoch': 1.18}\n",
      "{'loss': 0.2621, 'grad_norm': 3.633033275604248, 'learning_rate': 1.2446717591027624e-05, 'epoch': 1.27}\n",
      "{'loss': 0.2569, 'grad_norm': 6.944479465484619, 'learning_rate': 1.1579218658819651e-05, 'epoch': 1.35}\n",
      "{'loss': 0.2481, 'grad_norm': 7.106196403503418, 'learning_rate': 1.0699332318072964e-05, 'epoch': 1.44}\n",
      "{'loss': 0.2345, 'grad_norm': 10.382003784179688, 'learning_rate': 9.813960406927318e-06, 'epoch': 1.52}\n",
      "{'loss': 0.2159, 'grad_norm': 5.6795268058776855, 'learning_rate': 8.93004779239706e-06, 'epoch': 1.61}\n",
      "{'loss': 0.2227, 'grad_norm': 6.484496116638184, 'learning_rate': 8.054527894757814e-06, 'epoch': 1.69}\n",
      "{'loss': 0.2152, 'grad_norm': 2.8062596321105957, 'learning_rate': 7.194268301721563e-06, 'epoch': 1.78}\n",
      "{'loss': 0.221, 'grad_norm': 2.8453116416931152, 'learning_rate': 6.356016899003034e-06, 'epoch': 1.86}\n",
      "{'loss': 0.1971, 'grad_norm': 5.9985857009887695, 'learning_rate': 5.546348939829928e-06, 'epoch': 1.95}\n"
     ]
    },
    {
     "data": {
      "application/vnd.jupyter.widget-view+json": {
       "model_id": "6d514d599f374c49a369b471f3db4a5d",
       "version_major": 2,
       "version_minor": 0
      },
      "text/plain": [
       "  0%|          | 0/121 [00:00<?, ?it/s]"
      ]
     },
     "metadata": {},
     "output_type": "display_data"
    },
    {
     "name": "stdout",
     "output_type": "stream",
     "text": [
      "{'eval_loss': 0.3342074155807495, 'eval_qwk': 0.8283973201989394, 'eval_runtime': 63.1771, 'eval_samples_per_second': 61.019, 'eval_steps_per_second': 1.915, 'epoch': 2.0}\n",
      "{'loss': 0.1678, 'grad_norm': 2.0945873260498047, 'learning_rate': 4.771615468584194e-06, 'epoch': 2.03}\n",
      "{'loss': 0.1125, 'grad_norm': 2.0844194889068604, 'learning_rate': 4.037893503140057e-06, 'epoch': 2.12}\n",
      "{'loss': 0.112, 'grad_norm': 5.097522258758545, 'learning_rate': 3.3509383666688943e-06, 'epoch': 2.2}\n",
      "{'loss': 0.0954, 'grad_norm': 4.490921497344971, 'learning_rate': 2.7161385428209773e-06, 'epoch': 2.28}\n",
      "{'loss': 0.103, 'grad_norm': 2.1826589107513428, 'learning_rate': 2.13847340840039e-06, 'epoch': 2.37}\n",
      "{'loss': 0.1012, 'grad_norm': 2.403494358062744, 'learning_rate': 1.6224741750786e-06, 'epoch': 2.45}\n",
      "{'loss': 0.1007, 'grad_norm': 5.330417156219482, 'learning_rate': 1.1721883465202333e-06, 'epoch': 2.54}\n",
      "{'loss': 0.0939, 'grad_norm': 3.441315174102783, 'learning_rate': 7.911479697197977e-07, 'epoch': 2.62}\n",
      "{'loss': 0.0948, 'grad_norm': 2.6061666011810303, 'learning_rate': 4.823419295861764e-07, 'epoch': 2.71}\n",
      "{'loss': 0.0985, 'grad_norm': 6.4577507972717285, 'learning_rate': 2.4819250409651605e-07, 'epoch': 2.79}\n",
      "{'loss': 0.0963, 'grad_norm': 2.4387130737304688, 'learning_rate': 9.053636392111875e-08, 'epoch': 2.88}\n",
      "{'loss': 0.097, 'grad_norm': 2.391258716583252, 'learning_rate': 1.0610165558488927e-08, 'epoch': 2.96}\n"
     ]
    },
    {
     "data": {
      "application/vnd.jupyter.widget-view+json": {
       "model_id": "fe8e87ad263f4a1a9492ffb84728f034",
       "version_major": 2,
       "version_minor": 0
      },
      "text/plain": [
       "  0%|          | 0/121 [00:00<?, ?it/s]"
      ]
     },
     "metadata": {},
     "output_type": "display_data"
    },
    {
     "name": "stdout",
     "output_type": "stream",
     "text": [
      "{'eval_loss': 0.3707546591758728, 'eval_qwk': 0.8186247934565042, 'eval_runtime': 63.2018, 'eval_samples_per_second': 60.995, 'eval_steps_per_second': 1.915, 'epoch': 3.0}\n",
      "{'train_runtime': 3559.3774, 'train_samples_per_second': 15.923, 'train_steps_per_second': 0.498, 'train_loss': 0.2801905900693787, 'epoch': 3.0}\n"
     ]
    },
    {
     "data": {
      "application/vnd.jupyter.widget-view+json": {
       "model_id": "26ee7cd4ce3e4120bdc398986e3f13d7",
       "version_major": 2,
       "version_minor": 0
      },
      "text/plain": [
       "  0%|          | 0/121 [00:00<?, ?it/s]"
      ]
     },
     "metadata": {},
     "output_type": "display_data"
    },
    {
     "data": {
      "application/vnd.jupyter.widget-view+json": {
       "model_id": "44a3d90d09be400d82e75de0c6b55774",
       "version_major": 2,
       "version_minor": 0
      },
      "text/plain": [
       "Map:   0%|          | 0/20923 [00:00<?, ? examples/s]"
      ]
     },
     "metadata": {},
     "output_type": "display_data"
    },
    {
     "data": {
      "application/vnd.jupyter.widget-view+json": {
       "model_id": "e4c627c1d9104e2080d21f5d86653b82",
       "version_major": 2,
       "version_minor": 0
      },
      "text/plain": [
       "Map:   0%|          | 0/1824 [00:00<?, ? examples/s]"
      ]
     },
     "metadata": {},
     "output_type": "display_data"
    },
    {
     "name": "stderr",
     "output_type": "stream",
     "text": [
      "Some weights of DebertaV2ForSequenceClassification were not initialized from the model checkpoint at microsoft/deberta-v3-large and are newly initialized: ['classifier.bias', 'classifier.weight', 'pooler.dense.bias', 'pooler.dense.weight']\n",
      "You should probably TRAIN this model on a down-stream task to be able to use it for predictions and inference.\n"
     ]
    },
    {
     "data": {
      "application/vnd.jupyter.widget-view+json": {
       "model_id": "8d584a03e7c640b68080bb5eeceeaeed",
       "version_major": 2,
       "version_minor": 0
      },
      "text/plain": [
       "  0%|          | 0/1962 [00:00<?, ?it/s]"
      ]
     },
     "metadata": {},
     "output_type": "display_data"
    },
    {
     "name": "stdout",
     "output_type": "stream",
     "text": [
      "{'loss': 6.7708, 'grad_norm': inf, 'learning_rate': 2e-05, 'epoch': 0.0}\n",
      "{'loss': 1.6624, 'grad_norm': 26.011552810668945, 'learning_rate': 1.9971695044593195e-05, 'epoch': 0.08}\n",
      "{'loss': 0.5489, 'grad_norm': 13.390632629394531, 'learning_rate': 1.9879623428956073e-05, 'epoch': 0.15}\n",
      "{'loss': 0.452, 'grad_norm': 3.165879964828491, 'learning_rate': 1.972425961940401e-05, 'epoch': 0.23}\n",
      "{'loss': 0.4369, 'grad_norm': 12.266727447509766, 'learning_rate': 1.9506598928808217e-05, 'epoch': 0.31}\n",
      "{'loss': 0.4379, 'grad_norm': 17.860736846923828, 'learning_rate': 1.9228035764833718e-05, 'epoch': 0.38}\n",
      "{'loss': 0.4077, 'grad_norm': 10.37049674987793, 'learning_rate': 1.8890354696894374e-05, 'epoch': 0.46}\n",
      "{'loss': 0.4163, 'grad_norm': 4.686172962188721, 'learning_rate': 1.8495719023600417e-05, 'epoch': 0.54}\n",
      "{'loss': 0.3828, 'grad_norm': 4.068937301635742, 'learning_rate': 1.8046656913939196e-05, 'epoch': 0.61}\n",
      "{'loss': 0.3902, 'grad_norm': 11.202461242675781, 'learning_rate': 1.754604521097351e-05, 'epoch': 0.69}\n",
      "{'loss': 0.3789, 'grad_norm': 3.460315465927124, 'learning_rate': 1.6997091001816336e-05, 'epoch': 0.76}\n",
      "{'loss': 0.3417, 'grad_norm': 6.396464824676514, 'learning_rate': 1.640331107195108e-05, 'epoch': 0.84}\n",
      "{'loss': 0.3201, 'grad_norm': 7.096404552459717, 'learning_rate': 1.5768509375519726e-05, 'epoch': 0.92}\n",
      "{'loss': 0.3393, 'grad_norm': 8.708046913146973, 'learning_rate': 1.5096752665911914e-05, 'epoch': 0.99}\n"
     ]
    },
    {
     "data": {
      "application/vnd.jupyter.widget-view+json": {
       "model_id": "fd5a5f94c14246e391bcac668ad79458",
       "version_major": 2,
       "version_minor": 0
      },
      "text/plain": [
       "  0%|          | 0/57 [00:00<?, ?it/s]"
      ]
     },
     "metadata": {},
     "output_type": "display_data"
    },
    {
     "name": "stdout",
     "output_type": "stream",
     "text": [
      "{'eval_loss': 0.36529606580734253, 'eval_qwk': 0.6677301315816371, 'eval_runtime': 29.8772, 'eval_samples_per_second': 61.05, 'eval_steps_per_second': 1.908, 'epoch': 1.0}\n",
      "{'loss': 0.2653, 'grad_norm': 6.254622936248779, 'learning_rate': 1.439234444277354e-05, 'epoch': 1.07}\n",
      "{'loss': 0.2439, 'grad_norm': 5.741459846496582, 'learning_rate': 1.3659797382339162e-05, 'epoch': 1.15}\n",
      "{'loss': 0.2772, 'grad_norm': 9.296158790588379, 'learning_rate': 1.2903804427708703e-05, 'epoch': 1.22}\n",
      "{'loss': 0.2495, 'grad_norm': 6.485424518585205, 'learning_rate': 1.2129208724273984e-05, 'epoch': 1.3}\n",
      "{'loss': 0.2548, 'grad_norm': 3.6773760318756104, 'learning_rate': 1.1340972592898745e-05, 'epoch': 1.38}\n",
      "{'loss': 0.2478, 'grad_norm': 1.7896900177001953, 'learning_rate': 1.0544145739620519e-05, 'epoch': 1.45}\n",
      "{'loss': 0.208, 'grad_norm': 3.5288047790527344, 'learning_rate': 9.743832905533644e-06, 'epoch': 1.53}\n",
      "{'loss': 0.2055, 'grad_norm': 3.2797553539276123, 'learning_rate': 8.945161164099156e-06, 'epoch': 1.61}\n",
      "{'loss': 0.2273, 'grad_norm': 6.182783126831055, 'learning_rate': 8.153247075386044e-06, 'epoch': 1.68}\n",
      "{'loss': 0.2123, 'grad_norm': 5.555342674255371, 'learning_rate': 7.37316390766482e-06, 'epoch': 1.76}\n",
      "{'loss': 0.2031, 'grad_norm': 4.552276611328125, 'learning_rate': 6.609909136342956e-06, 'epoch': 1.83}\n",
      "{'loss': 0.1968, 'grad_norm': 5.003017425537109, 'learning_rate': 5.868372428454862e-06, 'epoch': 1.91}\n",
      "{'loss': 0.1975, 'grad_norm': 3.8643484115600586, 'learning_rate': 5.153304317808654e-06, 'epoch': 1.99}\n"
     ]
    },
    {
     "data": {
      "application/vnd.jupyter.widget-view+json": {
       "model_id": "dc2d5b4e9993452fb1627ee64ddc9dc6",
       "version_major": 2,
       "version_minor": 0
      },
      "text/plain": [
       "  0%|          | 0/57 [00:00<?, ?it/s]"
      ]
     },
     "metadata": {},
     "output_type": "display_data"
    },
    {
     "name": "stdout",
     "output_type": "stream",
     "text": [
      "{'eval_loss': 0.5657201409339905, 'eval_qwk': 0.5750901327882553, 'eval_runtime': 30.0122, 'eval_samples_per_second': 60.775, 'eval_steps_per_second': 1.899, 'epoch': 2.0}\n",
      "{'loss': 0.1221, 'grad_norm': 5.061391353607178, 'learning_rate': 4.469285771467181e-06, 'epoch': 2.06}\n",
      "{'loss': 0.1192, 'grad_norm': 8.506162643432617, 'learning_rate': 3.820698842530725e-06, 'epoch': 2.14}\n",
      "{'loss': 0.1064, 'grad_norm': 2.2197279930114746, 'learning_rate': 3.211698597229508e-06, 'epoch': 2.22}\n",
      "{'loss': 0.1057, 'grad_norm': 6.292351722717285, 'learning_rate': 2.6461864961704975e-06, 'epoch': 2.29}\n",
      "{'loss': 0.1048, 'grad_norm': 3.0574495792388916, 'learning_rate': 2.1277854002672683e-06, 'epoch': 2.37}\n",
      "{'loss': 0.0979, 'grad_norm': 4.8517255783081055, 'learning_rate': 1.6598163614732154e-06, 'epoch': 2.45}\n",
      "{'loss': 0.0988, 'grad_norm': 3.5179660320281982, 'learning_rate': 1.2452773470046543e-06, 'epoch': 2.52}\n",
      "{'loss': 0.0953, 'grad_norm': 2.0717008113861084, 'learning_rate': 8.868240333534816e-07, 'epoch': 2.6}\n",
      "{'loss': 0.0854, 'grad_norm': 2.510344982147217, 'learning_rate': 5.867527931294615e-07, 'epoch': 2.68}\n",
      "{'loss': 0.0964, 'grad_norm': 2.4402220249176025, 'learning_rate': 3.4698598372416515e-07, 'epoch': 2.75}\n",
      "{'loss': 0.0915, 'grad_norm': 5.380012512207031, 'learning_rate': 1.6905963204229436e-07, 'epoch': 2.83}\n",
      "{'loss': 0.0915, 'grad_norm': 2.896150588989258, 'learning_rate': 5.4113594196202325e-08, 'epoch': 2.91}\n",
      "{'loss': 0.0894, 'grad_norm': 1.982388973236084, 'learning_rate': 2.8842532038697577e-09, 'epoch': 2.98}\n"
     ]
    },
    {
     "data": {
      "application/vnd.jupyter.widget-view+json": {
       "model_id": "70e8602741fa4184b3055ee8db79bf19",
       "version_major": 2,
       "version_minor": 0
      },
      "text/plain": [
       "  0%|          | 0/57 [00:00<?, ?it/s]"
      ]
     },
     "metadata": {},
     "output_type": "display_data"
    },
    {
     "name": "stdout",
     "output_type": "stream",
     "text": [
      "{'eval_loss': 0.48968425393104553, 'eval_qwk': 0.6097277848347982, 'eval_runtime': 29.9936, 'eval_samples_per_second': 60.813, 'eval_steps_per_second': 1.9, 'epoch': 3.0}\n",
      "{'train_runtime': 3822.406, 'train_samples_per_second': 16.421, 'train_steps_per_second': 0.513, 'train_loss': 0.2786243839852064, 'epoch': 3.0}\n"
     ]
    },
    {
     "data": {
      "application/vnd.jupyter.widget-view+json": {
       "model_id": "f3390a15617f4ffbb67fb671185d235a",
       "version_major": 2,
       "version_minor": 0
      },
      "text/plain": [
       "  0%|          | 0/57 [00:00<?, ?it/s]"
      ]
     },
     "metadata": {},
     "output_type": "display_data"
    },
    {
     "data": {
      "application/vnd.jupyter.widget-view+json": {
       "model_id": "3db1d886607e41a49f42ac08b56a5cd8",
       "version_major": 2,
       "version_minor": 0
      },
      "text/plain": [
       "Map:   0%|          | 0/17996 [00:00<?, ? examples/s]"
      ]
     },
     "metadata": {},
     "output_type": "display_data"
    },
    {
     "data": {
      "application/vnd.jupyter.widget-view+json": {
       "model_id": "6374ef01abd747ffb8acf4e72af9e011",
       "version_major": 2,
       "version_minor": 0
      },
      "text/plain": [
       "Map:   0%|          | 0/4751 [00:00<?, ? examples/s]"
      ]
     },
     "metadata": {},
     "output_type": "display_data"
    },
    {
     "name": "stderr",
     "output_type": "stream",
     "text": [
      "Some weights of DebertaV2ForSequenceClassification were not initialized from the model checkpoint at microsoft/deberta-v3-large and are newly initialized: ['classifier.bias', 'classifier.weight', 'pooler.dense.bias', 'pooler.dense.weight']\n",
      "You should probably TRAIN this model on a down-stream task to be able to use it for predictions and inference.\n"
     ]
    },
    {
     "data": {
      "application/vnd.jupyter.widget-view+json": {
       "model_id": "8e0d77e3cf5240289b8a89d1d927241f",
       "version_major": 2,
       "version_minor": 0
      },
      "text/plain": [
       "  0%|          | 0/1689 [00:00<?, ?it/s]"
      ]
     },
     "metadata": {},
     "output_type": "display_data"
    },
    {
     "name": "stdout",
     "output_type": "stream",
     "text": [
      "{'loss': 4.8087, 'grad_norm': inf, 'learning_rate': 2e-05, 'epoch': 0.0}\n",
      "{'loss': 1.4867, 'grad_norm': 24.177976608276367, 'learning_rate': 1.9961811767580646e-05, 'epoch': 0.09}\n",
      "{'loss': 0.5834, 'grad_norm': 9.563528060913086, 'learning_rate': 1.98376787096968e-05, 'epoch': 0.18}\n",
      "{'loss': 0.546, 'grad_norm': 17.0860652923584, 'learning_rate': 1.9628518028695307e-05, 'epoch': 0.27}\n",
      "{'loss': 0.4583, 'grad_norm': 9.945731163024902, 'learning_rate': 1.9336137512376532e-05, 'epoch': 0.36}\n",
      "{'loss': 0.4386, 'grad_norm': 5.0173821449279785, 'learning_rate': 1.8963064222365694e-05, 'epoch': 0.44}\n",
      "{'loss': 0.4075, 'grad_norm': 13.197673797607422, 'learning_rate': 1.851252265257384e-05, 'epoch': 0.53}\n",
      "{'loss': 0.4389, 'grad_norm': 2.337104082107544, 'learning_rate': 1.7988406859711457e-05, 'epoch': 0.62}\n",
      "{'loss': 0.4069, 'grad_norm': 7.807412624359131, 'learning_rate': 1.7395246806732266e-05, 'epoch': 0.71}\n",
      "{'loss': 0.3622, 'grad_norm': 12.673369407653809, 'learning_rate': 1.6738169210102765e-05, 'epoch': 0.8}\n",
      "{'loss': 0.3528, 'grad_norm': 15.127038955688477, 'learning_rate': 1.6022853229296844e-05, 'epoch': 0.89}\n",
      "{'loss': 0.3495, 'grad_norm': 13.081851959228516, 'learning_rate': 1.5255481381493686e-05, 'epoch': 0.98}\n"
     ]
    },
    {
     "data": {
      "application/vnd.jupyter.widget-view+json": {
       "model_id": "138c334c65a344e8b71584754d9a2de3",
       "version_major": 2,
       "version_minor": 0
      },
      "text/plain": [
       "  0%|          | 0/149 [00:00<?, ?it/s]"
      ]
     },
     "metadata": {},
     "output_type": "display_data"
    },
    {
     "name": "stdout",
     "output_type": "stream",
     "text": [
      "{'eval_loss': 0.40626776218414307, 'eval_qwk': 0.7388006678270538, 'eval_runtime': 77.9924, 'eval_samples_per_second': 60.916, 'eval_steps_per_second': 1.91, 'epoch': 1.0}\n",
      "{'loss': 0.2937, 'grad_norm': 4.368807315826416, 'learning_rate': 1.4442686105726066e-05, 'epoch': 1.07}\n",
      "{'loss': 0.2803, 'grad_norm': 5.719829082489014, 'learning_rate': 1.3591492438328185e-05, 'epoch': 1.15}\n",
      "{'loss': 0.2707, 'grad_norm': 4.684267997741699, 'learning_rate': 1.2709257295142421e-05, 'epoch': 1.24}\n",
      "{'loss': 0.2732, 'grad_norm': 3.292847156524658, 'learning_rate': 1.180360588527242e-05, 'epoch': 1.33}\n",
      "{'loss': 0.2391, 'grad_norm': 8.073027610778809, 'learning_rate': 1.0882365805962083e-05, 'epoch': 1.42}\n",
      "{'loss': 0.2479, 'grad_norm': 8.9955415725708, 'learning_rate': 9.953499388222203e-06, 'epoch': 1.51}\n",
      "{'loss': 0.2224, 'grad_norm': 4.3476128578186035, 'learning_rate': 9.025034877945422e-06, 'epoch': 1.6}\n",
      "{'loss': 0.2202, 'grad_norm': 9.467677116394043, 'learning_rate': 8.104997047315048e-06, 'epoch': 1.69}\n",
      "{'loss': 0.2261, 'grad_norm': 9.076634407043457, 'learning_rate': 7.201337836237365e-06, 'epoch': 1.78}\n",
      "{'loss': 0.2299, 'grad_norm': 3.9055588245391846, 'learning_rate': 6.3218676232674815e-06, 'epoch': 1.87}\n",
      "{'loss': 0.2118, 'grad_norm': 4.386165618896484, 'learning_rate': 5.474187720058106e-06, 'epoch': 1.95}\n"
     ]
    },
    {
     "data": {
      "application/vnd.jupyter.widget-view+json": {
       "model_id": "84de410ba2604772ba9e38114bd056cb",
       "version_major": 2,
       "version_minor": 0
      },
      "text/plain": [
       "  0%|          | 0/149 [00:00<?, ?it/s]"
      ]
     },
     "metadata": {},
     "output_type": "display_data"
    },
    {
     "name": "stdout",
     "output_type": "stream",
     "text": [
      "{'eval_loss': 0.3507189154624939, 'eval_qwk': 0.7547250452964881, 'eval_runtime': 77.8228, 'eval_samples_per_second': 61.049, 'eval_steps_per_second': 1.915, 'epoch': 2.0}\n",
      "{'loss': 0.1719, 'grad_norm': 4.205661296844482, 'learning_rate': 4.665624672785566e-06, 'epoch': 2.04}\n",
      "{'loss': 0.1302, 'grad_norm': 2.079169511795044, 'learning_rate': 3.903166938389664e-06, 'epoch': 2.13}\n",
      "{'loss': 0.1196, 'grad_norm': 2.928260326385498, 'learning_rate': 3.193404482938256e-06, 'epoch': 2.22}\n",
      "{'loss': 0.1186, 'grad_norm': 2.5484304428100586, 'learning_rate': 2.542471824171353e-06, 'epoch': 2.31}\n",
      "{'loss': 0.1253, 'grad_norm': 5.433182239532471, 'learning_rate': 1.955995010511338e-06, 'epoch': 2.4}\n",
      "{'loss': 0.1178, 'grad_norm': 5.352368354797363, 'learning_rate': 1.4390429948027429e-06, 'epoch': 2.49}\n",
      "{'loss': 0.1064, 'grad_norm': 2.7855916023254395, 'learning_rate': 9.960838230611636e-07, 'epoch': 2.58}\n",
      "{'loss': 0.1048, 'grad_norm': 2.9111335277557373, 'learning_rate': 6.309460168944692e-07, 'epoch': 2.66}\n",
      "{'loss': 0.0994, 'grad_norm': 1.8770428895950317, 'learning_rate': 3.467854833702644e-07, 'epoch': 2.75}\n",
      "{'loss': 0.1066, 'grad_norm': 3.736467123031616, 'learning_rate': 1.460582383295195e-07, 'epoch': 2.84}\n",
      "{'loss': 0.1125, 'grad_norm': 3.9523470401763916, 'learning_rate': 3.049917890034837e-08, 'epoch': 2.93}\n"
     ]
    },
    {
     "data": {
      "application/vnd.jupyter.widget-view+json": {
       "model_id": "6ddfdea4dc6f47b8944cf42431a633ce",
       "version_major": 2,
       "version_minor": 0
      },
      "text/plain": [
       "  0%|          | 0/149 [00:00<?, ?it/s]"
      ]
     },
     "metadata": {},
     "output_type": "display_data"
    },
    {
     "name": "stdout",
     "output_type": "stream",
     "text": [
      "{'eval_loss': 0.328933984041214, 'eval_qwk': 0.757538140330935, 'eval_runtime': 77.9733, 'eval_samples_per_second': 60.931, 'eval_steps_per_second': 1.911, 'epoch': 3.0}\n",
      "{'train_runtime': 3447.9051, 'train_samples_per_second': 15.658, 'train_steps_per_second': 0.49, 'train_loss': 0.29619951259461713, 'epoch': 3.0}\n"
     ]
    },
    {
     "data": {
      "application/vnd.jupyter.widget-view+json": {
       "model_id": "27b9b4cc97814340b1a4cdbd89e55347",
       "version_major": 2,
       "version_minor": 0
      },
      "text/plain": [
       "  0%|          | 0/149 [00:00<?, ?it/s]"
      ]
     },
     "metadata": {},
     "output_type": "display_data"
    },
    {
     "data": {
      "application/vnd.jupyter.widget-view+json": {
       "model_id": "162676d380784615bf5078c0d56b97dd",
       "version_major": 2,
       "version_minor": 0
      },
      "text/plain": [
       "Map:   0%|          | 0/20196 [00:00<?, ? examples/s]"
      ]
     },
     "metadata": {},
     "output_type": "display_data"
    },
    {
     "data": {
      "application/vnd.jupyter.widget-view+json": {
       "model_id": "2503182d77ff4724899b6bcd243b3044",
       "version_major": 2,
       "version_minor": 0
      },
      "text/plain": [
       "Map:   0%|          | 0/2551 [00:00<?, ? examples/s]"
      ]
     },
     "metadata": {},
     "output_type": "display_data"
    },
    {
     "name": "stderr",
     "output_type": "stream",
     "text": [
      "Some weights of DebertaV2ForSequenceClassification were not initialized from the model checkpoint at microsoft/deberta-v3-large and are newly initialized: ['classifier.bias', 'classifier.weight', 'pooler.dense.bias', 'pooler.dense.weight']\n",
      "You should probably TRAIN this model on a down-stream task to be able to use it for predictions and inference.\n"
     ]
    },
    {
     "data": {
      "application/vnd.jupyter.widget-view+json": {
       "model_id": "bf11afe8c7f14e7c97f65ae3d677083a",
       "version_major": 2,
       "version_minor": 0
      },
      "text/plain": [
       "  0%|          | 0/1896 [00:00<?, ?it/s]"
      ]
     },
     "metadata": {},
     "output_type": "display_data"
    },
    {
     "name": "stdout",
     "output_type": "stream",
     "text": [
      "{'loss': 4.9226, 'grad_norm': inf, 'learning_rate': 2e-05, 'epoch': 0.0}\n",
      "{'loss': 1.4746, 'grad_norm': 4.9437103271484375, 'learning_rate': 1.9970966560786324e-05, 'epoch': 0.08}\n",
      "{'loss': 0.5939, 'grad_norm': 13.48200798034668, 'learning_rate': 1.9873753419363336e-05, 'epoch': 0.16}\n",
      "{'loss': 0.5405, 'grad_norm': 34.944244384765625, 'learning_rate': 1.970880780334909e-05, 'epoch': 0.24}\n",
      "{'loss': 0.4881, 'grad_norm': 6.038815021514893, 'learning_rate': 1.9477261215047836e-05, 'epoch': 0.32}\n",
      "{'loss': 0.4617, 'grad_norm': 14.134589195251465, 'learning_rate': 1.9180702029492118e-05, 'epoch': 0.4}\n",
      "{'loss': 0.4686, 'grad_norm': 3.5376136302948, 'learning_rate': 1.8821164598427148e-05, 'epoch': 0.47}\n",
      "{'loss': 0.3799, 'grad_norm': 3.3311026096343994, 'learning_rate': 1.84011152949615e-05, 'epoch': 0.55}\n",
      "{'loss': 0.3621, 'grad_norm': 6.62144136428833, 'learning_rate': 1.7923435594615744e-05, 'epoch': 0.63}\n",
      "{'loss': 0.3515, 'grad_norm': 7.989975452423096, 'learning_rate': 1.7391402308830506e-05, 'epoch': 0.71}\n",
      "{'loss': 0.374, 'grad_norm': 5.762383937835693, 'learning_rate': 1.6808665106529096e-05, 'epoch': 0.79}\n",
      "{'loss': 0.3664, 'grad_norm': 4.374828815460205, 'learning_rate': 1.617922147793351e-05, 'epoch': 0.87}\n",
      "{'loss': 0.3191, 'grad_norm': 2.5581016540527344, 'learning_rate': 1.55073893123782e-05, 'epoch': 0.95}\n"
     ]
    },
    {
     "data": {
      "application/vnd.jupyter.widget-view+json": {
       "model_id": "9b0ea5e6c0644c1f8b29d8c03d1f2f22",
       "version_major": 2,
       "version_minor": 0
      },
      "text/plain": [
       "  0%|          | 0/80 [00:00<?, ?it/s]"
      ]
     },
     "metadata": {},
     "output_type": "display_data"
    },
    {
     "name": "stdout",
     "output_type": "stream",
     "text": [
      "{'eval_loss': 0.7192689776420593, 'eval_qwk': 0.6732605948511431, 'eval_runtime': 41.9742, 'eval_samples_per_second': 60.775, 'eval_steps_per_second': 1.906, 'epoch': 1.0}\n",
      "{'loss': 0.3005, 'grad_norm': 11.169295310974121, 'learning_rate': 1.4797777278233779e-05, 'epoch': 1.03}\n",
      "{'loss': 0.2745, 'grad_norm': 5.846409320831299, 'learning_rate': 1.405525320812994e-05, 'epoch': 1.11}\n",
      "{'loss': 0.2209, 'grad_norm': 3.8636481761932373, 'learning_rate': 1.3284910706350249e-05, 'epoch': 1.19}\n",
      "{'loss': 0.2306, 'grad_norm': 4.197505950927734, 'learning_rate': 1.2492034207467081e-05, 'epoch': 1.27}\n",
      "{'loss': 0.2606, 'grad_norm': 3.7580406665802, 'learning_rate': 1.1682062725909257e-05, 'epoch': 1.34}\n",
      "{'loss': 0.2281, 'grad_norm': 3.305265426635742, 'learning_rate': 1.086055254513497e-05, 'epoch': 1.42}\n",
      "{'loss': 0.2377, 'grad_norm': 9.95831298828125, 'learning_rate': 1.0033139102356641e-05, 'epoch': 1.5}\n",
      "{'loss': 0.2215, 'grad_norm': 2.6961777210235596, 'learning_rate': 9.205498330282857e-06, 'epoch': 1.58}\n",
      "{'loss': 0.2209, 'grad_norm': 3.45520281791687, 'learning_rate': 8.383307721067231e-06, 'epoch': 1.66}\n",
      "{'loss': 0.2112, 'grad_norm': 5.710171222686768, 'learning_rate': 7.572207379559722e-06, 'epoch': 1.74}\n",
      "{'loss': 0.2115, 'grad_norm': 8.362787246704102, 'learning_rate': 6.777761333029274e-06, 'epoch': 1.82}\n",
      "{'loss': 0.2052, 'grad_norm': 12.243404388427734, 'learning_rate': 6.005419362767286e-06, 'epoch': 1.9}\n",
      "{'loss': 0.1878, 'grad_norm': 6.9501166343688965, 'learning_rate': 5.260479619401451e-06, 'epoch': 1.98}\n"
     ]
    },
    {
     "data": {
      "application/vnd.jupyter.widget-view+json": {
       "model_id": "7afb42aeb24d4cb3bdb91b18f0b921ec",
       "version_major": 2,
       "version_minor": 0
      },
      "text/plain": [
       "  0%|          | 0/80 [00:00<?, ?it/s]"
      ]
     },
     "metadata": {},
     "output_type": "display_data"
    },
    {
     "name": "stdout",
     "output_type": "stream",
     "text": [
      "{'eval_loss': 0.7067822217941284, 'eval_qwk': 0.669455680725586, 'eval_runtime': 41.8482, 'eval_samples_per_second': 60.958, 'eval_steps_per_second': 1.912, 'epoch': 2.0}\n",
      "{'loss': 0.1367, 'grad_norm': 10.053299903869629, 'learning_rate': 4.548052278373327e-06, 'epoch': 2.06}\n",
      "{'loss': 0.1085, 'grad_norm': 3.19360613822937, 'learning_rate': 3.8730244848975766e-06, 'epoch': 2.14}\n",
      "{'loss': 0.1067, 'grad_norm': 2.685800790786743, 'learning_rate': 3.2400268288753423e-06, 'epoch': 2.22}\n",
      "{'loss': 0.0984, 'grad_norm': 3.0019285678863525, 'learning_rate': 2.6534015797387103e-06, 'epoch': 2.29}\n",
      "{'loss': 0.0977, 'grad_norm': 2.6980204582214355, 'learning_rate': 2.1171728991305797e-06, 'epoch': 2.37}\n",
      "{'loss': 0.092, 'grad_norm': 2.2783617973327637, 'learning_rate': 1.635019235756511e-06, 'epoch': 2.45}\n",
      "{'loss': 0.0921, 'grad_norm': 4.2046051025390625, 'learning_rate': 1.2102480917756632e-06, 'epoch': 2.53}\n",
      "{'loss': 0.093, 'grad_norm': 7.746869087219238, 'learning_rate': 8.457733338297069e-07, 'epoch': 2.61}\n",
      "{'loss': 0.0899, 'grad_norm': 2.596013307571411, 'learning_rate': 5.440952043526215e-07, 'epoch': 2.69}\n",
      "{'loss': 0.0856, 'grad_norm': 2.5749056339263916, 'learning_rate': 3.0728317028080656e-07, 'epoch': 2.77}\n",
      "{'loss': 0.0863, 'grad_norm': 1.5619217157363892, 'learning_rate': 1.3696172681881504e-07, 'epoch': 2.85}\n",
      "{'loss': 0.0919, 'grad_norm': 2.2296676635742188, 'learning_rate': 3.429925364473285e-08, 'epoch': 2.93}\n"
     ]
    },
    {
     "data": {
      "application/vnd.jupyter.widget-view+json": {
       "model_id": "45ab6a4fecd443a797832b090dbac709",
       "version_major": 2,
       "version_minor": 0
      },
      "text/plain": [
       "  0%|          | 0/80 [00:00<?, ?it/s]"
      ]
     },
     "metadata": {},
     "output_type": "display_data"
    },
    {
     "name": "stdout",
     "output_type": "stream",
     "text": [
      "{'eval_loss': 1.047427773475647, 'eval_qwk': 0.5767486503840434, 'eval_runtime': 41.9593, 'eval_samples_per_second': 60.797, 'eval_steps_per_second': 1.907, 'epoch': 3.0}\n",
      "{'train_runtime': 3730.5959, 'train_samples_per_second': 16.241, 'train_steps_per_second': 0.508, 'train_loss': 0.27748889334594146, 'epoch': 3.0}\n"
     ]
    },
    {
     "data": {
      "application/vnd.jupyter.widget-view+json": {
       "model_id": "cf96afe841c841c0be145ea8402e7703",
       "version_major": 2,
       "version_minor": 0
      },
      "text/plain": [
       "  0%|          | 0/80 [00:00<?, ?it/s]"
      ]
     },
     "metadata": {},
     "output_type": "display_data"
    },
    {
     "data": {
      "application/vnd.jupyter.widget-view+json": {
       "model_id": "9a19e4e9c4834475be50b78f95ffe3cc",
       "version_major": 2,
       "version_minor": 0
      },
      "text/plain": [
       "Map:   0%|          | 0/19878 [00:00<?, ? examples/s]"
      ]
     },
     "metadata": {},
     "output_type": "display_data"
    },
    {
     "data": {
      "application/vnd.jupyter.widget-view+json": {
       "model_id": "b5349bfc7eef4deb98b26c8b5b578f5e",
       "version_major": 2,
       "version_minor": 0
      },
      "text/plain": [
       "Map:   0%|          | 0/2869 [00:00<?, ? examples/s]"
      ]
     },
     "metadata": {},
     "output_type": "display_data"
    },
    {
     "name": "stderr",
     "output_type": "stream",
     "text": [
      "Some weights of DebertaV2ForSequenceClassification were not initialized from the model checkpoint at microsoft/deberta-v3-large and are newly initialized: ['classifier.bias', 'classifier.weight', 'pooler.dense.bias', 'pooler.dense.weight']\n",
      "You should probably TRAIN this model on a down-stream task to be able to use it for predictions and inference.\n"
     ]
    },
    {
     "data": {
      "application/vnd.jupyter.widget-view+json": {
       "model_id": "8b78cd9bdc74471aad41991ea9755c5d",
       "version_major": 2,
       "version_minor": 0
      },
      "text/plain": [
       "  0%|          | 0/1866 [00:00<?, ?it/s]"
      ]
     },
     "metadata": {},
     "output_type": "display_data"
    },
    {
     "name": "stdout",
     "output_type": "stream",
     "text": [
      "{'loss': 4.645, 'grad_norm': inf, 'learning_rate': 2e-05, 'epoch': 0.0}\n",
      "{'loss': 1.3861, 'grad_norm': 12.806761741638184, 'learning_rate': 1.9968709279239172e-05, 'epoch': 0.08}\n",
      "{'loss': 0.5012, 'grad_norm': 4.298337936401367, 'learning_rate': 1.9866947048719285e-05, 'epoch': 0.16}\n",
      "{'loss': 0.4593, 'grad_norm': 9.237325668334961, 'learning_rate': 1.969530644309323e-05, 'epoch': 0.24}\n",
      "{'loss': 0.4227, 'grad_norm': 7.966719627380371, 'learning_rate': 1.9455003032543366e-05, 'epoch': 0.32}\n",
      "{'loss': 0.4535, 'grad_norm': 5.9122796058654785, 'learning_rate': 1.9147738661802295e-05, 'epoch': 0.4}\n",
      "{'loss': 0.4205, 'grad_norm': 20.281883239746094, 'learning_rate': 1.877568939757529e-05, 'epoch': 0.48}\n",
      "{'loss': 0.3654, 'grad_norm': 4.9149041175842285, 'learning_rate': 1.834149011749119e-05, 'epoch': 0.56}\n",
      "{'loss': 0.3939, 'grad_norm': 11.773971557617188, 'learning_rate': 1.7848215849723836e-05, 'epoch': 0.64}\n",
      "{'loss': 0.3539, 'grad_norm': 7.632946014404297, 'learning_rate': 1.7299359995438046e-05, 'epoch': 0.72}\n",
      "{'loss': 0.3538, 'grad_norm': 13.944451332092285, 'learning_rate': 1.6698809588290292e-05, 'epoch': 0.8}\n",
      "{'loss': 0.3192, 'grad_norm': 11.724780082702637, 'learning_rate': 1.605081776619787e-05, 'epoch': 0.88}\n",
      "{'loss': 0.3288, 'grad_norm': 7.893700122833252, 'learning_rate': 1.5359973650333352e-05, 'epoch': 0.96}\n"
     ]
    },
    {
     "data": {
      "application/vnd.jupyter.widget-view+json": {
       "model_id": "25744ceed79e45e7bd133f0c4a0fcc0e",
       "version_major": 2,
       "version_minor": 0
      },
      "text/plain": [
       "  0%|          | 0/90 [00:00<?, ?it/s]"
      ]
     },
     "metadata": {},
     "output_type": "display_data"
    },
    {
     "name": "stdout",
     "output_type": "stream",
     "text": [
      "{'eval_loss': 0.4817569851875305, 'eval_qwk': 0.7471435926079062, 'eval_runtime': 47.2704, 'eval_samples_per_second': 60.693, 'eval_steps_per_second': 1.904, 'epoch': 1.0}\n",
      "{'loss': 0.3068, 'grad_norm': 5.27940559387207, 'learning_rate': 1.4631169844663284e-05, 'epoch': 1.05}\n",
      "{'loss': 0.2343, 'grad_norm': 2.8565473556518555, 'learning_rate': 1.3869567786201562e-05, 'epoch': 1.13}\n",
      "{'loss': 0.2753, 'grad_norm': 4.960285186767578, 'learning_rate': 1.3080561191369286e-05, 'epoch': 1.21}\n",
      "{'loss': 0.24, 'grad_norm': 9.040861129760742, 'learning_rate': 1.2269737857336412e-05, 'epoch': 1.29}\n",
      "{'loss': 0.2548, 'grad_norm': 10.287030220031738, 'learning_rate': 1.1442840088870628e-05, 'epoch': 1.37}\n",
      "{'loss': 0.2272, 'grad_norm': 8.09636116027832, 'learning_rate': 1.0605724030953155e-05, 'epoch': 1.45}\n",
      "{'loss': 0.2485, 'grad_norm': 6.509798049926758, 'learning_rate': 9.764318195170575e-06, 'epoch': 1.53}\n",
      "{'loss': 0.2162, 'grad_norm': 3.282747745513916, 'learning_rate': 8.924581473601568e-06, 'epoch': 1.61}\n",
      "{'loss': 0.2054, 'grad_norm': 4.8901495933532715, 'learning_rate': 8.09246093754696e-06, 'epoch': 1.69}\n",
      "{'loss': 0.1904, 'grad_norm': 2.9152534008026123, 'learning_rate': 7.27384971997532e-06, 'epoch': 1.77}\n",
      "{'loss': 0.2017, 'grad_norm': 6.02082633972168, 'learning_rate': 6.47454527996342e-06, 'epoch': 1.85}\n",
      "{'loss': 0.2115, 'grad_norm': 12.92248249053955, 'learning_rate': 5.700208344705537e-06, 'epoch': 1.93}\n"
     ]
    },
    {
     "data": {
      "application/vnd.jupyter.widget-view+json": {
       "model_id": "39d27ed85fa949ed916687e3d44f84dc",
       "version_major": 2,
       "version_minor": 0
      },
      "text/plain": [
       "  0%|          | 0/90 [00:00<?, ?it/s]"
      ]
     },
     "metadata": {},
     "output_type": "display_data"
    },
    {
     "name": "stdout",
     "output_type": "stream",
     "text": [
      "{'eval_loss': 0.4764467775821686, 'eval_qwk': 0.7776898806435484, 'eval_runtime': 47.2861, 'eval_samples_per_second': 60.673, 'eval_steps_per_second': 1.903, 'epoch': 2.0}\n",
      "{'loss': 0.1981, 'grad_norm': 3.6440341472625732, 'learning_rate': 4.956322819867059e-06, 'epoch': 2.01}\n",
      "{'loss': 0.1189, 'grad_norm': 5.255641937255859, 'learning_rate': 4.248156952199895e-06, 'epoch': 2.09}\n",
      "{'loss': 0.1064, 'grad_norm': 3.0407419204711914, 'learning_rate': 3.580726019468671e-06, 'epoch': 2.17}\n",
      "{'loss': 0.1006, 'grad_norm': 4.093122959136963, 'learning_rate': 2.9587568119201193e-06, 'epoch': 2.25}\n",
      "{'loss': 0.1023, 'grad_norm': 6.7655463218688965, 'learning_rate': 2.386654156840226e-06, 'epoch': 2.33}\n",
      "{'loss': 0.0951, 'grad_norm': 2.1668663024902344, 'learning_rate': 1.8684697232744886e-06, 'epoch': 2.41}\n",
      "{'loss': 0.0933, 'grad_norm': 3.4192347526550293, 'learning_rate': 1.407873327838335e-06, 'epoch': 2.49}\n",
      "{'loss': 0.1019, 'grad_norm': 3.4610695838928223, 'learning_rate': 1.0081269448318065e-06, 'epoch': 2.57}\n",
      "{'loss': 0.1022, 'grad_norm': 2.445019006729126, 'learning_rate': 6.781426817309522e-07, 'epoch': 2.65}\n",
      "{'loss': 0.094, 'grad_norm': 2.5853724479675293, 'learning_rate': 4.067968771060349e-07, 'epoch': 2.73}\n",
      "{'loss': 0.0939, 'grad_norm': 5.402835369110107, 'learning_rate': 2.0339077490186488e-07, 'epoch': 2.81}\n",
      "{'loss': 0.0933, 'grad_norm': 1.9140263795852661, 'learning_rate': 7.135854413338194e-08, 'epoch': 2.89}\n",
      "{'loss': 0.0943, 'grad_norm': 3.876248598098755, 'learning_rate': 6.249421545755363e-09, 'epoch': 2.97}\n"
     ]
    },
    {
     "data": {
      "application/vnd.jupyter.widget-view+json": {
       "model_id": "9d6afa69bdac4175979aba8548420a5f",
       "version_major": 2,
       "version_minor": 0
      },
      "text/plain": [
       "  0%|          | 0/90 [00:00<?, ?it/s]"
      ]
     },
     "metadata": {},
     "output_type": "display_data"
    },
    {
     "name": "stdout",
     "output_type": "stream",
     "text": [
      "{'eval_loss': 0.4670966565608978, 'eval_qwk': 0.777135117765355, 'eval_runtime': 47.1268, 'eval_samples_per_second': 60.878, 'eval_steps_per_second': 1.91, 'epoch': 3.0}\n",
      "{'train_runtime': 3690.4379, 'train_samples_per_second': 16.159, 'train_steps_per_second': 0.506, 'train_loss': 0.26962046639840065, 'epoch': 3.0}\n"
     ]
    },
    {
     "data": {
      "application/vnd.jupyter.widget-view+json": {
       "model_id": "eaf55062f3994c6baed3a99765c49070",
       "version_major": 2,
       "version_minor": 0
      },
      "text/plain": [
       "  0%|          | 0/90 [00:00<?, ?it/s]"
      ]
     },
     "metadata": {},
     "output_type": "display_data"
    }
   ],
   "source": [
    "scores = []\n",
    "\n",
    "for fold in CFG.train_folds:\n",
    "    train, valid = get_fold_data(fold)\n",
    "\n",
    "    tokenized_train, tokenized_valid = tokenize_data(train, valid)\n",
    "\n",
    "    config = configure()\n",
    "\n",
    "    backbone_model = get_model(config)\n",
    "\n",
    "    data_collator = DataCollatorWithPadding(tokenizer=tokenizer)\n",
    "\n",
    "    trainer = Trainer(\n",
    "        model=backbone_model,\n",
    "        args=training_args,\n",
    "        train_dataset=tokenized_train,\n",
    "        eval_dataset=tokenized_valid,\n",
    "        data_collator=data_collator,\n",
    "        tokenizer=tokenizer,\n",
    "        compute_metrics=compute_metrics,\n",
    "    )\n",
    "\n",
    "    trainer.train()\n",
    "\n",
    "    y_true = valid[\"label\"].values\n",
    "    logits = trainer.predict(tokenized_valid).predictions\n",
    "    y_pred = post_process_predictions(logits)\n",
    "\n",
    "    save_model_and_tokenizer(fold, trainer)\n",
    "\n",
    "    oof_df = save_oof_predictions(fold, valid, logits, y_pred)\n",
    "    log_metrics(oof_df, f\"Fold {fold}\")\n",
    "    \n",
    "    score = compute_metrics((oof_df[\"pred_score\"], oof_df[\"label\"]))\n",
    "    scores.append((fold, score))\n",
    "\n",
    "    del (\n",
    "        train,\n",
    "        valid,\n",
    "        tokenized_train,\n",
    "        tokenized_valid,\n",
    "        backbone_model,\n",
    "        data_collator,\n",
    "        trainer,\n",
    "        y_pred,\n",
    "        y_true,\n",
    "        logits,\n",
    "    )\n",
    "    gc.collect()\n",
    "    torch.cuda.empty_cache()\n",
    "    time.sleep(5)"
   ]
  },
  {
   "cell_type": "code",
   "execution_count": 38,
   "metadata": {},
   "outputs": [
    {
     "data": {
      "text/plain": [
       "count    2869.000000\n",
       "mean        3.269083\n",
       "std         1.223359\n",
       "min         1.000000\n",
       "25%         2.000000\n",
       "50%         3.000000\n",
       "75%         4.000000\n",
       "max         6.000000\n",
       "Name: score, dtype: float64"
      ]
     },
     "execution_count": 38,
     "metadata": {},
     "output_type": "execute_result"
    }
   ],
   "source": [
    "oof_df[\"score\"].describe()"
   ]
  },
  {
   "cell_type": "markdown",
   "metadata": {},
   "source": [
    "## Overall"
   ]
  },
  {
   "cell_type": "markdown",
   "metadata": {},
   "source": [
    "### Logging Metrics"
   ]
  },
  {
   "cell_type": "code",
   "execution_count": 39,
   "metadata": {},
   "outputs": [
    {
     "data": {
      "text/plain": [
       "0       2.0\n",
       "1       3.0\n",
       "2       2.0\n",
       "3       2.0\n",
       "4       2.0\n",
       "       ... \n",
       "2864    4.0\n",
       "2865    4.0\n",
       "2866    4.0\n",
       "2867    2.0\n",
       "2868    3.0\n",
       "Name: pred_score, Length: 2869, dtype: float32"
      ]
     },
     "execution_count": 39,
     "metadata": {},
     "output_type": "execute_result"
    }
   ],
   "source": [
    "oof_df[\"pred_score\"]"
   ]
  },
  {
   "cell_type": "code",
   "execution_count": 49,
   "metadata": {},
   "outputs": [
    {
     "name": "stdout",
     "output_type": "stream",
     "text": [
      "Overall QWK score before thresholding: 0.7776898806435484\n"
     ]
    }
   ],
   "source": [
    "log_metrics(oof_df, \"Overall\")\n",
    "\n",
    "table = wandb.Table(data=scores, columns=[\"score\", \"QWK\"])\n",
    "wandb.log(\n",
    "    {\n",
    "        \"Overall/QWK_all_folds\": wandb.plot.bar(\n",
    "            table,\n",
    "            \"score\",\n",
    "            \"QWK\",\n",
    "            title=\"Fold wise QWK Scores\",\n",
    "        )\n",
    "    }\n",
    ")\n",
    "\n",
    "score = compute_metrics((oof_df[\"pred_score\"], oof_df[\"label\"]))[\"qwk\"]\n",
    "print(f\"Overall QWK score before thresholding: {score}\")\n",
    "wandb.log({\"CV/qwk_score\": score})"
   ]
  },
  {
   "cell_type": "markdown",
   "metadata": {},
   "source": [
    "### Confusion Matrix"
   ]
  },
  {
   "cell_type": "code",
   "execution_count": 50,
   "metadata": {},
   "outputs": [
    {
     "data": {
      "image/png": "[encoded data removed]",
      "text/plain": [
       "<Figure size 640x480 with 2 Axes>"
      ]
     },
     "metadata": {},
     "output_type": "display_data"
    }
   ],
   "source": [
    "cm = confusion_matrix(oof_df[\"label\"], oof_df[\"pred_score\"])\n",
    "disp = ConfusionMatrixDisplay(confusion_matrix=cm, display_labels=list(range(CFG.num_labels)))\n",
    "\n",
    "# Plot the confusion matrix\n",
    "disp.plot(cmap='viridis', values_format='d')\n",
    "plt.title(\"Confusion Matrix\")\n",
    "plt.show()"
   ]
  },
  {
   "cell_type": "markdown",
   "metadata": {},
   "source": [
    "## Optimal Thresholds"
   ]
  },
  {
   "cell_type": "code",
   "execution_count": 51,
   "metadata": {},
   "outputs": [],
   "source": [
    "best, threshold, xs, ys = find_thresholds(oof_df[\"label\"], oof_df[\"logit\"], steps=500)"
   ]
  },
  {
   "cell_type": "code",
   "execution_count": 52,
   "metadata": {},
   "outputs": [
    {
     "data": {
      "image/png": "[encoded data removed]",
      "text/plain": [
       "<Figure size 1500x300 with 5 Axes>"
      ]
     },
     "metadata": {},
     "output_type": "display_data"
    }
   ],
   "source": [
    "diff = 0.5\n",
    "nrows, ncols = 1, 5  # Define grid for 5 subplots (1 row, 5 columns)\n",
    "\n",
    "fig, axes = plt.subplots(nrows, ncols, figsize=(15, 3))  # Create figure and subplots\n",
    "\n",
    "# Loop through data and plot on each subplot\n",
    "for k in range(5):\n",
    "    ax = axes.flat[k]  # Access each subplot using flattened axes\n",
    "    ax.scatter(xs[k], ys[k], s=3)\n",
    "    m = k + 1.5\n",
    "    ax.set_xlim((m - diff, m + diff))\n",
    "    i = np.where((np.array(xs[k]) > m - diff) & (np.array(xs[k]) < m + diff))[0]\n",
    "    mn = np.min(np.array(ys[k])[i])\n",
    "    mx = np.max(np.array(ys[k])[i])\n",
    "    ax.set_ylim((mn, mx))\n",
    "\n",
    "    ax.plot(\n",
    "        [threshold[k], threshold[k]],\n",
    "        [mn, mx],\n",
    "        \"--\",\n",
    "        color=\"black\",\n",
    "        label=\"optimal threshold\",\n",
    "    )\n",
    "\n",
    "    ax.set_title(f\"Optimal Thresh: {threshold[k]:4.3f}\", size=12)  # Adjust title size\n",
    "    ax.set_xlabel(f\"Threshold between {k+1} and {k+2}\", size=10)\n",
    "    ax.set_ylabel(\"QWK CV score\", size=10)\n",
    "\n",
    "# Common legend for all subplots\n",
    "plt.suptitle(\"Optimal Thresholds\", size=12)\n",
    "plt.tight_layout()  # Adjust spacing between subplots\n",
    "plt.show()"
   ]
  },
  {
   "cell_type": "code",
   "execution_count": 53,
   "metadata": {},
   "outputs": [],
   "source": [
    "with open(Paths.threshold_path, \"wb\") as file:\n",
    "    pkl.dump(threshold, file)"
   ]
  },
  {
   "cell_type": "markdown",
   "metadata": {},
   "source": [
    "## Wrapping up"
   ]
  },
  {
   "cell_type": "code",
   "execution_count": 54,
   "metadata": {},
   "outputs": [
    {
     "data": {
      "application/vnd.jupyter.widget-view+json": {
       "model_id": "5ad8f6f23115473b83957dffd4d1899d",
       "version_major": 2,
       "version_minor": 0
      },
      "text/plain": [
       "VBox(children=(Label(value='0.045 MB of 0.045 MB uploaded\\r'), FloatProgress(value=1.0, max=1.0)))"
      ]
     },
     "metadata": {},
     "output_type": "display_data"
    },
    {
     "data": {
      "text/html": [
       "<style>\n",
       "    table.wandb td:nth-child(1) { padding: 0 10px; text-align: left ; width: auto;} td:nth-child(2) {text-align: left ; width: 100%}\n",
       "    .wandb-row { display: flex; flex-direction: row; flex-wrap: wrap; justify-content: flex-start; width: 100% }\n",
       "    .wandb-col { display: flex; flex-direction: column; flex-basis: 100%; flex: 1; padding: 10px; }\n",
       "    </style>\n",
       "<div class=\"wandb-row\"><div class=\"wandb-col\"><h3>Run history:</h3><br/><table class=\"wandb\"><tr><td>CV/qwk_score</td><td>▁</td></tr><tr><td>eval/loss</td><td>▃▃▃▂▃▂▃▁▁▁▃▃▂▁▁▅▅█▂▂▂</td></tr><tr><td>eval/qwk</td><td>▆▇▇▄▄▅▅██▄▁▂▆▆▆▄▄▁▆▇▇</td></tr><tr><td>eval/runtime</td><td>▆▆▆▄▄▄▆▆▆▁▁▁███▃▃▃▄▄▄</td></tr><tr><td>eval/samples_per_second</td><td>▇▇▆▅▃▃█▆▆▆▂▃▄▆▅▂▅▃▁▁▄</td></tr><tr><td>eval/steps_per_second</td><td>██▇█▆▇█▆▆▄▁▁▄▆▅▃▅▄▃▂▄</td></tr><tr><td>train/epoch</td><td>▂▂▄▅▇▇▂▃▄▆▇█▂▄▅▆▇▁▃▄▅▆▇▁▃▄▅▇▁▂▃▅▆▇▁▂▃▅▆█</td></tr><tr><td>train/global_step</td><td>▁▃▄▅▇▇▂▃▅▆█▁▃▅▆▇▁▃▄▅▇█▁▃▄▅▇▁▃▄▆▇█▂▃▅▆▇██</td></tr><tr><td>train/grad_norm</td><td>▇▁▄▄▁▂▂▂▂▂▁▁▄▂▄▂▂▅▂▃▃▂▁▄▅▂▂▁ ▃▁▁▅▂▁█▁▃▂▁</td></tr><tr><td>train/learning_rate</td><td>█▇▅▄▂▁█▇▆▃▁▁█▆▄▂▁█▇▆▄▃▁█▇▅▃▂██▆▄▃▁▁█▆▅▂▁</td></tr><tr><td>train/loss</td><td>▂▁▁▁▁▁▂▁▁▁▁▁▁▁▁▁▁▂▁▁▁▁▁▂▁▁▁▁█▂▁▁▁▁▁▁▁▁▁▁</td></tr></table><br/></div><div class=\"wandb-col\"><h3>Run summary:</h3><br/><table class=\"wandb\"><tr><td>CV/qwk_score</td><td>0.77769</td></tr><tr><td>eval/loss</td><td>0.4671</td></tr><tr><td>eval/qwk</td><td>0.77714</td></tr><tr><td>eval/runtime</td><td>47.1268</td></tr><tr><td>eval/samples_per_second</td><td>60.878</td></tr><tr><td>eval/steps_per_second</td><td>1.91</td></tr><tr><td>total_flos</td><td>5.557498232984986e+16</td></tr><tr><td>train/epoch</td><td>3.0</td></tr><tr><td>train/global_step</td><td>1866</td></tr><tr><td>train/grad_norm</td><td>3.87625</td></tr><tr><td>train/learning_rate</td><td>0.0</td></tr><tr><td>train/loss</td><td>0.0943</td></tr><tr><td>train_loss</td><td>0.26962</td></tr><tr><td>train_runtime</td><td>3690.4379</td></tr><tr><td>train_samples_per_second</td><td>16.159</td></tr><tr><td>train_steps_per_second</td><td>0.506</td></tr></table><br/></div></div>"
      ],
      "text/plain": [
       "<IPython.core.display.HTML object>"
      ]
     },
     "metadata": {},
     "output_type": "display_data"
    },
    {
     "data": {
      "text/html": [
       " View run <strong style=\"color:#cdcd00\">deberta-v3-large-512-R</strong> at: <a href='https://wandb.ai/laplacesdemon43/Kaggle_ASE_2.0/runs/xfe9yvp8' target=\"_blank\">https://wandb.ai/laplacesdemon43/Kaggle_ASE_2.0/runs/xfe9yvp8</a><br/> View project at: <a href='https://wandb.ai/laplacesdemon43/Kaggle_ASE_2.0' target=\"_blank\">https://wandb.ai/laplacesdemon43/Kaggle_ASE_2.0</a><br/>Synced 6 W&B file(s), 41 media file(s), 33 artifact file(s) and 0 other file(s)"
      ],
      "text/plain": [
       "<IPython.core.display.HTML object>"
      ]
     },
     "metadata": {},
     "output_type": "display_data"
    },
    {
     "data": {
      "text/html": [
       "Find logs at: <code>./wandb/run-20240612_205011-xfe9yvp8/logs</code>"
      ],
      "text/plain": [
       "<IPython.core.display.HTML object>"
      ]
     },
     "metadata": {},
     "output_type": "display_data"
    }
   ],
   "source": [
    "wandb.finish()"
   ]
  }
 ],
 "metadata": {
  "kernelspec": {
   "display_name": "venv",
   "language": "python",
   "name": "python3"
  },
  "language_info": {
   "codemirror_mode": {
    "name": "ipython",
    "version": 3
   },
   "file_extension": ".py",
   "mimetype": "text/x-python",
   "name": "python",
   "nbconvert_exporter": "python",
   "pygments_lexer": "ipython3",
   "version": "3.11.8"
  }
 },
 "nbformat": 4,
 "nbformat_minor": 2
}
