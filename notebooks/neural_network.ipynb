{
 "cells": [
  {
   "cell_type": "markdown",
   "metadata": {},
   "source": [
    "# 🤗 HuggingFace Neural Network Notebook\n",
    "\n",
    "Sources:\n",
    "1. [Originally based on cdoette's notebook](https://www.kaggle.com/code/cdeotte/deberta-v3-small-starter-cv-0-820-lb-0-800?scriptVersionId=174239814)"
   ]
  },
  {
   "cell_type": "markdown",
   "metadata": {},
   "source": [
    "## Version History"
   ]
  },
  {
   "cell_type": "markdown",
   "metadata": {},
   "source": [
    "### 1.0\n",
    "Base implementation following [cdoette's notebook](https://www.kaggle.com/code/cdeotte/deberta-v3-small-starter-cv-0-820-lb-0-800?scriptVersionId=174239814)\n",
    "\n",
    "### 2.0\n",
    "1. Sliding window technique\n",
    "2. wandb logging\n",
    "3. Threshold"
   ]
  },
  {
   "cell_type": "markdown",
   "metadata": {},
   "source": [
    "## Setup"
   ]
  },
  {
   "cell_type": "markdown",
   "metadata": {},
   "source": [
    "### Environment Variables"
   ]
  },
  {
   "cell_type": "code",
   "execution_count": 1,
   "metadata": {},
   "outputs": [
    {
     "name": "stdout",
     "output_type": "stream",
     "text": [
      "env: TOKENIZERS_PARALLELISM=true\n",
      "env: WANDB_NOTEBOOK_NAME=\"neural_network.ipynb\"\n"
     ]
    }
   ],
   "source": [
    "%env TOKENIZERS_PARALLELISM=true\n",
    "%env WANDB_NOTEBOOK_NAME=\"neural_network.ipynb\""
   ]
  },
  {
   "cell_type": "markdown",
   "metadata": {},
   "source": [
    "### Import Libraries"
   ]
  },
  {
   "cell_type": "code",
   "execution_count": 2,
   "metadata": {},
   "outputs": [],
   "source": [
    "import gc\n",
    "import os\n",
    "import random\n",
    "import time\n",
    "from typing import Tuple, List\n",
    "import warnings\n",
    "import pickle as pkl\n",
    "\n",
    "from dotenv import load_dotenv\n",
    "import wandb\n",
    "from tqdm import tqdm\n",
    "import torch\n",
    "import pandas as pd, numpy as np\n",
    "import matplotlib.pyplot as plt\n",
    "from transformers import (\n",
    "    AutoTokenizer,\n",
    "    AutoModelForSequenceClassification,\n",
    "    AutoConfig,\n",
    "    TrainingArguments,\n",
    "    Trainer,\n",
    "    DataCollatorWithPadding,\n",
    "    PreTrainedTokenizer,\n",
    ")\n",
    "from datasets import Dataset\n",
    "from tokenizers import AddedToken\n",
    "from sklearn.model_selection import StratifiedGroupKFold\n",
    "from sklearn.metrics import (\n",
    "    confusion_matrix,\n",
    "    ConfusionMatrixDisplay,\n",
    "    cohen_kappa_score,\n",
    ")"
   ]
  },
  {
   "cell_type": "code",
   "execution_count": 3,
   "metadata": {},
   "outputs": [
    {
     "data": {
      "text/plain": [
       "True"
      ]
     },
     "execution_count": 3,
     "metadata": {},
     "output_type": "execute_result"
    }
   ],
   "source": [
    "os.chdir(\"../\")\n",
    "warnings.simplefilter('ignore')\n",
    "load_dotenv()"
   ]
  },
  {
   "cell_type": "code",
   "execution_count": 4,
   "metadata": {},
   "outputs": [],
   "source": [
    "from lib.criterion.metrics import log_metrics\n",
    "from lib.utils.find_threshold import find_thresholds"
   ]
  },
  {
   "cell_type": "markdown",
   "metadata": {},
   "source": [
    "### Paths"
   ]
  },
  {
   "cell_type": "code",
   "execution_count": 5,
   "metadata": {},
   "outputs": [],
   "source": [
    "class Paths:\n",
    "    # Competition data with added topic column\n",
    "    train_csv: str = \"data/processed/train.csv\"\n",
    "    test_csv: str = \"data/processed/test.csv\"\n",
    "\n",
    "    # Output path\n",
    "    output_path: str = \"output/model_dir\"\n",
    "    model_path: str = os.path.join(output_path, \"{model_name}_fold_{fold}\")\n",
    "    tokenizer_path: str =  os.path.join(output_path, \"{model_name}_tokenizer\")\n",
    "    oof_path: str = os.path.join(output_path, \"valid_df_fold_{fold}.csv\")\n",
    "    threshold_path: str = os.path.join(output_path, \"threshold.pkl\")"
   ]
  },
  {
   "cell_type": "markdown",
   "metadata": {},
   "source": [
    "### Configurations"
   ]
  },
  {
   "cell_type": "code",
   "execution_count": 15,
   "metadata": {},
   "outputs": [],
   "source": [
    "DEBUG = False\n",
    "DO_SLIDING_WINDOW = True\n",
    "DO_REGRESSION = True"
   ]
  },
  {
   "cell_type": "code",
   "execution_count": 7,
   "metadata": {},
   "outputs": [],
   "source": [
    "class CFG:\n",
    "    backbone_model: str = \"microsoft/deberta-v3-xsmall\"\n",
    "    gradient_accumulation_steps: int = 1\n",
    "    gradient_checkpointing: bool = False\n",
    "    lr: float = 1e-5\n",
    "    max_length: int = 512\n",
    "    n_splits: int = 7\n",
    "    num_labels: int = 6\n",
    "    num_folds: int = 7\n",
    "    num_epochs: int = 3\n",
    "    num_workers: int = 6\n",
    "    seed: int = 20\n",
    "    stride_length: int = 384\n",
    "    train_batch_size: int = 32\n",
    "    valid_batch_size: int = 32\n",
    "    weight_decay: float = 0.01\n",
    "    warmup_ratio: float = 0.01\n",
    "    train_folds: List[int] = list(range(num_folds))"
   ]
  },
  {
   "cell_type": "code",
   "execution_count": 8,
   "metadata": {},
   "outputs": [],
   "source": [
    "if DEBUG:\n",
    "    CFG.num_epochs = 1\n",
    "    CFG.train_folds = [0]"
   ]
  },
  {
   "cell_type": "code",
   "execution_count": 9,
   "metadata": {},
   "outputs": [],
   "source": [
    "MODEL_NAME = CFG.backbone_model.split(\"/\")[-1]"
   ]
  },
  {
   "cell_type": "markdown",
   "metadata": {},
   "source": [
    "### Setting Random Seed"
   ]
  },
  {
   "cell_type": "code",
   "execution_count": 10,
   "metadata": {},
   "outputs": [],
   "source": [
    "def seed_everything() -> None:\n",
    "    \"\"\"Seed everything to ensure reproducibility\n",
    "\n",
    "    Sources:\n",
    "    1. https://www.kaggle.com/code/alejopaullier/aes-2-multi-class-classification-train\n",
    "    2. https://www.kaggle.com/code/hashidoyuto/deberta-baseline-aes2-0-train\n",
    "    \"\"\"\n",
    "    random.seed(CFG.seed)\n",
    "    os.environ[\"PYTHONHASHCFG.SEED\"] = str(CFG.seed)\n",
    "    np.random.seed(CFG.seed)\n",
    "    torch.manual_seed(CFG.seed)\n",
    "    torch.cuda.manual_seed(CFG.seed)\n",
    "    torch.backends.cudnn.deterministic = True\n",
    "    torch.backends.cudnn.benchmark = True\n",
    "\n",
    "seed_everything()"
   ]
  },
  {
   "cell_type": "markdown",
   "metadata": {},
   "source": [
    "### WandB setup"
   ]
  },
  {
   "cell_type": "code",
   "execution_count": 11,
   "metadata": {},
   "outputs": [],
   "source": [
    "WANDB_PROJECT = \"Kaggle_ASE_2.0\"\n",
    "model_name = CFG.backbone_model.split(\"/\")[-1]\n",
    "type = \"R\" if DO_REGRESSION else \"C\"\n",
    "WANDB_NAME = f\"{model_name}-{CFG.max_length}-{type}\""
   ]
  },
  {
   "cell_type": "code",
   "execution_count": 12,
   "metadata": {},
   "outputs": [
    {
     "name": "stderr",
     "output_type": "stream",
     "text": [
      "\u001b[34m\u001b[1mwandb\u001b[0m: \u001b[33mWARNING\u001b[0m WANDB_NOTEBOOK_NAME should be a path to a notebook file, couldn't find \"neural_network.ipynb\".\n",
      "\u001b[34m\u001b[1mwandb\u001b[0m: Currently logged in as: \u001b[33mshakleenishfar\u001b[0m (\u001b[33mlaplacesdemon43\u001b[0m). Use \u001b[1m`wandb login --relogin`\u001b[0m to force relogin\n",
      "\u001b[34m\u001b[1mwandb\u001b[0m: \u001b[33mWARNING\u001b[0m If you're specifying your api key in code, ensure this code is not shared publicly.\n",
      "\u001b[34m\u001b[1mwandb\u001b[0m: \u001b[33mWARNING\u001b[0m Consider setting the WANDB_API_KEY environment variable, or running `wandb login` from the command line.\n",
      "\u001b[34m\u001b[1mwandb\u001b[0m: Appending key for api.wandb.ai to your netrc file: /home/ishfar/.netrc\n"
     ]
    },
    {
     "data": {
      "application/vnd.jupyter.widget-view+json": {
       "model_id": "f01a22ce016d4494b36ea9e3b69904ff",
       "version_major": 2,
       "version_minor": 0
      },
      "text/plain": [
       "VBox(children=(Label(value='Waiting for wandb.init()...\\r'), FloatProgress(value=0.011112638322224989, max=1.0…"
      ]
     },
     "metadata": {},
     "output_type": "display_data"
    },
    {
     "data": {
      "text/html": [
       "wandb version 0.17.1 is available!  To upgrade, please run:\n",
       " $ pip install wandb --upgrade"
      ],
      "text/plain": [
       "<IPython.core.display.HTML object>"
      ]
     },
     "metadata": {},
     "output_type": "display_data"
    },
    {
     "data": {
      "text/html": [
       "Tracking run with wandb version 0.16.6"
      ],
      "text/plain": [
       "<IPython.core.display.HTML object>"
      ]
     },
     "metadata": {},
     "output_type": "display_data"
    },
    {
     "data": {
      "text/html": [
       "Run data is saved locally in <code>/media/ishfar/New Volume/Studies/Projects/Kaggle-Automated-Essay-Scoring/wandb/run-20240612_192853-wtcbmlwk</code>"
      ],
      "text/plain": [
       "<IPython.core.display.HTML object>"
      ]
     },
     "metadata": {},
     "output_type": "display_data"
    },
    {
     "data": {
      "text/html": [
       "Syncing run <strong><a href='https://wandb.ai/laplacesdemon43/Kaggle_ASE_2.0/runs/wtcbmlwk' target=\"_blank\">deberta-v3-xsmall-512-R</a></strong> to <a href='https://wandb.ai/laplacesdemon43/Kaggle_ASE_2.0' target=\"_blank\">Weights & Biases</a> (<a href='https://wandb.me/run' target=\"_blank\">docs</a>)<br/>"
      ],
      "text/plain": [
       "<IPython.core.display.HTML object>"
      ]
     },
     "metadata": {},
     "output_type": "display_data"
    },
    {
     "data": {
      "text/html": [
       " View project at <a href='https://wandb.ai/laplacesdemon43/Kaggle_ASE_2.0' target=\"_blank\">https://wandb.ai/laplacesdemon43/Kaggle_ASE_2.0</a>"
      ],
      "text/plain": [
       "<IPython.core.display.HTML object>"
      ]
     },
     "metadata": {},
     "output_type": "display_data"
    },
    {
     "data": {
      "text/html": [
       " View run at <a href='https://wandb.ai/laplacesdemon43/Kaggle_ASE_2.0/runs/wtcbmlwk' target=\"_blank\">https://wandb.ai/laplacesdemon43/Kaggle_ASE_2.0/runs/wtcbmlwk</a>"
      ],
      "text/plain": [
       "<IPython.core.display.HTML object>"
      ]
     },
     "metadata": {},
     "output_type": "display_data"
    }
   ],
   "source": [
    "wandb.login(key=os.environ.get('WANDB_API_KEY'))\n",
    "wandb.init(\n",
    "    project=WANDB_PROJECT,\n",
    "    name=WANDB_NAME,\n",
    "    save_code=True,\n",
    "    job_type=\"train\",\n",
    ")\n",
    "config = wandb.config"
   ]
  },
  {
   "cell_type": "markdown",
   "metadata": {},
   "source": [
    "## Data Preparation"
   ]
  },
  {
   "cell_type": "markdown",
   "metadata": {},
   "source": [
    "### Tokenizer"
   ]
  },
  {
   "cell_type": "code",
   "execution_count": 12,
   "metadata": {},
   "outputs": [],
   "source": [
    "class Tokenize(object):\n",
    "    def __init__(self, train, valid, tokenizer):\n",
    "        self.tokenizer = tokenizer\n",
    "        self.train = train\n",
    "        self.valid = valid\n",
    "\n",
    "    def get_dataset(self, df):\n",
    "        ds = Dataset.from_dict(\n",
    "            {\n",
    "                \"essay_id\": [e for e in df[\"essay_id\"]],\n",
    "                \"full_text\": [ft for ft in df[\"full_text\"]],\n",
    "                \"label\": [s for s in df[\"label\"]],\n",
    "            }\n",
    "        )\n",
    "        return ds\n",
    "\n",
    "    def tokenize_function(self, example):\n",
    "        tokenized_inputs = self.tokenizer(\n",
    "            example[\"full_text\"],\n",
    "            truncation=True,\n",
    "            max_length=CFG.max_length,\n",
    "            padding=\"max_length\",\n",
    "            \n",
    "        )\n",
    "        return tokenized_inputs\n",
    "\n",
    "    def __call__(self):\n",
    "        train_ds = self.get_dataset(self.train)\n",
    "        valid_ds = self.get_dataset(self.valid)\n",
    "\n",
    "        tokenized_train = train_ds.map(self.tokenize_function, batched=True)\n",
    "        tokenized_valid = valid_ds.map(self.tokenize_function, batched=True)\n",
    "\n",
    "        return tokenized_train, tokenized_valid, self.tokenizer"
   ]
  },
  {
   "cell_type": "code",
   "execution_count": 13,
   "metadata": {},
   "outputs": [
    {
     "data": {
      "text/plain": [
       "('output/model_dir/deberta-v3-xsmall_tokenizer/tokenizer_config.json',\n",
       " 'output/model_dir/deberta-v3-xsmall_tokenizer/special_tokens_map.json',\n",
       " 'output/model_dir/deberta-v3-xsmall_tokenizer/spm.model',\n",
       " 'output/model_dir/deberta-v3-xsmall_tokenizer/added_tokens.json',\n",
       " 'output/model_dir/deberta-v3-xsmall_tokenizer/tokenizer.json')"
      ]
     },
     "execution_count": 13,
     "metadata": {},
     "output_type": "execute_result"
    }
   ],
   "source": [
    "tokenizer = AutoTokenizer.from_pretrained(CFG.backbone_model)\n",
    "tokenizer.add_tokens([AddedToken(\"\\n\", normalized=False)])\n",
    "tokenizer.add_tokens([AddedToken(\" \" * 2, normalized=False)])\n",
    "tokenizer.save_pretrained(Paths.tokenizer_path.format(model_name=MODEL_NAME))"
   ]
  },
  {
   "cell_type": "markdown",
   "metadata": {},
   "source": [
    "### Data Preprocessing\n",
    "\n",
    "1. Convert `label` to be in `scores` which are processed to be in range $[0-5]$.\n",
    "2. Convert `label` data type based on whether we are doing regression or classification."
   ]
  },
  {
   "cell_type": "code",
   "execution_count": 14,
   "metadata": {},
   "outputs": [
    {
     "name": "stdout",
     "output_type": "stream",
     "text": [
      "Training dataset has shape: (17307, 4)\n"
     ]
    },
    {
     "data": {
      "text/html": [
       "<div>\n",
       "<style scoped>\n",
       "    .dataframe tbody tr th:only-of-type {\n",
       "        vertical-align: middle;\n",
       "    }\n",
       "\n",
       "    .dataframe tbody tr th {\n",
       "        vertical-align: top;\n",
       "    }\n",
       "\n",
       "    .dataframe thead th {\n",
       "        text-align: right;\n",
       "    }\n",
       "</style>\n",
       "<table border=\"1\" class=\"dataframe\">\n",
       "  <thead>\n",
       "    <tr style=\"text-align: right;\">\n",
       "      <th></th>\n",
       "      <th>essay_id</th>\n",
       "      <th>full_text</th>\n",
       "      <th>score</th>\n",
       "      <th>topic</th>\n",
       "      <th>label</th>\n",
       "    </tr>\n",
       "  </thead>\n",
       "  <tbody>\n",
       "    <tr>\n",
       "      <th>0</th>\n",
       "      <td>000d118</td>\n",
       "      <td>Many people have car where they live. The thin...</td>\n",
       "      <td>3</td>\n",
       "      <td>5</td>\n",
       "      <td>2.0</td>\n",
       "    </tr>\n",
       "    <tr>\n",
       "      <th>1</th>\n",
       "      <td>000fe60</td>\n",
       "      <td>I am a scientist at NASA that is discussing th...</td>\n",
       "      <td>3</td>\n",
       "      <td>3</td>\n",
       "      <td>2.0</td>\n",
       "    </tr>\n",
       "    <tr>\n",
       "      <th>2</th>\n",
       "      <td>001ab80</td>\n",
       "      <td>People always wish they had the same technolog...</td>\n",
       "      <td>4</td>\n",
       "      <td>0</td>\n",
       "      <td>3.0</td>\n",
       "    </tr>\n",
       "  </tbody>\n",
       "</table>\n",
       "</div>"
      ],
      "text/plain": [
       "  essay_id                                          full_text  score  topic  \\\n",
       "0  000d118  Many people have car where they live. The thin...      3      5   \n",
       "1  000fe60  I am a scientist at NASA that is discussing th...      3      3   \n",
       "2  001ab80  People always wish they had the same technolog...      4      0   \n",
       "\n",
       "   label  \n",
       "0    2.0  \n",
       "1    2.0  \n",
       "2    3.0  "
      ]
     },
     "execution_count": 14,
     "metadata": {},
     "output_type": "execute_result"
    }
   ],
   "source": [
    "data = pd.read_csv(Paths.train_csv, low_memory=False)\n",
    "print(\"Training dataset has shape:\", data.shape)\n",
    "\n",
    "data[\"label\"] = data[\"score\"].map(lambda x: x- 1)\n",
    "\n",
    "if DO_REGRESSION:\n",
    "    data[\"label\"] = data[\"label\"].astype(pd.Float32Dtype())\n",
    "else:\n",
    "    data[\"label\"] = data[\"label\"].astype(pd.Int32Dtype())\n",
    "\n",
    "data.head(3)"
   ]
  },
  {
   "cell_type": "markdown",
   "metadata": {},
   "source": [
    "### Train-Valid Splitting"
   ]
  },
  {
   "cell_type": "code",
   "execution_count": 18,
   "metadata": {},
   "outputs": [
    {
     "data": {
      "text/plain": [
       "fold\n",
       "1.0    1731\n",
       "0.0    1571\n",
       "Name: count, dtype: int64"
      ]
     },
     "execution_count": 18,
     "metadata": {},
     "output_type": "execute_result"
    }
   ],
   "source": [
    "data.fold.value_counts()"
   ]
  },
  {
   "cell_type": "code",
   "execution_count": 17,
   "metadata": {},
   "outputs": [
    {
     "data": {
      "text/html": [
       "<div>\n",
       "<style scoped>\n",
       "    .dataframe tbody tr th:only-of-type {\n",
       "        vertical-align: middle;\n",
       "    }\n",
       "\n",
       "    .dataframe tbody tr th {\n",
       "        vertical-align: top;\n",
       "    }\n",
       "\n",
       "    .dataframe thead th {\n",
       "        text-align: right;\n",
       "    }\n",
       "</style>\n",
       "<table border=\"1\" class=\"dataframe\">\n",
       "  <thead>\n",
       "    <tr style=\"text-align: right;\">\n",
       "      <th></th>\n",
       "      <th>essay_id</th>\n",
       "      <th>full_text</th>\n",
       "      <th>score</th>\n",
       "      <th>topic</th>\n",
       "      <th>label</th>\n",
       "      <th>fold</th>\n",
       "    </tr>\n",
       "  </thead>\n",
       "  <tbody>\n",
       "    <tr>\n",
       "      <th>0</th>\n",
       "      <td>000d118</td>\n",
       "      <td>Many people have car where they live. The thin...</td>\n",
       "      <td>3</td>\n",
       "      <td>5</td>\n",
       "      <td>2.0</td>\n",
       "      <td>NaN</td>\n",
       "    </tr>\n",
       "    <tr>\n",
       "      <th>1</th>\n",
       "      <td>000fe60</td>\n",
       "      <td>I am a scientist at NASA that is discussing th...</td>\n",
       "      <td>3</td>\n",
       "      <td>3</td>\n",
       "      <td>2.0</td>\n",
       "      <td>NaN</td>\n",
       "    </tr>\n",
       "    <tr>\n",
       "      <th>2</th>\n",
       "      <td>001ab80</td>\n",
       "      <td>People always wish they had the same technolog...</td>\n",
       "      <td>4</td>\n",
       "      <td>0</td>\n",
       "      <td>3.0</td>\n",
       "      <td>NaN</td>\n",
       "    </tr>\n",
       "    <tr>\n",
       "      <th>3</th>\n",
       "      <td>001bdc0</td>\n",
       "      <td>We all heard about Venus, the planet without a...</td>\n",
       "      <td>4</td>\n",
       "      <td>2</td>\n",
       "      <td>3.0</td>\n",
       "      <td>0.0</td>\n",
       "    </tr>\n",
       "    <tr>\n",
       "      <th>4</th>\n",
       "      <td>002ba53</td>\n",
       "      <td>Dear, State Senator\\n\\nThis is a letter to arg...</td>\n",
       "      <td>3</td>\n",
       "      <td>4</td>\n",
       "      <td>2.0</td>\n",
       "      <td>NaN</td>\n",
       "    </tr>\n",
       "  </tbody>\n",
       "</table>\n",
       "</div>"
      ],
      "text/plain": [
       "  essay_id                                          full_text  score  topic  \\\n",
       "0  000d118  Many people have car where they live. The thin...      3      5   \n",
       "1  000fe60  I am a scientist at NASA that is discussing th...      3      3   \n",
       "2  001ab80  People always wish they had the same technolog...      4      0   \n",
       "3  001bdc0  We all heard about Venus, the planet without a...      4      2   \n",
       "4  002ba53  Dear, State Senator\\n\\nThis is a letter to arg...      3      4   \n",
       "\n",
       "   label  fold  \n",
       "0    2.0   NaN  \n",
       "1    2.0   NaN  \n",
       "2    3.0   NaN  \n",
       "3    3.0   0.0  \n",
       "4    2.0   NaN  "
      ]
     },
     "execution_count": 17,
     "metadata": {},
     "output_type": "execute_result"
    }
   ],
   "source": [
    "skf = StratifiedGroupKFold(n_splits=CFG.num_folds, shuffle=True, random_state=CFG.seed)\n",
    "\n",
    "for i, (_, val_index) in enumerate(skf.split(data, data[\"label\"], data[\"topic\"])):\n",
    "    data.loc[val_index, \"fold\"] = i\n",
    "\n",
    "data.head()"
   ]
  },
  {
   "cell_type": "markdown",
   "metadata": {},
   "source": [
    "### Sliding Window\n",
    "\n",
    "Essays can have varying lengths. Instead of truncating, see the entire essay as windows of length `CFG.max_length` which are strided with `CFG.stride_length`."
   ]
  },
  {
   "cell_type": "code",
   "execution_count": 17,
   "metadata": {},
   "outputs": [],
   "source": [
    "def construct_new_row(old_row, text):\n",
    "    new_row = {key: old_row[key] for key in old_row.keys() if key != \"index\"}\n",
    "    new_row[\"full_text\"] = text\n",
    "    return new_row"
   ]
  },
  {
   "cell_type": "code",
   "execution_count": 18,
   "metadata": {},
   "outputs": [],
   "source": [
    "def split_tokens(tokens, stride):\n",
    "    \"\"\"Splits `tokens` into multiple sequences that have at most\n",
    "    `CFG.max_length` tokens. Uses `CFG.stride` for sliding\n",
    "    window.\n",
    "\n",
    "    Args:\n",
    "        tokens (List): List of tokens.\n",
    "        stride (int): Stride length.\n",
    "\n",
    "    Returns:\n",
    "        List[List[int]]: List of split token sequences.\n",
    "    \"\"\"\n",
    "    start = 0\n",
    "    sequence_list = []\n",
    "\n",
    "    while start < len(tokens):\n",
    "        remaining_tokens = len(tokens) - start\n",
    "\n",
    "        if remaining_tokens < CFG.max_length and start > 0:\n",
    "            start = max(0, len(tokens) - CFG.max_length)\n",
    "\n",
    "        end = min(start + CFG.max_length, len(tokens))\n",
    "        sequence_list.append(tokens[start:end])\n",
    "\n",
    "        if remaining_tokens >= CFG.max_length:\n",
    "            start += stride\n",
    "        else:\n",
    "            break\n",
    "\n",
    "    return sequence_list"
   ]
  },
  {
   "cell_type": "code",
   "execution_count": 19,
   "metadata": {},
   "outputs": [],
   "source": [
    "def sliding_window(df, tokenizer):\n",
    "    \"\"\"Splits rows of `df` so that each row's text has at most\n",
    "    `CFG.max_length` number of tokens.\n",
    "\n",
    "    Args:\n",
    "        df (pd.DataFrame): Input data frame.\n",
    "        tokenizer (_type_): Tokenizer used to encode and decode text.\n",
    "\n",
    "    Returns:\n",
    "        pd.DataFrame: Newly constructed dataframe.\n",
    "    \"\"\"\n",
    "\n",
    "    new_df = []\n",
    "\n",
    "    for _, row in tqdm(df.iterrows(), total=df.shape[0]):\n",
    "        tokens = tokenizer.encode(row[\"full_text\"], add_special_tokens=False)\n",
    "\n",
    "        if len(tokens) <= CFG.max_length:\n",
    "            new_df.append(construct_new_row(row, row[\"full_text\"]))\n",
    "        else:\n",
    "            sequence_list = split_tokens(tokens, CFG.stride_length)\n",
    "\n",
    "            for seq in sequence_list:\n",
    "                new_df.append(\n",
    "                    construct_new_row(\n",
    "                        row,\n",
    "                        tokenizer.decode(seq, skip_special_tokens=True),\n",
    "                    )\n",
    "                )\n",
    "\n",
    "    return pd.DataFrame(new_df)"
   ]
  },
  {
   "cell_type": "code",
   "execution_count": 20,
   "metadata": {},
   "outputs": [
    {
     "name": "stderr",
     "output_type": "stream",
     "text": [
      "100%|██████████| 17307/17307 [00:31<00:00, 548.07it/s]\n"
     ]
    }
   ],
   "source": [
    "if DO_SLIDING_WINDOW:\n",
    "    data = sliding_window(data, tokenizer)\n",
    "    data.head(3)"
   ]
  },
  {
   "cell_type": "markdown",
   "metadata": {},
   "source": [
    "## Metrics"
   ]
  },
  {
   "cell_type": "markdown",
   "metadata": {},
   "source": [
    "### QWK Score Calculation"
   ]
  },
  {
   "cell_type": "code",
   "execution_count": 21,
   "metadata": {},
   "outputs": [],
   "source": [
    "def compute_metrics_for_regression(eval_pred):\n",
    "    predictions, labels = eval_pred\n",
    "\n",
    "    qwk = cohen_kappa_score(\n",
    "        labels,\n",
    "        predictions.clip(0, 5).round(0),\n",
    "        weights=\"quadratic\",\n",
    "    )\n",
    "\n",
    "    return {\"qwk\": qwk}"
   ]
  },
  {
   "cell_type": "code",
   "execution_count": 22,
   "metadata": {},
   "outputs": [],
   "source": [
    "def compute_metrics_for_classification(eval_pred):\n",
    "    predictions, labels = eval_pred\n",
    "\n",
    "    qwk = cohen_kappa_score(\n",
    "        labels,\n",
    "        predictions.argmax(-1),\n",
    "        weights=\"quadratic\",\n",
    "    )\n",
    "    \n",
    "    return {\"qwk\": qwk}"
   ]
  },
  {
   "cell_type": "code",
   "execution_count": 23,
   "metadata": {},
   "outputs": [],
   "source": [
    "if DO_REGRESSION:\n",
    "    compute_metrics = compute_metrics_for_regression\n",
    "else:\n",
    "    compute_metrics = compute_metrics_for_classification"
   ]
  },
  {
   "cell_type": "markdown",
   "metadata": {},
   "source": [
    "### WandB Metric Logging"
   ]
  },
  {
   "cell_type": "code",
   "execution_count": 24,
   "metadata": {},
   "outputs": [],
   "source": [
    "def plot_wandb_bar(data, label, value, id, title):\n",
    "    table = wandb.Table(data=data, columns=[label, value])\n",
    "    wandb.log({id: wandb.plot.bar(table, label, value, title=title)})"
   ]
  },
  {
   "cell_type": "code",
   "execution_count": 25,
   "metadata": {},
   "outputs": [],
   "source": [
    "def plot_metrics(prefix, precision_data, recall_data, f1_data):\n",
    "    plot_wandb_bar(\n",
    "        f1_data,\n",
    "        \"score\",\n",
    "        \"F1 Score\",\n",
    "        f\"{prefix}/F1 Score\",\n",
    "        f\"F1 score for {prefix}\",\n",
    "    )\n",
    "    plot_wandb_bar(\n",
    "        recall_data,\n",
    "        \"score\",\n",
    "        \"Recall\",\n",
    "        f\"{prefix}/Recall\",\n",
    "        f\"Recall for {prefix}\",\n",
    "    )\n",
    "    plot_wandb_bar(\n",
    "        precision_data,\n",
    "        \"score\",\n",
    "        \"Precision\",\n",
    "        f\"{prefix}/Precision\",\n",
    "        f\"Precision for {prefix}\",\n",
    "    )"
   ]
  },
  {
   "cell_type": "code",
   "execution_count": 26,
   "metadata": {},
   "outputs": [],
   "source": [
    "def calcluate_metrics(df):\n",
    "    precision_data = [None for _ in range(CFG.num_labels)]\n",
    "    recall_data = [None for _ in range(CFG.num_labels)]\n",
    "    f1_data = [None for _ in range(CFG.num_labels)]\n",
    "\n",
    "    for label in range(CFG.num_labels):\n",
    "        tp = df.loc[(df.label == label) & (df.label == df.pred_score), \"label\"].count()\n",
    "        fp = df.loc[(df.label != label) & (df.pred_score == label), \"label\"].count()\n",
    "        tn = df.loc[(df.label != label) & (df.pred_score != label), \"label\"].count()\n",
    "        fn = df.loc[(df.label == label) & (df.pred_score != label), \"label\"].count()\n",
    "\n",
    "        precision = tp / (tp + fp)\n",
    "        recall = tp / (tp + fn)\n",
    "        f1 = (2 * precision * recall) / (precision + recall)\n",
    "\n",
    "        precision_data[label] = (label, precision)\n",
    "        recall_data[label] = (label, recall)\n",
    "        f1_data[label] = (label, f1)\n",
    "\n",
    "    return precision_data, recall_data, f1_data"
   ]
  },
  {
   "cell_type": "code",
   "execution_count": 27,
   "metadata": {},
   "outputs": [],
   "source": [
    "def log_metrics(df, prefix):\n",
    "    wandb.log(\n",
    "        {\n",
    "            f\"{prefix}/conf_mat\": wandb.plot.confusion_matrix(\n",
    "                probs=None,\n",
    "                y_true=df[\"label\"].astype(pd.Int32Dtype()),\n",
    "                preds=df[\"pred_score\"].astype(pd.Int32Dtype()),\n",
    "                class_names=list(range(CFG.num_labels)),\n",
    "            )\n",
    "        }\n",
    "    )\n",
    "\n",
    "    precision_data, recall_data, f1_data = calcluate_metrics(df)\n",
    "    plot_metrics(prefix, precision_data, recall_data, f1_data)"
   ]
  },
  {
   "cell_type": "markdown",
   "metadata": {},
   "source": [
    "## Training"
   ]
  },
  {
   "cell_type": "markdown",
   "metadata": {},
   "source": [
    "### Training Arguments"
   ]
  },
  {
   "cell_type": "code",
   "execution_count": 28,
   "metadata": {},
   "outputs": [],
   "source": [
    "training_args = TrainingArguments(\n",
    "    data_seed=CFG.seed,\n",
    "    dataloader_num_workers=CFG.num_workers,\n",
    "    evaluation_strategy=\"epoch\",\n",
    "    fp16=True,\n",
    "    gradient_checkpointing=CFG.gradient_checkpointing,\n",
    "    gradient_accumulation_steps=CFG.gradient_accumulation_steps,\n",
    "    learning_rate=CFG.lr,\n",
    "    load_best_model_at_end=True,\n",
    "    logging_first_step=True,\n",
    "    logging_steps=50,\n",
    "    lr_scheduler_type=\"linear\",\n",
    "    metric_for_best_model=\"qwk\",\n",
    "    num_train_epochs=CFG.num_epochs,\n",
    "    output_dir=Paths.output_path,\n",
    "    optim=\"adamw_torch\",\n",
    "    per_device_eval_batch_size=CFG.valid_batch_size,\n",
    "    per_device_train_batch_size=CFG.train_batch_size,\n",
    "    report_to=\"wandb\",\n",
    "    save_strategy=\"epoch\",\n",
    "    save_total_limit=1,\n",
    "    weight_decay=CFG.weight_decay,\n",
    "    warmup_ratio=CFG.warmup_ratio,\n",
    ")"
   ]
  },
  {
   "cell_type": "markdown",
   "metadata": {},
   "source": [
    "### Utility Functions"
   ]
  },
  {
   "cell_type": "code",
   "execution_count": 29,
   "metadata": {},
   "outputs": [],
   "source": [
    "def get_fold_data(fold: int) -> Tuple[pd.DataFrame, pd.DataFrame]:\n",
    "    train = data[data[\"fold\"] != fold].reset_index(drop=True)\n",
    "    valid = data[data[\"fold\"] == fold].reset_index(drop=True)\n",
    "    return train, valid"
   ]
  },
  {
   "cell_type": "code",
   "execution_count": 30,
   "metadata": {},
   "outputs": [],
   "source": [
    "def tokenize_data(train: pd.DataFrame, valid: pd.DataFrame) -> Tuple[Dataset, Dataset]:\n",
    "    tokenize = Tokenize(train, valid, tokenizer)\n",
    "    tokenized_train, tokenized_valid, _ = tokenize()\n",
    "    return tokenized_train, tokenized_valid"
   ]
  },
  {
   "cell_type": "code",
   "execution_count": 31,
   "metadata": {},
   "outputs": [],
   "source": [
    "def configure():\n",
    "    config = AutoConfig.from_pretrained(CFG.backbone_model)\n",
    "    \n",
    "    if DO_REGRESSION:\n",
    "        config.attention_probs_dropout_prob = 0.0\n",
    "        config.hidden_dropout_prob = 0.0\n",
    "        config.num_labels = 1\n",
    "    else:\n",
    "        config.num_labels = CFG.num_labels\n",
    "\n",
    "    return config"
   ]
  },
  {
   "cell_type": "code",
   "execution_count": 32,
   "metadata": {},
   "outputs": [],
   "source": [
    "def get_model(config):\n",
    "    backbone_model = AutoModelForSequenceClassification.from_pretrained(\n",
    "        CFG.backbone_model,\n",
    "        config=config,\n",
    "    )\n",
    "    backbone_model.resize_token_embeddings(len(tokenizer))\n",
    "    return backbone_model"
   ]
  },
  {
   "cell_type": "code",
   "execution_count": 33,
   "metadata": {},
   "outputs": [],
   "source": [
    "def post_process_predictions(predictions0):\n",
    "    if DO_REGRESSION:\n",
    "        predictions = predictions0.clip(0, 5).round(0)\n",
    "    else:\n",
    "        predictions = predictions0.argmax(axis=1)\n",
    "\n",
    "    return predictions"
   ]
  },
  {
   "cell_type": "code",
   "execution_count": 34,
   "metadata": {},
   "outputs": [],
   "source": [
    "def plot_confusion_matrxi(y_true, y_pred):\n",
    "    cm = confusion_matrix(y_true, y_pred, labels=[x for x in range(CFG.num_labels)])\n",
    "    draw_cm = ConfusionMatrixDisplay(\n",
    "        confusion_matrix=cm, display_labels=[x for x in range(CFG.num_labels)]\n",
    "    )\n",
    "    draw_cm.plot()\n",
    "    plt.show()"
   ]
  },
  {
   "cell_type": "code",
   "execution_count": 35,
   "metadata": {},
   "outputs": [],
   "source": [
    "def save_model_and_tokenizer(fold: int, trainer: Trainer):\n",
    "    trainer.save_model(Paths.model_path.format(model_name=MODEL_NAME, fold=fold))"
   ]
  },
  {
   "cell_type": "code",
   "execution_count": 36,
   "metadata": {},
   "outputs": [],
   "source": [
    "def save_oof_predictions(fold, valid, logits, y_pred):\n",
    "    if DO_REGRESSION:\n",
    "        valid[\"logit\"] = logits\n",
    "    else:\n",
    "        COLS = [f\"p{x}\" for x in range(CFG.num_labels)]\n",
    "        valid[COLS] = logits\n",
    "\n",
    "    valid[\"pred_score\"] = y_pred\n",
    "    valid.to_csv(Paths.oof_path.format(fold=fold), index=False)\n",
    "    return valid"
   ]
  },
  {
   "cell_type": "markdown",
   "metadata": {},
   "source": [
    "### CV Training Fold Loop"
   ]
  },
  {
   "cell_type": "code",
   "execution_count": 37,
   "metadata": {},
   "outputs": [
    {
     "data": {
      "application/vnd.jupyter.widget-view+json": {
       "model_id": "7c43bc998c334383b1df0990bc5ed0a8",
       "version_major": 2,
       "version_minor": 0
      },
      "text/plain": [
       "Map:   0%|          | 0/18959 [00:00<?, ? examples/s]"
      ]
     },
     "metadata": {},
     "output_type": "display_data"
    },
    {
     "data": {
      "application/vnd.jupyter.widget-view+json": {
       "model_id": "e8e7e7291bdb407099ccca909591c413",
       "version_major": 2,
       "version_minor": 0
      },
      "text/plain": [
       "Map:   0%|          | 0/3788 [00:00<?, ? examples/s]"
      ]
     },
     "metadata": {},
     "output_type": "display_data"
    },
    {
     "name": "stderr",
     "output_type": "stream",
     "text": [
      "Some weights of DebertaV2ForSequenceClassification were not initialized from the model checkpoint at microsoft/deberta-v3-xsmall and are newly initialized: ['classifier.bias', 'classifier.weight', 'pooler.dense.bias', 'pooler.dense.weight']\n",
      "You should probably TRAIN this model on a down-stream task to be able to use it for predictions and inference.\n"
     ]
    },
    {
     "data": {
      "application/vnd.jupyter.widget-view+json": {
       "model_id": "8861de433d0842c9bd1ae1afd15dac70",
       "version_major": 2,
       "version_minor": 0
      },
      "text/plain": [
       "  0%|          | 0/593 [00:00<?, ?it/s]"
      ]
     },
     "metadata": {},
     "output_type": "display_data"
    },
    {
     "name": "stdout",
     "output_type": "stream",
     "text": [
      "{'loss': 6.4536, 'grad_norm': inf, 'learning_rate': 0.0, 'epoch': 0.0}\n",
      "{'loss': 4.7173, 'grad_norm': 22.36284637451172, 'learning_rate': 9.3015332197615e-06, 'epoch': 0.08}\n",
      "{'loss': 1.1712, 'grad_norm': 23.783308029174805, 'learning_rate': 8.449744463373084e-06, 'epoch': 0.17}\n",
      "{'loss': 0.6045, 'grad_norm': 4.506558895111084, 'learning_rate': 7.597955706984669e-06, 'epoch': 0.25}\n",
      "{'loss': 0.4936, 'grad_norm': 20.145963668823242, 'learning_rate': 6.746166950596252e-06, 'epoch': 0.34}\n",
      "{'loss': 0.4759, 'grad_norm': 2.9954004287719727, 'learning_rate': 5.8943781942078375e-06, 'epoch': 0.42}\n",
      "{'loss': 0.4609, 'grad_norm': 10.273938179016113, 'learning_rate': 5.042589437819421e-06, 'epoch': 0.51}\n",
      "{'loss': 0.4821, 'grad_norm': 6.174544811248779, 'learning_rate': 4.190800681431005e-06, 'epoch': 0.59}\n",
      "{'loss': 0.4684, 'grad_norm': 10.411803245544434, 'learning_rate': 3.3390119250425893e-06, 'epoch': 0.67}\n",
      "{'loss': 0.4593, 'grad_norm': 13.592619895935059, 'learning_rate': 2.487223168654174e-06, 'epoch': 0.76}\n",
      "{'loss': 0.4374, 'grad_norm': 10.261824607849121, 'learning_rate': 1.635434412265758e-06, 'epoch': 0.84}\n",
      "{'loss': 0.4486, 'grad_norm': 13.337233543395996, 'learning_rate': 7.836456558773426e-07, 'epoch': 0.93}\n"
     ]
    },
    {
     "data": {
      "application/vnd.jupyter.widget-view+json": {
       "model_id": "bd7beae79575463ebbc544b19b5ee9d7",
       "version_major": 2,
       "version_minor": 0
      },
      "text/plain": [
       "  0%|          | 0/119 [00:00<?, ?it/s]"
      ]
     },
     "metadata": {},
     "output_type": "display_data"
    },
    {
     "name": "stdout",
     "output_type": "stream",
     "text": [
      "{'eval_loss': 0.5077040791511536, 'eval_qwk': 0.7385303171557158, 'eval_runtime': 11.4256, 'eval_samples_per_second': 331.537, 'eval_steps_per_second': 10.415, 'epoch': 1.0}\n",
      "{'train_runtime': 208.0574, 'train_samples_per_second': 91.124, 'train_steps_per_second': 2.85, 'train_loss': 0.8970216056347697, 'epoch': 1.0}\n"
     ]
    },
    {
     "data": {
      "application/vnd.jupyter.widget-view+json": {
       "model_id": "6937480d7b6345198133753910bfc7aa",
       "version_major": 2,
       "version_minor": 0
      },
      "text/plain": [
       "  0%|          | 0/119 [00:00<?, ?it/s]"
      ]
     },
     "metadata": {},
     "output_type": "display_data"
    }
   ],
   "source": [
    "scores = []\n",
    "\n",
    "for fold in CFG.train_folds:\n",
    "    train, valid = get_fold_data(fold)\n",
    "\n",
    "    tokenized_train, tokenized_valid = tokenize_data(train, valid)\n",
    "\n",
    "    config = configure()\n",
    "\n",
    "    backbone_model = get_model(config)\n",
    "\n",
    "    data_collator = DataCollatorWithPadding(tokenizer=tokenizer)\n",
    "\n",
    "    trainer = Trainer(\n",
    "        model=backbone_model,\n",
    "        args=training_args,\n",
    "        train_dataset=tokenized_train,\n",
    "        eval_dataset=tokenized_valid,\n",
    "        data_collator=data_collator,\n",
    "        tokenizer=tokenizer,\n",
    "        compute_metrics=compute_metrics,\n",
    "    )\n",
    "\n",
    "    trainer.train()\n",
    "\n",
    "    y_true = valid[\"label\"].values\n",
    "    logits = trainer.predict(tokenized_valid).predictions\n",
    "    y_pred = post_process_predictions(logits)\n",
    "\n",
    "    save_model_and_tokenizer(fold, trainer)\n",
    "\n",
    "    oof_df = save_oof_predictions(fold, valid, logits, y_pred)\n",
    "    log_metrics(oof_df, f\"Fold {fold}\")\n",
    "    \n",
    "    score = compute_metrics((oof_df[\"pred_score\"], oof_df[\"label\"]))\n",
    "    scores.append(score)\n",
    "\n",
    "    del (\n",
    "        train,\n",
    "        valid,\n",
    "        tokenized_train,\n",
    "        tokenized_valid,\n",
    "        backbone_model,\n",
    "        data_collator,\n",
    "        trainer,\n",
    "        y_pred,\n",
    "        y_true,\n",
    "        logits,\n",
    "    )\n",
    "    gc.collect()\n",
    "    torch.cuda.empty_cache()\n",
    "    time.sleep(5)"
   ]
  },
  {
   "cell_type": "code",
   "execution_count": 38,
   "metadata": {},
   "outputs": [
    {
     "data": {
      "text/plain": [
       "count    3788.000000\n",
       "mean        3.027983\n",
       "std         1.177986\n",
       "min         1.000000\n",
       "25%         2.000000\n",
       "50%         3.000000\n",
       "75%         4.000000\n",
       "max         6.000000\n",
       "Name: score, dtype: float64"
      ]
     },
     "execution_count": 38,
     "metadata": {},
     "output_type": "execute_result"
    }
   ],
   "source": [
    "oof_df[\"score\"].describe()"
   ]
  },
  {
   "cell_type": "markdown",
   "metadata": {},
   "source": [
    "## Overall"
   ]
  },
  {
   "cell_type": "markdown",
   "metadata": {},
   "source": [
    "### Logging Metrics"
   ]
  },
  {
   "cell_type": "code",
   "execution_count": 39,
   "metadata": {},
   "outputs": [
    {
     "data": {
      "text/plain": [
       "0       3.0\n",
       "1       3.0\n",
       "2       1.0\n",
       "3       1.0\n",
       "4       1.0\n",
       "       ... \n",
       "3783    1.0\n",
       "3784    2.0\n",
       "3785    1.0\n",
       "3786    1.0\n",
       "3787    1.0\n",
       "Name: pred_score, Length: 3788, dtype: float32"
      ]
     },
     "execution_count": 39,
     "metadata": {},
     "output_type": "execute_result"
    }
   ],
   "source": [
    "oof_df[\"pred_score\"]"
   ]
  },
  {
   "cell_type": "code",
   "execution_count": 40,
   "metadata": {},
   "outputs": [
    {
     "name": "stdout",
     "output_type": "stream",
     "text": [
      "Overall QWK score before thresholding: 0.7385303171557158\n"
     ]
    }
   ],
   "source": [
    "log_metrics(oof_df, \"Overall\")\n",
    "\n",
    "table = wandb.Table(data=scores, columns=[\"score\", \"QWK\"])\n",
    "wandb.log(\n",
    "    {\n",
    "        \"Overall/QWK_all_folds\": wandb.plot.bar(\n",
    "            table,\n",
    "            \"score\",\n",
    "            \"QWK\",\n",
    "            title=\"Fold wise QWK Scores\",\n",
    "        )\n",
    "    }\n",
    ")\n",
    "\n",
    "score = compute_metrics((oof_df[\"pred_score\"], oof_df[\"label\"]))[\"qwk\"]\n",
    "print(f\"Overall QWK score before thresholding: {score}\")\n",
    "wandb.log({\"CV/qwk_score\": score})"
   ]
  },
  {
   "cell_type": "markdown",
   "metadata": {},
   "source": [
    "### Confusion Matrix"
   ]
  },
  {
   "cell_type": "code",
   "execution_count": 41,
   "metadata": {},
   "outputs": [
    {
     "data": {
      "image/png": "[encoded data removed]",
      "text/plain": [
       "<Figure size 640x480 with 2 Axes>"
      ]
     },
     "metadata": {},
     "output_type": "display_data"
    }
   ],
   "source": [
    "cm = confusion_matrix(oof_df[\"label\"], oof_df[\"pred_score\"])\n",
    "disp = ConfusionMatrixDisplay(confusion_matrix=cm, display_labels=list(range(CFG.num_labels)))\n",
    "\n",
    "# Plot the confusion matrix\n",
    "disp.plot(cmap='viridis', values_format='d')\n",
    "plt.title(\"Confusion Matrix\")\n",
    "plt.show()"
   ]
  },
  {
   "cell_type": "markdown",
   "metadata": {},
   "source": [
    "## Optimal Thresholds"
   ]
  },
  {
   "cell_type": "code",
   "execution_count": 47,
   "metadata": {},
   "outputs": [],
   "source": [
    "best, threshold, xs, ys = find_thresholds(oof_df[\"label\"], oof_df[\"logit\"], steps=500)"
   ]
  },
  {
   "cell_type": "code",
   "execution_count": 48,
   "metadata": {},
   "outputs": [
    {
     "data": {
      "image/png": "[encoded data removed]",
      "text/plain": [
       "<Figure size 1500x300 with 5 Axes>"
      ]
     },
     "metadata": {},
     "output_type": "display_data"
    }
   ],
   "source": [
    "diff = 0.5\n",
    "nrows, ncols = 1, 5  # Define grid for 5 subplots (1 row, 5 columns)\n",
    "\n",
    "fig, axes = plt.subplots(nrows, ncols, figsize=(15, 3))  # Create figure and subplots\n",
    "\n",
    "# Loop through data and plot on each subplot\n",
    "for k in range(5):\n",
    "    ax = axes.flat[k]  # Access each subplot using flattened axes\n",
    "    ax.scatter(xs[k], ys[k], s=3)\n",
    "    m = k + 1.5\n",
    "    ax.set_xlim((m - diff, m + diff))\n",
    "    i = np.where((np.array(xs[k]) > m - diff) & (np.array(xs[k]) < m + diff))[0]\n",
    "    mn = np.min(np.array(ys[k])[i])\n",
    "    mx = np.max(np.array(ys[k])[i])\n",
    "    ax.set_ylim((mn, mx))\n",
    "\n",
    "    ax.plot(\n",
    "        [threshold[k], threshold[k]],\n",
    "        [mn, mx],\n",
    "        \"--\",\n",
    "        color=\"black\",\n",
    "        label=\"optimal threshold\",\n",
    "    )\n",
    "\n",
    "    ax.set_title(f\"Optimal Thresh: {threshold[k]:4.3f}\", size=12)  # Adjust title size\n",
    "    ax.set_xlabel(f\"Threshold between {k+1} and {k+2}\", size=10)\n",
    "    ax.set_ylabel(\"QWK CV score\", size=10)\n",
    "\n",
    "# Common legend for all subplots\n",
    "plt.suptitle(\"Optimal Thresholds\", size=12)\n",
    "plt.tight_layout()  # Adjust spacing between subplots\n",
    "plt.show()"
   ]
  },
  {
   "cell_type": "code",
   "execution_count": 44,
   "metadata": {},
   "outputs": [],
   "source": [
    "with open(Paths.threshold_path, \"wb\") as file:\n",
    "    pkl.dump(threshold, file)"
   ]
  },
  {
   "cell_type": "markdown",
   "metadata": {},
   "source": [
    "## Wrapping up"
   ]
  },
  {
   "cell_type": "code",
   "execution_count": 45,
   "metadata": {},
   "outputs": [
    {
     "data": {
      "application/vnd.jupyter.widget-view+json": {
       "model_id": "1bab37d0d25b4700956f537dd6892be3",
       "version_major": 2,
       "version_minor": 0
      },
      "text/plain": [
       "VBox(children=(Label(value='0.082 MB of 0.082 MB uploaded\\r'), FloatProgress(value=1.0, max=1.0)))"
      ]
     },
     "metadata": {},
     "output_type": "display_data"
    },
    {
     "data": {
      "text/html": [
       "<style>\n",
       "    table.wandb td:nth-child(1) { padding: 0 10px; text-align: left ; width: auto;} td:nth-child(2) {text-align: left ; width: 100%}\n",
       "    .wandb-row { display: flex; flex-direction: row; flex-wrap: wrap; justify-content: flex-start; width: 100% }\n",
       "    .wandb-col { display: flex; flex-direction: column; flex-basis: 100%; flex: 1; padding: 10px; }\n",
       "    </style>\n",
       "<div class=\"wandb-row\"><div class=\"wandb-col\"><h3>Run history:</h3><br/><table class=\"wandb\"><tr><td>CV/qwk_score</td><td>▁</td></tr><tr><td>eval/loss</td><td>▁</td></tr><tr><td>eval/qwk</td><td>▁</td></tr><tr><td>eval/runtime</td><td>▁</td></tr><tr><td>eval/samples_per_second</td><td>▁</td></tr><tr><td>eval/steps_per_second</td><td>▁</td></tr><tr><td>train/epoch</td><td>▁▂▂▃▃▄▅▅▆▆▇███</td></tr><tr><td>train/global_step</td><td>▁▂▂▃▃▄▅▅▆▆▇▇████████████</td></tr><tr><td>train/grad_norm</td><td> ██▂▇▁▃▂▃▅▃▄</td></tr><tr><td>train/learning_rate</td><td>▁█▇▇▆▅▅▄▄▃▂▂</td></tr><tr><td>train/loss</td><td>█▆▂▁▁▁▁▁▁▁▁▁</td></tr></table><br/></div><div class=\"wandb-col\"><h3>Run summary:</h3><br/><table class=\"wandb\"><tr><td>CV/qwk_score</td><td>0.73853</td></tr><tr><td>eval/loss</td><td>0.5077</td></tr><tr><td>eval/qwk</td><td>0.73853</td></tr><tr><td>eval/runtime</td><td>11.4256</td></tr><tr><td>eval/samples_per_second</td><td>331.537</td></tr><tr><td>eval/steps_per_second</td><td>10.415</td></tr><tr><td>total_flos</td><td>1248903396897792.0</td></tr><tr><td>train/epoch</td><td>1.0</td></tr><tr><td>train/global_step</td><td>593</td></tr><tr><td>train/grad_norm</td><td>13.33723</td></tr><tr><td>train/learning_rate</td><td>0.0</td></tr><tr><td>train/loss</td><td>0.4486</td></tr><tr><td>train_loss</td><td>0.89702</td></tr><tr><td>train_runtime</td><td>208.0574</td></tr><tr><td>train_samples_per_second</td><td>91.124</td></tr><tr><td>train_steps_per_second</td><td>2.85</td></tr></table><br/></div></div>"
      ],
      "text/plain": [
       "<IPython.core.display.HTML object>"
      ]
     },
     "metadata": {},
     "output_type": "display_data"
    },
    {
     "data": {
      "text/html": [
       " View run <strong style=\"color:#cdcd00\">deberta-v3-xsmall-512-R</strong> at: <a href='https://wandb.ai/laplacesdemon43/Kaggle_ASE_2.0/runs/wtcbmlwk' target=\"_blank\">https://wandb.ai/laplacesdemon43/Kaggle_ASE_2.0/runs/wtcbmlwk</a><br/> View project at: <a href='https://wandb.ai/laplacesdemon43/Kaggle_ASE_2.0' target=\"_blank\">https://wandb.ai/laplacesdemon43/Kaggle_ASE_2.0</a><br/>Synced 6 W&B file(s), 9 media file(s), 9 artifact file(s) and 1 other file(s)"
      ],
      "text/plain": [
       "<IPython.core.display.HTML object>"
      ]
     },
     "metadata": {},
     "output_type": "display_data"
    },
    {
     "data": {
      "text/html": [
       "Find logs at: <code>./wandb/run-20240612_192853-wtcbmlwk/logs</code>"
      ],
      "text/plain": [
       "<IPython.core.display.HTML object>"
      ]
     },
     "metadata": {},
     "output_type": "display_data"
    }
   ],
   "source": [
    "wandb.finish()"
   ]
  },
  {
   "cell_type": "code",
   "execution_count": 46,
   "metadata": {},
   "outputs": [
    {
     "data": {
      "text/html": [
       "<div>\n",
       "<style scoped>\n",
       "    .dataframe tbody tr th:only-of-type {\n",
       "        vertical-align: middle;\n",
       "    }\n",
       "\n",
       "    .dataframe tbody tr th {\n",
       "        vertical-align: top;\n",
       "    }\n",
       "\n",
       "    .dataframe thead th {\n",
       "        text-align: right;\n",
       "    }\n",
       "</style>\n",
       "<table border=\"1\" class=\"dataframe\">\n",
       "  <thead>\n",
       "    <tr style=\"text-align: right;\">\n",
       "      <th></th>\n",
       "      <th>essay_id</th>\n",
       "      <th>full_text</th>\n",
       "      <th>score</th>\n",
       "      <th>topic</th>\n",
       "      <th>label</th>\n",
       "      <th>fold</th>\n",
       "      <th>pred</th>\n",
       "      <th>pred_score</th>\n",
       "    </tr>\n",
       "  </thead>\n",
       "  <tbody>\n",
       "    <tr>\n",
       "      <th>0</th>\n",
       "      <td>001bdc0</td>\n",
       "      <td>We all heard about Venus, the planet without a...</td>\n",
       "      <td>4</td>\n",
       "      <td>2</td>\n",
       "      <td>3.0</td>\n",
       "      <td>0.0</td>\n",
       "      <td>3.316406</td>\n",
       "      <td>3.0</td>\n",
       "    </tr>\n",
       "    <tr>\n",
       "      <th>1</th>\n",
       "      <td>001bdc0</td>\n",
       "      <td>but what if scientist project the futur into t...</td>\n",
       "      <td>4</td>\n",
       "      <td>2</td>\n",
       "      <td>3.0</td>\n",
       "      <td>0.0</td>\n",
       "      <td>3.341797</td>\n",
       "      <td>3.0</td>\n",
       "    </tr>\n",
       "    <tr>\n",
       "      <th>2</th>\n",
       "      <td>0036253</td>\n",
       "      <td>The challenge of exploring Venus\\n\\nThis stori...</td>\n",
       "      <td>2</td>\n",
       "      <td>2</td>\n",
       "      <td>1.0</td>\n",
       "      <td>0.0</td>\n",
       "      <td>1.178711</td>\n",
       "      <td>1.0</td>\n",
       "    </tr>\n",
       "    <tr>\n",
       "      <th>3</th>\n",
       "      <td>0079f2a</td>\n",
       "      <td>In the text the author uses facts that people ...</td>\n",
       "      <td>2</td>\n",
       "      <td>2</td>\n",
       "      <td>1.0</td>\n",
       "      <td>0.0</td>\n",
       "      <td>0.822754</td>\n",
       "      <td>1.0</td>\n",
       "    </tr>\n",
       "    <tr>\n",
       "      <th>4</th>\n",
       "      <td>0087059</td>\n",
       "      <td>''The Challenge of Exploring Venus'' is a info...</td>\n",
       "      <td>1</td>\n",
       "      <td>2</td>\n",
       "      <td>0.0</td>\n",
       "      <td>0.0</td>\n",
       "      <td>0.752930</td>\n",
       "      <td>1.0</td>\n",
       "    </tr>\n",
       "  </tbody>\n",
       "</table>\n",
       "</div>"
      ],
      "text/plain": [
       "  essay_id                                          full_text  score  topic  \\\n",
       "0  001bdc0  We all heard about Venus, the planet without a...      4      2   \n",
       "1  001bdc0  but what if scientist project the futur into t...      4      2   \n",
       "2  0036253  The challenge of exploring Venus\\n\\nThis stori...      2      2   \n",
       "3  0079f2a  In the text the author uses facts that people ...      2      2   \n",
       "4  0087059  ''The Challenge of Exploring Venus'' is a info...      1      2   \n",
       "\n",
       "   label  fold      pred  pred_score  \n",
       "0    3.0   0.0  3.316406         3.0  \n",
       "1    3.0   0.0  3.341797         3.0  \n",
       "2    1.0   0.0  1.178711         1.0  \n",
       "3    1.0   0.0  0.822754         1.0  \n",
       "4    0.0   0.0  0.752930         1.0  "
      ]
     },
     "execution_count": 46,
     "metadata": {},
     "output_type": "execute_result"
    }
   ],
   "source": [
    "oof_df.head()"
   ]
  }
 ],
 "metadata": {
  "kernelspec": {
   "display_name": "venv",
   "language": "python",
   "name": "python3"
  },
  "language_info": {
   "codemirror_mode": {
    "name": "ipython",
    "version": 3
   },
   "file_extension": ".py",
   "mimetype": "text/x-python",
   "name": "python",
   "nbconvert_exporter": "python",
   "pygments_lexer": "ipython3",
   "version": "3.11.8"
  }
 },
 "nbformat": 4,
 "nbformat_minor": 2
}
