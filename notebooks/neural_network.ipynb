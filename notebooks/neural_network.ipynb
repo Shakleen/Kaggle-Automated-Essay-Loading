{
 "cells": [
  {
   "cell_type": "markdown",
   "metadata": {},
   "source": [
    "# 🤗 HuggingFace Neural Network Notebook\n",
    "\n",
    "Sources:\n",
    "1. [Originally based on cdoette's notebook](https://www.kaggle.com/code/cdeotte/deberta-v3-small-starter-cv-0-820-lb-0-800?scriptVersionId=174239814)"
   ]
  },
  {
   "cell_type": "markdown",
   "metadata": {},
   "source": [
    "## Version History"
   ]
  },
  {
   "cell_type": "markdown",
   "metadata": {},
   "source": [
    "### 1.0\n",
    "Base implementation following [cdoette's notebook](https://www.kaggle.com/code/cdeotte/deberta-v3-small-starter-cv-0-820-lb-0-800?scriptVersionId=174239814)\n",
    "\n",
    "### 2.0\n",
    "1. Sliding window technique\n",
    "2. wandb logging"
   ]
  },
  {
   "cell_type": "markdown",
   "metadata": {},
   "source": [
    "## Setup"
   ]
  },
  {
   "cell_type": "markdown",
   "metadata": {},
   "source": [
    "### Environment Variables"
   ]
  },
  {
   "cell_type": "code",
   "execution_count": 1,
   "metadata": {},
   "outputs": [
    {
     "name": "stdout",
     "output_type": "stream",
     "text": [
      "env: TOKENIZERS_PARALLELISM=true\n",
      "env: WANDB_NOTEBOOK_NAME=\"neural_network.ipynb\"\n"
     ]
    }
   ],
   "source": [
    "%env TOKENIZERS_PARALLELISM=true\n",
    "%env WANDB_NOTEBOOK_NAME=\"neural_network.ipynb\""
   ]
  },
  {
   "cell_type": "markdown",
   "metadata": {},
   "source": [
    "### Import Libraries"
   ]
  },
  {
   "cell_type": "code",
   "execution_count": 2,
   "metadata": {},
   "outputs": [],
   "source": [
    "import gc\n",
    "import os\n",
    "import random\n",
    "import time\n",
    "from typing import Tuple, List\n",
    "import warnings\n",
    "import pickle as pkl\n",
    "\n",
    "from dotenv import load_dotenv\n",
    "import wandb\n",
    "from tqdm import tqdm\n",
    "import torch\n",
    "import pandas as pd, numpy as np\n",
    "import matplotlib.pyplot as plt\n",
    "from transformers import (\n",
    "    AutoTokenizer,\n",
    "    AutoModelForSequenceClassification,\n",
    "    AutoConfig,\n",
    "    TrainingArguments,\n",
    "    Trainer,\n",
    "    DataCollatorWithPadding,\n",
    "    PreTrainedTokenizer,\n",
    ")\n",
    "from datasets import Dataset\n",
    "from tokenizers import AddedToken\n",
    "from sklearn.model_selection import StratifiedGroupKFold\n",
    "from sklearn.metrics import (\n",
    "    confusion_matrix,\n",
    "    ConfusionMatrixDisplay,\n",
    "    cohen_kappa_score,\n",
    ")"
   ]
  },
  {
   "cell_type": "code",
   "execution_count": 3,
   "metadata": {},
   "outputs": [
    {
     "data": {
      "text/plain": [
       "True"
      ]
     },
     "execution_count": 3,
     "metadata": {},
     "output_type": "execute_result"
    }
   ],
   "source": [
    "os.chdir(\"../\")\n",
    "warnings.simplefilter('ignore')\n",
    "load_dotenv()"
   ]
  },
  {
   "cell_type": "code",
   "execution_count": 4,
   "metadata": {},
   "outputs": [],
   "source": [
    "from lib.criterion.metrics import log_metrics\n",
    "from lib.utils.find_threshold import find_thresholds"
   ]
  },
  {
   "cell_type": "markdown",
   "metadata": {},
   "source": [
    "### Paths"
   ]
  },
  {
   "cell_type": "code",
   "execution_count": 5,
   "metadata": {},
   "outputs": [],
   "source": [
    "class Paths:\n",
    "    # Competition data with added topic column\n",
    "    train_csv: str = \"data/processed/train.csv\"\n",
    "    test_csv: str = \"data/processed/test.csv\"\n",
    "\n",
    "    # Output path\n",
    "    output_path: str = \"output/model_dir\"\n",
    "    model_path: str = os.path.join(output_path, \"{model_name}_fold_{fold}\")\n",
    "    tokenizer_path: str =  os.path.join(output_path, \"{model_name}_tokenizer\")\n",
    "    oof_path: str = os.path.join(output_path, \"valid_df_fold_{fold}.csv\")\n",
    "    threshold_path: str = os.path.join(output_path, \"threshold.pkl\")"
   ]
  },
  {
   "cell_type": "markdown",
   "metadata": {},
   "source": [
    "### Configurations"
   ]
  },
  {
   "cell_type": "code",
   "execution_count": 6,
   "metadata": {},
   "outputs": [],
   "source": [
    "DEBUG = False\n",
    "DO_SLIDING_WINDOW = True\n",
    "DO_REGRESSION = True"
   ]
  },
  {
   "cell_type": "code",
   "execution_count": 7,
   "metadata": {},
   "outputs": [],
   "source": [
    "class CFG:\n",
    "    backbone_model: str = \"microsoft/deberta-v3-xsmall\"\n",
    "    gradient_accumulation_steps: int = 1\n",
    "    gradient_checkpointing: bool = False\n",
    "    lr: float = 1e-5\n",
    "    max_length: int = 512\n",
    "    n_splits: int = 7\n",
    "    num_labels: int = 6\n",
    "    num_folds: int = 7\n",
    "    num_epochs: int = 3\n",
    "    num_workers: int = 6\n",
    "    seed: int = 20\n",
    "    stride_length: int = 384\n",
    "    train_batch_size: int = 32\n",
    "    valid_batch_size: int = 32\n",
    "    weight_decay: float = 0.01\n",
    "    warmup_ratio: float = 0.01\n",
    "    train_folds: List[int] = list(range(num_folds))"
   ]
  },
  {
   "cell_type": "code",
   "execution_count": 8,
   "metadata": {},
   "outputs": [],
   "source": [
    "if DEBUG:\n",
    "    CFG.num_epochs = 1\n",
    "    CFG.train_folds = [0]"
   ]
  },
  {
   "cell_type": "code",
   "execution_count": 9,
   "metadata": {},
   "outputs": [],
   "source": [
    "MODEL_NAME = CFG.backbone_model.split(\"/\")[-1]"
   ]
  },
  {
   "cell_type": "markdown",
   "metadata": {},
   "source": [
    "### Setting Random Seed"
   ]
  },
  {
   "cell_type": "code",
   "execution_count": 10,
   "metadata": {},
   "outputs": [],
   "source": [
    "def seed_everything() -> None:\n",
    "    \"\"\"Seed everything to ensure reproducibility\n",
    "\n",
    "    Sources:\n",
    "    1. https://www.kaggle.com/code/alejopaullier/aes-2-multi-class-classification-train\n",
    "    2. https://www.kaggle.com/code/hashidoyuto/deberta-baseline-aes2-0-train\n",
    "    \"\"\"\n",
    "    random.seed(CFG.seed)\n",
    "    os.environ[\"PYTHONHASHCFG.SEED\"] = str(CFG.seed)\n",
    "    np.random.seed(CFG.seed)\n",
    "    torch.manual_seed(CFG.seed)\n",
    "    torch.cuda.manual_seed(CFG.seed)\n",
    "    torch.backends.cudnn.deterministic = True\n",
    "    torch.backends.cudnn.benchmark = True\n",
    "\n",
    "seed_everything()"
   ]
  },
  {
   "cell_type": "markdown",
   "metadata": {},
   "source": [
    "### WandB setup"
   ]
  },
  {
   "cell_type": "code",
   "execution_count": 11,
   "metadata": {},
   "outputs": [],
   "source": [
    "WANDB_PROJECT = \"Kaggle_ASE_2.0\"\n",
    "model_name = CFG.backbone_model.split(\"/\")[-1]\n",
    "type = \"R\" if DO_REGRESSION else \"C\"\n",
    "WANDB_NAME = f\"{model_name}-{CFG.max_length}-{type}\""
   ]
  },
  {
   "cell_type": "code",
   "execution_count": 12,
   "metadata": {},
   "outputs": [
    {
     "name": "stderr",
     "output_type": "stream",
     "text": [
      "\u001b[34m\u001b[1mwandb\u001b[0m: \u001b[33mWARNING\u001b[0m WANDB_NOTEBOOK_NAME should be a path to a notebook file, couldn't find \"neural_network.ipynb\".\n",
      "\u001b[34m\u001b[1mwandb\u001b[0m: Currently logged in as: \u001b[33mshakleenishfar\u001b[0m (\u001b[33mlaplacesdemon43\u001b[0m). Use \u001b[1m`wandb login --relogin`\u001b[0m to force relogin\n",
      "\u001b[34m\u001b[1mwandb\u001b[0m: \u001b[33mWARNING\u001b[0m If you're specifying your api key in code, ensure this code is not shared publicly.\n",
      "\u001b[34m\u001b[1mwandb\u001b[0m: \u001b[33mWARNING\u001b[0m Consider setting the WANDB_API_KEY environment variable, or running `wandb login` from the command line.\n",
      "\u001b[34m\u001b[1mwandb\u001b[0m: Appending key for api.wandb.ai to your netrc file: /home/ishfar/.netrc\n"
     ]
    },
    {
     "data": {
      "text/html": [
       "wandb version 0.17.1 is available!  To upgrade, please run:\n",
       " $ pip install wandb --upgrade"
      ],
      "text/plain": [
       "<IPython.core.display.HTML object>"
      ]
     },
     "metadata": {},
     "output_type": "display_data"
    },
    {
     "data": {
      "text/html": [
       "Tracking run with wandb version 0.16.6"
      ],
      "text/plain": [
       "<IPython.core.display.HTML object>"
      ]
     },
     "metadata": {},
     "output_type": "display_data"
    },
    {
     "data": {
      "text/html": [
       "Run data is saved locally in <code>/media/ishfar/New Volume/Studies/Projects/Kaggle-Automated-Essay-Scoring/wandb/run-20240612_174257-cur23xbn</code>"
      ],
      "text/plain": [
       "<IPython.core.display.HTML object>"
      ]
     },
     "metadata": {},
     "output_type": "display_data"
    },
    {
     "data": {
      "text/html": [
       "Syncing run <strong><a href='https://wandb.ai/laplacesdemon43/Kaggle_ASE_2.0/runs/cur23xbn' target=\"_blank\">deberta-v3-xsmall-512-R</a></strong> to <a href='https://wandb.ai/laplacesdemon43/Kaggle_ASE_2.0' target=\"_blank\">Weights & Biases</a> (<a href='https://wandb.me/run' target=\"_blank\">docs</a>)<br/>"
      ],
      "text/plain": [
       "<IPython.core.display.HTML object>"
      ]
     },
     "metadata": {},
     "output_type": "display_data"
    },
    {
     "data": {
      "text/html": [
       " View project at <a href='https://wandb.ai/laplacesdemon43/Kaggle_ASE_2.0' target=\"_blank\">https://wandb.ai/laplacesdemon43/Kaggle_ASE_2.0</a>"
      ],
      "text/plain": [
       "<IPython.core.display.HTML object>"
      ]
     },
     "metadata": {},
     "output_type": "display_data"
    },
    {
     "data": {
      "text/html": [
       " View run at <a href='https://wandb.ai/laplacesdemon43/Kaggle_ASE_2.0/runs/cur23xbn' target=\"_blank\">https://wandb.ai/laplacesdemon43/Kaggle_ASE_2.0/runs/cur23xbn</a>"
      ],
      "text/plain": [
       "<IPython.core.display.HTML object>"
      ]
     },
     "metadata": {},
     "output_type": "display_data"
    }
   ],
   "source": [
    "wandb.login(key=os.environ.get('WANDB_API_KEY'))\n",
    "wandb.init(\n",
    "    project=WANDB_PROJECT,\n",
    "    name=WANDB_NAME,\n",
    "    save_code=True,\n",
    "    job_type=\"train\",\n",
    ")\n",
    "config = wandb.config"
   ]
  },
  {
   "cell_type": "markdown",
   "metadata": {},
   "source": [
    "## Data Preparation"
   ]
  },
  {
   "cell_type": "markdown",
   "metadata": {},
   "source": [
    "### Tokenizer"
   ]
  },
  {
   "cell_type": "code",
   "execution_count": 13,
   "metadata": {},
   "outputs": [],
   "source": [
    "class Tokenize(object):\n",
    "    def __init__(self, train, valid, tokenizer):\n",
    "        self.tokenizer = tokenizer\n",
    "        self.train = train\n",
    "        self.valid = valid\n",
    "\n",
    "    def get_dataset(self, df):\n",
    "        ds = Dataset.from_dict(\n",
    "            {\n",
    "                \"essay_id\": [e for e in df[\"essay_id\"]],\n",
    "                \"full_text\": [ft for ft in df[\"full_text\"]],\n",
    "                \"score\": [s for s in df[\"score\"]],\n",
    "            }\n",
    "        )\n",
    "        return ds\n",
    "\n",
    "    def tokenize_function(self, example):\n",
    "        tokenized_inputs = self.tokenizer(\n",
    "            example[\"full_text\"],\n",
    "            truncation=True,\n",
    "            max_length=CFG.max_length,\n",
    "            padding=\"max_length\",\n",
    "            \n",
    "        )\n",
    "        return tokenized_inputs\n",
    "\n",
    "    def __call__(self):\n",
    "        train_ds = self.get_dataset(self.train)\n",
    "        valid_ds = self.get_dataset(self.valid)\n",
    "\n",
    "        tokenized_train = train_ds.map(self.tokenize_function, batched=True)\n",
    "        tokenized_valid = valid_ds.map(self.tokenize_function, batched=True)\n",
    "\n",
    "        return tokenized_train, tokenized_valid, self.tokenizer"
   ]
  },
  {
   "cell_type": "code",
   "execution_count": 14,
   "metadata": {},
   "outputs": [
    {
     "data": {
      "text/plain": [
       "('output/model_dir/deberta-v3-xsmall_tokenizer/tokenizer_config.json',\n",
       " 'output/model_dir/deberta-v3-xsmall_tokenizer/special_tokens_map.json',\n",
       " 'output/model_dir/deberta-v3-xsmall_tokenizer/spm.model',\n",
       " 'output/model_dir/deberta-v3-xsmall_tokenizer/added_tokens.json',\n",
       " 'output/model_dir/deberta-v3-xsmall_tokenizer/tokenizer.json')"
      ]
     },
     "execution_count": 14,
     "metadata": {},
     "output_type": "execute_result"
    }
   ],
   "source": [
    "tokenizer = AutoTokenizer.from_pretrained(CFG.backbone_model)\n",
    "tokenizer.add_tokens([AddedToken(\"\\n\", normalized=False)])\n",
    "tokenizer.add_tokens([AddedToken(\" \" * 2, normalized=False)])\n",
    "tokenizer.save_pretrained(Paths.tokenizer_path.format(model_name=MODEL_NAME))"
   ]
  },
  {
   "cell_type": "markdown",
   "metadata": {},
   "source": [
    "### Data Preprocessing\n",
    "\n",
    "1. Convert `labels` to be in `scores` which are processed to be in range $[0-5]$.\n",
    "2. Convert `label` data type based on whether we are doing regression or classification."
   ]
  },
  {
   "cell_type": "code",
   "execution_count": 15,
   "metadata": {},
   "outputs": [
    {
     "name": "stdout",
     "output_type": "stream",
     "text": [
      "Training dataset has shape: (17307, 4)\n"
     ]
    },
    {
     "data": {
      "text/html": [
       "<div>\n",
       "<style scoped>\n",
       "    .dataframe tbody tr th:only-of-type {\n",
       "        vertical-align: middle;\n",
       "    }\n",
       "\n",
       "    .dataframe tbody tr th {\n",
       "        vertical-align: top;\n",
       "    }\n",
       "\n",
       "    .dataframe thead th {\n",
       "        text-align: right;\n",
       "    }\n",
       "</style>\n",
       "<table border=\"1\" class=\"dataframe\">\n",
       "  <thead>\n",
       "    <tr style=\"text-align: right;\">\n",
       "      <th></th>\n",
       "      <th>essay_id</th>\n",
       "      <th>full_text</th>\n",
       "      <th>score</th>\n",
       "      <th>topic</th>\n",
       "      <th>label</th>\n",
       "    </tr>\n",
       "  </thead>\n",
       "  <tbody>\n",
       "    <tr>\n",
       "      <th>0</th>\n",
       "      <td>000d118</td>\n",
       "      <td>Many people have car where they live. The thin...</td>\n",
       "      <td>3</td>\n",
       "      <td>5</td>\n",
       "      <td>2.0</td>\n",
       "    </tr>\n",
       "    <tr>\n",
       "      <th>1</th>\n",
       "      <td>000fe60</td>\n",
       "      <td>I am a scientist at NASA that is discussing th...</td>\n",
       "      <td>3</td>\n",
       "      <td>3</td>\n",
       "      <td>2.0</td>\n",
       "    </tr>\n",
       "    <tr>\n",
       "      <th>2</th>\n",
       "      <td>001ab80</td>\n",
       "      <td>People always wish they had the same technolog...</td>\n",
       "      <td>4</td>\n",
       "      <td>0</td>\n",
       "      <td>3.0</td>\n",
       "    </tr>\n",
       "  </tbody>\n",
       "</table>\n",
       "</div>"
      ],
      "text/plain": [
       "  essay_id                                          full_text  score  topic  \\\n",
       "0  000d118  Many people have car where they live. The thin...      3      5   \n",
       "1  000fe60  I am a scientist at NASA that is discussing th...      3      3   \n",
       "2  001ab80  People always wish they had the same technolog...      4      0   \n",
       "\n",
       "   label  \n",
       "0    2.0  \n",
       "1    2.0  \n",
       "2    3.0  "
      ]
     },
     "execution_count": 15,
     "metadata": {},
     "output_type": "execute_result"
    }
   ],
   "source": [
    "data = pd.read_csv(Paths.train_csv, low_memory=False)\n",
    "print(\"Training dataset has shape:\", data.shape)\n",
    "\n",
    "data[\"score\"] = data[\"score\"].map(lambda x: x- 1)\n",
    "\n",
    "if DO_REGRESSION:\n",
    "    data[\"score\"] = data[\"score\"].astype(pd.Float32Dtype())\n",
    "else:\n",
    "    data[\"score\"] = data[\"score\"].astype(pd.Int32Dtype())\n",
    "\n",
    "data.head(3)"
   ]
  },
  {
   "cell_type": "markdown",
   "metadata": {},
   "source": [
    "### CV Fold Generation\n",
    "\n",
    "Split training data into `CFG.num_folds` number of distinct CV folds."
   ]
  },
  {
   "cell_type": "code",
   "execution_count": 16,
   "metadata": {},
   "outputs": [
    {
     "data": {
      "text/html": [
       "<div>\n",
       "<style scoped>\n",
       "    .dataframe tbody tr th:only-of-type {\n",
       "        vertical-align: middle;\n",
       "    }\n",
       "\n",
       "    .dataframe tbody tr th {\n",
       "        vertical-align: top;\n",
       "    }\n",
       "\n",
       "    .dataframe thead th {\n",
       "        text-align: right;\n",
       "    }\n",
       "</style>\n",
       "<table border=\"1\" class=\"dataframe\">\n",
       "  <thead>\n",
       "    <tr style=\"text-align: right;\">\n",
       "      <th></th>\n",
       "      <th>essay_id</th>\n",
       "      <th>full_text</th>\n",
       "      <th>score</th>\n",
       "      <th>topic</th>\n",
       "      <th>label</th>\n",
       "      <th>fold</th>\n",
       "    </tr>\n",
       "  </thead>\n",
       "  <tbody>\n",
       "    <tr>\n",
       "      <th>0</th>\n",
       "      <td>000d118</td>\n",
       "      <td>Many people have car where they live. The thin...</td>\n",
       "      <td>3</td>\n",
       "      <td>5</td>\n",
       "      <td>2.0</td>\n",
       "      <td>1.0</td>\n",
       "    </tr>\n",
       "    <tr>\n",
       "      <th>1</th>\n",
       "      <td>000fe60</td>\n",
       "      <td>I am a scientist at NASA that is discussing th...</td>\n",
       "      <td>3</td>\n",
       "      <td>3</td>\n",
       "      <td>2.0</td>\n",
       "      <td>5.0</td>\n",
       "    </tr>\n",
       "    <tr>\n",
       "      <th>2</th>\n",
       "      <td>001ab80</td>\n",
       "      <td>People always wish they had the same technolog...</td>\n",
       "      <td>4</td>\n",
       "      <td>0</td>\n",
       "      <td>3.0</td>\n",
       "      <td>4.0</td>\n",
       "    </tr>\n",
       "    <tr>\n",
       "      <th>3</th>\n",
       "      <td>001bdc0</td>\n",
       "      <td>We all heard about Venus, the planet without a...</td>\n",
       "      <td>4</td>\n",
       "      <td>2</td>\n",
       "      <td>3.0</td>\n",
       "      <td>0.0</td>\n",
       "    </tr>\n",
       "    <tr>\n",
       "      <th>4</th>\n",
       "      <td>002ba53</td>\n",
       "      <td>Dear, State Senator\\n\\nThis is a letter to arg...</td>\n",
       "      <td>3</td>\n",
       "      <td>4</td>\n",
       "      <td>2.0</td>\n",
       "      <td>6.0</td>\n",
       "    </tr>\n",
       "  </tbody>\n",
       "</table>\n",
       "</div>"
      ],
      "text/plain": [
       "  essay_id                                          full_text  score  topic  \\\n",
       "0  000d118  Many people have car where they live. The thin...      3      5   \n",
       "1  000fe60  I am a scientist at NASA that is discussing th...      3      3   \n",
       "2  001ab80  People always wish they had the same technolog...      4      0   \n",
       "3  001bdc0  We all heard about Venus, the planet without a...      4      2   \n",
       "4  002ba53  Dear, State Senator\\n\\nThis is a letter to arg...      3      4   \n",
       "\n",
       "   label  fold  \n",
       "0    2.0   1.0  \n",
       "1    2.0   5.0  \n",
       "2    3.0   4.0  \n",
       "3    3.0   0.0  \n",
       "4    2.0   6.0  "
      ]
     },
     "execution_count": 16,
     "metadata": {},
     "output_type": "execute_result"
    }
   ],
   "source": [
    "skf = StratifiedGroupKFold(n_splits=CFG.num_folds, shuffle=True, random_state=CFG.seed)\n",
    "\n",
    "for i, (_, val_index) in enumerate(skf.split(data, data[\"score\"], data[\"topic\"])):\n",
    "    data.loc[val_index, \"fold\"] = i\n",
    "\n",
    "data.head()"
   ]
  },
  {
   "cell_type": "markdown",
   "metadata": {},
   "source": [
    "### Sliding Window\n",
    "\n",
    "Essays can have varying lengths. Instead of truncating, see the entire essay as windows of length `CFG.max_length` which are strided with `CFG.stride_length`."
   ]
  },
  {
   "cell_type": "code",
   "execution_count": 17,
   "metadata": {},
   "outputs": [],
   "source": [
    "def construct_new_row(old_row, text):\n",
    "    new_row = {key: old_row[key] for key in old_row.keys() if key != \"index\"}\n",
    "    new_row[\"full_text\"] = text\n",
    "    return new_row"
   ]
  },
  {
   "cell_type": "code",
   "execution_count": 18,
   "metadata": {},
   "outputs": [],
   "source": [
    "def split_tokens(tokens, stride):\n",
    "    \"\"\"Splits `tokens` into multiple sequences that have at most\n",
    "    `CFG.max_length` tokens. Uses `CFG.stride` for sliding\n",
    "    window.\n",
    "\n",
    "    Args:\n",
    "        tokens (List): List of tokens.\n",
    "        stride (int): Stride length.\n",
    "\n",
    "    Returns:\n",
    "        List[List[int]]: List of split token sequences.\n",
    "    \"\"\"\n",
    "    start = 0\n",
    "    sequence_list = []\n",
    "\n",
    "    while start < len(tokens):\n",
    "        remaining_tokens = len(tokens) - start\n",
    "\n",
    "        if remaining_tokens < CFG.max_length and start > 0:\n",
    "            start = max(0, len(tokens) - CFG.max_length)\n",
    "\n",
    "        end = min(start + CFG.max_length, len(tokens))\n",
    "        sequence_list.append(tokens[start:end])\n",
    "\n",
    "        if remaining_tokens >= CFG.max_length:\n",
    "            start += stride\n",
    "        else:\n",
    "            break\n",
    "\n",
    "    return sequence_list"
   ]
  },
  {
   "cell_type": "code",
   "execution_count": 19,
   "metadata": {},
   "outputs": [],
   "source": [
    "def sliding_window(df, tokenizer):\n",
    "    \"\"\"Splits rows of `df` so that each row's text has at most\n",
    "    `CFG.max_length` number of tokens.\n",
    "\n",
    "    Args:\n",
    "        df (pd.DataFrame): Input data frame.\n",
    "        tokenizer (_type_): Tokenizer used to encode and decode text.\n",
    "\n",
    "    Returns:\n",
    "        pd.DataFrame: Newly constructed dataframe.\n",
    "    \"\"\"\n",
    "\n",
    "    new_df = []\n",
    "\n",
    "    for _, row in tqdm(df.iterrows(), total=df.shape[0]):\n",
    "        tokens = tokenizer.encode(row[\"full_text\"], add_special_tokens=False)\n",
    "\n",
    "        if len(tokens) <= CFG.max_length:\n",
    "            new_df.append(construct_new_row(row, row[\"full_text\"]))\n",
    "        else:\n",
    "            sequence_list = split_tokens(tokens, CFG.stride_length)\n",
    "\n",
    "            for seq in sequence_list:\n",
    "                new_df.append(\n",
    "                    construct_new_row(\n",
    "                        row,\n",
    "                        tokenizer.decode(seq, skip_special_tokens=True),\n",
    "                    )\n",
    "                )\n",
    "\n",
    "    return pd.DataFrame(new_df)"
   ]
  },
  {
   "cell_type": "code",
   "execution_count": 20,
   "metadata": {},
   "outputs": [
    {
     "name": "stderr",
     "output_type": "stream",
     "text": [
      "100%|██████████| 17307/17307 [00:30<00:00, 565.56it/s]\n"
     ]
    }
   ],
   "source": [
    "if DO_SLIDING_WINDOW:\n",
    "    data = sliding_window(data, tokenizer)\n",
    "    data.head(3)"
   ]
  },
  {
   "cell_type": "markdown",
   "metadata": {},
   "source": [
    "## Metrics"
   ]
  },
  {
   "cell_type": "markdown",
   "metadata": {},
   "source": [
    "### QWK Score Calculation"
   ]
  },
  {
   "cell_type": "code",
   "execution_count": 21,
   "metadata": {},
   "outputs": [],
   "source": [
    "def compute_metrics_for_regression(eval_pred):\n",
    "    predictions, labels = eval_pred\n",
    "\n",
    "    qwk = cohen_kappa_score(\n",
    "        labels,\n",
    "        predictions.clip(0, 5).round(0),\n",
    "        weights=\"quadratic\",\n",
    "    )\n",
    "\n",
    "    return {\"qwk\": qwk}"
   ]
  },
  {
   "cell_type": "code",
   "execution_count": 22,
   "metadata": {},
   "outputs": [],
   "source": [
    "def compute_metrics_for_classification(eval_pred):\n",
    "    predictions, labels = eval_pred\n",
    "\n",
    "    qwk = cohen_kappa_score(\n",
    "        labels,\n",
    "        predictions.argmax(-1),\n",
    "        weights=\"quadratic\",\n",
    "    )\n",
    "    \n",
    "    return {\"qwk\": qwk}"
   ]
  },
  {
   "cell_type": "code",
   "execution_count": 23,
   "metadata": {},
   "outputs": [],
   "source": [
    "if DO_REGRESSION:\n",
    "    compute_metrics = compute_metrics_for_regression\n",
    "else:\n",
    "    compute_metrics = compute_metrics_for_classification"
   ]
  },
  {
   "cell_type": "markdown",
   "metadata": {},
   "source": [
    "### WandB Metric Logging"
   ]
  },
  {
   "cell_type": "code",
   "execution_count": 24,
   "metadata": {},
   "outputs": [],
   "source": [
    "def plot_wandb_bar(data, label, value, id, title):\n",
    "    table = wandb.Table(data=data, columns=[label, value])\n",
    "    wandb.log({id: wandb.plot.bar(table, label, value, title=title)})"
   ]
  },
  {
   "cell_type": "code",
   "execution_count": 25,
   "metadata": {},
   "outputs": [],
   "source": [
    "def plot_metrics(prefix, precision_data, recall_data, f1_data):\n",
    "    plot_wandb_bar(\n",
    "        f1_data,\n",
    "        \"score\",\n",
    "        \"F1 Score\",\n",
    "        f\"{prefix}/F1 Score\",\n",
    "        f\"F1 score for {prefix}\",\n",
    "    )\n",
    "    plot_wandb_bar(\n",
    "        recall_data,\n",
    "        \"score\",\n",
    "        \"Recall\",\n",
    "        f\"{prefix}/Recall\",\n",
    "        f\"Recall for {prefix}\",\n",
    "    )\n",
    "    plot_wandb_bar(\n",
    "        precision_data,\n",
    "        \"score\",\n",
    "        \"Precision\",\n",
    "        f\"{prefix}/Precision\",\n",
    "        f\"Precision for {prefix}\",\n",
    "    )"
   ]
  },
  {
   "cell_type": "code",
   "execution_count": 26,
   "metadata": {},
   "outputs": [],
   "source": [
    "def calcluate_metrics(df):\n",
    "    precision_data = [None for _ in range(CFG.num_labels)]\n",
    "    recall_data = [None for _ in range(CFG.num_labels)]\n",
    "    f1_data = [None for _ in range(CFG.num_labels)]\n",
    "\n",
    "    for score in range(CFG.num_labels):\n",
    "        tp = df.loc[(df.score == score) & (df.score == df.pred_score), \"score\"].count()\n",
    "        fp = df.loc[(df.score != score) & (df.pred_score == score), \"score\"].count()\n",
    "        tn = df.loc[(df.score != score) & (df.pred_score != score), \"score\"].count()\n",
    "        fn = df.loc[(df.score == score) & (df.pred_score != score), \"score\"].count()\n",
    "\n",
    "        precision = tp / (tp + fp)\n",
    "        recall = tp / (tp + fn)\n",
    "        f1 = (2 * precision * recall) / (precision + recall)\n",
    "\n",
    "        precision_data[score] = (score, precision)\n",
    "        recall_data[score] = (score, recall)\n",
    "        f1_data[score] = (score, f1)\n",
    "\n",
    "    return precision_data, recall_data, f1_data"
   ]
  },
  {
   "cell_type": "code",
   "execution_count": 49,
   "metadata": {},
   "outputs": [],
   "source": [
    "def log_metrics(df, prefix):\n",
    "    wandb.log(\n",
    "        {\n",
    "            f\"{prefix}/conf_mat\": wandb.plot.confusion_matrix(\n",
    "                probs=None,\n",
    "                y_true=df[\"score\"].astype(pd.Int32Dtype()),\n",
    "                preds=df[\"pred_score\"].astype(pd.Int32Dtype()),\n",
    "                class_names=list(range(CFG.num_labels)),\n",
    "            )\n",
    "        }\n",
    "    )\n",
    "\n",
    "    precision_data, recall_data, f1_data = calcluate_metrics(df)\n",
    "    plot_metrics(prefix, precision_data, recall_data, f1_data)"
   ]
  },
  {
   "cell_type": "markdown",
   "metadata": {},
   "source": [
    "## Training"
   ]
  },
  {
   "cell_type": "markdown",
   "metadata": {},
   "source": [
    "### Training Arguments"
   ]
  },
  {
   "cell_type": "code",
   "execution_count": 28,
   "metadata": {},
   "outputs": [],
   "source": [
    "training_args = TrainingArguments(\n",
    "    data_seed=CFG.seed,\n",
    "    dataloader_num_workers=CFG.num_workers,\n",
    "    evaluation_strategy=\"epoch\",\n",
    "    fp16=True,\n",
    "    gradient_checkpointing=CFG.gradient_checkpointing,\n",
    "    gradient_accumulation_steps=CFG.gradient_accumulation_steps,\n",
    "    learning_rate=CFG.lr,\n",
    "    load_best_model_at_end=True,\n",
    "    logging_first_step=True,\n",
    "    logging_steps=50,\n",
    "    lr_scheduler_type=\"linear\",\n",
    "    metric_for_best_model=\"qwk\",\n",
    "    num_train_epochs=CFG.num_epochs,\n",
    "    output_dir=Paths.output_path,\n",
    "    optim=\"adamw_torch\",\n",
    "    per_device_eval_batch_size=CFG.valid_batch_size,\n",
    "    per_device_train_batch_size=CFG.train_batch_size,\n",
    "    report_to=\"wandb\",\n",
    "    save_strategy=\"epoch\",\n",
    "    save_total_limit=1,\n",
    "    weight_decay=CFG.weight_decay,\n",
    "    warmup_ratio=CFG.warmup_ratio,\n",
    ")"
   ]
  },
  {
   "cell_type": "markdown",
   "metadata": {},
   "source": [
    "### Utility Functions"
   ]
  },
  {
   "cell_type": "code",
   "execution_count": 29,
   "metadata": {},
   "outputs": [],
   "source": [
    "def get_fold_data(fold: int) -> Tuple[pd.DataFrame, pd.DataFrame]:\n",
    "    train = data[data[\"fold\"] != fold].reset_index(drop=True)\n",
    "    valid = data[data[\"fold\"] == fold].reset_index(drop=True)\n",
    "    return train, valid"
   ]
  },
  {
   "cell_type": "code",
   "execution_count": 30,
   "metadata": {},
   "outputs": [],
   "source": [
    "def tokenize_data(train: pd.DataFrame, valid: pd.DataFrame) -> Tuple[Dataset, Dataset]:\n",
    "    tokenize = Tokenize(train, valid, tokenizer)\n",
    "    tokenized_train, tokenized_valid, _ = tokenize()\n",
    "    return tokenized_train, tokenized_valid"
   ]
  },
  {
   "cell_type": "code",
   "execution_count": 31,
   "metadata": {},
   "outputs": [],
   "source": [
    "def configure():\n",
    "    config = AutoConfig.from_pretrained(CFG.backbone_model)\n",
    "    \n",
    "    if DO_REGRESSION:\n",
    "        config.attention_probs_dropout_prob = 0.0\n",
    "        config.hidden_dropout_prob = 0.0\n",
    "        config.num_labels = 1\n",
    "    else:\n",
    "        config.num_labels = CFG.num_labels\n",
    "\n",
    "    return config"
   ]
  },
  {
   "cell_type": "code",
   "execution_count": 32,
   "metadata": {},
   "outputs": [],
   "source": [
    "def get_model(config):\n",
    "    backbone_model = AutoModelForSequenceClassification.from_pretrained(\n",
    "        CFG.backbone_model,\n",
    "        config=config,\n",
    "    )\n",
    "    backbone_model.resize_token_embeddings(len(tokenizer))\n",
    "    return backbone_model"
   ]
  },
  {
   "cell_type": "code",
   "execution_count": 33,
   "metadata": {},
   "outputs": [],
   "source": [
    "def post_process_predictions(predictions0):\n",
    "    if DO_REGRESSION:\n",
    "        predictions = predictions0.clip(0, 5).round(0)\n",
    "    else:\n",
    "        predictions = predictions0.argmax(axis=1)\n",
    "\n",
    "    return predictions"
   ]
  },
  {
   "cell_type": "code",
   "execution_count": 34,
   "metadata": {},
   "outputs": [],
   "source": [
    "def plot_confusion_matrxi(y_true, y_pred):\n",
    "    cm = confusion_matrix(y_true, y_pred, labels=[x for x in range(CFG.num_labels)])\n",
    "    draw_cm = ConfusionMatrixDisplay(\n",
    "        confusion_matrix=cm, display_labels=[x for x in range(CFG.num_labels)]\n",
    "    )\n",
    "    draw_cm.plot()\n",
    "    plt.show()"
   ]
  },
  {
   "cell_type": "code",
   "execution_count": 35,
   "metadata": {},
   "outputs": [],
   "source": [
    "def save_model_and_tokenizer(fold: int, trainer: Trainer):\n",
    "    trainer.save_model(Paths.model_path.format(model_name=MODEL_NAME, fold=fold))"
   ]
  },
  {
   "cell_type": "code",
   "execution_count": 36,
   "metadata": {},
   "outputs": [],
   "source": [
    "def save_oof_predictions(fold, valid, logits, y_pred):\n",
    "    if DO_REGRESSION:\n",
    "        valid[\"pred\"] = logits\n",
    "    else:\n",
    "        COLS = [f\"p{x}\" for x in range(CFG.num_labels)]\n",
    "        valid[COLS] = logits\n",
    "\n",
    "    valid[\"pred_score\"] = y_pred\n",
    "    valid.to_csv(Paths.oof_path.format(fold=fold), index=False)\n",
    "    return valid"
   ]
  },
  {
   "cell_type": "markdown",
   "metadata": {},
   "source": [
    "### Training Fold Loop"
   ]
  },
  {
   "cell_type": "code",
   "execution_count": 37,
   "metadata": {},
   "outputs": [
    {
     "data": {
      "application/vnd.jupyter.widget-view+json": {
       "model_id": "1b461a07857241f3b075aa0a505dfdd5",
       "version_major": 2,
       "version_minor": 0
      },
      "text/plain": [
       "Map:   0%|          | 0/18959 [00:00<?, ? examples/s]"
      ]
     },
     "metadata": {},
     "output_type": "display_data"
    },
    {
     "data": {
      "application/vnd.jupyter.widget-view+json": {
       "model_id": "378ea936e9ae480fa3ee84f38698ad86",
       "version_major": 2,
       "version_minor": 0
      },
      "text/plain": [
       "Map:   0%|          | 0/3788 [00:00<?, ? examples/s]"
      ]
     },
     "metadata": {},
     "output_type": "display_data"
    },
    {
     "name": "stderr",
     "output_type": "stream",
     "text": [
      "Some weights of DebertaV2ForSequenceClassification were not initialized from the model checkpoint at microsoft/deberta-v3-xsmall and are newly initialized: ['classifier.bias', 'classifier.weight', 'pooler.dense.bias', 'pooler.dense.weight']\n",
      "You should probably TRAIN this model on a down-stream task to be able to use it for predictions and inference.\n"
     ]
    },
    {
     "data": {
      "application/vnd.jupyter.widget-view+json": {
       "model_id": "b47269342075469ba137375c7bf678ff",
       "version_major": 2,
       "version_minor": 0
      },
      "text/plain": [
       "  0%|          | 0/1779 [00:00<?, ?it/s]"
      ]
     },
     "metadata": {},
     "output_type": "display_data"
    },
    {
     "name": "stdout",
     "output_type": "stream",
     "text": [
      "{'loss': 6.4536, 'grad_norm': inf, 'learning_rate': 0.0, 'epoch': 0.0}\n",
      "{'loss': 5.0442, 'grad_norm': 24.768970489501953, 'learning_rate': 9.835320840431574e-06, 'epoch': 0.08}\n",
      "{'loss': 1.2324, 'grad_norm': 21.341154098510742, 'learning_rate': 9.551391254968769e-06, 'epoch': 0.17}\n",
      "{'loss': 0.5817, 'grad_norm': 4.850841045379639, 'learning_rate': 9.267461669505964e-06, 'epoch': 0.25}\n",
      "{'loss': 0.4782, 'grad_norm': 16.736303329467773, 'learning_rate': 8.983532084043158e-06, 'epoch': 0.34}\n",
      "{'loss': 0.508, 'grad_norm': 2.9447059631347656, 'learning_rate': 8.699602498580353e-06, 'epoch': 0.42}\n",
      "{'loss': 0.4547, 'grad_norm': 6.971384525299072, 'learning_rate': 8.415672913117548e-06, 'epoch': 0.51}\n",
      "{'loss': 0.4711, 'grad_norm': 6.1995649337768555, 'learning_rate': 8.131743327654743e-06, 'epoch': 0.59}\n",
      "{'loss': 0.4695, 'grad_norm': 23.73298454284668, 'learning_rate': 7.847813742191937e-06, 'epoch': 0.67}\n",
      "{'loss': 0.4913, 'grad_norm': 18.219816207885742, 'learning_rate': 7.563884156729132e-06, 'epoch': 0.76}\n",
      "{'loss': 0.4325, 'grad_norm': 6.625067710876465, 'learning_rate': 7.279954571266327e-06, 'epoch': 0.84}\n",
      "{'loss': 0.4722, 'grad_norm': 4.2527289390563965, 'learning_rate': 6.996024985803521e-06, 'epoch': 0.93}\n"
     ]
    },
    {
     "data": {
      "application/vnd.jupyter.widget-view+json": {
       "model_id": "5b636601ed554da4b2a60619c6e32102",
       "version_major": 2,
       "version_minor": 0
      },
      "text/plain": [
       "  0%|          | 0/119 [00:00<?, ?it/s]"
      ]
     },
     "metadata": {},
     "output_type": "display_data"
    },
    {
     "name": "stdout",
     "output_type": "stream",
     "text": [
      "{'eval_loss': 0.4973083436489105, 'eval_qwk': 0.7043003105420098, 'eval_runtime': 10.3367, 'eval_samples_per_second': 366.461, 'eval_steps_per_second': 11.512, 'epoch': 1.0}\n",
      "{'loss': 0.4394, 'grad_norm': 6.097761154174805, 'learning_rate': 6.7120954003407155e-06, 'epoch': 1.01}\n",
      "{'loss': 0.4067, 'grad_norm': 10.36308765411377, 'learning_rate': 6.428165814877911e-06, 'epoch': 1.1}\n",
      "{'loss': 0.3775, 'grad_norm': 3.202192544937134, 'learning_rate': 6.144236229415106e-06, 'epoch': 1.18}\n",
      "{'loss': 0.3934, 'grad_norm': 11.353994369506836, 'learning_rate': 5.860306643952301e-06, 'epoch': 1.26}\n",
      "{'loss': 0.3876, 'grad_norm': 8.909263610839844, 'learning_rate': 5.576377058489495e-06, 'epoch': 1.35}\n",
      "{'loss': 0.3946, 'grad_norm': 2.8031423091888428, 'learning_rate': 5.292447473026689e-06, 'epoch': 1.43}\n",
      "{'loss': 0.3936, 'grad_norm': 17.602174758911133, 'learning_rate': 5.008517887563884e-06, 'epoch': 1.52}\n",
      "{'loss': 0.3974, 'grad_norm': 15.282307624816895, 'learning_rate': 4.724588302101079e-06, 'epoch': 1.6}\n",
      "{'loss': 0.3757, 'grad_norm': 10.737335205078125, 'learning_rate': 4.440658716638274e-06, 'epoch': 1.69}\n",
      "{'loss': 0.3459, 'grad_norm': 13.502881050109863, 'learning_rate': 4.156729131175469e-06, 'epoch': 1.77}\n",
      "{'loss': 0.3485, 'grad_norm': 17.491636276245117, 'learning_rate': 3.872799545712664e-06, 'epoch': 1.85}\n",
      "{'loss': 0.3506, 'grad_norm': 5.13441276550293, 'learning_rate': 3.588869960249858e-06, 'epoch': 1.94}\n"
     ]
    },
    {
     "data": {
      "application/vnd.jupyter.widget-view+json": {
       "model_id": "8e55f1079ac245ff9ec345c93b1dd8d9",
       "version_major": 2,
       "version_minor": 0
      },
      "text/plain": [
       "  0%|          | 0/119 [00:00<?, ?it/s]"
      ]
     },
     "metadata": {},
     "output_type": "display_data"
    },
    {
     "name": "stdout",
     "output_type": "stream",
     "text": [
      "{'eval_loss': 0.4652891755104065, 'eval_qwk': 0.7712786075173999, 'eval_runtime': 10.3775, 'eval_samples_per_second': 365.021, 'eval_steps_per_second': 11.467, 'epoch': 2.0}\n",
      "{'loss': 0.3588, 'grad_norm': 5.505379676818848, 'learning_rate': 3.304940374787053e-06, 'epoch': 2.02}\n",
      "{'loss': 0.3561, 'grad_norm': 10.830266952514648, 'learning_rate': 3.021010789324248e-06, 'epoch': 2.11}\n",
      "{'loss': 0.3477, 'grad_norm': 8.034802436828613, 'learning_rate': 2.7370812038614424e-06, 'epoch': 2.19}\n",
      "{'loss': 0.3325, 'grad_norm': 3.705263137817383, 'learning_rate': 2.453151618398637e-06, 'epoch': 2.28}\n",
      "{'loss': 0.3545, 'grad_norm': 7.2719831466674805, 'learning_rate': 2.1692220329358323e-06, 'epoch': 2.36}\n",
      "{'loss': 0.3364, 'grad_norm': 8.286696434020996, 'learning_rate': 1.8852924474730268e-06, 'epoch': 2.45}\n",
      "{'loss': 0.3487, 'grad_norm': 11.411486625671387, 'learning_rate': 1.6013628620102218e-06, 'epoch': 2.53}\n",
      "{'loss': 0.314, 'grad_norm': 3.7926485538482666, 'learning_rate': 1.3174332765474163e-06, 'epoch': 2.61}\n",
      "{'loss': 0.334, 'grad_norm': 6.804956912994385, 'learning_rate': 1.033503691084611e-06, 'epoch': 2.7}\n",
      "{'loss': 0.331, 'grad_norm': 10.140960693359375, 'learning_rate': 7.495741056218059e-07, 'epoch': 2.78}\n",
      "{'loss': 0.3211, 'grad_norm': 5.083387851715088, 'learning_rate': 4.656445201590006e-07, 'epoch': 2.87}\n",
      "{'loss': 0.3191, 'grad_norm': 16.514680862426758, 'learning_rate': 1.8171493469619537e-07, 'epoch': 2.95}\n"
     ]
    },
    {
     "data": {
      "application/vnd.jupyter.widget-view+json": {
       "model_id": "7d6d8626dd4c416e93061ee94d625b8d",
       "version_major": 2,
       "version_minor": 0
      },
      "text/plain": [
       "  0%|          | 0/119 [00:00<?, ?it/s]"
      ]
     },
     "metadata": {},
     "output_type": "display_data"
    },
    {
     "name": "stdout",
     "output_type": "stream",
     "text": [
      "{'eval_loss': 0.4798564314842224, 'eval_qwk': 0.7523406336427481, 'eval_runtime': 10.3665, 'eval_samples_per_second': 365.407, 'eval_steps_per_second': 11.479, 'epoch': 3.0}\n",
      "{'train_runtime': 571.1968, 'train_samples_per_second': 99.575, 'train_steps_per_second': 3.115, 'train_loss': 0.5480605050913064, 'epoch': 3.0}\n"
     ]
    },
    {
     "data": {
      "application/vnd.jupyter.widget-view+json": {
       "model_id": "195e6ba25b154b8ebbec6ea674229070",
       "version_major": 2,
       "version_minor": 0
      },
      "text/plain": [
       "  0%|          | 0/119 [00:00<?, ?it/s]"
      ]
     },
     "metadata": {},
     "output_type": "display_data"
    },
    {
     "data": {
      "application/vnd.jupyter.widget-view+json": {
       "model_id": "071b53ef6ebd4667a44ec729f3a47a27",
       "version_major": 2,
       "version_minor": 0
      },
      "text/plain": [
       "Map:   0%|          | 0/19638 [00:00<?, ? examples/s]"
      ]
     },
     "metadata": {},
     "output_type": "display_data"
    },
    {
     "data": {
      "application/vnd.jupyter.widget-view+json": {
       "model_id": "63c8d77417d246b99b9cb8bb39953553",
       "version_major": 2,
       "version_minor": 0
      },
      "text/plain": [
       "Map:   0%|          | 0/3109 [00:00<?, ? examples/s]"
      ]
     },
     "metadata": {},
     "output_type": "display_data"
    },
    {
     "name": "stderr",
     "output_type": "stream",
     "text": [
      "Some weights of DebertaV2ForSequenceClassification were not initialized from the model checkpoint at microsoft/deberta-v3-xsmall and are newly initialized: ['classifier.bias', 'classifier.weight', 'pooler.dense.bias', 'pooler.dense.weight']\n",
      "You should probably TRAIN this model on a down-stream task to be able to use it for predictions and inference.\n"
     ]
    },
    {
     "data": {
      "application/vnd.jupyter.widget-view+json": {
       "model_id": "12ae9c1538ac4f64954d3dfd38ecbf45",
       "version_major": 2,
       "version_minor": 0
      },
      "text/plain": [
       "  0%|          | 0/1842 [00:00<?, ?it/s]"
      ]
     },
     "metadata": {},
     "output_type": "display_data"
    },
    {
     "name": "stdout",
     "output_type": "stream",
     "text": [
      "{'loss': 5.7354, 'grad_norm': inf, 'learning_rate': 0.0, 'epoch': 0.0}\n",
      "{'loss': 4.9781, 'grad_norm': 26.034202575683594, 'learning_rate': 9.851892484914976e-06, 'epoch': 0.08}\n",
      "{'loss': 1.3344, 'grad_norm': 12.234821319580078, 'learning_rate': 9.577619308831597e-06, 'epoch': 0.16}\n",
      "{'loss': 0.5957, 'grad_norm': 2.4587900638580322, 'learning_rate': 9.303346132748218e-06, 'epoch': 0.24}\n",
      "{'loss': 0.5011, 'grad_norm': 15.084223747253418, 'learning_rate': 9.02907295666484e-06, 'epoch': 0.33}\n",
      "{'loss': 0.4851, 'grad_norm': 14.389272689819336, 'learning_rate': 8.75479978058146e-06, 'epoch': 0.41}\n",
      "{'loss': 0.4633, 'grad_norm': 17.77237319946289, 'learning_rate': 8.48052660449808e-06, 'epoch': 0.49}\n",
      "{'loss': 0.4615, 'grad_norm': 6.302544593811035, 'learning_rate': 8.206253428414702e-06, 'epoch': 0.57}\n",
      "{'loss': 0.408, 'grad_norm': 11.729401588439941, 'learning_rate': 7.931980252331323e-06, 'epoch': 0.65}\n",
      "{'loss': 0.4102, 'grad_norm': 14.19947624206543, 'learning_rate': 7.657707076247943e-06, 'epoch': 0.73}\n",
      "{'loss': 0.4284, 'grad_norm': 17.848371505737305, 'learning_rate': 7.383433900164565e-06, 'epoch': 0.81}\n",
      "{'loss': 0.4052, 'grad_norm': 14.61479663848877, 'learning_rate': 7.1091607240811854e-06, 'epoch': 0.9}\n",
      "{'loss': 0.4355, 'grad_norm': 26.935222625732422, 'learning_rate': 6.834887547997806e-06, 'epoch': 0.98}\n"
     ]
    },
    {
     "data": {
      "application/vnd.jupyter.widget-view+json": {
       "model_id": "823b64b5673f488da8d92b6c075f4c6d",
       "version_major": 2,
       "version_minor": 0
      },
      "text/plain": [
       "  0%|          | 0/98 [00:00<?, ?it/s]"
      ]
     },
     "metadata": {},
     "output_type": "display_data"
    },
    {
     "name": "stdout",
     "output_type": "stream",
     "text": [
      "{'eval_loss': 0.5362098217010498, 'eval_qwk': 0.6293127887752521, 'eval_runtime': 8.6454, 'eval_samples_per_second': 359.615, 'eval_steps_per_second': 11.336, 'epoch': 1.0}\n",
      "{'loss': 0.392, 'grad_norm': 5.670067310333252, 'learning_rate': 6.560614371914428e-06, 'epoch': 1.06}\n",
      "{'loss': 0.3953, 'grad_norm': 6.965231895446777, 'learning_rate': 6.2863411958310485e-06, 'epoch': 1.14}\n",
      "{'loss': 0.3985, 'grad_norm': 8.503127098083496, 'learning_rate': 6.012068019747669e-06, 'epoch': 1.22}\n",
      "{'loss': 0.3666, 'grad_norm': 3.5302844047546387, 'learning_rate': 5.73779484366429e-06, 'epoch': 1.3}\n",
      "{'loss': 0.3627, 'grad_norm': 3.4339332580566406, 'learning_rate': 5.463521667580911e-06, 'epoch': 1.38}\n",
      "{'loss': 0.3669, 'grad_norm': 3.832585334777832, 'learning_rate': 5.189248491497532e-06, 'epoch': 1.47}\n",
      "{'loss': 0.348, 'grad_norm': 4.805006980895996, 'learning_rate': 4.914975315414152e-06, 'epoch': 1.55}\n",
      "{'loss': 0.3465, 'grad_norm': 22.652751922607422, 'learning_rate': 4.640702139330774e-06, 'epoch': 1.63}\n",
      "{'loss': 0.3414, 'grad_norm': 5.147221088409424, 'learning_rate': 4.366428963247395e-06, 'epoch': 1.71}\n",
      "{'loss': 0.3402, 'grad_norm': 4.242722034454346, 'learning_rate': 4.0921557871640154e-06, 'epoch': 1.79}\n",
      "{'loss': 0.3698, 'grad_norm': 5.928956508636475, 'learning_rate': 3.817882611080637e-06, 'epoch': 1.87}\n",
      "{'loss': 0.3872, 'grad_norm': 18.23125457763672, 'learning_rate': 3.5436094349972576e-06, 'epoch': 1.95}\n"
     ]
    },
    {
     "data": {
      "application/vnd.jupyter.widget-view+json": {
       "model_id": "e520baa941334caa980c258bdaf49586",
       "version_major": 2,
       "version_minor": 0
      },
      "text/plain": [
       "  0%|          | 0/98 [00:00<?, ?it/s]"
      ]
     },
     "metadata": {},
     "output_type": "display_data"
    },
    {
     "name": "stdout",
     "output_type": "stream",
     "text": [
      "{'eval_loss': 0.6384896039962769, 'eval_qwk': 0.6505208903960831, 'eval_runtime': 8.5732, 'eval_samples_per_second': 362.642, 'eval_steps_per_second': 11.431, 'epoch': 2.0}\n",
      "{'loss': 0.3458, 'grad_norm': 10.084320068359375, 'learning_rate': 3.2693362589138785e-06, 'epoch': 2.04}\n",
      "{'loss': 0.3476, 'grad_norm': 4.202254772186279, 'learning_rate': 2.9950630828304993e-06, 'epoch': 2.12}\n",
      "{'loss': 0.3301, 'grad_norm': 10.325106620788574, 'learning_rate': 2.7207899067471206e-06, 'epoch': 2.2}\n",
      "{'loss': 0.3245, 'grad_norm': 9.253069877624512, 'learning_rate': 2.4465167306637415e-06, 'epoch': 2.28}\n",
      "{'loss': 0.3253, 'grad_norm': 3.800105571746826, 'learning_rate': 2.1722435545803624e-06, 'epoch': 2.36}\n",
      "{'loss': 0.364, 'grad_norm': 10.006180763244629, 'learning_rate': 1.897970378496983e-06, 'epoch': 2.44}\n",
      "{'loss': 0.3336, 'grad_norm': 5.201859474182129, 'learning_rate': 1.623697202413604e-06, 'epoch': 2.52}\n",
      "{'loss': 0.3244, 'grad_norm': 3.7484042644500732, 'learning_rate': 1.349424026330225e-06, 'epoch': 2.61}\n",
      "{'loss': 0.3134, 'grad_norm': 6.735835552215576, 'learning_rate': 1.0751508502468458e-06, 'epoch': 2.69}\n",
      "{'loss': 0.3411, 'grad_norm': 4.5529465675354, 'learning_rate': 8.008776741634669e-07, 'epoch': 2.77}\n",
      "{'loss': 0.3328, 'grad_norm': 7.6115922927856445, 'learning_rate': 5.266044980800878e-07, 'epoch': 2.85}\n",
      "{'loss': 0.3172, 'grad_norm': 9.218156814575195, 'learning_rate': 2.5233132199670876e-07, 'epoch': 2.93}\n"
     ]
    },
    {
     "data": {
      "application/vnd.jupyter.widget-view+json": {
       "model_id": "e44d49b8ac7b449b847b1b50cba97e74",
       "version_major": 2,
       "version_minor": 0
      },
      "text/plain": [
       "  0%|          | 0/98 [00:00<?, ?it/s]"
      ]
     },
     "metadata": {},
     "output_type": "display_data"
    },
    {
     "name": "stdout",
     "output_type": "stream",
     "text": [
      "{'eval_loss': 0.5926254391670227, 'eval_qwk': 0.6608887029727817, 'eval_runtime': 8.5753, 'eval_samples_per_second': 362.552, 'eval_steps_per_second': 11.428, 'epoch': 3.0}\n",
      "{'train_runtime': 584.4051, 'train_samples_per_second': 100.81, 'train_steps_per_second': 3.152, 'train_loss': 0.5319512333077794, 'epoch': 3.0}\n"
     ]
    },
    {
     "data": {
      "application/vnd.jupyter.widget-view+json": {
       "model_id": "3ecce5269bb240aa8915bccb7137d3f1",
       "version_major": 2,
       "version_minor": 0
      },
      "text/plain": [
       "  0%|          | 0/98 [00:00<?, ?it/s]"
      ]
     },
     "metadata": {},
     "output_type": "display_data"
    },
    {
     "data": {
      "application/vnd.jupyter.widget-view+json": {
       "model_id": "e405aac9618345f5b4c1dca74e9f657b",
       "version_major": 2,
       "version_minor": 0
      },
      "text/plain": [
       "Map:   0%|          | 0/18892 [00:00<?, ? examples/s]"
      ]
     },
     "metadata": {},
     "output_type": "display_data"
    },
    {
     "name": "stderr",
     "output_type": "stream",
     "text": [
      "\u001b[34m\u001b[1mwandb\u001b[0m: Network error resolved after 0:00:01.118019, resuming normal operation.\n"
     ]
    },
    {
     "data": {
      "application/vnd.jupyter.widget-view+json": {
       "model_id": "edb876cc17524ae6bd5547372e9b39f5",
       "version_major": 2,
       "version_minor": 0
      },
      "text/plain": [
       "Map:   0%|          | 0/3855 [00:00<?, ? examples/s]"
      ]
     },
     "metadata": {},
     "output_type": "display_data"
    },
    {
     "name": "stderr",
     "output_type": "stream",
     "text": [
      "Some weights of DebertaV2ForSequenceClassification were not initialized from the model checkpoint at microsoft/deberta-v3-xsmall and are newly initialized: ['classifier.bias', 'classifier.weight', 'pooler.dense.bias', 'pooler.dense.weight']\n",
      "You should probably TRAIN this model on a down-stream task to be able to use it for predictions and inference.\n"
     ]
    },
    {
     "data": {
      "application/vnd.jupyter.widget-view+json": {
       "model_id": "990ab346d9f8432baa64c71349773d8f",
       "version_major": 2,
       "version_minor": 0
      },
      "text/plain": [
       "  0%|          | 0/1773 [00:00<?, ?it/s]"
      ]
     },
     "metadata": {},
     "output_type": "display_data"
    },
    {
     "name": "stdout",
     "output_type": "stream",
     "text": [
      "{'loss': 5.1285, 'grad_norm': inf, 'learning_rate': 0.0, 'epoch': 0.0}\n",
      "{'loss': 4.8598, 'grad_norm': 27.28614044189453, 'learning_rate': 9.840455840455842e-06, 'epoch': 0.08}\n",
      "{'loss': 1.2928, 'grad_norm': 10.213499069213867, 'learning_rate': 9.555555555555556e-06, 'epoch': 0.17}\n",
      "{'loss': 0.6255, 'grad_norm': 13.471131324768066, 'learning_rate': 9.270655270655271e-06, 'epoch': 0.25}\n",
      "{'loss': 0.5172, 'grad_norm': 15.413372039794922, 'learning_rate': 8.985754985754986e-06, 'epoch': 0.34}\n",
      "{'loss': 0.5014, 'grad_norm': 9.377862930297852, 'learning_rate': 8.700854700854702e-06, 'epoch': 0.42}\n",
      "{'loss': 0.5634, 'grad_norm': 9.463191986083984, 'learning_rate': 8.415954415954417e-06, 'epoch': 0.51}\n",
      "{'loss': 0.4205, 'grad_norm': 13.876293182373047, 'learning_rate': 8.131054131054132e-06, 'epoch': 0.59}\n",
      "{'loss': 0.4482, 'grad_norm': 11.648027420043945, 'learning_rate': 7.846153846153847e-06, 'epoch': 0.68}\n",
      "{'loss': 0.4539, 'grad_norm': 10.605575561523438, 'learning_rate': 7.561253561253562e-06, 'epoch': 0.76}\n",
      "{'loss': 0.4373, 'grad_norm': 21.558807373046875, 'learning_rate': 7.276353276353278e-06, 'epoch': 0.85}\n",
      "{'loss': 0.442, 'grad_norm': 6.215120792388916, 'learning_rate': 6.991452991452992e-06, 'epoch': 0.93}\n"
     ]
    },
    {
     "data": {
      "application/vnd.jupyter.widget-view+json": {
       "model_id": "e6743f89c7bb49a2ba5b409822d26855",
       "version_major": 2,
       "version_minor": 0
      },
      "text/plain": [
       "  0%|          | 0/121 [00:00<?, ?it/s]"
      ]
     },
     "metadata": {},
     "output_type": "display_data"
    },
    {
     "name": "stdout",
     "output_type": "stream",
     "text": [
      "{'eval_loss': 0.495753675699234, 'eval_qwk': 0.7443643124028737, 'eval_runtime': 10.5635, 'eval_samples_per_second': 364.937, 'eval_steps_per_second': 11.455, 'epoch': 1.0}\n",
      "{'loss': 0.4386, 'grad_norm': 4.872735977172852, 'learning_rate': 6.706552706552707e-06, 'epoch': 1.02}\n",
      "{'loss': 0.4365, 'grad_norm': 6.956718921661377, 'learning_rate': 6.421652421652422e-06, 'epoch': 1.1}\n",
      "{'loss': 0.4025, 'grad_norm': 15.742267608642578, 'learning_rate': 6.136752136752138e-06, 'epoch': 1.18}\n",
      "{'loss': 0.3992, 'grad_norm': 2.787698268890381, 'learning_rate': 5.8518518518518515e-06, 'epoch': 1.27}\n",
      "{'loss': 0.3934, 'grad_norm': 6.7583909034729, 'learning_rate': 5.566951566951567e-06, 'epoch': 1.35}\n",
      "{'loss': 0.3886, 'grad_norm': 11.214531898498535, 'learning_rate': 5.282051282051283e-06, 'epoch': 1.44}\n",
      "{'loss': 0.3819, 'grad_norm': 8.932510375976562, 'learning_rate': 4.997150997150997e-06, 'epoch': 1.52}\n",
      "{'loss': 0.3583, 'grad_norm': 5.082554340362549, 'learning_rate': 4.712250712250713e-06, 'epoch': 1.61}\n",
      "{'loss': 0.414, 'grad_norm': 13.748472213745117, 'learning_rate': 4.427350427350428e-06, 'epoch': 1.69}\n",
      "{'loss': 0.4, 'grad_norm': 8.63476276397705, 'learning_rate': 4.142450142450143e-06, 'epoch': 1.78}\n",
      "{'loss': 0.3585, 'grad_norm': 2.5410759449005127, 'learning_rate': 3.857549857549858e-06, 'epoch': 1.86}\n",
      "{'loss': 0.3622, 'grad_norm': 3.165647506713867, 'learning_rate': 3.572649572649573e-06, 'epoch': 1.95}\n"
     ]
    },
    {
     "data": {
      "application/vnd.jupyter.widget-view+json": {
       "model_id": "c8af31be98c84932815666f12fee2774",
       "version_major": 2,
       "version_minor": 0
      },
      "text/plain": [
       "  0%|          | 0/121 [00:00<?, ?it/s]"
      ]
     },
     "metadata": {},
     "output_type": "display_data"
    },
    {
     "name": "stdout",
     "output_type": "stream",
     "text": [
      "{'eval_loss': 0.44104263186454773, 'eval_qwk': 0.7703400938930614, 'eval_runtime': 10.5589, 'eval_samples_per_second': 365.096, 'eval_steps_per_second': 11.46, 'epoch': 2.0}\n",
      "{'loss': 0.3561, 'grad_norm': 12.180912017822266, 'learning_rate': 3.287749287749288e-06, 'epoch': 2.03}\n",
      "{'loss': 0.3409, 'grad_norm': 7.022983074188232, 'learning_rate': 3.002849002849003e-06, 'epoch': 2.12}\n",
      "{'loss': 0.3536, 'grad_norm': 15.384184837341309, 'learning_rate': 2.717948717948718e-06, 'epoch': 2.2}\n",
      "{'loss': 0.3698, 'grad_norm': 4.313325881958008, 'learning_rate': 2.4330484330484334e-06, 'epoch': 2.28}\n",
      "{'loss': 0.3541, 'grad_norm': 4.016149044036865, 'learning_rate': 2.148148148148148e-06, 'epoch': 2.37}\n",
      "{'loss': 0.342, 'grad_norm': 3.1563053131103516, 'learning_rate': 1.8632478632478635e-06, 'epoch': 2.45}\n",
      "{'loss': 0.3532, 'grad_norm': 6.856785297393799, 'learning_rate': 1.5783475783475785e-06, 'epoch': 2.54}\n",
      "{'loss': 0.3475, 'grad_norm': 9.346049308776855, 'learning_rate': 1.2934472934472936e-06, 'epoch': 2.62}\n",
      "{'loss': 0.3612, 'grad_norm': 32.93332290649414, 'learning_rate': 1.0085470085470086e-06, 'epoch': 2.71}\n",
      "{'loss': 0.3381, 'grad_norm': 5.323875904083252, 'learning_rate': 7.236467236467238e-07, 'epoch': 2.79}\n",
      "{'loss': 0.3548, 'grad_norm': 17.66490936279297, 'learning_rate': 4.387464387464388e-07, 'epoch': 2.88}\n",
      "{'loss': 0.3226, 'grad_norm': 5.1018829345703125, 'learning_rate': 1.5384615384615387e-07, 'epoch': 2.96}\n"
     ]
    },
    {
     "data": {
      "application/vnd.jupyter.widget-view+json": {
       "model_id": "8d033a9b0da145d6b8dfda753d1fe2c8",
       "version_major": 2,
       "version_minor": 0
      },
      "text/plain": [
       "  0%|          | 0/121 [00:00<?, ?it/s]"
      ]
     },
     "metadata": {},
     "output_type": "display_data"
    },
    {
     "name": "stdout",
     "output_type": "stream",
     "text": [
      "{'eval_loss': 0.4336632788181305, 'eval_qwk': 0.7774519917997633, 'eval_runtime': 10.5569, 'eval_samples_per_second': 365.163, 'eval_steps_per_second': 11.462, 'epoch': 3.0}\n",
      "{'train_runtime': 569.4439, 'train_samples_per_second': 99.529, 'train_steps_per_second': 3.114, 'train_loss': 0.5537921305235267, 'epoch': 3.0}\n"
     ]
    },
    {
     "data": {
      "application/vnd.jupyter.widget-view+json": {
       "model_id": "d010c74d9a3b41a792528a7b3b4ef7ed",
       "version_major": 2,
       "version_minor": 0
      },
      "text/plain": [
       "  0%|          | 0/121 [00:00<?, ?it/s]"
      ]
     },
     "metadata": {},
     "output_type": "display_data"
    },
    {
     "data": {
      "application/vnd.jupyter.widget-view+json": {
       "model_id": "1f73ec072fbf4bf0908a3d31f88c750a",
       "version_major": 2,
       "version_minor": 0
      },
      "text/plain": [
       "Map:   0%|          | 0/20923 [00:00<?, ? examples/s]"
      ]
     },
     "metadata": {},
     "output_type": "display_data"
    },
    {
     "data": {
      "application/vnd.jupyter.widget-view+json": {
       "model_id": "9f95517ed0e84ee2b2963f7574d22f13",
       "version_major": 2,
       "version_minor": 0
      },
      "text/plain": [
       "Map:   0%|          | 0/1824 [00:00<?, ? examples/s]"
      ]
     },
     "metadata": {},
     "output_type": "display_data"
    },
    {
     "name": "stderr",
     "output_type": "stream",
     "text": [
      "Some weights of DebertaV2ForSequenceClassification were not initialized from the model checkpoint at microsoft/deberta-v3-xsmall and are newly initialized: ['classifier.bias', 'classifier.weight', 'pooler.dense.bias', 'pooler.dense.weight']\n",
      "You should probably TRAIN this model on a down-stream task to be able to use it for predictions and inference.\n"
     ]
    },
    {
     "data": {
      "application/vnd.jupyter.widget-view+json": {
       "model_id": "4709134183db4cc58f2d3e60926a7082",
       "version_major": 2,
       "version_minor": 0
      },
      "text/plain": [
       "  0%|          | 0/1962 [00:00<?, ?it/s]"
      ]
     },
     "metadata": {},
     "output_type": "display_data"
    },
    {
     "name": "stdout",
     "output_type": "stream",
     "text": [
      "{'loss': 4.1697, 'grad_norm': inf, 'learning_rate': 0.0, 'epoch': 0.0}\n",
      "{'loss': 5.4975, 'grad_norm': 26.560649871826172, 'learning_rate': 9.866117404737386e-06, 'epoch': 0.08}\n",
      "{'loss': 1.2924, 'grad_norm': 25.169509887695312, 'learning_rate': 9.608650875386201e-06, 'epoch': 0.15}\n",
      "{'loss': 0.5727, 'grad_norm': 11.371573448181152, 'learning_rate': 9.351184346035016e-06, 'epoch': 0.23}\n",
      "{'loss': 0.5461, 'grad_norm': 4.874536514282227, 'learning_rate': 9.093717816683832e-06, 'epoch': 0.31}\n",
      "{'loss': 0.5129, 'grad_norm': 6.5302605628967285, 'learning_rate': 8.836251287332647e-06, 'epoch': 0.38}\n",
      "{'loss': 0.5145, 'grad_norm': 11.758444786071777, 'learning_rate': 8.578784757981463e-06, 'epoch': 0.46}\n",
      "{'loss': 0.5217, 'grad_norm': 32.2769889831543, 'learning_rate': 8.321318228630278e-06, 'epoch': 0.54}\n",
      "{'loss': 0.4845, 'grad_norm': 19.232492446899414, 'learning_rate': 8.063851699279093e-06, 'epoch': 0.61}\n",
      "{'loss': 0.4384, 'grad_norm': 11.500768661499023, 'learning_rate': 7.80638516992791e-06, 'epoch': 0.69}\n",
      "{'loss': 0.4236, 'grad_norm': 9.176709175109863, 'learning_rate': 7.548918640576726e-06, 'epoch': 0.76}\n",
      "{'loss': 0.4756, 'grad_norm': 17.335466384887695, 'learning_rate': 7.291452111225541e-06, 'epoch': 0.84}\n",
      "{'loss': 0.4055, 'grad_norm': 12.381444931030273, 'learning_rate': 7.033985581874357e-06, 'epoch': 0.92}\n",
      "{'loss': 0.4001, 'grad_norm': 10.513688087463379, 'learning_rate': 6.776519052523173e-06, 'epoch': 0.99}\n"
     ]
    },
    {
     "data": {
      "application/vnd.jupyter.widget-view+json": {
       "model_id": "609a6c6e27d84ee49bb5a84037f7e87c",
       "version_major": 2,
       "version_minor": 0
      },
      "text/plain": [
       "  0%|          | 0/57 [00:00<?, ?it/s]"
      ]
     },
     "metadata": {},
     "output_type": "display_data"
    },
    {
     "name": "stdout",
     "output_type": "stream",
     "text": [
      "{'eval_loss': 0.416547030210495, 'eval_qwk': 0.5735235586041102, 'eval_runtime': 5.1681, 'eval_samples_per_second': 352.933, 'eval_steps_per_second': 11.029, 'epoch': 1.0}\n",
      "{'loss': 0.4354, 'grad_norm': 5.359321594238281, 'learning_rate': 6.519052523171988e-06, 'epoch': 1.07}\n",
      "{'loss': 0.3972, 'grad_norm': 5.696270942687988, 'learning_rate': 6.2615859938208035e-06, 'epoch': 1.15}\n",
      "{'loss': 0.4158, 'grad_norm': 10.71346378326416, 'learning_rate': 6.00411946446962e-06, 'epoch': 1.22}\n",
      "{'loss': 0.3659, 'grad_norm': 3.751483678817749, 'learning_rate': 5.746652935118435e-06, 'epoch': 1.3}\n",
      "{'loss': 0.3631, 'grad_norm': 7.472462177276611, 'learning_rate': 5.4891864057672505e-06, 'epoch': 1.38}\n",
      "{'loss': 0.3884, 'grad_norm': 23.70863151550293, 'learning_rate': 5.231719876416066e-06, 'epoch': 1.45}\n",
      "{'loss': 0.3898, 'grad_norm': 4.275477409362793, 'learning_rate': 4.974253347064882e-06, 'epoch': 1.53}\n",
      "{'loss': 0.3916, 'grad_norm': 7.2317891120910645, 'learning_rate': 4.7167868177136975e-06, 'epoch': 1.61}\n",
      "{'loss': 0.3748, 'grad_norm': 11.765393257141113, 'learning_rate': 4.459320288362513e-06, 'epoch': 1.68}\n",
      "{'loss': 0.3692, 'grad_norm': 2.6622133255004883, 'learning_rate': 4.201853759011329e-06, 'epoch': 1.76}\n",
      "{'loss': 0.3457, 'grad_norm': 9.714920997619629, 'learning_rate': 3.9443872296601445e-06, 'epoch': 1.83}\n",
      "{'loss': 0.3733, 'grad_norm': 17.75301742553711, 'learning_rate': 3.6869207003089603e-06, 'epoch': 1.91}\n",
      "{'loss': 0.3785, 'grad_norm': 7.132960319519043, 'learning_rate': 3.4294541709577757e-06, 'epoch': 1.99}\n"
     ]
    },
    {
     "data": {
      "application/vnd.jupyter.widget-view+json": {
       "model_id": "d5fec981b198470e9e85023e1d00fa77",
       "version_major": 2,
       "version_minor": 0
      },
      "text/plain": [
       "  0%|          | 0/57 [00:00<?, ?it/s]"
      ]
     },
     "metadata": {},
     "output_type": "display_data"
    },
    {
     "name": "stdout",
     "output_type": "stream",
     "text": [
      "{'eval_loss': 0.47169896960258484, 'eval_qwk': 0.511547141179457, 'eval_runtime': 5.1428, 'eval_samples_per_second': 354.669, 'eval_steps_per_second': 11.083, 'epoch': 2.0}\n",
      "{'loss': 0.3732, 'grad_norm': 20.277578353881836, 'learning_rate': 3.1719876416065915e-06, 'epoch': 2.06}\n",
      "{'loss': 0.3451, 'grad_norm': 17.780162811279297, 'learning_rate': 2.914521112255407e-06, 'epoch': 2.14}\n",
      "{'loss': 0.3517, 'grad_norm': 3.701826572418213, 'learning_rate': 2.6570545829042226e-06, 'epoch': 2.22}\n",
      "{'loss': 0.3448, 'grad_norm': 4.307116508483887, 'learning_rate': 2.3995880535530384e-06, 'epoch': 2.29}\n",
      "{'loss': 0.3416, 'grad_norm': 7.405353546142578, 'learning_rate': 2.142121524201854e-06, 'epoch': 2.37}\n",
      "{'loss': 0.3195, 'grad_norm': 5.9387993812561035, 'learning_rate': 1.8846549948506696e-06, 'epoch': 2.45}\n",
      "{'loss': 0.3569, 'grad_norm': 10.613525390625, 'learning_rate': 1.6271884654994852e-06, 'epoch': 2.52}\n",
      "{'loss': 0.3565, 'grad_norm': 18.92848777770996, 'learning_rate': 1.3697219361483008e-06, 'epoch': 2.6}\n",
      "{'loss': 0.3468, 'grad_norm': 15.147333145141602, 'learning_rate': 1.1122554067971164e-06, 'epoch': 2.68}\n",
      "{'loss': 0.3265, 'grad_norm': 20.161142349243164, 'learning_rate': 8.54788877445932e-07, 'epoch': 2.75}\n",
      "{'loss': 0.3509, 'grad_norm': 5.429348468780518, 'learning_rate': 5.973223480947477e-07, 'epoch': 2.83}\n",
      "{'loss': 0.3384, 'grad_norm': 12.867219924926758, 'learning_rate': 3.398558187435633e-07, 'epoch': 2.91}\n",
      "{'loss': 0.3402, 'grad_norm': 4.704051494598389, 'learning_rate': 8.2389289392379e-08, 'epoch': 2.98}\n"
     ]
    },
    {
     "data": {
      "application/vnd.jupyter.widget-view+json": {
       "model_id": "a11a0befd82f468fa5ce876c29df1d87",
       "version_major": 2,
       "version_minor": 0
      },
      "text/plain": [
       "  0%|          | 0/57 [00:00<?, ?it/s]"
      ]
     },
     "metadata": {},
     "output_type": "display_data"
    },
    {
     "name": "stdout",
     "output_type": "stream",
     "text": [
      "{'eval_loss': 0.45872604846954346, 'eval_qwk': 0.5419256125994221, 'eval_runtime': 5.1698, 'eval_samples_per_second': 352.82, 'eval_steps_per_second': 11.026, 'epoch': 3.0}\n",
      "{'train_runtime': 610.4932, 'train_samples_per_second': 102.817, 'train_steps_per_second': 3.214, 'train_loss': 0.5511921018392425, 'epoch': 3.0}\n"
     ]
    },
    {
     "data": {
      "application/vnd.jupyter.widget-view+json": {
       "model_id": "9af602a10f6f45f98ce9a8732158666c",
       "version_major": 2,
       "version_minor": 0
      },
      "text/plain": [
       "  0%|          | 0/57 [00:00<?, ?it/s]"
      ]
     },
     "metadata": {},
     "output_type": "display_data"
    },
    {
     "data": {
      "application/vnd.jupyter.widget-view+json": {
       "model_id": "b78949e2de2843129f2990e871da7e2b",
       "version_major": 2,
       "version_minor": 0
      },
      "text/plain": [
       "Map:   0%|          | 0/17996 [00:00<?, ? examples/s]"
      ]
     },
     "metadata": {},
     "output_type": "display_data"
    },
    {
     "data": {
      "application/vnd.jupyter.widget-view+json": {
       "model_id": "914c3de08b174e2bb9d6b7236e661e37",
       "version_major": 2,
       "version_minor": 0
      },
      "text/plain": [
       "Map:   0%|          | 0/4751 [00:00<?, ? examples/s]"
      ]
     },
     "metadata": {},
     "output_type": "display_data"
    },
    {
     "name": "stderr",
     "output_type": "stream",
     "text": [
      "Some weights of DebertaV2ForSequenceClassification were not initialized from the model checkpoint at microsoft/deberta-v3-xsmall and are newly initialized: ['classifier.bias', 'classifier.weight', 'pooler.dense.bias', 'pooler.dense.weight']\n",
      "You should probably TRAIN this model on a down-stream task to be able to use it for predictions and inference.\n"
     ]
    },
    {
     "data": {
      "application/vnd.jupyter.widget-view+json": {
       "model_id": "c168c7d656d64c4ca043d6582f4b20e5",
       "version_major": 2,
       "version_minor": 0
      },
      "text/plain": [
       "  0%|          | 0/1689 [00:00<?, ?it/s]"
      ]
     },
     "metadata": {},
     "output_type": "display_data"
    },
    {
     "name": "stdout",
     "output_type": "stream",
     "text": [
      "{'loss': 6.3159, 'grad_norm': inf, 'learning_rate': 0.0, 'epoch': 0.0}\n",
      "{'loss': 4.9618, 'grad_norm': 26.14822769165039, 'learning_rate': 9.826555023923445e-06, 'epoch': 0.09}\n",
      "{'loss': 1.3392, 'grad_norm': 4.110775470733643, 'learning_rate': 9.527511961722489e-06, 'epoch': 0.18}\n",
      "{'loss': 0.6245, 'grad_norm': 11.171327590942383, 'learning_rate': 9.228468899521531e-06, 'epoch': 0.27}\n",
      "{'loss': 0.5159, 'grad_norm': 32.63842010498047, 'learning_rate': 8.929425837320574e-06, 'epoch': 0.36}\n",
      "{'loss': 0.5493, 'grad_norm': 15.784377098083496, 'learning_rate': 8.630382775119618e-06, 'epoch': 0.44}\n",
      "{'loss': 0.5116, 'grad_norm': 13.6123685836792, 'learning_rate': 8.33133971291866e-06, 'epoch': 0.53}\n",
      "{'loss': 0.48, 'grad_norm': 8.345613479614258, 'learning_rate': 8.032296650717703e-06, 'epoch': 0.62}\n",
      "{'loss': 0.4891, 'grad_norm': 12.128130912780762, 'learning_rate': 7.733253588516748e-06, 'epoch': 0.71}\n",
      "{'loss': 0.4298, 'grad_norm': 2.539609670639038, 'learning_rate': 7.43421052631579e-06, 'epoch': 0.8}\n",
      "{'loss': 0.437, 'grad_norm': 23.39072036743164, 'learning_rate': 7.135167464114833e-06, 'epoch': 0.89}\n",
      "{'loss': 0.4331, 'grad_norm': 11.100783348083496, 'learning_rate': 6.836124401913876e-06, 'epoch': 0.98}\n"
     ]
    },
    {
     "data": {
      "application/vnd.jupyter.widget-view+json": {
       "model_id": "fab06ec71a5c426d839151d7b0937064",
       "version_major": 2,
       "version_minor": 0
      },
      "text/plain": [
       "  0%|          | 0/149 [00:00<?, ?it/s]"
      ]
     },
     "metadata": {},
     "output_type": "display_data"
    },
    {
     "name": "stdout",
     "output_type": "stream",
     "text": [
      "{'eval_loss': 0.3911767899990082, 'eval_qwk': 0.7160938673196572, 'eval_runtime': 12.9809, 'eval_samples_per_second': 365.999, 'eval_steps_per_second': 11.478, 'epoch': 1.0}\n",
      "{'loss': 0.4219, 'grad_norm': 12.120153427124023, 'learning_rate': 6.5370813397129195e-06, 'epoch': 1.07}\n",
      "{'loss': 0.4326, 'grad_norm': 20.2015323638916, 'learning_rate': 6.238038277511962e-06, 'epoch': 1.15}\n",
      "{'loss': 0.415, 'grad_norm': 6.459549903869629, 'learning_rate': 5.9389952153110054e-06, 'epoch': 1.24}\n",
      "{'loss': 0.43, 'grad_norm': 5.82161283493042, 'learning_rate': 5.639952153110049e-06, 'epoch': 1.33}\n",
      "{'loss': 0.3804, 'grad_norm': 13.895218849182129, 'learning_rate': 5.340909090909091e-06, 'epoch': 1.42}\n",
      "{'loss': 0.3971, 'grad_norm': 4.079457759857178, 'learning_rate': 5.041866028708135e-06, 'epoch': 1.51}\n",
      "{'loss': 0.3979, 'grad_norm': 12.283458709716797, 'learning_rate': 4.742822966507177e-06, 'epoch': 1.6}\n",
      "{'loss': 0.3652, 'grad_norm': 6.045888423919678, 'learning_rate': 4.44377990430622e-06, 'epoch': 1.69}\n",
      "{'loss': 0.3673, 'grad_norm': 6.889743804931641, 'learning_rate': 4.144736842105263e-06, 'epoch': 1.78}\n",
      "{'loss': 0.3822, 'grad_norm': 5.934274196624756, 'learning_rate': 3.845693779904307e-06, 'epoch': 1.87}\n",
      "{'loss': 0.3801, 'grad_norm': 8.680349349975586, 'learning_rate': 3.546650717703349e-06, 'epoch': 1.95}\n"
     ]
    },
    {
     "data": {
      "application/vnd.jupyter.widget-view+json": {
       "model_id": "6386fd9f462c4899841ebddc275abdf2",
       "version_major": 2,
       "version_minor": 0
      },
      "text/plain": [
       "  0%|          | 0/149 [00:00<?, ?it/s]"
      ]
     },
     "metadata": {},
     "output_type": "display_data"
    },
    {
     "name": "stdout",
     "output_type": "stream",
     "text": [
      "{'eval_loss': 0.3651750981807709, 'eval_qwk': 0.6926426347042267, 'eval_runtime': 14.8437, 'eval_samples_per_second': 320.068, 'eval_steps_per_second': 10.038, 'epoch': 2.0}\n",
      "{'loss': 0.3577, 'grad_norm': 11.58773136138916, 'learning_rate': 3.2476076555023926e-06, 'epoch': 2.04}\n",
      "{'loss': 0.3697, 'grad_norm': 13.247112274169922, 'learning_rate': 2.9485645933014355e-06, 'epoch': 2.13}\n",
      "{'loss': 0.329, 'grad_norm': 18.301156997680664, 'learning_rate': 2.6495215311004785e-06, 'epoch': 2.22}\n",
      "{'loss': 0.3578, 'grad_norm': 18.739259719848633, 'learning_rate': 2.3504784688995215e-06, 'epoch': 2.31}\n",
      "{'loss': 0.3675, 'grad_norm': 15.65855884552002, 'learning_rate': 2.051435406698565e-06, 'epoch': 2.4}\n",
      "{'loss': 0.3314, 'grad_norm': 19.61452293395996, 'learning_rate': 1.7523923444976078e-06, 'epoch': 2.49}\n",
      "{'loss': 0.327, 'grad_norm': 8.769059181213379, 'learning_rate': 1.4533492822966508e-06, 'epoch': 2.58}\n",
      "{'loss': 0.3555, 'grad_norm': 10.176512718200684, 'learning_rate': 1.154306220095694e-06, 'epoch': 2.66}\n",
      "{'loss': 0.3591, 'grad_norm': 5.049073219299316, 'learning_rate': 8.55263157894737e-07, 'epoch': 2.75}\n",
      "{'loss': 0.3541, 'grad_norm': 25.38682746887207, 'learning_rate': 5.562200956937799e-07, 'epoch': 2.84}\n",
      "{'loss': 0.3418, 'grad_norm': 8.66077995300293, 'learning_rate': 2.57177033492823e-07, 'epoch': 2.93}\n"
     ]
    },
    {
     "data": {
      "application/vnd.jupyter.widget-view+json": {
       "model_id": "91d82cc5d5ec40fbb321fe37fae12fbc",
       "version_major": 2,
       "version_minor": 0
      },
      "text/plain": [
       "  0%|          | 0/149 [00:00<?, ?it/s]"
      ]
     },
     "metadata": {},
     "output_type": "display_data"
    },
    {
     "name": "stdout",
     "output_type": "stream",
     "text": [
      "{'eval_loss': 0.3632832467556, 'eval_qwk': 0.7218617062842255, 'eval_runtime': 14.4915, 'eval_samples_per_second': 327.847, 'eval_steps_per_second': 10.282, 'epoch': 3.0}\n",
      "{'train_runtime': 587.4943, 'train_samples_per_second': 91.895, 'train_steps_per_second': 2.875, 'train_loss': 0.5712034621840049, 'epoch': 3.0}\n"
     ]
    },
    {
     "data": {
      "application/vnd.jupyter.widget-view+json": {
       "model_id": "b6b67005174246409c858651d99ae4e7",
       "version_major": 2,
       "version_minor": 0
      },
      "text/plain": [
       "  0%|          | 0/149 [00:00<?, ?it/s]"
      ]
     },
     "metadata": {},
     "output_type": "display_data"
    },
    {
     "data": {
      "application/vnd.jupyter.widget-view+json": {
       "model_id": "a808edcb4204467c997afd07f5a362e4",
       "version_major": 2,
       "version_minor": 0
      },
      "text/plain": [
       "Map:   0%|          | 0/20196 [00:00<?, ? examples/s]"
      ]
     },
     "metadata": {},
     "output_type": "display_data"
    },
    {
     "data": {
      "application/vnd.jupyter.widget-view+json": {
       "model_id": "37065c0774e44422b88d47f251d35e7e",
       "version_major": 2,
       "version_minor": 0
      },
      "text/plain": [
       "Map:   0%|          | 0/2551 [00:00<?, ? examples/s]"
      ]
     },
     "metadata": {},
     "output_type": "display_data"
    },
    {
     "name": "stderr",
     "output_type": "stream",
     "text": [
      "Some weights of DebertaV2ForSequenceClassification were not initialized from the model checkpoint at microsoft/deberta-v3-xsmall and are newly initialized: ['classifier.bias', 'classifier.weight', 'pooler.dense.bias', 'pooler.dense.weight']\n",
      "You should probably TRAIN this model on a down-stream task to be able to use it for predictions and inference.\n"
     ]
    },
    {
     "data": {
      "application/vnd.jupyter.widget-view+json": {
       "model_id": "e09cff10cd464ec58bc6f641d0b8896f",
       "version_major": 2,
       "version_minor": 0
      },
      "text/plain": [
       "  0%|          | 0/1896 [00:00<?, ?it/s]"
      ]
     },
     "metadata": {},
     "output_type": "display_data"
    },
    {
     "name": "stdout",
     "output_type": "stream",
     "text": [
      "{'loss': 7.2825, 'grad_norm': inf, 'learning_rate': 0.0, 'epoch': 0.0}\n",
      "{'loss': 4.9151, 'grad_norm': 25.68978500366211, 'learning_rate': 9.856153436334576e-06, 'epoch': 0.08}\n",
      "{'loss': 1.3724, 'grad_norm': 9.828718185424805, 'learning_rate': 9.589770911028238e-06, 'epoch': 0.16}\n",
      "{'loss': 0.5883, 'grad_norm': 26.48889923095703, 'learning_rate': 9.323388385721897e-06, 'epoch': 0.24}\n",
      "{'loss': 0.5276, 'grad_norm': 8.33198070526123, 'learning_rate': 9.057005860415558e-06, 'epoch': 0.32}\n",
      "{'loss': 0.5004, 'grad_norm': 2.125653028488159, 'learning_rate': 8.790623335109217e-06, 'epoch': 0.4}\n",
      "{'loss': 0.471, 'grad_norm': 12.868681907653809, 'learning_rate': 8.524240809802878e-06, 'epoch': 0.47}\n",
      "{'loss': 0.468, 'grad_norm': 6.716205596923828, 'learning_rate': 8.257858284496538e-06, 'epoch': 0.55}\n",
      "{'loss': 0.4528, 'grad_norm': 14.955604553222656, 'learning_rate': 7.991475759190197e-06, 'epoch': 0.63}\n",
      "{'loss': 0.4383, 'grad_norm': 13.830964088439941, 'learning_rate': 7.725093233883858e-06, 'epoch': 0.71}\n",
      "{'loss': 0.4188, 'grad_norm': 16.407102584838867, 'learning_rate': 7.458710708577518e-06, 'epoch': 0.79}\n",
      "{'loss': 0.4099, 'grad_norm': 19.13324546813965, 'learning_rate': 7.192328183271178e-06, 'epoch': 0.87}\n",
      "{'loss': 0.4339, 'grad_norm': 24.313142776489258, 'learning_rate': 6.925945657964837e-06, 'epoch': 0.95}\n"
     ]
    },
    {
     "data": {
      "application/vnd.jupyter.widget-view+json": {
       "model_id": "a14cbc3d501942ea978625c22cb18d80",
       "version_major": 2,
       "version_minor": 0
      },
      "text/plain": [
       "  0%|          | 0/80 [00:00<?, ?it/s]"
      ]
     },
     "metadata": {},
     "output_type": "display_data"
    },
    {
     "name": "stdout",
     "output_type": "stream",
     "text": [
      "{'eval_loss': 0.5291690826416016, 'eval_qwk': 0.6937632118658585, 'eval_runtime': 7.8075, 'eval_samples_per_second': 326.736, 'eval_steps_per_second': 10.247, 'epoch': 1.0}\n",
      "{'loss': 0.383, 'grad_norm': 12.652600288391113, 'learning_rate': 6.659563132658499e-06, 'epoch': 1.03}\n",
      "{'loss': 0.3758, 'grad_norm': 4.8247199058532715, 'learning_rate': 6.393180607352159e-06, 'epoch': 1.11}\n",
      "{'loss': 0.4162, 'grad_norm': 10.816116333007812, 'learning_rate': 6.1267980820458185e-06, 'epoch': 1.19}\n",
      "{'loss': 0.4034, 'grad_norm': 10.112486839294434, 'learning_rate': 5.860415556739478e-06, 'epoch': 1.27}\n",
      "{'loss': 0.362, 'grad_norm': 3.1814332008361816, 'learning_rate': 5.594033031433138e-06, 'epoch': 1.34}\n",
      "{'loss': 0.3807, 'grad_norm': 5.864624977111816, 'learning_rate': 5.327650506126798e-06, 'epoch': 1.42}\n",
      "{'loss': 0.3718, 'grad_norm': 7.70743989944458, 'learning_rate': 5.061267980820459e-06, 'epoch': 1.5}\n",
      "{'loss': 0.3557, 'grad_norm': 7.126333236694336, 'learning_rate': 4.794885455514119e-06, 'epoch': 1.58}\n",
      "{'loss': 0.364, 'grad_norm': 6.00663948059082, 'learning_rate': 4.528502930207779e-06, 'epoch': 1.66}\n",
      "{'loss': 0.3592, 'grad_norm': 3.3701236248016357, 'learning_rate': 4.262120404901439e-06, 'epoch': 1.74}\n",
      "{'loss': 0.3856, 'grad_norm': 9.3738431930542, 'learning_rate': 3.995737879595099e-06, 'epoch': 1.82}\n",
      "{'loss': 0.3625, 'grad_norm': 10.847725868225098, 'learning_rate': 3.729355354288759e-06, 'epoch': 1.9}\n",
      "{'loss': 0.3892, 'grad_norm': 5.976840019226074, 'learning_rate': 3.4629728289824187e-06, 'epoch': 1.98}\n"
     ]
    },
    {
     "data": {
      "application/vnd.jupyter.widget-view+json": {
       "model_id": "3a81f072e1344271a304c68fb5f8baf1",
       "version_major": 2,
       "version_minor": 0
      },
      "text/plain": [
       "  0%|          | 0/80 [00:00<?, ?it/s]"
      ]
     },
     "metadata": {},
     "output_type": "display_data"
    },
    {
     "name": "stdout",
     "output_type": "stream",
     "text": [
      "{'eval_loss': 0.7180837988853455, 'eval_qwk': 0.6099206171779123, 'eval_runtime': 7.9114, 'eval_samples_per_second': 322.448, 'eval_steps_per_second': 10.112, 'epoch': 2.0}\n",
      "{'loss': 0.3426, 'grad_norm': 4.401790142059326, 'learning_rate': 3.1965903036760794e-06, 'epoch': 2.06}\n",
      "{'loss': 0.3438, 'grad_norm': 15.185134887695312, 'learning_rate': 2.930207778369739e-06, 'epoch': 2.14}\n",
      "{'loss': 0.3508, 'grad_norm': 12.58049201965332, 'learning_rate': 2.663825253063399e-06, 'epoch': 2.22}\n",
      "{'loss': 0.3313, 'grad_norm': 3.373908758163452, 'learning_rate': 2.3974427277570596e-06, 'epoch': 2.29}\n",
      "{'loss': 0.3368, 'grad_norm': 13.180949211120605, 'learning_rate': 2.1310602024507194e-06, 'epoch': 2.37}\n",
      "{'loss': 0.3651, 'grad_norm': 8.536166191101074, 'learning_rate': 1.8646776771443794e-06, 'epoch': 2.45}\n",
      "{'loss': 0.3311, 'grad_norm': 3.9685096740722656, 'learning_rate': 1.5982951518380397e-06, 'epoch': 2.53}\n",
      "{'loss': 0.3394, 'grad_norm': 3.7217767238616943, 'learning_rate': 1.3319126265316995e-06, 'epoch': 2.61}\n",
      "{'loss': 0.3467, 'grad_norm': 4.272611618041992, 'learning_rate': 1.0655301012253597e-06, 'epoch': 2.69}\n",
      "{'loss': 0.3284, 'grad_norm': 11.133752822875977, 'learning_rate': 7.991475759190198e-07, 'epoch': 2.77}\n",
      "{'loss': 0.3165, 'grad_norm': 7.2432637214660645, 'learning_rate': 5.327650506126799e-07, 'epoch': 2.85}\n",
      "{'loss': 0.3264, 'grad_norm': 9.315838813781738, 'learning_rate': 2.6638252530633993e-07, 'epoch': 2.93}\n"
     ]
    },
    {
     "data": {
      "application/vnd.jupyter.widget-view+json": {
       "model_id": "f20b352c1d064354bb920d9d3cfd7134",
       "version_major": 2,
       "version_minor": 0
      },
      "text/plain": [
       "  0%|          | 0/80 [00:00<?, ?it/s]"
      ]
     },
     "metadata": {},
     "output_type": "display_data"
    },
    {
     "name": "stdout",
     "output_type": "stream",
     "text": [
      "{'eval_loss': 0.691405177116394, 'eval_qwk': 0.6203315606861195, 'eval_runtime': 7.5813, 'eval_samples_per_second': 336.484, 'eval_steps_per_second': 10.552, 'epoch': 3.0}\n",
      "{'train_runtime': 657.6182, 'train_samples_per_second': 92.132, 'train_steps_per_second': 2.883, 'train_loss': 0.5352572092024083, 'epoch': 3.0}\n"
     ]
    },
    {
     "data": {
      "application/vnd.jupyter.widget-view+json": {
       "model_id": "f25b4fce830a420f87ccccb4d10d40f9",
       "version_major": 2,
       "version_minor": 0
      },
      "text/plain": [
       "  0%|          | 0/80 [00:00<?, ?it/s]"
      ]
     },
     "metadata": {},
     "output_type": "display_data"
    },
    {
     "data": {
      "application/vnd.jupyter.widget-view+json": {
       "model_id": "593f70be3d7240fcaf66e1c006d1094f",
       "version_major": 2,
       "version_minor": 0
      },
      "text/plain": [
       "Map:   0%|          | 0/19878 [00:00<?, ? examples/s]"
      ]
     },
     "metadata": {},
     "output_type": "display_data"
    },
    {
     "data": {
      "application/vnd.jupyter.widget-view+json": {
       "model_id": "5614d0a696964c23b14344638d4e0438",
       "version_major": 2,
       "version_minor": 0
      },
      "text/plain": [
       "Map:   0%|          | 0/2869 [00:00<?, ? examples/s]"
      ]
     },
     "metadata": {},
     "output_type": "display_data"
    },
    {
     "name": "stderr",
     "output_type": "stream",
     "text": [
      "Some weights of DebertaV2ForSequenceClassification were not initialized from the model checkpoint at microsoft/deberta-v3-xsmall and are newly initialized: ['classifier.bias', 'classifier.weight', 'pooler.dense.bias', 'pooler.dense.weight']\n",
      "You should probably TRAIN this model on a down-stream task to be able to use it for predictions and inference.\n"
     ]
    },
    {
     "data": {
      "application/vnd.jupyter.widget-view+json": {
       "model_id": "b3e3c553e4754cff8f7bfb134b5bcc96",
       "version_major": 2,
       "version_minor": 0
      },
      "text/plain": [
       "  0%|          | 0/1866 [00:00<?, ?it/s]"
      ]
     },
     "metadata": {},
     "output_type": "display_data"
    },
    {
     "name": "stdout",
     "output_type": "stream",
     "text": [
      "{'loss': 5.4265, 'grad_norm': inf, 'learning_rate': 0.0, 'epoch': 0.0}\n",
      "{'loss': 4.7302, 'grad_norm': 22.051925659179688, 'learning_rate': 9.853817000541419e-06, 'epoch': 0.08}\n",
      "{'loss': 1.2672, 'grad_norm': 19.070438385009766, 'learning_rate': 9.583107742284788e-06, 'epoch': 0.16}\n",
      "{'loss': 0.5849, 'grad_norm': 15.040057182312012, 'learning_rate': 9.312398484028154e-06, 'epoch': 0.24}\n",
      "{'loss': 0.4994, 'grad_norm': 3.5811502933502197, 'learning_rate': 9.041689225771521e-06, 'epoch': 0.32}\n",
      "{'loss': 0.5062, 'grad_norm': 15.963961601257324, 'learning_rate': 8.77097996751489e-06, 'epoch': 0.4}\n",
      "{'loss': 0.482, 'grad_norm': 5.371310710906982, 'learning_rate': 8.500270709258256e-06, 'epoch': 0.48}\n",
      "{'loss': 0.4342, 'grad_norm': 6.158115386962891, 'learning_rate': 8.229561451001625e-06, 'epoch': 0.56}\n",
      "{'loss': 0.388, 'grad_norm': 2.9517409801483154, 'learning_rate': 7.958852192744993e-06, 'epoch': 0.64}\n",
      "{'loss': 0.4068, 'grad_norm': 13.947978019714355, 'learning_rate': 7.688142934488359e-06, 'epoch': 0.72}\n",
      "{'loss': 0.4256, 'grad_norm': 8.567843437194824, 'learning_rate': 7.417433676231728e-06, 'epoch': 0.8}\n",
      "{'loss': 0.4216, 'grad_norm': 15.027737617492676, 'learning_rate': 7.146724417975095e-06, 'epoch': 0.88}\n",
      "{'loss': 0.4107, 'grad_norm': 16.753721237182617, 'learning_rate': 6.876015159718463e-06, 'epoch': 0.96}\n"
     ]
    },
    {
     "data": {
      "application/vnd.jupyter.widget-view+json": {
       "model_id": "a52a5f0869b642fb9ae6357cad00a396",
       "version_major": 2,
       "version_minor": 0
      },
      "text/plain": [
       "  0%|          | 0/90 [00:00<?, ?it/s]"
      ]
     },
     "metadata": {},
     "output_type": "display_data"
    },
    {
     "name": "stdout",
     "output_type": "stream",
     "text": [
      "{'eval_loss': 0.5821902751922607, 'eval_qwk': 0.7110495716807221, 'eval_runtime': 8.5093, 'eval_samples_per_second': 337.159, 'eval_steps_per_second': 10.577, 'epoch': 1.0}\n",
      "{'loss': 0.3797, 'grad_norm': 12.182621955871582, 'learning_rate': 6.6053059014618305e-06, 'epoch': 1.05}\n",
      "{'loss': 0.3524, 'grad_norm': 4.3268022537231445, 'learning_rate': 6.334596643205199e-06, 'epoch': 1.13}\n",
      "{'loss': 0.3809, 'grad_norm': 30.005626678466797, 'learning_rate': 6.0638873849485656e-06, 'epoch': 1.21}\n",
      "{'loss': 0.3645, 'grad_norm': 14.231225967407227, 'learning_rate': 5.793178126691933e-06, 'epoch': 1.29}\n",
      "{'loss': 0.3634, 'grad_norm': 5.758216857910156, 'learning_rate': 5.5224688684353015e-06, 'epoch': 1.37}\n",
      "{'loss': 0.3666, 'grad_norm': 16.627702713012695, 'learning_rate': 5.251759610178668e-06, 'epoch': 1.45}\n",
      "{'loss': 0.3933, 'grad_norm': 3.7691643238067627, 'learning_rate': 4.981050351922036e-06, 'epoch': 1.53}\n",
      "{'loss': 0.3676, 'grad_norm': 5.575791358947754, 'learning_rate': 4.710341093665404e-06, 'epoch': 1.61}\n",
      "{'loss': 0.3504, 'grad_norm': 10.87502670288086, 'learning_rate': 4.4396318354087715e-06, 'epoch': 1.69}\n",
      "{'loss': 0.3455, 'grad_norm': 19.64434051513672, 'learning_rate': 4.168922577152139e-06, 'epoch': 1.77}\n",
      "{'loss': 0.3499, 'grad_norm': 14.572182655334473, 'learning_rate': 3.8982133188955066e-06, 'epoch': 1.85}\n",
      "{'loss': 0.3534, 'grad_norm': 18.90498161315918, 'learning_rate': 3.627504060638874e-06, 'epoch': 1.93}\n"
     ]
    },
    {
     "data": {
      "application/vnd.jupyter.widget-view+json": {
       "model_id": "46070cf53fd84e42bb4104d3841bfd82",
       "version_major": 2,
       "version_minor": 0
      },
      "text/plain": [
       "  0%|          | 0/90 [00:00<?, ?it/s]"
      ]
     },
     "metadata": {},
     "output_type": "display_data"
    },
    {
     "name": "stdout",
     "output_type": "stream",
     "text": [
      "{'eval_loss': 0.5633327960968018, 'eval_qwk': 0.7186175569994433, 'eval_runtime': 7.9758, 'eval_samples_per_second': 359.715, 'eval_steps_per_second': 11.284, 'epoch': 2.0}\n",
      "{'loss': 0.3479, 'grad_norm': 5.9122843742370605, 'learning_rate': 3.3567948023822416e-06, 'epoch': 2.01}\n",
      "{'loss': 0.337, 'grad_norm': 10.401464462280273, 'learning_rate': 3.0860855441256095e-06, 'epoch': 2.09}\n",
      "{'loss': 0.3449, 'grad_norm': 11.864163398742676, 'learning_rate': 2.815376285868977e-06, 'epoch': 2.17}\n",
      "{'loss': 0.327, 'grad_norm': 11.766311645507812, 'learning_rate': 2.5446670276123446e-06, 'epoch': 2.25}\n",
      "{'loss': 0.3281, 'grad_norm': 8.466845512390137, 'learning_rate': 2.273957769355712e-06, 'epoch': 2.33}\n",
      "{'loss': 0.3114, 'grad_norm': 10.99328327178955, 'learning_rate': 2.00324851109908e-06, 'epoch': 2.41}\n",
      "{'loss': 0.327, 'grad_norm': 7.484368324279785, 'learning_rate': 1.7325392528424473e-06, 'epoch': 2.49}\n",
      "{'loss': 0.336, 'grad_norm': 2.722825288772583, 'learning_rate': 1.461829994585815e-06, 'epoch': 2.57}\n",
      "{'loss': 0.3252, 'grad_norm': 9.165863037109375, 'learning_rate': 1.1911207363291826e-06, 'epoch': 2.65}\n",
      "{'loss': 0.3084, 'grad_norm': 7.041533946990967, 'learning_rate': 9.204114780725501e-07, 'epoch': 2.73}\n",
      "{'loss': 0.3289, 'grad_norm': 8.719376564025879, 'learning_rate': 6.497022198159178e-07, 'epoch': 2.81}\n",
      "{'loss': 0.3059, 'grad_norm': 8.170879364013672, 'learning_rate': 3.7899296155928535e-07, 'epoch': 2.89}\n",
      "{'loss': 0.3368, 'grad_norm': 4.893580913543701, 'learning_rate': 1.0828370330265296e-07, 'epoch': 2.97}\n"
     ]
    },
    {
     "data": {
      "application/vnd.jupyter.widget-view+json": {
       "model_id": "c919cc143e534797b2f3ee18434387b5",
       "version_major": 2,
       "version_minor": 0
      },
      "text/plain": [
       "  0%|          | 0/90 [00:00<?, ?it/s]"
      ]
     },
     "metadata": {},
     "output_type": "display_data"
    },
    {
     "name": "stdout",
     "output_type": "stream",
     "text": [
      "{'eval_loss': 0.5203957557678223, 'eval_qwk': 0.746332767498119, 'eval_runtime': 8.7569, 'eval_samples_per_second': 327.629, 'eval_steps_per_second': 10.278, 'epoch': 3.0}\n",
      "{'train_runtime': 616.2236, 'train_samples_per_second': 96.773, 'train_steps_per_second': 3.028, 'train_loss': 0.5172966686731238, 'epoch': 3.0}\n"
     ]
    },
    {
     "data": {
      "application/vnd.jupyter.widget-view+json": {
       "model_id": "a9e9dc1c84f44657baa68b8610957779",
       "version_major": 2,
       "version_minor": 0
      },
      "text/plain": [
       "  0%|          | 0/90 [00:00<?, ?it/s]"
      ]
     },
     "metadata": {},
     "output_type": "display_data"
    }
   ],
   "source": [
    "scores = []\n",
    "\n",
    "for fold in CFG.train_folds:\n",
    "    train, valid = get_fold_data(fold)\n",
    "\n",
    "    tokenized_train, tokenized_valid = tokenize_data(train, valid)\n",
    "\n",
    "    config = configure()\n",
    "\n",
    "    backbone_model = get_model(config)\n",
    "\n",
    "    data_collator = DataCollatorWithPadding(tokenizer=tokenizer)\n",
    "\n",
    "    trainer = Trainer(\n",
    "        model=backbone_model,\n",
    "        args=training_args,\n",
    "        train_dataset=tokenized_train,\n",
    "        eval_dataset=tokenized_valid,\n",
    "        data_collator=data_collator,\n",
    "        tokenizer=tokenizer,\n",
    "        compute_metrics=compute_metrics,\n",
    "    )\n",
    "\n",
    "    trainer.train()\n",
    "\n",
    "    y_true = valid[\"score\"].values\n",
    "    logits = trainer.predict(tokenized_valid).predictions\n",
    "    y_pred = post_process_predictions(logits)\n",
    "\n",
    "    save_model_and_tokenizer(fold, trainer)\n",
    "\n",
    "    oof_df = save_oof_predictions(fold, valid, logits, y_pred)\n",
    "    score = compute_metrics((oof_df[\"pred_score\"], oof_df[\"score\"]))\n",
    "    log_metrics(oof_df, f\"Fold {fold}\")\n",
    "\n",
    "    del (\n",
    "        train,\n",
    "        valid,\n",
    "        tokenized_train,\n",
    "        tokenized_valid,\n",
    "        backbone_model,\n",
    "        data_collator,\n",
    "        trainer,\n",
    "        y_pred,\n",
    "        y_true,\n",
    "        logits,\n",
    "    )\n",
    "    gc.collect()\n",
    "    torch.cuda.empty_cache()\n",
    "    time.sleep(5)"
   ]
  },
  {
   "cell_type": "code",
   "execution_count": 38,
   "metadata": {},
   "outputs": [
    {
     "data": {
      "text/plain": [
       "count    2869.000000\n",
       "mean        2.269083\n",
       "std         1.223359\n",
       "min         0.000000\n",
       "25%         1.000000\n",
       "50%         2.000000\n",
       "75%         3.000000\n",
       "max         5.000000\n",
       "Name: label, dtype: float64"
      ]
     },
     "execution_count": 38,
     "metadata": {},
     "output_type": "execute_result"
    }
   ],
   "source": [
    "oof_df[\"score\"].describe()"
   ]
  },
  {
   "cell_type": "markdown",
   "metadata": {},
   "source": [
    "## Overall"
   ]
  },
  {
   "cell_type": "markdown",
   "metadata": {},
   "source": [
    "### Logging Metrics"
   ]
  },
  {
   "cell_type": "code",
   "execution_count": 45,
   "metadata": {},
   "outputs": [
    {
     "data": {
      "text/plain": [
       "0       3.0\n",
       "1       3.0\n",
       "2       1.0\n",
       "3       1.0\n",
       "4       1.0\n",
       "       ... \n",
       "2864    4.0\n",
       "2865    4.0\n",
       "2866    4.0\n",
       "2867    2.0\n",
       "2868    3.0\n",
       "Name: pred_score, Length: 22747, dtype: float64"
      ]
     },
     "execution_count": 45,
     "metadata": {},
     "output_type": "execute_result"
    }
   ],
   "source": [
    "oof_df[\"pred_score\"]"
   ]
  },
  {
   "cell_type": "code",
   "execution_count": 50,
   "metadata": {},
   "outputs": [
    {
     "name": "stdout",
     "output_type": "stream",
     "text": [
      "Overall QWK score before thresholding: 0.5047121337260301\n"
     ]
    }
   ],
   "source": [
    "log_metrics(oof_df, \"Overall\")\n",
    "\n",
    "table = wandb.Table(data=scores, columns=[\"score\", \"QWK\"])\n",
    "wandb.log(\n",
    "    {\n",
    "        \"Overall/QWK_all_folds\": wandb.plot.bar(\n",
    "            table,\n",
    "            \"score\",\n",
    "            \"QWK\",\n",
    "            title=\"Fold wise QWK Scores\",\n",
    "        )\n",
    "    }\n",
    ")\n",
    "\n",
    "score = compute_metrics((oof_df[\"pred_score\"], oof_df[\"score\"]))[\"qwk\"]\n",
    "print(f\"Overall QWK score before thresholding: {score}\")\n",
    "wandb.log({\"CV/qwk_score\": score})"
   ]
  },
  {
   "cell_type": "markdown",
   "metadata": {},
   "source": [
    "### Confusion Matrix"
   ]
  },
  {
   "cell_type": "code",
   "execution_count": null,
   "metadata": {},
   "outputs": [
    {
     "data": {
      "image/png": "[encoded data removed]",
      "text/plain": [
       "<Figure size 640x480 with 2 Axes>"
      ]
     },
     "metadata": {},
     "output_type": "display_data"
    }
   ],
   "source": [
    "cm = confusion_matrix(oof_df[\"score\"], oof_df[\"pred_score\"])\n",
    "disp = ConfusionMatrixDisplay(confusion_matrix=cm, display_labels=list(range(CFG.num_labels)))\n",
    "\n",
    "# Plot the confusion matrix\n",
    "disp.plot(cmap='viridis', values_format='d')\n",
    "plt.title(\"Confusion Matrix\")\n",
    "plt.show()"
   ]
  },
  {
   "cell_type": "markdown",
   "metadata": {},
   "source": [
    "## Optimal Thresholds"
   ]
  },
  {
   "cell_type": "code",
   "execution_count": null,
   "metadata": {},
   "outputs": [],
   "source": [
    "best, threshold, xs, ys = find_thresholds(oof_df[\"score\"] + 1, oof_df[\"pred_score\"], steps=500)"
   ]
  },
  {
   "cell_type": "code",
   "execution_count": null,
   "metadata": {},
   "outputs": [
    {
     "data": {
      "image/png": "[encoded data removed]",
      "text/plain": [
       "<Figure size 1500x300 with 5 Axes>"
      ]
     },
     "metadata": {},
     "output_type": "display_data"
    }
   ],
   "source": [
    "diff = 0.5\n",
    "nrows, ncols = 1, 5  # Define grid for 5 subplots (1 row, 5 columns)\n",
    "\n",
    "fig, axes = plt.subplots(nrows, ncols, figsize=(15, 3))  # Create figure and subplots\n",
    "\n",
    "# Loop through data and plot on each subplot\n",
    "for k in range(5):\n",
    "    ax = axes.flat[k]  # Access each subplot using flattened axes\n",
    "    ax.scatter(xs[k], ys[k], s=3)\n",
    "    m = k + 1.5\n",
    "    ax.set_xlim((m - diff, m + diff))\n",
    "    i = np.where((np.array(xs[k]) > m - diff) & (np.array(xs[k]) < m + diff))[0]\n",
    "    mn = np.min(np.array(ys[k])[i])\n",
    "    mx = np.max(np.array(ys[k])[i])\n",
    "    ax.set_ylim((mn, mx))\n",
    "\n",
    "    ax.plot(\n",
    "        [threshold[k], threshold[k]],\n",
    "        [mn, mx],\n",
    "        \"--\",\n",
    "        color=\"black\",\n",
    "        label=\"optimal threshold\",\n",
    "    )\n",
    "\n",
    "    ax.set_title(f\"Optimal Thresh: {threshold[k]:4.3f}\", size=12)  # Adjust title size\n",
    "    ax.set_xlabel(f\"Threshold between {k+1} and {k+2}\", size=10)\n",
    "    ax.set_ylabel(\"QWK CV score\", size=10)\n",
    "\n",
    "# Common legend for all subplots\n",
    "plt.suptitle(\"Optimal Thresholds\", size=12)\n",
    "plt.tight_layout()  # Adjust spacing between subplots\n",
    "plt.show()"
   ]
  },
  {
   "cell_type": "code",
   "execution_count": null,
   "metadata": {},
   "outputs": [],
   "source": [
    "with open(Paths.threshold_path, \"wb\") as file:\n",
    "    pkl.dump(threshold, file)"
   ]
  },
  {
   "cell_type": "markdown",
   "metadata": {},
   "source": [
    "## Wrapping up"
   ]
  },
  {
   "cell_type": "code",
   "execution_count": null,
   "metadata": {},
   "outputs": [
    {
     "data": {
      "application/vnd.jupyter.widget-view+json": {
       "model_id": "2942be8255044129b15cbd58cdea31e4",
       "version_major": 2,
       "version_minor": 0
      },
      "text/plain": [
       "VBox(children=(Label(value='0.084 MB of 0.119 MB uploaded\\r'), FloatProgress(value=0.7011224808186189, max=1.0…"
      ]
     },
     "metadata": {},
     "output_type": "display_data"
    },
    {
     "data": {
      "text/html": [
       "<style>\n",
       "    table.wandb td:nth-child(1) { padding: 0 10px; text-align: left ; width: auto;} td:nth-child(2) {text-align: left ; width: 100%}\n",
       "    .wandb-row { display: flex; flex-direction: row; flex-wrap: wrap; justify-content: flex-start; width: 100% }\n",
       "    .wandb-col { display: flex; flex-direction: column; flex-basis: 100%; flex: 1; padding: 10px; }\n",
       "    </style>\n",
       "<div class=\"wandb-row\"><div class=\"wandb-col\"><h3>Run history:</h3><br/><table class=\"wandb\"><tr><td>CV/qwk_score</td><td>▁</td></tr><tr><td>eval/loss</td><td>▁</td></tr><tr><td>eval/qwk</td><td>▁</td></tr><tr><td>eval/runtime</td><td>▁</td></tr><tr><td>eval/samples_per_second</td><td>▁</td></tr><tr><td>eval/steps_per_second</td><td>▁</td></tr><tr><td>train/epoch</td><td>▁▁▂▂▂▃▃▄▄▄▅▅▅▆▆▆▇▇████</td></tr><tr><td>train/global_step</td><td>▁▁▂▂▂▃▃▄▄▄▅▅▅▆▆▆▇▇██████████████</td></tr><tr><td>train/grad_norm</td><td> ▄▃▂▅▃▂▂▅▃▇▃▄▄▁▃▃█▂▁</td></tr><tr><td>train/learning_rate</td><td>▁██▇▇▆▆▆▅▅▅▄▄▃▃▃▂▂▁▁</td></tr><tr><td>train/loss</td><td>█▅▂▁▁▁▁▁▁▁▁▁▁▁▁▁▁▁▁▁</td></tr></table><br/></div><div class=\"wandb-col\"><h3>Run summary:</h3><br/><table class=\"wandb\"><tr><td>CV/qwk_score</td><td>0.23505</td></tr><tr><td>eval/loss</td><td>0.72931</td></tr><tr><td>eval/qwk</td><td>0.52618</td></tr><tr><td>eval/runtime</td><td>22.793</td></tr><tr><td>eval/samples_per_second</td><td>92.046</td></tr><tr><td>eval/steps_per_second</td><td>5.791</td></tr><tr><td>total_flos</td><td>2023119422201856.0</td></tr><tr><td>train/epoch</td><td>1.0</td></tr><tr><td>train/global_step</td><td>960</td></tr><tr><td>train/grad_norm</td><td>6.22835</td></tr><tr><td>train/learning_rate</td><td>0.0</td></tr><tr><td>train/loss</td><td>0.3272</td></tr><tr><td>train_loss</td><td>0.63443</td></tr><tr><td>train_runtime</td><td>566.4723</td></tr><tr><td>train_samples_per_second</td><td>27.108</td></tr><tr><td>train_steps_per_second</td><td>1.695</td></tr></table><br/></div></div>"
      ],
      "text/plain": [
       "<IPython.core.display.HTML object>"
      ]
     },
     "metadata": {},
     "output_type": "display_data"
    },
    {
     "data": {
      "text/html": [
       " View run <strong style=\"color:#cdcd00\">deberta-v3-xsmall-1024-R</strong> at: <a href='https://wandb.ai/laplacesdemon43/Kaggle_ASE_2.0/runs/816es16d' target=\"_blank\">https://wandb.ai/laplacesdemon43/Kaggle_ASE_2.0/runs/816es16d</a><br/> View project at: <a href='https://wandb.ai/laplacesdemon43/Kaggle_ASE_2.0' target=\"_blank\">https://wandb.ai/laplacesdemon43/Kaggle_ASE_2.0</a><br/>Synced 6 W&B file(s), 9 media file(s), 9 artifact file(s) and 0 other file(s)"
      ],
      "text/plain": [
       "<IPython.core.display.HTML object>"
      ]
     },
     "metadata": {},
     "output_type": "display_data"
    },
    {
     "data": {
      "text/html": [
       "Find logs at: <code>./wandb/run-20240612_162428-816es16d/logs</code>"
      ],
      "text/plain": [
       "<IPython.core.display.HTML object>"
      ]
     },
     "metadata": {},
     "output_type": "display_data"
    }
   ],
   "source": [
    "wandb.finish()"
   ]
  }
 ],
 "metadata": {
  "kernelspec": {
   "display_name": "venv",
   "language": "python",
   "name": "python3"
  },
  "language_info": {
   "codemirror_mode": {
    "name": "ipython",
    "version": 3
   },
   "file_extension": ".py",
   "mimetype": "text/x-python",
   "name": "python",
   "nbconvert_exporter": "python",
   "pygments_lexer": "ipython3",
   "version": "3.11.8"
  }
 },
 "nbformat": 4,
 "nbformat_minor": 2
}
