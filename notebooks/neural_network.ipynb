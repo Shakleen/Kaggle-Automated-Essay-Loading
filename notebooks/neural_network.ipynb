{
 "cells": [
  {
   "cell_type": "markdown",
   "metadata": {},
   "source": [
    "# 🤗 HuggingFace Neural Network Notebook\n",
    "\n",
    "Sources:\n",
    "1. [Originally based on cdoette's notebook](https://www.kaggle.com/code/cdeotte/deberta-v3-small-starter-cv-0-820-lb-0-800?scriptVersionId=174239814)"
   ]
  },
  {
   "cell_type": "markdown",
   "metadata": {},
   "source": [
    "## Version History"
   ]
  },
  {
   "cell_type": "markdown",
   "metadata": {},
   "source": [
    "### 1.0\n",
    "Base implementation following [cdoette's notebook](https://www.kaggle.com/code/cdeotte/deberta-v3-small-starter-cv-0-820-lb-0-800?scriptVersionId=174239814)"
   ]
  },
  {
   "cell_type": "markdown",
   "metadata": {},
   "source": [
    "## Setup"
   ]
  },
  {
   "cell_type": "markdown",
   "metadata": {},
   "source": [
    "### Environment Variables"
   ]
  },
  {
   "cell_type": "code",
   "execution_count": 1,
   "metadata": {},
   "outputs": [
    {
     "name": "stdout",
     "output_type": "stream",
     "text": [
      "env: TOKENIZERS_PARALLELISM=true\n"
     ]
    }
   ],
   "source": [
    "%env TOKENIZERS_PARALLELISM=true"
   ]
  },
  {
   "cell_type": "markdown",
   "metadata": {},
   "source": [
    "### Import Libraries"
   ]
  },
  {
   "cell_type": "code",
   "execution_count": 2,
   "metadata": {},
   "outputs": [],
   "source": [
    "import os\n",
    "import warnings\n",
    "import random\n",
    "from typing import Tuple, List\n",
    "\n",
    "import torch\n",
    "import pandas as pd, numpy as np\n",
    "import matplotlib.pyplot as plt\n",
    "from transformers import (\n",
    "    AutoTokenizer,\n",
    "    AutoModelForSequenceClassification,\n",
    "    AutoConfig,\n",
    "    TrainingArguments,\n",
    "    Trainer,\n",
    "    DataCollatorWithPadding,\n",
    "    PreTrainedTokenizer,\n",
    ")\n",
    "from datasets import Dataset\n",
    "from tokenizers import AddedToken\n",
    "from sklearn.model_selection import StratifiedGroupKFold\n",
    "from sklearn.metrics import (\n",
    "    confusion_matrix,\n",
    "    ConfusionMatrixDisplay,\n",
    "    cohen_kappa_score,\n",
    ")"
   ]
  },
  {
   "cell_type": "code",
   "execution_count": 3,
   "metadata": {},
   "outputs": [],
   "source": [
    "os.chdir(\"../\")\n",
    "warnings.simplefilter('ignore')"
   ]
  },
  {
   "cell_type": "markdown",
   "metadata": {},
   "source": [
    "### Paths"
   ]
  },
  {
   "cell_type": "code",
   "execution_count": 25,
   "metadata": {},
   "outputs": [],
   "source": [
    "class Paths:\n",
    "    # Competition data with added topic column\n",
    "    train_csv: str = \"data/processed/train.csv\"\n",
    "    test_csv: str = \"data/processed/test.csv\"\n",
    "\n",
    "    # Output path\n",
    "    model_path: str = \"output/model_dir\"\n",
    "    oof_path: str = os.path.join(model_path, \"valid_df_fold_{fold}.csv\")"
   ]
  },
  {
   "cell_type": "markdown",
   "metadata": {},
   "source": [
    "### Configurations"
   ]
  },
  {
   "cell_type": "code",
   "execution_count": 5,
   "metadata": {},
   "outputs": [],
   "source": [
    "DEBUG = True"
   ]
  },
  {
   "cell_type": "code",
   "execution_count": 6,
   "metadata": {},
   "outputs": [],
   "source": [
    "class CFG:\n",
    "    backbone_model: str = \"microsoft/deberta-v3-xsmall\"\n",
    "    lr: float = 1e-5\n",
    "    max_length: int = 512\n",
    "    n_splits: int = 7\n",
    "    num_labels: int = 6\n",
    "    num_folds: int = 7\n",
    "    num_epochs: int = 4\n",
    "    regression: bool = True\n",
    "    seed: int = 29\n",
    "    train_batch_size: int = 32\n",
    "    valid_batch_size: int = 32\n",
    "    weight_decay: float = 0.01\n",
    "    warmup_ratio: float = 0.01\n",
    "    train_folds: List[int] = list(range(num_folds))"
   ]
  },
  {
   "cell_type": "code",
   "execution_count": 7,
   "metadata": {},
   "outputs": [],
   "source": [
    "if DEBUG:\n",
    "    CFG.num_epochs = 1\n",
    "    CFG.train_folds = [0]"
   ]
  },
  {
   "cell_type": "markdown",
   "metadata": {},
   "source": [
    "### Setting Random Seed"
   ]
  },
  {
   "cell_type": "code",
   "execution_count": 8,
   "metadata": {},
   "outputs": [],
   "source": [
    "def seed_everything() -> None:\n",
    "    \"\"\"Seed everything to ensure reproducibility\n",
    "\n",
    "    Sources:\n",
    "    1. https://www.kaggle.com/code/alejopaullier/aes-2-multi-class-classification-train\n",
    "    2. https://www.kaggle.com/code/hashidoyuto/deberta-baseline-aes2-0-train\n",
    "    \"\"\"\n",
    "    random.seed(CFG.seed)\n",
    "    os.environ[\"PYTHONHASHCFG.SEED\"] = str(CFG.seed)\n",
    "    np.random.seed(CFG.seed)\n",
    "    torch.manual_seed(CFG.seed)\n",
    "    torch.cuda.manual_seed(CFG.seed)\n",
    "    torch.backends.cudnn.deterministic = True\n",
    "    torch.backends.cudnn.benchmark = True\n",
    "\n",
    "seed_everything()"
   ]
  },
  {
   "cell_type": "markdown",
   "metadata": {},
   "source": [
    "## Data Preparation"
   ]
  },
  {
   "cell_type": "markdown",
   "metadata": {},
   "source": [
    "### Tokenizer"
   ]
  },
  {
   "cell_type": "code",
   "execution_count": 9,
   "metadata": {},
   "outputs": [],
   "source": [
    "class Tokenize(object):\n",
    "    def __init__(self, train, valid, tokenizer):\n",
    "        self.tokenizer = tokenizer\n",
    "        self.train = train\n",
    "        self.valid = valid\n",
    "\n",
    "    def get_dataset(self, df):\n",
    "        ds = Dataset.from_dict(\n",
    "            {\n",
    "                \"essay_id\": [e for e in df[\"essay_id\"]],\n",
    "                \"full_text\": [ft for ft in df[\"full_text\"]],\n",
    "                \"label\": [s for s in df[\"label\"]],\n",
    "            }\n",
    "        )\n",
    "        return ds\n",
    "\n",
    "    def tokenize_function(self, example):\n",
    "        tokenized_inputs = self.tokenizer(\n",
    "            example[\"full_text\"],\n",
    "            truncation=True,\n",
    "            max_length=CFG.max_length,\n",
    "            \n",
    "        )\n",
    "        return tokenized_inputs\n",
    "\n",
    "    def __call__(self):\n",
    "        train_ds = self.get_dataset(self.train)\n",
    "        valid_ds = self.get_dataset(self.valid)\n",
    "\n",
    "        tokenized_train = train_ds.map(self.tokenize_function, batched=True)\n",
    "        tokenized_valid = valid_ds.map(self.tokenize_function, batched=True)\n",
    "\n",
    "        return tokenized_train, tokenized_valid, self.tokenizer"
   ]
  },
  {
   "cell_type": "markdown",
   "metadata": {},
   "source": [
    "### Data Preprocessing\n",
    "\n",
    "1. Convert `labels` to be in `scores` which are processed to be in range $[0-5]$.\n",
    "2. Convert `label` data type based on whether we are doing regression or classification."
   ]
  },
  {
   "cell_type": "code",
   "execution_count": 10,
   "metadata": {},
   "outputs": [
    {
     "name": "stdout",
     "output_type": "stream",
     "text": [
      "Training dataset has shape: (17307, 4)\n"
     ]
    },
    {
     "data": {
      "text/html": [
       "<div>\n",
       "<style scoped>\n",
       "    .dataframe tbody tr th:only-of-type {\n",
       "        vertical-align: middle;\n",
       "    }\n",
       "\n",
       "    .dataframe tbody tr th {\n",
       "        vertical-align: top;\n",
       "    }\n",
       "\n",
       "    .dataframe thead th {\n",
       "        text-align: right;\n",
       "    }\n",
       "</style>\n",
       "<table border=\"1\" class=\"dataframe\">\n",
       "  <thead>\n",
       "    <tr style=\"text-align: right;\">\n",
       "      <th></th>\n",
       "      <th>essay_id</th>\n",
       "      <th>full_text</th>\n",
       "      <th>score</th>\n",
       "      <th>topic</th>\n",
       "      <th>label</th>\n",
       "    </tr>\n",
       "  </thead>\n",
       "  <tbody>\n",
       "    <tr>\n",
       "      <th>0</th>\n",
       "      <td>000d118</td>\n",
       "      <td>Many people have car where they live. The thin...</td>\n",
       "      <td>3</td>\n",
       "      <td>5</td>\n",
       "      <td>2.0</td>\n",
       "    </tr>\n",
       "    <tr>\n",
       "      <th>1</th>\n",
       "      <td>000fe60</td>\n",
       "      <td>I am a scientist at NASA that is discussing th...</td>\n",
       "      <td>3</td>\n",
       "      <td>3</td>\n",
       "      <td>2.0</td>\n",
       "    </tr>\n",
       "    <tr>\n",
       "      <th>2</th>\n",
       "      <td>001ab80</td>\n",
       "      <td>People always wish they had the same technolog...</td>\n",
       "      <td>4</td>\n",
       "      <td>0</td>\n",
       "      <td>3.0</td>\n",
       "    </tr>\n",
       "  </tbody>\n",
       "</table>\n",
       "</div>"
      ],
      "text/plain": [
       "  essay_id                                          full_text  score  topic  \\\n",
       "0  000d118  Many people have car where they live. The thin...      3      5   \n",
       "1  000fe60  I am a scientist at NASA that is discussing th...      3      3   \n",
       "2  001ab80  People always wish they had the same technolog...      4      0   \n",
       "\n",
       "   label  \n",
       "0    2.0  \n",
       "1    2.0  \n",
       "2    3.0  "
      ]
     },
     "execution_count": 10,
     "metadata": {},
     "output_type": "execute_result"
    }
   ],
   "source": [
    "data = pd.read_csv(Paths.train_csv, low_memory=False)\n",
    "print(\"Training dataset has shape:\", data.shape)\n",
    "\n",
    "data[\"label\"] = data[\"score\"].map(lambda x: x- 1)\n",
    "\n",
    "if CFG.regression:\n",
    "    data[\"label\"] = data[\"label\"].astype(pd.Float32Dtype())\n",
    "else:\n",
    "    data[\"label\"] = data[\"label\"].astype(pd.Int32Dtype())\n",
    "\n",
    "data.head(3)"
   ]
  },
  {
   "cell_type": "markdown",
   "metadata": {},
   "source": [
    "### CV Fold Generation\n",
    "\n",
    "Split training data into `CFG.num_folds` number of distinct CV folds."
   ]
  },
  {
   "cell_type": "code",
   "execution_count": 11,
   "metadata": {},
   "outputs": [
    {
     "data": {
      "text/html": [
       "<div>\n",
       "<style scoped>\n",
       "    .dataframe tbody tr th:only-of-type {\n",
       "        vertical-align: middle;\n",
       "    }\n",
       "\n",
       "    .dataframe tbody tr th {\n",
       "        vertical-align: top;\n",
       "    }\n",
       "\n",
       "    .dataframe thead th {\n",
       "        text-align: right;\n",
       "    }\n",
       "</style>\n",
       "<table border=\"1\" class=\"dataframe\">\n",
       "  <thead>\n",
       "    <tr style=\"text-align: right;\">\n",
       "      <th></th>\n",
       "      <th>essay_id</th>\n",
       "      <th>full_text</th>\n",
       "      <th>score</th>\n",
       "      <th>topic</th>\n",
       "      <th>label</th>\n",
       "      <th>fold</th>\n",
       "    </tr>\n",
       "  </thead>\n",
       "  <tbody>\n",
       "    <tr>\n",
       "      <th>0</th>\n",
       "      <td>000d118</td>\n",
       "      <td>Many people have car where they live. The thin...</td>\n",
       "      <td>3</td>\n",
       "      <td>5</td>\n",
       "      <td>2.0</td>\n",
       "      <td>3.0</td>\n",
       "    </tr>\n",
       "    <tr>\n",
       "      <th>1</th>\n",
       "      <td>000fe60</td>\n",
       "      <td>I am a scientist at NASA that is discussing th...</td>\n",
       "      <td>3</td>\n",
       "      <td>3</td>\n",
       "      <td>2.0</td>\n",
       "      <td>0.0</td>\n",
       "    </tr>\n",
       "    <tr>\n",
       "      <th>2</th>\n",
       "      <td>001ab80</td>\n",
       "      <td>People always wish they had the same technolog...</td>\n",
       "      <td>4</td>\n",
       "      <td>0</td>\n",
       "      <td>3.0</td>\n",
       "      <td>4.0</td>\n",
       "    </tr>\n",
       "    <tr>\n",
       "      <th>3</th>\n",
       "      <td>001bdc0</td>\n",
       "      <td>We all heard about Venus, the planet without a...</td>\n",
       "      <td>4</td>\n",
       "      <td>2</td>\n",
       "      <td>3.0</td>\n",
       "      <td>1.0</td>\n",
       "    </tr>\n",
       "    <tr>\n",
       "      <th>4</th>\n",
       "      <td>002ba53</td>\n",
       "      <td>Dear, State Senator\\n\\nThis is a letter to arg...</td>\n",
       "      <td>3</td>\n",
       "      <td>4</td>\n",
       "      <td>2.0</td>\n",
       "      <td>6.0</td>\n",
       "    </tr>\n",
       "  </tbody>\n",
       "</table>\n",
       "</div>"
      ],
      "text/plain": [
       "  essay_id                                          full_text  score  topic  \\\n",
       "0  000d118  Many people have car where they live. The thin...      3      5   \n",
       "1  000fe60  I am a scientist at NASA that is discussing th...      3      3   \n",
       "2  001ab80  People always wish they had the same technolog...      4      0   \n",
       "3  001bdc0  We all heard about Venus, the planet without a...      4      2   \n",
       "4  002ba53  Dear, State Senator\\n\\nThis is a letter to arg...      3      4   \n",
       "\n",
       "   label  fold  \n",
       "0    2.0   3.0  \n",
       "1    2.0   0.0  \n",
       "2    3.0   4.0  \n",
       "3    3.0   1.0  \n",
       "4    2.0   6.0  "
      ]
     },
     "execution_count": 11,
     "metadata": {},
     "output_type": "execute_result"
    }
   ],
   "source": [
    "skf = StratifiedGroupKFold(n_splits=CFG.num_folds, shuffle=True, random_state=CFG.seed)\n",
    "\n",
    "for i, (_, val_index) in enumerate(skf.split(data, data[\"label\"], data[\"topic\"])):\n",
    "    data.loc[val_index, \"fold\"] = i\n",
    "\n",
    "data.head()"
   ]
  },
  {
   "cell_type": "markdown",
   "metadata": {},
   "source": [
    "## Metrics"
   ]
  },
  {
   "cell_type": "markdown",
   "metadata": {},
   "source": [
    "### QWK Score Calculation"
   ]
  },
  {
   "cell_type": "code",
   "execution_count": 12,
   "metadata": {},
   "outputs": [],
   "source": [
    "def compute_metrics_for_regression(eval_pred):\n",
    "    predictions, labels = eval_pred\n",
    "\n",
    "    qwk = cohen_kappa_score(\n",
    "        labels,\n",
    "        predictions.clip(0, 5).round(0),\n",
    "        weights=\"quadratic\",\n",
    "    )\n",
    "\n",
    "    return {\"qwk\": qwk}"
   ]
  },
  {
   "cell_type": "code",
   "execution_count": 13,
   "metadata": {},
   "outputs": [],
   "source": [
    "def compute_metrics_for_classification(eval_pred):\n",
    "    predictions, labels = eval_pred\n",
    "\n",
    "    qwk = cohen_kappa_score(\n",
    "        labels,\n",
    "        predictions.argmax(-1),\n",
    "        weights=\"quadratic\",\n",
    "    )\n",
    "    \n",
    "    return {\"qwk\": qwk}"
   ]
  },
  {
   "cell_type": "markdown",
   "metadata": {},
   "source": [
    "## Training"
   ]
  },
  {
   "cell_type": "markdown",
   "metadata": {},
   "source": [
    "### Training Arguments"
   ]
  },
  {
   "cell_type": "code",
   "execution_count": 14,
   "metadata": {},
   "outputs": [],
   "source": [
    "training_args = TrainingArguments(\n",
    "    evaluation_strategy=\"epoch\",\n",
    "    fp16=True,\n",
    "    learning_rate=CFG.lr,\n",
    "    load_best_model_at_end=True,\n",
    "    logging_first_step=True,\n",
    "    logging_steps=50,\n",
    "    lr_scheduler_type=\"linear\",\n",
    "    metric_for_best_model=\"qwk\",\n",
    "    num_train_epochs=CFG.num_epochs,\n",
    "    output_dir=Paths.model_path,\n",
    "    optim=\"adamw_torch\",\n",
    "    per_device_eval_batch_size=CFG.valid_batch_size,\n",
    "    per_device_train_batch_size=CFG.train_batch_size,\n",
    "    report_to=\"none\",\n",
    "    save_strategy=\"epoch\",\n",
    "    save_total_limit=1,\n",
    "    weight_decay=CFG.weight_decay,\n",
    "    warmup_ratio=CFG.warmup_ratio,\n",
    ")"
   ]
  },
  {
   "cell_type": "code",
   "execution_count": 15,
   "metadata": {},
   "outputs": [],
   "source": [
    "def get_fold_data(fold: int) -> Tuple[pd.DataFrame, pd.DataFrame]:\n",
    "    train = data[data[\"fold\"] != fold]\n",
    "    valid = data[data[\"fold\"] == fold].copy()\n",
    "    return train, valid"
   ]
  },
  {
   "cell_type": "code",
   "execution_count": 16,
   "metadata": {},
   "outputs": [],
   "source": [
    "def tokenize_data(\n",
    "    train: pd.DataFrame,\n",
    "    valid: pd.DataFrame,\n",
    ") -> Tuple[PreTrainedTokenizer, Dataset, Dataset]:\n",
    "    tokenizer = AutoTokenizer.from_pretrained(CFG.backbone_model)\n",
    "    tokenizer.add_tokens([AddedToken(\"\\n\", normalized=False)])\n",
    "    tokenizer.add_tokens([AddedToken(\" \" * 2, normalized=False)])\n",
    "    tokenize = Tokenize(train, valid, tokenizer)\n",
    "    tokenized_train, tokenized_valid, _ = tokenize()\n",
    "    return tokenizer, tokenized_train, tokenized_valid"
   ]
  },
  {
   "cell_type": "code",
   "execution_count": 17,
   "metadata": {},
   "outputs": [],
   "source": [
    "def configure():\n",
    "    config = AutoConfig.from_pretrained(CFG.backbone_model)\n",
    "    \n",
    "    if CFG.regression:\n",
    "        config.attention_probs_dropout_prob = 0.0\n",
    "        config.hidden_dropout_prob = 0.0\n",
    "        config.num_labels = 1\n",
    "    else:\n",
    "        config.num_labels = CFG.num_labels\n",
    "\n",
    "    return config"
   ]
  },
  {
   "cell_type": "code",
   "execution_count": 18,
   "metadata": {},
   "outputs": [],
   "source": [
    "def get_model(tokenizer, config):\n",
    "    backbone_model = AutoModelForSequenceClassification.from_pretrained(\n",
    "        CFG.backbone_model,\n",
    "        config=config,\n",
    "    )\n",
    "    backbone_model.resize_token_embeddings(len(tokenizer))\n",
    "    return backbone_model"
   ]
  },
  {
   "cell_type": "code",
   "execution_count": 19,
   "metadata": {},
   "outputs": [],
   "source": [
    "def get_metric_function():\n",
    "    if CFG.regression:\n",
    "        compute_metrics = compute_metrics_for_regression\n",
    "    else:\n",
    "        compute_metrics = compute_metrics_for_classification\n",
    "\n",
    "    return compute_metrics"
   ]
  },
  {
   "cell_type": "code",
   "execution_count": 20,
   "metadata": {},
   "outputs": [],
   "source": [
    "def post_process_predictions(predictions0):\n",
    "    if CFG.regression:\n",
    "        predictions = predictions0.round(0)\n",
    "    else:\n",
    "        predictions = predictions0.argmax(axis=1)\n",
    "\n",
    "    return predictions + 1"
   ]
  },
  {
   "cell_type": "code",
   "execution_count": 21,
   "metadata": {},
   "outputs": [],
   "source": [
    "def plot_confusion_matrxi(y_true, y_pred):\n",
    "    cm = confusion_matrix(y_true, y_pred, labels=[x for x in range(1, 7)])\n",
    "    draw_cm = ConfusionMatrixDisplay(\n",
    "        confusion_matrix=cm, display_labels=[x for x in range(1, 7)]\n",
    "    )\n",
    "    draw_cm.plot()\n",
    "    plt.show()"
   ]
  },
  {
   "cell_type": "code",
   "execution_count": 22,
   "metadata": {},
   "outputs": [],
   "source": [
    "def save_model_and_tokenizer(fold: int, tokenizer: PreTrainedTokenizer, trainer: Trainer):\n",
    "    model_name = CFG.backbone_model.split(\"/\")[-1]\n",
    "    model_path = os.path.join(Paths.model_path, f\"{model_name}_fold_{fold}\")\n",
    "    trainer.save_model(model_path)\n",
    "    tokenizer.save_pretrained(model_path)"
   ]
  },
  {
   "cell_type": "code",
   "execution_count": 23,
   "metadata": {},
   "outputs": [],
   "source": [
    "def save_oof_predictions(fold, valid, predictions0):\n",
    "    if CFG.regression:\n",
    "        valid[\"pred\"] = predictions0 + 1\n",
    "    else:\n",
    "        COLS = [f\"p{x}\" for x in range(CFG.num_labels)]\n",
    "        valid[COLS] = predictions0\n",
    "\n",
    "    valid.to_csv(Paths.oof_path.format(fold=fold), index=False)"
   ]
  },
  {
   "cell_type": "code",
   "execution_count": 24,
   "metadata": {},
   "outputs": [
    {
     "data": {
      "application/vnd.jupyter.widget-view+json": {
       "model_id": "beb857ce33f64523a429f314bea768dc",
       "version_major": 2,
       "version_minor": 0
      },
      "text/plain": [
       "Map:   0%|          | 0/15213 [00:00<?, ? examples/s]"
      ]
     },
     "metadata": {},
     "output_type": "display_data"
    },
    {
     "data": {
      "application/vnd.jupyter.widget-view+json": {
       "model_id": "063ae6e6b98a4b5c9d93ee62fbf07bba",
       "version_major": 2,
       "version_minor": 0
      },
      "text/plain": [
       "Map:   0%|          | 0/2094 [00:00<?, ? examples/s]"
      ]
     },
     "metadata": {},
     "output_type": "display_data"
    },
    {
     "name": "stderr",
     "output_type": "stream",
     "text": [
      "Some weights of DebertaV2ForSequenceClassification were not initialized from the model checkpoint at microsoft/deberta-v3-xsmall and are newly initialized: ['classifier.bias', 'classifier.weight', 'pooler.dense.bias', 'pooler.dense.weight']\n",
      "You should probably TRAIN this model on a down-stream task to be able to use it for predictions and inference.\n"
     ]
    },
    {
     "data": {
      "application/vnd.jupyter.widget-view+json": {
       "model_id": "82e6e1d46ad445909c6a0377269f1f47",
       "version_major": 2,
       "version_minor": 0
      },
      "text/plain": [
       "  0%|          | 0/476 [00:00<?, ?it/s]"
      ]
     },
     "metadata": {},
     "output_type": "display_data"
    },
    {
     "name": "stdout",
     "output_type": "stream",
     "text": [
      "{'loss': 5.5314, 'grad_norm': inf, 'learning_rate': 0.0, 'epoch': 0.0}\n",
      "{'loss': 4.1822, 'grad_norm': 15.878447532653809, 'learning_rate': 9.129511677282379e-06, 'epoch': 0.11}\n",
      "{'loss': 1.0147, 'grad_norm': 9.943122863769531, 'learning_rate': 8.067940552016986e-06, 'epoch': 0.21}\n",
      "{'loss': 0.5978, 'grad_norm': 5.495420932769775, 'learning_rate': 7.006369426751593e-06, 'epoch': 0.32}\n",
      "{'loss': 0.5094, 'grad_norm': 7.250425815582275, 'learning_rate': 5.9447983014862e-06, 'epoch': 0.42}\n",
      "{'loss': 0.4443, 'grad_norm': 18.301959991455078, 'learning_rate': 4.8832271762208075e-06, 'epoch': 0.53}\n",
      "{'loss': 0.4323, 'grad_norm': 10.937952041625977, 'learning_rate': 3.821656050955415e-06, 'epoch': 0.63}\n",
      "{'loss': 0.4286, 'grad_norm': 11.568451881408691, 'learning_rate': 2.7600849256900213e-06, 'epoch': 0.74}\n",
      "{'loss': 0.4334, 'grad_norm': 15.932880401611328, 'learning_rate': 1.6985138004246284e-06, 'epoch': 0.84}\n",
      "{'loss': 0.379, 'grad_norm': 2.8392035961151123, 'learning_rate': 6.369426751592357e-07, 'epoch': 0.95}\n"
     ]
    },
    {
     "data": {
      "application/vnd.jupyter.widget-view+json": {
       "model_id": "2b48a404b545438a93fbec0416d2cb93",
       "version_major": 2,
       "version_minor": 0
      },
      "text/plain": [
       "  0%|          | 0/66 [00:00<?, ?it/s]"
      ]
     },
     "metadata": {},
     "output_type": "display_data"
    },
    {
     "name": "stdout",
     "output_type": "stream",
     "text": [
      "{'eval_loss': 0.6057720184326172, 'eval_qwk': 0.5590065790149547, 'eval_runtime': 7.019, 'eval_samples_per_second': 298.331, 'eval_steps_per_second': 9.403, 'epoch': 1.0}\n",
      "{'train_runtime': 127.7914, 'train_samples_per_second': 119.046, 'train_steps_per_second': 3.725, 'train_loss': 0.910136012470021, 'epoch': 1.0}\n"
     ]
    },
    {
     "data": {
      "application/vnd.jupyter.widget-view+json": {
       "model_id": "4688d58727da4bfa935bb7ce087f494c",
       "version_major": 2,
       "version_minor": 0
      },
      "text/plain": [
       "  0%|          | 0/66 [00:00<?, ?it/s]"
      ]
     },
     "metadata": {},
     "output_type": "display_data"
    },
    {
     "data": {
      "image/png": "[encoded data removed]",
      "text/plain": [
       "<Figure size 640x480 with 2 Axes>"
      ]
     },
     "metadata": {},
     "output_type": "display_data"
    }
   ],
   "source": [
    "for fold in CFG.train_folds:\n",
    "    train, valid = get_fold_data(fold)\n",
    "\n",
    "    tokenizer, tokenized_train, tokenized_valid = tokenize_data(train, valid)\n",
    "\n",
    "    config = configure()\n",
    "\n",
    "    backbone_model = get_model(tokenizer, config)\n",
    "\n",
    "    data_collator = DataCollatorWithPadding(tokenizer=tokenizer)\n",
    "\n",
    "    trainer = Trainer(\n",
    "        model=backbone_model,\n",
    "        args=training_args,\n",
    "        train_dataset=tokenized_train,\n",
    "        eval_dataset=tokenized_valid,\n",
    "        data_collator=data_collator,\n",
    "        tokenizer=tokenizer,\n",
    "        compute_metrics=get_metric_function(),\n",
    "    )\n",
    "\n",
    "    trainer.train()\n",
    "\n",
    "    y_true = valid[\"score\"].values\n",
    "    predictions0 = trainer.predict(tokenized_valid).predictions\n",
    "    y_pred = post_process_predictions(predictions0)\n",
    "\n",
    "    plot_confusion_matrxi(y_true, y_pred)\n",
    "\n",
    "    save_model_and_tokenizer(fold, tokenizer, trainer)\n",
    "\n",
    "    save_oof_predictions(fold, valid, predictions0)"
   ]
  }
 ],
 "metadata": {
  "kernelspec": {
   "display_name": "venv",
   "language": "python",
   "name": "python3"
  },
  "language_info": {
   "codemirror_mode": {
    "name": "ipython",
    "version": 3
   },
   "file_extension": ".py",
   "mimetype": "text/x-python",
   "name": "python",
   "nbconvert_exporter": "python",
   "pygments_lexer": "ipython3",
   "version": "3.11.8"
  }
 },
 "nbformat": 4,
 "nbformat_minor": 2
}
