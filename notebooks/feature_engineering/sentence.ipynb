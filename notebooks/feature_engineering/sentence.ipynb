{
 "cells": [
  {
   "cell_type": "code",
   "execution_count": 1,
   "metadata": {},
   "outputs": [],
   "source": [
    "import pandas as pd\n",
    "import os\n",
    "import numpy as np\n",
    "from nltk import sent_tokenize, word_tokenize\n",
    "import plotly.express as px\n",
    "from plotly.subplots import make_subplots\n",
    "import plotly.graph_objects as go\n",
    "import re"
   ]
  },
  {
   "cell_type": "code",
   "execution_count": 2,
   "metadata": {},
   "outputs": [],
   "source": [
    "os.chdir(\"../../\")"
   ]
  },
  {
   "cell_type": "code",
   "execution_count": 3,
   "metadata": {},
   "outputs": [],
   "source": [
    "from lib.paths import Paths\n",
    "from lib.data_tools.feature_engineering import data_preprocessing\n",
    "from lib.data_tools.word_feature_engineering import (\n",
    "    noun_words,\n",
    "    verb_words,\n",
    "    pronoun_words,\n",
    "    adj_words,\n",
    "    adv_words,\n",
    "    deter_words,\n",
    "    conj_words,\n",
    "    numerical_words,\n",
    "    all_words,\n",
    ")"
   ]
  },
  {
   "cell_type": "code",
   "execution_count": 4,
   "metadata": {},
   "outputs": [],
   "source": [
    "df = pd.read_csv(\n",
    "    Paths.TRAIN_CSV_PATH,\n",
    "    usecols=[\"essay_id\", \"full_text\", \"score\"],\n",
    "    nrows=500,\n",
    ")"
   ]
  },
  {
   "cell_type": "code",
   "execution_count": 6,
   "metadata": {},
   "outputs": [],
   "source": [
    "def split_sentences(df, drop_full_text=True):\n",
    "    df[\"full_text\"] = df[\"full_text\"].map(data_preprocessing)\n",
    "    df[\"sentences\"] = df[\"full_text\"].map(sent_tokenize)\n",
    "\n",
    "    if drop_full_text:\n",
    "        df.drop(columns=[\"full_text\"], inplace=True)\n",
    "\n",
    "    return df"
   ]
  },
  {
   "cell_type": "code",
   "execution_count": 7,
   "metadata": {},
   "outputs": [
    {
     "data": {
      "text/plain": [
       "(500, 3)"
      ]
     },
     "execution_count": 7,
     "metadata": {},
     "output_type": "execute_result"
    }
   ],
   "source": [
    "df = split_sentences(df.copy(deep=True))\n",
    "df.shape"
   ]
  },
  {
   "cell_type": "markdown",
   "metadata": {},
   "source": [
    "## Total Sentences"
   ]
  },
  {
   "cell_type": "code",
   "execution_count": 8,
   "metadata": {},
   "outputs": [],
   "source": [
    "df[\"sentence_count\"] = df[\"sentences\"].map(len)"
   ]
  },
  {
   "cell_type": "code",
   "execution_count": 9,
   "metadata": {},
   "outputs": [
    {
     "data": {
      "text/html": [
       "<div>\n",
       "<style scoped>\n",
       "    .dataframe tbody tr th:only-of-type {\n",
       "        vertical-align: middle;\n",
       "    }\n",
       "\n",
       "    .dataframe tbody tr th {\n",
       "        vertical-align: top;\n",
       "    }\n",
       "\n",
       "    .dataframe thead th {\n",
       "        text-align: right;\n",
       "    }\n",
       "</style>\n",
       "<table border=\"1\" class=\"dataframe\">\n",
       "  <thead>\n",
       "    <tr style=\"text-align: right;\">\n",
       "      <th></th>\n",
       "      <th>essay_id</th>\n",
       "      <th>score</th>\n",
       "      <th>sentences</th>\n",
       "      <th>sentence_count</th>\n",
       "    </tr>\n",
       "  </thead>\n",
       "  <tbody>\n",
       "    <tr>\n",
       "      <th>239</th>\n",
       "      <td>042dc86</td>\n",
       "      <td>3</td>\n",
       "      <td>[in the article \"driveless cars are coming\", t...</td>\n",
       "      <td>15</td>\n",
       "    </tr>\n",
       "    <tr>\n",
       "      <th>467</th>\n",
       "      <td>07b6457</td>\n",
       "      <td>2</td>\n",
       "      <td>[my argument is about how the landform is just...</td>\n",
       "      <td>16</td>\n",
       "    </tr>\n",
       "    <tr>\n",
       "      <th>210</th>\n",
       "      <td>03afc1e</td>\n",
       "      <td>2</td>\n",
       "      <td>[the facial action coding system would be a go...</td>\n",
       "      <td>12</td>\n",
       "    </tr>\n",
       "  </tbody>\n",
       "</table>\n",
       "</div>"
      ],
      "text/plain": [
       "    essay_id  score                                          sentences  \\\n",
       "239  042dc86      3  [in the article \"driveless cars are coming\", t...   \n",
       "467  07b6457      2  [my argument is about how the landform is just...   \n",
       "210  03afc1e      2  [the facial action coding system would be a go...   \n",
       "\n",
       "     sentence_count  \n",
       "239              15  \n",
       "467              16  \n",
       "210              12  "
      ]
     },
     "execution_count": 9,
     "metadata": {},
     "output_type": "execute_result"
    }
   ],
   "source": [
    "df.sample(3)"
   ]
  },
  {
   "cell_type": "code",
   "execution_count": 10,
   "metadata": {},
   "outputs": [
    {
     "data": {
      "application/vnd.plotly.v1+json": {
       "config": {
        "plotlyServerURL": "https://plot.ly"
       },
       "data": [
        {
         "alignmentgroup": "True",
         "hovertemplate": "score=3<br>sentence_count=%{x}<extra></extra>",
         "legendgroup": "3",
         "marker": {
          "color": "#636efa"
         },
         "name": "3",
         "notched": false,
         "offsetgroup": "3",
         "orientation": "h",
         "showlegend": true,
         "type": "box",
         "x": [
          13,
          21,
          15,
          26,
          23,
          19,
          12,
          22,
          22,
          12,
          22,
          22,
          17,
          13,
          27,
          17,
          16,
          11,
          8,
          10,
          33,
          17,
          19,
          12,
          10,
          20,
          26,
          22,
          32,
          30,
          20,
          10,
          17,
          17,
          13,
          31,
          13,
          25,
          19,
          14,
          16,
          14,
          29,
          22,
          16,
          16,
          23,
          19,
          33,
          19,
          28,
          25,
          21,
          10,
          23,
          36,
          19,
          18,
          19,
          20,
          27,
          22,
          25,
          16,
          11,
          13,
          24,
          23,
          25,
          18,
          16,
          17,
          12,
          9,
          23,
          10,
          29,
          19,
          17,
          15,
          24,
          20,
          20,
          19,
          32,
          15,
          16,
          16,
          24,
          22,
          25,
          12,
          21,
          11,
          19,
          15,
          18,
          26,
          11,
          14,
          33,
          21,
          17,
          12,
          26,
          20,
          24,
          15,
          11,
          10,
          22,
          21,
          13,
          36,
          16,
          12,
          25,
          22,
          19,
          24,
          15,
          29,
          9,
          14,
          11,
          20,
          24,
          22,
          20,
          23,
          15,
          12,
          26,
          16,
          5,
          15,
          19,
          11,
          21,
          14,
          15,
          23,
          40,
          25,
          13,
          16,
          25,
          15,
          23,
          22,
          19,
          15,
          17,
          25,
          21,
          18,
          14,
          27,
          27,
          13,
          22,
          20,
          25,
          14,
          23,
          28,
          23,
          18,
          28,
          11,
          28,
          12,
          41,
          18,
          17,
          21,
          17,
          16,
          27,
          10,
          22,
          16,
          14,
          51,
          14,
          29,
          18,
          23,
          20,
          15,
          15,
          19,
          15,
          15,
          26,
          13,
          18
         ],
         "x0": " ",
         "xaxis": "x",
         "y0": " ",
         "yaxis": "y"
        },
        {
         "alignmentgroup": "True",
         "hovertemplate": "score=4<br>sentence_count=%{x}<extra></extra>",
         "legendgroup": "4",
         "marker": {
          "color": "#EF553B"
         },
         "name": "4",
         "notched": false,
         "offsetgroup": "4",
         "orientation": "h",
         "showlegend": true,
         "type": "box",
         "x": [
          24,
          20,
          25,
          34,
          31,
          23,
          24,
          28,
          11,
          20,
          23,
          22,
          14,
          23,
          14,
          24,
          27,
          25,
          28,
          27,
          26,
          16,
          29,
          35,
          27,
          20,
          39,
          11,
          17,
          22,
          31,
          25,
          17,
          33,
          18,
          31,
          30,
          22,
          27,
          29,
          25,
          20,
          19,
          37,
          26,
          27,
          28,
          21,
          24,
          27,
          25,
          33,
          19,
          25,
          35,
          22,
          36,
          26,
          14,
          25,
          26,
          22,
          21,
          21,
          31,
          33,
          40,
          23,
          27,
          29,
          25,
          25,
          31,
          27,
          24,
          18,
          15,
          15,
          24,
          20,
          27,
          25,
          34,
          26,
          28,
          23,
          20,
          21,
          35,
          31,
          25,
          32,
          31,
          25,
          28,
          14,
          20,
          32,
          28,
          36,
          31,
          8,
          17,
          32,
          20,
          20,
          22,
          22,
          21,
          19,
          30,
          29,
          20,
          18,
          25,
          28,
          32,
          29,
          26,
          21
         ],
         "x0": " ",
         "xaxis": "x",
         "y0": " ",
         "yaxis": "y"
        },
        {
         "alignmentgroup": "True",
         "hovertemplate": "score=2<br>sentence_count=%{x}<extra></extra>",
         "legendgroup": "2",
         "marker": {
          "color": "#00cc96"
         },
         "name": "2",
         "notched": false,
         "offsetgroup": "2",
         "orientation": "h",
         "showlegend": true,
         "type": "box",
         "x": [
          7,
          18,
          11,
          9,
          12,
          10,
          6,
          12,
          12,
          20,
          8,
          5,
          19,
          14,
          8,
          6,
          15,
          4,
          13,
          3,
          17,
          13,
          4,
          7,
          27,
          5,
          23,
          7,
          11,
          12,
          17,
          19,
          16,
          12,
          8,
          18,
          18,
          8,
          18,
          11,
          21,
          19,
          13,
          10,
          15,
          14,
          16,
          18,
          14,
          5,
          29,
          7,
          9,
          9,
          13,
          45,
          15,
          12,
          12,
          26,
          18,
          8,
          12,
          20,
          22,
          13,
          17,
          10,
          12,
          11,
          7,
          9,
          4,
          11,
          16,
          9,
          16,
          17,
          7,
          14,
          8,
          10,
          23,
          12,
          13,
          12,
          15,
          11,
          16,
          2,
          14,
          9,
          8,
          27,
          13,
          10,
          10,
          14,
          8,
          14,
          17,
          18,
          11,
          10,
          12,
          20,
          15,
          14,
          18,
          21,
          7,
          27,
          8,
          19,
          20,
          10,
          13,
          12,
          12,
          13,
          6,
          16,
          12,
          15,
          17,
          6,
          8,
          5,
          13
         ],
         "x0": " ",
         "xaxis": "x",
         "y0": " ",
         "yaxis": "y"
        },
        {
         "alignmentgroup": "True",
         "hovertemplate": "score=1<br>sentence_count=%{x}<extra></extra>",
         "legendgroup": "1",
         "marker": {
          "color": "#ab63fa"
         },
         "name": "1",
         "notched": false,
         "offsetgroup": "1",
         "orientation": "h",
         "showlegend": true,
         "type": "box",
         "x": [
          6,
          19,
          12,
          7,
          16,
          10,
          10,
          23,
          3,
          37,
          23,
          6,
          3,
          9,
          14,
          58,
          1,
          34,
          8,
          14,
          9,
          26,
          9,
          20,
          12,
          9,
          12,
          20,
          5,
          13,
          5,
          12,
          8,
          10,
          6
         ],
         "x0": " ",
         "xaxis": "x",
         "y0": " ",
         "yaxis": "y"
        },
        {
         "alignmentgroup": "True",
         "hovertemplate": "score=5<br>sentence_count=%{x}<extra></extra>",
         "legendgroup": "5",
         "marker": {
          "color": "#FFA15A"
         },
         "name": "5",
         "notched": false,
         "offsetgroup": "5",
         "orientation": "h",
         "showlegend": true,
         "type": "box",
         "x": [
          43,
          21,
          32,
          30,
          28,
          40,
          22,
          36,
          26,
          35,
          29,
          27,
          32,
          28,
          37
         ],
         "x0": " ",
         "xaxis": "x",
         "y0": " ",
         "yaxis": "y"
        },
        {
         "alignmentgroup": "True",
         "hovertemplate": "score=6<br>sentence_count=%{x}<extra></extra>",
         "legendgroup": "6",
         "marker": {
          "color": "#19d3f3"
         },
         "name": "6",
         "notched": false,
         "offsetgroup": "6",
         "orientation": "h",
         "showlegend": true,
         "type": "box",
         "x": [
          45,
          40,
          36,
          27
         ],
         "x0": " ",
         "xaxis": "x",
         "y0": " ",
         "yaxis": "y"
        }
       ],
       "layout": {
        "boxmode": "group",
        "height": 540,
        "legend": {
         "orientation": "h",
         "title": {
          "text": "score"
         },
         "tracegroupgap": 0,
         "x": 0.5,
         "xanchor": "center",
         "y": -0.2,
         "yanchor": "top"
        },
        "template": {
         "data": {
          "bar": [
           {
            "error_x": {
             "color": "#2a3f5f"
            },
            "error_y": {
             "color": "#2a3f5f"
            },
            "marker": {
             "line": {
              "color": "#E5ECF6",
              "width": 0.5
             },
             "pattern": {
              "fillmode": "overlay",
              "size": 10,
              "solidity": 0.2
             }
            },
            "type": "bar"
           }
          ],
          "barpolar": [
           {
            "marker": {
             "line": {
              "color": "#E5ECF6",
              "width": 0.5
             },
             "pattern": {
              "fillmode": "overlay",
              "size": 10,
              "solidity": 0.2
             }
            },
            "type": "barpolar"
           }
          ],
          "carpet": [
           {
            "aaxis": {
             "endlinecolor": "#2a3f5f",
             "gridcolor": "white",
             "linecolor": "white",
             "minorgridcolor": "white",
             "startlinecolor": "#2a3f5f"
            },
            "baxis": {
             "endlinecolor": "#2a3f5f",
             "gridcolor": "white",
             "linecolor": "white",
             "minorgridcolor": "white",
             "startlinecolor": "#2a3f5f"
            },
            "type": "carpet"
           }
          ],
          "choropleth": [
           {
            "colorbar": {
             "outlinewidth": 0,
             "ticks": ""
            },
            "type": "choropleth"
           }
          ],
          "contour": [
           {
            "colorbar": {
             "outlinewidth": 0,
             "ticks": ""
            },
            "colorscale": [
             [
              0,
              "#0d0887"
             ],
             [
              0.1111111111111111,
              "#46039f"
             ],
             [
              0.2222222222222222,
              "#7201a8"
             ],
             [
              0.3333333333333333,
              "#9c179e"
             ],
             [
              0.4444444444444444,
              "#bd3786"
             ],
             [
              0.5555555555555556,
              "#d8576b"
             ],
             [
              0.6666666666666666,
              "#ed7953"
             ],
             [
              0.7777777777777778,
              "#fb9f3a"
             ],
             [
              0.8888888888888888,
              "#fdca26"
             ],
             [
              1,
              "#f0f921"
             ]
            ],
            "type": "contour"
           }
          ],
          "contourcarpet": [
           {
            "colorbar": {
             "outlinewidth": 0,
             "ticks": ""
            },
            "type": "contourcarpet"
           }
          ],
          "heatmap": [
           {
            "colorbar": {
             "outlinewidth": 0,
             "ticks": ""
            },
            "colorscale": [
             [
              0,
              "#0d0887"
             ],
             [
              0.1111111111111111,
              "#46039f"
             ],
             [
              0.2222222222222222,
              "#7201a8"
             ],
             [
              0.3333333333333333,
              "#9c179e"
             ],
             [
              0.4444444444444444,
              "#bd3786"
             ],
             [
              0.5555555555555556,
              "#d8576b"
             ],
             [
              0.6666666666666666,
              "#ed7953"
             ],
             [
              0.7777777777777778,
              "#fb9f3a"
             ],
             [
              0.8888888888888888,
              "#fdca26"
             ],
             [
              1,
              "#f0f921"
             ]
            ],
            "type": "heatmap"
           }
          ],
          "heatmapgl": [
           {
            "colorbar": {
             "outlinewidth": 0,
             "ticks": ""
            },
            "colorscale": [
             [
              0,
              "#0d0887"
             ],
             [
              0.1111111111111111,
              "#46039f"
             ],
             [
              0.2222222222222222,
              "#7201a8"
             ],
             [
              0.3333333333333333,
              "#9c179e"
             ],
             [
              0.4444444444444444,
              "#bd3786"
             ],
             [
              0.5555555555555556,
              "#d8576b"
             ],
             [
              0.6666666666666666,
              "#ed7953"
             ],
             [
              0.7777777777777778,
              "#fb9f3a"
             ],
             [
              0.8888888888888888,
              "#fdca26"
             ],
             [
              1,
              "#f0f921"
             ]
            ],
            "type": "heatmapgl"
           }
          ],
          "histogram": [
           {
            "marker": {
             "pattern": {
              "fillmode": "overlay",
              "size": 10,
              "solidity": 0.2
             }
            },
            "type": "histogram"
           }
          ],
          "histogram2d": [
           {
            "colorbar": {
             "outlinewidth": 0,
             "ticks": ""
            },
            "colorscale": [
             [
              0,
              "#0d0887"
             ],
             [
              0.1111111111111111,
              "#46039f"
             ],
             [
              0.2222222222222222,
              "#7201a8"
             ],
             [
              0.3333333333333333,
              "#9c179e"
             ],
             [
              0.4444444444444444,
              "#bd3786"
             ],
             [
              0.5555555555555556,
              "#d8576b"
             ],
             [
              0.6666666666666666,
              "#ed7953"
             ],
             [
              0.7777777777777778,
              "#fb9f3a"
             ],
             [
              0.8888888888888888,
              "#fdca26"
             ],
             [
              1,
              "#f0f921"
             ]
            ],
            "type": "histogram2d"
           }
          ],
          "histogram2dcontour": [
           {
            "colorbar": {
             "outlinewidth": 0,
             "ticks": ""
            },
            "colorscale": [
             [
              0,
              "#0d0887"
             ],
             [
              0.1111111111111111,
              "#46039f"
             ],
             [
              0.2222222222222222,
              "#7201a8"
             ],
             [
              0.3333333333333333,
              "#9c179e"
             ],
             [
              0.4444444444444444,
              "#bd3786"
             ],
             [
              0.5555555555555556,
              "#d8576b"
             ],
             [
              0.6666666666666666,
              "#ed7953"
             ],
             [
              0.7777777777777778,
              "#fb9f3a"
             ],
             [
              0.8888888888888888,
              "#fdca26"
             ],
             [
              1,
              "#f0f921"
             ]
            ],
            "type": "histogram2dcontour"
           }
          ],
          "mesh3d": [
           {
            "colorbar": {
             "outlinewidth": 0,
             "ticks": ""
            },
            "type": "mesh3d"
           }
          ],
          "parcoords": [
           {
            "line": {
             "colorbar": {
              "outlinewidth": 0,
              "ticks": ""
             }
            },
            "type": "parcoords"
           }
          ],
          "pie": [
           {
            "automargin": true,
            "type": "pie"
           }
          ],
          "scatter": [
           {
            "fillpattern": {
             "fillmode": "overlay",
             "size": 10,
             "solidity": 0.2
            },
            "type": "scatter"
           }
          ],
          "scatter3d": [
           {
            "line": {
             "colorbar": {
              "outlinewidth": 0,
              "ticks": ""
             }
            },
            "marker": {
             "colorbar": {
              "outlinewidth": 0,
              "ticks": ""
             }
            },
            "type": "scatter3d"
           }
          ],
          "scattercarpet": [
           {
            "marker": {
             "colorbar": {
              "outlinewidth": 0,
              "ticks": ""
             }
            },
            "type": "scattercarpet"
           }
          ],
          "scattergeo": [
           {
            "marker": {
             "colorbar": {
              "outlinewidth": 0,
              "ticks": ""
             }
            },
            "type": "scattergeo"
           }
          ],
          "scattergl": [
           {
            "marker": {
             "colorbar": {
              "outlinewidth": 0,
              "ticks": ""
             }
            },
            "type": "scattergl"
           }
          ],
          "scattermapbox": [
           {
            "marker": {
             "colorbar": {
              "outlinewidth": 0,
              "ticks": ""
             }
            },
            "type": "scattermapbox"
           }
          ],
          "scatterpolar": [
           {
            "marker": {
             "colorbar": {
              "outlinewidth": 0,
              "ticks": ""
             }
            },
            "type": "scatterpolar"
           }
          ],
          "scatterpolargl": [
           {
            "marker": {
             "colorbar": {
              "outlinewidth": 0,
              "ticks": ""
             }
            },
            "type": "scatterpolargl"
           }
          ],
          "scatterternary": [
           {
            "marker": {
             "colorbar": {
              "outlinewidth": 0,
              "ticks": ""
             }
            },
            "type": "scatterternary"
           }
          ],
          "surface": [
           {
            "colorbar": {
             "outlinewidth": 0,
             "ticks": ""
            },
            "colorscale": [
             [
              0,
              "#0d0887"
             ],
             [
              0.1111111111111111,
              "#46039f"
             ],
             [
              0.2222222222222222,
              "#7201a8"
             ],
             [
              0.3333333333333333,
              "#9c179e"
             ],
             [
              0.4444444444444444,
              "#bd3786"
             ],
             [
              0.5555555555555556,
              "#d8576b"
             ],
             [
              0.6666666666666666,
              "#ed7953"
             ],
             [
              0.7777777777777778,
              "#fb9f3a"
             ],
             [
              0.8888888888888888,
              "#fdca26"
             ],
             [
              1,
              "#f0f921"
             ]
            ],
            "type": "surface"
           }
          ],
          "table": [
           {
            "cells": {
             "fill": {
              "color": "#EBF0F8"
             },
             "line": {
              "color": "white"
             }
            },
            "header": {
             "fill": {
              "color": "#C8D4E3"
             },
             "line": {
              "color": "white"
             }
            },
            "type": "table"
           }
          ]
         },
         "layout": {
          "annotationdefaults": {
           "arrowcolor": "#2a3f5f",
           "arrowhead": 0,
           "arrowwidth": 1
          },
          "autotypenumbers": "strict",
          "coloraxis": {
           "colorbar": {
            "outlinewidth": 0,
            "ticks": ""
           }
          },
          "colorscale": {
           "diverging": [
            [
             0,
             "#8e0152"
            ],
            [
             0.1,
             "#c51b7d"
            ],
            [
             0.2,
             "#de77ae"
            ],
            [
             0.3,
             "#f1b6da"
            ],
            [
             0.4,
             "#fde0ef"
            ],
            [
             0.5,
             "#f7f7f7"
            ],
            [
             0.6,
             "#e6f5d0"
            ],
            [
             0.7,
             "#b8e186"
            ],
            [
             0.8,
             "#7fbc41"
            ],
            [
             0.9,
             "#4d9221"
            ],
            [
             1,
             "#276419"
            ]
           ],
           "sequential": [
            [
             0,
             "#0d0887"
            ],
            [
             0.1111111111111111,
             "#46039f"
            ],
            [
             0.2222222222222222,
             "#7201a8"
            ],
            [
             0.3333333333333333,
             "#9c179e"
            ],
            [
             0.4444444444444444,
             "#bd3786"
            ],
            [
             0.5555555555555556,
             "#d8576b"
            ],
            [
             0.6666666666666666,
             "#ed7953"
            ],
            [
             0.7777777777777778,
             "#fb9f3a"
            ],
            [
             0.8888888888888888,
             "#fdca26"
            ],
            [
             1,
             "#f0f921"
            ]
           ],
           "sequentialminus": [
            [
             0,
             "#0d0887"
            ],
            [
             0.1111111111111111,
             "#46039f"
            ],
            [
             0.2222222222222222,
             "#7201a8"
            ],
            [
             0.3333333333333333,
             "#9c179e"
            ],
            [
             0.4444444444444444,
             "#bd3786"
            ],
            [
             0.5555555555555556,
             "#d8576b"
            ],
            [
             0.6666666666666666,
             "#ed7953"
            ],
            [
             0.7777777777777778,
             "#fb9f3a"
            ],
            [
             0.8888888888888888,
             "#fdca26"
            ],
            [
             1,
             "#f0f921"
            ]
           ]
          },
          "colorway": [
           "#636efa",
           "#EF553B",
           "#00cc96",
           "#ab63fa",
           "#FFA15A",
           "#19d3f3",
           "#FF6692",
           "#B6E880",
           "#FF97FF",
           "#FECB52"
          ],
          "font": {
           "color": "#2a3f5f"
          },
          "geo": {
           "bgcolor": "white",
           "lakecolor": "white",
           "landcolor": "#E5ECF6",
           "showlakes": true,
           "showland": true,
           "subunitcolor": "white"
          },
          "hoverlabel": {
           "align": "left"
          },
          "hovermode": "closest",
          "mapbox": {
           "style": "light"
          },
          "paper_bgcolor": "white",
          "plot_bgcolor": "#E5ECF6",
          "polar": {
           "angularaxis": {
            "gridcolor": "white",
            "linecolor": "white",
            "ticks": ""
           },
           "bgcolor": "#E5ECF6",
           "radialaxis": {
            "gridcolor": "white",
            "linecolor": "white",
            "ticks": ""
           }
          },
          "scene": {
           "xaxis": {
            "backgroundcolor": "#E5ECF6",
            "gridcolor": "white",
            "gridwidth": 2,
            "linecolor": "white",
            "showbackground": true,
            "ticks": "",
            "zerolinecolor": "white"
           },
           "yaxis": {
            "backgroundcolor": "#E5ECF6",
            "gridcolor": "white",
            "gridwidth": 2,
            "linecolor": "white",
            "showbackground": true,
            "ticks": "",
            "zerolinecolor": "white"
           },
           "zaxis": {
            "backgroundcolor": "#E5ECF6",
            "gridcolor": "white",
            "gridwidth": 2,
            "linecolor": "white",
            "showbackground": true,
            "ticks": "",
            "zerolinecolor": "white"
           }
          },
          "shapedefaults": {
           "line": {
            "color": "#2a3f5f"
           }
          },
          "ternary": {
           "aaxis": {
            "gridcolor": "white",
            "linecolor": "white",
            "ticks": ""
           },
           "baxis": {
            "gridcolor": "white",
            "linecolor": "white",
            "ticks": ""
           },
           "bgcolor": "#E5ECF6",
           "caxis": {
            "gridcolor": "white",
            "linecolor": "white",
            "ticks": ""
           }
          },
          "title": {
           "x": 0.05
          },
          "xaxis": {
           "automargin": true,
           "gridcolor": "white",
           "linecolor": "white",
           "ticks": "",
           "title": {
            "standoff": 15
           },
           "zerolinecolor": "white",
           "zerolinewidth": 2
          },
          "yaxis": {
           "automargin": true,
           "gridcolor": "white",
           "linecolor": "white",
           "ticks": "",
           "title": {
            "standoff": 15
           },
           "zerolinecolor": "white",
           "zerolinewidth": 2
          }
         }
        },
        "title": {
         "text": "Number of Sentences",
         "x": 0.5
        },
        "width": 960,
        "xaxis": {
         "anchor": "y",
         "domain": [
          0,
          1
         ],
         "title": {
          "text": "sentence_count"
         }
        },
        "yaxis": {
         "anchor": "x",
         "domain": [
          0,
          1
         ]
        }
       }
      }
     },
     "metadata": {},
     "output_type": "display_data"
    }
   ],
   "source": [
    "fig = px.box(\n",
    "    df,\n",
    "    x=\"sentence_count\",\n",
    "    color=\"score\",\n",
    "    title=\"Sentence count distribution by Score\",\n",
    ")\n",
    "fig.update_layout(\n",
    "    height=1080 // 2,\n",
    "    width=1920 // 2,\n",
    "    title_x=0.5,\n",
    "    title_text=\"Number of Sentences\",\n",
    "    legend=dict(orientation=\"h\", yanchor=\"top\", xanchor=\"center\", y=-0.2, x=0.5),\n",
    ")\n",
    "fig.show()"
   ]
  },
  {
   "cell_type": "markdown",
   "metadata": {},
   "source": [
    "Somewhat useful."
   ]
  },
  {
   "cell_type": "markdown",
   "metadata": {},
   "source": [
    "## Mistakes per Sentence (Useful)"
   ]
  },
  {
   "cell_type": "code",
   "execution_count": 11,
   "metadata": {},
   "outputs": [],
   "source": [
    "def mistakes_in_sentence(sentences):\n",
    "    return [\n",
    "        sum([word.lower() not in all_words for word in word_tokenize(sentence)])\n",
    "        for sentence in sentences\n",
    "    ]"
   ]
  },
  {
   "cell_type": "code",
   "execution_count": 12,
   "metadata": {},
   "outputs": [],
   "source": [
    "df[\"sentence_word_mistakes\"] = df[\"sentences\"].map(mistakes_in_sentence)\n",
    "df[\"sentence_word_mistakes_sum\"] = df[\"sentence_word_mistakes\"].map(sum)\n",
    "df[\"sentence_word_mistakes_max\"] = df[\"sentence_word_mistakes\"].map(max)\n",
    "df[\"sentence_word_mistakes_min\"] = df[\"sentence_word_mistakes\"].map(min)\n",
    "df[\"sentence_word_mistakes_mean\"] = df[\"sentence_word_mistakes\"].map(np.mean)"
   ]
  },
  {
   "cell_type": "code",
   "execution_count": 13,
   "metadata": {},
   "outputs": [],
   "source": [
    "def plot(fig, name, row, col):\n",
    "    color = {\n",
    "        1: \"blue\",\n",
    "        2: \"red\",\n",
    "        3: \"green\",\n",
    "        4: \"purple\",\n",
    "        5: \"orange\",\n",
    "        6: \"pink\",\n",
    "    }\n",
    "    for score in range(1, 7):\n",
    "        fig.add_trace(\n",
    "            go.Box(\n",
    "                x=df.loc[df[\"score\"] == score, name],\n",
    "                name=score,\n",
    "                legendgroup=score,\n",
    "                marker=dict(color=color[score]),\n",
    "                showlegend=False,\n",
    "            ),\n",
    "            row=row,\n",
    "            col=col,\n",
    "        )\n",
    "\n",
    "    fig.update_yaxes(title_text=\"Score\", row=row, col=col)\n",
    "    fig.update_xaxes(title_text=name, row=row, col=col)"
   ]
  },
  {
   "cell_type": "code",
   "execution_count": 14,
   "metadata": {},
   "outputs": [],
   "source": [
    "def plot_all(prefix):\n",
    "    names = [\n",
    "        f\"{prefix}_sum\",\n",
    "        f\"{prefix}_max\",\n",
    "        f\"{prefix}_min\",\n",
    "        f\"{prefix}_mean\",\n",
    "    ]\n",
    "\n",
    "    fig = make_subplots(\n",
    "        rows=2,\n",
    "        cols=2,\n",
    "        subplot_titles=names,\n",
    "        shared_yaxes=True,\n",
    "    )\n",
    "    for i, name in enumerate(names):\n",
    "        plot(fig, name, i // 2 + 1, i % 2 + 1)\n",
    "\n",
    "    fig.update_layout(\n",
    "        height=1080 // 2,\n",
    "        width=1920 // 2,\n",
    "        title_x=0.5,\n",
    "        title_text=prefix,\n",
    "        legend=dict(orientation=\"h\", yanchor=\"top\", xanchor=\"center\", y=-0.2, x=0.5),\n",
    "        barmode=\"group\",\n",
    "    )\n",
    "    fig.show()"
   ]
  },
  {
   "cell_type": "code",
   "execution_count": 15,
   "metadata": {},
   "outputs": [
    {
     "data": {
      "application/vnd.plotly.v1+json": {
       "config": {
        "plotlyServerURL": "https://plot.ly"
       },
       "data": [
        {
         "legendgroup": "1",
         "marker": {
          "color": "blue"
         },
         "name": "1",
         "showlegend": false,
         "type": "box",
         "x": [
          83,
          81,
          30,
          41,
          88,
          56,
          36,
          109,
          29,
          115,
          117,
          46,
          20,
          61,
          28,
          173,
          71,
          138,
          24,
          71,
          44,
          106,
          21,
          89,
          37,
          69,
          56,
          89,
          32,
          58,
          38,
          42,
          26,
          45,
          22
         ],
         "xaxis": "x",
         "yaxis": "y"
        },
        {
         "legendgroup": "2",
         "marker": {
          "color": "red"
         },
         "name": "2",
         "showlegend": false,
         "type": "box",
         "x": [
          30,
          86,
          25,
          54,
          42,
          36,
          43,
          45,
          57,
          61,
          21,
          42,
          45,
          71,
          27,
          39,
          64,
          30,
          31,
          19,
          59,
          46,
          41,
          19,
          87,
          22,
          101,
          46,
          51,
          25,
          53,
          66,
          62,
          50,
          28,
          59,
          70,
          38,
          52,
          33,
          62,
          107,
          63,
          28,
          47,
          88,
          60,
          62,
          85,
          31,
          114,
          44,
          41,
          31,
          43,
          121,
          47,
          84,
          27,
          123,
          51,
          38,
          65,
          40,
          71,
          57,
          81,
          48,
          79,
          49,
          27,
          45,
          17,
          41,
          105,
          39,
          64,
          65,
          30,
          42,
          63,
          47,
          126,
          46,
          36,
          30,
          47,
          47,
          51,
          25,
          70,
          30,
          18,
          100,
          25,
          25,
          55,
          41,
          34,
          34,
          60,
          45,
          29,
          29,
          61,
          67,
          50,
          60,
          53,
          100,
          30,
          100,
          32,
          51,
          69,
          29,
          52,
          54,
          102,
          32,
          27,
          50,
          43,
          34,
          74,
          65,
          33,
          60,
          34
         ],
         "xaxis": "x",
         "yaxis": "y"
        },
        {
         "legendgroup": "3",
         "marker": {
          "color": "green"
         },
         "name": "3",
         "showlegend": false,
         "type": "box",
         "x": [
          96,
          77,
          73,
          79,
          81,
          57,
          66,
          73,
          70,
          30,
          84,
          54,
          48,
          59,
          99,
          77,
          55,
          66,
          46,
          36,
          124,
          97,
          53,
          51,
          41,
          100,
          62,
          66,
          107,
          76,
          74,
          49,
          51,
          77,
          81,
          116,
          66,
          81,
          88,
          64,
          36,
          64,
          64,
          95,
          66,
          36,
          69,
          51,
          102,
          98,
          114,
          69,
          116,
          44,
          90,
          90,
          46,
          152,
          61,
          84,
          56,
          120,
          94,
          77,
          62,
          41,
          106,
          81,
          66,
          58,
          78,
          67,
          46,
          45,
          132,
          38,
          140,
          71,
          85,
          53,
          90,
          103,
          55,
          64,
          94,
          70,
          62,
          68,
          112,
          90,
          73,
          87,
          100,
          59,
          54,
          67,
          53,
          91,
          39,
          53,
          103,
          67,
          77,
          50,
          81,
          74,
          87,
          55,
          32,
          45,
          95,
          55,
          53,
          77,
          80,
          57,
          69,
          67,
          91,
          109,
          105,
          96,
          30,
          73,
          81,
          55,
          106,
          63,
          52,
          74,
          71,
          34,
          81,
          85,
          66,
          48,
          50,
          63,
          57,
          38,
          53,
          119,
          88,
          92,
          57,
          82,
          72,
          58,
          72,
          36,
          38,
          53,
          36,
          73,
          82,
          58,
          42,
          92,
          85,
          76,
          66,
          78,
          81,
          44,
          65,
          72,
          68,
          49,
          62,
          28,
          71,
          65,
          95,
          55,
          89,
          63,
          58,
          42,
          106,
          34,
          81,
          62,
          45,
          117,
          41,
          124,
          69,
          63,
          137,
          67,
          46,
          57,
          55,
          46,
          67,
          59,
          65
         ],
         "xaxis": "x",
         "yaxis": "y"
        },
        {
         "legendgroup": "4",
         "marker": {
          "color": "purple"
         },
         "name": "4",
         "showlegend": false,
         "type": "box",
         "x": [
          97,
          102,
          68,
          104,
          135,
          107,
          72,
          124,
          32,
          76,
          82,
          133,
          82,
          138,
          81,
          127,
          133,
          123,
          129,
          122,
          98,
          128,
          133,
          149,
          77,
          80,
          169,
          67,
          81,
          70,
          101,
          107,
          63,
          182,
          49,
          104,
          70,
          116,
          94,
          94,
          130,
          104,
          77,
          120,
          113,
          94,
          103,
          68,
          130,
          95,
          102,
          74,
          56,
          102,
          81,
          106,
          130,
          93,
          78,
          96,
          59,
          71,
          116,
          76,
          96,
          142,
          122,
          91,
          101,
          136,
          65,
          120,
          142,
          104,
          87,
          73,
          78,
          73,
          92,
          83,
          87,
          73,
          122,
          144,
          189,
          92,
          66,
          104,
          121,
          104,
          114,
          103,
          117,
          131,
          130,
          67,
          79,
          86,
          91,
          92,
          135,
          90,
          47,
          93,
          60,
          57,
          120,
          72,
          73,
          71,
          101,
          98,
          76,
          90,
          152,
          115,
          78,
          91,
          56,
          113
         ],
         "xaxis": "x",
         "yaxis": "y"
        },
        {
         "legendgroup": "5",
         "marker": {
          "color": "orange"
         },
         "name": "5",
         "showlegend": false,
         "type": "box",
         "x": [
          145,
          98,
          140,
          103,
          75,
          106,
          105,
          103,
          147,
          128,
          193,
          97,
          115,
          110,
          151
         ],
         "xaxis": "x",
         "yaxis": "y"
        },
        {
         "legendgroup": "6",
         "marker": {
          "color": "pink"
         },
         "name": "6",
         "showlegend": false,
         "type": "box",
         "x": [
          214,
          206,
          212,
          79
         ],
         "xaxis": "x",
         "yaxis": "y"
        },
        {
         "legendgroup": "1",
         "marker": {
          "color": "blue"
         },
         "name": "1",
         "showlegend": false,
         "type": "box",
         "x": [
          22,
          9,
          7,
          9,
          11,
          15,
          7,
          13,
          17,
          8,
          11,
          12,
          15,
          12,
          3,
          7,
          71,
          11,
          7,
          13,
          10,
          10,
          5,
          12,
          6,
          14,
          11,
          10,
          11,
          16,
          19,
          7,
          8,
          7,
          6
         ],
         "xaxis": "x2",
         "yaxis": "y2"
        },
        {
         "legendgroup": "2",
         "marker": {
          "color": "red"
         },
         "name": "2",
         "showlegend": false,
         "type": "box",
         "x": [
          7,
          14,
          5,
          12,
          6,
          8,
          12,
          10,
          10,
          10,
          5,
          13,
          6,
          11,
          5,
          15,
          10,
          12,
          5,
          10,
          8,
          9,
          12,
          7,
          11,
          7,
          9,
          12,
          13,
          3,
          9,
          9,
          10,
          13,
          8,
          10,
          9,
          11,
          8,
          7,
          10,
          16,
          7,
          8,
          7,
          19,
          8,
          9,
          19,
          14,
          8,
          10,
          9,
          7,
          6,
          9,
          7,
          13,
          7,
          11,
          6,
          7,
          11,
          7,
          5,
          10,
          12,
          9,
          16,
          10,
          10,
          9,
          8,
          6,
          15,
          9,
          9,
          9,
          11,
          5,
          12,
          14,
          11,
          11,
          5,
          5,
          6,
          14,
          6,
          14,
          8,
          4,
          5,
          10,
          5,
          4,
          12,
          5,
          10,
          8,
          9,
          5,
          4,
          6,
          10,
          14,
          8,
          10,
          6,
          12,
          9,
          15,
          7,
          7,
          8,
          5,
          6,
          11,
          15,
          4,
          9,
          9,
          9,
          5,
          9,
          23,
          13,
          27,
          14
         ],
         "xaxis": "x2",
         "yaxis": "y2"
        },
        {
         "legendgroup": "3",
         "marker": {
          "color": "green"
         },
         "name": "3",
         "showlegend": false,
         "type": "box",
         "x": [
          20,
          8,
          14,
          8,
          8,
          7,
          10,
          8,
          7,
          4,
          8,
          5,
          9,
          15,
          14,
          9,
          10,
          15,
          15,
          6,
          8,
          14,
          8,
          10,
          7,
          13,
          7,
          8,
          8,
          9,
          9,
          13,
          8,
          16,
          23,
          6,
          11,
          9,
          10,
          8,
          5,
          12,
          9,
          13,
          13,
          7,
          6,
          7,
          9,
          10,
          11,
          9,
          15,
          11,
          10,
          6,
          6,
          29,
          7,
          10,
          7,
          15,
          8,
          12,
          10,
          9,
          10,
          8,
          8,
          8,
          11,
          10,
          8,
          10,
          13,
          11,
          12,
          7,
          18,
          9,
          7,
          18,
          7,
          7,
          6,
          9,
          7,
          9,
          10,
          9,
          6,
          12,
          13,
          9,
          6,
          11,
          5,
          13,
          6,
          8,
          9,
          8,
          15,
          8,
          14,
          14,
          13,
          11,
          6,
          9,
          11,
          7,
          10,
          8,
          13,
          8,
          5,
          8,
          9,
          15,
          17,
          7,
          5,
          10,
          16,
          7,
          14,
          9,
          8,
          7,
          8,
          7,
          9,
          10,
          17,
          9,
          7,
          12,
          10,
          8,
          6,
          11,
          5,
          9,
          7,
          14,
          7,
          8,
          11,
          4,
          4,
          6,
          7,
          7,
          7,
          7,
          5,
          10,
          7,
          16,
          16,
          7,
          10,
          6,
          6,
          7,
          7,
          6,
          4,
          5,
          7,
          9,
          7,
          6,
          10,
          6,
          6,
          6,
          12,
          5,
          8,
          6,
          8,
          8,
          5,
          17,
          8,
          5,
          18,
          11,
          9,
          5,
          8,
          7,
          6,
          11,
          10
         ],
         "xaxis": "x2",
         "yaxis": "y2"
        },
        {
         "legendgroup": "4",
         "marker": {
          "color": "purple"
         },
         "name": "4",
         "showlegend": false,
         "type": "box",
         "x": [
          9,
          14,
          8,
          9,
          11,
          10,
          13,
          15,
          4,
          11,
          7,
          12,
          17,
          15,
          14,
          13,
          12,
          11,
          17,
          13,
          11,
          18,
          12,
          18,
          6,
          13,
          13,
          13,
          10,
          9,
          9,
          9,
          8,
          13,
          5,
          9,
          5,
          8,
          10,
          8,
          13,
          14,
          7,
          8,
          13,
          9,
          7,
          5,
          11,
          11,
          9,
          6,
          6,
          13,
          4,
          13,
          9,
          10,
          12,
          10,
          5,
          11,
          17,
          9,
          9,
          9,
          9,
          13,
          10,
          13,
          6,
          11,
          8,
          12,
          7,
          10,
          9,
          8,
          7,
          14,
          9,
          7,
          10,
          18,
          17,
          9,
          6,
          12,
          8,
          13,
          10,
          10,
          8,
          12,
          12,
          7,
          10,
          5,
          9,
          5,
          15,
          19,
          6,
          11,
          8,
          6,
          14,
          7,
          6,
          13,
          7,
          7,
          8,
          12,
          22,
          14,
          7,
          8,
          6,
          14
         ],
         "xaxis": "x2",
         "yaxis": "y2"
        },
        {
         "legendgroup": "5",
         "marker": {
          "color": "orange"
         },
         "name": "5",
         "showlegend": false,
         "type": "box",
         "x": [
          8,
          15,
          13,
          13,
          6,
          7,
          9,
          14,
          17,
          8,
          16,
          8,
          10,
          15,
          13
         ],
         "xaxis": "x2",
         "yaxis": "y2"
        },
        {
         "legendgroup": "6",
         "marker": {
          "color": "pink"
         },
         "name": "6",
         "showlegend": false,
         "type": "box",
         "x": [
          18,
          16,
          14,
          11
         ],
         "xaxis": "x2",
         "yaxis": "y2"
        },
        {
         "legendgroup": "1",
         "marker": {
          "color": "blue"
         },
         "name": "1",
         "showlegend": false,
         "type": "box",
         "x": [
          7,
          1,
          1,
          2,
          1,
          2,
          1,
          1,
          5,
          1,
          1,
          2,
          2,
          2,
          1,
          1,
          71,
          1,
          1,
          1,
          1,
          1,
          1,
          1,
          1,
          2,
          3,
          2,
          3,
          1,
          1,
          1,
          1,
          1,
          2
         ],
         "xaxis": "x3",
         "yaxis": "y3"
        },
        {
         "legendgroup": "2",
         "marker": {
          "color": "red"
         },
         "name": "2",
         "showlegend": false,
         "type": "box",
         "x": [
          2,
          2,
          1,
          2,
          1,
          1,
          3,
          1,
          2,
          0,
          1,
          5,
          1,
          1,
          2,
          1,
          1,
          3,
          1,
          2,
          2,
          2,
          9,
          1,
          1,
          1,
          1,
          2,
          1,
          1,
          1,
          1,
          1,
          0,
          1,
          1,
          1,
          1,
          1,
          1,
          1,
          1,
          2,
          1,
          2,
          2,
          2,
          1,
          1,
          3,
          1,
          2,
          2,
          2,
          1,
          1,
          1,
          3,
          1,
          1,
          1,
          2,
          2,
          1,
          1,
          1,
          1,
          1,
          2,
          2,
          1,
          2,
          1,
          1,
          2,
          0,
          1,
          2,
          1,
          1,
          5,
          1,
          1,
          1,
          2,
          1,
          1,
          2,
          1,
          11,
          3,
          2,
          1,
          1,
          1,
          1,
          1,
          1,
          1,
          1,
          1,
          1,
          1,
          1,
          1,
          1,
          1,
          1,
          1,
          1,
          1,
          1,
          1,
          1,
          1,
          1,
          1,
          1,
          1,
          1,
          1,
          1,
          1,
          1,
          1,
          3,
          1,
          1,
          1
         ],
         "xaxis": "x3",
         "yaxis": "y3"
        },
        {
         "legendgroup": "3",
         "marker": {
          "color": "green"
         },
         "name": "3",
         "showlegend": false,
         "type": "box",
         "x": [
          1,
          1,
          1,
          1,
          1,
          1,
          2,
          1,
          1,
          1,
          1,
          1,
          1,
          1,
          1,
          1,
          1,
          1,
          2,
          1,
          1,
          2,
          1,
          2,
          1,
          2,
          1,
          1,
          1,
          1,
          1,
          1,
          1,
          1,
          2,
          1,
          2,
          1,
          2,
          2,
          1,
          1,
          1,
          1,
          1,
          1,
          1,
          1,
          1,
          1,
          1,
          1,
          2,
          1,
          1,
          1,
          1,
          1,
          1,
          1,
          1,
          1,
          1,
          1,
          4,
          1,
          1,
          1,
          1,
          1,
          2,
          1,
          1,
          2,
          2,
          1,
          1,
          1,
          1,
          1,
          1,
          1,
          1,
          2,
          2,
          2,
          1,
          1,
          1,
          1,
          1,
          2,
          1,
          4,
          1,
          1,
          1,
          1,
          1,
          1,
          1,
          1,
          1,
          1,
          1,
          1,
          1,
          1,
          1,
          2,
          1,
          1,
          1,
          1,
          2,
          3,
          1,
          1,
          1,
          1,
          2,
          1,
          1,
          3,
          2,
          1,
          1,
          1,
          1,
          1,
          2,
          1,
          1,
          1,
          7,
          1,
          1,
          3,
          1,
          1,
          1,
          1,
          1,
          1,
          2,
          1,
          1,
          1,
          1,
          1,
          1,
          1,
          1,
          1,
          1,
          1,
          1,
          1,
          1,
          2,
          1,
          2,
          1,
          1,
          1,
          1,
          1,
          1,
          1,
          1,
          1,
          3,
          1,
          1,
          2,
          1,
          2,
          1,
          1,
          2,
          1,
          2,
          1,
          1,
          2,
          1,
          1,
          1,
          1,
          1,
          1,
          0,
          1,
          1,
          1,
          2,
          1
         ],
         "xaxis": "x3",
         "yaxis": "y3"
        },
        {
         "legendgroup": "4",
         "marker": {
          "color": "purple"
         },
         "name": "4",
         "showlegend": false,
         "type": "box",
         "x": [
          1,
          1,
          1,
          1,
          1,
          1,
          1,
          1,
          1,
          1,
          1,
          3,
          2,
          2,
          2,
          1,
          1,
          2,
          1,
          1,
          1,
          3,
          1,
          1,
          1,
          1,
          1,
          2,
          1,
          1,
          1,
          1,
          1,
          2,
          1,
          1,
          1,
          1,
          1,
          1,
          1,
          1,
          1,
          1,
          1,
          1,
          2,
          1,
          1,
          1,
          1,
          1,
          1,
          1,
          1,
          1,
          1,
          1,
          2,
          1,
          1,
          1,
          1,
          1,
          1,
          1,
          1,
          1,
          1,
          1,
          1,
          2,
          1,
          1,
          1,
          1,
          3,
          2,
          2,
          1,
          1,
          1,
          1,
          2,
          1,
          1,
          1,
          1,
          1,
          1,
          1,
          1,
          1,
          2,
          1,
          1,
          1,
          1,
          1,
          1,
          1,
          3,
          1,
          1,
          1,
          1,
          1,
          1,
          2,
          1,
          1,
          1,
          1,
          1,
          1,
          1,
          1,
          1,
          1,
          1
         ],
         "xaxis": "x3",
         "yaxis": "y3"
        },
        {
         "legendgroup": "5",
         "marker": {
          "color": "orange"
         },
         "name": "5",
         "showlegend": false,
         "type": "box",
         "x": [
          1,
          1,
          1,
          1,
          1,
          1,
          2,
          1,
          1,
          1,
          1,
          1,
          1,
          1,
          1
         ],
         "xaxis": "x3",
         "yaxis": "y3"
        },
        {
         "legendgroup": "6",
         "marker": {
          "color": "pink"
         },
         "name": "6",
         "showlegend": false,
         "type": "box",
         "x": [
          1,
          1,
          2,
          1
         ],
         "xaxis": "x3",
         "yaxis": "y3"
        },
        {
         "legendgroup": "1",
         "marker": {
          "color": "blue"
         },
         "name": "1",
         "showlegend": false,
         "type": "box",
         "x": [
          13.833333333333334,
          4.2631578947368425,
          2.5,
          5.857142857142857,
          5.5,
          5.6,
          3.6,
          4.739130434782608,
          9.666666666666666,
          3.108108108108108,
          5.086956521739131,
          7.666666666666667,
          6.666666666666667,
          6.777777777777778,
          2,
          2.9827586206896552,
          71,
          4.0588235294117645,
          3,
          5.071428571428571,
          4.888888888888889,
          4.076923076923077,
          2.3333333333333335,
          4.45,
          3.0833333333333335,
          7.666666666666667,
          4.666666666666667,
          4.45,
          6.4,
          4.461538461538462,
          7.6,
          3.5,
          3.25,
          4.5,
          3.6666666666666665
         ],
         "xaxis": "x4",
         "yaxis": "y4"
        },
        {
         "legendgroup": "2",
         "marker": {
          "color": "red"
         },
         "name": "2",
         "showlegend": false,
         "type": "box",
         "x": [
          4.285714285714286,
          4.777777777777778,
          2.272727272727273,
          6,
          3.5,
          3.6,
          7.166666666666667,
          3.75,
          4.75,
          3.05,
          2.625,
          8.4,
          2.3684210526315788,
          5.071428571428571,
          3.375,
          6.5,
          4.266666666666667,
          7.5,
          2.3846153846153846,
          6.333333333333333,
          3.4705882352941178,
          3.5384615384615383,
          10.25,
          2.7142857142857144,
          3.2222222222222223,
          4.4,
          4.391304347826087,
          6.571428571428571,
          4.636363636363637,
          2.0833333333333335,
          3.1176470588235294,
          3.473684210526316,
          3.875,
          4.166666666666667,
          3.5,
          3.2777777777777777,
          3.888888888888889,
          4.75,
          2.888888888888889,
          3,
          2.9523809523809526,
          5.631578947368421,
          4.846153846153846,
          2.8,
          3.1333333333333333,
          6.285714285714286,
          3.75,
          3.4444444444444446,
          6.071428571428571,
          6.2,
          3.9310344827586206,
          6.285714285714286,
          4.555555555555555,
          3.4444444444444446,
          3.3076923076923075,
          2.688888888888889,
          3.1333333333333333,
          7,
          2.25,
          4.730769230769231,
          2.8333333333333335,
          4.75,
          5.416666666666667,
          2,
          3.227272727272727,
          4.384615384615385,
          4.764705882352941,
          4.8,
          6.583333333333333,
          4.454545454545454,
          3.857142857142857,
          5,
          4.25,
          3.727272727272727,
          6.5625,
          4.333333333333333,
          4,
          3.823529411764706,
          4.285714285714286,
          3,
          7.875,
          4.7,
          5.478260869565218,
          3.8333333333333335,
          2.769230769230769,
          2.5,
          3.1333333333333333,
          4.2727272727272725,
          3.1875,
          12.5,
          5,
          3.3333333333333335,
          2.25,
          3.7037037037037037,
          1.9230769230769231,
          2.5,
          5.5,
          2.9285714285714284,
          4.25,
          2.4285714285714284,
          3.5294117647058822,
          2.5,
          2.6363636363636362,
          2.9,
          5.083333333333333,
          3.35,
          3.3333333333333335,
          4.285714285714286,
          2.9444444444444446,
          4.761904761904762,
          4.285714285714286,
          3.7037037037037037,
          4,
          2.6842105263157894,
          3.45,
          2.9,
          4,
          4.5,
          8.5,
          2.4615384615384617,
          4.5,
          3.125,
          3.5833333333333335,
          2.2666666666666666,
          4.352941176470588,
          10.833333333333334,
          4.125,
          12,
          2.6153846153846154
         ],
         "xaxis": "x4",
         "yaxis": "y4"
        },
        {
         "legendgroup": "3",
         "marker": {
          "color": "green"
         },
         "name": "3",
         "showlegend": false,
         "type": "box",
         "x": [
          7.384615384615385,
          3.6666666666666665,
          4.866666666666666,
          3.0384615384615383,
          3.5217391304347827,
          3,
          5.5,
          3.3181818181818183,
          3.1818181818181817,
          2.5,
          3.8181818181818183,
          2.4545454545454546,
          2.823529411764706,
          4.538461538461538,
          3.6666666666666665,
          4.529411764705882,
          3.4375,
          6,
          5.75,
          3.6,
          3.757575757575758,
          5.705882352941177,
          2.789473684210526,
          4.25,
          4.1,
          5,
          2.3846153846153846,
          3,
          3.34375,
          2.533333333333333,
          3.7,
          4.9,
          3,
          4.529411764705882,
          6.230769230769231,
          3.7419354838709675,
          5.076923076923077,
          3.24,
          4.631578947368421,
          4.571428571428571,
          2.25,
          4.571428571428571,
          2.206896551724138,
          4.318181818181818,
          4.125,
          2.25,
          3,
          2.6842105263157894,
          3.090909090909091,
          5.157894736842105,
          4.071428571428571,
          2.76,
          5.523809523809524,
          4.4,
          3.9130434782608696,
          2.5,
          2.4210526315789473,
          8.444444444444445,
          3.210526315789474,
          4.2,
          2.074074074074074,
          5.454545454545454,
          3.76,
          4.8125,
          5.636363636363637,
          3.1538461538461537,
          4.416666666666667,
          3.5217391304347827,
          2.64,
          3.2222222222222223,
          4.875,
          3.9411764705882355,
          3.8333333333333335,
          5,
          5.739130434782608,
          3.8,
          4.827586206896552,
          3.736842105263158,
          5,
          3.533333333333333,
          3.75,
          5.15,
          2.75,
          3.3684210526315788,
          2.9375,
          4.666666666666667,
          3.875,
          4.25,
          4.666666666666667,
          4.090909090909091,
          2.92,
          7.25,
          4.761904761904762,
          5.363636363636363,
          2.8421052631578947,
          4.466666666666667,
          2.9444444444444446,
          3.5,
          3.5454545454545454,
          3.7857142857142856,
          3.121212121212121,
          3.1904761904761907,
          4.529411764705882,
          4.166666666666667,
          3.1153846153846154,
          3.7,
          3.625,
          3.6666666666666665,
          2.909090909090909,
          4.5,
          4.318181818181818,
          2.619047619047619,
          4.076923076923077,
          2.138888888888889,
          5,
          4.75,
          2.76,
          3.0454545454545454,
          4.7894736842105265,
          4.541666666666667,
          7,
          3.310344827586207,
          3.3333333333333335,
          5.214285714285714,
          7.363636363636363,
          2.75,
          4.416666666666667,
          2.8636363636363638,
          2.6,
          3.217391304347826,
          4.733333333333333,
          2.8333333333333335,
          3.1153846153846154,
          5.3125,
          13.2,
          3.2,
          2.6315789473684212,
          5.7272727272727275,
          2.7142857142857144,
          2.7142857142857144,
          3.533333333333333,
          5.173913043478261,
          2.2,
          3.68,
          4.384615384615385,
          5.125,
          2.88,
          3.8666666666666667,
          3.130434782608696,
          1.6363636363636365,
          2,
          3.533333333333333,
          2.1176470588235294,
          2.92,
          3.9047619047619047,
          3.2222222222222223,
          3,
          3.4074074074074074,
          3.1481481481481484,
          5.846153846153846,
          3,
          3.9,
          3.24,
          3.142857142857143,
          2.8260869565217392,
          2.5714285714285716,
          2.9565217391304346,
          2.7222222222222223,
          2.2142857142857144,
          2.5454545454545454,
          2.5357142857142856,
          5.416666666666667,
          2.317073170731707,
          3.0555555555555554,
          5.235294117647059,
          3,
          3.411764705882353,
          2.625,
          3.925925925925926,
          3.4,
          3.6818181818181817,
          3.875,
          3.2142857142857144,
          2.2941176470588234,
          2.9285714285714284,
          4.275862068965517,
          3.8333333333333335,
          2.739130434782609,
          6.85,
          4.466666666666667,
          3.066666666666667,
          3,
          3.6666666666666665,
          3.066666666666667,
          2.576923076923077,
          4.538461538461538,
          3.611111111111111
         ],
         "xaxis": "x4",
         "yaxis": "y4"
        },
        {
         "legendgroup": "4",
         "marker": {
          "color": "purple"
         },
         "name": "4",
         "showlegend": false,
         "type": "box",
         "x": [
          4.041666666666667,
          5.1,
          2.72,
          3.0588235294117645,
          4.354838709677419,
          4.6521739130434785,
          3,
          4.428571428571429,
          2.909090909090909,
          3.8,
          3.5652173913043477,
          6.045454545454546,
          5.857142857142857,
          6,
          5.785714285714286,
          5.291666666666667,
          4.925925925925926,
          4.92,
          4.607142857142857,
          4.518518518518518,
          3.769230769230769,
          8,
          4.586206896551724,
          4.257142857142857,
          2.8518518518518516,
          4,
          4.333333333333333,
          6.090909090909091,
          4.764705882352941,
          3.1818181818181817,
          3.2580645161290325,
          4.28,
          3.7058823529411766,
          5.515151515151516,
          2.7222222222222223,
          3.3548387096774195,
          2.3333333333333335,
          5.2727272727272725,
          3.4814814814814814,
          3.2413793103448274,
          5.2,
          5.2,
          4.052631578947368,
          3.2432432432432434,
          4.346153846153846,
          3.4814814814814814,
          3.6785714285714284,
          3.238095238095238,
          5.416666666666667,
          3.5185185185185186,
          4.08,
          2.242424242424242,
          2.9473684210526314,
          4.08,
          2.3142857142857145,
          4.818181818181818,
          3.611111111111111,
          3.576923076923077,
          5.571428571428571,
          3.84,
          2.269230769230769,
          3.227272727272727,
          5.523809523809524,
          3.619047619047619,
          3.096774193548387,
          4.303030303030303,
          3.05,
          3.9565217391304346,
          3.740740740740741,
          4.689655172413793,
          2.6,
          4.8,
          4.580645161290323,
          3.8518518518518516,
          3.625,
          4.055555555555555,
          5.2,
          4.866666666666666,
          3.8333333333333335,
          4.15,
          3.2222222222222223,
          2.92,
          3.588235294117647,
          5.538461538461538,
          6.75,
          4,
          3.3,
          4.9523809523809526,
          3.4571428571428573,
          3.3548387096774195,
          4.56,
          3.21875,
          3.774193548387097,
          5.24,
          4.642857142857143,
          4.785714285714286,
          3.95,
          2.6875,
          3.25,
          2.5555555555555554,
          4.354838709677419,
          11.25,
          2.764705882352941,
          2.90625,
          3,
          2.85,
          5.454545454545454,
          3.272727272727273,
          3.4761904761904763,
          3.736842105263158,
          3.3666666666666667,
          3.3793103448275863,
          3.8,
          5,
          6.08,
          4.107142857142857,
          2.4375,
          3.1379310344827585,
          2.1538461538461537,
          5.380952380952381
         ],
         "xaxis": "x4",
         "yaxis": "y4"
        },
        {
         "legendgroup": "5",
         "marker": {
          "color": "orange"
         },
         "name": "5",
         "showlegend": false,
         "type": "box",
         "x": [
          3.372093023255814,
          4.666666666666667,
          4.375,
          3.433333333333333,
          2.6785714285714284,
          2.65,
          4.7727272727272725,
          2.861111111111111,
          5.653846153846154,
          3.657142857142857,
          6.655172413793103,
          3.5925925925925926,
          3.59375,
          3.9285714285714284,
          4.081081081081081
         ],
         "xaxis": "x4",
         "yaxis": "y4"
        },
        {
         "legendgroup": "6",
         "marker": {
          "color": "pink"
         },
         "name": "6",
         "showlegend": false,
         "type": "box",
         "x": [
          4.7555555555555555,
          5.15,
          5.888888888888889,
          2.925925925925926
         ],
         "xaxis": "x4",
         "yaxis": "y4"
        }
       ],
       "layout": {
        "annotations": [
         {
          "font": {
           "size": 16
          },
          "showarrow": false,
          "text": "sentence_word_mistakes_sum",
          "x": 0.225,
          "xanchor": "center",
          "xref": "paper",
          "y": 1,
          "yanchor": "bottom",
          "yref": "paper"
         },
         {
          "font": {
           "size": 16
          },
          "showarrow": false,
          "text": "sentence_word_mistakes_max",
          "x": 0.775,
          "xanchor": "center",
          "xref": "paper",
          "y": 1,
          "yanchor": "bottom",
          "yref": "paper"
         },
         {
          "font": {
           "size": 16
          },
          "showarrow": false,
          "text": "sentence_word_mistakes_min",
          "x": 0.225,
          "xanchor": "center",
          "xref": "paper",
          "y": 0.375,
          "yanchor": "bottom",
          "yref": "paper"
         },
         {
          "font": {
           "size": 16
          },
          "showarrow": false,
          "text": "sentence_word_mistakes_mean",
          "x": 0.775,
          "xanchor": "center",
          "xref": "paper",
          "y": 0.375,
          "yanchor": "bottom",
          "yref": "paper"
         }
        ],
        "barmode": "group",
        "height": 540,
        "legend": {
         "orientation": "h",
         "x": 0.5,
         "xanchor": "center",
         "y": -0.2,
         "yanchor": "top"
        },
        "template": {
         "data": {
          "bar": [
           {
            "error_x": {
             "color": "#2a3f5f"
            },
            "error_y": {
             "color": "#2a3f5f"
            },
            "marker": {
             "line": {
              "color": "#E5ECF6",
              "width": 0.5
             },
             "pattern": {
              "fillmode": "overlay",
              "size": 10,
              "solidity": 0.2
             }
            },
            "type": "bar"
           }
          ],
          "barpolar": [
           {
            "marker": {
             "line": {
              "color": "#E5ECF6",
              "width": 0.5
             },
             "pattern": {
              "fillmode": "overlay",
              "size": 10,
              "solidity": 0.2
             }
            },
            "type": "barpolar"
           }
          ],
          "carpet": [
           {
            "aaxis": {
             "endlinecolor": "#2a3f5f",
             "gridcolor": "white",
             "linecolor": "white",
             "minorgridcolor": "white",
             "startlinecolor": "#2a3f5f"
            },
            "baxis": {
             "endlinecolor": "#2a3f5f",
             "gridcolor": "white",
             "linecolor": "white",
             "minorgridcolor": "white",
             "startlinecolor": "#2a3f5f"
            },
            "type": "carpet"
           }
          ],
          "choropleth": [
           {
            "colorbar": {
             "outlinewidth": 0,
             "ticks": ""
            },
            "type": "choropleth"
           }
          ],
          "contour": [
           {
            "colorbar": {
             "outlinewidth": 0,
             "ticks": ""
            },
            "colorscale": [
             [
              0,
              "#0d0887"
             ],
             [
              0.1111111111111111,
              "#46039f"
             ],
             [
              0.2222222222222222,
              "#7201a8"
             ],
             [
              0.3333333333333333,
              "#9c179e"
             ],
             [
              0.4444444444444444,
              "#bd3786"
             ],
             [
              0.5555555555555556,
              "#d8576b"
             ],
             [
              0.6666666666666666,
              "#ed7953"
             ],
             [
              0.7777777777777778,
              "#fb9f3a"
             ],
             [
              0.8888888888888888,
              "#fdca26"
             ],
             [
              1,
              "#f0f921"
             ]
            ],
            "type": "contour"
           }
          ],
          "contourcarpet": [
           {
            "colorbar": {
             "outlinewidth": 0,
             "ticks": ""
            },
            "type": "contourcarpet"
           }
          ],
          "heatmap": [
           {
            "colorbar": {
             "outlinewidth": 0,
             "ticks": ""
            },
            "colorscale": [
             [
              0,
              "#0d0887"
             ],
             [
              0.1111111111111111,
              "#46039f"
             ],
             [
              0.2222222222222222,
              "#7201a8"
             ],
             [
              0.3333333333333333,
              "#9c179e"
             ],
             [
              0.4444444444444444,
              "#bd3786"
             ],
             [
              0.5555555555555556,
              "#d8576b"
             ],
             [
              0.6666666666666666,
              "#ed7953"
             ],
             [
              0.7777777777777778,
              "#fb9f3a"
             ],
             [
              0.8888888888888888,
              "#fdca26"
             ],
             [
              1,
              "#f0f921"
             ]
            ],
            "type": "heatmap"
           }
          ],
          "heatmapgl": [
           {
            "colorbar": {
             "outlinewidth": 0,
             "ticks": ""
            },
            "colorscale": [
             [
              0,
              "#0d0887"
             ],
             [
              0.1111111111111111,
              "#46039f"
             ],
             [
              0.2222222222222222,
              "#7201a8"
             ],
             [
              0.3333333333333333,
              "#9c179e"
             ],
             [
              0.4444444444444444,
              "#bd3786"
             ],
             [
              0.5555555555555556,
              "#d8576b"
             ],
             [
              0.6666666666666666,
              "#ed7953"
             ],
             [
              0.7777777777777778,
              "#fb9f3a"
             ],
             [
              0.8888888888888888,
              "#fdca26"
             ],
             [
              1,
              "#f0f921"
             ]
            ],
            "type": "heatmapgl"
           }
          ],
          "histogram": [
           {
            "marker": {
             "pattern": {
              "fillmode": "overlay",
              "size": 10,
              "solidity": 0.2
             }
            },
            "type": "histogram"
           }
          ],
          "histogram2d": [
           {
            "colorbar": {
             "outlinewidth": 0,
             "ticks": ""
            },
            "colorscale": [
             [
              0,
              "#0d0887"
             ],
             [
              0.1111111111111111,
              "#46039f"
             ],
             [
              0.2222222222222222,
              "#7201a8"
             ],
             [
              0.3333333333333333,
              "#9c179e"
             ],
             [
              0.4444444444444444,
              "#bd3786"
             ],
             [
              0.5555555555555556,
              "#d8576b"
             ],
             [
              0.6666666666666666,
              "#ed7953"
             ],
             [
              0.7777777777777778,
              "#fb9f3a"
             ],
             [
              0.8888888888888888,
              "#fdca26"
             ],
             [
              1,
              "#f0f921"
             ]
            ],
            "type": "histogram2d"
           }
          ],
          "histogram2dcontour": [
           {
            "colorbar": {
             "outlinewidth": 0,
             "ticks": ""
            },
            "colorscale": [
             [
              0,
              "#0d0887"
             ],
             [
              0.1111111111111111,
              "#46039f"
             ],
             [
              0.2222222222222222,
              "#7201a8"
             ],
             [
              0.3333333333333333,
              "#9c179e"
             ],
             [
              0.4444444444444444,
              "#bd3786"
             ],
             [
              0.5555555555555556,
              "#d8576b"
             ],
             [
              0.6666666666666666,
              "#ed7953"
             ],
             [
              0.7777777777777778,
              "#fb9f3a"
             ],
             [
              0.8888888888888888,
              "#fdca26"
             ],
             [
              1,
              "#f0f921"
             ]
            ],
            "type": "histogram2dcontour"
           }
          ],
          "mesh3d": [
           {
            "colorbar": {
             "outlinewidth": 0,
             "ticks": ""
            },
            "type": "mesh3d"
           }
          ],
          "parcoords": [
           {
            "line": {
             "colorbar": {
              "outlinewidth": 0,
              "ticks": ""
             }
            },
            "type": "parcoords"
           }
          ],
          "pie": [
           {
            "automargin": true,
            "type": "pie"
           }
          ],
          "scatter": [
           {
            "fillpattern": {
             "fillmode": "overlay",
             "size": 10,
             "solidity": 0.2
            },
            "type": "scatter"
           }
          ],
          "scatter3d": [
           {
            "line": {
             "colorbar": {
              "outlinewidth": 0,
              "ticks": ""
             }
            },
            "marker": {
             "colorbar": {
              "outlinewidth": 0,
              "ticks": ""
             }
            },
            "type": "scatter3d"
           }
          ],
          "scattercarpet": [
           {
            "marker": {
             "colorbar": {
              "outlinewidth": 0,
              "ticks": ""
             }
            },
            "type": "scattercarpet"
           }
          ],
          "scattergeo": [
           {
            "marker": {
             "colorbar": {
              "outlinewidth": 0,
              "ticks": ""
             }
            },
            "type": "scattergeo"
           }
          ],
          "scattergl": [
           {
            "marker": {
             "colorbar": {
              "outlinewidth": 0,
              "ticks": ""
             }
            },
            "type": "scattergl"
           }
          ],
          "scattermapbox": [
           {
            "marker": {
             "colorbar": {
              "outlinewidth": 0,
              "ticks": ""
             }
            },
            "type": "scattermapbox"
           }
          ],
          "scatterpolar": [
           {
            "marker": {
             "colorbar": {
              "outlinewidth": 0,
              "ticks": ""
             }
            },
            "type": "scatterpolar"
           }
          ],
          "scatterpolargl": [
           {
            "marker": {
             "colorbar": {
              "outlinewidth": 0,
              "ticks": ""
             }
            },
            "type": "scatterpolargl"
           }
          ],
          "scatterternary": [
           {
            "marker": {
             "colorbar": {
              "outlinewidth": 0,
              "ticks": ""
             }
            },
            "type": "scatterternary"
           }
          ],
          "surface": [
           {
            "colorbar": {
             "outlinewidth": 0,
             "ticks": ""
            },
            "colorscale": [
             [
              0,
              "#0d0887"
             ],
             [
              0.1111111111111111,
              "#46039f"
             ],
             [
              0.2222222222222222,
              "#7201a8"
             ],
             [
              0.3333333333333333,
              "#9c179e"
             ],
             [
              0.4444444444444444,
              "#bd3786"
             ],
             [
              0.5555555555555556,
              "#d8576b"
             ],
             [
              0.6666666666666666,
              "#ed7953"
             ],
             [
              0.7777777777777778,
              "#fb9f3a"
             ],
             [
              0.8888888888888888,
              "#fdca26"
             ],
             [
              1,
              "#f0f921"
             ]
            ],
            "type": "surface"
           }
          ],
          "table": [
           {
            "cells": {
             "fill": {
              "color": "#EBF0F8"
             },
             "line": {
              "color": "white"
             }
            },
            "header": {
             "fill": {
              "color": "#C8D4E3"
             },
             "line": {
              "color": "white"
             }
            },
            "type": "table"
           }
          ]
         },
         "layout": {
          "annotationdefaults": {
           "arrowcolor": "#2a3f5f",
           "arrowhead": 0,
           "arrowwidth": 1
          },
          "autotypenumbers": "strict",
          "coloraxis": {
           "colorbar": {
            "outlinewidth": 0,
            "ticks": ""
           }
          },
          "colorscale": {
           "diverging": [
            [
             0,
             "#8e0152"
            ],
            [
             0.1,
             "#c51b7d"
            ],
            [
             0.2,
             "#de77ae"
            ],
            [
             0.3,
             "#f1b6da"
            ],
            [
             0.4,
             "#fde0ef"
            ],
            [
             0.5,
             "#f7f7f7"
            ],
            [
             0.6,
             "#e6f5d0"
            ],
            [
             0.7,
             "#b8e186"
            ],
            [
             0.8,
             "#7fbc41"
            ],
            [
             0.9,
             "#4d9221"
            ],
            [
             1,
             "#276419"
            ]
           ],
           "sequential": [
            [
             0,
             "#0d0887"
            ],
            [
             0.1111111111111111,
             "#46039f"
            ],
            [
             0.2222222222222222,
             "#7201a8"
            ],
            [
             0.3333333333333333,
             "#9c179e"
            ],
            [
             0.4444444444444444,
             "#bd3786"
            ],
            [
             0.5555555555555556,
             "#d8576b"
            ],
            [
             0.6666666666666666,
             "#ed7953"
            ],
            [
             0.7777777777777778,
             "#fb9f3a"
            ],
            [
             0.8888888888888888,
             "#fdca26"
            ],
            [
             1,
             "#f0f921"
            ]
           ],
           "sequentialminus": [
            [
             0,
             "#0d0887"
            ],
            [
             0.1111111111111111,
             "#46039f"
            ],
            [
             0.2222222222222222,
             "#7201a8"
            ],
            [
             0.3333333333333333,
             "#9c179e"
            ],
            [
             0.4444444444444444,
             "#bd3786"
            ],
            [
             0.5555555555555556,
             "#d8576b"
            ],
            [
             0.6666666666666666,
             "#ed7953"
            ],
            [
             0.7777777777777778,
             "#fb9f3a"
            ],
            [
             0.8888888888888888,
             "#fdca26"
            ],
            [
             1,
             "#f0f921"
            ]
           ]
          },
          "colorway": [
           "#636efa",
           "#EF553B",
           "#00cc96",
           "#ab63fa",
           "#FFA15A",
           "#19d3f3",
           "#FF6692",
           "#B6E880",
           "#FF97FF",
           "#FECB52"
          ],
          "font": {
           "color": "#2a3f5f"
          },
          "geo": {
           "bgcolor": "white",
           "lakecolor": "white",
           "landcolor": "#E5ECF6",
           "showlakes": true,
           "showland": true,
           "subunitcolor": "white"
          },
          "hoverlabel": {
           "align": "left"
          },
          "hovermode": "closest",
          "mapbox": {
           "style": "light"
          },
          "paper_bgcolor": "white",
          "plot_bgcolor": "#E5ECF6",
          "polar": {
           "angularaxis": {
            "gridcolor": "white",
            "linecolor": "white",
            "ticks": ""
           },
           "bgcolor": "#E5ECF6",
           "radialaxis": {
            "gridcolor": "white",
            "linecolor": "white",
            "ticks": ""
           }
          },
          "scene": {
           "xaxis": {
            "backgroundcolor": "#E5ECF6",
            "gridcolor": "white",
            "gridwidth": 2,
            "linecolor": "white",
            "showbackground": true,
            "ticks": "",
            "zerolinecolor": "white"
           },
           "yaxis": {
            "backgroundcolor": "#E5ECF6",
            "gridcolor": "white",
            "gridwidth": 2,
            "linecolor": "white",
            "showbackground": true,
            "ticks": "",
            "zerolinecolor": "white"
           },
           "zaxis": {
            "backgroundcolor": "#E5ECF6",
            "gridcolor": "white",
            "gridwidth": 2,
            "linecolor": "white",
            "showbackground": true,
            "ticks": "",
            "zerolinecolor": "white"
           }
          },
          "shapedefaults": {
           "line": {
            "color": "#2a3f5f"
           }
          },
          "ternary": {
           "aaxis": {
            "gridcolor": "white",
            "linecolor": "white",
            "ticks": ""
           },
           "baxis": {
            "gridcolor": "white",
            "linecolor": "white",
            "ticks": ""
           },
           "bgcolor": "#E5ECF6",
           "caxis": {
            "gridcolor": "white",
            "linecolor": "white",
            "ticks": ""
           }
          },
          "title": {
           "x": 0.05
          },
          "xaxis": {
           "automargin": true,
           "gridcolor": "white",
           "linecolor": "white",
           "ticks": "",
           "title": {
            "standoff": 15
           },
           "zerolinecolor": "white",
           "zerolinewidth": 2
          },
          "yaxis": {
           "automargin": true,
           "gridcolor": "white",
           "linecolor": "white",
           "ticks": "",
           "title": {
            "standoff": 15
           },
           "zerolinecolor": "white",
           "zerolinewidth": 2
          }
         }
        },
        "title": {
         "text": "sentence_word_mistakes",
         "x": 0.5
        },
        "width": 960,
        "xaxis": {
         "anchor": "y",
         "domain": [
          0,
          0.45
         ],
         "title": {
          "text": "sentence_word_mistakes_sum"
         }
        },
        "xaxis2": {
         "anchor": "y2",
         "domain": [
          0.55,
          1
         ],
         "title": {
          "text": "sentence_word_mistakes_max"
         }
        },
        "xaxis3": {
         "anchor": "y3",
         "domain": [
          0,
          0.45
         ],
         "title": {
          "text": "sentence_word_mistakes_min"
         }
        },
        "xaxis4": {
         "anchor": "y4",
         "domain": [
          0.55,
          1
         ],
         "title": {
          "text": "sentence_word_mistakes_mean"
         }
        },
        "yaxis": {
         "anchor": "x",
         "domain": [
          0.625,
          1
         ],
         "title": {
          "text": "Score"
         }
        },
        "yaxis2": {
         "anchor": "x2",
         "domain": [
          0.625,
          1
         ],
         "matches": "y",
         "showticklabels": false,
         "title": {
          "text": "Score"
         }
        },
        "yaxis3": {
         "anchor": "x3",
         "domain": [
          0,
          0.375
         ],
         "title": {
          "text": "Score"
         }
        },
        "yaxis4": {
         "anchor": "x4",
         "domain": [
          0,
          0.375
         ],
         "matches": "y3",
         "showticklabels": false,
         "title": {
          "text": "Score"
         }
        }
       }
      }
     },
     "metadata": {},
     "output_type": "display_data"
    }
   ],
   "source": [
    "plot_all(\"sentence_word_mistakes\")"
   ]
  },
  {
   "cell_type": "markdown",
   "metadata": {},
   "source": [
    "Not really useful"
   ]
  },
  {
   "cell_type": "markdown",
   "metadata": {},
   "source": [
    "## Part of Speech"
   ]
  },
  {
   "cell_type": "markdown",
   "metadata": {},
   "source": [
    "### Variety (Not Useful)"
   ]
  },
  {
   "cell_type": "code",
   "execution_count": 16,
   "metadata": {},
   "outputs": [],
   "source": [
    "def count_unique_pos_per_sentence(sentences):\n",
    "    types = [\n",
    "        noun_words,\n",
    "        verb_words,\n",
    "        pronoun_words,\n",
    "        adj_words,\n",
    "        adv_words,\n",
    "        deter_words,\n",
    "        conj_words,\n",
    "        numerical_words,\n",
    "    ]\n",
    "    count_list = [0 for _ in range(len(sentences))]\n",
    "\n",
    "    for i, sentence in enumerate(sentences):\n",
    "        for type in types:\n",
    "            found = False\n",
    "\n",
    "            for word in word_tokenize(sentence):\n",
    "                if word in type:\n",
    "                    found = True\n",
    "                    break\n",
    "\n",
    "            count_list[i] += found\n",
    "\n",
    "    return count_list"
   ]
  },
  {
   "cell_type": "code",
   "execution_count": 17,
   "metadata": {},
   "outputs": [],
   "source": [
    "df[\"sentence_unique_POS\"] = df[\"sentences\"].map(count_unique_pos_per_sentence)\n",
    "df[\"sentence_unique_POS_sum\"] = df[\"sentence_unique_POS\"].map(sum)\n",
    "df[\"sentence_unique_POS_max\"] = df[\"sentence_unique_POS\"].map(max)\n",
    "df[\"sentence_unique_POS_min\"] = df[\"sentence_unique_POS\"].map(min)\n",
    "df[\"sentence_unique_POS_mean\"] = df[\"sentence_unique_POS\"].map(np.mean)"
   ]
  },
  {
   "cell_type": "code",
   "execution_count": 18,
   "metadata": {},
   "outputs": [
    {
     "data": {
      "application/vnd.plotly.v1+json": {
       "config": {
        "plotlyServerURL": "https://plot.ly"
       },
       "data": [
        {
         "legendgroup": "1",
         "marker": {
          "color": "blue"
         },
         "name": "1",
         "showlegend": false,
         "type": "box",
         "x": [
          46,
          150,
          93,
          55,
          117,
          76,
          63,
          155,
          24,
          234,
          159,
          48,
          24,
          67,
          96,
          368,
          8,
          231,
          45,
          101,
          69,
          196,
          72,
          109,
          87,
          65,
          87,
          153,
          39,
          86,
          39,
          76,
          56,
          72,
          48
         ],
         "xaxis": "x",
         "yaxis": "y"
        },
        {
         "legendgroup": "2",
         "marker": {
          "color": "red"
         },
         "name": "2",
         "showlegend": false,
         "type": "box",
         "x": [
          54,
          128,
          81,
          67,
          88,
          74,
          43,
          84,
          85,
          135,
          59,
          38,
          127,
          109,
          58,
          46,
          111,
          31,
          92,
          24,
          128,
          93,
          32,
          53,
          171,
          40,
          166,
          54,
          79,
          88,
          126,
          133,
          95,
          91,
          60,
          117,
          105,
          58,
          133,
          80,
          138,
          141,
          88,
          73,
          97,
          100,
          116,
          123,
          102,
          40,
          202,
          53,
          70,
          71,
          89,
          303,
          99,
          89,
          81,
          183,
          137,
          57,
          93,
          139,
          146,
          101,
          124,
          72,
          96,
          81,
          51,
          70,
          31,
          81,
          123,
          58,
          113,
          114,
          51,
          99,
          61,
          72,
          175,
          93,
          92,
          95,
          112,
          88,
          100,
          16,
          100,
          72,
          63,
          184,
          96,
          74,
          72,
          97,
          64,
          100,
          129,
          121,
          87,
          71,
          87,
          106,
          102,
          98,
          123,
          147,
          51,
          180,
          61,
          135,
          148,
          76,
          98,
          84,
          94,
          82,
          46,
          113,
          88,
          95,
          124,
          46,
          63,
          39,
          88
         ],
         "xaxis": "x",
         "yaxis": "y"
        },
        {
         "legendgroup": "3",
         "marker": {
          "color": "green"
         },
         "name": "3",
         "showlegend": false,
         "type": "box",
         "x": [
          97,
          148,
          107,
          181,
          145,
          135,
          92,
          149,
          165,
          95,
          156,
          157,
          122,
          100,
          182,
          124,
          122,
          88,
          54,
          78,
          252,
          128,
          135,
          86,
          76,
          139,
          179,
          159,
          212,
          196,
          147,
          76,
          114,
          120,
          103,
          234,
          97,
          152,
          133,
          108,
          119,
          107,
          213,
          152,
          111,
          112,
          162,
          138,
          234,
          148,
          197,
          160,
          157,
          80,
          168,
          249,
          137,
          132,
          132,
          142,
          167,
          149,
          184,
          122,
          79,
          94,
          159,
          156,
          175,
          128,
          113,
          121,
          96,
          68,
          177,
          76,
          219,
          127,
          117,
          104,
          162,
          150,
          145,
          143,
          213,
          105,
          119,
          109,
          170,
          161,
          175,
          96,
          139,
          80,
          138,
          114,
          133,
          191,
          84,
          102,
          231,
          157,
          126,
          87,
          195,
          124,
          180,
          112,
          86,
          69,
          150,
          145,
          102,
          259,
          112,
          88,
          161,
          152,
          133,
          158,
          105,
          190,
          70,
          107,
          86,
          147,
          156,
          145,
          133,
          157,
          110,
          90,
          186,
          118,
          40,
          105,
          142,
          77,
          143,
          97,
          114,
          173,
          287,
          186,
          95,
          119,
          190,
          115,
          158,
          149,
          133,
          104,
          123,
          178,
          156,
          135,
          108,
          199,
          188,
          94,
          152,
          140,
          184,
          90,
          168,
          199,
          167,
          136,
          211,
          82,
          201,
          87,
          279,
          133,
          122,
          151,
          111,
          116,
          178,
          67,
          162,
          110,
          110,
          326,
          103,
          210,
          124,
          175,
          145,
          109,
          108,
          143,
          98,
          101,
          197,
          93,
          131
         ],
         "xaxis": "x",
         "yaxis": "y"
        },
        {
         "legendgroup": "4",
         "marker": {
          "color": "purple"
         },
         "name": "4",
         "showlegend": false,
         "type": "box",
         "x": [
          175,
          154,
          171,
          247,
          220,
          151,
          177,
          199,
          77,
          151,
          165,
          166,
          105,
          175,
          97,
          175,
          198,
          185,
          203,
          201,
          190,
          116,
          214,
          245,
          184,
          147,
          283,
          83,
          130,
          163,
          227,
          173,
          132,
          232,
          139,
          202,
          213,
          163,
          205,
          212,
          178,
          122,
          143,
          278,
          187,
          186,
          210,
          152,
          174,
          209,
          179,
          200,
          133,
          169,
          233,
          155,
          241,
          195,
          96,
          186,
          189,
          152,
          151,
          148,
          233,
          225,
          300,
          159,
          181,
          208,
          178,
          176,
          232,
          188,
          170,
          129,
          114,
          112,
          188,
          135,
          198,
          183,
          241,
          187,
          202,
          168,
          150,
          147,
          229,
          224,
          164,
          219,
          209,
          179,
          207,
          107,
          155,
          213,
          215,
          260,
          230,
          64,
          128,
          226,
          122,
          146,
          168,
          147,
          151,
          144,
          231,
          209,
          155,
          135,
          188,
          178,
          220,
          193,
          189,
          151
         ],
         "xaxis": "x",
         "yaxis": "y"
        },
        {
         "legendgroup": "5",
         "marker": {
          "color": "orange"
         },
         "name": "5",
         "showlegend": false,
         "type": "box",
         "x": [
          287,
          165,
          233,
          212,
          203,
          287,
          164,
          252,
          169,
          267,
          218,
          202,
          211,
          200,
          257
         ],
         "xaxis": "x",
         "yaxis": "y"
        },
        {
         "legendgroup": "6",
         "marker": {
          "color": "pink"
         },
         "name": "6",
         "showlegend": false,
         "type": "box",
         "x": [
          304,
          305,
          258,
          201
         ],
         "xaxis": "x",
         "yaxis": "y"
        },
        {
         "legendgroup": "1",
         "marker": {
          "color": "blue"
         },
         "name": "1",
         "showlegend": false,
         "type": "box",
         "x": [
          8,
          8,
          8,
          8,
          8,
          8,
          8,
          8,
          8,
          8,
          8,
          8,
          8,
          8,
          8,
          8,
          8,
          8,
          8,
          8,
          8,
          8,
          8,
          8,
          8,
          8,
          8,
          8,
          8,
          8,
          8,
          8,
          8,
          8,
          8
         ],
         "xaxis": "x2",
         "yaxis": "y2"
        },
        {
         "legendgroup": "2",
         "marker": {
          "color": "red"
         },
         "name": "2",
         "showlegend": false,
         "type": "box",
         "x": [
          8,
          8,
          8,
          8,
          8,
          8,
          8,
          8,
          8,
          8,
          8,
          8,
          8,
          8,
          8,
          8,
          8,
          8,
          8,
          8,
          8,
          8,
          8,
          8,
          8,
          8,
          8,
          8,
          8,
          8,
          8,
          8,
          8,
          8,
          8,
          8,
          8,
          8,
          8,
          8,
          8,
          8,
          8,
          8,
          8,
          8,
          8,
          8,
          8,
          8,
          8,
          8,
          8,
          8,
          8,
          8,
          8,
          8,
          8,
          8,
          8,
          8,
          8,
          8,
          8,
          8,
          8,
          8,
          8,
          8,
          8,
          8,
          8,
          8,
          8,
          8,
          8,
          8,
          8,
          8,
          8,
          8,
          8,
          8,
          8,
          8,
          8,
          8,
          8,
          8,
          8,
          8,
          8,
          8,
          8,
          8,
          8,
          8,
          8,
          8,
          8,
          8,
          8,
          8,
          8,
          8,
          8,
          8,
          8,
          8,
          8,
          8,
          8,
          8,
          8,
          8,
          8,
          8,
          8,
          8,
          8,
          8,
          8,
          8,
          8,
          8,
          8,
          8,
          8
         ],
         "xaxis": "x2",
         "yaxis": "y2"
        },
        {
         "legendgroup": "3",
         "marker": {
          "color": "green"
         },
         "name": "3",
         "showlegend": false,
         "type": "box",
         "x": [
          8,
          8,
          8,
          8,
          8,
          8,
          8,
          8,
          8,
          8,
          8,
          8,
          8,
          8,
          8,
          8,
          8,
          8,
          8,
          8,
          8,
          8,
          8,
          8,
          8,
          8,
          8,
          8,
          8,
          8,
          8,
          8,
          8,
          8,
          8,
          8,
          8,
          8,
          8,
          8,
          8,
          8,
          8,
          8,
          8,
          8,
          8,
          8,
          8,
          8,
          8,
          8,
          8,
          8,
          8,
          8,
          8,
          8,
          8,
          8,
          8,
          8,
          8,
          8,
          8,
          8,
          8,
          8,
          8,
          8,
          8,
          8,
          8,
          8,
          8,
          8,
          8,
          8,
          8,
          8,
          8,
          8,
          8,
          8,
          8,
          8,
          8,
          8,
          8,
          8,
          8,
          8,
          8,
          8,
          8,
          8,
          8,
          8,
          8,
          8,
          8,
          8,
          8,
          8,
          8,
          8,
          8,
          8,
          8,
          8,
          8,
          8,
          8,
          8,
          8,
          8,
          8,
          8,
          8,
          8,
          8,
          8,
          8,
          8,
          8,
          8,
          8,
          8,
          8,
          8,
          8,
          8,
          8,
          8,
          8,
          8,
          8,
          8,
          8,
          8,
          8,
          8,
          8,
          8,
          8,
          8,
          8,
          8,
          8,
          8,
          8,
          8,
          8,
          8,
          8,
          8,
          8,
          8,
          8,
          8,
          8,
          8,
          8,
          8,
          8,
          8,
          8,
          8,
          8,
          8,
          8,
          8,
          8,
          8,
          8,
          8,
          8,
          8,
          8,
          8,
          8,
          8,
          8,
          8,
          8,
          8,
          8,
          8,
          8,
          8,
          8,
          8,
          8,
          8,
          8,
          8,
          8
         ],
         "xaxis": "x2",
         "yaxis": "y2"
        },
        {
         "legendgroup": "4",
         "marker": {
          "color": "purple"
         },
         "name": "4",
         "showlegend": false,
         "type": "box",
         "x": [
          8,
          8,
          8,
          8,
          8,
          8,
          8,
          8,
          8,
          8,
          8,
          8,
          8,
          8,
          8,
          8,
          8,
          8,
          8,
          8,
          8,
          8,
          8,
          8,
          8,
          8,
          8,
          8,
          8,
          8,
          8,
          8,
          8,
          8,
          8,
          8,
          8,
          8,
          8,
          8,
          8,
          8,
          8,
          8,
          8,
          8,
          8,
          8,
          8,
          8,
          8,
          8,
          8,
          8,
          8,
          8,
          8,
          8,
          8,
          8,
          8,
          8,
          8,
          8,
          8,
          8,
          8,
          8,
          8,
          8,
          8,
          8,
          8,
          8,
          8,
          8,
          8,
          8,
          8,
          8,
          8,
          8,
          8,
          8,
          8,
          8,
          8,
          8,
          8,
          8,
          8,
          8,
          8,
          8,
          8,
          8,
          8,
          8,
          8,
          8,
          8,
          8,
          8,
          8,
          8,
          8,
          8,
          8,
          8,
          8,
          8,
          8,
          8,
          8,
          8,
          8,
          8,
          8,
          8,
          8
         ],
         "xaxis": "x2",
         "yaxis": "y2"
        },
        {
         "legendgroup": "5",
         "marker": {
          "color": "orange"
         },
         "name": "5",
         "showlegend": false,
         "type": "box",
         "x": [
          8,
          8,
          8,
          8,
          8,
          8,
          8,
          8,
          8,
          8,
          8,
          8,
          8,
          8,
          8
         ],
         "xaxis": "x2",
         "yaxis": "y2"
        },
        {
         "legendgroup": "6",
         "marker": {
          "color": "pink"
         },
         "name": "6",
         "showlegend": false,
         "type": "box",
         "x": [
          8,
          8,
          8,
          8
         ],
         "xaxis": "x2",
         "yaxis": "y2"
        },
        {
         "legendgroup": "1",
         "marker": {
          "color": "blue"
         },
         "name": "1",
         "showlegend": false,
         "type": "box",
         "x": [
          6,
          7,
          6,
          7,
          7,
          5,
          3,
          5,
          8,
          0,
          4,
          8,
          8,
          6,
          5,
          1,
          8,
          3,
          0,
          4,
          6,
          1,
          8,
          0,
          6,
          5,
          5,
          6,
          7,
          4,
          7,
          4,
          0,
          6,
          8
         ],
         "xaxis": "x3",
         "yaxis": "y3"
        },
        {
         "legendgroup": "2",
         "marker": {
          "color": "red"
         },
         "name": "2",
         "showlegend": false,
         "type": "box",
         "x": [
          7,
          6,
          5,
          6,
          6,
          6,
          5,
          5,
          4,
          4,
          5,
          7,
          4,
          7,
          5,
          6,
          5,
          7,
          6,
          8,
          4,
          3,
          8,
          6,
          4,
          8,
          6,
          6,
          5,
          6,
          4,
          3,
          3,
          4,
          5,
          3,
          0,
          6,
          5,
          5,
          4,
          6,
          5,
          6,
          4,
          5,
          5,
          4,
          5,
          8,
          0,
          7,
          7,
          7,
          5,
          4,
          3,
          5,
          4,
          5,
          6,
          1,
          7,
          3,
          5,
          6,
          4,
          5,
          8,
          6,
          5,
          7,
          7,
          4,
          6,
          1,
          5,
          5,
          6,
          4,
          7,
          6,
          6,
          7,
          5,
          7,
          6,
          8,
          4,
          8,
          4,
          8,
          7,
          4,
          5,
          6,
          4,
          1,
          8,
          6,
          7,
          5,
          7,
          4,
          4,
          0,
          4,
          5,
          4,
          4,
          6,
          3,
          6,
          5,
          5,
          7,
          7,
          5,
          7,
          5,
          7,
          4,
          6,
          0,
          6,
          7,
          7,
          7,
          5
         ],
         "xaxis": "x3",
         "yaxis": "y3"
        },
        {
         "legendgroup": "3",
         "marker": {
          "color": "green"
         },
         "name": "3",
         "showlegend": false,
         "type": "box",
         "x": [
          6,
          2,
          3,
          5,
          3,
          5,
          6,
          4,
          5,
          7,
          5,
          5,
          5,
          6,
          3,
          6,
          6,
          8,
          5,
          7,
          6,
          6,
          6,
          2,
          7,
          5,
          4,
          5,
          4,
          4,
          6,
          5,
          4,
          5,
          7,
          6,
          6,
          4,
          5,
          7,
          6,
          7,
          2,
          5,
          3,
          3,
          4,
          4,
          4,
          7,
          4,
          0,
          6,
          8,
          5,
          1,
          5,
          6,
          1,
          2,
          3,
          4,
          6,
          5,
          6,
          5,
          3,
          1,
          5,
          5,
          4,
          6,
          8,
          7,
          6,
          6,
          6,
          4,
          5,
          5,
          4,
          5,
          6,
          6,
          5,
          0,
          6,
          4,
          5,
          3,
          5,
          8,
          2,
          5,
          5,
          4,
          5,
          5,
          7,
          6,
          4,
          5,
          5,
          5,
          4,
          0,
          6,
          5,
          7,
          4,
          0,
          5,
          7,
          1,
          0,
          5,
          4,
          3,
          1,
          3,
          4,
          3,
          7,
          6,
          7,
          7,
          0,
          3,
          5,
          1,
          5,
          6,
          3,
          5,
          8,
          4,
          4,
          6,
          2,
          5,
          6,
          6,
          3,
          6,
          6,
          5,
          6,
          6,
          5,
          5,
          5,
          4,
          5,
          0,
          3,
          6,
          6,
          5,
          5,
          5,
          3,
          4,
          5,
          1,
          5,
          4,
          6,
          6,
          6,
          5,
          2,
          5,
          4,
          4,
          5,
          5,
          4,
          5,
          4,
          1,
          5,
          5,
          6,
          3,
          5,
          5,
          5,
          6,
          1,
          5,
          3,
          4,
          2,
          4,
          5,
          5,
          5
         ],
         "xaxis": "x3",
         "yaxis": "y3"
        },
        {
         "legendgroup": "4",
         "marker": {
          "color": "purple"
         },
         "name": "4",
         "showlegend": false,
         "type": "box",
         "x": [
          5,
          6,
          4,
          5,
          4,
          0,
          6,
          5,
          5,
          5,
          4,
          6,
          4,
          7,
          2,
          6,
          5,
          6,
          5,
          2,
          6,
          6,
          5,
          3,
          5,
          3,
          6,
          5,
          6,
          6,
          3,
          2,
          7,
          5,
          7,
          4,
          4,
          6,
          6,
          4,
          5,
          0,
          5,
          4,
          6,
          4,
          6,
          4,
          5,
          6,
          5,
          0,
          6,
          1,
          3,
          4,
          4,
          5,
          0,
          6,
          5,
          4,
          3,
          4,
          5,
          0,
          5,
          5,
          4,
          5,
          5,
          5,
          5,
          5,
          6,
          6,
          6,
          6,
          7,
          1,
          6,
          4,
          3,
          5,
          5,
          6,
          5,
          5,
          4,
          6,
          3,
          5,
          3,
          5,
          5,
          6,
          7,
          4,
          6,
          4,
          6,
          8,
          6,
          4,
          5,
          6,
          6,
          4,
          4,
          6,
          5,
          4,
          6,
          5,
          4,
          4,
          4,
          1,
          5,
          5
         ],
         "xaxis": "x3",
         "yaxis": "y3"
        },
        {
         "legendgroup": "5",
         "marker": {
          "color": "orange"
         },
         "name": "5",
         "showlegend": false,
         "type": "box",
         "x": [
          2,
          6,
          2,
          5,
          5,
          3,
          6,
          2,
          0,
          6,
          6,
          6,
          4,
          5,
          0
         ],
         "xaxis": "x3",
         "yaxis": "y3"
        },
        {
         "legendgroup": "6",
         "marker": {
          "color": "pink"
         },
         "name": "6",
         "showlegend": false,
         "type": "box",
         "x": [
          0,
          6,
          4,
          5
         ],
         "xaxis": "x3",
         "yaxis": "y3"
        },
        {
         "legendgroup": "1",
         "marker": {
          "color": "blue"
         },
         "name": "1",
         "showlegend": false,
         "type": "box",
         "x": [
          7.666666666666667,
          7.894736842105263,
          7.75,
          7.857142857142857,
          7.3125,
          7.6,
          6.3,
          6.739130434782608,
          8,
          6.324324324324325,
          6.913043478260869,
          8,
          8,
          7.444444444444445,
          6.857142857142857,
          6.344827586206897,
          8,
          6.794117647058823,
          5.625,
          7.214285714285714,
          7.666666666666667,
          7.538461538461538,
          8,
          5.45,
          7.25,
          7.222222222222222,
          7.25,
          7.65,
          7.8,
          6.615384615384615,
          7.8,
          6.333333333333333,
          7,
          7.2,
          8
         ],
         "xaxis": "x4",
         "yaxis": "y4"
        },
        {
         "legendgroup": "2",
         "marker": {
          "color": "red"
         },
         "name": "2",
         "showlegend": false,
         "type": "box",
         "x": [
          7.714285714285714,
          7.111111111111111,
          7.363636363636363,
          7.444444444444445,
          7.333333333333333,
          7.4,
          7.166666666666667,
          7,
          7.083333333333333,
          6.75,
          7.375,
          7.6,
          6.684210526315789,
          7.785714285714286,
          7.25,
          7.666666666666667,
          7.4,
          7.75,
          7.076923076923077,
          8,
          7.529411764705882,
          7.153846153846154,
          8,
          7.571428571428571,
          6.333333333333333,
          8,
          7.217391304347826,
          7.714285714285714,
          7.181818181818182,
          7.333333333333333,
          7.411764705882353,
          7,
          5.9375,
          7.583333333333333,
          7.5,
          6.5,
          5.833333333333333,
          7.25,
          7.388888888888889,
          7.2727272727272725,
          6.571428571428571,
          7.421052631578948,
          6.769230769230769,
          7.3,
          6.466666666666667,
          7.142857142857143,
          7.25,
          6.833333333333333,
          7.285714285714286,
          8,
          6.9655172413793105,
          7.571428571428571,
          7.777777777777778,
          7.888888888888889,
          6.846153846153846,
          6.733333333333333,
          6.6,
          7.416666666666667,
          6.75,
          7.038461538461538,
          7.611111111111111,
          7.125,
          7.75,
          6.95,
          6.636363636363637,
          7.769230769230769,
          7.294117647058823,
          7.2,
          8,
          7.363636363636363,
          7.285714285714286,
          7.777777777777778,
          7.75,
          7.363636363636363,
          7.6875,
          6.444444444444445,
          7.0625,
          6.705882352941177,
          7.285714285714286,
          7.071428571428571,
          7.625,
          7.2,
          7.608695652173913,
          7.75,
          7.076923076923077,
          7.916666666666667,
          7.466666666666667,
          8,
          6.25,
          8,
          7.142857142857143,
          8,
          7.875,
          6.814814814814815,
          7.384615384615385,
          7.4,
          7.2,
          6.928571428571429,
          8,
          7.142857142857143,
          7.588235294117647,
          6.722222222222222,
          7.909090909090909,
          7.1,
          7.25,
          5.3,
          6.8,
          7,
          6.833333333333333,
          7,
          7.285714285714286,
          6.666666666666667,
          7.625,
          7.105263157894737,
          7.4,
          7.6,
          7.538461538461538,
          7,
          7.833333333333333,
          6.3076923076923075,
          7.666666666666667,
          7.0625,
          7.333333333333333,
          6.333333333333333,
          7.294117647058823,
          7.666666666666667,
          7.875,
          7.8,
          6.769230769230769
         ],
         "xaxis": "x4",
         "yaxis": "y4"
        },
        {
         "legendgroup": "3",
         "marker": {
          "color": "green"
         },
         "name": "3",
         "showlegend": false,
         "type": "box",
         "x": [
          7.461538461538462,
          7.0476190476190474,
          7.133333333333334,
          6.961538461538462,
          6.304347826086956,
          7.105263157894737,
          7.666666666666667,
          6.7727272727272725,
          7.5,
          7.916666666666667,
          7.090909090909091,
          7.136363636363637,
          7.176470588235294,
          7.6923076923076925,
          6.7407407407407405,
          7.294117647058823,
          7.625,
          8,
          6.75,
          7.8,
          7.636363636363637,
          7.529411764705882,
          7.105263157894737,
          7.166666666666667,
          7.6,
          6.95,
          6.884615384615385,
          7.2272727272727275,
          6.625,
          6.533333333333333,
          7.35,
          7.6,
          6.705882352941177,
          7.0588235294117645,
          7.923076923076923,
          7.548387096774194,
          7.461538461538462,
          6.08,
          7,
          7.714285714285714,
          7.4375,
          7.642857142857143,
          7.344827586206897,
          6.909090909090909,
          6.9375,
          7,
          7.043478260869565,
          7.2631578947368425,
          7.090909090909091,
          7.7894736842105265,
          7.035714285714286,
          6.4,
          7.476190476190476,
          8,
          7.304347826086956,
          6.916666666666667,
          7.2105263157894735,
          7.333333333333333,
          6.947368421052632,
          7.1,
          6.185185185185185,
          6.7727272727272725,
          7.36,
          7.625,
          7.181818181818182,
          7.230769230769231,
          6.625,
          6.782608695652174,
          7,
          7.111111111111111,
          7.0625,
          7.117647058823529,
          8,
          7.555555555555555,
          7.695652173913044,
          7.6,
          7.551724137931035,
          6.684210526315789,
          6.882352941176471,
          6.933333333333334,
          6.75,
          7.5,
          7.25,
          7.526315789473684,
          6.65625,
          7,
          7.4375,
          6.8125,
          7.083333333333333,
          7.318181818181818,
          7,
          8,
          6.619047619047619,
          7.2727272727272725,
          7.2631578947368425,
          7.6,
          7.388888888888889,
          7.346153846153846,
          7.636363636363637,
          7.285714285714286,
          7,
          7.476190476190476,
          7.411764705882353,
          7.25,
          7.5,
          6.2,
          7.5,
          7.466666666666667,
          7.818181818181818,
          6.9,
          6.818181818181818,
          6.904761904761905,
          7.846153846153846,
          7.194444444444445,
          7,
          7.333333333333333,
          6.44,
          6.909090909090909,
          7,
          6.583333333333333,
          7,
          6.551724137931035,
          7.777777777777778,
          7.642857142857143,
          7.818181818181818,
          7.35,
          6.5,
          6.590909090909091,
          6.65,
          6.826086956521739,
          7.333333333333333,
          7.5,
          7.153846153846154,
          7.375,
          8,
          7,
          7.473684210526316,
          7,
          6.809523809523809,
          6.928571428571429,
          7.6,
          7.521739130434782,
          7.175,
          7.44,
          7.3076923076923075,
          7.4375,
          7.6,
          7.666666666666667,
          6.869565217391305,
          6.7727272727272725,
          7,
          6.933333333333334,
          7.235294117647059,
          7.12,
          7.428571428571429,
          7.5,
          7.714285714285714,
          7.37037037037037,
          6.962962962962963,
          7.230769230769231,
          6.909090909090909,
          7,
          7.36,
          6.428571428571429,
          7.304347826086956,
          7.107142857142857,
          7.260869565217392,
          7.555555555555555,
          7.535714285714286,
          7.454545454545454,
          7.178571428571429,
          7.25,
          6.804878048780488,
          7.388888888888889,
          7.176470588235294,
          7.190476190476191,
          6.529411764705882,
          7.25,
          6.592592592592593,
          6.7,
          7.363636363636363,
          6.875,
          7.857142857142857,
          6.392156862745098,
          7.357142857142857,
          7.241379310344827,
          6.888888888888889,
          7.608695652173913,
          7.25,
          7.266666666666667,
          7.2,
          7.526315789473684,
          6.533333333333333,
          6.733333333333333,
          7.576923076923077,
          7.153846153846154,
          7.277777777777778
         ],
         "xaxis": "x4",
         "yaxis": "y4"
        },
        {
         "legendgroup": "4",
         "marker": {
          "color": "purple"
         },
         "name": "4",
         "showlegend": false,
         "type": "box",
         "x": [
          7.291666666666667,
          7.7,
          6.84,
          7.264705882352941,
          7.096774193548387,
          6.565217391304348,
          7.375,
          7.107142857142857,
          7,
          7.55,
          7.173913043478261,
          7.545454545454546,
          7.5,
          7.608695652173913,
          6.928571428571429,
          7.291666666666667,
          7.333333333333333,
          7.4,
          7.25,
          7.444444444444445,
          7.3076923076923075,
          7.25,
          7.379310344827586,
          7,
          6.814814814814815,
          7.35,
          7.256410256410256,
          7.545454545454546,
          7.647058823529412,
          7.409090909090909,
          7.32258064516129,
          6.92,
          7.764705882352941,
          7.03030303030303,
          7.722222222222222,
          6.516129032258065,
          7.1,
          7.409090909090909,
          7.592592592592593,
          7.310344827586207,
          7.12,
          6.1,
          7.526315789473684,
          7.513513513513513,
          7.1923076923076925,
          6.888888888888889,
          7.5,
          7.238095238095238,
          7.25,
          7.7407407407407405,
          7.16,
          6.0606060606060606,
          7,
          6.76,
          6.6571428571428575,
          7.045454545454546,
          6.694444444444445,
          7.5,
          6.857142857142857,
          7.44,
          7.269230769230769,
          6.909090909090909,
          7.190476190476191,
          7.0476190476190474,
          7.516129032258065,
          6.818181818181818,
          7.5,
          6.913043478260869,
          6.703703703703703,
          7.172413793103448,
          7.12,
          7.04,
          7.483870967741935,
          6.962962962962963,
          7.083333333333333,
          7.166666666666667,
          7.6,
          7.466666666666667,
          7.833333333333333,
          6.75,
          7.333333333333333,
          7.32,
          7.088235294117647,
          7.1923076923076925,
          7.214285714285714,
          7.304347826086956,
          7.5,
          7,
          6.542857142857143,
          7.225806451612903,
          6.56,
          6.84375,
          6.741935483870968,
          7.16,
          7.392857142857143,
          7.642857142857143,
          7.75,
          6.65625,
          7.678571428571429,
          7.222222222222222,
          7.419354838709677,
          8,
          7.529411764705882,
          7.0625,
          6.1,
          7.3,
          7.636363636363637,
          6.681818181818182,
          7.190476190476191,
          7.578947368421052,
          7.7,
          7.206896551724138,
          7.75,
          7.5,
          7.52,
          6.357142857142857,
          6.875,
          6.655172413793103,
          7.269230769230769,
          7.190476190476191
         ],
         "xaxis": "x4",
         "yaxis": "y4"
        },
        {
         "legendgroup": "5",
         "marker": {
          "color": "orange"
         },
         "name": "5",
         "showlegend": false,
         "type": "box",
         "x": [
          6.674418604651163,
          7.857142857142857,
          7.28125,
          7.066666666666666,
          7.25,
          7.175,
          7.454545454545454,
          7,
          6.5,
          7.628571428571429,
          7.517241379310345,
          7.481481481481482,
          6.59375,
          7.142857142857143,
          6.945945945945946
         ],
         "xaxis": "x4",
         "yaxis": "y4"
        },
        {
         "legendgroup": "6",
         "marker": {
          "color": "pink"
         },
         "name": "6",
         "showlegend": false,
         "type": "box",
         "x": [
          6.7555555555555555,
          7.625,
          7.166666666666667,
          7.444444444444445
         ],
         "xaxis": "x4",
         "yaxis": "y4"
        }
       ],
       "layout": {
        "annotations": [
         {
          "font": {
           "size": 16
          },
          "showarrow": false,
          "text": "sentence_unique_POS_sum",
          "x": 0.225,
          "xanchor": "center",
          "xref": "paper",
          "y": 1,
          "yanchor": "bottom",
          "yref": "paper"
         },
         {
          "font": {
           "size": 16
          },
          "showarrow": false,
          "text": "sentence_unique_POS_max",
          "x": 0.775,
          "xanchor": "center",
          "xref": "paper",
          "y": 1,
          "yanchor": "bottom",
          "yref": "paper"
         },
         {
          "font": {
           "size": 16
          },
          "showarrow": false,
          "text": "sentence_unique_POS_min",
          "x": 0.225,
          "xanchor": "center",
          "xref": "paper",
          "y": 0.375,
          "yanchor": "bottom",
          "yref": "paper"
         },
         {
          "font": {
           "size": 16
          },
          "showarrow": false,
          "text": "sentence_unique_POS_mean",
          "x": 0.775,
          "xanchor": "center",
          "xref": "paper",
          "y": 0.375,
          "yanchor": "bottom",
          "yref": "paper"
         }
        ],
        "barmode": "group",
        "height": 540,
        "legend": {
         "orientation": "h",
         "x": 0.5,
         "xanchor": "center",
         "y": -0.2,
         "yanchor": "top"
        },
        "template": {
         "data": {
          "bar": [
           {
            "error_x": {
             "color": "#2a3f5f"
            },
            "error_y": {
             "color": "#2a3f5f"
            },
            "marker": {
             "line": {
              "color": "#E5ECF6",
              "width": 0.5
             },
             "pattern": {
              "fillmode": "overlay",
              "size": 10,
              "solidity": 0.2
             }
            },
            "type": "bar"
           }
          ],
          "barpolar": [
           {
            "marker": {
             "line": {
              "color": "#E5ECF6",
              "width": 0.5
             },
             "pattern": {
              "fillmode": "overlay",
              "size": 10,
              "solidity": 0.2
             }
            },
            "type": "barpolar"
           }
          ],
          "carpet": [
           {
            "aaxis": {
             "endlinecolor": "#2a3f5f",
             "gridcolor": "white",
             "linecolor": "white",
             "minorgridcolor": "white",
             "startlinecolor": "#2a3f5f"
            },
            "baxis": {
             "endlinecolor": "#2a3f5f",
             "gridcolor": "white",
             "linecolor": "white",
             "minorgridcolor": "white",
             "startlinecolor": "#2a3f5f"
            },
            "type": "carpet"
           }
          ],
          "choropleth": [
           {
            "colorbar": {
             "outlinewidth": 0,
             "ticks": ""
            },
            "type": "choropleth"
           }
          ],
          "contour": [
           {
            "colorbar": {
             "outlinewidth": 0,
             "ticks": ""
            },
            "colorscale": [
             [
              0,
              "#0d0887"
             ],
             [
              0.1111111111111111,
              "#46039f"
             ],
             [
              0.2222222222222222,
              "#7201a8"
             ],
             [
              0.3333333333333333,
              "#9c179e"
             ],
             [
              0.4444444444444444,
              "#bd3786"
             ],
             [
              0.5555555555555556,
              "#d8576b"
             ],
             [
              0.6666666666666666,
              "#ed7953"
             ],
             [
              0.7777777777777778,
              "#fb9f3a"
             ],
             [
              0.8888888888888888,
              "#fdca26"
             ],
             [
              1,
              "#f0f921"
             ]
            ],
            "type": "contour"
           }
          ],
          "contourcarpet": [
           {
            "colorbar": {
             "outlinewidth": 0,
             "ticks": ""
            },
            "type": "contourcarpet"
           }
          ],
          "heatmap": [
           {
            "colorbar": {
             "outlinewidth": 0,
             "ticks": ""
            },
            "colorscale": [
             [
              0,
              "#0d0887"
             ],
             [
              0.1111111111111111,
              "#46039f"
             ],
             [
              0.2222222222222222,
              "#7201a8"
             ],
             [
              0.3333333333333333,
              "#9c179e"
             ],
             [
              0.4444444444444444,
              "#bd3786"
             ],
             [
              0.5555555555555556,
              "#d8576b"
             ],
             [
              0.6666666666666666,
              "#ed7953"
             ],
             [
              0.7777777777777778,
              "#fb9f3a"
             ],
             [
              0.8888888888888888,
              "#fdca26"
             ],
             [
              1,
              "#f0f921"
             ]
            ],
            "type": "heatmap"
           }
          ],
          "heatmapgl": [
           {
            "colorbar": {
             "outlinewidth": 0,
             "ticks": ""
            },
            "colorscale": [
             [
              0,
              "#0d0887"
             ],
             [
              0.1111111111111111,
              "#46039f"
             ],
             [
              0.2222222222222222,
              "#7201a8"
             ],
             [
              0.3333333333333333,
              "#9c179e"
             ],
             [
              0.4444444444444444,
              "#bd3786"
             ],
             [
              0.5555555555555556,
              "#d8576b"
             ],
             [
              0.6666666666666666,
              "#ed7953"
             ],
             [
              0.7777777777777778,
              "#fb9f3a"
             ],
             [
              0.8888888888888888,
              "#fdca26"
             ],
             [
              1,
              "#f0f921"
             ]
            ],
            "type": "heatmapgl"
           }
          ],
          "histogram": [
           {
            "marker": {
             "pattern": {
              "fillmode": "overlay",
              "size": 10,
              "solidity": 0.2
             }
            },
            "type": "histogram"
           }
          ],
          "histogram2d": [
           {
            "colorbar": {
             "outlinewidth": 0,
             "ticks": ""
            },
            "colorscale": [
             [
              0,
              "#0d0887"
             ],
             [
              0.1111111111111111,
              "#46039f"
             ],
             [
              0.2222222222222222,
              "#7201a8"
             ],
             [
              0.3333333333333333,
              "#9c179e"
             ],
             [
              0.4444444444444444,
              "#bd3786"
             ],
             [
              0.5555555555555556,
              "#d8576b"
             ],
             [
              0.6666666666666666,
              "#ed7953"
             ],
             [
              0.7777777777777778,
              "#fb9f3a"
             ],
             [
              0.8888888888888888,
              "#fdca26"
             ],
             [
              1,
              "#f0f921"
             ]
            ],
            "type": "histogram2d"
           }
          ],
          "histogram2dcontour": [
           {
            "colorbar": {
             "outlinewidth": 0,
             "ticks": ""
            },
            "colorscale": [
             [
              0,
              "#0d0887"
             ],
             [
              0.1111111111111111,
              "#46039f"
             ],
             [
              0.2222222222222222,
              "#7201a8"
             ],
             [
              0.3333333333333333,
              "#9c179e"
             ],
             [
              0.4444444444444444,
              "#bd3786"
             ],
             [
              0.5555555555555556,
              "#d8576b"
             ],
             [
              0.6666666666666666,
              "#ed7953"
             ],
             [
              0.7777777777777778,
              "#fb9f3a"
             ],
             [
              0.8888888888888888,
              "#fdca26"
             ],
             [
              1,
              "#f0f921"
             ]
            ],
            "type": "histogram2dcontour"
           }
          ],
          "mesh3d": [
           {
            "colorbar": {
             "outlinewidth": 0,
             "ticks": ""
            },
            "type": "mesh3d"
           }
          ],
          "parcoords": [
           {
            "line": {
             "colorbar": {
              "outlinewidth": 0,
              "ticks": ""
             }
            },
            "type": "parcoords"
           }
          ],
          "pie": [
           {
            "automargin": true,
            "type": "pie"
           }
          ],
          "scatter": [
           {
            "fillpattern": {
             "fillmode": "overlay",
             "size": 10,
             "solidity": 0.2
            },
            "type": "scatter"
           }
          ],
          "scatter3d": [
           {
            "line": {
             "colorbar": {
              "outlinewidth": 0,
              "ticks": ""
             }
            },
            "marker": {
             "colorbar": {
              "outlinewidth": 0,
              "ticks": ""
             }
            },
            "type": "scatter3d"
           }
          ],
          "scattercarpet": [
           {
            "marker": {
             "colorbar": {
              "outlinewidth": 0,
              "ticks": ""
             }
            },
            "type": "scattercarpet"
           }
          ],
          "scattergeo": [
           {
            "marker": {
             "colorbar": {
              "outlinewidth": 0,
              "ticks": ""
             }
            },
            "type": "scattergeo"
           }
          ],
          "scattergl": [
           {
            "marker": {
             "colorbar": {
              "outlinewidth": 0,
              "ticks": ""
             }
            },
            "type": "scattergl"
           }
          ],
          "scattermapbox": [
           {
            "marker": {
             "colorbar": {
              "outlinewidth": 0,
              "ticks": ""
             }
            },
            "type": "scattermapbox"
           }
          ],
          "scatterpolar": [
           {
            "marker": {
             "colorbar": {
              "outlinewidth": 0,
              "ticks": ""
             }
            },
            "type": "scatterpolar"
           }
          ],
          "scatterpolargl": [
           {
            "marker": {
             "colorbar": {
              "outlinewidth": 0,
              "ticks": ""
             }
            },
            "type": "scatterpolargl"
           }
          ],
          "scatterternary": [
           {
            "marker": {
             "colorbar": {
              "outlinewidth": 0,
              "ticks": ""
             }
            },
            "type": "scatterternary"
           }
          ],
          "surface": [
           {
            "colorbar": {
             "outlinewidth": 0,
             "ticks": ""
            },
            "colorscale": [
             [
              0,
              "#0d0887"
             ],
             [
              0.1111111111111111,
              "#46039f"
             ],
             [
              0.2222222222222222,
              "#7201a8"
             ],
             [
              0.3333333333333333,
              "#9c179e"
             ],
             [
              0.4444444444444444,
              "#bd3786"
             ],
             [
              0.5555555555555556,
              "#d8576b"
             ],
             [
              0.6666666666666666,
              "#ed7953"
             ],
             [
              0.7777777777777778,
              "#fb9f3a"
             ],
             [
              0.8888888888888888,
              "#fdca26"
             ],
             [
              1,
              "#f0f921"
             ]
            ],
            "type": "surface"
           }
          ],
          "table": [
           {
            "cells": {
             "fill": {
              "color": "#EBF0F8"
             },
             "line": {
              "color": "white"
             }
            },
            "header": {
             "fill": {
              "color": "#C8D4E3"
             },
             "line": {
              "color": "white"
             }
            },
            "type": "table"
           }
          ]
         },
         "layout": {
          "annotationdefaults": {
           "arrowcolor": "#2a3f5f",
           "arrowhead": 0,
           "arrowwidth": 1
          },
          "autotypenumbers": "strict",
          "coloraxis": {
           "colorbar": {
            "outlinewidth": 0,
            "ticks": ""
           }
          },
          "colorscale": {
           "diverging": [
            [
             0,
             "#8e0152"
            ],
            [
             0.1,
             "#c51b7d"
            ],
            [
             0.2,
             "#de77ae"
            ],
            [
             0.3,
             "#f1b6da"
            ],
            [
             0.4,
             "#fde0ef"
            ],
            [
             0.5,
             "#f7f7f7"
            ],
            [
             0.6,
             "#e6f5d0"
            ],
            [
             0.7,
             "#b8e186"
            ],
            [
             0.8,
             "#7fbc41"
            ],
            [
             0.9,
             "#4d9221"
            ],
            [
             1,
             "#276419"
            ]
           ],
           "sequential": [
            [
             0,
             "#0d0887"
            ],
            [
             0.1111111111111111,
             "#46039f"
            ],
            [
             0.2222222222222222,
             "#7201a8"
            ],
            [
             0.3333333333333333,
             "#9c179e"
            ],
            [
             0.4444444444444444,
             "#bd3786"
            ],
            [
             0.5555555555555556,
             "#d8576b"
            ],
            [
             0.6666666666666666,
             "#ed7953"
            ],
            [
             0.7777777777777778,
             "#fb9f3a"
            ],
            [
             0.8888888888888888,
             "#fdca26"
            ],
            [
             1,
             "#f0f921"
            ]
           ],
           "sequentialminus": [
            [
             0,
             "#0d0887"
            ],
            [
             0.1111111111111111,
             "#46039f"
            ],
            [
             0.2222222222222222,
             "#7201a8"
            ],
            [
             0.3333333333333333,
             "#9c179e"
            ],
            [
             0.4444444444444444,
             "#bd3786"
            ],
            [
             0.5555555555555556,
             "#d8576b"
            ],
            [
             0.6666666666666666,
             "#ed7953"
            ],
            [
             0.7777777777777778,
             "#fb9f3a"
            ],
            [
             0.8888888888888888,
             "#fdca26"
            ],
            [
             1,
             "#f0f921"
            ]
           ]
          },
          "colorway": [
           "#636efa",
           "#EF553B",
           "#00cc96",
           "#ab63fa",
           "#FFA15A",
           "#19d3f3",
           "#FF6692",
           "#B6E880",
           "#FF97FF",
           "#FECB52"
          ],
          "font": {
           "color": "#2a3f5f"
          },
          "geo": {
           "bgcolor": "white",
           "lakecolor": "white",
           "landcolor": "#E5ECF6",
           "showlakes": true,
           "showland": true,
           "subunitcolor": "white"
          },
          "hoverlabel": {
           "align": "left"
          },
          "hovermode": "closest",
          "mapbox": {
           "style": "light"
          },
          "paper_bgcolor": "white",
          "plot_bgcolor": "#E5ECF6",
          "polar": {
           "angularaxis": {
            "gridcolor": "white",
            "linecolor": "white",
            "ticks": ""
           },
           "bgcolor": "#E5ECF6",
           "radialaxis": {
            "gridcolor": "white",
            "linecolor": "white",
            "ticks": ""
           }
          },
          "scene": {
           "xaxis": {
            "backgroundcolor": "#E5ECF6",
            "gridcolor": "white",
            "gridwidth": 2,
            "linecolor": "white",
            "showbackground": true,
            "ticks": "",
            "zerolinecolor": "white"
           },
           "yaxis": {
            "backgroundcolor": "#E5ECF6",
            "gridcolor": "white",
            "gridwidth": 2,
            "linecolor": "white",
            "showbackground": true,
            "ticks": "",
            "zerolinecolor": "white"
           },
           "zaxis": {
            "backgroundcolor": "#E5ECF6",
            "gridcolor": "white",
            "gridwidth": 2,
            "linecolor": "white",
            "showbackground": true,
            "ticks": "",
            "zerolinecolor": "white"
           }
          },
          "shapedefaults": {
           "line": {
            "color": "#2a3f5f"
           }
          },
          "ternary": {
           "aaxis": {
            "gridcolor": "white",
            "linecolor": "white",
            "ticks": ""
           },
           "baxis": {
            "gridcolor": "white",
            "linecolor": "white",
            "ticks": ""
           },
           "bgcolor": "#E5ECF6",
           "caxis": {
            "gridcolor": "white",
            "linecolor": "white",
            "ticks": ""
           }
          },
          "title": {
           "x": 0.05
          },
          "xaxis": {
           "automargin": true,
           "gridcolor": "white",
           "linecolor": "white",
           "ticks": "",
           "title": {
            "standoff": 15
           },
           "zerolinecolor": "white",
           "zerolinewidth": 2
          },
          "yaxis": {
           "automargin": true,
           "gridcolor": "white",
           "linecolor": "white",
           "ticks": "",
           "title": {
            "standoff": 15
           },
           "zerolinecolor": "white",
           "zerolinewidth": 2
          }
         }
        },
        "title": {
         "text": "sentence_unique_POS",
         "x": 0.5
        },
        "width": 960,
        "xaxis": {
         "anchor": "y",
         "domain": [
          0,
          0.45
         ],
         "title": {
          "text": "sentence_unique_POS_sum"
         }
        },
        "xaxis2": {
         "anchor": "y2",
         "domain": [
          0.55,
          1
         ],
         "title": {
          "text": "sentence_unique_POS_max"
         }
        },
        "xaxis3": {
         "anchor": "y3",
         "domain": [
          0,
          0.45
         ],
         "title": {
          "text": "sentence_unique_POS_min"
         }
        },
        "xaxis4": {
         "anchor": "y4",
         "domain": [
          0.55,
          1
         ],
         "title": {
          "text": "sentence_unique_POS_mean"
         }
        },
        "yaxis": {
         "anchor": "x",
         "domain": [
          0.625,
          1
         ],
         "title": {
          "text": "Score"
         }
        },
        "yaxis2": {
         "anchor": "x2",
         "domain": [
          0.625,
          1
         ],
         "matches": "y",
         "showticklabels": false,
         "title": {
          "text": "Score"
         }
        },
        "yaxis3": {
         "anchor": "x3",
         "domain": [
          0,
          0.375
         ],
         "title": {
          "text": "Score"
         }
        },
        "yaxis4": {
         "anchor": "x4",
         "domain": [
          0,
          0.375
         ],
         "matches": "y3",
         "showticklabels": false,
         "title": {
          "text": "Score"
         }
        }
       }
      }
     },
     "metadata": {},
     "output_type": "display_data"
    }
   ],
   "source": [
    "plot_all(\"sentence_unique_POS\")"
   ]
  },
  {
   "cell_type": "markdown",
   "metadata": {},
   "source": [
    "### Individual Counts (Useful)"
   ]
  },
  {
   "cell_type": "code",
   "execution_count": 19,
   "metadata": {},
   "outputs": [],
   "source": [
    "def count_type(sentences, type):\n",
    "    return [\n",
    "        sum([word in type for word in word_tokenize(sentence)])\n",
    "        for sentence in sentences\n",
    "    ]\n",
    "\n",
    "type_dict = {\n",
    "    \"noun\": noun_words,\n",
    "    \"pronoun\": pronoun_words,\n",
    "    \"verb\": verb_words,\n",
    "    \"determiner\": deter_words,\n",
    "    \"adjective\": adj_words\n",
    "}\n",
    "\n",
    "for key, val in type_dict.items():\n",
    "    df[f\"sentence_{key}_count\"] = df[\"sentences\"].map(lambda x: count_type(x, val))\n",
    "    df[f\"sentence_{key}_count_sum\"] = df[f\"sentence_{key}_count\"].map(sum)\n",
    "    df[f\"sentence_{key}_count_max\"] = df[f\"sentence_{key}_count\"].map(max)\n",
    "    df[f\"sentence_{key}_count_min\"] = df[f\"sentence_{key}_count\"].map(min)\n",
    "    df[f\"sentence_{key}_count_mean\"] = df[f\"sentence_{key}_count\"].map(np.mean)"
   ]
  },
  {
   "cell_type": "code",
   "execution_count": 20,
   "metadata": {},
   "outputs": [
    {
     "data": {
      "application/vnd.plotly.v1+json": {
       "config": {
        "plotlyServerURL": "https://plot.ly"
       },
       "data": [
        {
         "legendgroup": "1",
         "marker": {
          "color": "blue"
         },
         "name": "1",
         "showlegend": false,
         "type": "box",
         "x": [
          62,
          138,
          61,
          53,
          72,
          57,
          48,
          73,
          62,
          149,
          119,
          140,
          51,
          50,
          42,
          109,
          104,
          150,
          45,
          97,
          49,
          194,
          63,
          64,
          57,
          65,
          60,
          135,
          41,
          55,
          39,
          64,
          73,
          61,
          58
         ],
         "xaxis": "x",
         "yaxis": "y"
        },
        {
         "legendgroup": "2",
         "marker": {
          "color": "red"
         },
         "name": "2",
         "showlegend": false,
         "type": "box",
         "x": [
          46,
          96,
          55,
          48,
          64,
          31,
          51,
          53,
          68,
          69,
          61,
          57,
          64,
          78,
          43,
          44,
          48,
          67,
          50,
          42,
          89,
          75,
          53,
          53,
          75,
          71,
          111,
          70,
          52,
          87,
          51,
          51,
          31,
          93,
          42,
          78,
          96,
          51,
          76,
          59,
          84,
          172,
          65,
          62,
          65,
          72,
          86,
          97,
          103,
          55,
          179,
          64,
          53,
          57,
          58,
          121,
          60,
          85,
          40,
          116,
          67,
          60,
          83,
          69,
          81,
          67,
          102,
          59,
          84,
          51,
          51,
          91,
          56,
          58,
          90,
          49,
          73,
          88,
          54,
          60,
          72,
          60,
          138,
          53,
          66,
          66,
          68,
          82,
          51,
          63,
          79,
          53,
          50,
          96,
          69,
          59,
          55,
          55,
          44,
          85,
          77,
          43,
          57,
          39,
          58,
          72,
          53,
          71,
          106,
          92,
          42,
          123,
          88,
          95,
          112,
          77,
          69,
          60,
          76,
          39,
          48,
          83,
          77,
          47,
          91,
          62,
          55,
          91,
          34
         ],
         "xaxis": "x",
         "yaxis": "y"
        },
        {
         "legendgroup": "3",
         "marker": {
          "color": "green"
         },
         "name": "3",
         "showlegend": false,
         "type": "box",
         "x": [
          151,
          114,
          118,
          86,
          46,
          124,
          77,
          97,
          101,
          79,
          84,
          93,
          76,
          74,
          95,
          84,
          137,
          122,
          45,
          122,
          120,
          89,
          87,
          86,
          66,
          96,
          92,
          110,
          144,
          146,
          129,
          64,
          71,
          60,
          135,
          146,
          61,
          93,
          114,
          76,
          90,
          124,
          89,
          129,
          106,
          62,
          109,
          88,
          160,
          143,
          84,
          54,
          111,
          104,
          71,
          114,
          83,
          121,
          91,
          86,
          48,
          111,
          130,
          106,
          50,
          68,
          94,
          94,
          92,
          84,
          62,
          69,
          126,
          65,
          144,
          86,
          165,
          62,
          81,
          97,
          93,
          126,
          123,
          102,
          121,
          93,
          106,
          84,
          100,
          110,
          116,
          111,
          118,
          77,
          109,
          106,
          74,
          137,
          88,
          119,
          121,
          128,
          80,
          49,
          138,
          116,
          101,
          96,
          77,
          51,
          117,
          95,
          68,
          176,
          82,
          78,
          107,
          110,
          87,
          107,
          81,
          119,
          67,
          93,
          80,
          82,
          125,
          67,
          79,
          106,
          71,
          75,
          132,
          132,
          107,
          77,
          101,
          55,
          70,
          50,
          103,
          127,
          127,
          102,
          45,
          110,
          141,
          89,
          96,
          91,
          92,
          63,
          85,
          109,
          87,
          88,
          75,
          151,
          103,
          76,
          82,
          87,
          91,
          75,
          142,
          146,
          68,
          65,
          189,
          72,
          111,
          58,
          172,
          93,
          72,
          118,
          80,
          90,
          107,
          72,
          97,
          72,
          77,
          145,
          58,
          135,
          105,
          125,
          126,
          97,
          76,
          85,
          54,
          67,
          143,
          100,
          102
         ],
         "xaxis": "x",
         "yaxis": "y"
        },
        {
         "legendgroup": "4",
         "marker": {
          "color": "purple"
         },
         "name": "4",
         "showlegend": false,
         "type": "box",
         "x": [
          166,
          127,
          103,
          174,
          105,
          110,
          116,
          148,
          56,
          102,
          117,
          100,
          82,
          164,
          84,
          123,
          161,
          180,
          173,
          194,
          141,
          81,
          126,
          159,
          128,
          89,
          227,
          86,
          159,
          177,
          156,
          93,
          123,
          189,
          130,
          95,
          105,
          132,
          129,
          132,
          114,
          77,
          129,
          179,
          147,
          143,
          170,
          120,
          140,
          220,
          111,
          103,
          78,
          127,
          120,
          136,
          129,
          135,
          125,
          134,
          128,
          106,
          161,
          130,
          165,
          137,
          181,
          114,
          116,
          126,
          127,
          124,
          172,
          150,
          105,
          130,
          146,
          104,
          173,
          107,
          125,
          124,
          137,
          133,
          204,
          133,
          140,
          107,
          149,
          186,
          127,
          130,
          110,
          127,
          210,
          99,
          99,
          144,
          135,
          126,
          197,
          103,
          103,
          171,
          69,
          107,
          132,
          84,
          105,
          135,
          210,
          127,
          126,
          106,
          171,
          92,
          110,
          154,
          129,
          171
         ],
         "xaxis": "x",
         "yaxis": "y"
        },
        {
         "legendgroup": "5",
         "marker": {
          "color": "orange"
         },
         "name": "5",
         "showlegend": false,
         "type": "box",
         "x": [
          169,
          151,
          209,
          175,
          133,
          160,
          152,
          216,
          165,
          228,
          158,
          178,
          144,
          149,
          158
         ],
         "xaxis": "x",
         "yaxis": "y"
        },
        {
         "legendgroup": "6",
         "marker": {
          "color": "pink"
         },
         "name": "6",
         "showlegend": false,
         "type": "box",
         "x": [
          303,
          285,
          190,
          175
         ],
         "xaxis": "x",
         "yaxis": "y"
        },
        {
         "legendgroup": "1",
         "marker": {
          "color": "blue"
         },
         "name": "1",
         "showlegend": false,
         "type": "box",
         "x": [
          14,
          15,
          11,
          13,
          8,
          11,
          13,
          12,
          35,
          12,
          15,
          41,
          20,
          13,
          6,
          6,
          104,
          9,
          13,
          20,
          9,
          18,
          11,
          10,
          12,
          16,
          13,
          12,
          12,
          11,
          12,
          12,
          21,
          10,
          14
         ],
         "xaxis": "x2",
         "yaxis": "y2"
        },
        {
         "legendgroup": "2",
         "marker": {
          "color": "red"
         },
         "name": "2",
         "showlegend": false,
         "type": "box",
         "x": [
          14,
          11,
          10,
          10,
          19,
          6,
          23,
          6,
          9,
          7,
          19,
          21,
          7,
          14,
          11,
          18,
          9,
          27,
          7,
          16,
          11,
          11,
          17,
          15,
          7,
          22,
          10,
          17,
          9,
          17,
          9,
          8,
          6,
          15,
          12,
          9,
          16,
          16,
          8,
          10,
          12,
          40,
          9,
          12,
          9,
          11,
          19,
          15,
          22,
          18,
          20,
          13,
          10,
          9,
          8,
          9,
          8,
          12,
          6,
          8,
          8,
          15,
          13,
          6,
          10,
          9,
          18,
          18,
          16,
          9,
          16,
          16,
          22,
          12,
          16,
          15,
          9,
          12,
          19,
          8,
          16,
          14,
          11,
          8,
          8,
          11,
          12,
          18,
          8,
          33,
          11,
          10,
          11,
          8,
          14,
          13,
          13,
          7,
          11,
          11,
          11,
          5,
          8,
          7,
          14,
          12,
          7,
          11,
          11,
          10,
          11,
          14,
          20,
          8,
          13,
          16,
          10,
          14,
          13,
          6,
          11,
          13,
          15,
          10,
          10,
          24,
          14,
          31,
          6
         ],
         "xaxis": "x2",
         "yaxis": "y2"
        },
        {
         "legendgroup": "3",
         "marker": {
          "color": "green"
         },
         "name": "3",
         "showlegend": false,
         "type": "box",
         "x": [
          39,
          16,
          27,
          7,
          8,
          13,
          15,
          10,
          11,
          13,
          7,
          9,
          8,
          11,
          8,
          9,
          18,
          18,
          12,
          23,
          10,
          12,
          11,
          15,
          12,
          12,
          8,
          9,
          11,
          8,
          14,
          16,
          8,
          9,
          30,
          10,
          10,
          9,
          13,
          14,
          13,
          21,
          7,
          14,
          13,
          9,
          8,
          11,
          14,
          14,
          10,
          7,
          11,
          27,
          7,
          9,
          12,
          17,
          11,
          11,
          5,
          11,
          10,
          15,
          7,
          9,
          12,
          8,
          8,
          8,
          6,
          7,
          19,
          20,
          13,
          31,
          12,
          6,
          10,
          14,
          9,
          13,
          12,
          11,
          8,
          16,
          14,
          12,
          9,
          16,
          8,
          18,
          18,
          17,
          21,
          17,
          9,
          10,
          14,
          16,
          11,
          9,
          12,
          7,
          18,
          18,
          10,
          11,
          13,
          13,
          15,
          10,
          10,
          16,
          9,
          15,
          12,
          11,
          9,
          11,
          15,
          12,
          16,
          13,
          14,
          10,
          12,
          8,
          10,
          19,
          9,
          15,
          11,
          23,
          38,
          9,
          11,
          10,
          8,
          8,
          14,
          10,
          9,
          7,
          8,
          13,
          23,
          13,
          11,
          7,
          13,
          9,
          13,
          11,
          7,
          12,
          8,
          14,
          11,
          9,
          12,
          9,
          9,
          11,
          14,
          16,
          5,
          6,
          16,
          12,
          10,
          8,
          9,
          14,
          10,
          10,
          8,
          13,
          10,
          13,
          8,
          10,
          14,
          11,
          8,
          13,
          12,
          11,
          17,
          14,
          12,
          11,
          7,
          8,
          20,
          24,
          12
         ],
         "xaxis": "x2",
         "yaxis": "y2"
        },
        {
         "legendgroup": "4",
         "marker": {
          "color": "purple"
         },
         "name": "4",
         "showlegend": false,
         "type": "box",
         "x": [
          15,
          13,
          8,
          12,
          7,
          10,
          12,
          16,
          9,
          12,
          14,
          9,
          12,
          17,
          15,
          8,
          12,
          13,
          15,
          18,
          12,
          18,
          10,
          9,
          8,
          10,
          25,
          21,
          23,
          16,
          12,
          8,
          19,
          15,
          12,
          8,
          8,
          15,
          11,
          13,
          10,
          8,
          14,
          12,
          13,
          13,
          15,
          10,
          11,
          19,
          10,
          10,
          9,
          16,
          8,
          14,
          9,
          10,
          17,
          10,
          9,
          12,
          22,
          12,
          14,
          9,
          11,
          10,
          10,
          12,
          10,
          12,
          16,
          12,
          8,
          21,
          19,
          16,
          13,
          17,
          11,
          9,
          9,
          11,
          16,
          10,
          18,
          9,
          10,
          16,
          13,
          8,
          8,
          10,
          16,
          11,
          14,
          11,
          14,
          10,
          13,
          23,
          10,
          12,
          7,
          11,
          15,
          9,
          10,
          19,
          15,
          15,
          15,
          11,
          14,
          10,
          10,
          13,
          10,
          21
         ],
         "xaxis": "x2",
         "yaxis": "y2"
        },
        {
         "legendgroup": "5",
         "marker": {
          "color": "orange"
         },
         "name": "5",
         "showlegend": false,
         "type": "box",
         "x": [
          10,
          17,
          14,
          14,
          11,
          14,
          12,
          14,
          15,
          21,
          15,
          14,
          10,
          12,
          11
         ],
         "xaxis": "x2",
         "yaxis": "y2"
        },
        {
         "legendgroup": "6",
         "marker": {
          "color": "pink"
         },
         "name": "6",
         "showlegend": false,
         "type": "box",
         "x": [
          19,
          15,
          14,
          13
         ],
         "xaxis": "x2",
         "yaxis": "y2"
        },
        {
         "legendgroup": "1",
         "marker": {
          "color": "blue"
         },
         "name": "1",
         "showlegend": false,
         "type": "box",
         "x": [
          7,
          2,
          2,
          3,
          1,
          0,
          0,
          0,
          11,
          0,
          1,
          8,
          14,
          1,
          1,
          0,
          104,
          0,
          0,
          1,
          2,
          0,
          3,
          0,
          2,
          3,
          1,
          2,
          5,
          0,
          4,
          1,
          0,
          2,
          5
         ],
         "xaxis": "x3",
         "yaxis": "y3"
        },
        {
         "legendgroup": "2",
         "marker": {
          "color": "red"
         },
         "name": "2",
         "showlegend": false,
         "type": "box",
         "x": [
          3,
          2,
          1,
          3,
          1,
          1,
          0,
          2,
          2,
          1,
          2,
          5,
          0,
          3,
          0,
          3,
          0,
          4,
          1,
          11,
          3,
          0,
          10,
          1,
          1,
          9,
          1,
          2,
          0,
          1,
          0,
          0,
          0,
          1,
          2,
          0,
          0,
          1,
          0,
          1,
          1,
          1,
          2,
          0,
          1,
          1,
          2,
          0,
          1,
          3,
          0,
          4,
          2,
          3,
          1,
          0,
          0,
          1,
          1,
          1,
          2,
          0,
          3,
          0,
          1,
          2,
          0,
          1,
          2,
          0,
          3,
          2,
          3,
          0,
          1,
          0,
          0,
          1,
          2,
          0,
          5,
          1,
          3,
          1,
          1,
          3,
          0,
          3,
          0,
          30,
          1,
          2,
          2,
          0,
          2,
          3,
          1,
          0,
          2,
          2,
          1,
          0,
          2,
          0,
          0,
          0,
          1,
          1,
          2,
          1,
          2,
          0,
          2,
          1,
          2,
          3,
          1,
          0,
          2,
          0,
          4,
          0,
          1,
          0,
          1,
          4,
          3,
          9,
          0
         ],
         "xaxis": "x3",
         "yaxis": "y3"
        },
        {
         "legendgroup": "3",
         "marker": {
          "color": "green"
         },
         "name": "3",
         "showlegend": false,
         "type": "box",
         "x": [
          3,
          0,
          1,
          0,
          0,
          1,
          1,
          0,
          1,
          2,
          0,
          0,
          2,
          1,
          0,
          1,
          4,
          5,
          1,
          8,
          0,
          1,
          1,
          0,
          4,
          1,
          0,
          1,
          1,
          1,
          1,
          1,
          0,
          1,
          3,
          1,
          1,
          0,
          1,
          1,
          1,
          4,
          1,
          2,
          0,
          0,
          0,
          0,
          0,
          2,
          0,
          0,
          1,
          4,
          0,
          0,
          0,
          3,
          0,
          0,
          0,
          1,
          1,
          2,
          2,
          2,
          0,
          0,
          1,
          1,
          1,
          0,
          3,
          4,
          1,
          2,
          1,
          0,
          0,
          1,
          1,
          1,
          2,
          1,
          1,
          0,
          3,
          1,
          1,
          1,
          1,
          5,
          1,
          3,
          2,
          1,
          1,
          2,
          2,
          3,
          0,
          1,
          1,
          0,
          0,
          0,
          1,
          4,
          2,
          1,
          0,
          1,
          1,
          0,
          0,
          3,
          0,
          0,
          0,
          0,
          0,
          0,
          3,
          2,
          3,
          1,
          0,
          0,
          1,
          0,
          1,
          0,
          1,
          0,
          13,
          0,
          1,
          1,
          0,
          1,
          3,
          1,
          1,
          1,
          1,
          0,
          1,
          1,
          0,
          2,
          1,
          1,
          1,
          0,
          1,
          1,
          1,
          1,
          0,
          3,
          1,
          1,
          0,
          0,
          2,
          0,
          0,
          1,
          3,
          2,
          0,
          3,
          0,
          1,
          1,
          2,
          0,
          0,
          0,
          1,
          1,
          1,
          2,
          0,
          2,
          1,
          1,
          2,
          0,
          2,
          0,
          0,
          0,
          1,
          0,
          0,
          1
         ],
         "xaxis": "x3",
         "yaxis": "y3"
        },
        {
         "legendgroup": "4",
         "marker": {
          "color": "purple"
         },
         "name": "4",
         "showlegend": false,
         "type": "box",
         "x": [
          1,
          2,
          0,
          0,
          0,
          0,
          1,
          1,
          1,
          2,
          1,
          1,
          1,
          1,
          0,
          1,
          0,
          1,
          1,
          0,
          0,
          1,
          1,
          0,
          0,
          0,
          0,
          1,
          1,
          3,
          0,
          0,
          1,
          2,
          0,
          0,
          0,
          1,
          1,
          1,
          0,
          0,
          1,
          0,
          1,
          1,
          1,
          0,
          1,
          2,
          1,
          0,
          2,
          0,
          0,
          0,
          0,
          1,
          0,
          1,
          1,
          0,
          0,
          0,
          0,
          0,
          0,
          1,
          1,
          0,
          1,
          1,
          1,
          2,
          2,
          2,
          2,
          2,
          1,
          0,
          2,
          0,
          0,
          0,
          2,
          3,
          1,
          1,
          1,
          1,
          0,
          1,
          0,
          0,
          2,
          3,
          0,
          0,
          0,
          0,
          2,
          4,
          1,
          0,
          1,
          1,
          1,
          0,
          1,
          2,
          1,
          0,
          2,
          1,
          1,
          0,
          0,
          0,
          0,
          2
         ],
         "xaxis": "x3",
         "yaxis": "y3"
        },
        {
         "legendgroup": "5",
         "marker": {
          "color": "orange"
         },
         "name": "5",
         "showlegend": false,
         "type": "box",
         "x": [
          0,
          2,
          0,
          1,
          1,
          0,
          3,
          0,
          0,
          2,
          2,
          1,
          1,
          1,
          0
         ],
         "xaxis": "x3",
         "yaxis": "y3"
        },
        {
         "legendgroup": "6",
         "marker": {
          "color": "pink"
         },
         "name": "6",
         "showlegend": false,
         "type": "box",
         "x": [
          0,
          2,
          0,
          2
         ],
         "xaxis": "x3",
         "yaxis": "y3"
        },
        {
         "legendgroup": "1",
         "marker": {
          "color": "blue"
         },
         "name": "1",
         "showlegend": false,
         "type": "box",
         "x": [
          10.333333333333334,
          7.2631578947368425,
          5.083333333333333,
          7.571428571428571,
          4.5,
          5.7,
          4.8,
          3.1739130434782608,
          20.666666666666668,
          4.027027027027027,
          5.173913043478261,
          23.333333333333332,
          17,
          5.555555555555555,
          3,
          1.8793103448275863,
          104,
          4.411764705882353,
          5.625,
          6.928571428571429,
          5.444444444444445,
          7.461538461538462,
          7,
          3.2,
          4.75,
          7.222222222222222,
          5,
          6.75,
          8.2,
          4.230769230769231,
          7.8,
          5.333333333333333,
          9.125,
          6.1,
          9.666666666666666
         ],
         "xaxis": "x4",
         "yaxis": "y4"
        },
        {
         "legendgroup": "2",
         "marker": {
          "color": "red"
         },
         "name": "2",
         "showlegend": false,
         "type": "box",
         "x": [
          6.571428571428571,
          5.333333333333333,
          5,
          5.333333333333333,
          5.333333333333333,
          3.1,
          8.5,
          4.416666666666667,
          5.666666666666667,
          3.45,
          7.625,
          11.4,
          3.3684210526315788,
          5.571428571428571,
          5.375,
          7.333333333333333,
          3.2,
          16.75,
          3.8461538461538463,
          14,
          5.235294117647059,
          5.769230769230769,
          13.25,
          7.571428571428571,
          2.7777777777777777,
          14.2,
          4.826086956521739,
          10,
          4.7272727272727275,
          7.25,
          3,
          2.6842105263157894,
          1.9375,
          7.75,
          5.25,
          4.333333333333333,
          5.333333333333333,
          6.375,
          4.222222222222222,
          5.363636363636363,
          4,
          9.052631578947368,
          5,
          6.2,
          4.333333333333333,
          5.142857142857143,
          5.375,
          5.388888888888889,
          7.357142857142857,
          11,
          6.172413793103448,
          9.142857142857142,
          5.888888888888889,
          6.333333333333333,
          4.461538461538462,
          2.688888888888889,
          4,
          7.083333333333333,
          3.3333333333333335,
          4.461538461538462,
          3.7222222222222223,
          7.5,
          6.916666666666667,
          3.45,
          3.6818181818181817,
          5.153846153846154,
          6,
          5.9,
          7,
          4.636363636363637,
          7.285714285714286,
          10.11111111111111,
          14,
          5.2727272727272725,
          5.625,
          5.444444444444445,
          4.5625,
          5.176470588235294,
          7.714285714285714,
          4.285714285714286,
          9,
          6,
          6,
          4.416666666666667,
          5.076923076923077,
          5.5,
          4.533333333333333,
          7.454545454545454,
          3.1875,
          31.5,
          5.642857142857143,
          5.888888888888889,
          6.25,
          3.5555555555555554,
          5.3076923076923075,
          5.9,
          5.5,
          3.9285714285714284,
          5.5,
          6.071428571428571,
          4.529411764705882,
          2.388888888888889,
          5.181818181818182,
          3.9,
          4.833333333333333,
          3.6,
          3.533333333333333,
          5.071428571428571,
          5.888888888888889,
          4.380952380952381,
          6,
          4.555555555555555,
          11,
          5,
          5.6,
          7.7,
          5.3076923076923075,
          5,
          6.333333333333333,
          3,
          8,
          5.1875,
          6.416666666666667,
          3.1333333333333333,
          5.352941176470588,
          10.333333333333334,
          6.875,
          18.2,
          2.6153846153846154
         ],
         "xaxis": "x4",
         "yaxis": "y4"
        },
        {
         "legendgroup": "3",
         "marker": {
          "color": "green"
         },
         "name": "3",
         "showlegend": false,
         "type": "box",
         "x": [
          11.615384615384615,
          5.428571428571429,
          7.866666666666666,
          3.3076923076923075,
          2,
          6.526315789473684,
          6.416666666666667,
          4.409090909090909,
          4.590909090909091,
          6.583333333333333,
          3.8181818181818183,
          4.2272727272727275,
          4.470588235294118,
          5.6923076923076925,
          3.5185185185185186,
          4.9411764705882355,
          8.5625,
          11.090909090909092,
          5.625,
          12.2,
          3.6363636363636362,
          5.235294117647059,
          4.578947368421052,
          7.166666666666667,
          6.6,
          4.8,
          3.5384615384615383,
          5,
          4.5,
          4.866666666666666,
          6.45,
          6.4,
          4.176470588235294,
          3.5294117647058822,
          10.384615384615385,
          4.709677419354839,
          4.6923076923076925,
          3.72,
          6,
          5.428571428571429,
          5.625,
          8.857142857142858,
          3.0689655172413794,
          5.863636363636363,
          6.625,
          3.875,
          4.739130434782608,
          4.631578947368421,
          4.848484848484849,
          7.526315789473684,
          3,
          2.16,
          5.285714285714286,
          10.4,
          3.0869565217391304,
          3.1666666666666665,
          4.368421052631579,
          6.722222222222222,
          4.7894736842105265,
          4.3,
          1.7777777777777777,
          5.045454545454546,
          5.2,
          6.625,
          4.545454545454546,
          5.230769230769231,
          3.9166666666666665,
          4.086956521739131,
          3.68,
          4.666666666666667,
          3.875,
          4.0588235294117645,
          10.5,
          7.222222222222222,
          6.260869565217392,
          8.6,
          5.689655172413793,
          3.263157894736842,
          4.764705882352941,
          6.466666666666667,
          3.875,
          6.3,
          6.15,
          5.368421052631579,
          3.78125,
          6.2,
          6.625,
          5.25,
          4.166666666666667,
          5,
          4.64,
          9.25,
          5.619047619047619,
          7,
          5.7368421052631575,
          7.066666666666666,
          4.111111111111111,
          5.269230769230769,
          8,
          8.5,
          3.6666666666666665,
          6.095238095238095,
          4.705882352941177,
          4.083333333333333,
          5.3076923076923075,
          5.8,
          4.208333333333333,
          6.4,
          7,
          5.1,
          5.318181818181818,
          4.523809523809524,
          5.230769230769231,
          4.888888888888889,
          5.125,
          6.5,
          4.28,
          5,
          4.578947368421052,
          4.458333333333333,
          5.4,
          4.103448275862069,
          7.444444444444445,
          6.642857142857143,
          7.2727272727272725,
          4.1,
          5.208333333333333,
          3.0454545454545454,
          3.95,
          4.608695652173913,
          4.733333333333333,
          6.25,
          5.076923076923077,
          8.25,
          21.4,
          5.133333333333334,
          5.315789473684211,
          5,
          3.3333333333333335,
          3.5714285714285716,
          6.866666666666666,
          5.521739130434782,
          3.175,
          4.08,
          3.4615384615384617,
          6.875,
          5.64,
          5.933333333333334,
          4.173913043478261,
          4.136363636363637,
          4.842105263157895,
          4.2,
          5,
          4.36,
          4.142857142857143,
          4.888888888888889,
          5.357142857142857,
          5.592592592592593,
          3.814814814814815,
          5.846153846153846,
          3.727272727272727,
          4.35,
          3.64,
          5.357142857142857,
          6.173913043478261,
          5.214285714285714,
          2.9565217391304346,
          3.611111111111111,
          6.75,
          6.545454545454546,
          3.9642857142857144,
          4.833333333333333,
          4.195121951219512,
          5.166666666666667,
          4.235294117647059,
          5.619047619047619,
          4.705882352941177,
          5.625,
          3.962962962962963,
          7.2,
          4.409090909090909,
          4.5,
          5.5,
          2.843137254901961,
          4.142857142857143,
          4.655172413793103,
          5.833333333333333,
          5.434782608695652,
          6.3,
          6.466666666666667,
          5.066666666666666,
          4.473684210526316,
          3.6,
          4.466666666666667,
          5.5,
          7.6923076923076925,
          5.666666666666667
         ],
         "xaxis": "x4",
         "yaxis": "y4"
        },
        {
         "legendgroup": "4",
         "marker": {
          "color": "purple"
         },
         "name": "4",
         "showlegend": false,
         "type": "box",
         "x": [
          6.916666666666667,
          6.35,
          4.12,
          5.117647058823529,
          3.3870967741935485,
          4.782608695652174,
          4.833333333333333,
          5.285714285714286,
          5.090909090909091,
          5.1,
          5.086956521739131,
          4.545454545454546,
          5.857142857142857,
          7.130434782608695,
          6,
          5.125,
          5.962962962962963,
          7.2,
          6.178571428571429,
          7.185185185185185,
          5.423076923076923,
          5.0625,
          4.344827586206897,
          4.542857142857143,
          4.7407407407407405,
          4.45,
          5.82051282051282,
          7.818181818181818,
          9.352941176470589,
          8.045454545454545,
          5.032258064516129,
          3.72,
          7.235294117647059,
          5.7272727272727275,
          7.222222222222222,
          3.064516129032258,
          3.5,
          6,
          4.777777777777778,
          4.551724137931035,
          4.56,
          3.85,
          6.7894736842105265,
          4.837837837837838,
          5.653846153846154,
          5.296296296296297,
          6.071428571428571,
          5.714285714285714,
          5.833333333333333,
          8.148148148148149,
          4.44,
          3.121212121212121,
          4.105263157894737,
          5.08,
          3.4285714285714284,
          6.181818181818182,
          3.5833333333333335,
          5.1923076923076925,
          8.928571428571429,
          5.36,
          4.923076923076923,
          4.818181818181818,
          7.666666666666667,
          6.190476190476191,
          5.32258064516129,
          4.151515151515151,
          4.525,
          4.956521739130435,
          4.296296296296297,
          4.344827586206897,
          5.08,
          4.96,
          5.548387096774194,
          5.555555555555555,
          4.375,
          7.222222222222222,
          9.733333333333333,
          6.933333333333334,
          7.208333333333333,
          5.35,
          4.62962962962963,
          4.96,
          4.029411764705882,
          5.115384615384615,
          7.285714285714286,
          5.782608695652174,
          7,
          5.095238095238095,
          4.257142857142857,
          6,
          5.08,
          4.0625,
          3.5483870967741935,
          5.08,
          7.5,
          7.071428571428571,
          4.95,
          4.5,
          4.821428571428571,
          3.5,
          6.354838709677419,
          12.875,
          6.0588235294117645,
          5.34375,
          3.45,
          5.35,
          6,
          3.8181818181818183,
          5,
          7.105263157894737,
          7,
          4.379310344827586,
          6.3,
          5.888888888888889,
          6.84,
          3.2857142857142856,
          3.4375,
          5.310344827586207,
          4.961538461538462,
          8.142857142857142
         ],
         "xaxis": "x4",
         "yaxis": "y4"
        },
        {
         "legendgroup": "5",
         "marker": {
          "color": "orange"
         },
         "name": "5",
         "showlegend": false,
         "type": "box",
         "x": [
          3.9302325581395348,
          7.190476190476191,
          6.53125,
          5.833333333333333,
          4.75,
          4,
          6.909090909090909,
          6,
          6.346153846153846,
          6.514285714285714,
          5.448275862068965,
          6.592592592592593,
          4.5,
          5.321428571428571,
          4.27027027027027
         ],
         "xaxis": "x4",
         "yaxis": "y4"
        },
        {
         "legendgroup": "6",
         "marker": {
          "color": "pink"
         },
         "name": "6",
         "showlegend": false,
         "type": "box",
         "x": [
          6.733333333333333,
          7.125,
          5.277777777777778,
          6.481481481481482
         ],
         "xaxis": "x4",
         "yaxis": "y4"
        }
       ],
       "layout": {
        "annotations": [
         {
          "font": {
           "size": 16
          },
          "showarrow": false,
          "text": "sentence_determiner_count_sum",
          "x": 0.225,
          "xanchor": "center",
          "xref": "paper",
          "y": 1,
          "yanchor": "bottom",
          "yref": "paper"
         },
         {
          "font": {
           "size": 16
          },
          "showarrow": false,
          "text": "sentence_determiner_count_max",
          "x": 0.775,
          "xanchor": "center",
          "xref": "paper",
          "y": 1,
          "yanchor": "bottom",
          "yref": "paper"
         },
         {
          "font": {
           "size": 16
          },
          "showarrow": false,
          "text": "sentence_determiner_count_min",
          "x": 0.225,
          "xanchor": "center",
          "xref": "paper",
          "y": 0.375,
          "yanchor": "bottom",
          "yref": "paper"
         },
         {
          "font": {
           "size": 16
          },
          "showarrow": false,
          "text": "sentence_determiner_count_mean",
          "x": 0.775,
          "xanchor": "center",
          "xref": "paper",
          "y": 0.375,
          "yanchor": "bottom",
          "yref": "paper"
         }
        ],
        "barmode": "group",
        "height": 540,
        "legend": {
         "orientation": "h",
         "x": 0.5,
         "xanchor": "center",
         "y": -0.2,
         "yanchor": "top"
        },
        "template": {
         "data": {
          "bar": [
           {
            "error_x": {
             "color": "#2a3f5f"
            },
            "error_y": {
             "color": "#2a3f5f"
            },
            "marker": {
             "line": {
              "color": "#E5ECF6",
              "width": 0.5
             },
             "pattern": {
              "fillmode": "overlay",
              "size": 10,
              "solidity": 0.2
             }
            },
            "type": "bar"
           }
          ],
          "barpolar": [
           {
            "marker": {
             "line": {
              "color": "#E5ECF6",
              "width": 0.5
             },
             "pattern": {
              "fillmode": "overlay",
              "size": 10,
              "solidity": 0.2
             }
            },
            "type": "barpolar"
           }
          ],
          "carpet": [
           {
            "aaxis": {
             "endlinecolor": "#2a3f5f",
             "gridcolor": "white",
             "linecolor": "white",
             "minorgridcolor": "white",
             "startlinecolor": "#2a3f5f"
            },
            "baxis": {
             "endlinecolor": "#2a3f5f",
             "gridcolor": "white",
             "linecolor": "white",
             "minorgridcolor": "white",
             "startlinecolor": "#2a3f5f"
            },
            "type": "carpet"
           }
          ],
          "choropleth": [
           {
            "colorbar": {
             "outlinewidth": 0,
             "ticks": ""
            },
            "type": "choropleth"
           }
          ],
          "contour": [
           {
            "colorbar": {
             "outlinewidth": 0,
             "ticks": ""
            },
            "colorscale": [
             [
              0,
              "#0d0887"
             ],
             [
              0.1111111111111111,
              "#46039f"
             ],
             [
              0.2222222222222222,
              "#7201a8"
             ],
             [
              0.3333333333333333,
              "#9c179e"
             ],
             [
              0.4444444444444444,
              "#bd3786"
             ],
             [
              0.5555555555555556,
              "#d8576b"
             ],
             [
              0.6666666666666666,
              "#ed7953"
             ],
             [
              0.7777777777777778,
              "#fb9f3a"
             ],
             [
              0.8888888888888888,
              "#fdca26"
             ],
             [
              1,
              "#f0f921"
             ]
            ],
            "type": "contour"
           }
          ],
          "contourcarpet": [
           {
            "colorbar": {
             "outlinewidth": 0,
             "ticks": ""
            },
            "type": "contourcarpet"
           }
          ],
          "heatmap": [
           {
            "colorbar": {
             "outlinewidth": 0,
             "ticks": ""
            },
            "colorscale": [
             [
              0,
              "#0d0887"
             ],
             [
              0.1111111111111111,
              "#46039f"
             ],
             [
              0.2222222222222222,
              "#7201a8"
             ],
             [
              0.3333333333333333,
              "#9c179e"
             ],
             [
              0.4444444444444444,
              "#bd3786"
             ],
             [
              0.5555555555555556,
              "#d8576b"
             ],
             [
              0.6666666666666666,
              "#ed7953"
             ],
             [
              0.7777777777777778,
              "#fb9f3a"
             ],
             [
              0.8888888888888888,
              "#fdca26"
             ],
             [
              1,
              "#f0f921"
             ]
            ],
            "type": "heatmap"
           }
          ],
          "heatmapgl": [
           {
            "colorbar": {
             "outlinewidth": 0,
             "ticks": ""
            },
            "colorscale": [
             [
              0,
              "#0d0887"
             ],
             [
              0.1111111111111111,
              "#46039f"
             ],
             [
              0.2222222222222222,
              "#7201a8"
             ],
             [
              0.3333333333333333,
              "#9c179e"
             ],
             [
              0.4444444444444444,
              "#bd3786"
             ],
             [
              0.5555555555555556,
              "#d8576b"
             ],
             [
              0.6666666666666666,
              "#ed7953"
             ],
             [
              0.7777777777777778,
              "#fb9f3a"
             ],
             [
              0.8888888888888888,
              "#fdca26"
             ],
             [
              1,
              "#f0f921"
             ]
            ],
            "type": "heatmapgl"
           }
          ],
          "histogram": [
           {
            "marker": {
             "pattern": {
              "fillmode": "overlay",
              "size": 10,
              "solidity": 0.2
             }
            },
            "type": "histogram"
           }
          ],
          "histogram2d": [
           {
            "colorbar": {
             "outlinewidth": 0,
             "ticks": ""
            },
            "colorscale": [
             [
              0,
              "#0d0887"
             ],
             [
              0.1111111111111111,
              "#46039f"
             ],
             [
              0.2222222222222222,
              "#7201a8"
             ],
             [
              0.3333333333333333,
              "#9c179e"
             ],
             [
              0.4444444444444444,
              "#bd3786"
             ],
             [
              0.5555555555555556,
              "#d8576b"
             ],
             [
              0.6666666666666666,
              "#ed7953"
             ],
             [
              0.7777777777777778,
              "#fb9f3a"
             ],
             [
              0.8888888888888888,
              "#fdca26"
             ],
             [
              1,
              "#f0f921"
             ]
            ],
            "type": "histogram2d"
           }
          ],
          "histogram2dcontour": [
           {
            "colorbar": {
             "outlinewidth": 0,
             "ticks": ""
            },
            "colorscale": [
             [
              0,
              "#0d0887"
             ],
             [
              0.1111111111111111,
              "#46039f"
             ],
             [
              0.2222222222222222,
              "#7201a8"
             ],
             [
              0.3333333333333333,
              "#9c179e"
             ],
             [
              0.4444444444444444,
              "#bd3786"
             ],
             [
              0.5555555555555556,
              "#d8576b"
             ],
             [
              0.6666666666666666,
              "#ed7953"
             ],
             [
              0.7777777777777778,
              "#fb9f3a"
             ],
             [
              0.8888888888888888,
              "#fdca26"
             ],
             [
              1,
              "#f0f921"
             ]
            ],
            "type": "histogram2dcontour"
           }
          ],
          "mesh3d": [
           {
            "colorbar": {
             "outlinewidth": 0,
             "ticks": ""
            },
            "type": "mesh3d"
           }
          ],
          "parcoords": [
           {
            "line": {
             "colorbar": {
              "outlinewidth": 0,
              "ticks": ""
             }
            },
            "type": "parcoords"
           }
          ],
          "pie": [
           {
            "automargin": true,
            "type": "pie"
           }
          ],
          "scatter": [
           {
            "fillpattern": {
             "fillmode": "overlay",
             "size": 10,
             "solidity": 0.2
            },
            "type": "scatter"
           }
          ],
          "scatter3d": [
           {
            "line": {
             "colorbar": {
              "outlinewidth": 0,
              "ticks": ""
             }
            },
            "marker": {
             "colorbar": {
              "outlinewidth": 0,
              "ticks": ""
             }
            },
            "type": "scatter3d"
           }
          ],
          "scattercarpet": [
           {
            "marker": {
             "colorbar": {
              "outlinewidth": 0,
              "ticks": ""
             }
            },
            "type": "scattercarpet"
           }
          ],
          "scattergeo": [
           {
            "marker": {
             "colorbar": {
              "outlinewidth": 0,
              "ticks": ""
             }
            },
            "type": "scattergeo"
           }
          ],
          "scattergl": [
           {
            "marker": {
             "colorbar": {
              "outlinewidth": 0,
              "ticks": ""
             }
            },
            "type": "scattergl"
           }
          ],
          "scattermapbox": [
           {
            "marker": {
             "colorbar": {
              "outlinewidth": 0,
              "ticks": ""
             }
            },
            "type": "scattermapbox"
           }
          ],
          "scatterpolar": [
           {
            "marker": {
             "colorbar": {
              "outlinewidth": 0,
              "ticks": ""
             }
            },
            "type": "scatterpolar"
           }
          ],
          "scatterpolargl": [
           {
            "marker": {
             "colorbar": {
              "outlinewidth": 0,
              "ticks": ""
             }
            },
            "type": "scatterpolargl"
           }
          ],
          "scatterternary": [
           {
            "marker": {
             "colorbar": {
              "outlinewidth": 0,
              "ticks": ""
             }
            },
            "type": "scatterternary"
           }
          ],
          "surface": [
           {
            "colorbar": {
             "outlinewidth": 0,
             "ticks": ""
            },
            "colorscale": [
             [
              0,
              "#0d0887"
             ],
             [
              0.1111111111111111,
              "#46039f"
             ],
             [
              0.2222222222222222,
              "#7201a8"
             ],
             [
              0.3333333333333333,
              "#9c179e"
             ],
             [
              0.4444444444444444,
              "#bd3786"
             ],
             [
              0.5555555555555556,
              "#d8576b"
             ],
             [
              0.6666666666666666,
              "#ed7953"
             ],
             [
              0.7777777777777778,
              "#fb9f3a"
             ],
             [
              0.8888888888888888,
              "#fdca26"
             ],
             [
              1,
              "#f0f921"
             ]
            ],
            "type": "surface"
           }
          ],
          "table": [
           {
            "cells": {
             "fill": {
              "color": "#EBF0F8"
             },
             "line": {
              "color": "white"
             }
            },
            "header": {
             "fill": {
              "color": "#C8D4E3"
             },
             "line": {
              "color": "white"
             }
            },
            "type": "table"
           }
          ]
         },
         "layout": {
          "annotationdefaults": {
           "arrowcolor": "#2a3f5f",
           "arrowhead": 0,
           "arrowwidth": 1
          },
          "autotypenumbers": "strict",
          "coloraxis": {
           "colorbar": {
            "outlinewidth": 0,
            "ticks": ""
           }
          },
          "colorscale": {
           "diverging": [
            [
             0,
             "#8e0152"
            ],
            [
             0.1,
             "#c51b7d"
            ],
            [
             0.2,
             "#de77ae"
            ],
            [
             0.3,
             "#f1b6da"
            ],
            [
             0.4,
             "#fde0ef"
            ],
            [
             0.5,
             "#f7f7f7"
            ],
            [
             0.6,
             "#e6f5d0"
            ],
            [
             0.7,
             "#b8e186"
            ],
            [
             0.8,
             "#7fbc41"
            ],
            [
             0.9,
             "#4d9221"
            ],
            [
             1,
             "#276419"
            ]
           ],
           "sequential": [
            [
             0,
             "#0d0887"
            ],
            [
             0.1111111111111111,
             "#46039f"
            ],
            [
             0.2222222222222222,
             "#7201a8"
            ],
            [
             0.3333333333333333,
             "#9c179e"
            ],
            [
             0.4444444444444444,
             "#bd3786"
            ],
            [
             0.5555555555555556,
             "#d8576b"
            ],
            [
             0.6666666666666666,
             "#ed7953"
            ],
            [
             0.7777777777777778,
             "#fb9f3a"
            ],
            [
             0.8888888888888888,
             "#fdca26"
            ],
            [
             1,
             "#f0f921"
            ]
           ],
           "sequentialminus": [
            [
             0,
             "#0d0887"
            ],
            [
             0.1111111111111111,
             "#46039f"
            ],
            [
             0.2222222222222222,
             "#7201a8"
            ],
            [
             0.3333333333333333,
             "#9c179e"
            ],
            [
             0.4444444444444444,
             "#bd3786"
            ],
            [
             0.5555555555555556,
             "#d8576b"
            ],
            [
             0.6666666666666666,
             "#ed7953"
            ],
            [
             0.7777777777777778,
             "#fb9f3a"
            ],
            [
             0.8888888888888888,
             "#fdca26"
            ],
            [
             1,
             "#f0f921"
            ]
           ]
          },
          "colorway": [
           "#636efa",
           "#EF553B",
           "#00cc96",
           "#ab63fa",
           "#FFA15A",
           "#19d3f3",
           "#FF6692",
           "#B6E880",
           "#FF97FF",
           "#FECB52"
          ],
          "font": {
           "color": "#2a3f5f"
          },
          "geo": {
           "bgcolor": "white",
           "lakecolor": "white",
           "landcolor": "#E5ECF6",
           "showlakes": true,
           "showland": true,
           "subunitcolor": "white"
          },
          "hoverlabel": {
           "align": "left"
          },
          "hovermode": "closest",
          "mapbox": {
           "style": "light"
          },
          "paper_bgcolor": "white",
          "plot_bgcolor": "#E5ECF6",
          "polar": {
           "angularaxis": {
            "gridcolor": "white",
            "linecolor": "white",
            "ticks": ""
           },
           "bgcolor": "#E5ECF6",
           "radialaxis": {
            "gridcolor": "white",
            "linecolor": "white",
            "ticks": ""
           }
          },
          "scene": {
           "xaxis": {
            "backgroundcolor": "#E5ECF6",
            "gridcolor": "white",
            "gridwidth": 2,
            "linecolor": "white",
            "showbackground": true,
            "ticks": "",
            "zerolinecolor": "white"
           },
           "yaxis": {
            "backgroundcolor": "#E5ECF6",
            "gridcolor": "white",
            "gridwidth": 2,
            "linecolor": "white",
            "showbackground": true,
            "ticks": "",
            "zerolinecolor": "white"
           },
           "zaxis": {
            "backgroundcolor": "#E5ECF6",
            "gridcolor": "white",
            "gridwidth": 2,
            "linecolor": "white",
            "showbackground": true,
            "ticks": "",
            "zerolinecolor": "white"
           }
          },
          "shapedefaults": {
           "line": {
            "color": "#2a3f5f"
           }
          },
          "ternary": {
           "aaxis": {
            "gridcolor": "white",
            "linecolor": "white",
            "ticks": ""
           },
           "baxis": {
            "gridcolor": "white",
            "linecolor": "white",
            "ticks": ""
           },
           "bgcolor": "#E5ECF6",
           "caxis": {
            "gridcolor": "white",
            "linecolor": "white",
            "ticks": ""
           }
          },
          "title": {
           "x": 0.05
          },
          "xaxis": {
           "automargin": true,
           "gridcolor": "white",
           "linecolor": "white",
           "ticks": "",
           "title": {
            "standoff": 15
           },
           "zerolinecolor": "white",
           "zerolinewidth": 2
          },
          "yaxis": {
           "automargin": true,
           "gridcolor": "white",
           "linecolor": "white",
           "ticks": "",
           "title": {
            "standoff": 15
           },
           "zerolinecolor": "white",
           "zerolinewidth": 2
          }
         }
        },
        "title": {
         "text": "sentence_determiner_count",
         "x": 0.5
        },
        "width": 960,
        "xaxis": {
         "anchor": "y",
         "domain": [
          0,
          0.45
         ],
         "title": {
          "text": "sentence_determiner_count_sum"
         }
        },
        "xaxis2": {
         "anchor": "y2",
         "domain": [
          0.55,
          1
         ],
         "title": {
          "text": "sentence_determiner_count_max"
         }
        },
        "xaxis3": {
         "anchor": "y3",
         "domain": [
          0,
          0.45
         ],
         "title": {
          "text": "sentence_determiner_count_min"
         }
        },
        "xaxis4": {
         "anchor": "y4",
         "domain": [
          0.55,
          1
         ],
         "title": {
          "text": "sentence_determiner_count_mean"
         }
        },
        "yaxis": {
         "anchor": "x",
         "domain": [
          0.625,
          1
         ],
         "title": {
          "text": "Score"
         }
        },
        "yaxis2": {
         "anchor": "x2",
         "domain": [
          0.625,
          1
         ],
         "matches": "y",
         "showticklabels": false,
         "title": {
          "text": "Score"
         }
        },
        "yaxis3": {
         "anchor": "x3",
         "domain": [
          0,
          0.375
         ],
         "title": {
          "text": "Score"
         }
        },
        "yaxis4": {
         "anchor": "x4",
         "domain": [
          0,
          0.375
         ],
         "matches": "y3",
         "showticklabels": false,
         "title": {
          "text": "Score"
         }
        }
       }
      }
     },
     "metadata": {},
     "output_type": "display_data"
    }
   ],
   "source": [
    "plot_all(\"sentence_determiner_count\")"
   ]
  },
  {
   "cell_type": "markdown",
   "metadata": {},
   "source": [
    "Sum of nouns is somewhat useful."
   ]
  },
  {
   "cell_type": "markdown",
   "metadata": {},
   "source": [
    "## Punctuation"
   ]
  },
  {
   "cell_type": "markdown",
   "metadata": {},
   "source": [
    "### Variety (Useful)"
   ]
  },
  {
   "cell_type": "code",
   "execution_count": 21,
   "metadata": {},
   "outputs": [],
   "source": [
    "def count_unique_punctuation_per_sentence(sentence):\n",
    "    tokens = word_tokenize(sentence)\n",
    "    punctuations = set()\n",
    "    \n",
    "    for token in tokens:\n",
    "        for char in token:\n",
    "            if char.isalnum():\n",
    "                continue\n",
    "            \n",
    "            punctuations.add(char)\n",
    "    \n",
    "    return len(punctuations)"
   ]
  },
  {
   "cell_type": "code",
   "execution_count": 22,
   "metadata": {},
   "outputs": [],
   "source": [
    "def count_unique_punctuations(sentences):\n",
    "    return [\n",
    "        count_unique_punctuation_per_sentence(sentence)\n",
    "        for sentence in sentences\n",
    "    ]"
   ]
  },
  {
   "cell_type": "code",
   "execution_count": 23,
   "metadata": {},
   "outputs": [],
   "source": [
    "df[\"sentence_unique_punctuations\"] = df[\"sentences\"].map(count_unique_punctuations)\n",
    "df[\"sentence_unique_punctuations_sum\"] = df[\"sentence_unique_punctuations\"].map(sum)\n",
    "df[\"sentence_unique_punctuations_max\"] = df[\"sentence_unique_punctuations\"].map(max)\n",
    "df[\"sentence_unique_punctuations_min\"] = df[\"sentence_unique_punctuations\"].map(min)\n",
    "df[\"sentence_unique_punctuations_mean\"] = df[\"sentence_unique_punctuations\"].map(np.mean)"
   ]
  },
  {
   "cell_type": "code",
   "execution_count": 24,
   "metadata": {},
   "outputs": [
    {
     "data": {
      "application/vnd.plotly.v1+json": {
       "config": {
        "plotlyServerURL": "https://plot.ly"
       },
       "data": [
        {
         "legendgroup": "1",
         "marker": {
          "color": "blue"
         },
         "name": "1",
         "showlegend": false,
         "type": "box",
         "x": [
          20,
          37,
          12,
          14,
          40,
          22,
          11,
          61,
          7,
          70,
          50,
          15,
          5,
          26,
          17,
          137,
          4,
          57,
          12,
          24,
          18,
          34,
          14,
          37,
          17,
          24,
          17,
          32,
          9,
          19,
          12,
          23,
          12,
          16,
          8
         ],
         "xaxis": "x",
         "yaxis": "y"
        },
        {
         "legendgroup": "2",
         "marker": {
          "color": "red"
         },
         "name": "2",
         "showlegend": false,
         "type": "box",
         "x": [
          16,
          27,
          15,
          28,
          18,
          14,
          16,
          20,
          30,
          27,
          9,
          15,
          30,
          26,
          8,
          19,
          21,
          5,
          20,
          9,
          25,
          23,
          10,
          9,
          48,
          9,
          37,
          7,
          18,
          15,
          29,
          28,
          37,
          14,
          13,
          30,
          48,
          13,
          25,
          15,
          29,
          49,
          24,
          17,
          26,
          33,
          20,
          27,
          39,
          8,
          52,
          20,
          19,
          14,
          20,
          57,
          26,
          30,
          20,
          57,
          28,
          17,
          24,
          23,
          44,
          29,
          35,
          26,
          39,
          25,
          15,
          10,
          5,
          19,
          41,
          18,
          35,
          28,
          8,
          15,
          22,
          22,
          62,
          27,
          16,
          16,
          22,
          16,
          27,
          6,
          22,
          11,
          9,
          54,
          17,
          12,
          17,
          25,
          12,
          18,
          26,
          23,
          15,
          13,
          32,
          34,
          23,
          30,
          29,
          43,
          11,
          46,
          11,
          36,
          34,
          15,
          19,
          25,
          42,
          14,
          13,
          30,
          15,
          22,
          34,
          13,
          15,
          12,
          16
         ],
         "xaxis": "x",
         "yaxis": "y"
        },
        {
         "legendgroup": "3",
         "marker": {
          "color": "green"
         },
         "name": "3",
         "showlegend": false,
         "type": "box",
         "x": [
          31,
          38,
          40,
          43,
          41,
          32,
          34,
          32,
          34,
          12,
          34,
          32,
          29,
          24,
          59,
          28,
          27,
          25,
          16,
          17,
          62,
          44,
          27,
          20,
          20,
          50,
          38,
          30,
          64,
          47,
          39,
          23,
          32,
          35,
          28,
          57,
          31,
          37,
          41,
          29,
          17,
          25,
          37,
          60,
          42,
          20,
          29,
          19,
          57,
          45,
          60,
          43,
          39,
          20,
          40,
          50,
          24,
          49,
          37,
          44,
          34,
          57,
          56,
          44,
          25,
          26,
          47,
          28,
          34,
          32,
          27,
          29,
          21,
          16,
          63,
          20,
          67,
          42,
          42,
          23,
          40,
          42,
          33,
          21,
          40,
          29,
          26,
          29,
          47,
          37,
          37,
          30,
          41,
          30,
          37,
          28,
          24,
          57,
          16,
          25,
          59,
          31,
          37,
          22,
          43,
          36,
          35,
          30,
          18,
          24,
          40,
          34,
          22,
          51,
          40,
          22,
          37,
          37,
          44,
          41,
          37,
          45,
          10,
          34,
          29,
          22,
          45,
          37,
          26,
          43,
          26,
          19,
          46,
          32,
          25,
          21,
          33,
          26,
          33,
          19,
          33,
          53,
          54,
          48,
          27,
          31,
          38,
          31,
          44,
          27,
          25,
          26,
          26,
          31,
          37,
          26,
          25,
          47,
          41,
          26,
          30,
          40,
          44,
          18,
          34,
          48,
          29,
          26,
          40,
          17,
          38,
          26,
          60,
          25,
          37,
          36,
          30,
          17,
          51,
          11,
          52,
          29,
          16,
          78,
          21,
          64,
          40,
          35,
          54,
          28,
          23,
          33,
          31,
          25,
          44,
          17,
          35
         ],
         "xaxis": "x",
         "yaxis": "y"
        },
        {
         "legendgroup": "4",
         "marker": {
          "color": "purple"
         },
         "name": "4",
         "showlegend": false,
         "type": "box",
         "x": [
          53,
          51,
          37,
          63,
          69,
          54,
          39,
          70,
          22,
          40,
          42,
          40,
          31,
          55,
          35,
          60,
          65,
          58,
          41,
          54,
          52,
          46,
          65,
          62,
          48,
          42,
          78,
          19,
          32,
          39,
          59,
          55,
          24,
          58,
          21,
          60,
          36,
          56,
          52,
          50,
          69,
          38,
          36,
          73,
          58,
          47,
          59,
          37,
          50,
          49,
          62,
          44,
          27,
          51,
          48,
          61,
          83,
          45,
          28,
          46,
          40,
          50,
          60,
          45,
          46,
          74,
          63,
          51,
          48,
          58,
          41,
          42,
          74,
          55,
          44,
          38,
          36,
          37,
          40,
          51,
          50,
          30,
          66,
          70,
          76,
          44,
          33,
          62,
          54,
          50,
          68,
          55,
          60,
          79,
          76,
          30,
          25,
          51,
          51,
          47,
          62,
          18,
          31,
          49,
          33,
          27,
          55,
          32,
          37,
          38,
          42,
          49,
          35,
          34,
          71,
          61,
          43,
          54,
          32,
          47
         ],
         "xaxis": "x",
         "yaxis": "y"
        },
        {
         "legendgroup": "5",
         "marker": {
          "color": "orange"
         },
         "name": "5",
         "showlegend": false,
         "type": "box",
         "x": [
          82,
          46,
          57,
          62,
          50,
          58,
          59,
          64,
          80,
          69,
          88,
          48,
          69,
          50,
          87
         ],
         "xaxis": "x",
         "yaxis": "y"
        },
        {
         "legendgroup": "6",
         "marker": {
          "color": "pink"
         },
         "name": "6",
         "showlegend": false,
         "type": "box",
         "x": [
          111,
          105,
          83,
          50
         ],
         "xaxis": "x",
         "yaxis": "y"
        },
        {
         "legendgroup": "1",
         "marker": {
          "color": "blue"
         },
         "name": "1",
         "showlegend": false,
         "type": "box",
         "x": [
          5,
          4,
          1,
          2,
          5,
          3,
          2,
          6,
          3,
          5,
          5,
          3,
          3,
          5,
          2,
          4,
          4,
          4,
          3,
          3,
          4,
          2,
          3,
          4,
          2,
          4,
          4,
          3,
          3,
          3,
          5,
          4,
          3,
          2,
          2
         ],
         "xaxis": "x2",
         "yaxis": "y2"
        },
        {
         "legendgroup": "2",
         "marker": {
          "color": "red"
         },
         "name": "2",
         "showlegend": false,
         "type": "box",
         "x": [
          4,
          3,
          3,
          6,
          3,
          2,
          4,
          4,
          5,
          3,
          2,
          4,
          4,
          3,
          1,
          5,
          3,
          2,
          2,
          5,
          3,
          4,
          3,
          2,
          4,
          2,
          3,
          1,
          4,
          2,
          3,
          4,
          6,
          2,
          3,
          5,
          6,
          4,
          3,
          2,
          3,
          5,
          3,
          3,
          3,
          4,
          2,
          2,
          6,
          3,
          4,
          4,
          3,
          2,
          2,
          3,
          3,
          4,
          3,
          4,
          2,
          3,
          4,
          2,
          3,
          3,
          4,
          5,
          5,
          4,
          5,
          2,
          2,
          3,
          5,
          3,
          5,
          3,
          2,
          2,
          4,
          4,
          7,
          4,
          3,
          2,
          3,
          2,
          3,
          3,
          3,
          2,
          2,
          4,
          2,
          2,
          3,
          3,
          3,
          3,
          2,
          3,
          2,
          2,
          6,
          4,
          4,
          4,
          3,
          5,
          3,
          5,
          2,
          5,
          3,
          3,
          3,
          4,
          6,
          2,
          4,
          5,
          3,
          3,
          4,
          3,
          4,
          4,
          3
         ],
         "xaxis": "x2",
         "yaxis": "y2"
        },
        {
         "legendgroup": "3",
         "marker": {
          "color": "green"
         },
         "name": "3",
         "showlegend": false,
         "type": "box",
         "x": [
          5,
          4,
          6,
          4,
          3,
          3,
          4,
          4,
          3,
          1,
          3,
          3,
          4,
          4,
          5,
          4,
          5,
          6,
          4,
          3,
          4,
          4,
          3,
          3,
          4,
          5,
          3,
          4,
          5,
          5,
          4,
          4,
          4,
          6,
          4,
          3,
          3,
          3,
          4,
          4,
          2,
          4,
          4,
          6,
          6,
          3,
          3,
          1,
          4,
          4,
          5,
          4,
          3,
          3,
          3,
          5,
          3,
          6,
          3,
          4,
          4,
          6,
          4,
          5,
          3,
          5,
          3,
          2,
          3,
          4,
          3,
          2,
          3,
          4,
          5,
          4,
          6,
          4,
          6,
          4,
          5,
          5,
          4,
          2,
          2,
          4,
          4,
          3,
          4,
          3,
          3,
          4,
          5,
          4,
          4,
          3,
          2,
          6,
          3,
          3,
          3,
          2,
          6,
          2,
          4,
          5,
          3,
          5,
          3,
          4,
          4,
          5,
          3,
          3,
          4,
          2,
          4,
          4,
          4,
          3,
          6,
          5,
          2,
          4,
          6,
          2,
          5,
          3,
          4,
          4,
          4,
          3,
          4,
          3,
          5,
          3,
          4,
          5,
          4,
          2,
          3,
          4,
          2,
          4,
          4,
          4,
          3,
          4,
          4,
          2,
          3,
          4,
          4,
          2,
          3,
          3,
          3,
          4,
          3,
          5,
          3,
          4,
          4,
          2,
          3,
          3,
          3,
          3,
          3,
          2,
          3,
          4,
          3,
          3,
          4,
          3,
          4,
          2,
          4,
          2,
          3,
          3,
          2,
          4,
          3,
          5,
          4,
          3,
          5,
          6,
          4,
          4,
          6,
          3,
          4,
          2,
          3
         ],
         "xaxis": "x2",
         "yaxis": "y2"
        },
        {
         "legendgroup": "4",
         "marker": {
          "color": "purple"
         },
         "name": "4",
         "showlegend": false,
         "type": "box",
         "x": [
          4,
          8,
          3,
          5,
          3,
          6,
          4,
          6,
          3,
          5,
          3,
          4,
          5,
          5,
          6,
          5,
          4,
          4,
          3,
          4,
          5,
          5,
          4,
          5,
          4,
          6,
          5,
          3,
          3,
          5,
          5,
          4,
          4,
          4,
          2,
          5,
          2,
          5,
          4,
          4,
          7,
          4,
          4,
          4,
          5,
          4,
          4,
          3,
          4,
          6,
          4,
          3,
          3,
          4,
          3,
          6,
          6,
          4,
          4,
          4,
          4,
          6,
          9,
          4,
          3,
          5,
          3,
          6,
          5,
          4,
          4,
          7,
          4,
          4,
          5,
          5,
          4,
          3,
          4,
          6,
          4,
          2,
          6,
          5,
          7,
          5,
          3,
          6,
          4,
          4,
          5,
          4,
          5,
          7,
          7,
          4,
          2,
          3,
          3,
          2,
          5,
          4,
          4,
          4,
          3,
          4,
          5,
          2,
          3,
          5,
          3,
          4,
          4,
          4,
          7,
          5,
          3,
          5,
          2,
          4
         ],
         "xaxis": "x2",
         "yaxis": "y2"
        },
        {
         "legendgroup": "5",
         "marker": {
          "color": "orange"
         },
         "name": "5",
         "showlegend": false,
         "type": "box",
         "x": [
          4,
          5,
          4,
          5,
          3,
          4,
          4,
          4,
          7,
          5,
          8,
          4,
          5,
          3,
          5
         ],
         "xaxis": "x2",
         "yaxis": "y2"
        },
        {
         "legendgroup": "6",
         "marker": {
          "color": "pink"
         },
         "name": "6",
         "showlegend": false,
         "type": "box",
         "x": [
          8,
          6,
          5,
          5
         ],
         "xaxis": "x2",
         "yaxis": "y2"
        },
        {
         "legendgroup": "1",
         "marker": {
          "color": "blue"
         },
         "name": "1",
         "showlegend": false,
         "type": "box",
         "x": [
          2,
          1,
          1,
          2,
          1,
          1,
          1,
          1,
          2,
          1,
          1,
          1,
          1,
          1,
          1,
          1,
          4,
          1,
          1,
          1,
          1,
          1,
          1,
          1,
          1,
          2,
          1,
          1,
          1,
          1,
          1,
          1,
          1,
          1,
          1
         ],
         "xaxis": "x3",
         "yaxis": "y3"
        },
        {
         "legendgroup": "2",
         "marker": {
          "color": "red"
         },
         "name": "2",
         "showlegend": false,
         "type": "box",
         "x": [
          1,
          1,
          1,
          2,
          1,
          1,
          1,
          1,
          1,
          0,
          1,
          2,
          1,
          1,
          1,
          1,
          1,
          1,
          1,
          1,
          1,
          1,
          2,
          1,
          1,
          1,
          1,
          1,
          1,
          1,
          1,
          1,
          1,
          0,
          1,
          1,
          1,
          1,
          1,
          1,
          1,
          1,
          1,
          1,
          1,
          1,
          1,
          1,
          1,
          1,
          1,
          2,
          1,
          1,
          1,
          1,
          1,
          2,
          1,
          1,
          1,
          1,
          1,
          1,
          1,
          1,
          1,
          1,
          2,
          1,
          0,
          1,
          1,
          1,
          1,
          0,
          1,
          1,
          1,
          1,
          2,
          1,
          1,
          1,
          1,
          1,
          1,
          1,
          1,
          3,
          1,
          1,
          1,
          1,
          1,
          1,
          1,
          1,
          1,
          1,
          1,
          1,
          1,
          1,
          1,
          1,
          1,
          1,
          1,
          1,
          1,
          1,
          1,
          1,
          1,
          1,
          1,
          1,
          1,
          1,
          1,
          1,
          1,
          1,
          1,
          1,
          1,
          1,
          1
         ],
         "xaxis": "x3",
         "yaxis": "y3"
        },
        {
         "legendgroup": "3",
         "marker": {
          "color": "green"
         },
         "name": "3",
         "showlegend": false,
         "type": "box",
         "x": [
          1,
          1,
          1,
          1,
          1,
          1,
          1,
          1,
          1,
          1,
          1,
          1,
          1,
          1,
          1,
          1,
          1,
          1,
          1,
          1,
          1,
          1,
          1,
          1,
          1,
          1,
          1,
          1,
          1,
          1,
          1,
          1,
          1,
          1,
          1,
          1,
          1,
          1,
          1,
          1,
          1,
          1,
          1,
          1,
          1,
          1,
          1,
          1,
          1,
          1,
          1,
          1,
          1,
          1,
          1,
          1,
          1,
          1,
          1,
          1,
          1,
          1,
          1,
          1,
          2,
          1,
          1,
          1,
          1,
          1,
          1,
          1,
          1,
          1,
          2,
          1,
          1,
          1,
          1,
          1,
          1,
          1,
          1,
          1,
          1,
          1,
          1,
          1,
          1,
          1,
          1,
          1,
          1,
          2,
          1,
          1,
          1,
          1,
          1,
          1,
          1,
          1,
          1,
          1,
          1,
          1,
          1,
          1,
          1,
          1,
          1,
          1,
          1,
          1,
          1,
          1,
          1,
          1,
          1,
          1,
          1,
          1,
          1,
          1,
          2,
          1,
          1,
          1,
          1,
          1,
          1,
          1,
          1,
          1,
          5,
          1,
          1,
          1,
          1,
          1,
          1,
          1,
          1,
          1,
          1,
          1,
          1,
          1,
          1,
          0,
          1,
          1,
          1,
          1,
          1,
          1,
          1,
          1,
          1,
          1,
          1,
          1,
          1,
          1,
          1,
          1,
          1,
          1,
          1,
          1,
          1,
          1,
          1,
          1,
          1,
          1,
          1,
          1,
          1,
          1,
          1,
          1,
          1,
          1,
          1,
          1,
          1,
          1,
          1,
          1,
          1,
          0,
          1,
          1,
          1,
          1,
          1
         ],
         "xaxis": "x3",
         "yaxis": "y3"
        },
        {
         "legendgroup": "4",
         "marker": {
          "color": "purple"
         },
         "name": "4",
         "showlegend": false,
         "type": "box",
         "x": [
          1,
          1,
          1,
          1,
          1,
          1,
          1,
          1,
          1,
          1,
          1,
          1,
          1,
          1,
          1,
          1,
          1,
          1,
          1,
          1,
          1,
          1,
          1,
          1,
          1,
          1,
          1,
          1,
          1,
          1,
          1,
          1,
          1,
          1,
          1,
          1,
          1,
          1,
          1,
          1,
          1,
          1,
          1,
          1,
          1,
          1,
          1,
          1,
          1,
          1,
          1,
          1,
          1,
          1,
          1,
          1,
          1,
          1,
          1,
          1,
          1,
          1,
          1,
          1,
          1,
          1,
          1,
          1,
          1,
          1,
          1,
          1,
          1,
          1,
          1,
          1,
          1,
          1,
          1,
          1,
          1,
          1,
          1,
          1,
          1,
          1,
          1,
          1,
          1,
          1,
          1,
          1,
          1,
          1,
          1,
          1,
          1,
          1,
          1,
          1,
          1,
          1,
          1,
          1,
          1,
          1,
          1,
          1,
          1,
          1,
          1,
          1,
          1,
          1,
          1,
          1,
          1,
          1,
          1,
          1
         ],
         "xaxis": "x3",
         "yaxis": "y3"
        },
        {
         "legendgroup": "5",
         "marker": {
          "color": "orange"
         },
         "name": "5",
         "showlegend": false,
         "type": "box",
         "x": [
          1,
          1,
          1,
          1,
          1,
          1,
          2,
          1,
          1,
          1,
          1,
          1,
          1,
          1,
          1
         ],
         "xaxis": "x3",
         "yaxis": "y3"
        },
        {
         "legendgroup": "6",
         "marker": {
          "color": "pink"
         },
         "name": "6",
         "showlegend": false,
         "type": "box",
         "x": [
          1,
          1,
          1,
          1
         ],
         "xaxis": "x3",
         "yaxis": "y3"
        },
        {
         "legendgroup": "1",
         "marker": {
          "color": "blue"
         },
         "name": "1",
         "showlegend": false,
         "type": "box",
         "x": [
          3.3333333333333335,
          1.9473684210526316,
          1,
          2,
          2.5,
          2.2,
          1.1,
          2.652173913043478,
          2.3333333333333335,
          1.8918918918918919,
          2.1739130434782608,
          2.5,
          1.6666666666666667,
          2.888888888888889,
          1.2142857142857142,
          2.3620689655172415,
          4,
          1.6764705882352942,
          1.5,
          1.7142857142857142,
          2,
          1.3076923076923077,
          1.5555555555555556,
          1.85,
          1.4166666666666667,
          2.6666666666666665,
          1.4166666666666667,
          1.6,
          1.8,
          1.4615384615384615,
          2.4,
          1.9166666666666667,
          1.5,
          1.6,
          1.3333333333333333
         ],
         "xaxis": "x4",
         "yaxis": "y4"
        },
        {
         "legendgroup": "2",
         "marker": {
          "color": "red"
         },
         "name": "2",
         "showlegend": false,
         "type": "box",
         "x": [
          2.2857142857142856,
          1.5,
          1.3636363636363635,
          3.111111111111111,
          1.5,
          1.4,
          2.6666666666666665,
          1.6666666666666667,
          2.5,
          1.35,
          1.125,
          3,
          1.5789473684210527,
          1.8571428571428572,
          1,
          3.1666666666666665,
          1.4,
          1.25,
          1.5384615384615385,
          3,
          1.4705882352941178,
          1.7692307692307692,
          2.5,
          1.2857142857142858,
          1.7777777777777777,
          1.8,
          1.608695652173913,
          1,
          1.6363636363636365,
          1.25,
          1.7058823529411764,
          1.4736842105263157,
          2.3125,
          1.1666666666666667,
          1.625,
          1.6666666666666667,
          2.6666666666666665,
          1.625,
          1.3888888888888888,
          1.3636363636363635,
          1.380952380952381,
          2.5789473684210527,
          1.8461538461538463,
          1.7,
          1.7333333333333334,
          2.357142857142857,
          1.25,
          1.5,
          2.7857142857142856,
          1.6,
          1.793103448275862,
          2.857142857142857,
          2.111111111111111,
          1.5555555555555556,
          1.5384615384615385,
          1.2666666666666666,
          1.7333333333333334,
          2.5,
          1.6666666666666667,
          2.1923076923076925,
          1.5555555555555556,
          2.125,
          2,
          1.15,
          2,
          2.230769230769231,
          2.0588235294117645,
          2.6,
          3.25,
          2.272727272727273,
          2.142857142857143,
          1.1111111111111112,
          1.25,
          1.7272727272727273,
          2.5625,
          2,
          2.1875,
          1.6470588235294117,
          1.1428571428571428,
          1.0714285714285714,
          2.75,
          2.2,
          2.6956521739130435,
          2.25,
          1.2307692307692308,
          1.3333333333333333,
          1.4666666666666666,
          1.4545454545454546,
          1.6875,
          3,
          1.5714285714285714,
          1.2222222222222223,
          1.125,
          2,
          1.3076923076923077,
          1.2,
          1.7,
          1.7857142857142858,
          1.5,
          1.2857142857142858,
          1.5294117647058822,
          1.2777777777777777,
          1.3636363636363635,
          1.3,
          2.6666666666666665,
          1.7,
          1.5333333333333334,
          2.142857142857143,
          1.6111111111111112,
          2.0476190476190474,
          1.5714285714285714,
          1.7037037037037037,
          1.375,
          1.894736842105263,
          1.7,
          1.5,
          1.4615384615384615,
          2.0833333333333335,
          3.5,
          1.0769230769230769,
          2.1666666666666665,
          1.875,
          1.25,
          1.4666666666666666,
          2,
          2.1666666666666665,
          1.875,
          2.4,
          1.2307692307692308
         ],
         "xaxis": "x4",
         "yaxis": "y4"
        },
        {
         "legendgroup": "3",
         "marker": {
          "color": "green"
         },
         "name": "3",
         "showlegend": false,
         "type": "box",
         "x": [
          2.3846153846153846,
          1.8095238095238095,
          2.6666666666666665,
          1.6538461538461537,
          1.7826086956521738,
          1.6842105263157894,
          2.8333333333333335,
          1.4545454545454546,
          1.5454545454545454,
          1,
          1.5454545454545454,
          1.4545454545454546,
          1.7058823529411764,
          1.8461538461538463,
          2.185185185185185,
          1.6470588235294117,
          1.6875,
          2.272727272727273,
          2,
          1.7,
          1.878787878787879,
          2.588235294117647,
          1.4210526315789473,
          1.6666666666666667,
          2,
          2.5,
          1.4615384615384615,
          1.3636363636363635,
          2,
          1.5666666666666667,
          1.95,
          2.3,
          1.8823529411764706,
          2.0588235294117645,
          2.1538461538461537,
          1.8387096774193548,
          2.3846153846153846,
          1.48,
          2.1578947368421053,
          2.0714285714285716,
          1.0625,
          1.7857142857142858,
          1.2758620689655173,
          2.727272727272727,
          2.625,
          1.25,
          1.2608695652173914,
          1,
          1.7272727272727273,
          2.3684210526315788,
          2.142857142857143,
          1.72,
          1.8571428571428572,
          2,
          1.7391304347826086,
          1.3888888888888888,
          1.263157894736842,
          2.7222222222222223,
          1.9473684210526316,
          2.2,
          1.2592592592592593,
          2.590909090909091,
          2.24,
          2.75,
          2.272727272727273,
          2,
          1.9583333333333333,
          1.2173913043478262,
          1.36,
          1.7777777777777777,
          1.6875,
          1.7058823529411764,
          1.75,
          1.7777777777777777,
          2.739130434782609,
          2,
          2.310344827586207,
          2.210526315789474,
          2.4705882352941178,
          1.5333333333333334,
          1.6666666666666667,
          2.1,
          1.65,
          1.105263157894737,
          1.25,
          1.9333333333333333,
          1.625,
          1.8125,
          1.9583333333333333,
          1.6818181818181819,
          1.48,
          2.5,
          1.9523809523809523,
          2.727272727272727,
          1.9473684210526316,
          1.8666666666666667,
          1.3333333333333333,
          2.1923076923076925,
          1.4545454545454546,
          1.7857142857142858,
          1.7878787878787878,
          1.4761904761904763,
          2.176470588235294,
          1.8333333333333333,
          1.6538461538461537,
          1.8,
          1.4583333333333333,
          2,
          1.6363636363636365,
          2.4,
          1.8181818181818181,
          1.619047619047619,
          1.6923076923076923,
          1.4166666666666667,
          2.5,
          1.8333333333333333,
          1.48,
          1.6818181818181819,
          2.3157894736842106,
          1.7083333333333333,
          2.466666666666667,
          1.5517241379310345,
          1.1111111111111112,
          2.4285714285714284,
          2.6363636363636362,
          1.1,
          1.875,
          1.6818181818181819,
          1.3,
          1.8695652173913044,
          1.7333333333333334,
          1.5833333333333333,
          1.7692307692307692,
          2,
          5,
          1.4,
          1.736842105263158,
          2.3636363636363638,
          1.5714285714285714,
          1.3571428571428572,
          2.2,
          2.3043478260869565,
          1.35,
          1.92,
          2.076923076923077,
          1.9375,
          1.52,
          2.066666666666667,
          1.9130434782608696,
          1.2272727272727273,
          1.3157894736842106,
          1.7333333333333334,
          1.5294117647058822,
          1.24,
          1.7619047619047619,
          1.4444444444444444,
          1.7857142857142858,
          1.7407407407407407,
          1.5185185185185186,
          2,
          1.3636363636363635,
          2,
          1.76,
          1.2857142857142858,
          1.4782608695652173,
          1.7142857142857142,
          1.2608695652173914,
          1.4444444444444444,
          1.4285714285714286,
          1.5454545454545454,
          1.3571428571428572,
          2.1666666666666665,
          1.4634146341463414,
          1.3888888888888888,
          2.176470588235294,
          1.7142857142857142,
          1.7647058823529411,
          1.0625,
          1.8888888888888888,
          1.1,
          2.3636363636363638,
          1.8125,
          1.1428571428571428,
          1.5294117647058822,
          1.5,
          2.206896551724138,
          2.2222222222222223,
          1.5217391304347827,
          2.7,
          1.8666666666666667,
          1.5333333333333334,
          1.736842105263158,
          2.066666666666667,
          1.6666666666666667,
          1.6923076923076923,
          1.3076923076923077,
          1.9444444444444444
         ],
         "xaxis": "x4",
         "yaxis": "y4"
        },
        {
         "legendgroup": "4",
         "marker": {
          "color": "purple"
         },
         "name": "4",
         "showlegend": false,
         "type": "box",
         "x": [
          2.2083333333333335,
          2.55,
          1.48,
          1.8529411764705883,
          2.225806451612903,
          2.347826086956522,
          1.625,
          2.5,
          2,
          2,
          1.826086956521739,
          1.8181818181818181,
          2.2142857142857144,
          2.391304347826087,
          2.5,
          2.5,
          2.4074074074074074,
          2.32,
          1.4642857142857142,
          2,
          2,
          2.875,
          2.2413793103448274,
          1.7714285714285714,
          1.7777777777777777,
          2.1,
          2,
          1.7272727272727273,
          1.8823529411764706,
          1.7727272727272727,
          1.903225806451613,
          2.2,
          1.411764705882353,
          1.7575757575757576,
          1.1666666666666667,
          1.935483870967742,
          1.2,
          2.5454545454545454,
          1.9259259259259258,
          1.7241379310344827,
          2.76,
          1.9,
          1.894736842105263,
          1.972972972972973,
          2.230769230769231,
          1.7407407407407407,
          2.107142857142857,
          1.7619047619047619,
          2.0833333333333335,
          1.8148148148148149,
          2.48,
          1.3333333333333333,
          1.4210526315789473,
          2.04,
          1.3714285714285714,
          2.772727272727273,
          2.3055555555555554,
          1.7307692307692308,
          2,
          1.84,
          1.5384615384615385,
          2.272727272727273,
          2.857142857142857,
          2.142857142857143,
          1.4838709677419355,
          2.242424242424242,
          1.575,
          2.217391304347826,
          1.7777777777777777,
          2,
          1.64,
          1.68,
          2.3870967741935485,
          2.037037037037037,
          1.8333333333333333,
          2.111111111111111,
          2.4,
          2.466666666666667,
          1.6666666666666667,
          2.55,
          1.8518518518518519,
          1.2,
          1.9411764705882353,
          2.6923076923076925,
          2.7142857142857144,
          1.9130434782608696,
          1.65,
          2.9523809523809526,
          1.542857142857143,
          1.6129032258064515,
          2.72,
          1.71875,
          1.935483870967742,
          3.16,
          2.7142857142857144,
          2.142857142857143,
          1.25,
          1.59375,
          1.8214285714285714,
          1.3055555555555556,
          2,
          2.25,
          1.8235294117647058,
          1.53125,
          1.65,
          1.35,
          2.5,
          1.4545454545454546,
          1.7619047619047619,
          2,
          1.4,
          1.6896551724137931,
          1.75,
          1.8888888888888888,
          2.84,
          2.1785714285714284,
          1.34375,
          1.8620689655172413,
          1.2307692307692308,
          2.238095238095238
         ],
         "xaxis": "x4",
         "yaxis": "y4"
        },
        {
         "legendgroup": "5",
         "marker": {
          "color": "orange"
         },
         "name": "5",
         "showlegend": false,
         "type": "box",
         "x": [
          1.9069767441860466,
          2.1904761904761907,
          1.78125,
          2.066666666666667,
          1.7857142857142858,
          1.45,
          2.6818181818181817,
          1.7777777777777777,
          3.076923076923077,
          1.9714285714285715,
          3.0344827586206895,
          1.7777777777777777,
          2.15625,
          1.7857142857142858,
          2.3513513513513513
         ],
         "xaxis": "x4",
         "yaxis": "y4"
        },
        {
         "legendgroup": "6",
         "marker": {
          "color": "pink"
         },
         "name": "6",
         "showlegend": false,
         "type": "box",
         "x": [
          2.466666666666667,
          2.625,
          2.3055555555555554,
          1.8518518518518519
         ],
         "xaxis": "x4",
         "yaxis": "y4"
        }
       ],
       "layout": {
        "annotations": [
         {
          "font": {
           "size": 16
          },
          "showarrow": false,
          "text": "sentence_unique_punctuations_sum",
          "x": 0.225,
          "xanchor": "center",
          "xref": "paper",
          "y": 1,
          "yanchor": "bottom",
          "yref": "paper"
         },
         {
          "font": {
           "size": 16
          },
          "showarrow": false,
          "text": "sentence_unique_punctuations_max",
          "x": 0.775,
          "xanchor": "center",
          "xref": "paper",
          "y": 1,
          "yanchor": "bottom",
          "yref": "paper"
         },
         {
          "font": {
           "size": 16
          },
          "showarrow": false,
          "text": "sentence_unique_punctuations_min",
          "x": 0.225,
          "xanchor": "center",
          "xref": "paper",
          "y": 0.375,
          "yanchor": "bottom",
          "yref": "paper"
         },
         {
          "font": {
           "size": 16
          },
          "showarrow": false,
          "text": "sentence_unique_punctuations_mean",
          "x": 0.775,
          "xanchor": "center",
          "xref": "paper",
          "y": 0.375,
          "yanchor": "bottom",
          "yref": "paper"
         }
        ],
        "barmode": "group",
        "height": 540,
        "legend": {
         "orientation": "h",
         "x": 0.5,
         "xanchor": "center",
         "y": -0.2,
         "yanchor": "top"
        },
        "template": {
         "data": {
          "bar": [
           {
            "error_x": {
             "color": "#2a3f5f"
            },
            "error_y": {
             "color": "#2a3f5f"
            },
            "marker": {
             "line": {
              "color": "#E5ECF6",
              "width": 0.5
             },
             "pattern": {
              "fillmode": "overlay",
              "size": 10,
              "solidity": 0.2
             }
            },
            "type": "bar"
           }
          ],
          "barpolar": [
           {
            "marker": {
             "line": {
              "color": "#E5ECF6",
              "width": 0.5
             },
             "pattern": {
              "fillmode": "overlay",
              "size": 10,
              "solidity": 0.2
             }
            },
            "type": "barpolar"
           }
          ],
          "carpet": [
           {
            "aaxis": {
             "endlinecolor": "#2a3f5f",
             "gridcolor": "white",
             "linecolor": "white",
             "minorgridcolor": "white",
             "startlinecolor": "#2a3f5f"
            },
            "baxis": {
             "endlinecolor": "#2a3f5f",
             "gridcolor": "white",
             "linecolor": "white",
             "minorgridcolor": "white",
             "startlinecolor": "#2a3f5f"
            },
            "type": "carpet"
           }
          ],
          "choropleth": [
           {
            "colorbar": {
             "outlinewidth": 0,
             "ticks": ""
            },
            "type": "choropleth"
           }
          ],
          "contour": [
           {
            "colorbar": {
             "outlinewidth": 0,
             "ticks": ""
            },
            "colorscale": [
             [
              0,
              "#0d0887"
             ],
             [
              0.1111111111111111,
              "#46039f"
             ],
             [
              0.2222222222222222,
              "#7201a8"
             ],
             [
              0.3333333333333333,
              "#9c179e"
             ],
             [
              0.4444444444444444,
              "#bd3786"
             ],
             [
              0.5555555555555556,
              "#d8576b"
             ],
             [
              0.6666666666666666,
              "#ed7953"
             ],
             [
              0.7777777777777778,
              "#fb9f3a"
             ],
             [
              0.8888888888888888,
              "#fdca26"
             ],
             [
              1,
              "#f0f921"
             ]
            ],
            "type": "contour"
           }
          ],
          "contourcarpet": [
           {
            "colorbar": {
             "outlinewidth": 0,
             "ticks": ""
            },
            "type": "contourcarpet"
           }
          ],
          "heatmap": [
           {
            "colorbar": {
             "outlinewidth": 0,
             "ticks": ""
            },
            "colorscale": [
             [
              0,
              "#0d0887"
             ],
             [
              0.1111111111111111,
              "#46039f"
             ],
             [
              0.2222222222222222,
              "#7201a8"
             ],
             [
              0.3333333333333333,
              "#9c179e"
             ],
             [
              0.4444444444444444,
              "#bd3786"
             ],
             [
              0.5555555555555556,
              "#d8576b"
             ],
             [
              0.6666666666666666,
              "#ed7953"
             ],
             [
              0.7777777777777778,
              "#fb9f3a"
             ],
             [
              0.8888888888888888,
              "#fdca26"
             ],
             [
              1,
              "#f0f921"
             ]
            ],
            "type": "heatmap"
           }
          ],
          "heatmapgl": [
           {
            "colorbar": {
             "outlinewidth": 0,
             "ticks": ""
            },
            "colorscale": [
             [
              0,
              "#0d0887"
             ],
             [
              0.1111111111111111,
              "#46039f"
             ],
             [
              0.2222222222222222,
              "#7201a8"
             ],
             [
              0.3333333333333333,
              "#9c179e"
             ],
             [
              0.4444444444444444,
              "#bd3786"
             ],
             [
              0.5555555555555556,
              "#d8576b"
             ],
             [
              0.6666666666666666,
              "#ed7953"
             ],
             [
              0.7777777777777778,
              "#fb9f3a"
             ],
             [
              0.8888888888888888,
              "#fdca26"
             ],
             [
              1,
              "#f0f921"
             ]
            ],
            "type": "heatmapgl"
           }
          ],
          "histogram": [
           {
            "marker": {
             "pattern": {
              "fillmode": "overlay",
              "size": 10,
              "solidity": 0.2
             }
            },
            "type": "histogram"
           }
          ],
          "histogram2d": [
           {
            "colorbar": {
             "outlinewidth": 0,
             "ticks": ""
            },
            "colorscale": [
             [
              0,
              "#0d0887"
             ],
             [
              0.1111111111111111,
              "#46039f"
             ],
             [
              0.2222222222222222,
              "#7201a8"
             ],
             [
              0.3333333333333333,
              "#9c179e"
             ],
             [
              0.4444444444444444,
              "#bd3786"
             ],
             [
              0.5555555555555556,
              "#d8576b"
             ],
             [
              0.6666666666666666,
              "#ed7953"
             ],
             [
              0.7777777777777778,
              "#fb9f3a"
             ],
             [
              0.8888888888888888,
              "#fdca26"
             ],
             [
              1,
              "#f0f921"
             ]
            ],
            "type": "histogram2d"
           }
          ],
          "histogram2dcontour": [
           {
            "colorbar": {
             "outlinewidth": 0,
             "ticks": ""
            },
            "colorscale": [
             [
              0,
              "#0d0887"
             ],
             [
              0.1111111111111111,
              "#46039f"
             ],
             [
              0.2222222222222222,
              "#7201a8"
             ],
             [
              0.3333333333333333,
              "#9c179e"
             ],
             [
              0.4444444444444444,
              "#bd3786"
             ],
             [
              0.5555555555555556,
              "#d8576b"
             ],
             [
              0.6666666666666666,
              "#ed7953"
             ],
             [
              0.7777777777777778,
              "#fb9f3a"
             ],
             [
              0.8888888888888888,
              "#fdca26"
             ],
             [
              1,
              "#f0f921"
             ]
            ],
            "type": "histogram2dcontour"
           }
          ],
          "mesh3d": [
           {
            "colorbar": {
             "outlinewidth": 0,
             "ticks": ""
            },
            "type": "mesh3d"
           }
          ],
          "parcoords": [
           {
            "line": {
             "colorbar": {
              "outlinewidth": 0,
              "ticks": ""
             }
            },
            "type": "parcoords"
           }
          ],
          "pie": [
           {
            "automargin": true,
            "type": "pie"
           }
          ],
          "scatter": [
           {
            "fillpattern": {
             "fillmode": "overlay",
             "size": 10,
             "solidity": 0.2
            },
            "type": "scatter"
           }
          ],
          "scatter3d": [
           {
            "line": {
             "colorbar": {
              "outlinewidth": 0,
              "ticks": ""
             }
            },
            "marker": {
             "colorbar": {
              "outlinewidth": 0,
              "ticks": ""
             }
            },
            "type": "scatter3d"
           }
          ],
          "scattercarpet": [
           {
            "marker": {
             "colorbar": {
              "outlinewidth": 0,
              "ticks": ""
             }
            },
            "type": "scattercarpet"
           }
          ],
          "scattergeo": [
           {
            "marker": {
             "colorbar": {
              "outlinewidth": 0,
              "ticks": ""
             }
            },
            "type": "scattergeo"
           }
          ],
          "scattergl": [
           {
            "marker": {
             "colorbar": {
              "outlinewidth": 0,
              "ticks": ""
             }
            },
            "type": "scattergl"
           }
          ],
          "scattermapbox": [
           {
            "marker": {
             "colorbar": {
              "outlinewidth": 0,
              "ticks": ""
             }
            },
            "type": "scattermapbox"
           }
          ],
          "scatterpolar": [
           {
            "marker": {
             "colorbar": {
              "outlinewidth": 0,
              "ticks": ""
             }
            },
            "type": "scatterpolar"
           }
          ],
          "scatterpolargl": [
           {
            "marker": {
             "colorbar": {
              "outlinewidth": 0,
              "ticks": ""
             }
            },
            "type": "scatterpolargl"
           }
          ],
          "scatterternary": [
           {
            "marker": {
             "colorbar": {
              "outlinewidth": 0,
              "ticks": ""
             }
            },
            "type": "scatterternary"
           }
          ],
          "surface": [
           {
            "colorbar": {
             "outlinewidth": 0,
             "ticks": ""
            },
            "colorscale": [
             [
              0,
              "#0d0887"
             ],
             [
              0.1111111111111111,
              "#46039f"
             ],
             [
              0.2222222222222222,
              "#7201a8"
             ],
             [
              0.3333333333333333,
              "#9c179e"
             ],
             [
              0.4444444444444444,
              "#bd3786"
             ],
             [
              0.5555555555555556,
              "#d8576b"
             ],
             [
              0.6666666666666666,
              "#ed7953"
             ],
             [
              0.7777777777777778,
              "#fb9f3a"
             ],
             [
              0.8888888888888888,
              "#fdca26"
             ],
             [
              1,
              "#f0f921"
             ]
            ],
            "type": "surface"
           }
          ],
          "table": [
           {
            "cells": {
             "fill": {
              "color": "#EBF0F8"
             },
             "line": {
              "color": "white"
             }
            },
            "header": {
             "fill": {
              "color": "#C8D4E3"
             },
             "line": {
              "color": "white"
             }
            },
            "type": "table"
           }
          ]
         },
         "layout": {
          "annotationdefaults": {
           "arrowcolor": "#2a3f5f",
           "arrowhead": 0,
           "arrowwidth": 1
          },
          "autotypenumbers": "strict",
          "coloraxis": {
           "colorbar": {
            "outlinewidth": 0,
            "ticks": ""
           }
          },
          "colorscale": {
           "diverging": [
            [
             0,
             "#8e0152"
            ],
            [
             0.1,
             "#c51b7d"
            ],
            [
             0.2,
             "#de77ae"
            ],
            [
             0.3,
             "#f1b6da"
            ],
            [
             0.4,
             "#fde0ef"
            ],
            [
             0.5,
             "#f7f7f7"
            ],
            [
             0.6,
             "#e6f5d0"
            ],
            [
             0.7,
             "#b8e186"
            ],
            [
             0.8,
             "#7fbc41"
            ],
            [
             0.9,
             "#4d9221"
            ],
            [
             1,
             "#276419"
            ]
           ],
           "sequential": [
            [
             0,
             "#0d0887"
            ],
            [
             0.1111111111111111,
             "#46039f"
            ],
            [
             0.2222222222222222,
             "#7201a8"
            ],
            [
             0.3333333333333333,
             "#9c179e"
            ],
            [
             0.4444444444444444,
             "#bd3786"
            ],
            [
             0.5555555555555556,
             "#d8576b"
            ],
            [
             0.6666666666666666,
             "#ed7953"
            ],
            [
             0.7777777777777778,
             "#fb9f3a"
            ],
            [
             0.8888888888888888,
             "#fdca26"
            ],
            [
             1,
             "#f0f921"
            ]
           ],
           "sequentialminus": [
            [
             0,
             "#0d0887"
            ],
            [
             0.1111111111111111,
             "#46039f"
            ],
            [
             0.2222222222222222,
             "#7201a8"
            ],
            [
             0.3333333333333333,
             "#9c179e"
            ],
            [
             0.4444444444444444,
             "#bd3786"
            ],
            [
             0.5555555555555556,
             "#d8576b"
            ],
            [
             0.6666666666666666,
             "#ed7953"
            ],
            [
             0.7777777777777778,
             "#fb9f3a"
            ],
            [
             0.8888888888888888,
             "#fdca26"
            ],
            [
             1,
             "#f0f921"
            ]
           ]
          },
          "colorway": [
           "#636efa",
           "#EF553B",
           "#00cc96",
           "#ab63fa",
           "#FFA15A",
           "#19d3f3",
           "#FF6692",
           "#B6E880",
           "#FF97FF",
           "#FECB52"
          ],
          "font": {
           "color": "#2a3f5f"
          },
          "geo": {
           "bgcolor": "white",
           "lakecolor": "white",
           "landcolor": "#E5ECF6",
           "showlakes": true,
           "showland": true,
           "subunitcolor": "white"
          },
          "hoverlabel": {
           "align": "left"
          },
          "hovermode": "closest",
          "mapbox": {
           "style": "light"
          },
          "paper_bgcolor": "white",
          "plot_bgcolor": "#E5ECF6",
          "polar": {
           "angularaxis": {
            "gridcolor": "white",
            "linecolor": "white",
            "ticks": ""
           },
           "bgcolor": "#E5ECF6",
           "radialaxis": {
            "gridcolor": "white",
            "linecolor": "white",
            "ticks": ""
           }
          },
          "scene": {
           "xaxis": {
            "backgroundcolor": "#E5ECF6",
            "gridcolor": "white",
            "gridwidth": 2,
            "linecolor": "white",
            "showbackground": true,
            "ticks": "",
            "zerolinecolor": "white"
           },
           "yaxis": {
            "backgroundcolor": "#E5ECF6",
            "gridcolor": "white",
            "gridwidth": 2,
            "linecolor": "white",
            "showbackground": true,
            "ticks": "",
            "zerolinecolor": "white"
           },
           "zaxis": {
            "backgroundcolor": "#E5ECF6",
            "gridcolor": "white",
            "gridwidth": 2,
            "linecolor": "white",
            "showbackground": true,
            "ticks": "",
            "zerolinecolor": "white"
           }
          },
          "shapedefaults": {
           "line": {
            "color": "#2a3f5f"
           }
          },
          "ternary": {
           "aaxis": {
            "gridcolor": "white",
            "linecolor": "white",
            "ticks": ""
           },
           "baxis": {
            "gridcolor": "white",
            "linecolor": "white",
            "ticks": ""
           },
           "bgcolor": "#E5ECF6",
           "caxis": {
            "gridcolor": "white",
            "linecolor": "white",
            "ticks": ""
           }
          },
          "title": {
           "x": 0.05
          },
          "xaxis": {
           "automargin": true,
           "gridcolor": "white",
           "linecolor": "white",
           "ticks": "",
           "title": {
            "standoff": 15
           },
           "zerolinecolor": "white",
           "zerolinewidth": 2
          },
          "yaxis": {
           "automargin": true,
           "gridcolor": "white",
           "linecolor": "white",
           "ticks": "",
           "title": {
            "standoff": 15
           },
           "zerolinecolor": "white",
           "zerolinewidth": 2
          }
         }
        },
        "title": {
         "text": "sentence_unique_punctuations",
         "x": 0.5
        },
        "width": 960,
        "xaxis": {
         "anchor": "y",
         "domain": [
          0,
          0.45
         ],
         "title": {
          "text": "sentence_unique_punctuations_sum"
         }
        },
        "xaxis2": {
         "anchor": "y2",
         "domain": [
          0.55,
          1
         ],
         "title": {
          "text": "sentence_unique_punctuations_max"
         }
        },
        "xaxis3": {
         "anchor": "y3",
         "domain": [
          0,
          0.45
         ],
         "title": {
          "text": "sentence_unique_punctuations_min"
         }
        },
        "xaxis4": {
         "anchor": "y4",
         "domain": [
          0.55,
          1
         ],
         "title": {
          "text": "sentence_unique_punctuations_mean"
         }
        },
        "yaxis": {
         "anchor": "x",
         "domain": [
          0.625,
          1
         ],
         "title": {
          "text": "Score"
         }
        },
        "yaxis2": {
         "anchor": "x2",
         "domain": [
          0.625,
          1
         ],
         "matches": "y",
         "showticklabels": false,
         "title": {
          "text": "Score"
         }
        },
        "yaxis3": {
         "anchor": "x3",
         "domain": [
          0,
          0.375
         ],
         "title": {
          "text": "Score"
         }
        },
        "yaxis4": {
         "anchor": "x4",
         "domain": [
          0,
          0.375
         ],
         "matches": "y3",
         "showticklabels": false,
         "title": {
          "text": "Score"
         }
        }
       }
      }
     },
     "metadata": {},
     "output_type": "display_data"
    }
   ],
   "source": [
    "plot_all(\"sentence_unique_punctuations\")"
   ]
  },
  {
   "cell_type": "markdown",
   "metadata": {},
   "source": [
    "Sum and max  unique punctuations are useful."
   ]
  },
  {
   "cell_type": "markdown",
   "metadata": {},
   "source": [
    "### Quotes (Not useful)"
   ]
  },
  {
   "cell_type": "code",
   "execution_count": 25,
   "metadata": {},
   "outputs": [],
   "source": [
    "def count_quotations_with_regex(sentences):\n",
    "    return [\n",
    "        len(re.findall(r'\"[^\"]*\"', sentence)) + len(re.findall(r\"'[^']*'\", sentence))\n",
    "        for sentence in sentences\n",
    "    ]"
   ]
  },
  {
   "cell_type": "code",
   "execution_count": 26,
   "metadata": {},
   "outputs": [],
   "source": [
    "df[\"sentence_quotes\"] = df[\"sentences\"].map(count_quotations_with_regex)\n",
    "df[\"sentence_quotes_sum\"] = df[\"sentence_quotes\"].map(sum)\n",
    "df[\"sentence_quotes_max\"] = df[\"sentence_quotes\"].map(max)\n",
    "df[\"sentence_quotes_min\"] = df[\"sentence_quotes\"].map(min)\n",
    "df[\"sentence_quotes_mean\"] = df[\"sentence_quotes\"].map(np.mean)"
   ]
  },
  {
   "cell_type": "code",
   "execution_count": 27,
   "metadata": {},
   "outputs": [
    {
     "data": {
      "application/vnd.plotly.v1+json": {
       "config": {
        "plotlyServerURL": "https://plot.ly"
       },
       "data": [
        {
         "legendgroup": "1",
         "marker": {
          "color": "blue"
         },
         "name": "1",
         "showlegend": false,
         "type": "box",
         "x": [
          7,
          4,
          0,
          0,
          6,
          7,
          0,
          0,
          0,
          3,
          7,
          5,
          0,
          2,
          0,
          17,
          0,
          1,
          0,
          0,
          3,
          0,
          0,
          0,
          0,
          1,
          1,
          0,
          0,
          0,
          5,
          3,
          0,
          1,
          0
         ],
         "xaxis": "x",
         "yaxis": "y"
        },
        {
         "legendgroup": "2",
         "marker": {
          "color": "red"
         },
         "name": "2",
         "showlegend": false,
         "type": "box",
         "x": [
          3,
          0,
          0,
          4,
          0,
          0,
          2,
          1,
          3,
          1,
          0,
          2,
          4,
          2,
          0,
          4,
          1,
          0,
          0,
          1,
          0,
          3,
          1,
          0,
          9,
          1,
          1,
          0,
          2,
          0,
          1,
          1,
          4,
          0,
          0,
          5,
          3,
          1,
          0,
          0,
          2,
          6,
          1,
          0,
          0,
          2,
          1,
          0,
          6,
          1,
          3,
          5,
          4,
          2,
          0,
          1,
          0,
          2,
          0,
          1,
          3,
          0,
          2,
          0,
          1,
          3,
          2,
          2,
          6,
          2,
          4,
          0,
          0,
          0,
          1,
          2,
          0,
          3,
          0,
          0,
          0,
          3,
          9,
          2,
          0,
          0,
          1,
          3,
          0,
          1,
          0,
          0,
          0,
          3,
          0,
          0,
          1,
          3,
          4,
          0,
          0,
          0,
          0,
          0,
          3,
          3,
          2,
          2,
          2,
          1,
          2,
          5,
          0,
          3,
          3,
          1,
          2,
          2,
          9,
          0,
          2,
          1,
          0,
          2,
          1,
          0,
          3,
          2,
          0
         ],
         "xaxis": "x",
         "yaxis": "y"
        },
        {
         "legendgroup": "3",
         "marker": {
          "color": "green"
         },
         "name": "3",
         "showlegend": false,
         "type": "box",
         "x": [
          6,
          4,
          2,
          2,
          4,
          1,
          6,
          2,
          0,
          0,
          1,
          0,
          4,
          1,
          3,
          2,
          4,
          4,
          2,
          0,
          0,
          6,
          0,
          0,
          0,
          3,
          0,
          2,
          3,
          5,
          0,
          3,
          3,
          6,
          4,
          0,
          3,
          0,
          6,
          4,
          0,
          1,
          1,
          10,
          6,
          0,
          1,
          0,
          1,
          2,
          6,
          0,
          2,
          0,
          0,
          5,
          1,
          4,
          2,
          6,
          1,
          5,
          4,
          8,
          0,
          2,
          0,
          0,
          0,
          3,
          2,
          0,
          0,
          2,
          2,
          0,
          16,
          1,
          3,
          1,
          2,
          3,
          2,
          0,
          0,
          3,
          5,
          1,
          5,
          2,
          0,
          7,
          3,
          6,
          2,
          1,
          0,
          7,
          1,
          0,
          2,
          1,
          3,
          0,
          1,
          4,
          0,
          4,
          0,
          2,
          2,
          3,
          0,
          0,
          11,
          0,
          2,
          4,
          5,
          3,
          8,
          4,
          0,
          2,
          2,
          0,
          3,
          0,
          1,
          1,
          2,
          0,
          3,
          0,
          5,
          0,
          4,
          3,
          2,
          0,
          0,
          3,
          0,
          1,
          0,
          2,
          0,
          0,
          4,
          0,
          0,
          0,
          1,
          0,
          0,
          2,
          2,
          4,
          0,
          1,
          0,
          0,
          4,
          0,
          0,
          0,
          0,
          0,
          3,
          0,
          0,
          1,
          1,
          1,
          3,
          1,
          1,
          0,
          3,
          0,
          3,
          0,
          0,
          3,
          0,
          6,
          4,
          0,
          8,
          2,
          2,
          1,
          1,
          0,
          5,
          0,
          1
         ],
         "xaxis": "x",
         "yaxis": "y"
        },
        {
         "legendgroup": "4",
         "marker": {
          "color": "purple"
         },
         "name": "4",
         "showlegend": false,
         "type": "box",
         "x": [
          6,
          0,
          0,
          3,
          2,
          2,
          4,
          8,
          1,
          0,
          2,
          4,
          5,
          7,
          3,
          2,
          7,
          1,
          0,
          6,
          4,
          8,
          2,
          1,
          2,
          5,
          2,
          0,
          0,
          5,
          3,
          7,
          2,
          4,
          0,
          1,
          0,
          7,
          1,
          0,
          8,
          2,
          2,
          3,
          11,
          0,
          0,
          0,
          4,
          3,
          5,
          0,
          0,
          1,
          0,
          7,
          8,
          5,
          0,
          3,
          2,
          1,
          5,
          2,
          0,
          6,
          4,
          2,
          3,
          2,
          2,
          3,
          6,
          5,
          6,
          4,
          3,
          0,
          1,
          7,
          0,
          0,
          4,
          6,
          6,
          3,
          1,
          9,
          1,
          5,
          3,
          4,
          3,
          11,
          6,
          2,
          0,
          1,
          6,
          0,
          9,
          4,
          2,
          3,
          0,
          1,
          10,
          0,
          0,
          1,
          0,
          2,
          4,
          0,
          9,
          2,
          1,
          1,
          0,
          5
         ],
         "xaxis": "x",
         "yaxis": "y"
        },
        {
         "legendgroup": "5",
         "marker": {
          "color": "orange"
         },
         "name": "5",
         "showlegend": false,
         "type": "box",
         "x": [
          2,
          3,
          2,
          4,
          1,
          3,
          6,
          4,
          8,
          6,
          4,
          1,
          1,
          0,
          8
         ],
         "xaxis": "x",
         "yaxis": "y"
        },
        {
         "legendgroup": "6",
         "marker": {
          "color": "pink"
         },
         "name": "6",
         "showlegend": false,
         "type": "box",
         "x": [
          7,
          9,
          1,
          6
         ],
         "xaxis": "x",
         "yaxis": "y"
        },
        {
         "legendgroup": "1",
         "marker": {
          "color": "blue"
         },
         "name": "1",
         "showlegend": false,
         "type": "box",
         "x": [
          4,
          1,
          0,
          0,
          2,
          4,
          0,
          0,
          0,
          1,
          1,
          3,
          0,
          1,
          0,
          1,
          0,
          1,
          0,
          0,
          1,
          0,
          0,
          0,
          0,
          1,
          1,
          0,
          0,
          0,
          3,
          2,
          0,
          1,
          0
         ],
         "xaxis": "x2",
         "yaxis": "y2"
        },
        {
         "legendgroup": "2",
         "marker": {
          "color": "red"
         },
         "name": "2",
         "showlegend": false,
         "type": "box",
         "x": [
          1,
          0,
          0,
          1,
          0,
          0,
          1,
          1,
          1,
          1,
          0,
          1,
          1,
          1,
          0,
          2,
          1,
          0,
          0,
          1,
          0,
          1,
          1,
          0,
          2,
          1,
          1,
          0,
          2,
          0,
          1,
          1,
          1,
          0,
          0,
          2,
          1,
          1,
          0,
          0,
          2,
          3,
          1,
          0,
          0,
          1,
          1,
          0,
          2,
          1,
          1,
          2,
          2,
          1,
          0,
          1,
          0,
          1,
          0,
          1,
          1,
          0,
          1,
          0,
          1,
          1,
          1,
          1,
          1,
          1,
          2,
          0,
          0,
          0,
          1,
          1,
          0,
          1,
          0,
          0,
          0,
          1,
          1,
          1,
          0,
          0,
          1,
          2,
          0,
          1,
          0,
          0,
          0,
          2,
          0,
          0,
          1,
          1,
          3,
          0,
          0,
          0,
          0,
          0,
          2,
          2,
          1,
          1,
          1,
          1,
          1,
          2,
          0,
          1,
          1,
          1,
          1,
          1,
          2,
          0,
          2,
          1,
          0,
          2,
          1,
          0,
          3,
          1,
          0
         ],
         "xaxis": "x2",
         "yaxis": "y2"
        },
        {
         "legendgroup": "3",
         "marker": {
          "color": "green"
         },
         "name": "3",
         "showlegend": false,
         "type": "box",
         "x": [
          2,
          1,
          1,
          1,
          2,
          1,
          1,
          1,
          0,
          0,
          1,
          0,
          1,
          1,
          1,
          1,
          2,
          2,
          1,
          0,
          0,
          2,
          0,
          0,
          0,
          1,
          0,
          1,
          1,
          1,
          0,
          1,
          2,
          2,
          3,
          0,
          1,
          0,
          1,
          1,
          0,
          1,
          1,
          2,
          2,
          0,
          1,
          0,
          1,
          1,
          2,
          0,
          1,
          0,
          0,
          1,
          1,
          1,
          1,
          1,
          1,
          1,
          1,
          1,
          0,
          1,
          0,
          0,
          0,
          1,
          1,
          0,
          0,
          1,
          1,
          0,
          3,
          1,
          2,
          1,
          1,
          1,
          1,
          0,
          0,
          1,
          2,
          1,
          1,
          2,
          0,
          2,
          1,
          2,
          1,
          1,
          0,
          2,
          1,
          0,
          1,
          1,
          2,
          0,
          1,
          2,
          0,
          1,
          0,
          1,
          1,
          1,
          0,
          0,
          2,
          0,
          2,
          1,
          2,
          1,
          2,
          1,
          0,
          1,
          1,
          0,
          2,
          0,
          1,
          1,
          1,
          0,
          1,
          0,
          1,
          0,
          1,
          1,
          2,
          0,
          0,
          1,
          0,
          1,
          0,
          1,
          0,
          0,
          2,
          0,
          0,
          0,
          1,
          0,
          0,
          1,
          1,
          1,
          0,
          1,
          0,
          0,
          1,
          0,
          0,
          0,
          0,
          0,
          1,
          0,
          0,
          1,
          1,
          1,
          1,
          1,
          1,
          0,
          1,
          0,
          1,
          0,
          0,
          1,
          0,
          1,
          1,
          0,
          1,
          1,
          1,
          1,
          1,
          0,
          1,
          0,
          1
         ],
         "xaxis": "x2",
         "yaxis": "y2"
        },
        {
         "legendgroup": "4",
         "marker": {
          "color": "purple"
         },
         "name": "4",
         "showlegend": false,
         "type": "box",
         "x": [
          2,
          0,
          0,
          1,
          1,
          1,
          2,
          2,
          1,
          0,
          1,
          2,
          2,
          2,
          1,
          1,
          2,
          1,
          0,
          1,
          1,
          2,
          1,
          1,
          1,
          2,
          1,
          0,
          0,
          1,
          1,
          2,
          1,
          1,
          0,
          1,
          0,
          2,
          1,
          0,
          1,
          1,
          1,
          1,
          2,
          0,
          0,
          0,
          1,
          1,
          1,
          0,
          0,
          1,
          0,
          2,
          1,
          1,
          0,
          1,
          1,
          1,
          2,
          1,
          0,
          1,
          1,
          1,
          1,
          1,
          1,
          1,
          1,
          1,
          1,
          1,
          1,
          0,
          1,
          1,
          0,
          0,
          1,
          1,
          1,
          1,
          1,
          2,
          1,
          2,
          1,
          1,
          1,
          2,
          1,
          1,
          0,
          1,
          1,
          0,
          3,
          2,
          1,
          2,
          0,
          1,
          1,
          0,
          0,
          1,
          0,
          1,
          1,
          0,
          2,
          2,
          1,
          1,
          0,
          1
         ],
         "xaxis": "x2",
         "yaxis": "y2"
        },
        {
         "legendgroup": "5",
         "marker": {
          "color": "orange"
         },
         "name": "5",
         "showlegend": false,
         "type": "box",
         "x": [
          1,
          1,
          1,
          1,
          1,
          1,
          2,
          2,
          1,
          1,
          1,
          1,
          1,
          0,
          2
         ],
         "xaxis": "x2",
         "yaxis": "y2"
        },
        {
         "legendgroup": "6",
         "marker": {
          "color": "pink"
         },
         "name": "6",
         "showlegend": false,
         "type": "box",
         "x": [
          2,
          2,
          1,
          1
         ],
         "xaxis": "x2",
         "yaxis": "y2"
        },
        {
         "legendgroup": "1",
         "marker": {
          "color": "blue"
         },
         "name": "1",
         "showlegend": false,
         "type": "box",
         "x": [
          0,
          0,
          0,
          0,
          0,
          0,
          0,
          0,
          0,
          0,
          0,
          0,
          0,
          0,
          0,
          0,
          0,
          0,
          0,
          0,
          0,
          0,
          0,
          0,
          0,
          0,
          0,
          0,
          0,
          0,
          0,
          0,
          0,
          0,
          0
         ],
         "xaxis": "x3",
         "yaxis": "y3"
        },
        {
         "legendgroup": "2",
         "marker": {
          "color": "red"
         },
         "name": "2",
         "showlegend": false,
         "type": "box",
         "x": [
          0,
          0,
          0,
          0,
          0,
          0,
          0,
          0,
          0,
          0,
          0,
          0,
          0,
          0,
          0,
          0,
          0,
          0,
          0,
          0,
          0,
          0,
          0,
          0,
          0,
          0,
          0,
          0,
          0,
          0,
          0,
          0,
          0,
          0,
          0,
          0,
          0,
          0,
          0,
          0,
          0,
          0,
          0,
          0,
          0,
          0,
          0,
          0,
          0,
          0,
          0,
          0,
          0,
          0,
          0,
          0,
          0,
          0,
          0,
          0,
          0,
          0,
          0,
          0,
          0,
          0,
          0,
          0,
          0,
          0,
          0,
          0,
          0,
          0,
          0,
          0,
          0,
          0,
          0,
          0,
          0,
          0,
          0,
          0,
          0,
          0,
          0,
          0,
          0,
          0,
          0,
          0,
          0,
          0,
          0,
          0,
          0,
          0,
          0,
          0,
          0,
          0,
          0,
          0,
          0,
          0,
          0,
          0,
          0,
          0,
          0,
          0,
          0,
          0,
          0,
          0,
          0,
          0,
          0,
          0,
          0,
          0,
          0,
          0,
          0,
          0,
          0,
          0,
          0
         ],
         "xaxis": "x3",
         "yaxis": "y3"
        },
        {
         "legendgroup": "3",
         "marker": {
          "color": "green"
         },
         "name": "3",
         "showlegend": false,
         "type": "box",
         "x": [
          0,
          0,
          0,
          0,
          0,
          0,
          0,
          0,
          0,
          0,
          0,
          0,
          0,
          0,
          0,
          0,
          0,
          0,
          0,
          0,
          0,
          0,
          0,
          0,
          0,
          0,
          0,
          0,
          0,
          0,
          0,
          0,
          0,
          0,
          0,
          0,
          0,
          0,
          0,
          0,
          0,
          0,
          0,
          0,
          0,
          0,
          0,
          0,
          0,
          0,
          0,
          0,
          0,
          0,
          0,
          0,
          0,
          0,
          0,
          0,
          0,
          0,
          0,
          0,
          0,
          0,
          0,
          0,
          0,
          0,
          0,
          0,
          0,
          0,
          0,
          0,
          0,
          0,
          0,
          0,
          0,
          0,
          0,
          0,
          0,
          0,
          0,
          0,
          0,
          0,
          0,
          0,
          0,
          0,
          0,
          0,
          0,
          0,
          0,
          0,
          0,
          0,
          0,
          0,
          0,
          0,
          0,
          0,
          0,
          0,
          0,
          0,
          0,
          0,
          0,
          0,
          0,
          0,
          0,
          0,
          0,
          0,
          0,
          0,
          0,
          0,
          0,
          0,
          0,
          0,
          0,
          0,
          0,
          0,
          1,
          0,
          0,
          0,
          0,
          0,
          0,
          0,
          0,
          0,
          0,
          0,
          0,
          0,
          0,
          0,
          0,
          0,
          0,
          0,
          0,
          0,
          0,
          0,
          0,
          0,
          0,
          0,
          0,
          0,
          0,
          0,
          0,
          0,
          0,
          0,
          0,
          0,
          0,
          0,
          0,
          0,
          0,
          0,
          0,
          0,
          0,
          0,
          0,
          0,
          0,
          0,
          0,
          0,
          0,
          0,
          0,
          0,
          0,
          0,
          0,
          0,
          0
         ],
         "xaxis": "x3",
         "yaxis": "y3"
        },
        {
         "legendgroup": "4",
         "marker": {
          "color": "purple"
         },
         "name": "4",
         "showlegend": false,
         "type": "box",
         "x": [
          0,
          0,
          0,
          0,
          0,
          0,
          0,
          0,
          0,
          0,
          0,
          0,
          0,
          0,
          0,
          0,
          0,
          0,
          0,
          0,
          0,
          0,
          0,
          0,
          0,
          0,
          0,
          0,
          0,
          0,
          0,
          0,
          0,
          0,
          0,
          0,
          0,
          0,
          0,
          0,
          0,
          0,
          0,
          0,
          0,
          0,
          0,
          0,
          0,
          0,
          0,
          0,
          0,
          0,
          0,
          0,
          0,
          0,
          0,
          0,
          0,
          0,
          0,
          0,
          0,
          0,
          0,
          0,
          0,
          0,
          0,
          0,
          0,
          0,
          0,
          0,
          0,
          0,
          0,
          0,
          0,
          0,
          0,
          0,
          0,
          0,
          0,
          0,
          0,
          0,
          0,
          0,
          0,
          0,
          0,
          0,
          0,
          0,
          0,
          0,
          0,
          0,
          0,
          0,
          0,
          0,
          0,
          0,
          0,
          0,
          0,
          0,
          0,
          0,
          0,
          0,
          0,
          0,
          0,
          0
         ],
         "xaxis": "x3",
         "yaxis": "y3"
        },
        {
         "legendgroup": "5",
         "marker": {
          "color": "orange"
         },
         "name": "5",
         "showlegend": false,
         "type": "box",
         "x": [
          0,
          0,
          0,
          0,
          0,
          0,
          0,
          0,
          0,
          0,
          0,
          0,
          0,
          0,
          0
         ],
         "xaxis": "x3",
         "yaxis": "y3"
        },
        {
         "legendgroup": "6",
         "marker": {
          "color": "pink"
         },
         "name": "6",
         "showlegend": false,
         "type": "box",
         "x": [
          0,
          0,
          0,
          0
         ],
         "xaxis": "x3",
         "yaxis": "y3"
        },
        {
         "legendgroup": "1",
         "marker": {
          "color": "blue"
         },
         "name": "1",
         "showlegend": false,
         "type": "box",
         "x": [
          1.1666666666666667,
          0.21052631578947367,
          0,
          0,
          0.375,
          0.7,
          0,
          0,
          0,
          0.08108108108108109,
          0.30434782608695654,
          0.8333333333333334,
          0,
          0.2222222222222222,
          0,
          0.29310344827586204,
          0,
          0.029411764705882353,
          0,
          0,
          0.3333333333333333,
          0,
          0,
          0,
          0,
          0.1111111111111111,
          0.08333333333333333,
          0,
          0,
          0,
          1,
          0.25,
          0,
          0.1,
          0
         ],
         "xaxis": "x4",
         "yaxis": "y4"
        },
        {
         "legendgroup": "2",
         "marker": {
          "color": "red"
         },
         "name": "2",
         "showlegend": false,
         "type": "box",
         "x": [
          0.42857142857142855,
          0,
          0,
          0.4444444444444444,
          0,
          0,
          0.3333333333333333,
          0.08333333333333333,
          0.25,
          0.05,
          0,
          0.4,
          0.21052631578947367,
          0.14285714285714285,
          0,
          0.6666666666666666,
          0.06666666666666667,
          0,
          0,
          0.3333333333333333,
          0,
          0.23076923076923078,
          0.25,
          0,
          0.3333333333333333,
          0.2,
          0.043478260869565216,
          0,
          0.18181818181818182,
          0,
          0.058823529411764705,
          0.05263157894736842,
          0.25,
          0,
          0,
          0.2777777777777778,
          0.16666666666666666,
          0.125,
          0,
          0,
          0.09523809523809523,
          0.3157894736842105,
          0.07692307692307693,
          0,
          0,
          0.14285714285714285,
          0.0625,
          0,
          0.42857142857142855,
          0.2,
          0.10344827586206896,
          0.7142857142857143,
          0.4444444444444444,
          0.2222222222222222,
          0,
          0.022222222222222223,
          0,
          0.16666666666666666,
          0,
          0.038461538461538464,
          0.16666666666666666,
          0,
          0.16666666666666666,
          0,
          0.045454545454545456,
          0.23076923076923078,
          0.11764705882352941,
          0.2,
          0.5,
          0.18181818181818182,
          0.5714285714285714,
          0,
          0,
          0,
          0.0625,
          0.2222222222222222,
          0,
          0.17647058823529413,
          0,
          0,
          0,
          0.3,
          0.391304347826087,
          0.16666666666666666,
          0,
          0,
          0.06666666666666667,
          0.2727272727272727,
          0,
          0.5,
          0,
          0,
          0,
          0.1111111111111111,
          0,
          0,
          0.1,
          0.21428571428571427,
          0.5,
          0,
          0,
          0,
          0,
          0,
          0.25,
          0.15,
          0.13333333333333333,
          0.14285714285714285,
          0.1111111111111111,
          0.047619047619047616,
          0.2857142857142857,
          0.18518518518518517,
          0,
          0.15789473684210525,
          0.15,
          0.1,
          0.15384615384615385,
          0.16666666666666666,
          0.75,
          0,
          0.3333333333333333,
          0.0625,
          0,
          0.13333333333333333,
          0.058823529411764705,
          0,
          0.375,
          0.4,
          0
         ],
         "xaxis": "x4",
         "yaxis": "y4"
        },
        {
         "legendgroup": "3",
         "marker": {
          "color": "green"
         },
         "name": "3",
         "showlegend": false,
         "type": "box",
         "x": [
          0.46153846153846156,
          0.19047619047619047,
          0.13333333333333333,
          0.07692307692307693,
          0.17391304347826086,
          0.05263157894736842,
          0.5,
          0.09090909090909091,
          0,
          0,
          0.045454545454545456,
          0,
          0.23529411764705882,
          0.07692307692307693,
          0.1111111111111111,
          0.11764705882352941,
          0.25,
          0.36363636363636365,
          0.25,
          0,
          0,
          0.35294117647058826,
          0,
          0,
          0,
          0.15,
          0,
          0.09090909090909091,
          0.09375,
          0.16666666666666666,
          0,
          0.3,
          0.17647058823529413,
          0.35294117647058826,
          0.3076923076923077,
          0,
          0.23076923076923078,
          0,
          0.3157894736842105,
          0.2857142857142857,
          0,
          0.07142857142857142,
          0.034482758620689655,
          0.45454545454545453,
          0.375,
          0,
          0.043478260869565216,
          0,
          0.030303030303030304,
          0.10526315789473684,
          0.21428571428571427,
          0,
          0.09523809523809523,
          0,
          0,
          0.1388888888888889,
          0.05263157894736842,
          0.2222222222222222,
          0.10526315789473684,
          0.3,
          0.037037037037037035,
          0.22727272727272727,
          0.16,
          0.5,
          0,
          0.15384615384615385,
          0,
          0,
          0,
          0.16666666666666666,
          0.125,
          0,
          0,
          0.2222222222222222,
          0.08695652173913043,
          0,
          0.5517241379310345,
          0.05263157894736842,
          0.17647058823529413,
          0.06666666666666667,
          0.08333333333333333,
          0.15,
          0.1,
          0,
          0,
          0.2,
          0.3125,
          0.0625,
          0.20833333333333334,
          0.09090909090909091,
          0,
          0.5833333333333334,
          0.14285714285714285,
          0.5454545454545454,
          0.10526315789473684,
          0.06666666666666667,
          0,
          0.2692307692307692,
          0.09090909090909091,
          0,
          0.06060606060606061,
          0.047619047619047616,
          0.17647058823529413,
          0,
          0.038461538461538464,
          0.2,
          0,
          0.26666666666666666,
          0,
          0.2,
          0.09090909090909091,
          0.14285714285714285,
          0,
          0,
          0.6875,
          0,
          0.08,
          0.18181818181818182,
          0.2631578947368421,
          0.125,
          0.5333333333333333,
          0.13793103448275862,
          0,
          0.14285714285714285,
          0.18181818181818182,
          0,
          0.125,
          0,
          0.05,
          0.043478260869565216,
          0.13333333333333333,
          0,
          0.11538461538461539,
          0,
          1,
          0,
          0.21052631578947367,
          0.2727272727272727,
          0.09523809523809523,
          0,
          0,
          0.13043478260869565,
          0,
          0.04,
          0,
          0.125,
          0,
          0,
          0.17391304347826086,
          0,
          0,
          0,
          0.058823529411764705,
          0,
          0,
          0.1111111111111111,
          0.14285714285714285,
          0.14814814814814814,
          0,
          0.07692307692307693,
          0,
          0,
          0.16,
          0,
          0,
          0,
          0,
          0,
          0.10714285714285714,
          0,
          0,
          0.08333333333333333,
          0.024390243902439025,
          0.05555555555555555,
          0.17647058823529413,
          0.047619047619047616,
          0.058823529411764705,
          0,
          0.1111111111111111,
          0,
          0.13636363636363635,
          0,
          0,
          0.058823529411764705,
          0,
          0.20689655172413793,
          0.2222222222222222,
          0,
          0.4,
          0.13333333333333333,
          0.13333333333333333,
          0.05263157894736842,
          0.06666666666666667,
          0,
          0.19230769230769232,
          0,
          0.05555555555555555
         ],
         "xaxis": "x4",
         "yaxis": "y4"
        },
        {
         "legendgroup": "4",
         "marker": {
          "color": "purple"
         },
         "name": "4",
         "showlegend": false,
         "type": "box",
         "x": [
          0.25,
          0,
          0,
          0.08823529411764706,
          0.06451612903225806,
          0.08695652173913043,
          0.16666666666666666,
          0.2857142857142857,
          0.09090909090909091,
          0,
          0.08695652173913043,
          0.18181818181818182,
          0.35714285714285715,
          0.30434782608695654,
          0.21428571428571427,
          0.08333333333333333,
          0.25925925925925924,
          0.04,
          0,
          0.2222222222222222,
          0.15384615384615385,
          0.5,
          0.06896551724137931,
          0.02857142857142857,
          0.07407407407407407,
          0.25,
          0.05128205128205128,
          0,
          0,
          0.22727272727272727,
          0.0967741935483871,
          0.28,
          0.11764705882352941,
          0.12121212121212122,
          0,
          0.03225806451612903,
          0,
          0.3181818181818182,
          0.037037037037037035,
          0,
          0.32,
          0.1,
          0.10526315789473684,
          0.08108108108108109,
          0.4230769230769231,
          0,
          0,
          0,
          0.16666666666666666,
          0.1111111111111111,
          0.2,
          0,
          0,
          0.04,
          0,
          0.3181818181818182,
          0.2222222222222222,
          0.19230769230769232,
          0,
          0.12,
          0.07692307692307693,
          0.045454545454545456,
          0.23809523809523808,
          0.09523809523809523,
          0,
          0.18181818181818182,
          0.1,
          0.08695652173913043,
          0.1111111111111111,
          0.06896551724137931,
          0.08,
          0.12,
          0.1935483870967742,
          0.18518518518518517,
          0.25,
          0.2222222222222222,
          0.2,
          0,
          0.041666666666666664,
          0.35,
          0,
          0,
          0.11764705882352941,
          0.23076923076923078,
          0.21428571428571427,
          0.13043478260869565,
          0.05,
          0.42857142857142855,
          0.02857142857142857,
          0.16129032258064516,
          0.12,
          0.125,
          0.0967741935483871,
          0.44,
          0.21428571428571427,
          0.14285714285714285,
          0,
          0.03125,
          0.21428571428571427,
          0,
          0.2903225806451613,
          0.5,
          0.11764705882352941,
          0.09375,
          0,
          0.05,
          0.45454545454545453,
          0,
          0,
          0.05263157894736842,
          0,
          0.06896551724137931,
          0.2,
          0,
          0.36,
          0.07142857142857142,
          0.03125,
          0.034482758620689655,
          0,
          0.23809523809523808
         ],
         "xaxis": "x4",
         "yaxis": "y4"
        },
        {
         "legendgroup": "5",
         "marker": {
          "color": "orange"
         },
         "name": "5",
         "showlegend": false,
         "type": "box",
         "x": [
          0.046511627906976744,
          0.14285714285714285,
          0.0625,
          0.13333333333333333,
          0.03571428571428571,
          0.075,
          0.2727272727272727,
          0.1111111111111111,
          0.3076923076923077,
          0.17142857142857143,
          0.13793103448275862,
          0.037037037037037035,
          0.03125,
          0,
          0.21621621621621623
         ],
         "xaxis": "x4",
         "yaxis": "y4"
        },
        {
         "legendgroup": "6",
         "marker": {
          "color": "pink"
         },
         "name": "6",
         "showlegend": false,
         "type": "box",
         "x": [
          0.15555555555555556,
          0.225,
          0.027777777777777776,
          0.2222222222222222
         ],
         "xaxis": "x4",
         "yaxis": "y4"
        }
       ],
       "layout": {
        "annotations": [
         {
          "font": {
           "size": 16
          },
          "showarrow": false,
          "text": "sentence_quotes_sum",
          "x": 0.225,
          "xanchor": "center",
          "xref": "paper",
          "y": 1,
          "yanchor": "bottom",
          "yref": "paper"
         },
         {
          "font": {
           "size": 16
          },
          "showarrow": false,
          "text": "sentence_quotes_max",
          "x": 0.775,
          "xanchor": "center",
          "xref": "paper",
          "y": 1,
          "yanchor": "bottom",
          "yref": "paper"
         },
         {
          "font": {
           "size": 16
          },
          "showarrow": false,
          "text": "sentence_quotes_min",
          "x": 0.225,
          "xanchor": "center",
          "xref": "paper",
          "y": 0.375,
          "yanchor": "bottom",
          "yref": "paper"
         },
         {
          "font": {
           "size": 16
          },
          "showarrow": false,
          "text": "sentence_quotes_mean",
          "x": 0.775,
          "xanchor": "center",
          "xref": "paper",
          "y": 0.375,
          "yanchor": "bottom",
          "yref": "paper"
         }
        ],
        "barmode": "group",
        "height": 540,
        "legend": {
         "orientation": "h",
         "x": 0.5,
         "xanchor": "center",
         "y": -0.2,
         "yanchor": "top"
        },
        "template": {
         "data": {
          "bar": [
           {
            "error_x": {
             "color": "#2a3f5f"
            },
            "error_y": {
             "color": "#2a3f5f"
            },
            "marker": {
             "line": {
              "color": "#E5ECF6",
              "width": 0.5
             },
             "pattern": {
              "fillmode": "overlay",
              "size": 10,
              "solidity": 0.2
             }
            },
            "type": "bar"
           }
          ],
          "barpolar": [
           {
            "marker": {
             "line": {
              "color": "#E5ECF6",
              "width": 0.5
             },
             "pattern": {
              "fillmode": "overlay",
              "size": 10,
              "solidity": 0.2
             }
            },
            "type": "barpolar"
           }
          ],
          "carpet": [
           {
            "aaxis": {
             "endlinecolor": "#2a3f5f",
             "gridcolor": "white",
             "linecolor": "white",
             "minorgridcolor": "white",
             "startlinecolor": "#2a3f5f"
            },
            "baxis": {
             "endlinecolor": "#2a3f5f",
             "gridcolor": "white",
             "linecolor": "white",
             "minorgridcolor": "white",
             "startlinecolor": "#2a3f5f"
            },
            "type": "carpet"
           }
          ],
          "choropleth": [
           {
            "colorbar": {
             "outlinewidth": 0,
             "ticks": ""
            },
            "type": "choropleth"
           }
          ],
          "contour": [
           {
            "colorbar": {
             "outlinewidth": 0,
             "ticks": ""
            },
            "colorscale": [
             [
              0,
              "#0d0887"
             ],
             [
              0.1111111111111111,
              "#46039f"
             ],
             [
              0.2222222222222222,
              "#7201a8"
             ],
             [
              0.3333333333333333,
              "#9c179e"
             ],
             [
              0.4444444444444444,
              "#bd3786"
             ],
             [
              0.5555555555555556,
              "#d8576b"
             ],
             [
              0.6666666666666666,
              "#ed7953"
             ],
             [
              0.7777777777777778,
              "#fb9f3a"
             ],
             [
              0.8888888888888888,
              "#fdca26"
             ],
             [
              1,
              "#f0f921"
             ]
            ],
            "type": "contour"
           }
          ],
          "contourcarpet": [
           {
            "colorbar": {
             "outlinewidth": 0,
             "ticks": ""
            },
            "type": "contourcarpet"
           }
          ],
          "heatmap": [
           {
            "colorbar": {
             "outlinewidth": 0,
             "ticks": ""
            },
            "colorscale": [
             [
              0,
              "#0d0887"
             ],
             [
              0.1111111111111111,
              "#46039f"
             ],
             [
              0.2222222222222222,
              "#7201a8"
             ],
             [
              0.3333333333333333,
              "#9c179e"
             ],
             [
              0.4444444444444444,
              "#bd3786"
             ],
             [
              0.5555555555555556,
              "#d8576b"
             ],
             [
              0.6666666666666666,
              "#ed7953"
             ],
             [
              0.7777777777777778,
              "#fb9f3a"
             ],
             [
              0.8888888888888888,
              "#fdca26"
             ],
             [
              1,
              "#f0f921"
             ]
            ],
            "type": "heatmap"
           }
          ],
          "heatmapgl": [
           {
            "colorbar": {
             "outlinewidth": 0,
             "ticks": ""
            },
            "colorscale": [
             [
              0,
              "#0d0887"
             ],
             [
              0.1111111111111111,
              "#46039f"
             ],
             [
              0.2222222222222222,
              "#7201a8"
             ],
             [
              0.3333333333333333,
              "#9c179e"
             ],
             [
              0.4444444444444444,
              "#bd3786"
             ],
             [
              0.5555555555555556,
              "#d8576b"
             ],
             [
              0.6666666666666666,
              "#ed7953"
             ],
             [
              0.7777777777777778,
              "#fb9f3a"
             ],
             [
              0.8888888888888888,
              "#fdca26"
             ],
             [
              1,
              "#f0f921"
             ]
            ],
            "type": "heatmapgl"
           }
          ],
          "histogram": [
           {
            "marker": {
             "pattern": {
              "fillmode": "overlay",
              "size": 10,
              "solidity": 0.2
             }
            },
            "type": "histogram"
           }
          ],
          "histogram2d": [
           {
            "colorbar": {
             "outlinewidth": 0,
             "ticks": ""
            },
            "colorscale": [
             [
              0,
              "#0d0887"
             ],
             [
              0.1111111111111111,
              "#46039f"
             ],
             [
              0.2222222222222222,
              "#7201a8"
             ],
             [
              0.3333333333333333,
              "#9c179e"
             ],
             [
              0.4444444444444444,
              "#bd3786"
             ],
             [
              0.5555555555555556,
              "#d8576b"
             ],
             [
              0.6666666666666666,
              "#ed7953"
             ],
             [
              0.7777777777777778,
              "#fb9f3a"
             ],
             [
              0.8888888888888888,
              "#fdca26"
             ],
             [
              1,
              "#f0f921"
             ]
            ],
            "type": "histogram2d"
           }
          ],
          "histogram2dcontour": [
           {
            "colorbar": {
             "outlinewidth": 0,
             "ticks": ""
            },
            "colorscale": [
             [
              0,
              "#0d0887"
             ],
             [
              0.1111111111111111,
              "#46039f"
             ],
             [
              0.2222222222222222,
              "#7201a8"
             ],
             [
              0.3333333333333333,
              "#9c179e"
             ],
             [
              0.4444444444444444,
              "#bd3786"
             ],
             [
              0.5555555555555556,
              "#d8576b"
             ],
             [
              0.6666666666666666,
              "#ed7953"
             ],
             [
              0.7777777777777778,
              "#fb9f3a"
             ],
             [
              0.8888888888888888,
              "#fdca26"
             ],
             [
              1,
              "#f0f921"
             ]
            ],
            "type": "histogram2dcontour"
           }
          ],
          "mesh3d": [
           {
            "colorbar": {
             "outlinewidth": 0,
             "ticks": ""
            },
            "type": "mesh3d"
           }
          ],
          "parcoords": [
           {
            "line": {
             "colorbar": {
              "outlinewidth": 0,
              "ticks": ""
             }
            },
            "type": "parcoords"
           }
          ],
          "pie": [
           {
            "automargin": true,
            "type": "pie"
           }
          ],
          "scatter": [
           {
            "fillpattern": {
             "fillmode": "overlay",
             "size": 10,
             "solidity": 0.2
            },
            "type": "scatter"
           }
          ],
          "scatter3d": [
           {
            "line": {
             "colorbar": {
              "outlinewidth": 0,
              "ticks": ""
             }
            },
            "marker": {
             "colorbar": {
              "outlinewidth": 0,
              "ticks": ""
             }
            },
            "type": "scatter3d"
           }
          ],
          "scattercarpet": [
           {
            "marker": {
             "colorbar": {
              "outlinewidth": 0,
              "ticks": ""
             }
            },
            "type": "scattercarpet"
           }
          ],
          "scattergeo": [
           {
            "marker": {
             "colorbar": {
              "outlinewidth": 0,
              "ticks": ""
             }
            },
            "type": "scattergeo"
           }
          ],
          "scattergl": [
           {
            "marker": {
             "colorbar": {
              "outlinewidth": 0,
              "ticks": ""
             }
            },
            "type": "scattergl"
           }
          ],
          "scattermapbox": [
           {
            "marker": {
             "colorbar": {
              "outlinewidth": 0,
              "ticks": ""
             }
            },
            "type": "scattermapbox"
           }
          ],
          "scatterpolar": [
           {
            "marker": {
             "colorbar": {
              "outlinewidth": 0,
              "ticks": ""
             }
            },
            "type": "scatterpolar"
           }
          ],
          "scatterpolargl": [
           {
            "marker": {
             "colorbar": {
              "outlinewidth": 0,
              "ticks": ""
             }
            },
            "type": "scatterpolargl"
           }
          ],
          "scatterternary": [
           {
            "marker": {
             "colorbar": {
              "outlinewidth": 0,
              "ticks": ""
             }
            },
            "type": "scatterternary"
           }
          ],
          "surface": [
           {
            "colorbar": {
             "outlinewidth": 0,
             "ticks": ""
            },
            "colorscale": [
             [
              0,
              "#0d0887"
             ],
             [
              0.1111111111111111,
              "#46039f"
             ],
             [
              0.2222222222222222,
              "#7201a8"
             ],
             [
              0.3333333333333333,
              "#9c179e"
             ],
             [
              0.4444444444444444,
              "#bd3786"
             ],
             [
              0.5555555555555556,
              "#d8576b"
             ],
             [
              0.6666666666666666,
              "#ed7953"
             ],
             [
              0.7777777777777778,
              "#fb9f3a"
             ],
             [
              0.8888888888888888,
              "#fdca26"
             ],
             [
              1,
              "#f0f921"
             ]
            ],
            "type": "surface"
           }
          ],
          "table": [
           {
            "cells": {
             "fill": {
              "color": "#EBF0F8"
             },
             "line": {
              "color": "white"
             }
            },
            "header": {
             "fill": {
              "color": "#C8D4E3"
             },
             "line": {
              "color": "white"
             }
            },
            "type": "table"
           }
          ]
         },
         "layout": {
          "annotationdefaults": {
           "arrowcolor": "#2a3f5f",
           "arrowhead": 0,
           "arrowwidth": 1
          },
          "autotypenumbers": "strict",
          "coloraxis": {
           "colorbar": {
            "outlinewidth": 0,
            "ticks": ""
           }
          },
          "colorscale": {
           "diverging": [
            [
             0,
             "#8e0152"
            ],
            [
             0.1,
             "#c51b7d"
            ],
            [
             0.2,
             "#de77ae"
            ],
            [
             0.3,
             "#f1b6da"
            ],
            [
             0.4,
             "#fde0ef"
            ],
            [
             0.5,
             "#f7f7f7"
            ],
            [
             0.6,
             "#e6f5d0"
            ],
            [
             0.7,
             "#b8e186"
            ],
            [
             0.8,
             "#7fbc41"
            ],
            [
             0.9,
             "#4d9221"
            ],
            [
             1,
             "#276419"
            ]
           ],
           "sequential": [
            [
             0,
             "#0d0887"
            ],
            [
             0.1111111111111111,
             "#46039f"
            ],
            [
             0.2222222222222222,
             "#7201a8"
            ],
            [
             0.3333333333333333,
             "#9c179e"
            ],
            [
             0.4444444444444444,
             "#bd3786"
            ],
            [
             0.5555555555555556,
             "#d8576b"
            ],
            [
             0.6666666666666666,
             "#ed7953"
            ],
            [
             0.7777777777777778,
             "#fb9f3a"
            ],
            [
             0.8888888888888888,
             "#fdca26"
            ],
            [
             1,
             "#f0f921"
            ]
           ],
           "sequentialminus": [
            [
             0,
             "#0d0887"
            ],
            [
             0.1111111111111111,
             "#46039f"
            ],
            [
             0.2222222222222222,
             "#7201a8"
            ],
            [
             0.3333333333333333,
             "#9c179e"
            ],
            [
             0.4444444444444444,
             "#bd3786"
            ],
            [
             0.5555555555555556,
             "#d8576b"
            ],
            [
             0.6666666666666666,
             "#ed7953"
            ],
            [
             0.7777777777777778,
             "#fb9f3a"
            ],
            [
             0.8888888888888888,
             "#fdca26"
            ],
            [
             1,
             "#f0f921"
            ]
           ]
          },
          "colorway": [
           "#636efa",
           "#EF553B",
           "#00cc96",
           "#ab63fa",
           "#FFA15A",
           "#19d3f3",
           "#FF6692",
           "#B6E880",
           "#FF97FF",
           "#FECB52"
          ],
          "font": {
           "color": "#2a3f5f"
          },
          "geo": {
           "bgcolor": "white",
           "lakecolor": "white",
           "landcolor": "#E5ECF6",
           "showlakes": true,
           "showland": true,
           "subunitcolor": "white"
          },
          "hoverlabel": {
           "align": "left"
          },
          "hovermode": "closest",
          "mapbox": {
           "style": "light"
          },
          "paper_bgcolor": "white",
          "plot_bgcolor": "#E5ECF6",
          "polar": {
           "angularaxis": {
            "gridcolor": "white",
            "linecolor": "white",
            "ticks": ""
           },
           "bgcolor": "#E5ECF6",
           "radialaxis": {
            "gridcolor": "white",
            "linecolor": "white",
            "ticks": ""
           }
          },
          "scene": {
           "xaxis": {
            "backgroundcolor": "#E5ECF6",
            "gridcolor": "white",
            "gridwidth": 2,
            "linecolor": "white",
            "showbackground": true,
            "ticks": "",
            "zerolinecolor": "white"
           },
           "yaxis": {
            "backgroundcolor": "#E5ECF6",
            "gridcolor": "white",
            "gridwidth": 2,
            "linecolor": "white",
            "showbackground": true,
            "ticks": "",
            "zerolinecolor": "white"
           },
           "zaxis": {
            "backgroundcolor": "#E5ECF6",
            "gridcolor": "white",
            "gridwidth": 2,
            "linecolor": "white",
            "showbackground": true,
            "ticks": "",
            "zerolinecolor": "white"
           }
          },
          "shapedefaults": {
           "line": {
            "color": "#2a3f5f"
           }
          },
          "ternary": {
           "aaxis": {
            "gridcolor": "white",
            "linecolor": "white",
            "ticks": ""
           },
           "baxis": {
            "gridcolor": "white",
            "linecolor": "white",
            "ticks": ""
           },
           "bgcolor": "#E5ECF6",
           "caxis": {
            "gridcolor": "white",
            "linecolor": "white",
            "ticks": ""
           }
          },
          "title": {
           "x": 0.05
          },
          "xaxis": {
           "automargin": true,
           "gridcolor": "white",
           "linecolor": "white",
           "ticks": "",
           "title": {
            "standoff": 15
           },
           "zerolinecolor": "white",
           "zerolinewidth": 2
          },
          "yaxis": {
           "automargin": true,
           "gridcolor": "white",
           "linecolor": "white",
           "ticks": "",
           "title": {
            "standoff": 15
           },
           "zerolinecolor": "white",
           "zerolinewidth": 2
          }
         }
        },
        "title": {
         "text": "sentence_quotes",
         "x": 0.5
        },
        "width": 960,
        "xaxis": {
         "anchor": "y",
         "domain": [
          0,
          0.45
         ],
         "title": {
          "text": "sentence_quotes_sum"
         }
        },
        "xaxis2": {
         "anchor": "y2",
         "domain": [
          0.55,
          1
         ],
         "title": {
          "text": "sentence_quotes_max"
         }
        },
        "xaxis3": {
         "anchor": "y3",
         "domain": [
          0,
          0.45
         ],
         "title": {
          "text": "sentence_quotes_min"
         }
        },
        "xaxis4": {
         "anchor": "y4",
         "domain": [
          0.55,
          1
         ],
         "title": {
          "text": "sentence_quotes_mean"
         }
        },
        "yaxis": {
         "anchor": "x",
         "domain": [
          0.625,
          1
         ],
         "title": {
          "text": "Score"
         }
        },
        "yaxis2": {
         "anchor": "x2",
         "domain": [
          0.625,
          1
         ],
         "matches": "y",
         "showticklabels": false,
         "title": {
          "text": "Score"
         }
        },
        "yaxis3": {
         "anchor": "x3",
         "domain": [
          0,
          0.375
         ],
         "title": {
          "text": "Score"
         }
        },
        "yaxis4": {
         "anchor": "x4",
         "domain": [
          0,
          0.375
         ],
         "matches": "y3",
         "showticklabels": false,
         "title": {
          "text": "Score"
         }
        }
       }
      }
     },
     "metadata": {},
     "output_type": "display_data"
    }
   ],
   "source": [
    "plot_all(\"sentence_quotes\")"
   ]
  },
  {
   "cell_type": "markdown",
   "metadata": {},
   "source": [
    "Isn't useful."
   ]
  },
  {
   "cell_type": "markdown",
   "metadata": {},
   "source": [
    "### Setence Types"
   ]
  },
  {
   "cell_type": "code",
   "execution_count": 28,
   "metadata": {},
   "outputs": [],
   "source": [
    "def is_compound(sentence, words):\n",
    "    compound_words = set([\"and\", \"or\", \"but\"])\n",
    "\n",
    "    if words.intersection(compound_words):\n",
    "        return True\n",
    "    elif \";\" in words:\n",
    "        return True\n",
    "    return False"
   ]
  },
  {
   "cell_type": "code",
   "execution_count": 29,
   "metadata": {},
   "outputs": [],
   "source": [
    "def is_complex(sentence, words):\n",
    "    complex_words = set(\n",
    "        [\n",
    "            \"because\",\n",
    "            \"while\",\n",
    "            \"though\",\n",
    "            \"since\",\n",
    "            \"if\",\n",
    "            \"so that\",\n",
    "            \"which\",\n",
    "            \"who\",\n",
    "            \"although\",\n",
    "            \"unless\",\n",
    "            \"when\",\n",
    "            \"after\",\n",
    "            \"until\",\n",
    "        ]\n",
    "    )\n",
    "\n",
    "    if words.intersection(complex_words):\n",
    "        return True\n",
    "    elif \",\" in words:\n",
    "        return True\n",
    "    return False"
   ]
  },
  {
   "cell_type": "code",
   "execution_count": 30,
   "metadata": {},
   "outputs": [],
   "source": [
    "def classify_sentence_structure_type(sentences):\n",
    "    sentence_type_list = [\"\" for _ in range(len(sentences))]\n",
    "\n",
    "    for i, sentence in enumerate(sentences):\n",
    "        sentence = sentence.lower()\n",
    "        words = set(word_tokenize(sentence))\n",
    "\n",
    "        contains_complex = is_complex(sentence, words)\n",
    "        contains_compound = is_compound(sentence, words)\n",
    "\n",
    "        if contains_complex and contains_compound:\n",
    "            sentence_type_list[i] = \"ComplexCompound\"\n",
    "        elif contains_complex:\n",
    "            sentence_type_list[i] = \"Complex\"\n",
    "        elif contains_compound:\n",
    "            sentence_type_list[i] = \"Compound\"\n",
    "        else:\n",
    "            sentence_type_list[i] = \"Simple\"\n",
    "\n",
    "    return sentence_type_list"
   ]
  },
  {
   "cell_type": "code",
   "execution_count": 31,
   "metadata": {},
   "outputs": [
    {
     "data": {
      "text/plain": [
       "['Simple', 'Compound', 'Complex', 'ComplexCompound']"
      ]
     },
     "execution_count": 31,
     "metadata": {},
     "output_type": "execute_result"
    }
   ],
   "source": [
    "classify_sentence_structure_type([\n",
    "    \"This is a simple sentence\",\n",
    "    \"This is a text and a compound text\",\n",
    "    \"While this looks simple, it's actually compound.\",\n",
    "    \"This is a simple and this one is a complex sentence while attached with a compound.\"\n",
    "])"
   ]
  },
  {
   "cell_type": "code",
   "execution_count": 32,
   "metadata": {},
   "outputs": [],
   "source": [
    "df[\"sentence_structure_type_list\"] = df[\"sentences\"].map(classify_sentence_structure_type)\n",
    "df[\"sentence_structure_simple_ratio\"] = df[\"sentence_structure_type_list\"].map(lambda x: sum([y == \"Simple\" for y in x])) / df[\"sentence_count\"]\n",
    "df[\"sentence_structure_compound_ratio\"] = df[\"sentence_structure_type_list\"].map(lambda x: sum([y == \"Compound\" for y in x])) / df[\"sentence_count\"]\n",
    "df[\"sentence_structure_complex_ratio\"] = df[\"sentence_structure_type_list\"].map(lambda x: sum([y == \"Complex\" for y in x])) / df[\"sentence_count\"]\n",
    "df[\"sentence_structure_complexCompound_ratio\"] = df[\"sentence_structure_type_list\"].map(lambda x: sum([y == \"ComplexCompound\" for y in x])) / df[\"sentence_count\"]"
   ]
  },
  {
   "cell_type": "code",
   "execution_count": 33,
   "metadata": {},
   "outputs": [
    {
     "data": {
      "application/vnd.plotly.v1+json": {
       "config": {
        "plotlyServerURL": "https://plot.ly"
       },
       "data": [
        {
         "legendgroup": "1",
         "marker": {
          "color": "blue"
         },
         "name": "1",
         "showlegend": false,
         "type": "box",
         "x": [
          0,
          0.05263157894736842,
          0.3333333333333333,
          0,
          0.1875,
          0.2,
          0.4,
          0.391304347826087,
          0,
          0.5135135135135135,
          0.30434782608695654,
          0,
          0,
          0.1111111111111111,
          0.6428571428571429,
          0.5172413793103449,
          0,
          0.29411764705882354,
          0.375,
          0.2857142857142857,
          0.2222222222222222,
          0.19230769230769232,
          0.5555555555555556,
          0.45,
          0.5,
          0,
          0.4166666666666667,
          0.15,
          0.2,
          0.46153846153846156,
          0.2,
          0.5,
          0.125,
          0.2,
          0
         ],
         "xaxis": "x",
         "yaxis": "y"
        },
        {
         "legendgroup": "2",
         "marker": {
          "color": "red"
         },
         "name": "2",
         "showlegend": false,
         "type": "box",
         "x": [
          0.14285714285714285,
          0.5555555555555556,
          0.2727272727272727,
          0,
          0.4166666666666667,
          0.3,
          0.16666666666666666,
          0.5,
          0.16666666666666666,
          0.75,
          0.375,
          0,
          0.47368421052631576,
          0.35714285714285715,
          0.375,
          0.16666666666666666,
          0.3333333333333333,
          0.25,
          0.3076923076923077,
          0,
          0.4117647058823529,
          0.38461538461538464,
          0,
          0.2857142857142857,
          0.5925925925925926,
          0.2,
          0.2608695652173913,
          0.14285714285714285,
          0.36363636363636365,
          0.16666666666666666,
          0.35294117647058826,
          0.3684210526315789,
          0.625,
          0.08333333333333333,
          0.25,
          0.5,
          0.5555555555555556,
          0.25,
          0.4444444444444444,
          0.09090909090909091,
          0.3333333333333333,
          0.10526315789473684,
          0.6153846153846154,
          0.1,
          0.3333333333333333,
          0.21428571428571427,
          0.5,
          0.2222222222222222,
          0.42857142857142855,
          0,
          0.27586206896551724,
          0,
          0.4444444444444444,
          0.1111111111111111,
          0.3076923076923077,
          0.4888888888888889,
          0.2,
          0.08333333333333333,
          0.4166666666666667,
          0.15384615384615385,
          0.5555555555555556,
          0.25,
          0,
          0.5,
          0.09090909090909091,
          0.3076923076923077,
          0.11764705882352941,
          0.2,
          0.16666666666666666,
          0.09090909090909091,
          0.2857142857142857,
          0.3333333333333333,
          0,
          0.18181818181818182,
          0.25,
          0.1111111111111111,
          0.3125,
          0.47058823529411764,
          0.2857142857142857,
          0.42857142857142855,
          0.25,
          0.2,
          0.08695652173913043,
          0.16666666666666666,
          0.6153846153846154,
          0.3333333333333333,
          0.4,
          0.09090909090909091,
          0.375,
          0,
          0.2857142857142857,
          0.1111111111111111,
          0.125,
          0.25925925925925924,
          0.5384615384615384,
          0,
          0.1,
          0.5,
          0.25,
          0.5714285714285714,
          0.11764705882352941,
          0.5555555555555556,
          0.09090909090909091,
          0.3,
          0.16666666666666666,
          0.6,
          0.4666666666666667,
          0.2857142857142857,
          0.3333333333333333,
          0.09523809523809523,
          0.2857142857142857,
          0.3333333333333333,
          0,
          0.21052631578947367,
          0.45,
          0.3,
          0.38461538461538464,
          0.3333333333333333,
          0.16666666666666666,
          0.46153846153846156,
          0,
          0.375,
          0.16666666666666666,
          0.2,
          0.058823529411764705,
          0.16666666666666666,
          0.25,
          0,
          0.3076923076923077
         ],
         "xaxis": "x",
         "yaxis": "y"
        },
        {
         "legendgroup": "3",
         "marker": {
          "color": "green"
         },
         "name": "3",
         "showlegend": false,
         "type": "box",
         "x": [
          0.23076923076923078,
          0.38095238095238093,
          0.13333333333333333,
          0.38461538461538464,
          0.5652173913043478,
          0.42105263157894735,
          0.08333333333333333,
          0.5454545454545454,
          0.2727272727272727,
          0.25,
          0.2727272727272727,
          0.36363636363636365,
          0.29411764705882354,
          0.23076923076923078,
          0.37037037037037035,
          0.5294117647058824,
          0.125,
          0.09090909090909091,
          0.5,
          0,
          0.18181818181818182,
          0.29411764705882354,
          0.2631578947368421,
          0.25,
          0.2,
          0.35,
          0.46153846153846156,
          0.2727272727272727,
          0.1875,
          0.6666666666666666,
          0.35,
          0.1,
          0.29411764705882354,
          0.47058823529411764,
          0,
          0.1935483870967742,
          0.07692307692307693,
          0.64,
          0.47368421052631576,
          0.14285714285714285,
          0.25,
          0.14285714285714285,
          0.4482758620689655,
          0.22727272727272727,
          0.375,
          0.5,
          0.4782608695652174,
          0.3684210526315789,
          0.30303030303030304,
          0.10526315789473684,
          0.2857142857142857,
          0.44,
          0.42857142857142855,
          0,
          0.21739130434782608,
          0.6111111111111112,
          0.47368421052631576,
          0.1111111111111111,
          0.2631578947368421,
          0.35,
          0.6666666666666666,
          0.2727272727272727,
          0.24,
          0.125,
          0,
          0.3076923076923077,
          0.3333333333333333,
          0.43478260869565216,
          0.4,
          0.1111111111111111,
          0.25,
          0.29411764705882354,
          0.25,
          0.2222222222222222,
          0,
          0.3,
          0.034482758620689655,
          0.21052631578947367,
          0.23529411764705882,
          0.4666666666666667,
          0.25,
          0.2,
          0.25,
          0.05263157894736842,
          0.5625,
          0.13333333333333333,
          0.375,
          0.1875,
          0.25,
          0.36363636363636365,
          0.12,
          0.08333333333333333,
          0.23809523809523808,
          0,
          0.5789473684210527,
          0.13333333333333333,
          0.3333333333333333,
          0.19230769230769232,
          0.18181818181818182,
          0.21428571428571427,
          0.3333333333333333,
          0.19047619047619047,
          0.17647058823529413,
          0.08333333333333333,
          0.23076923076923078,
          0.3,
          0.3333333333333333,
          0.13333333333333333,
          0,
          0.4,
          0.22727272727272727,
          0.42857142857142855,
          0.07692307692307693,
          0.4444444444444444,
          0.1875,
          0.08333333333333333,
          0.52,
          0.5909090909090909,
          0.3157894736842105,
          0.4583333333333333,
          0.06666666666666667,
          0.6206896551724138,
          0.3333333333333333,
          0.07142857142857142,
          0,
          0.45,
          0.25,
          0.5,
          0.5,
          0.30434782608695654,
          0.4666666666666667,
          0.08333333333333333,
          0.34615384615384615,
          0.0625,
          0,
          0.4666666666666667,
          0.3684210526315789,
          0.45454545454545453,
          0.3333333333333333,
          0.42857142857142855,
          0.13333333333333333,
          0.08695652173913043,
          0.225,
          0.08,
          0.46153846153846156,
          0.25,
          0.24,
          0.26666666666666666,
          0.2608695652173913,
          0.5,
          0.5789473684210527,
          0.26666666666666666,
          0.4117647058823529,
          0.24,
          0.19047619047619047,
          0.3333333333333333,
          0.14285714285714285,
          0.48148148148148145,
          0.37037037037037035,
          0.3076923076923077,
          0.4090909090909091,
          0.25,
          0.36,
          0.2857142857142857,
          0.34782608695652173,
          0.32142857142857145,
          0.5217391304347826,
          0.4444444444444444,
          0.5,
          0.09090909090909091,
          0.42857142857142855,
          0.08333333333333333,
          0.36585365853658536,
          0.2222222222222222,
          0.17647058823529413,
          0.23809523809523808,
          0.35294117647058826,
          0.3125,
          0.2962962962962963,
          0.3,
          0.09090909090909091,
          0.1875,
          0.14285714285714285,
          0.5686274509803921,
          0.2857142857142857,
          0.10344827586206896,
          0.4444444444444444,
          0.13043478260869565,
          0.2,
          0.4666666666666667,
          0.6,
          0.42105263157894735,
          0.4,
          0.4,
          0,
          0.38461538461538464,
          0.16666666666666666
         ],
         "xaxis": "x",
         "yaxis": "y"
        },
        {
         "legendgroup": "4",
         "marker": {
          "color": "purple"
         },
         "name": "4",
         "showlegend": false,
         "type": "box",
         "x": [
          0.20833333333333334,
          0.2,
          0.44,
          0.3235294117647059,
          0.16129032258064516,
          0.21739130434782608,
          0.3333333333333333,
          0.14285714285714285,
          0.2727272727272727,
          0.1,
          0.30434782608695654,
          0.18181818181818182,
          0.2857142857142857,
          0.043478260869565216,
          0.07142857142857142,
          0.16666666666666666,
          0.2222222222222222,
          0.2,
          0.25,
          0.2962962962962963,
          0.2692307692307692,
          0.125,
          0.20689655172413793,
          0.34285714285714286,
          0.18518518518518517,
          0.25,
          0.1282051282051282,
          0.09090909090909091,
          0,
          0.22727272727272727,
          0.12903225806451613,
          0.24,
          0.11764705882352941,
          0.30303030303030304,
          0.4444444444444444,
          0.2903225806451613,
          0.36666666666666664,
          0.3181818181818182,
          0.2962962962962963,
          0.27586206896551724,
          0.28,
          0.35,
          0.05263157894736842,
          0.2702702702702703,
          0.38461538461538464,
          0.14814814814814814,
          0.14285714285714285,
          0.3333333333333333,
          0.25,
          0.25925925925925924,
          0.16,
          0.5454545454545454,
          0.3157894736842105,
          0.2,
          0.37142857142857144,
          0.09090909090909091,
          0.3611111111111111,
          0.4230769230769231,
          0.2857142857142857,
          0.28,
          0.19230769230769232,
          0.5,
          0.19047619047619047,
          0.14285714285714285,
          0.3225806451612903,
          0.21212121212121213,
          0.2,
          0.13043478260869565,
          0.25925925925925924,
          0.3103448275862069,
          0.36,
          0.32,
          0.0967741935483871,
          0.37037037037037035,
          0.4583333333333333,
          0.2777777777777778,
          0.2,
          0,
          0.16666666666666666,
          0.35,
          0.2962962962962963,
          0.24,
          0.29411764705882354,
          0.15384615384615385,
          0.14285714285714285,
          0.2608695652173913,
          0.05,
          0.3333333333333333,
          0.34285714285714286,
          0.45161290322580644,
          0.2,
          0.40625,
          0.45161290322580644,
          0.16,
          0.2857142857142857,
          0.14285714285714285,
          0.35,
          0.34375,
          0.2857142857142857,
          0.16666666666666666,
          0.12903225806451613,
          0.125,
          0.11764705882352941,
          0.25,
          0.35,
          0.5,
          0.4090909090909091,
          0.2727272727272727,
          0.14285714285714285,
          0.05263157894736842,
          0.1,
          0.41379310344827586,
          0.15,
          0.2222222222222222,
          0.24,
          0.2857142857142857,
          0.40625,
          0.3103448275862069,
          0.23076923076923078,
          0.19047619047619047
         ],
         "xaxis": "x",
         "yaxis": "y"
        },
        {
         "legendgroup": "5",
         "marker": {
          "color": "orange"
         },
         "name": "5",
         "showlegend": false,
         "type": "box",
         "x": [
          0.3023255813953488,
          0,
          0.21875,
          0.3333333333333333,
          0.17857142857142858,
          0.225,
          0.045454545454545456,
          0.2222222222222222,
          0.2692307692307692,
          0.2,
          0.034482758620689655,
          0.1111111111111111,
          0.3125,
          0.25,
          0.40540540540540543
         ],
         "xaxis": "x",
         "yaxis": "y"
        },
        {
         "legendgroup": "6",
         "marker": {
          "color": "pink"
         },
         "name": "6",
         "showlegend": false,
         "type": "box",
         "x": [
          0.17777777777777778,
          0.075,
          0.19444444444444445,
          0.07407407407407407
         ],
         "xaxis": "x",
         "yaxis": "y"
        },
        {
         "legendgroup": "1",
         "marker": {
          "color": "blue"
         },
         "name": "1",
         "showlegend": false,
         "type": "box",
         "x": [
          0,
          0.47368421052631576,
          0.16666666666666666,
          0,
          0.0625,
          0.4,
          0.2,
          0.17391304347826086,
          0,
          0.10810810810810811,
          0.043478260869565216,
          0.16666666666666666,
          0.3333333333333333,
          0,
          0.14285714285714285,
          0.034482758620689655,
          0,
          0.2647058823529412,
          0.25,
          0.21428571428571427,
          0.2222222222222222,
          0.23076923076923078,
          0,
          0.15,
          0.08333333333333333,
          0,
          0.5,
          0.15,
          0,
          0.15384615384615385,
          0.4,
          0.16666666666666666,
          0.125,
          0.3,
          0.16666666666666666
         ],
         "xaxis": "x2",
         "yaxis": "y2"
        },
        {
         "legendgroup": "2",
         "marker": {
          "color": "red"
         },
         "name": "2",
         "showlegend": false,
         "type": "box",
         "x": [
          0.42857142857142855,
          0.1111111111111111,
          0.2727272727272727,
          0.1111111111111111,
          0.08333333333333333,
          0.1,
          0,
          0.08333333333333333,
          0.16666666666666666,
          0.15,
          0.25,
          0,
          0.2631578947368421,
          0.07142857142857142,
          0.5,
          0,
          0.4,
          0,
          0.23076923076923078,
          0.6666666666666666,
          0.058823529411764705,
          0.07692307692307693,
          0,
          0.42857142857142855,
          0.07407407407407407,
          0,
          0.13043478260869565,
          0.2857142857142857,
          0.36363636363636365,
          0.5833333333333334,
          0.17647058823529413,
          0.05263157894736842,
          0,
          0.25,
          0.125,
          0.3333333333333333,
          0,
          0.125,
          0.2777777777777778,
          0.2727272727272727,
          0.38095238095238093,
          0.10526315789473684,
          0.07692307692307693,
          0.3,
          0,
          0.07142857142857142,
          0.25,
          0.1111111111111111,
          0.14285714285714285,
          0,
          0.27586206896551724,
          0.2857142857142857,
          0,
          0.3333333333333333,
          0.3076923076923077,
          0.2,
          0.26666666666666666,
          0,
          0.16666666666666666,
          0.038461538461538464,
          0.16666666666666666,
          0,
          0,
          0.3,
          0.13636363636363635,
          0.15384615384615385,
          0.11764705882352941,
          0,
          0,
          0.18181818181818182,
          0.14285714285714285,
          0.2222222222222222,
          0.25,
          0.18181818181818182,
          0,
          0.1111111111111111,
          0.0625,
          0.17647058823529413,
          0.2857142857142857,
          0.42857142857142855,
          0,
          0.1,
          0.2608695652173913,
          0.08333333333333333,
          0.23076923076923078,
          0.25,
          0.26666666666666666,
          0.2727272727272727,
          0.0625,
          0,
          0.42857142857142855,
          0.1111111111111111,
          0.125,
          0.14814814814814814,
          0.07692307692307693,
          0,
          0.2,
          0,
          0.75,
          0.07142857142857142,
          0.17647058823529413,
          0.2777777777777778,
          0.36363636363636365,
          0.2,
          0,
          0,
          0.13333333333333333,
          0.21428571428571427,
          0.1111111111111111,
          0.23809523809523808,
          0.2857142857142857,
          0.18518518518518517,
          0.125,
          0.15789473684210525,
          0.1,
          0.2,
          0.46153846153846156,
          0,
          0,
          0,
          0.3333333333333333,
          0.375,
          0.3333333333333333,
          0.3333333333333333,
          0.23529411764705882,
          0,
          0.25,
          0.2,
          0.23076923076923078
         ],
         "xaxis": "x2",
         "yaxis": "y2"
        },
        {
         "legendgroup": "3",
         "marker": {
          "color": "green"
         },
         "name": "3",
         "showlegend": false,
         "type": "box",
         "x": [
          0.07692307692307693,
          0.09523809523809523,
          0.2,
          0.15384615384615385,
          0.13043478260869565,
          0.10526315789473684,
          0.08333333333333333,
          0.18181818181818182,
          0.18181818181818182,
          0,
          0.22727272727272727,
          0.18181818181818182,
          0.35294117647058826,
          0.3076923076923077,
          0.14814814814814814,
          0.23529411764705882,
          0.3125,
          0.18181818181818182,
          0,
          0.2,
          0.18181818181818182,
          0.17647058823529413,
          0.2631578947368421,
          0,
          0.1,
          0.15,
          0.11538461538461539,
          0.18181818181818182,
          0.0625,
          0.06666666666666667,
          0.05,
          0.3,
          0.29411764705882354,
          0.17647058823529413,
          0.15384615384615385,
          0.22580645161290322,
          0.07692307692307693,
          0.04,
          0.10526315789473684,
          0.5,
          0.1875,
          0.5,
          0.3103448275862069,
          0.09090909090909091,
          0.0625,
          0.375,
          0.2608695652173913,
          0.3684210526315789,
          0.06060606060606061,
          0.10526315789473684,
          0.17857142857142858,
          0.12,
          0.14285714285714285,
          0.2,
          0.08695652173913043,
          0.16666666666666666,
          0,
          0.05555555555555555,
          0.10526315789473684,
          0.05,
          0.07407407407407407,
          0.045454545454545456,
          0.2,
          0.1875,
          0,
          0.07692307692307693,
          0,
          0.08695652173913043,
          0.2,
          0.3333333333333333,
          0.0625,
          0.11764705882352941,
          0.08333333333333333,
          0.1111111111111111,
          0,
          0.1,
          0.27586206896551724,
          0.10526315789473684,
          0,
          0,
          0.20833333333333334,
          0.1,
          0.25,
          0.2631578947368421,
          0.1875,
          0.4666666666666667,
          0.1875,
          0.0625,
          0.125,
          0.09090909090909091,
          0.2,
          0.25,
          0.09523809523809523,
          0,
          0,
          0.2,
          0.1111111111111111,
          0.4230769230769231,
          0.36363636363636365,
          0.07142857142857142,
          0.15151515151515152,
          0.19047619047619047,
          0.23529411764705882,
          0.25,
          0.11538461538461539,
          0.2,
          0.08333333333333333,
          0.2,
          0.36363636363636365,
          0.1,
          0.13636363636363635,
          0.19047619047619047,
          0.3076923076923077,
          0.19444444444444445,
          0.0625,
          0.08333333333333333,
          0.16,
          0.13636363636363635,
          0.10526315789473684,
          0.16666666666666666,
          0.13333333333333333,
          0.13793103448275862,
          0.1111111111111111,
          0,
          0,
          0.3,
          0.20833333333333334,
          0.09090909090909091,
          0.05,
          0.21739130434782608,
          0.26666666666666666,
          0.3333333333333333,
          0.2692307692307692,
          0,
          0,
          0.2,
          0.2631578947368421,
          0,
          0.19047619047619047,
          0,
          0.13333333333333333,
          0.08695652173913043,
          0.325,
          0.16,
          0.38461538461538464,
          0.1875,
          0.16,
          0,
          0.043478260869565216,
          0.13636363636363635,
          0.15789473684210525,
          0.2,
          0.17647058823529413,
          0.28,
          0.14285714285714285,
          0.2222222222222222,
          0.14285714285714285,
          0.18518518518518517,
          0.18518518518518517,
          0.07692307692307693,
          0.18181818181818182,
          0.25,
          0.28,
          0.35714285714285715,
          0.17391304347826086,
          0.07142857142857142,
          0.13043478260869565,
          0.2777777777777778,
          0.14285714285714285,
          0.2727272727272727,
          0.07142857142857142,
          0.16666666666666666,
          0.1951219512195122,
          0.2222222222222222,
          0.17647058823529413,
          0.09523809523809523,
          0.11764705882352941,
          0.3125,
          0.1111111111111111,
          0.3,
          0.045454545454545456,
          0,
          0.5,
          0.11764705882352941,
          0.35714285714285715,
          0.20689655172413793,
          0.05555555555555555,
          0.34782608695652173,
          0.05,
          0.06666666666666667,
          0.2,
          0.2631578947368421,
          0.2,
          0.06666666666666667,
          0.5,
          0.07692307692307693,
          0.1111111111111111
         ],
         "xaxis": "x2",
         "yaxis": "y2"
        },
        {
         "legendgroup": "4",
         "marker": {
          "color": "purple"
         },
         "name": "4",
         "showlegend": false,
         "type": "box",
         "x": [
          0.041666666666666664,
          0.2,
          0.12,
          0.11764705882352941,
          0,
          0.2608695652173913,
          0.25,
          0.07142857142857142,
          0,
          0.15,
          0.043478260869565216,
          0.18181818181818182,
          0.21428571428571427,
          0.043478260869565216,
          0.07142857142857142,
          0.125,
          0.037037037037037035,
          0.04,
          0.21428571428571427,
          0.1111111111111111,
          0.23076923076923078,
          0,
          0.06896551724137931,
          0.2,
          0.14814814814814814,
          0.25,
          0.05128205128205128,
          0.2727272727272727,
          0.11764705882352941,
          0.18181818181818182,
          0.16129032258064516,
          0.12,
          0.23529411764705882,
          0.12121212121212122,
          0.3888888888888889,
          0.0967741935483871,
          0.1,
          0.18181818181818182,
          0.07407407407407407,
          0.10344827586206896,
          0.08,
          0.1,
          0.15789473684210525,
          0.05405405405405406,
          0.11538461538461539,
          0.1111111111111111,
          0.07142857142857142,
          0.14285714285714285,
          0.041666666666666664,
          0.2222222222222222,
          0.08,
          0.15151515151515152,
          0.15789473684210525,
          0.08,
          0.2,
          0.09090909090909091,
          0.1388888888888889,
          0.23076923076923078,
          0,
          0.16,
          0.4230769230769231,
          0.13636363636363635,
          0.09523809523809523,
          0,
          0.1935483870967742,
          0.18181818181818182,
          0.475,
          0.13043478260869565,
          0.1111111111111111,
          0,
          0.16,
          0.16,
          0.0967741935483871,
          0.037037037037037035,
          0.08333333333333333,
          0.16666666666666666,
          0.06666666666666667,
          0.06666666666666667,
          0.08333333333333333,
          0,
          0.1111111111111111,
          0.28,
          0.11764705882352941,
          0.23076923076923078,
          0.21428571428571427,
          0.17391304347826086,
          0.15,
          0.23809523809523808,
          0.2,
          0.0967741935483871,
          0.08,
          0.1875,
          0.1935483870967742,
          0.12,
          0,
          0,
          0.4,
          0.0625,
          0.14285714285714285,
          0.3888888888888889,
          0.22580645161290322,
          0,
          0.23529411764705882,
          0.3125,
          0.2,
          0.15,
          0.13636363636363635,
          0.13636363636363635,
          0.047619047619047616,
          0.10526315789473684,
          0.13333333333333333,
          0.06896551724137931,
          0.35,
          0.05555555555555555,
          0,
          0.14285714285714285,
          0.1875,
          0.06896551724137931,
          0.15384615384615385,
          0.047619047619047616
         ],
         "xaxis": "x2",
         "yaxis": "y2"
        },
        {
         "legendgroup": "5",
         "marker": {
          "color": "orange"
         },
         "name": "5",
         "showlegend": false,
         "type": "box",
         "x": [
          0.11627906976744186,
          0.14285714285714285,
          0.21875,
          0.1,
          0.14285714285714285,
          0.2,
          0,
          0.1388888888888889,
          0.07692307692307693,
          0.14285714285714285,
          0.10344827586206896,
          0.25925925925925924,
          0,
          0,
          0.10810810810810811
         ],
         "xaxis": "x2",
         "yaxis": "y2"
        },
        {
         "legendgroup": "6",
         "marker": {
          "color": "pink"
         },
         "name": "6",
         "showlegend": false,
         "type": "box",
         "x": [
          0.15555555555555556,
          0.05,
          0.1111111111111111,
          0.1111111111111111
         ],
         "xaxis": "x2",
         "yaxis": "y2"
        },
        {
         "legendgroup": "1",
         "marker": {
          "color": "blue"
         },
         "name": "1",
         "showlegend": false,
         "type": "box",
         "x": [
          0.3333333333333333,
          0.05263157894736842,
          0.3333333333333333,
          0.2857142857142857,
          0.375,
          0.2,
          0.1,
          0.17391304347826086,
          0,
          0.21621621621621623,
          0.43478260869565216,
          0,
          0,
          0.3333333333333333,
          0.14285714285714285,
          0.3275862068965517,
          0,
          0.23529411764705882,
          0.125,
          0.14285714285714285,
          0.2222222222222222,
          0.2692307692307692,
          0.3333333333333333,
          0.35,
          0.16666666666666666,
          0.5555555555555556,
          0,
          0.35,
          0,
          0.15384615384615385,
          0,
          0.25,
          0.375,
          0.1,
          0
         ],
         "xaxis": "x3",
         "yaxis": "y3"
        },
        {
         "legendgroup": "2",
         "marker": {
          "color": "red"
         },
         "name": "2",
         "showlegend": false,
         "type": "box",
         "x": [
          0,
          0.16666666666666666,
          0.09090909090909091,
          0.1111111111111111,
          0.16666666666666666,
          0.3,
          0.3333333333333333,
          0.08333333333333333,
          0.3333333333333333,
          0.1,
          0,
          0,
          0.15789473684210525,
          0.5,
          0,
          0.16666666666666666,
          0.06666666666666667,
          0,
          0.23076923076923078,
          0,
          0.29411764705882354,
          0.3076923076923077,
          0,
          0,
          0.18518518518518517,
          0,
          0.17391304347826086,
          0.14285714285714285,
          0.09090909090909091,
          0.16666666666666666,
          0.23529411764705882,
          0.3684210526315789,
          0.1875,
          0.08333333333333333,
          0,
          0,
          0.2777777777777778,
          0.25,
          0.16666666666666666,
          0.2727272727272727,
          0.047619047619047616,
          0.2631578947368421,
          0.07692307692307693,
          0.1,
          0.4666666666666667,
          0.35714285714285715,
          0.1875,
          0.2777777777777778,
          0.2857142857142857,
          0,
          0.06896551724137931,
          0.14285714285714285,
          0.1111111111111111,
          0.2222222222222222,
          0.3076923076923077,
          0.17777777777777778,
          0.4666666666666667,
          0.4166666666666667,
          0.16666666666666666,
          0.3076923076923077,
          0.16666666666666666,
          0.25,
          0.3333333333333333,
          0.05,
          0.5909090909090909,
          0.15384615384615385,
          0.29411764705882354,
          0.4,
          0.16666666666666666,
          0.36363636363636365,
          0.2857142857142857,
          0.2222222222222222,
          0.25,
          0,
          0.3125,
          0.3333333333333333,
          0.1875,
          0.23529411764705882,
          0.2857142857142857,
          0.07142857142857142,
          0.625,
          0.5,
          0.13043478260869565,
          0.5833333333333334,
          0.07692307692307693,
          0,
          0.26666666666666666,
          0,
          0.5,
          0,
          0.07142857142857142,
          0.2222222222222222,
          0.125,
          0.37037037037037035,
          0.07692307692307693,
          0.7,
          0.2,
          0.14285714285714285,
          0,
          0.35714285714285715,
          0.23529411764705882,
          0.16666666666666666,
          0.2727272727272727,
          0.2,
          0.4166666666666667,
          0.25,
          0.26666666666666666,
          0.14285714285714285,
          0.3888888888888889,
          0.38095238095238093,
          0.14285714285714285,
          0.14814814814814814,
          0,
          0.5263157894736842,
          0.15,
          0.1,
          0.07692307692307693,
          0.4166666666666667,
          0.25,
          0.46153846153846156,
          0.16666666666666666,
          0.125,
          0.16666666666666666,
          0.13333333333333333,
          0.11764705882352941,
          0.16666666666666666,
          0,
          0.2,
          0.23076923076923078
         ],
         "xaxis": "x3",
         "yaxis": "y3"
        },
        {
         "legendgroup": "3",
         "marker": {
          "color": "green"
         },
         "name": "3",
         "showlegend": false,
         "type": "box",
         "x": [
          0,
          0.3333333333333333,
          0.4666666666666667,
          0.23076923076923078,
          0.13043478260869565,
          0.2631578947368421,
          0.3333333333333333,
          0.18181818181818182,
          0.13636363636363635,
          0.25,
          0.2727272727272727,
          0.09090909090909091,
          0.11764705882352941,
          0.07692307692307693,
          0.2962962962962963,
          0.11764705882352941,
          0.3125,
          0,
          0.25,
          0.1,
          0.36363636363636365,
          0.058823529411764705,
          0.10526315789473684,
          0.16666666666666666,
          0.4,
          0.25,
          0.15384615384615385,
          0.22727272727272727,
          0.34375,
          0.13333333333333333,
          0.45,
          0.3,
          0.17647058823529413,
          0.11764705882352941,
          0.46153846153846156,
          0.22580645161290322,
          0.38461538461538464,
          0.32,
          0.21052631578947367,
          0.07142857142857142,
          0.125,
          0.2857142857142857,
          0.1724137931034483,
          0.5454545454545454,
          0.5,
          0,
          0.08695652173913043,
          0.10526315789473684,
          0.24242424242424243,
          0.10526315789473684,
          0.14285714285714285,
          0.24,
          0.047619047619047616,
          0,
          0.391304347826087,
          0.16666666666666666,
          0.3157894736842105,
          0.4444444444444444,
          0.2631578947368421,
          0.3,
          0.1111111111111111,
          0.2727272727272727,
          0.16,
          0.1875,
          0.8181818181818182,
          0.38461538461538464,
          0.5,
          0.34782608695652173,
          0.2,
          0.2222222222222222,
          0.4375,
          0.29411764705882354,
          0.08333333333333333,
          0.3333333333333333,
          0.21739130434782608,
          0.1,
          0.2413793103448276,
          0.2631578947368421,
          0.29411764705882354,
          0.4,
          0.125,
          0.3,
          0.35,
          0.3157894736842105,
          0.15625,
          0.06666666666666667,
          0.3125,
          0.25,
          0.4166666666666667,
          0.13636363636363635,
          0.52,
          0,
          0.3333333333333333,
          0.45454545454545453,
          0.2631578947368421,
          0.2,
          0.16666666666666666,
          0.19230769230769232,
          0.18181818181818182,
          0.35714285714285715,
          0.30303030303030304,
          0.09523809523809523,
          0.23529411764705882,
          0.4166666666666667,
          0.23076923076923078,
          0.2,
          0.2916666666666667,
          0.2,
          0.2727272727272727,
          0.3,
          0.18181818181818182,
          0.2857142857142857,
          0.15384615384615385,
          0.19444444444444445,
          0.375,
          0.6666666666666666,
          0.16,
          0.18181818181818182,
          0.3157894736842105,
          0.125,
          0.26666666666666666,
          0.10344827586206896,
          0.1111111111111111,
          0.2857142857142857,
          0.2727272727272727,
          0.25,
          0.125,
          0.18181818181818182,
          0.35,
          0.17391304347826086,
          0.13333333333333333,
          0.25,
          0.23076923076923078,
          0.3125,
          0,
          0.2,
          0.21052631578947367,
          0.09090909090909091,
          0.3333333333333333,
          0.35714285714285715,
          0.26666666666666666,
          0.43478260869565216,
          0.175,
          0.48,
          0,
          0.0625,
          0.44,
          0.4,
          0.43478260869565216,
          0.22727272727272727,
          0.15789473684210525,
          0.26666666666666666,
          0.058823529411764705,
          0.16,
          0.23809523809523808,
          0.16666666666666666,
          0.21428571428571427,
          0.1111111111111111,
          0.25925925925925924,
          0.38461538461538464,
          0.13636363636363635,
          0.3,
          0.04,
          0.07142857142857142,
          0,
          0.39285714285714285,
          0.043478260869565216,
          0.1111111111111111,
          0.17857142857142858,
          0.18181818181818182,
          0.32142857142857145,
          0.3333333333333333,
          0.34146341463414637,
          0.2222222222222222,
          0.4117647058823529,
          0.3333333333333333,
          0.23529411764705882,
          0.1875,
          0.37037037037037035,
          0,
          0.5,
          0.3125,
          0.07142857142857142,
          0.1568627450980392,
          0.07142857142857142,
          0.2413793103448276,
          0.1111111111111111,
          0.08695652173913043,
          0.5,
          0.13333333333333333,
          0.13333333333333333,
          0,
          0,
          0.13333333333333333,
          0.07692307692307693,
          0,
          0.2777777777777778
         ],
         "xaxis": "x3",
         "yaxis": "y3"
        },
        {
         "legendgroup": "4",
         "marker": {
          "color": "purple"
         },
         "name": "4",
         "showlegend": false,
         "type": "box",
         "x": [
          0.3333333333333333,
          0.1,
          0.2,
          0.3235294117647059,
          0.3225806451612903,
          0.21739130434782608,
          0.2916666666666667,
          0.4642857142857143,
          0.09090909090909091,
          0.35,
          0.391304347826087,
          0.09090909090909091,
          0.07142857142857142,
          0.34782608695652173,
          0.5,
          0.375,
          0.3333333333333333,
          0.52,
          0.07142857142857142,
          0.18518518518518517,
          0.15384615384615385,
          0.5,
          0.2413793103448276,
          0.14285714285714285,
          0.4444444444444444,
          0.25,
          0.2564102564102564,
          0.2727272727272727,
          0.23529411764705882,
          0.18181818181818182,
          0.3225806451612903,
          0.32,
          0.11764705882352941,
          0.36363636363636365,
          0.1111111111111111,
          0.3870967741935484,
          0.13333333333333333,
          0.13636363636363635,
          0.2962962962962963,
          0.2413793103448276,
          0.32,
          0.45,
          0.2631578947368421,
          0.24324324324324326,
          0.23076923076923078,
          0.37037037037037035,
          0.25,
          0.2857142857142857,
          0.2916666666666667,
          0.14814814814814814,
          0.28,
          0.15151515151515152,
          0.2631578947368421,
          0.12,
          0.3142857142857143,
          0.45454545454545453,
          0.2222222222222222,
          0.15384615384615385,
          0.35714285714285715,
          0.2,
          0.19230769230769232,
          0.13636363636363635,
          0.3333333333333333,
          0.42857142857142855,
          0.16129032258064516,
          0.21212121212121213,
          0.125,
          0.30434782608695654,
          0.18518518518518517,
          0.4827586206896552,
          0.32,
          0.32,
          0.41935483870967744,
          0.37037037037037035,
          0.375,
          0.1111111111111111,
          0.26666666666666666,
          0.4,
          0.375,
          0.3,
          0.4074074074074074,
          0.24,
          0.3235294117647059,
          0.2692307692307692,
          0.2857142857142857,
          0.30434782608695654,
          0.35,
          0.14285714285714285,
          0.17142857142857143,
          0.0967741935483871,
          0.6,
          0.125,
          0.0967741935483871,
          0.28,
          0.2857142857142857,
          0.2857142857142857,
          0,
          0.4375,
          0.07142857142857142,
          0.16666666666666666,
          0.3225806451612903,
          0.25,
          0.4117647058823529,
          0.28125,
          0.35,
          0.15,
          0.18181818181818182,
          0.22727272727272727,
          0.2857142857142857,
          0.21052631578947367,
          0.06666666666666667,
          0.2413793103448276,
          0.2,
          0.2777777777777778,
          0.4,
          0.35714285714285715,
          0.21875,
          0.3793103448275862,
          0.11538461538461539,
          0.23809523809523808
         ],
         "xaxis": "x3",
         "yaxis": "y3"
        },
        {
         "legendgroup": "5",
         "marker": {
          "color": "orange"
         },
         "name": "5",
         "showlegend": false,
         "type": "box",
         "x": [
          0.3023255813953488,
          0.2857142857142857,
          0.0625,
          0.3,
          0.2857142857142857,
          0.3,
          0.5,
          0.25,
          0.34615384615384615,
          0.2571428571428571,
          0.13793103448275862,
          0.25925925925925924,
          0.3125,
          0.35714285714285715,
          0.2702702702702703
         ],
         "xaxis": "x3",
         "yaxis": "y3"
        },
        {
         "legendgroup": "6",
         "marker": {
          "color": "pink"
         },
         "name": "6",
         "showlegend": false,
         "type": "box",
         "x": [
          0.4222222222222222,
          0.25,
          0.2777777777777778,
          0.25925925925925924
         ],
         "xaxis": "x3",
         "yaxis": "y3"
        },
        {
         "legendgroup": "1",
         "marker": {
          "color": "blue"
         },
         "name": "1",
         "showlegend": false,
         "type": "box",
         "x": [
          0.6666666666666666,
          0.42105263157894735,
          0.16666666666666666,
          0.7142857142857143,
          0.375,
          0.2,
          0.3,
          0.2608695652173913,
          1,
          0.16216216216216217,
          0.21739130434782608,
          0.8333333333333334,
          0.6666666666666666,
          0.5555555555555556,
          0.07142857142857142,
          0.1206896551724138,
          1,
          0.20588235294117646,
          0.25,
          0.35714285714285715,
          0.3333333333333333,
          0.3076923076923077,
          0.1111111111111111,
          0.05,
          0.25,
          0.4444444444444444,
          0.08333333333333333,
          0.35,
          0.8,
          0.23076923076923078,
          0.4,
          0.08333333333333333,
          0.375,
          0.4,
          0.8333333333333334
         ],
         "xaxis": "x4",
         "yaxis": "y4"
        },
        {
         "legendgroup": "2",
         "marker": {
          "color": "red"
         },
         "name": "2",
         "showlegend": false,
         "type": "box",
         "x": [
          0.42857142857142855,
          0.16666666666666666,
          0.36363636363636365,
          0.7777777777777778,
          0.3333333333333333,
          0.3,
          0.5,
          0.3333333333333333,
          0.3333333333333333,
          0,
          0.375,
          1,
          0.10526315789473684,
          0.07142857142857142,
          0.125,
          0.6666666666666666,
          0.2,
          0.75,
          0.23076923076923078,
          0.3333333333333333,
          0.23529411764705882,
          0.23076923076923078,
          1,
          0.2857142857142857,
          0.14814814814814814,
          0.8,
          0.43478260869565216,
          0.42857142857142855,
          0.18181818181818182,
          0.08333333333333333,
          0.23529411764705882,
          0.21052631578947367,
          0.1875,
          0.5833333333333334,
          0.625,
          0.16666666666666666,
          0.16666666666666666,
          0.375,
          0.1111111111111111,
          0.36363636363636365,
          0.23809523809523808,
          0.5263157894736842,
          0.23076923076923078,
          0.5,
          0.2,
          0.35714285714285715,
          0.0625,
          0.3888888888888889,
          0.14285714285714285,
          1,
          0.3793103448275862,
          0.5714285714285714,
          0.4444444444444444,
          0.3333333333333333,
          0.07692307692307693,
          0.13333333333333333,
          0.06666666666666667,
          0.5,
          0.25,
          0.5,
          0.1111111111111111,
          0.5,
          0.6666666666666666,
          0.15,
          0.18181818181818182,
          0.38461538461538464,
          0.47058823529411764,
          0.4,
          0.6666666666666666,
          0.36363636363636365,
          0.2857142857142857,
          0.2222222222222222,
          0.5,
          0.6363636363636364,
          0.4375,
          0.4444444444444444,
          0.4375,
          0.11764705882352941,
          0.14285714285714285,
          0.07142857142857142,
          0.125,
          0.2,
          0.5217391304347826,
          0.16666666666666666,
          0.07692307692307693,
          0.4166666666666667,
          0.06666666666666667,
          0.6363636363636364,
          0.0625,
          1,
          0.21428571428571427,
          0.5555555555555556,
          0.625,
          0.2222222222222222,
          0.3076923076923077,
          0.3,
          0.5,
          0.35714285714285715,
          0,
          0,
          0.47058823529411764,
          0,
          0.2727272727272727,
          0.3,
          0.4166666666666667,
          0.15,
          0.13333333333333333,
          0.35714285714285715,
          0.16666666666666666,
          0.2857142857142857,
          0.2857142857142857,
          0.3333333333333333,
          0.875,
          0.10526315789473684,
          0.3,
          0.4,
          0.07692307692307693,
          0.25,
          0.5833333333333334,
          0.07692307692307693,
          0.5,
          0.125,
          0.3333333333333333,
          0.3333333333333333,
          0.5882352941176471,
          0.6666666666666666,
          0.5,
          0.6,
          0.23076923076923078
         ],
         "xaxis": "x4",
         "yaxis": "y4"
        },
        {
         "legendgroup": "3",
         "marker": {
          "color": "green"
         },
         "name": "3",
         "showlegend": false,
         "type": "box",
         "x": [
          0.6923076923076923,
          0.19047619047619047,
          0.2,
          0.23076923076923078,
          0.17391304347826086,
          0.21052631578947367,
          0.5,
          0.09090909090909091,
          0.4090909090909091,
          0.5,
          0.22727272727272727,
          0.36363636363636365,
          0.23529411764705882,
          0.38461538461538464,
          0.18518518518518517,
          0.11764705882352941,
          0.25,
          0.7272727272727273,
          0.25,
          0.7,
          0.2727272727272727,
          0.47058823529411764,
          0.3684210526315789,
          0.5833333333333334,
          0.3,
          0.25,
          0.2692307692307692,
          0.3181818181818182,
          0.40625,
          0.13333333333333333,
          0.15,
          0.3,
          0.23529411764705882,
          0.23529411764705882,
          0.38461538461538464,
          0.3548387096774194,
          0.46153846153846156,
          0,
          0.21052631578947367,
          0.2857142857142857,
          0.4375,
          0.07142857142857142,
          0.06896551724137931,
          0.13636363636363635,
          0.0625,
          0.125,
          0.17391304347826086,
          0.15789473684210525,
          0.3939393939393939,
          0.6842105263157895,
          0.39285714285714285,
          0.2,
          0.38095238095238093,
          0.8,
          0.30434782608695654,
          0.05555555555555555,
          0.21052631578947367,
          0.3888888888888889,
          0.3684210526315789,
          0.3,
          0.14814814814814814,
          0.4090909090909091,
          0.4,
          0.5,
          0.18181818181818182,
          0.23076923076923078,
          0.16666666666666666,
          0.13043478260869565,
          0.2,
          0.3333333333333333,
          0.25,
          0.29411764705882354,
          0.5833333333333334,
          0.3333333333333333,
          0.782608695652174,
          0.5,
          0.4482758620689655,
          0.42105263157894735,
          0.47058823529411764,
          0.13333333333333333,
          0.4166666666666667,
          0.4,
          0.15,
          0.3684210526315789,
          0.09375,
          0.3333333333333333,
          0.125,
          0.5,
          0.20833333333333334,
          0.4090909090909091,
          0.16,
          0.6666666666666666,
          0.3333333333333333,
          0.5454545454545454,
          0.15789473684210525,
          0.4666666666666667,
          0.3888888888888889,
          0.19230769230769232,
          0.2727272727272727,
          0.35714285714285715,
          0.21212121212121213,
          0.5238095238095238,
          0.35294117647058826,
          0.25,
          0.4230769230769231,
          0.3,
          0.2916666666666667,
          0.4666666666666667,
          0.36363636363636365,
          0.2,
          0.45454545454545453,
          0.09523809523809523,
          0.46153846153846156,
          0.16666666666666666,
          0.375,
          0.16666666666666666,
          0.16,
          0.09090909090909091,
          0.2631578947368421,
          0.25,
          0.5333333333333333,
          0.13793103448275862,
          0.4444444444444444,
          0.6428571428571429,
          0.7272727272727273,
          0,
          0.4166666666666667,
          0.22727272727272727,
          0.1,
          0.30434782608695654,
          0.13333333333333333,
          0.3333333333333333,
          0.15384615384615385,
          0.625,
          1,
          0.13333333333333333,
          0.15789473684210525,
          0.45454545454545453,
          0.14285714285714285,
          0.21428571428571427,
          0.4666666666666667,
          0.391304347826087,
          0.275,
          0.28,
          0.15384615384615385,
          0.5,
          0.16,
          0.3333333333333333,
          0.2608695652173913,
          0.13636363636363635,
          0.10526315789473684,
          0.26666666666666666,
          0.35294117647058826,
          0.32,
          0.42857142857142855,
          0.2777777777777778,
          0.5,
          0.2222222222222222,
          0.18518518518518517,
          0.23076923076923078,
          0.2727272727272727,
          0.2,
          0.32,
          0.2857142857142857,
          0.4782608695652174,
          0.21428571428571427,
          0.30434782608695654,
          0.16666666666666666,
          0.17857142857142858,
          0.45454545454545453,
          0.17857142857142858,
          0.4166666666666667,
          0.0975609756097561,
          0.3333333333333333,
          0.23529411764705882,
          0.3333333333333333,
          0.29411764705882354,
          0.1875,
          0.2222222222222222,
          0.4,
          0.36363636363636365,
          0.5,
          0.2857142857142857,
          0.1568627450980392,
          0.2857142857142857,
          0.4482758620689655,
          0.3888888888888889,
          0.43478260869565216,
          0.25,
          0.3333333333333333,
          0.06666666666666667,
          0.3157894736842105,
          0.4,
          0.4,
          0.4230769230769231,
          0.5384615384615384,
          0.4444444444444444
         ],
         "xaxis": "x4",
         "yaxis": "y4"
        },
        {
         "legendgroup": "4",
         "marker": {
          "color": "purple"
         },
         "name": "4",
         "showlegend": false,
         "type": "box",
         "x": [
          0.4166666666666667,
          0.5,
          0.24,
          0.23529411764705882,
          0.5161290322580645,
          0.30434782608695654,
          0.125,
          0.32142857142857145,
          0.6363636363636364,
          0.4,
          0.2608695652173913,
          0.5454545454545454,
          0.42857142857142855,
          0.5652173913043478,
          0.35714285714285715,
          0.3333333333333333,
          0.4074074074074074,
          0.24,
          0.4642857142857143,
          0.4074074074074074,
          0.34615384615384615,
          0.375,
          0.4827586206896552,
          0.3142857142857143,
          0.2222222222222222,
          0.25,
          0.5641025641025641,
          0.36363636363636365,
          0.6470588235294118,
          0.4090909090909091,
          0.3870967741935484,
          0.32,
          0.5294117647058824,
          0.21212121212121213,
          0.05555555555555555,
          0.22580645161290322,
          0.4,
          0.36363636363636365,
          0.3333333333333333,
          0.3793103448275862,
          0.32,
          0.1,
          0.5263157894736842,
          0.43243243243243246,
          0.2692307692307692,
          0.37037037037037035,
          0.5357142857142857,
          0.23809523809523808,
          0.4166666666666667,
          0.37037037037037035,
          0.48,
          0.15151515151515152,
          0.2631578947368421,
          0.6,
          0.11428571428571428,
          0.36363636363636365,
          0.2777777777777778,
          0.19230769230769232,
          0.35714285714285715,
          0.36,
          0.19230769230769232,
          0.22727272727272727,
          0.38095238095238093,
          0.42857142857142855,
          0.3225806451612903,
          0.3939393939393939,
          0.2,
          0.43478260869565216,
          0.4444444444444444,
          0.20689655172413793,
          0.16,
          0.2,
          0.3870967741935484,
          0.2222222222222222,
          0.08333333333333333,
          0.4444444444444444,
          0.4666666666666667,
          0.5333333333333333,
          0.375,
          0.35,
          0.18518518518518517,
          0.24,
          0.2647058823529412,
          0.34615384615384615,
          0.35714285714285715,
          0.2608695652173913,
          0.45,
          0.2857142857142857,
          0.2857142857142857,
          0.3548387096774194,
          0.12,
          0.28125,
          0.25806451612903225,
          0.44,
          0.42857142857142855,
          0.5714285714285714,
          0.25,
          0.15625,
          0.5,
          0.2777777777777778,
          0.3225806451612903,
          0.625,
          0.23529411764705882,
          0.15625,
          0.1,
          0.2,
          0.2727272727272727,
          0.36363636363636365,
          0.5238095238095238,
          0.631578947368421,
          0.7,
          0.27586206896551724,
          0.3,
          0.4444444444444444,
          0.36,
          0.21428571428571427,
          0.1875,
          0.2413793103448276,
          0.5,
          0.5238095238095238
         ],
         "xaxis": "x4",
         "yaxis": "y4"
        },
        {
         "legendgroup": "5",
         "marker": {
          "color": "orange"
         },
         "name": "5",
         "showlegend": false,
         "type": "box",
         "x": [
          0.27906976744186046,
          0.5714285714285714,
          0.5,
          0.26666666666666666,
          0.39285714285714285,
          0.275,
          0.45454545454545453,
          0.3888888888888889,
          0.3076923076923077,
          0.4,
          0.7241379310344828,
          0.37037037037037035,
          0.375,
          0.39285714285714285,
          0.21621621621621623
         ],
         "xaxis": "x4",
         "yaxis": "y4"
        },
        {
         "legendgroup": "6",
         "marker": {
          "color": "pink"
         },
         "name": "6",
         "showlegend": false,
         "type": "box",
         "x": [
          0.24444444444444444,
          0.625,
          0.4166666666666667,
          0.5555555555555556
         ],
         "xaxis": "x4",
         "yaxis": "y4"
        }
       ],
       "layout": {
        "barmode": "group",
        "height": 540,
        "legend": {
         "orientation": "h",
         "x": 0.5,
         "xanchor": "center",
         "y": -0.2,
         "yanchor": "top"
        },
        "template": {
         "data": {
          "bar": [
           {
            "error_x": {
             "color": "#2a3f5f"
            },
            "error_y": {
             "color": "#2a3f5f"
            },
            "marker": {
             "line": {
              "color": "#E5ECF6",
              "width": 0.5
             },
             "pattern": {
              "fillmode": "overlay",
              "size": 10,
              "solidity": 0.2
             }
            },
            "type": "bar"
           }
          ],
          "barpolar": [
           {
            "marker": {
             "line": {
              "color": "#E5ECF6",
              "width": 0.5
             },
             "pattern": {
              "fillmode": "overlay",
              "size": 10,
              "solidity": 0.2
             }
            },
            "type": "barpolar"
           }
          ],
          "carpet": [
           {
            "aaxis": {
             "endlinecolor": "#2a3f5f",
             "gridcolor": "white",
             "linecolor": "white",
             "minorgridcolor": "white",
             "startlinecolor": "#2a3f5f"
            },
            "baxis": {
             "endlinecolor": "#2a3f5f",
             "gridcolor": "white",
             "linecolor": "white",
             "minorgridcolor": "white",
             "startlinecolor": "#2a3f5f"
            },
            "type": "carpet"
           }
          ],
          "choropleth": [
           {
            "colorbar": {
             "outlinewidth": 0,
             "ticks": ""
            },
            "type": "choropleth"
           }
          ],
          "contour": [
           {
            "colorbar": {
             "outlinewidth": 0,
             "ticks": ""
            },
            "colorscale": [
             [
              0,
              "#0d0887"
             ],
             [
              0.1111111111111111,
              "#46039f"
             ],
             [
              0.2222222222222222,
              "#7201a8"
             ],
             [
              0.3333333333333333,
              "#9c179e"
             ],
             [
              0.4444444444444444,
              "#bd3786"
             ],
             [
              0.5555555555555556,
              "#d8576b"
             ],
             [
              0.6666666666666666,
              "#ed7953"
             ],
             [
              0.7777777777777778,
              "#fb9f3a"
             ],
             [
              0.8888888888888888,
              "#fdca26"
             ],
             [
              1,
              "#f0f921"
             ]
            ],
            "type": "contour"
           }
          ],
          "contourcarpet": [
           {
            "colorbar": {
             "outlinewidth": 0,
             "ticks": ""
            },
            "type": "contourcarpet"
           }
          ],
          "heatmap": [
           {
            "colorbar": {
             "outlinewidth": 0,
             "ticks": ""
            },
            "colorscale": [
             [
              0,
              "#0d0887"
             ],
             [
              0.1111111111111111,
              "#46039f"
             ],
             [
              0.2222222222222222,
              "#7201a8"
             ],
             [
              0.3333333333333333,
              "#9c179e"
             ],
             [
              0.4444444444444444,
              "#bd3786"
             ],
             [
              0.5555555555555556,
              "#d8576b"
             ],
             [
              0.6666666666666666,
              "#ed7953"
             ],
             [
              0.7777777777777778,
              "#fb9f3a"
             ],
             [
              0.8888888888888888,
              "#fdca26"
             ],
             [
              1,
              "#f0f921"
             ]
            ],
            "type": "heatmap"
           }
          ],
          "heatmapgl": [
           {
            "colorbar": {
             "outlinewidth": 0,
             "ticks": ""
            },
            "colorscale": [
             [
              0,
              "#0d0887"
             ],
             [
              0.1111111111111111,
              "#46039f"
             ],
             [
              0.2222222222222222,
              "#7201a8"
             ],
             [
              0.3333333333333333,
              "#9c179e"
             ],
             [
              0.4444444444444444,
              "#bd3786"
             ],
             [
              0.5555555555555556,
              "#d8576b"
             ],
             [
              0.6666666666666666,
              "#ed7953"
             ],
             [
              0.7777777777777778,
              "#fb9f3a"
             ],
             [
              0.8888888888888888,
              "#fdca26"
             ],
             [
              1,
              "#f0f921"
             ]
            ],
            "type": "heatmapgl"
           }
          ],
          "histogram": [
           {
            "marker": {
             "pattern": {
              "fillmode": "overlay",
              "size": 10,
              "solidity": 0.2
             }
            },
            "type": "histogram"
           }
          ],
          "histogram2d": [
           {
            "colorbar": {
             "outlinewidth": 0,
             "ticks": ""
            },
            "colorscale": [
             [
              0,
              "#0d0887"
             ],
             [
              0.1111111111111111,
              "#46039f"
             ],
             [
              0.2222222222222222,
              "#7201a8"
             ],
             [
              0.3333333333333333,
              "#9c179e"
             ],
             [
              0.4444444444444444,
              "#bd3786"
             ],
             [
              0.5555555555555556,
              "#d8576b"
             ],
             [
              0.6666666666666666,
              "#ed7953"
             ],
             [
              0.7777777777777778,
              "#fb9f3a"
             ],
             [
              0.8888888888888888,
              "#fdca26"
             ],
             [
              1,
              "#f0f921"
             ]
            ],
            "type": "histogram2d"
           }
          ],
          "histogram2dcontour": [
           {
            "colorbar": {
             "outlinewidth": 0,
             "ticks": ""
            },
            "colorscale": [
             [
              0,
              "#0d0887"
             ],
             [
              0.1111111111111111,
              "#46039f"
             ],
             [
              0.2222222222222222,
              "#7201a8"
             ],
             [
              0.3333333333333333,
              "#9c179e"
             ],
             [
              0.4444444444444444,
              "#bd3786"
             ],
             [
              0.5555555555555556,
              "#d8576b"
             ],
             [
              0.6666666666666666,
              "#ed7953"
             ],
             [
              0.7777777777777778,
              "#fb9f3a"
             ],
             [
              0.8888888888888888,
              "#fdca26"
             ],
             [
              1,
              "#f0f921"
             ]
            ],
            "type": "histogram2dcontour"
           }
          ],
          "mesh3d": [
           {
            "colorbar": {
             "outlinewidth": 0,
             "ticks": ""
            },
            "type": "mesh3d"
           }
          ],
          "parcoords": [
           {
            "line": {
             "colorbar": {
              "outlinewidth": 0,
              "ticks": ""
             }
            },
            "type": "parcoords"
           }
          ],
          "pie": [
           {
            "automargin": true,
            "type": "pie"
           }
          ],
          "scatter": [
           {
            "fillpattern": {
             "fillmode": "overlay",
             "size": 10,
             "solidity": 0.2
            },
            "type": "scatter"
           }
          ],
          "scatter3d": [
           {
            "line": {
             "colorbar": {
              "outlinewidth": 0,
              "ticks": ""
             }
            },
            "marker": {
             "colorbar": {
              "outlinewidth": 0,
              "ticks": ""
             }
            },
            "type": "scatter3d"
           }
          ],
          "scattercarpet": [
           {
            "marker": {
             "colorbar": {
              "outlinewidth": 0,
              "ticks": ""
             }
            },
            "type": "scattercarpet"
           }
          ],
          "scattergeo": [
           {
            "marker": {
             "colorbar": {
              "outlinewidth": 0,
              "ticks": ""
             }
            },
            "type": "scattergeo"
           }
          ],
          "scattergl": [
           {
            "marker": {
             "colorbar": {
              "outlinewidth": 0,
              "ticks": ""
             }
            },
            "type": "scattergl"
           }
          ],
          "scattermapbox": [
           {
            "marker": {
             "colorbar": {
              "outlinewidth": 0,
              "ticks": ""
             }
            },
            "type": "scattermapbox"
           }
          ],
          "scatterpolar": [
           {
            "marker": {
             "colorbar": {
              "outlinewidth": 0,
              "ticks": ""
             }
            },
            "type": "scatterpolar"
           }
          ],
          "scatterpolargl": [
           {
            "marker": {
             "colorbar": {
              "outlinewidth": 0,
              "ticks": ""
             }
            },
            "type": "scatterpolargl"
           }
          ],
          "scatterternary": [
           {
            "marker": {
             "colorbar": {
              "outlinewidth": 0,
              "ticks": ""
             }
            },
            "type": "scatterternary"
           }
          ],
          "surface": [
           {
            "colorbar": {
             "outlinewidth": 0,
             "ticks": ""
            },
            "colorscale": [
             [
              0,
              "#0d0887"
             ],
             [
              0.1111111111111111,
              "#46039f"
             ],
             [
              0.2222222222222222,
              "#7201a8"
             ],
             [
              0.3333333333333333,
              "#9c179e"
             ],
             [
              0.4444444444444444,
              "#bd3786"
             ],
             [
              0.5555555555555556,
              "#d8576b"
             ],
             [
              0.6666666666666666,
              "#ed7953"
             ],
             [
              0.7777777777777778,
              "#fb9f3a"
             ],
             [
              0.8888888888888888,
              "#fdca26"
             ],
             [
              1,
              "#f0f921"
             ]
            ],
            "type": "surface"
           }
          ],
          "table": [
           {
            "cells": {
             "fill": {
              "color": "#EBF0F8"
             },
             "line": {
              "color": "white"
             }
            },
            "header": {
             "fill": {
              "color": "#C8D4E3"
             },
             "line": {
              "color": "white"
             }
            },
            "type": "table"
           }
          ]
         },
         "layout": {
          "annotationdefaults": {
           "arrowcolor": "#2a3f5f",
           "arrowhead": 0,
           "arrowwidth": 1
          },
          "autotypenumbers": "strict",
          "coloraxis": {
           "colorbar": {
            "outlinewidth": 0,
            "ticks": ""
           }
          },
          "colorscale": {
           "diverging": [
            [
             0,
             "#8e0152"
            ],
            [
             0.1,
             "#c51b7d"
            ],
            [
             0.2,
             "#de77ae"
            ],
            [
             0.3,
             "#f1b6da"
            ],
            [
             0.4,
             "#fde0ef"
            ],
            [
             0.5,
             "#f7f7f7"
            ],
            [
             0.6,
             "#e6f5d0"
            ],
            [
             0.7,
             "#b8e186"
            ],
            [
             0.8,
             "#7fbc41"
            ],
            [
             0.9,
             "#4d9221"
            ],
            [
             1,
             "#276419"
            ]
           ],
           "sequential": [
            [
             0,
             "#0d0887"
            ],
            [
             0.1111111111111111,
             "#46039f"
            ],
            [
             0.2222222222222222,
             "#7201a8"
            ],
            [
             0.3333333333333333,
             "#9c179e"
            ],
            [
             0.4444444444444444,
             "#bd3786"
            ],
            [
             0.5555555555555556,
             "#d8576b"
            ],
            [
             0.6666666666666666,
             "#ed7953"
            ],
            [
             0.7777777777777778,
             "#fb9f3a"
            ],
            [
             0.8888888888888888,
             "#fdca26"
            ],
            [
             1,
             "#f0f921"
            ]
           ],
           "sequentialminus": [
            [
             0,
             "#0d0887"
            ],
            [
             0.1111111111111111,
             "#46039f"
            ],
            [
             0.2222222222222222,
             "#7201a8"
            ],
            [
             0.3333333333333333,
             "#9c179e"
            ],
            [
             0.4444444444444444,
             "#bd3786"
            ],
            [
             0.5555555555555556,
             "#d8576b"
            ],
            [
             0.6666666666666666,
             "#ed7953"
            ],
            [
             0.7777777777777778,
             "#fb9f3a"
            ],
            [
             0.8888888888888888,
             "#fdca26"
            ],
            [
             1,
             "#f0f921"
            ]
           ]
          },
          "colorway": [
           "#636efa",
           "#EF553B",
           "#00cc96",
           "#ab63fa",
           "#FFA15A",
           "#19d3f3",
           "#FF6692",
           "#B6E880",
           "#FF97FF",
           "#FECB52"
          ],
          "font": {
           "color": "#2a3f5f"
          },
          "geo": {
           "bgcolor": "white",
           "lakecolor": "white",
           "landcolor": "#E5ECF6",
           "showlakes": true,
           "showland": true,
           "subunitcolor": "white"
          },
          "hoverlabel": {
           "align": "left"
          },
          "hovermode": "closest",
          "mapbox": {
           "style": "light"
          },
          "paper_bgcolor": "white",
          "plot_bgcolor": "#E5ECF6",
          "polar": {
           "angularaxis": {
            "gridcolor": "white",
            "linecolor": "white",
            "ticks": ""
           },
           "bgcolor": "#E5ECF6",
           "radialaxis": {
            "gridcolor": "white",
            "linecolor": "white",
            "ticks": ""
           }
          },
          "scene": {
           "xaxis": {
            "backgroundcolor": "#E5ECF6",
            "gridcolor": "white",
            "gridwidth": 2,
            "linecolor": "white",
            "showbackground": true,
            "ticks": "",
            "zerolinecolor": "white"
           },
           "yaxis": {
            "backgroundcolor": "#E5ECF6",
            "gridcolor": "white",
            "gridwidth": 2,
            "linecolor": "white",
            "showbackground": true,
            "ticks": "",
            "zerolinecolor": "white"
           },
           "zaxis": {
            "backgroundcolor": "#E5ECF6",
            "gridcolor": "white",
            "gridwidth": 2,
            "linecolor": "white",
            "showbackground": true,
            "ticks": "",
            "zerolinecolor": "white"
           }
          },
          "shapedefaults": {
           "line": {
            "color": "#2a3f5f"
           }
          },
          "ternary": {
           "aaxis": {
            "gridcolor": "white",
            "linecolor": "white",
            "ticks": ""
           },
           "baxis": {
            "gridcolor": "white",
            "linecolor": "white",
            "ticks": ""
           },
           "bgcolor": "#E5ECF6",
           "caxis": {
            "gridcolor": "white",
            "linecolor": "white",
            "ticks": ""
           }
          },
          "title": {
           "x": 0.05
          },
          "xaxis": {
           "automargin": true,
           "gridcolor": "white",
           "linecolor": "white",
           "ticks": "",
           "title": {
            "standoff": 15
           },
           "zerolinecolor": "white",
           "zerolinewidth": 2
          },
          "yaxis": {
           "automargin": true,
           "gridcolor": "white",
           "linecolor": "white",
           "ticks": "",
           "title": {
            "standoff": 15
           },
           "zerolinecolor": "white",
           "zerolinewidth": 2
          }
         }
        },
        "title": {
         "text": "Sentence Sturcture Ratios",
         "x": 0.5
        },
        "width": 1920,
        "xaxis": {
         "anchor": "y",
         "domain": [
          0,
          0.2125
         ],
         "title": {
          "text": "sentence_structure_simple_ratio"
         }
        },
        "xaxis2": {
         "anchor": "y2",
         "domain": [
          0.2625,
          0.475
         ],
         "title": {
          "text": "sentence_structure_compound_ratio"
         }
        },
        "xaxis3": {
         "anchor": "y3",
         "domain": [
          0.525,
          0.7375
         ],
         "title": {
          "text": "sentence_structure_complex_ratio"
         }
        },
        "xaxis4": {
         "anchor": "y4",
         "domain": [
          0.7875,
          1
         ],
         "title": {
          "text": "sentence_structure_complexCompound_ratio"
         }
        },
        "yaxis": {
         "anchor": "x",
         "domain": [
          0,
          1
         ],
         "title": {
          "text": "Score"
         }
        },
        "yaxis2": {
         "anchor": "x2",
         "domain": [
          0,
          1
         ],
         "title": {
          "text": "Score"
         }
        },
        "yaxis3": {
         "anchor": "x3",
         "domain": [
          0,
          1
         ],
         "title": {
          "text": "Score"
         }
        },
        "yaxis4": {
         "anchor": "x4",
         "domain": [
          0,
          1
         ],
         "title": {
          "text": "Score"
         }
        }
       }
      }
     },
     "metadata": {},
     "output_type": "display_data"
    }
   ],
   "source": [
    "fig = make_subplots(rows=1, cols=4)\n",
    "\n",
    "plot(fig, \"sentence_structure_simple_ratio\", 1, 1)\n",
    "plot(fig, \"sentence_structure_compound_ratio\", 1, 2)\n",
    "plot(fig, \"sentence_structure_complex_ratio\", 1, 3)\n",
    "plot(fig, \"sentence_structure_complexCompound_ratio\", 1, 4)\n",
    "\n",
    "fig.update_layout(\n",
    "    height=1080 // 2,\n",
    "    width=1920,\n",
    "    title_x=0.5,\n",
    "    title_text=\"Sentence Sturcture Ratios\",\n",
    "    legend=dict(orientation=\"h\", yanchor=\"top\", xanchor=\"center\", y=-0.2, x=0.5),\n",
    "    barmode=\"group\",\n",
    ")\n",
    "\n",
    "fig.show()"
   ]
  },
  {
   "cell_type": "markdown",
   "metadata": {},
   "source": [
    "Seems useful."
   ]
  },
  {
   "cell_type": "markdown",
   "metadata": {},
   "source": [
    "## Sentence Length"
   ]
  },
  {
   "cell_type": "code",
   "execution_count": 34,
   "metadata": {},
   "outputs": [
    {
     "data": {
      "application/vnd.plotly.v1+json": {
       "config": {
        "plotlyServerURL": "https://plot.ly"
       },
       "data": [
        {
         "legendgroup": "1",
         "marker": {
          "color": "blue"
         },
         "name": "1",
         "showlegend": false,
         "type": "box",
         "x": [
          1422,
          2637,
          1053,
          1203,
          1503,
          1102,
          938,
          1861,
          1108,
          2970,
          2755,
          2087,
          945,
          1315,
          835,
          2342,
          1915,
          3324,
          944,
          1889,
          968,
          2854,
          883,
          1624,
          1051,
          1483,
          1514,
          2576,
          931,
          1410,
          762,
          1144,
          1372,
          1261,
          911
         ],
         "xaxis": "x",
         "yaxis": "y"
        },
        {
         "legendgroup": "2",
         "marker": {
          "color": "red"
         },
         "name": "2",
         "showlegend": false,
         "type": "box",
         "x": [
          1023,
          1840,
          896,
          1079,
          1197,
          825,
          1100,
          1217,
          1433,
          1595,
          1004,
          1071,
          1566,
          1376,
          925,
          850,
          1246,
          1110,
          900,
          829,
          1445,
          1429,
          1104,
          954,
          1534,
          1529,
          2813,
          1272,
          1035,
          1352,
          933,
          1407,
          1003,
          1842,
          958,
          1610,
          1390,
          1014,
          1459,
          1126,
          1833,
          3765,
          1580,
          1055,
          1386,
          1330,
          1479,
          1751,
          1675,
          1149,
          3454,
          1130,
          1010,
          1082,
          1146,
          2717,
          1392,
          1542,
          931,
          2703,
          1313,
          1278,
          2069,
          1366,
          1712,
          1404,
          2069,
          1340,
          1492,
          1384,
          892,
          1510,
          911,
          1109,
          1856,
          1028,
          1508,
          1276,
          1114,
          1059,
          1345,
          1318,
          2874,
          1181,
          1023,
          1175,
          1142,
          1693,
          1272,
          1037,
          1431,
          1062,
          847,
          2078,
          1066,
          1096,
          1302,
          1016,
          954,
          1440,
          1591,
          1074,
          1011,
          855,
          1088,
          1146,
          1003,
          1542,
          2070,
          2288,
          861,
          2736,
          1522,
          1504,
          1674,
          1088,
          1458,
          1119,
          1882,
          957,
          883,
          1354,
          1336,
          1042,
          2093,
          1792,
          1042,
          2022,
          786
         ],
         "xaxis": "x",
         "yaxis": "y"
        },
        {
         "legendgroup": "3",
         "marker": {
          "color": "green"
         },
         "name": "3",
         "showlegend": false,
         "type": "box",
         "x": [
          2628,
          1643,
          2171,
          1940,
          1482,
          2101,
          1586,
          1716,
          1851,
          1448,
          1627,
          1805,
          1655,
          1520,
          1981,
          1813,
          2348,
          2105,
          1073,
          2234,
          2989,
          1838,
          1699,
          1560,
          1680,
          2300,
          2108,
          2242,
          2865,
          2098,
          2363,
          1388,
          1535,
          1842,
          2298,
          3232,
          1343,
          2079,
          2190,
          1677,
          1980,
          1893,
          1598,
          2431,
          1672,
          1163,
          2008,
          1553,
          3043,
          2899,
          2220,
          1113,
          2276,
          1850,
          1810,
          1976,
          1475,
          2858,
          1722,
          1627,
          1288,
          2227,
          2490,
          2171,
          1246,
          1236,
          2070,
          1664,
          1595,
          1721,
          1478,
          1508,
          2046,
          1388,
          2987,
          1350,
          3452,
          1496,
          1902,
          1497,
          2196,
          2494,
          2203,
          1803,
          2487,
          2023,
          1657,
          1856,
          2058,
          2621,
          2132,
          2036,
          1880,
          1437,
          1758,
          1727,
          1170,
          2923,
          1420,
          1745,
          2311,
          2387,
          1911,
          1136,
          2781,
          2418,
          2097,
          1638,
          1566,
          938,
          2452,
          1757,
          1340,
          2574,
          1885,
          1306,
          2148,
          1834,
          1938,
          2151,
          2167,
          2552,
          1272,
          2073,
          1641,
          1126,
          2585,
          1414,
          1629,
          2154,
          1618,
          1466,
          2226,
          2676,
          2274,
          1232,
          1649,
          1323,
          1456,
          1164,
          1823,
          2616,
          3246,
          2402,
          1097,
          2112,
          2483,
          1690,
          2088,
          1665,
          1485,
          1571,
          1644,
          2151,
          1754,
          1526,
          1246,
          2606,
          1839,
          1530,
          1580,
          2270,
          2175,
          1404,
          2576,
          2836,
          1675,
          1297,
          2949,
          1401,
          2251,
          1414,
          3378,
          1757,
          1738,
          2093,
          1615,
          1325,
          2679,
          1439,
          1694,
          1659,
          1428,
          2633,
          1092,
          3176,
          2470,
          2114,
          2336,
          1691,
          1338,
          1812,
          1258,
          1409,
          3048,
          2122,
          1882
         ],
         "xaxis": "x",
         "yaxis": "y"
        },
        {
         "legendgroup": "4",
         "marker": {
          "color": "purple"
         },
         "name": "4",
         "showlegend": false,
         "type": "box",
         "x": [
          3042,
          2655,
          2317,
          3240,
          2286,
          2543,
          2266,
          3296,
          1373,
          2218,
          2273,
          2824,
          2007,
          3685,
          1670,
          2730,
          3177,
          3253,
          3304,
          3210,
          2737,
          2222,
          2813,
          3448,
          2333,
          1814,
          4392,
          1960,
          2900,
          3040,
          3397,
          2084,
          2197,
          3547,
          2153,
          2392,
          2023,
          2800,
          2865,
          2743,
          2631,
          1812,
          2137,
          3578,
          2482,
          3290,
          3164,
          2164,
          2893,
          3471,
          2779,
          2041,
          1636,
          3159,
          2188,
          2291,
          3117,
          2453,
          2736,
          2467,
          2526,
          2270,
          3200,
          2716,
          3220,
          3009,
          3644,
          2393,
          2212,
          2724,
          2054,
          2596,
          3793,
          3234,
          1960,
          2265,
          2543,
          1948,
          2860,
          1954,
          2333,
          2714,
          2994,
          2677,
          4245,
          2455,
          3004,
          2519,
          2914,
          3301,
          2490,
          2695,
          2474,
          2703,
          3387,
          1944,
          2289,
          2593,
          2998,
          2724,
          4278,
          2158,
          1948,
          2922,
          1846,
          1945,
          2252,
          1848,
          2257,
          2558,
          3945,
          2457,
          2344,
          2289,
          3473,
          2231,
          2309,
          2811,
          2641,
          3120
         ],
         "xaxis": "x",
         "yaxis": "y"
        },
        {
         "legendgroup": "5",
         "marker": {
          "color": "orange"
         },
         "name": "5",
         "showlegend": false,
         "type": "box",
         "x": [
          3548,
          2867,
          4298,
          3108,
          2499,
          3276,
          2554,
          3962,
          3096,
          4159,
          4112,
          3556,
          2908,
          2909,
          2838
         ],
         "xaxis": "x",
         "yaxis": "y"
        },
        {
         "legendgroup": "6",
         "marker": {
          "color": "pink"
         },
         "name": "6",
         "showlegend": false,
         "type": "box",
         "x": [
          5921,
          5440,
          4743,
          3446
         ],
         "xaxis": "x",
         "yaxis": "y"
        },
        {
         "legendgroup": "1",
         "marker": {
          "color": "blue"
         },
         "name": "1",
         "showlegend": false,
         "type": "box",
         "x": [
          320,
          248,
          176,
          228,
          176,
          216,
          251,
          226,
          650,
          226,
          277,
          585,
          434,
          249,
          101,
          88,
          1915,
          178,
          275,
          373,
          216,
          219,
          163,
          216,
          164,
          338,
          299,
          224,
          264,
          389,
          295,
          219,
          358,
          191,
          214
         ],
         "xaxis": "x2",
         "yaxis": "y2"
        },
        {
         "legendgroup": "2",
         "marker": {
          "color": "red"
         },
         "name": "2",
         "showlegend": false,
         "type": "box",
         "x": [
          240,
          239,
          149,
          223,
          282,
          111,
          400,
          276,
          199,
          158,
          256,
          328,
          126,
          253,
          244,
          327,
          151,
          413,
          125,
          383,
          156,
          211,
          396,
          262,
          126,
          521,
          278,
          277,
          219,
          212,
          104,
          164,
          140,
          246,
          216,
          165,
          185,
          285,
          170,
          149,
          161,
          691,
          175,
          226,
          198,
          222,
          247,
          252,
          371,
          413,
          260,
          246,
          166,
          168,
          152,
          166,
          135,
          229,
          117,
          185,
          114,
          282,
          274,
          107,
          166,
          186,
          282,
          351,
          243,
          205,
          268,
          265,
          327,
          166,
          329,
          269,
          143,
          161,
          380,
          155,
          242,
          309,
          281,
          267,
          113,
          161,
          148,
          375,
          153,
          523,
          154,
          187,
          174,
          143,
          175,
          198,
          264,
          111,
          171,
          193,
          209,
          112,
          136,
          170,
          161,
          267,
          118,
          232,
          226,
          217,
          192,
          300,
          325,
          125,
          168,
          181,
          181,
          251,
          314,
          123,
          241,
          183,
          261,
          137,
          187,
          683,
          301,
          732,
          124
         ],
         "xaxis": "x2",
         "yaxis": "y2"
        },
        {
         "legendgroup": "3",
         "marker": {
          "color": "green"
         },
         "name": "3",
         "showlegend": false,
         "type": "box",
         "x": [
          593,
          250,
          441,
          176,
          161,
          255,
          258,
          169,
          166,
          212,
          129,
          148,
          132,
          354,
          216,
          180,
          239,
          275,
          345,
          351,
          249,
          191,
          208,
          237,
          252,
          242,
          174,
          161,
          178,
          115,
          251,
          346,
          163,
          210,
          427,
          220,
          178,
          192,
          239,
          195,
          270,
          297,
          114,
          212,
          230,
          169,
          206,
          147,
          233,
          259,
          173,
          104,
          228,
          411,
          209,
          109,
          223,
          483,
          169,
          210,
          142,
          212,
          267,
          251,
          210,
          137,
          210,
          110,
          103,
          189,
          154,
          156,
          291,
          375,
          233,
          466,
          231,
          140,
          230,
          166,
          167,
          271,
          201,
          164,
          153,
          339,
          181,
          328,
          177,
          240,
          123,
          309,
          225,
          245,
          266,
          233,
          115,
          200,
          195,
          228,
          194,
          220,
          270,
          176,
          252,
          362,
          200,
          236,
          229,
          196,
          271,
          171,
          198,
          214,
          314,
          195,
          211,
          139,
          179,
          246,
          301,
          227,
          294,
          265,
          275,
          99,
          226,
          132,
          136,
          306,
          178,
          279,
          178,
          327,
          679,
          151,
          244,
          190,
          137,
          144,
          221,
          213,
          182,
          170,
          109,
          322,
          313,
          244,
          199,
          131,
          136,
          198,
          266,
          168,
          143,
          157,
          137,
          248,
          172,
          215,
          240,
          188,
          167,
          202,
          230,
          290,
          132,
          97,
          207,
          201,
          204,
          195,
          175,
          191,
          148,
          187,
          196,
          145,
          253,
          272,
          167,
          162,
          222,
          149,
          121,
          239,
          335,
          177,
          319,
          299,
          177,
          182,
          165,
          205,
          260,
          520,
          235
         ],
         "xaxis": "x2",
         "yaxis": "y2"
        },
        {
         "legendgroup": "4",
         "marker": {
          "color": "purple"
         },
         "name": "4",
         "showlegend": false,
         "type": "box",
         "x": [
          237,
          281,
          158,
          190,
          156,
          210,
          183,
          350,
          222,
          210,
          183,
          199,
          343,
          347,
          287,
          185,
          240,
          224,
          298,
          242,
          203,
          309,
          175,
          245,
          172,
          232,
          378,
          384,
          345,
          234,
          204,
          161,
          284,
          195,
          205,
          136,
          151,
          275,
          168,
          180,
          219,
          227,
          226,
          228,
          277,
          228,
          229,
          164,
          223,
          306,
          226,
          139,
          127,
          282,
          123,
          208,
          190,
          195,
          424,
          198,
          177,
          216,
          433,
          216,
          223,
          179,
          164,
          183,
          161,
          196,
          126,
          186,
          253,
          226,
          121,
          344,
          354,
          316,
          215,
          336,
          179,
          225,
          224,
          243,
          322,
          161,
          333,
          257,
          155,
          274,
          190,
          143,
          145,
          202,
          226,
          227,
          302,
          145,
          208,
          139,
          268,
          453,
          183,
          187,
          145,
          185,
          227,
          145,
          152,
          345,
          272,
          238,
          219,
          242,
          338,
          307,
          137,
          214,
          190,
          329
         ],
         "xaxis": "x2",
         "yaxis": "y2"
        },
        {
         "legendgroup": "5",
         "marker": {
          "color": "orange"
         },
         "name": "5",
         "showlegend": false,
         "type": "box",
         "x": [
          208,
          310,
          335,
          255,
          177,
          167,
          198,
          265,
          234,
          300,
          378,
          248,
          175,
          247,
          190
         ],
         "xaxis": "x2",
         "yaxis": "y2"
        },
        {
         "legendgroup": "6",
         "marker": {
          "color": "pink"
         },
         "name": "6",
         "showlegend": false,
         "type": "box",
         "x": [
          358,
          300,
          259,
          249
         ],
         "xaxis": "x2",
         "yaxis": "y2"
        },
        {
         "legendgroup": "1",
         "marker": {
          "color": "blue"
         },
         "name": "1",
         "showlegend": false,
         "type": "box",
         "x": [
          157,
          45,
          50,
          104,
          33,
          26,
          22,
          41,
          202,
          11,
          22,
          106,
          215,
          69,
          43,
          10,
          1915,
          24,
          1,
          35,
          44,
          31,
          52,
          1,
          56,
          33,
          60,
          44,
          106,
          20,
          45,
          43,
          21,
          62,
          108
         ],
         "xaxis": "x3",
         "yaxis": "y3"
        },
        {
         "legendgroup": "2",
         "marker": {
          "color": "red"
         },
         "name": "2",
         "showlegend": false,
         "type": "box",
         "x": [
          90,
          54,
          45,
          54,
          28,
          58,
          84,
          39,
          38,
          6,
          68,
          132,
          39,
          53,
          47,
          22,
          29,
          63,
          37,
          141,
          42,
          35,
          190,
          47,
          25,
          180,
          40,
          58,
          33,
          34,
          14,
          17,
          30,
          7,
          51,
          22,
          1,
          75,
          24,
          40,
          50,
          22,
          69,
          41,
          34,
          32,
          52,
          31,
          21,
          137,
          4,
          105,
          88,
          93,
          48,
          12,
          29,
          64,
          28,
          47,
          34,
          4,
          77,
          24,
          35,
          62,
          24,
          64,
          41,
          62,
          53,
          57,
          94,
          44,
          36,
          4,
          21,
          20,
          67,
          32,
          69,
          43,
          54,
          24,
          40,
          41,
          23,
          81,
          35,
          514,
          63,
          72,
          57,
          28,
          37,
          65,
          26,
          16,
          47,
          46,
          39,
          34,
          71,
          42,
          37,
          1,
          8,
          44,
          51,
          25,
          34,
          22,
          84,
          18,
          26,
          61,
          42,
          22,
          70,
          35,
          87,
          14,
          41,
          1,
          77,
          64,
          39,
          138,
          21
         ],
         "xaxis": "x3",
         "yaxis": "y3"
        },
        {
         "legendgroup": "3",
         "marker": {
          "color": "green"
         },
         "name": "3",
         "showlegend": false,
         "type": "box",
         "x": [
          37,
          8,
          17,
          28,
          19,
          24,
          14,
          10,
          33,
          54,
          8,
          25,
          26,
          36,
          15,
          49,
          64,
          77,
          37,
          110,
          32,
          44,
          40,
          25,
          83,
          46,
          39,
          65,
          18,
          38,
          34,
          17,
          33,
          57,
          80,
          39,
          34,
          35,
          24,
          50,
          49,
          61,
          18,
          44,
          39,
          21,
          42,
          36,
          15,
          61,
          17,
          5,
          59,
          94,
          23,
          7,
          21,
          86,
          8,
          8,
          11,
          19,
          32,
          51,
          73,
          61,
          21,
          7,
          24,
          47,
          38,
          48,
          37,
          60,
          18,
          49,
          38,
          25,
          30,
          42,
          32,
          31,
          58,
          50,
          37,
          14,
          35,
          39,
          34,
          19,
          36,
          66,
          19,
          72,
          46,
          21,
          29,
          52,
          60,
          52,
          3,
          50,
          26,
          53,
          55,
          10,
          36,
          50,
          63,
          8,
          1,
          37,
          49,
          4,
          3,
          51,
          30,
          31,
          11,
          25,
          40,
          13,
          65,
          66,
          40,
          18,
          2,
          17,
          26,
          20,
          46,
          34,
          10,
          21,
          193,
          30,
          26,
          63,
          16,
          45,
          52,
          38,
          23,
          49,
          47,
          23,
          29,
          57,
          38,
          35,
          30,
          51,
          39,
          1,
          18,
          30,
          45,
          30,
          32,
          56,
          13,
          39,
          44,
          5,
          33,
          27,
          31,
          46,
          59,
          78,
          8,
          72,
          19,
          35,
          47,
          54,
          23,
          23,
          34,
          9,
          27,
          50,
          41,
          13,
          34,
          52,
          50,
          50,
          12,
          46,
          15,
          21,
          24,
          23,
          39,
          34,
          38
         ],
         "xaxis": "x3",
         "yaxis": "y3"
        },
        {
         "legendgroup": "4",
         "marker": {
          "color": "purple"
         },
         "name": "4",
         "showlegend": false,
         "type": "box",
         "x": [
          58,
          25,
          27,
          40,
          14,
          1,
          33,
          48,
          49,
          48,
          32,
          50,
          35,
          78,
          25,
          37,
          30,
          36,
          49,
          4,
          36,
          32,
          27,
          12,
          40,
          14,
          29,
          39,
          81,
          78,
          16,
          23,
          37,
          27,
          49,
          39,
          9,
          41,
          51,
          29,
          51,
          1,
          18,
          17,
          37,
          26,
          46,
          49,
          33,
          19,
          49,
          4,
          47,
          4,
          15,
          13,
          31,
          26,
          2,
          35,
          32,
          18,
          22,
          46,
          43,
          16,
          33,
          45,
          30,
          36,
          28,
          43,
          39,
          59,
          39,
          38,
          58,
          48,
          27,
          3,
          34,
          16,
          22,
          27,
          37,
          64,
          62,
          24,
          28,
          38,
          11,
          39,
          24,
          40,
          45,
          70,
          43,
          34,
          38,
          39,
          44,
          74,
          55,
          24,
          43,
          44,
          24,
          49,
          54,
          57,
          53,
          30,
          67,
          58,
          34,
          27,
          19,
          6,
          41,
          45
         ],
         "xaxis": "x3",
         "yaxis": "y3"
        },
        {
         "legendgroup": "5",
         "marker": {
          "color": "orange"
         },
         "name": "5",
         "showlegend": false,
         "type": "box",
         "x": [
          8,
          48,
          5,
          24,
          25,
          20,
          51,
          7,
          10,
          20,
          27,
          40,
          30,
          9,
          6
         ],
         "xaxis": "x3",
         "yaxis": "y3"
        },
        {
         "legendgroup": "6",
         "marker": {
          "color": "pink"
         },
         "name": "6",
         "showlegend": false,
         "type": "box",
         "x": [
          9,
          48,
          17,
          46
         ],
         "xaxis": "x3",
         "yaxis": "y3"
        },
        {
         "legendgroup": "1",
         "marker": {
          "color": "blue"
         },
         "name": "1",
         "showlegend": false,
         "type": "box",
         "x": [
          237,
          138.78947368421052,
          87.75,
          171.85714285714286,
          93.9375,
          110.2,
          93.8,
          80.91304347826087,
          369.3333333333333,
          80.27027027027027,
          119.78260869565217,
          347.8333333333333,
          315,
          146.11111111111111,
          59.642857142857146,
          40.37931034482759,
          1915,
          97.76470588235294,
          118,
          134.92857142857142,
          107.55555555555556,
          109.76923076923077,
          98.11111111111111,
          81.2,
          87.58333333333333,
          164.77777777777777,
          126.16666666666667,
          128.8,
          186.2,
          108.46153846153847,
          152.4,
          95.33333333333333,
          171.5,
          126.1,
          151.83333333333334
         ],
         "xaxis": "x4",
         "yaxis": "y4"
        },
        {
         "legendgroup": "2",
         "marker": {
          "color": "red"
         },
         "name": "2",
         "showlegend": false,
         "type": "box",
         "x": [
          146.14285714285714,
          102.22222222222223,
          81.45454545454545,
          119.88888888888889,
          99.75,
          82.5,
          183.33333333333334,
          101.41666666666667,
          119.41666666666667,
          79.75,
          125.5,
          214.2,
          82.42105263157895,
          98.28571428571429,
          115.625,
          141.66666666666666,
          83.06666666666666,
          277.5,
          69.23076923076923,
          276.3333333333333,
          85,
          109.92307692307692,
          276,
          136.28571428571428,
          56.81481481481482,
          305.8,
          122.30434782608695,
          181.71428571428572,
          94.0909090909091,
          112.66666666666667,
          54.88235294117647,
          74.05263157894737,
          62.6875,
          153.5,
          119.75,
          89.44444444444444,
          77.22222222222223,
          126.75,
          81.05555555555556,
          102.36363636363636,
          87.28571428571429,
          198.1578947368421,
          121.53846153846153,
          105.5,
          92.4,
          95,
          92.4375,
          97.27777777777777,
          119.64285714285714,
          229.8,
          119.10344827586206,
          161.42857142857142,
          112.22222222222223,
          120.22222222222223,
          88.15384615384616,
          60.37777777777778,
          92.8,
          128.5,
          77.58333333333333,
          103.96153846153847,
          72.94444444444444,
          159.75,
          172.41666666666666,
          68.3,
          77.81818181818181,
          108,
          121.70588235294117,
          134,
          124.33333333333333,
          125.81818181818181,
          127.42857142857143,
          167.77777777777777,
          227.75,
          100.81818181818181,
          116,
          114.22222222222223,
          94.25,
          75.05882352941177,
          159.14285714285714,
          75.64285714285714,
          168.125,
          131.8,
          124.95652173913044,
          98.41666666666667,
          78.6923076923077,
          97.91666666666667,
          76.13333333333334,
          153.9090909090909,
          79.5,
          518.5,
          102.21428571428571,
          118,
          105.875,
          76.96296296296296,
          82,
          109.6,
          130.2,
          72.57142857142857,
          119.25,
          102.85714285714286,
          93.58823529411765,
          59.666666666666664,
          91.9090909090909,
          85.5,
          90.66666666666667,
          57.3,
          66.86666666666666,
          110.14285714285714,
          115,
          108.95238095238095,
          123,
          101.33333333333333,
          190.25,
          79.15789473684211,
          83.7,
          108.8,
          112.15384615384616,
          93.25,
          156.83333333333334,
          73.61538461538461,
          147.16666666666666,
          84.625,
          111.33333333333333,
          69.46666666666667,
          123.11764705882354,
          298.6666666666667,
          130.25,
          404.4,
          60.46153846153846
         ],
         "xaxis": "x4",
         "yaxis": "y4"
        },
        {
         "legendgroup": "3",
         "marker": {
          "color": "green"
         },
         "name": "3",
         "showlegend": false,
         "type": "box",
         "x": [
          202.15384615384616,
          78.23809523809524,
          144.73333333333332,
          74.61538461538461,
          64.43478260869566,
          110.57894736842105,
          132.16666666666666,
          78,
          84.13636363636364,
          120.66666666666667,
          73.95454545454545,
          82.04545454545455,
          97.3529411764706,
          116.92307692307692,
          73.37037037037037,
          106.6470588235294,
          146.75,
          191.36363636363637,
          134.125,
          223.4,
          90.57575757575758,
          108.11764705882354,
          89.42105263157895,
          130,
          168,
          115,
          81.07692307692308,
          101.9090909090909,
          89.53125,
          69.93333333333334,
          118.15,
          138.8,
          90.29411764705883,
          108.3529411764706,
          176.76923076923077,
          104.25806451612904,
          103.3076923076923,
          83.16,
          115.26315789473684,
          119.78571428571429,
          123.75,
          135.21428571428572,
          55.10344827586207,
          110.5,
          104.5,
          72.6875,
          87.30434782608695,
          81.73684210526316,
          92.21212121212122,
          152.57894736842104,
          79.28571428571429,
          44.52,
          108.38095238095238,
          185,
          78.69565217391305,
          54.888888888888886,
          77.63157894736842,
          158.77777777777777,
          90.63157894736842,
          81.35,
          47.7037037037037,
          101.22727272727273,
          99.6,
          135.6875,
          113.27272727272727,
          95.07692307692308,
          86.25,
          72.34782608695652,
          63.8,
          95.61111111111111,
          92.375,
          88.70588235294117,
          170.5,
          154.22222222222223,
          129.8695652173913,
          135,
          119.03448275862068,
          78.73684210526316,
          111.88235294117646,
          99.8,
          91.5,
          124.7,
          110.15,
          94.89473684210526,
          77.71875,
          134.86666666666667,
          103.5625,
          116,
          85.75,
          119.13636363636364,
          85.28,
          169.66666666666666,
          89.52380952380952,
          130.63636363636363,
          92.52631578947368,
          115.13333333333334,
          65,
          112.42307692307692,
          129.0909090909091,
          124.64285714285714,
          70.03030303030303,
          113.66666666666667,
          112.41176470588235,
          94.66666666666667,
          106.96153846153847,
          120.9,
          87.375,
          109.2,
          142.36363636363637,
          93.8,
          111.45454545454545,
          83.66666666666667,
          103.07692307692308,
          71.5,
          117.8125,
          108.83333333333333,
          85.92,
          83.36363636363636,
          102,
          89.625,
          144.46666666666667,
          88,
          141.33333333333334,
          148.07142857142858,
          149.1818181818182,
          56.3,
          107.70833333333333,
          64.27272727272727,
          81.45,
          93.65217391304348,
          107.86666666666666,
          122.16666666666667,
          85.61538461538461,
          167.25,
          454.8,
          82.13333333333334,
          86.78947368421052,
          120.27272727272727,
          69.33333333333333,
          83.14285714285714,
          121.53333333333333,
          113.73913043478261,
          81.15,
          96.08,
          84.38461538461539,
          132,
          99.32,
          112.66666666666667,
          90.78260869565217,
          75.68181818181819,
          78.15789473684211,
          104.73333333333333,
          96.70588235294117,
          86.04,
          83.52380952380952,
          84.77777777777777,
          89,
          96.51851851851852,
          68.11111111111111,
          117.6923076923077,
          71.81818181818181,
          113.5,
          87,
          100.28571428571429,
          112,
          101.28571428571429,
          72.82608695652173,
          72.05555555555556,
          105.32142857142857,
          127.36363636363636,
          80.39285714285714,
          117.83333333333333,
          82.39024390243902,
          97.61111111111111,
          102.23529411764706,
          99.66666666666667,
          95,
          82.8125,
          99.22222222222223,
          143.9,
          77,
          103.6875,
          102,
          51.627450980392155,
          78,
          109.51724137931035,
          137.22222222222223,
          91.91304347826087,
          116.8,
          112.73333333333333,
          89.2,
          95.36842105263158,
          83.86666666666666,
          93.93333333333334,
          117.23076923076923,
          163.23076923076923,
          104.55555555555556
         ],
         "xaxis": "x4",
         "yaxis": "y4"
        },
        {
         "legendgroup": "4",
         "marker": {
          "color": "purple"
         },
         "name": "4",
         "showlegend": false,
         "type": "box",
         "x": [
          126.75,
          132.75,
          92.68,
          95.29411764705883,
          73.74193548387096,
          110.56521739130434,
          94.41666666666667,
          117.71428571428571,
          124.81818181818181,
          110.9,
          98.82608695652173,
          128.36363636363637,
          143.35714285714286,
          160.2173913043478,
          119.28571428571429,
          113.75,
          117.66666666666667,
          130.12,
          118,
          118.88888888888889,
          105.26923076923077,
          138.875,
          97,
          98.51428571428572,
          86.4074074074074,
          90.7,
          112.61538461538461,
          178.1818181818182,
          170.58823529411765,
          138.1818181818182,
          109.58064516129032,
          83.36,
          129.23529411764707,
          107.48484848484848,
          119.61111111111111,
          77.16129032258064,
          67.43333333333334,
          127.27272727272727,
          106.11111111111111,
          94.58620689655173,
          105.24,
          90.6,
          112.47368421052632,
          96.70270270270271,
          95.46153846153847,
          121.85185185185185,
          113,
          103.04761904761905,
          120.54166666666667,
          128.55555555555554,
          111.16,
          61.84848484848485,
          86.10526315789474,
          126.36,
          62.51428571428571,
          104.13636363636364,
          86.58333333333333,
          94.34615384615384,
          195.42857142857142,
          98.68,
          97.15384615384616,
          103.18181818181819,
          152.38095238095238,
          129.33333333333334,
          103.87096774193549,
          91.18181818181819,
          91.1,
          104.04347826086956,
          81.92592592592592,
          93.93103448275862,
          82.16,
          103.84,
          122.35483870967742,
          119.77777777777777,
          81.66666666666667,
          125.83333333333333,
          169.53333333333333,
          129.86666666666667,
          119.16666666666667,
          97.7,
          86.4074074074074,
          108.56,
          88.05882352941177,
          102.96153846153847,
          151.60714285714286,
          106.73913043478261,
          150.2,
          119.95238095238095,
          83.25714285714285,
          106.48387096774194,
          99.6,
          84.21875,
          79.80645161290323,
          108.12,
          120.96428571428571,
          138.85714285714286,
          114.45,
          81.03125,
          107.07142857142857,
          75.66666666666667,
          138,
          269.75,
          114.58823529411765,
          91.3125,
          92.3,
          97.25,
          102.36363636363636,
          84,
          107.47619047619048,
          134.6315789473684,
          131.5,
          84.72413793103448,
          117.2,
          127.16666666666667,
          138.92,
          79.67857142857143,
          72.15625,
          96.93103448275862,
          101.57692307692308,
          148.57142857142858
         ],
         "xaxis": "x4",
         "yaxis": "y4"
        },
        {
         "legendgroup": "5",
         "marker": {
          "color": "orange"
         },
         "name": "5",
         "showlegend": false,
         "type": "box",
         "x": [
          82.51162790697674,
          136.52380952380952,
          134.3125,
          103.6,
          89.25,
          81.9,
          116.0909090909091,
          110.05555555555556,
          119.07692307692308,
          118.82857142857142,
          141.79310344827587,
          131.7037037037037,
          90.875,
          103.89285714285714,
          76.70270270270271
         ],
         "xaxis": "x4",
         "yaxis": "y4"
        },
        {
         "legendgroup": "6",
         "marker": {
          "color": "pink"
         },
         "name": "6",
         "showlegend": false,
         "type": "box",
         "x": [
          131.57777777777778,
          136,
          131.75,
          127.62962962962963
         ],
         "xaxis": "x4",
         "yaxis": "y4"
        }
       ],
       "layout": {
        "annotations": [
         {
          "font": {
           "size": 16
          },
          "showarrow": false,
          "text": "sentence_length_sum",
          "x": 0.225,
          "xanchor": "center",
          "xref": "paper",
          "y": 1,
          "yanchor": "bottom",
          "yref": "paper"
         },
         {
          "font": {
           "size": 16
          },
          "showarrow": false,
          "text": "sentence_length_max",
          "x": 0.775,
          "xanchor": "center",
          "xref": "paper",
          "y": 1,
          "yanchor": "bottom",
          "yref": "paper"
         },
         {
          "font": {
           "size": 16
          },
          "showarrow": false,
          "text": "sentence_length_min",
          "x": 0.225,
          "xanchor": "center",
          "xref": "paper",
          "y": 0.375,
          "yanchor": "bottom",
          "yref": "paper"
         },
         {
          "font": {
           "size": 16
          },
          "showarrow": false,
          "text": "sentence_length_mean",
          "x": 0.775,
          "xanchor": "center",
          "xref": "paper",
          "y": 0.375,
          "yanchor": "bottom",
          "yref": "paper"
         }
        ],
        "barmode": "group",
        "height": 540,
        "legend": {
         "orientation": "h",
         "x": 0.5,
         "xanchor": "center",
         "y": -0.2,
         "yanchor": "top"
        },
        "template": {
         "data": {
          "bar": [
           {
            "error_x": {
             "color": "#2a3f5f"
            },
            "error_y": {
             "color": "#2a3f5f"
            },
            "marker": {
             "line": {
              "color": "#E5ECF6",
              "width": 0.5
             },
             "pattern": {
              "fillmode": "overlay",
              "size": 10,
              "solidity": 0.2
             }
            },
            "type": "bar"
           }
          ],
          "barpolar": [
           {
            "marker": {
             "line": {
              "color": "#E5ECF6",
              "width": 0.5
             },
             "pattern": {
              "fillmode": "overlay",
              "size": 10,
              "solidity": 0.2
             }
            },
            "type": "barpolar"
           }
          ],
          "carpet": [
           {
            "aaxis": {
             "endlinecolor": "#2a3f5f",
             "gridcolor": "white",
             "linecolor": "white",
             "minorgridcolor": "white",
             "startlinecolor": "#2a3f5f"
            },
            "baxis": {
             "endlinecolor": "#2a3f5f",
             "gridcolor": "white",
             "linecolor": "white",
             "minorgridcolor": "white",
             "startlinecolor": "#2a3f5f"
            },
            "type": "carpet"
           }
          ],
          "choropleth": [
           {
            "colorbar": {
             "outlinewidth": 0,
             "ticks": ""
            },
            "type": "choropleth"
           }
          ],
          "contour": [
           {
            "colorbar": {
             "outlinewidth": 0,
             "ticks": ""
            },
            "colorscale": [
             [
              0,
              "#0d0887"
             ],
             [
              0.1111111111111111,
              "#46039f"
             ],
             [
              0.2222222222222222,
              "#7201a8"
             ],
             [
              0.3333333333333333,
              "#9c179e"
             ],
             [
              0.4444444444444444,
              "#bd3786"
             ],
             [
              0.5555555555555556,
              "#d8576b"
             ],
             [
              0.6666666666666666,
              "#ed7953"
             ],
             [
              0.7777777777777778,
              "#fb9f3a"
             ],
             [
              0.8888888888888888,
              "#fdca26"
             ],
             [
              1,
              "#f0f921"
             ]
            ],
            "type": "contour"
           }
          ],
          "contourcarpet": [
           {
            "colorbar": {
             "outlinewidth": 0,
             "ticks": ""
            },
            "type": "contourcarpet"
           }
          ],
          "heatmap": [
           {
            "colorbar": {
             "outlinewidth": 0,
             "ticks": ""
            },
            "colorscale": [
             [
              0,
              "#0d0887"
             ],
             [
              0.1111111111111111,
              "#46039f"
             ],
             [
              0.2222222222222222,
              "#7201a8"
             ],
             [
              0.3333333333333333,
              "#9c179e"
             ],
             [
              0.4444444444444444,
              "#bd3786"
             ],
             [
              0.5555555555555556,
              "#d8576b"
             ],
             [
              0.6666666666666666,
              "#ed7953"
             ],
             [
              0.7777777777777778,
              "#fb9f3a"
             ],
             [
              0.8888888888888888,
              "#fdca26"
             ],
             [
              1,
              "#f0f921"
             ]
            ],
            "type": "heatmap"
           }
          ],
          "heatmapgl": [
           {
            "colorbar": {
             "outlinewidth": 0,
             "ticks": ""
            },
            "colorscale": [
             [
              0,
              "#0d0887"
             ],
             [
              0.1111111111111111,
              "#46039f"
             ],
             [
              0.2222222222222222,
              "#7201a8"
             ],
             [
              0.3333333333333333,
              "#9c179e"
             ],
             [
              0.4444444444444444,
              "#bd3786"
             ],
             [
              0.5555555555555556,
              "#d8576b"
             ],
             [
              0.6666666666666666,
              "#ed7953"
             ],
             [
              0.7777777777777778,
              "#fb9f3a"
             ],
             [
              0.8888888888888888,
              "#fdca26"
             ],
             [
              1,
              "#f0f921"
             ]
            ],
            "type": "heatmapgl"
           }
          ],
          "histogram": [
           {
            "marker": {
             "pattern": {
              "fillmode": "overlay",
              "size": 10,
              "solidity": 0.2
             }
            },
            "type": "histogram"
           }
          ],
          "histogram2d": [
           {
            "colorbar": {
             "outlinewidth": 0,
             "ticks": ""
            },
            "colorscale": [
             [
              0,
              "#0d0887"
             ],
             [
              0.1111111111111111,
              "#46039f"
             ],
             [
              0.2222222222222222,
              "#7201a8"
             ],
             [
              0.3333333333333333,
              "#9c179e"
             ],
             [
              0.4444444444444444,
              "#bd3786"
             ],
             [
              0.5555555555555556,
              "#d8576b"
             ],
             [
              0.6666666666666666,
              "#ed7953"
             ],
             [
              0.7777777777777778,
              "#fb9f3a"
             ],
             [
              0.8888888888888888,
              "#fdca26"
             ],
             [
              1,
              "#f0f921"
             ]
            ],
            "type": "histogram2d"
           }
          ],
          "histogram2dcontour": [
           {
            "colorbar": {
             "outlinewidth": 0,
             "ticks": ""
            },
            "colorscale": [
             [
              0,
              "#0d0887"
             ],
             [
              0.1111111111111111,
              "#46039f"
             ],
             [
              0.2222222222222222,
              "#7201a8"
             ],
             [
              0.3333333333333333,
              "#9c179e"
             ],
             [
              0.4444444444444444,
              "#bd3786"
             ],
             [
              0.5555555555555556,
              "#d8576b"
             ],
             [
              0.6666666666666666,
              "#ed7953"
             ],
             [
              0.7777777777777778,
              "#fb9f3a"
             ],
             [
              0.8888888888888888,
              "#fdca26"
             ],
             [
              1,
              "#f0f921"
             ]
            ],
            "type": "histogram2dcontour"
           }
          ],
          "mesh3d": [
           {
            "colorbar": {
             "outlinewidth": 0,
             "ticks": ""
            },
            "type": "mesh3d"
           }
          ],
          "parcoords": [
           {
            "line": {
             "colorbar": {
              "outlinewidth": 0,
              "ticks": ""
             }
            },
            "type": "parcoords"
           }
          ],
          "pie": [
           {
            "automargin": true,
            "type": "pie"
           }
          ],
          "scatter": [
           {
            "fillpattern": {
             "fillmode": "overlay",
             "size": 10,
             "solidity": 0.2
            },
            "type": "scatter"
           }
          ],
          "scatter3d": [
           {
            "line": {
             "colorbar": {
              "outlinewidth": 0,
              "ticks": ""
             }
            },
            "marker": {
             "colorbar": {
              "outlinewidth": 0,
              "ticks": ""
             }
            },
            "type": "scatter3d"
           }
          ],
          "scattercarpet": [
           {
            "marker": {
             "colorbar": {
              "outlinewidth": 0,
              "ticks": ""
             }
            },
            "type": "scattercarpet"
           }
          ],
          "scattergeo": [
           {
            "marker": {
             "colorbar": {
              "outlinewidth": 0,
              "ticks": ""
             }
            },
            "type": "scattergeo"
           }
          ],
          "scattergl": [
           {
            "marker": {
             "colorbar": {
              "outlinewidth": 0,
              "ticks": ""
             }
            },
            "type": "scattergl"
           }
          ],
          "scattermapbox": [
           {
            "marker": {
             "colorbar": {
              "outlinewidth": 0,
              "ticks": ""
             }
            },
            "type": "scattermapbox"
           }
          ],
          "scatterpolar": [
           {
            "marker": {
             "colorbar": {
              "outlinewidth": 0,
              "ticks": ""
             }
            },
            "type": "scatterpolar"
           }
          ],
          "scatterpolargl": [
           {
            "marker": {
             "colorbar": {
              "outlinewidth": 0,
              "ticks": ""
             }
            },
            "type": "scatterpolargl"
           }
          ],
          "scatterternary": [
           {
            "marker": {
             "colorbar": {
              "outlinewidth": 0,
              "ticks": ""
             }
            },
            "type": "scatterternary"
           }
          ],
          "surface": [
           {
            "colorbar": {
             "outlinewidth": 0,
             "ticks": ""
            },
            "colorscale": [
             [
              0,
              "#0d0887"
             ],
             [
              0.1111111111111111,
              "#46039f"
             ],
             [
              0.2222222222222222,
              "#7201a8"
             ],
             [
              0.3333333333333333,
              "#9c179e"
             ],
             [
              0.4444444444444444,
              "#bd3786"
             ],
             [
              0.5555555555555556,
              "#d8576b"
             ],
             [
              0.6666666666666666,
              "#ed7953"
             ],
             [
              0.7777777777777778,
              "#fb9f3a"
             ],
             [
              0.8888888888888888,
              "#fdca26"
             ],
             [
              1,
              "#f0f921"
             ]
            ],
            "type": "surface"
           }
          ],
          "table": [
           {
            "cells": {
             "fill": {
              "color": "#EBF0F8"
             },
             "line": {
              "color": "white"
             }
            },
            "header": {
             "fill": {
              "color": "#C8D4E3"
             },
             "line": {
              "color": "white"
             }
            },
            "type": "table"
           }
          ]
         },
         "layout": {
          "annotationdefaults": {
           "arrowcolor": "#2a3f5f",
           "arrowhead": 0,
           "arrowwidth": 1
          },
          "autotypenumbers": "strict",
          "coloraxis": {
           "colorbar": {
            "outlinewidth": 0,
            "ticks": ""
           }
          },
          "colorscale": {
           "diverging": [
            [
             0,
             "#8e0152"
            ],
            [
             0.1,
             "#c51b7d"
            ],
            [
             0.2,
             "#de77ae"
            ],
            [
             0.3,
             "#f1b6da"
            ],
            [
             0.4,
             "#fde0ef"
            ],
            [
             0.5,
             "#f7f7f7"
            ],
            [
             0.6,
             "#e6f5d0"
            ],
            [
             0.7,
             "#b8e186"
            ],
            [
             0.8,
             "#7fbc41"
            ],
            [
             0.9,
             "#4d9221"
            ],
            [
             1,
             "#276419"
            ]
           ],
           "sequential": [
            [
             0,
             "#0d0887"
            ],
            [
             0.1111111111111111,
             "#46039f"
            ],
            [
             0.2222222222222222,
             "#7201a8"
            ],
            [
             0.3333333333333333,
             "#9c179e"
            ],
            [
             0.4444444444444444,
             "#bd3786"
            ],
            [
             0.5555555555555556,
             "#d8576b"
            ],
            [
             0.6666666666666666,
             "#ed7953"
            ],
            [
             0.7777777777777778,
             "#fb9f3a"
            ],
            [
             0.8888888888888888,
             "#fdca26"
            ],
            [
             1,
             "#f0f921"
            ]
           ],
           "sequentialminus": [
            [
             0,
             "#0d0887"
            ],
            [
             0.1111111111111111,
             "#46039f"
            ],
            [
             0.2222222222222222,
             "#7201a8"
            ],
            [
             0.3333333333333333,
             "#9c179e"
            ],
            [
             0.4444444444444444,
             "#bd3786"
            ],
            [
             0.5555555555555556,
             "#d8576b"
            ],
            [
             0.6666666666666666,
             "#ed7953"
            ],
            [
             0.7777777777777778,
             "#fb9f3a"
            ],
            [
             0.8888888888888888,
             "#fdca26"
            ],
            [
             1,
             "#f0f921"
            ]
           ]
          },
          "colorway": [
           "#636efa",
           "#EF553B",
           "#00cc96",
           "#ab63fa",
           "#FFA15A",
           "#19d3f3",
           "#FF6692",
           "#B6E880",
           "#FF97FF",
           "#FECB52"
          ],
          "font": {
           "color": "#2a3f5f"
          },
          "geo": {
           "bgcolor": "white",
           "lakecolor": "white",
           "landcolor": "#E5ECF6",
           "showlakes": true,
           "showland": true,
           "subunitcolor": "white"
          },
          "hoverlabel": {
           "align": "left"
          },
          "hovermode": "closest",
          "mapbox": {
           "style": "light"
          },
          "paper_bgcolor": "white",
          "plot_bgcolor": "#E5ECF6",
          "polar": {
           "angularaxis": {
            "gridcolor": "white",
            "linecolor": "white",
            "ticks": ""
           },
           "bgcolor": "#E5ECF6",
           "radialaxis": {
            "gridcolor": "white",
            "linecolor": "white",
            "ticks": ""
           }
          },
          "scene": {
           "xaxis": {
            "backgroundcolor": "#E5ECF6",
            "gridcolor": "white",
            "gridwidth": 2,
            "linecolor": "white",
            "showbackground": true,
            "ticks": "",
            "zerolinecolor": "white"
           },
           "yaxis": {
            "backgroundcolor": "#E5ECF6",
            "gridcolor": "white",
            "gridwidth": 2,
            "linecolor": "white",
            "showbackground": true,
            "ticks": "",
            "zerolinecolor": "white"
           },
           "zaxis": {
            "backgroundcolor": "#E5ECF6",
            "gridcolor": "white",
            "gridwidth": 2,
            "linecolor": "white",
            "showbackground": true,
            "ticks": "",
            "zerolinecolor": "white"
           }
          },
          "shapedefaults": {
           "line": {
            "color": "#2a3f5f"
           }
          },
          "ternary": {
           "aaxis": {
            "gridcolor": "white",
            "linecolor": "white",
            "ticks": ""
           },
           "baxis": {
            "gridcolor": "white",
            "linecolor": "white",
            "ticks": ""
           },
           "bgcolor": "#E5ECF6",
           "caxis": {
            "gridcolor": "white",
            "linecolor": "white",
            "ticks": ""
           }
          },
          "title": {
           "x": 0.05
          },
          "xaxis": {
           "automargin": true,
           "gridcolor": "white",
           "linecolor": "white",
           "ticks": "",
           "title": {
            "standoff": 15
           },
           "zerolinecolor": "white",
           "zerolinewidth": 2
          },
          "yaxis": {
           "automargin": true,
           "gridcolor": "white",
           "linecolor": "white",
           "ticks": "",
           "title": {
            "standoff": 15
           },
           "zerolinecolor": "white",
           "zerolinewidth": 2
          }
         }
        },
        "title": {
         "text": "sentence_length",
         "x": 0.5
        },
        "width": 960,
        "xaxis": {
         "anchor": "y",
         "domain": [
          0,
          0.45
         ],
         "title": {
          "text": "sentence_length_sum"
         }
        },
        "xaxis2": {
         "anchor": "y2",
         "domain": [
          0.55,
          1
         ],
         "title": {
          "text": "sentence_length_max"
         }
        },
        "xaxis3": {
         "anchor": "y3",
         "domain": [
          0,
          0.45
         ],
         "title": {
          "text": "sentence_length_min"
         }
        },
        "xaxis4": {
         "anchor": "y4",
         "domain": [
          0.55,
          1
         ],
         "title": {
          "text": "sentence_length_mean"
         }
        },
        "yaxis": {
         "anchor": "x",
         "domain": [
          0.625,
          1
         ],
         "title": {
          "text": "Score"
         }
        },
        "yaxis2": {
         "anchor": "x2",
         "domain": [
          0.625,
          1
         ],
         "matches": "y",
         "showticklabels": false,
         "title": {
          "text": "Score"
         }
        },
        "yaxis3": {
         "anchor": "x3",
         "domain": [
          0,
          0.375
         ],
         "title": {
          "text": "Score"
         }
        },
        "yaxis4": {
         "anchor": "x4",
         "domain": [
          0,
          0.375
         ],
         "matches": "y3",
         "showticklabels": false,
         "title": {
          "text": "Score"
         }
        }
       }
      }
     },
     "metadata": {},
     "output_type": "display_data"
    }
   ],
   "source": [
    "df[\"sentence_length\"] = df[\"sentences\"].map(lambda x: [len(y) for y in x])\n",
    "df[\"sentence_length_sum\"] = df[\"sentence_length\"].map(sum)\n",
    "df[\"sentence_length_max\"] = df[\"sentence_length\"].map(max)\n",
    "df[\"sentence_length_min\"] = df[\"sentence_length\"].map(min)\n",
    "df[\"sentence_length_mean\"] = df[\"sentence_length\"].map(np.mean)\n",
    "plot_all(\"sentence_length\")"
   ]
  },
  {
   "cell_type": "markdown",
   "metadata": {},
   "source": [
    "Mean and max sentence length seems useful."
   ]
  }
 ],
 "metadata": {
  "kernelspec": {
   "display_name": "venv",
   "language": "python",
   "name": "python3"
  },
  "language_info": {
   "codemirror_mode": {
    "name": "ipython",
    "version": 3
   },
   "file_extension": ".py",
   "mimetype": "text/x-python",
   "name": "python",
   "nbconvert_exporter": "python",
   "pygments_lexer": "ipython3",
   "version": "3.11.8"
  }
 },
 "nbformat": 4,
 "nbformat_minor": 2
}
