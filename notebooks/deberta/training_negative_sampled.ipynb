{
 "cells": [
  {
   "cell_type": "markdown",
   "metadata": {},
   "source": [
    "# 🏋️ Model Training - Negative Sampled"
   ]
  },
  {
   "cell_type": "markdown",
   "metadata": {},
   "source": [
    "## ⚙️ Setup "
   ]
  },
  {
   "cell_type": "markdown",
   "metadata": {},
   "source": [
    "### 📚 Importing Libraries"
   ]
  },
  {
   "cell_type": "markdown",
   "metadata": {},
   "source": [
    "Importing from packages"
   ]
  },
  {
   "cell_type": "code",
   "execution_count": 1,
   "metadata": {
    "metadata": {}
   },
   "outputs": [
    {
     "name": "stderr",
     "output_type": "stream",
     "text": [
      "/media/ishfar/New Volume/Studies/Projects/Kaggle-Automated-Essay-Scoring/venv/lib/python3.11/site-packages/tqdm/auto.py:21: TqdmWarning: IProgress not found. Please update jupyter and ipywidgets. See https://ipywidgets.readthedocs.io/en/stable/user_install.html\n",
      "  from .autonotebook import tqdm as notebook_tqdm\n"
     ]
    }
   ],
   "source": [
    "import os\n",
    "import gc\n",
    "import time\n",
    "from dotenv import load_dotenv\n",
    "\n",
    "import pandas as pd\n",
    "import numpy as np\n",
    "import torch\n",
    "from torch import nn\n",
    "import wandb\n",
    "from pprint import pprint\n",
    "import warnings\n",
    "from transformers import AutoTokenizer\n",
    "\n",
    "import matplotlib.pyplot as plt\n",
    "import plotly.express as px\n",
    "import plotly.graph_objects as go\n",
    "from sklearn.metrics import confusion_matrix, ConfusionMatrixDisplay"
   ]
  },
  {
   "cell_type": "code",
   "execution_count": 2,
   "metadata": {},
   "outputs": [
    {
     "data": {
      "text/plain": [
       "True"
      ]
     },
     "execution_count": 2,
     "metadata": {},
     "output_type": "execute_result"
    }
   ],
   "source": [
    "os.chdir(\"../../\")\n",
    "warnings.filterwarnings(\"ignore\")\n",
    "load_dotenv()"
   ]
  },
  {
   "cell_type": "markdown",
   "metadata": {},
   "source": [
    "Importing user defined packages"
   ]
  },
  {
   "cell_type": "code",
   "execution_count": 3,
   "metadata": {},
   "outputs": [],
   "source": [
    "from lib.config import config\n",
    "from lib.paths import Paths\n",
    "from lib.model.epoch_functions import train_epoch, valid_epoch\n",
    "from lib.model.utils import get_score, get_model_optimizer_and_scheduler\n",
    "from lib.utils.utils import seed_everything\n",
    "from lib.data import read_data_loader_from_disk\n",
    "from lib.criterion.metrics import log_metrics\n",
    "from lib.model.inference import ensemble_inference"
   ]
  },
  {
   "cell_type": "code",
   "execution_count": 4,
   "metadata": {},
   "outputs": [
    {
     "name": "stdout",
     "output_type": "stream",
     "text": [
      "namespace(apex=True,\n",
      "          batch_scheduler=True,\n",
      "          batch_size_train=32,\n",
      "          batch_size_valid=32,\n",
      "          betas=[0.9, 0.999],\n",
      "          data_version=6,\n",
      "          debug=False,\n",
      "          decoder_lr=2e-05,\n",
      "          encoder_lr=2e-05,\n",
      "          epochs=2,\n",
      "          eps=1e-06,\n",
      "          gradient_accumulation_steps=1,\n",
      "          gradient_checkpointing=True,\n",
      "          max_grad_norm=1000,\n",
      "          max_length=512,\n",
      "          min_lr=1e-06,\n",
      "          model='microsoft/deberta-v3-xsmall',\n",
      "          n_folds=5,\n",
      "          negative_sample=True,\n",
      "          negative_sample_partitions=3,\n",
      "          num_classes=6,\n",
      "          num_cycles=0.5,\n",
      "          num_warmup_steps=0,\n",
      "          num_workers=6,\n",
      "          positive_classes=[0, 5],\n",
      "          negative_classes=[1, 2, 3, 4],\n",
      "          print_freq=6,\n",
      "          random_seed=20,\n",
      "          scheduler='cosine',\n",
      "          stride=192,\n",
      "          tokenizer_version=2,\n",
      "          train=True,\n",
      "          train_folds=[0, 1, 2, 3, 4, 5, 6, 7],\n",
      "          weight_decay=0.01)\n"
     ]
    }
   ],
   "source": [
    "pprint(config)"
   ]
  },
  {
   "cell_type": "code",
   "execution_count": 5,
   "metadata": {},
   "outputs": [],
   "source": [
    "seed_everything()"
   ]
  },
  {
   "cell_type": "code",
   "execution_count": 6,
   "metadata": {},
   "outputs": [
    {
     "name": "stdout",
     "output_type": "stream",
     "text": [
      "env: TOKENIZERS_PARALLELISM=true\n"
     ]
    }
   ],
   "source": [
    "%env TOKENIZERS_PARALLELISM=true"
   ]
  },
  {
   "cell_type": "markdown",
   "metadata": {},
   "source": [
    "### Setting Up WandB"
   ]
  },
  {
   "cell_type": "code",
   "execution_count": 7,
   "metadata": {},
   "outputs": [],
   "source": [
    "WANDB_PROJECT = \"Kaggle_ASE_2.0\"\n",
    "model_name = config.model.split(\"/\")[-1]\n",
    "WANDB_NAME = f\"{model_name}-{config.max_length}-D{config.data_version}-T{config.tokenizer_version}\""
   ]
  },
  {
   "cell_type": "code",
   "execution_count": 8,
   "metadata": {},
   "outputs": [
    {
     "name": "stderr",
     "output_type": "stream",
     "text": [
      "Failed to detect the name of this notebook, you can set it manually with the WANDB_NOTEBOOK_NAME environment variable to enable code saving.\n",
      "\u001b[34m\u001b[1mwandb\u001b[0m: Currently logged in as: \u001b[33mshakleenishfar\u001b[0m (\u001b[33mlaplacesdemon43\u001b[0m). Use \u001b[1m`wandb login --relogin`\u001b[0m to force relogin\n",
      "\u001b[34m\u001b[1mwandb\u001b[0m: \u001b[33mWARNING\u001b[0m If you're specifying your api key in code, ensure this code is not shared publicly.\n",
      "\u001b[34m\u001b[1mwandb\u001b[0m: \u001b[33mWARNING\u001b[0m Consider setting the WANDB_API_KEY environment variable, or running `wandb login` from the command line.\n",
      "\u001b[34m\u001b[1mwandb\u001b[0m: Appending key for api.wandb.ai to your netrc file: /home/ishfar/.netrc\n"
     ]
    },
    {
     "data": {
      "text/html": [
       "wandb version 0.17.0 is available!  To upgrade, please run:\n",
       " $ pip install wandb --upgrade"
      ],
      "text/plain": [
       "<IPython.core.display.HTML object>"
      ]
     },
     "metadata": {},
     "output_type": "display_data"
    },
    {
     "data": {
      "text/html": [
       "Tracking run with wandb version 0.16.6"
      ],
      "text/plain": [
       "<IPython.core.display.HTML object>"
      ]
     },
     "metadata": {},
     "output_type": "display_data"
    },
    {
     "data": {
      "text/html": [
       "Run data is saved locally in <code>/media/ishfar/New Volume/Studies/Projects/Kaggle-Automated-Essay-Scoring/wandb/run-20240509_115524-w9st9n6f</code>"
      ],
      "text/plain": [
       "<IPython.core.display.HTML object>"
      ]
     },
     "metadata": {},
     "output_type": "display_data"
    },
    {
     "data": {
      "text/html": [
       "Syncing run <strong><a href='https://wandb.ai/laplacesdemon43/Kaggle_ASE_2.0/runs/w9st9n6f' target=\"_blank\">deberta-v3-xsmall-512-D6-T2</a></strong> to <a href='https://wandb.ai/laplacesdemon43/Kaggle_ASE_2.0' target=\"_blank\">Weights & Biases</a> (<a href='https://wandb.me/run' target=\"_blank\">docs</a>)<br/>"
      ],
      "text/plain": [
       "<IPython.core.display.HTML object>"
      ]
     },
     "metadata": {},
     "output_type": "display_data"
    },
    {
     "data": {
      "text/html": [
       " View project at <a href='https://wandb.ai/laplacesdemon43/Kaggle_ASE_2.0' target=\"_blank\">https://wandb.ai/laplacesdemon43/Kaggle_ASE_2.0</a>"
      ],
      "text/plain": [
       "<IPython.core.display.HTML object>"
      ]
     },
     "metadata": {},
     "output_type": "display_data"
    },
    {
     "data": {
      "text/html": [
       " View run at <a href='https://wandb.ai/laplacesdemon43/Kaggle_ASE_2.0/runs/w9st9n6f' target=\"_blank\">https://wandb.ai/laplacesdemon43/Kaggle_ASE_2.0/runs/w9st9n6f</a>"
      ],
      "text/plain": [
       "<IPython.core.display.HTML object>"
      ]
     },
     "metadata": {},
     "output_type": "display_data"
    }
   ],
   "source": [
    "wandb.login(key=os.environ.get('WANDB_API_KEY'))\n",
    "wandb.init(\n",
    "    project=WANDB_PROJECT,\n",
    "    name=WANDB_NAME,\n",
    "    save_code=True,\n",
    "    job_type=\"train\",\n",
    "    config=config,\n",
    ")\n",
    "config = wandb.config"
   ]
  },
  {
   "cell_type": "markdown",
   "metadata": {},
   "source": [
    "## 📖 Definitions"
   ]
  },
  {
   "cell_type": "markdown",
   "metadata": {},
   "source": [
    "### 🌎 Global Variables"
   ]
  },
  {
   "cell_type": "code",
   "execution_count": 9,
   "metadata": {},
   "outputs": [],
   "source": [
    "device = torch.device('cuda' if torch.cuda.is_available() else 'cpu')"
   ]
  },
  {
   "cell_type": "markdown",
   "metadata": {},
   "source": [
    "The competition data has a class imbalance problem. Which is why I assign higher weights to classes having lower samples."
   ]
  },
  {
   "cell_type": "code",
   "execution_count": 10,
   "metadata": {},
   "outputs": [],
   "source": [
    "# class_weights = torch.tensor([1.0, 0.25, 0.25, 0.5, 1.0, 2.0]).to(device)\n",
    "class_weights = torch.tensor([1.0] * 6).to(device)"
   ]
  },
  {
   "cell_type": "code",
   "execution_count": 11,
   "metadata": {},
   "outputs": [
    {
     "name": "stderr",
     "output_type": "stream",
     "text": [
      "Special tokens have been added in the vocabulary, make sure the associated word embeddings are fine-tuned or trained.\n"
     ]
    },
    {
     "name": "stdout",
     "output_type": "stream",
     "text": [
      "Total number of tokens in the tokenizer: 128003\n",
      "DebertaV2TokenizerFast(name_or_path='output/microsoft/deberta-v3-xsmall/tokenizer_v2', vocab_size=128000, model_max_length=1000000000000000019884624838656, is_fast=True, padding_side='right', truncation_side='right', special_tokens={'bos_token': '[CLS]', 'eos_token': '[SEP]', 'unk_token': '[UNK]', 'sep_token': '[SEP]', 'pad_token': '[PAD]', 'cls_token': '[CLS]', 'mask_token': '[MASK]'}, clean_up_tokenization_spaces=True),  added_tokens_decoder={\n",
      "\t0: AddedToken(\"[PAD]\", rstrip=False, lstrip=False, single_word=False, normalized=False, special=True),\n",
      "\t1: AddedToken(\"[CLS]\", rstrip=False, lstrip=False, single_word=False, normalized=False, special=True),\n",
      "\t2: AddedToken(\"[SEP]\", rstrip=False, lstrip=False, single_word=False, normalized=False, special=True),\n",
      "\t3: AddedToken(\"[UNK]\", rstrip=False, lstrip=False, single_word=False, normalized=True, special=True),\n",
      "\t128000: AddedToken(\"[MASK]\", rstrip=False, lstrip=False, single_word=False, normalized=False, special=True),\n",
      "\t128001: AddedToken(\"\n",
      "\", rstrip=False, lstrip=False, single_word=False, normalized=False, special=False),\n",
      "\t128002: AddedToken(\"  \", rstrip=False, lstrip=False, single_word=False, normalized=False, special=False),\n",
      "}\n"
     ]
    }
   ],
   "source": [
    "tokenizer = AutoTokenizer.from_pretrained(Paths.TOKENIZER_PATH)\n",
    "vocabulary = tokenizer.get_vocab()\n",
    "total_tokens = len(vocabulary)\n",
    "print(\"Total number of tokens in the tokenizer:\", total_tokens)\n",
    "print(tokenizer)"
   ]
  },
  {
   "cell_type": "markdown",
   "metadata": {},
   "source": [
    "### 🛠️ Functions"
   ]
  },
  {
   "cell_type": "code",
   "execution_count": 12,
   "metadata": {},
   "outputs": [],
   "source": [
    "def train_loop(fold, group, valid_labels):\n",
    "    print(f\"========== Fold: {fold} Group: {group} training ==========\")\n",
    "\n",
    "    # ======== DATA LOADER ==========\n",
    "    train_loader, valid_loader = read_data_loader_from_disk(fold, group)\n",
    "\n",
    "    # ======== MODEL ==========\n",
    "    model, optimizer, scheduler = get_model_optimizer_and_scheduler(\n",
    "        train_loader, device\n",
    "    )\n",
    "\n",
    "    # ======= LOSS ==========\n",
    "    # criterion = RMSELoss(reduction=\"mean\") # nn.SmoothL1Loss(reduction='mean')\n",
    "    criterion = nn.CrossEntropyLoss(weight=class_weights)\n",
    "    softmax = nn.Softmax(dim=1)\n",
    "\n",
    "    best_score = -np.inf\n",
    "    # ====== ITERATE EPOCHS ========\n",
    "    for epoch in range(config.epochs):\n",
    "        start_time = time.time()\n",
    "\n",
    "        # ======= TRAIN ==========\n",
    "        avg_loss = train_epoch(\n",
    "            fold,\n",
    "            train_loader,\n",
    "            model,\n",
    "            criterion,\n",
    "            optimizer,\n",
    "            epoch,\n",
    "            scheduler,\n",
    "            device,\n",
    "        )\n",
    "\n",
    "        # ======= EVALUATION ==========\n",
    "        avg_val_loss, prediction_dict = valid_epoch(\n",
    "            fold, valid_loader, model, criterion, device\n",
    "        )\n",
    "        predictions = prediction_dict[\"predictions\"]\n",
    "        _, predictions = torch.max(softmax(torch.tensor(predictions)), dim=1)\n",
    "\n",
    "        # ======= SCORING ==========\n",
    "        score = get_score(valid_labels, predictions)\n",
    "\n",
    "        wandb.log(\n",
    "            {\n",
    "                f\"eval/eval_epoch_f{fold}_g{group}\": epoch + 1,\n",
    "                f\"eval/eval_loss_f{fold}_g{group}\": avg_val_loss,\n",
    "                f\"eval/qwk_score_f{fold}_g{group}\": score,\n",
    "            }\n",
    "        )\n",
    "\n",
    "        elapsed = time.time() - start_time\n",
    "\n",
    "        print(\n",
    "            f\"Epoch {epoch+1} - \"\n",
    "            + f\"avg_train_loss: {avg_loss:.4f} \"\n",
    "            + f\"avg_val_loss: {avg_val_loss:.4f} \"\n",
    "            + f\"time: {elapsed:.0f}s \"\n",
    "            + f\"Score: {score:.4f}\"\n",
    "        )\n",
    "\n",
    "        if score > best_score:\n",
    "            best_score = score\n",
    "            print(f\"Epoch {epoch+1} - Save Best Score: {best_score:.4f} Model\")\n",
    "            torch.save(\n",
    "                {\"model\": model.state_dict()},\n",
    "                Paths.MODEL_OUTPUT_PATH\n",
    "                + f\"/{config.model.replace('/', '_')}_fold_{fold}_group_{group}.pth\",\n",
    "            )\n",
    "\n",
    "    del model, optimizer, scheduler, criterion, softmax\n",
    "    torch.cuda.empty_cache()\n",
    "    gc.collect()"
   ]
  },
  {
   "cell_type": "code",
   "execution_count": 13,
   "metadata": {},
   "outputs": [],
   "source": [
    "def evaluate_group(fold, valid_fold, valid_labels, model_paths):\n",
    "    predictions = ensemble_inference(\n",
    "        valid_fold,\n",
    "        tokenizer,\n",
    "        model_paths,\n",
    "        device,\n",
    "        overall=False,\n",
    "    )\n",
    "    score = get_score(valid_labels, predictions)\n",
    "\n",
    "    wandb.log(\n",
    "        {\n",
    "            f\"eval/eval_epoch_f{fold}\": config.epochs,\n",
    "            f\"eval/qwk_score_f{fold}\": score,\n",
    "        }\n",
    "    )\n",
    "    return predictions"
   ]
  },
  {
   "cell_type": "code",
   "execution_count": 14,
   "metadata": {},
   "outputs": [],
   "source": [
    "def train_all_groups(fold):\n",
    "    valid_fold = pd.read_csv(os.path.join(Paths.DATA_LOADER_PATH, f\"valid_{fold}.csv\"))\n",
    "    valid_labels = valid_fold[\"score\"].values\n",
    "    model_paths = {\n",
    "        os.path.join(\n",
    "            Paths.MODEL_OUTPUT_PATH,\n",
    "            f\"{config.model.replace('/', '_')}_fold_{fold}_group_{group}.pth\",\n",
    "        ): 1\n",
    "        for group in range(config.negative_sample_partitions)\n",
    "    }\n",
    "\n",
    "    for group in range(config.negative_sample_partitions):\n",
    "        train_loop(fold, group, valid_labels)\n",
    "\n",
    "    valid_fold[\"pred_score\"] = evaluate_group(\n",
    "        fold,\n",
    "        valid_fold,\n",
    "        valid_labels,\n",
    "        model_paths,\n",
    "    )\n",
    "    return valid_fold"
   ]
  },
  {
   "cell_type": "code",
   "execution_count": 15,
   "metadata": {},
   "outputs": [],
   "source": [
    "def get_result(oof_df):\n",
    "    labels = oof_df[\"score\"].values\n",
    "    preds = oof_df[\"pred_score\"].values\n",
    "    score = get_score(labels, preds)\n",
    "    print(f'Score: {score:<.4f}')\n",
    "    return score"
   ]
  },
  {
   "cell_type": "markdown",
   "metadata": {},
   "source": [
    "## 🏁 Start Training"
   ]
  },
  {
   "cell_type": "code",
   "execution_count": 16,
   "metadata": {},
   "outputs": [
    {
     "name": "stdout",
     "output_type": "stream",
     "text": [
      "========== Fold: 0 Group: 0 training ==========\n"
     ]
    },
    {
     "name": "stderr",
     "output_type": "stream",
     "text": [
      "Special tokens have been added in the vocabulary, make sure the associated word embeddings are fine-tuned or trained.\n",
      "Training Fold 0: 100%|██████████| 523/523 [02:41<00:00,  3.24train_batch/s]\n",
      "Validating Fold 0: 100%|██████████| 149/149 [00:22<00:00,  6.59valid_batch/s]\n"
     ]
    },
    {
     "name": "stdout",
     "output_type": "stream",
     "text": [
      "Epoch 1 - avg_train_loss: 1.1333 avg_val_loss: 1.0310 time: 184s Score: 0.7607\n",
      "Epoch 1 - Save Best Score: 0.7607 Model\n"
     ]
    },
    {
     "name": "stderr",
     "output_type": "stream",
     "text": [
      "Training Fold 0: 100%|██████████| 523/523 [02:37<00:00,  3.32train_batch/s]\n",
      "Validating Fold 0: 100%|██████████| 149/149 [00:22<00:00,  6.58valid_batch/s]\n"
     ]
    },
    {
     "name": "stdout",
     "output_type": "stream",
     "text": [
      "Epoch 2 - avg_train_loss: 0.8309 avg_val_loss: 1.0242 time: 180s Score: 0.7521\n",
      "========== Fold: 0 Group: 1 training ==========\n"
     ]
    },
    {
     "name": "stderr",
     "output_type": "stream",
     "text": [
      "Special tokens have been added in the vocabulary, make sure the associated word embeddings are fine-tuned or trained.\n",
      "Training Fold 0: 100%|██████████| 523/523 [02:37<00:00,  3.33train_batch/s]\n",
      "Validating Fold 0: 100%|██████████| 149/149 [00:22<00:00,  6.59valid_batch/s]\n"
     ]
    },
    {
     "name": "stdout",
     "output_type": "stream",
     "text": [
      "Epoch 1 - avg_train_loss: 1.1785 avg_val_loss: 1.0838 time: 180s Score: 0.7367\n",
      "Epoch 1 - Save Best Score: 0.7367 Model\n"
     ]
    },
    {
     "name": "stderr",
     "output_type": "stream",
     "text": [
      "Training Fold 0: 100%|██████████| 523/523 [02:37<00:00,  3.33train_batch/s]\n",
      "Validating Fold 0: 100%|██████████| 149/149 [00:22<00:00,  6.59valid_batch/s]\n"
     ]
    },
    {
     "name": "stdout",
     "output_type": "stream",
     "text": [
      "Epoch 2 - avg_train_loss: 0.8646 avg_val_loss: 1.0425 time: 180s Score: 0.7726\n",
      "Epoch 2 - Save Best Score: 0.7726 Model\n",
      "========== Fold: 0 Group: 2 training ==========\n"
     ]
    },
    {
     "name": "stderr",
     "output_type": "stream",
     "text": [
      "Special tokens have been added in the vocabulary, make sure the associated word embeddings are fine-tuned or trained.\n",
      "Training Fold 0: 100%|██████████| 523/523 [02:37<00:00,  3.33train_batch/s]\n",
      "Validating Fold 0: 100%|██████████| 149/149 [00:22<00:00,  6.59valid_batch/s]\n"
     ]
    },
    {
     "name": "stdout",
     "output_type": "stream",
     "text": [
      "Epoch 1 - avg_train_loss: 1.1530 avg_val_loss: 2.3282 time: 180s Score: 0.4362\n",
      "Epoch 1 - Save Best Score: 0.4362 Model\n"
     ]
    },
    {
     "name": "stderr",
     "output_type": "stream",
     "text": [
      "Training Fold 0: 100%|██████████| 523/523 [02:37<00:00,  3.33train_batch/s]\n",
      "Validating Fold 0: 100%|██████████| 149/149 [00:22<00:00,  6.59valid_batch/s]\n"
     ]
    },
    {
     "name": "stdout",
     "output_type": "stream",
     "text": [
      "Epoch 2 - avg_train_loss: 0.8380 avg_val_loss: 2.7993 time: 180s Score: 0.5195\n",
      "Epoch 2 - Save Best Score: 0.5195 Model\n"
     ]
    },
    {
     "name": "stderr",
     "output_type": "stream",
     "text": [
      "Special tokens have been added in the vocabulary, make sure the associated word embeddings are fine-tuned or trained.\n",
      "Model 0 Inference: 100%|██████████| 149/149 [00:25<00:00,  5.81test_batch/s]\n",
      "Special tokens have been added in the vocabulary, make sure the associated word embeddings are fine-tuned or trained.\n",
      "Model 1 Inference: 100%|██████████| 149/149 [00:25<00:00,  5.81test_batch/s]\n",
      "Special tokens have been added in the vocabulary, make sure the associated word embeddings are fine-tuned or trained.\n",
      "Model 2 Inference: 100%|██████████| 149/149 [00:25<00:00,  5.82test_batch/s]\n"
     ]
    },
    {
     "name": "stdout",
     "output_type": "stream",
     "text": [
      "========== Fold: 0 result ==========\n",
      "Score: 0.7162\n",
      "========== Fold: 1 Group: 0 training ==========\n"
     ]
    },
    {
     "name": "stderr",
     "output_type": "stream",
     "text": [
      "Special tokens have been added in the vocabulary, make sure the associated word embeddings are fine-tuned or trained.\n",
      "Training Fold 1: 100%|██████████| 522/522 [02:36<00:00,  3.33train_batch/s]\n",
      "Validating Fold 1: 100%|██████████| 150/150 [00:22<00:00,  6.61valid_batch/s]\n"
     ]
    },
    {
     "name": "stdout",
     "output_type": "stream",
     "text": [
      "Epoch 1 - avg_train_loss: 1.1479 avg_val_loss: 0.9984 time: 180s Score: 0.7650\n",
      "Epoch 1 - Save Best Score: 0.7650 Model\n"
     ]
    },
    {
     "name": "stderr",
     "output_type": "stream",
     "text": [
      "Training Fold 1: 100%|██████████| 522/522 [02:36<00:00,  3.33train_batch/s]\n",
      "Validating Fold 1: 100%|██████████| 150/150 [00:22<00:00,  6.62valid_batch/s]\n"
     ]
    },
    {
     "name": "stdout",
     "output_type": "stream",
     "text": [
      "Epoch 2 - avg_train_loss: 0.8207 avg_val_loss: 0.9143 time: 179s Score: 0.7885\n",
      "Epoch 2 - Save Best Score: 0.7885 Model\n",
      "========== Fold: 1 Group: 1 training ==========\n"
     ]
    },
    {
     "name": "stderr",
     "output_type": "stream",
     "text": [
      "Special tokens have been added in the vocabulary, make sure the associated word embeddings are fine-tuned or trained.\n",
      "Training Fold 1: 100%|██████████| 522/522 [02:36<00:00,  3.33train_batch/s]\n",
      "Validating Fold 1: 100%|██████████| 150/150 [00:22<00:00,  6.62valid_batch/s]\n"
     ]
    },
    {
     "name": "stdout",
     "output_type": "stream",
     "text": [
      "Epoch 1 - avg_train_loss: 1.2243 avg_val_loss: 1.0095 time: 180s Score: 0.7627\n",
      "Epoch 1 - Save Best Score: 0.7627 Model\n"
     ]
    },
    {
     "name": "stderr",
     "output_type": "stream",
     "text": [
      "Training Fold 1: 100%|██████████| 522/522 [02:36<00:00,  3.33train_batch/s]\n",
      "Validating Fold 1: 100%|██████████| 150/150 [00:22<00:00,  6.62valid_batch/s]\n"
     ]
    },
    {
     "name": "stdout",
     "output_type": "stream",
     "text": [
      "Epoch 2 - avg_train_loss: 0.9235 avg_val_loss: 1.0687 time: 180s Score: 0.7726\n",
      "Epoch 2 - Save Best Score: 0.7726 Model\n",
      "========== Fold: 1 Group: 2 training ==========\n"
     ]
    },
    {
     "name": "stderr",
     "output_type": "stream",
     "text": [
      "Special tokens have been added in the vocabulary, make sure the associated word embeddings are fine-tuned or trained.\n",
      "Training Fold 1: 100%|██████████| 522/522 [02:49<00:00,  3.07train_batch/s]\n",
      "Validating Fold 1: 100%|██████████| 150/150 [00:25<00:00,  5.96valid_batch/s]\n"
     ]
    },
    {
     "name": "stdout",
     "output_type": "stream",
     "text": [
      "Epoch 1 - avg_train_loss: 1.0882 avg_val_loss: 2.5418 time: 195s Score: 0.4635\n",
      "Epoch 1 - Save Best Score: 0.4635 Model\n"
     ]
    },
    {
     "name": "stderr",
     "output_type": "stream",
     "text": [
      "Training Fold 1: 100%|██████████| 522/522 [02:50<00:00,  3.05train_batch/s]\n",
      "Validating Fold 1: 100%|██████████| 150/150 [00:24<00:00,  6.02valid_batch/s]\n"
     ]
    },
    {
     "name": "stdout",
     "output_type": "stream",
     "text": [
      "Epoch 2 - avg_train_loss: 0.7818 avg_val_loss: 3.1700 time: 196s Score: 0.4579\n"
     ]
    },
    {
     "name": "stderr",
     "output_type": "stream",
     "text": [
      "Special tokens have been added in the vocabulary, make sure the associated word embeddings are fine-tuned or trained.\n",
      "Model 0 Inference: 100%|██████████| 150/150 [00:27<00:00,  5.38test_batch/s]\n",
      "Special tokens have been added in the vocabulary, make sure the associated word embeddings are fine-tuned or trained.\n",
      "Model 1 Inference: 100%|██████████| 150/150 [00:28<00:00,  5.34test_batch/s]\n",
      "Special tokens have been added in the vocabulary, make sure the associated word embeddings are fine-tuned or trained.\n",
      "Model 2 Inference: 100%|██████████| 150/150 [00:27<00:00,  5.43test_batch/s]\n"
     ]
    },
    {
     "name": "stdout",
     "output_type": "stream",
     "text": [
      "========== Fold: 1 result ==========\n",
      "Score: 0.7324\n",
      "========== Fold: 2 Group: 0 training ==========\n"
     ]
    },
    {
     "name": "stderr",
     "output_type": "stream",
     "text": [
      "Special tokens have been added in the vocabulary, make sure the associated word embeddings are fine-tuned or trained.\n",
      "Training Fold 2:   2%|▏         | 9/522 [00:03<02:48,  3.05train_batch/s]"
     ]
    }
   ],
   "source": [
    "if config.train:\n",
    "    oof_df = pd.DataFrame()\n",
    "\n",
    "    for fold in range(config.n_folds):\n",
    "        if fold in config.train_folds:\n",
    "            _oof_df = train_all_groups(fold)\n",
    "            log_metrics(_oof_df, f\"Fold {fold}\")\n",
    "            oof_df = pd.concat([oof_df, _oof_df])\n",
    "            print(f\"========== Fold: {fold} result ==========\")\n",
    "            get_result(_oof_df)\n",
    "\n",
    "    oof_df = oof_df.reset_index(drop=True)\n",
    "    print(f\"========== CV ==========\")\n",
    "    score = get_result(oof_df)\n",
    "    wandb.log({\"CV/qwk_score\": score})\n",
    "    oof_df.to_csv(Paths.MODEL_OUTPUT_PATH + \"/oof_df.csv\", index=False)"
   ]
  },
  {
   "cell_type": "code",
   "execution_count": null,
   "metadata": {},
   "outputs": [],
   "source": [
    "wandb.log({\"oof_table\": wandb.Table(dataframe=oof_df)})"
   ]
  },
  {
   "cell_type": "markdown",
   "metadata": {},
   "source": [
    "## Evaluate"
   ]
  },
  {
   "cell_type": "code",
   "execution_count": null,
   "metadata": {},
   "outputs": [],
   "source": [
    "log_metrics(oof_df, \"Overall\")"
   ]
  },
  {
   "cell_type": "markdown",
   "metadata": {},
   "source": [
    "### Confusion Matrix"
   ]
  },
  {
   "cell_type": "code",
   "execution_count": null,
   "metadata": {},
   "outputs": [
    {
     "data": {
      "image/png": "[encoded data removed]",
      "text/plain": [
       "<Figure size 640x480 with 2 Axes>"
      ]
     },
     "metadata": {},
     "output_type": "display_data"
    }
   ],
   "source": [
    "cm = confusion_matrix(oof_df[\"score\"], oof_df[\"pred_score\"])\n",
    "disp = ConfusionMatrixDisplay(confusion_matrix=cm, display_labels=list(range(config.num_classes)))\n",
    "\n",
    "# Plot the confusion matrix\n",
    "disp.plot(cmap='viridis', values_format='d')\n",
    "plt.title(\"Confusion Matrix\")\n",
    "plt.show()"
   ]
  },
  {
   "cell_type": "markdown",
   "metadata": {},
   "source": [
    "Finish experiment"
   ]
  },
  {
   "cell_type": "code",
   "execution_count": null,
   "metadata": {},
   "outputs": [
    {
     "data": {
      "text/html": [
       "<style>\n",
       "    table.wandb td:nth-child(1) { padding: 0 10px; text-align: left ; width: auto;} td:nth-child(2) {text-align: left ; width: 100%}\n",
       "    .wandb-row { display: flex; flex-direction: row; flex-wrap: wrap; justify-content: flex-start; width: 100% }\n",
       "    .wandb-col { display: flex; flex-direction: column; flex-basis: 100%; flex: 1; padding: 10px; }\n",
       "    </style>\n",
       "<div class=\"wandb-row\"><div class=\"wandb-col\"><h3>Run history:</h3><br/><table class=\"wandb\"><tr><td>CV/qwk_score</td><td>▁</td></tr><tr><td>eval/eval_epoch_f0</td><td>▁</td></tr><tr><td>eval/eval_epoch_f0_g0</td><td>▁█</td></tr><tr><td>eval/eval_epoch_f0_g1</td><td>▁█</td></tr><tr><td>eval/eval_epoch_f0_g2</td><td>▁█</td></tr><tr><td>eval/eval_epoch_f1</td><td>▁</td></tr><tr><td>eval/eval_epoch_f1_g0</td><td>▁█</td></tr><tr><td>eval/eval_epoch_f1_g1</td><td>▁█</td></tr><tr><td>eval/eval_epoch_f1_g2</td><td>▁█</td></tr><tr><td>eval/eval_epoch_f2</td><td>▁</td></tr><tr><td>eval/eval_epoch_f2_g0</td><td>▁█</td></tr><tr><td>eval/eval_epoch_f2_g1</td><td>▁█</td></tr><tr><td>eval/eval_epoch_f2_g2</td><td>▁█</td></tr><tr><td>eval/eval_epoch_f3</td><td>▁</td></tr><tr><td>eval/eval_epoch_f3_g0</td><td>▁█</td></tr><tr><td>eval/eval_epoch_f3_g1</td><td>▁█</td></tr><tr><td>eval/eval_epoch_f3_g2</td><td>▁█</td></tr><tr><td>eval/eval_epoch_f4</td><td>▁</td></tr><tr><td>eval/eval_epoch_f4_g0</td><td>▁█</td></tr><tr><td>eval/eval_epoch_f4_g1</td><td>▁█</td></tr><tr><td>eval/eval_epoch_f4_g2</td><td>▁█</td></tr><tr><td>eval/eval_loss_f0_g0</td><td>█▁</td></tr><tr><td>eval/eval_loss_f0_g1</td><td>█▁</td></tr><tr><td>eval/eval_loss_f0_g2</td><td>▁█</td></tr><tr><td>eval/eval_loss_f1_g0</td><td>█▁</td></tr><tr><td>eval/eval_loss_f1_g1</td><td>█▁</td></tr><tr><td>eval/eval_loss_f1_g2</td><td>▁█</td></tr><tr><td>eval/eval_loss_f2_g0</td><td>█▁</td></tr><tr><td>eval/eval_loss_f2_g1</td><td>▁█</td></tr><tr><td>eval/eval_loss_f2_g2</td><td>▁█</td></tr><tr><td>eval/eval_loss_f3_g0</td><td>█▁</td></tr><tr><td>eval/eval_loss_f3_g1</td><td>█▁</td></tr><tr><td>eval/eval_loss_f3_g2</td><td>▁█</td></tr><tr><td>eval/eval_loss_f4_g0</td><td>█▁</td></tr><tr><td>eval/eval_loss_f4_g1</td><td>█▁</td></tr><tr><td>eval/eval_loss_f4_g2</td><td>▁█</td></tr><tr><td>eval/qwk_score_f0</td><td>▁</td></tr><tr><td>eval/qwk_score_f0_g0</td><td>▁█</td></tr><tr><td>eval/qwk_score_f0_g1</td><td>▁█</td></tr><tr><td>eval/qwk_score_f0_g2</td><td>▁█</td></tr><tr><td>eval/qwk_score_f1</td><td>▁</td></tr><tr><td>eval/qwk_score_f1_g0</td><td>▁█</td></tr><tr><td>eval/qwk_score_f1_g1</td><td>▁█</td></tr><tr><td>eval/qwk_score_f1_g2</td><td>▁█</td></tr><tr><td>eval/qwk_score_f2</td><td>▁</td></tr><tr><td>eval/qwk_score_f2_g0</td><td>▁█</td></tr><tr><td>eval/qwk_score_f2_g1</td><td>▁█</td></tr><tr><td>eval/qwk_score_f2_g2</td><td>█▁</td></tr><tr><td>eval/qwk_score_f3</td><td>▁</td></tr><tr><td>eval/qwk_score_f3_g0</td><td>▁█</td></tr><tr><td>eval/qwk_score_f3_g1</td><td>█▁</td></tr><tr><td>eval/qwk_score_f3_g2</td><td>▁█</td></tr><tr><td>eval/qwk_score_f4</td><td>▁</td></tr><tr><td>eval/qwk_score_f4_g0</td><td>▁█</td></tr><tr><td>eval/qwk_score_f4_g1</td><td>▁█</td></tr><tr><td>eval/qwk_score_f4_g2</td><td>▁█</td></tr><tr><td>train/epoch_f0</td><td>▁▂▃▄▅▆▇▂▃▄▅▆▇▁▂▃▄▅▆▇▁▂▄▅▆▇█▂▃▄▅▆▇▁▂▃▄▅▆█</td></tr><tr><td>train/epoch_f1</td><td>▁▂▃▄▅▆▇▂▃▄▅▆▇▁▂▃▄▅▆▇▁▂▄▅▆▇█▂▃▄▅▆▇▁▂▃▄▅▆█</td></tr><tr><td>train/epoch_f2</td><td>▁▂▃▄▅▆▇▂▃▄▅▆▇▁▂▃▄▅▆▇▁▂▄▅▆▇█▂▃▄▅▆▇▁▂▃▄▅▆█</td></tr><tr><td>train/epoch_f3</td><td>▁▂▃▄▅▆▇▂▃▄▅▆▇▁▂▃▄▅▆▇▁▂▄▅▆▇█▂▃▄▅▆▇▁▂▃▄▅▆█</td></tr><tr><td>train/epoch_f4</td><td>▁▂▃▄▅▆▇▂▃▄▅▆▇▁▂▃▄▅▆▇▁▂▄▅▆▇█▂▃▄▅▆▇▁▂▃▄▅▆█</td></tr><tr><td>train/grad_norm_f0</td><td>▁▁▁▃▂▁▄█▃▄▃▂▄▁▁▃▁▂▁▂▆▄▆▃▃▄▃▂▄▃▅▂▂▆▃▃▃▂▂▂</td></tr><tr><td>train/grad_norm_f1</td><td>▂▂▄▅▄▄▂▃▅▃█▃▄▁▂▂▃▃▂▃▂▂▂▃▃▂▂▁▁▃▃▂▂▂▃▄▄▄▃▃</td></tr><tr><td>train/grad_norm_f2</td><td>▁▁▂▂▃▂▂▂▃▃▆▄▃▁▁▂▁▂▂▂▄▄▆▇▆▃▄▁▁▃▁▃▂█▆▅▃▂▄▄</td></tr><tr><td>train/grad_norm_f3</td><td>▁▂▃▁▂▁▂▅▂▂▂▂▃▁▁▁▁▁▂▂▂▄▅▂▁▃▂▂▃▂▃▃▄▃▂█▂▂▂▁</td></tr><tr><td>train/grad_norm_f4</td><td>▁▂▂▂ ▂▃█▄▆▄▆▃▁▁▂▁▂▂▃▅▃▂▂▂▂▁▁▁▂▁▁▄▃▃▃▂▂▄▂</td></tr><tr><td>train/learning_rate_f0</td><td>▁▂▄▇█▂▅▆█▂▄▆█▅▃▁▁▃▂▁▁▂▃▁▁▃▂█▆▄▂█▆▄▂█▆▄▂█</td></tr><tr><td>train/learning_rate_f1</td><td>▁▂▄▇█▂▅▆█▂▄▆█▅▃▁▁▃▂▁▁▂▃▁▁▃▃█▆▄▂█▆▅▂█▇▄▂█</td></tr><tr><td>train/learning_rate_f2</td><td>▁▂▄▇█▂▅▆█▂▄▆█▅▃▁▁▃▂▁▁▂▃▁▁▃▂█▆▄▂█▆▄▂█▆▄▂█</td></tr><tr><td>train/learning_rate_f3</td><td>▁▂▄▇█▂▅▆█▂▄▆█▅▃▁▁▃▂▁▁▂▃▁▁▃▂█▆▄▂█▆▄▂█▆▄▂█</td></tr><tr><td>train/learning_rate_f4</td><td>▁▂▄▇█▂▅▆█▂▄▆█▅▃▁▁▃▂▁▁▂▃▁▁▃▂█▆▄▂█▆▄▂█▆▄▂█</td></tr><tr><td>train/train_loss_f0</td><td>█▆▅▅▄▄▃▁▁▁▁▁▁█▇▅▅▄▄▄▂▂▂▂▂▂▂▇▆▅▄▄▃▂▁▁▁▁▁▁</td></tr><tr><td>train/train_loss_f1</td><td>█▆▅▅▄▄▃▂▁▁▂▁▁█▇▆▅▅▄▄▃▂▂▂▂▂▂▇▆▅▄▃▃▁▁▁▁▁▁▁</td></tr><tr><td>train/train_loss_f2</td><td>█▆▅▄▄▃▃▂▂▂▂▂▂█▇▆▅▅▄▄▂▂▂▂▂▂▂▇▅▄▄▃▃▁▁▁▁▁▁▁</td></tr><tr><td>train/train_loss_f3</td><td>▆▅▄▄▄▃▃▂▂▂▂▂▂█▆▅▄▄▄▄▂▂▂▂▂▂▂▆▅▄▃▃▃▁▁▁▁▁▁▁</td></tr><tr><td>train/train_loss_f4</td><td>█▆▅▅▄▄▃▂▂▂▂▁▁█▆▅▅▄▄▄▂▂▂▂▂▂▂▇▅▄▄▃▃▂▁▁▁▁▁▁</td></tr></table><br/></div><div class=\"wandb-col\"><h3>Run summary:</h3><br/><table class=\"wandb\"><tr><td>CV/qwk_score</td><td>0.72748</td></tr><tr><td>eval/eval_epoch_f0</td><td>2</td></tr><tr><td>eval/eval_epoch_f0_g0</td><td>2</td></tr><tr><td>eval/eval_epoch_f0_g1</td><td>2</td></tr><tr><td>eval/eval_epoch_f0_g2</td><td>2</td></tr><tr><td>eval/eval_epoch_f1</td><td>2</td></tr><tr><td>eval/eval_epoch_f1_g0</td><td>2</td></tr><tr><td>eval/eval_epoch_f1_g1</td><td>2</td></tr><tr><td>eval/eval_epoch_f1_g2</td><td>2</td></tr><tr><td>eval/eval_epoch_f2</td><td>2</td></tr><tr><td>eval/eval_epoch_f2_g0</td><td>2</td></tr><tr><td>eval/eval_epoch_f2_g1</td><td>2</td></tr><tr><td>eval/eval_epoch_f2_g2</td><td>2</td></tr><tr><td>eval/eval_epoch_f3</td><td>2</td></tr><tr><td>eval/eval_epoch_f3_g0</td><td>2</td></tr><tr><td>eval/eval_epoch_f3_g1</td><td>2</td></tr><tr><td>eval/eval_epoch_f3_g2</td><td>2</td></tr><tr><td>eval/eval_epoch_f4</td><td>2</td></tr><tr><td>eval/eval_epoch_f4_g0</td><td>2</td></tr><tr><td>eval/eval_epoch_f4_g1</td><td>2</td></tr><tr><td>eval/eval_epoch_f4_g2</td><td>2</td></tr><tr><td>eval/eval_loss_f0_g0</td><td>0.97909</td></tr><tr><td>eval/eval_loss_f0_g1</td><td>1.02013</td></tr><tr><td>eval/eval_loss_f0_g2</td><td>2.86677</td></tr><tr><td>eval/eval_loss_f1_g0</td><td>0.95475</td></tr><tr><td>eval/eval_loss_f1_g1</td><td>1.05226</td></tr><tr><td>eval/eval_loss_f1_g2</td><td>3.05158</td></tr><tr><td>eval/eval_loss_f2_g0</td><td>1.00131</td></tr><tr><td>eval/eval_loss_f2_g1</td><td>1.10552</td></tr><tr><td>eval/eval_loss_f2_g2</td><td>2.90579</td></tr><tr><td>eval/eval_loss_f3_g0</td><td>0.95347</td></tr><tr><td>eval/eval_loss_f3_g1</td><td>1.01986</td></tr><tr><td>eval/eval_loss_f3_g2</td><td>3.29495</td></tr><tr><td>eval/eval_loss_f4_g0</td><td>1.00866</td></tr><tr><td>eval/eval_loss_f4_g1</td><td>1.02512</td></tr><tr><td>eval/eval_loss_f4_g2</td><td>3.20793</td></tr><tr><td>eval/qwk_score_f0</td><td>0.73267</td></tr><tr><td>eval/qwk_score_f0_g0</td><td>0.78059</td></tr><tr><td>eval/qwk_score_f0_g1</td><td>0.7833</td></tr><tr><td>eval/qwk_score_f0_g2</td><td>0.60442</td></tr><tr><td>eval/qwk_score_f1</td><td>0.73933</td></tr><tr><td>eval/qwk_score_f1_g0</td><td>0.79489</td></tr><tr><td>eval/qwk_score_f1_g1</td><td>0.77151</td></tr><tr><td>eval/qwk_score_f1_g2</td><td>0.61574</td></tr><tr><td>eval/qwk_score_f2</td><td>0.73067</td></tr><tr><td>eval/qwk_score_f2_g0</td><td>0.78445</td></tr><tr><td>eval/qwk_score_f2_g1</td><td>0.76649</td></tr><tr><td>eval/qwk_score_f2_g2</td><td>0.58331</td></tr><tr><td>eval/qwk_score_f3</td><td>0.72461</td></tr><tr><td>eval/qwk_score_f3_g0</td><td>0.79734</td></tr><tr><td>eval/qwk_score_f3_g1</td><td>0.7772</td></tr><tr><td>eval/qwk_score_f3_g2</td><td>0.59899</td></tr><tr><td>eval/qwk_score_f4</td><td>0.71099</td></tr><tr><td>eval/qwk_score_f4_g0</td><td>0.77832</td></tr><tr><td>eval/qwk_score_f4_g1</td><td>0.78332</td></tr><tr><td>eval/qwk_score_f4_g2</td><td>0.5956</td></tr><tr><td>train/epoch_f0</td><td>32.95455</td></tr><tr><td>train/epoch_f1</td><td>32.90909</td></tr><tr><td>train/epoch_f2</td><td>32.95455</td></tr><tr><td>train/epoch_f3</td><td>32.95455</td></tr><tr><td>train/epoch_f4</td><td>32.95455</td></tr><tr><td>train/grad_norm_f0</td><td>87700.82812</td></tr><tr><td>train/grad_norm_f1</td><td>90852.8125</td></tr><tr><td>train/grad_norm_f2</td><td>67850.42188</td></tr><tr><td>train/grad_norm_f3</td><td>94463.72656</td></tr><tr><td>train/grad_norm_f4</td><td>108445.21094</td></tr><tr><td>train/learning_rate_f0</td><td>0.0</td></tr><tr><td>train/learning_rate_f1</td><td>1e-05</td></tr><tr><td>train/learning_rate_f2</td><td>0.0</td></tr><tr><td>train/learning_rate_f3</td><td>0.0</td></tr><tr><td>train/learning_rate_f4</td><td>0.0</td></tr><tr><td>train/train_loss_f0</td><td>0.77528</td></tr><tr><td>train/train_loss_f1</td><td>0.7491</td></tr><tr><td>train/train_loss_f2</td><td>0.72456</td></tr><tr><td>train/train_loss_f3</td><td>0.73817</td></tr><tr><td>train/train_loss_f4</td><td>0.72712</td></tr></table><br/></div></div>"
      ],
      "text/plain": [
       "<IPython.core.display.HTML object>"
      ]
     },
     "metadata": {},
     "output_type": "display_data"
    },
    {
     "data": {
      "text/html": [
       " View run <strong style=\"color:#cdcd00\">deberta-v3-xsmall-512-D6-T2</strong> at: <a href='https://wandb.ai/laplacesdemon43/Kaggle_ASE_2.0/runs/y3fk0g3i' target=\"_blank\">https://wandb.ai/laplacesdemon43/Kaggle_ASE_2.0/runs/y3fk0g3i</a><br/> View project at: <a href='https://wandb.ai/laplacesdemon43/Kaggle_ASE_2.0' target=\"_blank\">https://wandb.ai/laplacesdemon43/Kaggle_ASE_2.0</a><br/>Synced 6 W&B file(s), 25 media file(s), 25 artifact file(s) and 1 other file(s)"
      ],
      "text/plain": [
       "<IPython.core.display.HTML object>"
      ]
     },
     "metadata": {},
     "output_type": "display_data"
    },
    {
     "data": {
      "text/html": [
       "Find logs at: <code>./wandb/run-20240508_230000-y3fk0g3i/logs</code>"
      ],
      "text/plain": [
       "<IPython.core.display.HTML object>"
      ]
     },
     "metadata": {},
     "output_type": "display_data"
    }
   ],
   "source": [
    "wandb.finish()"
   ]
  }
 ],
 "metadata": {
  "kernelspec": {
   "display_name": "venv",
   "language": "python",
   "name": "python3"
  },
  "language_info": {
   "codemirror_mode": {
    "name": "ipython",
    "version": 3
   },
   "file_extension": ".py",
   "mimetype": "text/x-python",
   "name": "python",
   "nbconvert_exporter": "python",
   "pygments_lexer": "ipython3",
   "version": "3.11.8"
  }
 },
 "nbformat": 4,
 "nbformat_minor": 2
}
