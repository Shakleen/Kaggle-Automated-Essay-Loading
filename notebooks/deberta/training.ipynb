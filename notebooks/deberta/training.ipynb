{
 "cells": [
  {
   "cell_type": "markdown",
   "metadata": {},
   "source": [
    "# 🏋️ Model Training"
   ]
  },
  {
   "cell_type": "markdown",
   "metadata": {},
   "source": [
    "## ⚙️ Setup "
   ]
  },
  {
   "cell_type": "markdown",
   "metadata": {},
   "source": [
    "### 📚 Importing Libraries"
   ]
  },
  {
   "cell_type": "markdown",
   "metadata": {},
   "source": [
    "Importing from packages"
   ]
  },
  {
   "cell_type": "code",
   "execution_count": 1,
   "metadata": {
    "metadata": {}
   },
   "outputs": [],
   "source": [
    "import os\n",
    "import gc\n",
    "import time\n",
    "from dotenv import load_dotenv\n",
    "\n",
    "import pandas as pd\n",
    "import numpy as np\n",
    "import torch\n",
    "from torch import nn\n",
    "import wandb\n",
    "from pprint import pprint\n",
    "import warnings\n",
    "\n",
    "import matplotlib.pyplot as plt\n",
    "import plotly.express as px\n",
    "import plotly.graph_objects as go\n",
    "from sklearn.metrics import confusion_matrix, ConfusionMatrixDisplay"
   ]
  },
  {
   "cell_type": "code",
   "execution_count": 2,
   "metadata": {},
   "outputs": [
    {
     "data": {
      "text/plain": [
       "True"
      ]
     },
     "execution_count": 2,
     "metadata": {},
     "output_type": "execute_result"
    }
   ],
   "source": [
    "os.chdir(\"../../\")\n",
    "warnings.filterwarnings(\"ignore\")\n",
    "load_dotenv()"
   ]
  },
  {
   "cell_type": "markdown",
   "metadata": {},
   "source": [
    "Importing user defined packages"
   ]
  },
  {
   "cell_type": "code",
   "execution_count": 3,
   "metadata": {},
   "outputs": [],
   "source": [
    "from lib.config import config\n",
    "from lib.paths import Paths\n",
    "from lib.model.epoch_functions import train_epoch, valid_epoch\n",
    "from lib.model.utils import get_score, get_model_optimizer_and_scheduler\n",
    "from lib.utils.utils import seed_everything\n",
    "from lib.data_tools.data import read_data_loader_from_disk\n",
    "from lib.criterion.metrics import log_metrics"
   ]
  },
  {
   "cell_type": "code",
   "execution_count": 4,
   "metadata": {},
   "outputs": [
    {
     "name": "stdout",
     "output_type": "stream",
     "text": [
      "namespace(apex=True,\n",
      "          batch_scheduler=True,\n",
      "          batch_size_train=32,\n",
      "          batch_size_valid=32,\n",
      "          betas=[0.9, 0.999],\n",
      "          data_version=2,\n",
      "          debug=False,\n",
      "          decoder_lr=2e-05,\n",
      "          encoder_lr=2e-05,\n",
      "          epochs=2,\n",
      "          eps=1e-06,\n",
      "          gradient_accumulation_steps=1,\n",
      "          gradient_checkpointing=True,\n",
      "          max_grad_norm=1000,\n",
      "          max_length=512,\n",
      "          min_lr=1e-06,\n",
      "          model='microsoft/deberta-v3-xsmall',\n",
      "          n_folds=7,\n",
      "          negative_sample=True,\n",
      "          negative_sample_partitions=3,\n",
      "          num_classes=6,\n",
      "          num_cycles=0.5,\n",
      "          num_warmup_steps=0,\n",
      "          num_workers=6,\n",
      "          positive_classes=[0, 5],\n",
      "          negative_classes=[1, 2, 3, 4],\n",
      "          print_freq=6,\n",
      "          random_seed=20,\n",
      "          regression=False,\n",
      "          scheduler='cosine',\n",
      "          stride=192,\n",
      "          tokenizer_version=2,\n",
      "          train=True,\n",
      "          train_folds=[0, 1, 2, 3, 4, 5, 6, 7],\n",
      "          weight_decay=0.01)\n"
     ]
    }
   ],
   "source": [
    "pprint(config)"
   ]
  },
  {
   "cell_type": "code",
   "execution_count": 5,
   "metadata": {},
   "outputs": [],
   "source": [
    "seed_everything()"
   ]
  },
  {
   "cell_type": "markdown",
   "metadata": {},
   "source": [
    "### Setting Up WandB"
   ]
  },
  {
   "cell_type": "code",
   "execution_count": 6,
   "metadata": {},
   "outputs": [],
   "source": [
    "WANDB_PROJECT = \"Kaggle_ASE_2.0\"\n",
    "model_name = config.model.split(\"/\")[-1]\n",
    "WANDB_NAME = f\"{model_name}-{config.max_length}-D{config.data_version}-T{config.tokenizer_version}\""
   ]
  },
  {
   "cell_type": "code",
   "execution_count": 7,
   "metadata": {},
   "outputs": [
    {
     "name": "stderr",
     "output_type": "stream",
     "text": [
      "Failed to detect the name of this notebook, you can set it manually with the WANDB_NOTEBOOK_NAME environment variable to enable code saving.\n",
      "\u001b[34m\u001b[1mwandb\u001b[0m: Currently logged in as: \u001b[33mshakleenishfar\u001b[0m (\u001b[33mlaplacesdemon43\u001b[0m). Use \u001b[1m`wandb login --relogin`\u001b[0m to force relogin\n",
      "\u001b[34m\u001b[1mwandb\u001b[0m: \u001b[33mWARNING\u001b[0m If you're specifying your api key in code, ensure this code is not shared publicly.\n",
      "\u001b[34m\u001b[1mwandb\u001b[0m: \u001b[33mWARNING\u001b[0m Consider setting the WANDB_API_KEY environment variable, or running `wandb login` from the command line.\n",
      "\u001b[34m\u001b[1mwandb\u001b[0m: Appending key for api.wandb.ai to your netrc file: /home/ishfar/.netrc\n"
     ]
    },
    {
     "data": {
      "text/html": [
       "wandb version 0.17.0 is available!  To upgrade, please run:\n",
       " $ pip install wandb --upgrade"
      ],
      "text/plain": [
       "<IPython.core.display.HTML object>"
      ]
     },
     "metadata": {},
     "output_type": "display_data"
    },
    {
     "data": {
      "text/html": [
       "Tracking run with wandb version 0.16.6"
      ],
      "text/plain": [
       "<IPython.core.display.HTML object>"
      ]
     },
     "metadata": {},
     "output_type": "display_data"
    },
    {
     "data": {
      "text/html": [
       "Run data is saved locally in <code>/media/ishfar/New Volume/Studies/Projects/Kaggle-Automated-Essay-Scoring/wandb/run-20240521_092007-nii7jo2y</code>"
      ],
      "text/plain": [
       "<IPython.core.display.HTML object>"
      ]
     },
     "metadata": {},
     "output_type": "display_data"
    },
    {
     "data": {
      "text/html": [
       "Syncing run <strong><a href='https://wandb.ai/laplacesdemon43/Kaggle_ASE_2.0/runs/nii7jo2y' target=\"_blank\">deberta-v3-xsmall-512-D2-T2</a></strong> to <a href='https://wandb.ai/laplacesdemon43/Kaggle_ASE_2.0' target=\"_blank\">Weights & Biases</a> (<a href='https://wandb.me/run' target=\"_blank\">docs</a>)<br/>"
      ],
      "text/plain": [
       "<IPython.core.display.HTML object>"
      ]
     },
     "metadata": {},
     "output_type": "display_data"
    },
    {
     "data": {
      "text/html": [
       " View project at <a href='https://wandb.ai/laplacesdemon43/Kaggle_ASE_2.0' target=\"_blank\">https://wandb.ai/laplacesdemon43/Kaggle_ASE_2.0</a>"
      ],
      "text/plain": [
       "<IPython.core.display.HTML object>"
      ]
     },
     "metadata": {},
     "output_type": "display_data"
    },
    {
     "data": {
      "text/html": [
       " View run at <a href='https://wandb.ai/laplacesdemon43/Kaggle_ASE_2.0/runs/nii7jo2y' target=\"_blank\">https://wandb.ai/laplacesdemon43/Kaggle_ASE_2.0/runs/nii7jo2y</a>"
      ],
      "text/plain": [
       "<IPython.core.display.HTML object>"
      ]
     },
     "metadata": {},
     "output_type": "display_data"
    }
   ],
   "source": [
    "wandb.login(key=os.environ.get('WANDB_API_KEY'))\n",
    "wandb.init(\n",
    "    project=WANDB_PROJECT,\n",
    "    name=WANDB_NAME,\n",
    "    save_code=True,\n",
    "    job_type=\"train\",\n",
    "    config=config,\n",
    ")\n",
    "config = wandb.config"
   ]
  },
  {
   "cell_type": "markdown",
   "metadata": {},
   "source": [
    "## 📖 Definitions"
   ]
  },
  {
   "cell_type": "markdown",
   "metadata": {},
   "source": [
    "### 🌎 Global Variables"
   ]
  },
  {
   "cell_type": "code",
   "execution_count": 8,
   "metadata": {},
   "outputs": [],
   "source": [
    "device = torch.device('cuda' if torch.cuda.is_available() else 'cpu')"
   ]
  },
  {
   "cell_type": "markdown",
   "metadata": {},
   "source": [
    "The competition data has a class imbalance problem. Which is why I assign higher weights to classes having lower samples."
   ]
  },
  {
   "cell_type": "code",
   "execution_count": 9,
   "metadata": {},
   "outputs": [],
   "source": [
    "# class_weights = torch.tensor([1.0, 0.25, 0.25, 0.5, 1.0, 2.0]).to(device)\n",
    "class_weights = torch.tensor([1.0] * 6).to(device)"
   ]
  },
  {
   "cell_type": "markdown",
   "metadata": {},
   "source": [
    "### 🛠️ Functions"
   ]
  },
  {
   "cell_type": "code",
   "execution_count": 10,
   "metadata": {},
   "outputs": [],
   "source": [
    "def train_loop(fold):\n",
    "    print(f\"========== Fold: {fold} training ==========\")\n",
    "\n",
    "    # ======== DATA LOADER ==========\n",
    "    train_loader, valid_loader = read_data_loader_from_disk(fold)\n",
    "    valid_fold = pd.read_csv(os.path.join(Paths.DATA_LOADER_PATH, f\"valid_{fold}.csv\"))\n",
    "    valid_labels = valid_fold[\"score\"].values\n",
    "\n",
    "    # ======== MODEL ==========\n",
    "    model, optimizer, scheduler = get_model_optimizer_and_scheduler(\n",
    "        train_loader, device\n",
    "    )\n",
    "\n",
    "    # ======= LOSS ==========\n",
    "    # criterion = RMSELoss(reduction=\"mean\") # nn.SmoothL1Loss(reduction='mean')\n",
    "    criterion = nn.CrossEntropyLoss(weight=class_weights)\n",
    "    softmax = nn.Softmax(dim=1)\n",
    "\n",
    "    best_score = -np.inf\n",
    "    # ====== ITERATE EPOCHS ========\n",
    "    for epoch in range(config.epochs):\n",
    "        start_time = time.time()\n",
    "\n",
    "        # ======= TRAIN ==========\n",
    "        avg_loss = train_epoch(\n",
    "            fold,\n",
    "            train_loader,\n",
    "            model,\n",
    "            criterion,\n",
    "            optimizer,\n",
    "            epoch,\n",
    "            scheduler,\n",
    "            device,\n",
    "        )\n",
    "\n",
    "        # ======= EVALUATION ==========\n",
    "        avg_val_loss, prediction_dict = valid_epoch(\n",
    "            fold, valid_loader, model, criterion, device\n",
    "        )\n",
    "        predictions = prediction_dict[\"predictions\"]\n",
    "        _, pred_scores = torch.max(softmax(torch.tensor(predictions)), dim=1)\n",
    "\n",
    "        # ======= SCORING ==========\n",
    "        score = get_score(valid_labels, pred_scores)\n",
    "\n",
    "        wandb.log(\n",
    "            {\n",
    "                f\"eval/eval_epoch_f{fold}\": epoch + 1,\n",
    "                f\"eval/eval_loss_f{fold}\": avg_val_loss,\n",
    "                f\"eval/qwk_score_f{fold}\": score,\n",
    "            }\n",
    "        )\n",
    "\n",
    "        elapsed = time.time() - start_time\n",
    "\n",
    "        print(\n",
    "            f\"Epoch {epoch+1} - avg_train_loss: {avg_loss:.4f}  avg_val_loss: {avg_val_loss:.4f}  time: {elapsed:.0f}s\"\n",
    "        )\n",
    "        print(f\"Epoch {epoch+1} - Score: {score:.4f}\")\n",
    "\n",
    "        if score > best_score:\n",
    "            best_score = score\n",
    "            print(f\"Epoch {epoch+1} - Save Best Score: {best_score:.4f} Model\")\n",
    "            torch.save(\n",
    "                {\"model\": model.state_dict(), \"predictions\": predictions},\n",
    "                os.path.join(\n",
    "                    Paths.MODEL_OUTPUT_PATH,\n",
    "                    f\"{config.model.replace('/', '_')}_fold_{fold}_best.pth\",\n",
    "                ),\n",
    "            )\n",
    "\n",
    "    predictions = torch.load(\n",
    "        Paths.MODEL_OUTPUT_PATH\n",
    "        + f\"/{config.model.replace('/', '_')}_fold_{fold}_best.pth\",\n",
    "        map_location=torch.device(\"cpu\"),\n",
    "    )[\"predictions\"]\n",
    "    predictions = softmax(torch.tensor(predictions))\n",
    "    _, pred_scores = torch.max(predictions, dim=1)\n",
    "    valid_fold[\"pred_score\"] = pred_scores\n",
    "\n",
    "    for i in range(config.num_classes):\n",
    "        valid_fold[f\"score_prob_{i}\"] = predictions[:, i]\n",
    "\n",
    "    del model, optimizer, scheduler, criterion, softmax\n",
    "    torch.cuda.empty_cache()\n",
    "    gc.collect()\n",
    "\n",
    "    return valid_fold"
   ]
  },
  {
   "cell_type": "code",
   "execution_count": 11,
   "metadata": {},
   "outputs": [],
   "source": [
    "def get_result(oof_df):\n",
    "    labels = oof_df[\"score\"].values\n",
    "    preds = oof_df[\"pred_score\"].values\n",
    "    score = get_score(labels, preds)\n",
    "    print(f'Score: {score:<.4f}')\n",
    "    return score"
   ]
  },
  {
   "cell_type": "markdown",
   "metadata": {},
   "source": [
    "## 🏁 Start Training"
   ]
  },
  {
   "cell_type": "code",
   "execution_count": 12,
   "metadata": {},
   "outputs": [
    {
     "name": "stdout",
     "output_type": "stream",
     "text": [
      "========== Fold: 0 training ==========\n"
     ]
    },
    {
     "name": "stderr",
     "output_type": "stream",
     "text": [
      "Special tokens have been added in the vocabulary, make sure the associated word embeddings are fine-tuned or trained.\n",
      "Training Fold 0: 100%|██████████| 619/619 [03:17<00:00,  3.13train_batch/s]\n",
      "Validating Fold 0: 100%|██████████| 126/126 [00:20<00:00,  6.18valid_batch/s]\n"
     ]
    },
    {
     "name": "stdout",
     "output_type": "stream",
     "text": [
      "Epoch 1 - avg_train_loss: 1.1815  avg_val_loss: 1.0896  time: 218s\n",
      "Epoch 1 - Score: 0.6921\n",
      "Epoch 1 - Save Best Score: 0.6921 Model\n"
     ]
    },
    {
     "name": "stderr",
     "output_type": "stream",
     "text": [
      "Training Fold 0: 100%|██████████| 619/619 [03:18<00:00,  3.11train_batch/s]\n",
      "Validating Fold 0: 100%|██████████| 126/126 [00:20<00:00,  6.19valid_batch/s]\n"
     ]
    },
    {
     "name": "stdout",
     "output_type": "stream",
     "text": [
      "Epoch 2 - avg_train_loss: 0.9532  avg_val_loss: 1.0114  time: 219s\n",
      "Epoch 2 - Score: 0.7680\n",
      "Epoch 2 - Save Best Score: 0.7680 Model\n",
      "========== Fold: 0 result ==========\n",
      "Score: 0.7680\n",
      "========== Fold: 1 training ==========\n"
     ]
    },
    {
     "name": "stderr",
     "output_type": "stream",
     "text": [
      "Special tokens have been added in the vocabulary, make sure the associated word embeddings are fine-tuned or trained.\n",
      "Training Fold 1: 100%|██████████| 622/622 [03:19<00:00,  3.11train_batch/s]\n",
      "Validating Fold 1: 100%|██████████| 122/122 [00:19<00:00,  6.18valid_batch/s]\n"
     ]
    },
    {
     "name": "stdout",
     "output_type": "stream",
     "text": [
      "Epoch 1 - avg_train_loss: 1.1472  avg_val_loss: 1.0990  time: 219s\n",
      "Epoch 1 - Score: 0.7309\n",
      "Epoch 1 - Save Best Score: 0.7309 Model\n"
     ]
    },
    {
     "name": "stderr",
     "output_type": "stream",
     "text": [
      "Training Fold 1: 100%|██████████| 622/622 [03:19<00:00,  3.12train_batch/s]\n",
      "Validating Fold 1: 100%|██████████| 122/122 [00:19<00:00,  6.18valid_batch/s]\n"
     ]
    },
    {
     "name": "stdout",
     "output_type": "stream",
     "text": [
      "Epoch 2 - avg_train_loss: 0.9293  avg_val_loss: 1.0126  time: 219s\n",
      "Epoch 2 - Score: 0.7528\n",
      "Epoch 2 - Save Best Score: 0.7528 Model\n",
      "========== Fold: 1 result ==========\n",
      "Score: 0.7528\n",
      "========== Fold: 2 training ==========\n"
     ]
    },
    {
     "name": "stderr",
     "output_type": "stream",
     "text": [
      "Special tokens have been added in the vocabulary, make sure the associated word embeddings are fine-tuned or trained.\n",
      "Training Fold 2: 100%|██████████| 636/636 [03:24<00:00,  3.12train_batch/s]\n",
      "Validating Fold 2: 100%|██████████| 109/109 [00:17<00:00,  6.16valid_batch/s]\n"
     ]
    },
    {
     "name": "stdout",
     "output_type": "stream",
     "text": [
      "Epoch 1 - avg_train_loss: 1.1502  avg_val_loss: 1.1468  time: 222s\n",
      "Epoch 1 - Score: 0.6214\n",
      "Epoch 1 - Save Best Score: 0.6214 Model\n"
     ]
    },
    {
     "name": "stderr",
     "output_type": "stream",
     "text": [
      "Training Fold 2: 100%|██████████| 636/636 [03:23<00:00,  3.12train_batch/s]\n",
      "Validating Fold 2: 100%|██████████| 109/109 [00:17<00:00,  6.22valid_batch/s]\n"
     ]
    },
    {
     "name": "stdout",
     "output_type": "stream",
     "text": [
      "Epoch 2 - avg_train_loss: 0.9206  avg_val_loss: 1.1501  time: 221s\n",
      "Epoch 2 - Score: 0.6613\n",
      "Epoch 2 - Save Best Score: 0.6613 Model\n",
      "========== Fold: 2 result ==========\n",
      "Score: 0.6613\n",
      "========== Fold: 3 training ==========\n"
     ]
    },
    {
     "name": "stderr",
     "output_type": "stream",
     "text": [
      "Special tokens have been added in the vocabulary, make sure the associated word embeddings are fine-tuned or trained.\n",
      "Training Fold 3: 100%|██████████| 687/687 [03:39<00:00,  3.14train_batch/s]\n",
      "Validating Fold 3: 100%|██████████| 58/58 [00:09<00:00,  6.20valid_batch/s]\n"
     ]
    },
    {
     "name": "stdout",
     "output_type": "stream",
     "text": [
      "Epoch 1 - avg_train_loss: 1.1450  avg_val_loss: 1.1589  time: 228s\n",
      "Epoch 1 - Score: 0.4720\n",
      "Epoch 1 - Save Best Score: 0.4720 Model\n"
     ]
    },
    {
     "name": "stderr",
     "output_type": "stream",
     "text": [
      "Training Fold 3: 100%|██████████| 687/687 [03:39<00:00,  3.13train_batch/s]\n",
      "Validating Fold 3: 100%|██████████| 58/58 [00:09<00:00,  6.27valid_batch/s]\n"
     ]
    },
    {
     "name": "stdout",
     "output_type": "stream",
     "text": [
      "Epoch 2 - avg_train_loss: 0.9308  avg_val_loss: 0.9962  time: 229s\n",
      "Epoch 2 - Score: 0.5960\n",
      "Epoch 2 - Save Best Score: 0.5960 Model\n",
      "========== Fold: 3 result ==========\n",
      "Score: 0.5960\n",
      "========== Fold: 4 training ==========\n"
     ]
    },
    {
     "name": "stderr",
     "output_type": "stream",
     "text": [
      "Special tokens have been added in the vocabulary, make sure the associated word embeddings are fine-tuned or trained.\n",
      "Training Fold 4: 100%|██████████| 590/590 [03:08<00:00,  3.13train_batch/s]\n",
      "Validating Fold 4: 100%|██████████| 154/154 [00:24<00:00,  6.17valid_batch/s]\n"
     ]
    },
    {
     "name": "stdout",
     "output_type": "stream",
     "text": [
      "Epoch 1 - avg_train_loss: 1.1914  avg_val_loss: 1.0194  time: 214s\n",
      "Epoch 1 - Score: 0.7027\n",
      "Epoch 1 - Save Best Score: 0.7027 Model\n"
     ]
    },
    {
     "name": "stderr",
     "output_type": "stream",
     "text": [
      "Training Fold 4: 100%|██████████| 590/590 [03:08<00:00,  3.13train_batch/s]\n",
      "Validating Fold 4: 100%|██████████| 154/154 [00:24<00:00,  6.23valid_batch/s]\n"
     ]
    },
    {
     "name": "stdout",
     "output_type": "stream",
     "text": [
      "Epoch 2 - avg_train_loss: 0.9583  avg_val_loss: 0.9704  time: 213s\n",
      "Epoch 2 - Score: 0.6871\n",
      "========== Fold: 4 result ==========\n",
      "Score: 0.7027\n",
      "========== Fold: 5 training ==========\n"
     ]
    },
    {
     "name": "stderr",
     "output_type": "stream",
     "text": [
      "Special tokens have been added in the vocabulary, make sure the associated word embeddings are fine-tuned or trained.\n",
      "Training Fold 5: 100%|██████████| 663/663 [03:31<00:00,  3.13train_batch/s]\n",
      "Validating Fold 5: 100%|██████████| 82/82 [00:13<00:00,  6.18valid_batch/s]\n"
     ]
    },
    {
     "name": "stdout",
     "output_type": "stream",
     "text": [
      "Epoch 1 - avg_train_loss: 1.1536  avg_val_loss: 1.1755  time: 225s\n",
      "Epoch 1 - Score: 0.6528\n",
      "Epoch 1 - Save Best Score: 0.6528 Model\n"
     ]
    },
    {
     "name": "stderr",
     "output_type": "stream",
     "text": [
      "Training Fold 5: 100%|██████████| 663/663 [03:32<00:00,  3.12train_batch/s]\n",
      "Validating Fold 5: 100%|██████████| 82/82 [00:13<00:00,  6.24valid_batch/s]\n"
     ]
    },
    {
     "name": "stdout",
     "output_type": "stream",
     "text": [
      "Epoch 2 - avg_train_loss: 0.9278  avg_val_loss: 1.2387  time: 226s\n",
      "Epoch 2 - Score: 0.6930\n",
      "Epoch 2 - Save Best Score: 0.6930 Model\n",
      "========== Fold: 5 result ==========\n",
      "Score: 0.6930\n",
      "========== Fold: 6 training ==========\n"
     ]
    },
    {
     "name": "stderr",
     "output_type": "stream",
     "text": [
      "Special tokens have been added in the vocabulary, make sure the associated word embeddings are fine-tuned or trained.\n",
      "Training Fold 6: 100%|██████████| 648/648 [03:26<00:00,  3.14train_batch/s]\n",
      "Validating Fold 6: 100%|██████████| 96/96 [00:15<00:00,  6.17valid_batch/s]\n"
     ]
    },
    {
     "name": "stdout",
     "output_type": "stream",
     "text": [
      "Epoch 1 - avg_train_loss: 1.1256  avg_val_loss: 1.2225  time: 222s\n",
      "Epoch 1 - Score: 0.6814\n",
      "Epoch 1 - Save Best Score: 0.6814 Model\n"
     ]
    },
    {
     "name": "stderr",
     "output_type": "stream",
     "text": [
      "Training Fold 6: 100%|██████████| 648/648 [03:28<00:00,  3.12train_batch/s]\n",
      "Validating Fold 6: 100%|██████████| 96/96 [00:15<00:00,  6.14valid_batch/s]\n"
     ]
    },
    {
     "name": "stdout",
     "output_type": "stream",
     "text": [
      "Epoch 2 - avg_train_loss: 0.9331  avg_val_loss: 1.1659  time: 224s\n",
      "Epoch 2 - Score: 0.7337\n",
      "Epoch 2 - Save Best Score: 0.7337 Model\n",
      "========== Fold: 6 result ==========\n",
      "Score: 0.7337\n",
      "========== CV ==========\n",
      "Score: 0.7387\n"
     ]
    }
   ],
   "source": [
    "if config.train:\n",
    "    oof_df = pd.DataFrame()\n",
    "\n",
    "    for fold in range(config.n_folds):\n",
    "        if fold in config.train_folds:\n",
    "            _oof_df = train_loop(fold)\n",
    "            log_metrics(_oof_df, f\"Fold {fold}\")\n",
    "            oof_df = pd.concat([oof_df, _oof_df])\n",
    "            print(f\"========== Fold: {fold} result ==========\")\n",
    "            get_result(_oof_df)\n",
    "\n",
    "    oof_df = oof_df.reset_index(drop=True)\n",
    "    print(f\"========== CV ==========\")\n",
    "    score = get_result(oof_df)\n",
    "    wandb.log({\"CV/qwk_score\": score})\n",
    "    oof_df.to_csv(Paths.MODEL_OUTPUT_PATH + \"/oof_df.csv\", index=False)"
   ]
  },
  {
   "cell_type": "code",
   "execution_count": 13,
   "metadata": {},
   "outputs": [],
   "source": [
    "wandb.log({\"oof_table\": wandb.Table(dataframe=oof_df)})"
   ]
  },
  {
   "cell_type": "markdown",
   "metadata": {},
   "source": [
    "## Evaluate"
   ]
  },
  {
   "cell_type": "code",
   "execution_count": 14,
   "metadata": {},
   "outputs": [],
   "source": [
    "log_metrics(oof_df, \"Overall\")"
   ]
  },
  {
   "cell_type": "markdown",
   "metadata": {},
   "source": [
    "### Confusion Matrix"
   ]
  },
  {
   "cell_type": "code",
   "execution_count": 15,
   "metadata": {},
   "outputs": [
    {
     "data": {
      "image/png": "[encoded data removed]",
      "text/plain": [
       "<Figure size 640x480 with 2 Axes>"
      ]
     },
     "metadata": {},
     "output_type": "display_data"
    }
   ],
   "source": [
    "cm = confusion_matrix(oof_df[\"score\"], oof_df[\"pred_score\"])\n",
    "disp = ConfusionMatrixDisplay(confusion_matrix=cm, display_labels=list(range(config.num_classes)))\n",
    "\n",
    "# Plot the confusion matrix\n",
    "disp.plot(cmap='viridis', values_format='d')\n",
    "plt.title(\"Confusion Matrix\")\n",
    "plt.show()"
   ]
  },
  {
   "cell_type": "markdown",
   "metadata": {},
   "source": [
    "Finish experiment"
   ]
  },
  {
   "cell_type": "code",
   "execution_count": 16,
   "metadata": {},
   "outputs": [
    {
     "data": {
      "application/vnd.jupyter.widget-view+json": {
       "model_id": "d83a9990ec984c5db38889b7b5f17dc5",
       "version_major": 2,
       "version_minor": 0
      },
      "text/plain": [
       "VBox(children=(Label(value='74.871 MB of 74.871 MB uploaded\\r'), FloatProgress(value=1.0, max=1.0)))"
      ]
     },
     "metadata": {},
     "output_type": "display_data"
    },
    {
     "data": {
      "text/html": [
       "<style>\n",
       "    table.wandb td:nth-child(1) { padding: 0 10px; text-align: left ; width: auto;} td:nth-child(2) {text-align: left ; width: 100%}\n",
       "    .wandb-row { display: flex; flex-direction: row; flex-wrap: wrap; justify-content: flex-start; width: 100% }\n",
       "    .wandb-col { display: flex; flex-direction: column; flex-basis: 100%; flex: 1; padding: 10px; }\n",
       "    </style>\n",
       "<div class=\"wandb-row\"><div class=\"wandb-col\"><h3>Run history:</h3><br/><table class=\"wandb\"><tr><td>CV/qwk_score</td><td>▁</td></tr><tr><td>eval/eval_epoch_f0</td><td>▁█</td></tr><tr><td>eval/eval_epoch_f1</td><td>▁█</td></tr><tr><td>eval/eval_epoch_f2</td><td>▁█</td></tr><tr><td>eval/eval_epoch_f3</td><td>▁█</td></tr><tr><td>eval/eval_epoch_f4</td><td>▁█</td></tr><tr><td>eval/eval_epoch_f5</td><td>▁█</td></tr><tr><td>eval/eval_epoch_f6</td><td>▁█</td></tr><tr><td>eval/eval_loss_f0</td><td>█▁</td></tr><tr><td>eval/eval_loss_f1</td><td>█▁</td></tr><tr><td>eval/eval_loss_f2</td><td>▁█</td></tr><tr><td>eval/eval_loss_f3</td><td>█▁</td></tr><tr><td>eval/eval_loss_f4</td><td>█▁</td></tr><tr><td>eval/eval_loss_f5</td><td>▁█</td></tr><tr><td>eval/eval_loss_f6</td><td>█▁</td></tr><tr><td>eval/qwk_score_f0</td><td>▁█</td></tr><tr><td>eval/qwk_score_f1</td><td>▁█</td></tr><tr><td>eval/qwk_score_f2</td><td>▁█</td></tr><tr><td>eval/qwk_score_f3</td><td>▁█</td></tr><tr><td>eval/qwk_score_f4</td><td>█▁</td></tr><tr><td>eval/qwk_score_f5</td><td>▁█</td></tr><tr><td>eval/qwk_score_f6</td><td>▁█</td></tr><tr><td>train/epoch_f0</td><td>▁▁▂▂▂▃▃▃▄▄▄▅▅▆▆▆▇▇▇█▁▂▂▂▃▃▃▄▄▄▅▅▅▆▆▇▇▇██</td></tr><tr><td>train/epoch_f1</td><td>▁▁▂▂▂▃▃▃▄▄▄▅▅▅▆▆▇▇▇█▁▂▂▂▃▃▃▄▄▄▅▅▆▆▆▇▇▇██</td></tr><tr><td>train/epoch_f2</td><td>▁▁▂▂▂▃▃▃▄▄▄▅▅▆▆▆▇▇▇█▁▂▂▂▃▃▃▄▄▄▅▅▅▆▆▇▇▇██</td></tr><tr><td>train/epoch_f3</td><td>▁▁▂▂▂▃▃▃▄▄▄▅▅▆▆▆▇▇▇█▁▂▂▂▃▃▃▄▄▄▅▅▆▆▆▇▇▇██</td></tr><tr><td>train/epoch_f4</td><td>▁▁▂▂▂▃▃▃▄▄▄▅▅▆▆▆▇▇▇█▁▂▂▂▃▃▃▄▄▄▅▅▆▆▆▇▇▇██</td></tr><tr><td>train/epoch_f5</td><td>▁▁▂▂▂▃▃▃▄▄▄▅▅▆▆▆▇▇▇█▁▂▂▂▃▃▃▄▄▄▅▅▆▆▆▇▇▇██</td></tr><tr><td>train/epoch_f6</td><td>▁▁▂▂▂▃▃▃▄▄▄▅▅▆▆▆▇▇▇█▁▂▂▂▃▃▃▄▄▄▅▅▅▆▆▆▇▇██</td></tr><tr><td>train/grad_norm_f0</td><td>▃▁▂▁▂▃▃▂▁▁▂▄▂▂▁▁▆▄▂▄▅▂▄▂▄▃▂▃▃█▂▁▂▁▃▅▂▁▄▂</td></tr><tr><td>train/grad_norm_f1</td><td>▂▁▁▁▁▁▂▃▂▂▂▁▁▂▂▂▄▃▂▂▂▃▄▂▄▃▄▄▄▂▂█▂▂▂▄▂▁▂▃</td></tr><tr><td>train/grad_norm_f2</td><td>▂▂▁▂▂▅▃█▅▆▂▂▅▁▃▄▃▁▁▁▅▄▂▁▆▂▆▁▅▃▁▂▃▂▂▁▁▁▂▁</td></tr><tr><td>train/grad_norm_f3</td><td>▂▁▁▁▂▃▃▂▃▄▂▃▄▄▃▂▂▂▄▄▅▄▂▅█▃▃▂▃▃▅▅▅▄▂▄▂▄▃▂</td></tr><tr><td>train/grad_norm_f4</td><td>▂▁▁▁▁▁▁▂▂▂▂▂▃▄▃▂▁▂▂▄▄▃▃▃▂▃▂▃▃▅▃▄▂▅▂▂▄▃█▃</td></tr><tr><td>train/grad_norm_f5</td><td>▂▁▁▁▂▃▂▃▃▂▂▁▁▂▁▂▁▂▂▂█▄▂▂▂▃▂▂▃▂▄▅▂▂▄▂▃▂▂▃</td></tr><tr><td>train/grad_norm_f6</td><td>▁▁▁▁▂▂▂▂▂▁▂▂▃▂▂▂▁▂▂▂▃▂▃▃▂▄▃▂▂▄▂▂█▂▄▁▂▄▂▁</td></tr><tr><td>train/learning_rate_f0</td><td>▇▂▇▆▃▇▁█▂▄▆▃█▁▅▅▄█▁█▅▄▆▁█▁▅▅▁█▁▆▄▅█▁█▃▆▄</td></tr><tr><td>train/learning_rate_f1</td><td>▇▁▇▂▃▇▂█▁▇▆▃▇▁█▁▄▆▃█▂▆▇▂▇▁▇▂▃▇▂█▁▇▆▃▇▁█▂</td></tr><tr><td>train/learning_rate_f2</td><td>▇▂▇▃▂▇▁█▃▅▅▁█▁█▅▄▆▁█▃▅▇▁█▃▅▅▄█▁█▅▄▆▂█▂▇▃</td></tr><tr><td>train/learning_rate_f3</td><td>█▂▆▅▃█▁█▂▆▅▃█▁█▂▆▅▃█▄▃▇▁█▂▆▄▃▇▁█▂▆▄▃▇▁█▂</td></tr><tr><td>train/learning_rate_f4</td><td>▇▁█▄▅▇▂█▁▅▄▂▇▂█▁▅▄▂▇▄▅▇▂█▁█▄▅▇▂█▁▅▄▂▇▁█▂</td></tr><tr><td>train/learning_rate_f5</td><td>█▂▆▄▃▇▁▇▃▄▆▂█▁▅▅▃▇▁█▆▂█▁█▂▆▇▁█▁▇▄▁█▁▇▃▅▆</td></tr><tr><td>train/learning_rate_f6</td><td>▇▂▆▄▄█▁█▂▃▇▂█▁▅▅▃▇▁▇▄▄█▁▇▂▆▇▁█▁▅▅▃▇▂▇▃▅▆</td></tr><tr><td>train/train_loss_f0</td><td>█▇▆▆▅▅▄▄▄▄▃▃▃▃▃▃▃▃▃▃▁▁▁▁▁▁▁▁▁▁▁▁▁▁▁▁▁▁▁▁</td></tr><tr><td>train/train_loss_f1</td><td>█▇▇▆▆▆▅▅▅▄▄▄▄▄▄▃▃▃▃▃▂▁▁▁▁▁▁▁▁▁▁▁▁▁▁▁▁▁▁▁</td></tr><tr><td>train/train_loss_f2</td><td>█▇▆▆▆▅▅▅▄▄▄▄▃▃▃▃▃▃▃▃▁▁▁▁▁▁▁▁▁▁▁▁▁▁▁▁▁▁▁▁</td></tr><tr><td>train/train_loss_f3</td><td>█▆▆▆▅▅▄▄▄▄▃▃▃▃▃▃▃▃▃▃▁▁▁▁▁▁▁▁▁▁▁▁▁▁▁▁▁▁▁▁</td></tr><tr><td>train/train_loss_f4</td><td>█▇▆▆▅▅▅▄▄▄▄▄▃▃▃▃▃▃▃▃▂▁▁▁▁▁▁▁▁▁▁▁▁▁▁▁▁▁▁▁</td></tr><tr><td>train/train_loss_f5</td><td>█▇▆▆▅▅▅▄▄▄▄▄▃▃▃▃▃▃▃▃▁▁▁▁▁▁▁▁▁▁▁▁▁▁▁▁▁▁▁▁</td></tr><tr><td>train/train_loss_f6</td><td>█▆▆▅▅▅▄▄▄▄▃▃▃▃▃▃▃▃▃▂▁▁▁▁▁▁▁▁▁▁▁▁▁▁▁▁▁▁▁▁</td></tr></table><br/></div><div class=\"wandb-col\"><h3>Run summary:</h3><br/><table class=\"wandb\"><tr><td>CV/qwk_score</td><td>0.73866</td></tr><tr><td>eval/eval_epoch_f0</td><td>2</td></tr><tr><td>eval/eval_epoch_f1</td><td>2</td></tr><tr><td>eval/eval_epoch_f2</td><td>2</td></tr><tr><td>eval/eval_epoch_f3</td><td>2</td></tr><tr><td>eval/eval_epoch_f4</td><td>2</td></tr><tr><td>eval/eval_epoch_f5</td><td>2</td></tr><tr><td>eval/eval_epoch_f6</td><td>2</td></tr><tr><td>eval/eval_loss_f0</td><td>1.01142</td></tr><tr><td>eval/eval_loss_f1</td><td>1.0126</td></tr><tr><td>eval/eval_loss_f2</td><td>1.15006</td></tr><tr><td>eval/eval_loss_f3</td><td>0.99624</td></tr><tr><td>eval/eval_loss_f4</td><td>0.97042</td></tr><tr><td>eval/eval_loss_f5</td><td>1.23874</td></tr><tr><td>eval/eval_loss_f6</td><td>1.16589</td></tr><tr><td>eval/qwk_score_f0</td><td>0.76798</td></tr><tr><td>eval/qwk_score_f1</td><td>0.75276</td></tr><tr><td>eval/qwk_score_f2</td><td>0.66135</td></tr><tr><td>eval/qwk_score_f3</td><td>0.59597</td></tr><tr><td>eval/qwk_score_f4</td><td>0.6871</td></tr><tr><td>eval/qwk_score_f5</td><td>0.693</td></tr><tr><td>eval/qwk_score_f6</td><td>0.73371</td></tr><tr><td>train/epoch_f0</td><td>31.95</td></tr><tr><td>train/epoch_f1</td><td>32.1</td></tr><tr><td>train/epoch_f2</td><td>32.8</td></tr><tr><td>train/epoch_f3</td><td>32.22727</td></tr><tr><td>train/epoch_f4</td><td>32.05263</td></tr><tr><td>train/epoch_f5</td><td>32.57143</td></tr><tr><td>train/epoch_f6</td><td>31.85714</td></tr><tr><td>train/grad_norm_f0</td><td>61684.69141</td></tr><tr><td>train/grad_norm_f1</td><td>147509.45312</td></tr><tr><td>train/grad_norm_f2</td><td>25334.45312</td></tr><tr><td>train/grad_norm_f3</td><td>54983.37891</td></tr><tr><td>train/grad_norm_f4</td><td>160469.92188</td></tr><tr><td>train/grad_norm_f5</td><td>175441.73438</td></tr><tr><td>train/grad_norm_f6</td><td>33729.14062</td></tr><tr><td>train/learning_rate_f0</td><td>1e-05</td></tr><tr><td>train/learning_rate_f1</td><td>0.0</td></tr><tr><td>train/learning_rate_f2</td><td>1e-05</td></tr><tr><td>train/learning_rate_f3</td><td>0.0</td></tr><tr><td>train/learning_rate_f4</td><td>0.0</td></tr><tr><td>train/learning_rate_f5</td><td>1e-05</td></tr><tr><td>train/learning_rate_f6</td><td>1e-05</td></tr><tr><td>train/train_loss_f0</td><td>0.95321</td></tr><tr><td>train/train_loss_f1</td><td>0.92927</td></tr><tr><td>train/train_loss_f2</td><td>0.92057</td></tr><tr><td>train/train_loss_f3</td><td>0.93079</td></tr><tr><td>train/train_loss_f4</td><td>0.95833</td></tr><tr><td>train/train_loss_f5</td><td>0.92782</td></tr><tr><td>train/train_loss_f6</td><td>0.93313</td></tr></table><br/></div></div>"
      ],
      "text/plain": [
       "<IPython.core.display.HTML object>"
      ]
     },
     "metadata": {},
     "output_type": "display_data"
    },
    {
     "data": {
      "text/html": [
       " View run <strong style=\"color:#cdcd00\">deberta-v3-xsmall-512-D2-T2</strong> at: <a href='https://wandb.ai/laplacesdemon43/Kaggle_ASE_2.0/runs/nii7jo2y' target=\"_blank\">https://wandb.ai/laplacesdemon43/Kaggle_ASE_2.0/runs/nii7jo2y</a><br/> View project at: <a href='https://wandb.ai/laplacesdemon43/Kaggle_ASE_2.0' target=\"_blank\">https://wandb.ai/laplacesdemon43/Kaggle_ASE_2.0</a><br/>Synced 6 W&B file(s), 33 media file(s), 33 artifact file(s) and 1 other file(s)"
      ],
      "text/plain": [
       "<IPython.core.display.HTML object>"
      ]
     },
     "metadata": {},
     "output_type": "display_data"
    },
    {
     "data": {
      "text/html": [
       "Find logs at: <code>./wandb/run-20240521_092007-nii7jo2y/logs</code>"
      ],
      "text/plain": [
       "<IPython.core.display.HTML object>"
      ]
     },
     "metadata": {},
     "output_type": "display_data"
    }
   ],
   "source": [
    "wandb.finish()"
   ]
  }
 ],
 "metadata": {
  "kernelspec": {
   "display_name": "Python 3 (ipykernel)",
   "language": "python",
   "name": "python3"
  },
  "language_info": {
   "codemirror_mode": {
    "name": "ipython",
    "version": 3
   },
   "file_extension": ".py",
   "mimetype": "text/x-python",
   "name": "python",
   "nbconvert_exporter": "python",
   "pygments_lexer": "ipython3",
   "version": "3.11.8"
  }
 },
 "nbformat": 4,
 "nbformat_minor": 4
}
