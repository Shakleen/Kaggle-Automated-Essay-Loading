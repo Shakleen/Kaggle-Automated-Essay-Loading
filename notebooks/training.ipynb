{
 "cells": [
  {
   "cell_type": "markdown",
   "metadata": {},
   "source": [
    "# 🏋️ Model Training"
   ]
  },
  {
   "cell_type": "markdown",
   "metadata": {},
   "source": [
    "## ⚙️ Setup "
   ]
  },
  {
   "cell_type": "markdown",
   "metadata": {},
   "source": [
    "### 📚 Importing Libraries"
   ]
  },
  {
   "cell_type": "markdown",
   "metadata": {},
   "source": [
    "Importing from packages"
   ]
  },
  {
   "cell_type": "code",
   "execution_count": 1,
   "metadata": {
    "metadata": {}
   },
   "outputs": [],
   "source": [
    "import os\n",
    "import gc\n",
    "import time\n",
    "from dotenv import load_dotenv\n",
    "\n",
    "import pandas as pd\n",
    "import numpy as np\n",
    "import torch\n",
    "from torch import nn\n",
    "import wandb\n",
    "from pprint import pprint\n",
    "import warnings\n",
    "\n",
    "import matplotlib.pyplot as plt\n",
    "import plotly.express as px\n",
    "import plotly.graph_objects as go\n",
    "from sklearn.metrics import confusion_matrix, ConfusionMatrixDisplay"
   ]
  },
  {
   "cell_type": "code",
   "execution_count": 2,
   "metadata": {},
   "outputs": [
    {
     "data": {
      "text/plain": [
       "True"
      ]
     },
     "execution_count": 2,
     "metadata": {},
     "output_type": "execute_result"
    }
   ],
   "source": [
    "os.chdir(\"../\")\n",
    "warnings.filterwarnings(\"ignore\")\n",
    "load_dotenv()"
   ]
  },
  {
   "cell_type": "markdown",
   "metadata": {},
   "source": [
    "Importing user defined packages"
   ]
  },
  {
   "cell_type": "code",
   "execution_count": 3,
   "metadata": {},
   "outputs": [],
   "source": [
    "from lib.config import config\n",
    "from lib.paths import Paths\n",
    "from lib.model.epoch_functions import train_epoch, valid_epoch\n",
    "from lib.model.utils import get_score, get_model_optimizer_and_scheduler\n",
    "from lib.utils.utils import seed_everything\n",
    "from lib.data import read_data_loader_from_disk\n",
    "from lib.criterion.metrics import log_metrics"
   ]
  },
  {
   "cell_type": "code",
   "execution_count": 4,
   "metadata": {},
   "outputs": [
    {
     "name": "stdout",
     "output_type": "stream",
     "text": [
      "namespace(apex=True,\n",
      "          batch_scheduler=True,\n",
      "          batch_size_train=32,\n",
      "          batch_size_valid=32,\n",
      "          betas=[0.9, 0.999],\n",
      "          data_version=1,\n",
      "          tokenizer_version=1,\n",
      "          debug=False,\n",
      "          decoder_lr=2e-05,\n",
      "          encoder_lr=2e-05,\n",
      "          epochs=2,\n",
      "          eps=1e-06,\n",
      "          gradient_accumulation_steps=1,\n",
      "          gradient_checkpointing=True,\n",
      "          max_grad_norm=1000,\n",
      "          max_length=512,\n",
      "          min_lr=1e-06,\n",
      "          model='microsoft/deberta-v3-xsmall',\n",
      "          n_folds=7,\n",
      "          num_classes=6,\n",
      "          num_cycles=0.5,\n",
      "          num_warmup_steps=0,\n",
      "          num_workers=6,\n",
      "          print_freq=6,\n",
      "          random_seed=20,\n",
      "          scheduler='cosine',\n",
      "          stride=192,\n",
      "          train=True,\n",
      "          train_folds=[0, 1, 2, 3, 4, 5, 6, 7],\n",
      "          weight_decay=0.01)\n"
     ]
    }
   ],
   "source": [
    "pprint(config)"
   ]
  },
  {
   "cell_type": "code",
   "execution_count": 5,
   "metadata": {},
   "outputs": [],
   "source": [
    "seed_everything()"
   ]
  },
  {
   "cell_type": "markdown",
   "metadata": {},
   "source": [
    "### Setting Up WandB"
   ]
  },
  {
   "cell_type": "code",
   "execution_count": 6,
   "metadata": {},
   "outputs": [],
   "source": [
    "WANDB_PROJECT = \"Kaggle_ASE_2.0\"\n",
    "WANDB_NAME = f\"{config.model}-{config.max_length}\""
   ]
  },
  {
   "cell_type": "code",
   "execution_count": 7,
   "metadata": {},
   "outputs": [
    {
     "name": "stderr",
     "output_type": "stream",
     "text": [
      "Failed to detect the name of this notebook, you can set it manually with the WANDB_NOTEBOOK_NAME environment variable to enable code saving.\n",
      "\u001b[34m\u001b[1mwandb\u001b[0m: Currently logged in as: \u001b[33mshakleenishfar\u001b[0m (\u001b[33mlaplacesdemon43\u001b[0m). Use \u001b[1m`wandb login --relogin`\u001b[0m to force relogin\n"
     ]
    },
    {
     "data": {
      "text/html": [
       "Tracking run with wandb version 0.16.6"
      ],
      "text/plain": [
       "<IPython.core.display.HTML object>"
      ]
     },
     "metadata": {},
     "output_type": "display_data"
    },
    {
     "data": {
      "text/html": [
       "Run data is saved locally in <code>/media/ishfar/New Volume/Studies/Projects/Kaggle-Automated-Essay-Scoring/wandb/run-20240504_093843-e239taq1</code>"
      ],
      "text/plain": [
       "<IPython.core.display.HTML object>"
      ]
     },
     "metadata": {},
     "output_type": "display_data"
    },
    {
     "data": {
      "text/html": [
       "Syncing run <strong><a href='https://wandb.ai/laplacesdemon43/Kaggle_ASE_2.0/runs/e239taq1' target=\"_blank\">microsoft/deberta-v3-xsmall-512</a></strong> to <a href='https://wandb.ai/laplacesdemon43/Kaggle_ASE_2.0' target=\"_blank\">Weights & Biases</a> (<a href='https://wandb.me/run' target=\"_blank\">docs</a>)<br/>"
      ],
      "text/plain": [
       "<IPython.core.display.HTML object>"
      ]
     },
     "metadata": {},
     "output_type": "display_data"
    },
    {
     "data": {
      "text/html": [
       " View project at <a href='https://wandb.ai/laplacesdemon43/Kaggle_ASE_2.0' target=\"_blank\">https://wandb.ai/laplacesdemon43/Kaggle_ASE_2.0</a>"
      ],
      "text/plain": [
       "<IPython.core.display.HTML object>"
      ]
     },
     "metadata": {},
     "output_type": "display_data"
    },
    {
     "data": {
      "text/html": [
       " View run at <a href='https://wandb.ai/laplacesdemon43/Kaggle_ASE_2.0/runs/e239taq1' target=\"_blank\">https://wandb.ai/laplacesdemon43/Kaggle_ASE_2.0/runs/e239taq1</a>"
      ],
      "text/plain": [
       "<IPython.core.display.HTML object>"
      ]
     },
     "metadata": {},
     "output_type": "display_data"
    }
   ],
   "source": [
    "wandb.login(key=os.environ.get('WANDB_NOTEBOOK_NAME'))\n",
    "wandb.init(\n",
    "    project=WANDB_PROJECT,\n",
    "    name=WANDB_NAME,\n",
    "    save_code=True,\n",
    "    job_type=\"train\",\n",
    "    config=config,\n",
    ")\n",
    "config = wandb.config"
   ]
  },
  {
   "cell_type": "markdown",
   "metadata": {},
   "source": [
    "## 📖 Definitions"
   ]
  },
  {
   "cell_type": "markdown",
   "metadata": {},
   "source": [
    "### 🌎 Global Variables"
   ]
  },
  {
   "cell_type": "code",
   "execution_count": 8,
   "metadata": {},
   "outputs": [],
   "source": [
    "device = torch.device('cuda' if torch.cuda.is_available() else 'cpu')"
   ]
  },
  {
   "cell_type": "markdown",
   "metadata": {},
   "source": [
    "The competition data has a class imbalance problem. Which is why I assign higher weights to classes having lower samples."
   ]
  },
  {
   "cell_type": "code",
   "execution_count": null,
   "metadata": {},
   "outputs": [],
   "source": [
    "# class_weights = torch.tensor([1.25, 1.0, 1.0, 1.0, 1.0, 1.5]).to(device)\n",
    "# class_weights = torch.tensor([1.0, 0.25, 0.25, 0.5, 1.0, 2.0]).to(device)\n",
    "class_weights = torch.tensor([1.0] * 6).to(device)"
   ]
  },
  {
   "cell_type": "markdown",
   "metadata": {},
   "source": [
    "### 🛠️ Functions"
   ]
  },
  {
   "cell_type": "code",
   "execution_count": 9,
   "metadata": {},
   "outputs": [],
   "source": [
    "def train_loop(fold):\n",
    "    print(f\"========== Fold: {fold} training ==========\")\n",
    "\n",
    "    # ======== DATA LOADER ==========\n",
    "    train_loader, valid_loader = read_data_loader_from_disk(fold)\n",
    "    valid_fold = pd.read_csv(os.path.join(Paths.DATA_LOADER_PATH, f\"valid_{fold}.csv\"))\n",
    "    valid_labels = valid_fold[\"score\"].values\n",
    "\n",
    "    # ======== MODEL ==========\n",
    "    model, optimizer, scheduler = get_model_optimizer_and_scheduler(train_loader, device)\n",
    "\n",
    "    # ======= LOSS ==========\n",
    "    # criterion = RMSELoss(reduction=\"mean\") # nn.SmoothL1Loss(reduction='mean')\n",
    "    criterion = nn.CrossEntropyLoss(weight=class_weights)\n",
    "    softmax = nn.Softmax(dim=1)\n",
    "\n",
    "    best_score = -np.inf\n",
    "    # ====== ITERATE EPOCHS ========\n",
    "    for epoch in range(config.epochs):\n",
    "        start_time = time.time()\n",
    "\n",
    "        # ======= TRAIN ==========\n",
    "        avg_loss = train_epoch(\n",
    "            fold,\n",
    "            train_loader,\n",
    "            model,\n",
    "            criterion,\n",
    "            optimizer,\n",
    "            epoch,\n",
    "            scheduler,\n",
    "            device,\n",
    "        )\n",
    "\n",
    "        # ======= EVALUATION ==========\n",
    "        avg_val_loss, prediction_dict = valid_epoch(\n",
    "            valid_loader, model, criterion, device\n",
    "        )\n",
    "        predictions = prediction_dict[\"predictions\"]\n",
    "        _, predictions = torch.max(softmax(torch.tensor(predictions)), dim=1)\n",
    "\n",
    "        # ======= SCORING ==========\n",
    "        score = get_score(valid_labels, predictions)\n",
    "\n",
    "        wandb.log(\n",
    "            {\n",
    "                f\"eval/eval_loss_f{fold}\": avg_val_loss,\n",
    "                f\"eval/qwk_score_f{fold}\": score,\n",
    "            }\n",
    "        )\n",
    "\n",
    "        elapsed = time.time() - start_time\n",
    "\n",
    "        print(\n",
    "            f\"Epoch {epoch+1} - avg_train_loss: {avg_loss:.4f}  avg_val_loss: {avg_val_loss:.4f}  time: {elapsed:.0f}s\"\n",
    "        )\n",
    "        print(f\"Epoch {epoch+1} - Score: {score:.4f}\")\n",
    "\n",
    "        if score > best_score:\n",
    "            best_score = score\n",
    "            print(f\"Epoch {epoch+1} - Save Best Score: {best_score:.4f} Model\")\n",
    "            torch.save(\n",
    "                {\"model\": model.state_dict(), \"predictions\": predictions},\n",
    "                Paths.MODEL_OUTPUT_PATH\n",
    "                + f\"/{config.model.replace('/', '_')}_fold_{fold}_best.pth\",\n",
    "            )\n",
    "\n",
    "    predictions = torch.load(\n",
    "        Paths.MODEL_OUTPUT_PATH\n",
    "        + f\"/{config.model.replace('/', '_')}_fold_{fold}_best.pth\",\n",
    "        map_location=torch.device(\"cpu\"),\n",
    "    )[\"predictions\"]\n",
    "    valid_fold[\"pred_score\"] = predictions\n",
    "\n",
    "    del model, optimizer, scheduler, criterion, softmax\n",
    "    torch.cuda.empty_cache()\n",
    "    gc.collect()\n",
    "\n",
    "    return valid_fold"
   ]
  },
  {
   "cell_type": "code",
   "execution_count": 10,
   "metadata": {},
   "outputs": [],
   "source": [
    "def get_result(oof_df):\n",
    "    labels = oof_df[\"score\"].values\n",
    "    preds = oof_df[\"pred_score\"].values\n",
    "    score = get_score(labels, preds)\n",
    "    print(f'Score: {score:<.4f}')\n",
    "    return score"
   ]
  },
  {
   "cell_type": "markdown",
   "metadata": {},
   "source": [
    "## 🏁 Start Training"
   ]
  },
  {
   "cell_type": "code",
   "execution_count": 11,
   "metadata": {},
   "outputs": [
    {
     "name": "stdout",
     "output_type": "stream",
     "text": [
      "========== Fold: 0 training ==========\n"
     ]
    },
    {
     "name": "stderr",
     "output_type": "stream",
     "text": [
      "Train: 100%|██████████| 445/445 [02:25<00:00,  3.05train_batch/s]\n",
      "Validation: 100%|██████████| 96/96 [00:15<00:00,  6.10valid_batch/s]\n"
     ]
    },
    {
     "name": "stdout",
     "output_type": "stream",
     "text": [
      "Epoch 1 - avg_train_loss: 1.2751  avg_val_loss: 1.1227  time: 162s\n",
      "Epoch 1 - Score: 0.7397\n",
      "Epoch 1 - Save Best Score: 0.7397 Model\n"
     ]
    },
    {
     "name": "stderr",
     "output_type": "stream",
     "text": [
      "Train: 100%|██████████| 445/445 [02:24<00:00,  3.08train_batch/s]\n",
      "Validation: 100%|██████████| 96/96 [00:15<00:00,  6.17valid_batch/s]\n"
     ]
    },
    {
     "name": "stdout",
     "output_type": "stream",
     "text": [
      "Epoch 2 - avg_train_loss: 0.9937  avg_val_loss: 1.0935  time: 160s\n",
      "Epoch 2 - Score: 0.7391\n",
      "========== Fold: 0 result ==========\n",
      "Score: 0.7397\n",
      "========== Fold: 1 training ==========\n"
     ]
    },
    {
     "name": "stderr",
     "output_type": "stream",
     "text": [
      "Train: 100%|██████████| 446/446 [02:23<00:00,  3.11train_batch/s]\n",
      "Validation: 100%|██████████| 95/95 [00:15<00:00,  6.20valid_batch/s]\n"
     ]
    },
    {
     "name": "stdout",
     "output_type": "stream",
     "text": [
      "Epoch 1 - avg_train_loss: 1.2696  avg_val_loss: 1.0598  time: 159s\n",
      "Epoch 1 - Score: 0.7562\n",
      "Epoch 1 - Save Best Score: 0.7562 Model\n"
     ]
    },
    {
     "name": "stderr",
     "output_type": "stream",
     "text": [
      "Train: 100%|██████████| 446/446 [02:23<00:00,  3.12train_batch/s]\n",
      "Validation: 100%|██████████| 95/95 [00:15<00:00,  6.19valid_batch/s]\n"
     ]
    },
    {
     "name": "stdout",
     "output_type": "stream",
     "text": [
      "Epoch 2 - avg_train_loss: 0.9804  avg_val_loss: 1.0775  time: 158s\n",
      "Epoch 2 - Score: 0.7479\n",
      "========== Fold: 1 result ==========\n",
      "Score: 0.7562\n",
      "========== Fold: 2 training ==========\n"
     ]
    },
    {
     "name": "stderr",
     "output_type": "stream",
     "text": [
      "Train: 100%|██████████| 431/431 [02:19<00:00,  3.10train_batch/s]\n",
      "Validation: 100%|██████████| 110/110 [00:17<00:00,  6.13valid_batch/s]\n"
     ]
    },
    {
     "name": "stdout",
     "output_type": "stream",
     "text": [
      "Epoch 1 - avg_train_loss: 1.2907  avg_val_loss: 1.0162  time: 157s\n",
      "Epoch 1 - Score: 0.7110\n",
      "Epoch 1 - Save Best Score: 0.7110 Model\n"
     ]
    },
    {
     "name": "stderr",
     "output_type": "stream",
     "text": [
      "Train: 100%|██████████| 431/431 [02:20<00:00,  3.08train_batch/s]\n",
      "Validation: 100%|██████████| 110/110 [00:17<00:00,  6.18valid_batch/s]\n"
     ]
    },
    {
     "name": "stdout",
     "output_type": "stream",
     "text": [
      "Epoch 2 - avg_train_loss: 1.0096  avg_val_loss: 0.9614  time: 158s\n",
      "Epoch 2 - Score: 0.7197\n",
      "Epoch 2 - Save Best Score: 0.7197 Model\n",
      "========== Fold: 2 result ==========\n",
      "Score: 0.7197\n",
      "========== Fold: 3 training ==========\n"
     ]
    },
    {
     "name": "stderr",
     "output_type": "stream",
     "text": [
      "Train: 100%|██████████| 475/475 [02:31<00:00,  3.13train_batch/s]\n",
      "Validation: 100%|██████████| 66/66 [00:10<00:00,  6.23valid_batch/s]\n"
     ]
    },
    {
     "name": "stdout",
     "output_type": "stream",
     "text": [
      "Epoch 1 - avg_train_loss: 1.2751  avg_val_loss: 1.3572  time: 162s\n",
      "Epoch 1 - Score: 0.5770\n",
      "Epoch 1 - Save Best Score: 0.5770 Model\n"
     ]
    },
    {
     "name": "stderr",
     "output_type": "stream",
     "text": [
      "Train: 100%|██████████| 475/475 [02:32<00:00,  3.12train_batch/s]\n",
      "Validation: 100%|██████████| 66/66 [00:10<00:00,  6.09valid_batch/s]\n"
     ]
    },
    {
     "name": "stdout",
     "output_type": "stream",
     "text": [
      "Epoch 2 - avg_train_loss: 0.9747  avg_val_loss: 1.4963  time: 163s\n",
      "Epoch 2 - Score: 0.5685\n",
      "========== Fold: 3 result ==========\n",
      "Score: 0.5770\n",
      "========== Fold: 4 training ==========\n"
     ]
    },
    {
     "name": "stderr",
     "output_type": "stream",
     "text": [
      "Train: 100%|██████████| 489/489 [02:39<00:00,  3.06train_batch/s]\n",
      "Validation: 100%|██████████| 52/52 [00:08<00:00,  6.11valid_batch/s]\n"
     ]
    },
    {
     "name": "stdout",
     "output_type": "stream",
     "text": [
      "Epoch 1 - avg_train_loss: 1.3250  avg_val_loss: 1.1755  time: 168s\n",
      "Epoch 1 - Score: 0.5076\n",
      "Epoch 1 - Save Best Score: 0.5076 Model\n"
     ]
    },
    {
     "name": "stderr",
     "output_type": "stream",
     "text": [
      "Train: 100%|██████████| 489/489 [02:38<00:00,  3.09train_batch/s]\n",
      "Validation: 100%|██████████| 52/52 [00:08<00:00,  6.17valid_batch/s]\n"
     ]
    },
    {
     "name": "stdout",
     "output_type": "stream",
     "text": [
      "Epoch 2 - avg_train_loss: 0.9923  avg_val_loss: 1.0627  time: 167s\n",
      "Epoch 2 - Score: 0.5646\n",
      "Epoch 2 - Save Best Score: 0.5646 Model\n",
      "========== Fold: 4 result ==========\n",
      "Score: 0.5646\n",
      "========== Fold: 5 training ==========\n"
     ]
    },
    {
     "name": "stderr",
     "output_type": "stream",
     "text": [
      "Train: 100%|██████████| 479/479 [02:33<00:00,  3.12train_batch/s]\n",
      "Validation: 100%|██████████| 62/62 [00:10<00:00,  6.13valid_batch/s]\n"
     ]
    },
    {
     "name": "stdout",
     "output_type": "stream",
     "text": [
      "Epoch 1 - avg_train_loss: 1.2501  avg_val_loss: 1.1043  time: 164s\n",
      "Epoch 1 - Score: 0.6972\n",
      "Epoch 1 - Save Best Score: 0.6972 Model\n"
     ]
    },
    {
     "name": "stderr",
     "output_type": "stream",
     "text": [
      "Train: 100%|██████████| 479/479 [02:36<00:00,  3.07train_batch/s]\n",
      "Validation: 100%|██████████| 62/62 [00:10<00:00,  6.00valid_batch/s]\n"
     ]
    },
    {
     "name": "stdout",
     "output_type": "stream",
     "text": [
      "Epoch 2 - avg_train_loss: 0.9552  avg_val_loss: 1.1817  time: 166s\n",
      "Epoch 2 - Score: 0.6286\n",
      "========== Fold: 5 result ==========\n",
      "Score: 0.6972\n",
      "========== Fold: 6 training ==========\n"
     ]
    },
    {
     "name": "stderr",
     "output_type": "stream",
     "text": [
      "Train: 100%|██████████| 476/476 [02:35<00:00,  3.06train_batch/s]\n",
      "Validation: 100%|██████████| 64/64 [00:10<00:00,  6.06valid_batch/s]\n"
     ]
    },
    {
     "name": "stdout",
     "output_type": "stream",
     "text": [
      "Epoch 1 - avg_train_loss: 1.2509  avg_val_loss: 1.2909  time: 166s\n",
      "Epoch 1 - Score: 0.7098\n",
      "Epoch 1 - Save Best Score: 0.7098 Model\n"
     ]
    },
    {
     "name": "stderr",
     "output_type": "stream",
     "text": [
      "Train: 100%|██████████| 476/476 [02:33<00:00,  3.10train_batch/s]\n",
      "Validation: 100%|██████████| 64/64 [00:10<00:00,  6.07valid_batch/s]\n"
     ]
    },
    {
     "name": "stdout",
     "output_type": "stream",
     "text": [
      "Epoch 2 - avg_train_loss: 0.9610  avg_val_loss: 1.0979  time: 164s\n",
      "Epoch 2 - Score: 0.7425\n",
      "Epoch 2 - Save Best Score: 0.7425 Model\n",
      "========== Fold: 6 result ==========\n",
      "Score: 0.7425\n",
      "========== CV ==========\n",
      "Score: 0.7195\n"
     ]
    }
   ],
   "source": [
    "if config.train:\n",
    "    oof_df = pd.DataFrame()\n",
    "\n",
    "    for fold in range(config.n_folds):\n",
    "        if fold in config.train_folds:\n",
    "            _oof_df = train_loop(fold)\n",
    "            log_metrics(_oof_df, f\"Fold {fold}\")\n",
    "            oof_df = pd.concat([oof_df, _oof_df])\n",
    "            print(f\"========== Fold: {fold} result ==========\")\n",
    "            get_result(_oof_df)\n",
    "\n",
    "    oof_df = oof_df.reset_index(drop=True)\n",
    "    print(f\"========== CV ==========\")\n",
    "    score = get_result(oof_df)\n",
    "    wandb.log({\"CV/qwk_score\": score})\n",
    "    oof_df.to_csv(Paths.MODEL_OUTPUT_PATH + \"/oof_df.csv\", index=False)"
   ]
  },
  {
   "cell_type": "code",
   "execution_count": 12,
   "metadata": {},
   "outputs": [],
   "source": [
    "wandb.log({\"oof_table\": wandb.Table(dataframe=oof_df)})"
   ]
  },
  {
   "cell_type": "markdown",
   "metadata": {},
   "source": [
    "## Evaluate"
   ]
  },
  {
   "cell_type": "code",
   "execution_count": 13,
   "metadata": {},
   "outputs": [],
   "source": [
    "log_metrics(oof_df, \"Overall\")"
   ]
  },
  {
   "cell_type": "markdown",
   "metadata": {},
   "source": [
    "### Confusion Matrix"
   ]
  },
  {
   "cell_type": "code",
   "execution_count": 14,
   "metadata": {},
   "outputs": [
    {
     "data": {
      "image/png": "[encoded data removed]",
      "text/plain": [
       "<Figure size 640x480 with 2 Axes>"
      ]
     },
     "metadata": {},
     "output_type": "display_data"
    }
   ],
   "source": [
    "cm = confusion_matrix(oof_df[\"score\"], oof_df[\"pred_score\"])\n",
    "disp = ConfusionMatrixDisplay(confusion_matrix=cm, display_labels=list(range(config.num_classes)))\n",
    "\n",
    "# Plot the confusion matrix\n",
    "disp.plot(cmap='viridis', values_format='d')\n",
    "plt.title(\"Confusion Matrix\")\n",
    "plt.show()"
   ]
  },
  {
   "cell_type": "markdown",
   "metadata": {},
   "source": [
    "Finish experiment"
   ]
  },
  {
   "cell_type": "code",
   "execution_count": 15,
   "metadata": {},
   "outputs": [
    {
     "data": {
      "text/html": [
       "<style>\n",
       "    table.wandb td:nth-child(1) { padding: 0 10px; text-align: left ; width: auto;} td:nth-child(2) {text-align: left ; width: 100%}\n",
       "    .wandb-row { display: flex; flex-direction: row; flex-wrap: wrap; justify-content: flex-start; width: 100% }\n",
       "    .wandb-col { display: flex; flex-direction: column; flex-basis: 100%; flex: 1; padding: 10px; }\n",
       "    </style>\n",
       "<div class=\"wandb-row\"><div class=\"wandb-col\"><h3>Run history:</h3><br/><table class=\"wandb\"><tr><td>CV/qwk_score</td><td>▁</td></tr><tr><td>Fold 0/Accuracy</td><td>▇▃▁▃▆█</td></tr><tr><td>Fold 0/Error Rate</td><td>▂▆█▆▃▁</td></tr><tr><td>Fold 0/F1 Score</td><td>▂▇█▆▁ </td></tr><tr><td>Fold 0/Precision</td><td>▄█▇▅▁ </td></tr><tr><td>Fold 0/Recall</td><td>▄▇█▇▄▁</td></tr><tr><td>Fold 0/Sensitivity</td><td>▄▇█▇▄▁</td></tr><tr><td>Fold 0/Specificity</td><td>▇▅▁▄▇█</td></tr><tr><td>Fold 1/Accuracy</td><td>▄▁▁▃▇█</td></tr><tr><td>Fold 1/Error Rate</td><td>▅██▆▂▁</td></tr><tr><td>Fold 1/F1 Score</td><td>▄▃█▆▁ </td></tr><tr><td>Fold 1/Precision</td><td>▂▇█▆▁ </td></tr><tr><td>Fold 1/Recall</td><td>█▆▇▇▇▁</td></tr><tr><td>Fold 1/Sensitivity</td><td>█▆▇▇▇▁</td></tr><tr><td>Fold 1/Specificity</td><td>▄▃▁▃▆█</td></tr><tr><td>Fold 2/Accuracy</td><td>▇▅▁▂▆█</td></tr><tr><td>Fold 2/Error Rate</td><td>▂▄█▇▃▁</td></tr><tr><td>Fold 2/F1 Score</td><td>▁▇██▁ </td></tr><tr><td>Fold 2/Precision</td><td>▁█▆▆▄ </td></tr><tr><td>Fold 2/Recall</td><td>▆▆██▄▁</td></tr><tr><td>Fold 2/Sensitivity</td><td>▆▆██▄▁</td></tr><tr><td>Fold 2/Specificity</td><td>▇▇▁▃▇█</td></tr><tr><td>Fold 3/Accuracy</td><td>▂▁▁▅▇█</td></tr><tr><td>Fold 3/Error Rate</td><td>▇██▄▂▁</td></tr><tr><td>Fold 3/F1 Score</td><td>▃▆▆█▁ </td></tr><tr><td>Fold 3/Precision</td><td>▁▆███ </td></tr><tr><td>Fold 3/Recall</td><td>█▄▄▆▁▁</td></tr><tr><td>Fold 3/Sensitivity</td><td>█▄▄▆▁▁</td></tr><tr><td>Fold 3/Specificity</td><td>▁▄▅▆██</td></tr><tr><td>Fold 4/Accuracy</td><td>▅▁▂▆██</td></tr><tr><td>Fold 4/Error Rate</td><td>▄█▇▃▁▁</td></tr><tr><td>Fold 4/F1 Score</td><td>▃█▄▁  </td></tr><tr><td>Fold 4/Precision</td><td>▅██▇▁ </td></tr><tr><td>Fold 4/Recall</td><td>█▇▅▄▁ </td></tr><tr><td>Fold 4/Sensitivity</td><td>█▇▅▄▁ </td></tr><tr><td>Fold 4/Specificity</td><td>▅▁▅▇██</td></tr><tr><td>Fold 5/Accuracy</td><td>▇▄▁▂▆█</td></tr><tr><td>Fold 5/Error Rate</td><td>▂▅█▇▃▁</td></tr><tr><td>Fold 5/F1 Score</td><td>▇▄▆█▁ </td></tr><tr><td>Fold 5/Precision</td><td>▅█▄▂▁ </td></tr><tr><td>Fold 5/Recall</td><td>▆▄▆█▄▁</td></tr><tr><td>Fold 5/Sensitivity</td><td>▆▄▆█▄▁</td></tr><tr><td>Fold 5/Specificity</td><td>▇▇▂▁▇█</td></tr><tr><td>Fold 6/Accuracy</td><td>▆▃▁▂▆█</td></tr><tr><td>Fold 6/Error Rate</td><td>▃▆█▇▃▁</td></tr><tr><td>Fold 6/F1 Score</td><td>▃▃▆█▁ </td></tr><tr><td>Fold 6/Precision</td><td>▁█▆▂▅ </td></tr><tr><td>Fold 6/Recall</td><td>▆▅▆█▄▁</td></tr><tr><td>Fold 6/Sensitivity</td><td>▆▅▆█▄▁</td></tr><tr><td>Fold 6/Specificity</td><td>▆▅▂▁▇█</td></tr><tr><td>Overall/Accuracy</td><td>▅▃▁▃▇█</td></tr><tr><td>Overall/Error Rate</td><td>▄▆█▆▂▁</td></tr><tr><td>Overall/F1 Score</td><td>▂▆██▁ </td></tr><tr><td>Overall/Precision</td><td>▁██▇▄ </td></tr><tr><td>Overall/Recall</td><td>▇▆▇█▅▁</td></tr><tr><td>Overall/Sensitivity</td><td>▇▆▇█▅▁</td></tr><tr><td>Overall/Specificity</td><td>▅▄▁▃▇█</td></tr><tr><td>eval/eval_loss_f0</td><td>█▁</td></tr><tr><td>eval/eval_loss_f1</td><td>▁█</td></tr><tr><td>eval/eval_loss_f2</td><td>█▁</td></tr><tr><td>eval/eval_loss_f3</td><td>▁█</td></tr><tr><td>eval/eval_loss_f4</td><td>█▁</td></tr><tr><td>eval/eval_loss_f5</td><td>▁█</td></tr><tr><td>eval/eval_loss_f6</td><td>█▁</td></tr><tr><td>eval/qwk_score_f0</td><td>█▁</td></tr><tr><td>eval/qwk_score_f1</td><td>█▁</td></tr><tr><td>eval/qwk_score_f2</td><td>▁█</td></tr><tr><td>eval/qwk_score_f3</td><td>█▁</td></tr><tr><td>eval/qwk_score_f4</td><td>▁█</td></tr><tr><td>eval/qwk_score_f5</td><td>█▁</td></tr><tr><td>eval/qwk_score_f6</td><td>▁█</td></tr><tr><td>train/grad_norm_f0</td><td>▂▂▂▂▂▂▂▂▃▄▃▂▂▄▃▂▂▂▂▂█▂▂▂▃▁▂▁▁▁▂▂▁▁▁▁▂▁▂▂</td></tr><tr><td>train/grad_norm_f1</td><td>▂▁▁▁▁▁▂▁▁▄▂▂▃▂▅▁▃▂▃▃█▂▃▁▆▂▃▃▅▅▃▇▄▃▄▁▄▄▅▃</td></tr><tr><td>train/grad_norm_f2</td><td>▅▄▂▂▁▅▃▂▃▃▇▇▇▆▆▄▆▅▅▇ ▇▂▆▆▁▄█▃▂▅▅▃▂▄▂▃▂▂▁</td></tr><tr><td>train/grad_norm_f3</td><td>▁▁▁▁▂▁▂▃▃▂▇▃▄▁█▃▂▁▂▁▃▃██▇▂▄▂▃▄▂▂▁▅▅▂▆▃▁▁</td></tr><tr><td>train/grad_norm_f4</td><td>▂▁▁▁▁▂▁▁▂▁▂▃▆▄▄▃▂▂▃▃▅▅▅▃▂▂▂▅▁▂▅▂▄█▂▂▄▅▂▄</td></tr><tr><td>train/grad_norm_f5</td><td>▃▁▂▂▁▁▂▂▄▃▄▂▅▂▄▃▂▂▃▃▆▄▄▅▇▂▃▂█▅▃▂▃▃▅▄▅▂▃▅</td></tr><tr><td>train/grad_norm_f6</td><td>▁▂▃▃▂▂▂▃▇█▄▃▇▁▄▄▁▄▃▅█▄▂▃█▃▁▃▅▄▃▄▅▆▅▁▆▂▁▂</td></tr><tr><td>train/learning_rate_f0</td><td>▇▂▆▅▃▇▁█▁▇▇▁█▁▇▂▆▅▃▇▄▃▇▂█▁█▂▆▄▁█▂▆▄▃▇▂█▁</td></tr><tr><td>train/learning_rate_f1</td><td>▇▂▆▅▃▇▁█▁▇▂▆▅▃▇▂▆▅▃▇▂▆▄▄▆▂█▄▄▆▂█▁█▂▆▄▄▆▁</td></tr><tr><td>train/learning_rate_f2</td><td>▇▂▆▄▄▅▃█▂▆▄▄▅▃█▂▆▄▄▅▃▅▅▃▇▂█▃▅▅▃▇▂▇▃▅▅▃▇▁</td></tr><tr><td>train/learning_rate_f3</td><td>▇▁█▂▅▆▂█▁▆▄▃█▁█▃▄▆▁█▃▄▇▁█▂▅▅▂█▁▇▄▃▇▁█▃▅▂</td></tr><tr><td>train/learning_rate_f4</td><td>▇▁█▃▄▇▁█▃▄▃▄▇▁█▃▄▇▁█▂▅▆▁█▂▅▆▁█▁█▂▅▆▁█▂▅▃</td></tr><tr><td>train/learning_rate_f5</td><td>▇▁█▂▅▆▂█▁▆▄▃█▁█▃▄▆▁█▁▇▃▄▇▁█▂▅▅▂█▁▇▄▃▇▁█▁</td></tr><tr><td>train/learning_rate_f6</td><td>▇▁█▂▅▆▂█▁▆▄▃█▁█▃▄▆▁█▁▆▄▃█▁█▃▄▆▁█▂▆▅▂█▁▇▂</td></tr><tr><td>train/train_loss_f0</td><td>█▇▇▆▆▆▆▅▅▅▅▄▄▄▄▄▄▄▃▃▁▁▁▁▁▁▁▁▁▁▁▁▁▁▁▁▁▁▁▁</td></tr><tr><td>train/train_loss_f1</td><td>██▇▇▇▆▆▆▅▅▅▅▄▄▄▄▄▄▄▃▁▁▁▁▁▁▁▁▁▁▁▁▁▁▁▁▁▁▁▁</td></tr><tr><td>train/train_loss_f2</td><td>████▇▇▆▆▆▅▅▅▅▄▄▄▄▄▄▄▁▂▂▂▂▁▁▁▁▁▁▁▁▁▁▁▁▁▁▁</td></tr><tr><td>train/train_loss_f3</td><td>█▇▇▇▇▇▆▆▆▆▅▅▅▅▄▄▄▄▄▄▁▂▂▁▁▁▁▁▁▁▁▁▁▁▁▁▁▁▁▁</td></tr><tr><td>train/train_loss_f4</td><td>███▇▇▇▇▇▇▇▆▆▆▆▅▅▅▅▅▅▁▁▂▁▂▂▂▂▂▂▂▁▁▁▁▁▁▁▁▁</td></tr><tr><td>train/train_loss_f5</td><td>███▇▇▇▇▆▆▆▅▅▅▅▅▄▄▄▄▄▁▁▁▁▁▁▁▁▁▁▁▁▁▁▁▁▁▁▁▁</td></tr><tr><td>train/train_loss_f6</td><td>█▇▇▇▆▆▆▅▅▅▅▄▄▄▄▄▄▄▃▃▂▁▁▁▁▁▁▁▁▁▁▁▁▁▁▁▁▁▁▁</td></tr></table><br/></div><div class=\"wandb-col\"><h3>Run summary:</h3><br/><table class=\"wandb\"><tr><td>CV/qwk_score</td><td>0.71951</td></tr><tr><td>Fold 0/Accuracy</td><td>0.98193</td></tr><tr><td>Fold 0/Error Rate</td><td>0.01807</td></tr><tr><td>Fold 0/F1 Score</td><td>nan</td></tr><tr><td>Fold 0/Precision</td><td>nan</td></tr><tr><td>Fold 0/Recall</td><td>0.0</td></tr><tr><td>Fold 0/Sensitivity</td><td>0.0</td></tr><tr><td>Fold 0/Specificity</td><td>1.0</td></tr><tr><td>Fold 1/Accuracy</td><td>0.98873</td></tr><tr><td>Fold 1/Error Rate</td><td>0.01127</td></tr><tr><td>Fold 1/F1 Score</td><td>nan</td></tr><tr><td>Fold 1/Precision</td><td>nan</td></tr><tr><td>Fold 1/Recall</td><td>0.0</td></tr><tr><td>Fold 1/Sensitivity</td><td>0.0</td></tr><tr><td>Fold 1/Specificity</td><td>1.0</td></tr><tr><td>Fold 2/Accuracy</td><td>0.99714</td></tr><tr><td>Fold 2/Error Rate</td><td>0.00286</td></tr><tr><td>Fold 2/F1 Score</td><td>nan</td></tr><tr><td>Fold 2/Precision</td><td>nan</td></tr><tr><td>Fold 2/Recall</td><td>0.0</td></tr><tr><td>Fold 2/Sensitivity</td><td>0.0</td></tr><tr><td>Fold 2/Specificity</td><td>1.0</td></tr><tr><td>Fold 3/Accuracy</td><td>0.99188</td></tr><tr><td>Fold 3/Error Rate</td><td>0.00812</td></tr><tr><td>Fold 3/F1 Score</td><td>nan</td></tr><tr><td>Fold 3/Precision</td><td>nan</td></tr><tr><td>Fold 3/Recall</td><td>0.0</td></tr><tr><td>Fold 3/Sensitivity</td><td>0.0</td></tr><tr><td>Fold 3/Specificity</td><td>1.0</td></tr><tr><td>Fold 4/Accuracy</td><td>1.0</td></tr><tr><td>Fold 4/Error Rate</td><td>0.0</td></tr><tr><td>Fold 4/F1 Score</td><td>nan</td></tr><tr><td>Fold 4/Precision</td><td>nan</td></tr><tr><td>Fold 4/Recall</td><td>nan</td></tr><tr><td>Fold 4/Sensitivity</td><td>nan</td></tr><tr><td>Fold 4/Specificity</td><td>1.0</td></tr><tr><td>Fold 5/Accuracy</td><td>0.99592</td></tr><tr><td>Fold 5/Error Rate</td><td>0.00408</td></tr><tr><td>Fold 5/F1 Score</td><td>nan</td></tr><tr><td>Fold 5/Precision</td><td>nan</td></tr><tr><td>Fold 5/Recall</td><td>0.0</td></tr><tr><td>Fold 5/Sensitivity</td><td>0.0</td></tr><tr><td>Fold 5/Specificity</td><td>1.0</td></tr><tr><td>Fold 6/Accuracy</td><td>0.98436</td></tr><tr><td>Fold 6/Error Rate</td><td>0.01564</td></tr><tr><td>Fold 6/F1 Score</td><td>nan</td></tr><tr><td>Fold 6/Precision</td><td>nan</td></tr><tr><td>Fold 6/Recall</td><td>0.0</td></tr><tr><td>Fold 6/Sensitivity</td><td>0.0</td></tr><tr><td>Fold 6/Specificity</td><td>1.0</td></tr><tr><td>Overall/Accuracy</td><td>0.99099</td></tr><tr><td>Overall/Error Rate</td><td>0.00901</td></tr><tr><td>Overall/F1 Score</td><td>nan</td></tr><tr><td>Overall/Precision</td><td>nan</td></tr><tr><td>Overall/Recall</td><td>0.0</td></tr><tr><td>Overall/Sensitivity</td><td>0.0</td></tr><tr><td>Overall/Specificity</td><td>1.0</td></tr><tr><td>eval/eval_loss_f0</td><td>1.09353</td></tr><tr><td>eval/eval_loss_f1</td><td>1.0775</td></tr><tr><td>eval/eval_loss_f2</td><td>0.96137</td></tr><tr><td>eval/eval_loss_f3</td><td>1.49626</td></tr><tr><td>eval/eval_loss_f4</td><td>1.06275</td></tr><tr><td>eval/eval_loss_f5</td><td>1.18169</td></tr><tr><td>eval/eval_loss_f6</td><td>1.09787</td></tr><tr><td>eval/qwk_score_f0</td><td>0.73911</td></tr><tr><td>eval/qwk_score_f1</td><td>0.74785</td></tr><tr><td>eval/qwk_score_f2</td><td>0.71965</td></tr><tr><td>eval/qwk_score_f3</td><td>0.56854</td></tr><tr><td>eval/qwk_score_f4</td><td>0.56463</td></tr><tr><td>eval/qwk_score_f5</td><td>0.62858</td></tr><tr><td>eval/qwk_score_f6</td><td>0.74246</td></tr><tr><td>train/grad_norm_f0</td><td>49960.23828</td></tr><tr><td>train/grad_norm_f1</td><td>125865.78125</td></tr><tr><td>train/grad_norm_f2</td><td>31439.66602</td></tr><tr><td>train/grad_norm_f3</td><td>55966.59766</td></tr><tr><td>train/grad_norm_f4</td><td>205080.51562</td></tr><tr><td>train/grad_norm_f5</td><td>152170.35938</td></tr><tr><td>train/grad_norm_f6</td><td>64496.32422</td></tr><tr><td>train/learning_rate_f0</td><td>0.0</td></tr><tr><td>train/learning_rate_f1</td><td>0.0</td></tr><tr><td>train/learning_rate_f2</td><td>0.0</td></tr><tr><td>train/learning_rate_f3</td><td>0.0</td></tr><tr><td>train/learning_rate_f4</td><td>1e-05</td></tr><tr><td>train/learning_rate_f5</td><td>0.0</td></tr><tr><td>train/learning_rate_f6</td><td>0.0</td></tr><tr><td>train/train_loss_f0</td><td>0.99372</td></tr><tr><td>train/train_loss_f1</td><td>0.98043</td></tr><tr><td>train/train_loss_f2</td><td>1.00962</td></tr><tr><td>train/train_loss_f3</td><td>0.97472</td></tr><tr><td>train/train_loss_f4</td><td>0.99228</td></tr><tr><td>train/train_loss_f5</td><td>0.95522</td></tr><tr><td>train/train_loss_f6</td><td>0.96103</td></tr></table><br/></div></div>"
      ],
      "text/plain": [
       "<IPython.core.display.HTML object>"
      ]
     },
     "metadata": {},
     "output_type": "display_data"
    },
    {
     "data": {
      "text/html": [
       " View run <strong style=\"color:#cdcd00\">microsoft/deberta-v3-xsmall-512</strong> at: <a href='https://wandb.ai/laplacesdemon43/Kaggle_ASE_2.0/runs/e239taq1' target=\"_blank\">https://wandb.ai/laplacesdemon43/Kaggle_ASE_2.0/runs/e239taq1</a><br/> View project at: <a href='https://wandb.ai/laplacesdemon43/Kaggle_ASE_2.0' target=\"_blank\">https://wandb.ai/laplacesdemon43/Kaggle_ASE_2.0</a><br/>Synced 6 W&B file(s), 9 media file(s), 9 artifact file(s) and 1 other file(s)"
      ],
      "text/plain": [
       "<IPython.core.display.HTML object>"
      ]
     },
     "metadata": {},
     "output_type": "display_data"
    },
    {
     "data": {
      "text/html": [
       "Find logs at: <code>./wandb/run-20240504_093843-e239taq1/logs</code>"
      ],
      "text/plain": [
       "<IPython.core.display.HTML object>"
      ]
     },
     "metadata": {},
     "output_type": "display_data"
    }
   ],
   "source": [
    "wandb.finish()"
   ]
  }
 ],
 "metadata": {
  "kernelspec": {
   "display_name": "venv",
   "language": "python",
   "name": "python3"
  },
  "language_info": {
   "codemirror_mode": {
    "name": "ipython",
    "version": 3
   },
   "file_extension": ".py",
   "mimetype": "text/x-python",
   "name": "python",
   "nbconvert_exporter": "python",
   "pygments_lexer": "ipython3",
   "version": "3.11.8"
  }
 },
 "nbformat": 4,
 "nbformat_minor": 2
}
