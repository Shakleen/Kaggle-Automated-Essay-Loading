{
 "cells": [
  {
   "cell_type": "markdown",
   "metadata": {},
   "source": [
    "# 🏋️ Model Training - Negative Sampled"
   ]
  },
  {
   "cell_type": "markdown",
   "metadata": {},
   "source": [
    "## ⚙️ Setup "
   ]
  },
  {
   "cell_type": "markdown",
   "metadata": {},
   "source": [
    "### 📚 Importing Libraries"
   ]
  },
  {
   "cell_type": "markdown",
   "metadata": {},
   "source": [
    "Importing from packages"
   ]
  },
  {
   "cell_type": "code",
   "execution_count": 1,
   "metadata": {
    "metadata": {}
   },
   "outputs": [
    {
     "name": "stderr",
     "output_type": "stream",
     "text": [
      "/media/ishfar/New Volume/Studies/Projects/Kaggle-Automated-Essay-Scoring/venv/lib/python3.11/site-packages/tqdm/auto.py:21: TqdmWarning: IProgress not found. Please update jupyter and ipywidgets. See https://ipywidgets.readthedocs.io/en/stable/user_install.html\n",
      "  from .autonotebook import tqdm as notebook_tqdm\n"
     ]
    }
   ],
   "source": [
    "import os\n",
    "import gc\n",
    "import time\n",
    "from dotenv import load_dotenv\n",
    "\n",
    "import pandas as pd\n",
    "import numpy as np\n",
    "import torch\n",
    "from torch import nn\n",
    "import wandb\n",
    "from pprint import pprint\n",
    "import warnings\n",
    "from transformers import AutoTokenizer\n",
    "\n",
    "import matplotlib.pyplot as plt\n",
    "import plotly.express as px\n",
    "import plotly.graph_objects as go\n",
    "from sklearn.metrics import confusion_matrix, ConfusionMatrixDisplay"
   ]
  },
  {
   "cell_type": "code",
   "execution_count": 2,
   "metadata": {},
   "outputs": [
    {
     "data": {
      "text/plain": [
       "True"
      ]
     },
     "execution_count": 2,
     "metadata": {},
     "output_type": "execute_result"
    }
   ],
   "source": [
    "os.chdir(\"../\")\n",
    "warnings.filterwarnings(\"ignore\")\n",
    "load_dotenv()"
   ]
  },
  {
   "cell_type": "markdown",
   "metadata": {},
   "source": [
    "Importing user defined packages"
   ]
  },
  {
   "cell_type": "code",
   "execution_count": 3,
   "metadata": {},
   "outputs": [],
   "source": [
    "from lib.config import config\n",
    "from lib.paths import Paths\n",
    "from lib.model.epoch_functions import train_epoch, valid_epoch\n",
    "from lib.model.utils import get_score, get_model_optimizer_and_scheduler\n",
    "from lib.utils.utils import seed_everything\n",
    "from lib.data import read_data_loader_from_disk\n",
    "from lib.criterion.metrics import log_metrics\n",
    "from lib.model.inference import ensemble_inference"
   ]
  },
  {
   "cell_type": "code",
   "execution_count": 4,
   "metadata": {},
   "outputs": [
    {
     "name": "stdout",
     "output_type": "stream",
     "text": [
      "namespace(apex=True,\n",
      "          batch_scheduler=True,\n",
      "          batch_size_train=32,\n",
      "          batch_size_valid=32,\n",
      "          betas=[0.9, 0.999],\n",
      "          data_version=4,\n",
      "          debug=False,\n",
      "          decoder_lr=2e-05,\n",
      "          encoder_lr=2e-05,\n",
      "          epochs=2,\n",
      "          eps=1e-06,\n",
      "          gradient_accumulation_steps=1,\n",
      "          gradient_checkpointing=True,\n",
      "          max_grad_norm=1000,\n",
      "          max_length=512,\n",
      "          min_lr=1e-06,\n",
      "          model='microsoft/deberta-v3-xsmall',\n",
      "          n_folds=7,\n",
      "          negative_sample=True,\n",
      "          negative_sample_partitions=3,\n",
      "          oversample=False,\n",
      "          num_classes=6,\n",
      "          num_cycles=0.5,\n",
      "          num_warmup_steps=0,\n",
      "          num_workers=6,\n",
      "          print_freq=6,\n",
      "          random_seed=20,\n",
      "          scheduler='cosine',\n",
      "          stride=192,\n",
      "          tokenizer_version=2,\n",
      "          train=True,\n",
      "          train_folds=[0, 1, 2, 3, 4, 5, 6, 7],\n",
      "          weight_decay=0.01)\n"
     ]
    }
   ],
   "source": [
    "pprint(config)"
   ]
  },
  {
   "cell_type": "code",
   "execution_count": 5,
   "metadata": {},
   "outputs": [],
   "source": [
    "seed_everything()"
   ]
  },
  {
   "cell_type": "code",
   "execution_count": 6,
   "metadata": {},
   "outputs": [
    {
     "name": "stdout",
     "output_type": "stream",
     "text": [
      "env: TOKENIZERS_PARALLELISM=true\n"
     ]
    }
   ],
   "source": [
    "%env TOKENIZERS_PARALLELISM=true"
   ]
  },
  {
   "cell_type": "markdown",
   "metadata": {},
   "source": [
    "### Setting Up WandB"
   ]
  },
  {
   "cell_type": "code",
   "execution_count": 7,
   "metadata": {},
   "outputs": [],
   "source": [
    "WANDB_PROJECT = \"Kaggle_ASE_2.0\"\n",
    "model_name = config.model.split(\"/\")[-1]\n",
    "WANDB_NAME = f\"{model_name}-{config.max_length}-D{config.data_version}-T{config.tokenizer_version}\""
   ]
  },
  {
   "cell_type": "code",
   "execution_count": 8,
   "metadata": {},
   "outputs": [
    {
     "name": "stderr",
     "output_type": "stream",
     "text": [
      "Failed to detect the name of this notebook, you can set it manually with the WANDB_NOTEBOOK_NAME environment variable to enable code saving.\n",
      "\u001b[34m\u001b[1mwandb\u001b[0m: Currently logged in as: \u001b[33mshakleenishfar\u001b[0m (\u001b[33mlaplacesdemon43\u001b[0m). Use \u001b[1m`wandb login --relogin`\u001b[0m to force relogin\n",
      "\u001b[34m\u001b[1mwandb\u001b[0m: \u001b[33mWARNING\u001b[0m If you're specifying your api key in code, ensure this code is not shared publicly.\n",
      "\u001b[34m\u001b[1mwandb\u001b[0m: \u001b[33mWARNING\u001b[0m Consider setting the WANDB_API_KEY environment variable, or running `wandb login` from the command line.\n",
      "\u001b[34m\u001b[1mwandb\u001b[0m: Appending key for api.wandb.ai to your netrc file: /home/ishfar/.netrc\n"
     ]
    },
    {
     "data": {
      "text/html": [
       "Tracking run with wandb version 0.16.6"
      ],
      "text/plain": [
       "<IPython.core.display.HTML object>"
      ]
     },
     "metadata": {},
     "output_type": "display_data"
    },
    {
     "data": {
      "text/html": [
       "Run data is saved locally in <code>/media/ishfar/New Volume/Studies/Projects/Kaggle-Automated-Essay-Scoring/wandb/run-20240507_071703-tmopqg5r</code>"
      ],
      "text/plain": [
       "<IPython.core.display.HTML object>"
      ]
     },
     "metadata": {},
     "output_type": "display_data"
    },
    {
     "data": {
      "text/html": [
       "Syncing run <strong><a href='https://wandb.ai/laplacesdemon43/Kaggle_ASE_2.0/runs/tmopqg5r' target=\"_blank\">deberta-v3-xsmall-512-D4-T2</a></strong> to <a href='https://wandb.ai/laplacesdemon43/Kaggle_ASE_2.0' target=\"_blank\">Weights & Biases</a> (<a href='https://wandb.me/run' target=\"_blank\">docs</a>)<br/>"
      ],
      "text/plain": [
       "<IPython.core.display.HTML object>"
      ]
     },
     "metadata": {},
     "output_type": "display_data"
    },
    {
     "data": {
      "text/html": [
       " View project at <a href='https://wandb.ai/laplacesdemon43/Kaggle_ASE_2.0' target=\"_blank\">https://wandb.ai/laplacesdemon43/Kaggle_ASE_2.0</a>"
      ],
      "text/plain": [
       "<IPython.core.display.HTML object>"
      ]
     },
     "metadata": {},
     "output_type": "display_data"
    },
    {
     "data": {
      "text/html": [
       " View run at <a href='https://wandb.ai/laplacesdemon43/Kaggle_ASE_2.0/runs/tmopqg5r' target=\"_blank\">https://wandb.ai/laplacesdemon43/Kaggle_ASE_2.0/runs/tmopqg5r</a>"
      ],
      "text/plain": [
       "<IPython.core.display.HTML object>"
      ]
     },
     "metadata": {},
     "output_type": "display_data"
    }
   ],
   "source": [
    "wandb.login(key=os.environ.get('WANDB_API_KEY'))\n",
    "wandb.init(\n",
    "    project=WANDB_PROJECT,\n",
    "    name=WANDB_NAME,\n",
    "    save_code=True,\n",
    "    job_type=\"train\",\n",
    "    config=config,\n",
    ")\n",
    "config = wandb.config"
   ]
  },
  {
   "cell_type": "markdown",
   "metadata": {},
   "source": [
    "## 📖 Definitions"
   ]
  },
  {
   "cell_type": "markdown",
   "metadata": {},
   "source": [
    "### 🌎 Global Variables"
   ]
  },
  {
   "cell_type": "code",
   "execution_count": 9,
   "metadata": {},
   "outputs": [],
   "source": [
    "device = torch.device('cuda' if torch.cuda.is_available() else 'cpu')"
   ]
  },
  {
   "cell_type": "markdown",
   "metadata": {},
   "source": [
    "The competition data has a class imbalance problem. Which is why I assign higher weights to classes having lower samples."
   ]
  },
  {
   "cell_type": "code",
   "execution_count": 10,
   "metadata": {},
   "outputs": [],
   "source": [
    "# class_weights = torch.tensor([1.0, 0.25, 0.25, 0.5, 1.0, 2.0]).to(device)\n",
    "class_weights = torch.tensor([1.0] * 6).to(device)"
   ]
  },
  {
   "cell_type": "code",
   "execution_count": 11,
   "metadata": {},
   "outputs": [
    {
     "name": "stderr",
     "output_type": "stream",
     "text": [
      "Special tokens have been added in the vocabulary, make sure the associated word embeddings are fine-tuned or trained.\n"
     ]
    },
    {
     "name": "stdout",
     "output_type": "stream",
     "text": [
      "Total number of tokens in the tokenizer: 128003\n",
      "DebertaV2TokenizerFast(name_or_path='output/microsoft/deberta-v3-xsmall/tokenizer_v2', vocab_size=128000, model_max_length=1000000000000000019884624838656, is_fast=True, padding_side='right', truncation_side='right', special_tokens={'bos_token': '[CLS]', 'eos_token': '[SEP]', 'unk_token': '[UNK]', 'sep_token': '[SEP]', 'pad_token': '[PAD]', 'cls_token': '[CLS]', 'mask_token': '[MASK]'}, clean_up_tokenization_spaces=True),  added_tokens_decoder={\n",
      "\t0: AddedToken(\"[PAD]\", rstrip=False, lstrip=False, single_word=False, normalized=False, special=True),\n",
      "\t1: AddedToken(\"[CLS]\", rstrip=False, lstrip=False, single_word=False, normalized=False, special=True),\n",
      "\t2: AddedToken(\"[SEP]\", rstrip=False, lstrip=False, single_word=False, normalized=False, special=True),\n",
      "\t3: AddedToken(\"[UNK]\", rstrip=False, lstrip=False, single_word=False, normalized=True, special=True),\n",
      "\t128000: AddedToken(\"[MASK]\", rstrip=False, lstrip=False, single_word=False, normalized=False, special=True),\n",
      "\t128001: AddedToken(\"\n",
      "\", rstrip=False, lstrip=False, single_word=False, normalized=False, special=False),\n",
      "\t128002: AddedToken(\"  \", rstrip=False, lstrip=False, single_word=False, normalized=False, special=False),\n",
      "}\n"
     ]
    }
   ],
   "source": [
    "tokenizer = AutoTokenizer.from_pretrained(Paths.TOKENIZER_PATH)\n",
    "vocabulary = tokenizer.get_vocab()\n",
    "total_tokens = len(vocabulary)\n",
    "print(\"Total number of tokens in the tokenizer:\", total_tokens)\n",
    "print(tokenizer)"
   ]
  },
  {
   "cell_type": "markdown",
   "metadata": {},
   "source": [
    "### 🛠️ Functions"
   ]
  },
  {
   "cell_type": "code",
   "execution_count": 12,
   "metadata": {},
   "outputs": [],
   "source": [
    "def train_loop(fold, group, valid_labels):\n",
    "    print(f\"========== Fold: {fold} Group: {group} training ==========\")\n",
    "\n",
    "    # ======== DATA LOADER ==========\n",
    "    train_loader, valid_loader = read_data_loader_from_disk(fold, group)\n",
    "\n",
    "    # ======== MODEL ==========\n",
    "    model, optimizer, scheduler = get_model_optimizer_and_scheduler(\n",
    "        train_loader, device\n",
    "    )\n",
    "\n",
    "    # ======= LOSS ==========\n",
    "    # criterion = RMSELoss(reduction=\"mean\") # nn.SmoothL1Loss(reduction='mean')\n",
    "    criterion = nn.CrossEntropyLoss(weight=class_weights)\n",
    "    softmax = nn.Softmax(dim=1)\n",
    "\n",
    "    best_score = -np.inf\n",
    "    # ====== ITERATE EPOCHS ========\n",
    "    for epoch in range(config.epochs):\n",
    "        start_time = time.time()\n",
    "\n",
    "        # ======= TRAIN ==========\n",
    "        avg_loss = train_epoch(\n",
    "            fold,\n",
    "            train_loader,\n",
    "            model,\n",
    "            criterion,\n",
    "            optimizer,\n",
    "            epoch,\n",
    "            scheduler,\n",
    "            device,\n",
    "        )\n",
    "\n",
    "        # ======= EVALUATION ==========\n",
    "        avg_val_loss, prediction_dict = valid_epoch(\n",
    "            fold, valid_loader, model, criterion, device\n",
    "        )\n",
    "        predictions = prediction_dict[\"predictions\"]\n",
    "        _, predictions = torch.max(softmax(torch.tensor(predictions)), dim=1)\n",
    "\n",
    "        # ======= SCORING ==========\n",
    "        score = get_score(valid_labels, predictions)\n",
    "\n",
    "        wandb.log(\n",
    "            {\n",
    "                f\"eval/eval_epoch_f{fold}_g{group}\": epoch + 1,\n",
    "                f\"eval/eval_loss_f{fold}_g{group}\": avg_val_loss,\n",
    "                f\"eval/qwk_score_f{fold}_g{group}\": score,\n",
    "            }\n",
    "        )\n",
    "\n",
    "        elapsed = time.time() - start_time\n",
    "\n",
    "        print(\n",
    "            f\"Epoch {epoch+1} - \"\n",
    "            + f\"avg_train_loss: {avg_loss:.4f} \"\n",
    "            + f\"avg_val_loss: {avg_val_loss:.4f} \"\n",
    "            + f\"time: {elapsed:.0f}s \"\n",
    "            + f\"Score: {score:.4f}\"\n",
    "        )\n",
    "\n",
    "        if score > best_score:\n",
    "            best_score = score\n",
    "            print(f\"Epoch {epoch+1} - Save Best Score: {best_score:.4f} Model\")\n",
    "            torch.save(\n",
    "                {\"model\": model.state_dict()},\n",
    "                Paths.MODEL_OUTPUT_PATH\n",
    "                + f\"/{config.model.replace('/', '_')}_fold_{fold}_group_{group}.pth\",\n",
    "            )\n",
    "\n",
    "    del model, optimizer, scheduler, criterion, softmax\n",
    "    torch.cuda.empty_cache()\n",
    "    gc.collect()"
   ]
  },
  {
   "cell_type": "code",
   "execution_count": 13,
   "metadata": {},
   "outputs": [],
   "source": [
    "def evaluate_group(fold, valid_fold, valid_labels, model_paths):\n",
    "    predictions = ensemble_inference(\n",
    "        valid_fold,\n",
    "        tokenizer,\n",
    "        model_paths,\n",
    "        device,\n",
    "        overall=False,\n",
    "    )\n",
    "    score = get_score(valid_labels, predictions)\n",
    "\n",
    "    wandb.log(\n",
    "        {\n",
    "            f\"eval/eval_epoch_f{fold}\": config.epochs,\n",
    "            f\"eval/qwk_score_f{fold}\": score,\n",
    "        }\n",
    "    )\n",
    "    return predictions"
   ]
  },
  {
   "cell_type": "code",
   "execution_count": 14,
   "metadata": {},
   "outputs": [],
   "source": [
    "def train_all_groups(fold):\n",
    "    valid_fold = pd.read_csv(os.path.join(Paths.DATA_LOADER_PATH, f\"valid_{fold}.csv\"))\n",
    "    valid_labels = valid_fold[\"score\"].values\n",
    "    model_paths = {\n",
    "        os.path.join(\n",
    "            Paths.MODEL_OUTPUT_PATH,\n",
    "            f\"{config.model.replace('/', '_')}_fold_{fold}_group_{group}.pth\",\n",
    "        ): 1\n",
    "        for group in range(config.negative_sample_partitions)\n",
    "    }\n",
    "\n",
    "    for group in range(config.negative_sample_partitions):\n",
    "        train_loop(fold, group, valid_labels)\n",
    "\n",
    "    valid_fold[\"pred_score\"] = evaluate_group(\n",
    "        fold,\n",
    "        valid_fold,\n",
    "        valid_labels,\n",
    "        model_paths,\n",
    "    )\n",
    "    return valid_fold"
   ]
  },
  {
   "cell_type": "code",
   "execution_count": 15,
   "metadata": {},
   "outputs": [],
   "source": [
    "def get_result(oof_df):\n",
    "    labels = oof_df[\"score\"].values\n",
    "    preds = oof_df[\"pred_score\"].values\n",
    "    score = get_score(labels, preds)\n",
    "    print(f'Score: {score:<.4f}')\n",
    "    return score"
   ]
  },
  {
   "cell_type": "markdown",
   "metadata": {},
   "source": [
    "## 🏁 Start Training"
   ]
  },
  {
   "cell_type": "code",
   "execution_count": 16,
   "metadata": {},
   "outputs": [
    {
     "name": "stdout",
     "output_type": "stream",
     "text": [
      "========== Fold: 0 Group: 0 training ==========\n"
     ]
    },
    {
     "name": "stderr",
     "output_type": "stream",
     "text": [
      "Special tokens have been added in the vocabulary, make sure the associated word embeddings are fine-tuned or trained.\n",
      "Training Fold 0: 100%|██████████| 276/276 [01:29<00:00,  3.07train_batch/s]\n",
      "Validating Fold 0: 100%|██████████| 155/155 [00:26<00:00,  5.80valid_batch/s]\n"
     ]
    },
    {
     "name": "stdout",
     "output_type": "stream",
     "text": [
      "Epoch 1 - avg_train_loss: 1.4597 avg_val_loss: 1.2897 time: 117s Score: 0.6150\n",
      "Epoch 1 - Save Best Score: 0.6150 Model\n"
     ]
    },
    {
     "name": "stderr",
     "output_type": "stream",
     "text": [
      "Training Fold 0: 100%|██████████| 276/276 [01:33<00:00,  2.94train_batch/s]\n",
      "Validating Fold 0: 100%|██████████| 155/155 [00:27<00:00,  5.73valid_batch/s]\n"
     ]
    },
    {
     "name": "stdout",
     "output_type": "stream",
     "text": [
      "Epoch 2 - avg_train_loss: 1.1088 avg_val_loss: 1.0576 time: 121s Score: 0.6966\n",
      "Epoch 2 - Save Best Score: 0.6966 Model\n",
      "========== Fold: 0 Group: 1 training ==========\n"
     ]
    },
    {
     "name": "stderr",
     "output_type": "stream",
     "text": [
      "Special tokens have been added in the vocabulary, make sure the associated word embeddings are fine-tuned or trained.\n",
      "Training Fold 0: 100%|██████████| 276/276 [01:36<00:00,  2.87train_batch/s]\n",
      "Validating Fold 0: 100%|██████████| 155/155 [00:26<00:00,  5.77valid_batch/s]\n"
     ]
    },
    {
     "name": "stdout",
     "output_type": "stream",
     "text": [
      "Epoch 1 - avg_train_loss: 1.4444 avg_val_loss: 1.1477 time: 123s Score: 0.6537\n",
      "Epoch 1 - Save Best Score: 0.6537 Model\n"
     ]
    },
    {
     "name": "stderr",
     "output_type": "stream",
     "text": [
      "Training Fold 0: 100%|██████████| 276/276 [01:35<00:00,  2.88train_batch/s]\n",
      "Validating Fold 0: 100%|██████████| 155/155 [00:27<00:00,  5.72valid_batch/s]\n"
     ]
    },
    {
     "name": "stdout",
     "output_type": "stream",
     "text": [
      "Epoch 2 - avg_train_loss: 1.0816 avg_val_loss: 1.1271 time: 123s Score: 0.6838\n",
      "Epoch 2 - Save Best Score: 0.6838 Model\n",
      "========== Fold: 0 Group: 2 training ==========\n"
     ]
    },
    {
     "name": "stderr",
     "output_type": "stream",
     "text": [
      "Special tokens have been added in the vocabulary, make sure the associated word embeddings are fine-tuned or trained.\n",
      "Training Fold 0: 100%|██████████| 276/276 [01:36<00:00,  2.87train_batch/s]\n",
      "Validating Fold 0: 100%|██████████| 155/155 [00:26<00:00,  5.76valid_batch/s]\n"
     ]
    },
    {
     "name": "stdout",
     "output_type": "stream",
     "text": [
      "Epoch 1 - avg_train_loss: 1.4020 avg_val_loss: 1.3695 time: 123s Score: 0.6212\n",
      "Epoch 1 - Save Best Score: 0.6212 Model\n"
     ]
    },
    {
     "name": "stderr",
     "output_type": "stream",
     "text": [
      "Training Fold 0: 100%|██████████| 276/276 [01:35<00:00,  2.89train_batch/s]\n",
      "Validating Fold 0: 100%|██████████| 155/155 [00:27<00:00,  5.74valid_batch/s]\n"
     ]
    },
    {
     "name": "stdout",
     "output_type": "stream",
     "text": [
      "Epoch 2 - avg_train_loss: 1.0792 avg_val_loss: 1.0254 time: 123s Score: 0.6844\n",
      "Epoch 2 - Save Best Score: 0.6844 Model\n"
     ]
    },
    {
     "name": "stderr",
     "output_type": "stream",
     "text": [
      "Special tokens have been added in the vocabulary, make sure the associated word embeddings are fine-tuned or trained.\n",
      "Model 0 Inference: 100%|██████████| 155/155 [00:30<00:00,  5.07test_batch/s]\n",
      "Special tokens have been added in the vocabulary, make sure the associated word embeddings are fine-tuned or trained.\n",
      "Model 1 Inference: 100%|██████████| 155/155 [00:30<00:00,  5.09test_batch/s]\n",
      "Special tokens have been added in the vocabulary, make sure the associated word embeddings are fine-tuned or trained.\n",
      "Model 2 Inference: 100%|██████████| 155/155 [00:30<00:00,  5.08test_batch/s]\n"
     ]
    },
    {
     "name": "stdout",
     "output_type": "stream",
     "text": [
      "========== Fold: 0 result ==========\n",
      "Score: 0.7063\n",
      "========== Fold: 1 Group: 0 training ==========\n"
     ]
    },
    {
     "name": "stderr",
     "output_type": "stream",
     "text": [
      "Special tokens have been added in the vocabulary, make sure the associated word embeddings are fine-tuned or trained.\n",
      "Training Fold 1: 100%|██████████| 282/282 [01:33<00:00,  3.03train_batch/s]\n",
      "Validating Fold 1: 100%|██████████| 126/126 [00:21<00:00,  5.83valid_batch/s]\n"
     ]
    },
    {
     "name": "stdout",
     "output_type": "stream",
     "text": [
      "Epoch 1 - avg_train_loss: 1.4199 avg_val_loss: 1.1595 time: 115s Score: 0.7515\n",
      "Epoch 1 - Save Best Score: 0.7515 Model\n"
     ]
    },
    {
     "name": "stderr",
     "output_type": "stream",
     "text": [
      "Training Fold 1: 100%|██████████| 282/282 [01:34<00:00,  2.98train_batch/s]\n",
      "Validating Fold 1: 100%|██████████| 126/126 [00:20<00:00,  6.11valid_batch/s]\n"
     ]
    },
    {
     "name": "stdout",
     "output_type": "stream",
     "text": [
      "Epoch 2 - avg_train_loss: 1.0791 avg_val_loss: 1.1068 time: 115s Score: 0.7799\n",
      "Epoch 2 - Save Best Score: 0.7799 Model\n",
      "========== Fold: 1 Group: 1 training ==========\n"
     ]
    },
    {
     "name": "stderr",
     "output_type": "stream",
     "text": [
      "Special tokens have been added in the vocabulary, make sure the associated word embeddings are fine-tuned or trained.\n",
      "Training Fold 1: 100%|██████████| 282/282 [01:35<00:00,  2.94train_batch/s]\n",
      "Validating Fold 1: 100%|██████████| 126/126 [00:21<00:00,  5.78valid_batch/s]\n"
     ]
    },
    {
     "name": "stdout",
     "output_type": "stream",
     "text": [
      "Epoch 1 - avg_train_loss: 1.4115 avg_val_loss: 1.1077 time: 118s Score: 0.7742\n",
      "Epoch 1 - Save Best Score: 0.7742 Model\n"
     ]
    },
    {
     "name": "stderr",
     "output_type": "stream",
     "text": [
      "Training Fold 1: 100%|██████████| 282/282 [01:36<00:00,  2.92train_batch/s]\n",
      "Validating Fold 1: 100%|██████████| 126/126 [00:21<00:00,  5.87valid_batch/s]\n"
     ]
    },
    {
     "name": "stdout",
     "output_type": "stream",
     "text": [
      "Epoch 2 - avg_train_loss: 1.0967 avg_val_loss: 1.0853 time: 118s Score: 0.7892\n",
      "Epoch 2 - Save Best Score: 0.7892 Model\n",
      "========== Fold: 1 Group: 2 training ==========\n"
     ]
    },
    {
     "name": "stderr",
     "output_type": "stream",
     "text": [
      "Special tokens have been added in the vocabulary, make sure the associated word embeddings are fine-tuned or trained.\n",
      "Training Fold 1: 100%|██████████| 282/282 [01:36<00:00,  2.93train_batch/s]\n",
      "Validating Fold 1: 100%|██████████| 126/126 [00:21<00:00,  5.82valid_batch/s]\n"
     ]
    },
    {
     "name": "stdout",
     "output_type": "stream",
     "text": [
      "Epoch 1 - avg_train_loss: 1.4131 avg_val_loss: 1.2275 time: 118s Score: 0.7121\n",
      "Epoch 1 - Save Best Score: 0.7121 Model\n"
     ]
    },
    {
     "name": "stderr",
     "output_type": "stream",
     "text": [
      "Training Fold 1: 100%|██████████| 282/282 [01:33<00:00,  3.03train_batch/s]\n",
      "Validating Fold 1: 100%|██████████| 126/126 [00:21<00:00,  5.83valid_batch/s]\n"
     ]
    },
    {
     "name": "stdout",
     "output_type": "stream",
     "text": [
      "Epoch 2 - avg_train_loss: 1.0634 avg_val_loss: 1.0885 time: 115s Score: 0.7787\n",
      "Epoch 2 - Save Best Score: 0.7787 Model\n"
     ]
    },
    {
     "name": "stderr",
     "output_type": "stream",
     "text": [
      "Special tokens have been added in the vocabulary, make sure the associated word embeddings are fine-tuned or trained.\n",
      "Model 0 Inference: 100%|██████████| 126/126 [00:24<00:00,  5.15test_batch/s]\n",
      "Special tokens have been added in the vocabulary, make sure the associated word embeddings are fine-tuned or trained.\n",
      "Model 1 Inference: 100%|██████████| 126/126 [00:23<00:00,  5.33test_batch/s]\n",
      "Special tokens have been added in the vocabulary, make sure the associated word embeddings are fine-tuned or trained.\n",
      "Model 2 Inference: 100%|██████████| 126/126 [00:23<00:00,  5.31test_batch/s]\n"
     ]
    },
    {
     "name": "stdout",
     "output_type": "stream",
     "text": [
      "========== Fold: 1 result ==========\n",
      "Score: 0.7873\n",
      "========== Fold: 2 Group: 0 training ==========\n"
     ]
    },
    {
     "name": "stderr",
     "output_type": "stream",
     "text": [
      "Special tokens have been added in the vocabulary, make sure the associated word embeddings are fine-tuned or trained.\n",
      "Training Fold 2: 100%|██████████| 290/290 [01:35<00:00,  3.05train_batch/s]\n",
      "Validating Fold 2: 100%|██████████| 109/109 [00:18<00:00,  6.02valid_batch/s]\n"
     ]
    },
    {
     "name": "stdout",
     "output_type": "stream",
     "text": [
      "Epoch 1 - avg_train_loss: 1.3939 avg_val_loss: 1.3505 time: 113s Score: 0.6162\n",
      "Epoch 1 - Save Best Score: 0.6162 Model\n"
     ]
    },
    {
     "name": "stderr",
     "output_type": "stream",
     "text": [
      "Training Fold 2: 100%|██████████| 290/290 [01:34<00:00,  3.07train_batch/s]\n",
      "Validating Fold 2: 100%|██████████| 109/109 [00:17<00:00,  6.10valid_batch/s]\n"
     ]
    },
    {
     "name": "stdout",
     "output_type": "stream",
     "text": [
      "Epoch 2 - avg_train_loss: 1.0423 avg_val_loss: 1.2356 time: 112s Score: 0.6751\n",
      "Epoch 2 - Save Best Score: 0.6751 Model\n",
      "========== Fold: 2 Group: 1 training ==========\n"
     ]
    },
    {
     "name": "stderr",
     "output_type": "stream",
     "text": [
      "Special tokens have been added in the vocabulary, make sure the associated word embeddings are fine-tuned or trained.\n",
      "Training Fold 2: 100%|██████████| 290/290 [01:37<00:00,  2.99train_batch/s]\n",
      "Validating Fold 2: 100%|██████████| 109/109 [00:18<00:00,  5.94valid_batch/s]\n"
     ]
    },
    {
     "name": "stdout",
     "output_type": "stream",
     "text": [
      "Epoch 1 - avg_train_loss: 1.3816 avg_val_loss: 1.2642 time: 115s Score: 0.6206\n",
      "Epoch 1 - Save Best Score: 0.6206 Model\n"
     ]
    },
    {
     "name": "stderr",
     "output_type": "stream",
     "text": [
      "Training Fold 2: 100%|██████████| 290/290 [01:36<00:00,  3.00train_batch/s]\n",
      "Validating Fold 2: 100%|██████████| 109/109 [00:18<00:00,  5.97valid_batch/s]\n"
     ]
    },
    {
     "name": "stdout",
     "output_type": "stream",
     "text": [
      "Epoch 2 - avg_train_loss: 1.0379 avg_val_loss: 1.2631 time: 115s Score: 0.6296\n",
      "Epoch 2 - Save Best Score: 0.6296 Model\n",
      "========== Fold: 2 Group: 2 training ==========\n"
     ]
    },
    {
     "name": "stderr",
     "output_type": "stream",
     "text": [
      "Special tokens have been added in the vocabulary, make sure the associated word embeddings are fine-tuned or trained.\n",
      "Training Fold 2: 100%|██████████| 290/290 [01:33<00:00,  3.10train_batch/s]\n",
      "Validating Fold 2: 100%|██████████| 109/109 [00:17<00:00,  6.23valid_batch/s]\n"
     ]
    },
    {
     "name": "stdout",
     "output_type": "stream",
     "text": [
      "Epoch 1 - avg_train_loss: 1.3500 avg_val_loss: 1.5474 time: 111s Score: 0.4911\n",
      "Epoch 1 - Save Best Score: 0.4911 Model\n"
     ]
    },
    {
     "name": "stderr",
     "output_type": "stream",
     "text": [
      "Training Fold 2: 100%|██████████| 290/290 [01:32<00:00,  3.12train_batch/s]\n",
      "Validating Fold 2: 100%|██████████| 109/109 [00:18<00:00,  6.02valid_batch/s]\n"
     ]
    },
    {
     "name": "stdout",
     "output_type": "stream",
     "text": [
      "Epoch 2 - avg_train_loss: 1.0699 avg_val_loss: 1.5603 time: 111s Score: 0.5731\n",
      "Epoch 2 - Save Best Score: 0.5731 Model\n"
     ]
    },
    {
     "name": "stderr",
     "output_type": "stream",
     "text": [
      "Special tokens have been added in the vocabulary, make sure the associated word embeddings are fine-tuned or trained.\n",
      "Model 0 Inference: 100%|██████████| 109/109 [00:20<00:00,  5.29test_batch/s]\n",
      "Special tokens have been added in the vocabulary, make sure the associated word embeddings are fine-tuned or trained.\n",
      "Model 1 Inference: 100%|██████████| 109/109 [00:20<00:00,  5.21test_batch/s]\n",
      "Special tokens have been added in the vocabulary, make sure the associated word embeddings are fine-tuned or trained.\n",
      "Model 2 Inference: 100%|██████████| 109/109 [00:21<00:00,  5.14test_batch/s]\n"
     ]
    },
    {
     "name": "stdout",
     "output_type": "stream",
     "text": [
      "========== Fold: 2 result ==========\n",
      "Score: 0.6534\n",
      "========== Fold: 3 Group: 0 training ==========\n"
     ]
    },
    {
     "name": "stderr",
     "output_type": "stream",
     "text": [
      "Special tokens have been added in the vocabulary, make sure the associated word embeddings are fine-tuned or trained.\n",
      "Training Fold 3: 100%|██████████| 306/306 [01:42<00:00,  2.98train_batch/s]\n",
      "Validating Fold 3: 100%|██████████| 82/82 [00:14<00:00,  5.85valid_batch/s]\n"
     ]
    },
    {
     "name": "stdout",
     "output_type": "stream",
     "text": [
      "Epoch 1 - avg_train_loss: 1.3916 avg_val_loss: 1.2722 time: 117s Score: 0.6726\n",
      "Epoch 1 - Save Best Score: 0.6726 Model\n"
     ]
    },
    {
     "name": "stderr",
     "output_type": "stream",
     "text": [
      "Training Fold 3: 100%|██████████| 306/306 [01:43<00:00,  2.97train_batch/s]\n",
      "Validating Fold 3: 100%|██████████| 82/82 [00:13<00:00,  5.91valid_batch/s]\n"
     ]
    },
    {
     "name": "stdout",
     "output_type": "stream",
     "text": [
      "Epoch 2 - avg_train_loss: 1.0315 avg_val_loss: 1.6435 time: 117s Score: 0.5679\n",
      "========== Fold: 3 Group: 1 training ==========\n"
     ]
    },
    {
     "name": "stderr",
     "output_type": "stream",
     "text": [
      "Special tokens have been added in the vocabulary, make sure the associated word embeddings are fine-tuned or trained.\n",
      "Training Fold 3: 100%|██████████| 306/306 [01:41<00:00,  3.02train_batch/s]\n",
      "Validating Fold 3: 100%|██████████| 82/82 [00:13<00:00,  6.05valid_batch/s]\n"
     ]
    },
    {
     "name": "stdout",
     "output_type": "stream",
     "text": [
      "Epoch 1 - avg_train_loss: 1.3708 avg_val_loss: 1.2999 time: 115s Score: 0.6368\n",
      "Epoch 1 - Save Best Score: 0.6368 Model\n"
     ]
    },
    {
     "name": "stderr",
     "output_type": "stream",
     "text": [
      "Training Fold 3:  15%|█▌        | 47/306 [00:15<01:25,  3.04train_batch/s]"
     ]
    }
   ],
   "source": [
    "if config.train:\n",
    "    oof_df = pd.DataFrame()\n",
    "\n",
    "    for fold in range(config.n_folds):\n",
    "        if fold in config.train_folds:\n",
    "            _oof_df = train_all_groups(fold)\n",
    "            log_metrics(_oof_df, f\"Fold {fold}\")\n",
    "            oof_df = pd.concat([oof_df, _oof_df])\n",
    "            print(f\"========== Fold: {fold} result ==========\")\n",
    "            get_result(_oof_df)\n",
    "\n",
    "    oof_df = oof_df.reset_index(drop=True)\n",
    "    print(f\"========== CV ==========\")\n",
    "    score = get_result(oof_df)\n",
    "    wandb.log({\"CV/qwk_score\": score})\n",
    "    oof_df.to_csv(Paths.MODEL_OUTPUT_PATH + \"/oof_df.csv\", index=False)"
   ]
  },
  {
   "cell_type": "code",
   "execution_count": null,
   "metadata": {},
   "outputs": [],
   "source": [
    "wandb.log({\"oof_table\": wandb.Table(dataframe=oof_df)})"
   ]
  },
  {
   "cell_type": "markdown",
   "metadata": {},
   "source": [
    "## Evaluate"
   ]
  },
  {
   "cell_type": "code",
   "execution_count": null,
   "metadata": {},
   "outputs": [],
   "source": [
    "log_metrics(oof_df, \"Overall\")"
   ]
  },
  {
   "cell_type": "markdown",
   "metadata": {},
   "source": [
    "### Confusion Matrix"
   ]
  },
  {
   "cell_type": "code",
   "execution_count": null,
   "metadata": {},
   "outputs": [
    {
     "data": {
      "image/png": "[encoded data removed]",
      "text/plain": [
       "<Figure size 640x480 with 2 Axes>"
      ]
     },
     "metadata": {},
     "output_type": "display_data"
    }
   ],
   "source": [
    "cm = confusion_matrix(oof_df[\"score\"], oof_df[\"pred_score\"])\n",
    "disp = ConfusionMatrixDisplay(confusion_matrix=cm, display_labels=list(range(config.num_classes)))\n",
    "\n",
    "# Plot the confusion matrix\n",
    "disp.plot(cmap='viridis', values_format='d')\n",
    "plt.title(\"Confusion Matrix\")\n",
    "plt.show()"
   ]
  },
  {
   "cell_type": "markdown",
   "metadata": {},
   "source": [
    "Finish experiment"
   ]
  },
  {
   "cell_type": "code",
   "execution_count": null,
   "metadata": {},
   "outputs": [
    {
     "data": {
      "text/html": [
       "<style>\n",
       "    table.wandb td:nth-child(1) { padding: 0 10px; text-align: left ; width: auto;} td:nth-child(2) {text-align: left ; width: 100%}\n",
       "    .wandb-row { display: flex; flex-direction: row; flex-wrap: wrap; justify-content: flex-start; width: 100% }\n",
       "    .wandb-col { display: flex; flex-direction: column; flex-basis: 100%; flex: 1; padding: 10px; }\n",
       "    </style>\n",
       "<div class=\"wandb-row\"><div class=\"wandb-col\"><h3>Run history:</h3><br/><table class=\"wandb\"><tr><td>CV/qwk_score</td><td>▁</td></tr><tr><td>eval/eval_epoch_f0</td><td>▁</td></tr><tr><td>eval/eval_epoch_f0_g0</td><td>▁█</td></tr><tr><td>eval/eval_epoch_f0_g1</td><td>▁█</td></tr><tr><td>eval/eval_epoch_f0_g2</td><td>▁█</td></tr><tr><td>eval/eval_epoch_f1</td><td>▁</td></tr><tr><td>eval/eval_epoch_f1_g0</td><td>▁█</td></tr><tr><td>eval/eval_epoch_f1_g1</td><td>▁█</td></tr><tr><td>eval/eval_epoch_f1_g2</td><td>▁█</td></tr><tr><td>eval/eval_epoch_f2</td><td>▁</td></tr><tr><td>eval/eval_epoch_f2_g0</td><td>▁█</td></tr><tr><td>eval/eval_epoch_f2_g1</td><td>▁█</td></tr><tr><td>eval/eval_epoch_f2_g2</td><td>▁█</td></tr><tr><td>eval/eval_epoch_f3</td><td>▁</td></tr><tr><td>eval/eval_epoch_f3_g0</td><td>▁█</td></tr><tr><td>eval/eval_epoch_f3_g1</td><td>▁█</td></tr><tr><td>eval/eval_epoch_f3_g2</td><td>▁█</td></tr><tr><td>eval/eval_epoch_f4</td><td>▁</td></tr><tr><td>eval/eval_epoch_f4_g0</td><td>▁█</td></tr><tr><td>eval/eval_epoch_f4_g1</td><td>▁█</td></tr><tr><td>eval/eval_epoch_f4_g2</td><td>▁█</td></tr><tr><td>eval/eval_epoch_f5</td><td>▁</td></tr><tr><td>eval/eval_epoch_f5_g0</td><td>▁█</td></tr><tr><td>eval/eval_epoch_f5_g1</td><td>▁█</td></tr><tr><td>eval/eval_epoch_f5_g2</td><td>▁█</td></tr><tr><td>eval/eval_epoch_f6</td><td>▁</td></tr><tr><td>eval/eval_epoch_f6_g0</td><td>▁█</td></tr><tr><td>eval/eval_epoch_f6_g1</td><td>▁█</td></tr><tr><td>eval/eval_epoch_f6_g2</td><td>▁█</td></tr><tr><td>eval/eval_loss_f0_g0</td><td>█▁</td></tr><tr><td>eval/eval_loss_f0_g1</td><td>█▁</td></tr><tr><td>eval/eval_loss_f0_g2</td><td>█▁</td></tr><tr><td>eval/eval_loss_f1_g0</td><td>█▁</td></tr><tr><td>eval/eval_loss_f1_g1</td><td>█▁</td></tr><tr><td>eval/eval_loss_f1_g2</td><td>█▁</td></tr><tr><td>eval/eval_loss_f2_g0</td><td>▁█</td></tr><tr><td>eval/eval_loss_f2_g1</td><td>█▁</td></tr><tr><td>eval/eval_loss_f2_g2</td><td>█▁</td></tr><tr><td>eval/eval_loss_f3_g0</td><td>▁█</td></tr><tr><td>eval/eval_loss_f3_g1</td><td>█▁</td></tr><tr><td>eval/eval_loss_f3_g2</td><td>▁█</td></tr><tr><td>eval/eval_loss_f4_g0</td><td>█▁</td></tr><tr><td>eval/eval_loss_f4_g1</td><td>█▁</td></tr><tr><td>eval/eval_loss_f4_g2</td><td>█▁</td></tr><tr><td>eval/eval_loss_f5_g0</td><td>█▁</td></tr><tr><td>eval/eval_loss_f5_g1</td><td>▁█</td></tr><tr><td>eval/eval_loss_f5_g2</td><td>█▁</td></tr><tr><td>eval/eval_loss_f6_g0</td><td>█▁</td></tr><tr><td>eval/eval_loss_f6_g1</td><td>█▁</td></tr><tr><td>eval/eval_loss_f6_g2</td><td>█▁</td></tr><tr><td>eval/qwk_score_f0</td><td>▁</td></tr><tr><td>eval/qwk_score_f0_g0</td><td>▁█</td></tr><tr><td>eval/qwk_score_f0_g1</td><td>▁█</td></tr><tr><td>eval/qwk_score_f0_g2</td><td>▁█</td></tr><tr><td>eval/qwk_score_f1</td><td>▁</td></tr><tr><td>eval/qwk_score_f1_g0</td><td>▁█</td></tr><tr><td>eval/qwk_score_f1_g1</td><td>▁█</td></tr><tr><td>eval/qwk_score_f1_g2</td><td>▁█</td></tr><tr><td>eval/qwk_score_f2</td><td>▁</td></tr><tr><td>eval/qwk_score_f2_g0</td><td>█▁</td></tr><tr><td>eval/qwk_score_f2_g1</td><td>▁█</td></tr><tr><td>eval/qwk_score_f2_g2</td><td>▁█</td></tr><tr><td>eval/qwk_score_f3</td><td>▁</td></tr><tr><td>eval/qwk_score_f3_g0</td><td>█▁</td></tr><tr><td>eval/qwk_score_f3_g1</td><td>▁█</td></tr><tr><td>eval/qwk_score_f3_g2</td><td>█▁</td></tr><tr><td>eval/qwk_score_f4</td><td>▁</td></tr><tr><td>eval/qwk_score_f4_g0</td><td>▁█</td></tr><tr><td>eval/qwk_score_f4_g1</td><td>▁█</td></tr><tr><td>eval/qwk_score_f4_g2</td><td>▁█</td></tr><tr><td>eval/qwk_score_f5</td><td>▁</td></tr><tr><td>eval/qwk_score_f5_g0</td><td>▁█</td></tr><tr><td>eval/qwk_score_f5_g1</td><td>█▁</td></tr><tr><td>eval/qwk_score_f5_g2</td><td>▁█</td></tr><tr><td>eval/qwk_score_f6</td><td>▁</td></tr><tr><td>eval/qwk_score_f6_g0</td><td>▁█</td></tr><tr><td>eval/qwk_score_f6_g1</td><td>▁█</td></tr><tr><td>eval/qwk_score_f6_g2</td><td>▁█</td></tr><tr><td>train/epoch_f0</td><td>▁▂▃▄▆▆▇▂▃▃▅▆▇▁▂▃▄▅▆▇▁▃▃▄▆▇█▁▃▄▅▆▇▁▂▃▄▅▇█</td></tr><tr><td>train/epoch_f1</td><td>▁▂▃▄▅▇▇▁▂▄▅▆▇█▂▃▄▅▆▇▁▂▄▄▆▇█▂▂▃▅▆▇▁▂▃▄▆▇█</td></tr><tr><td>train/epoch_f2</td><td>▁▂▃▄▅▆█▂▃▄▅▆▇█▂▃▄▅▆█▁▂▃▅▆▇█▂▃▄▅▆▇▁▂▃▅▆▇█</td></tr><tr><td>train/epoch_f3</td><td>▁▂▃▄▅▆▇▁▂▃▅▆▇█▂▃▄▅▆▇▁▂▃▅▆▇█▂▃▄▅▆▇▁▂▃▅▆▇█</td></tr><tr><td>train/epoch_f4</td><td>▁▂▃▄▅▇█▁▃▄▅▆▇▁▂▃▄▅▆▇▁▂▃▅▆▇█▁▂▄▅▆▇█▂▃▄▅▇█</td></tr><tr><td>train/epoch_f5</td><td>▁▂▃▄▅▆█▂▃▄▅▆▇█▂▃▄▅▆▇▂▃▄▅▆▇█▂▃▄▅▆▇▁▂▃▄▅▆█</td></tr><tr><td>train/epoch_f6</td><td>▁▂▃▄▅▆█▂▃▄▅▆▇█▂▃▄▅▆█▁▂▃▅▆▇█▂▃▄▅▆▇▁▂▃▅▆▇█</td></tr><tr><td>train/grad_norm_f0</td><td>▁▁▁▃▂▃▁▂▅▃▂▃▅▁▁▂▂▁▂▁▅▄▄▄▄█▂▁▁▃▂▂▂ ▂▂▂▃▂▁</td></tr><tr><td>train/grad_norm_f1</td><td>▂▃▂▂▃▄▇▇▅▂▂▂▂▃▁▁▁▁▂▃▃█▄▃▆▃▂▁▁▂▁▂▃▅▄▅▂▂▄▃</td></tr><tr><td>train/grad_norm_f2</td><td>▂▂▂▂▂▃▂▄▅▃▄▂▃▃▁▁▅▄▃▃█▇▂▃▃▁▄▁▁▄▄▁▃ ▃▂▃▂▇▆</td></tr><tr><td>train/grad_norm_f3</td><td>▁▂▂▂▂▄▄▃▂▂▁▂▃▃▁▂▂▄▃▃▄▅▅▅▂▂▂▁▁▂▃▄▁▁█▁▄▂▃▁</td></tr><tr><td>train/grad_norm_f4</td><td>▂▂▂▃▃▄▇▄▇▁▃▁▃▃▂▃▅▃▆▇ █▂▅▂▂▄▂▂▂▅▅▃▆▃▂▃▁▃▄</td></tr><tr><td>train/grad_norm_f5</td><td>▁▁▂▃▂▃▁▅▂▂▁▁▁▁▁▂▁▂▂▄▄▂▃▄█▃▂▁▂▂▂▅▂ ▄▃▂▆▂▂</td></tr><tr><td>train/grad_norm_f6</td><td>▂▂▂▂▅▂▃▅▄▃▂▁▂▁▁▁▁▂▂▂▅▃█▃█▅█▂▃▃▃▄▃▂▂▂▃▁▃▂</td></tr><tr><td>train/learning_rate_f0</td><td>▁▄▃█▁▅▂▇▄█▂▅▅▅█▃▄▇▇▄▁█▂█▁▇▅▁█▂▅▁█▇▁▄▃█▁█</td></tr><tr><td>train/learning_rate_f1</td><td>▁▄▃█▁█▂▇▄▃█▁▅▂▄▃█▅▅▂▇▄▃▂▅▅▂▄█▂▅▅▂▇▁█▂▅▅▂</td></tr><tr><td>train/learning_rate_f2</td><td>▁▆▁▇▆▁▇█▅▁▅▁██▆▁▇▆▁▇▅▁█▅▁██▆▁▇▁▇▆▅▁█▅▁██</td></tr><tr><td>train/learning_rate_f3</td><td>▁▇▂▃█▆▁▁▆█▃▂▇█▇▂▃█▆▁▁▆█▃▂▇█▇▂▃█▆▁▁▆█▃▂▇█</td></tr><tr><td>train/learning_rate_f4</td><td>▁▄▃█▁█▃▄▇▁█▂▅▅█▃▄▇▁█▂▅▅▂█▁▄▁█▂▅▅▂▃▁▇▄▃█▁</td></tr><tr><td>train/learning_rate_f5</td><td>▁▅█▄▁▆█▆▁▄█▅▁▄▇▂▃█▆▁▆▁▄█▅▁▄▇▂▃█▆▁▁▆█▃▂▇▄</td></tr><tr><td>train/learning_rate_f6</td><td>▁▆▁▇▆▁▇█▃▂▃▂█▅▆▁▇▆▁▇▃▂█▃▂█▅▆▁▇▁▇▆▃▂█▃▂█▅</td></tr><tr><td>train/train_loss_f0</td><td>██▇▇▆▆▅▂▂▂▂▂▁█▇▇▆▆▅▅▂▂▂▁▁▁▁█▇▆▅▅▅▂▁▁▁▁▁▁</td></tr><tr><td>train/train_loss_f1</td><td>█▇▇▆▅▅▄▁▁▁▁▁▁▁▇▆▆▅▅▄▂▁▁▁▁▁▁█▇▆▆▅▄▁▂▁▁▁▁▁</td></tr><tr><td>train/train_loss_f2</td><td>██▇▆▆▅▄▂▂▁▁▁▁▁█▇▆▆▅▅▁▂▂▂▂▂▂█▇▆▅▅▄▂▁▂▂▂▂▂</td></tr><tr><td>train/train_loss_f3</td><td>██▇▆▅▅▄▂▁▁▁▁▁▁▇▆▆▅▄▄▁▂▁▁▁▁▁▇▆▆▅▄▄▂▁▁▁▁▁▁</td></tr><tr><td>train/train_loss_f4</td><td>█▇▇▆▆▅▄▂▂▂▂▂▂█▇▇▆▅▅▄▃▂▂▂▂▂▂▇▇▆▅▅▄▄▂▁▁▁▁▁</td></tr><tr><td>train/train_loss_f5</td><td>█▇▇▆▆▅▅▁▁▁▁▁▁▁█▇▆▆▅▅▂▂▁▁▁▁▁█▇▆▅▅▄▁▁▁▁▁▁▁</td></tr><tr><td>train/train_loss_f6</td><td>▇▇▇▆▆▅▄▂▂▂▂▂▂▂█▇▆▅▅▄▁▁▁▁▁▁▁▇▆▆▅▅▄▃▂▂▂▂▂▂</td></tr></table><br/></div><div class=\"wandb-col\"><h3>Run summary:</h3><br/><table class=\"wandb\"><tr><td>CV/qwk_score</td><td>0.75788</td></tr><tr><td>eval/eval_epoch_f0</td><td>2</td></tr><tr><td>eval/eval_epoch_f0_g0</td><td>2</td></tr><tr><td>eval/eval_epoch_f0_g1</td><td>2</td></tr><tr><td>eval/eval_epoch_f0_g2</td><td>2</td></tr><tr><td>eval/eval_epoch_f1</td><td>2</td></tr><tr><td>eval/eval_epoch_f1_g0</td><td>2</td></tr><tr><td>eval/eval_epoch_f1_g1</td><td>2</td></tr><tr><td>eval/eval_epoch_f1_g2</td><td>2</td></tr><tr><td>eval/eval_epoch_f2</td><td>2</td></tr><tr><td>eval/eval_epoch_f2_g0</td><td>2</td></tr><tr><td>eval/eval_epoch_f2_g1</td><td>2</td></tr><tr><td>eval/eval_epoch_f2_g2</td><td>2</td></tr><tr><td>eval/eval_epoch_f3</td><td>2</td></tr><tr><td>eval/eval_epoch_f3_g0</td><td>2</td></tr><tr><td>eval/eval_epoch_f3_g1</td><td>2</td></tr><tr><td>eval/eval_epoch_f3_g2</td><td>2</td></tr><tr><td>eval/eval_epoch_f4</td><td>2</td></tr><tr><td>eval/eval_epoch_f4_g0</td><td>2</td></tr><tr><td>eval/eval_epoch_f4_g1</td><td>2</td></tr><tr><td>eval/eval_epoch_f4_g2</td><td>2</td></tr><tr><td>eval/eval_epoch_f5</td><td>2</td></tr><tr><td>eval/eval_epoch_f5_g0</td><td>2</td></tr><tr><td>eval/eval_epoch_f5_g1</td><td>2</td></tr><tr><td>eval/eval_epoch_f5_g2</td><td>2</td></tr><tr><td>eval/eval_epoch_f6</td><td>2</td></tr><tr><td>eval/eval_epoch_f6_g0</td><td>2</td></tr><tr><td>eval/eval_epoch_f6_g1</td><td>2</td></tr><tr><td>eval/eval_epoch_f6_g2</td><td>2</td></tr><tr><td>eval/eval_loss_f0_g0</td><td>1.04665</td></tr><tr><td>eval/eval_loss_f0_g1</td><td>1.06474</td></tr><tr><td>eval/eval_loss_f0_g2</td><td>0.98253</td></tr><tr><td>eval/eval_loss_f1_g0</td><td>1.04856</td></tr><tr><td>eval/eval_loss_f1_g1</td><td>1.11528</td></tr><tr><td>eval/eval_loss_f1_g2</td><td>1.11375</td></tr><tr><td>eval/eval_loss_f2_g0</td><td>1.42436</td></tr><tr><td>eval/eval_loss_f2_g1</td><td>1.1797</td></tr><tr><td>eval/eval_loss_f2_g2</td><td>1.1928</td></tr><tr><td>eval/eval_loss_f3_g0</td><td>1.44305</td></tr><tr><td>eval/eval_loss_f3_g1</td><td>1.18843</td></tr><tr><td>eval/eval_loss_f3_g2</td><td>1.42582</td></tr><tr><td>eval/eval_loss_f4_g0</td><td>1.07209</td></tr><tr><td>eval/eval_loss_f4_g1</td><td>1.10451</td></tr><tr><td>eval/eval_loss_f4_g2</td><td>1.08099</td></tr><tr><td>eval/eval_loss_f5_g0</td><td>1.2459</td></tr><tr><td>eval/eval_loss_f5_g1</td><td>1.31132</td></tr><tr><td>eval/eval_loss_f5_g2</td><td>0.99562</td></tr><tr><td>eval/eval_loss_f6_g0</td><td>1.17703</td></tr><tr><td>eval/eval_loss_f6_g1</td><td>1.12873</td></tr><tr><td>eval/eval_loss_f6_g2</td><td>1.21132</td></tr><tr><td>eval/qwk_score_f0</td><td>0.71793</td></tr><tr><td>eval/qwk_score_f0_g0</td><td>0.70543</td></tr><tr><td>eval/qwk_score_f0_g1</td><td>0.69849</td></tr><tr><td>eval/qwk_score_f0_g2</td><td>0.69605</td></tr><tr><td>eval/qwk_score_f1</td><td>0.79013</td></tr><tr><td>eval/qwk_score_f1_g0</td><td>0.79357</td></tr><tr><td>eval/qwk_score_f1_g1</td><td>0.78573</td></tr><tr><td>eval/qwk_score_f1_g2</td><td>0.77453</td></tr><tr><td>eval/qwk_score_f2</td><td>0.6802</td></tr><tr><td>eval/qwk_score_f2_g0</td><td>0.55494</td></tr><tr><td>eval/qwk_score_f2_g1</td><td>0.68927</td></tr><tr><td>eval/qwk_score_f2_g2</td><td>0.65203</td></tr><tr><td>eval/qwk_score_f3</td><td>0.70513</td></tr><tr><td>eval/qwk_score_f3_g0</td><td>0.62339</td></tr><tr><td>eval/qwk_score_f3_g1</td><td>0.70676</td></tr><tr><td>eval/qwk_score_f3_g2</td><td>0.58168</td></tr><tr><td>eval/qwk_score_f4</td><td>0.78024</td></tr><tr><td>eval/qwk_score_f4_g0</td><td>0.77024</td></tr><tr><td>eval/qwk_score_f4_g1</td><td>0.77496</td></tr><tr><td>eval/qwk_score_f4_g2</td><td>0.77509</td></tr><tr><td>eval/qwk_score_f5</td><td>0.58191</td></tr><tr><td>eval/qwk_score_f5_g0</td><td>0.49545</td></tr><tr><td>eval/qwk_score_f5_g1</td><td>0.45979</td></tr><tr><td>eval/qwk_score_f5_g2</td><td>0.61707</td></tr><tr><td>eval/qwk_score_f6</td><td>0.77043</td></tr><tr><td>eval/qwk_score_f6_g0</td><td>0.7551</td></tr><tr><td>eval/qwk_score_f6_g1</td><td>0.7457</td></tr><tr><td>eval/qwk_score_f6_g2</td><td>0.73852</td></tr><tr><td>train/epoch_f0</td><td>31.66667</td></tr><tr><td>train/epoch_f1</td><td>32.33333</td></tr><tr><td>train/epoch_f2</td><td>30.0</td></tr><tr><td>train/epoch_f3</td><td>31.6</td></tr><tr><td>train/epoch_f4</td><td>32.55556</td></tr><tr><td>train/epoch_f5</td><td>32.8</td></tr><tr><td>train/epoch_f6</td><td>30.2</td></tr><tr><td>train/grad_norm_f0</td><td>143024.90625</td></tr><tr><td>train/grad_norm_f1</td><td>86050.80469</td></tr><tr><td>train/grad_norm_f2</td><td>194612.98438</td></tr><tr><td>train/grad_norm_f3</td><td>48897.94531</td></tr><tr><td>train/grad_norm_f4</td><td>78769.05469</td></tr><tr><td>train/grad_norm_f5</td><td>72821.46094</td></tr><tr><td>train/grad_norm_f6</td><td>70617.79688</td></tr><tr><td>train/learning_rate_f0</td><td>1e-05</td></tr><tr><td>train/learning_rate_f1</td><td>0.0</td></tr><tr><td>train/learning_rate_f2</td><td>2e-05</td></tr><tr><td>train/learning_rate_f3</td><td>2e-05</td></tr><tr><td>train/learning_rate_f4</td><td>1e-05</td></tr><tr><td>train/learning_rate_f5</td><td>1e-05</td></tr><tr><td>train/learning_rate_f6</td><td>1e-05</td></tr><tr><td>train/train_loss_f0</td><td>1.05254</td></tr><tr><td>train/train_loss_f1</td><td>1.07338</td></tr><tr><td>train/train_loss_f2</td><td>1.07327</td></tr><tr><td>train/train_loss_f3</td><td>1.03876</td></tr><tr><td>train/train_loss_f4</td><td>1.03144</td></tr><tr><td>train/train_loss_f5</td><td>1.01969</td></tr><tr><td>train/train_loss_f6</td><td>1.0759</td></tr></table><br/></div></div>"
      ],
      "text/plain": [
       "<IPython.core.display.HTML object>"
      ]
     },
     "metadata": {},
     "output_type": "display_data"
    },
    {
     "data": {
      "text/html": [
       " View run <strong style=\"color:#cdcd00\">deberta-v3-xsmall-512-D3-T2</strong> at: <a href='https://wandb.ai/laplacesdemon43/Kaggle_ASE_2.0/runs/01hf3fos' target=\"_blank\">https://wandb.ai/laplacesdemon43/Kaggle_ASE_2.0/runs/01hf3fos</a><br/> View project at: <a href='https://wandb.ai/laplacesdemon43/Kaggle_ASE_2.0' target=\"_blank\">https://wandb.ai/laplacesdemon43/Kaggle_ASE_2.0</a><br/>Synced 6 W&B file(s), 33 media file(s), 33 artifact file(s) and 2 other file(s)"
      ],
      "text/plain": [
       "<IPython.core.display.HTML object>"
      ]
     },
     "metadata": {},
     "output_type": "display_data"
    },
    {
     "data": {
      "text/html": [
       "Find logs at: <code>./wandb/run-20240506_224143-01hf3fos/logs</code>"
      ],
      "text/plain": [
       "<IPython.core.display.HTML object>"
      ]
     },
     "metadata": {},
     "output_type": "display_data"
    }
   ],
   "source": [
    "wandb.finish()"
   ]
  }
 ],
 "metadata": {
  "kernelspec": {
   "display_name": "venv",
   "language": "python",
   "name": "python3"
  },
  "language_info": {
   "codemirror_mode": {
    "name": "ipython",
    "version": 3
   },
   "file_extension": ".py",
   "mimetype": "text/x-python",
   "name": "python",
   "nbconvert_exporter": "python",
   "pygments_lexer": "ipython3",
   "version": "3.11.8"
  }
 },
 "nbformat": 4,
 "nbformat_minor": 2
}
