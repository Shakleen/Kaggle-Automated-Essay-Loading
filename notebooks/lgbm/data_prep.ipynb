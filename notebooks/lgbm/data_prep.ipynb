{
 "cells": [
  {
   "cell_type": "markdown",
   "metadata": {},
   "source": [
    "# LGBM - Data Preparation"
   ]
  },
  {
   "cell_type": "markdown",
   "metadata": {},
   "source": [
    "## Setup"
   ]
  },
  {
   "cell_type": "code",
   "execution_count": 1,
   "metadata": {},
   "outputs": [],
   "source": [
    "import os\n",
    "import pandas as pd\n",
    "from transformers import AutoTokenizer\n",
    "import torch"
   ]
  },
  {
   "cell_type": "code",
   "execution_count": 2,
   "metadata": {},
   "outputs": [],
   "source": [
    "os.chdir(\"../../\")"
   ]
  },
  {
   "cell_type": "code",
   "execution_count": 3,
   "metadata": {},
   "outputs": [],
   "source": [
    "from lib.config import config\n",
    "from lib.paths import Paths\n",
    "from lib.utils.utils import seed_everything\n",
    "from lib.data_tools.paragraph_feature_engineering import engineer_paragraph_features\n",
    "from lib.data_tools.sentence_feature_engineering import engineer_sentence_features\n",
    "from lib.data_tools.word_feature_engineering import engineer_word_features\n",
    "from lib.data_tools.grammar_feature_engineering import engineer_grammar_feature\n",
    "from lib.model.inference import ensemble_inference\n",
    "from lib.data_tools.data import sliding_window"
   ]
  },
  {
   "cell_type": "code",
   "execution_count": 4,
   "metadata": {},
   "outputs": [],
   "source": [
    "seed_everything()"
   ]
  },
  {
   "cell_type": "markdown",
   "metadata": {},
   "source": [
    "## Data Preparation"
   ]
  },
  {
   "cell_type": "markdown",
   "metadata": {},
   "source": [
    "### Data Loading"
   ]
  },
  {
   "cell_type": "code",
   "execution_count": 5,
   "metadata": {},
   "outputs": [
    {
     "data": {
      "text/plain": [
       "(17307, 2)"
      ]
     },
     "execution_count": 5,
     "metadata": {},
     "output_type": "execute_result"
    }
   ],
   "source": [
    "train_df = pd.read_csv(\n",
    "    Paths.COMPETITION_TRAIN_CSV_PATH,\n",
    "    usecols=[\"essay_id\", \"full_text\"],\n",
    ")\n",
    "train_df.shape"
   ]
  },
  {
   "cell_type": "markdown",
   "metadata": {},
   "source": [
    "### Feature Engineerings"
   ]
  },
  {
   "cell_type": "markdown",
   "metadata": {},
   "source": [
    "#### Paragraph Level"
   ]
  },
  {
   "cell_type": "code",
   "execution_count": 6,
   "metadata": {},
   "outputs": [],
   "source": [
    "paragraph_csv_path = os.path.join(Paths.ROOT_FEATURE_PATH, \"paragraphs.csv\")"
   ]
  },
  {
   "cell_type": "code",
   "execution_count": 7,
   "metadata": {},
   "outputs": [
    {
     "name": "stdout",
     "output_type": "stream",
     "text": [
      "(17307, 29)\n"
     ]
    }
   ],
   "source": [
    "if not os.path.exists(paragraph_csv_path):\n",
    "    paragraph_features = engineer_paragraph_features(train_df.copy(deep=True), \"output/sentence_transformer\")\n",
    "    assert paragraph_features.essay_id.unique().shape == train_df.essay_id.unique().shape\n",
    "    print(paragraph_features.shape)\n",
    "    paragraph_features.to_csv(paragraph_csv_path, index=False)\n",
    "else:\n",
    "    paragraph_features = pd.read_csv(paragraph_csv_path)"
   ]
  },
  {
   "cell_type": "code",
   "execution_count": 8,
   "metadata": {},
   "outputs": [
    {
     "data": {
      "text/plain": [
       "Index(['essay_id', 'paragraph_count', 'paragraph_sentenceCount_sum',\n",
       "       'paragraph_sentenceCount_min', 'paragraph_sentenceCount_mean',\n",
       "       'paragraph_sentenceCount_max', 'paragraph_wordCount_sum',\n",
       "       'paragraph_wordCount_min', 'paragraph_wordCount_mean',\n",
       "       'paragraph_wordCount_max', 'paragraph_lengths_sum',\n",
       "       'paragraph_lengths_min', 'paragraph_lengths_mean',\n",
       "       'paragraph_lengths_max', 'paragraph_introductionLength',\n",
       "       'paragraph_conclusionLength', 'paragraph_bodyLength',\n",
       "       'paragraph_pairwiseSimilarity_sum', 'paragraph_pairwiseSimilarity_min',\n",
       "       'paragraph_pairwiseSimilarity_mean', 'paragraph_pairwiseSimilarity_max',\n",
       "       'paragraph_dualSimilarity_sum', 'paragraph_dualSimilarity_min',\n",
       "       'paragraph_dualSimilarity_mean', 'paragraph_dualSimilarity_max',\n",
       "       'paragraph_tripleSimilarity_sum', 'paragraph_tripleSimilarity_min',\n",
       "       'paragraph_tripleSimilarity_mean', 'paragraph_tripleSimilarity_max'],\n",
       "      dtype='object')"
      ]
     },
     "execution_count": 8,
     "metadata": {},
     "output_type": "execute_result"
    }
   ],
   "source": [
    "paragraph_features.columns"
   ]
  },
  {
   "cell_type": "markdown",
   "metadata": {},
   "source": [
    "#### Sentence Level"
   ]
  },
  {
   "cell_type": "code",
   "execution_count": 9,
   "metadata": {},
   "outputs": [],
   "source": [
    "sentence_csv_path = os.path.join(Paths.ROOT_FEATURE_PATH, \"sentences.csv\")"
   ]
  },
  {
   "cell_type": "code",
   "execution_count": 10,
   "metadata": {},
   "outputs": [],
   "source": [
    "if not os.path.exists(sentence_csv_path):\n",
    "    sentence_features = engineer_sentence_features(train_df.copy(deep=True))\n",
    "    assert sentence_features.essay_id.unique().shape == train_df.essay_id.unique().shape\n",
    "    print(sentence_features.shape)\n",
    "    sentence_features.to_csv(sentence_csv_path, index=False)\n",
    "else:\n",
    "    sentence_features = pd.read_csv(sentence_csv_path)"
   ]
  },
  {
   "cell_type": "code",
   "execution_count": 11,
   "metadata": {},
   "outputs": [
    {
     "data": {
      "text/plain": [
       "Index(['essay_id', 'sentence_count', 'sentence_wordMistakesPerSentence_sum',\n",
       "       'sentence_wordMistakesPerSentence_min',\n",
       "       'sentence_wordMistakesPerSentence_mean',\n",
       "       'sentence_wordMistakesPerSentence_max', 'sentence_nounCount_sum',\n",
       "       'sentence_nounCount_min', 'sentence_nounCount_mean',\n",
       "       'sentence_nounCount_max', 'sentence_pronounCount_sum',\n",
       "       'sentence_pronounCount_min', 'sentence_pronounCount_mean',\n",
       "       'sentence_pronounCount_max', 'sentence_verbCount_sum',\n",
       "       'sentence_verbCount_min', 'sentence_verbCount_mean',\n",
       "       'sentence_verbCount_max', 'sentence_determinerCount_sum',\n",
       "       'sentence_determinerCount_min', 'sentence_determinerCount_mean',\n",
       "       'sentence_determinerCount_max', 'sentence_adjectiveCount_sum',\n",
       "       'sentence_adjectiveCount_min', 'sentence_adjectiveCount_mean',\n",
       "       'sentence_adjectiveCount_max', 'sentence_adverbCount_sum',\n",
       "       'sentence_adverbCount_min', 'sentence_adverbCount_mean',\n",
       "       'sentence_adverbCount_max', 'sentence_numericalCount_sum',\n",
       "       'sentence_numericalCount_min', 'sentence_numericalCount_mean',\n",
       "       'sentence_numericalCount_max', 'sentence_conjunctionCount_sum',\n",
       "       'sentence_conjunctionCount_min', 'sentence_conjunctionCount_mean',\n",
       "       'sentence_conjunctionCount_max', 'sentence_uniquePunctuations_sum',\n",
       "       'sentence_uniquePunctuations_min', 'sentence_uniquePunctuations_mean',\n",
       "       'sentence_uniquePunctuations_max', 'sentence_structureSimpleRatio',\n",
       "       'sentence_structureCompoundRatio', 'sentence_structureComplexRatio',\n",
       "       'sentence_structureComplexCompoundRatio', 'sentence_contractions_sum',\n",
       "       'sentence_contractions_min', 'sentence_contractions_mean',\n",
       "       'sentence_contractions_max'],\n",
       "      dtype='object')"
      ]
     },
     "execution_count": 11,
     "metadata": {},
     "output_type": "execute_result"
    }
   ],
   "source": [
    "sentence_features.columns"
   ]
  },
  {
   "cell_type": "markdown",
   "metadata": {},
   "source": [
    "#### Word Level"
   ]
  },
  {
   "cell_type": "code",
   "execution_count": 12,
   "metadata": {},
   "outputs": [],
   "source": [
    "word_csv_path = os.path.join(Paths.ROOT_FEATURE_PATH, \"word.csv\")"
   ]
  },
  {
   "cell_type": "code",
   "execution_count": 13,
   "metadata": {},
   "outputs": [],
   "source": [
    "if not os.path.exists(word_csv_path):\n",
    "    word_features = engineer_word_features(train_df.copy(deep=True))\n",
    "    assert word_features.essay_id.unique().shape == word_features.essay_id.unique().shape\n",
    "    print(word_features.shape)\n",
    "    word_features.to_csv(word_csv_path, index=False)\n",
    "else:\n",
    "    word_features = pd.read_csv(word_csv_path)"
   ]
  },
  {
   "cell_type": "code",
   "execution_count": 14,
   "metadata": {},
   "outputs": [
    {
     "data": {
      "text/plain": [
       "Index(['essay_id', 'word_count', 'word_variety', 'word_scrabbleScores_sum',\n",
       "       'word_scrabbleScores_min', 'word_scrabbleScores_mean',\n",
       "       'word_scrabbleScores_max', 'word_consonentScores_sum',\n",
       "       'word_consonentScores_min', 'word_consonentScores_mean',\n",
       "       'word_consonentScores_max', 'word_syllableScores_sum',\n",
       "       'word_syllableScores_min', 'word_syllableScores_mean',\n",
       "       'word_syllableScores_max', 'word_uniqueSyllableScores_sum',\n",
       "       'word_uniqueSyllableScores_min', 'word_uniqueSyllableScores_mean',\n",
       "       'word_uniqueSyllableScores_max', 'word_syllableRarityScores_sum',\n",
       "       'word_syllableRarityScores_min', 'word_syllableRarityScores_mean',\n",
       "       'word_syllableRarityScores_max'],\n",
       "      dtype='object')"
      ]
     },
     "execution_count": 14,
     "metadata": {},
     "output_type": "execute_result"
    }
   ],
   "source": [
    "word_features.columns"
   ]
  },
  {
   "cell_type": "markdown",
   "metadata": {},
   "source": [
    "#### DeBERTA Predictions\n",
    "\n",
    "Predictions made using DeBERTA models"
   ]
  },
  {
   "cell_type": "code",
   "execution_count": 15,
   "metadata": {},
   "outputs": [],
   "source": [
    "deberta_csv_path = os.path.join(Paths.ROOT_FEATURE_PATH, \"deberta.csv\")"
   ]
  },
  {
   "cell_type": "code",
   "execution_count": 16,
   "metadata": {},
   "outputs": [],
   "source": [
    "if not os.path.exists(deberta_csv_path):\n",
    "    tokenizer = AutoTokenizer.from_pretrained(Paths.TOKENIZER_PATH)\n",
    "    root_model_path = \"output/microsoft/deberta-v3-large\"\n",
    "    model_paths = {\n",
    "        os.path.join(root_model_path, f\"microsoft_deberta-v3-large_fold_{f}_best.pth\"): 1 / config.n_folds\n",
    "        for f in range(config.n_folds)\n",
    "    }\n",
    "    model_paths\n",
    "    device = torch.device('cuda' if torch.cuda.is_available() else 'cpu')\n",
    "    df = sliding_window(train_df.copy(deep=True), tokenizer)\n",
    "    deberta_features = ensemble_inference(\n",
    "        df,\n",
    "        tokenizer,\n",
    "        model_paths,\n",
    "        device,\n",
    "        logits=True,\n",
    "        overall=True,\n",
    "        model_wise_reduction=False,\n",
    "    )\n",
    "    assert deberta_features.essay_id.unique().shape == train_df.essay_id.unique().shape\n",
    "    print(deberta_features.shape)\n",
    "    deberta_features.to_csv(deberta_csv_path, index=False)\n",
    "else:\n",
    "    deberta_features = pd.read_csv(deberta_csv_path)"
   ]
  },
  {
   "cell_type": "markdown",
   "metadata": {},
   "source": [
    "### Grammar Features"
   ]
  },
  {
   "cell_type": "code",
   "execution_count": 17,
   "metadata": {},
   "outputs": [],
   "source": [
    "grammar_csv_path = os.path.join(Paths.ROOT_FEATURE_PATH, \"grammar_scores.csv\")"
   ]
  },
  {
   "cell_type": "code",
   "execution_count": 18,
   "metadata": {},
   "outputs": [],
   "source": [
    "if not os.path.exists(grammar_csv_path):\n",
    "    grammar_features = pd.read_csv(\"data/feature_engg/grammar_correct.csv\")\n",
    "    grammar_features = engineer_grammar_feature(grammar_features)\n",
    "    assert grammar_features.essay_id.unique().shape == train_df.essay_id.unique().shape\n",
    "    print(grammar_features.shape)\n",
    "    grammar_features.to_csv(grammar_csv_path, index=False)\n",
    "else:\n",
    "    grammar_features = pd.read_csv(grammar_csv_path)"
   ]
  },
  {
   "cell_type": "code",
   "execution_count": 19,
   "metadata": {},
   "outputs": [
    {
     "data": {
      "text/plain": [
       "Index(['essay_id', 'grammar_levenshtein_distance_max',\n",
       "       'grammar_levenshtein_distance_sum', 'grammar_levenshtein_distance_min',\n",
       "       'grammar_levenshtein_distance_mean'],\n",
       "      dtype='object')"
      ]
     },
     "execution_count": 19,
     "metadata": {},
     "output_type": "execute_result"
    }
   ],
   "source": [
    "grammar_features.columns"
   ]
  },
  {
   "cell_type": "markdown",
   "metadata": {},
   "source": [
    "#### Combining Features"
   ]
  },
  {
   "cell_type": "code",
   "execution_count": 20,
   "metadata": {},
   "outputs": [
    {
     "data": {
      "text/plain": [
       "(17307, 104)"
      ]
     },
     "execution_count": 20,
     "metadata": {},
     "output_type": "execute_result"
    }
   ],
   "source": [
    "feature_df_list = [\n",
    "    # deberta_features,\n",
    "    sentence_features,\n",
    "    word_features,\n",
    "    grammar_features,\n",
    "]\n",
    "\n",
    "all_features = paragraph_features.copy(deep=True)\n",
    "\n",
    "for feature_df in feature_df_list:\n",
    "    all_features = pd.merge(all_features, feature_df, on=\"essay_id\")\n",
    "\n",
    "all_features = pd.merge(all_features, train_df[[\"essay_id\"]], on=\"essay_id\")\n",
    "assert all_features.essay_id.unique().shape == train_df.essay_id.unique().shape\n",
    "all_features.shape"
   ]
  },
  {
   "cell_type": "code",
   "execution_count": 21,
   "metadata": {},
   "outputs": [],
   "source": [
    "all_features.to_csv(Paths.FEATURE_ENGG_CSV_PATH, index=False)"
   ]
  },
  {
   "cell_type": "code",
   "execution_count": 22,
   "metadata": {},
   "outputs": [
    {
     "data": {
      "text/plain": [
       "Index(['essay_id', 'paragraph_count', 'paragraph_sentenceCount_sum',\n",
       "       'paragraph_sentenceCount_min', 'paragraph_sentenceCount_mean',\n",
       "       'paragraph_sentenceCount_max', 'paragraph_wordCount_sum',\n",
       "       'paragraph_wordCount_min', 'paragraph_wordCount_mean',\n",
       "       'paragraph_wordCount_max',\n",
       "       ...\n",
       "       'word_uniqueSyllableScores_mean', 'word_uniqueSyllableScores_max',\n",
       "       'word_syllableRarityScores_sum', 'word_syllableRarityScores_min',\n",
       "       'word_syllableRarityScores_mean', 'word_syllableRarityScores_max',\n",
       "       'grammar_levenshtein_distance_max', 'grammar_levenshtein_distance_sum',\n",
       "       'grammar_levenshtein_distance_min',\n",
       "       'grammar_levenshtein_distance_mean'],\n",
       "      dtype='object', length=104)"
      ]
     },
     "execution_count": 22,
     "metadata": {},
     "output_type": "execute_result"
    }
   ],
   "source": [
    "all_features.columns"
   ]
  }
 ],
 "metadata": {
  "kernelspec": {
   "display_name": "Python 3 (ipykernel)",
   "language": "python",
   "name": "python3"
  },
  "language_info": {
   "codemirror_mode": {
    "name": "ipython",
    "version": 3
   },
   "file_extension": ".py",
   "mimetype": "text/x-python",
   "name": "python",
   "nbconvert_exporter": "python",
   "pygments_lexer": "ipython3",
   "version": "3.11.8"
  }
 },
 "nbformat": 4,
 "nbformat_minor": 4
}
