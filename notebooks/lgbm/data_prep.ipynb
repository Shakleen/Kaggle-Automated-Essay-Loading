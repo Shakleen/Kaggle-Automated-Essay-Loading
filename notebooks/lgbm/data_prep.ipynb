{
 "cells": [
  {
   "cell_type": "markdown",
   "metadata": {},
   "source": [
    "# LGBM - Data Preparation"
   ]
  },
  {
   "cell_type": "markdown",
   "metadata": {},
   "source": [
    "## Setup"
   ]
  },
  {
   "cell_type": "code",
   "execution_count": 1,
   "metadata": {},
   "outputs": [],
   "source": [
    "import os\n",
    "import pandas as pd\n",
    "import numpy as np\n",
    "import pickle as pkl\n",
    "from transformers import AutoTokenizer\n",
    "import torch\n",
    "import sys"
   ]
  },
  {
   "cell_type": "code",
   "execution_count": 2,
   "metadata": {},
   "outputs": [],
   "source": [
    "os.chdir(\"../../\")\n",
    "sys.path.append(\"lib/textstat/textstat\")"
   ]
  },
  {
   "cell_type": "code",
   "execution_count": 22,
   "metadata": {},
   "outputs": [],
   "source": [
    "from lib.config import config\n",
    "from lib.paths import Paths\n",
    "from lib.utils.utils import seed_everything\n",
    "from lib.data_tools.feature_engineering import (\n",
    "    process_paragraph,\n",
    "    paragraph_feature_engineering,\n",
    "    process_sentence,\n",
    "    sentence_feature_engineering,\n",
    "    generate_tfidf_features,\n",
    ")\n",
    "from lib.model.inference import ensemble_inference\n",
    "from lib.data_tools.data import sliding_window\n",
    "from lib.textstat import textstat"
   ]
  },
  {
   "cell_type": "code",
   "execution_count": 4,
   "metadata": {},
   "outputs": [],
   "source": [
    "seed_everything()"
   ]
  },
  {
   "cell_type": "markdown",
   "metadata": {},
   "source": [
    "## Data Preparation"
   ]
  },
  {
   "cell_type": "markdown",
   "metadata": {},
   "source": [
    "### Data Loading"
   ]
  },
  {
   "cell_type": "code",
   "execution_count": 5,
   "metadata": {},
   "outputs": [
    {
     "data": {
      "text/plain": [
       "(17307, 3)"
      ]
     },
     "execution_count": 5,
     "metadata": {},
     "output_type": "execute_result"
    }
   ],
   "source": [
    "train_df = pd.read_csv(Paths.COMPETITION_TRAIN_CSV_PATH)\n",
    "train_df.shape"
   ]
  },
  {
   "cell_type": "markdown",
   "metadata": {},
   "source": [
    "### Feature Engineerings"
   ]
  },
  {
   "cell_type": "markdown",
   "metadata": {},
   "source": [
    "#### Paragraph Level"
   ]
  },
  {
   "cell_type": "code",
   "execution_count": 6,
   "metadata": {},
   "outputs": [],
   "source": [
    "paragraph_csv_path = os.path.join(Paths.ROOT_FEATURE_PATH, \"paragraphs.csv\")"
   ]
  },
  {
   "cell_type": "code",
   "execution_count": 7,
   "metadata": {},
   "outputs": [],
   "source": [
    "if not os.path.exists(paragraph_csv_path):\n",
    "    paragraph_features = process_paragraph(train_df.copy(deep=True))\n",
    "    assert paragraph_features.essay_id.unique().shape == train_df.essay_id.unique().shape\n",
    "    print(paragraph_features.shape)\n",
    "    paragraph_features.to_csv(paragraph_csv_path, index=False)\n",
    "else:\n",
    "    paragraph_features = pd.read_csv(paragraph_csv_path)"
   ]
  },
  {
   "cell_type": "code",
   "execution_count": 8,
   "metadata": {},
   "outputs": [
    {
     "data": {
      "text/plain": [
       "(17307, 37)"
      ]
     },
     "execution_count": 8,
     "metadata": {},
     "output_type": "execute_result"
    }
   ],
   "source": [
    "paragraph_features = paragraph_feature_engineering(paragraph_features)\n",
    "assert paragraph_features.essay_id.unique().shape == train_df.essay_id.unique().shape\n",
    "paragraph_features.shape"
   ]
  },
  {
   "cell_type": "markdown",
   "metadata": {},
   "source": [
    "#### Sentence Level"
   ]
  },
  {
   "cell_type": "code",
   "execution_count": 9,
   "metadata": {},
   "outputs": [],
   "source": [
    "sentence_csv_path = os.path.join(Paths.ROOT_FEATURE_PATH, \"sentences.csv\")"
   ]
  },
  {
   "cell_type": "code",
   "execution_count": 10,
   "metadata": {},
   "outputs": [],
   "source": [
    "if not os.path.exists(sentence_csv_path):\n",
    "    sentence_features = process_sentence(train_df.copy(deep=True))\n",
    "    assert sentence_features.essay_id.unique().shape == train_df.essay_id.unique().shape\n",
    "    print(sentence_features.shape)\n",
    "    sentence_features.to_csv(sentence_csv_path, index=False)\n",
    "else:\n",
    "    sentence_features = pd.read_csv(sentence_csv_path)"
   ]
  },
  {
   "cell_type": "code",
   "execution_count": 11,
   "metadata": {},
   "outputs": [
    {
     "data": {
      "text/plain": [
       "(17307, 32)"
      ]
     },
     "execution_count": 11,
     "metadata": {},
     "output_type": "execute_result"
    }
   ],
   "source": [
    "sentence_features = sentence_feature_engineering(sentence_features)\n",
    "assert sentence_features.essay_id.unique().shape == train_df.essay_id.unique().shape\n",
    "sentence_features.shape"
   ]
  },
  {
   "cell_type": "markdown",
   "metadata": {},
   "source": [
    "#### TF-IDF Features\n",
    "\n",
    "A TF-IDF vectorizer is used to convert the essays into numerical features."
   ]
  },
  {
   "cell_type": "code",
   "execution_count": 6,
   "metadata": {},
   "outputs": [
    {
     "name": "stderr",
     "output_type": "stream",
     "text": [
      "/media/ishfar/New Volume/Studies/Projects/Kaggle-Automated-Essay-Scoring/venv/lib/python3.11/site-packages/sklearn/feature_extraction/text.py:408: UserWarning: Your stop_words may be inconsistent with your preprocessing. Tokenizing the stop words generated tokens ['b', 'c', 'd', 'e', 'f', 'g', 'h', 'k', 'l', 'm', 'n', 'o', 'p', 'r', 's', 't', 'u', 'v', 'w', 'x', 'y'] not in stop_words.\n",
      "  warnings.warn(\n"
     ]
    }
   ],
   "source": [
    "vectorizer, tfidf_features = generate_tfidf_features(train_df.copy(deep=True), None)"
   ]
  },
  {
   "cell_type": "code",
   "execution_count": 7,
   "metadata": {},
   "outputs": [],
   "source": [
    "assert tfidf_features.essay_id.unique().shape == train_df.essay_id.unique().shape"
   ]
  },
  {
   "cell_type": "code",
   "execution_count": 8,
   "metadata": {
    "scrolled": true
   },
   "outputs": [],
   "source": [
    "with open(\"output/LGBM/vectorizer.pkl\", \"wb\") as file:\n",
    "    pkl.dump(vectorizer, file)"
   ]
  },
  {
   "cell_type": "markdown",
   "metadata": {},
   "source": [
    "#### DeBERTA Predictions\n",
    "\n",
    "Predictions made using DeBERTA models"
   ]
  },
  {
   "cell_type": "code",
   "execution_count": 26,
   "metadata": {},
   "outputs": [],
   "source": [
    "deberta_csv_path = os.path.join(Paths.ROOT_FEATURE_PATH, \"deberta.csv\")"
   ]
  },
  {
   "cell_type": "code",
   "execution_count": 19,
   "metadata": {},
   "outputs": [
    {
     "name": "stderr",
     "output_type": "stream",
     "text": [
      "Special tokens have been added in the vocabulary, make sure the associated word embeddings are fine-tuned or trained.\n",
      "Model 0 Inference: 100%|██████████| 779/779 [16:15<00:00,  1.25s/test_batch]\n",
      "Special tokens have been added in the vocabulary, make sure the associated word embeddings are fine-tuned or trained.\n",
      "Model 1 Inference: 100%|██████████| 779/779 [15:54<00:00,  1.23s/test_batch]\n",
      "Special tokens have been added in the vocabulary, make sure the associated word embeddings are fine-tuned or trained.\n",
      "Model 2 Inference: 100%|██████████| 779/779 [14:20<00:00,  1.10s/test_batch]\n",
      "Special tokens have been added in the vocabulary, make sure the associated word embeddings are fine-tuned or trained.\n",
      "Model 3 Inference: 100%|██████████| 779/779 [14:20<00:00,  1.10s/test_batch]\n",
      "Special tokens have been added in the vocabulary, make sure the associated word embeddings are fine-tuned or trained.\n",
      "Model 4 Inference: 100%|██████████| 779/779 [14:20<00:00,  1.10s/test_batch]\n",
      "Special tokens have been added in the vocabulary, make sure the associated word embeddings are fine-tuned or trained.\n",
      "Model 5 Inference: 100%|██████████| 779/779 [15:09<00:00,  1.17s/test_batch]\n",
      "Special tokens have been added in the vocabulary, make sure the associated word embeddings are fine-tuned or trained.\n",
      "Model 6 Inference: 100%|██████████| 779/779 [15:30<00:00,  1.19s/test_batch]\n"
     ]
    },
    {
     "data": {
      "text/plain": [
       "(17307, 43)"
      ]
     },
     "execution_count": 19,
     "metadata": {},
     "output_type": "execute_result"
    }
   ],
   "source": [
    "if not os.path.exists(deberta_csv_path):\n",
    "    tokenizer = AutoTokenizer.from_pretrained(Paths.TOKENIZER_PATH)\n",
    "    root_model_path = \"output/microsoft/deberta-v3-large\"\n",
    "    model_paths = {\n",
    "        os.path.join(root_model_path, f\"microsoft_deberta-v3-large_fold_{f}_best.pth\"): 1 / config.n_folds\n",
    "        for f in range(config.n_folds)\n",
    "    }\n",
    "    model_paths\n",
    "    device = torch.device('cuda' if torch.cuda.is_available() else 'cpu')\n",
    "    df = sliding_window(train_df.copy(deep=True), tokenizer)\n",
    "    deberta_features = ensemble_inference(\n",
    "        df,\n",
    "        tokenizer,\n",
    "        model_paths,\n",
    "        device,\n",
    "        logits=True,\n",
    "        overall=True,\n",
    "        model_wise_reduction=False,\n",
    "    )\n",
    "    assert deberta_features.essay_id.unique().shape == train_df.essay_id.unique().shape\n",
    "    print(deberta_features.shape)\n",
    "    deberta_features.to_csv(deberta_csv_path, index=False)\n",
    "else:\n",
    "    deberta_features = pd.read_csv(deberta_csv_path)"
   ]
  },
  {
   "cell_type": "markdown",
   "metadata": {},
   "source": [
    "### Text stat features\n",
    "\n",
    "[Credits to this repo by andrei-papou](https://github.com/andrei-papou/textstat)"
   ]
  },
  {
   "cell_type": "code",
   "execution_count": 11,
   "metadata": {},
   "outputs": [
    {
     "data": {
      "text/plain": [
       "(17307, 18)"
      ]
     },
     "execution_count": 11,
     "metadata": {},
     "output_type": "execute_result"
    }
   ],
   "source": [
    "feature_map = {\n",
    "    \"flesch_reading_ease\": textstat.flesch_reading_ease,\n",
    "    \"flesch_kincaid_grade\": textstat.flesch_kincaid_grade,\n",
    "    \"smog_index\": textstat.smog_index,\n",
    "    \"coleman_liau_index\": textstat.coleman_liau_index,\n",
    "    \"automated_readability_index\": textstat.automated_readability_index,\n",
    "    \"dale_chall_readability_score\": textstat.dale_chall_readability_score,\n",
    "    \"difficult_words\": textstat.difficult_words,\n",
    "    \"linsear_write_formula\": textstat.linsear_write_formula,\n",
    "    \"gunning_fog\": textstat.gunning_fog,\n",
    "    \"text_standard\": lambda x: textstat.text_standard(x, float_output=True),\n",
    "    \"fernandez_huerta\": textstat.fernandez_huerta,\n",
    "    \"szigriszt_pazos\": textstat.szigriszt_pazos,\n",
    "    \"gutierrez_polini\": textstat.gutierrez_polini,\n",
    "    \"crawford\": textstat.crawford,\n",
    "    \"gulpease_index\": textstat.gulpease_index,\n",
    "    \"osman\": textstat.osman,\n",
    "}\n",
    "\n",
    "text_state_features = train_df.loc[:, [\"essay_id\", \"full_text\"]].copy()\n",
    "\n",
    "for name, func in feature_map.items():\n",
    "    text_state_features[name] = text_state_features[\"full_text\"].map(func)\n",
    "\n",
    "assert text_state_features.essay_id.unique().shape == train_df.essay_id.unique().shape\n",
    "text_state_features.shape"
   ]
  },
  {
   "cell_type": "markdown",
   "metadata": {},
   "source": [
    "#### Combining Features"
   ]
  },
  {
   "cell_type": "code",
   "execution_count": 22,
   "metadata": {},
   "outputs": [
    {
     "data": {
      "text/plain": [
       "(17307, 211)"
      ]
     },
     "execution_count": 22,
     "metadata": {},
     "output_type": "execute_result"
    }
   ],
   "source": [
    "all_features = deberta_features.copy(deep=True)\n",
    "\n",
    "for feature_df in [paragraph_features, sentence_features, tfidf_features]:\n",
    "    all_features = pd.merge(all_features, feature_df, on=\"essay_id\")\n",
    "\n",
    "all_features = pd.merge(all_features, train_df[[\"essay_id\", \"score\"]], on=\"essay_id\")\n",
    "assert all_features.essay_id.unique().shape == train_df.essay_id.unique().shape\n",
    "all_features.shape"
   ]
  },
  {
   "cell_type": "code",
   "execution_count": 24,
   "metadata": {},
   "outputs": [],
   "source": [
    "# all_features.to_csv(Paths.FEATURE_ENGG_CSV_PATH, index=False)"
   ]
  }
 ],
 "metadata": {
  "kernelspec": {
   "display_name": "Python 3 (ipykernel)",
   "language": "python",
   "name": "python3"
  },
  "language_info": {
   "codemirror_mode": {
    "name": "ipython",
    "version": 3
   },
   "file_extension": ".py",
   "mimetype": "text/x-python",
   "name": "python",
   "nbconvert_exporter": "python",
   "pygments_lexer": "ipython3",
   "version": "3.11.8"
  }
 },
 "nbformat": 4,
 "nbformat_minor": 4
}
