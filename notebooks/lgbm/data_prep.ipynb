{
 "cells": [
  {
   "cell_type": "markdown",
   "metadata": {},
   "source": [
    "# LGBM - Data Preparation"
   ]
  },
  {
   "cell_type": "markdown",
   "metadata": {},
   "source": [
    "## Setup"
   ]
  },
  {
   "cell_type": "code",
   "execution_count": 1,
   "metadata": {},
   "outputs": [],
   "source": [
    "import os\n",
    "import pandas as pd\n",
    "import numpy as np\n",
    "import pickle as pkl\n",
    "from transformers import AutoTokenizer\n",
    "import torch\n",
    "import sys\n",
    "from nltk.tokenize import word_tokenize\n",
    "import re"
   ]
  },
  {
   "cell_type": "code",
   "execution_count": 2,
   "metadata": {},
   "outputs": [],
   "source": [
    "os.chdir(\"../../\")\n",
    "sys.path.append(\"lib/textstat/textstat\")\n",
    "sys.path.append(\"lib/pyspellchecker\")"
   ]
  },
  {
   "cell_type": "code",
   "execution_count": 5,
   "metadata": {},
   "outputs": [],
   "source": [
    "from lib.config import config\n",
    "from lib.paths import Paths\n",
    "from lib.utils.utils import seed_everything\n",
    "from lib.data_tools.feature_engineering import (\n",
    "    process_paragraph,\n",
    "    paragraph_feature_engineering,\n",
    "    process_sentence,\n",
    "    sentence_feature_engineering,\n",
    "    generate_tfidf_features,\n",
    "    # data_preprocessing,\n",
    "    # remove_punctuation,\n",
    "    # process_word,\n",
    "    # expand_contractions,\n",
    ")\n",
    "from lib.data_tools.word_feature_engineering import engineer_word_features\n",
    "from lib.model.inference import ensemble_inference\n",
    "from lib.data_tools.data import sliding_window\n",
    "from lib.textstat import textstat\n",
    "from lib.pyspellchecker.spellchecker import SpellChecker"
   ]
  },
  {
   "cell_type": "code",
   "execution_count": 6,
   "metadata": {},
   "outputs": [],
   "source": [
    "seed_everything()"
   ]
  },
  {
   "cell_type": "markdown",
   "metadata": {},
   "source": [
    "## Data Preparation"
   ]
  },
  {
   "cell_type": "markdown",
   "metadata": {},
   "source": [
    "### Data Loading"
   ]
  },
  {
   "cell_type": "code",
   "execution_count": 7,
   "metadata": {},
   "outputs": [
    {
     "data": {
      "text/plain": [
       "(17307, 3)"
      ]
     },
     "execution_count": 7,
     "metadata": {},
     "output_type": "execute_result"
    }
   ],
   "source": [
    "train_df = pd.read_csv(Paths.COMPETITION_TRAIN_CSV_PATH)\n",
    "train_df.shape"
   ]
  },
  {
   "cell_type": "markdown",
   "metadata": {},
   "source": [
    "### Feature Engineerings"
   ]
  },
  {
   "cell_type": "markdown",
   "metadata": {},
   "source": [
    "#### Paragraph Level"
   ]
  },
  {
   "cell_type": "code",
   "execution_count": 6,
   "metadata": {},
   "outputs": [],
   "source": [
    "paragraph_csv_path = os.path.join(Paths.ROOT_FEATURE_PATH, \"paragraphs.csv\")"
   ]
  },
  {
   "cell_type": "code",
   "execution_count": 7,
   "metadata": {},
   "outputs": [],
   "source": [
    "if not os.path.exists(paragraph_csv_path):\n",
    "    paragraph_features = process_paragraph(train_df.copy(deep=True))\n",
    "    assert paragraph_features.essay_id.unique().shape == train_df.essay_id.unique().shape\n",
    "    print(paragraph_features.shape)\n",
    "    paragraph_features.to_csv(paragraph_csv_path, index=False)\n",
    "else:\n",
    "    paragraph_features = pd.read_csv(paragraph_csv_path)"
   ]
  },
  {
   "cell_type": "code",
   "execution_count": 8,
   "metadata": {},
   "outputs": [
    {
     "data": {
      "text/plain": [
       "(17307, 37)"
      ]
     },
     "execution_count": 8,
     "metadata": {},
     "output_type": "execute_result"
    }
   ],
   "source": [
    "paragraph_features = paragraph_feature_engineering(paragraph_features)\n",
    "assert paragraph_features.essay_id.unique().shape == train_df.essay_id.unique().shape\n",
    "paragraph_features.shape"
   ]
  },
  {
   "cell_type": "markdown",
   "metadata": {},
   "source": [
    "#### Sentence Level"
   ]
  },
  {
   "cell_type": "code",
   "execution_count": 9,
   "metadata": {},
   "outputs": [],
   "source": [
    "sentence_csv_path = os.path.join(Paths.ROOT_FEATURE_PATH, \"sentences.csv\")"
   ]
  },
  {
   "cell_type": "code",
   "execution_count": 10,
   "metadata": {},
   "outputs": [],
   "source": [
    "if not os.path.exists(sentence_csv_path):\n",
    "    sentence_features = process_sentence(train_df.copy(deep=True))\n",
    "    assert sentence_features.essay_id.unique().shape == train_df.essay_id.unique().shape\n",
    "    print(sentence_features.shape)\n",
    "    sentence_features.to_csv(sentence_csv_path, index=False)\n",
    "else:\n",
    "    sentence_features = pd.read_csv(sentence_csv_path)"
   ]
  },
  {
   "cell_type": "code",
   "execution_count": 11,
   "metadata": {},
   "outputs": [
    {
     "data": {
      "text/plain": [
       "(17307, 32)"
      ]
     },
     "execution_count": 11,
     "metadata": {},
     "output_type": "execute_result"
    }
   ],
   "source": [
    "sentence_features = sentence_feature_engineering(sentence_features)\n",
    "assert sentence_features.essay_id.unique().shape == train_df.essay_id.unique().shape\n",
    "sentence_features.shape"
   ]
  },
  {
   "cell_type": "markdown",
   "metadata": {},
   "source": [
    "### Word Features"
   ]
  },
  {
   "cell_type": "code",
   "execution_count": null,
   "metadata": {},
   "outputs": [],
   "source": [
    "word_csv_path = os.path.join(Paths.ROOT_FEATURE_PATH, \"word.csv\")"
   ]
  },
  {
   "cell_type": "code",
   "execution_count": 8,
   "metadata": {},
   "outputs": [],
   "source": [
    "if not os.path.exists(word_csv_path):\n",
    "    word_features = engineer_word_features(train_df.copy(deep=True))\n",
    "    assert word_features.essay_id.unique().shape == word_features.essay_id.unique().shape\n",
    "    print(word_features.shape)\n",
    "    word_features.to_csv(word_csv_path, index=False)\n",
    "else:\n",
    "    word_features = pd.read_csv(word_csv_path)"
   ]
  },
  {
   "cell_type": "markdown",
   "metadata": {},
   "source": [
    "#### TF-IDF Features\n",
    "\n",
    "A TF-IDF vectorizer is used to convert the essays into numerical features."
   ]
  },
  {
   "cell_type": "code",
   "execution_count": 12,
   "metadata": {},
   "outputs": [
    {
     "name": "stderr",
     "output_type": "stream",
     "text": [
      "/media/ishfar/New Volume/Studies/Projects/Kaggle-Automated-Essay-Scoring/venv/lib/python3.11/site-packages/sklearn/feature_extraction/text.py:408: UserWarning: Your stop_words may be inconsistent with your preprocessing. Tokenizing the stop words generated tokens ['b', 'c', 'd', 'e', 'f', 'g', 'h', 'k', 'l', 'm', 'n', 'o', 'p', 'r', 's', 't', 'u', 'v', 'w', 'x', 'y'] not in stop_words.\n",
      "  warnings.warn(\n"
     ]
    }
   ],
   "source": [
    "vectorizer, tfidf_features = generate_tfidf_features(train_df.copy(deep=True), None)"
   ]
  },
  {
   "cell_type": "code",
   "execution_count": 13,
   "metadata": {},
   "outputs": [],
   "source": [
    "assert tfidf_features.essay_id.unique().shape == train_df.essay_id.unique().shape"
   ]
  },
  {
   "cell_type": "code",
   "execution_count": 14,
   "metadata": {
    "scrolled": true
   },
   "outputs": [],
   "source": [
    "with open(\"output/LGBM/vectorizer.pkl\", \"wb\") as file:\n",
    "    pkl.dump(vectorizer, file)"
   ]
  },
  {
   "cell_type": "markdown",
   "metadata": {},
   "source": [
    "#### DeBERTA Predictions\n",
    "\n",
    "Predictions made using DeBERTA models"
   ]
  },
  {
   "cell_type": "code",
   "execution_count": 15,
   "metadata": {},
   "outputs": [],
   "source": [
    "deberta_csv_path = os.path.join(Paths.ROOT_FEATURE_PATH, \"deberta.csv\")"
   ]
  },
  {
   "cell_type": "code",
   "execution_count": 16,
   "metadata": {},
   "outputs": [],
   "source": [
    "if not os.path.exists(deberta_csv_path):\n",
    "    tokenizer = AutoTokenizer.from_pretrained(Paths.TOKENIZER_PATH)\n",
    "    root_model_path = \"output/microsoft/deberta-v3-large\"\n",
    "    model_paths = {\n",
    "        os.path.join(root_model_path, f\"microsoft_deberta-v3-large_fold_{f}_best.pth\"): 1 / config.n_folds\n",
    "        for f in range(config.n_folds)\n",
    "    }\n",
    "    model_paths\n",
    "    device = torch.device('cuda' if torch.cuda.is_available() else 'cpu')\n",
    "    df = sliding_window(train_df.copy(deep=True), tokenizer)\n",
    "    deberta_features = ensemble_inference(\n",
    "        df,\n",
    "        tokenizer,\n",
    "        model_paths,\n",
    "        device,\n",
    "        logits=True,\n",
    "        overall=True,\n",
    "        model_wise_reduction=False,\n",
    "    )\n",
    "    assert deberta_features.essay_id.unique().shape == train_df.essay_id.unique().shape\n",
    "    print(deberta_features.shape)\n",
    "    deberta_features.to_csv(deberta_csv_path, index=False)\n",
    "else:\n",
    "    deberta_features = pd.read_csv(deberta_csv_path)"
   ]
  },
  {
   "cell_type": "markdown",
   "metadata": {},
   "source": [
    "#### Combining Features"
   ]
  },
  {
   "cell_type": "code",
   "execution_count": 21,
   "metadata": {},
   "outputs": [
    {
     "data": {
      "text/plain": [
       "(17307, 220)"
      ]
     },
     "execution_count": 21,
     "metadata": {},
     "output_type": "execute_result"
    }
   ],
   "source": [
    "feature_df_list = [\n",
    "    paragraph_features,\n",
    "    sentence_features,\n",
    "    tfidf_features,\n",
    "    word_features,\n",
    "]\n",
    "\n",
    "all_features = deberta_features.copy(deep=True)\n",
    "\n",
    "for feature_df in feature_df_list:\n",
    "    all_features = pd.merge(all_features, feature_df, on=\"essay_id\")\n",
    "\n",
    "all_features = pd.merge(all_features, train_df[[\"essay_id\", \"score\"]], on=\"essay_id\")\n",
    "assert all_features.essay_id.unique().shape == train_df.essay_id.unique().shape\n",
    "all_features.shape"
   ]
  },
  {
   "cell_type": "code",
   "execution_count": 22,
   "metadata": {},
   "outputs": [],
   "source": [
    "all_features.to_csv(Paths.FEATURE_ENGG_CSV_PATH, index=False)"
   ]
  }
 ],
 "metadata": {
  "kernelspec": {
   "display_name": "Python 3 (ipykernel)",
   "language": "python",
   "name": "python3"
  },
  "language_info": {
   "codemirror_mode": {
    "name": "ipython",
    "version": 3
   },
   "file_extension": ".py",
   "mimetype": "text/x-python",
   "name": "python",
   "nbconvert_exporter": "python",
   "pygments_lexer": "ipython3",
   "version": "3.11.8"
  }
 },
 "nbformat": 4,
 "nbformat_minor": 4
}
