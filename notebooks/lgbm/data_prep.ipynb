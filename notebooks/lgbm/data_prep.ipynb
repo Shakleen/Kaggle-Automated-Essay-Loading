{
 "cells": [
  {
   "cell_type": "markdown",
   "metadata": {},
   "source": [
    "# LGBM - Data Preparation"
   ]
  },
  {
   "cell_type": "markdown",
   "metadata": {},
   "source": [
    "## Setup"
   ]
  },
  {
   "cell_type": "code",
   "execution_count": 24,
   "metadata": {},
   "outputs": [],
   "source": [
    "import os\n",
    "import pandas as pd\n",
    "import numpy as np\n",
    "import pickle as pkl\n",
    "from sklearn.feature_extraction.text import TfidfVectorizer, CountVectorizer"
   ]
  },
  {
   "cell_type": "code",
   "execution_count": 2,
   "metadata": {},
   "outputs": [],
   "source": [
    "os.chdir(\"../../\")"
   ]
  },
  {
   "cell_type": "code",
   "execution_count": 3,
   "metadata": {},
   "outputs": [],
   "source": [
    "from lib.config import config\n",
    "from lib.paths import Paths\n",
    "from lib.utils.utils import seed_everything\n",
    "from lib.data_tools.feature_engineering import (\n",
    "    process_paragraph,\n",
    "    paragraph_feature_engineering,\n",
    "    process_sentence,\n",
    "    sentence_feature_engineering,\n",
    "    process_word,\n",
    "    word_feature_engineering,\n",
    "    generate_tfidf_features,\n",
    "    generate_count_features,\n",
    ")"
   ]
  },
  {
   "cell_type": "code",
   "execution_count": 4,
   "metadata": {},
   "outputs": [],
   "source": [
    "seed_everything()"
   ]
  },
  {
   "cell_type": "markdown",
   "metadata": {},
   "source": [
    "## Data Preparation"
   ]
  },
  {
   "cell_type": "markdown",
   "metadata": {},
   "source": [
    "### Data Loading"
   ]
  },
  {
   "cell_type": "code",
   "execution_count": 5,
   "metadata": {},
   "outputs": [],
   "source": [
    "train_df = pd.read_csv(Paths.COMPETITION_TRAIN_CSV_PATH)"
   ]
  },
  {
   "cell_type": "markdown",
   "metadata": {},
   "source": [
    "### Feature Engineerings"
   ]
  },
  {
   "cell_type": "markdown",
   "metadata": {},
   "source": [
    "#### Paragraph Level"
   ]
  },
  {
   "cell_type": "code",
   "execution_count": 6,
   "metadata": {},
   "outputs": [
    {
     "data": {
      "text/plain": [
       "(85934, 9)"
      ]
     },
     "execution_count": 6,
     "metadata": {},
     "output_type": "execute_result"
    }
   ],
   "source": [
    "paragraph_features = process_paragraph(train_df)\n",
    "paragraph_features.shape"
   ]
  },
  {
   "cell_type": "code",
   "execution_count": 7,
   "metadata": {},
   "outputs": [
    {
     "data": {
      "text/html": [
       "<div>\n",
       "<style scoped>\n",
       "    .dataframe tbody tr th:only-of-type {\n",
       "        vertical-align: middle;\n",
       "    }\n",
       "\n",
       "    .dataframe tbody tr th {\n",
       "        vertical-align: top;\n",
       "    }\n",
       "\n",
       "    .dataframe thead th {\n",
       "        text-align: right;\n",
       "    }\n",
       "</style>\n",
       "<table border=\"1\" class=\"dataframe\">\n",
       "  <thead>\n",
       "    <tr style=\"text-align: right;\">\n",
       "      <th></th>\n",
       "      <th>essay_id</th>\n",
       "      <th>full_text</th>\n",
       "      <th>score</th>\n",
       "      <th>paragraph</th>\n",
       "      <th>paragraph_no_punctuation</th>\n",
       "      <th>paragraph_error_count</th>\n",
       "      <th>paragraph_char_count</th>\n",
       "      <th>paragraph_word_count</th>\n",
       "      <th>paragraph_sentence_count</th>\n",
       "    </tr>\n",
       "  </thead>\n",
       "  <tbody>\n",
       "    <tr>\n",
       "      <th>12725</th>\n",
       "      <td>bbc0087</td>\n",
       "      <td>The development of driverless cars should be a...</td>\n",
       "      <td>4</td>\n",
       "      <td>in just a few years, with manufacturers making...</td>\n",
       "      <td>in just a few years with manufacturers making ...</td>\n",
       "      <td>0</td>\n",
       "      <td>150</td>\n",
       "      <td>23</td>\n",
       "      <td>1</td>\n",
       "    </tr>\n",
       "    <tr>\n",
       "      <th>5194</th>\n",
       "      <td>4d8bb17</td>\n",
       "      <td>When you say that the face on mars is an alien...</td>\n",
       "      <td>3</td>\n",
       "      <td>when you say that the face on mars is an alien...</td>\n",
       "      <td>when you say that the face on mars is an alien...</td>\n",
       "      <td>1</td>\n",
       "      <td>244</td>\n",
       "      <td>55</td>\n",
       "      <td>5</td>\n",
       "    </tr>\n",
       "    <tr>\n",
       "      <th>13746</th>\n",
       "      <td>c9d4074</td>\n",
       "      <td>Driverless cars are quickly becoming a reality...</td>\n",
       "      <td>4</td>\n",
       "      <td>the focus should be on teaching people to driv...</td>\n",
       "      <td>the focus should be on teaching people to driv...</td>\n",
       "      <td>0</td>\n",
       "      <td>148</td>\n",
       "      <td>27</td>\n",
       "      <td>1</td>\n",
       "    </tr>\n",
       "  </tbody>\n",
       "</table>\n",
       "</div>"
      ],
      "text/plain": [
       "      essay_id                                          full_text  score  \\\n",
       "12725  bbc0087  The development of driverless cars should be a...      4   \n",
       "5194   4d8bb17  When you say that the face on mars is an alien...      3   \n",
       "13746  c9d4074  Driverless cars are quickly becoming a reality...      4   \n",
       "\n",
       "                                               paragraph  \\\n",
       "12725  in just a few years, with manufacturers making...   \n",
       "5194   when you say that the face on mars is an alien...   \n",
       "13746  the focus should be on teaching people to driv...   \n",
       "\n",
       "                                paragraph_no_punctuation  \\\n",
       "12725  in just a few years with manufacturers making ...   \n",
       "5194   when you say that the face on mars is an alien...   \n",
       "13746  the focus should be on teaching people to driv...   \n",
       "\n",
       "       paragraph_error_count  paragraph_char_count  paragraph_word_count  \\\n",
       "12725                      0                   150                    23   \n",
       "5194                       1                   244                    55   \n",
       "13746                      0                   148                    27   \n",
       "\n",
       "       paragraph_sentence_count  \n",
       "12725                         1  \n",
       "5194                          5  \n",
       "13746                         1  "
      ]
     },
     "execution_count": 7,
     "metadata": {},
     "output_type": "execute_result"
    }
   ],
   "source": [
    "paragraph_features.sample(3)"
   ]
  },
  {
   "cell_type": "code",
   "execution_count": 8,
   "metadata": {},
   "outputs": [
    {
     "data": {
      "text/plain": [
       "(17307, 33)"
      ]
     },
     "execution_count": 8,
     "metadata": {},
     "output_type": "execute_result"
    }
   ],
   "source": [
    "paragraph_features = paragraph_feature_engineering(paragraph_features)\n",
    "paragraph_features.shape"
   ]
  },
  {
   "cell_type": "code",
   "execution_count": 9,
   "metadata": {},
   "outputs": [
    {
     "data": {
      "text/plain": [
       "Index(['essay_id', 'paragraph_error_count_mean', 'paragraph_error_count_min',\n",
       "       'paragraph_error_count_max', 'paragraph_error_count_sum',\n",
       "       'paragraph_error_count_first', 'paragraph_error_count_last',\n",
       "       'paragraph_char_count_mean', 'paragraph_char_count_min',\n",
       "       'paragraph_char_count_max', 'paragraph_char_count_sum',\n",
       "       'paragraph_char_count_first', 'paragraph_char_count_last',\n",
       "       'paragraph_word_count_mean', 'paragraph_word_count_min',\n",
       "       'paragraph_word_count_max', 'paragraph_word_count_sum',\n",
       "       'paragraph_word_count_first', 'paragraph_word_count_last',\n",
       "       'paragraph_sentence_count_mean', 'paragraph_sentence_count_min',\n",
       "       'paragraph_sentence_count_max', 'paragraph_sentence_count_sum',\n",
       "       'paragraph_sentence_count_first', 'paragraph_sentence_count_last',\n",
       "       'paragraph_error_count_q1', 'paragraph_error_count_q3',\n",
       "       'paragraph_char_count_q1', 'paragraph_char_count_q3',\n",
       "       'paragraph_word_count_q1', 'paragraph_word_count_q3',\n",
       "       'paragraph_sentence_count_q1', 'paragraph_sentence_count_q3'],\n",
       "      dtype='object')"
      ]
     },
     "execution_count": 9,
     "metadata": {},
     "output_type": "execute_result"
    }
   ],
   "source": [
    "paragraph_features.columns"
   ]
  },
  {
   "cell_type": "code",
   "execution_count": 10,
   "metadata": {},
   "outputs": [
    {
     "data": {
      "text/html": [
       "<div>\n",
       "<style scoped>\n",
       "    .dataframe tbody tr th:only-of-type {\n",
       "        vertical-align: middle;\n",
       "    }\n",
       "\n",
       "    .dataframe tbody tr th {\n",
       "        vertical-align: top;\n",
       "    }\n",
       "\n",
       "    .dataframe thead th {\n",
       "        text-align: right;\n",
       "    }\n",
       "</style>\n",
       "<table border=\"1\" class=\"dataframe\">\n",
       "  <thead>\n",
       "    <tr style=\"text-align: right;\">\n",
       "      <th></th>\n",
       "      <th>essay_id</th>\n",
       "      <th>paragraph_error_count_mean</th>\n",
       "      <th>paragraph_error_count_min</th>\n",
       "      <th>paragraph_error_count_max</th>\n",
       "      <th>paragraph_error_count_sum</th>\n",
       "      <th>paragraph_error_count_first</th>\n",
       "      <th>paragraph_error_count_last</th>\n",
       "      <th>paragraph_char_count_mean</th>\n",
       "      <th>paragraph_char_count_min</th>\n",
       "      <th>paragraph_char_count_max</th>\n",
       "      <th>...</th>\n",
       "      <th>paragraph_sentence_count_first</th>\n",
       "      <th>paragraph_sentence_count_last</th>\n",
       "      <th>paragraph_error_count_q1</th>\n",
       "      <th>paragraph_error_count_q3</th>\n",
       "      <th>paragraph_char_count_q1</th>\n",
       "      <th>paragraph_char_count_q3</th>\n",
       "      <th>paragraph_word_count_q1</th>\n",
       "      <th>paragraph_word_count_q3</th>\n",
       "      <th>paragraph_sentence_count_q1</th>\n",
       "      <th>paragraph_sentence_count_q3</th>\n",
       "    </tr>\n",
       "  </thead>\n",
       "  <tbody>\n",
       "    <tr>\n",
       "      <th>10716</th>\n",
       "      <td>9e219bb</td>\n",
       "      <td>1.625000</td>\n",
       "      <td>0</td>\n",
       "      <td>7</td>\n",
       "      <td>13</td>\n",
       "      <td>0</td>\n",
       "      <td>0</td>\n",
       "      <td>215.500000</td>\n",
       "      <td>17</td>\n",
       "      <td>422</td>\n",
       "      <td>...</td>\n",
       "      <td>0</td>\n",
       "      <td>1</td>\n",
       "      <td>0.0</td>\n",
       "      <td>1.75</td>\n",
       "      <td>120.50</td>\n",
       "      <td>285.25</td>\n",
       "      <td>22.75</td>\n",
       "      <td>47.75</td>\n",
       "      <td>1.00</td>\n",
       "      <td>3.5</td>\n",
       "    </tr>\n",
       "    <tr>\n",
       "      <th>16341</th>\n",
       "      <td>f114047</td>\n",
       "      <td>7.500000</td>\n",
       "      <td>1</td>\n",
       "      <td>13</td>\n",
       "      <td>45</td>\n",
       "      <td>1</td>\n",
       "      <td>5</td>\n",
       "      <td>416.666667</td>\n",
       "      <td>128</td>\n",
       "      <td>699</td>\n",
       "      <td>...</td>\n",
       "      <td>1</td>\n",
       "      <td>2</td>\n",
       "      <td>5.0</td>\n",
       "      <td>11.25</td>\n",
       "      <td>224.75</td>\n",
       "      <td>599.00</td>\n",
       "      <td>38.75</td>\n",
       "      <td>101.25</td>\n",
       "      <td>2.50</td>\n",
       "      <td>5.5</td>\n",
       "    </tr>\n",
       "    <tr>\n",
       "      <th>9190</th>\n",
       "      <td>87c531e</td>\n",
       "      <td>2.833333</td>\n",
       "      <td>0</td>\n",
       "      <td>7</td>\n",
       "      <td>17</td>\n",
       "      <td>1</td>\n",
       "      <td>2</td>\n",
       "      <td>416.166667</td>\n",
       "      <td>44</td>\n",
       "      <td>1093</td>\n",
       "      <td>...</td>\n",
       "      <td>2</td>\n",
       "      <td>1</td>\n",
       "      <td>1.0</td>\n",
       "      <td>5.00</td>\n",
       "      <td>222.25</td>\n",
       "      <td>522.25</td>\n",
       "      <td>41.25</td>\n",
       "      <td>95.25</td>\n",
       "      <td>1.25</td>\n",
       "      <td>3.5</td>\n",
       "    </tr>\n",
       "  </tbody>\n",
       "</table>\n",
       "<p>3 rows × 33 columns</p>\n",
       "</div>"
      ],
      "text/plain": [
       "      essay_id  paragraph_error_count_mean  paragraph_error_count_min  \\\n",
       "10716  9e219bb                    1.625000                          0   \n",
       "16341  f114047                    7.500000                          1   \n",
       "9190   87c531e                    2.833333                          0   \n",
       "\n",
       "       paragraph_error_count_max  paragraph_error_count_sum  \\\n",
       "10716                          7                         13   \n",
       "16341                         13                         45   \n",
       "9190                           7                         17   \n",
       "\n",
       "       paragraph_error_count_first  paragraph_error_count_last  \\\n",
       "10716                            0                           0   \n",
       "16341                            1                           5   \n",
       "9190                             1                           2   \n",
       "\n",
       "       paragraph_char_count_mean  paragraph_char_count_min  \\\n",
       "10716                 215.500000                        17   \n",
       "16341                 416.666667                       128   \n",
       "9190                  416.166667                        44   \n",
       "\n",
       "       paragraph_char_count_max  ...  paragraph_sentence_count_first  \\\n",
       "10716                       422  ...                               0   \n",
       "16341                       699  ...                               1   \n",
       "9190                       1093  ...                               2   \n",
       "\n",
       "       paragraph_sentence_count_last  paragraph_error_count_q1  \\\n",
       "10716                              1                       0.0   \n",
       "16341                              2                       5.0   \n",
       "9190                               1                       1.0   \n",
       "\n",
       "       paragraph_error_count_q3  paragraph_char_count_q1  \\\n",
       "10716                      1.75                   120.50   \n",
       "16341                     11.25                   224.75   \n",
       "9190                       5.00                   222.25   \n",
       "\n",
       "       paragraph_char_count_q3  paragraph_word_count_q1  \\\n",
       "10716                   285.25                    22.75   \n",
       "16341                   599.00                    38.75   \n",
       "9190                    522.25                    41.25   \n",
       "\n",
       "       paragraph_word_count_q3  paragraph_sentence_count_q1  \\\n",
       "10716                    47.75                         1.00   \n",
       "16341                   101.25                         2.50   \n",
       "9190                     95.25                         1.25   \n",
       "\n",
       "       paragraph_sentence_count_q3  \n",
       "10716                          3.5  \n",
       "16341                          5.5  \n",
       "9190                           3.5  \n",
       "\n",
       "[3 rows x 33 columns]"
      ]
     },
     "execution_count": 10,
     "metadata": {},
     "output_type": "execute_result"
    }
   ],
   "source": [
    "paragraph_features.sample(3)"
   ]
  },
  {
   "cell_type": "markdown",
   "metadata": {},
   "source": [
    "#### Sentence Level"
   ]
  },
  {
   "cell_type": "code",
   "execution_count": 11,
   "metadata": {},
   "outputs": [
    {
     "data": {
      "text/plain": [
       "(330422, 9)"
      ]
     },
     "execution_count": 11,
     "metadata": {},
     "output_type": "execute_result"
    }
   ],
   "source": [
    "sentence_features = process_sentence(train_df)\n",
    "sentence_features.shape"
   ]
  },
  {
   "cell_type": "code",
   "execution_count": 12,
   "metadata": {},
   "outputs": [
    {
     "data": {
      "text/html": [
       "<div>\n",
       "<style scoped>\n",
       "    .dataframe tbody tr th:only-of-type {\n",
       "        vertical-align: middle;\n",
       "    }\n",
       "\n",
       "    .dataframe tbody tr th {\n",
       "        vertical-align: top;\n",
       "    }\n",
       "\n",
       "    .dataframe thead th {\n",
       "        text-align: right;\n",
       "    }\n",
       "</style>\n",
       "<table border=\"1\" class=\"dataframe\">\n",
       "  <thead>\n",
       "    <tr style=\"text-align: right;\">\n",
       "      <th></th>\n",
       "      <th>essay_id</th>\n",
       "      <th>sentence_error_count_mean</th>\n",
       "      <th>sentence_error_count_min</th>\n",
       "      <th>sentence_error_count_max</th>\n",
       "      <th>sentence_error_count_sum</th>\n",
       "      <th>sentence_error_count_first</th>\n",
       "      <th>sentence_error_count_last</th>\n",
       "      <th>sentence_char_count_mean</th>\n",
       "      <th>sentence_char_count_min</th>\n",
       "      <th>sentence_char_count_max</th>\n",
       "      <th>...</th>\n",
       "      <th>sentence_word_count_max</th>\n",
       "      <th>sentence_word_count_sum</th>\n",
       "      <th>sentence_word_count_first</th>\n",
       "      <th>sentence_word_count_last</th>\n",
       "      <th>sentence_error_count_q1</th>\n",
       "      <th>sentence_error_count_q3</th>\n",
       "      <th>sentence_char_count_q1</th>\n",
       "      <th>sentence_char_count_q3</th>\n",
       "      <th>sentence_word_count_q1</th>\n",
       "      <th>sentence_word_count_q3</th>\n",
       "    </tr>\n",
       "  </thead>\n",
       "  <tbody>\n",
       "    <tr>\n",
       "      <th>10166</th>\n",
       "      <td>9612d64</td>\n",
       "      <td>0.214286</td>\n",
       "      <td>0</td>\n",
       "      <td>2</td>\n",
       "      <td>6</td>\n",
       "      <td>0</td>\n",
       "      <td>0</td>\n",
       "      <td>89.107143</td>\n",
       "      <td>18</td>\n",
       "      <td>146</td>\n",
       "      <td>...</td>\n",
       "      <td>29</td>\n",
       "      <td>490</td>\n",
       "      <td>4</td>\n",
       "      <td>17</td>\n",
       "      <td>0.0</td>\n",
       "      <td>0.0</td>\n",
       "      <td>72.25</td>\n",
       "      <td>105.50</td>\n",
       "      <td>15.75</td>\n",
       "      <td>20.00</td>\n",
       "    </tr>\n",
       "    <tr>\n",
       "      <th>10215</th>\n",
       "      <td>96c77d6</td>\n",
       "      <td>0.103448</td>\n",
       "      <td>0</td>\n",
       "      <td>1</td>\n",
       "      <td>3</td>\n",
       "      <td>0</td>\n",
       "      <td>0</td>\n",
       "      <td>96.482759</td>\n",
       "      <td>39</td>\n",
       "      <td>189</td>\n",
       "      <td>...</td>\n",
       "      <td>34</td>\n",
       "      <td>514</td>\n",
       "      <td>19</td>\n",
       "      <td>16</td>\n",
       "      <td>0.0</td>\n",
       "      <td>0.0</td>\n",
       "      <td>78.00</td>\n",
       "      <td>113.00</td>\n",
       "      <td>16.00</td>\n",
       "      <td>19.00</td>\n",
       "    </tr>\n",
       "    <tr>\n",
       "      <th>3377</th>\n",
       "      <td>3217d6b</td>\n",
       "      <td>0.444444</td>\n",
       "      <td>0</td>\n",
       "      <td>2</td>\n",
       "      <td>8</td>\n",
       "      <td>1</td>\n",
       "      <td>0</td>\n",
       "      <td>76.777778</td>\n",
       "      <td>18</td>\n",
       "      <td>152</td>\n",
       "      <td>...</td>\n",
       "      <td>26</td>\n",
       "      <td>257</td>\n",
       "      <td>7</td>\n",
       "      <td>20</td>\n",
       "      <td>0.0</td>\n",
       "      <td>1.0</td>\n",
       "      <td>56.25</td>\n",
       "      <td>94.75</td>\n",
       "      <td>11.25</td>\n",
       "      <td>18.25</td>\n",
       "    </tr>\n",
       "  </tbody>\n",
       "</table>\n",
       "<p>3 rows × 25 columns</p>\n",
       "</div>"
      ],
      "text/plain": [
       "      essay_id  sentence_error_count_mean  sentence_error_count_min  \\\n",
       "10166  9612d64                   0.214286                         0   \n",
       "10215  96c77d6                   0.103448                         0   \n",
       "3377   3217d6b                   0.444444                         0   \n",
       "\n",
       "       sentence_error_count_max  sentence_error_count_sum  \\\n",
       "10166                         2                         6   \n",
       "10215                         1                         3   \n",
       "3377                          2                         8   \n",
       "\n",
       "       sentence_error_count_first  sentence_error_count_last  \\\n",
       "10166                           0                          0   \n",
       "10215                           0                          0   \n",
       "3377                            1                          0   \n",
       "\n",
       "       sentence_char_count_mean  sentence_char_count_min  \\\n",
       "10166                 89.107143                       18   \n",
       "10215                 96.482759                       39   \n",
       "3377                  76.777778                       18   \n",
       "\n",
       "       sentence_char_count_max  ...  sentence_word_count_max  \\\n",
       "10166                      146  ...                       29   \n",
       "10215                      189  ...                       34   \n",
       "3377                       152  ...                       26   \n",
       "\n",
       "       sentence_word_count_sum  sentence_word_count_first  \\\n",
       "10166                      490                          4   \n",
       "10215                      514                         19   \n",
       "3377                       257                          7   \n",
       "\n",
       "       sentence_word_count_last  sentence_error_count_q1  \\\n",
       "10166                        17                      0.0   \n",
       "10215                        16                      0.0   \n",
       "3377                         20                      0.0   \n",
       "\n",
       "       sentence_error_count_q3  sentence_char_count_q1  \\\n",
       "10166                      0.0                   72.25   \n",
       "10215                      0.0                   78.00   \n",
       "3377                       1.0                   56.25   \n",
       "\n",
       "       sentence_char_count_q3  sentence_word_count_q1  sentence_word_count_q3  \n",
       "10166                  105.50                   15.75                   20.00  \n",
       "10215                  113.00                   16.00                   19.00  \n",
       "3377                    94.75                   11.25                   18.25  \n",
       "\n",
       "[3 rows x 25 columns]"
      ]
     },
     "execution_count": 12,
     "metadata": {},
     "output_type": "execute_result"
    }
   ],
   "source": [
    "sentence_features = sentence_feature_engineering(sentence_features)\n",
    "sentence_features.sample(3)"
   ]
  },
  {
   "cell_type": "code",
   "execution_count": 13,
   "metadata": {},
   "outputs": [
    {
     "data": {
      "text/plain": [
       "(17307, 25)"
      ]
     },
     "execution_count": 13,
     "metadata": {},
     "output_type": "execute_result"
    }
   ],
   "source": [
    "sentence_features.shape"
   ]
  },
  {
   "cell_type": "markdown",
   "metadata": {},
   "source": [
    "#### Word Level"
   ]
  },
  {
   "cell_type": "code",
   "execution_count": 14,
   "metadata": {},
   "outputs": [
    {
     "data": {
      "text/plain": [
       "(6350538, 7)"
      ]
     },
     "execution_count": 14,
     "metadata": {},
     "output_type": "execute_result"
    }
   ],
   "source": [
    "word_features = process_word(train_df)\n",
    "word_features.shape"
   ]
  },
  {
   "cell_type": "code",
   "execution_count": 15,
   "metadata": {},
   "outputs": [
    {
     "data": {
      "text/plain": [
       "(17307, 8)"
      ]
     },
     "execution_count": 15,
     "metadata": {},
     "output_type": "execute_result"
    }
   ],
   "source": [
    "word_features = word_feature_engineering(word_features)\n",
    "word_features.shape"
   ]
  },
  {
   "cell_type": "markdown",
   "metadata": {},
   "source": [
    "#### TF-IDF Features\n",
    "\n",
    "A TF-IDF vectorizer is used to convert the essays into numerical features."
   ]
  },
  {
   "cell_type": "code",
   "execution_count": 34,
   "metadata": {},
   "outputs": [],
   "source": [
    "def func(x):\n",
    "    return x"
   ]
  },
  {
   "cell_type": "code",
   "execution_count": 35,
   "metadata": {},
   "outputs": [],
   "source": [
    "def generate_tfidf_features(df: pd.DataFrame) -> pd.DataFrame:\n",
    "    vectorizer = TfidfVectorizer(\n",
    "        tokenizer=func,\n",
    "        preprocessor=func,\n",
    "        token_pattern=None,\n",
    "        strip_accents=\"unicode\",\n",
    "        analyzer=\"word\",\n",
    "        ngram_range=(3, 6),\n",
    "        min_df=0.05,\n",
    "        max_df=0.95,\n",
    "        sublinear_tf=True,\n",
    "    )\n",
    "\n",
    "    tfidf_features = vectorizer.fit_transform([i for i in df[\"full_text\"]])\n",
    "    tfidf_features = pd.DataFrame(tfidf_features.toarray())\n",
    "    tfidf_features.columns = [f\"tfidf_{i}\" for i in range(tfidf_features.shape[1])]\n",
    "    tfidf_features[\"essay_id\"] = df[\"essay_id\"].copy()\n",
    "\n",
    "    return vectorizer, tfidf_features"
   ]
  },
  {
   "cell_type": "code",
   "execution_count": 36,
   "metadata": {},
   "outputs": [],
   "source": [
    "vectorizer, tfidf_features = generate_tfidf_features(train_df)"
   ]
  },
  {
   "cell_type": "code",
   "execution_count": 37,
   "metadata": {
    "scrolled": true
   },
   "outputs": [],
   "source": [
    "with open(\"output/LGBM/vectorizer.pkl\", \"wb\") as file:\n",
    "    pkl.dump(vectorizer, file)"
   ]
  },
  {
   "cell_type": "markdown",
   "metadata": {},
   "source": [
    "#### Count Vectorizer\n",
    "\n",
    "A countVectorizer is used to convert the essays into numerical features"
   ]
  },
  {
   "cell_type": "code",
   "execution_count": 39,
   "metadata": {},
   "outputs": [],
   "source": [
    "vectorizer_cnt, count_features = generate_count_features(train_df)"
   ]
  },
  {
   "cell_type": "code",
   "execution_count": 41,
   "metadata": {},
   "outputs": [],
   "source": [
    "with open(\"output/LGBM/vectorizer_cnt.pkl\", \"wb\") as file:\n",
    "    pkl.dump(vectorizer_cnt, file)"
   ]
  },
  {
   "cell_type": "markdown",
   "metadata": {},
   "source": [
    "#### DeBERTA Predictions\n",
    "\n",
    "Predictions made using DeBERTA models"
   ]
  },
  {
   "cell_type": "code",
   "execution_count": 42,
   "metadata": {},
   "outputs": [
    {
     "data": {
      "text/plain": [
       "(23811, 7)"
      ]
     },
     "execution_count": 42,
     "metadata": {},
     "output_type": "execute_result"
    }
   ],
   "source": [
    "oov_path = \"output/microsoft/deberta-v3-xsmall/oof_df.csv\"\n",
    "deberta_features = pd.read_csv(oov_path, usecols=[f\"score_prob_{i}\" for i in range(config.num_classes)] + [\"essay_id\"])\n",
    "deberta_features.shape"
   ]
  },
  {
   "cell_type": "code",
   "execution_count": 43,
   "metadata": {},
   "outputs": [
    {
     "data": {
      "text/html": [
       "<div>\n",
       "<style scoped>\n",
       "    .dataframe tbody tr th:only-of-type {\n",
       "        vertical-align: middle;\n",
       "    }\n",
       "\n",
       "    .dataframe tbody tr th {\n",
       "        vertical-align: top;\n",
       "    }\n",
       "\n",
       "    .dataframe thead th {\n",
       "        text-align: right;\n",
       "    }\n",
       "</style>\n",
       "<table border=\"1\" class=\"dataframe\">\n",
       "  <thead>\n",
       "    <tr style=\"text-align: right;\">\n",
       "      <th></th>\n",
       "      <th>essay_id</th>\n",
       "      <th>score_prob_0</th>\n",
       "      <th>score_prob_1</th>\n",
       "      <th>score_prob_2</th>\n",
       "      <th>score_prob_3</th>\n",
       "      <th>score_prob_4</th>\n",
       "      <th>score_prob_5</th>\n",
       "    </tr>\n",
       "  </thead>\n",
       "  <tbody>\n",
       "    <tr>\n",
       "      <th>6270</th>\n",
       "      <td>43fb35c</td>\n",
       "      <td>-2.684635</td>\n",
       "      <td>-2.468811</td>\n",
       "      <td>-0.468599</td>\n",
       "      <td>1.975218</td>\n",
       "      <td>2.228659</td>\n",
       "      <td>0.406944</td>\n",
       "    </tr>\n",
       "    <tr>\n",
       "      <th>1648</th>\n",
       "      <td>1319f06</td>\n",
       "      <td>-2.932105</td>\n",
       "      <td>-1.537177</td>\n",
       "      <td>1.361386</td>\n",
       "      <td>3.072376</td>\n",
       "      <td>0.741203</td>\n",
       "      <td>-2.185421</td>\n",
       "    </tr>\n",
       "    <tr>\n",
       "      <th>9005</th>\n",
       "      <td>6203d5a</td>\n",
       "      <td>-1.352405</td>\n",
       "      <td>1.065698</td>\n",
       "      <td>3.577487</td>\n",
       "      <td>1.846844</td>\n",
       "      <td>-1.232293</td>\n",
       "      <td>-2.218516</td>\n",
       "    </tr>\n",
       "  </tbody>\n",
       "</table>\n",
       "</div>"
      ],
      "text/plain": [
       "     essay_id  score_prob_0  score_prob_1  score_prob_2  score_prob_3  \\\n",
       "6270  43fb35c     -2.684635     -2.468811     -0.468599      1.975218   \n",
       "1648  1319f06     -2.932105     -1.537177      1.361386      3.072376   \n",
       "9005  6203d5a     -1.352405      1.065698      3.577487      1.846844   \n",
       "\n",
       "      score_prob_4  score_prob_5  \n",
       "6270      2.228659      0.406944  \n",
       "1648      0.741203     -2.185421  \n",
       "9005     -1.232293     -2.218516  "
      ]
     },
     "execution_count": 43,
     "metadata": {},
     "output_type": "execute_result"
    }
   ],
   "source": [
    "deberta_features.sample(3)"
   ]
  },
  {
   "cell_type": "markdown",
   "metadata": {},
   "source": [
    "#### Combining Features"
   ]
  },
  {
   "cell_type": "code",
   "execution_count": 44,
   "metadata": {},
   "outputs": [
    {
     "data": {
      "text/plain": [
       "(23810, 21867)"
      ]
     },
     "execution_count": 44,
     "metadata": {},
     "output_type": "execute_result"
    }
   ],
   "source": [
    "all_features = deberta_features.copy()\n",
    "\n",
    "# Merge using essay_id column\n",
    "for feature_df in [paragraph_features, sentence_features, word_features, tfidf_features, count_features]:\n",
    "    all_features = pd.merge(all_features, feature_df, on=\"essay_id\")\n",
    "\n",
    "all_features.shape"
   ]
  },
  {
   "cell_type": "code",
   "execution_count": 45,
   "metadata": {},
   "outputs": [],
   "source": [
    "all_features.drop_duplicates(subset=\"essay_id\", inplace=True)"
   ]
  },
  {
   "cell_type": "code",
   "execution_count": null,
   "metadata": {},
   "outputs": [],
   "source": [
    "all_features.to_csv(Paths.FEATURE_ENGG_CSV_PATH, index=False)"
   ]
  }
 ],
 "metadata": {
  "kernelspec": {
   "display_name": "Python 3 (ipykernel)",
   "language": "python",
   "name": "python3"
  },
  "language_info": {
   "codemirror_mode": {
    "name": "ipython",
    "version": 3
   },
   "file_extension": ".py",
   "mimetype": "text/x-python",
   "name": "python",
   "nbconvert_exporter": "python",
   "pygments_lexer": "ipython3",
   "version": "3.11.8"
  }
 },
 "nbformat": 4,
 "nbformat_minor": 4
}
