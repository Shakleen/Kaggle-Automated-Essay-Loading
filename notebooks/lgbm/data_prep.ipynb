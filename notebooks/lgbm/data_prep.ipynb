{
 "cells": [
  {
   "cell_type": "markdown",
   "metadata": {},
   "source": [
    "# LGBM - Data Preparation"
   ]
  },
  {
   "cell_type": "markdown",
   "metadata": {},
   "source": [
    "## Setup"
   ]
  },
  {
   "cell_type": "code",
   "execution_count": 1,
   "metadata": {},
   "outputs": [],
   "source": [
    "import os\n",
    "import pandas as pd\n",
    "import numpy as np\n",
    "import pickle as pkl\n",
    "from sklearn.feature_extraction.text import TfidfVectorizer, CountVectorizer"
   ]
  },
  {
   "cell_type": "code",
   "execution_count": 2,
   "metadata": {},
   "outputs": [],
   "source": [
    "os.chdir(\"../../\")"
   ]
  },
  {
   "cell_type": "code",
   "execution_count": 3,
   "metadata": {},
   "outputs": [],
   "source": [
    "from lib.config import config\n",
    "from lib.paths import Paths\n",
    "from lib.utils.utils import seed_everything\n",
    "from lib.data_tools.feature_engineering import (\n",
    "    process_paragraph,\n",
    "    paragraph_feature_engineering,\n",
    "    process_sentence,\n",
    "    sentence_feature_engineering,\n",
    "    process_word,\n",
    "    word_feature_engineering,\n",
    "    generate_tfidf_features,\n",
    "    generate_count_features,\n",
    ")"
   ]
  },
  {
   "cell_type": "code",
   "execution_count": 4,
   "metadata": {},
   "outputs": [],
   "source": [
    "seed_everything()"
   ]
  },
  {
   "cell_type": "markdown",
   "metadata": {},
   "source": [
    "## Data Preparation"
   ]
  },
  {
   "cell_type": "markdown",
   "metadata": {},
   "source": [
    "### Data Loading"
   ]
  },
  {
   "cell_type": "code",
   "execution_count": 5,
   "metadata": {},
   "outputs": [
    {
     "data": {
      "text/plain": [
       "(10, 3)"
      ]
     },
     "execution_count": 5,
     "metadata": {},
     "output_type": "execute_result"
    }
   ],
   "source": [
    "train_df = pd.read_csv(Paths.COMPETITION_TRAIN_CSV_PATH)\n",
    "train_df.shape"
   ]
  },
  {
   "cell_type": "markdown",
   "metadata": {},
   "source": [
    "### Feature Engineerings"
   ]
  },
  {
   "cell_type": "markdown",
   "metadata": {},
   "source": [
    "#### Paragraph Level"
   ]
  },
  {
   "cell_type": "code",
   "execution_count": 6,
   "metadata": {},
   "outputs": [
    {
     "data": {
      "text/plain": [
       "(69, 9)"
      ]
     },
     "execution_count": 6,
     "metadata": {},
     "output_type": "execute_result"
    }
   ],
   "source": [
    "paragraph_features = process_paragraph(train_df.copy(deep=True))\n",
    "paragraph_features.shape"
   ]
  },
  {
   "cell_type": "code",
   "execution_count": 7,
   "metadata": {},
   "outputs": [
    {
     "data": {
      "text/html": [
       "<div>\n",
       "<style scoped>\n",
       "    .dataframe tbody tr th:only-of-type {\n",
       "        vertical-align: middle;\n",
       "    }\n",
       "\n",
       "    .dataframe tbody tr th {\n",
       "        vertical-align: top;\n",
       "    }\n",
       "\n",
       "    .dataframe thead th {\n",
       "        text-align: right;\n",
       "    }\n",
       "</style>\n",
       "<table border=\"1\" class=\"dataframe\">\n",
       "  <thead>\n",
       "    <tr style=\"text-align: right;\">\n",
       "      <th></th>\n",
       "      <th>essay_id</th>\n",
       "      <th>full_text</th>\n",
       "      <th>score</th>\n",
       "      <th>paragraph</th>\n",
       "      <th>paragraph_no_punctuation</th>\n",
       "      <th>paragraph_error_count</th>\n",
       "      <th>paragraph_char_count</th>\n",
       "      <th>paragraph_word_count</th>\n",
       "      <th>paragraph_sentence_count</th>\n",
       "    </tr>\n",
       "  </thead>\n",
       "  <tbody>\n",
       "    <tr>\n",
       "      <th>7</th>\n",
       "      <td>0033bf4</td>\n",
       "      <td>What is the Seagoing Cowboys progam?\\n\\nIt was...</td>\n",
       "      <td>3</td>\n",
       "      <td>the article states, \"besides helping people, i...</td>\n",
       "      <td>the article states besides helping people i ha...</td>\n",
       "      <td>0</td>\n",
       "      <td>91</td>\n",
       "      <td>15</td>\n",
       "      <td>1</td>\n",
       "    </tr>\n",
       "    <tr>\n",
       "      <th>8</th>\n",
       "      <td>0036253</td>\n",
       "      <td>The challenge of exploring Venus\\n\\nThis stori...</td>\n",
       "      <td>2</td>\n",
       "      <td>the challenge of exploring venus</td>\n",
       "      <td>the challenge of exploring venus</td>\n",
       "      <td>0</td>\n",
       "      <td>32</td>\n",
       "      <td>5</td>\n",
       "      <td>0</td>\n",
       "    </tr>\n",
       "    <tr>\n",
       "      <th>3</th>\n",
       "      <td>001bdc0</td>\n",
       "      <td>We all heard about Venus, the planet without a...</td>\n",
       "      <td>4</td>\n",
       "      <td>( ) \"a thick atmosphere of almost percent carb...</td>\n",
       "      <td>a thick atmosphere of almost percent carbon ...</td>\n",
       "      <td>4</td>\n",
       "      <td>805</td>\n",
       "      <td>129</td>\n",
       "      <td>7</td>\n",
       "    </tr>\n",
       "  </tbody>\n",
       "</table>\n",
       "</div>"
      ],
      "text/plain": [
       "  essay_id                                          full_text  score  \\\n",
       "7  0033bf4  What is the Seagoing Cowboys progam?\\n\\nIt was...      3   \n",
       "8  0036253  The challenge of exploring Venus\\n\\nThis stori...      2   \n",
       "3  001bdc0  We all heard about Venus, the planet without a...      4   \n",
       "\n",
       "                                           paragraph  \\\n",
       "7  the article states, \"besides helping people, i...   \n",
       "8                   the challenge of exploring venus   \n",
       "3  ( ) \"a thick atmosphere of almost percent carb...   \n",
       "\n",
       "                            paragraph_no_punctuation  paragraph_error_count  \\\n",
       "7  the article states besides helping people i ha...                      0   \n",
       "8                   the challenge of exploring venus                      0   \n",
       "3    a thick atmosphere of almost percent carbon ...                      4   \n",
       "\n",
       "   paragraph_char_count  paragraph_word_count  paragraph_sentence_count  \n",
       "7                    91                    15                         1  \n",
       "8                    32                     5                         0  \n",
       "3                   805                   129                         7  "
      ]
     },
     "execution_count": 7,
     "metadata": {},
     "output_type": "execute_result"
    }
   ],
   "source": [
    "paragraph_features.sample(3)"
   ]
  },
  {
   "cell_type": "code",
   "execution_count": 8,
   "metadata": {},
   "outputs": [],
   "source": [
    "assert paragraph_features.essay_id.unique().shape == train_df.essay_id.unique().shape"
   ]
  },
  {
   "cell_type": "code",
   "execution_count": 9,
   "metadata": {},
   "outputs": [
    {
     "data": {
      "text/plain": [
       "(10, 125)"
      ]
     },
     "execution_count": 9,
     "metadata": {},
     "output_type": "execute_result"
    }
   ],
   "source": [
    "paragraph_features = paragraph_feature_engineering(paragraph_features)\n",
    "paragraph_features.shape"
   ]
  },
  {
   "cell_type": "code",
   "execution_count": 10,
   "metadata": {},
   "outputs": [
    {
     "data": {
      "text/plain": [
       "['essay_id',\n",
       " 'paragraph_error_count_mean',\n",
       " 'paragraph_error_count_min',\n",
       " 'paragraph_error_count_max',\n",
       " 'paragraph_error_count_sum',\n",
       " 'paragraph_error_count_first',\n",
       " 'paragraph_error_count_last',\n",
       " 'paragraph_char_count_mean',\n",
       " 'paragraph_char_count_min',\n",
       " 'paragraph_char_count_max',\n",
       " 'paragraph_char_count_sum',\n",
       " 'paragraph_char_count_first',\n",
       " 'paragraph_char_count_last',\n",
       " 'paragraph_word_count_mean',\n",
       " 'paragraph_word_count_min',\n",
       " 'paragraph_word_count_max',\n",
       " 'paragraph_word_count_sum',\n",
       " 'paragraph_word_count_first',\n",
       " 'paragraph_word_count_last',\n",
       " 'paragraph_sentence_count_mean',\n",
       " 'paragraph_sentence_count_min',\n",
       " 'paragraph_sentence_count_max',\n",
       " 'paragraph_sentence_count_sum',\n",
       " 'paragraph_sentence_count_first',\n",
       " 'paragraph_sentence_count_last',\n",
       " 'paragraph_error_count_q1',\n",
       " 'paragraph_error_count_q3',\n",
       " 'paragraph_error_count_kurtosis',\n",
       " 'paragraph_char_count_q1',\n",
       " 'paragraph_char_count_q3',\n",
       " 'paragraph_char_count_kurtosis',\n",
       " 'paragraph_word_count_q1',\n",
       " 'paragraph_word_count_q3',\n",
       " 'paragraph_word_count_kurtosis',\n",
       " 'paragraph_sentence_count_q1',\n",
       " 'paragraph_sentence_count_q3',\n",
       " 'paragraph_sentence_count_kurtosis',\n",
       " 'paragraph_char_count_len_l_50',\n",
       " 'paragraph_char_count_len_goe_50',\n",
       " 'paragraph_char_count_len_l_100',\n",
       " 'paragraph_char_count_len_goe_100',\n",
       " 'paragraph_char_count_len_l_150',\n",
       " 'paragraph_char_count_len_goe_150',\n",
       " 'paragraph_char_count_len_l_200',\n",
       " 'paragraph_char_count_len_goe_200',\n",
       " 'paragraph_char_count_len_l_250',\n",
       " 'paragraph_char_count_len_goe_250',\n",
       " 'paragraph_char_count_len_l_300',\n",
       " 'paragraph_char_count_len_goe_300',\n",
       " 'paragraph_char_count_len_l_350',\n",
       " 'paragraph_char_count_len_goe_350',\n",
       " 'paragraph_char_count_len_l_400',\n",
       " 'paragraph_char_count_len_goe_400',\n",
       " 'paragraph_char_count_len_l_450',\n",
       " 'paragraph_char_count_len_goe_450',\n",
       " 'paragraph_char_count_len_l_500',\n",
       " 'paragraph_char_count_len_goe_500',\n",
       " 'paragraph_char_count_len_l_550',\n",
       " 'paragraph_char_count_len_goe_550',\n",
       " 'paragraph_char_count_len_l_600',\n",
       " 'paragraph_char_count_len_goe_600',\n",
       " 'paragraph_char_count_len_l_650',\n",
       " 'paragraph_char_count_len_goe_650',\n",
       " 'paragraph_char_count_len_l_700',\n",
       " 'paragraph_char_count_len_goe_700',\n",
       " 'paragraph_word_count_len_l_50',\n",
       " 'paragraph_word_count_len_goe_50',\n",
       " 'paragraph_word_count_len_l_100',\n",
       " 'paragraph_word_count_len_goe_100',\n",
       " 'paragraph_word_count_len_l_150',\n",
       " 'paragraph_word_count_len_goe_150',\n",
       " 'paragraph_word_count_len_l_200',\n",
       " 'paragraph_word_count_len_goe_200',\n",
       " 'paragraph_word_count_len_l_250',\n",
       " 'paragraph_word_count_len_goe_250',\n",
       " 'paragraph_word_count_len_l_300',\n",
       " 'paragraph_word_count_len_goe_300',\n",
       " 'paragraph_word_count_len_l_350',\n",
       " 'paragraph_word_count_len_goe_350',\n",
       " 'paragraph_word_count_len_l_400',\n",
       " 'paragraph_word_count_len_goe_400',\n",
       " 'paragraph_word_count_len_l_450',\n",
       " 'paragraph_word_count_len_goe_450',\n",
       " 'paragraph_word_count_len_l_500',\n",
       " 'paragraph_word_count_len_goe_500',\n",
       " 'paragraph_sentence_count_len_l_5',\n",
       " 'paragraph_sentence_count_len_goe_5',\n",
       " 'paragraph_sentence_count_len_l_10',\n",
       " 'paragraph_sentence_count_len_goe_10',\n",
       " 'paragraph_sentence_count_len_l_15',\n",
       " 'paragraph_sentence_count_len_goe_15',\n",
       " 'paragraph_sentence_count_len_l_20',\n",
       " 'paragraph_sentence_count_len_goe_20',\n",
       " 'paragraph_sentence_count_len_l_25',\n",
       " 'paragraph_sentence_count_len_goe_25',\n",
       " 'paragraph_sentence_count_len_l_30',\n",
       " 'paragraph_sentence_count_len_goe_30',\n",
       " 'paragraph_sentence_count_len_l_35',\n",
       " 'paragraph_sentence_count_len_goe_35',\n",
       " 'paragraph_sentence_count_len_l_40',\n",
       " 'paragraph_sentence_count_len_goe_40',\n",
       " 'paragraph_sentence_count_len_l_45',\n",
       " 'paragraph_sentence_count_len_goe_45',\n",
       " 'paragraph_sentence_count_len_l_50',\n",
       " 'paragraph_sentence_count_len_goe_50',\n",
       " 'paragraph_error_count_len_l_5',\n",
       " 'paragraph_error_count_len_goe_5',\n",
       " 'paragraph_error_count_len_l_10',\n",
       " 'paragraph_error_count_len_goe_10',\n",
       " 'paragraph_error_count_len_l_15',\n",
       " 'paragraph_error_count_len_goe_15',\n",
       " 'paragraph_error_count_len_l_20',\n",
       " 'paragraph_error_count_len_goe_20',\n",
       " 'paragraph_error_count_len_l_25',\n",
       " 'paragraph_error_count_len_goe_25',\n",
       " 'paragraph_error_count_len_l_30',\n",
       " 'paragraph_error_count_len_goe_30',\n",
       " 'paragraph_error_count_len_l_35',\n",
       " 'paragraph_error_count_len_goe_35',\n",
       " 'paragraph_error_count_len_l_40',\n",
       " 'paragraph_error_count_len_goe_40',\n",
       " 'paragraph_error_count_len_l_45',\n",
       " 'paragraph_error_count_len_goe_45',\n",
       " 'paragraph_error_count_len_l_50',\n",
       " 'paragraph_error_count_len_goe_50']"
      ]
     },
     "execution_count": 10,
     "metadata": {},
     "output_type": "execute_result"
    }
   ],
   "source": [
    "paragraph_features.columns.to_list()"
   ]
  },
  {
   "cell_type": "code",
   "execution_count": 11,
   "metadata": {},
   "outputs": [
    {
     "data": {
      "text/html": [
       "<div>\n",
       "<style scoped>\n",
       "    .dataframe tbody tr th:only-of-type {\n",
       "        vertical-align: middle;\n",
       "    }\n",
       "\n",
       "    .dataframe tbody tr th {\n",
       "        vertical-align: top;\n",
       "    }\n",
       "\n",
       "    .dataframe thead th {\n",
       "        text-align: right;\n",
       "    }\n",
       "</style>\n",
       "<table border=\"1\" class=\"dataframe\">\n",
       "  <thead>\n",
       "    <tr style=\"text-align: right;\">\n",
       "      <th></th>\n",
       "      <th>essay_id</th>\n",
       "      <th>paragraph_error_count_mean</th>\n",
       "      <th>paragraph_error_count_min</th>\n",
       "      <th>paragraph_error_count_max</th>\n",
       "      <th>paragraph_error_count_sum</th>\n",
       "      <th>paragraph_error_count_first</th>\n",
       "      <th>paragraph_error_count_last</th>\n",
       "      <th>paragraph_char_count_mean</th>\n",
       "      <th>paragraph_char_count_min</th>\n",
       "      <th>paragraph_char_count_max</th>\n",
       "      <th>...</th>\n",
       "      <th>paragraph_error_count_len_l_30</th>\n",
       "      <th>paragraph_error_count_len_goe_30</th>\n",
       "      <th>paragraph_error_count_len_l_35</th>\n",
       "      <th>paragraph_error_count_len_goe_35</th>\n",
       "      <th>paragraph_error_count_len_l_40</th>\n",
       "      <th>paragraph_error_count_len_goe_40</th>\n",
       "      <th>paragraph_error_count_len_l_45</th>\n",
       "      <th>paragraph_error_count_len_goe_45</th>\n",
       "      <th>paragraph_error_count_len_l_50</th>\n",
       "      <th>paragraph_error_count_len_goe_50</th>\n",
       "    </tr>\n",
       "  </thead>\n",
       "  <tbody>\n",
       "    <tr>\n",
       "      <th>8</th>\n",
       "      <td>0036253</td>\n",
       "      <td>3.833333</td>\n",
       "      <td>0</td>\n",
       "      <td>11</td>\n",
       "      <td>23</td>\n",
       "      <td>0</td>\n",
       "      <td>1</td>\n",
       "      <td>308.666667</td>\n",
       "      <td>32</td>\n",
       "      <td>517</td>\n",
       "      <td>...</td>\n",
       "      <td>True</td>\n",
       "      <td>False</td>\n",
       "      <td>True</td>\n",
       "      <td>False</td>\n",
       "      <td>True</td>\n",
       "      <td>False</td>\n",
       "      <td>True</td>\n",
       "      <td>False</td>\n",
       "      <td>True</td>\n",
       "      <td>False</td>\n",
       "    </tr>\n",
       "    <tr>\n",
       "      <th>4</th>\n",
       "      <td>002ba53</td>\n",
       "      <td>2.333333</td>\n",
       "      <td>0</td>\n",
       "      <td>5</td>\n",
       "      <td>14</td>\n",
       "      <td>0</td>\n",
       "      <td>1</td>\n",
       "      <td>363.166667</td>\n",
       "      <td>17</td>\n",
       "      <td>689</td>\n",
       "      <td>...</td>\n",
       "      <td>True</td>\n",
       "      <td>False</td>\n",
       "      <td>True</td>\n",
       "      <td>False</td>\n",
       "      <td>True</td>\n",
       "      <td>False</td>\n",
       "      <td>True</td>\n",
       "      <td>False</td>\n",
       "      <td>True</td>\n",
       "      <td>False</td>\n",
       "    </tr>\n",
       "    <tr>\n",
       "      <th>0</th>\n",
       "      <td>000d118</td>\n",
       "      <td>27.000000</td>\n",
       "      <td>27</td>\n",
       "      <td>27</td>\n",
       "      <td>27</td>\n",
       "      <td>27</td>\n",
       "      <td>27</td>\n",
       "      <td>2640.000000</td>\n",
       "      <td>2640</td>\n",
       "      <td>2640</td>\n",
       "      <td>...</td>\n",
       "      <td>True</td>\n",
       "      <td>False</td>\n",
       "      <td>True</td>\n",
       "      <td>False</td>\n",
       "      <td>True</td>\n",
       "      <td>False</td>\n",
       "      <td>True</td>\n",
       "      <td>False</td>\n",
       "      <td>True</td>\n",
       "      <td>False</td>\n",
       "    </tr>\n",
       "  </tbody>\n",
       "</table>\n",
       "<p>3 rows × 125 columns</p>\n",
       "</div>"
      ],
      "text/plain": [
       "  essay_id  paragraph_error_count_mean  paragraph_error_count_min  \\\n",
       "8  0036253                    3.833333                          0   \n",
       "4  002ba53                    2.333333                          0   \n",
       "0  000d118                   27.000000                         27   \n",
       "\n",
       "   paragraph_error_count_max  paragraph_error_count_sum  \\\n",
       "8                         11                         23   \n",
       "4                          5                         14   \n",
       "0                         27                         27   \n",
       "\n",
       "   paragraph_error_count_first  paragraph_error_count_last  \\\n",
       "8                            0                           1   \n",
       "4                            0                           1   \n",
       "0                           27                          27   \n",
       "\n",
       "   paragraph_char_count_mean  paragraph_char_count_min  \\\n",
       "8                 308.666667                        32   \n",
       "4                 363.166667                        17   \n",
       "0                2640.000000                      2640   \n",
       "\n",
       "   paragraph_char_count_max  ...  paragraph_error_count_len_l_30  \\\n",
       "8                       517  ...                            True   \n",
       "4                       689  ...                            True   \n",
       "0                      2640  ...                            True   \n",
       "\n",
       "   paragraph_error_count_len_goe_30  paragraph_error_count_len_l_35  \\\n",
       "8                             False                            True   \n",
       "4                             False                            True   \n",
       "0                             False                            True   \n",
       "\n",
       "   paragraph_error_count_len_goe_35  paragraph_error_count_len_l_40  \\\n",
       "8                             False                            True   \n",
       "4                             False                            True   \n",
       "0                             False                            True   \n",
       "\n",
       "   paragraph_error_count_len_goe_40  paragraph_error_count_len_l_45  \\\n",
       "8                             False                            True   \n",
       "4                             False                            True   \n",
       "0                             False                            True   \n",
       "\n",
       "   paragraph_error_count_len_goe_45  paragraph_error_count_len_l_50  \\\n",
       "8                             False                            True   \n",
       "4                             False                            True   \n",
       "0                             False                            True   \n",
       "\n",
       "   paragraph_error_count_len_goe_50  \n",
       "8                             False  \n",
       "4                             False  \n",
       "0                             False  \n",
       "\n",
       "[3 rows x 125 columns]"
      ]
     },
     "execution_count": 11,
     "metadata": {},
     "output_type": "execute_result"
    }
   ],
   "source": [
    "paragraph_features.sample(3)"
   ]
  },
  {
   "cell_type": "code",
   "execution_count": 12,
   "metadata": {},
   "outputs": [],
   "source": [
    "assert paragraph_features.essay_id.unique().shape == train_df.essay_id.unique().shape"
   ]
  },
  {
   "cell_type": "markdown",
   "metadata": {},
   "source": [
    "#### Sentence Level"
   ]
  },
  {
   "cell_type": "code",
   "execution_count": 13,
   "metadata": {},
   "outputs": [
    {
     "data": {
      "text/plain": [
       "(191, 8)"
      ]
     },
     "execution_count": 13,
     "metadata": {},
     "output_type": "execute_result"
    }
   ],
   "source": [
    "sentence_features = process_sentence(train_df.copy(deep=True))\n",
    "sentence_features.shape"
   ]
  },
  {
   "cell_type": "code",
   "execution_count": 14,
   "metadata": {},
   "outputs": [],
   "source": [
    "assert sentence_features.essay_id.unique().shape == train_df.essay_id.unique().shape"
   ]
  },
  {
   "cell_type": "code",
   "execution_count": 15,
   "metadata": {},
   "outputs": [
    {
     "data": {
      "text/plain": [
       "['essay_id',\n",
       " 'full_text',\n",
       " 'score',\n",
       " 'sentence',\n",
       " 'sentence_no_punctuation',\n",
       " 'sentence_error_count',\n",
       " 'sentence_char_count',\n",
       " 'sentence_word_count']"
      ]
     },
     "execution_count": 15,
     "metadata": {},
     "output_type": "execute_result"
    }
   ],
   "source": [
    "sentence_features.columns.to_list()"
   ]
  },
  {
   "cell_type": "code",
   "execution_count": 16,
   "metadata": {},
   "outputs": [
    {
     "data": {
      "text/plain": [
       "(10, 92)"
      ]
     },
     "execution_count": 16,
     "metadata": {},
     "output_type": "execute_result"
    }
   ],
   "source": [
    "sentence_features = sentence_feature_engineering(sentence_features)\n",
    "sentence_features.shape"
   ]
  },
  {
   "cell_type": "code",
   "execution_count": 17,
   "metadata": {},
   "outputs": [
    {
     "data": {
      "text/html": [
       "<div>\n",
       "<style scoped>\n",
       "    .dataframe tbody tr th:only-of-type {\n",
       "        vertical-align: middle;\n",
       "    }\n",
       "\n",
       "    .dataframe tbody tr th {\n",
       "        vertical-align: top;\n",
       "    }\n",
       "\n",
       "    .dataframe thead th {\n",
       "        text-align: right;\n",
       "    }\n",
       "</style>\n",
       "<table border=\"1\" class=\"dataframe\">\n",
       "  <thead>\n",
       "    <tr style=\"text-align: right;\">\n",
       "      <th></th>\n",
       "      <th>essay_id</th>\n",
       "      <th>sentence_error_count_mean</th>\n",
       "      <th>sentence_error_count_min</th>\n",
       "      <th>sentence_error_count_max</th>\n",
       "      <th>sentence_error_count_sum</th>\n",
       "      <th>sentence_error_count_first</th>\n",
       "      <th>sentence_error_count_last</th>\n",
       "      <th>sentence_char_count_mean</th>\n",
       "      <th>sentence_char_count_min</th>\n",
       "      <th>sentence_char_count_max</th>\n",
       "      <th>...</th>\n",
       "      <th>sentence_error_count_len_l_30</th>\n",
       "      <th>sentence_error_count_len_goe_30</th>\n",
       "      <th>sentence_error_count_len_l_35</th>\n",
       "      <th>sentence_error_count_len_goe_35</th>\n",
       "      <th>sentence_error_count_len_l_40</th>\n",
       "      <th>sentence_error_count_len_goe_40</th>\n",
       "      <th>sentence_error_count_len_l_45</th>\n",
       "      <th>sentence_error_count_len_goe_45</th>\n",
       "      <th>sentence_error_count_len_l_50</th>\n",
       "      <th>sentence_error_count_len_goe_50</th>\n",
       "    </tr>\n",
       "  </thead>\n",
       "  <tbody>\n",
       "    <tr>\n",
       "      <th>2</th>\n",
       "      <td>001ab80</td>\n",
       "      <td>0.208333</td>\n",
       "      <td>0</td>\n",
       "      <td>1</td>\n",
       "      <td>5</td>\n",
       "      <td>0</td>\n",
       "      <td>1</td>\n",
       "      <td>126.750000</td>\n",
       "      <td>58</td>\n",
       "      <td>237</td>\n",
       "      <td>...</td>\n",
       "      <td>True</td>\n",
       "      <td>False</td>\n",
       "      <td>True</td>\n",
       "      <td>False</td>\n",
       "      <td>True</td>\n",
       "      <td>False</td>\n",
       "      <td>True</td>\n",
       "      <td>False</td>\n",
       "      <td>True</td>\n",
       "      <td>False</td>\n",
       "    </tr>\n",
       "    <tr>\n",
       "      <th>1</th>\n",
       "      <td>000fe60</td>\n",
       "      <td>0.238095</td>\n",
       "      <td>0</td>\n",
       "      <td>1</td>\n",
       "      <td>5</td>\n",
       "      <td>0</td>\n",
       "      <td>0</td>\n",
       "      <td>78.238095</td>\n",
       "      <td>8</td>\n",
       "      <td>250</td>\n",
       "      <td>...</td>\n",
       "      <td>True</td>\n",
       "      <td>False</td>\n",
       "      <td>True</td>\n",
       "      <td>False</td>\n",
       "      <td>True</td>\n",
       "      <td>False</td>\n",
       "      <td>True</td>\n",
       "      <td>False</td>\n",
       "      <td>True</td>\n",
       "      <td>False</td>\n",
       "    </tr>\n",
       "    <tr>\n",
       "      <th>8</th>\n",
       "      <td>0036253</td>\n",
       "      <td>1.277778</td>\n",
       "      <td>0</td>\n",
       "      <td>6</td>\n",
       "      <td>23</td>\n",
       "      <td>2</td>\n",
       "      <td>0</td>\n",
       "      <td>102.222222</td>\n",
       "      <td>54</td>\n",
       "      <td>239</td>\n",
       "      <td>...</td>\n",
       "      <td>True</td>\n",
       "      <td>False</td>\n",
       "      <td>True</td>\n",
       "      <td>False</td>\n",
       "      <td>True</td>\n",
       "      <td>False</td>\n",
       "      <td>True</td>\n",
       "      <td>False</td>\n",
       "      <td>True</td>\n",
       "      <td>False</td>\n",
       "    </tr>\n",
       "  </tbody>\n",
       "</table>\n",
       "<p>3 rows × 92 columns</p>\n",
       "</div>"
      ],
      "text/plain": [
       "  essay_id  sentence_error_count_mean  sentence_error_count_min  \\\n",
       "2  001ab80                   0.208333                         0   \n",
       "1  000fe60                   0.238095                         0   \n",
       "8  0036253                   1.277778                         0   \n",
       "\n",
       "   sentence_error_count_max  sentence_error_count_sum  \\\n",
       "2                         1                         5   \n",
       "1                         1                         5   \n",
       "8                         6                        23   \n",
       "\n",
       "   sentence_error_count_first  sentence_error_count_last  \\\n",
       "2                           0                          1   \n",
       "1                           0                          0   \n",
       "8                           2                          0   \n",
       "\n",
       "   sentence_char_count_mean  sentence_char_count_min  sentence_char_count_max  \\\n",
       "2                126.750000                       58                      237   \n",
       "1                 78.238095                        8                      250   \n",
       "8                102.222222                       54                      239   \n",
       "\n",
       "   ...  sentence_error_count_len_l_30  sentence_error_count_len_goe_30  \\\n",
       "2  ...                           True                            False   \n",
       "1  ...                           True                            False   \n",
       "8  ...                           True                            False   \n",
       "\n",
       "   sentence_error_count_len_l_35  sentence_error_count_len_goe_35  \\\n",
       "2                           True                            False   \n",
       "1                           True                            False   \n",
       "8                           True                            False   \n",
       "\n",
       "   sentence_error_count_len_l_40  sentence_error_count_len_goe_40  \\\n",
       "2                           True                            False   \n",
       "1                           True                            False   \n",
       "8                           True                            False   \n",
       "\n",
       "   sentence_error_count_len_l_45  sentence_error_count_len_goe_45  \\\n",
       "2                           True                            False   \n",
       "1                           True                            False   \n",
       "8                           True                            False   \n",
       "\n",
       "   sentence_error_count_len_l_50  sentence_error_count_len_goe_50  \n",
       "2                           True                            False  \n",
       "1                           True                            False  \n",
       "8                           True                            False  \n",
       "\n",
       "[3 rows x 92 columns]"
      ]
     },
     "execution_count": 17,
     "metadata": {},
     "output_type": "execute_result"
    }
   ],
   "source": [
    "sentence_features.sample(3)"
   ]
  },
  {
   "cell_type": "code",
   "execution_count": 18,
   "metadata": {},
   "outputs": [],
   "source": [
    "assert sentence_features.essay_id.unique().shape == train_df.essay_id.unique().shape"
   ]
  },
  {
   "cell_type": "code",
   "execution_count": 19,
   "metadata": {},
   "outputs": [
    {
     "data": {
      "text/plain": [
       "['essay_id',\n",
       " 'sentence_error_count_mean',\n",
       " 'sentence_error_count_min',\n",
       " 'sentence_error_count_max',\n",
       " 'sentence_error_count_sum',\n",
       " 'sentence_error_count_first',\n",
       " 'sentence_error_count_last',\n",
       " 'sentence_char_count_mean',\n",
       " 'sentence_char_count_min',\n",
       " 'sentence_char_count_max',\n",
       " 'sentence_char_count_sum',\n",
       " 'sentence_char_count_first',\n",
       " 'sentence_char_count_last',\n",
       " 'sentence_word_count_mean',\n",
       " 'sentence_word_count_min',\n",
       " 'sentence_word_count_max',\n",
       " 'sentence_word_count_sum',\n",
       " 'sentence_word_count_first',\n",
       " 'sentence_word_count_last',\n",
       " 'sentence_error_count_q1',\n",
       " 'sentence_error_count_q3',\n",
       " 'sentence_error_count_kurtosis',\n",
       " 'sentence_char_count_q1',\n",
       " 'sentence_char_count_q3',\n",
       " 'sentence_char_count_kurtosis',\n",
       " 'sentence_word_count_q1',\n",
       " 'sentence_word_count_q3',\n",
       " 'sentence_word_count_kurtosis',\n",
       " 'sentence_char_count_len_l_25',\n",
       " 'sentence_char_count_len_goe_25',\n",
       " 'sentence_char_count_len_l_50',\n",
       " 'sentence_char_count_len_goe_50',\n",
       " 'sentence_char_count_len_l_75',\n",
       " 'sentence_char_count_len_goe_75',\n",
       " 'sentence_char_count_len_l_100',\n",
       " 'sentence_char_count_len_goe_100',\n",
       " 'sentence_char_count_len_l_125',\n",
       " 'sentence_char_count_len_goe_125',\n",
       " 'sentence_char_count_len_l_150',\n",
       " 'sentence_char_count_len_goe_150',\n",
       " 'sentence_char_count_len_l_175',\n",
       " 'sentence_char_count_len_goe_175',\n",
       " 'sentence_char_count_len_l_200',\n",
       " 'sentence_char_count_len_goe_200',\n",
       " 'sentence_char_count_len_l_225',\n",
       " 'sentence_char_count_len_goe_225',\n",
       " 'sentence_char_count_len_l_250',\n",
       " 'sentence_char_count_len_goe_250',\n",
       " 'sentence_char_count_len_l_275',\n",
       " 'sentence_char_count_len_goe_275',\n",
       " 'sentence_char_count_len_l_300',\n",
       " 'sentence_char_count_len_goe_300',\n",
       " 'sentence_word_count_len_l_10',\n",
       " 'sentence_word_count_len_goe_10',\n",
       " 'sentence_word_count_len_l_20',\n",
       " 'sentence_word_count_len_goe_20',\n",
       " 'sentence_word_count_len_l_30',\n",
       " 'sentence_word_count_len_goe_30',\n",
       " 'sentence_word_count_len_l_40',\n",
       " 'sentence_word_count_len_goe_40',\n",
       " 'sentence_word_count_len_l_50',\n",
       " 'sentence_word_count_len_goe_50',\n",
       " 'sentence_word_count_len_l_60',\n",
       " 'sentence_word_count_len_goe_60',\n",
       " 'sentence_word_count_len_l_70',\n",
       " 'sentence_word_count_len_goe_70',\n",
       " 'sentence_word_count_len_l_80',\n",
       " 'sentence_word_count_len_goe_80',\n",
       " 'sentence_word_count_len_l_90',\n",
       " 'sentence_word_count_len_goe_90',\n",
       " 'sentence_word_count_len_l_100',\n",
       " 'sentence_word_count_len_goe_100',\n",
       " 'sentence_error_count_len_l_5',\n",
       " 'sentence_error_count_len_goe_5',\n",
       " 'sentence_error_count_len_l_10',\n",
       " 'sentence_error_count_len_goe_10',\n",
       " 'sentence_error_count_len_l_15',\n",
       " 'sentence_error_count_len_goe_15',\n",
       " 'sentence_error_count_len_l_20',\n",
       " 'sentence_error_count_len_goe_20',\n",
       " 'sentence_error_count_len_l_25',\n",
       " 'sentence_error_count_len_goe_25',\n",
       " 'sentence_error_count_len_l_30',\n",
       " 'sentence_error_count_len_goe_30',\n",
       " 'sentence_error_count_len_l_35',\n",
       " 'sentence_error_count_len_goe_35',\n",
       " 'sentence_error_count_len_l_40',\n",
       " 'sentence_error_count_len_goe_40',\n",
       " 'sentence_error_count_len_l_45',\n",
       " 'sentence_error_count_len_goe_45',\n",
       " 'sentence_error_count_len_l_50',\n",
       " 'sentence_error_count_len_goe_50']"
      ]
     },
     "execution_count": 19,
     "metadata": {},
     "output_type": "execute_result"
    }
   ],
   "source": [
    "sentence_features.columns.to_list()"
   ]
  },
  {
   "cell_type": "markdown",
   "metadata": {},
   "source": [
    "#### Word Level"
   ]
  },
  {
   "cell_type": "code",
   "execution_count": 20,
   "metadata": {},
   "outputs": [
    {
     "data": {
      "text/plain": [
       "(3708, 5)"
      ]
     },
     "execution_count": 20,
     "metadata": {},
     "output_type": "execute_result"
    }
   ],
   "source": [
    "word_features = process_word(train_df.copy(deep=True))\n",
    "word_features.shape"
   ]
  },
  {
   "cell_type": "code",
   "execution_count": 21,
   "metadata": {},
   "outputs": [],
   "source": [
    "assert word_features.essay_id.unique().shape == train_df.essay_id.unique().shape"
   ]
  },
  {
   "cell_type": "code",
   "execution_count": 22,
   "metadata": {},
   "outputs": [
    {
     "data": {
      "text/plain": [
       "['essay_id', 'full_text', 'score', 'word', 'word_char_count']"
      ]
     },
     "execution_count": 22,
     "metadata": {},
     "output_type": "execute_result"
    }
   ],
   "source": [
    "word_features.columns.to_list()"
   ]
  },
  {
   "cell_type": "code",
   "execution_count": 23,
   "metadata": {},
   "outputs": [
    {
     "data": {
      "text/plain": [
       "(10, 33)"
      ]
     },
     "execution_count": 23,
     "metadata": {},
     "output_type": "execute_result"
    }
   ],
   "source": [
    "word_features = word_feature_engineering(word_features)\n",
    "word_features.shape"
   ]
  },
  {
   "cell_type": "code",
   "execution_count": 24,
   "metadata": {},
   "outputs": [],
   "source": [
    "assert word_features.essay_id.unique().shape == train_df.essay_id.unique().shape"
   ]
  },
  {
   "cell_type": "code",
   "execution_count": 25,
   "metadata": {},
   "outputs": [
    {
     "data": {
      "text/plain": [
       "['essay_id',\n",
       " 'word_char_count_mean',\n",
       " 'word_char_count_min',\n",
       " 'word_char_count_max',\n",
       " 'word_char_count_q1',\n",
       " 'word_char_count_q3',\n",
       " 'word_char_count_<lambda_2>',\n",
       " 'word_char_count_len_l_5',\n",
       " 'word_char_count_len_goe_5',\n",
       " 'word_char_count_len_l_7',\n",
       " 'word_char_count_len_goe_7',\n",
       " 'word_char_count_len_l_9',\n",
       " 'word_char_count_len_goe_9',\n",
       " 'word_char_count_len_l_11',\n",
       " 'word_char_count_len_goe_11',\n",
       " 'word_char_count_len_l_13',\n",
       " 'word_char_count_len_goe_13',\n",
       " 'word_char_count_len_l_15',\n",
       " 'word_char_count_len_goe_15',\n",
       " 'word_char_count_len_l_17',\n",
       " 'word_char_count_len_goe_17',\n",
       " 'word_char_count_len_l_19',\n",
       " 'word_char_count_len_goe_19',\n",
       " 'word_char_count_len_l_21',\n",
       " 'word_char_count_len_goe_21',\n",
       " 'word_char_count_len_l_23',\n",
       " 'word_char_count_len_goe_23',\n",
       " 'word_char_count_len_l_25',\n",
       " 'word_char_count_len_goe_25',\n",
       " 'word_char_count_len_l_27',\n",
       " 'word_char_count_len_goe_27',\n",
       " 'word_char_count_len_l_29',\n",
       " 'word_char_count_len_goe_29']"
      ]
     },
     "execution_count": 25,
     "metadata": {},
     "output_type": "execute_result"
    }
   ],
   "source": [
    "word_features.columns.to_list()"
   ]
  },
  {
   "cell_type": "markdown",
   "metadata": {},
   "source": [
    "#### TF-IDF Features\n",
    "\n",
    "A TF-IDF vectorizer is used to convert the essays into numerical features."
   ]
  },
  {
   "cell_type": "code",
   "execution_count": 28,
   "metadata": {},
   "outputs": [],
   "source": [
    "vectorizer, tfidf_features = generate_tfidf_features(train_df.copy(deep=True), None)"
   ]
  },
  {
   "cell_type": "code",
   "execution_count": 29,
   "metadata": {},
   "outputs": [],
   "source": [
    "assert tfidf_features.essay_id.unique().shape == train_df.essay_id.unique().shape"
   ]
  },
  {
   "cell_type": "code",
   "execution_count": 30,
   "metadata": {
    "scrolled": true
   },
   "outputs": [],
   "source": [
    "with open(\"output/LGBM/vectorizer.pkl\", \"wb\") as file:\n",
    "    pkl.dump(vectorizer, file)"
   ]
  },
  {
   "cell_type": "markdown",
   "metadata": {},
   "source": [
    "#### Count Vectorizer\n",
    "\n",
    "A countVectorizer is used to convert the essays into numerical features"
   ]
  },
  {
   "cell_type": "code",
   "execution_count": 32,
   "metadata": {},
   "outputs": [],
   "source": [
    "vectorizer_cnt, count_features = generate_count_features(train_df.copy(deep=True), None)"
   ]
  },
  {
   "cell_type": "code",
   "execution_count": 33,
   "metadata": {},
   "outputs": [],
   "source": [
    "assert count_features.essay_id.unique().shape == train_df.essay_id.unique().shape"
   ]
  },
  {
   "cell_type": "code",
   "execution_count": 34,
   "metadata": {},
   "outputs": [],
   "source": [
    "with open(\"output/LGBM/vectorizer_cnt.pkl\", \"wb\") as file:\n",
    "    pkl.dump(vectorizer_cnt, file)"
   ]
  },
  {
   "cell_type": "markdown",
   "metadata": {},
   "source": [
    "#### DeBERTA Predictions\n",
    "\n",
    "Predictions made using DeBERTA models"
   ]
  },
  {
   "cell_type": "code",
   "execution_count": 35,
   "metadata": {},
   "outputs": [],
   "source": [
    "# oov_path = \"output/microsoft/deberta-v3-xsmall/oof_df.csv\"\n",
    "# deberta_features = pd.read_csv(oov_path, usecols=[f\"score_prob_{i}\" for i in range(config.num_classes)] + [\"essay_id\"])\n",
    "# deberta_features.shape"
   ]
  },
  {
   "cell_type": "code",
   "execution_count": 36,
   "metadata": {},
   "outputs": [],
   "source": [
    "# deberta_features.sample(3)"
   ]
  },
  {
   "cell_type": "markdown",
   "metadata": {},
   "source": [
    "#### Combining Features"
   ]
  },
  {
   "cell_type": "code",
   "execution_count": 37,
   "metadata": {},
   "outputs": [
    {
     "data": {
      "text/plain": [
       "(10, 34807)"
      ]
     },
     "execution_count": 37,
     "metadata": {},
     "output_type": "execute_result"
    }
   ],
   "source": [
    "all_features = paragraph_features.copy()\n",
    "\n",
    "# Merge using essay_id column\n",
    "for feature_df in [sentence_features, word_features, tfidf_features, count_features]:\n",
    "    all_features = pd.merge(all_features, feature_df, on=\"essay_id\")\n",
    "\n",
    "all_features = pd.merge(all_features, train_df[[\"essay_id\", \"score\"]], on=\"essay_id\")\n",
    "all_features.shape"
   ]
  },
  {
   "cell_type": "code",
   "execution_count": 38,
   "metadata": {},
   "outputs": [],
   "source": [
    "assert all_features.essay_id.unique().shape == train_df.essay_id.unique().shape"
   ]
  },
  {
   "cell_type": "code",
   "execution_count": null,
   "metadata": {},
   "outputs": [],
   "source": [
    "all_features.to_csv(Paths.FEATURE_ENGG_CSV_PATH, index=False)"
   ]
  }
 ],
 "metadata": {
  "kernelspec": {
   "display_name": "Python 3 (ipykernel)",
   "language": "python",
   "name": "python3"
  },
  "language_info": {
   "codemirror_mode": {
    "name": "ipython",
    "version": 3
   },
   "file_extension": ".py",
   "mimetype": "text/x-python",
   "name": "python",
   "nbconvert_exporter": "python",
   "pygments_lexer": "ipython3",
   "version": "3.11.8"
  }
 },
 "nbformat": 4,
 "nbformat_minor": 4
}
