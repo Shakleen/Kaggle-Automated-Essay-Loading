{
 "cells": [
  {
   "cell_type": "markdown",
   "metadata": {},
   "source": [
    "# LGBM - Data Preparation"
   ]
  },
  {
   "cell_type": "markdown",
   "metadata": {},
   "source": [
    "## Setup"
   ]
  },
  {
   "cell_type": "code",
   "execution_count": 1,
   "metadata": {},
   "outputs": [],
   "source": [
    "import os\n",
    "import pandas as pd\n",
    "import numpy as np\n",
    "import pickle as pkl\n",
    "from sklearn.feature_extraction.text import TfidfVectorizer, CountVectorizer"
   ]
  },
  {
   "cell_type": "code",
   "execution_count": 2,
   "metadata": {},
   "outputs": [],
   "source": [
    "os.chdir(\"../../\")"
   ]
  },
  {
   "cell_type": "code",
   "execution_count": 3,
   "metadata": {},
   "outputs": [],
   "source": [
    "from lib.config import config\n",
    "from lib.paths import Paths\n",
    "from lib.utils.utils import seed_everything\n",
    "from lib.data_tools.feature_engineering import (\n",
    "    process_paragraph,\n",
    "    paragraph_feature_engineering,\n",
    "    process_sentence,\n",
    "    sentence_feature_engineering,\n",
    "    process_word,\n",
    "    word_feature_engineering,\n",
    "    generate_tfidf_features,\n",
    "    generate_count_features,\n",
    ")"
   ]
  },
  {
   "cell_type": "code",
   "execution_count": 4,
   "metadata": {},
   "outputs": [],
   "source": [
    "seed_everything()"
   ]
  },
  {
   "cell_type": "markdown",
   "metadata": {},
   "source": [
    "## Data Preparation"
   ]
  },
  {
   "cell_type": "markdown",
   "metadata": {},
   "source": [
    "### Data Loading"
   ]
  },
  {
   "cell_type": "code",
   "execution_count": 5,
   "metadata": {},
   "outputs": [
    {
     "data": {
      "text/plain": [
       "(17307, 3)"
      ]
     },
     "execution_count": 5,
     "metadata": {},
     "output_type": "execute_result"
    }
   ],
   "source": [
    "train_df = pd.read_csv(Paths.COMPETITION_TRAIN_CSV_PATH)\n",
    "train_df.shape"
   ]
  },
  {
   "cell_type": "markdown",
   "metadata": {},
   "source": [
    "### Feature Engineerings"
   ]
  },
  {
   "cell_type": "markdown",
   "metadata": {},
   "source": [
    "#### Paragraph Level"
   ]
  },
  {
   "cell_type": "code",
   "execution_count": 6,
   "metadata": {},
   "outputs": [
    {
     "data": {
      "text/plain": [
       "(85934, 9)"
      ]
     },
     "execution_count": 6,
     "metadata": {},
     "output_type": "execute_result"
    }
   ],
   "source": [
    "paragraph_features = process_paragraph(train_df)\n",
    "paragraph_features.shape"
   ]
  },
  {
   "cell_type": "code",
   "execution_count": 7,
   "metadata": {},
   "outputs": [
    {
     "data": {
      "text/html": [
       "<div>\n",
       "<style scoped>\n",
       "    .dataframe tbody tr th:only-of-type {\n",
       "        vertical-align: middle;\n",
       "    }\n",
       "\n",
       "    .dataframe tbody tr th {\n",
       "        vertical-align: top;\n",
       "    }\n",
       "\n",
       "    .dataframe thead th {\n",
       "        text-align: right;\n",
       "    }\n",
       "</style>\n",
       "<table border=\"1\" class=\"dataframe\">\n",
       "  <thead>\n",
       "    <tr style=\"text-align: right;\">\n",
       "      <th></th>\n",
       "      <th>essay_id</th>\n",
       "      <th>full_text</th>\n",
       "      <th>score</th>\n",
       "      <th>paragraph</th>\n",
       "      <th>paragraph_no_punctuation</th>\n",
       "      <th>paragraph_error_count</th>\n",
       "      <th>paragraph_char_count</th>\n",
       "      <th>paragraph_word_count</th>\n",
       "      <th>paragraph_sentence_count</th>\n",
       "    </tr>\n",
       "  </thead>\n",
       "  <tbody>\n",
       "    <tr>\n",
       "      <th>12725</th>\n",
       "      <td>bbc0087</td>\n",
       "      <td>The development of driverless cars should be a...</td>\n",
       "      <td>4</td>\n",
       "      <td>in just a few years, with manufacturers making...</td>\n",
       "      <td>in just a few years with manufacturers making ...</td>\n",
       "      <td>0</td>\n",
       "      <td>150</td>\n",
       "      <td>23</td>\n",
       "      <td>1</td>\n",
       "    </tr>\n",
       "    <tr>\n",
       "      <th>5194</th>\n",
       "      <td>4d8bb17</td>\n",
       "      <td>When you say that the face on mars is an alien...</td>\n",
       "      <td>3</td>\n",
       "      <td>when you say that the face on mars is an alien...</td>\n",
       "      <td>when you say that the face on mars is an alien...</td>\n",
       "      <td>1</td>\n",
       "      <td>244</td>\n",
       "      <td>55</td>\n",
       "      <td>5</td>\n",
       "    </tr>\n",
       "    <tr>\n",
       "      <th>13746</th>\n",
       "      <td>c9d4074</td>\n",
       "      <td>Driverless cars are quickly becoming a reality...</td>\n",
       "      <td>4</td>\n",
       "      <td>the focus should be on teaching people to driv...</td>\n",
       "      <td>the focus should be on teaching people to driv...</td>\n",
       "      <td>0</td>\n",
       "      <td>148</td>\n",
       "      <td>27</td>\n",
       "      <td>1</td>\n",
       "    </tr>\n",
       "  </tbody>\n",
       "</table>\n",
       "</div>"
      ],
      "text/plain": [
       "      essay_id                                          full_text  score  \\\n",
       "12725  bbc0087  The development of driverless cars should be a...      4   \n",
       "5194   4d8bb17  When you say that the face on mars is an alien...      3   \n",
       "13746  c9d4074  Driverless cars are quickly becoming a reality...      4   \n",
       "\n",
       "                                               paragraph  \\\n",
       "12725  in just a few years, with manufacturers making...   \n",
       "5194   when you say that the face on mars is an alien...   \n",
       "13746  the focus should be on teaching people to driv...   \n",
       "\n",
       "                                paragraph_no_punctuation  \\\n",
       "12725  in just a few years with manufacturers making ...   \n",
       "5194   when you say that the face on mars is an alien...   \n",
       "13746  the focus should be on teaching people to driv...   \n",
       "\n",
       "       paragraph_error_count  paragraph_char_count  paragraph_word_count  \\\n",
       "12725                      0                   150                    23   \n",
       "5194                       1                   244                    55   \n",
       "13746                      0                   148                    27   \n",
       "\n",
       "       paragraph_sentence_count  \n",
       "12725                         1  \n",
       "5194                          5  \n",
       "13746                         1  "
      ]
     },
     "execution_count": 7,
     "metadata": {},
     "output_type": "execute_result"
    }
   ],
   "source": [
    "paragraph_features.sample(3)"
   ]
  },
  {
   "cell_type": "code",
   "execution_count": 8,
   "metadata": {},
   "outputs": [],
   "source": [
    "assert paragraph_features.essay_id.unique().shape == train_df.essay_id.unique().shape"
   ]
  },
  {
   "cell_type": "code",
   "execution_count": 9,
   "metadata": {},
   "outputs": [
    {
     "name": "stderr",
     "output_type": "stream",
     "text": [
      "/media/ishfar/New Volume/Studies/Projects/Kaggle-Automated-Essay-Scoring/lib/data_tools/feature_engineering.py:151: RuntimeWarning: Precision loss occurred in moment calculation due to catastrophic cancellation. This occurs when the data are nearly identical. Results may be unreliable.\n",
      "  lambda x: kurtosis(x),\n"
     ]
    },
    {
     "data": {
      "text/plain": [
       "(17307, 129)"
      ]
     },
     "execution_count": 9,
     "metadata": {},
     "output_type": "execute_result"
    }
   ],
   "source": [
    "paragraph_features = paragraph_feature_engineering(paragraph_features)\n",
    "paragraph_features.shape"
   ]
  },
  {
   "cell_type": "code",
   "execution_count": 10,
   "metadata": {},
   "outputs": [
    {
     "data": {
      "text/html": [
       "<div>\n",
       "<style scoped>\n",
       "    .dataframe tbody tr th:only-of-type {\n",
       "        vertical-align: middle;\n",
       "    }\n",
       "\n",
       "    .dataframe tbody tr th {\n",
       "        vertical-align: top;\n",
       "    }\n",
       "\n",
       "    .dataframe thead th {\n",
       "        text-align: right;\n",
       "    }\n",
       "</style>\n",
       "<table border=\"1\" class=\"dataframe\">\n",
       "  <thead>\n",
       "    <tr style=\"text-align: right;\">\n",
       "      <th></th>\n",
       "      <th>essay_id</th>\n",
       "      <th>paragraph_error_count_mean</th>\n",
       "      <th>paragraph_error_count_min</th>\n",
       "      <th>paragraph_error_count_max</th>\n",
       "      <th>paragraph_error_count_sum</th>\n",
       "      <th>paragraph_error_count_first</th>\n",
       "      <th>paragraph_error_count_last</th>\n",
       "      <th>paragraph_char_count_mean</th>\n",
       "      <th>paragraph_char_count_min</th>\n",
       "      <th>paragraph_char_count_max</th>\n",
       "      <th>...</th>\n",
       "      <th>paragraph_error_count_len&lt;30</th>\n",
       "      <th>paragraph_error_count_len&gt;=30</th>\n",
       "      <th>paragraph_error_count_len&lt;35</th>\n",
       "      <th>paragraph_error_count_len&gt;=35</th>\n",
       "      <th>paragraph_error_count_len&lt;40</th>\n",
       "      <th>paragraph_error_count_len&gt;=40</th>\n",
       "      <th>paragraph_error_count_len&lt;45</th>\n",
       "      <th>paragraph_error_count_len&gt;=45</th>\n",
       "      <th>paragraph_error_count_len&lt;50</th>\n",
       "      <th>paragraph_error_count_len&gt;=50</th>\n",
       "    </tr>\n",
       "  </thead>\n",
       "  <tbody>\n",
       "    <tr>\n",
       "      <th>10716</th>\n",
       "      <td>9e219bb</td>\n",
       "      <td>1.625000</td>\n",
       "      <td>0</td>\n",
       "      <td>7</td>\n",
       "      <td>13</td>\n",
       "      <td>0</td>\n",
       "      <td>0</td>\n",
       "      <td>215.500000</td>\n",
       "      <td>17</td>\n",
       "      <td>422</td>\n",
       "      <td>...</td>\n",
       "      <td>True</td>\n",
       "      <td>False</td>\n",
       "      <td>True</td>\n",
       "      <td>False</td>\n",
       "      <td>True</td>\n",
       "      <td>False</td>\n",
       "      <td>True</td>\n",
       "      <td>False</td>\n",
       "      <td>True</td>\n",
       "      <td>False</td>\n",
       "    </tr>\n",
       "    <tr>\n",
       "      <th>16341</th>\n",
       "      <td>f114047</td>\n",
       "      <td>7.500000</td>\n",
       "      <td>1</td>\n",
       "      <td>13</td>\n",
       "      <td>45</td>\n",
       "      <td>1</td>\n",
       "      <td>5</td>\n",
       "      <td>416.666667</td>\n",
       "      <td>128</td>\n",
       "      <td>699</td>\n",
       "      <td>...</td>\n",
       "      <td>True</td>\n",
       "      <td>False</td>\n",
       "      <td>True</td>\n",
       "      <td>False</td>\n",
       "      <td>True</td>\n",
       "      <td>False</td>\n",
       "      <td>True</td>\n",
       "      <td>False</td>\n",
       "      <td>True</td>\n",
       "      <td>False</td>\n",
       "    </tr>\n",
       "    <tr>\n",
       "      <th>9190</th>\n",
       "      <td>87c531e</td>\n",
       "      <td>2.833333</td>\n",
       "      <td>0</td>\n",
       "      <td>7</td>\n",
       "      <td>17</td>\n",
       "      <td>1</td>\n",
       "      <td>2</td>\n",
       "      <td>416.166667</td>\n",
       "      <td>44</td>\n",
       "      <td>1093</td>\n",
       "      <td>...</td>\n",
       "      <td>True</td>\n",
       "      <td>False</td>\n",
       "      <td>True</td>\n",
       "      <td>False</td>\n",
       "      <td>True</td>\n",
       "      <td>False</td>\n",
       "      <td>True</td>\n",
       "      <td>False</td>\n",
       "      <td>True</td>\n",
       "      <td>False</td>\n",
       "    </tr>\n",
       "  </tbody>\n",
       "</table>\n",
       "<p>3 rows × 129 columns</p>\n",
       "</div>"
      ],
      "text/plain": [
       "      essay_id  paragraph_error_count_mean  paragraph_error_count_min  \\\n",
       "10716  9e219bb                    1.625000                          0   \n",
       "16341  f114047                    7.500000                          1   \n",
       "9190   87c531e                    2.833333                          0   \n",
       "\n",
       "       paragraph_error_count_max  paragraph_error_count_sum  \\\n",
       "10716                          7                         13   \n",
       "16341                         13                         45   \n",
       "9190                           7                         17   \n",
       "\n",
       "       paragraph_error_count_first  paragraph_error_count_last  \\\n",
       "10716                            0                           0   \n",
       "16341                            1                           5   \n",
       "9190                             1                           2   \n",
       "\n",
       "       paragraph_char_count_mean  paragraph_char_count_min  \\\n",
       "10716                 215.500000                        17   \n",
       "16341                 416.666667                       128   \n",
       "9190                  416.166667                        44   \n",
       "\n",
       "       paragraph_char_count_max  ...  paragraph_error_count_len<30  \\\n",
       "10716                       422  ...                          True   \n",
       "16341                       699  ...                          True   \n",
       "9190                       1093  ...                          True   \n",
       "\n",
       "       paragraph_error_count_len>=30  paragraph_error_count_len<35  \\\n",
       "10716                          False                          True   \n",
       "16341                          False                          True   \n",
       "9190                           False                          True   \n",
       "\n",
       "       paragraph_error_count_len>=35  paragraph_error_count_len<40  \\\n",
       "10716                          False                          True   \n",
       "16341                          False                          True   \n",
       "9190                           False                          True   \n",
       "\n",
       "       paragraph_error_count_len>=40  paragraph_error_count_len<45  \\\n",
       "10716                          False                          True   \n",
       "16341                          False                          True   \n",
       "9190                           False                          True   \n",
       "\n",
       "       paragraph_error_count_len>=45  paragraph_error_count_len<50  \\\n",
       "10716                          False                          True   \n",
       "16341                          False                          True   \n",
       "9190                           False                          True   \n",
       "\n",
       "       paragraph_error_count_len>=50  \n",
       "10716                          False  \n",
       "16341                          False  \n",
       "9190                           False  \n",
       "\n",
       "[3 rows x 129 columns]"
      ]
     },
     "execution_count": 10,
     "metadata": {},
     "output_type": "execute_result"
    }
   ],
   "source": [
    "paragraph_features.sample(3)"
   ]
  },
  {
   "cell_type": "code",
   "execution_count": 11,
   "metadata": {},
   "outputs": [],
   "source": [
    "assert paragraph_features.essay_id.unique().shape == train_df.essay_id.unique().shape"
   ]
  },
  {
   "cell_type": "markdown",
   "metadata": {},
   "source": [
    "#### Sentence Level"
   ]
  },
  {
   "cell_type": "code",
   "execution_count": 12,
   "metadata": {},
   "outputs": [
    {
     "data": {
      "text/plain": [
       "(330422, 9)"
      ]
     },
     "execution_count": 12,
     "metadata": {},
     "output_type": "execute_result"
    }
   ],
   "source": [
    "sentence_features = process_sentence(train_df)\n",
    "sentence_features.shape"
   ]
  },
  {
   "cell_type": "code",
   "execution_count": 13,
   "metadata": {},
   "outputs": [],
   "source": [
    "assert sentence_features.essay_id.unique().shape == train_df.essay_id.unique().shape"
   ]
  },
  {
   "cell_type": "code",
   "execution_count": 14,
   "metadata": {},
   "outputs": [
    {
     "name": "stderr",
     "output_type": "stream",
     "text": [
      "/media/ishfar/New Volume/Studies/Projects/Kaggle-Automated-Essay-Scoring/lib/data_tools/feature_engineering.py:222: RuntimeWarning: Precision loss occurred in moment calculation due to catastrophic cancellation. This occurs when the data are nearly identical. Results may be unreliable.\n",
      "  lambda x: kurtosis(x),\n"
     ]
    },
    {
     "data": {
      "text/html": [
       "<div>\n",
       "<style scoped>\n",
       "    .dataframe tbody tr th:only-of-type {\n",
       "        vertical-align: middle;\n",
       "    }\n",
       "\n",
       "    .dataframe tbody tr th {\n",
       "        vertical-align: top;\n",
       "    }\n",
       "\n",
       "    .dataframe thead th {\n",
       "        text-align: right;\n",
       "    }\n",
       "</style>\n",
       "<table border=\"1\" class=\"dataframe\">\n",
       "  <thead>\n",
       "    <tr style=\"text-align: right;\">\n",
       "      <th></th>\n",
       "      <th>essay_id</th>\n",
       "      <th>sentence_error_count_mean</th>\n",
       "      <th>sentence_error_count_min</th>\n",
       "      <th>sentence_error_count_max</th>\n",
       "      <th>sentence_error_count_sum</th>\n",
       "      <th>sentence_error_count_first</th>\n",
       "      <th>sentence_error_count_last</th>\n",
       "      <th>sentence_char_count_mean</th>\n",
       "      <th>sentence_char_count_min</th>\n",
       "      <th>sentence_char_count_max</th>\n",
       "      <th>...</th>\n",
       "      <th>sentence_error_count_len&lt;2</th>\n",
       "      <th>sentence_error_count_len&gt;=2</th>\n",
       "      <th>sentence_error_count_len&lt;4</th>\n",
       "      <th>sentence_error_count_len&gt;=4</th>\n",
       "      <th>sentence_error_count_len&lt;6</th>\n",
       "      <th>sentence_error_count_len&gt;=6</th>\n",
       "      <th>sentence_error_count_len&lt;8</th>\n",
       "      <th>sentence_error_count_len&gt;=8</th>\n",
       "      <th>sentence_error_count_len&lt;10</th>\n",
       "      <th>sentence_error_count_len&gt;=10</th>\n",
       "    </tr>\n",
       "  </thead>\n",
       "  <tbody>\n",
       "    <tr>\n",
       "      <th>10166</th>\n",
       "      <td>9612d64</td>\n",
       "      <td>0.214286</td>\n",
       "      <td>0</td>\n",
       "      <td>2</td>\n",
       "      <td>6</td>\n",
       "      <td>0</td>\n",
       "      <td>0</td>\n",
       "      <td>89.107143</td>\n",
       "      <td>18</td>\n",
       "      <td>146</td>\n",
       "      <td>...</td>\n",
       "      <td>False</td>\n",
       "      <td>True</td>\n",
       "      <td>False</td>\n",
       "      <td>True</td>\n",
       "      <td>False</td>\n",
       "      <td>True</td>\n",
       "      <td>False</td>\n",
       "      <td>True</td>\n",
       "      <td>False</td>\n",
       "      <td>True</td>\n",
       "    </tr>\n",
       "    <tr>\n",
       "      <th>10215</th>\n",
       "      <td>96c77d6</td>\n",
       "      <td>0.103448</td>\n",
       "      <td>0</td>\n",
       "      <td>1</td>\n",
       "      <td>3</td>\n",
       "      <td>0</td>\n",
       "      <td>0</td>\n",
       "      <td>96.482759</td>\n",
       "      <td>39</td>\n",
       "      <td>189</td>\n",
       "      <td>...</td>\n",
       "      <td>False</td>\n",
       "      <td>True</td>\n",
       "      <td>False</td>\n",
       "      <td>True</td>\n",
       "      <td>False</td>\n",
       "      <td>True</td>\n",
       "      <td>False</td>\n",
       "      <td>True</td>\n",
       "      <td>False</td>\n",
       "      <td>True</td>\n",
       "    </tr>\n",
       "    <tr>\n",
       "      <th>3377</th>\n",
       "      <td>3217d6b</td>\n",
       "      <td>0.444444</td>\n",
       "      <td>0</td>\n",
       "      <td>2</td>\n",
       "      <td>8</td>\n",
       "      <td>1</td>\n",
       "      <td>0</td>\n",
       "      <td>76.777778</td>\n",
       "      <td>18</td>\n",
       "      <td>152</td>\n",
       "      <td>...</td>\n",
       "      <td>False</td>\n",
       "      <td>True</td>\n",
       "      <td>False</td>\n",
       "      <td>True</td>\n",
       "      <td>False</td>\n",
       "      <td>True</td>\n",
       "      <td>False</td>\n",
       "      <td>True</td>\n",
       "      <td>False</td>\n",
       "      <td>True</td>\n",
       "    </tr>\n",
       "  </tbody>\n",
       "</table>\n",
       "<p>3 rows × 85 columns</p>\n",
       "</div>"
      ],
      "text/plain": [
       "      essay_id  sentence_error_count_mean  sentence_error_count_min  \\\n",
       "10166  9612d64                   0.214286                         0   \n",
       "10215  96c77d6                   0.103448                         0   \n",
       "3377   3217d6b                   0.444444                         0   \n",
       "\n",
       "       sentence_error_count_max  sentence_error_count_sum  \\\n",
       "10166                         2                         6   \n",
       "10215                         1                         3   \n",
       "3377                          2                         8   \n",
       "\n",
       "       sentence_error_count_first  sentence_error_count_last  \\\n",
       "10166                           0                          0   \n",
       "10215                           0                          0   \n",
       "3377                            1                          0   \n",
       "\n",
       "       sentence_char_count_mean  sentence_char_count_min  \\\n",
       "10166                 89.107143                       18   \n",
       "10215                 96.482759                       39   \n",
       "3377                  76.777778                       18   \n",
       "\n",
       "       sentence_char_count_max  ...  sentence_error_count_len<2  \\\n",
       "10166                      146  ...                       False   \n",
       "10215                      189  ...                       False   \n",
       "3377                       152  ...                       False   \n",
       "\n",
       "       sentence_error_count_len>=2  sentence_error_count_len<4  \\\n",
       "10166                         True                       False   \n",
       "10215                         True                       False   \n",
       "3377                          True                       False   \n",
       "\n",
       "       sentence_error_count_len>=4  sentence_error_count_len<6  \\\n",
       "10166                         True                       False   \n",
       "10215                         True                       False   \n",
       "3377                          True                       False   \n",
       "\n",
       "       sentence_error_count_len>=6  sentence_error_count_len<8  \\\n",
       "10166                         True                       False   \n",
       "10215                         True                       False   \n",
       "3377                          True                       False   \n",
       "\n",
       "       sentence_error_count_len>=8  sentence_error_count_len<10  \\\n",
       "10166                         True                        False   \n",
       "10215                         True                        False   \n",
       "3377                          True                        False   \n",
       "\n",
       "       sentence_error_count_len>=10  \n",
       "10166                          True  \n",
       "10215                          True  \n",
       "3377                           True  \n",
       "\n",
       "[3 rows x 85 columns]"
      ]
     },
     "execution_count": 14,
     "metadata": {},
     "output_type": "execute_result"
    }
   ],
   "source": [
    "sentence_features = sentence_feature_engineering(sentence_features)\n",
    "sentence_features.sample(3)"
   ]
  },
  {
   "cell_type": "code",
   "execution_count": 15,
   "metadata": {},
   "outputs": [
    {
     "data": {
      "text/plain": [
       "(17307, 85)"
      ]
     },
     "execution_count": 15,
     "metadata": {},
     "output_type": "execute_result"
    }
   ],
   "source": [
    "sentence_features.shape"
   ]
  },
  {
   "cell_type": "code",
   "execution_count": 16,
   "metadata": {},
   "outputs": [],
   "source": [
    "assert sentence_features.essay_id.unique().shape == train_df.essay_id.unique().shape"
   ]
  },
  {
   "cell_type": "markdown",
   "metadata": {},
   "source": [
    "#### Word Level"
   ]
  },
  {
   "cell_type": "code",
   "execution_count": 17,
   "metadata": {},
   "outputs": [
    {
     "data": {
      "text/plain": [
       "(6350538, 7)"
      ]
     },
     "execution_count": 17,
     "metadata": {},
     "output_type": "execute_result"
    }
   ],
   "source": [
    "word_features = process_word(train_df)\n",
    "word_features.shape"
   ]
  },
  {
   "cell_type": "code",
   "execution_count": 18,
   "metadata": {},
   "outputs": [],
   "source": [
    "assert word_features.essay_id.unique().shape == train_df.essay_id.unique().shape"
   ]
  },
  {
   "cell_type": "code",
   "execution_count": 19,
   "metadata": {},
   "outputs": [
    {
     "data": {
      "text/plain": [
       "(17307, 33)"
      ]
     },
     "execution_count": 19,
     "metadata": {},
     "output_type": "execute_result"
    }
   ],
   "source": [
    "word_features = word_feature_engineering(word_features)\n",
    "word_features.shape"
   ]
  },
  {
   "cell_type": "code",
   "execution_count": 20,
   "metadata": {},
   "outputs": [],
   "source": [
    "assert word_features.essay_id.unique().shape == train_df.essay_id.unique().shape"
   ]
  },
  {
   "cell_type": "markdown",
   "metadata": {},
   "source": [
    "#### TF-IDF Features\n",
    "\n",
    "A TF-IDF vectorizer is used to convert the essays into numerical features."
   ]
  },
  {
   "cell_type": "code",
   "execution_count": 21,
   "metadata": {},
   "outputs": [],
   "source": [
    "vectorizer, tfidf_features = generate_tfidf_features(train_df, None)"
   ]
  },
  {
   "cell_type": "code",
   "execution_count": 22,
   "metadata": {},
   "outputs": [],
   "source": [
    "assert tfidf_features.essay_id.unique().shape == train_df.essay_id.unique().shape"
   ]
  },
  {
   "cell_type": "code",
   "execution_count": 23,
   "metadata": {
    "scrolled": true
   },
   "outputs": [],
   "source": [
    "with open(\"output/LGBM/vectorizer.pkl\", \"wb\") as file:\n",
    "    pkl.dump(vectorizer, file)"
   ]
  },
  {
   "cell_type": "markdown",
   "metadata": {},
   "source": [
    "#### Count Vectorizer\n",
    "\n",
    "A countVectorizer is used to convert the essays into numerical features"
   ]
  },
  {
   "cell_type": "code",
   "execution_count": 24,
   "metadata": {},
   "outputs": [],
   "source": [
    "vectorizer_cnt, count_features = generate_count_features(train_df)"
   ]
  },
  {
   "cell_type": "code",
   "execution_count": 25,
   "metadata": {},
   "outputs": [],
   "source": [
    "assert count_features.essay_id.unique().shape == train_df.essay_id.unique().shape"
   ]
  },
  {
   "cell_type": "code",
   "execution_count": 26,
   "metadata": {},
   "outputs": [],
   "source": [
    "with open(\"output/LGBM/vectorizer_cnt.pkl\", \"wb\") as file:\n",
    "    pkl.dump(vectorizer_cnt, file)"
   ]
  },
  {
   "cell_type": "markdown",
   "metadata": {},
   "source": [
    "#### DeBERTA Predictions\n",
    "\n",
    "Predictions made using DeBERTA models"
   ]
  },
  {
   "cell_type": "code",
   "execution_count": 27,
   "metadata": {},
   "outputs": [],
   "source": [
    "# oov_path = \"output/microsoft/deberta-v3-xsmall/oof_df.csv\"\n",
    "# deberta_features = pd.read_csv(oov_path, usecols=[f\"score_prob_{i}\" for i in range(config.num_classes)] + [\"essay_id\"])\n",
    "# deberta_features.shape"
   ]
  },
  {
   "cell_type": "code",
   "execution_count": 28,
   "metadata": {},
   "outputs": [],
   "source": [
    "# deberta_features.sample(3)"
   ]
  },
  {
   "cell_type": "markdown",
   "metadata": {},
   "source": [
    "#### Combining Features"
   ]
  },
  {
   "cell_type": "code",
   "execution_count": 29,
   "metadata": {},
   "outputs": [
    {
     "data": {
      "text/plain": [
       "(17307, 22043)"
      ]
     },
     "execution_count": 29,
     "metadata": {},
     "output_type": "execute_result"
    }
   ],
   "source": [
    "all_features = paragraph_features.copy()\n",
    "\n",
    "# Merge using essay_id column\n",
    "for feature_df in [sentence_features, word_features, tfidf_features, count_features]:\n",
    "    all_features = pd.merge(all_features, feature_df, on=\"essay_id\")\n",
    "\n",
    "all_features = pd.merge(all_features, train_df[[\"essay_id\", \"score\"]], on=\"essay_id\")\n",
    "all_features.shape"
   ]
  },
  {
   "cell_type": "code",
   "execution_count": 30,
   "metadata": {},
   "outputs": [],
   "source": [
    "assert all_features.essay_id.unique().shape == train_df.essay_id.unique().shape"
   ]
  },
  {
   "cell_type": "code",
   "execution_count": 31,
   "metadata": {},
   "outputs": [],
   "source": [
    "all_features.to_csv(Paths.FEATURE_ENGG_CSV_PATH, index=False)"
   ]
  }
 ],
 "metadata": {
  "kernelspec": {
   "display_name": "Python 3 (ipykernel)",
   "language": "python",
   "name": "python3"
  },
  "language_info": {
   "codemirror_mode": {
    "name": "ipython",
    "version": 3
   },
   "file_extension": ".py",
   "mimetype": "text/x-python",
   "name": "python",
   "nbconvert_exporter": "python",
   "pygments_lexer": "ipython3",
   "version": "3.11.8"
  }
 },
 "nbformat": 4,
 "nbformat_minor": 4
}
