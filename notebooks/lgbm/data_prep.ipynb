{
 "cells": [
  {
   "cell_type": "markdown",
   "metadata": {},
   "source": [
    "# LGBM - Data Preparation"
   ]
  },
  {
   "cell_type": "markdown",
   "metadata": {},
   "source": [
    "## Setup"
   ]
  },
  {
   "cell_type": "code",
   "execution_count": 1,
   "metadata": {},
   "outputs": [],
   "source": [
    "import os\n",
    "import pandas as pd\n",
    "from transformers import AutoTokenizer\n",
    "import torch"
   ]
  },
  {
   "cell_type": "code",
   "execution_count": 2,
   "metadata": {},
   "outputs": [],
   "source": [
    "os.chdir(\"../../\")"
   ]
  },
  {
   "cell_type": "code",
   "execution_count": 3,
   "metadata": {},
   "outputs": [],
   "source": [
    "from lib.config import config\n",
    "from lib.paths import Paths\n",
    "from lib.utils.utils import seed_everything\n",
    "from lib.data_tools.feature_engineering import (\n",
    "    process_paragraph,\n",
    "    paragraph_feature_engineering,\n",
    "    process_sentence,\n",
    "    sentence_feature_engineering,\n",
    ")\n",
    "from lib.data_tools.word_feature_engineering import engineer_word_features\n",
    "from lib.data_tools.grammar_feature_engineering import engineer_grammar_feature\n",
    "from lib.model.inference import ensemble_inference\n",
    "from lib.data_tools.data import sliding_window"
   ]
  },
  {
   "cell_type": "code",
   "execution_count": 4,
   "metadata": {},
   "outputs": [],
   "source": [
    "seed_everything()"
   ]
  },
  {
   "cell_type": "markdown",
   "metadata": {},
   "source": [
    "## Data Preparation"
   ]
  },
  {
   "cell_type": "markdown",
   "metadata": {},
   "source": [
    "### Data Loading"
   ]
  },
  {
   "cell_type": "code",
   "execution_count": 5,
   "metadata": {},
   "outputs": [
    {
     "data": {
      "text/plain": [
       "(17307, 3)"
      ]
     },
     "execution_count": 5,
     "metadata": {},
     "output_type": "execute_result"
    }
   ],
   "source": [
    "train_df = pd.read_csv(Paths.COMPETITION_TRAIN_CSV_PATH)\n",
    "train_df.shape"
   ]
  },
  {
   "cell_type": "markdown",
   "metadata": {},
   "source": [
    "### Feature Engineerings"
   ]
  },
  {
   "cell_type": "markdown",
   "metadata": {},
   "source": [
    "#### Paragraph Level"
   ]
  },
  {
   "cell_type": "code",
   "execution_count": 6,
   "metadata": {},
   "outputs": [],
   "source": [
    "paragraph_csv_path = os.path.join(Paths.ROOT_FEATURE_PATH, \"paragraphs.csv\")"
   ]
  },
  {
   "cell_type": "code",
   "execution_count": 7,
   "metadata": {},
   "outputs": [],
   "source": [
    "if not os.path.exists(paragraph_csv_path):\n",
    "    paragraph_features = process_paragraph(train_df.copy(deep=True))\n",
    "    assert paragraph_features.essay_id.unique().shape == train_df.essay_id.unique().shape\n",
    "    print(paragraph_features.shape)\n",
    "    paragraph_features.to_csv(paragraph_csv_path, index=False)\n",
    "else:\n",
    "    paragraph_features = pd.read_csv(paragraph_csv_path)"
   ]
  },
  {
   "cell_type": "code",
   "execution_count": 8,
   "metadata": {},
   "outputs": [
    {
     "data": {
      "text/plain": [
       "(17307, 37)"
      ]
     },
     "execution_count": 8,
     "metadata": {},
     "output_type": "execute_result"
    }
   ],
   "source": [
    "paragraph_features = paragraph_feature_engineering(paragraph_features)\n",
    "assert paragraph_features.essay_id.unique().shape == train_df.essay_id.unique().shape\n",
    "paragraph_features.shape"
   ]
  },
  {
   "cell_type": "markdown",
   "metadata": {},
   "source": [
    "#### Sentence Level"
   ]
  },
  {
   "cell_type": "code",
   "execution_count": 9,
   "metadata": {},
   "outputs": [],
   "source": [
    "sentence_csv_path = os.path.join(Paths.ROOT_FEATURE_PATH, \"sentences.csv\")"
   ]
  },
  {
   "cell_type": "code",
   "execution_count": 10,
   "metadata": {},
   "outputs": [],
   "source": [
    "if not os.path.exists(sentence_csv_path):\n",
    "    sentence_features = process_sentence(train_df.copy(deep=True))\n",
    "    assert sentence_features.essay_id.unique().shape == train_df.essay_id.unique().shape\n",
    "    print(sentence_features.shape)\n",
    "    sentence_features.to_csv(sentence_csv_path, index=False)\n",
    "else:\n",
    "    sentence_features = pd.read_csv(sentence_csv_path)"
   ]
  },
  {
   "cell_type": "code",
   "execution_count": 11,
   "metadata": {},
   "outputs": [
    {
     "data": {
      "text/plain": [
       "(17307, 32)"
      ]
     },
     "execution_count": 11,
     "metadata": {},
     "output_type": "execute_result"
    }
   ],
   "source": [
    "sentence_features = sentence_feature_engineering(sentence_features)\n",
    "assert sentence_features.essay_id.unique().shape == train_df.essay_id.unique().shape\n",
    "sentence_features.shape"
   ]
  },
  {
   "cell_type": "markdown",
   "metadata": {},
   "source": [
    "### Word Features"
   ]
  },
  {
   "cell_type": "code",
   "execution_count": 12,
   "metadata": {},
   "outputs": [],
   "source": [
    "word_csv_path = os.path.join(Paths.ROOT_FEATURE_PATH, \"word.csv\")"
   ]
  },
  {
   "cell_type": "code",
   "execution_count": 13,
   "metadata": {},
   "outputs": [
    {
     "name": "stdout",
     "output_type": "stream",
     "text": [
      "(17307, 9)\n"
     ]
    }
   ],
   "source": [
    "if not os.path.exists(word_csv_path):\n",
    "    word_features = engineer_word_features(train_df.copy(deep=True))\n",
    "    assert word_features.essay_id.unique().shape == word_features.essay_id.unique().shape\n",
    "    print(word_features.shape)\n",
    "    word_features.to_csv(word_csv_path, index=False)\n",
    "else:\n",
    "    word_features = pd.read_csv(word_csv_path)"
   ]
  },
  {
   "cell_type": "markdown",
   "metadata": {},
   "source": [
    "#### DeBERTA Predictions\n",
    "\n",
    "Predictions made using DeBERTA models"
   ]
  },
  {
   "cell_type": "code",
   "execution_count": 14,
   "metadata": {},
   "outputs": [],
   "source": [
    "deberta_csv_path = os.path.join(Paths.ROOT_FEATURE_PATH, \"deberta.csv\")"
   ]
  },
  {
   "cell_type": "code",
   "execution_count": 15,
   "metadata": {},
   "outputs": [],
   "source": [
    "if not os.path.exists(deberta_csv_path):\n",
    "    tokenizer = AutoTokenizer.from_pretrained(Paths.TOKENIZER_PATH)\n",
    "    root_model_path = \"output/microsoft/deberta-v3-large\"\n",
    "    model_paths = {\n",
    "        os.path.join(root_model_path, f\"microsoft_deberta-v3-large_fold_{f}_best.pth\"): 1 / config.n_folds\n",
    "        for f in range(config.n_folds)\n",
    "    }\n",
    "    model_paths\n",
    "    device = torch.device('cuda' if torch.cuda.is_available() else 'cpu')\n",
    "    df = sliding_window(train_df.copy(deep=True), tokenizer)\n",
    "    deberta_features = ensemble_inference(\n",
    "        df,\n",
    "        tokenizer,\n",
    "        model_paths,\n",
    "        device,\n",
    "        logits=True,\n",
    "        overall=True,\n",
    "        model_wise_reduction=False,\n",
    "    )\n",
    "    assert deberta_features.essay_id.unique().shape == train_df.essay_id.unique().shape\n",
    "    print(deberta_features.shape)\n",
    "    deberta_features.to_csv(deberta_csv_path, index=False)\n",
    "else:\n",
    "    deberta_features = pd.read_csv(deberta_csv_path)"
   ]
  },
  {
   "cell_type": "markdown",
   "metadata": {},
   "source": [
    "### Grammar Features"
   ]
  },
  {
   "cell_type": "code",
   "execution_count": 6,
   "metadata": {},
   "outputs": [],
   "source": [
    "grammar_csv_path = os.path.join(Paths.ROOT_FEATURE_PATH, \"grammar_scores.csv\")"
   ]
  },
  {
   "cell_type": "code",
   "execution_count": 7,
   "metadata": {},
   "outputs": [
    {
     "name": "stdout",
     "output_type": "stream",
     "text": [
      "(17307, 29)\n"
     ]
    }
   ],
   "source": [
    "if not os.path.exists(grammar_csv_path):\n",
    "    grammar_features = pd.read_csv(\"data/feature_engg/grammar_correct.csv\")\n",
    "    grammar_features = engineer_grammar_feature(grammar_features)\n",
    "    assert grammar_features.essay_id.unique().shape == train_df.essay_id.unique().shape\n",
    "    print(grammar_features.shape)\n",
    "    grammar_features.to_csv(grammar_csv_path, index=False)\n",
    "else:\n",
    "    grammar_features = pd.read_csv(grammar_csv_path)"
   ]
  },
  {
   "cell_type": "markdown",
   "metadata": {},
   "source": [
    "#### Combining Features"
   ]
  },
  {
   "cell_type": "code",
   "execution_count": 18,
   "metadata": {},
   "outputs": [
    {
     "data": {
      "text/plain": [
       "(17307, 147)"
      ]
     },
     "execution_count": 18,
     "metadata": {},
     "output_type": "execute_result"
    }
   ],
   "source": [
    "feature_df_list = [\n",
    "    paragraph_features,\n",
    "    sentence_features,\n",
    "    word_features,\n",
    "    grammar_features,\n",
    "]\n",
    "\n",
    "all_features = deberta_features.copy(deep=True)\n",
    "\n",
    "for feature_df in feature_df_list:\n",
    "    all_features = pd.merge(all_features, feature_df, on=\"essay_id\")\n",
    "\n",
    "all_features = pd.merge(all_features, train_df[[\"essay_id\", \"score\"]], on=\"essay_id\")\n",
    "assert all_features.essay_id.unique().shape == train_df.essay_id.unique().shape\n",
    "all_features.shape"
   ]
  },
  {
   "cell_type": "code",
   "execution_count": 19,
   "metadata": {},
   "outputs": [],
   "source": [
    "all_features.to_csv(Paths.FEATURE_ENGG_CSV_PATH, index=False)"
   ]
  },
  {
   "cell_type": "code",
   "execution_count": 21,
   "metadata": {},
   "outputs": [
    {
     "data": {
      "text/plain": [
       "['essay_id',\n",
       " 'deberta_m0_c0',\n",
       " 'deberta_m0_c1',\n",
       " 'deberta_m0_c2',\n",
       " 'deberta_m0_c3',\n",
       " 'deberta_m0_c4',\n",
       " 'deberta_m0_c5',\n",
       " 'deberta_m1_c0',\n",
       " 'deberta_m1_c1',\n",
       " 'deberta_m1_c2',\n",
       " 'deberta_m1_c3',\n",
       " 'deberta_m1_c4',\n",
       " 'deberta_m1_c5',\n",
       " 'deberta_m2_c0',\n",
       " 'deberta_m2_c1',\n",
       " 'deberta_m2_c2',\n",
       " 'deberta_m2_c3',\n",
       " 'deberta_m2_c4',\n",
       " 'deberta_m2_c5',\n",
       " 'deberta_m3_c0',\n",
       " 'deberta_m3_c1',\n",
       " 'deberta_m3_c2',\n",
       " 'deberta_m3_c3',\n",
       " 'deberta_m3_c4',\n",
       " 'deberta_m3_c5',\n",
       " 'deberta_m4_c0',\n",
       " 'deberta_m4_c1',\n",
       " 'deberta_m4_c2',\n",
       " 'deberta_m4_c3',\n",
       " 'deberta_m4_c4',\n",
       " 'deberta_m4_c5',\n",
       " 'deberta_m5_c0',\n",
       " 'deberta_m5_c1',\n",
       " 'deberta_m5_c2',\n",
       " 'deberta_m5_c3',\n",
       " 'deberta_m5_c4',\n",
       " 'deberta_m5_c5',\n",
       " 'deberta_m6_c0',\n",
       " 'deberta_m6_c1',\n",
       " 'deberta_m6_c2',\n",
       " 'deberta_m6_c3',\n",
       " 'deberta_m6_c4',\n",
       " 'deberta_m6_c5',\n",
       " 'paragraph_error_count_mean',\n",
       " 'paragraph_error_count_max',\n",
       " 'paragraph_error_count_sum',\n",
       " 'paragraph_char_count_mean',\n",
       " 'paragraph_char_count_max',\n",
       " 'paragraph_char_count_sum',\n",
       " 'paragraph_word_count_mean',\n",
       " 'paragraph_word_count_max',\n",
       " 'paragraph_word_count_sum',\n",
       " 'paragraph_sentence_count_mean',\n",
       " 'paragraph_sentence_count_max',\n",
       " 'paragraph_sentence_count_sum',\n",
       " 'paragraph_error_count_q1',\n",
       " 'paragraph_error_count_q3',\n",
       " 'paragraph_char_count_q1',\n",
       " 'paragraph_char_count_q3',\n",
       " 'paragraph_word_count_q1',\n",
       " 'paragraph_word_count_q3',\n",
       " 'paragraph_sentence_count_q1',\n",
       " 'paragraph_sentence_count_q3',\n",
       " 'paragraph_sentence_count_len_l_1',\n",
       " 'paragraph_sentence_count_len_goe_1',\n",
       " 'paragraph_sentence_count_len_l_6',\n",
       " 'paragraph_sentence_count_len_goe_6',\n",
       " 'paragraph_sentence_count_len_l_11',\n",
       " 'paragraph_sentence_count_len_goe_11',\n",
       " 'paragraph_sentence_count_len_l_16',\n",
       " 'paragraph_sentence_count_len_goe_16',\n",
       " 'paragraph_error_count_len_l_1',\n",
       " 'paragraph_error_count_len_goe_1',\n",
       " 'paragraph_error_count_len_l_6',\n",
       " 'paragraph_error_count_len_goe_6',\n",
       " 'paragraph_error_count_len_l_11',\n",
       " 'paragraph_error_count_len_goe_11',\n",
       " 'paragraph_error_count_len_l_16',\n",
       " 'paragraph_error_count_len_goe_16',\n",
       " 'sentence_error_count_mean',\n",
       " 'sentence_error_count_max',\n",
       " 'sentence_error_count_sum',\n",
       " 'sentence_char_count_mean',\n",
       " 'sentence_char_count_max',\n",
       " 'sentence_char_count_sum',\n",
       " 'sentence_word_count_mean',\n",
       " 'sentence_word_count_max',\n",
       " 'sentence_word_count_sum',\n",
       " 'sentence_error_count_q1',\n",
       " 'sentence_error_count_q3',\n",
       " 'sentence_char_count_q1',\n",
       " 'sentence_char_count_q3',\n",
       " 'sentence_word_count_q1',\n",
       " 'sentence_word_count_q3',\n",
       " 'sentence_word_count_len_l_1',\n",
       " 'sentence_word_count_len_goe_1',\n",
       " 'sentence_word_count_len_l_6',\n",
       " 'sentence_word_count_len_goe_6',\n",
       " 'sentence_word_count_len_l_11',\n",
       " 'sentence_word_count_len_goe_11',\n",
       " 'sentence_word_count_len_l_16',\n",
       " 'sentence_word_count_len_goe_16',\n",
       " 'sentence_error_count_len_l_1',\n",
       " 'sentence_error_count_len_goe_1',\n",
       " 'sentence_error_count_len_l_6',\n",
       " 'sentence_error_count_len_goe_6',\n",
       " 'sentence_error_count_len_l_11',\n",
       " 'sentence_error_count_len_goe_11',\n",
       " 'sentence_error_count_len_l_16',\n",
       " 'sentence_error_count_len_goe_16',\n",
       " 'word_common_percentage',\n",
       " 'word_rare_percentage',\n",
       " 'word_mistake_percentage',\n",
       " 'word_scrabble_scores',\n",
       " 'word_consonent_score',\n",
       " 'word_syllable_score',\n",
       " 'word_unique_syllable_score',\n",
       " 'word_syllable_rarity_score',\n",
       " 'grammar_levenshtein_distance_mean',\n",
       " 'grammar_levenshtein_distance_max',\n",
       " 'grammar_levenshtein_distance_sum',\n",
       " 'grammar_levenshtein_distance_min',\n",
       " 'grammar_levenshtein_distance_median',\n",
       " 'grammar_jaccard_distance_mean',\n",
       " 'grammar_jaccard_distance_max',\n",
       " 'grammar_jaccard_distance_sum',\n",
       " 'grammar_jaccard_distance_min',\n",
       " 'grammar_jaccard_distance_median',\n",
       " 'grammar_hamming_distance_mean',\n",
       " 'grammar_hamming_distance_max',\n",
       " 'grammar_hamming_distance_sum',\n",
       " 'grammar_hamming_distance_min',\n",
       " 'grammar_hamming_distance_median',\n",
       " 'grammar_cosine_distance_mean',\n",
       " 'grammar_cosine_distance_max',\n",
       " 'grammar_cosine_distance_sum',\n",
       " 'grammar_cosine_distance_min',\n",
       " 'grammar_cosine_distance_median',\n",
       " 'grammar_levenshtein_distance_q1',\n",
       " 'grammar_levenshtein_distance_q3',\n",
       " 'grammar_jaccard_distance_q1',\n",
       " 'grammar_jaccard_distance_q3',\n",
       " 'grammar_hamming_distance_q1',\n",
       " 'grammar_hamming_distance_q3',\n",
       " 'grammar_cosine_distance_q1',\n",
       " 'grammar_cosine_distance_q3',\n",
       " 'score']"
      ]
     },
     "execution_count": 21,
     "metadata": {},
     "output_type": "execute_result"
    }
   ],
   "source": [
    "all_features.columns.to_list()"
   ]
  }
 ],
 "metadata": {
  "kernelspec": {
   "display_name": "Python 3 (ipykernel)",
   "language": "python",
   "name": "python3"
  },
  "language_info": {
   "codemirror_mode": {
    "name": "ipython",
    "version": 3
   },
   "file_extension": ".py",
   "mimetype": "text/x-python",
   "name": "python",
   "nbconvert_exporter": "python",
   "pygments_lexer": "ipython3",
   "version": "3.11.8"
  }
 },
 "nbformat": 4,
 "nbformat_minor": 4
}
