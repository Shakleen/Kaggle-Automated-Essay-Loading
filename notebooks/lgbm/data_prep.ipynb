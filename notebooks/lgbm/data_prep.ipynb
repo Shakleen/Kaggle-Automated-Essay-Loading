{
 "cells": [
  {
   "cell_type": "markdown",
   "metadata": {},
   "source": [
    "# LGBM - Data Preparation"
   ]
  },
  {
   "cell_type": "markdown",
   "metadata": {},
   "source": [
    "## Setup"
   ]
  },
  {
   "cell_type": "code",
   "execution_count": 1,
   "metadata": {},
   "outputs": [],
   "source": [
    "import os\n",
    "import pandas as pd\n",
    "import numpy as np\n",
    "import pickle as pkl\n",
    "from sklearn.feature_extraction.text import TfidfVectorizer, CountVectorizer\n",
    "from transformers import AutoTokenizer\n",
    "import torch"
   ]
  },
  {
   "cell_type": "code",
   "execution_count": 2,
   "metadata": {},
   "outputs": [],
   "source": [
    "os.chdir(\"../../\")"
   ]
  },
  {
   "cell_type": "code",
   "execution_count": 3,
   "metadata": {},
   "outputs": [],
   "source": [
    "from lib.config import config\n",
    "from lib.paths import Paths\n",
    "from lib.utils.utils import seed_everything\n",
    "from lib.data_tools.feature_engineering import (\n",
    "    process_paragraph,\n",
    "    paragraph_feature_engineering,\n",
    "    process_sentence,\n",
    "    sentence_feature_engineering,\n",
    "    process_word,\n",
    "    word_feature_engineering,\n",
    "    generate_tfidf_features,\n",
    "    generate_count_features,\n",
    ")\n",
    "from lib.model.inference import ensemble_inference\n",
    "from lib.data_tools.data import sliding_window"
   ]
  },
  {
   "cell_type": "code",
   "execution_count": 4,
   "metadata": {},
   "outputs": [],
   "source": [
    "seed_everything()"
   ]
  },
  {
   "cell_type": "markdown",
   "metadata": {},
   "source": [
    "## Data Preparation"
   ]
  },
  {
   "cell_type": "markdown",
   "metadata": {},
   "source": [
    "### Data Loading"
   ]
  },
  {
   "cell_type": "code",
   "execution_count": 5,
   "metadata": {},
   "outputs": [
    {
     "data": {
      "text/plain": [
       "(17307, 3)"
      ]
     },
     "execution_count": 5,
     "metadata": {},
     "output_type": "execute_result"
    }
   ],
   "source": [
    "train_df = pd.read_csv(Paths.COMPETITION_TRAIN_CSV_PATH)\n",
    "train_df.shape"
   ]
  },
  {
   "cell_type": "markdown",
   "metadata": {},
   "source": [
    "### Feature Engineerings"
   ]
  },
  {
   "cell_type": "markdown",
   "metadata": {},
   "source": [
    "#### Paragraph Level"
   ]
  },
  {
   "cell_type": "code",
   "execution_count": 6,
   "metadata": {},
   "outputs": [
    {
     "data": {
      "text/plain": [
       "(85934, 9)"
      ]
     },
     "execution_count": 6,
     "metadata": {},
     "output_type": "execute_result"
    }
   ],
   "source": [
    "paragraph_features = process_paragraph(train_df.copy(deep=True))\n",
    "paragraph_features.shape"
   ]
  },
  {
   "cell_type": "code",
   "execution_count": 7,
   "metadata": {},
   "outputs": [
    {
     "data": {
      "text/html": [
       "<div>\n",
       "<style scoped>\n",
       "    .dataframe tbody tr th:only-of-type {\n",
       "        vertical-align: middle;\n",
       "    }\n",
       "\n",
       "    .dataframe tbody tr th {\n",
       "        vertical-align: top;\n",
       "    }\n",
       "\n",
       "    .dataframe thead th {\n",
       "        text-align: right;\n",
       "    }\n",
       "</style>\n",
       "<table border=\"1\" class=\"dataframe\">\n",
       "  <thead>\n",
       "    <tr style=\"text-align: right;\">\n",
       "      <th></th>\n",
       "      <th>essay_id</th>\n",
       "      <th>full_text</th>\n",
       "      <th>score</th>\n",
       "      <th>paragraph</th>\n",
       "      <th>paragraph_no_punctuation</th>\n",
       "      <th>paragraph_error_count</th>\n",
       "      <th>paragraph_char_count</th>\n",
       "      <th>paragraph_word_count</th>\n",
       "      <th>paragraph_sentence_count</th>\n",
       "    </tr>\n",
       "  </thead>\n",
       "  <tbody>\n",
       "    <tr>\n",
       "      <th>12725</th>\n",
       "      <td>bbc0087</td>\n",
       "      <td>The development of driverless cars should be a...</td>\n",
       "      <td>4</td>\n",
       "      <td>in just a few years, with manufacturers making...</td>\n",
       "      <td>in just a few years with manufacturers making ...</td>\n",
       "      <td>0</td>\n",
       "      <td>150</td>\n",
       "      <td>23</td>\n",
       "      <td>1</td>\n",
       "    </tr>\n",
       "    <tr>\n",
       "      <th>5194</th>\n",
       "      <td>4d8bb17</td>\n",
       "      <td>When you say that the face on mars is an alien...</td>\n",
       "      <td>3</td>\n",
       "      <td>when you say that the face on mars is an alien...</td>\n",
       "      <td>when you say that the face on mars is an alien...</td>\n",
       "      <td>1</td>\n",
       "      <td>244</td>\n",
       "      <td>55</td>\n",
       "      <td>5</td>\n",
       "    </tr>\n",
       "    <tr>\n",
       "      <th>13746</th>\n",
       "      <td>c9d4074</td>\n",
       "      <td>Driverless cars are quickly becoming a reality...</td>\n",
       "      <td>4</td>\n",
       "      <td>the focus should be on teaching people to driv...</td>\n",
       "      <td>the focus should be on teaching people to driv...</td>\n",
       "      <td>0</td>\n",
       "      <td>148</td>\n",
       "      <td>27</td>\n",
       "      <td>1</td>\n",
       "    </tr>\n",
       "  </tbody>\n",
       "</table>\n",
       "</div>"
      ],
      "text/plain": [
       "      essay_id                                          full_text  score  \\\n",
       "12725  bbc0087  The development of driverless cars should be a...      4   \n",
       "5194   4d8bb17  When you say that the face on mars is an alien...      3   \n",
       "13746  c9d4074  Driverless cars are quickly becoming a reality...      4   \n",
       "\n",
       "                                               paragraph  \\\n",
       "12725  in just a few years, with manufacturers making...   \n",
       "5194   when you say that the face on mars is an alien...   \n",
       "13746  the focus should be on teaching people to driv...   \n",
       "\n",
       "                                paragraph_no_punctuation  \\\n",
       "12725  in just a few years with manufacturers making ...   \n",
       "5194   when you say that the face on mars is an alien...   \n",
       "13746  the focus should be on teaching people to driv...   \n",
       "\n",
       "       paragraph_error_count  paragraph_char_count  paragraph_word_count  \\\n",
       "12725                      0                   150                    23   \n",
       "5194                       1                   244                    55   \n",
       "13746                      0                   148                    27   \n",
       "\n",
       "       paragraph_sentence_count  \n",
       "12725                         1  \n",
       "5194                          5  \n",
       "13746                         1  "
      ]
     },
     "execution_count": 7,
     "metadata": {},
     "output_type": "execute_result"
    }
   ],
   "source": [
    "paragraph_features.sample(3)"
   ]
  },
  {
   "cell_type": "code",
   "execution_count": 8,
   "metadata": {},
   "outputs": [],
   "source": [
    "assert paragraph_features.essay_id.unique().shape == train_df.essay_id.unique().shape"
   ]
  },
  {
   "cell_type": "code",
   "execution_count": 9,
   "metadata": {},
   "outputs": [
    {
     "name": "stderr",
     "output_type": "stream",
     "text": [
      "/media/ishfar/New Volume/Studies/Projects/Kaggle-Automated-Essay-Scoring/lib/data_tools/feature_engineering.py:150: RuntimeWarning: Precision loss occurred in moment calculation due to catastrophic cancellation. This occurs when the data are nearly identical. Results may be unreliable.\n",
      "  lambda x: kurtosis(x),\n"
     ]
    },
    {
     "data": {
      "text/plain": [
       "(17307, 125)"
      ]
     },
     "execution_count": 9,
     "metadata": {},
     "output_type": "execute_result"
    }
   ],
   "source": [
    "paragraph_features = paragraph_feature_engineering(paragraph_features)\n",
    "paragraph_features.shape"
   ]
  },
  {
   "cell_type": "code",
   "execution_count": 10,
   "metadata": {},
   "outputs": [
    {
     "data": {
      "text/plain": [
       "['essay_id',\n",
       " 'paragraph_error_count_mean',\n",
       " 'paragraph_error_count_min',\n",
       " 'paragraph_error_count_max',\n",
       " 'paragraph_error_count_sum',\n",
       " 'paragraph_error_count_first',\n",
       " 'paragraph_error_count_last',\n",
       " 'paragraph_char_count_mean',\n",
       " 'paragraph_char_count_min',\n",
       " 'paragraph_char_count_max',\n",
       " 'paragraph_char_count_sum',\n",
       " 'paragraph_char_count_first',\n",
       " 'paragraph_char_count_last',\n",
       " 'paragraph_word_count_mean',\n",
       " 'paragraph_word_count_min',\n",
       " 'paragraph_word_count_max',\n",
       " 'paragraph_word_count_sum',\n",
       " 'paragraph_word_count_first',\n",
       " 'paragraph_word_count_last',\n",
       " 'paragraph_sentence_count_mean',\n",
       " 'paragraph_sentence_count_min',\n",
       " 'paragraph_sentence_count_max',\n",
       " 'paragraph_sentence_count_sum',\n",
       " 'paragraph_sentence_count_first',\n",
       " 'paragraph_sentence_count_last',\n",
       " 'paragraph_error_count_q1',\n",
       " 'paragraph_error_count_q3',\n",
       " 'paragraph_error_count_kurtosis',\n",
       " 'paragraph_char_count_q1',\n",
       " 'paragraph_char_count_q3',\n",
       " 'paragraph_char_count_kurtosis',\n",
       " 'paragraph_word_count_q1',\n",
       " 'paragraph_word_count_q3',\n",
       " 'paragraph_word_count_kurtosis',\n",
       " 'paragraph_sentence_count_q1',\n",
       " 'paragraph_sentence_count_q3',\n",
       " 'paragraph_sentence_count_kurtosis',\n",
       " 'paragraph_char_count_len_l_50',\n",
       " 'paragraph_char_count_len_goe_50',\n",
       " 'paragraph_char_count_len_l_100',\n",
       " 'paragraph_char_count_len_goe_100',\n",
       " 'paragraph_char_count_len_l_150',\n",
       " 'paragraph_char_count_len_goe_150',\n",
       " 'paragraph_char_count_len_l_200',\n",
       " 'paragraph_char_count_len_goe_200',\n",
       " 'paragraph_char_count_len_l_250',\n",
       " 'paragraph_char_count_len_goe_250',\n",
       " 'paragraph_char_count_len_l_300',\n",
       " 'paragraph_char_count_len_goe_300',\n",
       " 'paragraph_char_count_len_l_350',\n",
       " 'paragraph_char_count_len_goe_350',\n",
       " 'paragraph_char_count_len_l_400',\n",
       " 'paragraph_char_count_len_goe_400',\n",
       " 'paragraph_char_count_len_l_450',\n",
       " 'paragraph_char_count_len_goe_450',\n",
       " 'paragraph_char_count_len_l_500',\n",
       " 'paragraph_char_count_len_goe_500',\n",
       " 'paragraph_char_count_len_l_550',\n",
       " 'paragraph_char_count_len_goe_550',\n",
       " 'paragraph_char_count_len_l_600',\n",
       " 'paragraph_char_count_len_goe_600',\n",
       " 'paragraph_char_count_len_l_650',\n",
       " 'paragraph_char_count_len_goe_650',\n",
       " 'paragraph_char_count_len_l_700',\n",
       " 'paragraph_char_count_len_goe_700',\n",
       " 'paragraph_word_count_len_l_50',\n",
       " 'paragraph_word_count_len_goe_50',\n",
       " 'paragraph_word_count_len_l_100',\n",
       " 'paragraph_word_count_len_goe_100',\n",
       " 'paragraph_word_count_len_l_150',\n",
       " 'paragraph_word_count_len_goe_150',\n",
       " 'paragraph_word_count_len_l_200',\n",
       " 'paragraph_word_count_len_goe_200',\n",
       " 'paragraph_word_count_len_l_250',\n",
       " 'paragraph_word_count_len_goe_250',\n",
       " 'paragraph_word_count_len_l_300',\n",
       " 'paragraph_word_count_len_goe_300',\n",
       " 'paragraph_word_count_len_l_350',\n",
       " 'paragraph_word_count_len_goe_350',\n",
       " 'paragraph_word_count_len_l_400',\n",
       " 'paragraph_word_count_len_goe_400',\n",
       " 'paragraph_word_count_len_l_450',\n",
       " 'paragraph_word_count_len_goe_450',\n",
       " 'paragraph_word_count_len_l_500',\n",
       " 'paragraph_word_count_len_goe_500',\n",
       " 'paragraph_sentence_count_len_l_5',\n",
       " 'paragraph_sentence_count_len_goe_5',\n",
       " 'paragraph_sentence_count_len_l_10',\n",
       " 'paragraph_sentence_count_len_goe_10',\n",
       " 'paragraph_sentence_count_len_l_15',\n",
       " 'paragraph_sentence_count_len_goe_15',\n",
       " 'paragraph_sentence_count_len_l_20',\n",
       " 'paragraph_sentence_count_len_goe_20',\n",
       " 'paragraph_sentence_count_len_l_25',\n",
       " 'paragraph_sentence_count_len_goe_25',\n",
       " 'paragraph_sentence_count_len_l_30',\n",
       " 'paragraph_sentence_count_len_goe_30',\n",
       " 'paragraph_sentence_count_len_l_35',\n",
       " 'paragraph_sentence_count_len_goe_35',\n",
       " 'paragraph_sentence_count_len_l_40',\n",
       " 'paragraph_sentence_count_len_goe_40',\n",
       " 'paragraph_sentence_count_len_l_45',\n",
       " 'paragraph_sentence_count_len_goe_45',\n",
       " 'paragraph_sentence_count_len_l_50',\n",
       " 'paragraph_sentence_count_len_goe_50',\n",
       " 'paragraph_error_count_len_l_5',\n",
       " 'paragraph_error_count_len_goe_5',\n",
       " 'paragraph_error_count_len_l_10',\n",
       " 'paragraph_error_count_len_goe_10',\n",
       " 'paragraph_error_count_len_l_15',\n",
       " 'paragraph_error_count_len_goe_15',\n",
       " 'paragraph_error_count_len_l_20',\n",
       " 'paragraph_error_count_len_goe_20',\n",
       " 'paragraph_error_count_len_l_25',\n",
       " 'paragraph_error_count_len_goe_25',\n",
       " 'paragraph_error_count_len_l_30',\n",
       " 'paragraph_error_count_len_goe_30',\n",
       " 'paragraph_error_count_len_l_35',\n",
       " 'paragraph_error_count_len_goe_35',\n",
       " 'paragraph_error_count_len_l_40',\n",
       " 'paragraph_error_count_len_goe_40',\n",
       " 'paragraph_error_count_len_l_45',\n",
       " 'paragraph_error_count_len_goe_45',\n",
       " 'paragraph_error_count_len_l_50',\n",
       " 'paragraph_error_count_len_goe_50']"
      ]
     },
     "execution_count": 10,
     "metadata": {},
     "output_type": "execute_result"
    }
   ],
   "source": [
    "paragraph_features.columns.to_list()"
   ]
  },
  {
   "cell_type": "code",
   "execution_count": 11,
   "metadata": {},
   "outputs": [
    {
     "data": {
      "text/html": [
       "<div>\n",
       "<style scoped>\n",
       "    .dataframe tbody tr th:only-of-type {\n",
       "        vertical-align: middle;\n",
       "    }\n",
       "\n",
       "    .dataframe tbody tr th {\n",
       "        vertical-align: top;\n",
       "    }\n",
       "\n",
       "    .dataframe thead th {\n",
       "        text-align: right;\n",
       "    }\n",
       "</style>\n",
       "<table border=\"1\" class=\"dataframe\">\n",
       "  <thead>\n",
       "    <tr style=\"text-align: right;\">\n",
       "      <th></th>\n",
       "      <th>essay_id</th>\n",
       "      <th>paragraph_error_count_mean</th>\n",
       "      <th>paragraph_error_count_min</th>\n",
       "      <th>paragraph_error_count_max</th>\n",
       "      <th>paragraph_error_count_sum</th>\n",
       "      <th>paragraph_error_count_first</th>\n",
       "      <th>paragraph_error_count_last</th>\n",
       "      <th>paragraph_char_count_mean</th>\n",
       "      <th>paragraph_char_count_min</th>\n",
       "      <th>paragraph_char_count_max</th>\n",
       "      <th>...</th>\n",
       "      <th>paragraph_error_count_len_l_30</th>\n",
       "      <th>paragraph_error_count_len_goe_30</th>\n",
       "      <th>paragraph_error_count_len_l_35</th>\n",
       "      <th>paragraph_error_count_len_goe_35</th>\n",
       "      <th>paragraph_error_count_len_l_40</th>\n",
       "      <th>paragraph_error_count_len_goe_40</th>\n",
       "      <th>paragraph_error_count_len_l_45</th>\n",
       "      <th>paragraph_error_count_len_goe_45</th>\n",
       "      <th>paragraph_error_count_len_l_50</th>\n",
       "      <th>paragraph_error_count_len_goe_50</th>\n",
       "    </tr>\n",
       "  </thead>\n",
       "  <tbody>\n",
       "    <tr>\n",
       "      <th>10716</th>\n",
       "      <td>9e219bb</td>\n",
       "      <td>1.625000</td>\n",
       "      <td>0</td>\n",
       "      <td>7</td>\n",
       "      <td>13</td>\n",
       "      <td>0</td>\n",
       "      <td>0</td>\n",
       "      <td>215.500000</td>\n",
       "      <td>17</td>\n",
       "      <td>422</td>\n",
       "      <td>...</td>\n",
       "      <td>True</td>\n",
       "      <td>False</td>\n",
       "      <td>True</td>\n",
       "      <td>False</td>\n",
       "      <td>True</td>\n",
       "      <td>False</td>\n",
       "      <td>True</td>\n",
       "      <td>False</td>\n",
       "      <td>True</td>\n",
       "      <td>False</td>\n",
       "    </tr>\n",
       "    <tr>\n",
       "      <th>16341</th>\n",
       "      <td>f114047</td>\n",
       "      <td>7.500000</td>\n",
       "      <td>1</td>\n",
       "      <td>13</td>\n",
       "      <td>45</td>\n",
       "      <td>1</td>\n",
       "      <td>5</td>\n",
       "      <td>416.666667</td>\n",
       "      <td>128</td>\n",
       "      <td>699</td>\n",
       "      <td>...</td>\n",
       "      <td>True</td>\n",
       "      <td>False</td>\n",
       "      <td>True</td>\n",
       "      <td>False</td>\n",
       "      <td>True</td>\n",
       "      <td>False</td>\n",
       "      <td>True</td>\n",
       "      <td>False</td>\n",
       "      <td>True</td>\n",
       "      <td>False</td>\n",
       "    </tr>\n",
       "    <tr>\n",
       "      <th>9190</th>\n",
       "      <td>87c531e</td>\n",
       "      <td>2.833333</td>\n",
       "      <td>0</td>\n",
       "      <td>7</td>\n",
       "      <td>17</td>\n",
       "      <td>1</td>\n",
       "      <td>2</td>\n",
       "      <td>416.166667</td>\n",
       "      <td>44</td>\n",
       "      <td>1093</td>\n",
       "      <td>...</td>\n",
       "      <td>True</td>\n",
       "      <td>False</td>\n",
       "      <td>True</td>\n",
       "      <td>False</td>\n",
       "      <td>True</td>\n",
       "      <td>False</td>\n",
       "      <td>True</td>\n",
       "      <td>False</td>\n",
       "      <td>True</td>\n",
       "      <td>False</td>\n",
       "    </tr>\n",
       "  </tbody>\n",
       "</table>\n",
       "<p>3 rows × 125 columns</p>\n",
       "</div>"
      ],
      "text/plain": [
       "      essay_id  paragraph_error_count_mean  paragraph_error_count_min  \\\n",
       "10716  9e219bb                    1.625000                          0   \n",
       "16341  f114047                    7.500000                          1   \n",
       "9190   87c531e                    2.833333                          0   \n",
       "\n",
       "       paragraph_error_count_max  paragraph_error_count_sum  \\\n",
       "10716                          7                         13   \n",
       "16341                         13                         45   \n",
       "9190                           7                         17   \n",
       "\n",
       "       paragraph_error_count_first  paragraph_error_count_last  \\\n",
       "10716                            0                           0   \n",
       "16341                            1                           5   \n",
       "9190                             1                           2   \n",
       "\n",
       "       paragraph_char_count_mean  paragraph_char_count_min  \\\n",
       "10716                 215.500000                        17   \n",
       "16341                 416.666667                       128   \n",
       "9190                  416.166667                        44   \n",
       "\n",
       "       paragraph_char_count_max  ...  paragraph_error_count_len_l_30  \\\n",
       "10716                       422  ...                            True   \n",
       "16341                       699  ...                            True   \n",
       "9190                       1093  ...                            True   \n",
       "\n",
       "       paragraph_error_count_len_goe_30  paragraph_error_count_len_l_35  \\\n",
       "10716                             False                            True   \n",
       "16341                             False                            True   \n",
       "9190                              False                            True   \n",
       "\n",
       "       paragraph_error_count_len_goe_35  paragraph_error_count_len_l_40  \\\n",
       "10716                             False                            True   \n",
       "16341                             False                            True   \n",
       "9190                              False                            True   \n",
       "\n",
       "       paragraph_error_count_len_goe_40  paragraph_error_count_len_l_45  \\\n",
       "10716                             False                            True   \n",
       "16341                             False                            True   \n",
       "9190                              False                            True   \n",
       "\n",
       "       paragraph_error_count_len_goe_45  paragraph_error_count_len_l_50  \\\n",
       "10716                             False                            True   \n",
       "16341                             False                            True   \n",
       "9190                              False                            True   \n",
       "\n",
       "       paragraph_error_count_len_goe_50  \n",
       "10716                             False  \n",
       "16341                             False  \n",
       "9190                              False  \n",
       "\n",
       "[3 rows x 125 columns]"
      ]
     },
     "execution_count": 11,
     "metadata": {},
     "output_type": "execute_result"
    }
   ],
   "source": [
    "paragraph_features.sample(3)"
   ]
  },
  {
   "cell_type": "code",
   "execution_count": 12,
   "metadata": {},
   "outputs": [],
   "source": [
    "assert paragraph_features.essay_id.unique().shape == train_df.essay_id.unique().shape"
   ]
  },
  {
   "cell_type": "markdown",
   "metadata": {},
   "source": [
    "#### Sentence Level"
   ]
  },
  {
   "cell_type": "code",
   "execution_count": 13,
   "metadata": {},
   "outputs": [
    {
     "data": {
      "text/plain": [
       "(330422, 8)"
      ]
     },
     "execution_count": 13,
     "metadata": {},
     "output_type": "execute_result"
    }
   ],
   "source": [
    "sentence_features = process_sentence(train_df.copy(deep=True))\n",
    "sentence_features.shape"
   ]
  },
  {
   "cell_type": "code",
   "execution_count": 14,
   "metadata": {},
   "outputs": [],
   "source": [
    "assert sentence_features.essay_id.unique().shape == train_df.essay_id.unique().shape"
   ]
  },
  {
   "cell_type": "code",
   "execution_count": 15,
   "metadata": {},
   "outputs": [
    {
     "data": {
      "text/plain": [
       "['essay_id',\n",
       " 'full_text',\n",
       " 'score',\n",
       " 'sentence',\n",
       " 'sentence_no_punctuation',\n",
       " 'sentence_error_count',\n",
       " 'sentence_char_count',\n",
       " 'sentence_word_count']"
      ]
     },
     "execution_count": 15,
     "metadata": {},
     "output_type": "execute_result"
    }
   ],
   "source": [
    "sentence_features.columns.to_list()"
   ]
  },
  {
   "cell_type": "code",
   "execution_count": 16,
   "metadata": {},
   "outputs": [
    {
     "name": "stderr",
     "output_type": "stream",
     "text": [
      "/media/ishfar/New Volume/Studies/Projects/Kaggle-Automated-Essay-Scoring/lib/data_tools/feature_engineering.py:221: RuntimeWarning: Precision loss occurred in moment calculation due to catastrophic cancellation. This occurs when the data are nearly identical. Results may be unreliable.\n",
      "  lambda x: kurtosis(x),\n"
     ]
    },
    {
     "data": {
      "text/plain": [
       "(17307, 92)"
      ]
     },
     "execution_count": 16,
     "metadata": {},
     "output_type": "execute_result"
    }
   ],
   "source": [
    "sentence_features = sentence_feature_engineering(sentence_features)\n",
    "sentence_features.shape"
   ]
  },
  {
   "cell_type": "code",
   "execution_count": 17,
   "metadata": {},
   "outputs": [
    {
     "data": {
      "text/html": [
       "<div>\n",
       "<style scoped>\n",
       "    .dataframe tbody tr th:only-of-type {\n",
       "        vertical-align: middle;\n",
       "    }\n",
       "\n",
       "    .dataframe tbody tr th {\n",
       "        vertical-align: top;\n",
       "    }\n",
       "\n",
       "    .dataframe thead th {\n",
       "        text-align: right;\n",
       "    }\n",
       "</style>\n",
       "<table border=\"1\" class=\"dataframe\">\n",
       "  <thead>\n",
       "    <tr style=\"text-align: right;\">\n",
       "      <th></th>\n",
       "      <th>essay_id</th>\n",
       "      <th>sentence_error_count_mean</th>\n",
       "      <th>sentence_error_count_min</th>\n",
       "      <th>sentence_error_count_max</th>\n",
       "      <th>sentence_error_count_sum</th>\n",
       "      <th>sentence_error_count_first</th>\n",
       "      <th>sentence_error_count_last</th>\n",
       "      <th>sentence_char_count_mean</th>\n",
       "      <th>sentence_char_count_min</th>\n",
       "      <th>sentence_char_count_max</th>\n",
       "      <th>...</th>\n",
       "      <th>sentence_error_count_len_l_30</th>\n",
       "      <th>sentence_error_count_len_goe_30</th>\n",
       "      <th>sentence_error_count_len_l_35</th>\n",
       "      <th>sentence_error_count_len_goe_35</th>\n",
       "      <th>sentence_error_count_len_l_40</th>\n",
       "      <th>sentence_error_count_len_goe_40</th>\n",
       "      <th>sentence_error_count_len_l_45</th>\n",
       "      <th>sentence_error_count_len_goe_45</th>\n",
       "      <th>sentence_error_count_len_l_50</th>\n",
       "      <th>sentence_error_count_len_goe_50</th>\n",
       "    </tr>\n",
       "  </thead>\n",
       "  <tbody>\n",
       "    <tr>\n",
       "      <th>10166</th>\n",
       "      <td>9612d64</td>\n",
       "      <td>0.214286</td>\n",
       "      <td>0</td>\n",
       "      <td>2</td>\n",
       "      <td>6</td>\n",
       "      <td>0</td>\n",
       "      <td>0</td>\n",
       "      <td>89.107143</td>\n",
       "      <td>18</td>\n",
       "      <td>146</td>\n",
       "      <td>...</td>\n",
       "      <td>True</td>\n",
       "      <td>False</td>\n",
       "      <td>True</td>\n",
       "      <td>False</td>\n",
       "      <td>True</td>\n",
       "      <td>False</td>\n",
       "      <td>True</td>\n",
       "      <td>False</td>\n",
       "      <td>True</td>\n",
       "      <td>False</td>\n",
       "    </tr>\n",
       "    <tr>\n",
       "      <th>10215</th>\n",
       "      <td>96c77d6</td>\n",
       "      <td>0.103448</td>\n",
       "      <td>0</td>\n",
       "      <td>1</td>\n",
       "      <td>3</td>\n",
       "      <td>0</td>\n",
       "      <td>0</td>\n",
       "      <td>96.482759</td>\n",
       "      <td>39</td>\n",
       "      <td>189</td>\n",
       "      <td>...</td>\n",
       "      <td>True</td>\n",
       "      <td>False</td>\n",
       "      <td>True</td>\n",
       "      <td>False</td>\n",
       "      <td>True</td>\n",
       "      <td>False</td>\n",
       "      <td>True</td>\n",
       "      <td>False</td>\n",
       "      <td>True</td>\n",
       "      <td>False</td>\n",
       "    </tr>\n",
       "    <tr>\n",
       "      <th>3377</th>\n",
       "      <td>3217d6b</td>\n",
       "      <td>0.444444</td>\n",
       "      <td>0</td>\n",
       "      <td>2</td>\n",
       "      <td>8</td>\n",
       "      <td>1</td>\n",
       "      <td>0</td>\n",
       "      <td>76.777778</td>\n",
       "      <td>18</td>\n",
       "      <td>152</td>\n",
       "      <td>...</td>\n",
       "      <td>True</td>\n",
       "      <td>False</td>\n",
       "      <td>True</td>\n",
       "      <td>False</td>\n",
       "      <td>True</td>\n",
       "      <td>False</td>\n",
       "      <td>True</td>\n",
       "      <td>False</td>\n",
       "      <td>True</td>\n",
       "      <td>False</td>\n",
       "    </tr>\n",
       "  </tbody>\n",
       "</table>\n",
       "<p>3 rows × 92 columns</p>\n",
       "</div>"
      ],
      "text/plain": [
       "      essay_id  sentence_error_count_mean  sentence_error_count_min  \\\n",
       "10166  9612d64                   0.214286                         0   \n",
       "10215  96c77d6                   0.103448                         0   \n",
       "3377   3217d6b                   0.444444                         0   \n",
       "\n",
       "       sentence_error_count_max  sentence_error_count_sum  \\\n",
       "10166                         2                         6   \n",
       "10215                         1                         3   \n",
       "3377                          2                         8   \n",
       "\n",
       "       sentence_error_count_first  sentence_error_count_last  \\\n",
       "10166                           0                          0   \n",
       "10215                           0                          0   \n",
       "3377                            1                          0   \n",
       "\n",
       "       sentence_char_count_mean  sentence_char_count_min  \\\n",
       "10166                 89.107143                       18   \n",
       "10215                 96.482759                       39   \n",
       "3377                  76.777778                       18   \n",
       "\n",
       "       sentence_char_count_max  ...  sentence_error_count_len_l_30  \\\n",
       "10166                      146  ...                           True   \n",
       "10215                      189  ...                           True   \n",
       "3377                       152  ...                           True   \n",
       "\n",
       "       sentence_error_count_len_goe_30  sentence_error_count_len_l_35  \\\n",
       "10166                            False                           True   \n",
       "10215                            False                           True   \n",
       "3377                             False                           True   \n",
       "\n",
       "       sentence_error_count_len_goe_35  sentence_error_count_len_l_40  \\\n",
       "10166                            False                           True   \n",
       "10215                            False                           True   \n",
       "3377                             False                           True   \n",
       "\n",
       "       sentence_error_count_len_goe_40  sentence_error_count_len_l_45  \\\n",
       "10166                            False                           True   \n",
       "10215                            False                           True   \n",
       "3377                             False                           True   \n",
       "\n",
       "       sentence_error_count_len_goe_45  sentence_error_count_len_l_50  \\\n",
       "10166                            False                           True   \n",
       "10215                            False                           True   \n",
       "3377                             False                           True   \n",
       "\n",
       "       sentence_error_count_len_goe_50  \n",
       "10166                            False  \n",
       "10215                            False  \n",
       "3377                             False  \n",
       "\n",
       "[3 rows x 92 columns]"
      ]
     },
     "execution_count": 17,
     "metadata": {},
     "output_type": "execute_result"
    }
   ],
   "source": [
    "sentence_features.sample(3)"
   ]
  },
  {
   "cell_type": "code",
   "execution_count": 18,
   "metadata": {},
   "outputs": [],
   "source": [
    "assert sentence_features.essay_id.unique().shape == train_df.essay_id.unique().shape"
   ]
  },
  {
   "cell_type": "code",
   "execution_count": 19,
   "metadata": {},
   "outputs": [
    {
     "data": {
      "text/plain": [
       "['essay_id',\n",
       " 'sentence_error_count_mean',\n",
       " 'sentence_error_count_min',\n",
       " 'sentence_error_count_max',\n",
       " 'sentence_error_count_sum',\n",
       " 'sentence_error_count_first',\n",
       " 'sentence_error_count_last',\n",
       " 'sentence_char_count_mean',\n",
       " 'sentence_char_count_min',\n",
       " 'sentence_char_count_max',\n",
       " 'sentence_char_count_sum',\n",
       " 'sentence_char_count_first',\n",
       " 'sentence_char_count_last',\n",
       " 'sentence_word_count_mean',\n",
       " 'sentence_word_count_min',\n",
       " 'sentence_word_count_max',\n",
       " 'sentence_word_count_sum',\n",
       " 'sentence_word_count_first',\n",
       " 'sentence_word_count_last',\n",
       " 'sentence_error_count_q1',\n",
       " 'sentence_error_count_q3',\n",
       " 'sentence_error_count_kurtosis',\n",
       " 'sentence_char_count_q1',\n",
       " 'sentence_char_count_q3',\n",
       " 'sentence_char_count_kurtosis',\n",
       " 'sentence_word_count_q1',\n",
       " 'sentence_word_count_q3',\n",
       " 'sentence_word_count_kurtosis',\n",
       " 'sentence_char_count_len_l_25',\n",
       " 'sentence_char_count_len_goe_25',\n",
       " 'sentence_char_count_len_l_50',\n",
       " 'sentence_char_count_len_goe_50',\n",
       " 'sentence_char_count_len_l_75',\n",
       " 'sentence_char_count_len_goe_75',\n",
       " 'sentence_char_count_len_l_100',\n",
       " 'sentence_char_count_len_goe_100',\n",
       " 'sentence_char_count_len_l_125',\n",
       " 'sentence_char_count_len_goe_125',\n",
       " 'sentence_char_count_len_l_150',\n",
       " 'sentence_char_count_len_goe_150',\n",
       " 'sentence_char_count_len_l_175',\n",
       " 'sentence_char_count_len_goe_175',\n",
       " 'sentence_char_count_len_l_200',\n",
       " 'sentence_char_count_len_goe_200',\n",
       " 'sentence_char_count_len_l_225',\n",
       " 'sentence_char_count_len_goe_225',\n",
       " 'sentence_char_count_len_l_250',\n",
       " 'sentence_char_count_len_goe_250',\n",
       " 'sentence_char_count_len_l_275',\n",
       " 'sentence_char_count_len_goe_275',\n",
       " 'sentence_char_count_len_l_300',\n",
       " 'sentence_char_count_len_goe_300',\n",
       " 'sentence_word_count_len_l_10',\n",
       " 'sentence_word_count_len_goe_10',\n",
       " 'sentence_word_count_len_l_20',\n",
       " 'sentence_word_count_len_goe_20',\n",
       " 'sentence_word_count_len_l_30',\n",
       " 'sentence_word_count_len_goe_30',\n",
       " 'sentence_word_count_len_l_40',\n",
       " 'sentence_word_count_len_goe_40',\n",
       " 'sentence_word_count_len_l_50',\n",
       " 'sentence_word_count_len_goe_50',\n",
       " 'sentence_word_count_len_l_60',\n",
       " 'sentence_word_count_len_goe_60',\n",
       " 'sentence_word_count_len_l_70',\n",
       " 'sentence_word_count_len_goe_70',\n",
       " 'sentence_word_count_len_l_80',\n",
       " 'sentence_word_count_len_goe_80',\n",
       " 'sentence_word_count_len_l_90',\n",
       " 'sentence_word_count_len_goe_90',\n",
       " 'sentence_word_count_len_l_100',\n",
       " 'sentence_word_count_len_goe_100',\n",
       " 'sentence_error_count_len_l_5',\n",
       " 'sentence_error_count_len_goe_5',\n",
       " 'sentence_error_count_len_l_10',\n",
       " 'sentence_error_count_len_goe_10',\n",
       " 'sentence_error_count_len_l_15',\n",
       " 'sentence_error_count_len_goe_15',\n",
       " 'sentence_error_count_len_l_20',\n",
       " 'sentence_error_count_len_goe_20',\n",
       " 'sentence_error_count_len_l_25',\n",
       " 'sentence_error_count_len_goe_25',\n",
       " 'sentence_error_count_len_l_30',\n",
       " 'sentence_error_count_len_goe_30',\n",
       " 'sentence_error_count_len_l_35',\n",
       " 'sentence_error_count_len_goe_35',\n",
       " 'sentence_error_count_len_l_40',\n",
       " 'sentence_error_count_len_goe_40',\n",
       " 'sentence_error_count_len_l_45',\n",
       " 'sentence_error_count_len_goe_45',\n",
       " 'sentence_error_count_len_l_50',\n",
       " 'sentence_error_count_len_goe_50']"
      ]
     },
     "execution_count": 19,
     "metadata": {},
     "output_type": "execute_result"
    }
   ],
   "source": [
    "sentence_features.columns.to_list()"
   ]
  },
  {
   "cell_type": "markdown",
   "metadata": {},
   "source": [
    "#### Word Level"
   ]
  },
  {
   "cell_type": "code",
   "execution_count": 20,
   "metadata": {},
   "outputs": [
    {
     "data": {
      "text/plain": [
       "(6350538, 5)"
      ]
     },
     "execution_count": 20,
     "metadata": {},
     "output_type": "execute_result"
    }
   ],
   "source": [
    "word_features = process_word(train_df.copy(deep=True))\n",
    "word_features.shape"
   ]
  },
  {
   "cell_type": "code",
   "execution_count": 21,
   "metadata": {},
   "outputs": [],
   "source": [
    "assert word_features.essay_id.unique().shape == train_df.essay_id.unique().shape"
   ]
  },
  {
   "cell_type": "code",
   "execution_count": 22,
   "metadata": {},
   "outputs": [
    {
     "data": {
      "text/plain": [
       "['essay_id', 'full_text', 'score', 'word', 'word_char_count']"
      ]
     },
     "execution_count": 22,
     "metadata": {},
     "output_type": "execute_result"
    }
   ],
   "source": [
    "word_features.columns.to_list()"
   ]
  },
  {
   "cell_type": "code",
   "execution_count": 23,
   "metadata": {},
   "outputs": [
    {
     "data": {
      "text/plain": [
       "(17307, 33)"
      ]
     },
     "execution_count": 23,
     "metadata": {},
     "output_type": "execute_result"
    }
   ],
   "source": [
    "word_features = word_feature_engineering(word_features)\n",
    "word_features.shape"
   ]
  },
  {
   "cell_type": "code",
   "execution_count": 24,
   "metadata": {},
   "outputs": [],
   "source": [
    "assert word_features.essay_id.unique().shape == train_df.essay_id.unique().shape"
   ]
  },
  {
   "cell_type": "code",
   "execution_count": 25,
   "metadata": {},
   "outputs": [
    {
     "data": {
      "text/plain": [
       "['essay_id',\n",
       " 'word_char_count_mean',\n",
       " 'word_char_count_min',\n",
       " 'word_char_count_max',\n",
       " 'word_char_count_q1',\n",
       " 'word_char_count_q3',\n",
       " 'word_char_count_<lambda_2>',\n",
       " 'word_char_count_len_l_5',\n",
       " 'word_char_count_len_goe_5',\n",
       " 'word_char_count_len_l_7',\n",
       " 'word_char_count_len_goe_7',\n",
       " 'word_char_count_len_l_9',\n",
       " 'word_char_count_len_goe_9',\n",
       " 'word_char_count_len_l_11',\n",
       " 'word_char_count_len_goe_11',\n",
       " 'word_char_count_len_l_13',\n",
       " 'word_char_count_len_goe_13',\n",
       " 'word_char_count_len_l_15',\n",
       " 'word_char_count_len_goe_15',\n",
       " 'word_char_count_len_l_17',\n",
       " 'word_char_count_len_goe_17',\n",
       " 'word_char_count_len_l_19',\n",
       " 'word_char_count_len_goe_19',\n",
       " 'word_char_count_len_l_21',\n",
       " 'word_char_count_len_goe_21',\n",
       " 'word_char_count_len_l_23',\n",
       " 'word_char_count_len_goe_23',\n",
       " 'word_char_count_len_l_25',\n",
       " 'word_char_count_len_goe_25',\n",
       " 'word_char_count_len_l_27',\n",
       " 'word_char_count_len_goe_27',\n",
       " 'word_char_count_len_l_29',\n",
       " 'word_char_count_len_goe_29']"
      ]
     },
     "execution_count": 25,
     "metadata": {},
     "output_type": "execute_result"
    }
   ],
   "source": [
    "word_features.columns.to_list()"
   ]
  },
  {
   "cell_type": "markdown",
   "metadata": {},
   "source": [
    "#### TF-IDF Features\n",
    "\n",
    "A TF-IDF vectorizer is used to convert the essays into numerical features."
   ]
  },
  {
   "cell_type": "code",
   "execution_count": 26,
   "metadata": {},
   "outputs": [],
   "source": [
    "vectorizer, tfidf_features = generate_tfidf_features(train_df.copy(deep=True), None)"
   ]
  },
  {
   "cell_type": "code",
   "execution_count": 27,
   "metadata": {},
   "outputs": [],
   "source": [
    "assert tfidf_features.essay_id.unique().shape == train_df.essay_id.unique().shape"
   ]
  },
  {
   "cell_type": "code",
   "execution_count": 28,
   "metadata": {
    "scrolled": true
   },
   "outputs": [],
   "source": [
    "with open(\"output/LGBM/vectorizer.pkl\", \"wb\") as file:\n",
    "    pkl.dump(vectorizer, file)"
   ]
  },
  {
   "cell_type": "markdown",
   "metadata": {},
   "source": [
    "#### Count Vectorizer\n",
    "\n",
    "A countVectorizer is used to convert the essays into numerical features"
   ]
  },
  {
   "cell_type": "code",
   "execution_count": 29,
   "metadata": {},
   "outputs": [],
   "source": [
    "vectorizer_cnt, count_features = generate_count_features(train_df.copy(deep=True), None)"
   ]
  },
  {
   "cell_type": "code",
   "execution_count": 30,
   "metadata": {},
   "outputs": [],
   "source": [
    "assert count_features.essay_id.unique().shape == train_df.essay_id.unique().shape"
   ]
  },
  {
   "cell_type": "code",
   "execution_count": 31,
   "metadata": {},
   "outputs": [],
   "source": [
    "with open(\"output/LGBM/vectorizer_cnt.pkl\", \"wb\") as file:\n",
    "    pkl.dump(vectorizer_cnt, file)"
   ]
  },
  {
   "cell_type": "markdown",
   "metadata": {},
   "source": [
    "#### DeBERTA Predictions\n",
    "\n",
    "Predictions made using DeBERTA models"
   ]
  },
  {
   "cell_type": "code",
   "execution_count": 32,
   "metadata": {},
   "outputs": [
    {
     "name": "stderr",
     "output_type": "stream",
     "text": [
      "Special tokens have been added in the vocabulary, make sure the associated word embeddings are fine-tuned or trained.\n"
     ]
    }
   ],
   "source": [
    "tokenizer = AutoTokenizer.from_pretrained(Paths.TOKENIZER_PATH)"
   ]
  },
  {
   "cell_type": "code",
   "execution_count": 33,
   "metadata": {},
   "outputs": [
    {
     "data": {
      "text/plain": [
       "{'output/microsoft/deberta-v3-large/microsoft_deberta-v3-large_fold_0_best.pth': 0.14285714285714285,\n",
       " 'output/microsoft/deberta-v3-large/microsoft_deberta-v3-large_fold_1_best.pth': 0.14285714285714285,\n",
       " 'output/microsoft/deberta-v3-large/microsoft_deberta-v3-large_fold_2_best.pth': 0.14285714285714285,\n",
       " 'output/microsoft/deberta-v3-large/microsoft_deberta-v3-large_fold_3_best.pth': 0.14285714285714285,\n",
       " 'output/microsoft/deberta-v3-large/microsoft_deberta-v3-large_fold_4_best.pth': 0.14285714285714285,\n",
       " 'output/microsoft/deberta-v3-large/microsoft_deberta-v3-large_fold_5_best.pth': 0.14285714285714285,\n",
       " 'output/microsoft/deberta-v3-large/microsoft_deberta-v3-large_fold_6_best.pth': 0.14285714285714285}"
      ]
     },
     "execution_count": 33,
     "metadata": {},
     "output_type": "execute_result"
    }
   ],
   "source": [
    "root_model_path = \"output/microsoft/deberta-v3-large\"\n",
    "model_paths = {\n",
    "    os.path.join(root_model_path, f\"microsoft_deberta-v3-large_fold_{f}_best.pth\"): 1 / config.n_folds\n",
    "    for f in range(config.n_folds)\n",
    "}\n",
    "model_paths"
   ]
  },
  {
   "cell_type": "code",
   "execution_count": 34,
   "metadata": {},
   "outputs": [],
   "source": [
    "device = torch.device('cuda' if torch.cuda.is_available() else 'cpu')"
   ]
  },
  {
   "cell_type": "code",
   "execution_count": 35,
   "metadata": {},
   "outputs": [
    {
     "name": "stderr",
     "output_type": "stream",
     "text": [
      "  0%|          | 0/17307 [00:00<?, ?it/s]"
     ]
    },
    {
     "name": "stderr",
     "output_type": "stream",
     "text": [
      "100%|██████████| 17307/17307 [00:35<00:00, 494.31it/s]\n"
     ]
    }
   ],
   "source": [
    "df = sliding_window(train_df.copy(deep=True), tokenizer)"
   ]
  },
  {
   "cell_type": "code",
   "execution_count": 36,
   "metadata": {},
   "outputs": [
    {
     "name": "stderr",
     "output_type": "stream",
     "text": [
      "Special tokens have been added in the vocabulary, make sure the associated word embeddings are fine-tuned or trained.\n",
      "Model 0 Inference: 100%|██████████| 779/779 [14:19<00:00,  1.10s/test_batch]\n",
      "Special tokens have been added in the vocabulary, make sure the associated word embeddings are fine-tuned or trained.\n",
      "Model 1 Inference: 100%|██████████| 779/779 [14:21<00:00,  1.11s/test_batch]\n",
      "Special tokens have been added in the vocabulary, make sure the associated word embeddings are fine-tuned or trained.\n",
      "Model 2 Inference: 100%|██████████| 779/779 [14:20<00:00,  1.11s/test_batch]\n",
      "Special tokens have been added in the vocabulary, make sure the associated word embeddings are fine-tuned or trained.\n",
      "Model 3 Inference: 100%|██████████| 779/779 [14:21<00:00,  1.11s/test_batch]\n",
      "Special tokens have been added in the vocabulary, make sure the associated word embeddings are fine-tuned or trained.\n",
      "Model 4 Inference: 100%|██████████| 779/779 [14:21<00:00,  1.11s/test_batch]\n",
      "Special tokens have been added in the vocabulary, make sure the associated word embeddings are fine-tuned or trained.\n",
      "Model 5 Inference: 100%|██████████| 779/779 [14:20<00:00,  1.11s/test_batch]\n",
      "Special tokens have been added in the vocabulary, make sure the associated word embeddings are fine-tuned or trained.\n",
      "Model 6 Inference: 100%|██████████| 779/779 [14:20<00:00,  1.11s/test_batch]\n"
     ]
    },
    {
     "data": {
      "text/plain": [
       "(17307, 43)"
      ]
     },
     "execution_count": 36,
     "metadata": {},
     "output_type": "execute_result"
    }
   ],
   "source": [
    "deberta_features = ensemble_inference(\n",
    "    df,\n",
    "    tokenizer,\n",
    "    model_paths,\n",
    "    device,\n",
    "    logits=True,\n",
    "    overall=True,\n",
    "    model_wise_reduction=False,\n",
    ")\n",
    "deberta_features.shape"
   ]
  },
  {
   "cell_type": "code",
   "execution_count": 37,
   "metadata": {},
   "outputs": [
    {
     "data": {
      "text/html": [
       "<div>\n",
       "<style scoped>\n",
       "    .dataframe tbody tr th:only-of-type {\n",
       "        vertical-align: middle;\n",
       "    }\n",
       "\n",
       "    .dataframe tbody tr th {\n",
       "        vertical-align: top;\n",
       "    }\n",
       "\n",
       "    .dataframe thead th {\n",
       "        text-align: right;\n",
       "    }\n",
       "</style>\n",
       "<table border=\"1\" class=\"dataframe\">\n",
       "  <thead>\n",
       "    <tr style=\"text-align: right;\">\n",
       "      <th></th>\n",
       "      <th>essay_id</th>\n",
       "      <th>deberta_m0_c0</th>\n",
       "      <th>deberta_m0_c1</th>\n",
       "      <th>deberta_m0_c2</th>\n",
       "      <th>deberta_m0_c3</th>\n",
       "      <th>deberta_m0_c4</th>\n",
       "      <th>deberta_m0_c5</th>\n",
       "      <th>deberta_m1_c0</th>\n",
       "      <th>deberta_m1_c1</th>\n",
       "      <th>deberta_m1_c2</th>\n",
       "      <th>...</th>\n",
       "      <th>deberta_m5_c2</th>\n",
       "      <th>deberta_m5_c3</th>\n",
       "      <th>deberta_m5_c4</th>\n",
       "      <th>deberta_m5_c5</th>\n",
       "      <th>deberta_m6_c0</th>\n",
       "      <th>deberta_m6_c1</th>\n",
       "      <th>deberta_m6_c2</th>\n",
       "      <th>deberta_m6_c3</th>\n",
       "      <th>deberta_m6_c4</th>\n",
       "      <th>deberta_m6_c5</th>\n",
       "    </tr>\n",
       "  </thead>\n",
       "  <tbody>\n",
       "    <tr>\n",
       "      <th>1328</th>\n",
       "      <td>14c4255</td>\n",
       "      <td>0.000084</td>\n",
       "      <td>0.001594</td>\n",
       "      <td>0.073336</td>\n",
       "      <td>0.065685</td>\n",
       "      <td>0.002018</td>\n",
       "      <td>0.000140</td>\n",
       "      <td>0.000109</td>\n",
       "      <td>0.000935</td>\n",
       "      <td>0.027895</td>\n",
       "      <td>...</td>\n",
       "      <td>0.019551</td>\n",
       "      <td>0.099968</td>\n",
       "      <td>0.021904</td>\n",
       "      <td>0.000688</td>\n",
       "      <td>0.000055</td>\n",
       "      <td>0.000137</td>\n",
       "      <td>0.004116</td>\n",
       "      <td>0.086218</td>\n",
       "      <td>0.050099</td>\n",
       "      <td>0.002233</td>\n",
       "    </tr>\n",
       "    <tr>\n",
       "      <th>13892</th>\n",
       "      <td>cbe244c</td>\n",
       "      <td>0.088357</td>\n",
       "      <td>0.052156</td>\n",
       "      <td>0.002095</td>\n",
       "      <td>0.000125</td>\n",
       "      <td>0.000072</td>\n",
       "      <td>0.000051</td>\n",
       "      <td>0.060156</td>\n",
       "      <td>0.081240</td>\n",
       "      <td>0.001273</td>\n",
       "      <td>...</td>\n",
       "      <td>0.003556</td>\n",
       "      <td>0.000264</td>\n",
       "      <td>0.000101</td>\n",
       "      <td>0.000115</td>\n",
       "      <td>0.115403</td>\n",
       "      <td>0.026325</td>\n",
       "      <td>0.000871</td>\n",
       "      <td>0.000093</td>\n",
       "      <td>0.000056</td>\n",
       "      <td>0.000108</td>\n",
       "    </tr>\n",
       "    <tr>\n",
       "      <th>11404</th>\n",
       "      <td>a7e1ea2</td>\n",
       "      <td>0.003894</td>\n",
       "      <td>0.062318</td>\n",
       "      <td>0.074310</td>\n",
       "      <td>0.002211</td>\n",
       "      <td>0.000058</td>\n",
       "      <td>0.000066</td>\n",
       "      <td>0.013737</td>\n",
       "      <td>0.111881</td>\n",
       "      <td>0.016601</td>\n",
       "      <td>...</td>\n",
       "      <td>0.029885</td>\n",
       "      <td>0.002686</td>\n",
       "      <td>0.000244</td>\n",
       "      <td>0.000149</td>\n",
       "      <td>0.009005</td>\n",
       "      <td>0.051844</td>\n",
       "      <td>0.076255</td>\n",
       "      <td>0.005413</td>\n",
       "      <td>0.000248</td>\n",
       "      <td>0.000092</td>\n",
       "    </tr>\n",
       "  </tbody>\n",
       "</table>\n",
       "<p>3 rows × 43 columns</p>\n",
       "</div>"
      ],
      "text/plain": [
       "      essay_id  deberta_m0_c0  deberta_m0_c1  deberta_m0_c2  deberta_m0_c3  \\\n",
       "1328   14c4255       0.000084       0.001594       0.073336       0.065685   \n",
       "13892  cbe244c       0.088357       0.052156       0.002095       0.000125   \n",
       "11404  a7e1ea2       0.003894       0.062318       0.074310       0.002211   \n",
       "\n",
       "       deberta_m0_c4  deberta_m0_c5  deberta_m1_c0  deberta_m1_c1  \\\n",
       "1328        0.002018       0.000140       0.000109       0.000935   \n",
       "13892       0.000072       0.000051       0.060156       0.081240   \n",
       "11404       0.000058       0.000066       0.013737       0.111881   \n",
       "\n",
       "       deberta_m1_c2  ...  deberta_m5_c2  deberta_m5_c3  deberta_m5_c4  \\\n",
       "1328        0.027895  ...       0.019551       0.099968       0.021904   \n",
       "13892       0.001273  ...       0.003556       0.000264       0.000101   \n",
       "11404       0.016601  ...       0.029885       0.002686       0.000244   \n",
       "\n",
       "       deberta_m5_c5  deberta_m6_c0  deberta_m6_c1  deberta_m6_c2  \\\n",
       "1328        0.000688       0.000055       0.000137       0.004116   \n",
       "13892       0.000115       0.115403       0.026325       0.000871   \n",
       "11404       0.000149       0.009005       0.051844       0.076255   \n",
       "\n",
       "       deberta_m6_c3  deberta_m6_c4  deberta_m6_c5  \n",
       "1328        0.086218       0.050099       0.002233  \n",
       "13892       0.000093       0.000056       0.000108  \n",
       "11404       0.005413       0.000248       0.000092  \n",
       "\n",
       "[3 rows x 43 columns]"
      ]
     },
     "execution_count": 37,
     "metadata": {},
     "output_type": "execute_result"
    }
   ],
   "source": [
    "deberta_features.sample(3)"
   ]
  },
  {
   "cell_type": "code",
   "execution_count": 38,
   "metadata": {},
   "outputs": [],
   "source": [
    "assert deberta_features.essay_id.unique().shape == train_df.essay_id.unique().shape"
   ]
  },
  {
   "cell_type": "markdown",
   "metadata": {},
   "source": [
    "#### Combining Features"
   ]
  },
  {
   "cell_type": "code",
   "execution_count": 40,
   "metadata": {},
   "outputs": [
    {
     "data": {
      "text/plain": [
       "(17307, 22088)"
      ]
     },
     "execution_count": 40,
     "metadata": {},
     "output_type": "execute_result"
    }
   ],
   "source": [
    "all_features = deberta_features.copy(deep=True)\n",
    "\n",
    "for feature_df in [paragraph_features, sentence_features, word_features, tfidf_features, count_features]:\n",
    "    all_features = pd.merge(all_features, feature_df, on=\"essay_id\")\n",
    "\n",
    "all_features = pd.merge(all_features, train_df[[\"essay_id\", \"score\"]], on=\"essay_id\")\n",
    "all_features.shape"
   ]
  },
  {
   "cell_type": "code",
   "execution_count": 41,
   "metadata": {},
   "outputs": [],
   "source": [
    "assert all_features.essay_id.unique().shape == train_df.essay_id.unique().shape"
   ]
  },
  {
   "cell_type": "code",
   "execution_count": 42,
   "metadata": {},
   "outputs": [],
   "source": [
    "all_features.to_csv(Paths.FEATURE_ENGG_CSV_PATH, index=False)"
   ]
  }
 ],
 "metadata": {
  "kernelspec": {
   "display_name": "Python 3 (ipykernel)",
   "language": "python",
   "name": "python3"
  },
  "language_info": {
   "codemirror_mode": {
    "name": "ipython",
    "version": 3
   },
   "file_extension": ".py",
   "mimetype": "text/x-python",
   "name": "python",
   "nbconvert_exporter": "python",
   "pygments_lexer": "ipython3",
   "version": "3.11.8"
  }
 },
 "nbformat": 4,
 "nbformat_minor": 4
}
