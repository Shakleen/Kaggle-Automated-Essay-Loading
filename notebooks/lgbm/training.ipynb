{
 "cells": [
  {
   "cell_type": "markdown",
   "metadata": {},
   "source": [
    "# LGBM - Training\n",
    "\n",
    "Sources\n",
    "1. [LGBM & Deberta Explained by ZULQARNAIN ALI](https://www.kaggle.com/code/zulqarnainalipk/lgbm-deberta-explained)"
   ]
  },
  {
   "cell_type": "markdown",
   "metadata": {},
   "source": [
    "## Setup"
   ]
  },
  {
   "cell_type": "code",
   "execution_count": 1,
   "metadata": {},
   "outputs": [],
   "source": [
    "import os\n",
    "import pandas as pd\n",
    "import numpy as np\n",
    "from sklearn.metrics import cohen_kappa_score\n",
    "import lightgbm as lgb\n",
    "import pickle as pkl\n",
    "import wandb\n",
    "from lightgbm import log_evaluation, early_stopping\n",
    "from sklearn.metrics import cohen_kappa_score\n",
    "from sklearn.model_selection import StratifiedKFold"
   ]
  },
  {
   "cell_type": "code",
   "execution_count": 2,
   "metadata": {},
   "outputs": [],
   "source": [
    "os.chdir(\"../../\")"
   ]
  },
  {
   "cell_type": "code",
   "execution_count": 3,
   "metadata": {},
   "outputs": [],
   "source": [
    "from lib.config import config\n",
    "from lib.paths import Paths\n",
    "from lib.utils.utils import seed_everything\n",
    "from lib.criterion.metrics import log_metrics\n",
    "from lib.model.utils import quadratic_weighted_kappa, qwk_obj, get_score"
   ]
  },
  {
   "cell_type": "code",
   "execution_count": 4,
   "metadata": {},
   "outputs": [],
   "source": [
    "seed_everything()"
   ]
  },
  {
   "cell_type": "markdown",
   "metadata": {},
   "source": [
    "### Setting Up WandB"
   ]
  },
  {
   "cell_type": "code",
   "execution_count": 5,
   "metadata": {},
   "outputs": [],
   "source": [
    "WANDB_PROJECT = \"Kaggle_ASE_2.0\"\n",
    "WANDB_NAME = f\"LGBM-ASE-7\""
   ]
  },
  {
   "cell_type": "code",
   "execution_count": 6,
   "metadata": {},
   "outputs": [
    {
     "name": "stderr",
     "output_type": "stream",
     "text": [
      "Failed to detect the name of this notebook, you can set it manually with the WANDB_NOTEBOOK_NAME environment variable to enable code saving.\n",
      "\u001b[34m\u001b[1mwandb\u001b[0m: Currently logged in as: \u001b[33mshakleenishfar\u001b[0m (\u001b[33mlaplacesdemon43\u001b[0m). Use \u001b[1m`wandb login --relogin`\u001b[0m to force relogin\n",
      "\u001b[34m\u001b[1mwandb\u001b[0m: \u001b[33mWARNING\u001b[0m If you're specifying your api key in code, ensure this code is not shared publicly.\n",
      "\u001b[34m\u001b[1mwandb\u001b[0m: \u001b[33mWARNING\u001b[0m Consider setting the WANDB_API_KEY environment variable, or running `wandb login` from the command line.\n",
      "\u001b[34m\u001b[1mwandb\u001b[0m: Appending key for api.wandb.ai to your netrc file: /home/ishfar/.netrc\n"
     ]
    },
    {
     "data": {
      "text/html": [
       "wandb version 0.17.0 is available!  To upgrade, please run:\n",
       " $ pip install wandb --upgrade"
      ],
      "text/plain": [
       "<IPython.core.display.HTML object>"
      ]
     },
     "metadata": {},
     "output_type": "display_data"
    },
    {
     "data": {
      "text/html": [
       "Tracking run with wandb version 0.16.6"
      ],
      "text/plain": [
       "<IPython.core.display.HTML object>"
      ]
     },
     "metadata": {},
     "output_type": "display_data"
    },
    {
     "data": {
      "text/html": [
       "Run data is saved locally in <code>/media/ishfar/New Volume/Studies/Projects/Kaggle-Automated-Essay-Scoring/wandb/run-20240602_205546-8ip8e8ch</code>"
      ],
      "text/plain": [
       "<IPython.core.display.HTML object>"
      ]
     },
     "metadata": {},
     "output_type": "display_data"
    },
    {
     "data": {
      "text/html": [
       "Syncing run <strong><a href='https://wandb.ai/laplacesdemon43/Kaggle_ASE_2.0/runs/8ip8e8ch' target=\"_blank\">LGBM-ASE-7</a></strong> to <a href='https://wandb.ai/laplacesdemon43/Kaggle_ASE_2.0' target=\"_blank\">Weights & Biases</a> (<a href='https://wandb.me/run' target=\"_blank\">docs</a>)<br/>"
      ],
      "text/plain": [
       "<IPython.core.display.HTML object>"
      ]
     },
     "metadata": {},
     "output_type": "display_data"
    },
    {
     "data": {
      "text/html": [
       " View project at <a href='https://wandb.ai/laplacesdemon43/Kaggle_ASE_2.0' target=\"_blank\">https://wandb.ai/laplacesdemon43/Kaggle_ASE_2.0</a>"
      ],
      "text/plain": [
       "<IPython.core.display.HTML object>"
      ]
     },
     "metadata": {},
     "output_type": "display_data"
    },
    {
     "data": {
      "text/html": [
       " View run at <a href='https://wandb.ai/laplacesdemon43/Kaggle_ASE_2.0/runs/8ip8e8ch' target=\"_blank\">https://wandb.ai/laplacesdemon43/Kaggle_ASE_2.0/runs/8ip8e8ch</a>"
      ],
      "text/plain": [
       "<IPython.core.display.HTML object>"
      ]
     },
     "metadata": {},
     "output_type": "display_data"
    }
   ],
   "source": [
    "wandb.login(key=os.environ.get('WANDB_API_KEY'))\n",
    "wandb.init(\n",
    "    project=WANDB_PROJECT,\n",
    "    name=WANDB_NAME,\n",
    "    save_code=True,\n",
    "    job_type=\"train\",\n",
    "    config=config,\n",
    ")\n",
    "config = wandb.config"
   ]
  },
  {
   "cell_type": "markdown",
   "metadata": {},
   "source": [
    "## Model Training"
   ]
  },
  {
   "cell_type": "markdown",
   "metadata": {},
   "source": [
    "### Dataset Creation"
   ]
  },
  {
   "cell_type": "code",
   "execution_count": 7,
   "metadata": {},
   "outputs": [
    {
     "data": {
      "text/plain": [
       "(17307, 220)"
      ]
     },
     "execution_count": 7,
     "metadata": {},
     "output_type": "execute_result"
    }
   ],
   "source": [
    "df = pd.read_csv(Paths.FEATURE_ENGG_CSV_PATH)\n",
    "df.shape"
   ]
  },
  {
   "cell_type": "code",
   "execution_count": 8,
   "metadata": {},
   "outputs": [
    {
     "data": {
      "text/plain": [
       "((17307, 218), (17307,))"
      ]
     },
     "execution_count": 8,
     "metadata": {},
     "output_type": "execute_result"
    }
   ],
   "source": [
    "ids = df.loc[:, \"essay_id\"]\n",
    "X, y = df.drop(columns=[\"score\", \"essay_id\"]), df.loc[:, \"score\"]\n",
    "del df\n",
    "\n",
    "X.shape, y.shape"
   ]
  },
  {
   "cell_type": "markdown",
   "metadata": {},
   "source": [
    "### Callbacks"
   ]
  },
  {
   "cell_type": "code",
   "execution_count": 9,
   "metadata": {},
   "outputs": [],
   "source": [
    "callbacks = [\n",
    "    log_evaluation(period=25),\n",
    "    early_stopping(stopping_rounds=75, first_metric_only=True),\n",
    "]"
   ]
  },
  {
   "cell_type": "markdown",
   "metadata": {},
   "source": [
    "### Constants"
   ]
  },
  {
   "cell_type": "code",
   "execution_count": 10,
   "metadata": {},
   "outputs": [],
   "source": [
    "a = config.lgbm_a\n",
    "b = config.lgbm_b"
   ]
  },
  {
   "cell_type": "markdown",
   "metadata": {},
   "source": [
    "### Training Loop"
   ]
  },
  {
   "cell_type": "code",
   "execution_count": 11,
   "metadata": {},
   "outputs": [],
   "source": [
    "def train_loop(X_train, y_train, X_valid, y_valid):\n",
    "    y_train = y_train.astype(np.float32) - a\n",
    "    y_valid = y_valid.astype(np.float32) - a\n",
    "\n",
    "    model = lgb.LGBMRegressor(\n",
    "        objective=qwk_obj,\n",
    "        metrics=\"None\",\n",
    "        learning_rate=0.01,\n",
    "        max_depth=5,\n",
    "        num_leaves=10,\n",
    "        colsample_bytree=0.3,\n",
    "        reg_alpha=0.7,\n",
    "        reg_lambda=0.1,\n",
    "        n_estimators=700,\n",
    "        random_state=config.random_seed,\n",
    "        extra_trees=True,\n",
    "        class_weight=\"balanced\",\n",
    "        n_jobs=6,\n",
    "        verbosity=0,\n",
    "    )\n",
    "\n",
    "    # Train model\n",
    "    predictor = model.fit(\n",
    "        X_train,\n",
    "        y_train,\n",
    "        eval_names=[\"train\", \"valid\"],\n",
    "        eval_set=[(X_train, y_train), (X_valid, y_valid)],\n",
    "        eval_metric=quadratic_weighted_kappa,\n",
    "        callbacks=callbacks,\n",
    "    )\n",
    "\n",
    "    return model, predictor"
   ]
  },
  {
   "cell_type": "code",
   "execution_count": 12,
   "metadata": {},
   "outputs": [],
   "source": [
    "def validate_model(idx, X_valid, y_valid, id_valid, predictor):\n",
    "    y_valid_int = y_valid.astype(np.int64).to_numpy()\n",
    "    preds = predictor.predict(X_valid) + a\n",
    "    preds = preds.clip(1, 6).round().astype(np.int64)\n",
    "\n",
    "    oof = pd.DataFrame(\n",
    "        {\n",
    "            \"essay_id\": id_valid,\n",
    "            \"score\": y_valid_int - 1,\n",
    "            \"pred_score\": preds - 1,\n",
    "        }\n",
    "    )\n",
    "    log_metrics(oof, f\"Fold {idx}\")\n",
    "\n",
    "    return oof"
   ]
  },
  {
   "cell_type": "markdown",
   "metadata": {},
   "source": [
    "### Fold Loop"
   ]
  },
  {
   "cell_type": "code",
   "execution_count": 13,
   "metadata": {},
   "outputs": [],
   "source": [
    "skf = StratifiedKFold(\n",
    "    n_splits=config.lgbm_n_folds,\n",
    "    random_state=config.random_seed,\n",
    "    shuffle=True,\n",
    ")"
   ]
  },
  {
   "cell_type": "code",
   "execution_count": 14,
   "metadata": {},
   "outputs": [
    {
     "name": "stdout",
     "output_type": "stream",
     "text": [
      "[LightGBM] [Info] Using self-defined objective function\n",
      "Training until validation scores don't improve for 75 rounds\n",
      "[25]\ttrain's QWK: 0.446787\tvalid's QWK: 0.469265\n",
      "[50]\ttrain's QWK: 0.73307\tvalid's QWK: 0.751725\n",
      "[75]\ttrain's QWK: 0.798825\tvalid's QWK: 0.8077\n",
      "[100]\ttrain's QWK: 0.837112\tvalid's QWK: 0.844476\n",
      "[125]\ttrain's QWK: 0.859903\tvalid's QWK: 0.863581\n",
      "[150]\ttrain's QWK: 0.868852\tvalid's QWK: 0.876823\n",
      "[175]\ttrain's QWK: 0.873272\tvalid's QWK: 0.881612\n",
      "[200]\ttrain's QWK: 0.875598\tvalid's QWK: 0.886958\n",
      "[225]\ttrain's QWK: 0.877755\tvalid's QWK: 0.890796\n",
      "[250]\ttrain's QWK: 0.880503\tvalid's QWK: 0.891972\n",
      "[275]\ttrain's QWK: 0.8821\tvalid's QWK: 0.892983\n",
      "[300]\ttrain's QWK: 0.882991\tvalid's QWK: 0.894687\n",
      "[325]\ttrain's QWK: 0.883816\tvalid's QWK: 0.89671\n",
      "[350]\ttrain's QWK: 0.884678\tvalid's QWK: 0.897519\n",
      "[375]\ttrain's QWK: 0.885049\tvalid's QWK: 0.897074\n",
      "[400]\ttrain's QWK: 0.885628\tvalid's QWK: 0.896483\n",
      "Early stopping, best iteration is:\n",
      "[331]\ttrain's QWK: 0.884172\tvalid's QWK: 0.898293\n",
      "Evaluated only: QWK\n",
      "[LightGBM] [Info] Using self-defined objective function\n",
      "Training until validation scores don't improve for 75 rounds\n",
      "[25]\ttrain's QWK: 0.43675\tvalid's QWK: 0.409649\n",
      "[50]\ttrain's QWK: 0.735822\tvalid's QWK: 0.728332\n",
      "[75]\ttrain's QWK: 0.798692\tvalid's QWK: 0.798064\n",
      "[100]\ttrain's QWK: 0.835175\tvalid's QWK: 0.835204\n",
      "[125]\ttrain's QWK: 0.857955\tvalid's QWK: 0.85573\n",
      "[150]\ttrain's QWK: 0.867457\tvalid's QWK: 0.869893\n",
      "[175]\ttrain's QWK: 0.872098\tvalid's QWK: 0.871343\n",
      "[200]\ttrain's QWK: 0.874463\tvalid's QWK: 0.875332\n",
      "[225]\ttrain's QWK: 0.878052\tvalid's QWK: 0.874651\n",
      "[250]\ttrain's QWK: 0.880004\tvalid's QWK: 0.880788\n",
      "[275]\ttrain's QWK: 0.881474\tvalid's QWK: 0.879995\n",
      "[300]\ttrain's QWK: 0.882531\tvalid's QWK: 0.880302\n",
      "[325]\ttrain's QWK: 0.883304\tvalid's QWK: 0.881222\n",
      "[350]\ttrain's QWK: 0.883809\tvalid's QWK: 0.882548\n",
      "[375]\ttrain's QWK: 0.884425\tvalid's QWK: 0.882548\n",
      "[400]\ttrain's QWK: 0.885023\tvalid's QWK: 0.883003\n",
      "[425]\ttrain's QWK: 0.885341\tvalid's QWK: 0.886134\n",
      "[450]\ttrain's QWK: 0.88528\tvalid's QWK: 0.886437\n",
      "[475]\ttrain's QWK: 0.88575\tvalid's QWK: 0.885856\n",
      "[500]\ttrain's QWK: 0.886318\tvalid's QWK: 0.885305\n",
      "Early stopping, best iteration is:\n",
      "[427]\ttrain's QWK: 0.885383\tvalid's QWK: 0.886868\n",
      "Evaluated only: QWK\n",
      "[LightGBM] [Info] Using self-defined objective function\n",
      "Training until validation scores don't improve for 75 rounds\n",
      "[25]\ttrain's QWK: 0.444476\tvalid's QWK: 0.456684\n",
      "[50]\ttrain's QWK: 0.737032\tvalid's QWK: 0.750014\n",
      "[75]\ttrain's QWK: 0.799968\tvalid's QWK: 0.808994\n",
      "[100]\ttrain's QWK: 0.837595\tvalid's QWK: 0.854902\n",
      "[125]\ttrain's QWK: 0.859371\tvalid's QWK: 0.87538\n",
      "[150]\ttrain's QWK: 0.868106\tvalid's QWK: 0.881924\n",
      "[175]\ttrain's QWK: 0.873336\tvalid's QWK: 0.889919\n",
      "[200]\ttrain's QWK: 0.87587\tvalid's QWK: 0.888557\n",
      "[225]\ttrain's QWK: 0.878692\tvalid's QWK: 0.891375\n",
      "[250]\ttrain's QWK: 0.881564\tvalid's QWK: 0.895034\n",
      "[275]\ttrain's QWK: 0.882347\tvalid's QWK: 0.895567\n",
      "[300]\ttrain's QWK: 0.883662\tvalid's QWK: 0.897099\n",
      "[325]\ttrain's QWK: 0.884035\tvalid's QWK: 0.896608\n",
      "[350]\ttrain's QWK: 0.884482\tvalid's QWK: 0.898271\n",
      "[375]\ttrain's QWK: 0.88517\tvalid's QWK: 0.899564\n",
      "[400]\ttrain's QWK: 0.885664\tvalid's QWK: 0.900375\n",
      "[425]\ttrain's QWK: 0.886014\tvalid's QWK: 0.900062\n",
      "[450]\ttrain's QWK: 0.886126\tvalid's QWK: 0.900768\n",
      "Early stopping, best iteration is:\n",
      "[388]\ttrain's QWK: 0.885529\tvalid's QWK: 0.90154\n",
      "Evaluated only: QWK\n",
      "[LightGBM] [Info] Using self-defined objective function\n",
      "Training until validation scores don't improve for 75 rounds\n",
      "[25]\ttrain's QWK: 0.445822\tvalid's QWK: 0.418378\n",
      "[50]\ttrain's QWK: 0.737755\tvalid's QWK: 0.719093\n",
      "[75]\ttrain's QWK: 0.798803\tvalid's QWK: 0.785547\n",
      "[100]\ttrain's QWK: 0.836902\tvalid's QWK: 0.816554\n",
      "[125]\ttrain's QWK: 0.859375\tvalid's QWK: 0.851847\n",
      "[150]\ttrain's QWK: 0.867865\tvalid's QWK: 0.862387\n",
      "[175]\ttrain's QWK: 0.872636\tvalid's QWK: 0.867948\n",
      "[200]\ttrain's QWK: 0.875694\tvalid's QWK: 0.868132\n",
      "[225]\ttrain's QWK: 0.878703\tvalid's QWK: 0.869281\n",
      "[250]\ttrain's QWK: 0.879959\tvalid's QWK: 0.874134\n",
      "[275]\ttrain's QWK: 0.882073\tvalid's QWK: 0.877806\n",
      "[300]\ttrain's QWK: 0.882862\tvalid's QWK: 0.876479\n",
      "[325]\ttrain's QWK: 0.884119\tvalid's QWK: 0.87982\n",
      "[350]\ttrain's QWK: 0.884515\tvalid's QWK: 0.880924\n",
      "[375]\ttrain's QWK: 0.884872\tvalid's QWK: 0.880924\n",
      "[400]\ttrain's QWK: 0.885809\tvalid's QWK: 0.880941\n",
      "[425]\ttrain's QWK: 0.886638\tvalid's QWK: 0.881087\n",
      "[450]\ttrain's QWK: 0.886865\tvalid's QWK: 0.880166\n",
      "[475]\ttrain's QWK: 0.887077\tvalid's QWK: 0.880166\n",
      "Early stopping, best iteration is:\n",
      "[414]\ttrain's QWK: 0.88614\tvalid's QWK: 0.881859\n",
      "Evaluated only: QWK\n",
      "[LightGBM] [Info] Using self-defined objective function\n",
      "Training until validation scores don't improve for 75 rounds\n",
      "[25]\ttrain's QWK: 0.445398\tvalid's QWK: 0.446519\n",
      "[50]\ttrain's QWK: 0.73348\tvalid's QWK: 0.739634\n",
      "[75]\ttrain's QWK: 0.797927\tvalid's QWK: 0.794036\n",
      "[100]\ttrain's QWK: 0.839091\tvalid's QWK: 0.840971\n",
      "[125]\ttrain's QWK: 0.860058\tvalid's QWK: 0.857593\n",
      "[150]\ttrain's QWK: 0.869038\tvalid's QWK: 0.869904\n",
      "[175]\ttrain's QWK: 0.873111\tvalid's QWK: 0.871198\n",
      "[200]\ttrain's QWK: 0.876585\tvalid's QWK: 0.873326\n",
      "[225]\ttrain's QWK: 0.879324\tvalid's QWK: 0.877986\n",
      "[250]\ttrain's QWK: 0.881262\tvalid's QWK: 0.879562\n",
      "[275]\ttrain's QWK: 0.882858\tvalid's QWK: 0.879127\n",
      "[300]\ttrain's QWK: 0.884117\tvalid's QWK: 0.883925\n",
      "[325]\ttrain's QWK: 0.885222\tvalid's QWK: 0.884994\n",
      "[350]\ttrain's QWK: 0.885983\tvalid's QWK: 0.883979\n",
      "[375]\ttrain's QWK: 0.88642\tvalid's QWK: 0.885025\n",
      "[400]\ttrain's QWK: 0.886747\tvalid's QWK: 0.885641\n",
      "[425]\ttrain's QWK: 0.887077\tvalid's QWK: 0.884951\n",
      "[450]\ttrain's QWK: 0.8873\tvalid's QWK: 0.883636\n",
      "[475]\ttrain's QWK: 0.88789\tvalid's QWK: 0.883221\n",
      "Early stopping, best iteration is:\n",
      "[416]\ttrain's QWK: 0.886964\tvalid's QWK: 0.885955\n",
      "Evaluated only: QWK\n",
      "[LightGBM] [Info] Using self-defined objective function\n",
      "Training until validation scores don't improve for 75 rounds\n",
      "[25]\ttrain's QWK: 0.448041\tvalid's QWK: 0.432858\n",
      "[50]\ttrain's QWK: 0.736657\tvalid's QWK: 0.731954\n",
      "[75]\ttrain's QWK: 0.799908\tvalid's QWK: 0.784396\n",
      "[100]\ttrain's QWK: 0.83789\tvalid's QWK: 0.828114\n",
      "[125]\ttrain's QWK: 0.861851\tvalid's QWK: 0.84066\n",
      "[150]\ttrain's QWK: 0.869679\tvalid's QWK: 0.854304\n",
      "[175]\ttrain's QWK: 0.874727\tvalid's QWK: 0.859808\n",
      "[200]\ttrain's QWK: 0.877259\tvalid's QWK: 0.86275\n",
      "[225]\ttrain's QWK: 0.879472\tvalid's QWK: 0.862905\n",
      "[250]\ttrain's QWK: 0.882235\tvalid's QWK: 0.862258\n",
      "[275]\ttrain's QWK: 0.883368\tvalid's QWK: 0.864379\n",
      "[300]\ttrain's QWK: 0.883471\tvalid's QWK: 0.866308\n",
      "[325]\ttrain's QWK: 0.884551\tvalid's QWK: 0.870102\n",
      "[350]\ttrain's QWK: 0.885092\tvalid's QWK: 0.870032\n",
      "[375]\ttrain's QWK: 0.885457\tvalid's QWK: 0.868287\n",
      "[400]\ttrain's QWK: 0.886003\tvalid's QWK: 0.86888\n",
      "Early stopping, best iteration is:\n",
      "[330]\ttrain's QWK: 0.884621\tvalid's QWK: 0.870627\n",
      "Evaluated only: QWK\n",
      "[LightGBM] [Info] Using self-defined objective function\n",
      "Training until validation scores don't improve for 75 rounds\n",
      "[25]\ttrain's QWK: 0.445832\tvalid's QWK: 0.437203\n",
      "[50]\ttrain's QWK: 0.73378\tvalid's QWK: 0.72852\n",
      "[75]\ttrain's QWK: 0.801544\tvalid's QWK: 0.790891\n",
      "[100]\ttrain's QWK: 0.838902\tvalid's QWK: 0.835266\n",
      "[125]\ttrain's QWK: 0.85925\tvalid's QWK: 0.85364\n",
      "[150]\ttrain's QWK: 0.868881\tvalid's QWK: 0.865118\n",
      "[175]\ttrain's QWK: 0.87384\tvalid's QWK: 0.872135\n",
      "[200]\ttrain's QWK: 0.876378\tvalid's QWK: 0.87289\n",
      "[225]\ttrain's QWK: 0.878933\tvalid's QWK: 0.874185\n",
      "[250]\ttrain's QWK: 0.880913\tvalid's QWK: 0.878287\n",
      "[275]\ttrain's QWK: 0.882685\tvalid's QWK: 0.879463\n",
      "[300]\ttrain's QWK: 0.883736\tvalid's QWK: 0.882825\n",
      "[325]\ttrain's QWK: 0.884421\tvalid's QWK: 0.88406\n",
      "[350]\ttrain's QWK: 0.884796\tvalid's QWK: 0.884096\n",
      "[375]\ttrain's QWK: 0.88554\tvalid's QWK: 0.885464\n",
      "[400]\ttrain's QWK: 0.886003\tvalid's QWK: 0.886515\n",
      "[425]\ttrain's QWK: 0.886411\tvalid's QWK: 0.886515\n",
      "[450]\ttrain's QWK: 0.886651\tvalid's QWK: 0.886515\n",
      "[475]\ttrain's QWK: 0.886918\tvalid's QWK: 0.887396\n",
      "[500]\ttrain's QWK: 0.887061\tvalid's QWK: 0.889303\n",
      "[525]\ttrain's QWK: 0.887388\tvalid's QWK: 0.889303\n",
      "[550]\ttrain's QWK: 0.887971\tvalid's QWK: 0.888721\n",
      "[575]\ttrain's QWK: 0.888149\tvalid's QWK: 0.888125\n",
      "Early stopping, best iteration is:\n",
      "[500]\ttrain's QWK: 0.887061\tvalid's QWK: 0.889303\n",
      "Evaluated only: QWK\n",
      "[LightGBM] [Info] Using self-defined objective function\n",
      "Training until validation scores don't improve for 75 rounds\n",
      "[25]\ttrain's QWK: 0.446112\tvalid's QWK: 0.40735\n",
      "[50]\ttrain's QWK: 0.740248\tvalid's QWK: 0.72938\n",
      "[75]\ttrain's QWK: 0.796928\tvalid's QWK: 0.790622\n",
      "[100]\ttrain's QWK: 0.83755\tvalid's QWK: 0.822741\n",
      "[125]\ttrain's QWK: 0.859589\tvalid's QWK: 0.842538\n",
      "[150]\ttrain's QWK: 0.868635\tvalid's QWK: 0.853772\n",
      "[175]\ttrain's QWK: 0.873232\tvalid's QWK: 0.859919\n",
      "[200]\ttrain's QWK: 0.876173\tvalid's QWK: 0.860699\n",
      "[225]\ttrain's QWK: 0.879898\tvalid's QWK: 0.862185\n",
      "[250]\ttrain's QWK: 0.881472\tvalid's QWK: 0.86415\n",
      "[275]\ttrain's QWK: 0.882628\tvalid's QWK: 0.86943\n",
      "[300]\ttrain's QWK: 0.883557\tvalid's QWK: 0.872144\n",
      "[325]\ttrain's QWK: 0.884857\tvalid's QWK: 0.87256\n",
      "[350]\ttrain's QWK: 0.885196\tvalid's QWK: 0.873491\n",
      "[375]\ttrain's QWK: 0.88581\tvalid's QWK: 0.873612\n",
      "[400]\ttrain's QWK: 0.886326\tvalid's QWK: 0.873612\n",
      "[425]\ttrain's QWK: 0.886569\tvalid's QWK: 0.874533\n",
      "[450]\ttrain's QWK: 0.887169\tvalid's QWK: 0.874122\n",
      "[475]\ttrain's QWK: 0.887264\tvalid's QWK: 0.874122\n",
      "[500]\ttrain's QWK: 0.887622\tvalid's QWK: 0.875224\n",
      "[525]\ttrain's QWK: 0.88791\tvalid's QWK: 0.875969\n",
      "[550]\ttrain's QWK: 0.888222\tvalid's QWK: 0.875969\n",
      "Early stopping, best iteration is:\n",
      "[499]\ttrain's QWK: 0.887622\tvalid's QWK: 0.875969\n",
      "Evaluated only: QWK\n",
      "[LightGBM] [Info] Using self-defined objective function\n",
      "Training until validation scores don't improve for 75 rounds\n",
      "[25]\ttrain's QWK: 0.44254\tvalid's QWK: 0.408879\n",
      "[50]\ttrain's QWK: 0.734093\tvalid's QWK: 0.728504\n",
      "[75]\ttrain's QWK: 0.799077\tvalid's QWK: 0.799383\n",
      "[100]\ttrain's QWK: 0.836974\tvalid's QWK: 0.822618\n",
      "[125]\ttrain's QWK: 0.859255\tvalid's QWK: 0.839643\n",
      "[150]\ttrain's QWK: 0.868036\tvalid's QWK: 0.860788\n",
      "[175]\ttrain's QWK: 0.872282\tvalid's QWK: 0.867462\n",
      "[200]\ttrain's QWK: 0.875054\tvalid's QWK: 0.869927\n",
      "[225]\ttrain's QWK: 0.878247\tvalid's QWK: 0.874168\n",
      "[250]\ttrain's QWK: 0.880222\tvalid's QWK: 0.877217\n",
      "[275]\ttrain's QWK: 0.88163\tvalid's QWK: 0.877881\n",
      "[300]\ttrain's QWK: 0.88245\tvalid's QWK: 0.880351\n",
      "[325]\ttrain's QWK: 0.883436\tvalid's QWK: 0.880664\n",
      "[350]\ttrain's QWK: 0.884204\tvalid's QWK: 0.880741\n",
      "[375]\ttrain's QWK: 0.884738\tvalid's QWK: 0.883365\n",
      "[400]\ttrain's QWK: 0.885281\tvalid's QWK: 0.884036\n",
      "[425]\ttrain's QWK: 0.885829\tvalid's QWK: 0.884036\n",
      "[450]\ttrain's QWK: 0.886136\tvalid's QWK: 0.883761\n",
      "[475]\ttrain's QWK: 0.886545\tvalid's QWK: 0.884057\n",
      "[500]\ttrain's QWK: 0.886687\tvalid's QWK: 0.884057\n",
      "[525]\ttrain's QWK: 0.887046\tvalid's QWK: 0.884212\n",
      "[550]\ttrain's QWK: 0.887401\tvalid's QWK: 0.885704\n",
      "[575]\ttrain's QWK: 0.887635\tvalid's QWK: 0.88644\n",
      "[600]\ttrain's QWK: 0.887976\tvalid's QWK: 0.88644\n",
      "[625]\ttrain's QWK: 0.888186\tvalid's QWK: 0.88644\n",
      "Early stopping, best iteration is:\n",
      "[556]\ttrain's QWK: 0.887512\tvalid's QWK: 0.88644\n",
      "Evaluated only: QWK\n",
      "[LightGBM] [Info] Using self-defined objective function\n",
      "Training until validation scores don't improve for 75 rounds\n",
      "[25]\ttrain's QWK: 0.432404\tvalid's QWK: 0.461009\n",
      "[50]\ttrain's QWK: 0.738649\tvalid's QWK: 0.735277\n",
      "[75]\ttrain's QWK: 0.800606\tvalid's QWK: 0.814877\n",
      "[100]\ttrain's QWK: 0.832762\tvalid's QWK: 0.853462\n",
      "[125]\ttrain's QWK: 0.857472\tvalid's QWK: 0.880351\n",
      "[150]\ttrain's QWK: 0.867764\tvalid's QWK: 0.882763\n",
      "[175]\ttrain's QWK: 0.872628\tvalid's QWK: 0.889591\n",
      "[200]\ttrain's QWK: 0.875082\tvalid's QWK: 0.892447\n",
      "[225]\ttrain's QWK: 0.878096\tvalid's QWK: 0.898101\n",
      "[250]\ttrain's QWK: 0.879962\tvalid's QWK: 0.899061\n",
      "[275]\ttrain's QWK: 0.881901\tvalid's QWK: 0.899193\n",
      "[300]\ttrain's QWK: 0.88308\tvalid's QWK: 0.89946\n",
      "[325]\ttrain's QWK: 0.883959\tvalid's QWK: 0.89946\n",
      "[350]\ttrain's QWK: 0.884725\tvalid's QWK: 0.900914\n",
      "[375]\ttrain's QWK: 0.885149\tvalid's QWK: 0.900444\n",
      "[400]\ttrain's QWK: 0.885773\tvalid's QWK: 0.899976\n",
      "Early stopping, best iteration is:\n",
      "[332]\ttrain's QWK: 0.884151\tvalid's QWK: 0.900914\n",
      "Evaluated only: QWK\n",
      "[LightGBM] [Info] Using self-defined objective function\n",
      "Training until validation scores don't improve for 75 rounds\n",
      "[25]\ttrain's QWK: 0.450744\tvalid's QWK: 0.456152\n",
      "[50]\ttrain's QWK: 0.737313\tvalid's QWK: 0.745214\n",
      "[75]\ttrain's QWK: 0.798063\tvalid's QWK: 0.803828\n",
      "[100]\ttrain's QWK: 0.834587\tvalid's QWK: 0.842257\n",
      "[125]\ttrain's QWK: 0.858353\tvalid's QWK: 0.865858\n",
      "[150]\ttrain's QWK: 0.868818\tvalid's QWK: 0.878994\n",
      "[175]\ttrain's QWK: 0.873257\tvalid's QWK: 0.879319\n",
      "[200]\ttrain's QWK: 0.875738\tvalid's QWK: 0.88226\n",
      "[225]\ttrain's QWK: 0.87872\tvalid's QWK: 0.886502\n",
      "[250]\ttrain's QWK: 0.88084\tvalid's QWK: 0.889743\n",
      "[275]\ttrain's QWK: 0.882162\tvalid's QWK: 0.890058\n",
      "[300]\ttrain's QWK: 0.883237\tvalid's QWK: 0.890356\n",
      "[325]\ttrain's QWK: 0.884368\tvalid's QWK: 0.891108\n",
      "[350]\ttrain's QWK: 0.884759\tvalid's QWK: 0.890206\n",
      "[375]\ttrain's QWK: 0.88534\tvalid's QWK: 0.890206\n",
      "Early stopping, best iteration is:\n",
      "[319]\ttrain's QWK: 0.884108\tvalid's QWK: 0.891108\n",
      "Evaluated only: QWK\n",
      "[LightGBM] [Info] Using self-defined objective function\n",
      "Training until validation scores don't improve for 75 rounds\n",
      "[25]\ttrain's QWK: 0.442371\tvalid's QWK: 0.457981\n",
      "[50]\ttrain's QWK: 0.739275\tvalid's QWK: 0.739014\n",
      "[75]\ttrain's QWK: 0.80158\tvalid's QWK: 0.809548\n",
      "[100]\ttrain's QWK: 0.836929\tvalid's QWK: 0.837458\n",
      "[125]\ttrain's QWK: 0.859827\tvalid's QWK: 0.862734\n",
      "[150]\ttrain's QWK: 0.869131\tvalid's QWK: 0.870196\n",
      "[175]\ttrain's QWK: 0.873607\tvalid's QWK: 0.874937\n",
      "[200]\ttrain's QWK: 0.877071\tvalid's QWK: 0.879643\n",
      "[225]\ttrain's QWK: 0.879825\tvalid's QWK: 0.881888\n",
      "[250]\ttrain's QWK: 0.882167\tvalid's QWK: 0.882584\n",
      "[275]\ttrain's QWK: 0.883062\tvalid's QWK: 0.88539\n",
      "[300]\ttrain's QWK: 0.883917\tvalid's QWK: 0.887497\n",
      "[325]\ttrain's QWK: 0.885015\tvalid's QWK: 0.886462\n",
      "[350]\ttrain's QWK: 0.885754\tvalid's QWK: 0.887197\n",
      "[375]\ttrain's QWK: 0.886421\tvalid's QWK: 0.88914\n",
      "[400]\ttrain's QWK: 0.886778\tvalid's QWK: 0.888557\n",
      "[425]\ttrain's QWK: 0.886866\tvalid's QWK: 0.888557\n",
      "Early stopping, best iteration is:\n",
      "[373]\ttrain's QWK: 0.886242\tvalid's QWK: 0.88914\n",
      "Evaluated only: QWK\n",
      "[LightGBM] [Info] Using self-defined objective function\n",
      "Training until validation scores don't improve for 75 rounds\n",
      "[25]\ttrain's QWK: 0.440812\tvalid's QWK: 0.43732\n",
      "[50]\ttrain's QWK: 0.735173\tvalid's QWK: 0.752602\n",
      "[75]\ttrain's QWK: 0.797184\tvalid's QWK: 0.810856\n",
      "[100]\ttrain's QWK: 0.836301\tvalid's QWK: 0.842845\n",
      "[125]\ttrain's QWK: 0.858177\tvalid's QWK: 0.868617\n",
      "[150]\ttrain's QWK: 0.868532\tvalid's QWK: 0.873166\n",
      "[175]\ttrain's QWK: 0.873346\tvalid's QWK: 0.880748\n",
      "[200]\ttrain's QWK: 0.875851\tvalid's QWK: 0.877996\n",
      "[225]\ttrain's QWK: 0.879511\tvalid's QWK: 0.879443\n",
      "[250]\ttrain's QWK: 0.881675\tvalid's QWK: 0.878447\n",
      "Early stopping, best iteration is:\n",
      "[175]\ttrain's QWK: 0.873346\tvalid's QWK: 0.880748\n",
      "Evaluated only: QWK\n"
     ]
    },
    {
     "name": "stderr",
     "output_type": "stream",
     "text": [
      "/media/ishfar/New Volume/Studies/Projects/Kaggle-Automated-Essay-Scoring/lib/criterion/metrics.py:34: RuntimeWarning: invalid value encountered in scalar divide\n",
      "  precision = tp / (tp + fp)\n"
     ]
    },
    {
     "name": "stdout",
     "output_type": "stream",
     "text": [
      "[LightGBM] [Info] Using self-defined objective function\n",
      "Training until validation scores don't improve for 75 rounds\n",
      "[25]\ttrain's QWK: 0.446482\tvalid's QWK: 0.445172\n",
      "[50]\ttrain's QWK: 0.741632\tvalid's QWK: 0.712405\n",
      "[75]\ttrain's QWK: 0.797625\tvalid's QWK: 0.770586\n",
      "[100]\ttrain's QWK: 0.834037\tvalid's QWK: 0.813425\n",
      "[125]\ttrain's QWK: 0.860438\tvalid's QWK: 0.844492\n",
      "[150]\ttrain's QWK: 0.869439\tvalid's QWK: 0.850799\n",
      "[175]\ttrain's QWK: 0.874118\tvalid's QWK: 0.855183\n",
      "[200]\ttrain's QWK: 0.876973\tvalid's QWK: 0.859066\n",
      "[225]\ttrain's QWK: 0.880068\tvalid's QWK: 0.860806\n",
      "[250]\ttrain's QWK: 0.881694\tvalid's QWK: 0.865068\n",
      "[275]\ttrain's QWK: 0.883579\tvalid's QWK: 0.866535\n",
      "[300]\ttrain's QWK: 0.883898\tvalid's QWK: 0.864379\n",
      "[325]\ttrain's QWK: 0.884593\tvalid's QWK: 0.863426\n",
      "Early stopping, best iteration is:\n",
      "[261]\ttrain's QWK: 0.882608\tvalid's QWK: 0.867899\n",
      "Evaluated only: QWK\n",
      "[LightGBM] [Info] Using self-defined objective function\n",
      "Training until validation scores don't improve for 75 rounds\n",
      "[25]\ttrain's QWK: 0.453978\tvalid's QWK: 0.484112\n",
      "[50]\ttrain's QWK: 0.733827\tvalid's QWK: 0.750315\n",
      "[75]\ttrain's QWK: 0.795224\tvalid's QWK: 0.802923\n",
      "[100]\ttrain's QWK: 0.836212\tvalid's QWK: 0.851164\n",
      "[125]\ttrain's QWK: 0.859892\tvalid's QWK: 0.870992\n",
      "[150]\ttrain's QWK: 0.869756\tvalid's QWK: 0.873321\n",
      "[175]\ttrain's QWK: 0.874208\tvalid's QWK: 0.880124\n",
      "[200]\ttrain's QWK: 0.876388\tvalid's QWK: 0.881112\n",
      "[225]\ttrain's QWK: 0.879764\tvalid's QWK: 0.888523\n",
      "[250]\ttrain's QWK: 0.881889\tvalid's QWK: 0.889699\n",
      "[275]\ttrain's QWK: 0.883372\tvalid's QWK: 0.889393\n",
      "[300]\ttrain's QWK: 0.883819\tvalid's QWK: 0.89013\n",
      "[325]\ttrain's QWK: 0.884566\tvalid's QWK: 0.890876\n",
      "[350]\ttrain's QWK: 0.885384\tvalid's QWK: 0.89131\n",
      "[375]\ttrain's QWK: 0.885746\tvalid's QWK: 0.89131\n",
      "[400]\ttrain's QWK: 0.886095\tvalid's QWK: 0.892052\n",
      "[425]\ttrain's QWK: 0.88625\tvalid's QWK: 0.892778\n",
      "[450]\ttrain's QWK: 0.886603\tvalid's QWK: 0.892778\n",
      "[475]\ttrain's QWK: 0.887116\tvalid's QWK: 0.892322\n",
      "Early stopping, best iteration is:\n",
      "[401]\ttrain's QWK: 0.886101\tvalid's QWK: 0.892778\n",
      "Evaluated only: QWK\n",
      "[LightGBM] [Info] Using self-defined objective function\n",
      "Training until validation scores don't improve for 75 rounds\n",
      "[25]\ttrain's QWK: 0.45248\tvalid's QWK: 0.459033\n",
      "[50]\ttrain's QWK: 0.736471\tvalid's QWK: 0.751973\n",
      "[75]\ttrain's QWK: 0.798452\tvalid's QWK: 0.811203\n",
      "[100]\ttrain's QWK: 0.837392\tvalid's QWK: 0.844075\n",
      "[125]\ttrain's QWK: 0.860279\tvalid's QWK: 0.868646\n",
      "[150]\ttrain's QWK: 0.86857\tvalid's QWK: 0.871291\n",
      "[175]\ttrain's QWK: 0.873342\tvalid's QWK: 0.880481\n",
      "[200]\ttrain's QWK: 0.876506\tvalid's QWK: 0.879898\n",
      "[225]\ttrain's QWK: 0.879028\tvalid's QWK: 0.879683\n",
      "[250]\ttrain's QWK: 0.880979\tvalid's QWK: 0.880213\n",
      "Early stopping, best iteration is:\n",
      "[198]\ttrain's QWK: 0.876326\tvalid's QWK: 0.881712\n",
      "Evaluated only: QWK\n"
     ]
    },
    {
     "name": "stderr",
     "output_type": "stream",
     "text": [
      "/media/ishfar/New Volume/Studies/Projects/Kaggle-Automated-Essay-Scoring/lib/criterion/metrics.py:34: RuntimeWarning: invalid value encountered in scalar divide\n",
      "  precision = tp / (tp + fp)\n"
     ]
    },
    {
     "name": "stdout",
     "output_type": "stream",
     "text": [
      "[LightGBM] [Info] Using self-defined objective function\n",
      "Training until validation scores don't improve for 75 rounds\n",
      "[25]\ttrain's QWK: 0.431555\tvalid's QWK: 0.444834\n",
      "[50]\ttrain's QWK: 0.739566\tvalid's QWK: 0.748673\n",
      "[75]\ttrain's QWK: 0.800859\tvalid's QWK: 0.802043\n",
      "[100]\ttrain's QWK: 0.832937\tvalid's QWK: 0.831732\n",
      "[125]\ttrain's QWK: 0.858483\tvalid's QWK: 0.863088\n",
      "[150]\ttrain's QWK: 0.868251\tvalid's QWK: 0.872035\n",
      "[175]\ttrain's QWK: 0.872118\tvalid's QWK: 0.87393\n",
      "[200]\ttrain's QWK: 0.875428\tvalid's QWK: 0.875947\n",
      "[225]\ttrain's QWK: 0.878543\tvalid's QWK: 0.87555\n",
      "[250]\ttrain's QWK: 0.880822\tvalid's QWK: 0.87819\n",
      "[275]\ttrain's QWK: 0.882891\tvalid's QWK: 0.879608\n",
      "[300]\ttrain's QWK: 0.883766\tvalid's QWK: 0.8818\n",
      "[325]\ttrain's QWK: 0.8845\tvalid's QWK: 0.882006\n",
      "[350]\ttrain's QWK: 0.885188\tvalid's QWK: 0.881433\n",
      "[375]\ttrain's QWK: 0.88576\tvalid's QWK: 0.88043\n",
      "Early stopping, best iteration is:\n",
      "[318]\ttrain's QWK: 0.884245\tvalid's QWK: 0.882596\n",
      "Evaluated only: QWK\n",
      "[LightGBM] [Info] Using self-defined objective function\n",
      "Training until validation scores don't improve for 75 rounds\n",
      "[25]\ttrain's QWK: 0.451727\tvalid's QWK: 0.434913\n",
      "[50]\ttrain's QWK: 0.739532\tvalid's QWK: 0.729323\n",
      "[75]\ttrain's QWK: 0.798478\tvalid's QWK: 0.794832\n",
      "[100]\ttrain's QWK: 0.835821\tvalid's QWK: 0.836024\n",
      "[125]\ttrain's QWK: 0.859082\tvalid's QWK: 0.867316\n",
      "[150]\ttrain's QWK: 0.868039\tvalid's QWK: 0.869091\n",
      "[175]\ttrain's QWK: 0.87289\tvalid's QWK: 0.87215\n",
      "[200]\ttrain's QWK: 0.875847\tvalid's QWK: 0.874195\n",
      "[225]\ttrain's QWK: 0.877811\tvalid's QWK: 0.878255\n",
      "[250]\ttrain's QWK: 0.880537\tvalid's QWK: 0.882129\n",
      "[275]\ttrain's QWK: 0.88188\tvalid's QWK: 0.883867\n",
      "[300]\ttrain's QWK: 0.883064\tvalid's QWK: 0.884096\n",
      "[325]\ttrain's QWK: 0.884053\tvalid's QWK: 0.886207\n",
      "[350]\ttrain's QWK: 0.884649\tvalid's QWK: 0.886948\n",
      "[375]\ttrain's QWK: 0.885136\tvalid's QWK: 0.886665\n",
      "[400]\ttrain's QWK: 0.885713\tvalid's QWK: 0.887554\n",
      "[425]\ttrain's QWK: 0.886125\tvalid's QWK: 0.88772\n",
      "[450]\ttrain's QWK: 0.886628\tvalid's QWK: 0.889646\n",
      "[475]\ttrain's QWK: 0.886852\tvalid's QWK: 0.889939\n",
      "[500]\ttrain's QWK: 0.88734\tvalid's QWK: 0.889939\n",
      "[525]\ttrain's QWK: 0.887466\tvalid's QWK: 0.889939\n",
      "Early stopping, best iteration is:\n",
      "[455]\ttrain's QWK: 0.886506\tvalid's QWK: 0.890522\n",
      "Evaluated only: QWK\n",
      "[LightGBM] [Info] Using self-defined objective function\n",
      "Training until validation scores don't improve for 75 rounds\n",
      "[25]\ttrain's QWK: 0.439482\tvalid's QWK: 0.460881\n",
      "[50]\ttrain's QWK: 0.736809\tvalid's QWK: 0.753114\n",
      "[75]\ttrain's QWK: 0.801888\tvalid's QWK: 0.797695\n",
      "[100]\ttrain's QWK: 0.835927\tvalid's QWK: 0.83206\n",
      "[125]\ttrain's QWK: 0.858096\tvalid's QWK: 0.854205\n",
      "[150]\ttrain's QWK: 0.868935\tvalid's QWK: 0.864389\n",
      "[175]\ttrain's QWK: 0.872415\tvalid's QWK: 0.868173\n",
      "[200]\ttrain's QWK: 0.874993\tvalid's QWK: 0.877895\n",
      "[225]\ttrain's QWK: 0.877843\tvalid's QWK: 0.880429\n",
      "[250]\ttrain's QWK: 0.880496\tvalid's QWK: 0.886828\n",
      "[275]\ttrain's QWK: 0.882483\tvalid's QWK: 0.88805\n",
      "[300]\ttrain's QWK: 0.883486\tvalid's QWK: 0.888798\n",
      "[325]\ttrain's QWK: 0.88421\tvalid's QWK: 0.887781\n",
      "[350]\ttrain's QWK: 0.88526\tvalid's QWK: 0.889695\n",
      "[375]\ttrain's QWK: 0.88571\tvalid's QWK: 0.890724\n",
      "[400]\ttrain's QWK: 0.886124\tvalid's QWK: 0.89072\n",
      "[425]\ttrain's QWK: 0.886456\tvalid's QWK: 0.891873\n",
      "[450]\ttrain's QWK: 0.886415\tvalid's QWK: 0.891873\n",
      "[475]\ttrain's QWK: 0.886808\tvalid's QWK: 0.891873\n",
      "[500]\ttrain's QWK: 0.887287\tvalid's QWK: 0.891873\n",
      "Early stopping, best iteration is:\n",
      "[442]\ttrain's QWK: 0.886428\tvalid's QWK: 0.89245\n",
      "Evaluated only: QWK\n",
      "[LightGBM] [Info] Using self-defined objective function\n",
      "Training until validation scores don't improve for 75 rounds\n",
      "[25]\ttrain's QWK: 0.441711\tvalid's QWK: 0.444265\n",
      "[50]\ttrain's QWK: 0.739635\tvalid's QWK: 0.751498\n",
      "[75]\ttrain's QWK: 0.797488\tvalid's QWK: 0.797868\n",
      "[100]\ttrain's QWK: 0.83612\tvalid's QWK: 0.841062\n",
      "[125]\ttrain's QWK: 0.857641\tvalid's QWK: 0.86268\n",
      "[150]\ttrain's QWK: 0.868012\tvalid's QWK: 0.875511\n",
      "[175]\ttrain's QWK: 0.873048\tvalid's QWK: 0.879584\n",
      "[200]\ttrain's QWK: 0.875284\tvalid's QWK: 0.887227\n",
      "[225]\ttrain's QWK: 0.878673\tvalid's QWK: 0.89411\n",
      "[250]\ttrain's QWK: 0.880659\tvalid's QWK: 0.893503\n",
      "[275]\ttrain's QWK: 0.882316\tvalid's QWK: 0.896213\n",
      "[300]\ttrain's QWK: 0.883217\tvalid's QWK: 0.897901\n",
      "[325]\ttrain's QWK: 0.883533\tvalid's QWK: 0.899054\n",
      "[350]\ttrain's QWK: 0.884149\tvalid's QWK: 0.899054\n",
      "[375]\ttrain's QWK: 0.884985\tvalid's QWK: 0.898461\n",
      "[400]\ttrain's QWK: 0.885395\tvalid's QWK: 0.899663\n",
      "[425]\ttrain's QWK: 0.885724\tvalid's QWK: 0.898745\n",
      "[450]\ttrain's QWK: 0.886316\tvalid's QWK: 0.898745\n",
      "Early stopping, best iteration is:\n",
      "[392]\ttrain's QWK: 0.885346\tvalid's QWK: 0.899663\n",
      "Evaluated only: QWK\n",
      "[LightGBM] [Info] Using self-defined objective function\n",
      "Training until validation scores don't improve for 75 rounds\n",
      "[25]\ttrain's QWK: 0.453659\tvalid's QWK: 0.410487\n",
      "[50]\ttrain's QWK: 0.735448\tvalid's QWK: 0.746804\n",
      "[75]\ttrain's QWK: 0.797314\tvalid's QWK: 0.80302\n",
      "[100]\ttrain's QWK: 0.835056\tvalid's QWK: 0.844645\n",
      "[125]\ttrain's QWK: 0.860068\tvalid's QWK: 0.873239\n",
      "[150]\ttrain's QWK: 0.868579\tvalid's QWK: 0.875133\n",
      "[175]\ttrain's QWK: 0.873462\tvalid's QWK: 0.878077\n",
      "[200]\ttrain's QWK: 0.876138\tvalid's QWK: 0.882194\n",
      "[225]\ttrain's QWK: 0.87823\tvalid's QWK: 0.88342\n",
      "[250]\ttrain's QWK: 0.88073\tvalid's QWK: 0.882215\n",
      "[275]\ttrain's QWK: 0.882325\tvalid's QWK: 0.883164\n",
      "Early stopping, best iteration is:\n",
      "[216]\ttrain's QWK: 0.877262\tvalid's QWK: 0.883689\n",
      "Evaluated only: QWK\n",
      "[LightGBM] [Info] Using self-defined objective function\n",
      "Training until validation scores don't improve for 75 rounds\n",
      "[25]\ttrain's QWK: 0.438557\tvalid's QWK: 0.397311\n",
      "[50]\ttrain's QWK: 0.741176\tvalid's QWK: 0.731444\n",
      "[75]\ttrain's QWK: 0.797664\tvalid's QWK: 0.792768\n",
      "[100]\ttrain's QWK: 0.837232\tvalid's QWK: 0.83028\n",
      "[125]\ttrain's QWK: 0.860005\tvalid's QWK: 0.852932\n",
      "[150]\ttrain's QWK: 0.868762\tvalid's QWK: 0.868383\n",
      "[175]\ttrain's QWK: 0.873432\tvalid's QWK: 0.871926\n",
      "[200]\ttrain's QWK: 0.875296\tvalid's QWK: 0.876659\n",
      "[225]\ttrain's QWK: 0.878676\tvalid's QWK: 0.875332\n",
      "[250]\ttrain's QWK: 0.880893\tvalid's QWK: 0.879404\n",
      "[275]\ttrain's QWK: 0.8832\tvalid's QWK: 0.883943\n",
      "[300]\ttrain's QWK: 0.884111\tvalid's QWK: 0.884869\n",
      "[325]\ttrain's QWK: 0.8844\tvalid's QWK: 0.883804\n",
      "[350]\ttrain's QWK: 0.884587\tvalid's QWK: 0.883346\n",
      "Early stopping, best iteration is:\n",
      "[286]\ttrain's QWK: 0.883809\tvalid's QWK: 0.884869\n",
      "Evaluated only: QWK\n",
      "[LightGBM] [Info] Using self-defined objective function\n",
      "Training until validation scores don't improve for 75 rounds\n",
      "[25]\ttrain's QWK: 0.433425\tvalid's QWK: 0.453722\n",
      "[50]\ttrain's QWK: 0.739197\tvalid's QWK: 0.739869\n",
      "[75]\ttrain's QWK: 0.798688\tvalid's QWK: 0.795782\n",
      "[100]\ttrain's QWK: 0.836971\tvalid's QWK: 0.834816\n",
      "[125]\ttrain's QWK: 0.858185\tvalid's QWK: 0.856261\n",
      "[150]\ttrain's QWK: 0.868272\tvalid's QWK: 0.866588\n",
      "[175]\ttrain's QWK: 0.872218\tvalid's QWK: 0.868403\n",
      "[200]\ttrain's QWK: 0.875694\tvalid's QWK: 0.872134\n",
      "[225]\ttrain's QWK: 0.878626\tvalid's QWK: 0.874931\n",
      "[250]\ttrain's QWK: 0.880839\tvalid's QWK: 0.872702\n",
      "[275]\ttrain's QWK: 0.882564\tvalid's QWK: 0.875122\n",
      "Early stopping, best iteration is:\n",
      "[216]\ttrain's QWK: 0.877641\tvalid's QWK: 0.87609\n",
      "Evaluated only: QWK\n"
     ]
    },
    {
     "name": "stderr",
     "output_type": "stream",
     "text": [
      "/media/ishfar/New Volume/Studies/Projects/Kaggle-Automated-Essay-Scoring/lib/criterion/metrics.py:34: RuntimeWarning: invalid value encountered in scalar divide\n",
      "  precision = tp / (tp + fp)\n"
     ]
    },
    {
     "name": "stdout",
     "output_type": "stream",
     "text": [
      "[LightGBM] [Info] Using self-defined objective function\n",
      "Training until validation scores don't improve for 75 rounds\n",
      "[25]\ttrain's QWK: 0.452197\tvalid's QWK: 0.479338\n",
      "[50]\ttrain's QWK: 0.737333\tvalid's QWK: 0.729829\n",
      "[75]\ttrain's QWK: 0.801673\tvalid's QWK: 0.78583\n",
      "[100]\ttrain's QWK: 0.836949\tvalid's QWK: 0.825158\n",
      "[125]\ttrain's QWK: 0.85924\tvalid's QWK: 0.846688\n",
      "[150]\ttrain's QWK: 0.869229\tvalid's QWK: 0.858699\n",
      "[175]\ttrain's QWK: 0.873174\tvalid's QWK: 0.870372\n",
      "[200]\ttrain's QWK: 0.876604\tvalid's QWK: 0.866876\n",
      "[225]\ttrain's QWK: 0.878609\tvalid's QWK: 0.870686\n",
      "[250]\ttrain's QWK: 0.880829\tvalid's QWK: 0.870806\n",
      "[275]\ttrain's QWK: 0.882262\tvalid's QWK: 0.874716\n",
      "[300]\ttrain's QWK: 0.883378\tvalid's QWK: 0.876717\n",
      "[325]\ttrain's QWK: 0.883991\tvalid's QWK: 0.879193\n",
      "[350]\ttrain's QWK: 0.884582\tvalid's QWK: 0.880472\n",
      "[375]\ttrain's QWK: 0.885157\tvalid's QWK: 0.88224\n",
      "[400]\ttrain's QWK: 0.885642\tvalid's QWK: 0.88224\n",
      "[425]\ttrain's QWK: 0.886012\tvalid's QWK: 0.883994\n",
      "[450]\ttrain's QWK: 0.88636\tvalid's QWK: 0.885423\n",
      "[475]\ttrain's QWK: 0.886591\tvalid's QWK: 0.884991\n",
      "[500]\ttrain's QWK: 0.886756\tvalid's QWK: 0.885155\n",
      "[525]\ttrain's QWK: 0.886844\tvalid's QWK: 0.885882\n",
      "[550]\ttrain's QWK: 0.887227\tvalid's QWK: 0.885303\n",
      "[575]\ttrain's QWK: 0.88763\tvalid's QWK: 0.885303\n",
      "[600]\ttrain's QWK: 0.887832\tvalid's QWK: 0.886175\n",
      "[625]\ttrain's QWK: 0.888184\tvalid's QWK: 0.886175\n",
      "[650]\ttrain's QWK: 0.888289\tvalid's QWK: 0.886175\n",
      "[675]\ttrain's QWK: 0.888424\tvalid's QWK: 0.886899\n",
      "[700]\ttrain's QWK: 0.888801\tvalid's QWK: 0.886899\n",
      "Did not meet early stopping. Best iteration is:\n",
      "[651]\ttrain's QWK: 0.888313\tvalid's QWK: 0.886899\n",
      "Evaluated only: QWK\n",
      "[LightGBM] [Info] Using self-defined objective function\n",
      "Training until validation scores don't improve for 75 rounds\n",
      "[25]\ttrain's QWK: 0.435904\tvalid's QWK: 0.416984\n",
      "[50]\ttrain's QWK: 0.736848\tvalid's QWK: 0.717837\n",
      "[75]\ttrain's QWK: 0.800479\tvalid's QWK: 0.7851\n",
      "[100]\ttrain's QWK: 0.836936\tvalid's QWK: 0.823217\n",
      "[125]\ttrain's QWK: 0.858242\tvalid's QWK: 0.83936\n",
      "[150]\ttrain's QWK: 0.868524\tvalid's QWK: 0.850454\n",
      "[175]\ttrain's QWK: 0.873358\tvalid's QWK: 0.851319\n",
      "[200]\ttrain's QWK: 0.876493\tvalid's QWK: 0.855136\n",
      "[225]\ttrain's QWK: 0.880026\tvalid's QWK: 0.859488\n",
      "[250]\ttrain's QWK: 0.88165\tvalid's QWK: 0.864324\n",
      "[275]\ttrain's QWK: 0.883128\tvalid's QWK: 0.86785\n",
      "[300]\ttrain's QWK: 0.883938\tvalid's QWK: 0.871815\n",
      "[325]\ttrain's QWK: 0.885335\tvalid's QWK: 0.872852\n",
      "[350]\ttrain's QWK: 0.885972\tvalid's QWK: 0.872852\n",
      "[375]\ttrain's QWK: 0.88627\tvalid's QWK: 0.873187\n",
      "[400]\ttrain's QWK: 0.88661\tvalid's QWK: 0.871413\n",
      "[425]\ttrain's QWK: 0.887211\tvalid's QWK: 0.871899\n",
      "Early stopping, best iteration is:\n",
      "[370]\ttrain's QWK: 0.886175\tvalid's QWK: 0.873187\n",
      "Evaluated only: QWK\n"
     ]
    }
   ],
   "source": [
    "oof_df = pd.DataFrame()\n",
    "\n",
    "for idx, (train_idx, valid_idx) in enumerate(skf.split(X, y)):\n",
    "    X_train, y_train = X.loc[train_idx], y.loc[train_idx]\n",
    "    X_valid, y_valid = X.loc[valid_idx], y.loc[valid_idx]\n",
    "    id_valid = ids.loc[valid_idx].to_numpy()\n",
    "\n",
    "    model, predictor = train_loop(X_train, y_train, X_valid, y_valid)\n",
    "\n",
    "    with open(f\"output/LGBM/{idx}.pkl\", \"wb\") as file:\n",
    "        pkl.dump({\"predictor\": predictor, \"model\": model}, file)\n",
    "\n",
    "    oof = validate_model(idx, X_valid, y_valid, id_valid, predictor)\n",
    "    oof_df = pd.concat([oof_df, oof])"
   ]
  },
  {
   "cell_type": "code",
   "execution_count": 15,
   "metadata": {},
   "outputs": [
    {
     "name": "stdout",
     "output_type": "stream",
     "text": [
      "Overall Score: 0.8862\n"
     ]
    }
   ],
   "source": [
    "score = get_score(oof_df[\"score\"], oof_df[\"pred_score\"])\n",
    "print(f'Overall Score: {score:<.4f}')\n",
    "wandb.log({\"CV/qwk_score\": score})"
   ]
  },
  {
   "cell_type": "code",
   "execution_count": 16,
   "metadata": {},
   "outputs": [],
   "source": [
    "wandb.log({\"oof_table\": wandb.Table(dataframe=oof_df)})"
   ]
  },
  {
   "cell_type": "code",
   "execution_count": 17,
   "metadata": {},
   "outputs": [],
   "source": [
    "log_metrics(\n",
    "    pd.DataFrame(\n",
    "        {\n",
    "            \"score\": oof_df.score.to_numpy(),\n",
    "            \"pred_score\": oof_df.pred_score.to_numpy(),\n",
    "        }\n",
    "    ),\n",
    "    \"Overall\",\n",
    ")"
   ]
  },
  {
   "cell_type": "code",
   "execution_count": 18,
   "metadata": {},
   "outputs": [
    {
     "data": {
      "application/vnd.jupyter.widget-view+json": {
       "model_id": "b36b4577d99842538c93ab78ed8353b4",
       "version_major": 2,
       "version_minor": 0
      },
      "text/plain": [
       "VBox(children=(Label(value='2.882 MB of 2.882 MB uploaded\\r'), FloatProgress(value=1.0, max=1.0)))"
      ]
     },
     "metadata": {},
     "output_type": "display_data"
    },
    {
     "data": {
      "text/html": [
       "<style>\n",
       "    table.wandb td:nth-child(1) { padding: 0 10px; text-align: left ; width: auto;} td:nth-child(2) {text-align: left ; width: 100%}\n",
       "    .wandb-row { display: flex; flex-direction: row; flex-wrap: wrap; justify-content: flex-start; width: 100% }\n",
       "    .wandb-col { display: flex; flex-direction: column; flex-basis: 100%; flex: 1; padding: 10px; }\n",
       "    </style>\n",
       "<div class=\"wandb-row\"><div class=\"wandb-col\"><h3>Run history:</h3><br/><table class=\"wandb\"><tr><td>CV/qwk_score</td><td>▁</td></tr></table><br/></div><div class=\"wandb-col\"><h3>Run summary:</h3><br/><table class=\"wandb\"><tr><td>CV/qwk_score</td><td>0.88615</td></tr></table><br/></div></div>"
      ],
      "text/plain": [
       "<IPython.core.display.HTML object>"
      ]
     },
     "metadata": {},
     "output_type": "display_data"
    },
    {
     "data": {
      "text/html": [
       " View run <strong style=\"color:#cdcd00\">LGBM-ASE-7</strong> at: <a href='https://wandb.ai/laplacesdemon43/Kaggle_ASE_2.0/runs/8ip8e8ch' target=\"_blank\">https://wandb.ai/laplacesdemon43/Kaggle_ASE_2.0/runs/8ip8e8ch</a><br/> View project at: <a href='https://wandb.ai/laplacesdemon43/Kaggle_ASE_2.0' target=\"_blank\">https://wandb.ai/laplacesdemon43/Kaggle_ASE_2.0</a><br/>Synced 6 W&B file(s), 105 media file(s), 105 artifact file(s) and 1 other file(s)"
      ],
      "text/plain": [
       "<IPython.core.display.HTML object>"
      ]
     },
     "metadata": {},
     "output_type": "display_data"
    },
    {
     "data": {
      "text/html": [
       "Find logs at: <code>./wandb/run-20240602_205546-8ip8e8ch/logs</code>"
      ],
      "text/plain": [
       "<IPython.core.display.HTML object>"
      ]
     },
     "metadata": {},
     "output_type": "display_data"
    }
   ],
   "source": [
    "wandb.finish()"
   ]
  }
 ],
 "metadata": {
  "kernelspec": {
   "display_name": "Python 3 (ipykernel)",
   "language": "python",
   "name": "python3"
  },
  "language_info": {
   "codemirror_mode": {
    "name": "ipython",
    "version": 3
   },
   "file_extension": ".py",
   "mimetype": "text/x-python",
   "name": "python",
   "nbconvert_exporter": "python",
   "pygments_lexer": "ipython3",
   "version": "3.11.8"
  }
 },
 "nbformat": 4,
 "nbformat_minor": 4
}
