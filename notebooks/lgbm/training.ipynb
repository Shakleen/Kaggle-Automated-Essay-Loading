{
 "cells": [
  {
   "cell_type": "markdown",
   "metadata": {},
   "source": [
    "# LGBM - Training\n",
    "\n",
    "Sources\n",
    "1. [LGBM & Deberta Explained by ZULQARNAIN ALI](https://www.kaggle.com/code/zulqarnainalipk/lgbm-deberta-explained)"
   ]
  },
  {
   "cell_type": "markdown",
   "metadata": {},
   "source": [
    "## Setup"
   ]
  },
  {
   "cell_type": "code",
   "execution_count": 1,
   "metadata": {},
   "outputs": [],
   "source": [
    "import os\n",
    "import pandas as pd\n",
    "import numpy as np\n",
    "from sklearn.metrics import cohen_kappa_score\n",
    "import lightgbm as lgb\n",
    "import pickle as pkl\n",
    "import wandb\n",
    "from lightgbm import log_evaluation, early_stopping\n",
    "from sklearn.metrics import cohen_kappa_score\n",
    "from sklearn.model_selection import StratifiedKFold"
   ]
  },
  {
   "cell_type": "code",
   "execution_count": 2,
   "metadata": {},
   "outputs": [],
   "source": [
    "os.chdir(\"../../\")"
   ]
  },
  {
   "cell_type": "code",
   "execution_count": 3,
   "metadata": {},
   "outputs": [],
   "source": [
    "from lib.config import config\n",
    "from lib.paths import Paths\n",
    "from lib.utils.utils import seed_everything\n",
    "from lib.criterion.metrics import log_metrics\n",
    "from lib.model.utils import quadratic_weighted_kappa, qwk_obj, get_score"
   ]
  },
  {
   "cell_type": "code",
   "execution_count": 4,
   "metadata": {},
   "outputs": [],
   "source": [
    "seed_everything()"
   ]
  },
  {
   "cell_type": "markdown",
   "metadata": {},
   "source": [
    "### Setting Up WandB"
   ]
  },
  {
   "cell_type": "code",
   "execution_count": 5,
   "metadata": {},
   "outputs": [],
   "source": [
    "WANDB_PROJECT = \"Kaggle_ASE_2.0\"\n",
    "WANDB_NAME = f\"LGBM-ASE-9\""
   ]
  },
  {
   "cell_type": "code",
   "execution_count": 6,
   "metadata": {},
   "outputs": [
    {
     "name": "stderr",
     "output_type": "stream",
     "text": [
      "Failed to detect the name of this notebook, you can set it manually with the WANDB_NOTEBOOK_NAME environment variable to enable code saving.\n",
      "\u001b[34m\u001b[1mwandb\u001b[0m: Currently logged in as: \u001b[33mshakleenishfar\u001b[0m (\u001b[33mlaplacesdemon43\u001b[0m). Use \u001b[1m`wandb login --relogin`\u001b[0m to force relogin\n",
      "\u001b[34m\u001b[1mwandb\u001b[0m: \u001b[33mWARNING\u001b[0m If you're specifying your api key in code, ensure this code is not shared publicly.\n",
      "\u001b[34m\u001b[1mwandb\u001b[0m: \u001b[33mWARNING\u001b[0m Consider setting the WANDB_API_KEY environment variable, or running `wandb login` from the command line.\n",
      "\u001b[34m\u001b[1mwandb\u001b[0m: Appending key for api.wandb.ai to your netrc file: /home/ishfar/.netrc\n"
     ]
    },
    {
     "data": {
      "text/html": [
       "wandb version 0.17.0 is available!  To upgrade, please run:\n",
       " $ pip install wandb --upgrade"
      ],
      "text/plain": [
       "<IPython.core.display.HTML object>"
      ]
     },
     "metadata": {},
     "output_type": "display_data"
    },
    {
     "data": {
      "text/html": [
       "Tracking run with wandb version 0.16.6"
      ],
      "text/plain": [
       "<IPython.core.display.HTML object>"
      ]
     },
     "metadata": {},
     "output_type": "display_data"
    },
    {
     "data": {
      "text/html": [
       "Run data is saved locally in <code>/media/ishfar/New Volume/Studies/Projects/Kaggle-Automated-Essay-Scoring/wandb/run-20240606_175404-eswsgido</code>"
      ],
      "text/plain": [
       "<IPython.core.display.HTML object>"
      ]
     },
     "metadata": {},
     "output_type": "display_data"
    },
    {
     "data": {
      "text/html": [
       "Syncing run <strong><a href='https://wandb.ai/laplacesdemon43/Kaggle_ASE_2.0/runs/eswsgido' target=\"_blank\">LGBM-ASE-9</a></strong> to <a href='https://wandb.ai/laplacesdemon43/Kaggle_ASE_2.0' target=\"_blank\">Weights & Biases</a> (<a href='https://wandb.me/run' target=\"_blank\">docs</a>)<br/>"
      ],
      "text/plain": [
       "<IPython.core.display.HTML object>"
      ]
     },
     "metadata": {},
     "output_type": "display_data"
    },
    {
     "data": {
      "text/html": [
       " View project at <a href='https://wandb.ai/laplacesdemon43/Kaggle_ASE_2.0' target=\"_blank\">https://wandb.ai/laplacesdemon43/Kaggle_ASE_2.0</a>"
      ],
      "text/plain": [
       "<IPython.core.display.HTML object>"
      ]
     },
     "metadata": {},
     "output_type": "display_data"
    },
    {
     "data": {
      "text/html": [
       " View run at <a href='https://wandb.ai/laplacesdemon43/Kaggle_ASE_2.0/runs/eswsgido' target=\"_blank\">https://wandb.ai/laplacesdemon43/Kaggle_ASE_2.0/runs/eswsgido</a>"
      ],
      "text/plain": [
       "<IPython.core.display.HTML object>"
      ]
     },
     "metadata": {},
     "output_type": "display_data"
    }
   ],
   "source": [
    "wandb.login(key=os.environ.get('WANDB_API_KEY'))\n",
    "wandb.init(\n",
    "    project=WANDB_PROJECT,\n",
    "    name=WANDB_NAME,\n",
    "    save_code=True,\n",
    "    job_type=\"train\",\n",
    "    config=config,\n",
    ")\n",
    "config = wandb.config"
   ]
  },
  {
   "cell_type": "markdown",
   "metadata": {},
   "source": [
    "## Model Training"
   ]
  },
  {
   "cell_type": "markdown",
   "metadata": {},
   "source": [
    "### Dataset Creation"
   ]
  },
  {
   "cell_type": "code",
   "execution_count": 7,
   "metadata": {},
   "outputs": [
    {
     "data": {
      "text/plain": [
       "(17307, 299)"
      ]
     },
     "execution_count": 7,
     "metadata": {},
     "output_type": "execute_result"
    }
   ],
   "source": [
    "df = pd.read_csv(Paths.FEATURE_ENGG_CSV_PATH)\n",
    "df.shape"
   ]
  },
  {
   "cell_type": "code",
   "execution_count": 8,
   "metadata": {},
   "outputs": [
    {
     "data": {
      "text/plain": [
       "((17307, 297), (17307,))"
      ]
     },
     "execution_count": 8,
     "metadata": {},
     "output_type": "execute_result"
    }
   ],
   "source": [
    "ids = df.loc[:, \"essay_id\"]\n",
    "X, y = df.drop(columns=[\"score\", \"essay_id\"]), df.loc[:, \"score\"]\n",
    "del df\n",
    "\n",
    "X.shape, y.shape"
   ]
  },
  {
   "cell_type": "markdown",
   "metadata": {},
   "source": [
    "### Callbacks"
   ]
  },
  {
   "cell_type": "code",
   "execution_count": 9,
   "metadata": {},
   "outputs": [],
   "source": [
    "callbacks = [\n",
    "    log_evaluation(period=25),\n",
    "    early_stopping(stopping_rounds=75, first_metric_only=True),\n",
    "]"
   ]
  },
  {
   "cell_type": "markdown",
   "metadata": {},
   "source": [
    "### Constants"
   ]
  },
  {
   "cell_type": "code",
   "execution_count": 10,
   "metadata": {},
   "outputs": [],
   "source": [
    "a = config.lgbm_a\n",
    "b = config.lgbm_b"
   ]
  },
  {
   "cell_type": "markdown",
   "metadata": {},
   "source": [
    "### Training Loop"
   ]
  },
  {
   "cell_type": "code",
   "execution_count": 11,
   "metadata": {},
   "outputs": [],
   "source": [
    "def train_loop(X_train, y_train, X_valid, y_valid):\n",
    "    y_train = y_train.astype(np.float32) - a\n",
    "    y_valid = y_valid.astype(np.float32) - a\n",
    "\n",
    "    model = lgb.LGBMRegressor(\n",
    "        objective=qwk_obj,\n",
    "        metrics=\"None\",\n",
    "        learning_rate=0.01,\n",
    "        max_depth=5,\n",
    "        num_leaves=10,\n",
    "        colsample_bytree=0.3,\n",
    "        reg_alpha=0.7,\n",
    "        reg_lambda=0.1,\n",
    "        n_estimators=700,\n",
    "        random_state=config.random_seed,\n",
    "        extra_trees=True,\n",
    "        class_weight=\"balanced\",\n",
    "        n_jobs=6,\n",
    "        verbosity=0,\n",
    "    )\n",
    "\n",
    "    # Train model\n",
    "    predictor = model.fit(\n",
    "        X_train,\n",
    "        y_train,\n",
    "        eval_names=[\"train\", \"valid\"],\n",
    "        eval_set=[(X_train, y_train), (X_valid, y_valid)],\n",
    "        eval_metric=quadratic_weighted_kappa,\n",
    "        callbacks=callbacks,\n",
    "    )\n",
    "\n",
    "    return model, predictor"
   ]
  },
  {
   "cell_type": "code",
   "execution_count": 12,
   "metadata": {},
   "outputs": [],
   "source": [
    "def validate_model(idx, X_valid, y_valid, id_valid, predictor):\n",
    "    y_valid_int = y_valid.astype(np.int64).to_numpy()\n",
    "    preds = predictor.predict(X_valid) + a\n",
    "    preds = preds.clip(1, 6).round().astype(np.int64)\n",
    "\n",
    "    oof = pd.DataFrame(\n",
    "        {\n",
    "            \"essay_id\": id_valid,\n",
    "            \"score\": y_valid_int - 1,\n",
    "            \"pred_score\": preds - 1,\n",
    "        }\n",
    "    )\n",
    "    log_metrics(oof, f\"Fold {idx}\")\n",
    "\n",
    "    return oof"
   ]
  },
  {
   "cell_type": "markdown",
   "metadata": {},
   "source": [
    "### Fold Loop"
   ]
  },
  {
   "cell_type": "code",
   "execution_count": 13,
   "metadata": {},
   "outputs": [],
   "source": [
    "skf = StratifiedKFold(\n",
    "    n_splits=config.lgbm_n_folds,\n",
    "    random_state=config.random_seed,\n",
    "    shuffle=True,\n",
    ")"
   ]
  },
  {
   "cell_type": "code",
   "execution_count": 14,
   "metadata": {},
   "outputs": [
    {
     "name": "stdout",
     "output_type": "stream",
     "text": [
      "[LightGBM] [Info] Using self-defined objective function\n",
      "Training until validation scores don't improve for 75 rounds\n",
      "[25]\ttrain's QWK: 0.433068\tvalid's QWK: 0.453181\n",
      "[50]\ttrain's QWK: 0.737055\tvalid's QWK: 0.754012\n",
      "[75]\ttrain's QWK: 0.798599\tvalid's QWK: 0.811799\n",
      "[100]\ttrain's QWK: 0.838116\tvalid's QWK: 0.846833\n",
      "[125]\ttrain's QWK: 0.859684\tvalid's QWK: 0.86327\n",
      "[150]\ttrain's QWK: 0.869297\tvalid's QWK: 0.878138\n",
      "[175]\ttrain's QWK: 0.873054\tvalid's QWK: 0.882727\n",
      "[200]\ttrain's QWK: 0.87601\tvalid's QWK: 0.889005\n",
      "[225]\ttrain's QWK: 0.879133\tvalid's QWK: 0.890358\n",
      "[250]\ttrain's QWK: 0.880839\tvalid's QWK: 0.891393\n",
      "[275]\ttrain's QWK: 0.882086\tvalid's QWK: 0.892983\n",
      "[300]\ttrain's QWK: 0.882908\tvalid's QWK: 0.893411\n",
      "[325]\ttrain's QWK: 0.883796\tvalid's QWK: 0.893411\n",
      "[350]\ttrain's QWK: 0.884465\tvalid's QWK: 0.894965\n",
      "[375]\ttrain's QWK: 0.884932\tvalid's QWK: 0.893909\n",
      "[400]\ttrain's QWK: 0.885352\tvalid's QWK: 0.894784\n",
      "[425]\ttrain's QWK: 0.88595\tvalid's QWK: 0.89564\n",
      "[450]\ttrain's QWK: 0.886498\tvalid's QWK: 0.895197\n",
      "[475]\ttrain's QWK: 0.887083\tvalid's QWK: 0.897222\n",
      "[500]\ttrain's QWK: 0.887243\tvalid's QWK: 0.898251\n",
      "[525]\ttrain's QWK: 0.887512\tvalid's QWK: 0.897655\n",
      "[550]\ttrain's QWK: 0.887693\tvalid's QWK: 0.898251\n",
      "[575]\ttrain's QWK: 0.888221\tvalid's QWK: 0.898967\n",
      "[600]\ttrain's QWK: 0.889109\tvalid's QWK: 0.898967\n",
      "[625]\ttrain's QWK: 0.889583\tvalid's QWK: 0.89935\n",
      "[650]\ttrain's QWK: 0.889721\tvalid's QWK: 0.898756\n",
      "[675]\ttrain's QWK: 0.889898\tvalid's QWK: 0.89935\n",
      "Early stopping, best iteration is:\n",
      "[616]\ttrain's QWK: 0.889413\tvalid's QWK: 0.89935\n",
      "Evaluated only: QWK\n",
      "[LightGBM] [Info] Using self-defined objective function\n",
      "Training until validation scores don't improve for 75 rounds\n",
      "[25]\ttrain's QWK: 0.442674\tvalid's QWK: 0.426238\n",
      "[50]\ttrain's QWK: 0.737317\tvalid's QWK: 0.735023\n",
      "[75]\ttrain's QWK: 0.800489\tvalid's QWK: 0.791018\n",
      "[100]\ttrain's QWK: 0.83672\tvalid's QWK: 0.83723\n",
      "[125]\ttrain's QWK: 0.85896\tvalid's QWK: 0.857066\n",
      "[150]\ttrain's QWK: 0.868876\tvalid's QWK: 0.865602\n",
      "[175]\ttrain's QWK: 0.873184\tvalid's QWK: 0.869358\n",
      "[200]\ttrain's QWK: 0.876264\tvalid's QWK: 0.869588\n",
      "[225]\ttrain's QWK: 0.878562\tvalid's QWK: 0.874146\n",
      "[250]\ttrain's QWK: 0.880404\tvalid's QWK: 0.877562\n",
      "[275]\ttrain's QWK: 0.882336\tvalid's QWK: 0.881866\n",
      "[300]\ttrain's QWK: 0.883653\tvalid's QWK: 0.883414\n",
      "[325]\ttrain's QWK: 0.884434\tvalid's QWK: 0.882987\n",
      "[350]\ttrain's QWK: 0.884989\tvalid's QWK: 0.883159\n",
      "[375]\ttrain's QWK: 0.88542\tvalid's QWK: 0.883144\n",
      "[400]\ttrain's QWK: 0.885755\tvalid's QWK: 0.884925\n",
      "[425]\ttrain's QWK: 0.886087\tvalid's QWK: 0.884819\n",
      "[450]\ttrain's QWK: 0.886624\tvalid's QWK: 0.884547\n",
      "[475]\ttrain's QWK: 0.886951\tvalid's QWK: 0.887171\n",
      "[500]\ttrain's QWK: 0.88728\tvalid's QWK: 0.887171\n",
      "[525]\ttrain's QWK: 0.887875\tvalid's QWK: 0.887749\n",
      "[550]\ttrain's QWK: 0.888021\tvalid's QWK: 0.890403\n",
      "[575]\ttrain's QWK: 0.888429\tvalid's QWK: 0.889812\n",
      "[600]\ttrain's QWK: 0.888688\tvalid's QWK: 0.889812\n",
      "[625]\ttrain's QWK: 0.889277\tvalid's QWK: 0.890258\n",
      "Early stopping, best iteration is:\n",
      "[562]\ttrain's QWK: 0.888192\tvalid's QWK: 0.890837\n",
      "Evaluated only: QWK\n",
      "[LightGBM] [Info] Using self-defined objective function\n",
      "Training until validation scores don't improve for 75 rounds\n",
      "[25]\ttrain's QWK: 0.440685\tvalid's QWK: 0.459861\n",
      "[50]\ttrain's QWK: 0.736577\tvalid's QWK: 0.74403\n",
      "[75]\ttrain's QWK: 0.799038\tvalid's QWK: 0.803044\n",
      "[100]\ttrain's QWK: 0.835097\tvalid's QWK: 0.846738\n",
      "[125]\ttrain's QWK: 0.858152\tvalid's QWK: 0.871624\n",
      "[150]\ttrain's QWK: 0.867108\tvalid's QWK: 0.881907\n",
      "[175]\ttrain's QWK: 0.872193\tvalid's QWK: 0.885637\n",
      "[200]\ttrain's QWK: 0.875463\tvalid's QWK: 0.885716\n",
      "[225]\ttrain's QWK: 0.878333\tvalid's QWK: 0.887106\n",
      "[250]\ttrain's QWK: 0.880804\tvalid's QWK: 0.893532\n",
      "[275]\ttrain's QWK: 0.882685\tvalid's QWK: 0.892632\n",
      "[300]\ttrain's QWK: 0.884021\tvalid's QWK: 0.891619\n",
      "[325]\ttrain's QWK: 0.884583\tvalid's QWK: 0.893184\n",
      "Early stopping, best iteration is:\n",
      "[263]\ttrain's QWK: 0.881681\tvalid's QWK: 0.894251\n",
      "Evaluated only: QWK\n",
      "[LightGBM] [Info] Using self-defined objective function\n",
      "Training until validation scores don't improve for 75 rounds\n",
      "[25]\ttrain's QWK: 0.454643\tvalid's QWK: 0.434588\n",
      "[50]\ttrain's QWK: 0.735798\tvalid's QWK: 0.718508\n",
      "[75]\ttrain's QWK: 0.800242\tvalid's QWK: 0.783735\n",
      "[100]\ttrain's QWK: 0.83599\tvalid's QWK: 0.815822\n",
      "[125]\ttrain's QWK: 0.85897\tvalid's QWK: 0.853821\n",
      "[150]\ttrain's QWK: 0.86914\tvalid's QWK: 0.859787\n",
      "[175]\ttrain's QWK: 0.874182\tvalid's QWK: 0.866923\n",
      "[200]\ttrain's QWK: 0.877143\tvalid's QWK: 0.870731\n",
      "[225]\ttrain's QWK: 0.87941\tvalid's QWK: 0.873278\n",
      "[250]\ttrain's QWK: 0.882159\tvalid's QWK: 0.874881\n",
      "[275]\ttrain's QWK: 0.883716\tvalid's QWK: 0.87751\n",
      "[300]\ttrain's QWK: 0.884377\tvalid's QWK: 0.880087\n",
      "[325]\ttrain's QWK: 0.885467\tvalid's QWK: 0.87982\n",
      "[350]\ttrain's QWK: 0.885956\tvalid's QWK: 0.87982\n",
      "[375]\ttrain's QWK: 0.886508\tvalid's QWK: 0.881859\n",
      "[400]\ttrain's QWK: 0.886531\tvalid's QWK: 0.880407\n",
      "[425]\ttrain's QWK: 0.886999\tvalid's QWK: 0.881497\n",
      "Early stopping, best iteration is:\n",
      "[363]\ttrain's QWK: 0.886138\tvalid's QWK: 0.881859\n",
      "Evaluated only: QWK\n",
      "[LightGBM] [Info] Using self-defined objective function\n",
      "Training until validation scores don't improve for 75 rounds\n",
      "[25]\ttrain's QWK: 0.443225\tvalid's QWK: 0.446731\n",
      "[50]\ttrain's QWK: 0.736282\tvalid's QWK: 0.738902\n",
      "[75]\ttrain's QWK: 0.795817\tvalid's QWK: 0.795319\n",
      "[100]\ttrain's QWK: 0.840257\tvalid's QWK: 0.840506\n",
      "[125]\ttrain's QWK: 0.858598\tvalid's QWK: 0.863512\n",
      "[150]\ttrain's QWK: 0.867168\tvalid's QWK: 0.867949\n",
      "[175]\ttrain's QWK: 0.87264\tvalid's QWK: 0.871017\n",
      "[200]\ttrain's QWK: 0.87526\tvalid's QWK: 0.871896\n",
      "[225]\ttrain's QWK: 0.878565\tvalid's QWK: 0.874417\n",
      "[250]\ttrain's QWK: 0.880093\tvalid's QWK: 0.87624\n",
      "[275]\ttrain's QWK: 0.882054\tvalid's QWK: 0.877498\n",
      "[300]\ttrain's QWK: 0.883569\tvalid's QWK: 0.879499\n",
      "[325]\ttrain's QWK: 0.884452\tvalid's QWK: 0.879547\n",
      "[350]\ttrain's QWK: 0.885275\tvalid's QWK: 0.879865\n",
      "[375]\ttrain's QWK: 0.886044\tvalid's QWK: 0.880355\n",
      "[400]\ttrain's QWK: 0.88628\tvalid's QWK: 0.883565\n",
      "[425]\ttrain's QWK: 0.886526\tvalid's QWK: 0.883437\n",
      "[450]\ttrain's QWK: 0.886942\tvalid's QWK: 0.883437\n",
      "Early stopping, best iteration is:\n",
      "[397]\ttrain's QWK: 0.886254\tvalid's QWK: 0.883565\n",
      "Evaluated only: QWK\n",
      "[LightGBM] [Info] Using self-defined objective function\n",
      "Training until validation scores don't improve for 75 rounds\n",
      "[25]\ttrain's QWK: 0.448401\tvalid's QWK: 0.433084\n",
      "[50]\ttrain's QWK: 0.734517\tvalid's QWK: 0.712375\n",
      "[75]\ttrain's QWK: 0.800779\tvalid's QWK: 0.789758\n",
      "[100]\ttrain's QWK: 0.83849\tvalid's QWK: 0.827747\n",
      "[125]\ttrain's QWK: 0.859638\tvalid's QWK: 0.840512\n",
      "[150]\ttrain's QWK: 0.868411\tvalid's QWK: 0.850449\n",
      "[175]\ttrain's QWK: 0.873683\tvalid's QWK: 0.852401\n",
      "[200]\ttrain's QWK: 0.876503\tvalid's QWK: 0.857888\n",
      "[225]\ttrain's QWK: 0.878983\tvalid's QWK: 0.8621\n",
      "[250]\ttrain's QWK: 0.881525\tvalid's QWK: 0.865385\n",
      "[275]\ttrain's QWK: 0.884005\tvalid's QWK: 0.866326\n",
      "[300]\ttrain's QWK: 0.885142\tvalid's QWK: 0.869039\n",
      "[325]\ttrain's QWK: 0.885726\tvalid's QWK: 0.86959\n",
      "[350]\ttrain's QWK: 0.886372\tvalid's QWK: 0.86954\n",
      "[375]\ttrain's QWK: 0.886803\tvalid's QWK: 0.869297\n",
      "[400]\ttrain's QWK: 0.887298\tvalid's QWK: 0.869473\n",
      "Early stopping, best iteration is:\n",
      "[326]\ttrain's QWK: 0.885907\tvalid's QWK: 0.870542\n",
      "Evaluated only: QWK\n",
      "[LightGBM] [Info] Using self-defined objective function\n",
      "Training until validation scores don't improve for 75 rounds\n",
      "[25]\ttrain's QWK: 0.4407\tvalid's QWK: 0.440534\n",
      "[50]\ttrain's QWK: 0.735085\tvalid's QWK: 0.729859\n",
      "[75]\ttrain's QWK: 0.800749\tvalid's QWK: 0.789407\n",
      "[100]\ttrain's QWK: 0.837273\tvalid's QWK: 0.836282\n",
      "[125]\ttrain's QWK: 0.858676\tvalid's QWK: 0.859835\n",
      "[150]\ttrain's QWK: 0.868323\tvalid's QWK: 0.871157\n",
      "[175]\ttrain's QWK: 0.873147\tvalid's QWK: 0.876534\n",
      "[200]\ttrain's QWK: 0.876952\tvalid's QWK: 0.877457\n",
      "[225]\ttrain's QWK: 0.879526\tvalid's QWK: 0.878508\n",
      "[250]\ttrain's QWK: 0.881547\tvalid's QWK: 0.882299\n",
      "[275]\ttrain's QWK: 0.882827\tvalid's QWK: 0.884943\n",
      "[300]\ttrain's QWK: 0.883942\tvalid's QWK: 0.883918\n",
      "[325]\ttrain's QWK: 0.88477\tvalid's QWK: 0.885283\n",
      "[350]\ttrain's QWK: 0.885276\tvalid's QWK: 0.888128\n",
      "[375]\ttrain's QWK: 0.88616\tvalid's QWK: 0.887247\n",
      "[400]\ttrain's QWK: 0.886605\tvalid's QWK: 0.886816\n",
      "Early stopping, best iteration is:\n",
      "[349]\ttrain's QWK: 0.885282\tvalid's QWK: 0.888128\n",
      "Evaluated only: QWK\n",
      "[LightGBM] [Info] Using self-defined objective function\n",
      "Training until validation scores don't improve for 75 rounds\n",
      "[25]\ttrain's QWK: 0.437199\tvalid's QWK: 0.406686\n",
      "[50]\ttrain's QWK: 0.734256\tvalid's QWK: 0.72226\n",
      "[75]\ttrain's QWK: 0.803025\tvalid's QWK: 0.802278\n",
      "[100]\ttrain's QWK: 0.838726\tvalid's QWK: 0.832233\n",
      "[125]\ttrain's QWK: 0.861598\tvalid's QWK: 0.848686\n",
      "[150]\ttrain's QWK: 0.869736\tvalid's QWK: 0.852868\n",
      "[175]\ttrain's QWK: 0.873091\tvalid's QWK: 0.862739\n",
      "[200]\ttrain's QWK: 0.876844\tvalid's QWK: 0.864531\n",
      "[225]\ttrain's QWK: 0.879435\tvalid's QWK: 0.870135\n",
      "[250]\ttrain's QWK: 0.881052\tvalid's QWK: 0.870791\n",
      "[275]\ttrain's QWK: 0.882669\tvalid's QWK: 0.872599\n",
      "[300]\ttrain's QWK: 0.883683\tvalid's QWK: 0.873264\n",
      "[325]\ttrain's QWK: 0.885013\tvalid's QWK: 0.874968\n",
      "[350]\ttrain's QWK: 0.885896\tvalid's QWK: 0.874834\n",
      "[375]\ttrain's QWK: 0.886664\tvalid's QWK: 0.875945\n",
      "[400]\ttrain's QWK: 0.886954\tvalid's QWK: 0.875266\n",
      "[425]\ttrain's QWK: 0.887236\tvalid's QWK: 0.875266\n",
      "[450]\ttrain's QWK: 0.887524\tvalid's QWK: 0.875266\n",
      "Early stopping, best iteration is:\n",
      "[375]\ttrain's QWK: 0.886664\tvalid's QWK: 0.875945\n",
      "Evaluated only: QWK\n",
      "[LightGBM] [Info] Using self-defined objective function\n",
      "Training until validation scores don't improve for 75 rounds\n",
      "[25]\ttrain's QWK: 0.434046\tvalid's QWK: 0.382748\n",
      "[50]\ttrain's QWK: 0.734083\tvalid's QWK: 0.731581\n",
      "[75]\ttrain's QWK: 0.801952\tvalid's QWK: 0.800917\n",
      "[100]\ttrain's QWK: 0.841158\tvalid's QWK: 0.828716\n",
      "[125]\ttrain's QWK: 0.860578\tvalid's QWK: 0.845257\n",
      "[150]\ttrain's QWK: 0.868774\tvalid's QWK: 0.867507\n",
      "[175]\ttrain's QWK: 0.872814\tvalid's QWK: 0.870881\n",
      "[200]\ttrain's QWK: 0.875589\tvalid's QWK: 0.873219\n",
      "[225]\ttrain's QWK: 0.878203\tvalid's QWK: 0.875655\n",
      "[250]\ttrain's QWK: 0.880672\tvalid's QWK: 0.878595\n",
      "[275]\ttrain's QWK: 0.882919\tvalid's QWK: 0.879703\n",
      "[300]\ttrain's QWK: 0.883598\tvalid's QWK: 0.88002\n",
      "[325]\ttrain's QWK: 0.88464\tvalid's QWK: 0.88119\n",
      "[350]\ttrain's QWK: 0.88544\tvalid's QWK: 0.881336\n",
      "[375]\ttrain's QWK: 0.885749\tvalid's QWK: 0.880944\n",
      "Early stopping, best iteration is:\n",
      "[316]\ttrain's QWK: 0.8846\tvalid's QWK: 0.881642\n",
      "Evaluated only: QWK\n",
      "[LightGBM] [Info] Using self-defined objective function\n",
      "Training until validation scores don't improve for 75 rounds\n",
      "[25]\ttrain's QWK: 0.435794\tvalid's QWK: 0.460494\n",
      "[50]\ttrain's QWK: 0.73301\tvalid's QWK: 0.72922\n",
      "[75]\ttrain's QWK: 0.799713\tvalid's QWK: 0.81456\n",
      "[100]\ttrain's QWK: 0.837223\tvalid's QWK: 0.854834\n",
      "[125]\ttrain's QWK: 0.859302\tvalid's QWK: 0.878218\n",
      "[150]\ttrain's QWK: 0.868339\tvalid's QWK: 0.8848\n",
      "[175]\ttrain's QWK: 0.871994\tvalid's QWK: 0.884253\n",
      "[200]\ttrain's QWK: 0.87431\tvalid's QWK: 0.890788\n",
      "[225]\ttrain's QWK: 0.877607\tvalid's QWK: 0.893169\n",
      "[250]\ttrain's QWK: 0.880003\tvalid's QWK: 0.895852\n",
      "[275]\ttrain's QWK: 0.882013\tvalid's QWK: 0.895803\n",
      "[300]\ttrain's QWK: 0.883286\tvalid's QWK: 0.898563\n",
      "[325]\ttrain's QWK: 0.884204\tvalid's QWK: 0.899424\n",
      "[350]\ttrain's QWK: 0.884926\tvalid's QWK: 0.900164\n",
      "[375]\ttrain's QWK: 0.885503\tvalid's QWK: 0.90081\n",
      "[400]\ttrain's QWK: 0.886039\tvalid's QWK: 0.898568\n",
      "[425]\ttrain's QWK: 0.886419\tvalid's QWK: 0.898434\n",
      "Early stopping, best iteration is:\n",
      "[367]\ttrain's QWK: 0.885249\tvalid's QWK: 0.901283\n",
      "Evaluated only: QWK\n",
      "[LightGBM] [Info] Using self-defined objective function\n",
      "Training until validation scores don't improve for 75 rounds\n",
      "[25]\ttrain's QWK: 0.443323\tvalid's QWK: 0.454768\n",
      "[50]\ttrain's QWK: 0.733444\tvalid's QWK: 0.738867\n",
      "[75]\ttrain's QWK: 0.797635\tvalid's QWK: 0.802484\n",
      "[100]\ttrain's QWK: 0.835126\tvalid's QWK: 0.841568\n",
      "[125]\ttrain's QWK: 0.858326\tvalid's QWK: 0.866998\n",
      "[150]\ttrain's QWK: 0.867489\tvalid's QWK: 0.872606\n",
      "[175]\ttrain's QWK: 0.872624\tvalid's QWK: 0.88177\n",
      "[200]\ttrain's QWK: 0.875676\tvalid's QWK: 0.886929\n",
      "[225]\ttrain's QWK: 0.87865\tvalid's QWK: 0.886479\n",
      "[250]\ttrain's QWK: 0.880051\tvalid's QWK: 0.890627\n",
      "[275]\ttrain's QWK: 0.882369\tvalid's QWK: 0.890791\n",
      "[300]\ttrain's QWK: 0.884016\tvalid's QWK: 0.890791\n",
      "[325]\ttrain's QWK: 0.884871\tvalid's QWK: 0.892918\n",
      "[350]\ttrain's QWK: 0.8855\tvalid's QWK: 0.892013\n",
      "[375]\ttrain's QWK: 0.886021\tvalid's QWK: 0.891114\n",
      "[400]\ttrain's QWK: 0.886231\tvalid's QWK: 0.892612\n",
      "[425]\ttrain's QWK: 0.886376\tvalid's QWK: 0.891715\n",
      "[450]\ttrain's QWK: 0.886471\tvalid's QWK: 0.892597\n",
      "Early stopping, best iteration is:\n",
      "[385]\ttrain's QWK: 0.886055\tvalid's QWK: 0.89306\n",
      "Evaluated only: QWK\n",
      "[LightGBM] [Info] Using self-defined objective function\n",
      "Training until validation scores don't improve for 75 rounds\n",
      "[25]\ttrain's QWK: 0.431649\tvalid's QWK: 0.452077\n",
      "[50]\ttrain's QWK: 0.7345\tvalid's QWK: 0.740511\n",
      "[75]\ttrain's QWK: 0.798827\tvalid's QWK: 0.808485\n",
      "[100]\ttrain's QWK: 0.837137\tvalid's QWK: 0.84218\n",
      "[125]\ttrain's QWK: 0.858502\tvalid's QWK: 0.856373\n",
      "[150]\ttrain's QWK: 0.867079\tvalid's QWK: 0.868581\n",
      "[175]\ttrain's QWK: 0.872626\tvalid's QWK: 0.870043\n",
      "[200]\ttrain's QWK: 0.875868\tvalid's QWK: 0.873014\n",
      "[225]\ttrain's QWK: 0.879534\tvalid's QWK: 0.877046\n",
      "[250]\ttrain's QWK: 0.881177\tvalid's QWK: 0.879937\n",
      "[275]\ttrain's QWK: 0.882375\tvalid's QWK: 0.88338\n",
      "[300]\ttrain's QWK: 0.883268\tvalid's QWK: 0.885236\n",
      "[325]\ttrain's QWK: 0.883683\tvalid's QWK: 0.888828\n",
      "[350]\ttrain's QWK: 0.884533\tvalid's QWK: 0.889112\n",
      "[375]\ttrain's QWK: 0.885209\tvalid's QWK: 0.888805\n",
      "[400]\ttrain's QWK: 0.88556\tvalid's QWK: 0.887751\n",
      "Early stopping, best iteration is:\n",
      "[338]\ttrain's QWK: 0.884298\tvalid's QWK: 0.889569\n",
      "Evaluated only: QWK\n",
      "[LightGBM] [Info] Using self-defined objective function\n",
      "Training until validation scores don't improve for 75 rounds\n",
      "[25]\ttrain's QWK: 0.434564\tvalid's QWK: 0.422274\n",
      "[50]\ttrain's QWK: 0.731442\tvalid's QWK: 0.746853\n",
      "[75]\ttrain's QWK: 0.801016\tvalid's QWK: 0.800745\n",
      "[100]\ttrain's QWK: 0.840416\tvalid's QWK: 0.846533\n",
      "[125]\ttrain's QWK: 0.860045\tvalid's QWK: 0.868567\n",
      "[150]\ttrain's QWK: 0.868579\tvalid's QWK: 0.8723\n",
      "[175]\ttrain's QWK: 0.872836\tvalid's QWK: 0.875392\n",
      "[200]\ttrain's QWK: 0.876186\tvalid's QWK: 0.872449\n",
      "[225]\ttrain's QWK: 0.879556\tvalid's QWK: 0.873972\n",
      "[250]\ttrain's QWK: 0.881756\tvalid's QWK: 0.880419\n",
      "[275]\ttrain's QWK: 0.883624\tvalid's QWK: 0.880387\n",
      "[300]\ttrain's QWK: 0.884871\tvalid's QWK: 0.879104\n",
      "[325]\ttrain's QWK: 0.885721\tvalid's QWK: 0.880665\n",
      "[350]\ttrain's QWK: 0.886373\tvalid's QWK: 0.881488\n",
      "[375]\ttrain's QWK: 0.886795\tvalid's QWK: 0.880497\n",
      "[400]\ttrain's QWK: 0.887427\tvalid's QWK: 0.880497\n",
      "Early stopping, best iteration is:\n",
      "[339]\ttrain's QWK: 0.886209\tvalid's QWK: 0.881751\n",
      "Evaluated only: QWK\n",
      "[LightGBM] [Info] Using self-defined objective function\n",
      "Training until validation scores don't improve for 75 rounds\n",
      "[25]\ttrain's QWK: 0.454508\tvalid's QWK: 0.449223\n",
      "[50]\ttrain's QWK: 0.736775\tvalid's QWK: 0.709899\n",
      "[75]\ttrain's QWK: 0.800841\tvalid's QWK: 0.780996\n",
      "[100]\ttrain's QWK: 0.838426\tvalid's QWK: 0.821364\n",
      "[125]\ttrain's QWK: 0.859462\tvalid's QWK: 0.850245\n",
      "[150]\ttrain's QWK: 0.869959\tvalid's QWK: 0.853154\n",
      "[175]\ttrain's QWK: 0.875112\tvalid's QWK: 0.857082\n",
      "[200]\ttrain's QWK: 0.877157\tvalid's QWK: 0.861072\n",
      "[225]\ttrain's QWK: 0.87961\tvalid's QWK: 0.863213\n",
      "[250]\ttrain's QWK: 0.881936\tvalid's QWK: 0.863193\n",
      "[275]\ttrain's QWK: 0.883625\tvalid's QWK: 0.862558\n",
      "[300]\ttrain's QWK: 0.884481\tvalid's QWK: 0.862695\n",
      "[325]\ttrain's QWK: 0.885363\tvalid's QWK: 0.863043\n",
      "[350]\ttrain's QWK: 0.88614\tvalid's QWK: 0.861891\n",
      "Early stopping, best iteration is:\n",
      "[290]\ttrain's QWK: 0.883879\tvalid's QWK: 0.865222\n",
      "Evaluated only: QWK\n",
      "[LightGBM] [Info] Using self-defined objective function\n",
      "Training until validation scores don't improve for 75 rounds\n",
      "[25]\ttrain's QWK: 0.437626\tvalid's QWK: 0.464064\n",
      "[50]\ttrain's QWK: 0.736955\tvalid's QWK: 0.751603\n",
      "[75]\ttrain's QWK: 0.802293\tvalid's QWK: 0.824372\n",
      "[100]\ttrain's QWK: 0.837163\tvalid's QWK: 0.850742\n",
      "[125]\ttrain's QWK: 0.858446\tvalid's QWK: 0.866758\n",
      "[150]\ttrain's QWK: 0.868451\tvalid's QWK: 0.872989\n",
      "[175]\ttrain's QWK: 0.873363\tvalid's QWK: 0.878144\n",
      "[200]\ttrain's QWK: 0.875986\tvalid's QWK: 0.881999\n",
      "[225]\ttrain's QWK: 0.879098\tvalid's QWK: 0.882101\n",
      "[250]\ttrain's QWK: 0.881424\tvalid's QWK: 0.887024\n",
      "[275]\ttrain's QWK: 0.882894\tvalid's QWK: 0.890013\n",
      "[300]\ttrain's QWK: 0.884569\tvalid's QWK: 0.889429\n",
      "[325]\ttrain's QWK: 0.885192\tvalid's QWK: 0.889429\n",
      "[350]\ttrain's QWK: 0.885854\tvalid's QWK: 0.890482\n",
      "[375]\ttrain's QWK: 0.886027\tvalid's QWK: 0.892239\n",
      "[400]\ttrain's QWK: 0.886287\tvalid's QWK: 0.892239\n",
      "[425]\ttrain's QWK: 0.886564\tvalid's QWK: 0.891642\n",
      "Early stopping, best iteration is:\n",
      "[362]\ttrain's QWK: 0.885737\tvalid's QWK: 0.892239\n",
      "Evaluated only: QWK\n",
      "[LightGBM] [Info] Using self-defined objective function\n",
      "Training until validation scores don't improve for 75 rounds\n",
      "[25]\ttrain's QWK: 0.427513\tvalid's QWK: 0.432438\n",
      "[50]\ttrain's QWK: 0.73708\tvalid's QWK: 0.742783\n",
      "[75]\ttrain's QWK: 0.803621\tvalid's QWK: 0.807541\n",
      "[100]\ttrain's QWK: 0.839253\tvalid's QWK: 0.836767\n",
      "[125]\ttrain's QWK: 0.859015\tvalid's QWK: 0.862169\n",
      "[150]\ttrain's QWK: 0.868243\tvalid's QWK: 0.867777\n",
      "[175]\ttrain's QWK: 0.872176\tvalid's QWK: 0.877807\n",
      "[200]\ttrain's QWK: 0.874568\tvalid's QWK: 0.879256\n",
      "[225]\ttrain's QWK: 0.877357\tvalid's QWK: 0.878752\n",
      "[250]\ttrain's QWK: 0.880491\tvalid's QWK: 0.880667\n",
      "[275]\ttrain's QWK: 0.88217\tvalid's QWK: 0.878545\n",
      "Early stopping, best iteration is:\n",
      "[213]\ttrain's QWK: 0.876095\tvalid's QWK: 0.881442\n",
      "Evaluated only: QWK\n",
      "[LightGBM] [Info] Using self-defined objective function\n",
      "Training until validation scores don't improve for 75 rounds\n",
      "[25]\ttrain's QWK: 0.439127\tvalid's QWK: 0.472578\n",
      "[50]\ttrain's QWK: 0.737462\tvalid's QWK: 0.739172\n",
      "[75]\ttrain's QWK: 0.803243\tvalid's QWK: 0.802043\n",
      "[100]\ttrain's QWK: 0.839996\tvalid's QWK: 0.845391\n",
      "[125]\ttrain's QWK: 0.859961\tvalid's QWK: 0.867467\n",
      "[150]\ttrain's QWK: 0.86927\tvalid's QWK: 0.876252\n",
      "[175]\ttrain's QWK: 0.873358\tvalid's QWK: 0.875681\n",
      "[200]\ttrain's QWK: 0.875806\tvalid's QWK: 0.877288\n",
      "[225]\ttrain's QWK: 0.879017\tvalid's QWK: 0.877873\n",
      "[250]\ttrain's QWK: 0.881114\tvalid's QWK: 0.877616\n",
      "[275]\ttrain's QWK: 0.882818\tvalid's QWK: 0.877439\n",
      "Early stopping, best iteration is:\n",
      "[208]\ttrain's QWK: 0.877033\tvalid's QWK: 0.879924\n",
      "Evaluated only: QWK\n"
     ]
    },
    {
     "name": "stderr",
     "output_type": "stream",
     "text": [
      "/media/ishfar/New Volume/Studies/Projects/Kaggle-Automated-Essay-Scoring/lib/criterion/metrics.py:34: RuntimeWarning: invalid value encountered in scalar divide\n",
      "  precision = tp / (tp + fp)\n"
     ]
    },
    {
     "name": "stdout",
     "output_type": "stream",
     "text": [
      "[LightGBM] [Info] Using self-defined objective function\n",
      "Training until validation scores don't improve for 75 rounds\n",
      "[25]\ttrain's QWK: 0.426811\tvalid's QWK: 0.42107\n",
      "[50]\ttrain's QWK: 0.736773\tvalid's QWK: 0.731004\n",
      "[75]\ttrain's QWK: 0.802168\tvalid's QWK: 0.793421\n",
      "[100]\ttrain's QWK: 0.839992\tvalid's QWK: 0.836942\n",
      "[125]\ttrain's QWK: 0.859912\tvalid's QWK: 0.863887\n",
      "[150]\ttrain's QWK: 0.86871\tvalid's QWK: 0.864731\n",
      "[175]\ttrain's QWK: 0.872301\tvalid's QWK: 0.87086\n",
      "[200]\ttrain's QWK: 0.874933\tvalid's QWK: 0.872307\n",
      "[225]\ttrain's QWK: 0.877049\tvalid's QWK: 0.875241\n",
      "[250]\ttrain's QWK: 0.880077\tvalid's QWK: 0.881095\n",
      "[275]\ttrain's QWK: 0.882125\tvalid's QWK: 0.883398\n",
      "[300]\ttrain's QWK: 0.88328\tvalid's QWK: 0.882498\n",
      "[325]\ttrain's QWK: 0.884608\tvalid's QWK: 0.883565\n",
      "[350]\ttrain's QWK: 0.885443\tvalid's QWK: 0.885598\n",
      "[375]\ttrain's QWK: 0.885985\tvalid's QWK: 0.88592\n",
      "[400]\ttrain's QWK: 0.886506\tvalid's QWK: 0.886654\n",
      "[425]\ttrain's QWK: 0.88663\tvalid's QWK: 0.888434\n",
      "[450]\ttrain's QWK: 0.886837\tvalid's QWK: 0.887421\n",
      "[475]\ttrain's QWK: 0.886813\tvalid's QWK: 0.888301\n",
      "[500]\ttrain's QWK: 0.887011\tvalid's QWK: 0.887852\n",
      "Early stopping, best iteration is:\n",
      "[438]\ttrain's QWK: 0.886784\tvalid's QWK: 0.88845\n",
      "Evaluated only: QWK\n",
      "[LightGBM] [Info] Using self-defined objective function\n",
      "Training until validation scores don't improve for 75 rounds\n",
      "[25]\ttrain's QWK: 0.428473\tvalid's QWK: 0.443952\n",
      "[50]\ttrain's QWK: 0.737187\tvalid's QWK: 0.759622\n",
      "[75]\ttrain's QWK: 0.801147\tvalid's QWK: 0.804714\n",
      "[100]\ttrain's QWK: 0.840284\tvalid's QWK: 0.837272\n",
      "[125]\ttrain's QWK: 0.86008\tvalid's QWK: 0.860107\n",
      "[150]\ttrain's QWK: 0.868212\tvalid's QWK: 0.863314\n",
      "[175]\ttrain's QWK: 0.872963\tvalid's QWK: 0.867883\n",
      "[200]\ttrain's QWK: 0.876149\tvalid's QWK: 0.872713\n",
      "[225]\ttrain's QWK: 0.878077\tvalid's QWK: 0.879291\n",
      "[250]\ttrain's QWK: 0.880559\tvalid's QWK: 0.882997\n",
      "[275]\ttrain's QWK: 0.882886\tvalid's QWK: 0.8889\n",
      "[300]\ttrain's QWK: 0.883635\tvalid's QWK: 0.890393\n",
      "[325]\ttrain's QWK: 0.884041\tvalid's QWK: 0.891257\n",
      "[350]\ttrain's QWK: 0.884923\tvalid's QWK: 0.890816\n",
      "[375]\ttrain's QWK: 0.885642\tvalid's QWK: 0.890956\n",
      "Early stopping, best iteration is:\n",
      "[324]\ttrain's QWK: 0.883928\tvalid's QWK: 0.891257\n",
      "Evaluated only: QWK\n",
      "[LightGBM] [Info] Using self-defined objective function\n",
      "Training until validation scores don't improve for 75 rounds\n",
      "[25]\ttrain's QWK: 0.427877\tvalid's QWK: 0.439535\n",
      "[50]\ttrain's QWK: 0.737891\tvalid's QWK: 0.74804\n",
      "[75]\ttrain's QWK: 0.804414\tvalid's QWK: 0.802229\n",
      "[100]\ttrain's QWK: 0.838948\tvalid's QWK: 0.843225\n",
      "[125]\ttrain's QWK: 0.859447\tvalid's QWK: 0.860922\n",
      "[150]\ttrain's QWK: 0.868852\tvalid's QWK: 0.875666\n",
      "[175]\ttrain's QWK: 0.872922\tvalid's QWK: 0.879977\n",
      "[200]\ttrain's QWK: 0.875147\tvalid's QWK: 0.887368\n",
      "[225]\ttrain's QWK: 0.877972\tvalid's QWK: 0.890151\n",
      "[250]\ttrain's QWK: 0.880335\tvalid's QWK: 0.893482\n",
      "[275]\ttrain's QWK: 0.881626\tvalid's QWK: 0.895419\n",
      "[300]\ttrain's QWK: 0.882375\tvalid's QWK: 0.894494\n",
      "[325]\ttrain's QWK: 0.883762\tvalid's QWK: 0.898596\n",
      "[350]\ttrain's QWK: 0.884267\tvalid's QWK: 0.897836\n",
      "[375]\ttrain's QWK: 0.884704\tvalid's QWK: 0.898694\n",
      "[400]\ttrain's QWK: 0.885251\tvalid's QWK: 0.899562\n",
      "[425]\ttrain's QWK: 0.885661\tvalid's QWK: 0.900296\n",
      "[450]\ttrain's QWK: 0.886239\tvalid's QWK: 0.900296\n",
      "[475]\ttrain's QWK: 0.886356\tvalid's QWK: 0.900296\n",
      "Early stopping, best iteration is:\n",
      "[401]\ttrain's QWK: 0.88527\tvalid's QWK: 0.900296\n",
      "Evaluated only: QWK\n",
      "[LightGBM] [Info] Using self-defined objective function\n",
      "Training until validation scores don't improve for 75 rounds\n",
      "[25]\ttrain's QWK: 0.435279\tvalid's QWK: 0.396419\n",
      "[50]\ttrain's QWK: 0.731667\tvalid's QWK: 0.751684\n",
      "[75]\ttrain's QWK: 0.80308\tvalid's QWK: 0.812601\n",
      "[100]\ttrain's QWK: 0.838984\tvalid's QWK: 0.854031\n",
      "[125]\ttrain's QWK: 0.85904\tvalid's QWK: 0.868643\n",
      "[150]\ttrain's QWK: 0.86829\tvalid's QWK: 0.878131\n",
      "[175]\ttrain's QWK: 0.873231\tvalid's QWK: 0.880615\n",
      "[200]\ttrain's QWK: 0.876413\tvalid's QWK: 0.881347\n",
      "[225]\ttrain's QWK: 0.878798\tvalid's QWK: 0.886668\n",
      "[250]\ttrain's QWK: 0.880663\tvalid's QWK: 0.887601\n",
      "[275]\ttrain's QWK: 0.882459\tvalid's QWK: 0.888851\n",
      "[300]\ttrain's QWK: 0.883605\tvalid's QWK: 0.887944\n",
      "[325]\ttrain's QWK: 0.884357\tvalid's QWK: 0.890073\n",
      "[350]\ttrain's QWK: 0.88531\tvalid's QWK: 0.889924\n",
      "[375]\ttrain's QWK: 0.88535\tvalid's QWK: 0.892916\n",
      "[400]\ttrain's QWK: 0.885874\tvalid's QWK: 0.8917\n",
      "[425]\ttrain's QWK: 0.886482\tvalid's QWK: 0.89212\n",
      "Early stopping, best iteration is:\n",
      "[353]\ttrain's QWK: 0.885396\tvalid's QWK: 0.892948\n",
      "Evaluated only: QWK\n",
      "[LightGBM] [Info] Using self-defined objective function\n",
      "Training until validation scores don't improve for 75 rounds\n",
      "[25]\ttrain's QWK: 0.434531\tvalid's QWK: 0.418643\n",
      "[50]\ttrain's QWK: 0.737448\tvalid's QWK: 0.724177\n",
      "[75]\ttrain's QWK: 0.799501\tvalid's QWK: 0.79102\n",
      "[100]\ttrain's QWK: 0.83892\tvalid's QWK: 0.826152\n",
      "[125]\ttrain's QWK: 0.859509\tvalid's QWK: 0.843322\n",
      "[150]\ttrain's QWK: 0.868165\tvalid's QWK: 0.86388\n",
      "[175]\ttrain's QWK: 0.872412\tvalid's QWK: 0.866831\n",
      "[200]\ttrain's QWK: 0.875838\tvalid's QWK: 0.868581\n",
      "[225]\ttrain's QWK: 0.878278\tvalid's QWK: 0.870674\n",
      "[250]\ttrain's QWK: 0.880749\tvalid's QWK: 0.876006\n",
      "[275]\ttrain's QWK: 0.88272\tvalid's QWK: 0.879675\n",
      "[300]\ttrain's QWK: 0.883554\tvalid's QWK: 0.880163\n",
      "[325]\ttrain's QWK: 0.884234\tvalid's QWK: 0.882044\n",
      "[350]\ttrain's QWK: 0.885129\tvalid's QWK: 0.881293\n",
      "[375]\ttrain's QWK: 0.885706\tvalid's QWK: 0.88022\n",
      "Early stopping, best iteration is:\n",
      "[303]\ttrain's QWK: 0.883662\tvalid's QWK: 0.882044\n",
      "Evaluated only: QWK\n",
      "[LightGBM] [Info] Using self-defined objective function\n",
      "Training until validation scores don't improve for 75 rounds\n",
      "[25]\ttrain's QWK: 0.433416\tvalid's QWK: 0.432124\n",
      "[50]\ttrain's QWK: 0.738864\tvalid's QWK: 0.737148\n",
      "[75]\ttrain's QWK: 0.801905\tvalid's QWK: 0.790873\n",
      "[100]\ttrain's QWK: 0.841776\tvalid's QWK: 0.840474\n",
      "[125]\ttrain's QWK: 0.859726\tvalid's QWK: 0.856708\n",
      "[150]\ttrain's QWK: 0.86892\tvalid's QWK: 0.858577\n",
      "[175]\ttrain's QWK: 0.872733\tvalid's QWK: 0.867591\n",
      "[200]\ttrain's QWK: 0.87536\tvalid's QWK: 0.871861\n",
      "[225]\ttrain's QWK: 0.878144\tvalid's QWK: 0.871654\n",
      "[250]\ttrain's QWK: 0.880687\tvalid's QWK: 0.874067\n",
      "[275]\ttrain's QWK: 0.88232\tvalid's QWK: 0.877238\n",
      "[300]\ttrain's QWK: 0.883659\tvalid's QWK: 0.877555\n",
      "[325]\ttrain's QWK: 0.884766\tvalid's QWK: 0.877301\n",
      "[350]\ttrain's QWK: 0.885524\tvalid's QWK: 0.878563\n",
      "[375]\ttrain's QWK: 0.886488\tvalid's QWK: 0.879652\n",
      "[400]\ttrain's QWK: 0.88676\tvalid's QWK: 0.879394\n",
      "[425]\ttrain's QWK: 0.887228\tvalid's QWK: 0.880153\n",
      "[450]\ttrain's QWK: 0.887697\tvalid's QWK: 0.879716\n",
      "[475]\ttrain's QWK: 0.887806\tvalid's QWK: 0.880456\n",
      "[500]\ttrain's QWK: 0.888205\tvalid's QWK: 0.880456\n",
      "[525]\ttrain's QWK: 0.888735\tvalid's QWK: 0.880456\n",
      "Early stopping, best iteration is:\n",
      "[453]\ttrain's QWK: 0.88766\tvalid's QWK: 0.880456\n",
      "Evaluated only: QWK\n",
      "[LightGBM] [Info] Using self-defined objective function\n",
      "Training until validation scores don't improve for 75 rounds\n",
      "[25]\ttrain's QWK: 0.435922\tvalid's QWK: 0.43677\n",
      "[50]\ttrain's QWK: 0.73412\tvalid's QWK: 0.726143\n",
      "[75]\ttrain's QWK: 0.804946\tvalid's QWK: 0.789901\n",
      "[100]\ttrain's QWK: 0.83777\tvalid's QWK: 0.828086\n",
      "[125]\ttrain's QWK: 0.859365\tvalid's QWK: 0.848204\n",
      "[150]\ttrain's QWK: 0.869735\tvalid's QWK: 0.856815\n",
      "[175]\ttrain's QWK: 0.873809\tvalid's QWK: 0.865033\n",
      "[200]\ttrain's QWK: 0.876476\tvalid's QWK: 0.867524\n",
      "[225]\ttrain's QWK: 0.880076\tvalid's QWK: 0.86682\n",
      "[250]\ttrain's QWK: 0.882326\tvalid's QWK: 0.869996\n",
      "[275]\ttrain's QWK: 0.883517\tvalid's QWK: 0.872859\n",
      "[300]\ttrain's QWK: 0.884366\tvalid's QWK: 0.878178\n",
      "[325]\ttrain's QWK: 0.884788\tvalid's QWK: 0.87834\n",
      "[350]\ttrain's QWK: 0.88553\tvalid's QWK: 0.879908\n",
      "[375]\ttrain's QWK: 0.885936\tvalid's QWK: 0.879558\n",
      "[400]\ttrain's QWK: 0.886119\tvalid's QWK: 0.879558\n",
      "[425]\ttrain's QWK: 0.886942\tvalid's QWK: 0.878816\n",
      "Early stopping, best iteration is:\n",
      "[352]\ttrain's QWK: 0.885513\tvalid's QWK: 0.880795\n",
      "Evaluated only: QWK\n",
      "[LightGBM] [Info] Using self-defined objective function\n",
      "Training until validation scores don't improve for 75 rounds\n",
      "[25]\ttrain's QWK: 0.441079\tvalid's QWK: 0.472352\n",
      "[50]\ttrain's QWK: 0.738177\tvalid's QWK: 0.716657\n",
      "[75]\ttrain's QWK: 0.802005\tvalid's QWK: 0.797034\n",
      "[100]\ttrain's QWK: 0.839426\tvalid's QWK: 0.829465\n",
      "[125]\ttrain's QWK: 0.86007\tvalid's QWK: 0.839826\n",
      "[150]\ttrain's QWK: 0.869441\tvalid's QWK: 0.857126\n",
      "[175]\ttrain's QWK: 0.874131\tvalid's QWK: 0.858899\n",
      "[200]\ttrain's QWK: 0.876819\tvalid's QWK: 0.862067\n",
      "[225]\ttrain's QWK: 0.879457\tvalid's QWK: 0.866288\n",
      "[250]\ttrain's QWK: 0.882173\tvalid's QWK: 0.869941\n",
      "[275]\ttrain's QWK: 0.884097\tvalid's QWK: 0.871739\n",
      "[300]\ttrain's QWK: 0.884722\tvalid's QWK: 0.874503\n",
      "[325]\ttrain's QWK: 0.884932\tvalid's QWK: 0.87517\n",
      "[350]\ttrain's QWK: 0.885856\tvalid's QWK: 0.873688\n",
      "[375]\ttrain's QWK: 0.88614\tvalid's QWK: 0.875168\n",
      "[400]\ttrain's QWK: 0.886572\tvalid's QWK: 0.876061\n",
      "[425]\ttrain's QWK: 0.887262\tvalid's QWK: 0.875478\n",
      "[450]\ttrain's QWK: 0.887427\tvalid's QWK: 0.874315\n",
      "Early stopping, best iteration is:\n",
      "[385]\ttrain's QWK: 0.886491\tvalid's QWK: 0.876061\n",
      "Evaluated only: QWK\n"
     ]
    }
   ],
   "source": [
    "oof_df = pd.DataFrame()\n",
    "\n",
    "for idx, (train_idx, valid_idx) in enumerate(skf.split(X, y)):\n",
    "    X_train, y_train = X.loc[train_idx], y.loc[train_idx]\n",
    "    X_valid, y_valid = X.loc[valid_idx], y.loc[valid_idx]\n",
    "    id_valid = ids.loc[valid_idx].to_numpy()\n",
    "\n",
    "    model, predictor = train_loop(X_train, y_train, X_valid, y_valid)\n",
    "\n",
    "    with open(f\"output/LGBM/{idx}.pkl\", \"wb\") as file:\n",
    "        pkl.dump({\"predictor\": predictor, \"model\": model}, file)\n",
    "\n",
    "    oof = validate_model(idx, X_valid, y_valid, id_valid, predictor)\n",
    "    oof_df = pd.concat([oof_df, oof])"
   ]
  },
  {
   "cell_type": "code",
   "execution_count": 15,
   "metadata": {},
   "outputs": [
    {
     "name": "stdout",
     "output_type": "stream",
     "text": [
      "Overall Score: 0.8858\n"
     ]
    }
   ],
   "source": [
    "score = get_score(oof_df[\"score\"], oof_df[\"pred_score\"])\n",
    "print(f'Overall Score: {score:<.4f}')\n",
    "wandb.log({\"CV/qwk_score\": score})"
   ]
  },
  {
   "cell_type": "code",
   "execution_count": 16,
   "metadata": {},
   "outputs": [],
   "source": [
    "wandb.log({\"oof_table\": wandb.Table(dataframe=oof_df)})"
   ]
  },
  {
   "cell_type": "code",
   "execution_count": 17,
   "metadata": {},
   "outputs": [],
   "source": [
    "log_metrics(\n",
    "    pd.DataFrame(\n",
    "        {\n",
    "            \"score\": oof_df.score.to_numpy(),\n",
    "            \"pred_score\": oof_df.pred_score.to_numpy(),\n",
    "        }\n",
    "    ),\n",
    "    \"Overall\",\n",
    ")"
   ]
  },
  {
   "cell_type": "code",
   "execution_count": 18,
   "metadata": {},
   "outputs": [
    {
     "data": {
      "application/vnd.jupyter.widget-view+json": {
       "model_id": "15d38c1b0d4f4cc49ab832d13cd7a7e8",
       "version_major": 2,
       "version_minor": 0
      },
      "text/plain": [
       "VBox(children=(Label(value='0.655 MB of 0.655 MB uploaded\\r'), FloatProgress(value=0.999716269541026, max=1.0)…"
      ]
     },
     "metadata": {},
     "output_type": "display_data"
    },
    {
     "data": {
      "text/html": [
       "<style>\n",
       "    table.wandb td:nth-child(1) { padding: 0 10px; text-align: left ; width: auto;} td:nth-child(2) {text-align: left ; width: 100%}\n",
       "    .wandb-row { display: flex; flex-direction: row; flex-wrap: wrap; justify-content: flex-start; width: 100% }\n",
       "    .wandb-col { display: flex; flex-direction: column; flex-basis: 100%; flex: 1; padding: 10px; }\n",
       "    </style>\n",
       "<div class=\"wandb-row\"><div class=\"wandb-col\"><h3>Run history:</h3><br/><table class=\"wandb\"><tr><td>CV/qwk_score</td><td>▁</td></tr></table><br/></div><div class=\"wandb-col\"><h3>Run summary:</h3><br/><table class=\"wandb\"><tr><td>CV/qwk_score</td><td>0.88578</td></tr></table><br/></div></div>"
      ],
      "text/plain": [
       "<IPython.core.display.HTML object>"
      ]
     },
     "metadata": {},
     "output_type": "display_data"
    },
    {
     "data": {
      "text/html": [
       " View run <strong style=\"color:#cdcd00\">LGBM-ASE-9</strong> at: <a href='https://wandb.ai/laplacesdemon43/Kaggle_ASE_2.0/runs/eswsgido' target=\"_blank\">https://wandb.ai/laplacesdemon43/Kaggle_ASE_2.0/runs/eswsgido</a><br/> View project at: <a href='https://wandb.ai/laplacesdemon43/Kaggle_ASE_2.0' target=\"_blank\">https://wandb.ai/laplacesdemon43/Kaggle_ASE_2.0</a><br/>Synced 6 W&B file(s), 105 media file(s), 105 artifact file(s) and 1 other file(s)"
      ],
      "text/plain": [
       "<IPython.core.display.HTML object>"
      ]
     },
     "metadata": {},
     "output_type": "display_data"
    },
    {
     "data": {
      "text/html": [
       "Find logs at: <code>./wandb/run-20240606_175404-eswsgido/logs</code>"
      ],
      "text/plain": [
       "<IPython.core.display.HTML object>"
      ]
     },
     "metadata": {},
     "output_type": "display_data"
    }
   ],
   "source": [
    "wandb.finish()"
   ]
  }
 ],
 "metadata": {
  "kernelspec": {
   "display_name": "Python 3 (ipykernel)",
   "language": "python",
   "name": "python3"
  },
  "language_info": {
   "codemirror_mode": {
    "name": "ipython",
    "version": 3
   },
   "file_extension": ".py",
   "mimetype": "text/x-python",
   "name": "python",
   "nbconvert_exporter": "python",
   "pygments_lexer": "ipython3",
   "version": "3.11.8"
  }
 },
 "nbformat": 4,
 "nbformat_minor": 4
}
