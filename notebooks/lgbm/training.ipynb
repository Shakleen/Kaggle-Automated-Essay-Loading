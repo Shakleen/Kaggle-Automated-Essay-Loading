{
 "cells": [
  {
   "cell_type": "markdown",
   "metadata": {},
   "source": [
    "# LGBM - Training\n",
    "\n",
    "Sources\n",
    "1. [LGBM & Deberta Explained by ZULQARNAIN ALI](https://www.kaggle.com/code/zulqarnainalipk/lgbm-deberta-explained)"
   ]
  },
  {
   "cell_type": "markdown",
   "metadata": {},
   "source": [
    "## Setup"
   ]
  },
  {
   "cell_type": "code",
   "execution_count": 1,
   "metadata": {},
   "outputs": [],
   "source": [
    "import os\n",
    "import pandas as pd\n",
    "import numpy as np\n",
    "from sklearn.metrics import cohen_kappa_score\n",
    "import lightgbm as lgb\n",
    "import pickle as pkl\n",
    "import wandb\n",
    "from lightgbm import log_evaluation, early_stopping\n",
    "from sklearn.metrics import cohen_kappa_score\n",
    "from sklearn.model_selection import StratifiedKFold"
   ]
  },
  {
   "cell_type": "code",
   "execution_count": 2,
   "metadata": {},
   "outputs": [],
   "source": [
    "os.chdir(\"../../\")"
   ]
  },
  {
   "cell_type": "code",
   "execution_count": 3,
   "metadata": {},
   "outputs": [],
   "source": [
    "from lib.config import config\n",
    "from lib.paths import Paths\n",
    "from lib.utils.utils import seed_everything\n",
    "from lib.criterion.metrics import log_metrics\n",
    "from lib.model.utils import quadratic_weighted_kappa, qwk_obj, get_score"
   ]
  },
  {
   "cell_type": "code",
   "execution_count": 4,
   "metadata": {},
   "outputs": [],
   "source": [
    "seed_everything()"
   ]
  },
  {
   "cell_type": "markdown",
   "metadata": {},
   "source": [
    "### Setting Up WandB"
   ]
  },
  {
   "cell_type": "code",
   "execution_count": 5,
   "metadata": {},
   "outputs": [],
   "source": [
    "WANDB_PROJECT = \"Kaggle_ASE_2.0\"\n",
    "WANDB_NAME = f\"LGBM-ASE-12\""
   ]
  },
  {
   "cell_type": "code",
   "execution_count": 6,
   "metadata": {},
   "outputs": [
    {
     "name": "stderr",
     "output_type": "stream",
     "text": [
      "Failed to detect the name of this notebook, you can set it manually with the WANDB_NOTEBOOK_NAME environment variable to enable code saving.\n",
      "\u001b[34m\u001b[1mwandb\u001b[0m: Currently logged in as: \u001b[33mshakleenishfar\u001b[0m (\u001b[33mlaplacesdemon43\u001b[0m). Use \u001b[1m`wandb login --relogin`\u001b[0m to force relogin\n",
      "\u001b[34m\u001b[1mwandb\u001b[0m: \u001b[33mWARNING\u001b[0m If you're specifying your api key in code, ensure this code is not shared publicly.\n",
      "\u001b[34m\u001b[1mwandb\u001b[0m: \u001b[33mWARNING\u001b[0m Consider setting the WANDB_API_KEY environment variable, or running `wandb login` from the command line.\n",
      "\u001b[34m\u001b[1mwandb\u001b[0m: Appending key for api.wandb.ai to your netrc file: /home/ishfar/.netrc\n"
     ]
    },
    {
     "data": {
      "text/html": [
       "Tracking run with wandb version 0.16.6"
      ],
      "text/plain": [
       "<IPython.core.display.HTML object>"
      ]
     },
     "metadata": {},
     "output_type": "display_data"
    },
    {
     "data": {
      "text/html": [
       "Run data is saved locally in <code>/media/ishfar/New Volume/Studies/Projects/Kaggle-Automated-Essay-Scoring/wandb/run-20240608_094006-ja6p55qq</code>"
      ],
      "text/plain": [
       "<IPython.core.display.HTML object>"
      ]
     },
     "metadata": {},
     "output_type": "display_data"
    },
    {
     "data": {
      "text/html": [
       "Syncing run <strong><a href='https://wandb.ai/laplacesdemon43/Kaggle_ASE_2.0/runs/ja6p55qq' target=\"_blank\">LGBM-ASE-12</a></strong> to <a href='https://wandb.ai/laplacesdemon43/Kaggle_ASE_2.0' target=\"_blank\">Weights & Biases</a> (<a href='https://wandb.me/run' target=\"_blank\">docs</a>)<br/>"
      ],
      "text/plain": [
       "<IPython.core.display.HTML object>"
      ]
     },
     "metadata": {},
     "output_type": "display_data"
    },
    {
     "data": {
      "text/html": [
       " View project at <a href='https://wandb.ai/laplacesdemon43/Kaggle_ASE_2.0' target=\"_blank\">https://wandb.ai/laplacesdemon43/Kaggle_ASE_2.0</a>"
      ],
      "text/plain": [
       "<IPython.core.display.HTML object>"
      ]
     },
     "metadata": {},
     "output_type": "display_data"
    },
    {
     "data": {
      "text/html": [
       " View run at <a href='https://wandb.ai/laplacesdemon43/Kaggle_ASE_2.0/runs/ja6p55qq' target=\"_blank\">https://wandb.ai/laplacesdemon43/Kaggle_ASE_2.0/runs/ja6p55qq</a>"
      ],
      "text/plain": [
       "<IPython.core.display.HTML object>"
      ]
     },
     "metadata": {},
     "output_type": "display_data"
    }
   ],
   "source": [
    "wandb.login(key=os.environ.get('WANDB_API_KEY'))\n",
    "wandb.init(\n",
    "    project=WANDB_PROJECT,\n",
    "    name=WANDB_NAME,\n",
    "    save_code=True,\n",
    "    job_type=\"train\",\n",
    "    config=config,\n",
    ")\n",
    "config = wandb.config"
   ]
  },
  {
   "cell_type": "markdown",
   "metadata": {},
   "source": [
    "## Model Training"
   ]
  },
  {
   "cell_type": "markdown",
   "metadata": {},
   "source": [
    "### Dataset Creation"
   ]
  },
  {
   "cell_type": "code",
   "execution_count": 7,
   "metadata": {},
   "outputs": [
    {
     "data": {
      "text/plain": [
       "(17307, 154)"
      ]
     },
     "execution_count": 7,
     "metadata": {},
     "output_type": "execute_result"
    }
   ],
   "source": [
    "df = pd.read_csv(Paths.FEATURE_ENGG_CSV_PATH)\n",
    "df.shape"
   ]
  },
  {
   "cell_type": "code",
   "execution_count": 8,
   "metadata": {},
   "outputs": [
    {
     "data": {
      "text/plain": [
       "((17307, 152), (17307,))"
      ]
     },
     "execution_count": 8,
     "metadata": {},
     "output_type": "execute_result"
    }
   ],
   "source": [
    "ids = df.loc[:, \"essay_id\"]\n",
    "X, y = df.drop(columns=[\"score\", \"essay_id\"]), df.loc[:, \"score\"]\n",
    "del df\n",
    "\n",
    "X.shape, y.shape"
   ]
  },
  {
   "cell_type": "markdown",
   "metadata": {},
   "source": [
    "### Callbacks"
   ]
  },
  {
   "cell_type": "code",
   "execution_count": 9,
   "metadata": {},
   "outputs": [],
   "source": [
    "callbacks = [\n",
    "    log_evaluation(period=25),\n",
    "    early_stopping(stopping_rounds=75, first_metric_only=True),\n",
    "]"
   ]
  },
  {
   "cell_type": "markdown",
   "metadata": {},
   "source": [
    "### Constants"
   ]
  },
  {
   "cell_type": "code",
   "execution_count": 10,
   "metadata": {},
   "outputs": [],
   "source": [
    "a = config.lgbm_a\n",
    "b = config.lgbm_b"
   ]
  },
  {
   "cell_type": "markdown",
   "metadata": {},
   "source": [
    "### Training Loop"
   ]
  },
  {
   "cell_type": "code",
   "execution_count": 11,
   "metadata": {},
   "outputs": [],
   "source": [
    "def train_loop(X_train, y_train, X_valid, y_valid):\n",
    "    y_train = y_train.astype(np.float32) - a\n",
    "    y_valid = y_valid.astype(np.float32) - a\n",
    "\n",
    "    model = lgb.LGBMRegressor(\n",
    "        objective=qwk_obj,\n",
    "        metrics=\"None\",\n",
    "        learning_rate=0.01,\n",
    "        max_depth=5,\n",
    "        num_leaves=10,\n",
    "        colsample_bytree=0.3,\n",
    "        reg_alpha=0.7,\n",
    "        reg_lambda=0.1,\n",
    "        n_estimators=700,\n",
    "        random_state=config.random_seed,\n",
    "        extra_trees=True,\n",
    "        class_weight=\"balanced\",\n",
    "        n_jobs=6,\n",
    "        verbosity=0,\n",
    "    )\n",
    "\n",
    "    # Train model\n",
    "    predictor = model.fit(\n",
    "        X_train,\n",
    "        y_train,\n",
    "        eval_names=[\"train\", \"valid\"],\n",
    "        eval_set=[(X_train, y_train), (X_valid, y_valid)],\n",
    "        eval_metric=quadratic_weighted_kappa,\n",
    "        callbacks=callbacks,\n",
    "    )\n",
    "\n",
    "    return model, predictor"
   ]
  },
  {
   "cell_type": "code",
   "execution_count": 12,
   "metadata": {},
   "outputs": [],
   "source": [
    "def validate_model(idx, X_valid, y_valid, id_valid, predictor):\n",
    "    y_valid_int = y_valid.astype(np.int64).to_numpy()\n",
    "    preds = predictor.predict(X_valid) + a\n",
    "    preds = preds.clip(1, 6).round().astype(np.int64)\n",
    "\n",
    "    oof = pd.DataFrame(\n",
    "        {\n",
    "            \"essay_id\": id_valid,\n",
    "            \"score\": y_valid_int - 1,\n",
    "            \"pred_score\": preds - 1,\n",
    "        }\n",
    "    )\n",
    "    log_metrics(oof, f\"Fold {idx}\")\n",
    "\n",
    "    return oof"
   ]
  },
  {
   "cell_type": "markdown",
   "metadata": {},
   "source": [
    "### Fold Loop"
   ]
  },
  {
   "cell_type": "code",
   "execution_count": 13,
   "metadata": {},
   "outputs": [],
   "source": [
    "skf = StratifiedKFold(\n",
    "    n_splits=config.lgbm_n_folds,\n",
    "    random_state=config.random_seed,\n",
    "    shuffle=True,\n",
    ")"
   ]
  },
  {
   "cell_type": "code",
   "execution_count": 14,
   "metadata": {},
   "outputs": [
    {
     "name": "stdout",
     "output_type": "stream",
     "text": [
      "[LightGBM] [Info] Using self-defined objective function\n",
      "Training until validation scores don't improve for 75 rounds\n",
      "[25]\ttrain's QWK: 0.437539\tvalid's QWK: 0.453591\n",
      "[50]\ttrain's QWK: 0.735501\tvalid's QWK: 0.749528\n",
      "[75]\ttrain's QWK: 0.798727\tvalid's QWK: 0.814387\n",
      "[100]\ttrain's QWK: 0.840442\tvalid's QWK: 0.845246\n",
      "[125]\ttrain's QWK: 0.860425\tvalid's QWK: 0.871054\n",
      "[150]\ttrain's QWK: 0.867924\tvalid's QWK: 0.873171\n",
      "[175]\ttrain's QWK: 0.872952\tvalid's QWK: 0.879047\n",
      "[200]\ttrain's QWK: 0.875556\tvalid's QWK: 0.882758\n",
      "[225]\ttrain's QWK: 0.878105\tvalid's QWK: 0.88927\n",
      "[250]\ttrain's QWK: 0.880296\tvalid's QWK: 0.893941\n",
      "[275]\ttrain's QWK: 0.882243\tvalid's QWK: 0.893114\n",
      "[300]\ttrain's QWK: 0.882916\tvalid's QWK: 0.89414\n",
      "[325]\ttrain's QWK: 0.883641\tvalid's QWK: 0.895287\n",
      "[350]\ttrain's QWK: 0.884381\tvalid's QWK: 0.895287\n",
      "[375]\ttrain's QWK: 0.884956\tvalid's QWK: 0.896135\n",
      "[400]\ttrain's QWK: 0.88552\tvalid's QWK: 0.895673\n",
      "[425]\ttrain's QWK: 0.885957\tvalid's QWK: 0.894936\n",
      "[450]\ttrain's QWK: 0.886288\tvalid's QWK: 0.896681\n",
      "[475]\ttrain's QWK: 0.886799\tvalid's QWK: 0.896221\n",
      "[500]\ttrain's QWK: 0.887274\tvalid's QWK: 0.895763\n",
      "Early stopping, best iteration is:\n",
      "[439]\ttrain's QWK: 0.886045\tvalid's QWK: 0.896681\n",
      "Evaluated only: QWK\n",
      "[LightGBM] [Info] Using self-defined objective function\n",
      "Training until validation scores don't improve for 75 rounds\n",
      "[25]\ttrain's QWK: 0.4494\tvalid's QWK: 0.428146\n",
      "[50]\ttrain's QWK: 0.741656\tvalid's QWK: 0.733004\n",
      "[75]\ttrain's QWK: 0.803421\tvalid's QWK: 0.795095\n",
      "[100]\ttrain's QWK: 0.841259\tvalid's QWK: 0.838024\n",
      "[125]\ttrain's QWK: 0.86083\tvalid's QWK: 0.855664\n",
      "[150]\ttrain's QWK: 0.869178\tvalid's QWK: 0.86551\n",
      "[175]\ttrain's QWK: 0.87397\tvalid's QWK: 0.869637\n",
      "[200]\ttrain's QWK: 0.875829\tvalid's QWK: 0.871729\n",
      "[225]\ttrain's QWK: 0.878207\tvalid's QWK: 0.875404\n",
      "[250]\ttrain's QWK: 0.880364\tvalid's QWK: 0.876583\n",
      "[275]\ttrain's QWK: 0.882541\tvalid's QWK: 0.880473\n",
      "[300]\ttrain's QWK: 0.884219\tvalid's QWK: 0.880192\n",
      "[325]\ttrain's QWK: 0.884786\tvalid's QWK: 0.881725\n",
      "[350]\ttrain's QWK: 0.885408\tvalid's QWK: 0.880862\n",
      "[375]\ttrain's QWK: 0.88612\tvalid's QWK: 0.88118\n",
      "Early stopping, best iteration is:\n",
      "[308]\ttrain's QWK: 0.884477\tvalid's QWK: 0.882468\n",
      "Evaluated only: QWK\n",
      "[LightGBM] [Info] Using self-defined objective function\n",
      "Training until validation scores don't improve for 75 rounds\n",
      "[25]\ttrain's QWK: 0.437475\tvalid's QWK: 0.454652\n",
      "[50]\ttrain's QWK: 0.735174\tvalid's QWK: 0.748223\n",
      "[75]\ttrain's QWK: 0.799259\tvalid's QWK: 0.812971\n",
      "[100]\ttrain's QWK: 0.836146\tvalid's QWK: 0.849498\n",
      "[125]\ttrain's QWK: 0.858927\tvalid's QWK: 0.865868\n",
      "[150]\ttrain's QWK: 0.869152\tvalid's QWK: 0.883341\n",
      "[175]\ttrain's QWK: 0.872562\tvalid's QWK: 0.884666\n",
      "[200]\ttrain's QWK: 0.874754\tvalid's QWK: 0.887019\n",
      "[225]\ttrain's QWK: 0.8773\tvalid's QWK: 0.889733\n",
      "[250]\ttrain's QWK: 0.879796\tvalid's QWK: 0.895709\n",
      "[275]\ttrain's QWK: 0.882089\tvalid's QWK: 0.896671\n",
      "[300]\ttrain's QWK: 0.883156\tvalid's QWK: 0.893602\n",
      "[325]\ttrain's QWK: 0.883939\tvalid's QWK: 0.892451\n",
      "Early stopping, best iteration is:\n",
      "[254]\ttrain's QWK: 0.880222\tvalid's QWK: 0.89671\n",
      "Evaluated only: QWK\n",
      "[LightGBM] [Info] Using self-defined objective function\n",
      "Training until validation scores don't improve for 75 rounds\n",
      "[25]\ttrain's QWK: 0.442693\tvalid's QWK: 0.416882\n",
      "[50]\ttrain's QWK: 0.736346\tvalid's QWK: 0.71473\n",
      "[75]\ttrain's QWK: 0.798943\tvalid's QWK: 0.782376\n",
      "[100]\ttrain's QWK: 0.837011\tvalid's QWK: 0.826524\n",
      "[125]\ttrain's QWK: 0.859596\tvalid's QWK: 0.853605\n",
      "[150]\ttrain's QWK: 0.868136\tvalid's QWK: 0.862777\n",
      "[175]\ttrain's QWK: 0.872606\tvalid's QWK: 0.865972\n",
      "[200]\ttrain's QWK: 0.875336\tvalid's QWK: 0.868041\n",
      "[225]\ttrain's QWK: 0.877807\tvalid's QWK: 0.868723\n",
      "[250]\ttrain's QWK: 0.880367\tvalid's QWK: 0.874244\n",
      "[275]\ttrain's QWK: 0.882087\tvalid's QWK: 0.874153\n",
      "[300]\ttrain's QWK: 0.883464\tvalid's QWK: 0.874235\n",
      "[325]\ttrain's QWK: 0.884227\tvalid's QWK: 0.872802\n",
      "Early stopping, best iteration is:\n",
      "[255]\ttrain's QWK: 0.880527\tvalid's QWK: 0.875185\n",
      "Evaluated only: QWK\n",
      "[LightGBM] [Info] Using self-defined objective function\n",
      "Training until validation scores don't improve for 75 rounds\n",
      "[25]\ttrain's QWK: 0.441719\tvalid's QWK: 0.439057\n",
      "[50]\ttrain's QWK: 0.736355\tvalid's QWK: 0.735389\n",
      "[75]\ttrain's QWK: 0.797371\tvalid's QWK: 0.801078\n",
      "[100]\ttrain's QWK: 0.835654\tvalid's QWK: 0.830322\n",
      "[125]\ttrain's QWK: 0.858707\tvalid's QWK: 0.862153\n",
      "[150]\ttrain's QWK: 0.868711\tvalid's QWK: 0.867866\n",
      "[175]\ttrain's QWK: 0.873152\tvalid's QWK: 0.871896\n",
      "[200]\ttrain's QWK: 0.875205\tvalid's QWK: 0.874473\n",
      "[225]\ttrain's QWK: 0.878494\tvalid's QWK: 0.876103\n",
      "[250]\ttrain's QWK: 0.880479\tvalid's QWK: 0.875774\n",
      "[275]\ttrain's QWK: 0.881362\tvalid's QWK: 0.877265\n",
      "[300]\ttrain's QWK: 0.882415\tvalid's QWK: 0.877309\n",
      "[325]\ttrain's QWK: 0.883168\tvalid's QWK: 0.876311\n",
      "Early stopping, best iteration is:\n",
      "[270]\ttrain's QWK: 0.881349\tvalid's QWK: 0.877679\n",
      "Evaluated only: QWK\n",
      "[LightGBM] [Info] Using self-defined objective function\n",
      "Training until validation scores don't improve for 75 rounds\n",
      "[25]\ttrain's QWK: 0.432373\tvalid's QWK: 0.41401\n",
      "[50]\ttrain's QWK: 0.738197\tvalid's QWK: 0.715695\n",
      "[75]\ttrain's QWK: 0.796904\tvalid's QWK: 0.787906\n",
      "[100]\ttrain's QWK: 0.83767\tvalid's QWK: 0.829768\n",
      "[125]\ttrain's QWK: 0.85929\tvalid's QWK: 0.840544\n",
      "[150]\ttrain's QWK: 0.867903\tvalid's QWK: 0.85447\n",
      "[175]\ttrain's QWK: 0.872476\tvalid's QWK: 0.856721\n",
      "[200]\ttrain's QWK: 0.875172\tvalid's QWK: 0.858684\n",
      "[225]\ttrain's QWK: 0.878719\tvalid's QWK: 0.861642\n",
      "[250]\ttrain's QWK: 0.881159\tvalid's QWK: 0.8634\n",
      "[275]\ttrain's QWK: 0.882523\tvalid's QWK: 0.86594\n",
      "[300]\ttrain's QWK: 0.883743\tvalid's QWK: 0.867597\n",
      "[325]\ttrain's QWK: 0.88488\tvalid's QWK: 0.868287\n",
      "[350]\ttrain's QWK: 0.885262\tvalid's QWK: 0.868798\n",
      "[375]\ttrain's QWK: 0.885734\tvalid's QWK: 0.868226\n",
      "Early stopping, best iteration is:\n",
      "[310]\ttrain's QWK: 0.884118\tvalid's QWK: 0.869085\n",
      "Evaluated only: QWK\n",
      "[LightGBM] [Info] Using self-defined objective function\n",
      "Training until validation scores don't improve for 75 rounds\n",
      "[25]\ttrain's QWK: 0.43786\tvalid's QWK: 0.431379\n",
      "[50]\ttrain's QWK: 0.734407\tvalid's QWK: 0.727727\n",
      "[75]\ttrain's QWK: 0.7988\tvalid's QWK: 0.792586\n",
      "[100]\ttrain's QWK: 0.835855\tvalid's QWK: 0.838091\n",
      "[125]\ttrain's QWK: 0.85754\tvalid's QWK: 0.855079\n",
      "[150]\ttrain's QWK: 0.868018\tvalid's QWK: 0.865347\n",
      "[175]\ttrain's QWK: 0.872731\tvalid's QWK: 0.873788\n",
      "[200]\ttrain's QWK: 0.874917\tvalid's QWK: 0.874066\n",
      "[225]\ttrain's QWK: 0.877408\tvalid's QWK: 0.874026\n",
      "[250]\ttrain's QWK: 0.879206\tvalid's QWK: 0.874959\n",
      "[275]\ttrain's QWK: 0.881414\tvalid's QWK: 0.878707\n",
      "[300]\ttrain's QWK: 0.882914\tvalid's QWK: 0.882441\n",
      "[325]\ttrain's QWK: 0.88392\tvalid's QWK: 0.884836\n",
      "[350]\ttrain's QWK: 0.884666\tvalid's QWK: 0.885728\n",
      "[375]\ttrain's QWK: 0.885375\tvalid's QWK: 0.885728\n",
      "[400]\ttrain's QWK: 0.885525\tvalid's QWK: 0.885728\n",
      "[425]\ttrain's QWK: 0.88589\tvalid's QWK: 0.8878\n",
      "[450]\ttrain's QWK: 0.886165\tvalid's QWK: 0.8878\n",
      "[475]\ttrain's QWK: 0.886444\tvalid's QWK: 0.887218\n",
      "[500]\ttrain's QWK: 0.88661\tvalid's QWK: 0.888259\n",
      "[525]\ttrain's QWK: 0.886738\tvalid's QWK: 0.889001\n",
      "[550]\ttrain's QWK: 0.886926\tvalid's QWK: 0.889001\n",
      "[575]\ttrain's QWK: 0.887549\tvalid's QWK: 0.888421\n",
      "[600]\ttrain's QWK: 0.888063\tvalid's QWK: 0.888421\n",
      "[625]\ttrain's QWK: 0.888472\tvalid's QWK: 0.888875\n",
      "[650]\ttrain's QWK: 0.88855\tvalid's QWK: 0.889612\n",
      "[675]\ttrain's QWK: 0.889035\tvalid's QWK: 0.889612\n",
      "Early stopping, best iteration is:\n",
      "[623]\ttrain's QWK: 0.888538\tvalid's QWK: 0.889612\n",
      "Evaluated only: QWK\n",
      "[LightGBM] [Info] Using self-defined objective function\n",
      "Training until validation scores don't improve for 75 rounds\n",
      "[25]\ttrain's QWK: 0.447855\tvalid's QWK: 0.404751\n",
      "[50]\ttrain's QWK: 0.733934\tvalid's QWK: 0.729531\n",
      "[75]\ttrain's QWK: 0.797124\tvalid's QWK: 0.788105\n",
      "[100]\ttrain's QWK: 0.834795\tvalid's QWK: 0.819964\n",
      "[125]\ttrain's QWK: 0.859543\tvalid's QWK: 0.84562\n",
      "[150]\ttrain's QWK: 0.869073\tvalid's QWK: 0.855338\n",
      "[175]\ttrain's QWK: 0.873837\tvalid's QWK: 0.862961\n",
      "[200]\ttrain's QWK: 0.875865\tvalid's QWK: 0.862686\n",
      "[225]\ttrain's QWK: 0.878881\tvalid's QWK: 0.860616\n",
      "Early stopping, best iteration is:\n",
      "[168]\ttrain's QWK: 0.872349\tvalid's QWK: 0.863573\n",
      "Evaluated only: QWK\n"
     ]
    },
    {
     "name": "stderr",
     "output_type": "stream",
     "text": [
      "/media/ishfar/New Volume/Studies/Projects/Kaggle-Automated-Essay-Scoring/lib/criterion/metrics.py:34: RuntimeWarning: invalid value encountered in scalar divide\n",
      "  precision = tp / (tp + fp)\n"
     ]
    },
    {
     "name": "stdout",
     "output_type": "stream",
     "text": [
      "[LightGBM] [Info] Using self-defined objective function\n",
      "Training until validation scores don't improve for 75 rounds\n",
      "[25]\ttrain's QWK: 0.454453\tvalid's QWK: 0.426925\n",
      "[50]\ttrain's QWK: 0.730213\tvalid's QWK: 0.725063\n",
      "[75]\ttrain's QWK: 0.795047\tvalid's QWK: 0.783578\n",
      "[100]\ttrain's QWK: 0.836073\tvalid's QWK: 0.822033\n",
      "[125]\ttrain's QWK: 0.856877\tvalid's QWK: 0.849248\n",
      "[150]\ttrain's QWK: 0.867615\tvalid's QWK: 0.870823\n",
      "[175]\ttrain's QWK: 0.872187\tvalid's QWK: 0.873198\n",
      "[200]\ttrain's QWK: 0.874546\tvalid's QWK: 0.873563\n",
      "[225]\ttrain's QWK: 0.877661\tvalid's QWK: 0.875794\n",
      "[250]\ttrain's QWK: 0.879918\tvalid's QWK: 0.875495\n",
      "[275]\ttrain's QWK: 0.881429\tvalid's QWK: 0.877567\n",
      "[300]\ttrain's QWK: 0.883009\tvalid's QWK: 0.880586\n",
      "[325]\ttrain's QWK: 0.884046\tvalid's QWK: 0.88032\n",
      "[350]\ttrain's QWK: 0.884637\tvalid's QWK: 0.883357\n",
      "[375]\ttrain's QWK: 0.884836\tvalid's QWK: 0.883532\n",
      "[400]\ttrain's QWK: 0.885102\tvalid's QWK: 0.883846\n",
      "[425]\ttrain's QWK: 0.885462\tvalid's QWK: 0.884041\n",
      "Early stopping, best iteration is:\n",
      "[355]\ttrain's QWK: 0.884638\tvalid's QWK: 0.884279\n",
      "Evaluated only: QWK\n",
      "[LightGBM] [Info] Using self-defined objective function\n",
      "Training until validation scores don't improve for 75 rounds\n",
      "[25]\ttrain's QWK: 0.457814\tvalid's QWK: 0.482992\n",
      "[50]\ttrain's QWK: 0.729737\tvalid's QWK: 0.737655\n",
      "[75]\ttrain's QWK: 0.792461\tvalid's QWK: 0.802127\n",
      "[100]\ttrain's QWK: 0.835201\tvalid's QWK: 0.854175\n",
      "[125]\ttrain's QWK: 0.858935\tvalid's QWK: 0.878537\n",
      "[150]\ttrain's QWK: 0.869078\tvalid's QWK: 0.882627\n",
      "[175]\ttrain's QWK: 0.87321\tvalid's QWK: 0.887693\n",
      "[200]\ttrain's QWK: 0.875931\tvalid's QWK: 0.892284\n",
      "[225]\ttrain's QWK: 0.878503\tvalid's QWK: 0.892403\n",
      "[250]\ttrain's QWK: 0.88037\tvalid's QWK: 0.894287\n",
      "[275]\ttrain's QWK: 0.881682\tvalid's QWK: 0.89585\n",
      "[300]\ttrain's QWK: 0.882875\tvalid's QWK: 0.896992\n",
      "[325]\ttrain's QWK: 0.883615\tvalid's QWK: 0.897387\n",
      "[350]\ttrain's QWK: 0.88418\tvalid's QWK: 0.897793\n",
      "[375]\ttrain's QWK: 0.884969\tvalid's QWK: 0.898378\n",
      "Early stopping, best iteration is:\n",
      "[304]\ttrain's QWK: 0.882868\tvalid's QWK: 0.89918\n",
      "Evaluated only: QWK\n",
      "[LightGBM] [Info] Using self-defined objective function\n",
      "Training until validation scores don't improve for 75 rounds\n",
      "[25]\ttrain's QWK: 0.457313\tvalid's QWK: 0.462626\n",
      "[50]\ttrain's QWK: 0.726526\tvalid's QWK: 0.738501\n",
      "[75]\ttrain's QWK: 0.790816\tvalid's QWK: 0.79999\n",
      "[100]\ttrain's QWK: 0.836752\tvalid's QWK: 0.839826\n",
      "[125]\ttrain's QWK: 0.859059\tvalid's QWK: 0.868316\n",
      "[150]\ttrain's QWK: 0.868978\tvalid's QWK: 0.875348\n",
      "[175]\ttrain's QWK: 0.872761\tvalid's QWK: 0.878245\n",
      "[200]\ttrain's QWK: 0.876566\tvalid's QWK: 0.8829\n",
      "[225]\ttrain's QWK: 0.879019\tvalid's QWK: 0.888202\n",
      "[250]\ttrain's QWK: 0.880972\tvalid's QWK: 0.888382\n",
      "[275]\ttrain's QWK: 0.882255\tvalid's QWK: 0.890191\n",
      "[300]\ttrain's QWK: 0.883549\tvalid's QWK: 0.891986\n",
      "[325]\ttrain's QWK: 0.883977\tvalid's QWK: 0.89303\n",
      "[350]\ttrain's QWK: 0.884598\tvalid's QWK: 0.892726\n",
      "[375]\ttrain's QWK: 0.884968\tvalid's QWK: 0.891545\n",
      "Early stopping, best iteration is:\n",
      "[313]\ttrain's QWK: 0.883718\tvalid's QWK: 0.89303\n",
      "Evaluated only: QWK\n",
      "[LightGBM] [Info] Using self-defined objective function\n",
      "Training until validation scores don't improve for 75 rounds\n",
      "[25]\ttrain's QWK: 0.444088\tvalid's QWK: 0.456999\n",
      "[50]\ttrain's QWK: 0.732607\tvalid's QWK: 0.738835\n",
      "[75]\ttrain's QWK: 0.796368\tvalid's QWK: 0.805513\n",
      "[100]\ttrain's QWK: 0.837626\tvalid's QWK: 0.840027\n",
      "[125]\ttrain's QWK: 0.859096\tvalid's QWK: 0.852907\n",
      "[150]\ttrain's QWK: 0.867845\tvalid's QWK: 0.868908\n",
      "[175]\ttrain's QWK: 0.872258\tvalid's QWK: 0.873299\n",
      "[200]\ttrain's QWK: 0.875189\tvalid's QWK: 0.875175\n",
      "[225]\ttrain's QWK: 0.877794\tvalid's QWK: 0.882146\n",
      "[250]\ttrain's QWK: 0.879764\tvalid's QWK: 0.882213\n",
      "[275]\ttrain's QWK: 0.881471\tvalid's QWK: 0.887329\n",
      "[300]\ttrain's QWK: 0.88258\tvalid's QWK: 0.888206\n",
      "[325]\ttrain's QWK: 0.884132\tvalid's QWK: 0.889424\n",
      "[350]\ttrain's QWK: 0.884465\tvalid's QWK: 0.889572\n",
      "[375]\ttrain's QWK: 0.884879\tvalid's QWK: 0.889705\n",
      "[400]\ttrain's QWK: 0.885071\tvalid's QWK: 0.8906\n",
      "[425]\ttrain's QWK: 0.885381\tvalid's QWK: 0.889999\n",
      "[450]\ttrain's QWK: 0.885905\tvalid's QWK: 0.890746\n",
      "[475]\ttrain's QWK: 0.886238\tvalid's QWK: 0.890746\n",
      "Early stopping, best iteration is:\n",
      "[411]\ttrain's QWK: 0.885316\tvalid's QWK: 0.890746\n",
      "Evaluated only: QWK\n",
      "[LightGBM] [Info] Using self-defined objective function\n",
      "Training until validation scores don't improve for 75 rounds\n",
      "[25]\ttrain's QWK: 0.450068\tvalid's QWK: 0.457078\n",
      "[50]\ttrain's QWK: 0.733587\tvalid's QWK: 0.751267\n",
      "[75]\ttrain's QWK: 0.795694\tvalid's QWK: 0.805648\n",
      "[100]\ttrain's QWK: 0.839236\tvalid's QWK: 0.850047\n",
      "[125]\ttrain's QWK: 0.859917\tvalid's QWK: 0.869321\n",
      "[150]\ttrain's QWK: 0.869098\tvalid's QWK: 0.875442\n",
      "[175]\ttrain's QWK: 0.873121\tvalid's QWK: 0.876603\n",
      "[200]\ttrain's QWK: 0.876645\tvalid's QWK: 0.873869\n",
      "[225]\ttrain's QWK: 0.878983\tvalid's QWK: 0.875207\n",
      "Early stopping, best iteration is:\n",
      "[152]\ttrain's QWK: 0.869358\tvalid's QWK: 0.878126\n",
      "Evaluated only: QWK\n"
     ]
    },
    {
     "name": "stderr",
     "output_type": "stream",
     "text": [
      "/media/ishfar/New Volume/Studies/Projects/Kaggle-Automated-Essay-Scoring/lib/criterion/metrics.py:34: RuntimeWarning: invalid value encountered in scalar divide\n",
      "  precision = tp / (tp + fp)\n"
     ]
    },
    {
     "name": "stdout",
     "output_type": "stream",
     "text": [
      "[LightGBM] [Info] Using self-defined objective function\n",
      "Training until validation scores don't improve for 75 rounds\n",
      "[25]\ttrain's QWK: 0.450224\tvalid's QWK: 0.45675\n",
      "[50]\ttrain's QWK: 0.731138\tvalid's QWK: 0.693839\n",
      "[75]\ttrain's QWK: 0.798021\tvalid's QWK: 0.775816\n",
      "[100]\ttrain's QWK: 0.83821\tvalid's QWK: 0.820967\n",
      "[125]\ttrain's QWK: 0.859641\tvalid's QWK: 0.847212\n",
      "[150]\ttrain's QWK: 0.869508\tvalid's QWK: 0.851537\n",
      "[175]\ttrain's QWK: 0.873822\tvalid's QWK: 0.858553\n",
      "[200]\ttrain's QWK: 0.877095\tvalid's QWK: 0.857365\n",
      "[225]\ttrain's QWK: 0.880035\tvalid's QWK: 0.857747\n",
      "[250]\ttrain's QWK: 0.882045\tvalid's QWK: 0.863606\n",
      "[275]\ttrain's QWK: 0.883428\tvalid's QWK: 0.865765\n",
      "[300]\ttrain's QWK: 0.884728\tvalid's QWK: 0.865146\n",
      "[325]\ttrain's QWK: 0.885343\tvalid's QWK: 0.8651\n",
      "[350]\ttrain's QWK: 0.886313\tvalid's QWK: 0.865035\n",
      "Early stopping, best iteration is:\n",
      "[277]\ttrain's QWK: 0.883464\tvalid's QWK: 0.866516\n",
      "Evaluated only: QWK\n",
      "[LightGBM] [Info] Using self-defined objective function\n",
      "Training until validation scores don't improve for 75 rounds\n",
      "[25]\ttrain's QWK: 0.450338\tvalid's QWK: 0.468684\n",
      "[50]\ttrain's QWK: 0.733374\tvalid's QWK: 0.74841\n",
      "[75]\ttrain's QWK: 0.795646\tvalid's QWK: 0.818131\n",
      "[100]\ttrain's QWK: 0.837798\tvalid's QWK: 0.851252\n",
      "[125]\ttrain's QWK: 0.859452\tvalid's QWK: 0.873745\n",
      "[150]\ttrain's QWK: 0.868613\tvalid's QWK: 0.875314\n",
      "[175]\ttrain's QWK: 0.87338\tvalid's QWK: 0.87841\n",
      "[200]\ttrain's QWK: 0.875416\tvalid's QWK: 0.879745\n",
      "[225]\ttrain's QWK: 0.878554\tvalid's QWK: 0.882247\n",
      "[250]\ttrain's QWK: 0.88127\tvalid's QWK: 0.885826\n",
      "[275]\ttrain's QWK: 0.883079\tvalid's QWK: 0.88972\n",
      "[300]\ttrain's QWK: 0.884354\tvalid's QWK: 0.889266\n",
      "[325]\ttrain's QWK: 0.884979\tvalid's QWK: 0.888814\n",
      "[350]\ttrain's QWK: 0.885531\tvalid's QWK: 0.89013\n",
      "[375]\ttrain's QWK: 0.886199\tvalid's QWK: 0.891755\n",
      "[400]\ttrain's QWK: 0.886583\tvalid's QWK: 0.890565\n",
      "[425]\ttrain's QWK: 0.886874\tvalid's QWK: 0.890565\n",
      "Early stopping, best iteration is:\n",
      "[355]\ttrain's QWK: 0.885614\tvalid's QWK: 0.891755\n",
      "Evaluated only: QWK\n",
      "[LightGBM] [Info] Using self-defined objective function\n",
      "Training until validation scores don't improve for 75 rounds\n",
      "[25]\ttrain's QWK: 0.447807\tvalid's QWK: 0.454856\n",
      "[50]\ttrain's QWK: 0.734032\tvalid's QWK: 0.740502\n",
      "[75]\ttrain's QWK: 0.794025\tvalid's QWK: 0.806164\n",
      "[100]\ttrain's QWK: 0.836037\tvalid's QWK: 0.837004\n",
      "[125]\ttrain's QWK: 0.859315\tvalid's QWK: 0.856971\n",
      "[150]\ttrain's QWK: 0.86874\tvalid's QWK: 0.872163\n",
      "[175]\ttrain's QWK: 0.87313\tvalid's QWK: 0.875064\n",
      "[200]\ttrain's QWK: 0.875271\tvalid's QWK: 0.875634\n",
      "[225]\ttrain's QWK: 0.878397\tvalid's QWK: 0.8797\n",
      "[250]\ttrain's QWK: 0.880665\tvalid's QWK: 0.881283\n",
      "[275]\ttrain's QWK: 0.88232\tvalid's QWK: 0.878925\n",
      "[300]\ttrain's QWK: 0.88336\tvalid's QWK: 0.879044\n",
      "Early stopping, best iteration is:\n",
      "[242]\ttrain's QWK: 0.880187\tvalid's QWK: 0.881283\n",
      "Evaluated only: QWK\n",
      "[LightGBM] [Info] Using self-defined objective function\n",
      "Training until validation scores don't improve for 75 rounds\n",
      "[25]\ttrain's QWK: 0.457916\tvalid's QWK: 0.487336\n",
      "[50]\ttrain's QWK: 0.726878\tvalid's QWK: 0.732088\n",
      "[75]\ttrain's QWK: 0.792131\tvalid's QWK: 0.78469\n",
      "[100]\ttrain's QWK: 0.838134\tvalid's QWK: 0.84209\n",
      "[125]\ttrain's QWK: 0.860823\tvalid's QWK: 0.872426\n",
      "[150]\ttrain's QWK: 0.870161\tvalid's QWK: 0.873572\n",
      "[175]\ttrain's QWK: 0.873956\tvalid's QWK: 0.872806\n",
      "[200]\ttrain's QWK: 0.876382\tvalid's QWK: 0.875586\n",
      "[225]\ttrain's QWK: 0.878174\tvalid's QWK: 0.877025\n",
      "[250]\ttrain's QWK: 0.880225\tvalid's QWK: 0.877369\n",
      "[275]\ttrain's QWK: 0.881677\tvalid's QWK: 0.87837\n",
      "[300]\ttrain's QWK: 0.882907\tvalid's QWK: 0.879305\n",
      "[325]\ttrain's QWK: 0.883975\tvalid's QWK: 0.879848\n",
      "[350]\ttrain's QWK: 0.884554\tvalid's QWK: 0.878915\n",
      "[375]\ttrain's QWK: 0.884576\tvalid's QWK: 0.879999\n",
      "[400]\ttrain's QWK: 0.884988\tvalid's QWK: 0.882334\n",
      "[425]\ttrain's QWK: 0.885707\tvalid's QWK: 0.8835\n",
      "[450]\ttrain's QWK: 0.886216\tvalid's QWK: 0.88335\n",
      "[475]\ttrain's QWK: 0.886558\tvalid's QWK: 0.883184\n",
      "Early stopping, best iteration is:\n",
      "[417]\ttrain's QWK: 0.885444\tvalid's QWK: 0.8835\n",
      "Evaluated only: QWK\n",
      "[LightGBM] [Info] Using self-defined objective function\n",
      "Training until validation scores don't improve for 75 rounds\n",
      "[25]\ttrain's QWK: 0.452075\tvalid's QWK: 0.435049\n",
      "[50]\ttrain's QWK: 0.732247\tvalid's QWK: 0.727226\n",
      "[75]\ttrain's QWK: 0.794145\tvalid's QWK: 0.79202\n",
      "[100]\ttrain's QWK: 0.83443\tvalid's QWK: 0.834731\n",
      "[125]\ttrain's QWK: 0.858738\tvalid's QWK: 0.862814\n",
      "[150]\ttrain's QWK: 0.869118\tvalid's QWK: 0.864326\n",
      "[175]\ttrain's QWK: 0.873239\tvalid's QWK: 0.872286\n",
      "[200]\ttrain's QWK: 0.876061\tvalid's QWK: 0.877615\n",
      "[225]\ttrain's QWK: 0.878404\tvalid's QWK: 0.881049\n",
      "[250]\ttrain's QWK: 0.881054\tvalid's QWK: 0.8814\n",
      "[275]\ttrain's QWK: 0.882081\tvalid's QWK: 0.881438\n",
      "[300]\ttrain's QWK: 0.883119\tvalid's QWK: 0.880884\n",
      "[325]\ttrain's QWK: 0.883884\tvalid's QWK: 0.88242\n",
      "[350]\ttrain's QWK: 0.884891\tvalid's QWK: 0.884396\n",
      "[375]\ttrain's QWK: 0.885545\tvalid's QWK: 0.88917\n",
      "[400]\ttrain's QWK: 0.886655\tvalid's QWK: 0.890634\n",
      "[425]\ttrain's QWK: 0.886676\tvalid's QWK: 0.891357\n",
      "[450]\ttrain's QWK: 0.886929\tvalid's QWK: 0.891357\n",
      "[475]\ttrain's QWK: 0.88716\tvalid's QWK: 0.890778\n",
      "[500]\ttrain's QWK: 0.887273\tvalid's QWK: 0.89017\n",
      "Early stopping, best iteration is:\n",
      "[445]\ttrain's QWK: 0.886915\tvalid's QWK: 0.891794\n",
      "Evaluated only: QWK\n",
      "[LightGBM] [Info] Using self-defined objective function\n",
      "Training until validation scores don't improve for 75 rounds\n",
      "[25]\ttrain's QWK: 0.45427\tvalid's QWK: 0.467853\n",
      "[50]\ttrain's QWK: 0.727512\tvalid's QWK: 0.747852\n",
      "[75]\ttrain's QWK: 0.795509\tvalid's QWK: 0.792096\n",
      "[100]\ttrain's QWK: 0.835753\tvalid's QWK: 0.830468\n",
      "[125]\ttrain's QWK: 0.859833\tvalid's QWK: 0.857181\n",
      "[150]\ttrain's QWK: 0.870532\tvalid's QWK: 0.863355\n",
      "[175]\ttrain's QWK: 0.873674\tvalid's QWK: 0.870118\n",
      "[200]\ttrain's QWK: 0.876368\tvalid's QWK: 0.875135\n",
      "[225]\ttrain's QWK: 0.878569\tvalid's QWK: 0.881096\n",
      "[250]\ttrain's QWK: 0.880906\tvalid's QWK: 0.881965\n",
      "[275]\ttrain's QWK: 0.882624\tvalid's QWK: 0.885248\n",
      "[300]\ttrain's QWK: 0.883775\tvalid's QWK: 0.886588\n",
      "[325]\ttrain's QWK: 0.884448\tvalid's QWK: 0.887467\n",
      "[350]\ttrain's QWK: 0.884723\tvalid's QWK: 0.889377\n",
      "[375]\ttrain's QWK: 0.885221\tvalid's QWK: 0.889377\n",
      "[400]\ttrain's QWK: 0.885415\tvalid's QWK: 0.888072\n",
      "Early stopping, best iteration is:\n",
      "[332]\ttrain's QWK: 0.884528\tvalid's QWK: 0.889377\n",
      "Evaluated only: QWK\n",
      "[LightGBM] [Info] Using self-defined objective function\n",
      "Training until validation scores don't improve for 75 rounds\n",
      "[25]\ttrain's QWK: 0.435195\tvalid's QWK: 0.440931\n",
      "[50]\ttrain's QWK: 0.729452\tvalid's QWK: 0.741836\n",
      "[75]\ttrain's QWK: 0.797982\tvalid's QWK: 0.789232\n",
      "[100]\ttrain's QWK: 0.839448\tvalid's QWK: 0.842322\n",
      "[125]\ttrain's QWK: 0.858081\tvalid's QWK: 0.862847\n",
      "[150]\ttrain's QWK: 0.867987\tvalid's QWK: 0.876287\n",
      "[175]\ttrain's QWK: 0.871502\tvalid's QWK: 0.883428\n",
      "[200]\ttrain's QWK: 0.873817\tvalid's QWK: 0.889446\n",
      "[225]\ttrain's QWK: 0.876537\tvalid's QWK: 0.890367\n",
      "[250]\ttrain's QWK: 0.879137\tvalid's QWK: 0.89459\n",
      "[275]\ttrain's QWK: 0.880509\tvalid's QWK: 0.894976\n",
      "[300]\ttrain's QWK: 0.881998\tvalid's QWK: 0.89732\n",
      "[325]\ttrain's QWK: 0.883398\tvalid's QWK: 0.897002\n",
      "[350]\ttrain's QWK: 0.883974\tvalid's QWK: 0.898894\n",
      "[375]\ttrain's QWK: 0.884495\tvalid's QWK: 0.899872\n",
      "[400]\ttrain's QWK: 0.884959\tvalid's QWK: 0.899872\n",
      "[425]\ttrain's QWK: 0.885498\tvalid's QWK: 0.899872\n",
      "[450]\ttrain's QWK: 0.885931\tvalid's QWK: 0.900476\n",
      "[475]\ttrain's QWK: 0.886222\tvalid's QWK: 0.90015\n",
      "Early stopping, best iteration is:\n",
      "[404]\ttrain's QWK: 0.885195\tvalid's QWK: 0.900476\n",
      "Evaluated only: QWK\n",
      "[LightGBM] [Info] Using self-defined objective function\n",
      "Training until validation scores don't improve for 75 rounds\n",
      "[25]\ttrain's QWK: 0.451792\tvalid's QWK: 0.431031\n",
      "[50]\ttrain's QWK: 0.730199\tvalid's QWK: 0.742204\n",
      "[75]\ttrain's QWK: 0.794188\tvalid's QWK: 0.80685\n",
      "[100]\ttrain's QWK: 0.836485\tvalid's QWK: 0.844225\n",
      "[125]\ttrain's QWK: 0.857692\tvalid's QWK: 0.868493\n",
      "[150]\ttrain's QWK: 0.867185\tvalid's QWK: 0.877238\n",
      "[175]\ttrain's QWK: 0.872266\tvalid's QWK: 0.879615\n",
      "[200]\ttrain's QWK: 0.875585\tvalid's QWK: 0.882311\n",
      "[225]\ttrain's QWK: 0.878199\tvalid's QWK: 0.884484\n",
      "[250]\ttrain's QWK: 0.880576\tvalid's QWK: 0.884591\n",
      "[275]\ttrain's QWK: 0.882342\tvalid's QWK: 0.884609\n",
      "[300]\ttrain's QWK: 0.883575\tvalid's QWK: 0.884767\n",
      "Early stopping, best iteration is:\n",
      "[226]\ttrain's QWK: 0.878357\tvalid's QWK: 0.886372\n",
      "Evaluated only: QWK\n",
      "[LightGBM] [Info] Using self-defined objective function\n",
      "Training until validation scores don't improve for 75 rounds\n",
      "[25]\ttrain's QWK: 0.444222\tvalid's QWK: 0.423462\n",
      "[50]\ttrain's QWK: 0.7365\tvalid's QWK: 0.731391\n",
      "[75]\ttrain's QWK: 0.796284\tvalid's QWK: 0.78782\n",
      "[100]\ttrain's QWK: 0.839601\tvalid's QWK: 0.82709\n",
      "[125]\ttrain's QWK: 0.859811\tvalid's QWK: 0.851265\n",
      "[150]\ttrain's QWK: 0.868253\tvalid's QWK: 0.861307\n",
      "[175]\ttrain's QWK: 0.872504\tvalid's QWK: 0.863102\n",
      "[200]\ttrain's QWK: 0.875677\tvalid's QWK: 0.868371\n",
      "[225]\ttrain's QWK: 0.878413\tvalid's QWK: 0.869078\n",
      "[250]\ttrain's QWK: 0.880415\tvalid's QWK: 0.874847\n",
      "[275]\ttrain's QWK: 0.881932\tvalid's QWK: 0.877253\n",
      "[300]\ttrain's QWK: 0.88274\tvalid's QWK: 0.88042\n",
      "[325]\ttrain's QWK: 0.883801\tvalid's QWK: 0.881095\n",
      "[350]\ttrain's QWK: 0.884195\tvalid's QWK: 0.881873\n",
      "[375]\ttrain's QWK: 0.884802\tvalid's QWK: 0.883265\n",
      "[400]\ttrain's QWK: 0.885509\tvalid's QWK: 0.883423\n",
      "[425]\ttrain's QWK: 0.885957\tvalid's QWK: 0.883879\n",
      "[450]\ttrain's QWK: 0.886223\tvalid's QWK: 0.884312\n",
      "Early stopping, best iteration is:\n",
      "[390]\ttrain's QWK: 0.885292\tvalid's QWK: 0.884622\n",
      "Evaluated only: QWK\n",
      "[LightGBM] [Info] Using self-defined objective function\n",
      "Training until validation scores don't improve for 75 rounds\n",
      "[25]\ttrain's QWK: 0.456088\tvalid's QWK: 0.442931\n",
      "[50]\ttrain's QWK: 0.737871\tvalid's QWK: 0.733646\n",
      "[75]\ttrain's QWK: 0.796882\tvalid's QWK: 0.787978\n",
      "[100]\ttrain's QWK: 0.838721\tvalid's QWK: 0.836545\n",
      "[125]\ttrain's QWK: 0.858381\tvalid's QWK: 0.852999\n",
      "[150]\ttrain's QWK: 0.868501\tvalid's QWK: 0.863716\n",
      "[175]\ttrain's QWK: 0.872902\tvalid's QWK: 0.866091\n",
      "[200]\ttrain's QWK: 0.87554\tvalid's QWK: 0.872724\n",
      "[225]\ttrain's QWK: 0.87812\tvalid's QWK: 0.872189\n",
      "[250]\ttrain's QWK: 0.880153\tvalid's QWK: 0.874259\n",
      "Early stopping, best iteration is:\n",
      "[197]\ttrain's QWK: 0.875203\tvalid's QWK: 0.875186\n",
      "Evaluated only: QWK\n"
     ]
    },
    {
     "name": "stderr",
     "output_type": "stream",
     "text": [
      "/media/ishfar/New Volume/Studies/Projects/Kaggle-Automated-Essay-Scoring/lib/criterion/metrics.py:34: RuntimeWarning: invalid value encountered in scalar divide\n",
      "  precision = tp / (tp + fp)\n"
     ]
    },
    {
     "name": "stdout",
     "output_type": "stream",
     "text": [
      "[LightGBM] [Info] Using self-defined objective function\n",
      "Training until validation scores don't improve for 75 rounds\n",
      "[25]\ttrain's QWK: 0.455764\tvalid's QWK: 0.472955\n",
      "[50]\ttrain's QWK: 0.733186\tvalid's QWK: 0.716572\n",
      "[75]\ttrain's QWK: 0.799064\tvalid's QWK: 0.791741\n",
      "[100]\ttrain's QWK: 0.834982\tvalid's QWK: 0.827631\n",
      "[125]\ttrain's QWK: 0.858411\tvalid's QWK: 0.848697\n",
      "[150]\ttrain's QWK: 0.868377\tvalid's QWK: 0.858521\n",
      "[175]\ttrain's QWK: 0.873489\tvalid's QWK: 0.865231\n",
      "[200]\ttrain's QWK: 0.877055\tvalid's QWK: 0.865095\n",
      "[225]\ttrain's QWK: 0.879759\tvalid's QWK: 0.867765\n",
      "[250]\ttrain's QWK: 0.881473\tvalid's QWK: 0.872468\n",
      "[275]\ttrain's QWK: 0.88304\tvalid's QWK: 0.874755\n",
      "[300]\ttrain's QWK: 0.88453\tvalid's QWK: 0.875688\n",
      "[325]\ttrain's QWK: 0.885085\tvalid's QWK: 0.879686\n",
      "[350]\ttrain's QWK: 0.885509\tvalid's QWK: 0.880381\n",
      "[375]\ttrain's QWK: 0.886258\tvalid's QWK: 0.882208\n",
      "[400]\ttrain's QWK: 0.886177\tvalid's QWK: 0.882208\n",
      "Early stopping, best iteration is:\n",
      "[338]\ttrain's QWK: 0.88515\tvalid's QWK: 0.882641\n",
      "Evaluated only: QWK\n",
      "[LightGBM] [Info] Using self-defined objective function\n",
      "Training until validation scores don't improve for 75 rounds\n",
      "[25]\ttrain's QWK: 0.442007\tvalid's QWK: 0.429066\n",
      "[50]\ttrain's QWK: 0.735588\tvalid's QWK: 0.711489\n",
      "[75]\ttrain's QWK: 0.795992\tvalid's QWK: 0.781835\n",
      "[100]\ttrain's QWK: 0.837196\tvalid's QWK: 0.820693\n",
      "[125]\ttrain's QWK: 0.857861\tvalid's QWK: 0.842414\n",
      "[150]\ttrain's QWK: 0.868598\tvalid's QWK: 0.848362\n",
      "[175]\ttrain's QWK: 0.873246\tvalid's QWK: 0.852082\n",
      "[200]\ttrain's QWK: 0.87586\tvalid's QWK: 0.858965\n",
      "[225]\ttrain's QWK: 0.878548\tvalid's QWK: 0.861509\n",
      "[250]\ttrain's QWK: 0.881224\tvalid's QWK: 0.864407\n",
      "[275]\ttrain's QWK: 0.882889\tvalid's QWK: 0.868523\n",
      "[300]\ttrain's QWK: 0.884089\tvalid's QWK: 0.870825\n",
      "[325]\ttrain's QWK: 0.885179\tvalid's QWK: 0.872665\n",
      "[350]\ttrain's QWK: 0.885847\tvalid's QWK: 0.871884\n",
      "[375]\ttrain's QWK: 0.886363\tvalid's QWK: 0.872909\n",
      "[400]\ttrain's QWK: 0.886509\tvalid's QWK: 0.871917\n",
      "Early stopping, best iteration is:\n",
      "[331]\ttrain's QWK: 0.885301\tvalid's QWK: 0.873421\n",
      "Evaluated only: QWK\n"
     ]
    }
   ],
   "source": [
    "oof_df = pd.DataFrame()\n",
    "\n",
    "for idx, (train_idx, valid_idx) in enumerate(skf.split(X, y)):\n",
    "    X_train, y_train = X.loc[train_idx], y.loc[train_idx]\n",
    "    X_valid, y_valid = X.loc[valid_idx], y.loc[valid_idx]\n",
    "    id_valid = ids.loc[valid_idx].to_numpy()\n",
    "\n",
    "    model, predictor = train_loop(X_train, y_train, X_valid, y_valid)\n",
    "\n",
    "    with open(f\"output/LGBM/{idx}.pkl\", \"wb\") as file:\n",
    "        pkl.dump({\"predictor\": predictor, \"model\": model}, file)\n",
    "\n",
    "    oof = validate_model(idx, X_valid, y_valid, id_valid, predictor)\n",
    "    oof_df = pd.concat([oof_df, oof])"
   ]
  },
  {
   "cell_type": "code",
   "execution_count": 15,
   "metadata": {},
   "outputs": [
    {
     "name": "stdout",
     "output_type": "stream",
     "text": [
      "Overall Score: 0.8843\n"
     ]
    }
   ],
   "source": [
    "score = get_score(oof_df[\"score\"], oof_df[\"pred_score\"])\n",
    "print(f'Overall Score: {score:<.4f}')\n",
    "wandb.log({\"CV/qwk_score\": score})"
   ]
  },
  {
   "cell_type": "code",
   "execution_count": 16,
   "metadata": {},
   "outputs": [],
   "source": [
    "wandb.log({\"oof_table\": wandb.Table(dataframe=oof_df)})"
   ]
  },
  {
   "cell_type": "code",
   "execution_count": 17,
   "metadata": {},
   "outputs": [],
   "source": [
    "log_metrics(\n",
    "    pd.DataFrame(\n",
    "        {\n",
    "            \"score\": oof_df.score.to_numpy(),\n",
    "            \"pred_score\": oof_df.pred_score.to_numpy(),\n",
    "        }\n",
    "    ),\n",
    "    \"Overall\",\n",
    ")"
   ]
  },
  {
   "cell_type": "code",
   "execution_count": 18,
   "metadata": {},
   "outputs": [
    {
     "data": {
      "application/vnd.jupyter.widget-view+json": {
       "model_id": "8a1432877c7e4fd29c3f871f30e8a8ac",
       "version_major": 2,
       "version_minor": 0
      },
      "text/plain": [
       "VBox(children=(Label(value='0.600 MB of 0.600 MB uploaded\\r'), FloatProgress(value=1.0, max=1.0)))"
      ]
     },
     "metadata": {},
     "output_type": "display_data"
    },
    {
     "data": {
      "text/html": [
       "<style>\n",
       "    table.wandb td:nth-child(1) { padding: 0 10px; text-align: left ; width: auto;} td:nth-child(2) {text-align: left ; width: 100%}\n",
       "    .wandb-row { display: flex; flex-direction: row; flex-wrap: wrap; justify-content: flex-start; width: 100% }\n",
       "    .wandb-col { display: flex; flex-direction: column; flex-basis: 100%; flex: 1; padding: 10px; }\n",
       "    </style>\n",
       "<div class=\"wandb-row\"><div class=\"wandb-col\"><h3>Run history:</h3><br/><table class=\"wandb\"><tr><td>CV/qwk_score</td><td>▁</td></tr></table><br/></div><div class=\"wandb-col\"><h3>Run summary:</h3><br/><table class=\"wandb\"><tr><td>CV/qwk_score</td><td>0.88428</td></tr></table><br/></div></div>"
      ],
      "text/plain": [
       "<IPython.core.display.HTML object>"
      ]
     },
     "metadata": {},
     "output_type": "display_data"
    },
    {
     "data": {
      "text/html": [
       " View run <strong style=\"color:#cdcd00\">LGBM-ASE-12</strong> at: <a href='https://wandb.ai/laplacesdemon43/Kaggle_ASE_2.0/runs/ja6p55qq' target=\"_blank\">https://wandb.ai/laplacesdemon43/Kaggle_ASE_2.0/runs/ja6p55qq</a><br/> View project at: <a href='https://wandb.ai/laplacesdemon43/Kaggle_ASE_2.0' target=\"_blank\">https://wandb.ai/laplacesdemon43/Kaggle_ASE_2.0</a><br/>Synced 6 W&B file(s), 105 media file(s), 105 artifact file(s) and 1 other file(s)"
      ],
      "text/plain": [
       "<IPython.core.display.HTML object>"
      ]
     },
     "metadata": {},
     "output_type": "display_data"
    },
    {
     "data": {
      "text/html": [
       "Find logs at: <code>./wandb/run-20240608_094006-ja6p55qq/logs</code>"
      ],
      "text/plain": [
       "<IPython.core.display.HTML object>"
      ]
     },
     "metadata": {},
     "output_type": "display_data"
    }
   ],
   "source": [
    "wandb.finish()"
   ]
  }
 ],
 "metadata": {
  "kernelspec": {
   "display_name": "Python 3 (ipykernel)",
   "language": "python",
   "name": "python3"
  },
  "language_info": {
   "codemirror_mode": {
    "name": "ipython",
    "version": 3
   },
   "file_extension": ".py",
   "mimetype": "text/x-python",
   "name": "python",
   "nbconvert_exporter": "python",
   "pygments_lexer": "ipython3",
   "version": "3.11.8"
  }
 },
 "nbformat": 4,
 "nbformat_minor": 4
}
