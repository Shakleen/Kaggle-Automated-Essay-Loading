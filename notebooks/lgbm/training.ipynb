{
 "cells": [
  {
   "cell_type": "markdown",
   "metadata": {},
   "source": [
    "# LGBM - Training\n",
    "\n",
    "Sources\n",
    "1. [LGBM & Deberta Explained by ZULQARNAIN ALI](https://www.kaggle.com/code/zulqarnainalipk/lgbm-deberta-explained)"
   ]
  },
  {
   "cell_type": "markdown",
   "metadata": {},
   "source": [
    "## Setup"
   ]
  },
  {
   "cell_type": "code",
   "execution_count": 1,
   "metadata": {},
   "outputs": [],
   "source": [
    "import os\n",
    "import pandas as pd\n",
    "import numpy as np\n",
    "from sklearn.metrics import cohen_kappa_score\n",
    "import lightgbm as lgb\n",
    "import pickle as pkl\n",
    "import wandb\n",
    "from lightgbm import log_evaluation, early_stopping\n",
    "from sklearn.metrics import cohen_kappa_score\n",
    "from sklearn.model_selection import StratifiedKFold\n",
    "import matplotlib.pyplot as plt"
   ]
  },
  {
   "cell_type": "code",
   "execution_count": 2,
   "metadata": {},
   "outputs": [],
   "source": [
    "os.chdir(\"../../\")"
   ]
  },
  {
   "cell_type": "code",
   "execution_count": 3,
   "metadata": {},
   "outputs": [],
   "source": [
    "from lib.config import config\n",
    "from lib.paths import Paths\n",
    "from lib.utils.utils import seed_everything\n",
    "from lib.criterion.metrics import log_metrics\n",
    "from lib.model.utils import quadratic_weighted_kappa, qwk_obj, get_score\n",
    "from lib.utils.find_threshold import find_thresholds"
   ]
  },
  {
   "cell_type": "code",
   "execution_count": 4,
   "metadata": {},
   "outputs": [],
   "source": [
    "seed_everything()"
   ]
  },
  {
   "cell_type": "markdown",
   "metadata": {},
   "source": [
    "### Setting Up WandB"
   ]
  },
  {
   "cell_type": "code",
   "execution_count": 5,
   "metadata": {},
   "outputs": [],
   "source": [
    "WANDB_PROJECT = \"Kaggle_ASE_2.0\"\n",
    "WANDB_NAME = f\"LGBM-ASE-14\""
   ]
  },
  {
   "cell_type": "code",
   "execution_count": 6,
   "metadata": {},
   "outputs": [
    {
     "name": "stderr",
     "output_type": "stream",
     "text": [
      "Failed to detect the name of this notebook, you can set it manually with the WANDB_NOTEBOOK_NAME environment variable to enable code saving.\n",
      "\u001b[34m\u001b[1mwandb\u001b[0m: Currently logged in as: \u001b[33mshakleenishfar\u001b[0m (\u001b[33mlaplacesdemon43\u001b[0m). Use \u001b[1m`wandb login --relogin`\u001b[0m to force relogin\n",
      "\u001b[34m\u001b[1mwandb\u001b[0m: \u001b[33mWARNING\u001b[0m If you're specifying your api key in code, ensure this code is not shared publicly.\n",
      "\u001b[34m\u001b[1mwandb\u001b[0m: \u001b[33mWARNING\u001b[0m Consider setting the WANDB_API_KEY environment variable, or running `wandb login` from the command line.\n",
      "\u001b[34m\u001b[1mwandb\u001b[0m: Appending key for api.wandb.ai to your netrc file: /home/ishfar/.netrc\n"
     ]
    },
    {
     "data": {
      "text/html": [
       "wandb version 0.17.1 is available!  To upgrade, please run:\n",
       " $ pip install wandb --upgrade"
      ],
      "text/plain": [
       "<IPython.core.display.HTML object>"
      ]
     },
     "metadata": {},
     "output_type": "display_data"
    },
    {
     "data": {
      "text/html": [
       "Tracking run with wandb version 0.16.6"
      ],
      "text/plain": [
       "<IPython.core.display.HTML object>"
      ]
     },
     "metadata": {},
     "output_type": "display_data"
    },
    {
     "data": {
      "text/html": [
       "Run data is saved locally in <code>/media/ishfar/New Volume/Studies/Projects/Kaggle-Automated-Essay-Scoring/wandb/run-20240609_204845-simb1s95</code>"
      ],
      "text/plain": [
       "<IPython.core.display.HTML object>"
      ]
     },
     "metadata": {},
     "output_type": "display_data"
    },
    {
     "data": {
      "text/html": [
       "Syncing run <strong><a href='https://wandb.ai/laplacesdemon43/Kaggle_ASE_2.0/runs/simb1s95' target=\"_blank\">LGBM-ASE-14</a></strong> to <a href='https://wandb.ai/laplacesdemon43/Kaggle_ASE_2.0' target=\"_blank\">Weights & Biases</a> (<a href='https://wandb.me/run' target=\"_blank\">docs</a>)<br/>"
      ],
      "text/plain": [
       "<IPython.core.display.HTML object>"
      ]
     },
     "metadata": {},
     "output_type": "display_data"
    },
    {
     "data": {
      "text/html": [
       " View project at <a href='https://wandb.ai/laplacesdemon43/Kaggle_ASE_2.0' target=\"_blank\">https://wandb.ai/laplacesdemon43/Kaggle_ASE_2.0</a>"
      ],
      "text/plain": [
       "<IPython.core.display.HTML object>"
      ]
     },
     "metadata": {},
     "output_type": "display_data"
    },
    {
     "data": {
      "text/html": [
       " View run at <a href='https://wandb.ai/laplacesdemon43/Kaggle_ASE_2.0/runs/simb1s95' target=\"_blank\">https://wandb.ai/laplacesdemon43/Kaggle_ASE_2.0/runs/simb1s95</a>"
      ],
      "text/plain": [
       "<IPython.core.display.HTML object>"
      ]
     },
     "metadata": {},
     "output_type": "display_data"
    }
   ],
   "source": [
    "wandb.login(key=os.environ.get('WANDB_API_KEY'))\n",
    "wandb.init(\n",
    "    project=WANDB_PROJECT,\n",
    "    name=WANDB_NAME,\n",
    "    save_code=True,\n",
    "    job_type=\"train\",\n",
    "    config=config,\n",
    ")\n",
    "config = wandb.config"
   ]
  },
  {
   "cell_type": "markdown",
   "metadata": {},
   "source": [
    "## Model Training"
   ]
  },
  {
   "cell_type": "markdown",
   "metadata": {},
   "source": [
    "### Dataset Creation"
   ]
  },
  {
   "cell_type": "code",
   "execution_count": 7,
   "metadata": {},
   "outputs": [
    {
     "data": {
      "text/plain": [
       "((17307, 133), (17307,))"
      ]
     },
     "execution_count": 7,
     "metadata": {},
     "output_type": "execute_result"
    }
   ],
   "source": [
    "X = pd.read_csv(Paths.FEATURE_ENGG_CSV_PATH)\n",
    "y = pd.read_csv(Paths.COMPETITION_TRAIN_CSV_PATH, usecols=[\"score\"]).loc[:, \"score\"]\n",
    "ids, X = X.loc[:, \"essay_id\"], X.drop(columns=[\"essay_id\"])\n",
    "\n",
    "X.shape, y.shape"
   ]
  },
  {
   "cell_type": "markdown",
   "metadata": {},
   "source": [
    "### Callbacks"
   ]
  },
  {
   "cell_type": "code",
   "execution_count": 8,
   "metadata": {},
   "outputs": [],
   "source": [
    "callbacks = [\n",
    "    log_evaluation(period=25),\n",
    "    early_stopping(stopping_rounds=75, first_metric_only=True),\n",
    "]"
   ]
  },
  {
   "cell_type": "markdown",
   "metadata": {},
   "source": [
    "### Constants"
   ]
  },
  {
   "cell_type": "code",
   "execution_count": 9,
   "metadata": {},
   "outputs": [],
   "source": [
    "a = config.lgbm_a\n",
    "b = config.lgbm_b"
   ]
  },
  {
   "cell_type": "markdown",
   "metadata": {},
   "source": [
    "### Training Loop"
   ]
  },
  {
   "cell_type": "code",
   "execution_count": 10,
   "metadata": {},
   "outputs": [],
   "source": [
    "def train_loop(X_train, y_train, X_valid, y_valid):\n",
    "    y_train = y_train.astype(np.float32) - a\n",
    "    y_valid = y_valid.astype(np.float32) - a\n",
    "\n",
    "    model = lgb.LGBMRegressor(\n",
    "        objective=qwk_obj,\n",
    "        metrics=\"None\",\n",
    "        learning_rate=0.01,\n",
    "        max_depth=5,\n",
    "        num_leaves=10,\n",
    "        colsample_bytree=0.3,\n",
    "        reg_alpha=0.7,\n",
    "        reg_lambda=0.1,\n",
    "        n_estimators=700,\n",
    "        random_state=config.random_seed,\n",
    "        extra_trees=True,\n",
    "        class_weight=\"balanced\",\n",
    "        n_jobs=6,\n",
    "        verbosity=0,\n",
    "    )\n",
    "\n",
    "    # Train model\n",
    "    predictor = model.fit(\n",
    "        X_train,\n",
    "        y_train,\n",
    "        eval_names=[\"train\", \"valid\"],\n",
    "        eval_set=[(X_train, y_train), (X_valid, y_valid)],\n",
    "        eval_metric=quadratic_weighted_kappa,\n",
    "        callbacks=callbacks,\n",
    "    )\n",
    "\n",
    "    return model, predictor"
   ]
  },
  {
   "cell_type": "code",
   "execution_count": 11,
   "metadata": {},
   "outputs": [],
   "source": [
    "def validate_model(idx, X_valid, y_valid, id_valid, predictor):\n",
    "    y_valid_int = y_valid.astype(np.int64).to_numpy()\n",
    "    preds_raw = predictor.predict(X_valid) + a\n",
    "    preds = preds_raw.clip(1, 6).round().astype(np.int64)\n",
    "\n",
    "    oof = pd.DataFrame(\n",
    "        {\n",
    "            \"essay_id\": id_valid,\n",
    "            \"score\": y_valid_int - 1,\n",
    "            \"pred_score\": preds - 1,\n",
    "            \"raw\": preds_raw\n",
    "        }\n",
    "    )\n",
    "    log_metrics(oof, f\"Fold {idx}\")\n",
    "\n",
    "    return oof"
   ]
  },
  {
   "cell_type": "markdown",
   "metadata": {},
   "source": [
    "### Fold Loop"
   ]
  },
  {
   "cell_type": "code",
   "execution_count": 12,
   "metadata": {},
   "outputs": [],
   "source": [
    "skf = StratifiedKFold(\n",
    "    n_splits=config.lgbm_n_folds,\n",
    "    random_state=config.random_seed,\n",
    "    shuffle=True,\n",
    ")"
   ]
  },
  {
   "cell_type": "code",
   "execution_count": 13,
   "metadata": {},
   "outputs": [
    {
     "name": "stdout",
     "output_type": "stream",
     "text": [
      "[LightGBM] [Info] Using self-defined objective function\n",
      "Training until validation scores don't improve for 75 rounds\n",
      "[25]\ttrain's QWK: 0.45036\tvalid's QWK: 0.488636\n",
      "[50]\ttrain's QWK: 0.734204\tvalid's QWK: 0.745627\n",
      "[75]\ttrain's QWK: 0.799783\tvalid's QWK: 0.811867\n",
      "[100]\ttrain's QWK: 0.836673\tvalid's QWK: 0.844043\n",
      "[125]\ttrain's QWK: 0.858255\tvalid's QWK: 0.863831\n",
      "[150]\ttrain's QWK: 0.868255\tvalid's QWK: 0.875401\n",
      "[175]\ttrain's QWK: 0.872809\tvalid's QWK: 0.878337\n",
      "[200]\ttrain's QWK: 0.875318\tvalid's QWK: 0.882741\n",
      "[225]\ttrain's QWK: 0.878478\tvalid's QWK: 0.889438\n",
      "[250]\ttrain's QWK: 0.880529\tvalid's QWK: 0.89245\n",
      "[275]\ttrain's QWK: 0.882385\tvalid's QWK: 0.892841\n",
      "[300]\ttrain's QWK: 0.883188\tvalid's QWK: 0.892953\n",
      "[325]\ttrain's QWK: 0.883595\tvalid's QWK: 0.892905\n",
      "[350]\ttrain's QWK: 0.88413\tvalid's QWK: 0.894049\n",
      "[375]\ttrain's QWK: 0.884657\tvalid's QWK: 0.894049\n",
      "[400]\ttrain's QWK: 0.885477\tvalid's QWK: 0.894049\n",
      "[425]\ttrain's QWK: 0.886075\tvalid's QWK: 0.89506\n",
      "[450]\ttrain's QWK: 0.886354\tvalid's QWK: 0.895927\n",
      "[475]\ttrain's QWK: 0.886732\tvalid's QWK: 0.895471\n",
      "[500]\ttrain's QWK: 0.887029\tvalid's QWK: 0.895607\n",
      "Early stopping, best iteration is:\n",
      "[442]\ttrain's QWK: 0.886324\tvalid's QWK: 0.895927\n",
      "Evaluated only: QWK\n",
      "[LightGBM] [Info] Using self-defined objective function\n",
      "Training until validation scores don't improve for 75 rounds\n",
      "[25]\ttrain's QWK: 0.447965\tvalid's QWK: 0.431074\n",
      "[50]\ttrain's QWK: 0.735948\tvalid's QWK: 0.720884\n",
      "[75]\ttrain's QWK: 0.802952\tvalid's QWK: 0.800065\n",
      "[100]\ttrain's QWK: 0.83818\tvalid's QWK: 0.835921\n",
      "[125]\ttrain's QWK: 0.858143\tvalid's QWK: 0.854361\n",
      "[150]\ttrain's QWK: 0.867193\tvalid's QWK: 0.867841\n",
      "[175]\ttrain's QWK: 0.872107\tvalid's QWK: 0.869857\n",
      "[200]\ttrain's QWK: 0.875682\tvalid's QWK: 0.872364\n",
      "[225]\ttrain's QWK: 0.879255\tvalid's QWK: 0.873949\n",
      "[250]\ttrain's QWK: 0.881415\tvalid's QWK: 0.877344\n",
      "[275]\ttrain's QWK: 0.883123\tvalid's QWK: 0.878509\n",
      "[300]\ttrain's QWK: 0.884342\tvalid's QWK: 0.879394\n",
      "[325]\ttrain's QWK: 0.885005\tvalid's QWK: 0.878797\n",
      "[350]\ttrain's QWK: 0.885625\tvalid's QWK: 0.880457\n",
      "[375]\ttrain's QWK: 0.886149\tvalid's QWK: 0.879939\n",
      "[400]\ttrain's QWK: 0.886622\tvalid's QWK: 0.883504\n",
      "[425]\ttrain's QWK: 0.887008\tvalid's QWK: 0.884114\n",
      "[450]\ttrain's QWK: 0.8873\tvalid's QWK: 0.885723\n",
      "[475]\ttrain's QWK: 0.887645\tvalid's QWK: 0.885872\n",
      "[500]\ttrain's QWK: 0.888026\tvalid's QWK: 0.885872\n",
      "[525]\ttrain's QWK: 0.887971\tvalid's QWK: 0.886442\n",
      "[550]\ttrain's QWK: 0.888113\tvalid's QWK: 0.885872\n",
      "[575]\ttrain's QWK: 0.888405\tvalid's QWK: 0.885302\n",
      "Early stopping, best iteration is:\n",
      "[505]\ttrain's QWK: 0.888032\tvalid's QWK: 0.886442\n",
      "Evaluated only: QWK\n",
      "[LightGBM] [Info] Using self-defined objective function\n",
      "Training until validation scores don't improve for 75 rounds\n",
      "[25]\ttrain's QWK: 0.45196\tvalid's QWK: 0.47422\n",
      "[50]\ttrain's QWK: 0.730056\tvalid's QWK: 0.746629\n",
      "[75]\ttrain's QWK: 0.799181\tvalid's QWK: 0.806995\n",
      "[100]\ttrain's QWK: 0.837358\tvalid's QWK: 0.845612\n",
      "[125]\ttrain's QWK: 0.859123\tvalid's QWK: 0.86949\n",
      "[150]\ttrain's QWK: 0.868703\tvalid's QWK: 0.883597\n",
      "[175]\ttrain's QWK: 0.872696\tvalid's QWK: 0.885995\n",
      "[200]\ttrain's QWK: 0.875145\tvalid's QWK: 0.889793\n",
      "[225]\ttrain's QWK: 0.878742\tvalid's QWK: 0.89377\n",
      "[250]\ttrain's QWK: 0.88127\tvalid's QWK: 0.895349\n",
      "[275]\ttrain's QWK: 0.881872\tvalid's QWK: 0.89544\n",
      "[300]\ttrain's QWK: 0.883125\tvalid's QWK: 0.895426\n",
      "Early stopping, best iteration is:\n",
      "[244]\ttrain's QWK: 0.880745\tvalid's QWK: 0.895792\n",
      "Evaluated only: QWK\n",
      "[LightGBM] [Info] Using self-defined objective function\n",
      "Training until validation scores don't improve for 75 rounds\n",
      "[25]\ttrain's QWK: 0.440384\tvalid's QWK: 0.417572\n",
      "[50]\ttrain's QWK: 0.738616\tvalid's QWK: 0.71575\n",
      "[75]\ttrain's QWK: 0.797297\tvalid's QWK: 0.784724\n",
      "[100]\ttrain's QWK: 0.838694\tvalid's QWK: 0.821712\n",
      "[125]\ttrain's QWK: 0.858407\tvalid's QWK: 0.848548\n",
      "[150]\ttrain's QWK: 0.867901\tvalid's QWK: 0.856862\n",
      "[175]\ttrain's QWK: 0.873207\tvalid's QWK: 0.860753\n",
      "[200]\ttrain's QWK: 0.875277\tvalid's QWK: 0.861955\n",
      "[225]\ttrain's QWK: 0.87923\tvalid's QWK: 0.866127\n",
      "[250]\ttrain's QWK: 0.881552\tvalid's QWK: 0.873211\n",
      "[275]\ttrain's QWK: 0.882459\tvalid's QWK: 0.874354\n",
      "[300]\ttrain's QWK: 0.883785\tvalid's QWK: 0.875815\n",
      "[325]\ttrain's QWK: 0.884527\tvalid's QWK: 0.877961\n",
      "[350]\ttrain's QWK: 0.885271\tvalid's QWK: 0.880852\n",
      "[375]\ttrain's QWK: 0.885663\tvalid's QWK: 0.879997\n",
      "[400]\ttrain's QWK: 0.885776\tvalid's QWK: 0.879735\n",
      "Early stopping, best iteration is:\n",
      "[337]\ttrain's QWK: 0.884831\tvalid's QWK: 0.88112\n",
      "Evaluated only: QWK\n",
      "[LightGBM] [Info] Using self-defined objective function\n",
      "Training until validation scores don't improve for 75 rounds\n",
      "[25]\ttrain's QWK: 0.445266\tvalid's QWK: 0.457922\n",
      "[50]\ttrain's QWK: 0.733341\tvalid's QWK: 0.740193\n",
      "[75]\ttrain's QWK: 0.800653\tvalid's QWK: 0.810178\n",
      "[100]\ttrain's QWK: 0.837689\tvalid's QWK: 0.838983\n",
      "[125]\ttrain's QWK: 0.858217\tvalid's QWK: 0.8595\n",
      "[150]\ttrain's QWK: 0.867015\tvalid's QWK: 0.86605\n",
      "[175]\ttrain's QWK: 0.872329\tvalid's QWK: 0.867719\n",
      "[200]\ttrain's QWK: 0.875215\tvalid's QWK: 0.870807\n",
      "[225]\ttrain's QWK: 0.878332\tvalid's QWK: 0.875275\n",
      "[250]\ttrain's QWK: 0.880946\tvalid's QWK: 0.879676\n",
      "[275]\ttrain's QWK: 0.882662\tvalid's QWK: 0.881409\n",
      "[300]\ttrain's QWK: 0.884113\tvalid's QWK: 0.881567\n",
      "[325]\ttrain's QWK: 0.884641\tvalid's QWK: 0.880438\n",
      "Early stopping, best iteration is:\n",
      "[260]\ttrain's QWK: 0.881993\tvalid's QWK: 0.882412\n",
      "Evaluated only: QWK\n",
      "[LightGBM] [Info] Using self-defined objective function\n",
      "Training until validation scores don't improve for 75 rounds\n",
      "[25]\ttrain's QWK: 0.45661\tvalid's QWK: 0.446915\n",
      "[50]\ttrain's QWK: 0.737205\tvalid's QWK: 0.713174\n",
      "[75]\ttrain's QWK: 0.797832\tvalid's QWK: 0.790607\n",
      "[100]\ttrain's QWK: 0.834561\tvalid's QWK: 0.830305\n",
      "[125]\ttrain's QWK: 0.859212\tvalid's QWK: 0.847068\n",
      "[150]\ttrain's QWK: 0.869592\tvalid's QWK: 0.855481\n",
      "[175]\ttrain's QWK: 0.873986\tvalid's QWK: 0.852444\n",
      "[200]\ttrain's QWK: 0.877452\tvalid's QWK: 0.857534\n",
      "[225]\ttrain's QWK: 0.880336\tvalid's QWK: 0.857161\n",
      "[250]\ttrain's QWK: 0.882079\tvalid's QWK: 0.860917\n",
      "[275]\ttrain's QWK: 0.88359\tvalid's QWK: 0.864595\n",
      "[300]\ttrain's QWK: 0.885121\tvalid's QWK: 0.864918\n",
      "[325]\ttrain's QWK: 0.885736\tvalid's QWK: 0.865101\n",
      "[350]\ttrain's QWK: 0.885879\tvalid's QWK: 0.866998\n",
      "[375]\ttrain's QWK: 0.886709\tvalid's QWK: 0.868348\n",
      "[400]\ttrain's QWK: 0.886943\tvalid's QWK: 0.869998\n",
      "[425]\ttrain's QWK: 0.887389\tvalid's QWK: 0.871394\n",
      "[450]\ttrain's QWK: 0.887639\tvalid's QWK: 0.872488\n",
      "[475]\ttrain's QWK: 0.88796\tvalid's QWK: 0.873959\n",
      "[500]\ttrain's QWK: 0.887969\tvalid's QWK: 0.873724\n",
      "[525]\ttrain's QWK: 0.888251\tvalid's QWK: 0.874125\n",
      "[550]\ttrain's QWK: 0.888281\tvalid's QWK: 0.874694\n",
      "[575]\ttrain's QWK: 0.888997\tvalid's QWK: 0.876192\n",
      "[600]\ttrain's QWK: 0.889246\tvalid's QWK: 0.876192\n",
      "[625]\ttrain's QWK: 0.889185\tvalid's QWK: 0.876372\n",
      "[650]\ttrain's QWK: 0.889481\tvalid's QWK: 0.876372\n",
      "[675]\ttrain's QWK: 0.889705\tvalid's QWK: 0.877118\n",
      "[700]\ttrain's QWK: 0.889991\tvalid's QWK: 0.876874\n",
      "Did not meet early stopping. Best iteration is:\n",
      "[666]\ttrain's QWK: 0.889759\tvalid's QWK: 0.877118\n",
      "Evaluated only: QWK\n",
      "[LightGBM] [Info] Using self-defined objective function\n",
      "Training until validation scores don't improve for 75 rounds\n",
      "[25]\ttrain's QWK: 0.462043\tvalid's QWK: 0.462467\n",
      "[50]\ttrain's QWK: 0.73505\tvalid's QWK: 0.737638\n",
      "[75]\ttrain's QWK: 0.799052\tvalid's QWK: 0.78178\n",
      "[100]\ttrain's QWK: 0.836865\tvalid's QWK: 0.835809\n",
      "[125]\ttrain's QWK: 0.858429\tvalid's QWK: 0.849008\n",
      "[150]\ttrain's QWK: 0.86909\tvalid's QWK: 0.864544\n",
      "[175]\ttrain's QWK: 0.872681\tvalid's QWK: 0.874603\n",
      "[200]\ttrain's QWK: 0.874988\tvalid's QWK: 0.874735\n",
      "[225]\ttrain's QWK: 0.877615\tvalid's QWK: 0.8805\n",
      "[250]\ttrain's QWK: 0.87993\tvalid's QWK: 0.881201\n",
      "[275]\ttrain's QWK: 0.881723\tvalid's QWK: 0.883544\n",
      "[300]\ttrain's QWK: 0.882748\tvalid's QWK: 0.883544\n",
      "[325]\ttrain's QWK: 0.883659\tvalid's QWK: 0.884915\n",
      "[350]\ttrain's QWK: 0.884452\tvalid's QWK: 0.886566\n",
      "[375]\ttrain's QWK: 0.884765\tvalid's QWK: 0.886718\n",
      "[400]\ttrain's QWK: 0.885188\tvalid's QWK: 0.887909\n",
      "[425]\ttrain's QWK: 0.885782\tvalid's QWK: 0.887923\n",
      "[450]\ttrain's QWK: 0.88574\tvalid's QWK: 0.887636\n",
      "Early stopping, best iteration is:\n",
      "[388]\ttrain's QWK: 0.884972\tvalid's QWK: 0.888662\n",
      "Evaluated only: QWK\n",
      "[LightGBM] [Info] Using self-defined objective function\n",
      "Training until validation scores don't improve for 75 rounds\n",
      "[25]\ttrain's QWK: 0.446645\tvalid's QWK: 0.40076\n",
      "[50]\ttrain's QWK: 0.736991\tvalid's QWK: 0.723965\n",
      "[75]\ttrain's QWK: 0.801085\tvalid's QWK: 0.788624\n",
      "[100]\ttrain's QWK: 0.839133\tvalid's QWK: 0.834398\n",
      "[125]\ttrain's QWK: 0.860439\tvalid's QWK: 0.848332\n",
      "[150]\ttrain's QWK: 0.869183\tvalid's QWK: 0.857014\n",
      "[175]\ttrain's QWK: 0.873621\tvalid's QWK: 0.860686\n",
      "[200]\ttrain's QWK: 0.876823\tvalid's QWK: 0.863118\n",
      "[225]\ttrain's QWK: 0.879792\tvalid's QWK: 0.86166\n",
      "[250]\ttrain's QWK: 0.882487\tvalid's QWK: 0.867915\n",
      "[275]\ttrain's QWK: 0.883811\tvalid's QWK: 0.869188\n",
      "[300]\ttrain's QWK: 0.885038\tvalid's QWK: 0.869139\n",
      "[325]\ttrain's QWK: 0.8852\tvalid's QWK: 0.869638\n",
      "[350]\ttrain's QWK: 0.885949\tvalid's QWK: 0.87017\n",
      "[375]\ttrain's QWK: 0.886151\tvalid's QWK: 0.87147\n",
      "[400]\ttrain's QWK: 0.88705\tvalid's QWK: 0.872008\n",
      "[425]\ttrain's QWK: 0.887516\tvalid's QWK: 0.871775\n",
      "[450]\ttrain's QWK: 0.887884\tvalid's QWK: 0.871775\n",
      "Early stopping, best iteration is:\n",
      "[391]\ttrain's QWK: 0.886702\tvalid's QWK: 0.872008\n",
      "Evaluated only: QWK\n",
      "[LightGBM] [Info] Using self-defined objective function\n",
      "Training until validation scores don't improve for 75 rounds\n",
      "[25]\ttrain's QWK: 0.447676\tvalid's QWK: 0.414621\n",
      "[50]\ttrain's QWK: 0.736806\tvalid's QWK: 0.731634\n",
      "[75]\ttrain's QWK: 0.800427\tvalid's QWK: 0.793391\n",
      "[100]\ttrain's QWK: 0.838993\tvalid's QWK: 0.828203\n",
      "[125]\ttrain's QWK: 0.86068\tvalid's QWK: 0.848262\n",
      "[150]\ttrain's QWK: 0.868867\tvalid's QWK: 0.869011\n",
      "[175]\ttrain's QWK: 0.873032\tvalid's QWK: 0.869301\n",
      "[200]\ttrain's QWK: 0.876381\tvalid's QWK: 0.871851\n",
      "[225]\ttrain's QWK: 0.879465\tvalid's QWK: 0.876247\n",
      "[250]\ttrain's QWK: 0.882115\tvalid's QWK: 0.879822\n",
      "[275]\ttrain's QWK: 0.883091\tvalid's QWK: 0.881441\n",
      "[300]\ttrain's QWK: 0.884033\tvalid's QWK: 0.882274\n",
      "[325]\ttrain's QWK: 0.884448\tvalid's QWK: 0.882323\n",
      "[350]\ttrain's QWK: 0.884794\tvalid's QWK: 0.884009\n",
      "[375]\ttrain's QWK: 0.885206\tvalid's QWK: 0.881782\n",
      "[400]\ttrain's QWK: 0.886106\tvalid's QWK: 0.881179\n",
      "Early stopping, best iteration is:\n",
      "[349]\ttrain's QWK: 0.88465\tvalid's QWK: 0.884009\n",
      "Evaluated only: QWK\n",
      "[LightGBM] [Info] Using self-defined objective function\n",
      "Training until validation scores don't improve for 75 rounds\n",
      "[25]\ttrain's QWK: 0.43563\tvalid's QWK: 0.458266\n",
      "[50]\ttrain's QWK: 0.734053\tvalid's QWK: 0.72973\n",
      "[75]\ttrain's QWK: 0.798226\tvalid's QWK: 0.805425\n",
      "[100]\ttrain's QWK: 0.837324\tvalid's QWK: 0.860027\n",
      "[125]\ttrain's QWK: 0.85938\tvalid's QWK: 0.877978\n",
      "[150]\ttrain's QWK: 0.868221\tvalid's QWK: 0.882578\n",
      "[175]\ttrain's QWK: 0.873123\tvalid's QWK: 0.890517\n",
      "[200]\ttrain's QWK: 0.876065\tvalid's QWK: 0.894451\n",
      "[225]\ttrain's QWK: 0.87906\tvalid's QWK: 0.894554\n",
      "[250]\ttrain's QWK: 0.880928\tvalid's QWK: 0.900753\n",
      "[275]\ttrain's QWK: 0.881879\tvalid's QWK: 0.902773\n",
      "[300]\ttrain's QWK: 0.88265\tvalid's QWK: 0.901813\n",
      "[325]\ttrain's QWK: 0.883729\tvalid's QWK: 0.901612\n",
      "[350]\ttrain's QWK: 0.884315\tvalid's QWK: 0.902465\n",
      "Early stopping, best iteration is:\n",
      "[275]\ttrain's QWK: 0.881879\tvalid's QWK: 0.902773\n",
      "Evaluated only: QWK\n",
      "[LightGBM] [Info] Using self-defined objective function\n",
      "Training until validation scores don't improve for 75 rounds\n",
      "[25]\ttrain's QWK: 0.447082\tvalid's QWK: 0.448302\n",
      "[50]\ttrain's QWK: 0.73817\tvalid's QWK: 0.746607\n",
      "[75]\ttrain's QWK: 0.802205\tvalid's QWK: 0.811819\n",
      "[100]\ttrain's QWK: 0.834149\tvalid's QWK: 0.846615\n",
      "[125]\ttrain's QWK: 0.858158\tvalid's QWK: 0.870332\n",
      "[150]\ttrain's QWK: 0.868519\tvalid's QWK: 0.878614\n",
      "[175]\ttrain's QWK: 0.873208\tvalid's QWK: 0.88607\n",
      "[200]\ttrain's QWK: 0.875369\tvalid's QWK: 0.889226\n",
      "[225]\ttrain's QWK: 0.877786\tvalid's QWK: 0.893396\n",
      "[250]\ttrain's QWK: 0.880512\tvalid's QWK: 0.89431\n",
      "[275]\ttrain's QWK: 0.882315\tvalid's QWK: 0.895505\n",
      "[300]\ttrain's QWK: 0.883495\tvalid's QWK: 0.896088\n",
      "[325]\ttrain's QWK: 0.884448\tvalid's QWK: 0.89697\n",
      "[350]\ttrain's QWK: 0.884786\tvalid's QWK: 0.897067\n",
      "[375]\ttrain's QWK: 0.885248\tvalid's QWK: 0.895562\n",
      "[400]\ttrain's QWK: 0.885673\tvalid's QWK: 0.894632\n",
      "Early stopping, best iteration is:\n",
      "[337]\ttrain's QWK: 0.884707\tvalid's QWK: 0.897525\n",
      "Evaluated only: QWK\n",
      "[LightGBM] [Info] Using self-defined objective function\n",
      "Training until validation scores don't improve for 75 rounds\n",
      "[25]\ttrain's QWK: 0.437176\tvalid's QWK: 0.450517\n",
      "[50]\ttrain's QWK: 0.733402\tvalid's QWK: 0.744036\n",
      "[75]\ttrain's QWK: 0.801905\tvalid's QWK: 0.810264\n",
      "[100]\ttrain's QWK: 0.837621\tvalid's QWK: 0.836189\n",
      "[125]\ttrain's QWK: 0.860103\tvalid's QWK: 0.855915\n",
      "[150]\ttrain's QWK: 0.868444\tvalid's QWK: 0.865478\n",
      "[175]\ttrain's QWK: 0.873949\tvalid's QWK: 0.869322\n",
      "[200]\ttrain's QWK: 0.876505\tvalid's QWK: 0.87572\n",
      "[225]\ttrain's QWK: 0.879386\tvalid's QWK: 0.879125\n",
      "[250]\ttrain's QWK: 0.880506\tvalid's QWK: 0.882601\n",
      "[275]\ttrain's QWK: 0.881878\tvalid's QWK: 0.885842\n",
      "[300]\ttrain's QWK: 0.883063\tvalid's QWK: 0.884957\n",
      "[325]\ttrain's QWK: 0.883804\tvalid's QWK: 0.883784\n",
      "Early stopping, best iteration is:\n",
      "[273]\ttrain's QWK: 0.881947\tvalid's QWK: 0.886432\n",
      "Evaluated only: QWK\n",
      "[LightGBM] [Info] Using self-defined objective function\n",
      "Training until validation scores don't improve for 75 rounds\n",
      "[25]\ttrain's QWK: 0.436974\tvalid's QWK: 0.442221\n",
      "[50]\ttrain's QWK: 0.732185\tvalid's QWK: 0.74633\n",
      "[75]\ttrain's QWK: 0.802728\tvalid's QWK: 0.806459\n",
      "[100]\ttrain's QWK: 0.838612\tvalid's QWK: 0.843298\n",
      "[125]\ttrain's QWK: 0.859019\tvalid's QWK: 0.866191\n",
      "[150]\ttrain's QWK: 0.869325\tvalid's QWK: 0.870117\n",
      "[175]\ttrain's QWK: 0.872848\tvalid's QWK: 0.873513\n",
      "[200]\ttrain's QWK: 0.875604\tvalid's QWK: 0.877629\n",
      "[225]\ttrain's QWK: 0.879459\tvalid's QWK: 0.879755\n",
      "[250]\ttrain's QWK: 0.881467\tvalid's QWK: 0.880327\n",
      "[275]\ttrain's QWK: 0.88271\tvalid's QWK: 0.880974\n",
      "[300]\ttrain's QWK: 0.88348\tvalid's QWK: 0.882358\n",
      "[325]\ttrain's QWK: 0.884182\tvalid's QWK: 0.882987\n",
      "[350]\ttrain's QWK: 0.885264\tvalid's QWK: 0.881808\n",
      "[375]\ttrain's QWK: 0.885941\tvalid's QWK: 0.879381\n",
      "[400]\ttrain's QWK: 0.886233\tvalid's QWK: 0.879381\n",
      "Early stopping, best iteration is:\n",
      "[326]\ttrain's QWK: 0.884206\tvalid's QWK: 0.883742\n",
      "Evaluated only: QWK\n",
      "[LightGBM] [Info] Using self-defined objective function\n",
      "Training until validation scores don't improve for 75 rounds\n",
      "[25]\ttrain's QWK: 0.442186\tvalid's QWK: 0.439483\n",
      "[50]\ttrain's QWK: 0.73602\tvalid's QWK: 0.70744\n",
      "[75]\ttrain's QWK: 0.800127\tvalid's QWK: 0.779881\n",
      "[100]\ttrain's QWK: 0.839286\tvalid's QWK: 0.821937\n",
      "[125]\ttrain's QWK: 0.860009\tvalid's QWK: 0.851352\n",
      "[150]\ttrain's QWK: 0.869644\tvalid's QWK: 0.858083\n",
      "[175]\ttrain's QWK: 0.87437\tvalid's QWK: 0.859947\n",
      "[200]\ttrain's QWK: 0.876967\tvalid's QWK: 0.858689\n",
      "[225]\ttrain's QWK: 0.880233\tvalid's QWK: 0.861246\n",
      "[250]\ttrain's QWK: 0.882627\tvalid's QWK: 0.861774\n",
      "[275]\ttrain's QWK: 0.883856\tvalid's QWK: 0.863448\n",
      "[300]\ttrain's QWK: 0.884533\tvalid's QWK: 0.863593\n",
      "[325]\ttrain's QWK: 0.885001\tvalid's QWK: 0.862821\n",
      "[350]\ttrain's QWK: 0.885111\tvalid's QWK: 0.863552\n",
      "Early stopping, best iteration is:\n",
      "[280]\ttrain's QWK: 0.883938\tvalid's QWK: 0.86439\n",
      "Evaluated only: QWK\n",
      "[LightGBM] [Info] Using self-defined objective function\n",
      "Training until validation scores don't improve for 75 rounds\n",
      "[25]\ttrain's QWK: 0.448283\tvalid's QWK: 0.468466\n",
      "[50]\ttrain's QWK: 0.73599\tvalid's QWK: 0.751354\n",
      "[75]\ttrain's QWK: 0.800577\tvalid's QWK: 0.820194\n",
      "[100]\ttrain's QWK: 0.836376\tvalid's QWK: 0.844645\n",
      "[125]\ttrain's QWK: 0.859223\tvalid's QWK: 0.871464\n",
      "[150]\ttrain's QWK: 0.868187\tvalid's QWK: 0.874336\n",
      "[175]\ttrain's QWK: 0.873257\tvalid's QWK: 0.878239\n",
      "[200]\ttrain's QWK: 0.875694\tvalid's QWK: 0.882688\n",
      "[225]\ttrain's QWK: 0.87816\tvalid's QWK: 0.88731\n",
      "[250]\ttrain's QWK: 0.880543\tvalid's QWK: 0.889835\n",
      "[275]\ttrain's QWK: 0.881944\tvalid's QWK: 0.889689\n",
      "[300]\ttrain's QWK: 0.882878\tvalid's QWK: 0.889692\n",
      "[325]\ttrain's QWK: 0.88343\tvalid's QWK: 0.889094\n",
      "[350]\ttrain's QWK: 0.884297\tvalid's QWK: 0.89013\n",
      "Early stopping, best iteration is:\n",
      "[276]\ttrain's QWK: 0.881911\tvalid's QWK: 0.892507\n",
      "Evaluated only: QWK\n",
      "[LightGBM] [Info] Using self-defined objective function\n",
      "Training until validation scores don't improve for 75 rounds\n",
      "[25]\ttrain's QWK: 0.441764\tvalid's QWK: 0.452829\n",
      "[50]\ttrain's QWK: 0.73636\tvalid's QWK: 0.753735\n",
      "[75]\ttrain's QWK: 0.800365\tvalid's QWK: 0.81399\n",
      "[100]\ttrain's QWK: 0.840636\tvalid's QWK: 0.83792\n",
      "[125]\ttrain's QWK: 0.859936\tvalid's QWK: 0.863776\n",
      "[150]\ttrain's QWK: 0.869057\tvalid's QWK: 0.875516\n",
      "[175]\ttrain's QWK: 0.872612\tvalid's QWK: 0.881837\n",
      "[200]\ttrain's QWK: 0.876263\tvalid's QWK: 0.879473\n",
      "[225]\ttrain's QWK: 0.878671\tvalid's QWK: 0.878218\n",
      "[250]\ttrain's QWK: 0.881048\tvalid's QWK: 0.878508\n",
      "Early stopping, best iteration is:\n",
      "[184]\ttrain's QWK: 0.874713\tvalid's QWK: 0.882779\n",
      "Evaluated only: QWK\n"
     ]
    },
    {
     "name": "stderr",
     "output_type": "stream",
     "text": [
      "/media/ishfar/New Volume/Studies/Projects/Kaggle-Automated-Essay-Scoring/lib/criterion/metrics.py:34: RuntimeWarning: invalid value encountered in scalar divide\n",
      "  precision = tp / (tp + fp)\n"
     ]
    },
    {
     "name": "stdout",
     "output_type": "stream",
     "text": [
      "[LightGBM] [Info] Using self-defined objective function\n",
      "Training until validation scores don't improve for 75 rounds\n",
      "[25]\ttrain's QWK: 0.437961\tvalid's QWK: 0.466946\n",
      "[50]\ttrain's QWK: 0.739532\tvalid's QWK: 0.743407\n",
      "[75]\ttrain's QWK: 0.802872\tvalid's QWK: 0.794764\n",
      "[100]\ttrain's QWK: 0.841296\tvalid's QWK: 0.847574\n",
      "[125]\ttrain's QWK: 0.86\tvalid's QWK: 0.868268\n",
      "[150]\ttrain's QWK: 0.869241\tvalid's QWK: 0.872989\n",
      "[175]\ttrain's QWK: 0.873222\tvalid's QWK: 0.874221\n",
      "[200]\ttrain's QWK: 0.876458\tvalid's QWK: 0.87818\n",
      "[225]\ttrain's QWK: 0.87934\tvalid's QWK: 0.873464\n",
      "[250]\ttrain's QWK: 0.881802\tvalid's QWK: 0.876824\n",
      "Early stopping, best iteration is:\n",
      "[192]\ttrain's QWK: 0.875732\tvalid's QWK: 0.878804\n",
      "Evaluated only: QWK\n"
     ]
    },
    {
     "name": "stderr",
     "output_type": "stream",
     "text": [
      "/media/ishfar/New Volume/Studies/Projects/Kaggle-Automated-Essay-Scoring/lib/criterion/metrics.py:34: RuntimeWarning: invalid value encountered in scalar divide\n",
      "  precision = tp / (tp + fp)\n"
     ]
    },
    {
     "name": "stdout",
     "output_type": "stream",
     "text": [
      "[LightGBM] [Info] Using self-defined objective function\n",
      "Training until validation scores don't improve for 75 rounds\n",
      "[25]\ttrain's QWK: 0.4388\tvalid's QWK: 0.427064\n",
      "[50]\ttrain's QWK: 0.740366\tvalid's QWK: 0.738462\n",
      "[75]\ttrain's QWK: 0.801388\tvalid's QWK: 0.804341\n",
      "[100]\ttrain's QWK: 0.835488\tvalid's QWK: 0.83518\n",
      "[125]\ttrain's QWK: 0.858814\tvalid's QWK: 0.858078\n",
      "[150]\ttrain's QWK: 0.86848\tvalid's QWK: 0.864703\n",
      "[175]\ttrain's QWK: 0.87245\tvalid's QWK: 0.874252\n",
      "[200]\ttrain's QWK: 0.876411\tvalid's QWK: 0.873493\n",
      "[225]\ttrain's QWK: 0.879432\tvalid's QWK: 0.877782\n",
      "[250]\ttrain's QWK: 0.881607\tvalid's QWK: 0.881078\n",
      "[275]\ttrain's QWK: 0.882721\tvalid's QWK: 0.884288\n",
      "[300]\ttrain's QWK: 0.883579\tvalid's QWK: 0.88597\n",
      "[325]\ttrain's QWK: 0.884585\tvalid's QWK: 0.886605\n",
      "[350]\ttrain's QWK: 0.885\tvalid's QWK: 0.889152\n",
      "[375]\ttrain's QWK: 0.885027\tvalid's QWK: 0.891371\n",
      "[400]\ttrain's QWK: 0.885464\tvalid's QWK: 0.891962\n",
      "[425]\ttrain's QWK: 0.885906\tvalid's QWK: 0.892704\n",
      "[450]\ttrain's QWK: 0.886103\tvalid's QWK: 0.892248\n",
      "[475]\ttrain's QWK: 0.886664\tvalid's QWK: 0.892831\n",
      "[500]\ttrain's QWK: 0.886854\tvalid's QWK: 0.892831\n",
      "[525]\ttrain's QWK: 0.887205\tvalid's QWK: 0.892105\n",
      "Early stopping, best iteration is:\n",
      "[465]\ttrain's QWK: 0.886315\tvalid's QWK: 0.892831\n",
      "Evaluated only: QWK\n",
      "[LightGBM] [Info] Using self-defined objective function\n",
      "Training until validation scores don't improve for 75 rounds\n",
      "[25]\ttrain's QWK: 0.449323\tvalid's QWK: 0.469972\n",
      "[50]\ttrain's QWK: 0.737045\tvalid's QWK: 0.756196\n",
      "[75]\ttrain's QWK: 0.801111\tvalid's QWK: 0.803399\n",
      "[100]\ttrain's QWK: 0.836464\tvalid's QWK: 0.835134\n",
      "[125]\ttrain's QWK: 0.859546\tvalid's QWK: 0.862694\n",
      "[150]\ttrain's QWK: 0.869962\tvalid's QWK: 0.865405\n",
      "[175]\ttrain's QWK: 0.874817\tvalid's QWK: 0.876463\n",
      "[200]\ttrain's QWK: 0.87632\tvalid's QWK: 0.882162\n",
      "[225]\ttrain's QWK: 0.878925\tvalid's QWK: 0.883347\n",
      "[250]\ttrain's QWK: 0.881457\tvalid's QWK: 0.885916\n",
      "[275]\ttrain's QWK: 0.882215\tvalid's QWK: 0.885788\n",
      "[300]\ttrain's QWK: 0.883628\tvalid's QWK: 0.886702\n",
      "[325]\ttrain's QWK: 0.884944\tvalid's QWK: 0.888496\n",
      "[350]\ttrain's QWK: 0.885718\tvalid's QWK: 0.889534\n",
      "[375]\ttrain's QWK: 0.885963\tvalid's QWK: 0.889534\n",
      "[400]\ttrain's QWK: 0.886121\tvalid's QWK: 0.89026\n",
      "[425]\ttrain's QWK: 0.886465\tvalid's QWK: 0.891416\n",
      "[450]\ttrain's QWK: 0.88665\tvalid's QWK: 0.891416\n",
      "[475]\ttrain's QWK: 0.887103\tvalid's QWK: 0.891521\n",
      "[500]\ttrain's QWK: 0.887229\tvalid's QWK: 0.890946\n",
      "[525]\ttrain's QWK: 0.887612\tvalid's QWK: 0.890373\n",
      "Early stopping, best iteration is:\n",
      "[458]\ttrain's QWK: 0.886774\tvalid's QWK: 0.89228\n",
      "Evaluated only: QWK\n",
      "[LightGBM] [Info] Using self-defined objective function\n",
      "Training until validation scores don't improve for 75 rounds\n",
      "[25]\ttrain's QWK: 0.438482\tvalid's QWK: 0.442264\n",
      "[50]\ttrain's QWK: 0.736194\tvalid's QWK: 0.74685\n",
      "[75]\ttrain's QWK: 0.801126\tvalid's QWK: 0.802212\n",
      "[100]\ttrain's QWK: 0.839695\tvalid's QWK: 0.839004\n",
      "[125]\ttrain's QWK: 0.859038\tvalid's QWK: 0.863483\n",
      "[150]\ttrain's QWK: 0.86808\tvalid's QWK: 0.876018\n",
      "[175]\ttrain's QWK: 0.872329\tvalid's QWK: 0.888022\n",
      "[200]\ttrain's QWK: 0.875465\tvalid's QWK: 0.890232\n",
      "[225]\ttrain's QWK: 0.879197\tvalid's QWK: 0.894018\n",
      "[250]\ttrain's QWK: 0.881369\tvalid's QWK: 0.897906\n",
      "[275]\ttrain's QWK: 0.882669\tvalid's QWK: 0.897796\n",
      "[300]\ttrain's QWK: 0.883551\tvalid's QWK: 0.898461\n",
      "[325]\ttrain's QWK: 0.884288\tvalid's QWK: 0.898461\n",
      "[350]\ttrain's QWK: 0.884607\tvalid's QWK: 0.897854\n",
      "[375]\ttrain's QWK: 0.885204\tvalid's QWK: 0.900489\n",
      "[400]\ttrain's QWK: 0.885351\tvalid's QWK: 0.900489\n",
      "[425]\ttrain's QWK: 0.88586\tvalid's QWK: 0.900489\n",
      "Early stopping, best iteration is:\n",
      "[374]\ttrain's QWK: 0.885166\tvalid's QWK: 0.900489\n",
      "Evaluated only: QWK\n",
      "[LightGBM] [Info] Using self-defined objective function\n",
      "Training until validation scores don't improve for 75 rounds\n",
      "[25]\ttrain's QWK: 0.444302\tvalid's QWK: 0.422555\n",
      "[50]\ttrain's QWK: 0.740125\tvalid's QWK: 0.747893\n",
      "[75]\ttrain's QWK: 0.798594\tvalid's QWK: 0.808876\n",
      "[100]\ttrain's QWK: 0.837846\tvalid's QWK: 0.851999\n",
      "[125]\ttrain's QWK: 0.85801\tvalid's QWK: 0.874445\n",
      "[150]\ttrain's QWK: 0.86819\tvalid's QWK: 0.878451\n",
      "[175]\ttrain's QWK: 0.872849\tvalid's QWK: 0.878843\n",
      "[200]\ttrain's QWK: 0.877136\tvalid's QWK: 0.878295\n",
      "[225]\ttrain's QWK: 0.879753\tvalid's QWK: 0.878892\n",
      "Early stopping, best iteration is:\n",
      "[155]\ttrain's QWK: 0.869845\tvalid's QWK: 0.880152\n",
      "Evaluated only: QWK\n"
     ]
    },
    {
     "name": "stderr",
     "output_type": "stream",
     "text": [
      "/media/ishfar/New Volume/Studies/Projects/Kaggle-Automated-Essay-Scoring/lib/criterion/metrics.py:34: RuntimeWarning: invalid value encountered in scalar divide\n",
      "  precision = tp / (tp + fp)\n"
     ]
    },
    {
     "name": "stdout",
     "output_type": "stream",
     "text": [
      "[LightGBM] [Info] Using self-defined objective function\n",
      "Training until validation scores don't improve for 75 rounds\n",
      "[25]\ttrain's QWK: 0.442307\tvalid's QWK: 0.422757\n",
      "[50]\ttrain's QWK: 0.738958\tvalid's QWK: 0.729552\n",
      "[75]\ttrain's QWK: 0.800493\tvalid's QWK: 0.791384\n",
      "[100]\ttrain's QWK: 0.839532\tvalid's QWK: 0.82536\n",
      "[125]\ttrain's QWK: 0.859646\tvalid's QWK: 0.855221\n",
      "[150]\ttrain's QWK: 0.868398\tvalid's QWK: 0.86074\n",
      "[175]\ttrain's QWK: 0.873917\tvalid's QWK: 0.864189\n",
      "[200]\ttrain's QWK: 0.876413\tvalid's QWK: 0.869931\n",
      "[225]\ttrain's QWK: 0.879694\tvalid's QWK: 0.870117\n",
      "[250]\ttrain's QWK: 0.881748\tvalid's QWK: 0.876963\n",
      "[275]\ttrain's QWK: 0.883223\tvalid's QWK: 0.877288\n",
      "[300]\ttrain's QWK: 0.884499\tvalid's QWK: 0.877441\n",
      "[325]\ttrain's QWK: 0.885491\tvalid's QWK: 0.877352\n",
      "[350]\ttrain's QWK: 0.885846\tvalid's QWK: 0.87909\n",
      "[375]\ttrain's QWK: 0.886291\tvalid's QWK: 0.881712\n",
      "[400]\ttrain's QWK: 0.886596\tvalid's QWK: 0.881263\n",
      "[425]\ttrain's QWK: 0.886995\tvalid's QWK: 0.883857\n",
      "[450]\ttrain's QWK: 0.887365\tvalid's QWK: 0.883912\n",
      "[475]\ttrain's QWK: 0.88772\tvalid's QWK: 0.883638\n",
      "Early stopping, best iteration is:\n",
      "[418]\ttrain's QWK: 0.886888\tvalid's QWK: 0.884606\n",
      "Evaluated only: QWK\n",
      "[LightGBM] [Info] Using self-defined objective function\n",
      "Training until validation scores don't improve for 75 rounds\n",
      "[25]\ttrain's QWK: 0.445724\tvalid's QWK: 0.449573\n",
      "[50]\ttrain's QWK: 0.734876\tvalid's QWK: 0.743863\n",
      "[75]\ttrain's QWK: 0.801446\tvalid's QWK: 0.796801\n",
      "[100]\ttrain's QWK: 0.838514\tvalid's QWK: 0.83458\n",
      "[125]\ttrain's QWK: 0.858936\tvalid's QWK: 0.855644\n",
      "[150]\ttrain's QWK: 0.868926\tvalid's QWK: 0.858121\n",
      "[175]\ttrain's QWK: 0.872867\tvalid's QWK: 0.864456\n",
      "[200]\ttrain's QWK: 0.87628\tvalid's QWK: 0.870482\n",
      "[225]\ttrain's QWK: 0.879391\tvalid's QWK: 0.87148\n",
      "[250]\ttrain's QWK: 0.881517\tvalid's QWK: 0.871912\n",
      "[275]\ttrain's QWK: 0.882804\tvalid's QWK: 0.873839\n",
      "[300]\ttrain's QWK: 0.883595\tvalid's QWK: 0.874168\n",
      "[325]\ttrain's QWK: 0.884612\tvalid's QWK: 0.879652\n",
      "[350]\ttrain's QWK: 0.885564\tvalid's QWK: 0.881495\n",
      "[375]\ttrain's QWK: 0.886055\tvalid's QWK: 0.881355\n",
      "[400]\ttrain's QWK: 0.88652\tvalid's QWK: 0.881958\n",
      "[425]\ttrain's QWK: 0.886985\tvalid's QWK: 0.88033\n",
      "Early stopping, best iteration is:\n",
      "[359]\ttrain's QWK: 0.885848\tvalid's QWK: 0.882403\n",
      "Evaluated only: QWK\n",
      "[LightGBM] [Info] Using self-defined objective function\n",
      "Training until validation scores don't improve for 75 rounds\n",
      "[25]\ttrain's QWK: 0.436533\tvalid's QWK: 0.463687\n",
      "[50]\ttrain's QWK: 0.741066\tvalid's QWK: 0.73362\n",
      "[75]\ttrain's QWK: 0.802368\tvalid's QWK: 0.786485\n",
      "[100]\ttrain's QWK: 0.837294\tvalid's QWK: 0.824493\n",
      "[125]\ttrain's QWK: 0.859428\tvalid's QWK: 0.851484\n",
      "[150]\ttrain's QWK: 0.869003\tvalid's QWK: 0.858037\n",
      "[175]\ttrain's QWK: 0.873357\tvalid's QWK: 0.86304\n",
      "[200]\ttrain's QWK: 0.876835\tvalid's QWK: 0.865662\n",
      "[225]\ttrain's QWK: 0.879742\tvalid's QWK: 0.867788\n",
      "[250]\ttrain's QWK: 0.881789\tvalid's QWK: 0.870963\n",
      "[275]\ttrain's QWK: 0.883339\tvalid's QWK: 0.872251\n",
      "[300]\ttrain's QWK: 0.884019\tvalid's QWK: 0.87647\n",
      "[325]\ttrain's QWK: 0.884794\tvalid's QWK: 0.877961\n",
      "[350]\ttrain's QWK: 0.885502\tvalid's QWK: 0.879908\n",
      "[375]\ttrain's QWK: 0.885804\tvalid's QWK: 0.883069\n",
      "[400]\ttrain's QWK: 0.886027\tvalid's QWK: 0.884093\n",
      "[425]\ttrain's QWK: 0.886466\tvalid's QWK: 0.883677\n",
      "[450]\ttrain's QWK: 0.887142\tvalid's QWK: 0.884244\n",
      "Early stopping, best iteration is:\n",
      "[391]\ttrain's QWK: 0.885944\tvalid's QWK: 0.884511\n",
      "Evaluated only: QWK\n",
      "[LightGBM] [Info] Using self-defined objective function\n",
      "Training until validation scores don't improve for 75 rounds\n",
      "[25]\ttrain's QWK: 0.440028\tvalid's QWK: 0.448594\n",
      "[50]\ttrain's QWK: 0.741412\tvalid's QWK: 0.725492\n",
      "[75]\ttrain's QWK: 0.804781\tvalid's QWK: 0.799793\n",
      "[100]\ttrain's QWK: 0.839452\tvalid's QWK: 0.828002\n",
      "[125]\ttrain's QWK: 0.861194\tvalid's QWK: 0.8423\n",
      "[150]\ttrain's QWK: 0.870103\tvalid's QWK: 0.85101\n",
      "[175]\ttrain's QWK: 0.873963\tvalid's QWK: 0.855365\n",
      "[200]\ttrain's QWK: 0.877179\tvalid's QWK: 0.861348\n",
      "[225]\ttrain's QWK: 0.880529\tvalid's QWK: 0.862441\n",
      "[250]\ttrain's QWK: 0.882183\tvalid's QWK: 0.868339\n",
      "[275]\ttrain's QWK: 0.883677\tvalid's QWK: 0.869061\n",
      "[300]\ttrain's QWK: 0.884383\tvalid's QWK: 0.868996\n",
      "[325]\ttrain's QWK: 0.884891\tvalid's QWK: 0.869499\n",
      "[350]\ttrain's QWK: 0.885335\tvalid's QWK: 0.870256\n",
      "[375]\ttrain's QWK: 0.885458\tvalid's QWK: 0.870154\n",
      "[400]\ttrain's QWK: 0.886037\tvalid's QWK: 0.870154\n",
      "[425]\ttrain's QWK: 0.886501\tvalid's QWK: 0.870154\n",
      "Early stopping, best iteration is:\n",
      "[360]\ttrain's QWK: 0.885247\tvalid's QWK: 0.870787\n",
      "Evaluated only: QWK\n"
     ]
    }
   ],
   "source": [
    "oof_df = pd.DataFrame()\n",
    "\n",
    "for idx, (train_idx, valid_idx) in enumerate(skf.split(X, y)):\n",
    "    X_train, y_train = X.loc[train_idx], y.loc[train_idx]\n",
    "    X_valid, y_valid = X.loc[valid_idx], y.loc[valid_idx]\n",
    "    id_valid = ids.loc[valid_idx].to_numpy()\n",
    "\n",
    "    model, predictor = train_loop(X_train, y_train, X_valid, y_valid)\n",
    "\n",
    "    with open(f\"output/LGBM/{idx}.pkl\", \"wb\") as file:\n",
    "        pkl.dump({\"predictor\": predictor, \"model\": model}, file)\n",
    "\n",
    "    oof = validate_model(idx, X_valid, y_valid, id_valid, predictor)\n",
    "    oof_df = pd.concat([oof_df, oof])"
   ]
  },
  {
   "cell_type": "code",
   "execution_count": 14,
   "metadata": {},
   "outputs": [
    {
     "name": "stdout",
     "output_type": "stream",
     "text": [
      "Overall Score: 0.8857\n"
     ]
    }
   ],
   "source": [
    "score = get_score(oof_df[\"score\"], oof_df[\"pred_score\"])\n",
    "print(f'Overall Score: {score:<.4f}')\n",
    "wandb.log({\"CV/qwk_score\": score})"
   ]
  },
  {
   "cell_type": "code",
   "execution_count": 15,
   "metadata": {},
   "outputs": [],
   "source": [
    "wandb.log({\"oof_table\": wandb.Table(dataframe=oof_df)})"
   ]
  },
  {
   "cell_type": "code",
   "execution_count": 16,
   "metadata": {},
   "outputs": [],
   "source": [
    "oof_df.to_csv(\"output/oof.csv\", index=False)"
   ]
  },
  {
   "cell_type": "code",
   "execution_count": 21,
   "metadata": {},
   "outputs": [],
   "source": [
    "log_metrics(\n",
    "    pd.DataFrame(\n",
    "        {\n",
    "            \"score\": oof_df.score.to_numpy(),\n",
    "            \"pred_score\": oof_df.pred_score.to_numpy(),\n",
    "        }\n",
    "    ),\n",
    "    \"Overall\",\n",
    ")"
   ]
  },
  {
   "cell_type": "markdown",
   "metadata": {},
   "source": [
    "### Finding Optimal Thresholds"
   ]
  },
  {
   "cell_type": "code",
   "execution_count": 20,
   "metadata": {},
   "outputs": [],
   "source": [
    "best, threshold, xs, ys = find_thresholds(oof_df[\"score\"] + 1, oof_df[\"raw\"], steps=500)"
   ]
  },
  {
   "cell_type": "code",
   "execution_count": 22,
   "metadata": {},
   "outputs": [
    {
     "data": {
      "image/png": "[encoded data removed]",
      "text/plain": [
       "<Figure size 1500x300 with 5 Axes>"
      ]
     },
     "metadata": {},
     "output_type": "display_data"
    }
   ],
   "source": [
    "diff = 0.5\n",
    "nrows, ncols = 1, 5  # Define grid for 5 subplots (1 row, 5 columns)\n",
    "\n",
    "fig, axes = plt.subplots(nrows, ncols, figsize=(15, 3))  # Create figure and subplots\n",
    "\n",
    "# Loop through data and plot on each subplot\n",
    "for k in range(5):\n",
    "    ax = axes.flat[k]  # Access each subplot using flattened axes\n",
    "    ax.scatter(xs[k], ys[k], s=3)\n",
    "    m = k + 1.5\n",
    "    ax.set_xlim((m - diff, m + diff))\n",
    "    i = np.where((np.array(xs[k]) > m - diff) & (np.array(xs[k]) < m + diff))[0]\n",
    "    mn = np.min(np.array(ys[k])[i])\n",
    "    mx = np.max(np.array(ys[k])[i])\n",
    "    ax.set_ylim((mn, mx))\n",
    "\n",
    "    ax.plot(\n",
    "        [threshold[k], threshold[k]],\n",
    "        [mn, mx],\n",
    "        \"--\",\n",
    "        color=\"black\",\n",
    "        label=\"optimal threshold\",\n",
    "    )\n",
    "\n",
    "    ax.set_title(f\"Optimal Thresh: {threshold[k]:4.3f}\", size=12)  # Adjust title size\n",
    "    ax.set_xlabel(f\"Threshold between {k+1} and {k+2}\", size=10)\n",
    "    ax.set_ylabel(\"QWK CV score\", size=10)\n",
    "\n",
    "# Common legend for all subplots\n",
    "plt.suptitle(\"Optimal Thresholds\", size=12)\n",
    "plt.tight_layout()  # Adjust spacing between subplots\n",
    "plt.show()"
   ]
  },
  {
   "cell_type": "code",
   "execution_count": 23,
   "metadata": {},
   "outputs": [],
   "source": [
    "with open(\"output/LGBM/threshold.pkl\", \"wb\") as file:\n",
    "    pkl.dump(threshold, file)"
   ]
  },
  {
   "cell_type": "code",
   "execution_count": 24,
   "metadata": {},
   "outputs": [
    {
     "data": {
      "application/vnd.jupyter.widget-view+json": {
       "model_id": "c234e6b8789341b995006f0530f93599",
       "version_major": 2,
       "version_minor": 0
      },
      "text/plain": [
       "VBox(children=(Label(value='1.144 MB of 1.144 MB uploaded\\r'), FloatProgress(value=1.0, max=1.0)))"
      ]
     },
     "metadata": {},
     "output_type": "display_data"
    },
    {
     "data": {
      "text/html": [
       "<style>\n",
       "    table.wandb td:nth-child(1) { padding: 0 10px; text-align: left ; width: auto;} td:nth-child(2) {text-align: left ; width: 100%}\n",
       "    .wandb-row { display: flex; flex-direction: row; flex-wrap: wrap; justify-content: flex-start; width: 100% }\n",
       "    .wandb-col { display: flex; flex-direction: column; flex-basis: 100%; flex: 1; padding: 10px; }\n",
       "    </style>\n",
       "<div class=\"wandb-row\"><div class=\"wandb-col\"><h3>Run history:</h3><br/><table class=\"wandb\"><tr><td>CV/qwk_score</td><td>▁</td></tr></table><br/></div><div class=\"wandb-col\"><h3>Run summary:</h3><br/><table class=\"wandb\"><tr><td>CV/qwk_score</td><td>0.88568</td></tr></table><br/></div></div>"
      ],
      "text/plain": [
       "<IPython.core.display.HTML object>"
      ]
     },
     "metadata": {},
     "output_type": "display_data"
    },
    {
     "data": {
      "text/html": [
       " View run <strong style=\"color:#cdcd00\">LGBM-ASE-14</strong> at: <a href='https://wandb.ai/laplacesdemon43/Kaggle_ASE_2.0/runs/simb1s95' target=\"_blank\">https://wandb.ai/laplacesdemon43/Kaggle_ASE_2.0/runs/simb1s95</a><br/> View project at: <a href='https://wandb.ai/laplacesdemon43/Kaggle_ASE_2.0' target=\"_blank\">https://wandb.ai/laplacesdemon43/Kaggle_ASE_2.0</a><br/>Synced 6 W&B file(s), 105 media file(s), 105 artifact file(s) and 1 other file(s)"
      ],
      "text/plain": [
       "<IPython.core.display.HTML object>"
      ]
     },
     "metadata": {},
     "output_type": "display_data"
    },
    {
     "data": {
      "text/html": [
       "Find logs at: <code>./wandb/run-20240609_204845-simb1s95/logs</code>"
      ],
      "text/plain": [
       "<IPython.core.display.HTML object>"
      ]
     },
     "metadata": {},
     "output_type": "display_data"
    }
   ],
   "source": [
    "wandb.finish()"
   ]
  }
 ],
 "metadata": {
  "kernelspec": {
   "display_name": "Python 3 (ipykernel)",
   "language": "python",
   "name": "python3"
  },
  "language_info": {
   "codemirror_mode": {
    "name": "ipython",
    "version": 3
   },
   "file_extension": ".py",
   "mimetype": "text/x-python",
   "name": "python",
   "nbconvert_exporter": "python",
   "pygments_lexer": "ipython3",
   "version": "3.11.8"
  }
 },
 "nbformat": 4,
 "nbformat_minor": 4
}
