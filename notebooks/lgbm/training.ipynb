{
 "cells": [
  {
   "cell_type": "markdown",
   "metadata": {},
   "source": [
    "# LGBM - Training\n",
    "\n",
    "Sources\n",
    "1. [LGBM & Deberta Explained by ZULQARNAIN ALI](https://www.kaggle.com/code/zulqarnainalipk/lgbm-deberta-explained)"
   ]
  },
  {
   "cell_type": "markdown",
   "metadata": {},
   "source": [
    "## Setup"
   ]
  },
  {
   "cell_type": "code",
   "execution_count": 1,
   "metadata": {},
   "outputs": [],
   "source": [
    "import os\n",
    "import pandas as pd\n",
    "import numpy as np\n",
    "from sklearn.metrics import cohen_kappa_score\n",
    "import lightgbm as lgb\n",
    "import pickle as pkl\n",
    "import wandb\n",
    "from lightgbm import log_evaluation, early_stopping\n",
    "from sklearn.metrics import cohen_kappa_score\n",
    "from sklearn.model_selection import StratifiedKFold"
   ]
  },
  {
   "cell_type": "code",
   "execution_count": 2,
   "metadata": {},
   "outputs": [],
   "source": [
    "os.chdir(\"../../\")"
   ]
  },
  {
   "cell_type": "code",
   "execution_count": 3,
   "metadata": {},
   "outputs": [],
   "source": [
    "from lib.config import config\n",
    "from lib.paths import Paths\n",
    "from lib.utils.utils import seed_everything\n",
    "from lib.criterion.metrics import log_metrics\n",
    "from lib.model.utils import quadratic_weighted_kappa, qwk_obj, get_score"
   ]
  },
  {
   "cell_type": "code",
   "execution_count": 4,
   "metadata": {},
   "outputs": [],
   "source": [
    "seed_everything()"
   ]
  },
  {
   "cell_type": "markdown",
   "metadata": {},
   "source": [
    "### Setting Up WandB"
   ]
  },
  {
   "cell_type": "code",
   "execution_count": 5,
   "metadata": {},
   "outputs": [],
   "source": [
    "WANDB_PROJECT = \"Kaggle_ASE_2.0\"\n",
    "WANDB_NAME = f\"LGBM-ASE-8\""
   ]
  },
  {
   "cell_type": "code",
   "execution_count": 6,
   "metadata": {},
   "outputs": [
    {
     "name": "stderr",
     "output_type": "stream",
     "text": [
      "Failed to detect the name of this notebook, you can set it manually with the WANDB_NOTEBOOK_NAME environment variable to enable code saving.\n",
      "\u001b[34m\u001b[1mwandb\u001b[0m: Currently logged in as: \u001b[33mshakleenishfar\u001b[0m (\u001b[33mlaplacesdemon43\u001b[0m). Use \u001b[1m`wandb login --relogin`\u001b[0m to force relogin\n",
      "\u001b[34m\u001b[1mwandb\u001b[0m: \u001b[33mWARNING\u001b[0m If you're specifying your api key in code, ensure this code is not shared publicly.\n",
      "\u001b[34m\u001b[1mwandb\u001b[0m: \u001b[33mWARNING\u001b[0m Consider setting the WANDB_API_KEY environment variable, or running `wandb login` from the command line.\n",
      "\u001b[34m\u001b[1mwandb\u001b[0m: Appending key for api.wandb.ai to your netrc file: /home/ishfar/.netrc\n"
     ]
    },
    {
     "data": {
      "text/html": [
       "wandb version 0.17.0 is available!  To upgrade, please run:\n",
       " $ pip install wandb --upgrade"
      ],
      "text/plain": [
       "<IPython.core.display.HTML object>"
      ]
     },
     "metadata": {},
     "output_type": "display_data"
    },
    {
     "data": {
      "text/html": [
       "Tracking run with wandb version 0.16.6"
      ],
      "text/plain": [
       "<IPython.core.display.HTML object>"
      ]
     },
     "metadata": {},
     "output_type": "display_data"
    },
    {
     "data": {
      "text/html": [
       "Run data is saved locally in <code>/media/ishfar/New Volume/Studies/Projects/Kaggle-Automated-Essay-Scoring/wandb/run-20240604_215448-wmd87cet</code>"
      ],
      "text/plain": [
       "<IPython.core.display.HTML object>"
      ]
     },
     "metadata": {},
     "output_type": "display_data"
    },
    {
     "data": {
      "text/html": [
       "Syncing run <strong><a href='https://wandb.ai/laplacesdemon43/Kaggle_ASE_2.0/runs/wmd87cet' target=\"_blank\">LGBM-ASE-8</a></strong> to <a href='https://wandb.ai/laplacesdemon43/Kaggle_ASE_2.0' target=\"_blank\">Weights & Biases</a> (<a href='https://wandb.me/run' target=\"_blank\">docs</a>)<br/>"
      ],
      "text/plain": [
       "<IPython.core.display.HTML object>"
      ]
     },
     "metadata": {},
     "output_type": "display_data"
    },
    {
     "data": {
      "text/html": [
       " View project at <a href='https://wandb.ai/laplacesdemon43/Kaggle_ASE_2.0' target=\"_blank\">https://wandb.ai/laplacesdemon43/Kaggle_ASE_2.0</a>"
      ],
      "text/plain": [
       "<IPython.core.display.HTML object>"
      ]
     },
     "metadata": {},
     "output_type": "display_data"
    },
    {
     "data": {
      "text/html": [
       " View run at <a href='https://wandb.ai/laplacesdemon43/Kaggle_ASE_2.0/runs/wmd87cet' target=\"_blank\">https://wandb.ai/laplacesdemon43/Kaggle_ASE_2.0/runs/wmd87cet</a>"
      ],
      "text/plain": [
       "<IPython.core.display.HTML object>"
      ]
     },
     "metadata": {},
     "output_type": "display_data"
    }
   ],
   "source": [
    "wandb.login(key=os.environ.get('WANDB_API_KEY'))\n",
    "wandb.init(\n",
    "    project=WANDB_PROJECT,\n",
    "    name=WANDB_NAME,\n",
    "    save_code=True,\n",
    "    job_type=\"train\",\n",
    "    config=config,\n",
    ")\n",
    "config = wandb.config"
   ]
  },
  {
   "cell_type": "markdown",
   "metadata": {},
   "source": [
    "## Model Training"
   ]
  },
  {
   "cell_type": "markdown",
   "metadata": {},
   "source": [
    "### Dataset Creation"
   ]
  },
  {
   "cell_type": "code",
   "execution_count": 7,
   "metadata": {},
   "outputs": [
    {
     "data": {
      "text/plain": [
       "(17307, 271)"
      ]
     },
     "execution_count": 7,
     "metadata": {},
     "output_type": "execute_result"
    }
   ],
   "source": [
    "df = pd.read_csv(Paths.FEATURE_ENGG_CSV_PATH)\n",
    "df.shape"
   ]
  },
  {
   "cell_type": "code",
   "execution_count": 8,
   "metadata": {},
   "outputs": [
    {
     "data": {
      "text/plain": [
       "((17307, 269), (17307,))"
      ]
     },
     "execution_count": 8,
     "metadata": {},
     "output_type": "execute_result"
    }
   ],
   "source": [
    "ids = df.loc[:, \"essay_id\"]\n",
    "X, y = df.drop(columns=[\"score\", \"essay_id\"]), df.loc[:, \"score\"]\n",
    "del df\n",
    "\n",
    "X.shape, y.shape"
   ]
  },
  {
   "cell_type": "markdown",
   "metadata": {},
   "source": [
    "### Callbacks"
   ]
  },
  {
   "cell_type": "code",
   "execution_count": 9,
   "metadata": {},
   "outputs": [],
   "source": [
    "callbacks = [\n",
    "    log_evaluation(period=25),\n",
    "    early_stopping(stopping_rounds=75, first_metric_only=True),\n",
    "]"
   ]
  },
  {
   "cell_type": "markdown",
   "metadata": {},
   "source": [
    "### Constants"
   ]
  },
  {
   "cell_type": "code",
   "execution_count": 10,
   "metadata": {},
   "outputs": [],
   "source": [
    "a = config.lgbm_a\n",
    "b = config.lgbm_b"
   ]
  },
  {
   "cell_type": "markdown",
   "metadata": {},
   "source": [
    "### Training Loop"
   ]
  },
  {
   "cell_type": "code",
   "execution_count": 11,
   "metadata": {},
   "outputs": [],
   "source": [
    "def train_loop(X_train, y_train, X_valid, y_valid):\n",
    "    y_train = y_train.astype(np.float32) - a\n",
    "    y_valid = y_valid.astype(np.float32) - a\n",
    "\n",
    "    model = lgb.LGBMRegressor(\n",
    "        objective=qwk_obj,\n",
    "        metrics=\"None\",\n",
    "        learning_rate=0.01,\n",
    "        max_depth=5,\n",
    "        num_leaves=10,\n",
    "        colsample_bytree=0.3,\n",
    "        reg_alpha=0.7,\n",
    "        reg_lambda=0.1,\n",
    "        n_estimators=700,\n",
    "        random_state=config.random_seed,\n",
    "        extra_trees=True,\n",
    "        class_weight=\"balanced\",\n",
    "        n_jobs=6,\n",
    "        verbosity=0,\n",
    "    )\n",
    "\n",
    "    # Train model\n",
    "    predictor = model.fit(\n",
    "        X_train,\n",
    "        y_train,\n",
    "        eval_names=[\"train\", \"valid\"],\n",
    "        eval_set=[(X_train, y_train), (X_valid, y_valid)],\n",
    "        eval_metric=quadratic_weighted_kappa,\n",
    "        callbacks=callbacks,\n",
    "    )\n",
    "\n",
    "    return model, predictor"
   ]
  },
  {
   "cell_type": "code",
   "execution_count": 12,
   "metadata": {},
   "outputs": [],
   "source": [
    "def validate_model(idx, X_valid, y_valid, id_valid, predictor):\n",
    "    y_valid_int = y_valid.astype(np.int64).to_numpy()\n",
    "    preds = predictor.predict(X_valid) + a\n",
    "    preds = preds.clip(1, 6).round().astype(np.int64)\n",
    "\n",
    "    oof = pd.DataFrame(\n",
    "        {\n",
    "            \"essay_id\": id_valid,\n",
    "            \"score\": y_valid_int - 1,\n",
    "            \"pred_score\": preds - 1,\n",
    "        }\n",
    "    )\n",
    "    log_metrics(oof, f\"Fold {idx}\")\n",
    "\n",
    "    return oof"
   ]
  },
  {
   "cell_type": "markdown",
   "metadata": {},
   "source": [
    "### Fold Loop"
   ]
  },
  {
   "cell_type": "code",
   "execution_count": 13,
   "metadata": {},
   "outputs": [],
   "source": [
    "skf = StratifiedKFold(\n",
    "    n_splits=config.lgbm_n_folds,\n",
    "    random_state=config.random_seed,\n",
    "    shuffle=True,\n",
    ")"
   ]
  },
  {
   "cell_type": "code",
   "execution_count": 14,
   "metadata": {},
   "outputs": [
    {
     "name": "stdout",
     "output_type": "stream",
     "text": [
      "[LightGBM] [Info] Using self-defined objective function\n",
      "Training until validation scores don't improve for 75 rounds\n",
      "[25]\ttrain's QWK: 0.452839\tvalid's QWK: 0.496451\n",
      "[50]\ttrain's QWK: 0.735156\tvalid's QWK: 0.750937\n",
      "[75]\ttrain's QWK: 0.801632\tvalid's QWK: 0.812707\n",
      "[100]\ttrain's QWK: 0.836271\tvalid's QWK: 0.842477\n",
      "[125]\ttrain's QWK: 0.859042\tvalid's QWK: 0.867971\n",
      "[150]\ttrain's QWK: 0.868404\tvalid's QWK: 0.878394\n",
      "[175]\ttrain's QWK: 0.872931\tvalid's QWK: 0.882859\n",
      "[200]\ttrain's QWK: 0.875448\tvalid's QWK: 0.88972\n",
      "[225]\ttrain's QWK: 0.877169\tvalid's QWK: 0.891534\n",
      "[250]\ttrain's QWK: 0.880066\tvalid's QWK: 0.89407\n",
      "[275]\ttrain's QWK: 0.881486\tvalid's QWK: 0.895178\n",
      "[300]\ttrain's QWK: 0.882575\tvalid's QWK: 0.896309\n",
      "[325]\ttrain's QWK: 0.883465\tvalid's QWK: 0.896598\n",
      "[350]\ttrain's QWK: 0.884038\tvalid's QWK: 0.896545\n",
      "[375]\ttrain's QWK: 0.884507\tvalid's QWK: 0.898265\n",
      "[400]\ttrain's QWK: 0.88484\tvalid's QWK: 0.897817\n",
      "[425]\ttrain's QWK: 0.885596\tvalid's QWK: 0.897817\n",
      "Early stopping, best iteration is:\n",
      "[367]\ttrain's QWK: 0.884191\tvalid's QWK: 0.898265\n",
      "Evaluated only: QWK\n",
      "[LightGBM] [Info] Using self-defined objective function\n",
      "Training until validation scores don't improve for 75 rounds\n",
      "[25]\ttrain's QWK: 0.464617\tvalid's QWK: 0.44768\n",
      "[50]\ttrain's QWK: 0.736876\tvalid's QWK: 0.729646\n",
      "[75]\ttrain's QWK: 0.799808\tvalid's QWK: 0.796249\n",
      "[100]\ttrain's QWK: 0.833988\tvalid's QWK: 0.831378\n",
      "[125]\ttrain's QWK: 0.8586\tvalid's QWK: 0.851448\n",
      "[150]\ttrain's QWK: 0.868941\tvalid's QWK: 0.862463\n",
      "[175]\ttrain's QWK: 0.87295\tvalid's QWK: 0.872848\n",
      "[200]\ttrain's QWK: 0.875846\tvalid's QWK: 0.873051\n",
      "[225]\ttrain's QWK: 0.879069\tvalid's QWK: 0.875919\n",
      "[250]\ttrain's QWK: 0.880927\tvalid's QWK: 0.876532\n",
      "[275]\ttrain's QWK: 0.88258\tvalid's QWK: 0.8798\n",
      "[300]\ttrain's QWK: 0.883841\tvalid's QWK: 0.879103\n",
      "[325]\ttrain's QWK: 0.884641\tvalid's QWK: 0.882875\n",
      "[350]\ttrain's QWK: 0.885441\tvalid's QWK: 0.882875\n",
      "[375]\ttrain's QWK: 0.886075\tvalid's QWK: 0.884819\n",
      "[400]\ttrain's QWK: 0.886756\tvalid's QWK: 0.884088\n",
      "[425]\ttrain's QWK: 0.886795\tvalid's QWK: 0.884956\n",
      "[450]\ttrain's QWK: 0.886869\tvalid's QWK: 0.883618\n",
      "[475]\ttrain's QWK: 0.887306\tvalid's QWK: 0.884668\n",
      "[500]\ttrain's QWK: 0.887678\tvalid's QWK: 0.885531\n",
      "[525]\ttrain's QWK: 0.888024\tvalid's QWK: 0.885546\n",
      "[550]\ttrain's QWK: 0.888257\tvalid's QWK: 0.885712\n",
      "[575]\ttrain's QWK: 0.888496\tvalid's QWK: 0.885167\n",
      "Early stopping, best iteration is:\n",
      "[502]\ttrain's QWK: 0.88769\tvalid's QWK: 0.886271\n",
      "Evaluated only: QWK\n",
      "[LightGBM] [Info] Using self-defined objective function\n",
      "Training until validation scores don't improve for 75 rounds\n",
      "[25]\ttrain's QWK: 0.45347\tvalid's QWK: 0.467303\n",
      "[50]\ttrain's QWK: 0.736049\tvalid's QWK: 0.740012\n",
      "[75]\ttrain's QWK: 0.799985\tvalid's QWK: 0.811301\n",
      "[100]\ttrain's QWK: 0.834172\tvalid's QWK: 0.847446\n",
      "[125]\ttrain's QWK: 0.859005\tvalid's QWK: 0.874465\n",
      "[150]\ttrain's QWK: 0.868684\tvalid's QWK: 0.884773\n",
      "[175]\ttrain's QWK: 0.872989\tvalid's QWK: 0.887615\n",
      "[200]\ttrain's QWK: 0.876251\tvalid's QWK: 0.889135\n",
      "[225]\ttrain's QWK: 0.87779\tvalid's QWK: 0.891202\n",
      "[250]\ttrain's QWK: 0.880191\tvalid's QWK: 0.893818\n",
      "[275]\ttrain's QWK: 0.881886\tvalid's QWK: 0.893374\n",
      "[300]\ttrain's QWK: 0.883058\tvalid's QWK: 0.893939\n",
      "[325]\ttrain's QWK: 0.883664\tvalid's QWK: 0.89678\n",
      "[350]\ttrain's QWK: 0.884631\tvalid's QWK: 0.897616\n",
      "[375]\ttrain's QWK: 0.884911\tvalid's QWK: 0.896714\n",
      "[400]\ttrain's QWK: 0.885202\tvalid's QWK: 0.896992\n",
      "[425]\ttrain's QWK: 0.885579\tvalid's QWK: 0.897372\n",
      "[450]\ttrain's QWK: 0.885565\tvalid's QWK: 0.897633\n",
      "[475]\ttrain's QWK: 0.886094\tvalid's QWK: 0.898164\n",
      "[500]\ttrain's QWK: 0.886412\tvalid's QWK: 0.898726\n",
      "[525]\ttrain's QWK: 0.886964\tvalid's QWK: 0.897719\n",
      "[550]\ttrain's QWK: 0.887208\tvalid's QWK: 0.897719\n",
      "[575]\ttrain's QWK: 0.887528\tvalid's QWK: 0.899237\n",
      "[600]\ttrain's QWK: 0.888075\tvalid's QWK: 0.901057\n",
      "[625]\ttrain's QWK: 0.888448\tvalid's QWK: 0.900484\n",
      "[650]\ttrain's QWK: 0.888745\tvalid's QWK: 0.899338\n",
      "[675]\ttrain's QWK: 0.889206\tvalid's QWK: 0.899645\n",
      "Early stopping, best iteration is:\n",
      "[600]\ttrain's QWK: 0.888075\tvalid's QWK: 0.901057\n",
      "Evaluated only: QWK\n",
      "[LightGBM] [Info] Using self-defined objective function\n",
      "Training until validation scores don't improve for 75 rounds\n",
      "[25]\ttrain's QWK: 0.451421\tvalid's QWK: 0.436629\n",
      "[50]\ttrain's QWK: 0.735886\tvalid's QWK: 0.709378\n",
      "[75]\ttrain's QWK: 0.798377\tvalid's QWK: 0.793294\n",
      "[100]\ttrain's QWK: 0.839398\tvalid's QWK: 0.816172\n",
      "[125]\ttrain's QWK: 0.859866\tvalid's QWK: 0.85475\n",
      "[150]\ttrain's QWK: 0.869058\tvalid's QWK: 0.86082\n",
      "[175]\ttrain's QWK: 0.873476\tvalid's QWK: 0.861929\n",
      "[200]\ttrain's QWK: 0.87613\tvalid's QWK: 0.86394\n",
      "[225]\ttrain's QWK: 0.877894\tvalid's QWK: 0.864534\n",
      "[250]\ttrain's QWK: 0.88094\tvalid's QWK: 0.867416\n",
      "[275]\ttrain's QWK: 0.882709\tvalid's QWK: 0.872988\n",
      "[300]\ttrain's QWK: 0.883851\tvalid's QWK: 0.877037\n",
      "[325]\ttrain's QWK: 0.884338\tvalid's QWK: 0.877722\n",
      "[350]\ttrain's QWK: 0.885391\tvalid's QWK: 0.877722\n",
      "[375]\ttrain's QWK: 0.885996\tvalid's QWK: 0.878493\n",
      "Early stopping, best iteration is:\n",
      "[304]\ttrain's QWK: 0.883753\tvalid's QWK: 0.879161\n",
      "Evaluated only: QWK\n",
      "[LightGBM] [Info] Using self-defined objective function\n",
      "Training until validation scores don't improve for 75 rounds\n",
      "[25]\ttrain's QWK: 0.45565\tvalid's QWK: 0.461791\n",
      "[50]\ttrain's QWK: 0.73242\tvalid's QWK: 0.735013\n",
      "[75]\ttrain's QWK: 0.802048\tvalid's QWK: 0.808285\n",
      "[100]\ttrain's QWK: 0.83754\tvalid's QWK: 0.838483\n",
      "[125]\ttrain's QWK: 0.859995\tvalid's QWK: 0.860344\n",
      "[150]\ttrain's QWK: 0.868534\tvalid's QWK: 0.870415\n",
      "[175]\ttrain's QWK: 0.873827\tvalid's QWK: 0.872184\n",
      "[200]\ttrain's QWK: 0.876979\tvalid's QWK: 0.874247\n",
      "[225]\ttrain's QWK: 0.879208\tvalid's QWK: 0.874688\n",
      "[250]\ttrain's QWK: 0.881358\tvalid's QWK: 0.877986\n",
      "[275]\ttrain's QWK: 0.882383\tvalid's QWK: 0.875679\n",
      "[300]\ttrain's QWK: 0.883617\tvalid's QWK: 0.87789\n",
      "[325]\ttrain's QWK: 0.884773\tvalid's QWK: 0.880257\n",
      "[350]\ttrain's QWK: 0.885029\tvalid's QWK: 0.882654\n",
      "[375]\ttrain's QWK: 0.885945\tvalid's QWK: 0.882393\n",
      "[400]\ttrain's QWK: 0.886134\tvalid's QWK: 0.881248\n",
      "Early stopping, best iteration is:\n",
      "[331]\ttrain's QWK: 0.885\tvalid's QWK: 0.883085\n",
      "Evaluated only: QWK\n",
      "[LightGBM] [Info] Using self-defined objective function\n",
      "Training until validation scores don't improve for 75 rounds\n",
      "[25]\ttrain's QWK: 0.445248\tvalid's QWK: 0.438761\n",
      "[50]\ttrain's QWK: 0.736846\tvalid's QWK: 0.719382\n",
      "[75]\ttrain's QWK: 0.797602\tvalid's QWK: 0.794535\n",
      "[100]\ttrain's QWK: 0.840221\tvalid's QWK: 0.830251\n",
      "[125]\ttrain's QWK: 0.860578\tvalid's QWK: 0.838841\n",
      "[150]\ttrain's QWK: 0.868891\tvalid's QWK: 0.847614\n",
      "[175]\ttrain's QWK: 0.873654\tvalid's QWK: 0.853033\n",
      "[200]\ttrain's QWK: 0.876108\tvalid's QWK: 0.854235\n",
      "[225]\ttrain's QWK: 0.878934\tvalid's QWK: 0.858094\n",
      "[250]\ttrain's QWK: 0.88194\tvalid's QWK: 0.862057\n",
      "[275]\ttrain's QWK: 0.883095\tvalid's QWK: 0.866529\n",
      "[300]\ttrain's QWK: 0.884025\tvalid's QWK: 0.867633\n",
      "[325]\ttrain's QWK: 0.884779\tvalid's QWK: 0.865284\n",
      "[350]\ttrain's QWK: 0.885567\tvalid's QWK: 0.866764\n",
      "Early stopping, best iteration is:\n",
      "[296]\ttrain's QWK: 0.883662\tvalid's QWK: 0.867633\n",
      "Evaluated only: QWK\n",
      "[LightGBM] [Info] Using self-defined objective function\n",
      "Training until validation scores don't improve for 75 rounds\n",
      "[25]\ttrain's QWK: 0.458462\tvalid's QWK: 0.445274\n",
      "[50]\ttrain's QWK: 0.734197\tvalid's QWK: 0.732895\n",
      "[75]\ttrain's QWK: 0.798408\tvalid's QWK: 0.789545\n",
      "[100]\ttrain's QWK: 0.83789\tvalid's QWK: 0.836098\n",
      "[125]\ttrain's QWK: 0.859285\tvalid's QWK: 0.855756\n",
      "[150]\ttrain's QWK: 0.869191\tvalid's QWK: 0.86726\n",
      "[175]\ttrain's QWK: 0.873504\tvalid's QWK: 0.872753\n",
      "[200]\ttrain's QWK: 0.876084\tvalid's QWK: 0.87669\n",
      "[225]\ttrain's QWK: 0.878357\tvalid's QWK: 0.87652\n",
      "[250]\ttrain's QWK: 0.880879\tvalid's QWK: 0.877919\n",
      "[275]\ttrain's QWK: 0.881937\tvalid's QWK: 0.882364\n",
      "[300]\ttrain's QWK: 0.883132\tvalid's QWK: 0.88327\n",
      "[325]\ttrain's QWK: 0.88378\tvalid's QWK: 0.885866\n",
      "[350]\ttrain's QWK: 0.884626\tvalid's QWK: 0.886767\n",
      "[375]\ttrain's QWK: 0.884733\tvalid's QWK: 0.886767\n",
      "[400]\ttrain's QWK: 0.885305\tvalid's QWK: 0.888693\n",
      "[425]\ttrain's QWK: 0.885598\tvalid's QWK: 0.888693\n",
      "[450]\ttrain's QWK: 0.886134\tvalid's QWK: 0.888693\n",
      "Early stopping, best iteration is:\n",
      "[398]\ttrain's QWK: 0.885353\tvalid's QWK: 0.888693\n",
      "Evaluated only: QWK\n",
      "[LightGBM] [Info] Using self-defined objective function\n",
      "Training until validation scores don't improve for 75 rounds\n",
      "[25]\ttrain's QWK: 0.450373\tvalid's QWK: 0.418464\n",
      "[50]\ttrain's QWK: 0.729799\tvalid's QWK: 0.71173\n",
      "[75]\ttrain's QWK: 0.800167\tvalid's QWK: 0.789228\n",
      "[100]\ttrain's QWK: 0.839173\tvalid's QWK: 0.827761\n",
      "[125]\ttrain's QWK: 0.86044\tvalid's QWK: 0.848956\n",
      "[150]\ttrain's QWK: 0.87012\tvalid's QWK: 0.852558\n",
      "[175]\ttrain's QWK: 0.874079\tvalid's QWK: 0.859467\n",
      "[200]\ttrain's QWK: 0.876502\tvalid's QWK: 0.860029\n",
      "[225]\ttrain's QWK: 0.878262\tvalid's QWK: 0.863426\n",
      "[250]\ttrain's QWK: 0.880644\tvalid's QWK: 0.861575\n",
      "[275]\ttrain's QWK: 0.882741\tvalid's QWK: 0.866046\n",
      "[300]\ttrain's QWK: 0.883804\tvalid's QWK: 0.867146\n",
      "[325]\ttrain's QWK: 0.884517\tvalid's QWK: 0.866745\n",
      "[350]\ttrain's QWK: 0.884915\tvalid's QWK: 0.870946\n",
      "[375]\ttrain's QWK: 0.886178\tvalid's QWK: 0.872478\n",
      "[400]\ttrain's QWK: 0.88672\tvalid's QWK: 0.873935\n",
      "[425]\ttrain's QWK: 0.887144\tvalid's QWK: 0.872947\n",
      "[450]\ttrain's QWK: 0.887404\tvalid's QWK: 0.874814\n",
      "[475]\ttrain's QWK: 0.887658\tvalid's QWK: 0.87617\n",
      "[500]\ttrain's QWK: 0.887987\tvalid's QWK: 0.875408\n",
      "[525]\ttrain's QWK: 0.888444\tvalid's QWK: 0.875408\n",
      "Early stopping, best iteration is:\n",
      "[470]\ttrain's QWK: 0.887608\tvalid's QWK: 0.87617\n",
      "Evaluated only: QWK\n",
      "[LightGBM] [Info] Using self-defined objective function\n",
      "Training until validation scores don't improve for 75 rounds\n",
      "[25]\ttrain's QWK: 0.452114\tvalid's QWK: 0.4339\n",
      "[50]\ttrain's QWK: 0.731099\tvalid's QWK: 0.721147\n",
      "[75]\ttrain's QWK: 0.795766\tvalid's QWK: 0.788177\n",
      "[100]\ttrain's QWK: 0.839766\tvalid's QWK: 0.825826\n",
      "[125]\ttrain's QWK: 0.859832\tvalid's QWK: 0.843917\n",
      "[150]\ttrain's QWK: 0.867982\tvalid's QWK: 0.868405\n",
      "[175]\ttrain's QWK: 0.873199\tvalid's QWK: 0.874348\n",
      "[200]\ttrain's QWK: 0.875942\tvalid's QWK: 0.871925\n",
      "[225]\ttrain's QWK: 0.877972\tvalid's QWK: 0.874365\n",
      "Early stopping, best iteration is:\n",
      "[167]\ttrain's QWK: 0.871867\tvalid's QWK: 0.875624\n",
      "Evaluated only: QWK\n"
     ]
    },
    {
     "name": "stderr",
     "output_type": "stream",
     "text": [
      "/media/ishfar/New Volume/Studies/Projects/Kaggle-Automated-Essay-Scoring/lib/criterion/metrics.py:34: RuntimeWarning: invalid value encountered in scalar divide\n",
      "  precision = tp / (tp + fp)\n"
     ]
    },
    {
     "name": "stdout",
     "output_type": "stream",
     "text": [
      "[LightGBM] [Info] Using self-defined objective function\n",
      "Training until validation scores don't improve for 75 rounds\n",
      "[25]\ttrain's QWK: 0.44904\tvalid's QWK: 0.477135\n",
      "[50]\ttrain's QWK: 0.736198\tvalid's QWK: 0.738301\n",
      "[75]\ttrain's QWK: 0.793858\tvalid's QWK: 0.803595\n",
      "[100]\ttrain's QWK: 0.83482\tvalid's QWK: 0.852802\n",
      "[125]\ttrain's QWK: 0.857801\tvalid's QWK: 0.880176\n",
      "[150]\ttrain's QWK: 0.867376\tvalid's QWK: 0.88421\n",
      "[175]\ttrain's QWK: 0.871787\tvalid's QWK: 0.889558\n",
      "[200]\ttrain's QWK: 0.874713\tvalid's QWK: 0.889502\n",
      "[225]\ttrain's QWK: 0.877803\tvalid's QWK: 0.892845\n",
      "[250]\ttrain's QWK: 0.880068\tvalid's QWK: 0.896178\n",
      "[275]\ttrain's QWK: 0.881619\tvalid's QWK: 0.897048\n",
      "[300]\ttrain's QWK: 0.883066\tvalid's QWK: 0.896992\n",
      "[325]\ttrain's QWK: 0.883632\tvalid's QWK: 0.898272\n",
      "[350]\ttrain's QWK: 0.884387\tvalid's QWK: 0.901045\n",
      "[375]\ttrain's QWK: 0.884985\tvalid's QWK: 0.900458\n",
      "[400]\ttrain's QWK: 0.885378\tvalid's QWK: 0.899989\n",
      "Early stopping, best iteration is:\n",
      "[342]\ttrain's QWK: 0.884096\tvalid's QWK: 0.901045\n",
      "Evaluated only: QWK\n",
      "[LightGBM] [Info] Using self-defined objective function\n",
      "Training until validation scores don't improve for 75 rounds\n",
      "[25]\ttrain's QWK: 0.446585\tvalid's QWK: 0.461988\n",
      "[50]\ttrain's QWK: 0.733666\tvalid's QWK: 0.741531\n",
      "[75]\ttrain's QWK: 0.796395\tvalid's QWK: 0.802847\n",
      "[100]\ttrain's QWK: 0.837351\tvalid's QWK: 0.844135\n",
      "[125]\ttrain's QWK: 0.858428\tvalid's QWK: 0.868473\n",
      "[150]\ttrain's QWK: 0.868273\tvalid's QWK: 0.87237\n",
      "[175]\ttrain's QWK: 0.872694\tvalid's QWK: 0.881094\n",
      "[200]\ttrain's QWK: 0.874577\tvalid's QWK: 0.885399\n",
      "[225]\ttrain's QWK: 0.876586\tvalid's QWK: 0.88774\n",
      "[250]\ttrain's QWK: 0.879709\tvalid's QWK: 0.88901\n",
      "[275]\ttrain's QWK: 0.882168\tvalid's QWK: 0.889746\n",
      "[300]\ttrain's QWK: 0.883511\tvalid's QWK: 0.890207\n",
      "[325]\ttrain's QWK: 0.884193\tvalid's QWK: 0.8896\n",
      "[350]\ttrain's QWK: 0.884776\tvalid's QWK: 0.891385\n",
      "[375]\ttrain's QWK: 0.885516\tvalid's QWK: 0.892135\n",
      "[400]\ttrain's QWK: 0.886161\tvalid's QWK: 0.889867\n",
      "[425]\ttrain's QWK: 0.885996\tvalid's QWK: 0.891362\n",
      "[450]\ttrain's QWK: 0.886458\tvalid's QWK: 0.891651\n",
      "[475]\ttrain's QWK: 0.886579\tvalid's QWK: 0.89238\n",
      "[500]\ttrain's QWK: 0.886604\tvalid's QWK: 0.89134\n",
      "[525]\ttrain's QWK: 0.887119\tvalid's QWK: 0.893123\n",
      "Early stopping, best iteration is:\n",
      "[460]\ttrain's QWK: 0.886551\tvalid's QWK: 0.893123\n",
      "Evaluated only: QWK\n",
      "[LightGBM] [Info] Using self-defined objective function\n",
      "Training until validation scores don't improve for 75 rounds\n",
      "[25]\ttrain's QWK: 0.442864\tvalid's QWK: 0.4647\n",
      "[50]\ttrain's QWK: 0.736438\tvalid's QWK: 0.743886\n",
      "[75]\ttrain's QWK: 0.8024\tvalid's QWK: 0.807112\n",
      "[100]\ttrain's QWK: 0.839088\tvalid's QWK: 0.842565\n",
      "[125]\ttrain's QWK: 0.858328\tvalid's QWK: 0.855833\n",
      "[150]\ttrain's QWK: 0.868435\tvalid's QWK: 0.866385\n",
      "[175]\ttrain's QWK: 0.873\tvalid's QWK: 0.871894\n",
      "[200]\ttrain's QWK: 0.875092\tvalid's QWK: 0.876826\n",
      "[225]\ttrain's QWK: 0.876992\tvalid's QWK: 0.879606\n",
      "[250]\ttrain's QWK: 0.879758\tvalid's QWK: 0.88338\n",
      "[275]\ttrain's QWK: 0.881697\tvalid's QWK: 0.883538\n",
      "[300]\ttrain's QWK: 0.883019\tvalid's QWK: 0.886875\n",
      "[325]\ttrain's QWK: 0.88363\tvalid's QWK: 0.890145\n",
      "[350]\ttrain's QWK: 0.884101\tvalid's QWK: 0.889545\n",
      "[375]\ttrain's QWK: 0.885115\tvalid's QWK: 0.888814\n",
      "[400]\ttrain's QWK: 0.88545\tvalid's QWK: 0.888961\n",
      "Early stopping, best iteration is:\n",
      "[335]\ttrain's QWK: 0.883927\tvalid's QWK: 0.890585\n",
      "Evaluated only: QWK\n",
      "[LightGBM] [Info] Using self-defined objective function\n",
      "Training until validation scores don't improve for 75 rounds\n",
      "[25]\ttrain's QWK: 0.451453\tvalid's QWK: 0.453804\n",
      "[50]\ttrain's QWK: 0.739359\tvalid's QWK: 0.74837\n",
      "[75]\ttrain's QWK: 0.800097\tvalid's QWK: 0.808677\n",
      "[100]\ttrain's QWK: 0.838682\tvalid's QWK: 0.850284\n",
      "[125]\ttrain's QWK: 0.859794\tvalid's QWK: 0.868132\n",
      "[150]\ttrain's QWK: 0.868632\tvalid's QWK: 0.876674\n",
      "[175]\ttrain's QWK: 0.87394\tvalid's QWK: 0.878285\n",
      "[200]\ttrain's QWK: 0.876563\tvalid's QWK: 0.877441\n",
      "[225]\ttrain's QWK: 0.878364\tvalid's QWK: 0.878958\n",
      "[250]\ttrain's QWK: 0.880381\tvalid's QWK: 0.879261\n",
      "[275]\ttrain's QWK: 0.882402\tvalid's QWK: 0.87731\n",
      "[300]\ttrain's QWK: 0.883219\tvalid's QWK: 0.878054\n",
      "Early stopping, best iteration is:\n",
      "[233]\ttrain's QWK: 0.879006\tvalid's QWK: 0.881006\n",
      "Evaluated only: QWK\n",
      "[LightGBM] [Info] Using self-defined objective function\n",
      "Training until validation scores don't improve for 75 rounds\n",
      "[25]\ttrain's QWK: 0.464646\tvalid's QWK: 0.452575\n",
      "[50]\ttrain's QWK: 0.734564\tvalid's QWK: 0.707412\n",
      "[75]\ttrain's QWK: 0.795725\tvalid's QWK: 0.775346\n",
      "[100]\ttrain's QWK: 0.834708\tvalid's QWK: 0.815993\n",
      "[125]\ttrain's QWK: 0.859148\tvalid's QWK: 0.845181\n",
      "[150]\ttrain's QWK: 0.869472\tvalid's QWK: 0.855208\n",
      "[175]\ttrain's QWK: 0.873428\tvalid's QWK: 0.857475\n",
      "[200]\ttrain's QWK: 0.876136\tvalid's QWK: 0.856483\n",
      "[225]\ttrain's QWK: 0.878947\tvalid's QWK: 0.858264\n",
      "[250]\ttrain's QWK: 0.88178\tvalid's QWK: 0.861407\n",
      "[275]\ttrain's QWK: 0.882795\tvalid's QWK: 0.866928\n",
      "[300]\ttrain's QWK: 0.884038\tvalid's QWK: 0.865318\n",
      "[325]\ttrain's QWK: 0.88474\tvalid's QWK: 0.866585\n",
      "[350]\ttrain's QWK: 0.885432\tvalid's QWK: 0.866728\n",
      "Early stopping, best iteration is:\n",
      "[281]\ttrain's QWK: 0.8832\tvalid's QWK: 0.868279\n",
      "Evaluated only: QWK\n",
      "[LightGBM] [Info] Using self-defined objective function\n",
      "Training until validation scores don't improve for 75 rounds\n",
      "[25]\ttrain's QWK: 0.453778\tvalid's QWK: 0.481178\n",
      "[50]\ttrain's QWK: 0.732926\tvalid's QWK: 0.750011\n",
      "[75]\ttrain's QWK: 0.795572\tvalid's QWK: 0.808397\n",
      "[100]\ttrain's QWK: 0.835182\tvalid's QWK: 0.846047\n",
      "[125]\ttrain's QWK: 0.857175\tvalid's QWK: 0.871588\n",
      "[150]\ttrain's QWK: 0.867343\tvalid's QWK: 0.878156\n",
      "[175]\ttrain's QWK: 0.871671\tvalid's QWK: 0.881078\n",
      "[200]\ttrain's QWK: 0.874421\tvalid's QWK: 0.880646\n",
      "[225]\ttrain's QWK: 0.877493\tvalid's QWK: 0.886255\n",
      "[250]\ttrain's QWK: 0.879785\tvalid's QWK: 0.886425\n",
      "[275]\ttrain's QWK: 0.8813\tvalid's QWK: 0.887753\n",
      "[300]\ttrain's QWK: 0.882728\tvalid's QWK: 0.88897\n",
      "[325]\ttrain's QWK: 0.88335\tvalid's QWK: 0.888665\n",
      "[350]\ttrain's QWK: 0.884271\tvalid's QWK: 0.887316\n",
      "[375]\ttrain's QWK: 0.88483\tvalid's QWK: 0.890716\n",
      "[400]\ttrain's QWK: 0.885391\tvalid's QWK: 0.890422\n",
      "[425]\ttrain's QWK: 0.885683\tvalid's QWK: 0.89042\n",
      "[450]\ttrain's QWK: 0.886201\tvalid's QWK: 0.891424\n",
      "[475]\ttrain's QWK: 0.886583\tvalid's QWK: 0.890834\n",
      "[500]\ttrain's QWK: 0.886792\tvalid's QWK: 0.891566\n",
      "Early stopping, best iteration is:\n",
      "[433]\ttrain's QWK: 0.885943\tvalid's QWK: 0.891716\n",
      "Evaluated only: QWK\n",
      "[LightGBM] [Info] Using self-defined objective function\n",
      "Training until validation scores don't improve for 75 rounds\n",
      "[25]\ttrain's QWK: 0.456512\tvalid's QWK: 0.458317\n",
      "[50]\ttrain's QWK: 0.736966\tvalid's QWK: 0.746754\n",
      "[75]\ttrain's QWK: 0.79788\tvalid's QWK: 0.813178\n",
      "[100]\ttrain's QWK: 0.834808\tvalid's QWK: 0.83602\n",
      "[125]\ttrain's QWK: 0.858225\tvalid's QWK: 0.86066\n",
      "[150]\ttrain's QWK: 0.86749\tvalid's QWK: 0.875534\n",
      "[175]\ttrain's QWK: 0.872453\tvalid's QWK: 0.875603\n",
      "[200]\ttrain's QWK: 0.875817\tvalid's QWK: 0.877679\n",
      "[225]\ttrain's QWK: 0.878056\tvalid's QWK: 0.877214\n",
      "[250]\ttrain's QWK: 0.879916\tvalid's QWK: 0.879043\n",
      "[275]\ttrain's QWK: 0.88124\tvalid's QWK: 0.878451\n",
      "[300]\ttrain's QWK: 0.88273\tvalid's QWK: 0.878327\n",
      "Early stopping, best iteration is:\n",
      "[239]\ttrain's QWK: 0.879358\tvalid's QWK: 0.879716\n",
      "Evaluated only: QWK\n",
      "[LightGBM] [Info] Using self-defined objective function\n",
      "Training until validation scores don't improve for 75 rounds\n",
      "[25]\ttrain's QWK: 0.439479\tvalid's QWK: 0.469595\n",
      "[50]\ttrain's QWK: 0.735544\tvalid's QWK: 0.741099\n",
      "[75]\ttrain's QWK: 0.801333\tvalid's QWK: 0.798236\n",
      "[100]\ttrain's QWK: 0.842813\tvalid's QWK: 0.847524\n",
      "[125]\ttrain's QWK: 0.860795\tvalid's QWK: 0.864073\n",
      "[150]\ttrain's QWK: 0.869274\tvalid's QWK: 0.868761\n",
      "[175]\ttrain's QWK: 0.873739\tvalid's QWK: 0.871929\n",
      "[200]\ttrain's QWK: 0.876249\tvalid's QWK: 0.874921\n",
      "[225]\ttrain's QWK: 0.878901\tvalid's QWK: 0.872209\n",
      "[250]\ttrain's QWK: 0.881369\tvalid's QWK: 0.873686\n",
      "Early stopping, best iteration is:\n",
      "[192]\ttrain's QWK: 0.875606\tvalid's QWK: 0.874921\n",
      "Evaluated only: QWK\n"
     ]
    },
    {
     "name": "stderr",
     "output_type": "stream",
     "text": [
      "/media/ishfar/New Volume/Studies/Projects/Kaggle-Automated-Essay-Scoring/lib/criterion/metrics.py:34: RuntimeWarning: invalid value encountered in scalar divide\n",
      "  precision = tp / (tp + fp)\n"
     ]
    },
    {
     "name": "stdout",
     "output_type": "stream",
     "text": [
      "[LightGBM] [Info] Using self-defined objective function\n",
      "Training until validation scores don't improve for 75 rounds\n",
      "[25]\ttrain's QWK: 0.455559\tvalid's QWK: 0.437364\n",
      "[50]\ttrain's QWK: 0.73596\tvalid's QWK: 0.727793\n",
      "[75]\ttrain's QWK: 0.797992\tvalid's QWK: 0.795334\n",
      "[100]\ttrain's QWK: 0.836094\tvalid's QWK: 0.837104\n",
      "[125]\ttrain's QWK: 0.858937\tvalid's QWK: 0.868711\n",
      "[150]\ttrain's QWK: 0.869393\tvalid's QWK: 0.873924\n",
      "[175]\ttrain's QWK: 0.873843\tvalid's QWK: 0.873495\n",
      "[200]\ttrain's QWK: 0.875764\tvalid's QWK: 0.87131\n",
      "[225]\ttrain's QWK: 0.87774\tvalid's QWK: 0.87615\n",
      "[250]\ttrain's QWK: 0.880136\tvalid's QWK: 0.878138\n",
      "[275]\ttrain's QWK: 0.881723\tvalid's QWK: 0.880662\n",
      "[300]\ttrain's QWK: 0.882956\tvalid's QWK: 0.88085\n",
      "[325]\ttrain's QWK: 0.883749\tvalid's QWK: 0.881389\n",
      "[350]\ttrain's QWK: 0.884637\tvalid's QWK: 0.883816\n",
      "[375]\ttrain's QWK: 0.885437\tvalid's QWK: 0.88651\n",
      "[400]\ttrain's QWK: 0.885901\tvalid's QWK: 0.88724\n",
      "[425]\ttrain's QWK: 0.886369\tvalid's QWK: 0.89004\n",
      "[450]\ttrain's QWK: 0.886616\tvalid's QWK: 0.890634\n",
      "[475]\ttrain's QWK: 0.886753\tvalid's QWK: 0.88991\n",
      "[500]\ttrain's QWK: 0.887254\tvalid's QWK: 0.88991\n",
      "Early stopping, best iteration is:\n",
      "[434]\ttrain's QWK: 0.88651\tvalid's QWK: 0.890634\n",
      "Evaluated only: QWK\n",
      "[LightGBM] [Info] Using self-defined objective function\n",
      "Training until validation scores don't improve for 75 rounds\n",
      "[25]\ttrain's QWK: 0.451565\tvalid's QWK: 0.47032\n",
      "[50]\ttrain's QWK: 0.733945\tvalid's QWK: 0.746231\n",
      "[75]\ttrain's QWK: 0.798998\tvalid's QWK: 0.8039\n",
      "[100]\ttrain's QWK: 0.836276\tvalid's QWK: 0.832881\n",
      "[125]\ttrain's QWK: 0.85876\tvalid's QWK: 0.848696\n",
      "[150]\ttrain's QWK: 0.868553\tvalid's QWK: 0.858813\n",
      "[175]\ttrain's QWK: 0.872637\tvalid's QWK: 0.870647\n",
      "[200]\ttrain's QWK: 0.875419\tvalid's QWK: 0.874424\n",
      "[225]\ttrain's QWK: 0.878602\tvalid's QWK: 0.879832\n",
      "[250]\ttrain's QWK: 0.880769\tvalid's QWK: 0.883035\n",
      "[275]\ttrain's QWK: 0.881835\tvalid's QWK: 0.884276\n",
      "[300]\ttrain's QWK: 0.8829\tvalid's QWK: 0.885168\n",
      "[325]\ttrain's QWK: 0.884009\tvalid's QWK: 0.884877\n",
      "[350]\ttrain's QWK: 0.88415\tvalid's QWK: 0.886525\n",
      "[375]\ttrain's QWK: 0.885068\tvalid's QWK: 0.886975\n",
      "[400]\ttrain's QWK: 0.885479\tvalid's QWK: 0.888308\n",
      "[425]\ttrain's QWK: 0.885787\tvalid's QWK: 0.888308\n",
      "[450]\ttrain's QWK: 0.886044\tvalid's QWK: 0.889336\n",
      "[475]\ttrain's QWK: 0.886565\tvalid's QWK: 0.889754\n",
      "[500]\ttrain's QWK: 0.886766\tvalid's QWK: 0.890613\n",
      "[525]\ttrain's QWK: 0.887044\tvalid's QWK: 0.891186\n",
      "[550]\ttrain's QWK: 0.887519\tvalid's QWK: 0.890756\n",
      "[575]\ttrain's QWK: 0.888014\tvalid's QWK: 0.890327\n",
      "Early stopping, best iteration is:\n",
      "[515]\ttrain's QWK: 0.886896\tvalid's QWK: 0.891186\n",
      "Evaluated only: QWK\n",
      "[LightGBM] [Info] Using self-defined objective function\n",
      "Training until validation scores don't improve for 75 rounds\n",
      "[25]\ttrain's QWK: 0.44315\tvalid's QWK: 0.436029\n",
      "[50]\ttrain's QWK: 0.735702\tvalid's QWK: 0.744989\n",
      "[75]\ttrain's QWK: 0.799571\tvalid's QWK: 0.802132\n",
      "[100]\ttrain's QWK: 0.836656\tvalid's QWK: 0.844454\n",
      "[125]\ttrain's QWK: 0.857182\tvalid's QWK: 0.858771\n",
      "[150]\ttrain's QWK: 0.867319\tvalid's QWK: 0.877044\n",
      "[175]\ttrain's QWK: 0.871313\tvalid's QWK: 0.884564\n",
      "[200]\ttrain's QWK: 0.874223\tvalid's QWK: 0.890247\n",
      "[225]\ttrain's QWK: 0.876913\tvalid's QWK: 0.89357\n",
      "[250]\ttrain's QWK: 0.879266\tvalid's QWK: 0.891265\n",
      "[275]\ttrain's QWK: 0.881224\tvalid's QWK: 0.894378\n",
      "[300]\ttrain's QWK: 0.882427\tvalid's QWK: 0.893765\n",
      "[325]\ttrain's QWK: 0.883016\tvalid's QWK: 0.895683\n",
      "[350]\ttrain's QWK: 0.883431\tvalid's QWK: 0.897413\n",
      "[375]\ttrain's QWK: 0.884211\tvalid's QWK: 0.89829\n",
      "[400]\ttrain's QWK: 0.885082\tvalid's QWK: 0.898894\n",
      "[425]\ttrain's QWK: 0.885538\tvalid's QWK: 0.898894\n",
      "[450]\ttrain's QWK: 0.885889\tvalid's QWK: 0.898894\n",
      "Early stopping, best iteration is:\n",
      "[395]\ttrain's QWK: 0.884835\tvalid's QWK: 0.898894\n",
      "Evaluated only: QWK\n",
      "[LightGBM] [Info] Using self-defined objective function\n",
      "Training until validation scores don't improve for 75 rounds\n",
      "[25]\ttrain's QWK: 0.455794\tvalid's QWK: 0.429287\n",
      "[50]\ttrain's QWK: 0.733539\tvalid's QWK: 0.743067\n",
      "[75]\ttrain's QWK: 0.797858\tvalid's QWK: 0.805669\n",
      "[100]\ttrain's QWK: 0.835444\tvalid's QWK: 0.852864\n",
      "[125]\ttrain's QWK: 0.858348\tvalid's QWK: 0.868159\n",
      "[150]\ttrain's QWK: 0.868233\tvalid's QWK: 0.876847\n",
      "[175]\ttrain's QWK: 0.872352\tvalid's QWK: 0.877639\n",
      "[200]\ttrain's QWK: 0.875668\tvalid's QWK: 0.878126\n",
      "[225]\ttrain's QWK: 0.877651\tvalid's QWK: 0.881614\n",
      "[250]\ttrain's QWK: 0.880296\tvalid's QWK: 0.882917\n",
      "[275]\ttrain's QWK: 0.88193\tvalid's QWK: 0.886189\n",
      "[300]\ttrain's QWK: 0.883492\tvalid's QWK: 0.886255\n",
      "[325]\ttrain's QWK: 0.884282\tvalid's QWK: 0.886564\n",
      "[350]\ttrain's QWK: 0.885302\tvalid's QWK: 0.888242\n",
      "[375]\ttrain's QWK: 0.885643\tvalid's QWK: 0.888828\n",
      "[400]\ttrain's QWK: 0.886221\tvalid's QWK: 0.890603\n",
      "[425]\ttrain's QWK: 0.886519\tvalid's QWK: 0.891339\n",
      "[450]\ttrain's QWK: 0.887285\tvalid's QWK: 0.89088\n",
      "[475]\ttrain's QWK: 0.887618\tvalid's QWK: 0.89088\n",
      "Early stopping, best iteration is:\n",
      "[420]\ttrain's QWK: 0.886536\tvalid's QWK: 0.892839\n",
      "Evaluated only: QWK\n",
      "[LightGBM] [Info] Using self-defined objective function\n",
      "Training until validation scores don't improve for 75 rounds\n",
      "[25]\ttrain's QWK: 0.446852\tvalid's QWK: 0.42\n",
      "[50]\ttrain's QWK: 0.735734\tvalid's QWK: 0.72677\n",
      "[75]\ttrain's QWK: 0.800528\tvalid's QWK: 0.791403\n",
      "[100]\ttrain's QWK: 0.834342\tvalid's QWK: 0.826527\n",
      "[125]\ttrain's QWK: 0.8582\tvalid's QWK: 0.846527\n",
      "[150]\ttrain's QWK: 0.868839\tvalid's QWK: 0.861328\n",
      "[175]\ttrain's QWK: 0.873405\tvalid's QWK: 0.868767\n",
      "[200]\ttrain's QWK: 0.875412\tvalid's QWK: 0.870326\n",
      "[225]\ttrain's QWK: 0.877707\tvalid's QWK: 0.875642\n",
      "[250]\ttrain's QWK: 0.880655\tvalid's QWK: 0.876285\n",
      "[275]\ttrain's QWK: 0.882252\tvalid's QWK: 0.881123\n",
      "[300]\ttrain's QWK: 0.883402\tvalid's QWK: 0.880831\n",
      "[325]\ttrain's QWK: 0.884108\tvalid's QWK: 0.883465\n",
      "[350]\ttrain's QWK: 0.884704\tvalid's QWK: 0.882729\n",
      "[375]\ttrain's QWK: 0.885196\tvalid's QWK: 0.884092\n",
      "[400]\ttrain's QWK: 0.885727\tvalid's QWK: 0.882873\n",
      "[425]\ttrain's QWK: 0.886055\tvalid's QWK: 0.881387\n",
      "Early stopping, best iteration is:\n",
      "[352]\ttrain's QWK: 0.884798\tvalid's QWK: 0.884411\n",
      "Evaluated only: QWK\n",
      "[LightGBM] [Info] Using self-defined objective function\n",
      "Training until validation scores don't improve for 75 rounds\n",
      "[25]\ttrain's QWK: 0.446586\tvalid's QWK: 0.4451\n",
      "[50]\ttrain's QWK: 0.733919\tvalid's QWK: 0.736322\n",
      "[75]\ttrain's QWK: 0.800055\tvalid's QWK: 0.801601\n",
      "[100]\ttrain's QWK: 0.836788\tvalid's QWK: 0.831168\n",
      "[125]\ttrain's QWK: 0.859401\tvalid's QWK: 0.846486\n",
      "[150]\ttrain's QWK: 0.869068\tvalid's QWK: 0.863978\n",
      "[175]\ttrain's QWK: 0.873039\tvalid's QWK: 0.869218\n",
      "[200]\ttrain's QWK: 0.875561\tvalid's QWK: 0.871698\n",
      "[225]\ttrain's QWK: 0.878101\tvalid's QWK: 0.872254\n",
      "[250]\ttrain's QWK: 0.879947\tvalid's QWK: 0.872786\n",
      "[275]\ttrain's QWK: 0.882243\tvalid's QWK: 0.873839\n",
      "[300]\ttrain's QWK: 0.882994\tvalid's QWK: 0.876411\n",
      "[325]\ttrain's QWK: 0.884179\tvalid's QWK: 0.875724\n",
      "[350]\ttrain's QWK: 0.885337\tvalid's QWK: 0.875645\n",
      "[375]\ttrain's QWK: 0.885659\tvalid's QWK: 0.878257\n",
      "[400]\ttrain's QWK: 0.886537\tvalid's QWK: 0.8786\n",
      "[425]\ttrain's QWK: 0.886921\tvalid's QWK: 0.881584\n",
      "[450]\ttrain's QWK: 0.88689\tvalid's QWK: 0.881584\n",
      "[475]\ttrain's QWK: 0.886905\tvalid's QWK: 0.882074\n",
      "[500]\ttrain's QWK: 0.887426\tvalid's QWK: 0.882231\n",
      "[525]\ttrain's QWK: 0.887884\tvalid's QWK: 0.881059\n",
      "[550]\ttrain's QWK: 0.888003\tvalid's QWK: 0.881059\n",
      "[575]\ttrain's QWK: 0.888033\tvalid's QWK: 0.881374\n",
      "Early stopping, best iteration is:\n",
      "[507]\ttrain's QWK: 0.88747\tvalid's QWK: 0.882982\n",
      "Evaluated only: QWK\n",
      "[LightGBM] [Info] Using self-defined objective function\n",
      "Training until validation scores don't improve for 75 rounds\n",
      "[25]\ttrain's QWK: 0.448809\tvalid's QWK: 0.473581\n",
      "[50]\ttrain's QWK: 0.739141\tvalid's QWK: 0.727556\n",
      "[75]\ttrain's QWK: 0.800121\tvalid's QWK: 0.786925\n",
      "[100]\ttrain's QWK: 0.834143\tvalid's QWK: 0.820908\n",
      "[125]\ttrain's QWK: 0.859235\tvalid's QWK: 0.847615\n",
      "[150]\ttrain's QWK: 0.868683\tvalid's QWK: 0.860171\n",
      "[175]\ttrain's QWK: 0.872947\tvalid's QWK: 0.860991\n",
      "[200]\ttrain's QWK: 0.875919\tvalid's QWK: 0.867223\n",
      "[225]\ttrain's QWK: 0.878022\tvalid's QWK: 0.868733\n",
      "[250]\ttrain's QWK: 0.88062\tvalid's QWK: 0.871524\n",
      "[275]\ttrain's QWK: 0.882191\tvalid's QWK: 0.873697\n",
      "[300]\ttrain's QWK: 0.883714\tvalid's QWK: 0.87588\n",
      "[325]\ttrain's QWK: 0.884423\tvalid's QWK: 0.879177\n",
      "[350]\ttrain's QWK: 0.885107\tvalid's QWK: 0.879653\n",
      "[375]\ttrain's QWK: 0.885699\tvalid's QWK: 0.881901\n",
      "[400]\ttrain's QWK: 0.885826\tvalid's QWK: 0.882943\n",
      "[425]\ttrain's QWK: 0.8862\tvalid's QWK: 0.884544\n",
      "[450]\ttrain's QWK: 0.886373\tvalid's QWK: 0.884559\n",
      "[475]\ttrain's QWK: 0.886484\tvalid's QWK: 0.883684\n",
      "[500]\ttrain's QWK: 0.88706\tvalid's QWK: 0.883983\n",
      "[525]\ttrain's QWK: 0.887401\tvalid's QWK: 0.884858\n",
      "[550]\ttrain's QWK: 0.887611\tvalid's QWK: 0.885436\n",
      "[575]\ttrain's QWK: 0.887728\tvalid's QWK: 0.885436\n",
      "[600]\ttrain's QWK: 0.887832\tvalid's QWK: 0.887159\n",
      "[625]\ttrain's QWK: 0.888419\tvalid's QWK: 0.888298\n",
      "[650]\ttrain's QWK: 0.888796\tvalid's QWK: 0.888283\n",
      "[675]\ttrain's QWK: 0.888866\tvalid's QWK: 0.88772\n",
      "Early stopping, best iteration is:\n",
      "[605]\ttrain's QWK: 0.888022\tvalid's QWK: 0.888876\n",
      "Evaluated only: QWK\n",
      "[LightGBM] [Info] Using self-defined objective function\n",
      "Training until validation scores don't improve for 75 rounds\n",
      "[25]\ttrain's QWK: 0.456574\tvalid's QWK: 0.475\n",
      "[50]\ttrain's QWK: 0.733038\tvalid's QWK: 0.710674\n",
      "[75]\ttrain's QWK: 0.798569\tvalid's QWK: 0.780807\n",
      "[100]\ttrain's QWK: 0.837726\tvalid's QWK: 0.825346\n",
      "[125]\ttrain's QWK: 0.858867\tvalid's QWK: 0.841683\n",
      "[150]\ttrain's QWK: 0.869067\tvalid's QWK: 0.84978\n",
      "[175]\ttrain's QWK: 0.874359\tvalid's QWK: 0.853747\n",
      "[200]\ttrain's QWK: 0.877036\tvalid's QWK: 0.859552\n",
      "[225]\ttrain's QWK: 0.87928\tvalid's QWK: 0.864097\n",
      "[250]\ttrain's QWK: 0.881151\tvalid's QWK: 0.867847\n",
      "[275]\ttrain's QWK: 0.883075\tvalid's QWK: 0.869089\n",
      "[300]\ttrain's QWK: 0.884717\tvalid's QWK: 0.868472\n",
      "[325]\ttrain's QWK: 0.885528\tvalid's QWK: 0.868253\n",
      "Early stopping, best iteration is:\n",
      "[268]\ttrain's QWK: 0.882243\tvalid's QWK: 0.869507\n",
      "Evaluated only: QWK\n"
     ]
    }
   ],
   "source": [
    "oof_df = pd.DataFrame()\n",
    "\n",
    "for idx, (train_idx, valid_idx) in enumerate(skf.split(X, y)):\n",
    "    X_train, y_train = X.loc[train_idx], y.loc[train_idx]\n",
    "    X_valid, y_valid = X.loc[valid_idx], y.loc[valid_idx]\n",
    "    id_valid = ids.loc[valid_idx].to_numpy()\n",
    "\n",
    "    model, predictor = train_loop(X_train, y_train, X_valid, y_valid)\n",
    "\n",
    "    with open(f\"output/LGBM/{idx}.pkl\", \"wb\") as file:\n",
    "        pkl.dump({\"predictor\": predictor, \"model\": model}, file)\n",
    "\n",
    "    oof = validate_model(idx, X_valid, y_valid, id_valid, predictor)\n",
    "    oof_df = pd.concat([oof_df, oof])"
   ]
  },
  {
   "cell_type": "code",
   "execution_count": 15,
   "metadata": {},
   "outputs": [
    {
     "name": "stdout",
     "output_type": "stream",
     "text": [
      "Overall Score: 0.8856\n"
     ]
    }
   ],
   "source": [
    "score = get_score(oof_df[\"score\"], oof_df[\"pred_score\"])\n",
    "print(f'Overall Score: {score:<.4f}')\n",
    "wandb.log({\"CV/qwk_score\": score})"
   ]
  },
  {
   "cell_type": "code",
   "execution_count": 16,
   "metadata": {},
   "outputs": [],
   "source": [
    "wandb.log({\"oof_table\": wandb.Table(dataframe=oof_df)})"
   ]
  },
  {
   "cell_type": "code",
   "execution_count": 17,
   "metadata": {},
   "outputs": [],
   "source": [
    "log_metrics(\n",
    "    pd.DataFrame(\n",
    "        {\n",
    "            \"score\": oof_df.score.to_numpy(),\n",
    "            \"pred_score\": oof_df.pred_score.to_numpy(),\n",
    "        }\n",
    "    ),\n",
    "    \"Overall\",\n",
    ")"
   ]
  },
  {
   "cell_type": "code",
   "execution_count": 18,
   "metadata": {},
   "outputs": [
    {
     "data": {
      "application/vnd.jupyter.widget-view+json": {
       "model_id": "c80ea17d41134453a3f4949d859e61d1",
       "version_major": 2,
       "version_minor": 0
      },
      "text/plain": [
       "VBox(children=(Label(value='0.590 MB of 0.590 MB uploaded\\r'), FloatProgress(value=1.0, max=1.0)))"
      ]
     },
     "metadata": {},
     "output_type": "display_data"
    },
    {
     "data": {
      "text/html": [
       "<style>\n",
       "    table.wandb td:nth-child(1) { padding: 0 10px; text-align: left ; width: auto;} td:nth-child(2) {text-align: left ; width: 100%}\n",
       "    .wandb-row { display: flex; flex-direction: row; flex-wrap: wrap; justify-content: flex-start; width: 100% }\n",
       "    .wandb-col { display: flex; flex-direction: column; flex-basis: 100%; flex: 1; padding: 10px; }\n",
       "    </style>\n",
       "<div class=\"wandb-row\"><div class=\"wandb-col\"><h3>Run history:</h3><br/><table class=\"wandb\"><tr><td>CV/qwk_score</td><td>▁</td></tr></table><br/></div><div class=\"wandb-col\"><h3>Run summary:</h3><br/><table class=\"wandb\"><tr><td>CV/qwk_score</td><td>0.88558</td></tr></table><br/></div></div>"
      ],
      "text/plain": [
       "<IPython.core.display.HTML object>"
      ]
     },
     "metadata": {},
     "output_type": "display_data"
    },
    {
     "data": {
      "text/html": [
       " View run <strong style=\"color:#cdcd00\">LGBM-ASE-8</strong> at: <a href='https://wandb.ai/laplacesdemon43/Kaggle_ASE_2.0/runs/wmd87cet' target=\"_blank\">https://wandb.ai/laplacesdemon43/Kaggle_ASE_2.0/runs/wmd87cet</a><br/> View project at: <a href='https://wandb.ai/laplacesdemon43/Kaggle_ASE_2.0' target=\"_blank\">https://wandb.ai/laplacesdemon43/Kaggle_ASE_2.0</a><br/>Synced 6 W&B file(s), 105 media file(s), 105 artifact file(s) and 1 other file(s)"
      ],
      "text/plain": [
       "<IPython.core.display.HTML object>"
      ]
     },
     "metadata": {},
     "output_type": "display_data"
    },
    {
     "data": {
      "text/html": [
       "Find logs at: <code>./wandb/run-20240604_215448-wmd87cet/logs</code>"
      ],
      "text/plain": [
       "<IPython.core.display.HTML object>"
      ]
     },
     "metadata": {},
     "output_type": "display_data"
    }
   ],
   "source": [
    "wandb.finish()"
   ]
  }
 ],
 "metadata": {
  "kernelspec": {
   "display_name": "Python 3 (ipykernel)",
   "language": "python",
   "name": "python3"
  },
  "language_info": {
   "codemirror_mode": {
    "name": "ipython",
    "version": 3
   },
   "file_extension": ".py",
   "mimetype": "text/x-python",
   "name": "python",
   "nbconvert_exporter": "python",
   "pygments_lexer": "ipython3",
   "version": "3.11.8"
  }
 },
 "nbformat": 4,
 "nbformat_minor": 4
}
