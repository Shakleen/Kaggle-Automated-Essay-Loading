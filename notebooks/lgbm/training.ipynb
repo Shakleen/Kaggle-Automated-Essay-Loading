{
 "cells": [
  {
   "cell_type": "markdown",
   "metadata": {},
   "source": [
    "# LGBM - Training\n",
    "\n",
    "Sources\n",
    "1. [LGBM & Deberta Explained by ZULQARNAIN ALI](https://www.kaggle.com/code/zulqarnainalipk/lgbm-deberta-explained)"
   ]
  },
  {
   "cell_type": "markdown",
   "metadata": {},
   "source": [
    "## Setup"
   ]
  },
  {
   "cell_type": "code",
   "execution_count": 1,
   "metadata": {},
   "outputs": [],
   "source": [
    "import os\n",
    "import pandas as pd\n",
    "import numpy as np\n",
    "from sklearn.metrics import cohen_kappa_score\n",
    "import lightgbm as lgb\n",
    "import pickle as pkl\n",
    "import wandb\n",
    "from lightgbm import log_evaluation, early_stopping\n",
    "from sklearn.model_selection import StratifiedGroupKFold\n",
    "import matplotlib.pyplot as plt"
   ]
  },
  {
   "cell_type": "code",
   "execution_count": 2,
   "metadata": {},
   "outputs": [],
   "source": [
    "os.chdir(\"../../\")"
   ]
  },
  {
   "cell_type": "code",
   "execution_count": 3,
   "metadata": {},
   "outputs": [],
   "source": [
    "from lib.config import config\n",
    "from lib.paths import Paths\n",
    "from lib.utils.utils import seed_everything\n",
    "from lib.criterion.metrics import log_metrics\n",
    "from lib.model.utils import quadratic_weighted_kappa, qwk_obj, get_score\n",
    "from lib.utils.find_threshold import find_thresholds"
   ]
  },
  {
   "cell_type": "code",
   "execution_count": 4,
   "metadata": {},
   "outputs": [],
   "source": [
    "seed_everything()"
   ]
  },
  {
   "cell_type": "markdown",
   "metadata": {},
   "source": [
    "### Setting Up WandB"
   ]
  },
  {
   "cell_type": "code",
   "execution_count": 5,
   "metadata": {},
   "outputs": [],
   "source": [
    "WANDB_PROJECT = \"Kaggle_ASE_2.0\"\n",
    "WANDB_NAME = f\"LGBM-ASE-17\""
   ]
  },
  {
   "cell_type": "code",
   "execution_count": 6,
   "metadata": {},
   "outputs": [
    {
     "name": "stderr",
     "output_type": "stream",
     "text": [
      "Failed to detect the name of this notebook, you can set it manually with the WANDB_NOTEBOOK_NAME environment variable to enable code saving.\n",
      "\u001b[34m\u001b[1mwandb\u001b[0m: Currently logged in as: \u001b[33mshakleenishfar\u001b[0m (\u001b[33mlaplacesdemon43\u001b[0m). Use \u001b[1m`wandb login --relogin`\u001b[0m to force relogin\n",
      "\u001b[34m\u001b[1mwandb\u001b[0m: \u001b[33mWARNING\u001b[0m If you're specifying your api key in code, ensure this code is not shared publicly.\n",
      "\u001b[34m\u001b[1mwandb\u001b[0m: \u001b[33mWARNING\u001b[0m Consider setting the WANDB_API_KEY environment variable, or running `wandb login` from the command line.\n",
      "\u001b[34m\u001b[1mwandb\u001b[0m: Appending key for api.wandb.ai to your netrc file: /home/ishfar/.netrc\n"
     ]
    },
    {
     "data": {
      "text/html": [
       "wandb version 0.17.1 is available!  To upgrade, please run:\n",
       " $ pip install wandb --upgrade"
      ],
      "text/plain": [
       "<IPython.core.display.HTML object>"
      ]
     },
     "metadata": {},
     "output_type": "display_data"
    },
    {
     "data": {
      "text/html": [
       "Tracking run with wandb version 0.16.6"
      ],
      "text/plain": [
       "<IPython.core.display.HTML object>"
      ]
     },
     "metadata": {},
     "output_type": "display_data"
    },
    {
     "data": {
      "text/html": [
       "Run data is saved locally in <code>/media/ishfar/New Volume/Studies/Projects/Kaggle-Automated-Essay-Scoring/wandb/run-20240615_120159-j3hxkczq</code>"
      ],
      "text/plain": [
       "<IPython.core.display.HTML object>"
      ]
     },
     "metadata": {},
     "output_type": "display_data"
    },
    {
     "data": {
      "text/html": [
       "Syncing run <strong><a href='https://wandb.ai/laplacesdemon43/Kaggle_ASE_2.0/runs/j3hxkczq' target=\"_blank\">LGBM-ASE-17</a></strong> to <a href='https://wandb.ai/laplacesdemon43/Kaggle_ASE_2.0' target=\"_blank\">Weights & Biases</a> (<a href='https://wandb.me/run' target=\"_blank\">docs</a>)<br/>"
      ],
      "text/plain": [
       "<IPython.core.display.HTML object>"
      ]
     },
     "metadata": {},
     "output_type": "display_data"
    },
    {
     "data": {
      "text/html": [
       " View project at <a href='https://wandb.ai/laplacesdemon43/Kaggle_ASE_2.0' target=\"_blank\">https://wandb.ai/laplacesdemon43/Kaggle_ASE_2.0</a>"
      ],
      "text/plain": [
       "<IPython.core.display.HTML object>"
      ]
     },
     "metadata": {},
     "output_type": "display_data"
    },
    {
     "data": {
      "text/html": [
       " View run at <a href='https://wandb.ai/laplacesdemon43/Kaggle_ASE_2.0/runs/j3hxkczq' target=\"_blank\">https://wandb.ai/laplacesdemon43/Kaggle_ASE_2.0/runs/j3hxkczq</a>"
      ],
      "text/plain": [
       "<IPython.core.display.HTML object>"
      ]
     },
     "metadata": {},
     "output_type": "display_data"
    }
   ],
   "source": [
    "wandb.login(key=os.environ.get('WANDB_API_KEY'))\n",
    "wandb.init(\n",
    "    project=WANDB_PROJECT,\n",
    "    name=WANDB_NAME,\n",
    "    save_code=True,\n",
    "    job_type=\"train\",\n",
    "    config=config,\n",
    ")\n",
    "config = wandb.config"
   ]
  },
  {
   "cell_type": "markdown",
   "metadata": {},
   "source": [
    "## Model Training"
   ]
  },
  {
   "cell_type": "markdown",
   "metadata": {},
   "source": [
    "### Dataset Creation"
   ]
  },
  {
   "cell_type": "code",
   "execution_count": 7,
   "metadata": {},
   "outputs": [
    {
     "data": {
      "text/plain": [
       "((17307, 104), (17307,))"
      ]
     },
     "execution_count": 7,
     "metadata": {},
     "output_type": "execute_result"
    }
   ],
   "source": [
    "df = pd.read_csv(Paths.TRAIN_CSV_PATH, usecols=[\"score\", \"topic\"])\n",
    "X = pd.read_csv(Paths.FEATURE_ENGG_CSV_PATH)\n",
    "ids, X = X.loc[:, \"essay_id\"], X.drop(columns=[\"essay_id\"])\n",
    "topic, y = df.loc[:, \"topic\"], df.loc[:, \"score\"]\n",
    "\n",
    "del df\n",
    "X.shape, y.shape"
   ]
  },
  {
   "cell_type": "markdown",
   "metadata": {},
   "source": [
    "### Callbacks"
   ]
  },
  {
   "cell_type": "code",
   "execution_count": 8,
   "metadata": {},
   "outputs": [],
   "source": [
    "callbacks = [\n",
    "    log_evaluation(period=25),\n",
    "    early_stopping(stopping_rounds=75, first_metric_only=True),\n",
    "]"
   ]
  },
  {
   "cell_type": "markdown",
   "metadata": {},
   "source": [
    "### Constants"
   ]
  },
  {
   "cell_type": "code",
   "execution_count": 9,
   "metadata": {},
   "outputs": [],
   "source": [
    "a = config.lgbm_a\n",
    "b = config.lgbm_b"
   ]
  },
  {
   "cell_type": "markdown",
   "metadata": {},
   "source": [
    "### Training Loop"
   ]
  },
  {
   "cell_type": "code",
   "execution_count": 10,
   "metadata": {},
   "outputs": [],
   "source": [
    "def train_loop(X_train, y_train, X_valid, y_valid):\n",
    "    y_train = y_train.astype(np.float32) - a\n",
    "    y_valid = y_valid.astype(np.float32) - a\n",
    "\n",
    "    model = lgb.LGBMRegressor(\n",
    "        objective=qwk_obj,\n",
    "        metrics=\"None\",\n",
    "        learning_rate=0.01,\n",
    "        max_depth=5,\n",
    "        num_leaves=10,\n",
    "        colsample_bytree=0.3,\n",
    "        reg_alpha=0.7,\n",
    "        reg_lambda=0.1,\n",
    "        n_estimators=700,\n",
    "        random_state=config.random_seed,\n",
    "        extra_trees=True,\n",
    "        class_weight=\"balanced\",\n",
    "        n_jobs=6,\n",
    "        verbosity=0,\n",
    "    )\n",
    "\n",
    "    # Train model\n",
    "    predictor = model.fit(\n",
    "        X_train,\n",
    "        y_train,\n",
    "        eval_names=[\"train\", \"valid\"],\n",
    "        eval_set=[(X_train, y_train), (X_valid, y_valid)],\n",
    "        eval_metric=quadratic_weighted_kappa,\n",
    "        callbacks=callbacks,\n",
    "    )\n",
    "\n",
    "    return model, predictor"
   ]
  },
  {
   "cell_type": "code",
   "execution_count": 11,
   "metadata": {},
   "outputs": [],
   "source": [
    "def validate_model(idx, X_valid, y_valid, id_valid, predictor):\n",
    "    y_valid_int = y_valid.astype(np.int64).to_numpy()\n",
    "    preds_raw = predictor.predict(X_valid) + a\n",
    "    preds = preds_raw.clip(1, 6).round().astype(np.int64)\n",
    "\n",
    "    oof = pd.DataFrame(\n",
    "        {\n",
    "            \"essay_id\": id_valid,\n",
    "            \"score\": y_valid_int - 1,\n",
    "            \"pred_score\": preds - 1,\n",
    "            \"raw\": preds_raw\n",
    "        }\n",
    "    )\n",
    "    log_metrics(oof, f\"Fold {idx}\")\n",
    "\n",
    "    return oof"
   ]
  },
  {
   "cell_type": "markdown",
   "metadata": {},
   "source": [
    "### Fold Loop"
   ]
  },
  {
   "cell_type": "code",
   "execution_count": 12,
   "metadata": {},
   "outputs": [],
   "source": [
    "skf = StratifiedGroupKFold(\n",
    "    n_splits=config.lgbm_n_folds,\n",
    "    random_state=config.random_seed,\n",
    "    shuffle=True,\n",
    ")"
   ]
  },
  {
   "cell_type": "code",
   "execution_count": 13,
   "metadata": {},
   "outputs": [
    {
     "name": "stdout",
     "output_type": "stream",
     "text": [
      "[LightGBM] [Info] Using self-defined objective function\n",
      "Training until validation scores don't improve for 75 rounds\n",
      "[25]\ttrain's QWK: 0.162812\tvalid's QWK: 0.118877\n",
      "[50]\ttrain's QWK: 0.595762\tvalid's QWK: 0.600361\n",
      "[75]\ttrain's QWK: 0.659898\tvalid's QWK: 0.668561\n",
      "[100]\ttrain's QWK: 0.699461\tvalid's QWK: 0.705404\n",
      "[125]\ttrain's QWK: 0.721596\tvalid's QWK: 0.721443\n",
      "[150]\ttrain's QWK: 0.732791\tvalid's QWK: 0.728853\n",
      "[175]\ttrain's QWK: 0.738882\tvalid's QWK: 0.736679\n",
      "[200]\ttrain's QWK: 0.744127\tvalid's QWK: 0.742561\n",
      "[225]\ttrain's QWK: 0.749821\tvalid's QWK: 0.746054\n",
      "[250]\ttrain's QWK: 0.754485\tvalid's QWK: 0.752819\n",
      "[275]\ttrain's QWK: 0.757966\tvalid's QWK: 0.757164\n",
      "[300]\ttrain's QWK: 0.759633\tvalid's QWK: 0.763702\n",
      "[325]\ttrain's QWK: 0.761932\tvalid's QWK: 0.768977\n",
      "[350]\ttrain's QWK: 0.764311\tvalid's QWK: 0.770261\n",
      "[375]\ttrain's QWK: 0.766605\tvalid's QWK: 0.772132\n",
      "[400]\ttrain's QWK: 0.769444\tvalid's QWK: 0.77772\n",
      "[425]\ttrain's QWK: 0.771455\tvalid's QWK: 0.780867\n",
      "[450]\ttrain's QWK: 0.773535\tvalid's QWK: 0.78511\n",
      "[475]\ttrain's QWK: 0.775747\tvalid's QWK: 0.788582\n",
      "[500]\ttrain's QWK: 0.777989\tvalid's QWK: 0.788856\n",
      "[525]\ttrain's QWK: 0.7797\tvalid's QWK: 0.789685\n",
      "[550]\ttrain's QWK: 0.781402\tvalid's QWK: 0.790435\n",
      "[575]\ttrain's QWK: 0.783041\tvalid's QWK: 0.79305\n",
      "[600]\ttrain's QWK: 0.784395\tvalid's QWK: 0.794779\n",
      "[625]\ttrain's QWK: 0.78532\tvalid's QWK: 0.795546\n",
      "[650]\ttrain's QWK: 0.786746\tvalid's QWK: 0.795512\n",
      "[675]\ttrain's QWK: 0.787353\tvalid's QWK: 0.79591\n",
      "[700]\ttrain's QWK: 0.788059\tvalid's QWK: 0.796102\n",
      "Did not meet early stopping. Best iteration is:\n",
      "[677]\ttrain's QWK: 0.787546\tvalid's QWK: 0.796202\n",
      "Evaluated only: QWK\n",
      "[LightGBM] [Info] Using self-defined objective function\n",
      "Training until validation scores don't improve for 75 rounds\n",
      "[25]\ttrain's QWK: 0.165512\tvalid's QWK: 0.276865\n",
      "[50]\ttrain's QWK: 0.617222\tvalid's QWK: 0.560049\n",
      "[75]\ttrain's QWK: 0.675523\tvalid's QWK: 0.588487\n",
      "[100]\ttrain's QWK: 0.71741\tvalid's QWK: 0.631656\n",
      "[125]\ttrain's QWK: 0.730771\tvalid's QWK: 0.643926\n",
      "[150]\ttrain's QWK: 0.742975\tvalid's QWK: 0.642548\n",
      "[175]\ttrain's QWK: 0.747959\tvalid's QWK: 0.646168\n",
      "[200]\ttrain's QWK: 0.752474\tvalid's QWK: 0.64575\n",
      "[225]\ttrain's QWK: 0.757879\tvalid's QWK: 0.646335\n",
      "[250]\ttrain's QWK: 0.762264\tvalid's QWK: 0.651582\n",
      "[275]\ttrain's QWK: 0.766882\tvalid's QWK: 0.656898\n",
      "[300]\ttrain's QWK: 0.771582\tvalid's QWK: 0.668255\n",
      "[325]\ttrain's QWK: 0.775688\tvalid's QWK: 0.675603\n",
      "[350]\ttrain's QWK: 0.778316\tvalid's QWK: 0.677986\n",
      "[375]\ttrain's QWK: 0.781031\tvalid's QWK: 0.680322\n",
      "[400]\ttrain's QWK: 0.782869\tvalid's QWK: 0.681385\n",
      "[425]\ttrain's QWK: 0.784939\tvalid's QWK: 0.682737\n",
      "[450]\ttrain's QWK: 0.785996\tvalid's QWK: 0.684685\n",
      "[475]\ttrain's QWK: 0.787518\tvalid's QWK: 0.687792\n",
      "[500]\ttrain's QWK: 0.788387\tvalid's QWK: 0.688523\n",
      "[525]\ttrain's QWK: 0.789974\tvalid's QWK: 0.694316\n",
      "[550]\ttrain's QWK: 0.791092\tvalid's QWK: 0.697639\n",
      "[575]\ttrain's QWK: 0.792\tvalid's QWK: 0.699149\n",
      "[600]\ttrain's QWK: 0.793244\tvalid's QWK: 0.700686\n",
      "[625]\ttrain's QWK: 0.794347\tvalid's QWK: 0.701605\n",
      "[650]\ttrain's QWK: 0.795639\tvalid's QWK: 0.703072\n",
      "[675]\ttrain's QWK: 0.797028\tvalid's QWK: 0.703929\n",
      "[700]\ttrain's QWK: 0.797598\tvalid's QWK: 0.704706\n",
      "Did not meet early stopping. Best iteration is:\n",
      "[689]\ttrain's QWK: 0.797016\tvalid's QWK: 0.704863\n",
      "Evaluated only: QWK\n",
      "[LightGBM] [Info] Using self-defined objective function\n",
      "Training until validation scores don't improve for 75 rounds\n",
      "[25]\ttrain's QWK: 0.105369\tvalid's QWK: 0.10482\n",
      "[50]\ttrain's QWK: 0.604275\tvalid's QWK: 0.635953\n",
      "[75]\ttrain's QWK: 0.659553\tvalid's QWK: 0.678349\n",
      "[100]\ttrain's QWK: 0.687784\tvalid's QWK: 0.70743\n",
      "[125]\ttrain's QWK: 0.705152\tvalid's QWK: 0.728571\n",
      "[150]\ttrain's QWK: 0.720209\tvalid's QWK: 0.741133\n",
      "[175]\ttrain's QWK: 0.728239\tvalid's QWK: 0.748306\n",
      "[200]\ttrain's QWK: 0.73774\tvalid's QWK: 0.757885\n",
      "[225]\ttrain's QWK: 0.743222\tvalid's QWK: 0.763648\n",
      "[250]\ttrain's QWK: 0.749272\tvalid's QWK: 0.766674\n",
      "[275]\ttrain's QWK: 0.754795\tvalid's QWK: 0.772462\n",
      "[300]\ttrain's QWK: 0.757813\tvalid's QWK: 0.776845\n",
      "[325]\ttrain's QWK: 0.762434\tvalid's QWK: 0.782778\n",
      "[350]\ttrain's QWK: 0.76498\tvalid's QWK: 0.784144\n",
      "[375]\ttrain's QWK: 0.767548\tvalid's QWK: 0.785708\n",
      "[400]\ttrain's QWK: 0.769118\tvalid's QWK: 0.787029\n",
      "[425]\ttrain's QWK: 0.770428\tvalid's QWK: 0.788073\n",
      "[450]\ttrain's QWK: 0.771782\tvalid's QWK: 0.788169\n",
      "[475]\ttrain's QWK: 0.773775\tvalid's QWK: 0.788514\n",
      "[500]\ttrain's QWK: 0.775793\tvalid's QWK: 0.790464\n",
      "[525]\ttrain's QWK: 0.777582\tvalid's QWK: 0.791577\n",
      "[550]\ttrain's QWK: 0.779299\tvalid's QWK: 0.791702\n",
      "[575]\ttrain's QWK: 0.779763\tvalid's QWK: 0.792133\n",
      "[600]\ttrain's QWK: 0.781389\tvalid's QWK: 0.791467\n",
      "[625]\ttrain's QWK: 0.782579\tvalid's QWK: 0.794001\n",
      "[650]\ttrain's QWK: 0.783949\tvalid's QWK: 0.795441\n",
      "[675]\ttrain's QWK: 0.785591\tvalid's QWK: 0.79872\n",
      "[700]\ttrain's QWK: 0.786424\tvalid's QWK: 0.799963\n",
      "Did not meet early stopping. Best iteration is:\n",
      "[700]\ttrain's QWK: 0.786424\tvalid's QWK: 0.799963\n",
      "Evaluated only: QWK\n",
      "[LightGBM] [Info] Using self-defined objective function\n",
      "Training until validation scores don't improve for 75 rounds\n",
      "[25]\ttrain's QWK: 0.182671\tvalid's QWK: 0\n",
      "[50]\ttrain's QWK: 0.609627\tvalid's QWK: 0.448234\n",
      "[75]\ttrain's QWK: 0.660642\tvalid's QWK: 0.487107\n",
      "[100]\ttrain's QWK: 0.706469\tvalid's QWK: 0.492221\n",
      "[125]\ttrain's QWK: 0.721589\tvalid's QWK: 0.490491\n",
      "[150]\ttrain's QWK: 0.734691\tvalid's QWK: 0.492118\n",
      "[175]\ttrain's QWK: 0.740515\tvalid's QWK: 0.494471\n",
      "Early stopping, best iteration is:\n",
      "[107]\ttrain's QWK: 0.712345\tvalid's QWK: 0.499479\n",
      "Evaluated only: QWK\n"
     ]
    },
    {
     "name": "stderr",
     "output_type": "stream",
     "text": [
      "/media/ishfar/New Volume/Studies/Projects/Kaggle-Automated-Essay-Scoring/lib/criterion/metrics.py:34: RuntimeWarning: invalid value encountered in scalar divide\n",
      "  precision = tp / (tp + fp)\n",
      "/media/ishfar/New Volume/Studies/Projects/Kaggle-Automated-Essay-Scoring/lib/criterion/metrics.py:35: RuntimeWarning: invalid value encountered in scalar divide\n",
      "  recall = tp / (tp + fn)\n"
     ]
    },
    {
     "name": "stdout",
     "output_type": "stream",
     "text": [
      "[LightGBM] [Info] Using self-defined objective function\n",
      "Training until validation scores don't improve for 75 rounds\n",
      "[25]\ttrain's QWK: 0.15543\tvalid's QWK: 0.161672\n",
      "[50]\ttrain's QWK: 0.609558\tvalid's QWK: 0.608224\n",
      "[75]\ttrain's QWK: 0.65359\tvalid's QWK: 0.679554\n",
      "[100]\ttrain's QWK: 0.693241\tvalid's QWK: 0.716015\n",
      "[125]\ttrain's QWK: 0.710966\tvalid's QWK: 0.743473\n",
      "[150]\ttrain's QWK: 0.72137\tvalid's QWK: 0.757008\n",
      "[175]\ttrain's QWK: 0.729646\tvalid's QWK: 0.762804\n",
      "[200]\ttrain's QWK: 0.740177\tvalid's QWK: 0.772564\n",
      "[225]\ttrain's QWK: 0.746068\tvalid's QWK: 0.776908\n",
      "[250]\ttrain's QWK: 0.753045\tvalid's QWK: 0.78025\n",
      "[275]\ttrain's QWK: 0.757464\tvalid's QWK: 0.782203\n",
      "[300]\ttrain's QWK: 0.760308\tvalid's QWK: 0.782257\n",
      "[325]\ttrain's QWK: 0.763179\tvalid's QWK: 0.784157\n",
      "[350]\ttrain's QWK: 0.766213\tvalid's QWK: 0.784707\n",
      "[375]\ttrain's QWK: 0.76976\tvalid's QWK: 0.784637\n",
      "[400]\ttrain's QWK: 0.773341\tvalid's QWK: 0.785805\n",
      "[425]\ttrain's QWK: 0.775306\tvalid's QWK: 0.784472\n",
      "[450]\ttrain's QWK: 0.777148\tvalid's QWK: 0.784375\n",
      "[475]\ttrain's QWK: 0.779164\tvalid's QWK: 0.784551\n",
      "Early stopping, best iteration is:\n",
      "[411]\ttrain's QWK: 0.774194\tvalid's QWK: 0.786474\n",
      "Evaluated only: QWK\n",
      "[LightGBM] [Info] Using self-defined objective function\n",
      "Training until validation scores don't improve for 75 rounds\n",
      "[25]\ttrain's QWK: 0.148771\tvalid's QWK: 0.0592916\n",
      "[50]\ttrain's QWK: 0.616229\tvalid's QWK: 0.594212\n",
      "[75]\ttrain's QWK: 0.663062\tvalid's QWK: 0.633078\n",
      "[100]\ttrain's QWK: 0.702011\tvalid's QWK: 0.666316\n",
      "[125]\ttrain's QWK: 0.719478\tvalid's QWK: 0.673389\n",
      "[150]\ttrain's QWK: 0.730723\tvalid's QWK: 0.687914\n",
      "[175]\ttrain's QWK: 0.739223\tvalid's QWK: 0.692216\n",
      "[200]\ttrain's QWK: 0.749532\tvalid's QWK: 0.705837\n",
      "[225]\ttrain's QWK: 0.756893\tvalid's QWK: 0.708431\n",
      "[250]\ttrain's QWK: 0.762465\tvalid's QWK: 0.710533\n",
      "[275]\ttrain's QWK: 0.76688\tvalid's QWK: 0.712324\n",
      "[300]\ttrain's QWK: 0.771764\tvalid's QWK: 0.714765\n",
      "[325]\ttrain's QWK: 0.775998\tvalid's QWK: 0.716926\n",
      "[350]\ttrain's QWK: 0.778664\tvalid's QWK: 0.718175\n",
      "[375]\ttrain's QWK: 0.780722\tvalid's QWK: 0.718265\n",
      "[400]\ttrain's QWK: 0.783142\tvalid's QWK: 0.718845\n",
      "[425]\ttrain's QWK: 0.785292\tvalid's QWK: 0.716674\n",
      "[450]\ttrain's QWK: 0.786789\tvalid's QWK: 0.716122\n",
      "Early stopping, best iteration is:\n",
      "[393]\ttrain's QWK: 0.782656\tvalid's QWK: 0.719677\n",
      "Evaluated only: QWK\n"
     ]
    },
    {
     "name": "stderr",
     "output_type": "stream",
     "text": [
      "/media/ishfar/New Volume/Studies/Projects/Kaggle-Automated-Essay-Scoring/lib/criterion/metrics.py:34: RuntimeWarning: invalid value encountered in scalar divide\n",
      "  precision = tp / (tp + fp)\n"
     ]
    },
    {
     "name": "stdout",
     "output_type": "stream",
     "text": [
      "[LightGBM] [Info] Using self-defined objective function\n",
      "Training until validation scores don't improve for 75 rounds\n",
      "[25]\ttrain's QWK: 0.142024\tvalid's QWK: 0.184791\n",
      "[50]\ttrain's QWK: 0.609516\tvalid's QWK: 0.552583\n",
      "[75]\ttrain's QWK: 0.664455\tvalid's QWK: 0.611141\n",
      "[100]\ttrain's QWK: 0.697171\tvalid's QWK: 0.646963\n",
      "[125]\ttrain's QWK: 0.719409\tvalid's QWK: 0.685541\n",
      "[150]\ttrain's QWK: 0.732054\tvalid's QWK: 0.695217\n",
      "[175]\ttrain's QWK: 0.739585\tvalid's QWK: 0.699752\n",
      "[200]\ttrain's QWK: 0.74516\tvalid's QWK: 0.708629\n",
      "[225]\ttrain's QWK: 0.75137\tvalid's QWK: 0.710089\n",
      "[250]\ttrain's QWK: 0.756929\tvalid's QWK: 0.715195\n",
      "[275]\ttrain's QWK: 0.761727\tvalid's QWK: 0.721886\n",
      "[300]\ttrain's QWK: 0.765661\tvalid's QWK: 0.728076\n",
      "[325]\ttrain's QWK: 0.769148\tvalid's QWK: 0.731223\n",
      "[350]\ttrain's QWK: 0.771713\tvalid's QWK: 0.733165\n",
      "[375]\ttrain's QWK: 0.773884\tvalid's QWK: 0.734449\n",
      "[400]\ttrain's QWK: 0.775619\tvalid's QWK: 0.737295\n",
      "[425]\ttrain's QWK: 0.776955\tvalid's QWK: 0.739455\n",
      "[450]\ttrain's QWK: 0.77787\tvalid's QWK: 0.742464\n",
      "[475]\ttrain's QWK: 0.779646\tvalid's QWK: 0.748956\n",
      "[500]\ttrain's QWK: 0.781104\tvalid's QWK: 0.749683\n",
      "[525]\ttrain's QWK: 0.783318\tvalid's QWK: 0.750975\n",
      "[550]\ttrain's QWK: 0.784619\tvalid's QWK: 0.750613\n",
      "[575]\ttrain's QWK: 0.785785\tvalid's QWK: 0.752257\n",
      "[600]\ttrain's QWK: 0.786891\tvalid's QWK: 0.753901\n",
      "[625]\ttrain's QWK: 0.787841\tvalid's QWK: 0.756824\n",
      "[650]\ttrain's QWK: 0.789418\tvalid's QWK: 0.756612\n",
      "[675]\ttrain's QWK: 0.790675\tvalid's QWK: 0.758183\n",
      "[700]\ttrain's QWK: 0.792233\tvalid's QWK: 0.758733\n",
      "Did not meet early stopping. Best iteration is:\n",
      "[698]\ttrain's QWK: 0.792109\tvalid's QWK: 0.759043\n",
      "Evaluated only: QWK\n"
     ]
    }
   ],
   "source": [
    "oof_df = pd.DataFrame()\n",
    "\n",
    "for idx, (train_idx, valid_idx) in enumerate(skf.split(X, y, groups=topic)):\n",
    "    X_train, y_train = X.loc[train_idx], y.loc[train_idx]\n",
    "    X_valid, y_valid = X.loc[valid_idx], y.loc[valid_idx]\n",
    "    id_valid = ids.loc[valid_idx].to_numpy()\n",
    "\n",
    "    model, predictor = train_loop(X_train, y_train, X_valid, y_valid)\n",
    "\n",
    "    with open(f\"output/LGBM/{idx}.pkl\", \"wb\") as file:\n",
    "        pkl.dump({\"predictor\": predictor, \"model\": model}, file)\n",
    "\n",
    "    oof = validate_model(idx, X_valid, y_valid, id_valid, predictor)\n",
    "    oof_df = pd.concat([oof_df, oof])"
   ]
  },
  {
   "cell_type": "code",
   "execution_count": 14,
   "metadata": {},
   "outputs": [
    {
     "name": "stdout",
     "output_type": "stream",
     "text": [
      "Overall Score: 0.7677\n"
     ]
    }
   ],
   "source": [
    "score = get_score(oof_df[\"score\"], oof_df[\"pred_score\"])\n",
    "print(f'Overall Score: {score:<.4f}')\n",
    "wandb.log({\"CV/qwk_score\": score})"
   ]
  },
  {
   "cell_type": "code",
   "execution_count": 15,
   "metadata": {},
   "outputs": [],
   "source": [
    "wandb.log({\"oof_table\": wandb.Table(dataframe=oof_df)})"
   ]
  },
  {
   "cell_type": "code",
   "execution_count": 16,
   "metadata": {},
   "outputs": [],
   "source": [
    "oof_df.to_csv(\"output/oof.csv\", index=False)"
   ]
  },
  {
   "cell_type": "code",
   "execution_count": 17,
   "metadata": {},
   "outputs": [],
   "source": [
    "log_metrics(\n",
    "    pd.DataFrame(\n",
    "        {\n",
    "            \"score\": oof_df.score.to_numpy(),\n",
    "            \"pred_score\": oof_df.pred_score.to_numpy(),\n",
    "        }\n",
    "    ),\n",
    "    \"Overall\",\n",
    ")"
   ]
  },
  {
   "cell_type": "markdown",
   "metadata": {},
   "source": [
    "### Finding Optimal Thresholds"
   ]
  },
  {
   "cell_type": "code",
   "execution_count": 18,
   "metadata": {},
   "outputs": [],
   "source": [
    "best, threshold, xs, ys = find_thresholds(oof_df[\"score\"] + 1, oof_df[\"raw\"], steps=500)"
   ]
  },
  {
   "cell_type": "code",
   "execution_count": 19,
   "metadata": {},
   "outputs": [
    {
     "data": {
      "image/png": "[encoded data removed]",
      "text/plain": [
       "<Figure size 1500x300 with 5 Axes>"
      ]
     },
     "metadata": {},
     "output_type": "display_data"
    }
   ],
   "source": [
    "diff = 0.5\n",
    "nrows, ncols = 1, 5  # Define grid for 5 subplots (1 row, 5 columns)\n",
    "\n",
    "fig, axes = plt.subplots(nrows, ncols, figsize=(15, 3))  # Create figure and subplots\n",
    "\n",
    "# Loop through data and plot on each subplot\n",
    "for k in range(5):\n",
    "    ax = axes.flat[k]  # Access each subplot using flattened axes\n",
    "    ax.scatter(xs[k], ys[k], s=3)\n",
    "    m = k + 1.5\n",
    "    ax.set_xlim((m - diff, m + diff))\n",
    "    i = np.where((np.array(xs[k]) > m - diff) & (np.array(xs[k]) < m + diff))[0]\n",
    "    mn = np.min(np.array(ys[k])[i])\n",
    "    mx = np.max(np.array(ys[k])[i])\n",
    "    ax.set_ylim((mn, mx))\n",
    "\n",
    "    ax.plot(\n",
    "        [threshold[k], threshold[k]],\n",
    "        [mn, mx],\n",
    "        \"--\",\n",
    "        color=\"black\",\n",
    "        label=\"optimal threshold\",\n",
    "    )\n",
    "\n",
    "    ax.set_title(f\"Optimal Thresh: {threshold[k]:4.3f}\", size=12)  # Adjust title size\n",
    "    ax.set_xlabel(f\"Threshold between {k+1} and {k+2}\", size=10)\n",
    "    ax.set_ylabel(\"QWK CV score\", size=10)\n",
    "\n",
    "# Common legend for all subplots\n",
    "plt.suptitle(\"Optimal Thresholds\", size=12)\n",
    "plt.tight_layout()  # Adjust spacing between subplots\n",
    "plt.show()"
   ]
  },
  {
   "cell_type": "code",
   "execution_count": 20,
   "metadata": {},
   "outputs": [],
   "source": [
    "with open(\"output/LGBM/threshold.pkl\", \"wb\") as file:\n",
    "    pkl.dump(threshold, file)"
   ]
  },
  {
   "cell_type": "code",
   "execution_count": 21,
   "metadata": {},
   "outputs": [
    {
     "data": {
      "application/vnd.jupyter.widget-view+json": {
       "model_id": "b48192a13a7548f5a4e30fd063621c0a",
       "version_major": 2,
       "version_minor": 0
      },
      "text/plain": [
       "VBox(children=(Label(value='1.398 MB of 1.398 MB uploaded\\r'), FloatProgress(value=1.0, max=1.0)))"
      ]
     },
     "metadata": {},
     "output_type": "display_data"
    },
    {
     "data": {
      "text/html": [
       "<style>\n",
       "    table.wandb td:nth-child(1) { padding: 0 10px; text-align: left ; width: auto;} td:nth-child(2) {text-align: left ; width: 100%}\n",
       "    .wandb-row { display: flex; flex-direction: row; flex-wrap: wrap; justify-content: flex-start; width: 100% }\n",
       "    .wandb-col { display: flex; flex-direction: column; flex-basis: 100%; flex: 1; padding: 10px; }\n",
       "    </style>\n",
       "<div class=\"wandb-row\"><div class=\"wandb-col\"><h3>Run history:</h3><br/><table class=\"wandb\"><tr><td>CV/qwk_score</td><td>▁</td></tr></table><br/></div><div class=\"wandb-col\"><h3>Run summary:</h3><br/><table class=\"wandb\"><tr><td>CV/qwk_score</td><td>0.7677</td></tr></table><br/></div></div>"
      ],
      "text/plain": [
       "<IPython.core.display.HTML object>"
      ]
     },
     "metadata": {},
     "output_type": "display_data"
    },
    {
     "data": {
      "text/html": [
       " View run <strong style=\"color:#cdcd00\">LGBM-ASE-17</strong> at: <a href='https://wandb.ai/laplacesdemon43/Kaggle_ASE_2.0/runs/j3hxkczq' target=\"_blank\">https://wandb.ai/laplacesdemon43/Kaggle_ASE_2.0/runs/j3hxkczq</a><br/> View project at: <a href='https://wandb.ai/laplacesdemon43/Kaggle_ASE_2.0' target=\"_blank\">https://wandb.ai/laplacesdemon43/Kaggle_ASE_2.0</a><br/>Synced 6 W&B file(s), 33 media file(s), 33 artifact file(s) and 1 other file(s)"
      ],
      "text/plain": [
       "<IPython.core.display.HTML object>"
      ]
     },
     "metadata": {},
     "output_type": "display_data"
    },
    {
     "data": {
      "text/html": [
       "Find logs at: <code>./wandb/run-20240615_120159-j3hxkczq/logs</code>"
      ],
      "text/plain": [
       "<IPython.core.display.HTML object>"
      ]
     },
     "metadata": {},
     "output_type": "display_data"
    }
   ],
   "source": [
    "wandb.finish()"
   ]
  }
 ],
 "metadata": {
  "kernelspec": {
   "display_name": "Python 3 (ipykernel)",
   "language": "python",
   "name": "python3"
  },
  "language_info": {
   "codemirror_mode": {
    "name": "ipython",
    "version": 3
   },
   "file_extension": ".py",
   "mimetype": "text/x-python",
   "name": "python",
   "nbconvert_exporter": "python",
   "pygments_lexer": "ipython3",
   "version": "3.11.8"
  }
 },
 "nbformat": 4,
 "nbformat_minor": 4
}
