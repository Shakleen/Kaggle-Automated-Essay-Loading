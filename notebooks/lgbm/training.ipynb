{
 "cells": [
  {
   "cell_type": "markdown",
   "metadata": {},
   "source": [
    "# LGBM - Training\n",
    "\n",
    "Sources\n",
    "1. [LGBM & Deberta Explained by ZULQARNAIN ALI](https://www.kaggle.com/code/zulqarnainalipk/lgbm-deberta-explained)"
   ]
  },
  {
   "cell_type": "markdown",
   "metadata": {},
   "source": [
    "## Setup"
   ]
  },
  {
   "cell_type": "code",
   "execution_count": 1,
   "metadata": {},
   "outputs": [],
   "source": [
    "import os\n",
    "import pandas as pd\n",
    "import numpy as np\n",
    "from sklearn.metrics import cohen_kappa_score\n",
    "import lightgbm as lgb\n",
    "import pickle as pkl\n",
    "import wandb\n",
    "from lightgbm import log_evaluation, early_stopping\n",
    "from sklearn.metrics import cohen_kappa_score\n",
    "from sklearn.model_selection import StratifiedGroupKFold\n",
    "import matplotlib.pyplot as plt"
   ]
  },
  {
   "cell_type": "code",
   "execution_count": 2,
   "metadata": {},
   "outputs": [],
   "source": [
    "os.chdir(\"../../\")"
   ]
  },
  {
   "cell_type": "code",
   "execution_count": 3,
   "metadata": {},
   "outputs": [],
   "source": [
    "from lib.config import config\n",
    "from lib.paths import Paths\n",
    "from lib.utils.utils import seed_everything\n",
    "from lib.criterion.metrics import log_metrics\n",
    "from lib.model.utils import quadratic_weighted_kappa, qwk_obj, get_score\n",
    "from lib.utils.find_threshold import find_thresholds"
   ]
  },
  {
   "cell_type": "code",
   "execution_count": 4,
   "metadata": {},
   "outputs": [],
   "source": [
    "seed_everything()"
   ]
  },
  {
   "cell_type": "markdown",
   "metadata": {},
   "source": [
    "### Setting Up WandB"
   ]
  },
  {
   "cell_type": "code",
   "execution_count": 5,
   "metadata": {},
   "outputs": [],
   "source": [
    "WANDB_PROJECT = \"Kaggle_ASE_2.0\"\n",
    "WANDB_NAME = f\"LGBM-ASE-16\""
   ]
  },
  {
   "cell_type": "code",
   "execution_count": 6,
   "metadata": {},
   "outputs": [
    {
     "name": "stderr",
     "output_type": "stream",
     "text": [
      "Failed to detect the name of this notebook, you can set it manually with the WANDB_NOTEBOOK_NAME environment variable to enable code saving.\n",
      "\u001b[34m\u001b[1mwandb\u001b[0m: Currently logged in as: \u001b[33mshakleenishfar\u001b[0m (\u001b[33mlaplacesdemon43\u001b[0m). Use \u001b[1m`wandb login --relogin`\u001b[0m to force relogin\n",
      "\u001b[34m\u001b[1mwandb\u001b[0m: \u001b[33mWARNING\u001b[0m If you're specifying your api key in code, ensure this code is not shared publicly.\n",
      "\u001b[34m\u001b[1mwandb\u001b[0m: \u001b[33mWARNING\u001b[0m Consider setting the WANDB_API_KEY environment variable, or running `wandb login` from the command line.\n",
      "\u001b[34m\u001b[1mwandb\u001b[0m: Appending key for api.wandb.ai to your netrc file: /home/ishfar/.netrc\n"
     ]
    },
    {
     "data": {
      "text/html": [
       "wandb version 0.17.1 is available!  To upgrade, please run:\n",
       " $ pip install wandb --upgrade"
      ],
      "text/plain": [
       "<IPython.core.display.HTML object>"
      ]
     },
     "metadata": {},
     "output_type": "display_data"
    },
    {
     "data": {
      "text/html": [
       "Tracking run with wandb version 0.16.6"
      ],
      "text/plain": [
       "<IPython.core.display.HTML object>"
      ]
     },
     "metadata": {},
     "output_type": "display_data"
    },
    {
     "data": {
      "text/html": [
       "Run data is saved locally in <code>/media/ishfar/New Volume/Studies/Projects/Kaggle-Automated-Essay-Scoring/wandb/run-20240610_122300-bw80j5lp</code>"
      ],
      "text/plain": [
       "<IPython.core.display.HTML object>"
      ]
     },
     "metadata": {},
     "output_type": "display_data"
    },
    {
     "data": {
      "text/html": [
       "Syncing run <strong><a href='https://wandb.ai/laplacesdemon43/Kaggle_ASE_2.0/runs/bw80j5lp' target=\"_blank\">LGBM-ASE-16</a></strong> to <a href='https://wandb.ai/laplacesdemon43/Kaggle_ASE_2.0' target=\"_blank\">Weights & Biases</a> (<a href='https://wandb.me/run' target=\"_blank\">docs</a>)<br/>"
      ],
      "text/plain": [
       "<IPython.core.display.HTML object>"
      ]
     },
     "metadata": {},
     "output_type": "display_data"
    },
    {
     "data": {
      "text/html": [
       " View project at <a href='https://wandb.ai/laplacesdemon43/Kaggle_ASE_2.0' target=\"_blank\">https://wandb.ai/laplacesdemon43/Kaggle_ASE_2.0</a>"
      ],
      "text/plain": [
       "<IPython.core.display.HTML object>"
      ]
     },
     "metadata": {},
     "output_type": "display_data"
    },
    {
     "data": {
      "text/html": [
       " View run at <a href='https://wandb.ai/laplacesdemon43/Kaggle_ASE_2.0/runs/bw80j5lp' target=\"_blank\">https://wandb.ai/laplacesdemon43/Kaggle_ASE_2.0/runs/bw80j5lp</a>"
      ],
      "text/plain": [
       "<IPython.core.display.HTML object>"
      ]
     },
     "metadata": {},
     "output_type": "display_data"
    }
   ],
   "source": [
    "wandb.login(key=os.environ.get('WANDB_API_KEY'))\n",
    "wandb.init(\n",
    "    project=WANDB_PROJECT,\n",
    "    name=WANDB_NAME,\n",
    "    save_code=True,\n",
    "    job_type=\"train\",\n",
    "    config=config,\n",
    ")\n",
    "config = wandb.config"
   ]
  },
  {
   "cell_type": "markdown",
   "metadata": {},
   "source": [
    "## Model Training"
   ]
  },
  {
   "cell_type": "markdown",
   "metadata": {},
   "source": [
    "### Dataset Creation"
   ]
  },
  {
   "cell_type": "code",
   "execution_count": 7,
   "metadata": {},
   "outputs": [
    {
     "data": {
      "text/plain": [
       "((17307, 103), (17307,))"
      ]
     },
     "execution_count": 7,
     "metadata": {},
     "output_type": "execute_result"
    }
   ],
   "source": [
    "df = pd.read_csv(Paths.TRAIN_CSV_PATH, usecols=[\"score\", \"topic\"])\n",
    "X = pd.read_csv(Paths.FEATURE_ENGG_CSV_PATH)\n",
    "ids, X = X.loc[:, \"essay_id\"], X.drop(columns=[\"essay_id\"])\n",
    "topic, y = df.loc[:, \"topic\"], df.loc[:, \"score\"]\n",
    "\n",
    "del df\n",
    "X.shape, y.shape"
   ]
  },
  {
   "cell_type": "markdown",
   "metadata": {},
   "source": [
    "### Callbacks"
   ]
  },
  {
   "cell_type": "code",
   "execution_count": 8,
   "metadata": {},
   "outputs": [],
   "source": [
    "callbacks = [\n",
    "    log_evaluation(period=25),\n",
    "    early_stopping(stopping_rounds=75, first_metric_only=True),\n",
    "]"
   ]
  },
  {
   "cell_type": "markdown",
   "metadata": {},
   "source": [
    "### Constants"
   ]
  },
  {
   "cell_type": "code",
   "execution_count": 9,
   "metadata": {},
   "outputs": [],
   "source": [
    "a = config.lgbm_a\n",
    "b = config.lgbm_b"
   ]
  },
  {
   "cell_type": "markdown",
   "metadata": {},
   "source": [
    "### Training Loop"
   ]
  },
  {
   "cell_type": "code",
   "execution_count": 10,
   "metadata": {},
   "outputs": [],
   "source": [
    "def train_loop(X_train, y_train, X_valid, y_valid):\n",
    "    y_train = y_train.astype(np.float32) - a\n",
    "    y_valid = y_valid.astype(np.float32) - a\n",
    "\n",
    "    model = lgb.LGBMRegressor(\n",
    "        objective=qwk_obj,\n",
    "        metrics=\"None\",\n",
    "        learning_rate=0.01,\n",
    "        max_depth=5,\n",
    "        num_leaves=10,\n",
    "        colsample_bytree=0.3,\n",
    "        reg_alpha=0.7,\n",
    "        reg_lambda=0.1,\n",
    "        n_estimators=700,\n",
    "        random_state=config.random_seed,\n",
    "        extra_trees=True,\n",
    "        class_weight=\"balanced\",\n",
    "        n_jobs=6,\n",
    "        verbosity=0,\n",
    "    )\n",
    "\n",
    "    # Train model\n",
    "    predictor = model.fit(\n",
    "        X_train,\n",
    "        y_train,\n",
    "        eval_names=[\"train\", \"valid\"],\n",
    "        eval_set=[(X_train, y_train), (X_valid, y_valid)],\n",
    "        eval_metric=quadratic_weighted_kappa,\n",
    "        callbacks=callbacks,\n",
    "    )\n",
    "\n",
    "    return model, predictor"
   ]
  },
  {
   "cell_type": "code",
   "execution_count": 11,
   "metadata": {},
   "outputs": [],
   "source": [
    "def validate_model(idx, X_valid, y_valid, id_valid, predictor):\n",
    "    y_valid_int = y_valid.astype(np.int64).to_numpy()\n",
    "    preds_raw = predictor.predict(X_valid) + a\n",
    "    preds = preds_raw.clip(1, 6).round().astype(np.int64)\n",
    "\n",
    "    oof = pd.DataFrame(\n",
    "        {\n",
    "            \"essay_id\": id_valid,\n",
    "            \"score\": y_valid_int - 1,\n",
    "            \"pred_score\": preds - 1,\n",
    "            \"raw\": preds_raw\n",
    "        }\n",
    "    )\n",
    "    log_metrics(oof, f\"Fold {idx}\")\n",
    "\n",
    "    return oof"
   ]
  },
  {
   "cell_type": "markdown",
   "metadata": {},
   "source": [
    "### Fold Loop"
   ]
  },
  {
   "cell_type": "code",
   "execution_count": 12,
   "metadata": {},
   "outputs": [],
   "source": [
    "skf = StratifiedGroupKFold(\n",
    "    n_splits=config.lgbm_n_folds,\n",
    "    random_state=config.random_seed,\n",
    "    shuffle=True,\n",
    ")"
   ]
  },
  {
   "cell_type": "code",
   "execution_count": 13,
   "metadata": {},
   "outputs": [
    {
     "name": "stdout",
     "output_type": "stream",
     "text": [
      "[LightGBM] [Info] Using self-defined objective function\n",
      "Training until validation scores don't improve for 75 rounds\n",
      "[25]\ttrain's QWK: 0.156587\tvalid's QWK: 0.120324\n",
      "[50]\ttrain's QWK: 0.579968\tvalid's QWK: 0.591306\n",
      "[75]\ttrain's QWK: 0.634404\tvalid's QWK: 0.64243\n",
      "[100]\ttrain's QWK: 0.663996\tvalid's QWK: 0.664434\n",
      "[125]\ttrain's QWK: 0.687179\tvalid's QWK: 0.683393\n",
      "[150]\ttrain's QWK: 0.69804\tvalid's QWK: 0.694735\n",
      "[175]\ttrain's QWK: 0.704589\tvalid's QWK: 0.702645\n",
      "[200]\ttrain's QWK: 0.709259\tvalid's QWK: 0.707639\n",
      "[225]\ttrain's QWK: 0.711327\tvalid's QWK: 0.711228\n",
      "[250]\ttrain's QWK: 0.715892\tvalid's QWK: 0.714823\n",
      "[275]\ttrain's QWK: 0.71882\tvalid's QWK: 0.717334\n",
      "[300]\ttrain's QWK: 0.721376\tvalid's QWK: 0.723835\n",
      "[325]\ttrain's QWK: 0.722938\tvalid's QWK: 0.726919\n",
      "[350]\ttrain's QWK: 0.725337\tvalid's QWK: 0.729297\n",
      "[375]\ttrain's QWK: 0.726911\tvalid's QWK: 0.734882\n",
      "[400]\ttrain's QWK: 0.729234\tvalid's QWK: 0.736735\n",
      "[425]\ttrain's QWK: 0.730552\tvalid's QWK: 0.740059\n",
      "[450]\ttrain's QWK: 0.731851\tvalid's QWK: 0.741161\n",
      "[475]\ttrain's QWK: 0.733787\tvalid's QWK: 0.74199\n",
      "[500]\ttrain's QWK: 0.735546\tvalid's QWK: 0.743067\n",
      "[525]\ttrain's QWK: 0.737372\tvalid's QWK: 0.743233\n",
      "[550]\ttrain's QWK: 0.738556\tvalid's QWK: 0.742893\n",
      "[575]\ttrain's QWK: 0.739144\tvalid's QWK: 0.742456\n",
      "[600]\ttrain's QWK: 0.739855\tvalid's QWK: 0.743614\n",
      "[625]\ttrain's QWK: 0.741072\tvalid's QWK: 0.745025\n",
      "[650]\ttrain's QWK: 0.741883\tvalid's QWK: 0.74559\n",
      "[675]\ttrain's QWK: 0.742718\tvalid's QWK: 0.745565\n",
      "[700]\ttrain's QWK: 0.74374\tvalid's QWK: 0.746036\n",
      "Did not meet early stopping. Best iteration is:\n",
      "[691]\ttrain's QWK: 0.743504\tvalid's QWK: 0.746305\n",
      "Evaluated only: QWK\n",
      "[LightGBM] [Info] Using self-defined objective function\n",
      "Training until validation scores don't improve for 75 rounds\n",
      "[25]\ttrain's QWK: 0.157952\tvalid's QWK: 0.280001\n",
      "[50]\ttrain's QWK: 0.598369\tvalid's QWK: 0.509227\n",
      "[75]\ttrain's QWK: 0.653692\tvalid's QWK: 0.541712\n",
      "[100]\ttrain's QWK: 0.689674\tvalid's QWK: 0.587744\n",
      "[125]\ttrain's QWK: 0.705362\tvalid's QWK: 0.600342\n",
      "[150]\ttrain's QWK: 0.715302\tvalid's QWK: 0.602857\n",
      "[175]\ttrain's QWK: 0.720172\tvalid's QWK: 0.60637\n",
      "[200]\ttrain's QWK: 0.723143\tvalid's QWK: 0.604998\n",
      "[225]\ttrain's QWK: 0.726878\tvalid's QWK: 0.601417\n",
      "[250]\ttrain's QWK: 0.731285\tvalid's QWK: 0.599251\n",
      "Early stopping, best iteration is:\n",
      "[179]\ttrain's QWK: 0.720447\tvalid's QWK: 0.6066\n",
      "Evaluated only: QWK\n"
     ]
    },
    {
     "name": "stderr",
     "output_type": "stream",
     "text": [
      "/media/ishfar/New Volume/Studies/Projects/Kaggle-Automated-Essay-Scoring/lib/criterion/metrics.py:34: RuntimeWarning: invalid value encountered in scalar divide\n",
      "  precision = tp / (tp + fp)\n"
     ]
    },
    {
     "name": "stdout",
     "output_type": "stream",
     "text": [
      "[LightGBM] [Info] Using self-defined objective function\n",
      "Training until validation scores don't improve for 75 rounds\n",
      "[25]\ttrain's QWK: 0.125096\tvalid's QWK: 0.132806\n",
      "[50]\ttrain's QWK: 0.583818\tvalid's QWK: 0.617708\n",
      "[75]\ttrain's QWK: 0.636123\tvalid's QWK: 0.65598\n",
      "[100]\ttrain's QWK: 0.657354\tvalid's QWK: 0.680204\n",
      "[125]\ttrain's QWK: 0.679839\tvalid's QWK: 0.705731\n",
      "[150]\ttrain's QWK: 0.692273\tvalid's QWK: 0.71621\n",
      "[175]\ttrain's QWK: 0.701885\tvalid's QWK: 0.723014\n",
      "[200]\ttrain's QWK: 0.707332\tvalid's QWK: 0.728996\n",
      "[225]\ttrain's QWK: 0.713965\tvalid's QWK: 0.731165\n",
      "[250]\ttrain's QWK: 0.718157\tvalid's QWK: 0.736999\n",
      "[275]\ttrain's QWK: 0.721347\tvalid's QWK: 0.739662\n",
      "[300]\ttrain's QWK: 0.723973\tvalid's QWK: 0.741137\n",
      "[325]\ttrain's QWK: 0.726941\tvalid's QWK: 0.741072\n",
      "[350]\ttrain's QWK: 0.728969\tvalid's QWK: 0.741926\n",
      "[375]\ttrain's QWK: 0.730707\tvalid's QWK: 0.743117\n",
      "[400]\ttrain's QWK: 0.731547\tvalid's QWK: 0.744316\n",
      "[425]\ttrain's QWK: 0.733032\tvalid's QWK: 0.745615\n",
      "[450]\ttrain's QWK: 0.733798\tvalid's QWK: 0.746553\n",
      "[475]\ttrain's QWK: 0.734678\tvalid's QWK: 0.747826\n",
      "[500]\ttrain's QWK: 0.736012\tvalid's QWK: 0.748163\n",
      "[525]\ttrain's QWK: 0.737585\tvalid's QWK: 0.748525\n",
      "[550]\ttrain's QWK: 0.738319\tvalid's QWK: 0.749848\n",
      "[575]\ttrain's QWK: 0.739226\tvalid's QWK: 0.750268\n",
      "[600]\ttrain's QWK: 0.73969\tvalid's QWK: 0.750803\n",
      "[625]\ttrain's QWK: 0.740456\tvalid's QWK: 0.751693\n",
      "[650]\ttrain's QWK: 0.742289\tvalid's QWK: 0.752332\n",
      "[675]\ttrain's QWK: 0.743443\tvalid's QWK: 0.752759\n",
      "[700]\ttrain's QWK: 0.744213\tvalid's QWK: 0.75332\n",
      "Did not meet early stopping. Best iteration is:\n",
      "[699]\ttrain's QWK: 0.744107\tvalid's QWK: 0.75332\n",
      "Evaluated only: QWK\n",
      "[LightGBM] [Info] Using self-defined objective function\n",
      "Training until validation scores don't improve for 75 rounds\n",
      "[25]\ttrain's QWK: 0.172142\tvalid's QWK: 0\n",
      "[50]\ttrain's QWK: 0.586292\tvalid's QWK: 0.439559\n",
      "[75]\ttrain's QWK: 0.642133\tvalid's QWK: 0.449172\n",
      "[100]\ttrain's QWK: 0.672762\tvalid's QWK: 0.457054\n",
      "[125]\ttrain's QWK: 0.695202\tvalid's QWK: 0.449786\n",
      "[150]\ttrain's QWK: 0.703846\tvalid's QWK: 0.443252\n",
      "Early stopping, best iteration is:\n",
      "[92]\ttrain's QWK: 0.664723\tvalid's QWK: 0.457888\n",
      "Evaluated only: QWK\n"
     ]
    },
    {
     "name": "stderr",
     "output_type": "stream",
     "text": [
      "/media/ishfar/New Volume/Studies/Projects/Kaggle-Automated-Essay-Scoring/lib/criterion/metrics.py:34: RuntimeWarning: invalid value encountered in scalar divide\n",
      "  precision = tp / (tp + fp)\n",
      "/media/ishfar/New Volume/Studies/Projects/Kaggle-Automated-Essay-Scoring/lib/criterion/metrics.py:35: RuntimeWarning: invalid value encountered in scalar divide\n",
      "  recall = tp / (tp + fn)\n"
     ]
    },
    {
     "name": "stdout",
     "output_type": "stream",
     "text": [
      "[LightGBM] [Info] Using self-defined objective function\n",
      "Training until validation scores don't improve for 75 rounds\n",
      "[25]\ttrain's QWK: 0.130334\tvalid's QWK: 0.124973\n",
      "[50]\ttrain's QWK: 0.582238\tvalid's QWK: 0.602511\n",
      "[75]\ttrain's QWK: 0.626185\tvalid's QWK: 0.660677\n",
      "[100]\ttrain's QWK: 0.661473\tvalid's QWK: 0.691191\n",
      "[125]\ttrain's QWK: 0.676679\tvalid's QWK: 0.711721\n",
      "[150]\ttrain's QWK: 0.687153\tvalid's QWK: 0.726237\n",
      "[175]\ttrain's QWK: 0.691748\tvalid's QWK: 0.735237\n",
      "[200]\ttrain's QWK: 0.698473\tvalid's QWK: 0.742264\n",
      "[225]\ttrain's QWK: 0.707891\tvalid's QWK: 0.746049\n",
      "[250]\ttrain's QWK: 0.710664\tvalid's QWK: 0.748353\n",
      "[275]\ttrain's QWK: 0.713065\tvalid's QWK: 0.752342\n",
      "[300]\ttrain's QWK: 0.71581\tvalid's QWK: 0.754529\n",
      "[325]\ttrain's QWK: 0.719164\tvalid's QWK: 0.755094\n",
      "[350]\ttrain's QWK: 0.720848\tvalid's QWK: 0.756667\n",
      "[375]\ttrain's QWK: 0.724184\tvalid's QWK: 0.757622\n",
      "[400]\ttrain's QWK: 0.726975\tvalid's QWK: 0.757946\n",
      "[425]\ttrain's QWK: 0.728634\tvalid's QWK: 0.758622\n",
      "[450]\ttrain's QWK: 0.730243\tvalid's QWK: 0.760854\n",
      "[475]\ttrain's QWK: 0.731219\tvalid's QWK: 0.762096\n",
      "[500]\ttrain's QWK: 0.732784\tvalid's QWK: 0.76215\n",
      "[525]\ttrain's QWK: 0.73391\tvalid's QWK: 0.761606\n",
      "[550]\ttrain's QWK: 0.735437\tvalid's QWK: 0.761115\n",
      "Early stopping, best iteration is:\n",
      "[482]\ttrain's QWK: 0.731837\tvalid's QWK: 0.762722\n",
      "Evaluated only: QWK\n",
      "[LightGBM] [Info] Using self-defined objective function\n",
      "Training until validation scores don't improve for 75 rounds\n",
      "[25]\ttrain's QWK: 0.151705\tvalid's QWK: 0.0594977\n",
      "[50]\ttrain's QWK: 0.586985\tvalid's QWK: 0.55882\n",
      "[75]\ttrain's QWK: 0.634994\tvalid's QWK: 0.61861\n",
      "[100]\ttrain's QWK: 0.6698\tvalid's QWK: 0.643533\n",
      "[125]\ttrain's QWK: 0.689206\tvalid's QWK: 0.665271\n",
      "[150]\ttrain's QWK: 0.699263\tvalid's QWK: 0.674211\n",
      "[175]\ttrain's QWK: 0.704643\tvalid's QWK: 0.68469\n",
      "[200]\ttrain's QWK: 0.708301\tvalid's QWK: 0.689988\n",
      "[225]\ttrain's QWK: 0.7156\tvalid's QWK: 0.701828\n",
      "[250]\ttrain's QWK: 0.719522\tvalid's QWK: 0.704629\n",
      "[275]\ttrain's QWK: 0.721815\tvalid's QWK: 0.708538\n",
      "[300]\ttrain's QWK: 0.724082\tvalid's QWK: 0.710952\n",
      "[325]\ttrain's QWK: 0.727095\tvalid's QWK: 0.712047\n",
      "[350]\ttrain's QWK: 0.729604\tvalid's QWK: 0.712849\n",
      "[375]\ttrain's QWK: 0.732316\tvalid's QWK: 0.71433\n",
      "[400]\ttrain's QWK: 0.734741\tvalid's QWK: 0.714773\n",
      "[425]\ttrain's QWK: 0.737323\tvalid's QWK: 0.715975\n",
      "[450]\ttrain's QWK: 0.738656\tvalid's QWK: 0.716903\n",
      "[475]\ttrain's QWK: 0.740265\tvalid's QWK: 0.715629\n",
      "[500]\ttrain's QWK: 0.741803\tvalid's QWK: 0.716297\n",
      "[525]\ttrain's QWK: 0.743035\tvalid's QWK: 0.71601\n",
      "Early stopping, best iteration is:\n",
      "[469]\ttrain's QWK: 0.739708\tvalid's QWK: 0.717376\n",
      "Evaluated only: QWK\n",
      "[LightGBM] [Info] Using self-defined objective function\n",
      "Training until validation scores don't improve for 75 rounds\n",
      "[25]\ttrain's QWK: 0.1236\tvalid's QWK: 0.160302\n",
      "[50]\ttrain's QWK: 0.590305\tvalid's QWK: 0.5191\n",
      "[75]\ttrain's QWK: 0.645785\tvalid's QWK: 0.577968\n",
      "[100]\ttrain's QWK: 0.669799\tvalid's QWK: 0.613278\n",
      "[125]\ttrain's QWK: 0.691895\tvalid's QWK: 0.64219\n",
      "[150]\ttrain's QWK: 0.700821\tvalid's QWK: 0.654602\n",
      "[175]\ttrain's QWK: 0.708675\tvalid's QWK: 0.660032\n",
      "[200]\ttrain's QWK: 0.71415\tvalid's QWK: 0.66675\n",
      "[225]\ttrain's QWK: 0.72013\tvalid's QWK: 0.671014\n",
      "[250]\ttrain's QWK: 0.725847\tvalid's QWK: 0.674008\n",
      "[275]\ttrain's QWK: 0.728986\tvalid's QWK: 0.677055\n",
      "[300]\ttrain's QWK: 0.730845\tvalid's QWK: 0.677826\n",
      "[325]\ttrain's QWK: 0.732766\tvalid's QWK: 0.680134\n",
      "[350]\ttrain's QWK: 0.73491\tvalid's QWK: 0.681615\n",
      "[375]\ttrain's QWK: 0.736609\tvalid's QWK: 0.68328\n",
      "[400]\ttrain's QWK: 0.737822\tvalid's QWK: 0.68445\n",
      "[425]\ttrain's QWK: 0.73919\tvalid's QWK: 0.687004\n",
      "[450]\ttrain's QWK: 0.740854\tvalid's QWK: 0.689418\n",
      "[475]\ttrain's QWK: 0.74226\tvalid's QWK: 0.688403\n",
      "[500]\ttrain's QWK: 0.743612\tvalid's QWK: 0.690643\n",
      "[525]\ttrain's QWK: 0.745438\tvalid's QWK: 0.692037\n",
      "[550]\ttrain's QWK: 0.746516\tvalid's QWK: 0.694117\n",
      "[575]\ttrain's QWK: 0.747802\tvalid's QWK: 0.694065\n",
      "[600]\ttrain's QWK: 0.749159\tvalid's QWK: 0.695343\n",
      "[625]\ttrain's QWK: 0.750518\tvalid's QWK: 0.697161\n",
      "[650]\ttrain's QWK: 0.751733\tvalid's QWK: 0.696314\n",
      "[675]\ttrain's QWK: 0.753247\tvalid's QWK: 0.697471\n",
      "[700]\ttrain's QWK: 0.75381\tvalid's QWK: 0.696748\n",
      "Did not meet early stopping. Best iteration is:\n",
      "[663]\ttrain's QWK: 0.752058\tvalid's QWK: 0.697774\n",
      "Evaluated only: QWK\n"
     ]
    }
   ],
   "source": [
    "oof_df = pd.DataFrame()\n",
    "\n",
    "for idx, (train_idx, valid_idx) in enumerate(skf.split(X, y, groups=topic)):\n",
    "    X_train, y_train = X.loc[train_idx], y.loc[train_idx]\n",
    "    X_valid, y_valid = X.loc[valid_idx], y.loc[valid_idx]\n",
    "    id_valid = ids.loc[valid_idx].to_numpy()\n",
    "\n",
    "    model, predictor = train_loop(X_train, y_train, X_valid, y_valid)\n",
    "\n",
    "    with open(f\"output/LGBM/{idx}.pkl\", \"wb\") as file:\n",
    "        pkl.dump({\"predictor\": predictor, \"model\": model}, file)\n",
    "\n",
    "    oof = validate_model(idx, X_valid, y_valid, id_valid, predictor)\n",
    "    oof_df = pd.concat([oof_df, oof])"
   ]
  },
  {
   "cell_type": "code",
   "execution_count": 14,
   "metadata": {},
   "outputs": [
    {
     "name": "stdout",
     "output_type": "stream",
     "text": [
      "Overall Score: 0.7224\n"
     ]
    }
   ],
   "source": [
    "score = get_score(oof_df[\"score\"], oof_df[\"pred_score\"])\n",
    "print(f'Overall Score: {score:<.4f}')\n",
    "wandb.log({\"CV/qwk_score\": score})"
   ]
  },
  {
   "cell_type": "code",
   "execution_count": 15,
   "metadata": {},
   "outputs": [],
   "source": [
    "wandb.log({\"oof_table\": wandb.Table(dataframe=oof_df)})"
   ]
  },
  {
   "cell_type": "code",
   "execution_count": 16,
   "metadata": {},
   "outputs": [],
   "source": [
    "oof_df.to_csv(\"output/oof.csv\", index=False)"
   ]
  },
  {
   "cell_type": "code",
   "execution_count": 17,
   "metadata": {},
   "outputs": [],
   "source": [
    "log_metrics(\n",
    "    pd.DataFrame(\n",
    "        {\n",
    "            \"score\": oof_df.score.to_numpy(),\n",
    "            \"pred_score\": oof_df.pred_score.to_numpy(),\n",
    "        }\n",
    "    ),\n",
    "    \"Overall\",\n",
    ")"
   ]
  },
  {
   "cell_type": "markdown",
   "metadata": {},
   "source": [
    "### Finding Optimal Thresholds"
   ]
  },
  {
   "cell_type": "code",
   "execution_count": 18,
   "metadata": {},
   "outputs": [],
   "source": [
    "best, threshold, xs, ys = find_thresholds(oof_df[\"score\"] + 1, oof_df[\"raw\"], steps=500)"
   ]
  },
  {
   "cell_type": "code",
   "execution_count": 19,
   "metadata": {},
   "outputs": [
    {
     "data": {
      "image/png": "[encoded data removed]",
      "text/plain": [
       "<Figure size 1500x300 with 5 Axes>"
      ]
     },
     "metadata": {},
     "output_type": "display_data"
    }
   ],
   "source": [
    "diff = 0.5\n",
    "nrows, ncols = 1, 5  # Define grid for 5 subplots (1 row, 5 columns)\n",
    "\n",
    "fig, axes = plt.subplots(nrows, ncols, figsize=(15, 3))  # Create figure and subplots\n",
    "\n",
    "# Loop through data and plot on each subplot\n",
    "for k in range(5):\n",
    "    ax = axes.flat[k]  # Access each subplot using flattened axes\n",
    "    ax.scatter(xs[k], ys[k], s=3)\n",
    "    m = k + 1.5\n",
    "    ax.set_xlim((m - diff, m + diff))\n",
    "    i = np.where((np.array(xs[k]) > m - diff) & (np.array(xs[k]) < m + diff))[0]\n",
    "    mn = np.min(np.array(ys[k])[i])\n",
    "    mx = np.max(np.array(ys[k])[i])\n",
    "    ax.set_ylim((mn, mx))\n",
    "\n",
    "    ax.plot(\n",
    "        [threshold[k], threshold[k]],\n",
    "        [mn, mx],\n",
    "        \"--\",\n",
    "        color=\"black\",\n",
    "        label=\"optimal threshold\",\n",
    "    )\n",
    "\n",
    "    ax.set_title(f\"Optimal Thresh: {threshold[k]:4.3f}\", size=12)  # Adjust title size\n",
    "    ax.set_xlabel(f\"Threshold between {k+1} and {k+2}\", size=10)\n",
    "    ax.set_ylabel(\"QWK CV score\", size=10)\n",
    "\n",
    "# Common legend for all subplots\n",
    "plt.suptitle(\"Optimal Thresholds\", size=12)\n",
    "plt.tight_layout()  # Adjust spacing between subplots\n",
    "plt.show()"
   ]
  },
  {
   "cell_type": "code",
   "execution_count": 20,
   "metadata": {},
   "outputs": [],
   "source": [
    "with open(\"output/LGBM/threshold.pkl\", \"wb\") as file:\n",
    "    pkl.dump(threshold, file)"
   ]
  },
  {
   "cell_type": "code",
   "execution_count": 21,
   "metadata": {},
   "outputs": [
    {
     "data": {
      "application/vnd.jupyter.widget-view+json": {
       "model_id": "161455e483b447b6bdb32cab1c530a7d",
       "version_major": 2,
       "version_minor": 0
      },
      "text/plain": [
       "VBox(children=(Label(value='7.175 MB of 7.175 MB uploaded\\r'), FloatProgress(value=1.0, max=1.0)))"
      ]
     },
     "metadata": {},
     "output_type": "display_data"
    },
    {
     "data": {
      "text/html": [
       "<style>\n",
       "    table.wandb td:nth-child(1) { padding: 0 10px; text-align: left ; width: auto;} td:nth-child(2) {text-align: left ; width: 100%}\n",
       "    .wandb-row { display: flex; flex-direction: row; flex-wrap: wrap; justify-content: flex-start; width: 100% }\n",
       "    .wandb-col { display: flex; flex-direction: column; flex-basis: 100%; flex: 1; padding: 10px; }\n",
       "    </style>\n",
       "<div class=\"wandb-row\"><div class=\"wandb-col\"><h3>Run history:</h3><br/><table class=\"wandb\"><tr><td>CV/qwk_score</td><td>▁</td></tr></table><br/></div><div class=\"wandb-col\"><h3>Run summary:</h3><br/><table class=\"wandb\"><tr><td>CV/qwk_score</td><td>0.72243</td></tr></table><br/></div></div>"
      ],
      "text/plain": [
       "<IPython.core.display.HTML object>"
      ]
     },
     "metadata": {},
     "output_type": "display_data"
    },
    {
     "data": {
      "text/html": [
       " View run <strong style=\"color:#cdcd00\">LGBM-ASE-16</strong> at: <a href='https://wandb.ai/laplacesdemon43/Kaggle_ASE_2.0/runs/bw80j5lp' target=\"_blank\">https://wandb.ai/laplacesdemon43/Kaggle_ASE_2.0/runs/bw80j5lp</a><br/> View project at: <a href='https://wandb.ai/laplacesdemon43/Kaggle_ASE_2.0' target=\"_blank\">https://wandb.ai/laplacesdemon43/Kaggle_ASE_2.0</a><br/>Synced 6 W&B file(s), 33 media file(s), 33 artifact file(s) and 1 other file(s)"
      ],
      "text/plain": [
       "<IPython.core.display.HTML object>"
      ]
     },
     "metadata": {},
     "output_type": "display_data"
    },
    {
     "data": {
      "text/html": [
       "Find logs at: <code>./wandb/run-20240610_122300-bw80j5lp/logs</code>"
      ],
      "text/plain": [
       "<IPython.core.display.HTML object>"
      ]
     },
     "metadata": {},
     "output_type": "display_data"
    }
   ],
   "source": [
    "wandb.finish()"
   ]
  }
 ],
 "metadata": {
  "kernelspec": {
   "display_name": "Python 3 (ipykernel)",
   "language": "python",
   "name": "python3"
  },
  "language_info": {
   "codemirror_mode": {
    "name": "ipython",
    "version": 3
   },
   "file_extension": ".py",
   "mimetype": "text/x-python",
   "name": "python",
   "nbconvert_exporter": "python",
   "pygments_lexer": "ipython3",
   "version": "3.11.8"
  }
 },
 "nbformat": 4,
 "nbformat_minor": 4
}
