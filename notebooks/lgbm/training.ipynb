{
 "cells": [
  {
   "cell_type": "markdown",
   "metadata": {},
   "source": [
    "# LGBM - Training\n",
    "\n",
    "Sources\n",
    "1. [LGBM & Deberta Explained by ZULQARNAIN ALI](https://www.kaggle.com/code/zulqarnainalipk/lgbm-deberta-explained)"
   ]
  },
  {
   "cell_type": "markdown",
   "metadata": {},
   "source": [
    "## Setup"
   ]
  },
  {
   "cell_type": "code",
   "execution_count": 1,
   "metadata": {},
   "outputs": [],
   "source": [
    "import os\n",
    "import pandas as pd\n",
    "import numpy as np\n",
    "from sklearn.metrics import cohen_kappa_score\n",
    "import lightgbm as lgb\n",
    "import pickle as pkl\n",
    "import wandb\n",
    "from lightgbm import log_evaluation, early_stopping\n",
    "from sklearn.metrics import cohen_kappa_score\n",
    "from sklearn.model_selection import StratifiedKFold"
   ]
  },
  {
   "cell_type": "code",
   "execution_count": 2,
   "metadata": {},
   "outputs": [],
   "source": [
    "os.chdir(\"../../\")"
   ]
  },
  {
   "cell_type": "code",
   "execution_count": 3,
   "metadata": {},
   "outputs": [],
   "source": [
    "from lib.config import config\n",
    "from lib.paths import Paths\n",
    "from lib.utils.utils import seed_everything\n",
    "from lib.criterion.metrics import log_metrics\n",
    "from lib.model.utils import quadratic_weighted_kappa, qwk_obj, get_score"
   ]
  },
  {
   "cell_type": "code",
   "execution_count": 4,
   "metadata": {},
   "outputs": [],
   "source": [
    "seed_everything()"
   ]
  },
  {
   "cell_type": "markdown",
   "metadata": {},
   "source": [
    "### Setting Up WandB"
   ]
  },
  {
   "cell_type": "code",
   "execution_count": 5,
   "metadata": {},
   "outputs": [],
   "source": [
    "WANDB_PROJECT = \"Kaggle_ASE_2.0\"\n",
    "WANDB_NAME = f\"LGBM-ASE-5\""
   ]
  },
  {
   "cell_type": "code",
   "execution_count": 6,
   "metadata": {},
   "outputs": [
    {
     "name": "stderr",
     "output_type": "stream",
     "text": [
      "Failed to detect the name of this notebook, you can set it manually with the WANDB_NOTEBOOK_NAME environment variable to enable code saving.\n",
      "\u001b[34m\u001b[1mwandb\u001b[0m: Currently logged in as: \u001b[33mshakleenishfar\u001b[0m (\u001b[33mlaplacesdemon43\u001b[0m). Use \u001b[1m`wandb login --relogin`\u001b[0m to force relogin\n",
      "\u001b[34m\u001b[1mwandb\u001b[0m: \u001b[33mWARNING\u001b[0m If you're specifying your api key in code, ensure this code is not shared publicly.\n",
      "\u001b[34m\u001b[1mwandb\u001b[0m: \u001b[33mWARNING\u001b[0m Consider setting the WANDB_API_KEY environment variable, or running `wandb login` from the command line.\n",
      "\u001b[34m\u001b[1mwandb\u001b[0m: Appending key for api.wandb.ai to your netrc file: /home/ishfar/.netrc\n"
     ]
    },
    {
     "data": {
      "text/html": [
       "wandb version 0.17.0 is available!  To upgrade, please run:\n",
       " $ pip install wandb --upgrade"
      ],
      "text/plain": [
       "<IPython.core.display.HTML object>"
      ]
     },
     "metadata": {},
     "output_type": "display_data"
    },
    {
     "data": {
      "text/html": [
       "Tracking run with wandb version 0.16.6"
      ],
      "text/plain": [
       "<IPython.core.display.HTML object>"
      ]
     },
     "metadata": {},
     "output_type": "display_data"
    },
    {
     "data": {
      "text/html": [
       "Run data is saved locally in <code>/media/ishfar/New Volume/Studies/Projects/Kaggle-Automated-Essay-Scoring/wandb/run-20240531_210155-dvl8vvm7</code>"
      ],
      "text/plain": [
       "<IPython.core.display.HTML object>"
      ]
     },
     "metadata": {},
     "output_type": "display_data"
    },
    {
     "data": {
      "text/html": [
       "Syncing run <strong><a href='https://wandb.ai/laplacesdemon43/Kaggle_ASE_2.0/runs/dvl8vvm7' target=\"_blank\">LGBM-ASE-5</a></strong> to <a href='https://wandb.ai/laplacesdemon43/Kaggle_ASE_2.0' target=\"_blank\">Weights & Biases</a> (<a href='https://wandb.me/run' target=\"_blank\">docs</a>)<br/>"
      ],
      "text/plain": [
       "<IPython.core.display.HTML object>"
      ]
     },
     "metadata": {},
     "output_type": "display_data"
    },
    {
     "data": {
      "text/html": [
       " View project at <a href='https://wandb.ai/laplacesdemon43/Kaggle_ASE_2.0' target=\"_blank\">https://wandb.ai/laplacesdemon43/Kaggle_ASE_2.0</a>"
      ],
      "text/plain": [
       "<IPython.core.display.HTML object>"
      ]
     },
     "metadata": {},
     "output_type": "display_data"
    },
    {
     "data": {
      "text/html": [
       " View run at <a href='https://wandb.ai/laplacesdemon43/Kaggle_ASE_2.0/runs/dvl8vvm7' target=\"_blank\">https://wandb.ai/laplacesdemon43/Kaggle_ASE_2.0/runs/dvl8vvm7</a>"
      ],
      "text/plain": [
       "<IPython.core.display.HTML object>"
      ]
     },
     "metadata": {},
     "output_type": "display_data"
    }
   ],
   "source": [
    "wandb.login(key=os.environ.get('WANDB_API_KEY'))\n",
    "wandb.init(\n",
    "    project=WANDB_PROJECT,\n",
    "    name=WANDB_NAME,\n",
    "    save_code=True,\n",
    "    job_type=\"train\",\n",
    "    config=config,\n",
    ")\n",
    "config = wandb.config"
   ]
  },
  {
   "cell_type": "markdown",
   "metadata": {},
   "source": [
    "## Model Training"
   ]
  },
  {
   "cell_type": "markdown",
   "metadata": {},
   "source": [
    "### Dataset Creation"
   ]
  },
  {
   "cell_type": "code",
   "execution_count": 7,
   "metadata": {},
   "outputs": [
    {
     "data": {
      "text/plain": [
       "(17307, 227)"
      ]
     },
     "execution_count": 7,
     "metadata": {},
     "output_type": "execute_result"
    }
   ],
   "source": [
    "df = pd.read_csv(Paths.FEATURE_ENGG_CSV_PATH)\n",
    "df.shape"
   ]
  },
  {
   "cell_type": "code",
   "execution_count": 8,
   "metadata": {},
   "outputs": [
    {
     "data": {
      "text/plain": [
       "((17307, 225), (17307,))"
      ]
     },
     "execution_count": 8,
     "metadata": {},
     "output_type": "execute_result"
    }
   ],
   "source": [
    "ids = df.loc[:, \"essay_id\"]\n",
    "X, y = df.drop(columns=[\"score\", \"essay_id\"]), df.loc[:, \"score\"]\n",
    "del df\n",
    "\n",
    "X.shape, y.shape"
   ]
  },
  {
   "cell_type": "markdown",
   "metadata": {},
   "source": [
    "### Callbacks"
   ]
  },
  {
   "cell_type": "code",
   "execution_count": 9,
   "metadata": {},
   "outputs": [],
   "source": [
    "callbacks = [\n",
    "    log_evaluation(period=25),\n",
    "    early_stopping(stopping_rounds=75, first_metric_only=True),\n",
    "]"
   ]
  },
  {
   "cell_type": "markdown",
   "metadata": {},
   "source": [
    "### Constants"
   ]
  },
  {
   "cell_type": "code",
   "execution_count": 10,
   "metadata": {},
   "outputs": [],
   "source": [
    "a = config.lgbm_a\n",
    "b = config.lgbm_b"
   ]
  },
  {
   "cell_type": "markdown",
   "metadata": {},
   "source": [
    "### Training Loop"
   ]
  },
  {
   "cell_type": "code",
   "execution_count": 11,
   "metadata": {},
   "outputs": [],
   "source": [
    "def train_loop(X_train, y_train, X_valid, y_valid):\n",
    "    y_train = y_train.astype(np.float32) - a\n",
    "    y_valid = y_valid.astype(np.float32) - a\n",
    "\n",
    "    model = lgb.LGBMRegressor(\n",
    "        objective=qwk_obj,\n",
    "        metrics=\"None\",\n",
    "        learning_rate=0.01,\n",
    "        max_depth=5,\n",
    "        num_leaves=10,\n",
    "        colsample_bytree=0.3,\n",
    "        reg_alpha=0.7,\n",
    "        reg_lambda=0.1,\n",
    "        n_estimators=700,\n",
    "        random_state=config.random_seed,\n",
    "        extra_trees=True,\n",
    "        class_weight=\"balanced\",\n",
    "        n_jobs=6,\n",
    "        verbosity=0,\n",
    "    )\n",
    "\n",
    "    # Train model\n",
    "    predictor = model.fit(\n",
    "        X_train,\n",
    "        y_train,\n",
    "        eval_names=[\"train\", \"valid\"],\n",
    "        eval_set=[(X_train, y_train), (X_valid, y_valid)],\n",
    "        eval_metric=quadratic_weighted_kappa,\n",
    "        callbacks=callbacks,\n",
    "    )\n",
    "\n",
    "    return model, predictor"
   ]
  },
  {
   "cell_type": "code",
   "execution_count": 12,
   "metadata": {},
   "outputs": [],
   "source": [
    "def validate_model(idx, X_valid, y_valid, id_valid, predictor):\n",
    "    y_valid_int = y_valid.astype(np.int64).to_numpy()\n",
    "    preds = predictor.predict(X_valid) + a\n",
    "    preds = preds.clip(1, 6).round().astype(np.int64)\n",
    "\n",
    "    oof = pd.DataFrame(\n",
    "        {\n",
    "            \"essay_id\": id_valid,\n",
    "            \"score\": y_valid_int - 1,\n",
    "            \"pred_score\": preds - 1,\n",
    "        }\n",
    "    )\n",
    "    log_metrics(oof, f\"Fold {idx}\")\n",
    "\n",
    "    return oof"
   ]
  },
  {
   "cell_type": "markdown",
   "metadata": {},
   "source": [
    "### Fold Loop"
   ]
  },
  {
   "cell_type": "code",
   "execution_count": 13,
   "metadata": {},
   "outputs": [],
   "source": [
    "skf = StratifiedKFold(\n",
    "    n_splits=config.lgbm_n_folds,\n",
    "    random_state=config.random_seed,\n",
    "    shuffle=True,\n",
    ")"
   ]
  },
  {
   "cell_type": "code",
   "execution_count": 14,
   "metadata": {},
   "outputs": [
    {
     "name": "stdout",
     "output_type": "stream",
     "text": [
      "[LightGBM] [Info] Using self-defined objective function\n",
      "Training until validation scores don't improve for 75 rounds\n",
      "[25]\ttrain's QWK: 0.44333\tvalid's QWK: 0.479699\n",
      "[50]\ttrain's QWK: 0.738785\tvalid's QWK: 0.760142\n",
      "[75]\ttrain's QWK: 0.800421\tvalid's QWK: 0.808415\n",
      "[100]\ttrain's QWK: 0.834861\tvalid's QWK: 0.844335\n",
      "[125]\ttrain's QWK: 0.857947\tvalid's QWK: 0.867896\n",
      "[150]\ttrain's QWK: 0.868671\tvalid's QWK: 0.876124\n",
      "[175]\ttrain's QWK: 0.873605\tvalid's QWK: 0.879976\n",
      "[200]\ttrain's QWK: 0.876336\tvalid's QWK: 0.884111\n",
      "[225]\ttrain's QWK: 0.879833\tvalid's QWK: 0.885599\n",
      "[250]\ttrain's QWK: 0.881905\tvalid's QWK: 0.891194\n",
      "[275]\ttrain's QWK: 0.882888\tvalid's QWK: 0.892075\n",
      "[300]\ttrain's QWK: 0.883589\tvalid's QWK: 0.893984\n",
      "[325]\ttrain's QWK: 0.884275\tvalid's QWK: 0.895287\n",
      "[350]\ttrain's QWK: 0.884951\tvalid's QWK: 0.895394\n",
      "[375]\ttrain's QWK: 0.885683\tvalid's QWK: 0.894936\n",
      "[400]\ttrain's QWK: 0.886069\tvalid's QWK: 0.894922\n",
      "[425]\ttrain's QWK: 0.886455\tvalid's QWK: 0.895791\n",
      "[450]\ttrain's QWK: 0.886732\tvalid's QWK: 0.896521\n",
      "[475]\ttrain's QWK: 0.88712\tvalid's QWK: 0.897652\n",
      "[500]\ttrain's QWK: 0.887317\tvalid's QWK: 0.898824\n",
      "[525]\ttrain's QWK: 0.887741\tvalid's QWK: 0.899418\n",
      "[550]\ttrain's QWK: 0.888051\tvalid's QWK: 0.899273\n",
      "[575]\ttrain's QWK: 0.888177\tvalid's QWK: 0.899259\n",
      "[600]\ttrain's QWK: 0.888326\tvalid's QWK: 0.899841\n",
      "[625]\ttrain's QWK: 0.888575\tvalid's QWK: 0.899841\n",
      "[650]\ttrain's QWK: 0.888959\tvalid's QWK: 0.900827\n",
      "[675]\ttrain's QWK: 0.8893\tvalid's QWK: 0.900116\n",
      "[700]\ttrain's QWK: 0.889515\tvalid's QWK: 0.90084\n",
      "Did not meet early stopping. Best iteration is:\n",
      "[684]\ttrain's QWK: 0.889393\tvalid's QWK: 0.90084\n",
      "Evaluated only: QWK\n",
      "[LightGBM] [Info] Using self-defined objective function\n",
      "Training until validation scores don't improve for 75 rounds\n",
      "[25]\ttrain's QWK: 0.446561\tvalid's QWK: 0.425143\n",
      "[50]\ttrain's QWK: 0.735662\tvalid's QWK: 0.731965\n",
      "[75]\ttrain's QWK: 0.800374\tvalid's QWK: 0.787175\n",
      "[100]\ttrain's QWK: 0.839954\tvalid's QWK: 0.839647\n",
      "[125]\ttrain's QWK: 0.860705\tvalid's QWK: 0.857225\n",
      "[150]\ttrain's QWK: 0.869765\tvalid's QWK: 0.866324\n",
      "[175]\ttrain's QWK: 0.873958\tvalid's QWK: 0.87337\n",
      "[200]\ttrain's QWK: 0.876385\tvalid's QWK: 0.874167\n",
      "[225]\ttrain's QWK: 0.878869\tvalid's QWK: 0.873109\n",
      "[250]\ttrain's QWK: 0.880804\tvalid's QWK: 0.876667\n",
      "[275]\ttrain's QWK: 0.883115\tvalid's QWK: 0.880997\n",
      "[300]\ttrain's QWK: 0.8839\tvalid's QWK: 0.882642\n",
      "[325]\ttrain's QWK: 0.884916\tvalid's QWK: 0.884293\n",
      "[350]\ttrain's QWK: 0.885396\tvalid's QWK: 0.885185\n",
      "[375]\ttrain's QWK: 0.886064\tvalid's QWK: 0.884467\n",
      "[400]\ttrain's QWK: 0.886306\tvalid's QWK: 0.884925\n",
      "[425]\ttrain's QWK: 0.886909\tvalid's QWK: 0.884333\n",
      "[450]\ttrain's QWK: 0.887352\tvalid's QWK: 0.885806\n",
      "[475]\ttrain's QWK: 0.887749\tvalid's QWK: 0.884063\n",
      "[500]\ttrain's QWK: 0.887825\tvalid's QWK: 0.883069\n",
      "Early stopping, best iteration is:\n",
      "[438]\ttrain's QWK: 0.886946\tvalid's QWK: 0.885806\n",
      "Evaluated only: QWK\n",
      "[LightGBM] [Info] Using self-defined objective function\n",
      "Training until validation scores don't improve for 75 rounds\n",
      "[25]\ttrain's QWK: 0.447241\tvalid's QWK: 0.4626\n",
      "[50]\ttrain's QWK: 0.742657\tvalid's QWK: 0.748189\n",
      "[75]\ttrain's QWK: 0.801622\tvalid's QWK: 0.815614\n",
      "[100]\ttrain's QWK: 0.837104\tvalid's QWK: 0.851884\n",
      "[125]\ttrain's QWK: 0.858589\tvalid's QWK: 0.87552\n",
      "[150]\ttrain's QWK: 0.8681\tvalid's QWK: 0.882409\n",
      "[175]\ttrain's QWK: 0.873211\tvalid's QWK: 0.887304\n",
      "[200]\ttrain's QWK: 0.876953\tvalid's QWK: 0.885562\n",
      "[225]\ttrain's QWK: 0.878842\tvalid's QWK: 0.88891\n",
      "[250]\ttrain's QWK: 0.880739\tvalid's QWK: 0.889943\n",
      "[275]\ttrain's QWK: 0.882312\tvalid's QWK: 0.895263\n",
      "[300]\ttrain's QWK: 0.882996\tvalid's QWK: 0.896793\n",
      "[325]\ttrain's QWK: 0.88367\tvalid's QWK: 0.897774\n",
      "[350]\ttrain's QWK: 0.884688\tvalid's QWK: 0.898037\n",
      "[375]\ttrain's QWK: 0.885501\tvalid's QWK: 0.897586\n",
      "[400]\ttrain's QWK: 0.885933\tvalid's QWK: 0.898414\n",
      "[425]\ttrain's QWK: 0.886512\tvalid's QWK: 0.897964\n",
      "[450]\ttrain's QWK: 0.886764\tvalid's QWK: 0.897213\n",
      "Early stopping, best iteration is:\n",
      "[389]\ttrain's QWK: 0.885692\tvalid's QWK: 0.898866\n",
      "Evaluated only: QWK\n",
      "[LightGBM] [Info] Using self-defined objective function\n",
      "Training until validation scores don't improve for 75 rounds\n",
      "[25]\ttrain's QWK: 0.442049\tvalid's QWK: 0.426516\n",
      "[50]\ttrain's QWK: 0.743716\tvalid's QWK: 0.721322\n",
      "[75]\ttrain's QWK: 0.801105\tvalid's QWK: 0.791119\n",
      "[100]\ttrain's QWK: 0.841069\tvalid's QWK: 0.814463\n",
      "[125]\ttrain's QWK: 0.860751\tvalid's QWK: 0.849911\n",
      "[150]\ttrain's QWK: 0.869835\tvalid's QWK: 0.858517\n",
      "[175]\ttrain's QWK: 0.87508\tvalid's QWK: 0.858296\n",
      "[200]\ttrain's QWK: 0.877175\tvalid's QWK: 0.864219\n",
      "[225]\ttrain's QWK: 0.879641\tvalid's QWK: 0.866747\n",
      "[250]\ttrain's QWK: 0.882022\tvalid's QWK: 0.869245\n",
      "[275]\ttrain's QWK: 0.883344\tvalid's QWK: 0.871499\n",
      "[300]\ttrain's QWK: 0.884267\tvalid's QWK: 0.872463\n",
      "[325]\ttrain's QWK: 0.885186\tvalid's QWK: 0.871871\n",
      "[350]\ttrain's QWK: 0.885592\tvalid's QWK: 0.871633\n",
      "[375]\ttrain's QWK: 0.88593\tvalid's QWK: 0.874551\n",
      "[400]\ttrain's QWK: 0.886657\tvalid's QWK: 0.874551\n",
      "[425]\ttrain's QWK: 0.887098\tvalid's QWK: 0.876447\n",
      "[450]\ttrain's QWK: 0.887425\tvalid's QWK: 0.879229\n",
      "[475]\ttrain's QWK: 0.887739\tvalid's QWK: 0.878311\n",
      "[500]\ttrain's QWK: 0.888083\tvalid's QWK: 0.878311\n",
      "[525]\ttrain's QWK: 0.888388\tvalid's QWK: 0.879081\n",
      "[550]\ttrain's QWK: 0.888713\tvalid's QWK: 0.879081\n",
      "[575]\ttrain's QWK: 0.888919\tvalid's QWK: 0.880176\n",
      "[600]\ttrain's QWK: 0.889004\tvalid's QWK: 0.879751\n",
      "[625]\ttrain's QWK: 0.889273\tvalid's QWK: 0.879149\n",
      "Early stopping, best iteration is:\n",
      "[555]\ttrain's QWK: 0.888772\tvalid's QWK: 0.880176\n",
      "Evaluated only: QWK\n",
      "[LightGBM] [Info] Using self-defined objective function\n",
      "Training until validation scores don't improve for 75 rounds\n",
      "[25]\ttrain's QWK: 0.438707\tvalid's QWK: 0.452915\n",
      "[50]\ttrain's QWK: 0.737736\tvalid's QWK: 0.742284\n",
      "[75]\ttrain's QWK: 0.801346\tvalid's QWK: 0.807574\n",
      "[100]\ttrain's QWK: 0.842141\tvalid's QWK: 0.844168\n",
      "[125]\ttrain's QWK: 0.862009\tvalid's QWK: 0.866316\n",
      "[150]\ttrain's QWK: 0.870795\tvalid's QWK: 0.870788\n",
      "[175]\ttrain's QWK: 0.875077\tvalid's QWK: 0.874504\n",
      "[200]\ttrain's QWK: 0.877418\tvalid's QWK: 0.875023\n",
      "[225]\ttrain's QWK: 0.879183\tvalid's QWK: 0.874947\n",
      "[250]\ttrain's QWK: 0.881204\tvalid's QWK: 0.876409\n",
      "[275]\ttrain's QWK: 0.882998\tvalid's QWK: 0.877419\n",
      "[300]\ttrain's QWK: 0.884048\tvalid's QWK: 0.879244\n",
      "[325]\ttrain's QWK: 0.885229\tvalid's QWK: 0.88125\n",
      "[350]\ttrain's QWK: 0.885985\tvalid's QWK: 0.884179\n",
      "[375]\ttrain's QWK: 0.88653\tvalid's QWK: 0.88366\n",
      "[400]\ttrain's QWK: 0.886745\tvalid's QWK: 0.885236\n",
      "[425]\ttrain's QWK: 0.887077\tvalid's QWK: 0.886103\n",
      "[450]\ttrain's QWK: 0.887499\tvalid's QWK: 0.886673\n",
      "[475]\ttrain's QWK: 0.887944\tvalid's QWK: 0.887114\n",
      "[500]\ttrain's QWK: 0.8884\tvalid's QWK: 0.886678\n",
      "[525]\ttrain's QWK: 0.888777\tvalid's QWK: 0.885801\n",
      "Early stopping, best iteration is:\n",
      "[467]\ttrain's QWK: 0.887767\tvalid's QWK: 0.887697\n",
      "Evaluated only: QWK\n",
      "[LightGBM] [Info] Using self-defined objective function\n",
      "Training until validation scores don't improve for 75 rounds\n",
      "[25]\ttrain's QWK: 0.432678\tvalid's QWK: 0.408157\n",
      "[50]\ttrain's QWK: 0.740114\tvalid's QWK: 0.718997\n",
      "[75]\ttrain's QWK: 0.802416\tvalid's QWK: 0.795621\n",
      "[100]\ttrain's QWK: 0.839332\tvalid's QWK: 0.827436\n",
      "[125]\ttrain's QWK: 0.859523\tvalid's QWK: 0.839614\n",
      "[150]\ttrain's QWK: 0.869549\tvalid's QWK: 0.854451\n",
      "[175]\ttrain's QWK: 0.87474\tvalid's QWK: 0.858336\n",
      "[200]\ttrain's QWK: 0.877313\tvalid's QWK: 0.857707\n",
      "[225]\ttrain's QWK: 0.879969\tvalid's QWK: 0.860329\n",
      "[250]\ttrain's QWK: 0.882269\tvalid's QWK: 0.860298\n",
      "[275]\ttrain's QWK: 0.883348\tvalid's QWK: 0.863456\n",
      "[300]\ttrain's QWK: 0.884661\tvalid's QWK: 0.865111\n",
      "[325]\ttrain's QWK: 0.885075\tvalid's QWK: 0.869121\n",
      "[350]\ttrain's QWK: 0.885976\tvalid's QWK: 0.869297\n",
      "[375]\ttrain's QWK: 0.886565\tvalid's QWK: 0.869823\n",
      "[400]\ttrain's QWK: 0.886849\tvalid's QWK: 0.871183\n",
      "[425]\ttrain's QWK: 0.887299\tvalid's QWK: 0.871948\n",
      "[450]\ttrain's QWK: 0.887656\tvalid's QWK: 0.873476\n",
      "[475]\ttrain's QWK: 0.88792\tvalid's QWK: 0.872154\n",
      "[500]\ttrain's QWK: 0.888215\tvalid's QWK: 0.873257\n",
      "[525]\ttrain's QWK: 0.888482\tvalid's QWK: 0.873831\n",
      "[550]\ttrain's QWK: 0.889166\tvalid's QWK: 0.872496\n",
      "[575]\ttrain's QWK: 0.889324\tvalid's QWK: 0.871751\n",
      "Early stopping, best iteration is:\n",
      "[506]\ttrain's QWK: 0.888409\tvalid's QWK: 0.873831\n",
      "Evaluated only: QWK\n",
      "[LightGBM] [Info] Using self-defined objective function\n",
      "Training until validation scores don't improve for 75 rounds\n",
      "[25]\ttrain's QWK: 0.44927\tvalid's QWK: 0.43002\n",
      "[50]\ttrain's QWK: 0.740107\tvalid's QWK: 0.733246\n",
      "[75]\ttrain's QWK: 0.797442\tvalid's QWK: 0.785969\n",
      "[100]\ttrain's QWK: 0.838071\tvalid's QWK: 0.840427\n",
      "[125]\ttrain's QWK: 0.859466\tvalid's QWK: 0.859815\n",
      "[150]\ttrain's QWK: 0.868576\tvalid's QWK: 0.869302\n",
      "[175]\ttrain's QWK: 0.874486\tvalid's QWK: 0.878903\n",
      "[200]\ttrain's QWK: 0.876894\tvalid's QWK: 0.882011\n",
      "[225]\ttrain's QWK: 0.878881\tvalid's QWK: 0.879746\n",
      "[250]\ttrain's QWK: 0.881079\tvalid's QWK: 0.880588\n",
      "[275]\ttrain's QWK: 0.882612\tvalid's QWK: 0.881709\n",
      "Early stopping, best iteration is:\n",
      "[204]\ttrain's QWK: 0.87723\tvalid's QWK: 0.884839\n",
      "Evaluated only: QWK\n"
     ]
    },
    {
     "name": "stderr",
     "output_type": "stream",
     "text": [
      "/media/ishfar/New Volume/Studies/Projects/Kaggle-Automated-Essay-Scoring/lib/criterion/metrics.py:34: RuntimeWarning: invalid value encountered in scalar divide\n",
      "  precision = tp / (tp + fp)\n"
     ]
    },
    {
     "name": "stdout",
     "output_type": "stream",
     "text": [
      "[LightGBM] [Info] Using self-defined objective function\n",
      "Training until validation scores don't improve for 75 rounds\n",
      "[25]\ttrain's QWK: 0.469111\tvalid's QWK: 0.443412\n",
      "[50]\ttrain's QWK: 0.73839\tvalid's QWK: 0.72402\n",
      "[75]\ttrain's QWK: 0.794314\tvalid's QWK: 0.781048\n",
      "[100]\ttrain's QWK: 0.837703\tvalid's QWK: 0.825309\n",
      "[125]\ttrain's QWK: 0.859763\tvalid's QWK: 0.843257\n",
      "[150]\ttrain's QWK: 0.868086\tvalid's QWK: 0.852936\n",
      "[175]\ttrain's QWK: 0.872927\tvalid's QWK: 0.859017\n",
      "[200]\ttrain's QWK: 0.87591\tvalid's QWK: 0.859801\n",
      "[225]\ttrain's QWK: 0.878705\tvalid's QWK: 0.860792\n",
      "[250]\ttrain's QWK: 0.880296\tvalid's QWK: 0.864334\n",
      "[275]\ttrain's QWK: 0.881897\tvalid's QWK: 0.865291\n",
      "[300]\ttrain's QWK: 0.883218\tvalid's QWK: 0.86831\n",
      "[325]\ttrain's QWK: 0.884349\tvalid's QWK: 0.869801\n",
      "[350]\ttrain's QWK: 0.885126\tvalid's QWK: 0.869398\n",
      "[375]\ttrain's QWK: 0.88558\tvalid's QWK: 0.86842\n",
      "Early stopping, best iteration is:\n",
      "[301]\ttrain's QWK: 0.883363\tvalid's QWK: 0.87003\n",
      "Evaluated only: QWK\n",
      "[LightGBM] [Info] Using self-defined objective function\n",
      "Training until validation scores don't improve for 75 rounds\n",
      "[25]\ttrain's QWK: 0.445046\tvalid's QWK: 0.406916\n",
      "[50]\ttrain's QWK: 0.740311\tvalid's QWK: 0.736648\n",
      "[75]\ttrain's QWK: 0.797457\tvalid's QWK: 0.805372\n",
      "[100]\ttrain's QWK: 0.83935\tvalid's QWK: 0.826727\n",
      "[125]\ttrain's QWK: 0.861292\tvalid's QWK: 0.843275\n",
      "[150]\ttrain's QWK: 0.869016\tvalid's QWK: 0.864338\n",
      "[175]\ttrain's QWK: 0.873887\tvalid's QWK: 0.871357\n",
      "[200]\ttrain's QWK: 0.876371\tvalid's QWK: 0.872767\n",
      "[225]\ttrain's QWK: 0.878438\tvalid's QWK: 0.875325\n",
      "[250]\ttrain's QWK: 0.880909\tvalid's QWK: 0.877578\n",
      "[275]\ttrain's QWK: 0.882229\tvalid's QWK: 0.879315\n",
      "[300]\ttrain's QWK: 0.883633\tvalid's QWK: 0.880622\n",
      "[325]\ttrain's QWK: 0.884435\tvalid's QWK: 0.882303\n",
      "[350]\ttrain's QWK: 0.885091\tvalid's QWK: 0.882335\n",
      "[375]\ttrain's QWK: 0.885721\tvalid's QWK: 0.881882\n",
      "Early stopping, best iteration is:\n",
      "[317]\ttrain's QWK: 0.884212\tvalid's QWK: 0.882922\n",
      "Evaluated only: QWK\n",
      "[LightGBM] [Info] Using self-defined objective function\n",
      "Training until validation scores don't improve for 75 rounds\n",
      "[25]\ttrain's QWK: 0.445531\tvalid's QWK: 0.488326\n",
      "[50]\ttrain's QWK: 0.737987\tvalid's QWK: 0.741952\n",
      "[75]\ttrain's QWK: 0.803565\tvalid's QWK: 0.810371\n",
      "[100]\ttrain's QWK: 0.837352\tvalid's QWK: 0.855289\n",
      "[125]\ttrain's QWK: 0.859283\tvalid's QWK: 0.877167\n",
      "[150]\ttrain's QWK: 0.869033\tvalid's QWK: 0.884834\n",
      "[175]\ttrain's QWK: 0.872897\tvalid's QWK: 0.891319\n",
      "[200]\ttrain's QWK: 0.875374\tvalid's QWK: 0.892776\n",
      "[225]\ttrain's QWK: 0.878565\tvalid's QWK: 0.894539\n",
      "[250]\ttrain's QWK: 0.880985\tvalid's QWK: 0.897838\n",
      "[275]\ttrain's QWK: 0.882369\tvalid's QWK: 0.898249\n",
      "[300]\ttrain's QWK: 0.883129\tvalid's QWK: 0.898656\n",
      "[325]\ttrain's QWK: 0.883747\tvalid's QWK: 0.89859\n",
      "[350]\ttrain's QWK: 0.884633\tvalid's QWK: 0.898123\n",
      "[375]\ttrain's QWK: 0.885086\tvalid's QWK: 0.897644\n",
      "Early stopping, best iteration is:\n",
      "[303]\ttrain's QWK: 0.883245\tvalid's QWK: 0.899516\n",
      "Evaluated only: QWK\n",
      "[LightGBM] [Info] Using self-defined objective function\n",
      "Training until validation scores don't improve for 75 rounds\n",
      "[25]\ttrain's QWK: 0.450874\tvalid's QWK: 0.449122\n",
      "[50]\ttrain's QWK: 0.736796\tvalid's QWK: 0.744444\n",
      "[75]\ttrain's QWK: 0.799062\tvalid's QWK: 0.810067\n",
      "[100]\ttrain's QWK: 0.83748\tvalid's QWK: 0.840666\n",
      "[125]\ttrain's QWK: 0.858751\tvalid's QWK: 0.866673\n",
      "[150]\ttrain's QWK: 0.868651\tvalid's QWK: 0.875188\n",
      "[175]\ttrain's QWK: 0.873422\tvalid's QWK: 0.882693\n",
      "[200]\ttrain's QWK: 0.876165\tvalid's QWK: 0.884707\n",
      "[225]\ttrain's QWK: 0.878822\tvalid's QWK: 0.888035\n",
      "[250]\ttrain's QWK: 0.881062\tvalid's QWK: 0.889891\n",
      "[275]\ttrain's QWK: 0.882802\tvalid's QWK: 0.89049\n",
      "[300]\ttrain's QWK: 0.883751\tvalid's QWK: 0.891098\n",
      "[325]\ttrain's QWK: 0.884415\tvalid's QWK: 0.891261\n",
      "[350]\ttrain's QWK: 0.885235\tvalid's QWK: 0.891108\n",
      "[375]\ttrain's QWK: 0.885601\tvalid's QWK: 0.891108\n",
      "[400]\ttrain's QWK: 0.885939\tvalid's QWK: 0.890207\n",
      "[425]\ttrain's QWK: 0.886149\tvalid's QWK: 0.893774\n",
      "[450]\ttrain's QWK: 0.886769\tvalid's QWK: 0.89347\n",
      "[475]\ttrain's QWK: 0.887156\tvalid's QWK: 0.892123\n",
      "Early stopping, best iteration is:\n",
      "[422]\ttrain's QWK: 0.886216\tvalid's QWK: 0.893774\n",
      "Evaluated only: QWK\n",
      "[LightGBM] [Info] Using self-defined objective function\n",
      "Training until validation scores don't improve for 75 rounds\n",
      "[25]\ttrain's QWK: 0.449464\tvalid's QWK: 0.460135\n",
      "[50]\ttrain's QWK: 0.736154\tvalid's QWK: 0.739606\n",
      "[75]\ttrain's QWK: 0.796486\tvalid's QWK: 0.807962\n",
      "[100]\ttrain's QWK: 0.839959\tvalid's QWK: 0.842644\n",
      "[125]\ttrain's QWK: 0.860764\tvalid's QWK: 0.857908\n",
      "[150]\ttrain's QWK: 0.869132\tvalid's QWK: 0.869407\n",
      "[175]\ttrain's QWK: 0.873836\tvalid's QWK: 0.871264\n",
      "[200]\ttrain's QWK: 0.876518\tvalid's QWK: 0.876963\n",
      "[225]\ttrain's QWK: 0.87884\tvalid's QWK: 0.879974\n",
      "[250]\ttrain's QWK: 0.881286\tvalid's QWK: 0.882825\n",
      "[275]\ttrain's QWK: 0.882596\tvalid's QWK: 0.885358\n",
      "[300]\ttrain's QWK: 0.883513\tvalid's QWK: 0.886859\n",
      "[325]\ttrain's QWK: 0.884078\tvalid's QWK: 0.888656\n",
      "[350]\ttrain's QWK: 0.885204\tvalid's QWK: 0.887166\n",
      "[375]\ttrain's QWK: 0.885456\tvalid's QWK: 0.887166\n",
      "Early stopping, best iteration is:\n",
      "[309]\ttrain's QWK: 0.883787\tvalid's QWK: 0.888656\n",
      "Evaluated only: QWK\n",
      "[LightGBM] [Info] Using self-defined objective function\n",
      "Training until validation scores don't improve for 75 rounds\n",
      "[25]\ttrain's QWK: 0.457033\tvalid's QWK: 0.468526\n",
      "[50]\ttrain's QWK: 0.738941\tvalid's QWK: 0.75338\n",
      "[75]\ttrain's QWK: 0.797918\tvalid's QWK: 0.805794\n",
      "[100]\ttrain's QWK: 0.840486\tvalid's QWK: 0.841256\n",
      "[125]\ttrain's QWK: 0.85984\tvalid's QWK: 0.867273\n",
      "[150]\ttrain's QWK: 0.868061\tvalid's QWK: 0.876693\n",
      "[175]\ttrain's QWK: 0.873099\tvalid's QWK: 0.878532\n",
      "[200]\ttrain's QWK: 0.87564\tvalid's QWK: 0.87979\n",
      "[225]\ttrain's QWK: 0.878845\tvalid's QWK: 0.881617\n",
      "[250]\ttrain's QWK: 0.881138\tvalid's QWK: 0.880029\n",
      "[275]\ttrain's QWK: 0.882978\tvalid's QWK: 0.877743\n",
      "Early stopping, best iteration is:\n",
      "[223]\ttrain's QWK: 0.878494\tvalid's QWK: 0.882229\n",
      "Evaluated only: QWK\n",
      "[LightGBM] [Info] Using self-defined objective function\n",
      "Training until validation scores don't improve for 75 rounds\n",
      "[25]\ttrain's QWK: 0.445975\tvalid's QWK: 0.448644\n",
      "[50]\ttrain's QWK: 0.738989\tvalid's QWK: 0.708815\n",
      "[75]\ttrain's QWK: 0.799831\tvalid's QWK: 0.778914\n",
      "[100]\ttrain's QWK: 0.841267\tvalid's QWK: 0.81811\n",
      "[125]\ttrain's QWK: 0.860858\tvalid's QWK: 0.850559\n",
      "[150]\ttrain's QWK: 0.868976\tvalid's QWK: 0.8589\n",
      "[175]\ttrain's QWK: 0.873726\tvalid's QWK: 0.864339\n",
      "[200]\ttrain's QWK: 0.877017\tvalid's QWK: 0.86141\n",
      "[225]\ttrain's QWK: 0.880248\tvalid's QWK: 0.863738\n",
      "[250]\ttrain's QWK: 0.882004\tvalid's QWK: 0.865657\n",
      "[275]\ttrain's QWK: 0.883144\tvalid's QWK: 0.866186\n",
      "[300]\ttrain's QWK: 0.88443\tvalid's QWK: 0.86788\n",
      "[325]\ttrain's QWK: 0.885275\tvalid's QWK: 0.86788\n",
      "[350]\ttrain's QWK: 0.885908\tvalid's QWK: 0.867483\n",
      "Early stopping, best iteration is:\n",
      "[282]\ttrain's QWK: 0.883389\tvalid's QWK: 0.868297\n",
      "Evaluated only: QWK\n",
      "[LightGBM] [Info] Using self-defined objective function\n",
      "Training until validation scores don't improve for 75 rounds\n",
      "[25]\ttrain's QWK: 0.454889\tvalid's QWK: 0.46697\n",
      "[50]\ttrain's QWK: 0.738006\tvalid's QWK: 0.75417\n",
      "[75]\ttrain's QWK: 0.797919\tvalid's QWK: 0.803435\n",
      "[100]\ttrain's QWK: 0.838306\tvalid's QWK: 0.846827\n",
      "[125]\ttrain's QWK: 0.860733\tvalid's QWK: 0.868315\n",
      "[150]\ttrain's QWK: 0.869\tvalid's QWK: 0.875428\n",
      "[175]\ttrain's QWK: 0.874052\tvalid's QWK: 0.878467\n",
      "[200]\ttrain's QWK: 0.876962\tvalid's QWK: 0.883024\n",
      "[225]\ttrain's QWK: 0.878938\tvalid's QWK: 0.885191\n",
      "[250]\ttrain's QWK: 0.880452\tvalid's QWK: 0.885831\n",
      "[275]\ttrain's QWK: 0.882237\tvalid's QWK: 0.888993\n",
      "[300]\ttrain's QWK: 0.883165\tvalid's QWK: 0.890921\n",
      "[325]\ttrain's QWK: 0.883596\tvalid's QWK: 0.890452\n",
      "[350]\ttrain's QWK: 0.884029\tvalid's QWK: 0.890452\n",
      "[375]\ttrain's QWK: 0.884371\tvalid's QWK: 0.89134\n",
      "[400]\ttrain's QWK: 0.884946\tvalid's QWK: 0.891476\n",
      "[425]\ttrain's QWK: 0.88523\tvalid's QWK: 0.890882\n",
      "[450]\ttrain's QWK: 0.885909\tvalid's QWK: 0.890882\n",
      "Early stopping, best iteration is:\n",
      "[388]\ttrain's QWK: 0.884563\tvalid's QWK: 0.89177\n",
      "Evaluated only: QWK\n",
      "[LightGBM] [Info] Using self-defined objective function\n",
      "Training until validation scores don't improve for 75 rounds\n",
      "[25]\ttrain's QWK: 0.453581\tvalid's QWK: 0.451474\n",
      "[50]\ttrain's QWK: 0.739394\tvalid's QWK: 0.747365\n",
      "[75]\ttrain's QWK: 0.800686\tvalid's QWK: 0.811772\n",
      "[100]\ttrain's QWK: 0.83934\tvalid's QWK: 0.840899\n",
      "[125]\ttrain's QWK: 0.859504\tvalid's QWK: 0.867939\n",
      "[150]\ttrain's QWK: 0.868311\tvalid's QWK: 0.873813\n",
      "[175]\ttrain's QWK: 0.872923\tvalid's QWK: 0.877316\n",
      "[200]\ttrain's QWK: 0.875572\tvalid's QWK: 0.879239\n",
      "[225]\ttrain's QWK: 0.878883\tvalid's QWK: 0.879374\n",
      "[250]\ttrain's QWK: 0.880611\tvalid's QWK: 0.878348\n",
      "[275]\ttrain's QWK: 0.882365\tvalid's QWK: 0.879827\n",
      "[300]\ttrain's QWK: 0.883546\tvalid's QWK: 0.879027\n",
      "[325]\ttrain's QWK: 0.884255\tvalid's QWK: 0.880894\n",
      "[350]\ttrain's QWK: 0.884836\tvalid's QWK: 0.881788\n",
      "[375]\ttrain's QWK: 0.885336\tvalid's QWK: 0.882203\n",
      "[400]\ttrain's QWK: 0.885746\tvalid's QWK: 0.884686\n",
      "[425]\ttrain's QWK: 0.886113\tvalid's QWK: 0.884836\n",
      "[450]\ttrain's QWK: 0.886292\tvalid's QWK: 0.884253\n",
      "[475]\ttrain's QWK: 0.887074\tvalid's QWK: 0.884253\n",
      "Early stopping, best iteration is:\n",
      "[424]\ttrain's QWK: 0.886182\tvalid's QWK: 0.884836\n",
      "Evaluated only: QWK\n",
      "[LightGBM] [Info] Using self-defined objective function\n",
      "Training until validation scores don't improve for 75 rounds\n",
      "[25]\ttrain's QWK: 0.441252\tvalid's QWK: 0.468635\n",
      "[50]\ttrain's QWK: 0.738678\tvalid's QWK: 0.743307\n",
      "[75]\ttrain's QWK: 0.800109\tvalid's QWK: 0.803432\n",
      "[100]\ttrain's QWK: 0.838495\tvalid's QWK: 0.842649\n",
      "[125]\ttrain's QWK: 0.860474\tvalid's QWK: 0.864706\n",
      "[150]\ttrain's QWK: 0.8694\tvalid's QWK: 0.875613\n",
      "[175]\ttrain's QWK: 0.874339\tvalid's QWK: 0.875581\n",
      "[200]\ttrain's QWK: 0.877139\tvalid's QWK: 0.880244\n",
      "[225]\ttrain's QWK: 0.879242\tvalid's QWK: 0.877537\n",
      "[250]\ttrain's QWK: 0.881832\tvalid's QWK: 0.878299\n",
      "[275]\ttrain's QWK: 0.882815\tvalid's QWK: 0.878478\n",
      "[300]\ttrain's QWK: 0.883997\tvalid's QWK: 0.87937\n",
      "Early stopping, best iteration is:\n",
      "[246]\ttrain's QWK: 0.881472\tvalid's QWK: 0.880677\n",
      "Evaluated only: QWK\n"
     ]
    },
    {
     "name": "stderr",
     "output_type": "stream",
     "text": [
      "/media/ishfar/New Volume/Studies/Projects/Kaggle-Automated-Essay-Scoring/lib/criterion/metrics.py:34: RuntimeWarning: invalid value encountered in scalar divide\n",
      "  precision = tp / (tp + fp)\n"
     ]
    },
    {
     "name": "stdout",
     "output_type": "stream",
     "text": [
      "[LightGBM] [Info] Using self-defined objective function\n",
      "Training until validation scores don't improve for 75 rounds\n",
      "[25]\ttrain's QWK: 0.454242\tvalid's QWK: 0.448251\n",
      "[50]\ttrain's QWK: 0.735971\tvalid's QWK: 0.726406\n",
      "[75]\ttrain's QWK: 0.799402\tvalid's QWK: 0.796604\n",
      "[100]\ttrain's QWK: 0.840819\tvalid's QWK: 0.844221\n",
      "[125]\ttrain's QWK: 0.858957\tvalid's QWK: 0.866715\n",
      "[150]\ttrain's QWK: 0.867708\tvalid's QWK: 0.869663\n",
      "[175]\ttrain's QWK: 0.872182\tvalid's QWK: 0.870304\n",
      "[200]\ttrain's QWK: 0.875685\tvalid's QWK: 0.876495\n",
      "[225]\ttrain's QWK: 0.878181\tvalid's QWK: 0.878343\n",
      "[250]\ttrain's QWK: 0.880851\tvalid's QWK: 0.881417\n",
      "[275]\ttrain's QWK: 0.882048\tvalid's QWK: 0.883741\n",
      "[300]\ttrain's QWK: 0.883564\tvalid's QWK: 0.881814\n",
      "[325]\ttrain's QWK: 0.884324\tvalid's QWK: 0.881224\n",
      "Early stopping, best iteration is:\n",
      "[270]\ttrain's QWK: 0.881803\tvalid's QWK: 0.883741\n",
      "Evaluated only: QWK\n",
      "[LightGBM] [Info] Using self-defined objective function\n",
      "Training until validation scores don't improve for 75 rounds\n",
      "[25]\ttrain's QWK: 0.448659\tvalid's QWK: 0.456681\n",
      "[50]\ttrain's QWK: 0.737354\tvalid's QWK: 0.754467\n",
      "[75]\ttrain's QWK: 0.800137\tvalid's QWK: 0.806145\n",
      "[100]\ttrain's QWK: 0.836634\tvalid's QWK: 0.835052\n",
      "[125]\ttrain's QWK: 0.858851\tvalid's QWK: 0.85691\n",
      "[150]\ttrain's QWK: 0.86999\tvalid's QWK: 0.865745\n",
      "[175]\ttrain's QWK: 0.873785\tvalid's QWK: 0.868853\n",
      "[200]\ttrain's QWK: 0.876066\tvalid's QWK: 0.877691\n",
      "[225]\ttrain's QWK: 0.878839\tvalid's QWK: 0.881151\n",
      "[250]\ttrain's QWK: 0.881146\tvalid's QWK: 0.888128\n",
      "[275]\ttrain's QWK: 0.882392\tvalid's QWK: 0.887854\n",
      "[300]\ttrain's QWK: 0.883512\tvalid's QWK: 0.887854\n",
      "[325]\ttrain's QWK: 0.884458\tvalid's QWK: 0.888153\n",
      "[350]\ttrain's QWK: 0.885479\tvalid's QWK: 0.889195\n",
      "[375]\ttrain's QWK: 0.885899\tvalid's QWK: 0.8911\n",
      "[400]\ttrain's QWK: 0.886213\tvalid's QWK: 0.8911\n",
      "[425]\ttrain's QWK: 0.886457\tvalid's QWK: 0.891387\n",
      "[450]\ttrain's QWK: 0.886271\tvalid's QWK: 0.893424\n",
      "[475]\ttrain's QWK: 0.886613\tvalid's QWK: 0.893424\n",
      "[500]\ttrain's QWK: 0.887049\tvalid's QWK: 0.894284\n",
      "[525]\ttrain's QWK: 0.88724\tvalid's QWK: 0.894284\n",
      "[550]\ttrain's QWK: 0.887756\tvalid's QWK: 0.893843\n",
      "[575]\ttrain's QWK: 0.887952\tvalid's QWK: 0.894575\n",
      "[600]\ttrain's QWK: 0.888377\tvalid's QWK: 0.894273\n",
      "Early stopping, best iteration is:\n",
      "[549]\ttrain's QWK: 0.887724\tvalid's QWK: 0.894575\n",
      "Evaluated only: QWK\n",
      "[LightGBM] [Info] Using self-defined objective function\n",
      "Training until validation scores don't improve for 75 rounds\n",
      "[25]\ttrain's QWK: 0.440084\tvalid's QWK: 0.445609\n",
      "[50]\ttrain's QWK: 0.734358\tvalid's QWK: 0.742455\n",
      "[75]\ttrain's QWK: 0.799637\tvalid's QWK: 0.797013\n",
      "[100]\ttrain's QWK: 0.840404\tvalid's QWK: 0.846896\n",
      "[125]\ttrain's QWK: 0.858553\tvalid's QWK: 0.86303\n",
      "[150]\ttrain's QWK: 0.868265\tvalid's QWK: 0.87181\n",
      "[175]\ttrain's QWK: 0.872192\tvalid's QWK: 0.882183\n",
      "[200]\ttrain's QWK: 0.87486\tvalid's QWK: 0.890014\n",
      "[225]\ttrain's QWK: 0.878234\tvalid's QWK: 0.893209\n",
      "[250]\ttrain's QWK: 0.880663\tvalid's QWK: 0.894732\n",
      "[275]\ttrain's QWK: 0.881615\tvalid's QWK: 0.895309\n",
      "[300]\ttrain's QWK: 0.88261\tvalid's QWK: 0.893302\n",
      "[325]\ttrain's QWK: 0.883414\tvalid's QWK: 0.895683\n",
      "[350]\ttrain's QWK: 0.883943\tvalid's QWK: 0.897868\n",
      "[375]\ttrain's QWK: 0.884498\tvalid's QWK: 0.899015\n",
      "[400]\ttrain's QWK: 0.885004\tvalid's QWK: 0.899015\n",
      "[425]\ttrain's QWK: 0.885547\tvalid's QWK: 0.899885\n",
      "[450]\ttrain's QWK: 0.885764\tvalid's QWK: 0.899885\n",
      "[475]\ttrain's QWK: 0.886214\tvalid's QWK: 0.900164\n",
      "[500]\ttrain's QWK: 0.886219\tvalid's QWK: 0.900766\n",
      "[525]\ttrain's QWK: 0.886213\tvalid's QWK: 0.900766\n",
      "[550]\ttrain's QWK: 0.886587\tvalid's QWK: 0.900766\n",
      "[575]\ttrain's QWK: 0.887027\tvalid's QWK: 0.900766\n",
      "Early stopping, best iteration is:\n",
      "[500]\ttrain's QWK: 0.886219\tvalid's QWK: 0.900766\n",
      "Evaluated only: QWK\n",
      "[LightGBM] [Info] Using self-defined objective function\n",
      "Training until validation scores don't improve for 75 rounds\n",
      "[25]\ttrain's QWK: 0.447503\tvalid's QWK: 0.426212\n",
      "[50]\ttrain's QWK: 0.733026\tvalid's QWK: 0.744756\n",
      "[75]\ttrain's QWK: 0.79785\tvalid's QWK: 0.811664\n",
      "[100]\ttrain's QWK: 0.839864\tvalid's QWK: 0.854857\n",
      "[125]\ttrain's QWK: 0.859936\tvalid's QWK: 0.867167\n",
      "[150]\ttrain's QWK: 0.868419\tvalid's QWK: 0.873524\n",
      "[175]\ttrain's QWK: 0.873059\tvalid's QWK: 0.876498\n",
      "[200]\ttrain's QWK: 0.875377\tvalid's QWK: 0.879681\n",
      "[225]\ttrain's QWK: 0.877929\tvalid's QWK: 0.882742\n",
      "[250]\ttrain's QWK: 0.879854\tvalid's QWK: 0.885512\n",
      "[275]\ttrain's QWK: 0.881565\tvalid's QWK: 0.887692\n",
      "[300]\ttrain's QWK: 0.882724\tvalid's QWK: 0.890749\n",
      "[325]\ttrain's QWK: 0.883866\tvalid's QWK: 0.89242\n",
      "[350]\ttrain's QWK: 0.884267\tvalid's QWK: 0.892581\n",
      "[375]\ttrain's QWK: 0.884905\tvalid's QWK: 0.894657\n",
      "[400]\ttrain's QWK: 0.885214\tvalid's QWK: 0.894473\n",
      "[425]\ttrain's QWK: 0.88602\tvalid's QWK: 0.894756\n",
      "Early stopping, best iteration is:\n",
      "[362]\ttrain's QWK: 0.8846\tvalid's QWK: 0.895127\n",
      "Evaluated only: QWK\n",
      "[LightGBM] [Info] Using self-defined objective function\n",
      "Training until validation scores don't improve for 75 rounds\n",
      "[25]\ttrain's QWK: 0.459777\tvalid's QWK: 0.426723\n",
      "[50]\ttrain's QWK: 0.736446\tvalid's QWK: 0.726126\n",
      "[75]\ttrain's QWK: 0.797754\tvalid's QWK: 0.780621\n",
      "[100]\ttrain's QWK: 0.840233\tvalid's QWK: 0.832898\n",
      "[125]\ttrain's QWK: 0.86081\tvalid's QWK: 0.851245\n",
      "[150]\ttrain's QWK: 0.868839\tvalid's QWK: 0.862187\n",
      "[175]\ttrain's QWK: 0.873966\tvalid's QWK: 0.873702\n",
      "[200]\ttrain's QWK: 0.87665\tvalid's QWK: 0.878343\n",
      "[225]\ttrain's QWK: 0.879547\tvalid's QWK: 0.87393\n",
      "[250]\ttrain's QWK: 0.882198\tvalid's QWK: 0.874279\n",
      "[275]\ttrain's QWK: 0.882968\tvalid's QWK: 0.875766\n",
      "Early stopping, best iteration is:\n",
      "[200]\ttrain's QWK: 0.87665\tvalid's QWK: 0.878343\n",
      "Evaluated only: QWK\n"
     ]
    },
    {
     "name": "stderr",
     "output_type": "stream",
     "text": [
      "/media/ishfar/New Volume/Studies/Projects/Kaggle-Automated-Essay-Scoring/lib/criterion/metrics.py:34: RuntimeWarning: invalid value encountered in scalar divide\n",
      "  precision = tp / (tp + fp)\n"
     ]
    },
    {
     "name": "stdout",
     "output_type": "stream",
     "text": [
      "[LightGBM] [Info] Using self-defined objective function\n",
      "Training until validation scores don't improve for 75 rounds\n",
      "[25]\ttrain's QWK: 0.45003\tvalid's QWK: 0.450837\n",
      "[50]\ttrain's QWK: 0.73629\tvalid's QWK: 0.733911\n",
      "[75]\ttrain's QWK: 0.800026\tvalid's QWK: 0.796135\n",
      "[100]\ttrain's QWK: 0.841694\tvalid's QWK: 0.837613\n",
      "[125]\ttrain's QWK: 0.862241\tvalid's QWK: 0.857114\n",
      "[150]\ttrain's QWK: 0.869863\tvalid's QWK: 0.866902\n",
      "[175]\ttrain's QWK: 0.874466\tvalid's QWK: 0.874273\n",
      "[200]\ttrain's QWK: 0.877135\tvalid's QWK: 0.874656\n",
      "[225]\ttrain's QWK: 0.87988\tvalid's QWK: 0.875106\n",
      "[250]\ttrain's QWK: 0.881654\tvalid's QWK: 0.875704\n",
      "[275]\ttrain's QWK: 0.882969\tvalid's QWK: 0.87874\n",
      "[300]\ttrain's QWK: 0.884253\tvalid's QWK: 0.879289\n",
      "[325]\ttrain's QWK: 0.885379\tvalid's QWK: 0.880816\n",
      "[350]\ttrain's QWK: 0.88583\tvalid's QWK: 0.879764\n",
      "[375]\ttrain's QWK: 0.886271\tvalid's QWK: 0.88009\n",
      "Early stopping, best iteration is:\n",
      "[315]\ttrain's QWK: 0.885247\tvalid's QWK: 0.880816\n",
      "Evaluated only: QWK\n",
      "[LightGBM] [Info] Using self-defined objective function\n",
      "Training until validation scores don't improve for 75 rounds\n",
      "[25]\ttrain's QWK: 0.456018\tvalid's QWK: 0.472603\n",
      "[50]\ttrain's QWK: 0.737347\tvalid's QWK: 0.727397\n",
      "[75]\ttrain's QWK: 0.801205\tvalid's QWK: 0.79821\n",
      "[100]\ttrain's QWK: 0.837963\tvalid's QWK: 0.831738\n",
      "[125]\ttrain's QWK: 0.860346\tvalid's QWK: 0.853288\n",
      "[150]\ttrain's QWK: 0.868556\tvalid's QWK: 0.859485\n",
      "[175]\ttrain's QWK: 0.873207\tvalid's QWK: 0.866191\n",
      "[200]\ttrain's QWK: 0.876185\tvalid's QWK: 0.869045\n",
      "[225]\ttrain's QWK: 0.878824\tvalid's QWK: 0.869424\n",
      "[250]\ttrain's QWK: 0.881394\tvalid's QWK: 0.874434\n",
      "[275]\ttrain's QWK: 0.882952\tvalid's QWK: 0.875185\n",
      "[300]\ttrain's QWK: 0.883855\tvalid's QWK: 0.878139\n",
      "[325]\ttrain's QWK: 0.884752\tvalid's QWK: 0.879543\n",
      "[350]\ttrain's QWK: 0.885432\tvalid's QWK: 0.880828\n",
      "[375]\ttrain's QWK: 0.885905\tvalid's QWK: 0.880828\n",
      "[400]\ttrain's QWK: 0.886345\tvalid's QWK: 0.882145\n",
      "[425]\ttrain's QWK: 0.886653\tvalid's QWK: 0.880571\n",
      "[450]\ttrain's QWK: 0.886816\tvalid's QWK: 0.8809\n",
      "Early stopping, best iteration is:\n",
      "[389]\ttrain's QWK: 0.886134\tvalid's QWK: 0.882145\n",
      "Evaluated only: QWK\n",
      "[LightGBM] [Info] Using self-defined objective function\n",
      "Training until validation scores don't improve for 75 rounds\n",
      "[25]\ttrain's QWK: 0.456505\tvalid's QWK: 0.471276\n",
      "[50]\ttrain's QWK: 0.742076\tvalid's QWK: 0.724516\n",
      "[75]\ttrain's QWK: 0.803965\tvalid's QWK: 0.791627\n",
      "[100]\ttrain's QWK: 0.838858\tvalid's QWK: 0.828521\n",
      "[125]\ttrain's QWK: 0.860716\tvalid's QWK: 0.846461\n",
      "[150]\ttrain's QWK: 0.869105\tvalid's QWK: 0.855162\n",
      "[175]\ttrain's QWK: 0.873906\tvalid's QWK: 0.856092\n",
      "[200]\ttrain's QWK: 0.876814\tvalid's QWK: 0.861268\n",
      "[225]\ttrain's QWK: 0.879428\tvalid's QWK: 0.865184\n",
      "[250]\ttrain's QWK: 0.881515\tvalid's QWK: 0.865455\n",
      "[275]\ttrain's QWK: 0.883401\tvalid's QWK: 0.867081\n",
      "[300]\ttrain's QWK: 0.884346\tvalid's QWK: 0.868362\n",
      "[325]\ttrain's QWK: 0.884919\tvalid's QWK: 0.868556\n",
      "[350]\ttrain's QWK: 0.885501\tvalid's QWK: 0.870753\n",
      "[375]\ttrain's QWK: 0.885908\tvalid's QWK: 0.871621\n",
      "[400]\ttrain's QWK: 0.88631\tvalid's QWK: 0.872372\n",
      "[425]\ttrain's QWK: 0.886788\tvalid's QWK: 0.872144\n",
      "[450]\ttrain's QWK: 0.887011\tvalid's QWK: 0.873786\n",
      "[475]\ttrain's QWK: 0.887452\tvalid's QWK: 0.873786\n",
      "[500]\ttrain's QWK: 0.887773\tvalid's QWK: 0.875094\n",
      "[525]\ttrain's QWK: 0.888107\tvalid's QWK: 0.875094\n",
      "[550]\ttrain's QWK: 0.888449\tvalid's QWK: 0.875744\n",
      "Early stopping, best iteration is:\n",
      "[493]\ttrain's QWK: 0.887692\tvalid's QWK: 0.875821\n",
      "Evaluated only: QWK\n"
     ]
    }
   ],
   "source": [
    "oof_df = pd.DataFrame()\n",
    "\n",
    "for idx, (train_idx, valid_idx) in enumerate(skf.split(X, y)):\n",
    "    X_train, y_train = X.loc[train_idx], y.loc[train_idx]\n",
    "    X_valid, y_valid = X.loc[valid_idx], y.loc[valid_idx]\n",
    "    id_valid = ids.loc[valid_idx].to_numpy()\n",
    "\n",
    "    model, predictor = train_loop(X_train, y_train, X_valid, y_valid)\n",
    "\n",
    "    with open(f\"output/LGBM/{idx}.pkl\", \"wb\") as file:\n",
    "        pkl.dump({\"predictor\": predictor, \"model\": model}, file)\n",
    "\n",
    "    oof = validate_model(idx, X_valid, y_valid, id_valid, predictor)\n",
    "    oof_df = pd.concat([oof_df, oof])"
   ]
  },
  {
   "cell_type": "code",
   "execution_count": 15,
   "metadata": {},
   "outputs": [
    {
     "name": "stdout",
     "output_type": "stream",
     "text": [
      "Overall Score: 0.8859\n"
     ]
    }
   ],
   "source": [
    "score = get_score(oof_df[\"score\"], oof_df[\"pred_score\"])\n",
    "print(f'Overall Score: {score:<.4f}')\n",
    "wandb.log({\"CV/qwk_score\": score})"
   ]
  },
  {
   "cell_type": "code",
   "execution_count": 16,
   "metadata": {},
   "outputs": [],
   "source": [
    "wandb.log({\"oof_table\": wandb.Table(dataframe=oof_df)})"
   ]
  },
  {
   "cell_type": "code",
   "execution_count": 17,
   "metadata": {},
   "outputs": [],
   "source": [
    "log_metrics(\n",
    "    pd.DataFrame(\n",
    "        {\n",
    "            \"score\": oof_df.score.to_numpy(),\n",
    "            \"pred_score\": oof_df.pred_score.to_numpy(),\n",
    "        }\n",
    "    ),\n",
    "    \"Overall\",\n",
    ")"
   ]
  },
  {
   "cell_type": "code",
   "execution_count": 18,
   "metadata": {},
   "outputs": [
    {
     "data": {
      "application/vnd.jupyter.widget-view+json": {
       "model_id": "ee6dafff09124b2e9e35ddd436786b8e",
       "version_major": 2,
       "version_minor": 0
      },
      "text/plain": [
       "VBox(children=(Label(value='0.595 MB of 0.595 MB uploaded\\r'), FloatProgress(value=1.0, max=1.0)))"
      ]
     },
     "metadata": {},
     "output_type": "display_data"
    },
    {
     "data": {
      "text/html": [
       "<style>\n",
       "    table.wandb td:nth-child(1) { padding: 0 10px; text-align: left ; width: auto;} td:nth-child(2) {text-align: left ; width: 100%}\n",
       "    .wandb-row { display: flex; flex-direction: row; flex-wrap: wrap; justify-content: flex-start; width: 100% }\n",
       "    .wandb-col { display: flex; flex-direction: column; flex-basis: 100%; flex: 1; padding: 10px; }\n",
       "    </style>\n",
       "<div class=\"wandb-row\"><div class=\"wandb-col\"><h3>Run history:</h3><br/><table class=\"wandb\"><tr><td>CV/qwk_score</td><td>▁</td></tr></table><br/></div><div class=\"wandb-col\"><h3>Run summary:</h3><br/><table class=\"wandb\"><tr><td>CV/qwk_score</td><td>0.88595</td></tr></table><br/></div></div>"
      ],
      "text/plain": [
       "<IPython.core.display.HTML object>"
      ]
     },
     "metadata": {},
     "output_type": "display_data"
    },
    {
     "data": {
      "text/html": [
       " View run <strong style=\"color:#cdcd00\">LGBM-ASE-5</strong> at: <a href='https://wandb.ai/laplacesdemon43/Kaggle_ASE_2.0/runs/dvl8vvm7' target=\"_blank\">https://wandb.ai/laplacesdemon43/Kaggle_ASE_2.0/runs/dvl8vvm7</a><br/> View project at: <a href='https://wandb.ai/laplacesdemon43/Kaggle_ASE_2.0' target=\"_blank\">https://wandb.ai/laplacesdemon43/Kaggle_ASE_2.0</a><br/>Synced 6 W&B file(s), 105 media file(s), 105 artifact file(s) and 1 other file(s)"
      ],
      "text/plain": [
       "<IPython.core.display.HTML object>"
      ]
     },
     "metadata": {},
     "output_type": "display_data"
    },
    {
     "data": {
      "text/html": [
       "Find logs at: <code>./wandb/run-20240531_210155-dvl8vvm7/logs</code>"
      ],
      "text/plain": [
       "<IPython.core.display.HTML object>"
      ]
     },
     "metadata": {},
     "output_type": "display_data"
    }
   ],
   "source": [
    "wandb.finish()"
   ]
  }
 ],
 "metadata": {
  "kernelspec": {
   "display_name": "Python 3 (ipykernel)",
   "language": "python",
   "name": "python3"
  },
  "language_info": {
   "codemirror_mode": {
    "name": "ipython",
    "version": 3
   },
   "file_extension": ".py",
   "mimetype": "text/x-python",
   "name": "python",
   "nbconvert_exporter": "python",
   "pygments_lexer": "ipython3",
   "version": "3.11.8"
  }
 },
 "nbformat": 4,
 "nbformat_minor": 4
}
