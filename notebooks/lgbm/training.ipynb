{
 "cells": [
  {
   "cell_type": "markdown",
   "metadata": {},
   "source": [
    "# LGBM - Training\n",
    "\n",
    "Sources\n",
    "1. [LGBM & Deberta Explained by ZULQARNAIN ALI](https://www.kaggle.com/code/zulqarnainalipk/lgbm-deberta-explained)"
   ]
  },
  {
   "cell_type": "markdown",
   "metadata": {},
   "source": [
    "## Setup"
   ]
  },
  {
   "cell_type": "code",
   "execution_count": 1,
   "metadata": {},
   "outputs": [],
   "source": [
    "import os\n",
    "import pandas as pd\n",
    "import numpy as np\n",
    "from sklearn.metrics import cohen_kappa_score\n",
    "import lightgbm as lgb\n",
    "import pickle as pkl\n",
    "import wandb\n",
    "from lightgbm import log_evaluation, early_stopping\n",
    "from sklearn.metrics import cohen_kappa_score\n",
    "from sklearn.model_selection import StratifiedKFold"
   ]
  },
  {
   "cell_type": "code",
   "execution_count": 2,
   "metadata": {},
   "outputs": [],
   "source": [
    "os.chdir(\"../../\")"
   ]
  },
  {
   "cell_type": "code",
   "execution_count": 3,
   "metadata": {},
   "outputs": [],
   "source": [
    "from lib.config import config\n",
    "from lib.paths import Paths\n",
    "from lib.utils.utils import seed_everything\n",
    "from lib.criterion.metrics import log_metrics\n",
    "from lib.model.utils import quadratic_weighted_kappa, qwk_obj, get_score"
   ]
  },
  {
   "cell_type": "code",
   "execution_count": 4,
   "metadata": {},
   "outputs": [],
   "source": [
    "seed_everything()"
   ]
  },
  {
   "cell_type": "markdown",
   "metadata": {},
   "source": [
    "### Setting Up WandB"
   ]
  },
  {
   "cell_type": "code",
   "execution_count": 5,
   "metadata": {},
   "outputs": [],
   "source": [
    "WANDB_PROJECT = \"Kaggle_ASE_2.0\"\n",
    "WANDB_NAME = f\"LGBM-ASE-4\""
   ]
  },
  {
   "cell_type": "code",
   "execution_count": 6,
   "metadata": {},
   "outputs": [
    {
     "name": "stderr",
     "output_type": "stream",
     "text": [
      "Failed to detect the name of this notebook, you can set it manually with the WANDB_NOTEBOOK_NAME environment variable to enable code saving.\n",
      "\u001b[34m\u001b[1mwandb\u001b[0m: Currently logged in as: \u001b[33mshakleenishfar\u001b[0m (\u001b[33mlaplacesdemon43\u001b[0m). Use \u001b[1m`wandb login --relogin`\u001b[0m to force relogin\n",
      "\u001b[34m\u001b[1mwandb\u001b[0m: \u001b[33mWARNING\u001b[0m If you're specifying your api key in code, ensure this code is not shared publicly.\n",
      "\u001b[34m\u001b[1mwandb\u001b[0m: \u001b[33mWARNING\u001b[0m Consider setting the WANDB_API_KEY environment variable, or running `wandb login` from the command line.\n",
      "\u001b[34m\u001b[1mwandb\u001b[0m: Appending key for api.wandb.ai to your netrc file: /home/ishfar/.netrc\n"
     ]
    },
    {
     "data": {
      "text/html": [
       "wandb version 0.17.0 is available!  To upgrade, please run:\n",
       " $ pip install wandb --upgrade"
      ],
      "text/plain": [
       "<IPython.core.display.HTML object>"
      ]
     },
     "metadata": {},
     "output_type": "display_data"
    },
    {
     "data": {
      "text/html": [
       "Tracking run with wandb version 0.16.6"
      ],
      "text/plain": [
       "<IPython.core.display.HTML object>"
      ]
     },
     "metadata": {},
     "output_type": "display_data"
    },
    {
     "data": {
      "text/html": [
       "Run data is saved locally in <code>/media/ishfar/New Volume/Studies/Projects/Kaggle-Automated-Essay-Scoring/wandb/run-20240530_153333-anjothez</code>"
      ],
      "text/plain": [
       "<IPython.core.display.HTML object>"
      ]
     },
     "metadata": {},
     "output_type": "display_data"
    },
    {
     "data": {
      "text/html": [
       "Syncing run <strong><a href='https://wandb.ai/laplacesdemon43/Kaggle_ASE_2.0/runs/anjothez' target=\"_blank\">LGBM-ASE-4</a></strong> to <a href='https://wandb.ai/laplacesdemon43/Kaggle_ASE_2.0' target=\"_blank\">Weights & Biases</a> (<a href='https://wandb.me/run' target=\"_blank\">docs</a>)<br/>"
      ],
      "text/plain": [
       "<IPython.core.display.HTML object>"
      ]
     },
     "metadata": {},
     "output_type": "display_data"
    },
    {
     "data": {
      "text/html": [
       " View project at <a href='https://wandb.ai/laplacesdemon43/Kaggle_ASE_2.0' target=\"_blank\">https://wandb.ai/laplacesdemon43/Kaggle_ASE_2.0</a>"
      ],
      "text/plain": [
       "<IPython.core.display.HTML object>"
      ]
     },
     "metadata": {},
     "output_type": "display_data"
    },
    {
     "data": {
      "text/html": [
       " View run at <a href='https://wandb.ai/laplacesdemon43/Kaggle_ASE_2.0/runs/anjothez' target=\"_blank\">https://wandb.ai/laplacesdemon43/Kaggle_ASE_2.0/runs/anjothez</a>"
      ],
      "text/plain": [
       "<IPython.core.display.HTML object>"
      ]
     },
     "metadata": {},
     "output_type": "display_data"
    }
   ],
   "source": [
    "wandb.login(key=os.environ.get('WANDB_API_KEY'))\n",
    "wandb.init(\n",
    "    project=WANDB_PROJECT,\n",
    "    name=WANDB_NAME,\n",
    "    save_code=True,\n",
    "    job_type=\"train\",\n",
    "    config=config,\n",
    ")\n",
    "config = wandb.config"
   ]
  },
  {
   "cell_type": "markdown",
   "metadata": {},
   "source": [
    "## Model Training"
   ]
  },
  {
   "cell_type": "markdown",
   "metadata": {},
   "source": [
    "### Dataset Creation"
   ]
  },
  {
   "cell_type": "code",
   "execution_count": 7,
   "metadata": {},
   "outputs": [
    {
     "data": {
      "text/plain": [
       "(17307, 211)"
      ]
     },
     "execution_count": 7,
     "metadata": {},
     "output_type": "execute_result"
    }
   ],
   "source": [
    "df = pd.read_csv(Paths.FEATURE_ENGG_CSV_PATH)\n",
    "df.shape"
   ]
  },
  {
   "cell_type": "code",
   "execution_count": 8,
   "metadata": {},
   "outputs": [
    {
     "data": {
      "text/plain": [
       "((17307, 209), (17307,))"
      ]
     },
     "execution_count": 8,
     "metadata": {},
     "output_type": "execute_result"
    }
   ],
   "source": [
    "ids = df.loc[:, \"essay_id\"]\n",
    "X, y = df.drop(columns=[\"score\", \"essay_id\"]), df.loc[:, \"score\"]\n",
    "del df\n",
    "\n",
    "X.shape, y.shape"
   ]
  },
  {
   "cell_type": "markdown",
   "metadata": {},
   "source": [
    "### Callbacks"
   ]
  },
  {
   "cell_type": "code",
   "execution_count": 9,
   "metadata": {},
   "outputs": [],
   "source": [
    "callbacks = [\n",
    "    log_evaluation(period=25),\n",
    "    early_stopping(stopping_rounds=75, first_metric_only=True),\n",
    "]"
   ]
  },
  {
   "cell_type": "markdown",
   "metadata": {},
   "source": [
    "### Constants"
   ]
  },
  {
   "cell_type": "code",
   "execution_count": 10,
   "metadata": {},
   "outputs": [],
   "source": [
    "a = config.lgbm_a\n",
    "b = config.lgbm_b"
   ]
  },
  {
   "cell_type": "markdown",
   "metadata": {},
   "source": [
    "### Training Loop"
   ]
  },
  {
   "cell_type": "code",
   "execution_count": 11,
   "metadata": {},
   "outputs": [],
   "source": [
    "def train_loop(X_train, y_train, X_valid, y_valid):\n",
    "    y_train = y_train.astype(np.float32) - a\n",
    "    y_valid = y_valid.astype(np.float32) - a\n",
    "\n",
    "    model = lgb.LGBMRegressor(\n",
    "        objective=qwk_obj,\n",
    "        metrics=\"None\",\n",
    "        learning_rate=0.01,\n",
    "        max_depth=5,\n",
    "        num_leaves=10,\n",
    "        colsample_bytree=0.3,\n",
    "        reg_alpha=0.7,\n",
    "        reg_lambda=0.1,\n",
    "        n_estimators=700,\n",
    "        random_state=config.random_seed,\n",
    "        extra_trees=True,\n",
    "        class_weight=\"balanced\",\n",
    "        n_jobs=6,\n",
    "        verbosity=0,\n",
    "    )\n",
    "\n",
    "    # Train model\n",
    "    predictor = model.fit(\n",
    "        X_train,\n",
    "        y_train,\n",
    "        eval_names=[\"train\", \"valid\"],\n",
    "        eval_set=[(X_train, y_train), (X_valid, y_valid)],\n",
    "        eval_metric=quadratic_weighted_kappa,\n",
    "        callbacks=callbacks,\n",
    "    )\n",
    "\n",
    "    return model, predictor"
   ]
  },
  {
   "cell_type": "code",
   "execution_count": 12,
   "metadata": {},
   "outputs": [],
   "source": [
    "def validate_model(idx, X_valid, y_valid, id_valid, predictor):\n",
    "    y_valid_int = y_valid.astype(np.int64).to_numpy()\n",
    "    preds = predictor.predict(X_valid) + a\n",
    "    preds = preds.clip(1, 6).round().astype(np.int64)\n",
    "\n",
    "    oof = pd.DataFrame(\n",
    "        {\n",
    "            \"essay_id\": id_valid,\n",
    "            \"score\": y_valid_int - 1,\n",
    "            \"pred_score\": preds - 1,\n",
    "        }\n",
    "    )\n",
    "    log_metrics(oof, f\"Fold {idx}\")\n",
    "\n",
    "    return oof"
   ]
  },
  {
   "cell_type": "markdown",
   "metadata": {},
   "source": [
    "### Fold Loop"
   ]
  },
  {
   "cell_type": "code",
   "execution_count": 13,
   "metadata": {},
   "outputs": [],
   "source": [
    "skf = StratifiedKFold(\n",
    "    n_splits=config.lgbm_n_folds,\n",
    "    random_state=config.random_seed,\n",
    "    shuffle=True,\n",
    ")"
   ]
  },
  {
   "cell_type": "code",
   "execution_count": 14,
   "metadata": {},
   "outputs": [
    {
     "name": "stdout",
     "output_type": "stream",
     "text": [
      "[LightGBM] [Info] Using self-defined objective function\n",
      "Training until validation scores don't improve for 75 rounds\n",
      "[25]\ttrain's QWK: 0.443479\tvalid's QWK: 0.478976\n",
      "[50]\ttrain's QWK: 0.738798\tvalid's QWK: 0.756205\n",
      "[75]\ttrain's QWK: 0.801221\tvalid's QWK: 0.815883\n",
      "[100]\ttrain's QWK: 0.835834\tvalid's QWK: 0.843054\n",
      "[125]\ttrain's QWK: 0.859141\tvalid's QWK: 0.865977\n",
      "[150]\ttrain's QWK: 0.868265\tvalid's QWK: 0.876946\n",
      "[175]\ttrain's QWK: 0.872425\tvalid's QWK: 0.880006\n",
      "[200]\ttrain's QWK: 0.875181\tvalid's QWK: 0.883233\n",
      "[225]\ttrain's QWK: 0.877504\tvalid's QWK: 0.887912\n",
      "[250]\ttrain's QWK: 0.879589\tvalid's QWK: 0.891068\n",
      "[275]\ttrain's QWK: 0.881953\tvalid's QWK: 0.891194\n",
      "[300]\ttrain's QWK: 0.882925\tvalid's QWK: 0.893239\n",
      "[325]\ttrain's QWK: 0.884014\tvalid's QWK: 0.893665\n",
      "[350]\ttrain's QWK: 0.884783\tvalid's QWK: 0.893362\n",
      "[375]\ttrain's QWK: 0.885235\tvalid's QWK: 0.893769\n",
      "[400]\ttrain's QWK: 0.885804\tvalid's QWK: 0.893313\n",
      "Early stopping, best iteration is:\n",
      "[330]\ttrain's QWK: 0.884013\tvalid's QWK: 0.894407\n",
      "Evaluated only: QWK\n",
      "[LightGBM] [Info] Using self-defined objective function\n",
      "Training until validation scores don't improve for 75 rounds\n",
      "[25]\ttrain's QWK: 0.440443\tvalid's QWK: 0.430888\n",
      "[50]\ttrain's QWK: 0.740567\tvalid's QWK: 0.732558\n",
      "[75]\ttrain's QWK: 0.800472\tvalid's QWK: 0.786102\n",
      "[100]\ttrain's QWK: 0.835531\tvalid's QWK: 0.834577\n",
      "[125]\ttrain's QWK: 0.858757\tvalid's QWK: 0.853826\n",
      "[150]\ttrain's QWK: 0.868713\tvalid's QWK: 0.866809\n",
      "[175]\ttrain's QWK: 0.872336\tvalid's QWK: 0.868399\n",
      "[200]\ttrain's QWK: 0.875369\tvalid's QWK: 0.872676\n",
      "[225]\ttrain's QWK: 0.878574\tvalid's QWK: 0.875622\n",
      "[250]\ttrain's QWK: 0.880674\tvalid's QWK: 0.87842\n",
      "[275]\ttrain's QWK: 0.881883\tvalid's QWK: 0.88003\n",
      "[300]\ttrain's QWK: 0.882768\tvalid's QWK: 0.881279\n",
      "[325]\ttrain's QWK: 0.883541\tvalid's QWK: 0.882815\n",
      "[350]\ttrain's QWK: 0.88459\tvalid's QWK: 0.882531\n",
      "[375]\ttrain's QWK: 0.884786\tvalid's QWK: 0.882107\n",
      "[400]\ttrain's QWK: 0.885692\tvalid's QWK: 0.880775\n",
      "Early stopping, best iteration is:\n",
      "[334]\ttrain's QWK: 0.883781\tvalid's QWK: 0.883112\n",
      "Evaluated only: QWK\n",
      "[LightGBM] [Info] Using self-defined objective function\n",
      "Training until validation scores don't improve for 75 rounds\n",
      "[25]\ttrain's QWK: 0.444659\tvalid's QWK: 0.457005\n",
      "[50]\ttrain's QWK: 0.743151\tvalid's QWK: 0.752594\n",
      "[75]\ttrain's QWK: 0.799696\tvalid's QWK: 0.812664\n",
      "[100]\ttrain's QWK: 0.834069\tvalid's QWK: 0.850013\n",
      "[125]\ttrain's QWK: 0.858087\tvalid's QWK: 0.869351\n",
      "[150]\ttrain's QWK: 0.868208\tvalid's QWK: 0.879216\n",
      "[175]\ttrain's QWK: 0.873384\tvalid's QWK: 0.884058\n",
      "[200]\ttrain's QWK: 0.876062\tvalid's QWK: 0.882694\n",
      "[225]\ttrain's QWK: 0.87863\tvalid's QWK: 0.88488\n",
      "[250]\ttrain's QWK: 0.880595\tvalid's QWK: 0.886385\n",
      "[275]\ttrain's QWK: 0.881944\tvalid's QWK: 0.890634\n",
      "[300]\ttrain's QWK: 0.883261\tvalid's QWK: 0.890187\n",
      "[325]\ttrain's QWK: 0.884379\tvalid's QWK: 0.893962\n",
      "[350]\ttrain's QWK: 0.88472\tvalid's QWK: 0.896646\n",
      "[375]\ttrain's QWK: 0.885556\tvalid's QWK: 0.898037\n",
      "[400]\ttrain's QWK: 0.885722\tvalid's QWK: 0.898298\n",
      "[425]\ttrain's QWK: 0.885867\tvalid's QWK: 0.898298\n",
      "[450]\ttrain's QWK: 0.88616\tvalid's QWK: 0.899111\n",
      "[475]\ttrain's QWK: 0.886433\tvalid's QWK: 0.898469\n",
      "[500]\ttrain's QWK: 0.886643\tvalid's QWK: 0.896016\n",
      "Early stopping, best iteration is:\n",
      "[433]\ttrain's QWK: 0.886054\tvalid's QWK: 0.89982\n",
      "Evaluated only: QWK\n",
      "[LightGBM] [Info] Using self-defined objective function\n",
      "Training until validation scores don't improve for 75 rounds\n",
      "[25]\ttrain's QWK: 0.441548\tvalid's QWK: 0.422493\n",
      "[50]\ttrain's QWK: 0.740278\tvalid's QWK: 0.716451\n",
      "[75]\ttrain's QWK: 0.799976\tvalid's QWK: 0.787026\n",
      "[100]\ttrain's QWK: 0.836377\tvalid's QWK: 0.816861\n",
      "[125]\ttrain's QWK: 0.858849\tvalid's QWK: 0.852027\n",
      "[150]\ttrain's QWK: 0.869314\tvalid's QWK: 0.863181\n",
      "[175]\ttrain's QWK: 0.87391\tvalid's QWK: 0.867236\n",
      "[200]\ttrain's QWK: 0.876058\tvalid's QWK: 0.865849\n",
      "[225]\ttrain's QWK: 0.878639\tvalid's QWK: 0.867032\n",
      "[250]\ttrain's QWK: 0.880684\tvalid's QWK: 0.869497\n",
      "[275]\ttrain's QWK: 0.882801\tvalid's QWK: 0.870406\n",
      "[300]\ttrain's QWK: 0.88361\tvalid's QWK: 0.874626\n",
      "[325]\ttrain's QWK: 0.884609\tvalid's QWK: 0.875159\n",
      "[350]\ttrain's QWK: 0.885141\tvalid's QWK: 0.874339\n",
      "[375]\ttrain's QWK: 0.88558\tvalid's QWK: 0.873818\n",
      "[400]\ttrain's QWK: 0.885809\tvalid's QWK: 0.873765\n",
      "[425]\ttrain's QWK: 0.886068\tvalid's QWK: 0.873508\n",
      "Early stopping, best iteration is:\n",
      "[353]\ttrain's QWK: 0.885144\tvalid's QWK: 0.875287\n",
      "Evaluated only: QWK\n",
      "[LightGBM] [Info] Using self-defined objective function\n",
      "Training until validation scores don't improve for 75 rounds\n",
      "[25]\ttrain's QWK: 0.451602\tvalid's QWK: 0.44655\n",
      "[50]\ttrain's QWK: 0.737795\tvalid's QWK: 0.737636\n",
      "[75]\ttrain's QWK: 0.796635\tvalid's QWK: 0.799683\n",
      "[100]\ttrain's QWK: 0.837133\tvalid's QWK: 0.832469\n",
      "[125]\ttrain's QWK: 0.859889\tvalid's QWK: 0.855065\n",
      "[150]\ttrain's QWK: 0.869766\tvalid's QWK: 0.865681\n",
      "[175]\ttrain's QWK: 0.873814\tvalid's QWK: 0.869513\n",
      "[200]\ttrain's QWK: 0.876159\tvalid's QWK: 0.873955\n",
      "[225]\ttrain's QWK: 0.878646\tvalid's QWK: 0.876289\n",
      "[250]\ttrain's QWK: 0.881413\tvalid's QWK: 0.877691\n",
      "[275]\ttrain's QWK: 0.883184\tvalid's QWK: 0.881498\n",
      "[300]\ttrain's QWK: 0.883513\tvalid's QWK: 0.881413\n",
      "[325]\ttrain's QWK: 0.884358\tvalid's QWK: 0.883984\n",
      "[350]\ttrain's QWK: 0.885074\tvalid's QWK: 0.884723\n",
      "[375]\ttrain's QWK: 0.885584\tvalid's QWK: 0.884723\n",
      "[400]\ttrain's QWK: 0.885807\tvalid's QWK: 0.883549\n",
      "[425]\ttrain's QWK: 0.886288\tvalid's QWK: 0.883702\n",
      "[450]\ttrain's QWK: 0.886956\tvalid's QWK: 0.88331\n",
      "[475]\ttrain's QWK: 0.887155\tvalid's QWK: 0.883596\n",
      "Early stopping, best iteration is:\n",
      "[424]\ttrain's QWK: 0.886306\tvalid's QWK: 0.884739\n",
      "Evaluated only: QWK\n",
      "[LightGBM] [Info] Using self-defined objective function\n",
      "Training until validation scores don't improve for 75 rounds\n",
      "[25]\ttrain's QWK: 0.44593\tvalid's QWK: 0.43537\n",
      "[50]\ttrain's QWK: 0.738312\tvalid's QWK: 0.728135\n",
      "[75]\ttrain's QWK: 0.799982\tvalid's QWK: 0.787649\n",
      "[100]\ttrain's QWK: 0.837485\tvalid's QWK: 0.831524\n",
      "[125]\ttrain's QWK: 0.860452\tvalid's QWK: 0.844842\n",
      "[150]\ttrain's QWK: 0.868907\tvalid's QWK: 0.852125\n",
      "[175]\ttrain's QWK: 0.874093\tvalid's QWK: 0.854231\n",
      "[200]\ttrain's QWK: 0.877241\tvalid's QWK: 0.856676\n",
      "[225]\ttrain's QWK: 0.879737\tvalid's QWK: 0.856293\n",
      "[250]\ttrain's QWK: 0.882072\tvalid's QWK: 0.861465\n",
      "[275]\ttrain's QWK: 0.883391\tvalid's QWK: 0.864124\n",
      "[300]\ttrain's QWK: 0.884623\tvalid's QWK: 0.864101\n",
      "[325]\ttrain's QWK: 0.885603\tvalid's QWK: 0.865055\n",
      "[350]\ttrain's QWK: 0.886092\tvalid's QWK: 0.86619\n",
      "[375]\ttrain's QWK: 0.886647\tvalid's QWK: 0.866728\n",
      "[400]\ttrain's QWK: 0.887201\tvalid's QWK: 0.867495\n",
      "[425]\ttrain's QWK: 0.887674\tvalid's QWK: 0.867849\n",
      "[450]\ttrain's QWK: 0.887898\tvalid's QWK: 0.868613\n",
      "[475]\ttrain's QWK: 0.888205\tvalid's QWK: 0.867808\n",
      "[500]\ttrain's QWK: 0.888365\tvalid's QWK: 0.867473\n",
      "[525]\ttrain's QWK: 0.888682\tvalid's QWK: 0.86931\n",
      "[550]\ttrain's QWK: 0.889186\tvalid's QWK: 0.868962\n",
      "[575]\ttrain's QWK: 0.88954\tvalid's QWK: 0.870275\n",
      "[600]\ttrain's QWK: 0.889637\tvalid's QWK: 0.870674\n",
      "[625]\ttrain's QWK: 0.889962\tvalid's QWK: 0.870484\n",
      "[650]\ttrain's QWK: 0.89018\tvalid's QWK: 0.86972\n",
      "[675]\ttrain's QWK: 0.890295\tvalid's QWK: 0.870206\n",
      "Early stopping, best iteration is:\n",
      "[601]\ttrain's QWK: 0.889722\tvalid's QWK: 0.871417\n",
      "Evaluated only: QWK\n",
      "[LightGBM] [Info] Using self-defined objective function\n",
      "Training until validation scores don't improve for 75 rounds\n",
      "[25]\ttrain's QWK: 0.434072\tvalid's QWK: 0.413744\n",
      "[50]\ttrain's QWK: 0.741231\tvalid's QWK: 0.737191\n",
      "[75]\ttrain's QWK: 0.799773\tvalid's QWK: 0.79186\n",
      "[100]\ttrain's QWK: 0.835556\tvalid's QWK: 0.835938\n",
      "[125]\ttrain's QWK: 0.858673\tvalid's QWK: 0.854507\n",
      "[150]\ttrain's QWK: 0.868945\tvalid's QWK: 0.869946\n",
      "[175]\ttrain's QWK: 0.872527\tvalid's QWK: 0.876357\n",
      "[200]\ttrain's QWK: 0.875301\tvalid's QWK: 0.876048\n",
      "[225]\ttrain's QWK: 0.878176\tvalid's QWK: 0.876536\n",
      "Early stopping, best iteration is:\n",
      "[167]\ttrain's QWK: 0.871701\tvalid's QWK: 0.879335\n",
      "Evaluated only: QWK\n"
     ]
    },
    {
     "name": "stderr",
     "output_type": "stream",
     "text": [
      "/media/ishfar/New Volume/Studies/Projects/Kaggle-Automated-Essay-Scoring/lib/criterion/metrics.py:34: RuntimeWarning: invalid value encountered in scalar divide\n",
      "  precision = tp / (tp + fp)\n"
     ]
    },
    {
     "name": "stdout",
     "output_type": "stream",
     "text": [
      "[LightGBM] [Info] Using self-defined objective function\n",
      "Training until validation scores don't improve for 75 rounds\n",
      "[25]\ttrain's QWK: 0.445974\tvalid's QWK: 0.402015\n",
      "[50]\ttrain's QWK: 0.736091\tvalid's QWK: 0.727993\n",
      "[75]\ttrain's QWK: 0.802692\tvalid's QWK: 0.790698\n",
      "[100]\ttrain's QWK: 0.838353\tvalid's QWK: 0.830327\n",
      "[125]\ttrain's QWK: 0.859473\tvalid's QWK: 0.84886\n",
      "[150]\ttrain's QWK: 0.869247\tvalid's QWK: 0.853369\n",
      "[175]\ttrain's QWK: 0.872628\tvalid's QWK: 0.860017\n",
      "[200]\ttrain's QWK: 0.876106\tvalid's QWK: 0.863314\n",
      "[225]\ttrain's QWK: 0.879267\tvalid's QWK: 0.866426\n",
      "[250]\ttrain's QWK: 0.881527\tvalid's QWK: 0.870534\n",
      "[275]\ttrain's QWK: 0.88286\tvalid's QWK: 0.869972\n",
      "[300]\ttrain's QWK: 0.88413\tvalid's QWK: 0.870491\n",
      "[325]\ttrain's QWK: 0.884804\tvalid's QWK: 0.870101\n",
      "[350]\ttrain's QWK: 0.885\tvalid's QWK: 0.871176\n",
      "[375]\ttrain's QWK: 0.885803\tvalid's QWK: 0.87245\n",
      "[400]\ttrain's QWK: 0.886419\tvalid's QWK: 0.873373\n",
      "[425]\ttrain's QWK: 0.886761\tvalid's QWK: 0.873373\n",
      "[450]\ttrain's QWK: 0.887053\tvalid's QWK: 0.874051\n",
      "[475]\ttrain's QWK: 0.887336\tvalid's QWK: 0.874796\n",
      "[500]\ttrain's QWK: 0.887618\tvalid's QWK: 0.874796\n",
      "[525]\ttrain's QWK: 0.887781\tvalid's QWK: 0.875148\n",
      "[550]\ttrain's QWK: 0.888034\tvalid's QWK: 0.874405\n",
      "[575]\ttrain's QWK: 0.888316\tvalid's QWK: 0.874405\n",
      "Early stopping, best iteration is:\n",
      "[505]\ttrain's QWK: 0.887605\tvalid's QWK: 0.875558\n",
      "Evaluated only: QWK\n",
      "[LightGBM] [Info] Using self-defined objective function\n",
      "Training until validation scores don't improve for 75 rounds\n",
      "[25]\ttrain's QWK: 0.429496\tvalid's QWK: 0.401221\n",
      "[50]\ttrain's QWK: 0.739269\tvalid's QWK: 0.734414\n",
      "[75]\ttrain's QWK: 0.797853\tvalid's QWK: 0.791733\n",
      "[100]\ttrain's QWK: 0.838635\tvalid's QWK: 0.823398\n",
      "[125]\ttrain's QWK: 0.858012\tvalid's QWK: 0.848586\n",
      "[150]\ttrain's QWK: 0.867767\tvalid's QWK: 0.86275\n",
      "[175]\ttrain's QWK: 0.872654\tvalid's QWK: 0.873198\n",
      "[200]\ttrain's QWK: 0.875538\tvalid's QWK: 0.872517\n",
      "[225]\ttrain's QWK: 0.878469\tvalid's QWK: 0.874931\n",
      "[250]\ttrain's QWK: 0.88056\tvalid's QWK: 0.877785\n",
      "[275]\ttrain's QWK: 0.882025\tvalid's QWK: 0.877478\n",
      "[300]\ttrain's QWK: 0.882597\tvalid's QWK: 0.879335\n",
      "[325]\ttrain's QWK: 0.883202\tvalid's QWK: 0.880276\n",
      "[350]\ttrain's QWK: 0.883926\tvalid's QWK: 0.882561\n",
      "[375]\ttrain's QWK: 0.884721\tvalid's QWK: 0.884416\n",
      "[400]\ttrain's QWK: 0.885525\tvalid's QWK: 0.885633\n",
      "[425]\ttrain's QWK: 0.885826\tvalid's QWK: 0.885771\n",
      "[450]\ttrain's QWK: 0.885961\tvalid's QWK: 0.88549\n",
      "Early stopping, best iteration is:\n",
      "[377]\ttrain's QWK: 0.884758\tvalid's QWK: 0.886525\n",
      "Evaluated only: QWK\n",
      "[LightGBM] [Info] Using self-defined objective function\n",
      "Training until validation scores don't improve for 75 rounds\n",
      "[25]\ttrain's QWK: 0.432256\tvalid's QWK: 0.459512\n",
      "[50]\ttrain's QWK: 0.740082\tvalid's QWK: 0.741231\n",
      "[75]\ttrain's QWK: 0.801139\tvalid's QWK: 0.807671\n",
      "[100]\ttrain's QWK: 0.838469\tvalid's QWK: 0.858812\n",
      "[125]\ttrain's QWK: 0.857145\tvalid's QWK: 0.880846\n",
      "[150]\ttrain's QWK: 0.867945\tvalid's QWK: 0.883719\n",
      "[175]\ttrain's QWK: 0.872412\tvalid's QWK: 0.888168\n",
      "[200]\ttrain's QWK: 0.875297\tvalid's QWK: 0.892808\n",
      "[225]\ttrain's QWK: 0.877687\tvalid's QWK: 0.894566\n",
      "[250]\ttrain's QWK: 0.880017\tvalid's QWK: 0.900228\n",
      "[275]\ttrain's QWK: 0.881103\tvalid's QWK: 0.901272\n",
      "[300]\ttrain's QWK: 0.882407\tvalid's QWK: 0.900063\n",
      "[325]\ttrain's QWK: 0.883144\tvalid's QWK: 0.89987\n",
      "Early stopping, best iteration is:\n",
      "[263]\ttrain's QWK: 0.880646\tvalid's QWK: 0.901885\n",
      "Evaluated only: QWK\n",
      "[LightGBM] [Info] Using self-defined objective function\n",
      "Training until validation scores don't improve for 75 rounds\n",
      "[25]\ttrain's QWK: 0.44534\tvalid's QWK: 0.440085\n",
      "[50]\ttrain's QWK: 0.738517\tvalid's QWK: 0.748839\n",
      "[75]\ttrain's QWK: 0.798934\tvalid's QWK: 0.81078\n",
      "[100]\ttrain's QWK: 0.837202\tvalid's QWK: 0.850234\n",
      "[125]\ttrain's QWK: 0.857798\tvalid's QWK: 0.868358\n",
      "[150]\ttrain's QWK: 0.868531\tvalid's QWK: 0.878107\n",
      "[175]\ttrain's QWK: 0.872995\tvalid's QWK: 0.877414\n",
      "[200]\ttrain's QWK: 0.875896\tvalid's QWK: 0.883662\n",
      "[225]\ttrain's QWK: 0.878888\tvalid's QWK: 0.889301\n",
      "[250]\ttrain's QWK: 0.881643\tvalid's QWK: 0.889426\n",
      "[275]\ttrain's QWK: 0.882934\tvalid's QWK: 0.889296\n",
      "[300]\ttrain's QWK: 0.883689\tvalid's QWK: 0.890519\n",
      "[325]\ttrain's QWK: 0.884775\tvalid's QWK: 0.88991\n",
      "[350]\ttrain's QWK: 0.885156\tvalid's QWK: 0.8896\n",
      "Early stopping, best iteration is:\n",
      "[294]\ttrain's QWK: 0.883201\tvalid's QWK: 0.890519\n",
      "Evaluated only: QWK\n",
      "[LightGBM] [Info] Using self-defined objective function\n",
      "Training until validation scores don't improve for 75 rounds\n",
      "[25]\ttrain's QWK: 0.440443\tvalid's QWK: 0.458166\n",
      "[50]\ttrain's QWK: 0.734864\tvalid's QWK: 0.74528\n",
      "[75]\ttrain's QWK: 0.797779\tvalid's QWK: 0.807876\n",
      "[100]\ttrain's QWK: 0.836925\tvalid's QWK: 0.84144\n",
      "[125]\ttrain's QWK: 0.858611\tvalid's QWK: 0.854289\n",
      "[150]\ttrain's QWK: 0.867743\tvalid's QWK: 0.865665\n",
      "[175]\ttrain's QWK: 0.872189\tvalid's QWK: 0.870305\n",
      "[200]\ttrain's QWK: 0.875252\tvalid's QWK: 0.875252\n",
      "[225]\ttrain's QWK: 0.877704\tvalid's QWK: 0.874268\n",
      "[250]\ttrain's QWK: 0.88021\tvalid's QWK: 0.880609\n",
      "[275]\ttrain's QWK: 0.881675\tvalid's QWK: 0.884166\n",
      "[300]\ttrain's QWK: 0.882772\tvalid's QWK: 0.88582\n",
      "[325]\ttrain's QWK: 0.883931\tvalid's QWK: 0.886278\n",
      "[350]\ttrain's QWK: 0.884902\tvalid's QWK: 0.889087\n",
      "[375]\ttrain's QWK: 0.88531\tvalid's QWK: 0.888517\n",
      "[400]\ttrain's QWK: 0.885804\tvalid's QWK: 0.888665\n",
      "[425]\ttrain's QWK: 0.886115\tvalid's QWK: 0.888081\n",
      "Early stopping, best iteration is:\n",
      "[369]\ttrain's QWK: 0.885423\tvalid's QWK: 0.889103\n",
      "Evaluated only: QWK\n",
      "[LightGBM] [Info] Using self-defined objective function\n",
      "Training until validation scores don't improve for 75 rounds\n",
      "[25]\ttrain's QWK: 0.451153\tvalid's QWK: 0.451584\n",
      "[50]\ttrain's QWK: 0.733765\tvalid's QWK: 0.750813\n",
      "[75]\ttrain's QWK: 0.801672\tvalid's QWK: 0.811178\n",
      "[100]\ttrain's QWK: 0.837697\tvalid's QWK: 0.842529\n",
      "[125]\ttrain's QWK: 0.858215\tvalid's QWK: 0.868722\n",
      "[150]\ttrain's QWK: 0.868171\tvalid's QWK: 0.872389\n",
      "[175]\ttrain's QWK: 0.872959\tvalid's QWK: 0.874072\n",
      "[200]\ttrain's QWK: 0.875962\tvalid's QWK: 0.879626\n",
      "[225]\ttrain's QWK: 0.878819\tvalid's QWK: 0.882017\n",
      "[250]\ttrain's QWK: 0.880689\tvalid's QWK: 0.88239\n",
      "[275]\ttrain's QWK: 0.882373\tvalid's QWK: 0.883205\n",
      "[300]\ttrain's QWK: 0.883546\tvalid's QWK: 0.88329\n",
      "[325]\ttrain's QWK: 0.884519\tvalid's QWK: 0.884202\n",
      "[350]\ttrain's QWK: 0.885111\tvalid's QWK: 0.883047\n",
      "[375]\ttrain's QWK: 0.885833\tvalid's QWK: 0.883047\n",
      "Early stopping, best iteration is:\n",
      "[307]\ttrain's QWK: 0.883914\tvalid's QWK: 0.884632\n",
      "Evaluated only: QWK\n",
      "[LightGBM] [Info] Using self-defined objective function\n",
      "Training until validation scores don't improve for 75 rounds\n",
      "[25]\ttrain's QWK: 0.437367\tvalid's QWK: 0.446109\n",
      "[50]\ttrain's QWK: 0.736324\tvalid's QWK: 0.709577\n",
      "[75]\ttrain's QWK: 0.803163\tvalid's QWK: 0.779754\n",
      "[100]\ttrain's QWK: 0.837253\tvalid's QWK: 0.819525\n",
      "[125]\ttrain's QWK: 0.860082\tvalid's QWK: 0.841188\n",
      "[150]\ttrain's QWK: 0.868048\tvalid's QWK: 0.850237\n",
      "[175]\ttrain's QWK: 0.873789\tvalid's QWK: 0.859283\n",
      "[200]\ttrain's QWK: 0.875708\tvalid's QWK: 0.859262\n",
      "[225]\ttrain's QWK: 0.878263\tvalid's QWK: 0.859845\n",
      "[250]\ttrain's QWK: 0.88084\tvalid's QWK: 0.861158\n",
      "[275]\ttrain's QWK: 0.882268\tvalid's QWK: 0.864384\n",
      "[300]\ttrain's QWK: 0.883605\tvalid's QWK: 0.862254\n",
      "[325]\ttrain's QWK: 0.884518\tvalid's QWK: 0.861637\n",
      "Early stopping, best iteration is:\n",
      "[268]\ttrain's QWK: 0.881708\tvalid's QWK: 0.864793\n",
      "Evaluated only: QWK\n",
      "[LightGBM] [Info] Using self-defined objective function\n",
      "Training until validation scores don't improve for 75 rounds\n",
      "[25]\ttrain's QWK: 0.438075\tvalid's QWK: 0.459232\n",
      "[50]\ttrain's QWK: 0.73541\tvalid's QWK: 0.755888\n",
      "[75]\ttrain's QWK: 0.798545\tvalid's QWK: 0.82083\n",
      "[100]\ttrain's QWK: 0.839101\tvalid's QWK: 0.846194\n",
      "[125]\ttrain's QWK: 0.858007\tvalid's QWK: 0.870082\n",
      "[150]\ttrain's QWK: 0.867227\tvalid's QWK: 0.874738\n",
      "[175]\ttrain's QWK: 0.871931\tvalid's QWK: 0.882262\n",
      "[200]\ttrain's QWK: 0.87554\tvalid's QWK: 0.882311\n",
      "[225]\ttrain's QWK: 0.87897\tvalid's QWK: 0.883514\n",
      "[250]\ttrain's QWK: 0.881304\tvalid's QWK: 0.883107\n",
      "[275]\ttrain's QWK: 0.882446\tvalid's QWK: 0.885387\n",
      "[300]\ttrain's QWK: 0.883538\tvalid's QWK: 0.886899\n",
      "[325]\ttrain's QWK: 0.884147\tvalid's QWK: 0.889256\n",
      "[350]\ttrain's QWK: 0.885008\tvalid's QWK: 0.889695\n",
      "[375]\ttrain's QWK: 0.885554\tvalid's QWK: 0.890435\n",
      "[400]\ttrain's QWK: 0.886213\tvalid's QWK: 0.890435\n",
      "[425]\ttrain's QWK: 0.886342\tvalid's QWK: 0.890435\n",
      "Early stopping, best iteration is:\n",
      "[361]\ttrain's QWK: 0.885426\tvalid's QWK: 0.890435\n",
      "Evaluated only: QWK\n",
      "[LightGBM] [Info] Using self-defined objective function\n",
      "Training until validation scores don't improve for 75 rounds\n",
      "[25]\ttrain's QWK: 0.444089\tvalid's QWK: 0.431441\n",
      "[50]\ttrain's QWK: 0.734742\tvalid's QWK: 0.74222\n",
      "[75]\ttrain's QWK: 0.798775\tvalid's QWK: 0.812188\n",
      "[100]\ttrain's QWK: 0.836649\tvalid's QWK: 0.83581\n",
      "[125]\ttrain's QWK: 0.85908\tvalid's QWK: 0.867159\n",
      "[150]\ttrain's QWK: 0.868581\tvalid's QWK: 0.873366\n",
      "[175]\ttrain's QWK: 0.872868\tvalid's QWK: 0.871556\n",
      "[200]\ttrain's QWK: 0.875605\tvalid's QWK: 0.874059\n",
      "[225]\ttrain's QWK: 0.878501\tvalid's QWK: 0.877581\n",
      "[250]\ttrain's QWK: 0.880587\tvalid's QWK: 0.876979\n",
      "[275]\ttrain's QWK: 0.882394\tvalid's QWK: 0.879987\n",
      "[300]\ttrain's QWK: 0.883728\tvalid's QWK: 0.878976\n",
      "[325]\ttrain's QWK: 0.884507\tvalid's QWK: 0.878867\n",
      "Early stopping, best iteration is:\n",
      "[257]\ttrain's QWK: 0.881152\tvalid's QWK: 0.88125\n",
      "Evaluated only: QWK\n",
      "[LightGBM] [Info] Using self-defined objective function\n",
      "Training until validation scores don't improve for 75 rounds\n",
      "[25]\ttrain's QWK: 0.440472\tvalid's QWK: 0.462114\n",
      "[50]\ttrain's QWK: 0.736611\tvalid's QWK: 0.746579\n",
      "[75]\ttrain's QWK: 0.80168\tvalid's QWK: 0.808622\n",
      "[100]\ttrain's QWK: 0.837494\tvalid's QWK: 0.841716\n",
      "[125]\ttrain's QWK: 0.859009\tvalid's QWK: 0.857922\n",
      "[150]\ttrain's QWK: 0.867883\tvalid's QWK: 0.868043\n",
      "[175]\ttrain's QWK: 0.873627\tvalid's QWK: 0.872146\n",
      "[200]\ttrain's QWK: 0.875862\tvalid's QWK: 0.870194\n",
      "[225]\ttrain's QWK: 0.879026\tvalid's QWK: 0.874613\n",
      "[250]\ttrain's QWK: 0.880968\tvalid's QWK: 0.87524\n",
      "[275]\ttrain's QWK: 0.882432\tvalid's QWK: 0.877517\n",
      "[300]\ttrain's QWK: 0.883469\tvalid's QWK: 0.879432\n",
      "[325]\ttrain's QWK: 0.883852\tvalid's QWK: 0.879194\n",
      "[350]\ttrain's QWK: 0.884479\tvalid's QWK: 0.879689\n",
      "[375]\ttrain's QWK: 0.885232\tvalid's QWK: 0.879074\n",
      "[400]\ttrain's QWK: 0.885505\tvalid's QWK: 0.87865\n",
      "[425]\ttrain's QWK: 0.885964\tvalid's QWK: 0.880578\n",
      "[450]\ttrain's QWK: 0.886556\tvalid's QWK: 0.88145\n",
      "[475]\ttrain's QWK: 0.886808\tvalid's QWK: 0.882166\n",
      "[500]\ttrain's QWK: 0.886882\tvalid's QWK: 0.881434\n",
      "[525]\ttrain's QWK: 0.887185\tvalid's QWK: 0.883142\n",
      "[550]\ttrain's QWK: 0.8879\tvalid's QWK: 0.883142\n",
      "[575]\ttrain's QWK: 0.888071\tvalid's QWK: 0.882757\n",
      "[600]\ttrain's QWK: 0.888181\tvalid's QWK: 0.882757\n",
      "[625]\ttrain's QWK: 0.888357\tvalid's QWK: 0.881469\n",
      "Early stopping, best iteration is:\n",
      "[570]\ttrain's QWK: 0.887912\tvalid's QWK: 0.883445\n",
      "Evaluated only: QWK\n",
      "[LightGBM] [Info] Using self-defined objective function\n",
      "Training until validation scores don't improve for 75 rounds\n",
      "[25]\ttrain's QWK: 0.447397\tvalid's QWK: 0.431829\n",
      "[50]\ttrain's QWK: 0.736074\tvalid's QWK: 0.731646\n",
      "[75]\ttrain's QWK: 0.799656\tvalid's QWK: 0.804976\n",
      "[100]\ttrain's QWK: 0.836742\tvalid's QWK: 0.841685\n",
      "[125]\ttrain's QWK: 0.857695\tvalid's QWK: 0.861307\n",
      "[150]\ttrain's QWK: 0.867504\tvalid's QWK: 0.871158\n",
      "[175]\ttrain's QWK: 0.872874\tvalid's QWK: 0.872333\n",
      "[200]\ttrain's QWK: 0.875394\tvalid's QWK: 0.877038\n",
      "[225]\ttrain's QWK: 0.878092\tvalid's QWK: 0.877378\n",
      "[250]\ttrain's QWK: 0.879886\tvalid's QWK: 0.880801\n",
      "[275]\ttrain's QWK: 0.882019\tvalid's QWK: 0.882212\n",
      "[300]\ttrain's QWK: 0.883311\tvalid's QWK: 0.881492\n",
      "[325]\ttrain's QWK: 0.883911\tvalid's QWK: 0.884204\n",
      "[350]\ttrain's QWK: 0.884935\tvalid's QWK: 0.887087\n",
      "[375]\ttrain's QWK: 0.885308\tvalid's QWK: 0.886503\n",
      "[400]\ttrain's QWK: 0.885483\tvalid's QWK: 0.88845\n",
      "Early stopping, best iteration is:\n",
      "[343]\ttrain's QWK: 0.88469\tvalid's QWK: 0.888594\n",
      "Evaluated only: QWK\n",
      "[LightGBM] [Info] Using self-defined objective function\n",
      "Training until validation scores don't improve for 75 rounds\n",
      "[25]\ttrain's QWK: 0.441682\tvalid's QWK: 0.443102\n",
      "[50]\ttrain's QWK: 0.733626\tvalid's QWK: 0.750862\n",
      "[75]\ttrain's QWK: 0.801056\tvalid's QWK: 0.807043\n",
      "[100]\ttrain's QWK: 0.83332\tvalid's QWK: 0.829683\n",
      "[125]\ttrain's QWK: 0.85869\tvalid's QWK: 0.854749\n",
      "[150]\ttrain's QWK: 0.86875\tvalid's QWK: 0.861276\n",
      "[175]\ttrain's QWK: 0.873331\tvalid's QWK: 0.869087\n",
      "[200]\ttrain's QWK: 0.875739\tvalid's QWK: 0.874176\n",
      "[225]\ttrain's QWK: 0.87886\tvalid's QWK: 0.879045\n",
      "[250]\ttrain's QWK: 0.88102\tvalid's QWK: 0.881509\n",
      "[275]\ttrain's QWK: 0.881909\tvalid's QWK: 0.884721\n",
      "[300]\ttrain's QWK: 0.882549\tvalid's QWK: 0.886247\n",
      "[325]\ttrain's QWK: 0.883721\tvalid's QWK: 0.884908\n",
      "[350]\ttrain's QWK: 0.884532\tvalid's QWK: 0.886857\n",
      "[375]\ttrain's QWK: 0.88502\tvalid's QWK: 0.888908\n",
      "[400]\ttrain's QWK: 0.885375\tvalid's QWK: 0.888328\n",
      "[425]\ttrain's QWK: 0.885771\tvalid's QWK: 0.888045\n",
      "[450]\ttrain's QWK: 0.885895\tvalid's QWK: 0.888339\n",
      "[475]\ttrain's QWK: 0.886354\tvalid's QWK: 0.889367\n",
      "Early stopping, best iteration is:\n",
      "[403]\ttrain's QWK: 0.885449\tvalid's QWK: 0.88978\n",
      "Evaluated only: QWK\n",
      "[LightGBM] [Info] Using self-defined objective function\n",
      "Training until validation scores don't improve for 75 rounds\n",
      "[25]\ttrain's QWK: 0.445098\tvalid's QWK: 0.434694\n",
      "[50]\ttrain's QWK: 0.731988\tvalid's QWK: 0.744756\n",
      "[75]\ttrain's QWK: 0.797158\tvalid's QWK: 0.794405\n",
      "[100]\ttrain's QWK: 0.834925\tvalid's QWK: 0.836112\n",
      "[125]\ttrain's QWK: 0.856608\tvalid's QWK: 0.859574\n",
      "[150]\ttrain's QWK: 0.867543\tvalid's QWK: 0.875025\n",
      "[175]\ttrain's QWK: 0.871361\tvalid's QWK: 0.882015\n",
      "[200]\ttrain's QWK: 0.874527\tvalid's QWK: 0.887749\n",
      "[225]\ttrain's QWK: 0.877644\tvalid's QWK: 0.893695\n",
      "[250]\ttrain's QWK: 0.879213\tvalid's QWK: 0.893658\n",
      "[275]\ttrain's QWK: 0.881206\tvalid's QWK: 0.895133\n",
      "[300]\ttrain's QWK: 0.882644\tvalid's QWK: 0.896433\n",
      "[325]\ttrain's QWK: 0.883458\tvalid's QWK: 0.897868\n",
      "[350]\ttrain's QWK: 0.883762\tvalid's QWK: 0.897868\n",
      "[375]\ttrain's QWK: 0.883805\tvalid's QWK: 0.899472\n",
      "[400]\ttrain's QWK: 0.884385\tvalid's QWK: 0.900078\n",
      "[425]\ttrain's QWK: 0.884995\tvalid's QWK: 0.900078\n",
      "[450]\ttrain's QWK: 0.885178\tvalid's QWK: 0.899752\n",
      "[475]\ttrain's QWK: 0.885293\tvalid's QWK: 0.901356\n",
      "[500]\ttrain's QWK: 0.885519\tvalid's QWK: 0.901356\n",
      "[525]\ttrain's QWK: 0.88601\tvalid's QWK: 0.901356\n",
      "Early stopping, best iteration is:\n",
      "[466]\ttrain's QWK: 0.885179\tvalid's QWK: 0.901356\n",
      "Evaluated only: QWK\n",
      "[LightGBM] [Info] Using self-defined objective function\n",
      "Training until validation scores don't improve for 75 rounds\n",
      "[25]\ttrain's QWK: 0.437723\tvalid's QWK: 0.423674\n",
      "[50]\ttrain's QWK: 0.737255\tvalid's QWK: 0.746801\n",
      "[75]\ttrain's QWK: 0.796605\tvalid's QWK: 0.809208\n",
      "[100]\ttrain's QWK: 0.836893\tvalid's QWK: 0.848924\n",
      "[125]\ttrain's QWK: 0.85784\tvalid's QWK: 0.867189\n",
      "[150]\ttrain's QWK: 0.867486\tvalid's QWK: 0.87696\n",
      "[175]\ttrain's QWK: 0.871901\tvalid's QWK: 0.879916\n",
      "[200]\ttrain's QWK: 0.874227\tvalid's QWK: 0.879997\n",
      "[225]\ttrain's QWK: 0.877133\tvalid's QWK: 0.887092\n",
      "[250]\ttrain's QWK: 0.879946\tvalid's QWK: 0.88571\n",
      "[275]\ttrain's QWK: 0.881311\tvalid's QWK: 0.884021\n",
      "[300]\ttrain's QWK: 0.881969\tvalid's QWK: 0.888115\n",
      "[325]\ttrain's QWK: 0.883193\tvalid's QWK: 0.888875\n",
      "[350]\ttrain's QWK: 0.883754\tvalid's QWK: 0.891562\n",
      "[375]\ttrain's QWK: 0.884497\tvalid's QWK: 0.892597\n",
      "[400]\ttrain's QWK: 0.884954\tvalid's QWK: 0.892002\n",
      "[425]\ttrain's QWK: 0.885263\tvalid's QWK: 0.891077\n",
      "Early stopping, best iteration is:\n",
      "[361]\ttrain's QWK: 0.884009\tvalid's QWK: 0.893207\n",
      "Evaluated only: QWK\n",
      "[LightGBM] [Info] Using self-defined objective function\n",
      "Training until validation scores don't improve for 75 rounds\n",
      "[25]\ttrain's QWK: 0.439959\tvalid's QWK: 0.413559\n",
      "[50]\ttrain's QWK: 0.738426\tvalid's QWK: 0.732162\n",
      "[75]\ttrain's QWK: 0.795982\tvalid's QWK: 0.790981\n",
      "[100]\ttrain's QWK: 0.838462\tvalid's QWK: 0.824069\n",
      "[125]\ttrain's QWK: 0.858886\tvalid's QWK: 0.851744\n",
      "[150]\ttrain's QWK: 0.868716\tvalid's QWK: 0.862031\n",
      "[175]\ttrain's QWK: 0.873059\tvalid's QWK: 0.870462\n",
      "[200]\ttrain's QWK: 0.876037\tvalid's QWK: 0.871197\n",
      "[225]\ttrain's QWK: 0.878653\tvalid's QWK: 0.869857\n",
      "[250]\ttrain's QWK: 0.880761\tvalid's QWK: 0.872563\n",
      "[275]\ttrain's QWK: 0.882372\tvalid's QWK: 0.873439\n",
      "[300]\ttrain's QWK: 0.883491\tvalid's QWK: 0.875004\n",
      "[325]\ttrain's QWK: 0.883992\tvalid's QWK: 0.877655\n",
      "[350]\ttrain's QWK: 0.884589\tvalid's QWK: 0.881078\n",
      "[375]\ttrain's QWK: 0.885243\tvalid's QWK: 0.882034\n",
      "[400]\ttrain's QWK: 0.885866\tvalid's QWK: 0.882947\n",
      "[425]\ttrain's QWK: 0.886053\tvalid's QWK: 0.883699\n",
      "[450]\ttrain's QWK: 0.88639\tvalid's QWK: 0.883699\n",
      "[475]\ttrain's QWK: 0.886717\tvalid's QWK: 0.883581\n",
      "[500]\ttrain's QWK: 0.887094\tvalid's QWK: 0.883581\n",
      "[525]\ttrain's QWK: 0.887794\tvalid's QWK: 0.883423\n",
      "[550]\ttrain's QWK: 0.888165\tvalid's QWK: 0.884014\n",
      "[575]\ttrain's QWK: 0.888342\tvalid's QWK: 0.88509\n",
      "[600]\ttrain's QWK: 0.888537\tvalid's QWK: 0.886288\n",
      "[625]\ttrain's QWK: 0.888976\tvalid's QWK: 0.887794\n",
      "[650]\ttrain's QWK: 0.888904\tvalid's QWK: 0.887186\n",
      "[675]\ttrain's QWK: 0.889044\tvalid's QWK: 0.887794\n",
      "[700]\ttrain's QWK: 0.889452\tvalid's QWK: 0.888387\n",
      "Did not meet early stopping. Best iteration is:\n",
      "[695]\ttrain's QWK: 0.889414\tvalid's QWK: 0.888387\n",
      "Evaluated only: QWK\n",
      "[LightGBM] [Info] Using self-defined objective function\n",
      "Training until validation scores don't improve for 75 rounds\n",
      "[25]\ttrain's QWK: 0.441813\tvalid's QWK: 0.439338\n",
      "[50]\ttrain's QWK: 0.734261\tvalid's QWK: 0.731178\n",
      "[75]\ttrain's QWK: 0.802908\tvalid's QWK: 0.797818\n",
      "[100]\ttrain's QWK: 0.836393\tvalid's QWK: 0.827089\n",
      "[125]\ttrain's QWK: 0.857449\tvalid's QWK: 0.846389\n",
      "[150]\ttrain's QWK: 0.867748\tvalid's QWK: 0.86149\n",
      "[175]\ttrain's QWK: 0.872343\tvalid's QWK: 0.864672\n",
      "[200]\ttrain's QWK: 0.874358\tvalid's QWK: 0.869411\n",
      "[225]\ttrain's QWK: 0.877305\tvalid's QWK: 0.876013\n",
      "[250]\ttrain's QWK: 0.880169\tvalid's QWK: 0.876378\n",
      "[275]\ttrain's QWK: 0.881722\tvalid's QWK: 0.875456\n",
      "[300]\ttrain's QWK: 0.882684\tvalid's QWK: 0.874607\n",
      "Early stopping, best iteration is:\n",
      "[242]\ttrain's QWK: 0.879517\tvalid's QWK: 0.876971\n",
      "Evaluated only: QWK\n"
     ]
    },
    {
     "name": "stderr",
     "output_type": "stream",
     "text": [
      "/media/ishfar/New Volume/Studies/Projects/Kaggle-Automated-Essay-Scoring/lib/criterion/metrics.py:36: RuntimeWarning: invalid value encountered in scalar divide\n",
      "  f1 = (2 * precision * recall) / (precision + recall)\n"
     ]
    },
    {
     "name": "stdout",
     "output_type": "stream",
     "text": [
      "[LightGBM] [Info] Using self-defined objective function\n",
      "Training until validation scores don't improve for 75 rounds\n",
      "[25]\ttrain's QWK: 0.440956\tvalid's QWK: 0.450025\n",
      "[50]\ttrain's QWK: 0.73887\tvalid's QWK: 0.729784\n",
      "[75]\ttrain's QWK: 0.800432\tvalid's QWK: 0.783951\n",
      "[100]\ttrain's QWK: 0.835144\tvalid's QWK: 0.823484\n",
      "[125]\ttrain's QWK: 0.858387\tvalid's QWK: 0.850166\n",
      "[150]\ttrain's QWK: 0.86897\tvalid's QWK: 0.861721\n",
      "[175]\ttrain's QWK: 0.87369\tvalid's QWK: 0.86143\n",
      "[200]\ttrain's QWK: 0.876226\tvalid's QWK: 0.86489\n",
      "[225]\ttrain's QWK: 0.878904\tvalid's QWK: 0.866617\n",
      "[250]\ttrain's QWK: 0.880646\tvalid's QWK: 0.871584\n",
      "[275]\ttrain's QWK: 0.882524\tvalid's QWK: 0.872895\n",
      "[300]\ttrain's QWK: 0.883564\tvalid's QWK: 0.873255\n",
      "[325]\ttrain's QWK: 0.884663\tvalid's QWK: 0.877129\n",
      "[350]\ttrain's QWK: 0.885212\tvalid's QWK: 0.878696\n",
      "[375]\ttrain's QWK: 0.885797\tvalid's QWK: 0.879447\n",
      "[400]\ttrain's QWK: 0.885959\tvalid's QWK: 0.8823\n",
      "[425]\ttrain's QWK: 0.886323\tvalid's QWK: 0.882379\n",
      "[450]\ttrain's QWK: 0.886687\tvalid's QWK: 0.883253\n",
      "[475]\ttrain's QWK: 0.887029\tvalid's QWK: 0.884306\n",
      "[500]\ttrain's QWK: 0.887313\tvalid's QWK: 0.884306\n",
      "[525]\ttrain's QWK: 0.887388\tvalid's QWK: 0.884874\n",
      "[550]\ttrain's QWK: 0.887717\tvalid's QWK: 0.884606\n",
      "[575]\ttrain's QWK: 0.888014\tvalid's QWK: 0.884606\n",
      "Early stopping, best iteration is:\n",
      "[505]\ttrain's QWK: 0.88724\tvalid's QWK: 0.884874\n",
      "Evaluated only: QWK\n",
      "[LightGBM] [Info] Using self-defined objective function\n",
      "Training until validation scores don't improve for 75 rounds\n",
      "[25]\ttrain's QWK: 0.439991\tvalid's QWK: 0.443197\n",
      "[50]\ttrain's QWK: 0.740831\tvalid's QWK: 0.719486\n",
      "[75]\ttrain's QWK: 0.800067\tvalid's QWK: 0.791801\n",
      "[100]\ttrain's QWK: 0.839322\tvalid's QWK: 0.823694\n",
      "[125]\ttrain's QWK: 0.858953\tvalid's QWK: 0.839711\n",
      "[150]\ttrain's QWK: 0.868499\tvalid's QWK: 0.850647\n",
      "[175]\ttrain's QWK: 0.872883\tvalid's QWK: 0.857799\n",
      "[200]\ttrain's QWK: 0.876113\tvalid's QWK: 0.862127\n",
      "[225]\ttrain's QWK: 0.877648\tvalid's QWK: 0.868336\n",
      "[250]\ttrain's QWK: 0.880464\tvalid's QWK: 0.869036\n",
      "[275]\ttrain's QWK: 0.882376\tvalid's QWK: 0.871954\n",
      "[300]\ttrain's QWK: 0.883649\tvalid's QWK: 0.871833\n",
      "[325]\ttrain's QWK: 0.88451\tvalid's QWK: 0.871774\n",
      "[350]\ttrain's QWK: 0.885428\tvalid's QWK: 0.870806\n",
      "Early stopping, best iteration is:\n",
      "[279]\ttrain's QWK: 0.882518\tvalid's QWK: 0.872876\n",
      "Evaluated only: QWK\n"
     ]
    }
   ],
   "source": [
    "oof_df = pd.DataFrame()\n",
    "\n",
    "for idx, (train_idx, valid_idx) in enumerate(skf.split(X, y)):\n",
    "    X_train, y_train = X.loc[train_idx], y.loc[train_idx]\n",
    "    X_valid, y_valid = X.loc[valid_idx], y.loc[valid_idx]\n",
    "    id_valid = ids.loc[valid_idx].to_numpy()\n",
    "\n",
    "    model, predictor = train_loop(X_train, y_train, X_valid, y_valid)\n",
    "\n",
    "    with open(f\"output/LGBM/{idx}.pkl\", \"wb\") as file:\n",
    "        pkl.dump({\"predictor\": predictor, \"model\": model}, file)\n",
    "\n",
    "    oof = validate_model(idx, X_valid, y_valid, id_valid, predictor)\n",
    "    oof_df = pd.concat([oof_df, oof])"
   ]
  },
  {
   "cell_type": "code",
   "execution_count": 15,
   "metadata": {},
   "outputs": [
    {
     "name": "stdout",
     "output_type": "stream",
     "text": [
      "Overall Score: 0.8854\n"
     ]
    }
   ],
   "source": [
    "score = get_score(oof_df[\"score\"], oof_df[\"pred_score\"])\n",
    "print(f'Overall Score: {score:<.4f}')\n",
    "wandb.log({\"CV/qwk_score\": score})"
   ]
  },
  {
   "cell_type": "code",
   "execution_count": 16,
   "metadata": {},
   "outputs": [],
   "source": [
    "wandb.log({\"oof_table\": wandb.Table(dataframe=oof_df)})"
   ]
  },
  {
   "cell_type": "code",
   "execution_count": 17,
   "metadata": {},
   "outputs": [],
   "source": [
    "log_metrics(\n",
    "    pd.DataFrame(\n",
    "        {\n",
    "            \"score\": oof_df.score.to_numpy(),\n",
    "            \"pred_score\": oof_df.pred_score.to_numpy(),\n",
    "        }\n",
    "    ),\n",
    "    \"Overall\",\n",
    ")"
   ]
  },
  {
   "cell_type": "code",
   "execution_count": 18,
   "metadata": {},
   "outputs": [
    {
     "data": {
      "application/vnd.jupyter.widget-view+json": {
       "model_id": "de42657e38c148208dee755acbbbeee1",
       "version_major": 2,
       "version_minor": 0
      },
      "text/plain": [
       "VBox(children=(Label(value='0.666 MB of 0.666 MB uploaded\\r'), FloatProgress(value=1.0, max=1.0)))"
      ]
     },
     "metadata": {},
     "output_type": "display_data"
    },
    {
     "data": {
      "text/html": [
       "<style>\n",
       "    table.wandb td:nth-child(1) { padding: 0 10px; text-align: left ; width: auto;} td:nth-child(2) {text-align: left ; width: 100%}\n",
       "    .wandb-row { display: flex; flex-direction: row; flex-wrap: wrap; justify-content: flex-start; width: 100% }\n",
       "    .wandb-col { display: flex; flex-direction: column; flex-basis: 100%; flex: 1; padding: 10px; }\n",
       "    </style>\n",
       "<div class=\"wandb-row\"><div class=\"wandb-col\"><h3>Run history:</h3><br/><table class=\"wandb\"><tr><td>CV/qwk_score</td><td>▁</td></tr></table><br/></div><div class=\"wandb-col\"><h3>Run summary:</h3><br/><table class=\"wandb\"><tr><td>CV/qwk_score</td><td>0.88536</td></tr></table><br/></div></div>"
      ],
      "text/plain": [
       "<IPython.core.display.HTML object>"
      ]
     },
     "metadata": {},
     "output_type": "display_data"
    },
    {
     "data": {
      "text/html": [
       " View run <strong style=\"color:#cdcd00\">LGBM-ASE-4</strong> at: <a href='https://wandb.ai/laplacesdemon43/Kaggle_ASE_2.0/runs/anjothez' target=\"_blank\">https://wandb.ai/laplacesdemon43/Kaggle_ASE_2.0/runs/anjothez</a><br/> View project at: <a href='https://wandb.ai/laplacesdemon43/Kaggle_ASE_2.0' target=\"_blank\">https://wandb.ai/laplacesdemon43/Kaggle_ASE_2.0</a><br/>Synced 6 W&B file(s), 105 media file(s), 105 artifact file(s) and 1 other file(s)"
      ],
      "text/plain": [
       "<IPython.core.display.HTML object>"
      ]
     },
     "metadata": {},
     "output_type": "display_data"
    },
    {
     "data": {
      "text/html": [
       "Find logs at: <code>./wandb/run-20240530_153333-anjothez/logs</code>"
      ],
      "text/plain": [
       "<IPython.core.display.HTML object>"
      ]
     },
     "metadata": {},
     "output_type": "display_data"
    }
   ],
   "source": [
    "wandb.finish()"
   ]
  }
 ],
 "metadata": {
  "kernelspec": {
   "display_name": "Python 3 (ipykernel)",
   "language": "python",
   "name": "python3"
  },
  "language_info": {
   "codemirror_mode": {
    "name": "ipython",
    "version": 3
   },
   "file_extension": ".py",
   "mimetype": "text/x-python",
   "name": "python",
   "nbconvert_exporter": "python",
   "pygments_lexer": "ipython3",
   "version": "3.11.8"
  }
 },
 "nbformat": 4,
 "nbformat_minor": 4
}
