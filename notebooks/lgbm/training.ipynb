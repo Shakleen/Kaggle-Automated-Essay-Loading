{
 "cells": [
  {
   "cell_type": "markdown",
   "metadata": {},
   "source": [
    "# LGBM - Training\n",
    "\n",
    "Sources\n",
    "1. [LGBM & Deberta Explained by ZULQARNAIN ALI](https://www.kaggle.com/code/zulqarnainalipk/lgbm-deberta-explained)"
   ]
  },
  {
   "cell_type": "markdown",
   "metadata": {},
   "source": [
    "## Setup"
   ]
  },
  {
   "cell_type": "code",
   "execution_count": 1,
   "metadata": {},
   "outputs": [],
   "source": [
    "import os\n",
    "import pandas as pd\n",
    "import numpy as np\n",
    "from sklearn.metrics import cohen_kappa_score\n",
    "import lightgbm as lgb\n",
    "import pickle as pkl\n",
    "import wandb\n",
    "from lightgbm import log_evaluation, early_stopping\n",
    "from sklearn.metrics import cohen_kappa_score\n",
    "from sklearn.model_selection import StratifiedKFold"
   ]
  },
  {
   "cell_type": "code",
   "execution_count": 2,
   "metadata": {},
   "outputs": [],
   "source": [
    "os.chdir(\"../../\")"
   ]
  },
  {
   "cell_type": "code",
   "execution_count": 3,
   "metadata": {},
   "outputs": [],
   "source": [
    "from lib.config import config\n",
    "from lib.paths import Paths\n",
    "from lib.utils.utils import seed_everything\n",
    "from lib.criterion.metrics import log_metrics\n",
    "from lib.model.utils import quadratic_weighted_kappa, qwk_obj, get_score"
   ]
  },
  {
   "cell_type": "code",
   "execution_count": 4,
   "metadata": {},
   "outputs": [],
   "source": [
    "seed_everything()"
   ]
  },
  {
   "cell_type": "markdown",
   "metadata": {},
   "source": [
    "### Setting Up WandB"
   ]
  },
  {
   "cell_type": "code",
   "execution_count": 5,
   "metadata": {},
   "outputs": [],
   "source": [
    "WANDB_PROJECT = \"Kaggle_ASE_2.0\"\n",
    "WANDB_NAME = f\"LGBM-ASE-11\""
   ]
  },
  {
   "cell_type": "code",
   "execution_count": 6,
   "metadata": {},
   "outputs": [
    {
     "name": "stderr",
     "output_type": "stream",
     "text": [
      "Failed to detect the name of this notebook, you can set it manually with the WANDB_NOTEBOOK_NAME environment variable to enable code saving.\n",
      "\u001b[34m\u001b[1mwandb\u001b[0m: Currently logged in as: \u001b[33mshakleenishfar\u001b[0m (\u001b[33mlaplacesdemon43\u001b[0m). Use \u001b[1m`wandb login --relogin`\u001b[0m to force relogin\n",
      "\u001b[34m\u001b[1mwandb\u001b[0m: \u001b[33mWARNING\u001b[0m If you're specifying your api key in code, ensure this code is not shared publicly.\n",
      "\u001b[34m\u001b[1mwandb\u001b[0m: \u001b[33mWARNING\u001b[0m Consider setting the WANDB_API_KEY environment variable, or running `wandb login` from the command line.\n",
      "\u001b[34m\u001b[1mwandb\u001b[0m: Appending key for api.wandb.ai to your netrc file: /home/ishfar/.netrc\n"
     ]
    },
    {
     "data": {
      "text/html": [
       "wandb version 0.17.1 is available!  To upgrade, please run:\n",
       " $ pip install wandb --upgrade"
      ],
      "text/plain": [
       "<IPython.core.display.HTML object>"
      ]
     },
     "metadata": {},
     "output_type": "display_data"
    },
    {
     "data": {
      "text/html": [
       "Tracking run with wandb version 0.16.6"
      ],
      "text/plain": [
       "<IPython.core.display.HTML object>"
      ]
     },
     "metadata": {},
     "output_type": "display_data"
    },
    {
     "data": {
      "text/html": [
       "Run data is saved locally in <code>/media/ishfar/New Volume/Studies/Projects/Kaggle-Automated-Essay-Scoring/wandb/run-20240607_122754-zyll6fxd</code>"
      ],
      "text/plain": [
       "<IPython.core.display.HTML object>"
      ]
     },
     "metadata": {},
     "output_type": "display_data"
    },
    {
     "data": {
      "text/html": [
       "Syncing run <strong><a href='https://wandb.ai/laplacesdemon43/Kaggle_ASE_2.0/runs/zyll6fxd' target=\"_blank\">LGBM-ASE-11</a></strong> to <a href='https://wandb.ai/laplacesdemon43/Kaggle_ASE_2.0' target=\"_blank\">Weights & Biases</a> (<a href='https://wandb.me/run' target=\"_blank\">docs</a>)<br/>"
      ],
      "text/plain": [
       "<IPython.core.display.HTML object>"
      ]
     },
     "metadata": {},
     "output_type": "display_data"
    },
    {
     "data": {
      "text/html": [
       " View project at <a href='https://wandb.ai/laplacesdemon43/Kaggle_ASE_2.0' target=\"_blank\">https://wandb.ai/laplacesdemon43/Kaggle_ASE_2.0</a>"
      ],
      "text/plain": [
       "<IPython.core.display.HTML object>"
      ]
     },
     "metadata": {},
     "output_type": "display_data"
    },
    {
     "data": {
      "text/html": [
       " View run at <a href='https://wandb.ai/laplacesdemon43/Kaggle_ASE_2.0/runs/zyll6fxd' target=\"_blank\">https://wandb.ai/laplacesdemon43/Kaggle_ASE_2.0/runs/zyll6fxd</a>"
      ],
      "text/plain": [
       "<IPython.core.display.HTML object>"
      ]
     },
     "metadata": {},
     "output_type": "display_data"
    }
   ],
   "source": [
    "wandb.login(key=os.environ.get('WANDB_API_KEY'))\n",
    "wandb.init(\n",
    "    project=WANDB_PROJECT,\n",
    "    name=WANDB_NAME,\n",
    "    save_code=True,\n",
    "    job_type=\"train\",\n",
    "    config=config,\n",
    ")\n",
    "config = wandb.config"
   ]
  },
  {
   "cell_type": "markdown",
   "metadata": {},
   "source": [
    "## Model Training"
   ]
  },
  {
   "cell_type": "markdown",
   "metadata": {},
   "source": [
    "### Dataset Creation"
   ]
  },
  {
   "cell_type": "code",
   "execution_count": 7,
   "metadata": {},
   "outputs": [
    {
     "data": {
      "text/plain": [
       "(17307, 19381)"
      ]
     },
     "execution_count": 7,
     "metadata": {},
     "output_type": "execute_result"
    }
   ],
   "source": [
    "df = pd.read_csv(Paths.FEATURE_ENGG_CSV_PATH)\n",
    "df.shape"
   ]
  },
  {
   "cell_type": "code",
   "execution_count": 8,
   "metadata": {},
   "outputs": [
    {
     "data": {
      "text/plain": [
       "((17307, 19379), (17307,))"
      ]
     },
     "execution_count": 8,
     "metadata": {},
     "output_type": "execute_result"
    }
   ],
   "source": [
    "ids = df.loc[:, \"essay_id\"]\n",
    "X, y = df.drop(columns=[\"score\", \"essay_id\"]), df.loc[:, \"score\"]\n",
    "del df\n",
    "\n",
    "X.shape, y.shape"
   ]
  },
  {
   "cell_type": "markdown",
   "metadata": {},
   "source": [
    "### Callbacks"
   ]
  },
  {
   "cell_type": "code",
   "execution_count": 9,
   "metadata": {},
   "outputs": [],
   "source": [
    "callbacks = [\n",
    "    log_evaluation(period=25),\n",
    "    early_stopping(stopping_rounds=75, first_metric_only=True),\n",
    "]"
   ]
  },
  {
   "cell_type": "markdown",
   "metadata": {},
   "source": [
    "### Constants"
   ]
  },
  {
   "cell_type": "code",
   "execution_count": 10,
   "metadata": {},
   "outputs": [],
   "source": [
    "a = config.lgbm_a\n",
    "b = config.lgbm_b"
   ]
  },
  {
   "cell_type": "markdown",
   "metadata": {},
   "source": [
    "### Training Loop"
   ]
  },
  {
   "cell_type": "code",
   "execution_count": 11,
   "metadata": {},
   "outputs": [],
   "source": [
    "def train_loop(X_train, y_train, X_valid, y_valid):\n",
    "    y_train = y_train.astype(np.float32) - a\n",
    "    y_valid = y_valid.astype(np.float32) - a\n",
    "\n",
    "    model = lgb.LGBMRegressor(\n",
    "        objective=qwk_obj,\n",
    "        metrics=\"None\",\n",
    "        learning_rate=0.01,\n",
    "        max_depth=5,\n",
    "        num_leaves=10,\n",
    "        colsample_bytree=0.3,\n",
    "        reg_alpha=0.7,\n",
    "        reg_lambda=0.1,\n",
    "        n_estimators=700,\n",
    "        random_state=config.random_seed,\n",
    "        extra_trees=True,\n",
    "        class_weight=\"balanced\",\n",
    "        n_jobs=6,\n",
    "        verbosity=0,\n",
    "    )\n",
    "\n",
    "    # Train model\n",
    "    predictor = model.fit(\n",
    "        X_train,\n",
    "        y_train,\n",
    "        eval_names=[\"train\", \"valid\"],\n",
    "        eval_set=[(X_train, y_train), (X_valid, y_valid)],\n",
    "        eval_metric=quadratic_weighted_kappa,\n",
    "        callbacks=callbacks,\n",
    "    )\n",
    "\n",
    "    return model, predictor"
   ]
  },
  {
   "cell_type": "code",
   "execution_count": 12,
   "metadata": {},
   "outputs": [],
   "source": [
    "def validate_model(idx, X_valid, y_valid, id_valid, predictor):\n",
    "    y_valid_int = y_valid.astype(np.int64).to_numpy()\n",
    "    preds = predictor.predict(X_valid) + a\n",
    "    preds = preds.clip(1, 6).round().astype(np.int64)\n",
    "\n",
    "    oof = pd.DataFrame(\n",
    "        {\n",
    "            \"essay_id\": id_valid,\n",
    "            \"score\": y_valid_int - 1,\n",
    "            \"pred_score\": preds - 1,\n",
    "        }\n",
    "    )\n",
    "    log_metrics(oof, f\"Fold {idx}\")\n",
    "\n",
    "    return oof"
   ]
  },
  {
   "cell_type": "markdown",
   "metadata": {},
   "source": [
    "### Fold Loop"
   ]
  },
  {
   "cell_type": "code",
   "execution_count": 13,
   "metadata": {},
   "outputs": [],
   "source": [
    "skf = StratifiedKFold(\n",
    "    n_splits=config.lgbm_n_folds,\n",
    "    random_state=config.random_seed,\n",
    "    shuffle=True,\n",
    ")"
   ]
  },
  {
   "cell_type": "code",
   "execution_count": 14,
   "metadata": {},
   "outputs": [
    {
     "name": "stdout",
     "output_type": "stream",
     "text": [
      "[LightGBM] [Info] Using self-defined objective function\n",
      "Training until validation scores don't improve for 75 rounds\n",
      "[25]\ttrain's QWK: 0.445845\tvalid's QWK: 0.478024\n",
      "[50]\ttrain's QWK: 0.735721\tvalid's QWK: 0.751619\n",
      "[75]\ttrain's QWK: 0.798084\tvalid's QWK: 0.806355\n",
      "[100]\ttrain's QWK: 0.834671\tvalid's QWK: 0.841421\n",
      "[125]\ttrain's QWK: 0.858527\tvalid's QWK: 0.86505\n",
      "[150]\ttrain's QWK: 0.868501\tvalid's QWK: 0.875763\n",
      "[175]\ttrain's QWK: 0.872081\tvalid's QWK: 0.880666\n",
      "[200]\ttrain's QWK: 0.875253\tvalid's QWK: 0.885677\n",
      "[225]\ttrain's QWK: 0.877606\tvalid's QWK: 0.890765\n",
      "[250]\ttrain's QWK: 0.880345\tvalid's QWK: 0.892712\n",
      "[275]\ttrain's QWK: 0.881992\tvalid's QWK: 0.893371\n",
      "[300]\ttrain's QWK: 0.882984\tvalid's QWK: 0.895274\n",
      "[325]\ttrain's QWK: 0.884392\tvalid's QWK: 0.894643\n",
      "[350]\ttrain's QWK: 0.885169\tvalid's QWK: 0.895337\n",
      "[375]\ttrain's QWK: 0.885814\tvalid's QWK: 0.895184\n",
      "[400]\ttrain's QWK: 0.886439\tvalid's QWK: 0.894587\n",
      "Early stopping, best iteration is:\n",
      "[341]\ttrain's QWK: 0.885041\tvalid's QWK: 0.89638\n",
      "Evaluated only: QWK\n",
      "[LightGBM] [Info] Using self-defined objective function\n",
      "Training until validation scores don't improve for 75 rounds\n",
      "[25]\ttrain's QWK: 0.446918\tvalid's QWK: 0.443627\n",
      "[50]\ttrain's QWK: 0.736223\tvalid's QWK: 0.732717\n",
      "[75]\ttrain's QWK: 0.799674\tvalid's QWK: 0.791699\n",
      "[100]\ttrain's QWK: 0.834621\tvalid's QWK: 0.838238\n",
      "[125]\ttrain's QWK: 0.85784\tvalid's QWK: 0.859162\n",
      "[150]\ttrain's QWK: 0.868795\tvalid's QWK: 0.864121\n",
      "[175]\ttrain's QWK: 0.873757\tvalid's QWK: 0.864833\n",
      "[200]\ttrain's QWK: 0.876715\tvalid's QWK: 0.871468\n",
      "[225]\ttrain's QWK: 0.879467\tvalid's QWK: 0.873318\n",
      "[250]\ttrain's QWK: 0.881675\tvalid's QWK: 0.876685\n",
      "[275]\ttrain's QWK: 0.883258\tvalid's QWK: 0.878785\n",
      "[300]\ttrain's QWK: 0.884449\tvalid's QWK: 0.88003\n",
      "[325]\ttrain's QWK: 0.885037\tvalid's QWK: 0.882168\n",
      "[350]\ttrain's QWK: 0.885617\tvalid's QWK: 0.882671\n",
      "[375]\ttrain's QWK: 0.88659\tvalid's QWK: 0.884941\n",
      "[400]\ttrain's QWK: 0.887501\tvalid's QWK: 0.883803\n",
      "[425]\ttrain's QWK: 0.887921\tvalid's QWK: 0.884379\n",
      "[450]\ttrain's QWK: 0.888243\tvalid's QWK: 0.886017\n",
      "[475]\ttrain's QWK: 0.888796\tvalid's QWK: 0.885742\n",
      "[500]\ttrain's QWK: 0.889104\tvalid's QWK: 0.886763\n",
      "[525]\ttrain's QWK: 0.889417\tvalid's QWK: 0.886763\n",
      "[550]\ttrain's QWK: 0.889572\tvalid's QWK: 0.886763\n",
      "[575]\ttrain's QWK: 0.890194\tvalid's QWK: 0.886911\n",
      "[600]\ttrain's QWK: 0.890891\tvalid's QWK: 0.887366\n",
      "[625]\ttrain's QWK: 0.891116\tvalid's QWK: 0.886339\n",
      "Early stopping, best iteration is:\n",
      "[560]\ttrain's QWK: 0.889778\tvalid's QWK: 0.887499\n",
      "Evaluated only: QWK\n",
      "[LightGBM] [Info] Using self-defined objective function\n",
      "Training until validation scores don't improve for 75 rounds\n",
      "[25]\ttrain's QWK: 0.441774\tvalid's QWK: 0.457463\n",
      "[50]\ttrain's QWK: 0.736761\tvalid's QWK: 0.743887\n",
      "[75]\ttrain's QWK: 0.798682\tvalid's QWK: 0.808576\n",
      "[100]\ttrain's QWK: 0.8384\tvalid's QWK: 0.849448\n",
      "[125]\ttrain's QWK: 0.859222\tvalid's QWK: 0.864863\n",
      "[150]\ttrain's QWK: 0.868385\tvalid's QWK: 0.879729\n",
      "[175]\ttrain's QWK: 0.872324\tvalid's QWK: 0.881342\n",
      "[200]\ttrain's QWK: 0.87551\tvalid's QWK: 0.883106\n",
      "[225]\ttrain's QWK: 0.878069\tvalid's QWK: 0.886648\n",
      "[250]\ttrain's QWK: 0.880836\tvalid's QWK: 0.889158\n",
      "[275]\ttrain's QWK: 0.882386\tvalid's QWK: 0.894086\n",
      "[300]\ttrain's QWK: 0.883588\tvalid's QWK: 0.894891\n",
      "[325]\ttrain's QWK: 0.884063\tvalid's QWK: 0.896398\n",
      "[350]\ttrain's QWK: 0.884929\tvalid's QWK: 0.896398\n",
      "[375]\ttrain's QWK: 0.885485\tvalid's QWK: 0.896781\n",
      "[400]\ttrain's QWK: 0.885871\tvalid's QWK: 0.897477\n",
      "[425]\ttrain's QWK: 0.886281\tvalid's QWK: 0.896322\n",
      "[450]\ttrain's QWK: 0.886787\tvalid's QWK: 0.894848\n",
      "Early stopping, best iteration is:\n",
      "[382]\ttrain's QWK: 0.885578\tvalid's QWK: 0.897477\n",
      "Evaluated only: QWK\n",
      "[LightGBM] [Info] Using self-defined objective function\n",
      "Training until validation scores don't improve for 75 rounds\n",
      "[25]\ttrain's QWK: 0.452567\tvalid's QWK: 0.434457\n",
      "[50]\ttrain's QWK: 0.732239\tvalid's QWK: 0.71105\n",
      "[75]\ttrain's QWK: 0.800295\tvalid's QWK: 0.785628\n",
      "[100]\ttrain's QWK: 0.835068\tvalid's QWK: 0.813522\n",
      "[125]\ttrain's QWK: 0.857924\tvalid's QWK: 0.845312\n",
      "[150]\ttrain's QWK: 0.867641\tvalid's QWK: 0.858346\n",
      "[175]\ttrain's QWK: 0.872228\tvalid's QWK: 0.862457\n",
      "[200]\ttrain's QWK: 0.875885\tvalid's QWK: 0.866441\n",
      "[225]\ttrain's QWK: 0.879243\tvalid's QWK: 0.869006\n",
      "[250]\ttrain's QWK: 0.881648\tvalid's QWK: 0.873689\n",
      "[275]\ttrain's QWK: 0.883195\tvalid's QWK: 0.87337\n",
      "[300]\ttrain's QWK: 0.883847\tvalid's QWK: 0.872528\n",
      "[325]\ttrain's QWK: 0.884883\tvalid's QWK: 0.872813\n",
      "Early stopping, best iteration is:\n",
      "[258]\ttrain's QWK: 0.882254\tvalid's QWK: 0.874412\n",
      "Evaluated only: QWK\n",
      "[LightGBM] [Info] Using self-defined objective function\n",
      "Training until validation scores don't improve for 75 rounds\n",
      "[25]\ttrain's QWK: 0.456852\tvalid's QWK: 0.452273\n",
      "[50]\ttrain's QWK: 0.736354\tvalid's QWK: 0.741102\n",
      "[75]\ttrain's QWK: 0.800328\tvalid's QWK: 0.796712\n",
      "[100]\ttrain's QWK: 0.836756\tvalid's QWK: 0.833797\n",
      "[125]\ttrain's QWK: 0.859591\tvalid's QWK: 0.858884\n",
      "[150]\ttrain's QWK: 0.869567\tvalid's QWK: 0.868675\n",
      "[175]\ttrain's QWK: 0.874061\tvalid's QWK: 0.873044\n",
      "[200]\ttrain's QWK: 0.876439\tvalid's QWK: 0.875218\n",
      "[225]\ttrain's QWK: 0.878676\tvalid's QWK: 0.878368\n",
      "[250]\ttrain's QWK: 0.881284\tvalid's QWK: 0.882805\n",
      "[275]\ttrain's QWK: 0.883393\tvalid's QWK: 0.88418\n",
      "[300]\ttrain's QWK: 0.884389\tvalid's QWK: 0.886713\n",
      "[325]\ttrain's QWK: 0.885274\tvalid's QWK: 0.886008\n",
      "[350]\ttrain's QWK: 0.88621\tvalid's QWK: 0.887475\n",
      "[375]\ttrain's QWK: 0.88673\tvalid's QWK: 0.885324\n",
      "[400]\ttrain's QWK: 0.887214\tvalid's QWK: 0.883174\n",
      "Early stopping, best iteration is:\n",
      "[347]\ttrain's QWK: 0.88605\tvalid's QWK: 0.887475\n",
      "Evaluated only: QWK\n",
      "[LightGBM] [Info] Using self-defined objective function\n",
      "Training until validation scores don't improve for 75 rounds\n",
      "[25]\ttrain's QWK: 0.446269\tvalid's QWK: 0.423172\n",
      "[50]\ttrain's QWK: 0.734971\tvalid's QWK: 0.711458\n",
      "[75]\ttrain's QWK: 0.797102\tvalid's QWK: 0.79051\n",
      "[100]\ttrain's QWK: 0.837684\tvalid's QWK: 0.827475\n",
      "[125]\ttrain's QWK: 0.860234\tvalid's QWK: 0.845197\n",
      "[150]\ttrain's QWK: 0.868546\tvalid's QWK: 0.853822\n",
      "[175]\ttrain's QWK: 0.874311\tvalid's QWK: 0.859808\n",
      "[200]\ttrain's QWK: 0.877592\tvalid's QWK: 0.860972\n",
      "[225]\ttrain's QWK: 0.880631\tvalid's QWK: 0.859517\n",
      "[250]\ttrain's QWK: 0.882833\tvalid's QWK: 0.860898\n",
      "[275]\ttrain's QWK: 0.884666\tvalid's QWK: 0.862645\n",
      "[300]\ttrain's QWK: 0.885037\tvalid's QWK: 0.867092\n",
      "[325]\ttrain's QWK: 0.885526\tvalid's QWK: 0.867472\n",
      "[350]\ttrain's QWK: 0.886619\tvalid's QWK: 0.870085\n",
      "[375]\ttrain's QWK: 0.887197\tvalid's QWK: 0.870836\n",
      "[400]\ttrain's QWK: 0.887688\tvalid's QWK: 0.870434\n",
      "[425]\ttrain's QWK: 0.888136\tvalid's QWK: 0.870434\n",
      "Early stopping, best iteration is:\n",
      "[364]\ttrain's QWK: 0.886936\tvalid's QWK: 0.871431\n",
      "Evaluated only: QWK\n",
      "[LightGBM] [Info] Using self-defined objective function\n",
      "Training until validation scores don't improve for 75 rounds\n",
      "[25]\ttrain's QWK: 0.444594\tvalid's QWK: 0.435965\n",
      "[50]\ttrain's QWK: 0.736278\tvalid's QWK: 0.738063\n",
      "[75]\ttrain's QWK: 0.798704\tvalid's QWK: 0.792538\n",
      "[100]\ttrain's QWK: 0.840984\tvalid's QWK: 0.841074\n",
      "[125]\ttrain's QWK: 0.860445\tvalid's QWK: 0.85749\n",
      "[150]\ttrain's QWK: 0.868454\tvalid's QWK: 0.86312\n",
      "[175]\ttrain's QWK: 0.873206\tvalid's QWK: 0.872421\n",
      "[200]\ttrain's QWK: 0.876206\tvalid's QWK: 0.874496\n",
      "[225]\ttrain's QWK: 0.879337\tvalid's QWK: 0.876655\n",
      "[250]\ttrain's QWK: 0.881555\tvalid's QWK: 0.878335\n",
      "[275]\ttrain's QWK: 0.882934\tvalid's QWK: 0.879658\n",
      "[300]\ttrain's QWK: 0.884289\tvalid's QWK: 0.884542\n",
      "[325]\ttrain's QWK: 0.885106\tvalid's QWK: 0.886175\n",
      "[350]\ttrain's QWK: 0.885842\tvalid's QWK: 0.885895\n",
      "[375]\ttrain's QWK: 0.886476\tvalid's QWK: 0.885895\n",
      "Early stopping, best iteration is:\n",
      "[304]\ttrain's QWK: 0.884381\tvalid's QWK: 0.886175\n",
      "Evaluated only: QWK\n",
      "[LightGBM] [Info] Using self-defined objective function\n",
      "Training until validation scores don't improve for 75 rounds\n",
      "[25]\ttrain's QWK: 0.442767\tvalid's QWK: 0.422555\n",
      "[50]\ttrain's QWK: 0.735494\tvalid's QWK: 0.722501\n",
      "[75]\ttrain's QWK: 0.795943\tvalid's QWK: 0.78492\n",
      "[100]\ttrain's QWK: 0.835525\tvalid's QWK: 0.823515\n",
      "[125]\ttrain's QWK: 0.858537\tvalid's QWK: 0.846975\n",
      "[150]\ttrain's QWK: 0.867351\tvalid's QWK: 0.856323\n",
      "[175]\ttrain's QWK: 0.872664\tvalid's QWK: 0.858224\n",
      "[200]\ttrain's QWK: 0.875309\tvalid's QWK: 0.860209\n",
      "[225]\ttrain's QWK: 0.878425\tvalid's QWK: 0.864781\n",
      "[250]\ttrain's QWK: 0.880625\tvalid's QWK: 0.86449\n",
      "[275]\ttrain's QWK: 0.882446\tvalid's QWK: 0.866579\n",
      "[300]\ttrain's QWK: 0.883889\tvalid's QWK: 0.869102\n",
      "[325]\ttrain's QWK: 0.884407\tvalid's QWK: 0.870827\n",
      "[350]\ttrain's QWK: 0.884982\tvalid's QWK: 0.870522\n",
      "[375]\ttrain's QWK: 0.886008\tvalid's QWK: 0.870816\n",
      "[400]\ttrain's QWK: 0.886901\tvalid's QWK: 0.870013\n",
      "Early stopping, best iteration is:\n",
      "[330]\ttrain's QWK: 0.884598\tvalid's QWK: 0.871764\n",
      "Evaluated only: QWK\n",
      "[LightGBM] [Info] Using self-defined objective function\n",
      "Training until validation scores don't improve for 75 rounds\n",
      "[25]\ttrain's QWK: 0.438004\tvalid's QWK: 0.416967\n",
      "[50]\ttrain's QWK: 0.736395\tvalid's QWK: 0.735141\n",
      "[75]\ttrain's QWK: 0.801845\tvalid's QWK: 0.79664\n",
      "[100]\ttrain's QWK: 0.838726\tvalid's QWK: 0.823377\n",
      "[125]\ttrain's QWK: 0.859852\tvalid's QWK: 0.847894\n",
      "[150]\ttrain's QWK: 0.868065\tvalid's QWK: 0.864476\n",
      "[175]\ttrain's QWK: 0.872952\tvalid's QWK: 0.871788\n",
      "[200]\ttrain's QWK: 0.875211\tvalid's QWK: 0.87674\n",
      "[225]\ttrain's QWK: 0.878295\tvalid's QWK: 0.877617\n",
      "[250]\ttrain's QWK: 0.880583\tvalid's QWK: 0.876302\n",
      "[275]\ttrain's QWK: 0.882235\tvalid's QWK: 0.880175\n",
      "[300]\ttrain's QWK: 0.883971\tvalid's QWK: 0.883007\n",
      "[325]\ttrain's QWK: 0.884739\tvalid's QWK: 0.882695\n",
      "[350]\ttrain's QWK: 0.885781\tvalid's QWK: 0.883642\n",
      "[375]\ttrain's QWK: 0.886372\tvalid's QWK: 0.882305\n",
      "[400]\ttrain's QWK: 0.886823\tvalid's QWK: 0.882512\n",
      "[425]\ttrain's QWK: 0.887336\tvalid's QWK: 0.882829\n",
      "Early stopping, best iteration is:\n",
      "[362]\ttrain's QWK: 0.886041\tvalid's QWK: 0.884397\n",
      "Evaluated only: QWK\n",
      "[LightGBM] [Info] Using self-defined objective function\n",
      "Training until validation scores don't improve for 75 rounds\n",
      "[25]\ttrain's QWK: 0.44675\tvalid's QWK: 0.465086\n",
      "[50]\ttrain's QWK: 0.729016\tvalid's QWK: 0.727479\n",
      "[75]\ttrain's QWK: 0.797293\tvalid's QWK: 0.806032\n",
      "[100]\ttrain's QWK: 0.838579\tvalid's QWK: 0.860344\n",
      "[125]\ttrain's QWK: 0.861175\tvalid's QWK: 0.880507\n",
      "[150]\ttrain's QWK: 0.869609\tvalid's QWK: 0.885032\n",
      "[175]\ttrain's QWK: 0.873702\tvalid's QWK: 0.890501\n",
      "[200]\ttrain's QWK: 0.875721\tvalid's QWK: 0.893203\n",
      "[225]\ttrain's QWK: 0.879391\tvalid's QWK: 0.894327\n",
      "[250]\ttrain's QWK: 0.88095\tvalid's QWK: 0.897683\n",
      "[275]\ttrain's QWK: 0.882097\tvalid's QWK: 0.897214\n",
      "[300]\ttrain's QWK: 0.88353\tvalid's QWK: 0.898016\n",
      "[325]\ttrain's QWK: 0.884326\tvalid's QWK: 0.898016\n",
      "[350]\ttrain's QWK: 0.884752\tvalid's QWK: 0.900062\n",
      "[375]\ttrain's QWK: 0.885755\tvalid's QWK: 0.900062\n",
      "[400]\ttrain's QWK: 0.886309\tvalid's QWK: 0.89866\n",
      "Early stopping, best iteration is:\n",
      "[329]\ttrain's QWK: 0.88441\tvalid's QWK: 0.900062\n",
      "Evaluated only: QWK\n",
      "[LightGBM] [Info] Using self-defined objective function\n",
      "Training until validation scores don't improve for 75 rounds\n",
      "[25]\ttrain's QWK: 0.453941\tvalid's QWK: 0.457529\n",
      "[50]\ttrain's QWK: 0.73099\tvalid's QWK: 0.735657\n",
      "[75]\ttrain's QWK: 0.794125\tvalid's QWK: 0.808401\n",
      "[100]\ttrain's QWK: 0.83872\tvalid's QWK: 0.845794\n",
      "[125]\ttrain's QWK: 0.858823\tvalid's QWK: 0.868435\n",
      "[150]\ttrain's QWK: 0.868174\tvalid's QWK: 0.873274\n",
      "[175]\ttrain's QWK: 0.873107\tvalid's QWK: 0.879832\n",
      "[200]\ttrain's QWK: 0.875608\tvalid's QWK: 0.885158\n",
      "[225]\ttrain's QWK: 0.878879\tvalid's QWK: 0.889842\n",
      "[250]\ttrain's QWK: 0.880719\tvalid's QWK: 0.890914\n",
      "[275]\ttrain's QWK: 0.882561\tvalid's QWK: 0.889727\n",
      "[300]\ttrain's QWK: 0.88353\tvalid's QWK: 0.888242\n",
      "[325]\ttrain's QWK: 0.884033\tvalid's QWK: 0.88871\n",
      "Early stopping, best iteration is:\n",
      "[253]\ttrain's QWK: 0.880681\tvalid's QWK: 0.891525\n",
      "Evaluated only: QWK\n",
      "[LightGBM] [Info] Using self-defined objective function\n",
      "Training until validation scores don't improve for 75 rounds\n",
      "[25]\ttrain's QWK: 0.448324\tvalid's QWK: 0.468197\n",
      "[50]\ttrain's QWK: 0.73391\tvalid's QWK: 0.738994\n",
      "[75]\ttrain's QWK: 0.799037\tvalid's QWK: 0.807807\n",
      "[100]\ttrain's QWK: 0.840989\tvalid's QWK: 0.842303\n",
      "[125]\ttrain's QWK: 0.860154\tvalid's QWK: 0.857351\n",
      "[150]\ttrain's QWK: 0.869189\tvalid's QWK: 0.870968\n",
      "[175]\ttrain's QWK: 0.873084\tvalid's QWK: 0.877705\n",
      "[200]\ttrain's QWK: 0.876331\tvalid's QWK: 0.878449\n",
      "[225]\ttrain's QWK: 0.879315\tvalid's QWK: 0.881123\n",
      "[250]\ttrain's QWK: 0.881034\tvalid's QWK: 0.882051\n",
      "[275]\ttrain's QWK: 0.883496\tvalid's QWK: 0.887142\n",
      "[300]\ttrain's QWK: 0.884095\tvalid's QWK: 0.887043\n",
      "[325]\ttrain's QWK: 0.885156\tvalid's QWK: 0.888687\n",
      "[350]\ttrain's QWK: 0.885844\tvalid's QWK: 0.888234\n",
      "[375]\ttrain's QWK: 0.88642\tvalid's QWK: 0.887963\n",
      "Early stopping, best iteration is:\n",
      "[306]\ttrain's QWK: 0.884477\tvalid's QWK: 0.889733\n",
      "Evaluated only: QWK\n",
      "[LightGBM] [Info] Using self-defined objective function\n",
      "Training until validation scores don't improve for 75 rounds\n",
      "[25]\ttrain's QWK: 0.446878\tvalid's QWK: 0.441646\n",
      "[50]\ttrain's QWK: 0.730192\tvalid's QWK: 0.749397\n",
      "[75]\ttrain's QWK: 0.794086\tvalid's QWK: 0.801625\n",
      "[100]\ttrain's QWK: 0.835759\tvalid's QWK: 0.838672\n",
      "[125]\ttrain's QWK: 0.858605\tvalid's QWK: 0.868637\n",
      "[150]\ttrain's QWK: 0.868713\tvalid's QWK: 0.873905\n",
      "[175]\ttrain's QWK: 0.873408\tvalid's QWK: 0.878072\n",
      "[200]\ttrain's QWK: 0.875256\tvalid's QWK: 0.878208\n",
      "[225]\ttrain's QWK: 0.878659\tvalid's QWK: 0.874541\n",
      "Early stopping, best iteration is:\n",
      "[171]\ttrain's QWK: 0.872829\tvalid's QWK: 0.878993\n",
      "Evaluated only: QWK\n"
     ]
    },
    {
     "name": "stderr",
     "output_type": "stream",
     "text": [
      "/media/ishfar/New Volume/Studies/Projects/Kaggle-Automated-Essay-Scoring/lib/criterion/metrics.py:34: RuntimeWarning: invalid value encountered in scalar divide\n",
      "  precision = tp / (tp + fp)\n"
     ]
    },
    {
     "name": "stdout",
     "output_type": "stream",
     "text": [
      "[LightGBM] [Info] Using self-defined objective function\n",
      "Training until validation scores don't improve for 75 rounds\n",
      "[25]\ttrain's QWK: 0.456039\tvalid's QWK: 0.446883\n",
      "[50]\ttrain's QWK: 0.728751\tvalid's QWK: 0.695712\n",
      "[75]\ttrain's QWK: 0.796976\tvalid's QWK: 0.77586\n",
      "[100]\ttrain's QWK: 0.839037\tvalid's QWK: 0.82289\n",
      "[125]\ttrain's QWK: 0.862377\tvalid's QWK: 0.845231\n",
      "[150]\ttrain's QWK: 0.870352\tvalid's QWK: 0.856918\n",
      "[175]\ttrain's QWK: 0.874548\tvalid's QWK: 0.858153\n",
      "[200]\ttrain's QWK: 0.877216\tvalid's QWK: 0.860348\n",
      "[225]\ttrain's QWK: 0.87972\tvalid's QWK: 0.864754\n",
      "[250]\ttrain's QWK: 0.881633\tvalid's QWK: 0.863117\n",
      "[275]\ttrain's QWK: 0.883512\tvalid's QWK: 0.865907\n",
      "[300]\ttrain's QWK: 0.884163\tvalid's QWK: 0.865498\n",
      "[325]\ttrain's QWK: 0.885431\tvalid's QWK: 0.865659\n",
      "Early stopping, best iteration is:\n",
      "[271]\ttrain's QWK: 0.883165\tvalid's QWK: 0.866299\n",
      "Evaluated only: QWK\n",
      "[LightGBM] [Info] Using self-defined objective function\n",
      "Training until validation scores don't improve for 75 rounds\n",
      "[25]\ttrain's QWK: 0.441689\tvalid's QWK: 0.441379\n",
      "[50]\ttrain's QWK: 0.737149\tvalid's QWK: 0.752826\n",
      "[75]\ttrain's QWK: 0.802853\tvalid's QWK: 0.816015\n",
      "[100]\ttrain's QWK: 0.836178\tvalid's QWK: 0.848666\n",
      "[125]\ttrain's QWK: 0.858277\tvalid's QWK: 0.8706\n",
      "[150]\ttrain's QWK: 0.867952\tvalid's QWK: 0.876147\n",
      "[175]\ttrain's QWK: 0.873131\tvalid's QWK: 0.876345\n",
      "[200]\ttrain's QWK: 0.876605\tvalid's QWK: 0.881575\n",
      "[225]\ttrain's QWK: 0.880241\tvalid's QWK: 0.886379\n",
      "[250]\ttrain's QWK: 0.882016\tvalid's QWK: 0.884124\n",
      "[275]\ttrain's QWK: 0.882909\tvalid's QWK: 0.888056\n",
      "[300]\ttrain's QWK: 0.883955\tvalid's QWK: 0.888368\n",
      "[325]\ttrain's QWK: 0.884775\tvalid's QWK: 0.887766\n",
      "[350]\ttrain's QWK: 0.885623\tvalid's QWK: 0.889403\n",
      "[375]\ttrain's QWK: 0.886349\tvalid's QWK: 0.890712\n",
      "[400]\ttrain's QWK: 0.887079\tvalid's QWK: 0.889549\n",
      "[425]\ttrain's QWK: 0.887529\tvalid's QWK: 0.889549\n",
      "Early stopping, best iteration is:\n",
      "[372]\ttrain's QWK: 0.886188\tvalid's QWK: 0.891151\n",
      "Evaluated only: QWK\n",
      "[LightGBM] [Info] Using self-defined objective function\n",
      "Training until validation scores don't improve for 75 rounds\n",
      "[25]\ttrain's QWK: 0.457173\tvalid's QWK: 0.461491\n",
      "[50]\ttrain's QWK: 0.732793\tvalid's QWK: 0.733562\n",
      "[75]\ttrain's QWK: 0.79729\tvalid's QWK: 0.81021\n",
      "[100]\ttrain's QWK: 0.839266\tvalid's QWK: 0.843756\n",
      "[125]\ttrain's QWK: 0.860149\tvalid's QWK: 0.86462\n",
      "[150]\ttrain's QWK: 0.869296\tvalid's QWK: 0.877213\n",
      "[175]\ttrain's QWK: 0.872788\tvalid's QWK: 0.878569\n",
      "[200]\ttrain's QWK: 0.875547\tvalid's QWK: 0.878346\n",
      "[225]\ttrain's QWK: 0.878406\tvalid's QWK: 0.880259\n",
      "[250]\ttrain's QWK: 0.880759\tvalid's QWK: 0.879198\n",
      "[275]\ttrain's QWK: 0.882506\tvalid's QWK: 0.879426\n",
      "[300]\ttrain's QWK: 0.883868\tvalid's QWK: 0.879331\n",
      "Early stopping, best iteration is:\n",
      "[240]\ttrain's QWK: 0.879668\tvalid's QWK: 0.880746\n",
      "Evaluated only: QWK\n",
      "[LightGBM] [Info] Using self-defined objective function\n",
      "Training until validation scores don't improve for 75 rounds\n",
      "[25]\ttrain's QWK: 0.452851\tvalid's QWK: 0.469751\n",
      "[50]\ttrain's QWK: 0.738948\tvalid's QWK: 0.74877\n",
      "[75]\ttrain's QWK: 0.796166\tvalid's QWK: 0.796082\n",
      "[100]\ttrain's QWK: 0.839227\tvalid's QWK: 0.841485\n",
      "[125]\ttrain's QWK: 0.861209\tvalid's QWK: 0.867361\n",
      "[150]\ttrain's QWK: 0.870313\tvalid's QWK: 0.87756\n",
      "[175]\ttrain's QWK: 0.874858\tvalid's QWK: 0.878678\n",
      "[200]\ttrain's QWK: 0.877876\tvalid's QWK: 0.880014\n",
      "[225]\ttrain's QWK: 0.879957\tvalid's QWK: 0.877351\n",
      "[250]\ttrain's QWK: 0.882323\tvalid's QWK: 0.879148\n",
      "Early stopping, best iteration is:\n",
      "[182]\ttrain's QWK: 0.87585\tvalid's QWK: 0.881388\n",
      "Evaluated only: QWK\n"
     ]
    },
    {
     "name": "stderr",
     "output_type": "stream",
     "text": [
      "/media/ishfar/New Volume/Studies/Projects/Kaggle-Automated-Essay-Scoring/lib/criterion/metrics.py:34: RuntimeWarning: invalid value encountered in scalar divide\n",
      "  precision = tp / (tp + fp)\n"
     ]
    },
    {
     "name": "stdout",
     "output_type": "stream",
     "text": [
      "[LightGBM] [Info] Using self-defined objective function\n",
      "Training until validation scores don't improve for 75 rounds\n",
      "[25]\ttrain's QWK: 0.43502\tvalid's QWK: 0.43494\n",
      "[50]\ttrain's QWK: 0.739398\tvalid's QWK: 0.737532\n",
      "[75]\ttrain's QWK: 0.798891\tvalid's QWK: 0.797687\n",
      "[100]\ttrain's QWK: 0.83971\tvalid's QWK: 0.835606\n",
      "[125]\ttrain's QWK: 0.860168\tvalid's QWK: 0.863044\n",
      "[150]\ttrain's QWK: 0.868793\tvalid's QWK: 0.868899\n",
      "[175]\ttrain's QWK: 0.873087\tvalid's QWK: 0.87017\n",
      "[200]\ttrain's QWK: 0.875627\tvalid's QWK: 0.872326\n",
      "[225]\ttrain's QWK: 0.878718\tvalid's QWK: 0.876927\n",
      "[250]\ttrain's QWK: 0.880871\tvalid's QWK: 0.881055\n",
      "[275]\ttrain's QWK: 0.882714\tvalid's QWK: 0.882924\n",
      "[300]\ttrain's QWK: 0.883693\tvalid's QWK: 0.885873\n",
      "[325]\ttrain's QWK: 0.885175\tvalid's QWK: 0.887234\n",
      "[350]\ttrain's QWK: 0.885808\tvalid's QWK: 0.88784\n",
      "[375]\ttrain's QWK: 0.886463\tvalid's QWK: 0.887554\n",
      "[400]\ttrain's QWK: 0.886847\tvalid's QWK: 0.888604\n",
      "[425]\ttrain's QWK: 0.887624\tvalid's QWK: 0.888604\n",
      "[450]\ttrain's QWK: 0.888273\tvalid's QWK: 0.888019\n",
      "Early stopping, best iteration is:\n",
      "[384]\ttrain's QWK: 0.886706\tvalid's QWK: 0.888604\n",
      "Evaluated only: QWK\n",
      "[LightGBM] [Info] Using self-defined objective function\n",
      "Training until validation scores don't improve for 75 rounds\n",
      "[25]\ttrain's QWK: 0.444013\tvalid's QWK: 0.45727\n",
      "[50]\ttrain's QWK: 0.735305\tvalid's QWK: 0.752799\n",
      "[75]\ttrain's QWK: 0.797247\tvalid's QWK: 0.800483\n",
      "[100]\ttrain's QWK: 0.836963\tvalid's QWK: 0.832798\n",
      "[125]\ttrain's QWK: 0.86018\tvalid's QWK: 0.860316\n",
      "[150]\ttrain's QWK: 0.869271\tvalid's QWK: 0.868055\n",
      "[175]\ttrain's QWK: 0.873668\tvalid's QWK: 0.87385\n",
      "[200]\ttrain's QWK: 0.876463\tvalid's QWK: 0.878607\n",
      "[225]\ttrain's QWK: 0.878935\tvalid's QWK: 0.880704\n",
      "[250]\ttrain's QWK: 0.880801\tvalid's QWK: 0.884101\n",
      "[275]\ttrain's QWK: 0.882649\tvalid's QWK: 0.886078\n",
      "[300]\ttrain's QWK: 0.883544\tvalid's QWK: 0.887285\n",
      "[325]\ttrain's QWK: 0.884676\tvalid's QWK: 0.889078\n",
      "[350]\ttrain's QWK: 0.885156\tvalid's QWK: 0.888195\n",
      "[375]\ttrain's QWK: 0.886326\tvalid's QWK: 0.889522\n",
      "[400]\ttrain's QWK: 0.886789\tvalid's QWK: 0.890389\n",
      "[425]\ttrain's QWK: 0.887153\tvalid's QWK: 0.889957\n",
      "[450]\ttrain's QWK: 0.887692\tvalid's QWK: 0.889957\n",
      "Early stopping, best iteration is:\n",
      "[399]\ttrain's QWK: 0.886789\tvalid's QWK: 0.890389\n",
      "Evaluated only: QWK\n",
      "[LightGBM] [Info] Using self-defined objective function\n",
      "Training until validation scores don't improve for 75 rounds\n",
      "[25]\ttrain's QWK: 0.441608\tvalid's QWK: 0.443558\n",
      "[50]\ttrain's QWK: 0.73891\tvalid's QWK: 0.747991\n",
      "[75]\ttrain's QWK: 0.799998\tvalid's QWK: 0.799438\n",
      "[100]\ttrain's QWK: 0.835713\tvalid's QWK: 0.844748\n",
      "[125]\ttrain's QWK: 0.860398\tvalid's QWK: 0.86219\n",
      "[150]\ttrain's QWK: 0.869239\tvalid's QWK: 0.876111\n",
      "[175]\ttrain's QWK: 0.873236\tvalid's QWK: 0.882955\n",
      "[200]\ttrain's QWK: 0.875999\tvalid's QWK: 0.888338\n",
      "[225]\ttrain's QWK: 0.878139\tvalid's QWK: 0.891847\n",
      "[250]\ttrain's QWK: 0.880566\tvalid's QWK: 0.892749\n",
      "[275]\ttrain's QWK: 0.882223\tvalid's QWK: 0.895118\n",
      "[300]\ttrain's QWK: 0.88298\tvalid's QWK: 0.895809\n",
      "[325]\ttrain's QWK: 0.88414\tvalid's QWK: 0.897854\n",
      "[350]\ttrain's QWK: 0.885166\tvalid's QWK: 0.899282\n",
      "[375]\ttrain's QWK: 0.885702\tvalid's QWK: 0.90015\n",
      "[400]\ttrain's QWK: 0.886131\tvalid's QWK: 0.897519\n",
      "[425]\ttrain's QWK: 0.886568\tvalid's QWK: 0.897519\n",
      "Early stopping, best iteration is:\n",
      "[369]\ttrain's QWK: 0.885575\tvalid's QWK: 0.90015\n",
      "Evaluated only: QWK\n",
      "[LightGBM] [Info] Using self-defined objective function\n",
      "Training until validation scores don't improve for 75 rounds\n",
      "[25]\ttrain's QWK: 0.443763\tvalid's QWK: 0.411343\n",
      "[50]\ttrain's QWK: 0.736707\tvalid's QWK: 0.746528\n",
      "[75]\ttrain's QWK: 0.79535\tvalid's QWK: 0.812023\n",
      "[100]\ttrain's QWK: 0.836694\tvalid's QWK: 0.847401\n",
      "[125]\ttrain's QWK: 0.858097\tvalid's QWK: 0.868485\n",
      "[150]\ttrain's QWK: 0.867929\tvalid's QWK: 0.871588\n",
      "[175]\ttrain's QWK: 0.872526\tvalid's QWK: 0.877507\n",
      "[200]\ttrain's QWK: 0.874891\tvalid's QWK: 0.880093\n",
      "[225]\ttrain's QWK: 0.877262\tvalid's QWK: 0.881614\n",
      "[250]\ttrain's QWK: 0.879834\tvalid's QWK: 0.884004\n",
      "[275]\ttrain's QWK: 0.88189\tvalid's QWK: 0.8847\n",
      "[300]\ttrain's QWK: 0.883529\tvalid's QWK: 0.883999\n",
      "[325]\ttrain's QWK: 0.884462\tvalid's QWK: 0.884909\n",
      "[350]\ttrain's QWK: 0.885024\tvalid's QWK: 0.884161\n",
      "Early stopping, best iteration is:\n",
      "[276]\ttrain's QWK: 0.881899\tvalid's QWK: 0.885462\n",
      "Evaluated only: QWK\n",
      "[LightGBM] [Info] Using self-defined objective function\n",
      "Training until validation scores don't improve for 75 rounds\n",
      "[25]\ttrain's QWK: 0.436463\tvalid's QWK: 0.414792\n",
      "[50]\ttrain's QWK: 0.738645\tvalid's QWK: 0.725606\n",
      "[75]\ttrain's QWK: 0.797859\tvalid's QWK: 0.793518\n",
      "[100]\ttrain's QWK: 0.837079\tvalid's QWK: 0.825242\n",
      "[125]\ttrain's QWK: 0.858141\tvalid's QWK: 0.84951\n",
      "[150]\ttrain's QWK: 0.867883\tvalid's QWK: 0.864255\n",
      "[175]\ttrain's QWK: 0.872923\tvalid's QWK: 0.865115\n",
      "[200]\ttrain's QWK: 0.875499\tvalid's QWK: 0.871571\n",
      "[225]\ttrain's QWK: 0.879148\tvalid's QWK: 0.874943\n",
      "[250]\ttrain's QWK: 0.882044\tvalid's QWK: 0.880181\n",
      "[275]\ttrain's QWK: 0.883807\tvalid's QWK: 0.880849\n",
      "[300]\ttrain's QWK: 0.884595\tvalid's QWK: 0.88304\n",
      "[325]\ttrain's QWK: 0.885187\tvalid's QWK: 0.883684\n",
      "[350]\ttrain's QWK: 0.885733\tvalid's QWK: 0.88597\n",
      "[375]\ttrain's QWK: 0.886509\tvalid's QWK: 0.886722\n",
      "[400]\ttrain's QWK: 0.887034\tvalid's QWK: 0.886264\n",
      "[425]\ttrain's QWK: 0.887671\tvalid's QWK: 0.888387\n",
      "[450]\ttrain's QWK: 0.888152\tvalid's QWK: 0.887339\n",
      "[475]\ttrain's QWK: 0.888743\tvalid's QWK: 0.887339\n",
      "Early stopping, best iteration is:\n",
      "[412]\ttrain's QWK: 0.887391\tvalid's QWK: 0.888387\n",
      "Evaluated only: QWK\n",
      "[LightGBM] [Info] Using self-defined objective function\n",
      "Training until validation scores don't improve for 75 rounds\n",
      "[25]\ttrain's QWK: 0.444362\tvalid's QWK: 0.438495\n",
      "[50]\ttrain's QWK: 0.731352\tvalid's QWK: 0.730534\n",
      "[75]\ttrain's QWK: 0.801357\tvalid's QWK: 0.793037\n",
      "[100]\ttrain's QWK: 0.838774\tvalid's QWK: 0.831244\n",
      "[125]\ttrain's QWK: 0.859953\tvalid's QWK: 0.852008\n",
      "[150]\ttrain's QWK: 0.868747\tvalid's QWK: 0.862698\n",
      "[175]\ttrain's QWK: 0.873487\tvalid's QWK: 0.867338\n",
      "[200]\ttrain's QWK: 0.876018\tvalid's QWK: 0.867761\n",
      "[225]\ttrain's QWK: 0.879814\tvalid's QWK: 0.871295\n",
      "[250]\ttrain's QWK: 0.882566\tvalid's QWK: 0.874121\n",
      "[275]\ttrain's QWK: 0.884073\tvalid's QWK: 0.874703\n",
      "[300]\ttrain's QWK: 0.884978\tvalid's QWK: 0.874703\n",
      "[325]\ttrain's QWK: 0.88568\tvalid's QWK: 0.874628\n",
      "Early stopping, best iteration is:\n",
      "[251]\ttrain's QWK: 0.882579\tvalid's QWK: 0.875063\n",
      "Evaluated only: QWK\n",
      "[LightGBM] [Info] Using self-defined objective function\n",
      "Training until validation scores don't improve for 75 rounds\n",
      "[25]\ttrain's QWK: 0.448214\tvalid's QWK: 0.459899\n",
      "[50]\ttrain's QWK: 0.736596\tvalid's QWK: 0.727311\n",
      "[75]\ttrain's QWK: 0.798078\tvalid's QWK: 0.78517\n",
      "[100]\ttrain's QWK: 0.837084\tvalid's QWK: 0.830182\n",
      "[125]\ttrain's QWK: 0.860931\tvalid's QWK: 0.849558\n",
      "[150]\ttrain's QWK: 0.869405\tvalid's QWK: 0.85984\n",
      "[175]\ttrain's QWK: 0.873506\tvalid's QWK: 0.866338\n",
      "[200]\ttrain's QWK: 0.875775\tvalid's QWK: 0.868035\n",
      "[225]\ttrain's QWK: 0.87878\tvalid's QWK: 0.869478\n",
      "[250]\ttrain's QWK: 0.881268\tvalid's QWK: 0.87174\n",
      "[275]\ttrain's QWK: 0.883175\tvalid's QWK: 0.8738\n",
      "[300]\ttrain's QWK: 0.884721\tvalid's QWK: 0.876913\n",
      "[325]\ttrain's QWK: 0.88534\tvalid's QWK: 0.879875\n",
      "[350]\ttrain's QWK: 0.885814\tvalid's QWK: 0.878481\n",
      "[375]\ttrain's QWK: 0.886743\tvalid's QWK: 0.881248\n",
      "[400]\ttrain's QWK: 0.887308\tvalid's QWK: 0.881835\n",
      "[425]\ttrain's QWK: 0.887994\tvalid's QWK: 0.882161\n",
      "[450]\ttrain's QWK: 0.888533\tvalid's QWK: 0.883206\n",
      "[475]\ttrain's QWK: 0.888627\tvalid's QWK: 0.882638\n",
      "[500]\ttrain's QWK: 0.888873\tvalid's QWK: 0.882638\n",
      "Early stopping, best iteration is:\n",
      "[434]\ttrain's QWK: 0.888282\tvalid's QWK: 0.883206\n",
      "Evaluated only: QWK\n",
      "[LightGBM] [Info] Using self-defined objective function\n",
      "Training until validation scores don't improve for 75 rounds\n",
      "[25]\ttrain's QWK: 0.434461\tvalid's QWK: 0.467784\n",
      "[50]\ttrain's QWK: 0.738571\tvalid's QWK: 0.714405\n",
      "[75]\ttrain's QWK: 0.799802\tvalid's QWK: 0.789467\n",
      "[100]\ttrain's QWK: 0.839855\tvalid's QWK: 0.831068\n",
      "[125]\ttrain's QWK: 0.861423\tvalid's QWK: 0.844728\n",
      "[150]\ttrain's QWK: 0.868693\tvalid's QWK: 0.850432\n",
      "[175]\ttrain's QWK: 0.874857\tvalid's QWK: 0.854134\n",
      "[200]\ttrain's QWK: 0.876955\tvalid's QWK: 0.857745\n",
      "[225]\ttrain's QWK: 0.879859\tvalid's QWK: 0.866173\n",
      "[250]\ttrain's QWK: 0.882428\tvalid's QWK: 0.871493\n",
      "[275]\ttrain's QWK: 0.884316\tvalid's QWK: 0.874649\n",
      "[300]\ttrain's QWK: 0.884799\tvalid's QWK: 0.875154\n",
      "[325]\ttrain's QWK: 0.886159\tvalid's QWK: 0.875263\n",
      "[350]\ttrain's QWK: 0.887023\tvalid's QWK: 0.874837\n",
      "[375]\ttrain's QWK: 0.887405\tvalid's QWK: 0.876316\n",
      "[400]\ttrain's QWK: 0.887629\tvalid's QWK: 0.877577\n",
      "[425]\ttrain's QWK: 0.888076\tvalid's QWK: 0.877577\n",
      "[450]\ttrain's QWK: 0.88815\tvalid's QWK: 0.876988\n",
      "[475]\ttrain's QWK: 0.888576\tvalid's QWK: 0.878149\n",
      "[500]\ttrain's QWK: 0.888946\tvalid's QWK: 0.878884\n",
      "[525]\ttrain's QWK: 0.889398\tvalid's QWK: 0.87922\n",
      "[550]\ttrain's QWK: 0.889748\tvalid's QWK: 0.87922\n",
      "[575]\ttrain's QWK: 0.89014\tvalid's QWK: 0.879538\n",
      "[600]\ttrain's QWK: 0.890485\tvalid's QWK: 0.87968\n",
      "[625]\ttrain's QWK: 0.890547\tvalid's QWK: 0.87968\n",
      "Early stopping, best iteration is:\n",
      "[570]\ttrain's QWK: 0.890116\tvalid's QWK: 0.880109\n",
      "Evaluated only: QWK\n"
     ]
    }
   ],
   "source": [
    "oof_df = pd.DataFrame()\n",
    "\n",
    "for idx, (train_idx, valid_idx) in enumerate(skf.split(X, y)):\n",
    "    X_train, y_train = X.loc[train_idx], y.loc[train_idx]\n",
    "    X_valid, y_valid = X.loc[valid_idx], y.loc[valid_idx]\n",
    "    id_valid = ids.loc[valid_idx].to_numpy()\n",
    "\n",
    "    model, predictor = train_loop(X_train, y_train, X_valid, y_valid)\n",
    "\n",
    "    with open(f\"output/LGBM/{idx}.pkl\", \"wb\") as file:\n",
    "        pkl.dump({\"predictor\": predictor, \"model\": model}, file)\n",
    "\n",
    "    oof = validate_model(idx, X_valid, y_valid, id_valid, predictor)\n",
    "    oof_df = pd.concat([oof_df, oof])"
   ]
  },
  {
   "cell_type": "code",
   "execution_count": 15,
   "metadata": {},
   "outputs": [
    {
     "name": "stdout",
     "output_type": "stream",
     "text": [
      "Overall Score: 0.8852\n"
     ]
    }
   ],
   "source": [
    "score = get_score(oof_df[\"score\"], oof_df[\"pred_score\"])\n",
    "print(f'Overall Score: {score:<.4f}')\n",
    "wandb.log({\"CV/qwk_score\": score})"
   ]
  },
  {
   "cell_type": "code",
   "execution_count": 16,
   "metadata": {},
   "outputs": [],
   "source": [
    "wandb.log({\"oof_table\": wandb.Table(dataframe=oof_df)})"
   ]
  },
  {
   "cell_type": "code",
   "execution_count": 17,
   "metadata": {},
   "outputs": [],
   "source": [
    "log_metrics(\n",
    "    pd.DataFrame(\n",
    "        {\n",
    "            \"score\": oof_df.score.to_numpy(),\n",
    "            \"pred_score\": oof_df.pred_score.to_numpy(),\n",
    "        }\n",
    "    ),\n",
    "    \"Overall\",\n",
    ")"
   ]
  },
  {
   "cell_type": "code",
   "execution_count": 18,
   "metadata": {},
   "outputs": [
    {
     "data": {
      "application/vnd.jupyter.widget-view+json": {
       "model_id": "e7b45ad15e094e45900d411f41b822cf",
       "version_major": 2,
       "version_minor": 0
      },
      "text/plain": [
       "VBox(children=(Label(value='0.990 MB of 0.990 MB uploaded\\r'), FloatProgress(value=1.0, max=1.0)))"
      ]
     },
     "metadata": {},
     "output_type": "display_data"
    },
    {
     "data": {
      "text/html": [
       "<style>\n",
       "    table.wandb td:nth-child(1) { padding: 0 10px; text-align: left ; width: auto;} td:nth-child(2) {text-align: left ; width: 100%}\n",
       "    .wandb-row { display: flex; flex-direction: row; flex-wrap: wrap; justify-content: flex-start; width: 100% }\n",
       "    .wandb-col { display: flex; flex-direction: column; flex-basis: 100%; flex: 1; padding: 10px; }\n",
       "    </style>\n",
       "<div class=\"wandb-row\"><div class=\"wandb-col\"><h3>Run history:</h3><br/><table class=\"wandb\"><tr><td>CV/qwk_score</td><td>▁</td></tr></table><br/></div><div class=\"wandb-col\"><h3>Run summary:</h3><br/><table class=\"wandb\"><tr><td>CV/qwk_score</td><td>0.88525</td></tr></table><br/></div></div>"
      ],
      "text/plain": [
       "<IPython.core.display.HTML object>"
      ]
     },
     "metadata": {},
     "output_type": "display_data"
    },
    {
     "data": {
      "text/html": [
       " View run <strong style=\"color:#cdcd00\">LGBM-ASE-11</strong> at: <a href='https://wandb.ai/laplacesdemon43/Kaggle_ASE_2.0/runs/zyll6fxd' target=\"_blank\">https://wandb.ai/laplacesdemon43/Kaggle_ASE_2.0/runs/zyll6fxd</a><br/> View project at: <a href='https://wandb.ai/laplacesdemon43/Kaggle_ASE_2.0' target=\"_blank\">https://wandb.ai/laplacesdemon43/Kaggle_ASE_2.0</a><br/>Synced 6 W&B file(s), 105 media file(s), 105 artifact file(s) and 1 other file(s)"
      ],
      "text/plain": [
       "<IPython.core.display.HTML object>"
      ]
     },
     "metadata": {},
     "output_type": "display_data"
    },
    {
     "data": {
      "text/html": [
       "Find logs at: <code>./wandb/run-20240607_122754-zyll6fxd/logs</code>"
      ],
      "text/plain": [
       "<IPython.core.display.HTML object>"
      ]
     },
     "metadata": {},
     "output_type": "display_data"
    }
   ],
   "source": [
    "wandb.finish()"
   ]
  }
 ],
 "metadata": {
  "kernelspec": {
   "display_name": "Python 3 (ipykernel)",
   "language": "python",
   "name": "python3"
  },
  "language_info": {
   "codemirror_mode": {
    "name": "ipython",
    "version": 3
   },
   "file_extension": ".py",
   "mimetype": "text/x-python",
   "name": "python",
   "nbconvert_exporter": "python",
   "pygments_lexer": "ipython3",
   "version": "3.11.8"
  }
 },
 "nbformat": 4,
 "nbformat_minor": 4
}
