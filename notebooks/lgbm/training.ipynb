{
 "cells": [
  {
   "cell_type": "markdown",
   "metadata": {},
   "source": [
    "# LGBM - Training\n",
    "\n",
    "Sources\n",
    "1. [LGBM & Deberta Explained by ZULQARNAIN ALI](https://www.kaggle.com/code/zulqarnainalipk/lgbm-deberta-explained)"
   ]
  },
  {
   "cell_type": "markdown",
   "metadata": {},
   "source": [
    "## Setup"
   ]
  },
  {
   "cell_type": "code",
   "execution_count": 1,
   "metadata": {},
   "outputs": [],
   "source": [
    "import os\n",
    "import pandas as pd\n",
    "import numpy as np\n",
    "from sklearn.metrics import cohen_kappa_score\n",
    "import lightgbm as lgb\n",
    "import pickle as pkl\n",
    "import wandb\n",
    "from lightgbm import log_evaluation, early_stopping\n",
    "from sklearn.metrics import cohen_kappa_score\n",
    "from sklearn.model_selection import StratifiedKFold\n",
    "import matplotlib.pyplot as plt"
   ]
  },
  {
   "cell_type": "code",
   "execution_count": 2,
   "metadata": {},
   "outputs": [],
   "source": [
    "os.chdir(\"../../\")"
   ]
  },
  {
   "cell_type": "code",
   "execution_count": 3,
   "metadata": {},
   "outputs": [],
   "source": [
    "from lib.config import config\n",
    "from lib.paths import Paths\n",
    "from lib.utils.utils import seed_everything\n",
    "from lib.criterion.metrics import log_metrics\n",
    "from lib.model.utils import quadratic_weighted_kappa, qwk_obj, get_score\n",
    "from lib.utils.find_threshold import find_thresholds"
   ]
  },
  {
   "cell_type": "code",
   "execution_count": 4,
   "metadata": {},
   "outputs": [],
   "source": [
    "seed_everything()"
   ]
  },
  {
   "cell_type": "markdown",
   "metadata": {},
   "source": [
    "### Setting Up WandB"
   ]
  },
  {
   "cell_type": "code",
   "execution_count": 5,
   "metadata": {},
   "outputs": [],
   "source": [
    "WANDB_PROJECT = \"Kaggle_ASE_2.0\"\n",
    "WANDB_NAME = f\"LGBM-ASE-13\""
   ]
  },
  {
   "cell_type": "code",
   "execution_count": 6,
   "metadata": {},
   "outputs": [
    {
     "name": "stderr",
     "output_type": "stream",
     "text": [
      "Failed to detect the name of this notebook, you can set it manually with the WANDB_NOTEBOOK_NAME environment variable to enable code saving.\n",
      "\u001b[34m\u001b[1mwandb\u001b[0m: Currently logged in as: \u001b[33mshakleenishfar\u001b[0m (\u001b[33mlaplacesdemon43\u001b[0m). Use \u001b[1m`wandb login --relogin`\u001b[0m to force relogin\n",
      "\u001b[34m\u001b[1mwandb\u001b[0m: \u001b[33mWARNING\u001b[0m If you're specifying your api key in code, ensure this code is not shared publicly.\n",
      "\u001b[34m\u001b[1mwandb\u001b[0m: \u001b[33mWARNING\u001b[0m Consider setting the WANDB_API_KEY environment variable, or running `wandb login` from the command line.\n",
      "\u001b[34m\u001b[1mwandb\u001b[0m: Appending key for api.wandb.ai to your netrc file: /home/ishfar/.netrc\n"
     ]
    },
    {
     "data": {
      "text/html": [
       "wandb version 0.17.1 is available!  To upgrade, please run:\n",
       " $ pip install wandb --upgrade"
      ],
      "text/plain": [
       "<IPython.core.display.HTML object>"
      ]
     },
     "metadata": {},
     "output_type": "display_data"
    },
    {
     "data": {
      "text/html": [
       "Tracking run with wandb version 0.16.6"
      ],
      "text/plain": [
       "<IPython.core.display.HTML object>"
      ]
     },
     "metadata": {},
     "output_type": "display_data"
    },
    {
     "data": {
      "text/html": [
       "Run data is saved locally in <code>/media/ishfar/New Volume/Studies/Projects/Kaggle-Automated-Essay-Scoring/wandb/run-20240608_170138-j7fq74ak</code>"
      ],
      "text/plain": [
       "<IPython.core.display.HTML object>"
      ]
     },
     "metadata": {},
     "output_type": "display_data"
    },
    {
     "data": {
      "text/html": [
       "Syncing run <strong><a href='https://wandb.ai/laplacesdemon43/Kaggle_ASE_2.0/runs/j7fq74ak' target=\"_blank\">LGBM-ASE-13</a></strong> to <a href='https://wandb.ai/laplacesdemon43/Kaggle_ASE_2.0' target=\"_blank\">Weights & Biases</a> (<a href='https://wandb.me/run' target=\"_blank\">docs</a>)<br/>"
      ],
      "text/plain": [
       "<IPython.core.display.HTML object>"
      ]
     },
     "metadata": {},
     "output_type": "display_data"
    },
    {
     "data": {
      "text/html": [
       " View project at <a href='https://wandb.ai/laplacesdemon43/Kaggle_ASE_2.0' target=\"_blank\">https://wandb.ai/laplacesdemon43/Kaggle_ASE_2.0</a>"
      ],
      "text/plain": [
       "<IPython.core.display.HTML object>"
      ]
     },
     "metadata": {},
     "output_type": "display_data"
    },
    {
     "data": {
      "text/html": [
       " View run at <a href='https://wandb.ai/laplacesdemon43/Kaggle_ASE_2.0/runs/j7fq74ak' target=\"_blank\">https://wandb.ai/laplacesdemon43/Kaggle_ASE_2.0/runs/j7fq74ak</a>"
      ],
      "text/plain": [
       "<IPython.core.display.HTML object>"
      ]
     },
     "metadata": {},
     "output_type": "display_data"
    }
   ],
   "source": [
    "wandb.login(key=os.environ.get('WANDB_API_KEY'))\n",
    "wandb.init(\n",
    "    project=WANDB_PROJECT,\n",
    "    name=WANDB_NAME,\n",
    "    save_code=True,\n",
    "    job_type=\"train\",\n",
    "    config=config,\n",
    ")\n",
    "config = wandb.config"
   ]
  },
  {
   "cell_type": "markdown",
   "metadata": {},
   "source": [
    "## Model Training"
   ]
  },
  {
   "cell_type": "markdown",
   "metadata": {},
   "source": [
    "### Dataset Creation"
   ]
  },
  {
   "cell_type": "code",
   "execution_count": 7,
   "metadata": {},
   "outputs": [
    {
     "data": {
      "text/plain": [
       "(17307, 147)"
      ]
     },
     "execution_count": 7,
     "metadata": {},
     "output_type": "execute_result"
    }
   ],
   "source": [
    "df = pd.read_csv(Paths.FEATURE_ENGG_CSV_PATH)\n",
    "df.shape"
   ]
  },
  {
   "cell_type": "code",
   "execution_count": 8,
   "metadata": {},
   "outputs": [
    {
     "data": {
      "text/plain": [
       "((17307, 145), (17307,))"
      ]
     },
     "execution_count": 8,
     "metadata": {},
     "output_type": "execute_result"
    }
   ],
   "source": [
    "ids = df.loc[:, \"essay_id\"]\n",
    "X, y = df.drop(columns=[\"score\", \"essay_id\"]), df.loc[:, \"score\"]\n",
    "del df\n",
    "\n",
    "X.shape, y.shape"
   ]
  },
  {
   "cell_type": "markdown",
   "metadata": {},
   "source": [
    "### Callbacks"
   ]
  },
  {
   "cell_type": "code",
   "execution_count": 9,
   "metadata": {},
   "outputs": [],
   "source": [
    "callbacks = [\n",
    "    log_evaluation(period=25),\n",
    "    early_stopping(stopping_rounds=75, first_metric_only=True),\n",
    "]"
   ]
  },
  {
   "cell_type": "markdown",
   "metadata": {},
   "source": [
    "### Constants"
   ]
  },
  {
   "cell_type": "code",
   "execution_count": 10,
   "metadata": {},
   "outputs": [],
   "source": [
    "a = config.lgbm_a\n",
    "b = config.lgbm_b"
   ]
  },
  {
   "cell_type": "markdown",
   "metadata": {},
   "source": [
    "### Training Loop"
   ]
  },
  {
   "cell_type": "code",
   "execution_count": 11,
   "metadata": {},
   "outputs": [],
   "source": [
    "def train_loop(X_train, y_train, X_valid, y_valid):\n",
    "    y_train = y_train.astype(np.float32) - a\n",
    "    y_valid = y_valid.astype(np.float32) - a\n",
    "\n",
    "    model = lgb.LGBMRegressor(\n",
    "        objective=qwk_obj,\n",
    "        metrics=\"None\",\n",
    "        learning_rate=0.01,\n",
    "        max_depth=5,\n",
    "        num_leaves=10,\n",
    "        colsample_bytree=0.3,\n",
    "        reg_alpha=0.7,\n",
    "        reg_lambda=0.1,\n",
    "        n_estimators=700,\n",
    "        random_state=config.random_seed,\n",
    "        extra_trees=True,\n",
    "        class_weight=\"balanced\",\n",
    "        n_jobs=6,\n",
    "        verbosity=0,\n",
    "    )\n",
    "\n",
    "    # Train model\n",
    "    predictor = model.fit(\n",
    "        X_train,\n",
    "        y_train,\n",
    "        eval_names=[\"train\", \"valid\"],\n",
    "        eval_set=[(X_train, y_train), (X_valid, y_valid)],\n",
    "        eval_metric=quadratic_weighted_kappa,\n",
    "        callbacks=callbacks,\n",
    "    )\n",
    "\n",
    "    return model, predictor"
   ]
  },
  {
   "cell_type": "code",
   "execution_count": 12,
   "metadata": {},
   "outputs": [],
   "source": [
    "def validate_model(idx, X_valid, y_valid, id_valid, predictor):\n",
    "    y_valid_int = y_valid.astype(np.int64).to_numpy()\n",
    "    preds_raw = predictor.predict(X_valid) + a\n",
    "    preds = preds_raw.clip(1, 6).round().astype(np.int64)\n",
    "\n",
    "    oof = pd.DataFrame(\n",
    "        {\n",
    "            \"essay_id\": id_valid,\n",
    "            \"score\": y_valid_int - 1,\n",
    "            \"pred_score\": preds - 1,\n",
    "            \"raw\": preds_raw\n",
    "        }\n",
    "    )\n",
    "    log_metrics(oof, f\"Fold {idx}\")\n",
    "\n",
    "    return oof"
   ]
  },
  {
   "cell_type": "markdown",
   "metadata": {},
   "source": [
    "### Fold Loop"
   ]
  },
  {
   "cell_type": "code",
   "execution_count": 13,
   "metadata": {},
   "outputs": [],
   "source": [
    "skf = StratifiedKFold(\n",
    "    n_splits=config.lgbm_n_folds,\n",
    "    random_state=config.random_seed,\n",
    "    shuffle=True,\n",
    ")"
   ]
  },
  {
   "cell_type": "code",
   "execution_count": 14,
   "metadata": {},
   "outputs": [
    {
     "name": "stdout",
     "output_type": "stream",
     "text": [
      "[LightGBM] [Info] Using self-defined objective function\n",
      "Training until validation scores don't improve for 75 rounds\n",
      "[25]\ttrain's QWK: 0.45289\tvalid's QWK: 0.480398\n",
      "[50]\ttrain's QWK: 0.736666\tvalid's QWK: 0.755467\n",
      "[75]\ttrain's QWK: 0.79928\tvalid's QWK: 0.811051\n",
      "[100]\ttrain's QWK: 0.83597\tvalid's QWK: 0.842451\n",
      "[125]\ttrain's QWK: 0.858038\tvalid's QWK: 0.863786\n",
      "[150]\ttrain's QWK: 0.867819\tvalid's QWK: 0.872742\n",
      "[175]\ttrain's QWK: 0.871897\tvalid's QWK: 0.881577\n",
      "[200]\ttrain's QWK: 0.874616\tvalid's QWK: 0.88415\n",
      "[225]\ttrain's QWK: 0.878254\tvalid's QWK: 0.891688\n",
      "[250]\ttrain's QWK: 0.880652\tvalid's QWK: 0.891362\n",
      "[275]\ttrain's QWK: 0.881875\tvalid's QWK: 0.894474\n",
      "[300]\ttrain's QWK: 0.882067\tvalid's QWK: 0.895535\n",
      "[325]\ttrain's QWK: 0.88304\tvalid's QWK: 0.895919\n",
      "[350]\ttrain's QWK: 0.883929\tvalid's QWK: 0.895017\n",
      "[375]\ttrain's QWK: 0.884472\tvalid's QWK: 0.895292\n",
      "Early stopping, best iteration is:\n",
      "[320]\ttrain's QWK: 0.882743\tvalid's QWK: 0.897251\n",
      "Evaluated only: QWK\n",
      "[LightGBM] [Info] Using self-defined objective function\n",
      "Training until validation scores don't improve for 75 rounds\n",
      "[25]\ttrain's QWK: 0.436949\tvalid's QWK: 0.435639\n",
      "[50]\ttrain's QWK: 0.741626\tvalid's QWK: 0.733609\n",
      "[75]\ttrain's QWK: 0.800292\tvalid's QWK: 0.786439\n",
      "[100]\ttrain's QWK: 0.839412\tvalid's QWK: 0.841501\n",
      "[125]\ttrain's QWK: 0.859961\tvalid's QWK: 0.858699\n",
      "[150]\ttrain's QWK: 0.868722\tvalid's QWK: 0.867513\n",
      "[175]\ttrain's QWK: 0.873533\tvalid's QWK: 0.8698\n",
      "[200]\ttrain's QWK: 0.875946\tvalid's QWK: 0.873781\n",
      "[225]\ttrain's QWK: 0.879069\tvalid's QWK: 0.87511\n",
      "[250]\ttrain's QWK: 0.881168\tvalid's QWK: 0.87773\n",
      "[275]\ttrain's QWK: 0.882219\tvalid's QWK: 0.878707\n",
      "[300]\ttrain's QWK: 0.883579\tvalid's QWK: 0.880709\n",
      "[325]\ttrain's QWK: 0.883991\tvalid's QWK: 0.882548\n",
      "[350]\ttrain's QWK: 0.884723\tvalid's QWK: 0.884356\n",
      "[375]\ttrain's QWK: 0.885232\tvalid's QWK: 0.884971\n",
      "[400]\ttrain's QWK: 0.885745\tvalid's QWK: 0.885002\n",
      "[425]\ttrain's QWK: 0.886471\tvalid's QWK: 0.884562\n",
      "[450]\ttrain's QWK: 0.88685\tvalid's QWK: 0.884562\n",
      "[475]\ttrain's QWK: 0.887469\tvalid's QWK: 0.88529\n",
      "[500]\ttrain's QWK: 0.887686\tvalid's QWK: 0.884866\n",
      "Early stopping, best iteration is:\n",
      "[428]\ttrain's QWK: 0.886587\tvalid's QWK: 0.88529\n",
      "Evaluated only: QWK\n",
      "[LightGBM] [Info] Using self-defined objective function\n",
      "Training until validation scores don't improve for 75 rounds\n",
      "[25]\ttrain's QWK: 0.452408\tvalid's QWK: 0.467162\n",
      "[50]\ttrain's QWK: 0.736471\tvalid's QWK: 0.749191\n",
      "[75]\ttrain's QWK: 0.801484\tvalid's QWK: 0.807318\n",
      "[100]\ttrain's QWK: 0.836409\tvalid's QWK: 0.844594\n",
      "[125]\ttrain's QWK: 0.858607\tvalid's QWK: 0.871126\n",
      "[150]\ttrain's QWK: 0.868054\tvalid's QWK: 0.879778\n",
      "[175]\ttrain's QWK: 0.873713\tvalid's QWK: 0.884984\n",
      "[200]\ttrain's QWK: 0.876188\tvalid's QWK: 0.88687\n",
      "[225]\ttrain's QWK: 0.879453\tvalid's QWK: 0.890189\n",
      "[250]\ttrain's QWK: 0.881042\tvalid's QWK: 0.890478\n",
      "[275]\ttrain's QWK: 0.882768\tvalid's QWK: 0.894261\n",
      "[300]\ttrain's QWK: 0.883499\tvalid's QWK: 0.896671\n",
      "[325]\ttrain's QWK: 0.884191\tvalid's QWK: 0.897457\n",
      "[350]\ttrain's QWK: 0.884828\tvalid's QWK: 0.899008\n",
      "[375]\ttrain's QWK: 0.885291\tvalid's QWK: 0.897503\n",
      "[400]\ttrain's QWK: 0.885853\tvalid's QWK: 0.898211\n",
      "Early stopping, best iteration is:\n",
      "[346]\ttrain's QWK: 0.884616\tvalid's QWK: 0.899593\n",
      "Evaluated only: QWK\n",
      "[LightGBM] [Info] Using self-defined objective function\n",
      "Training until validation scores don't improve for 75 rounds\n",
      "[25]\ttrain's QWK: 0.445309\tvalid's QWK: 0.420415\n",
      "[50]\ttrain's QWK: 0.73784\tvalid's QWK: 0.716781\n",
      "[75]\ttrain's QWK: 0.799782\tvalid's QWK: 0.790585\n",
      "[100]\ttrain's QWK: 0.838553\tvalid's QWK: 0.816771\n",
      "[125]\ttrain's QWK: 0.858863\tvalid's QWK: 0.849938\n",
      "[150]\ttrain's QWK: 0.869149\tvalid's QWK: 0.861096\n",
      "[175]\ttrain's QWK: 0.874287\tvalid's QWK: 0.862424\n",
      "[200]\ttrain's QWK: 0.877086\tvalid's QWK: 0.867682\n",
      "[225]\ttrain's QWK: 0.879323\tvalid's QWK: 0.87019\n",
      "[250]\ttrain's QWK: 0.881518\tvalid's QWK: 0.86988\n",
      "[275]\ttrain's QWK: 0.883011\tvalid's QWK: 0.873109\n",
      "[300]\ttrain's QWK: 0.884444\tvalid's QWK: 0.876886\n",
      "[325]\ttrain's QWK: 0.885128\tvalid's QWK: 0.877054\n",
      "[350]\ttrain's QWK: 0.885983\tvalid's QWK: 0.880097\n",
      "[375]\ttrain's QWK: 0.8865\tvalid's QWK: 0.881369\n",
      "[400]\ttrain's QWK: 0.886717\tvalid's QWK: 0.879409\n",
      "[425]\ttrain's QWK: 0.887125\tvalid's QWK: 0.882612\n",
      "[450]\ttrain's QWK: 0.887162\tvalid's QWK: 0.881706\n",
      "[475]\ttrain's QWK: 0.887336\tvalid's QWK: 0.882041\n",
      "Early stopping, best iteration is:\n",
      "[416]\ttrain's QWK: 0.88707\tvalid's QWK: 0.882612\n",
      "Evaluated only: QWK\n",
      "[LightGBM] [Info] Using self-defined objective function\n",
      "Training until validation scores don't improve for 75 rounds\n",
      "[25]\ttrain's QWK: 0.456232\tvalid's QWK: 0.468454\n",
      "[50]\ttrain's QWK: 0.732015\tvalid's QWK: 0.739077\n",
      "[75]\ttrain's QWK: 0.800371\tvalid's QWK: 0.803121\n",
      "[100]\ttrain's QWK: 0.836913\tvalid's QWK: 0.836703\n",
      "[125]\ttrain's QWK: 0.860327\tvalid's QWK: 0.861379\n",
      "[150]\ttrain's QWK: 0.869624\tvalid's QWK: 0.867509\n",
      "[175]\ttrain's QWK: 0.874129\tvalid's QWK: 0.867757\n",
      "[200]\ttrain's QWK: 0.875955\tvalid's QWK: 0.87461\n",
      "[225]\ttrain's QWK: 0.878792\tvalid's QWK: 0.87659\n",
      "[250]\ttrain's QWK: 0.881405\tvalid's QWK: 0.877662\n",
      "[275]\ttrain's QWK: 0.883478\tvalid's QWK: 0.877738\n",
      "[300]\ttrain's QWK: 0.884251\tvalid's QWK: 0.877812\n",
      "[325]\ttrain's QWK: 0.884865\tvalid's QWK: 0.879166\n",
      "[350]\ttrain's QWK: 0.885268\tvalid's QWK: 0.880933\n",
      "[375]\ttrain's QWK: 0.885703\tvalid's QWK: 0.88287\n",
      "[400]\ttrain's QWK: 0.886292\tvalid's QWK: 0.882441\n",
      "[425]\ttrain's QWK: 0.886577\tvalid's QWK: 0.882272\n",
      "Early stopping, best iteration is:\n",
      "[372]\ttrain's QWK: 0.885818\tvalid's QWK: 0.88287\n",
      "Evaluated only: QWK\n",
      "[LightGBM] [Info] Using self-defined objective function\n",
      "Training until validation scores don't improve for 75 rounds\n",
      "[25]\ttrain's QWK: 0.444884\tvalid's QWK: 0.416842\n",
      "[50]\ttrain's QWK: 0.733708\tvalid's QWK: 0.713395\n",
      "[75]\ttrain's QWK: 0.79959\tvalid's QWK: 0.78343\n",
      "[100]\ttrain's QWK: 0.838203\tvalid's QWK: 0.826592\n",
      "[125]\ttrain's QWK: 0.861709\tvalid's QWK: 0.846712\n",
      "[150]\ttrain's QWK: 0.869822\tvalid's QWK: 0.85628\n",
      "[175]\ttrain's QWK: 0.873815\tvalid's QWK: 0.860565\n",
      "[200]\ttrain's QWK: 0.877866\tvalid's QWK: 0.862149\n",
      "[225]\ttrain's QWK: 0.880228\tvalid's QWK: 0.861099\n",
      "[250]\ttrain's QWK: 0.882172\tvalid's QWK: 0.866894\n",
      "[275]\ttrain's QWK: 0.883488\tvalid's QWK: 0.866054\n",
      "[300]\ttrain's QWK: 0.884435\tvalid's QWK: 0.870399\n",
      "[325]\ttrain's QWK: 0.885233\tvalid's QWK: 0.86942\n",
      "[350]\ttrain's QWK: 0.885787\tvalid's QWK: 0.870537\n",
      "[375]\ttrain's QWK: 0.886444\tvalid's QWK: 0.870884\n",
      "[400]\ttrain's QWK: 0.886791\tvalid's QWK: 0.870466\n",
      "[425]\ttrain's QWK: 0.887301\tvalid's QWK: 0.87241\n",
      "[450]\ttrain's QWK: 0.887613\tvalid's QWK: 0.873323\n",
      "[475]\ttrain's QWK: 0.887756\tvalid's QWK: 0.87425\n",
      "[500]\ttrain's QWK: 0.888213\tvalid's QWK: 0.873677\n",
      "[525]\ttrain's QWK: 0.888456\tvalid's QWK: 0.87425\n",
      "[550]\ttrain's QWK: 0.888475\tvalid's QWK: 0.875355\n",
      "[575]\ttrain's QWK: 0.888882\tvalid's QWK: 0.874932\n",
      "[600]\ttrain's QWK: 0.889233\tvalid's QWK: 0.874932\n",
      "[625]\ttrain's QWK: 0.889559\tvalid's QWK: 0.875685\n",
      "[650]\ttrain's QWK: 0.889777\tvalid's QWK: 0.876582\n",
      "[675]\ttrain's QWK: 0.889895\tvalid's QWK: 0.876403\n",
      "[700]\ttrain's QWK: 0.890381\tvalid's QWK: 0.876828\n",
      "Did not meet early stopping. Best iteration is:\n",
      "[689]\ttrain's QWK: 0.890108\tvalid's QWK: 0.876828\n",
      "Evaluated only: QWK\n",
      "[LightGBM] [Info] Using self-defined objective function\n",
      "Training until validation scores don't improve for 75 rounds\n",
      "[25]\ttrain's QWK: 0.442443\tvalid's QWK: 0.439054\n",
      "[50]\ttrain's QWK: 0.733596\tvalid's QWK: 0.733453\n",
      "[75]\ttrain's QWK: 0.802041\tvalid's QWK: 0.790913\n",
      "[100]\ttrain's QWK: 0.838024\tvalid's QWK: 0.840111\n",
      "[125]\ttrain's QWK: 0.860055\tvalid's QWK: 0.857635\n",
      "[150]\ttrain's QWK: 0.869744\tvalid's QWK: 0.869163\n",
      "[175]\ttrain's QWK: 0.873262\tvalid's QWK: 0.875629\n",
      "[200]\ttrain's QWK: 0.876243\tvalid's QWK: 0.875346\n",
      "[225]\ttrain's QWK: 0.878976\tvalid's QWK: 0.877054\n",
      "[250]\ttrain's QWK: 0.881565\tvalid's QWK: 0.87737\n",
      "[275]\ttrain's QWK: 0.882865\tvalid's QWK: 0.877691\n",
      "[300]\ttrain's QWK: 0.883882\tvalid's QWK: 0.879513\n",
      "[325]\ttrain's QWK: 0.885025\tvalid's QWK: 0.881067\n",
      "[350]\ttrain's QWK: 0.885613\tvalid's QWK: 0.884377\n",
      "[375]\ttrain's QWK: 0.886092\tvalid's QWK: 0.884377\n",
      "[400]\ttrain's QWK: 0.886777\tvalid's QWK: 0.886184\n",
      "[425]\ttrain's QWK: 0.88721\tvalid's QWK: 0.886184\n",
      "[450]\ttrain's QWK: 0.887498\tvalid's QWK: 0.888262\n",
      "[475]\ttrain's QWK: 0.887703\tvalid's QWK: 0.887665\n",
      "[500]\ttrain's QWK: 0.887842\tvalid's QWK: 0.889275\n",
      "[525]\ttrain's QWK: 0.888141\tvalid's QWK: 0.891212\n",
      "[550]\ttrain's QWK: 0.888592\tvalid's QWK: 0.892084\n",
      "[575]\ttrain's QWK: 0.889063\tvalid's QWK: 0.890163\n",
      "[600]\ttrain's QWK: 0.88922\tvalid's QWK: 0.890759\n",
      "Early stopping, best iteration is:\n",
      "[530]\ttrain's QWK: 0.888306\tvalid's QWK: 0.892084\n",
      "Evaluated only: QWK\n",
      "[LightGBM] [Info] Using self-defined objective function\n",
      "Training until validation scores don't improve for 75 rounds\n",
      "[25]\ttrain's QWK: 0.439834\tvalid's QWK: 0.398667\n",
      "[50]\ttrain's QWK: 0.73736\tvalid's QWK: 0.728815\n",
      "[75]\ttrain's QWK: 0.799681\tvalid's QWK: 0.787955\n",
      "[100]\ttrain's QWK: 0.838412\tvalid's QWK: 0.829808\n",
      "[125]\ttrain's QWK: 0.860254\tvalid's QWK: 0.849397\n",
      "[150]\ttrain's QWK: 0.869027\tvalid's QWK: 0.859491\n",
      "[175]\ttrain's QWK: 0.873333\tvalid's QWK: 0.86135\n",
      "[200]\ttrain's QWK: 0.876842\tvalid's QWK: 0.863138\n",
      "[225]\ttrain's QWK: 0.879226\tvalid's QWK: 0.864067\n",
      "[250]\ttrain's QWK: 0.881562\tvalid's QWK: 0.866374\n",
      "[275]\ttrain's QWK: 0.882743\tvalid's QWK: 0.869616\n",
      "[300]\ttrain's QWK: 0.883918\tvalid's QWK: 0.869188\n",
      "[325]\ttrain's QWK: 0.884543\tvalid's QWK: 0.870082\n",
      "[350]\ttrain's QWK: 0.884881\tvalid's QWK: 0.871957\n",
      "[375]\ttrain's QWK: 0.885256\tvalid's QWK: 0.873678\n",
      "[400]\ttrain's QWK: 0.885572\tvalid's QWK: 0.873678\n",
      "[425]\ttrain's QWK: 0.886146\tvalid's QWK: 0.874425\n",
      "[450]\ttrain's QWK: 0.88667\tvalid's QWK: 0.874425\n",
      "[475]\ttrain's QWK: 0.887191\tvalid's QWK: 0.874425\n",
      "[500]\ttrain's QWK: 0.88773\tvalid's QWK: 0.875113\n",
      "[525]\ttrain's QWK: 0.888372\tvalid's QWK: 0.875113\n",
      "[550]\ttrain's QWK: 0.888608\tvalid's QWK: 0.875113\n",
      "Early stopping, best iteration is:\n",
      "[492]\ttrain's QWK: 0.887419\tvalid's QWK: 0.875523\n",
      "Evaluated only: QWK\n",
      "[LightGBM] [Info] Using self-defined objective function\n",
      "Training until validation scores don't improve for 75 rounds\n",
      "[25]\ttrain's QWK: 0.433169\tvalid's QWK: 0.407032\n",
      "[50]\ttrain's QWK: 0.736842\tvalid's QWK: 0.733256\n",
      "[75]\ttrain's QWK: 0.80055\tvalid's QWK: 0.79582\n",
      "[100]\ttrain's QWK: 0.839847\tvalid's QWK: 0.828613\n",
      "[125]\ttrain's QWK: 0.85981\tvalid's QWK: 0.847252\n",
      "[150]\ttrain's QWK: 0.868307\tvalid's QWK: 0.86612\n",
      "[175]\ttrain's QWK: 0.872374\tvalid's QWK: 0.868971\n",
      "[200]\ttrain's QWK: 0.874793\tvalid's QWK: 0.86963\n",
      "[225]\ttrain's QWK: 0.877215\tvalid's QWK: 0.873739\n",
      "[250]\ttrain's QWK: 0.879414\tvalid's QWK: 0.878915\n",
      "[275]\ttrain's QWK: 0.881854\tvalid's QWK: 0.877845\n",
      "[300]\ttrain's QWK: 0.883352\tvalid's QWK: 0.878801\n",
      "[325]\ttrain's QWK: 0.88395\tvalid's QWK: 0.881319\n",
      "[350]\ttrain's QWK: 0.884887\tvalid's QWK: 0.880236\n",
      "[375]\ttrain's QWK: 0.88575\tvalid's QWK: 0.879226\n",
      "[400]\ttrain's QWK: 0.886053\tvalid's QWK: 0.880576\n",
      "[425]\ttrain's QWK: 0.88624\tvalid's QWK: 0.881322\n",
      "[450]\ttrain's QWK: 0.88655\tvalid's QWK: 0.883144\n",
      "[475]\ttrain's QWK: 0.886994\tvalid's QWK: 0.884057\n",
      "[500]\ttrain's QWK: 0.887334\tvalid's QWK: 0.884057\n",
      "[525]\ttrain's QWK: 0.887453\tvalid's QWK: 0.884057\n",
      "Early stopping, best iteration is:\n",
      "[456]\ttrain's QWK: 0.886673\tvalid's QWK: 0.884057\n",
      "Evaluated only: QWK\n",
      "[LightGBM] [Info] Using self-defined objective function\n",
      "Training until validation scores don't improve for 75 rounds\n",
      "[25]\ttrain's QWK: 0.453004\tvalid's QWK: 0.4715\n",
      "[50]\ttrain's QWK: 0.737632\tvalid's QWK: 0.737039\n",
      "[75]\ttrain's QWK: 0.799112\tvalid's QWK: 0.805662\n",
      "[100]\ttrain's QWK: 0.836687\tvalid's QWK: 0.860635\n",
      "[125]\ttrain's QWK: 0.859161\tvalid's QWK: 0.879597\n",
      "[150]\ttrain's QWK: 0.869338\tvalid's QWK: 0.88564\n",
      "[175]\ttrain's QWK: 0.873167\tvalid's QWK: 0.885048\n",
      "[200]\ttrain's QWK: 0.874992\tvalid's QWK: 0.890465\n",
      "[225]\ttrain's QWK: 0.878547\tvalid's QWK: 0.8933\n",
      "[250]\ttrain's QWK: 0.880922\tvalid's QWK: 0.89819\n",
      "[275]\ttrain's QWK: 0.882548\tvalid's QWK: 0.900674\n",
      "[300]\ttrain's QWK: 0.883016\tvalid's QWK: 0.898791\n",
      "[325]\ttrain's QWK: 0.88397\tvalid's QWK: 0.898791\n",
      "Early stopping, best iteration is:\n",
      "[263]\ttrain's QWK: 0.881844\tvalid's QWK: 0.900674\n",
      "Evaluated only: QWK\n",
      "[LightGBM] [Info] Using self-defined objective function\n",
      "Training until validation scores don't improve for 75 rounds\n",
      "[25]\ttrain's QWK: 0.433814\tvalid's QWK: 0.444665\n",
      "[50]\ttrain's QWK: 0.737285\tvalid's QWK: 0.745068\n",
      "[75]\ttrain's QWK: 0.798341\tvalid's QWK: 0.80247\n",
      "[100]\ttrain's QWK: 0.83885\tvalid's QWK: 0.847685\n",
      "[125]\ttrain's QWK: 0.858975\tvalid's QWK: 0.871692\n",
      "[150]\ttrain's QWK: 0.868333\tvalid's QWK: 0.881928\n",
      "[175]\ttrain's QWK: 0.872836\tvalid's QWK: 0.88145\n",
      "[200]\ttrain's QWK: 0.875929\tvalid's QWK: 0.882854\n",
      "[225]\ttrain's QWK: 0.878768\tvalid's QWK: 0.888339\n",
      "[250]\ttrain's QWK: 0.880862\tvalid's QWK: 0.888214\n",
      "[275]\ttrain's QWK: 0.88241\tvalid's QWK: 0.890655\n",
      "[300]\ttrain's QWK: 0.883336\tvalid's QWK: 0.891252\n",
      "[325]\ttrain's QWK: 0.884223\tvalid's QWK: 0.890488\n",
      "[350]\ttrain's QWK: 0.884563\tvalid's QWK: 0.891093\n",
      "Early stopping, best iteration is:\n",
      "[287]\ttrain's QWK: 0.882762\tvalid's QWK: 0.891252\n",
      "Evaluated only: QWK\n",
      "[LightGBM] [Info] Using self-defined objective function\n",
      "Training until validation scores don't improve for 75 rounds\n",
      "[25]\ttrain's QWK: 0.434762\tvalid's QWK: 0.457199\n",
      "[50]\ttrain's QWK: 0.738139\tvalid's QWK: 0.739841\n",
      "[75]\ttrain's QWK: 0.800088\tvalid's QWK: 0.80663\n",
      "[100]\ttrain's QWK: 0.835364\tvalid's QWK: 0.836167\n",
      "[125]\ttrain's QWK: 0.858968\tvalid's QWK: 0.856667\n",
      "[150]\ttrain's QWK: 0.86802\tvalid's QWK: 0.866675\n",
      "[175]\ttrain's QWK: 0.872909\tvalid's QWK: 0.870597\n",
      "[200]\ttrain's QWK: 0.876675\tvalid's QWK: 0.872676\n",
      "[225]\ttrain's QWK: 0.879454\tvalid's QWK: 0.87808\n",
      "[250]\ttrain's QWK: 0.881744\tvalid's QWK: 0.882168\n",
      "[275]\ttrain's QWK: 0.883276\tvalid's QWK: 0.883885\n",
      "[300]\ttrain's QWK: 0.884054\tvalid's QWK: 0.888218\n",
      "[325]\ttrain's QWK: 0.884764\tvalid's QWK: 0.889118\n",
      "[350]\ttrain's QWK: 0.88593\tvalid's QWK: 0.889251\n",
      "[375]\ttrain's QWK: 0.88629\tvalid's QWK: 0.889968\n",
      "[400]\ttrain's QWK: 0.886455\tvalid's QWK: 0.889545\n",
      "[425]\ttrain's QWK: 0.886554\tvalid's QWK: 0.889545\n",
      "[450]\ttrain's QWK: 0.886955\tvalid's QWK: 0.89013\n",
      "Early stopping, best iteration is:\n",
      "[380]\ttrain's QWK: 0.886347\tvalid's QWK: 0.890716\n",
      "Evaluated only: QWK\n",
      "[LightGBM] [Info] Using self-defined objective function\n",
      "Training until validation scores don't improve for 75 rounds\n",
      "[25]\ttrain's QWK: 0.444925\tvalid's QWK: 0.43589\n",
      "[50]\ttrain's QWK: 0.736331\tvalid's QWK: 0.749865\n",
      "[75]\ttrain's QWK: 0.799763\tvalid's QWK: 0.810957\n",
      "[100]\ttrain's QWK: 0.838511\tvalid's QWK: 0.843664\n",
      "[125]\ttrain's QWK: 0.85713\tvalid's QWK: 0.866797\n",
      "[150]\ttrain's QWK: 0.868311\tvalid's QWK: 0.872605\n",
      "[175]\ttrain's QWK: 0.873009\tvalid's QWK: 0.876515\n",
      "[200]\ttrain's QWK: 0.876105\tvalid's QWK: 0.878168\n",
      "[225]\ttrain's QWK: 0.879473\tvalid's QWK: 0.879907\n",
      "[250]\ttrain's QWK: 0.881406\tvalid's QWK: 0.87779\n",
      "[275]\ttrain's QWK: 0.883228\tvalid's QWK: 0.876268\n",
      "Early stopping, best iteration is:\n",
      "[213]\ttrain's QWK: 0.877989\tvalid's QWK: 0.882754\n",
      "Evaluated only: QWK\n"
     ]
    },
    {
     "name": "stderr",
     "output_type": "stream",
     "text": [
      "/media/ishfar/New Volume/Studies/Projects/Kaggle-Automated-Essay-Scoring/lib/criterion/metrics.py:34: RuntimeWarning: invalid value encountered in scalar divide\n",
      "  precision = tp / (tp + fp)\n"
     ]
    },
    {
     "name": "stdout",
     "output_type": "stream",
     "text": [
      "[LightGBM] [Info] Using self-defined objective function\n",
      "Training until validation scores don't improve for 75 rounds\n",
      "[25]\ttrain's QWK: 0.451614\tvalid's QWK: 0.45348\n",
      "[50]\ttrain's QWK: 0.738468\tvalid's QWK: 0.707614\n",
      "[75]\ttrain's QWK: 0.799379\tvalid's QWK: 0.784095\n",
      "[100]\ttrain's QWK: 0.83626\tvalid's QWK: 0.825894\n",
      "[125]\ttrain's QWK: 0.859432\tvalid's QWK: 0.850339\n",
      "[150]\ttrain's QWK: 0.868698\tvalid's QWK: 0.854371\n",
      "[175]\ttrain's QWK: 0.87379\tvalid's QWK: 0.861317\n",
      "[200]\ttrain's QWK: 0.877098\tvalid's QWK: 0.861092\n",
      "[225]\ttrain's QWK: 0.879782\tvalid's QWK: 0.860236\n",
      "[250]\ttrain's QWK: 0.881733\tvalid's QWK: 0.862745\n",
      "[275]\ttrain's QWK: 0.883383\tvalid's QWK: 0.865184\n",
      "[300]\ttrain's QWK: 0.884492\tvalid's QWK: 0.864928\n",
      "[325]\ttrain's QWK: 0.885447\tvalid's QWK: 0.86774\n",
      "[350]\ttrain's QWK: 0.885939\tvalid's QWK: 0.869225\n",
      "[375]\ttrain's QWK: 0.88664\tvalid's QWK: 0.869225\n",
      "[400]\ttrain's QWK: 0.88693\tvalid's QWK: 0.870877\n",
      "[425]\ttrain's QWK: 0.887176\tvalid's QWK: 0.870463\n",
      "[450]\ttrain's QWK: 0.887624\tvalid's QWK: 0.871048\n",
      "[475]\ttrain's QWK: 0.887863\tvalid's QWK: 0.870001\n",
      "[500]\ttrain's QWK: 0.888443\tvalid's QWK: 0.869221\n",
      "Early stopping, best iteration is:\n",
      "[440]\ttrain's QWK: 0.887464\tvalid's QWK: 0.871633\n",
      "Evaluated only: QWK\n",
      "[LightGBM] [Info] Using self-defined objective function\n",
      "Training until validation scores don't improve for 75 rounds\n",
      "[25]\ttrain's QWK: 0.442571\tvalid's QWK: 0.460083\n",
      "[50]\ttrain's QWK: 0.737026\tvalid's QWK: 0.744795\n",
      "[75]\ttrain's QWK: 0.799163\tvalid's QWK: 0.816164\n",
      "[100]\ttrain's QWK: 0.837107\tvalid's QWK: 0.843941\n",
      "[125]\ttrain's QWK: 0.859468\tvalid's QWK: 0.865397\n",
      "[150]\ttrain's QWK: 0.86889\tvalid's QWK: 0.872957\n",
      "[175]\ttrain's QWK: 0.87335\tvalid's QWK: 0.881499\n",
      "[200]\ttrain's QWK: 0.876174\tvalid's QWK: 0.882181\n",
      "[225]\ttrain's QWK: 0.87811\tvalid's QWK: 0.88637\n",
      "[250]\ttrain's QWK: 0.880387\tvalid's QWK: 0.888948\n",
      "[275]\ttrain's QWK: 0.882487\tvalid's QWK: 0.88985\n",
      "[300]\ttrain's QWK: 0.883362\tvalid's QWK: 0.890292\n",
      "[325]\ttrain's QWK: 0.884301\tvalid's QWK: 0.888939\n",
      "[350]\ttrain's QWK: 0.885029\tvalid's QWK: 0.888798\n",
      "Early stopping, best iteration is:\n",
      "[294]\ttrain's QWK: 0.883034\tvalid's QWK: 0.890292\n",
      "Evaluated only: QWK\n",
      "[LightGBM] [Info] Using self-defined objective function\n",
      "Training until validation scores don't improve for 75 rounds\n",
      "[25]\ttrain's QWK: 0.447968\tvalid's QWK: 0.455118\n",
      "[50]\ttrain's QWK: 0.735411\tvalid's QWK: 0.743208\n",
      "[75]\ttrain's QWK: 0.800511\tvalid's QWK: 0.809763\n",
      "[100]\ttrain's QWK: 0.839044\tvalid's QWK: 0.842388\n",
      "[125]\ttrain's QWK: 0.860619\tvalid's QWK: 0.862532\n",
      "[150]\ttrain's QWK: 0.869232\tvalid's QWK: 0.872469\n",
      "[175]\ttrain's QWK: 0.873673\tvalid's QWK: 0.876375\n",
      "[200]\ttrain's QWK: 0.876217\tvalid's QWK: 0.876681\n",
      "[225]\ttrain's QWK: 0.879257\tvalid's QWK: 0.87752\n",
      "[250]\ttrain's QWK: 0.881158\tvalid's QWK: 0.877162\n",
      "Early stopping, best iteration is:\n",
      "[187]\ttrain's QWK: 0.875296\tvalid's QWK: 0.879222\n",
      "Evaluated only: QWK\n"
     ]
    },
    {
     "name": "stderr",
     "output_type": "stream",
     "text": [
      "/media/ishfar/New Volume/Studies/Projects/Kaggle-Automated-Essay-Scoring/lib/criterion/metrics.py:34: RuntimeWarning: invalid value encountered in scalar divide\n",
      "  precision = tp / (tp + fp)\n"
     ]
    },
    {
     "name": "stdout",
     "output_type": "stream",
     "text": [
      "[LightGBM] [Info] Using self-defined objective function\n",
      "Training until validation scores don't improve for 75 rounds\n",
      "[25]\ttrain's QWK: 0.439313\tvalid's QWK: 0.461778\n",
      "[50]\ttrain's QWK: 0.735467\tvalid's QWK: 0.74041\n",
      "[75]\ttrain's QWK: 0.802273\tvalid's QWK: 0.798621\n",
      "[100]\ttrain's QWK: 0.835096\tvalid's QWK: 0.840658\n",
      "[125]\ttrain's QWK: 0.860459\tvalid's QWK: 0.864656\n",
      "[150]\ttrain's QWK: 0.869524\tvalid's QWK: 0.872679\n",
      "[175]\ttrain's QWK: 0.873507\tvalid's QWK: 0.873838\n",
      "[200]\ttrain's QWK: 0.875937\tvalid's QWK: 0.876536\n",
      "[225]\ttrain's QWK: 0.879117\tvalid's QWK: 0.877112\n",
      "[250]\ttrain's QWK: 0.881262\tvalid's QWK: 0.87721\n",
      "[275]\ttrain's QWK: 0.882811\tvalid's QWK: 0.877473\n",
      "Early stopping, best iteration is:\n",
      "[205]\ttrain's QWK: 0.876868\tvalid's QWK: 0.878261\n",
      "Evaluated only: QWK\n"
     ]
    },
    {
     "name": "stderr",
     "output_type": "stream",
     "text": [
      "/media/ishfar/New Volume/Studies/Projects/Kaggle-Automated-Essay-Scoring/lib/criterion/metrics.py:34: RuntimeWarning: invalid value encountered in scalar divide\n",
      "  precision = tp / (tp + fp)\n"
     ]
    },
    {
     "name": "stdout",
     "output_type": "stream",
     "text": [
      "[LightGBM] [Info] Using self-defined objective function\n",
      "Training until validation scores don't improve for 75 rounds\n",
      "[25]\ttrain's QWK: 0.441893\tvalid's QWK: 0.427064\n",
      "[50]\ttrain's QWK: 0.738826\tvalid's QWK: 0.728052\n",
      "[75]\ttrain's QWK: 0.800429\tvalid's QWK: 0.802548\n",
      "[100]\ttrain's QWK: 0.837187\tvalid's QWK: 0.838022\n",
      "[125]\ttrain's QWK: 0.858944\tvalid's QWK: 0.862998\n",
      "[150]\ttrain's QWK: 0.868227\tvalid's QWK: 0.866535\n",
      "[175]\ttrain's QWK: 0.873118\tvalid's QWK: 0.869911\n",
      "[200]\ttrain's QWK: 0.87611\tvalid's QWK: 0.875867\n",
      "[225]\ttrain's QWK: 0.878636\tvalid's QWK: 0.879438\n",
      "[250]\ttrain's QWK: 0.880502\tvalid's QWK: 0.880438\n",
      "[275]\ttrain's QWK: 0.882278\tvalid's QWK: 0.885108\n",
      "[300]\ttrain's QWK: 0.883498\tvalid's QWK: 0.884204\n",
      "[325]\ttrain's QWK: 0.883833\tvalid's QWK: 0.883771\n",
      "[350]\ttrain's QWK: 0.884344\tvalid's QWK: 0.88367\n",
      "Early stopping, best iteration is:\n",
      "[275]\ttrain's QWK: 0.882278\tvalid's QWK: 0.885108\n",
      "Evaluated only: QWK\n",
      "[LightGBM] [Info] Using self-defined objective function\n",
      "Training until validation scores don't improve for 75 rounds\n",
      "[25]\ttrain's QWK: 0.445095\tvalid's QWK: 0.449705\n",
      "[50]\ttrain's QWK: 0.736735\tvalid's QWK: 0.754923\n",
      "[75]\ttrain's QWK: 0.799576\tvalid's QWK: 0.798788\n",
      "[100]\ttrain's QWK: 0.836094\tvalid's QWK: 0.834188\n",
      "[125]\ttrain's QWK: 0.857826\tvalid's QWK: 0.858509\n",
      "[150]\ttrain's QWK: 0.86729\tvalid's QWK: 0.866944\n",
      "[175]\ttrain's QWK: 0.87264\tvalid's QWK: 0.869361\n",
      "[200]\ttrain's QWK: 0.87604\tvalid's QWK: 0.874926\n",
      "[225]\ttrain's QWK: 0.878704\tvalid's QWK: 0.88086\n",
      "[250]\ttrain's QWK: 0.88076\tvalid's QWK: 0.885187\n",
      "[275]\ttrain's QWK: 0.882643\tvalid's QWK: 0.885047\n",
      "[300]\ttrain's QWK: 0.883471\tvalid's QWK: 0.88655\n",
      "[325]\ttrain's QWK: 0.884086\tvalid's QWK: 0.88655\n",
      "[350]\ttrain's QWK: 0.884595\tvalid's QWK: 0.886413\n",
      "[375]\ttrain's QWK: 0.88502\tvalid's QWK: 0.887006\n",
      "[400]\ttrain's QWK: 0.885166\tvalid's QWK: 0.886728\n",
      "Early stopping, best iteration is:\n",
      "[337]\ttrain's QWK: 0.88427\tvalid's QWK: 0.887302\n",
      "Evaluated only: QWK\n",
      "[LightGBM] [Info] Using self-defined objective function\n",
      "Training until validation scores don't improve for 75 rounds\n",
      "[25]\ttrain's QWK: 0.443613\tvalid's QWK: 0.438481\n",
      "[50]\ttrain's QWK: 0.738858\tvalid's QWK: 0.739096\n",
      "[75]\ttrain's QWK: 0.801356\tvalid's QWK: 0.79832\n",
      "[100]\ttrain's QWK: 0.836702\tvalid's QWK: 0.838087\n",
      "[125]\ttrain's QWK: 0.858638\tvalid's QWK: 0.86473\n",
      "[150]\ttrain's QWK: 0.868082\tvalid's QWK: 0.877719\n",
      "[175]\ttrain's QWK: 0.872532\tvalid's QWK: 0.883926\n",
      "[200]\ttrain's QWK: 0.876099\tvalid's QWK: 0.893871\n",
      "[225]\ttrain's QWK: 0.878968\tvalid's QWK: 0.895227\n",
      "[250]\ttrain's QWK: 0.880707\tvalid's QWK: 0.896848\n",
      "[275]\ttrain's QWK: 0.881748\tvalid's QWK: 0.897963\n",
      "[300]\ttrain's QWK: 0.883129\tvalid's QWK: 0.899259\n",
      "[325]\ttrain's QWK: 0.88405\tvalid's QWK: 0.898596\n",
      "[350]\ttrain's QWK: 0.884714\tvalid's QWK: 0.898596\n",
      "[375]\ttrain's QWK: 0.88479\tvalid's QWK: 0.898596\n",
      "Early stopping, best iteration is:\n",
      "[302]\ttrain's QWK: 0.883393\tvalid's QWK: 0.900004\n",
      "Evaluated only: QWK\n",
      "[LightGBM] [Info] Using self-defined objective function\n",
      "Training until validation scores don't improve for 75 rounds\n",
      "[25]\ttrain's QWK: 0.452882\tvalid's QWK: 0.406115\n",
      "[50]\ttrain's QWK: 0.73366\tvalid's QWK: 0.748673\n",
      "[75]\ttrain's QWK: 0.803195\tvalid's QWK: 0.814785\n",
      "[100]\ttrain's QWK: 0.837002\tvalid's QWK: 0.847912\n",
      "[125]\ttrain's QWK: 0.85768\tvalid's QWK: 0.869547\n",
      "[150]\ttrain's QWK: 0.867626\tvalid's QWK: 0.874678\n",
      "[175]\ttrain's QWK: 0.872639\tvalid's QWK: 0.879141\n",
      "[200]\ttrain's QWK: 0.875575\tvalid's QWK: 0.880586\n",
      "[225]\ttrain's QWK: 0.878854\tvalid's QWK: 0.883058\n",
      "[250]\ttrain's QWK: 0.881596\tvalid's QWK: 0.884469\n",
      "[275]\ttrain's QWK: 0.88301\tvalid's QWK: 0.883882\n",
      "[300]\ttrain's QWK: 0.884312\tvalid's QWK: 0.885777\n",
      "[325]\ttrain's QWK: 0.88534\tvalid's QWK: 0.887463\n",
      "[350]\ttrain's QWK: 0.886144\tvalid's QWK: 0.889146\n",
      "[375]\ttrain's QWK: 0.886265\tvalid's QWK: 0.89184\n",
      "[400]\ttrain's QWK: 0.886578\tvalid's QWK: 0.892726\n",
      "[425]\ttrain's QWK: 0.886644\tvalid's QWK: 0.892886\n",
      "[LightGBM] [Warning] No further splits with positive gain, best gain: -inf\n",
      "[450]\ttrain's QWK: 0.886814\tvalid's QWK: 0.892886\n",
      "[475]\ttrain's QWK: 0.88725\tvalid's QWK: 0.891515\n",
      "Early stopping, best iteration is:\n",
      "[415]\ttrain's QWK: 0.886592\tvalid's QWK: 0.892886\n",
      "Evaluated only: QWK\n",
      "[LightGBM] [Info] Using self-defined objective function\n",
      "Training until validation scores don't improve for 75 rounds\n",
      "[25]\ttrain's QWK: 0.456066\tvalid's QWK: 0.431097\n",
      "[50]\ttrain's QWK: 0.733323\tvalid's QWK: 0.721773\n",
      "[75]\ttrain's QWK: 0.798361\tvalid's QWK: 0.795945\n",
      "[100]\ttrain's QWK: 0.838867\tvalid's QWK: 0.827859\n",
      "[125]\ttrain's QWK: 0.860139\tvalid's QWK: 0.848247\n",
      "[150]\ttrain's QWK: 0.868663\tvalid's QWK: 0.85988\n",
      "[175]\ttrain's QWK: 0.873949\tvalid's QWK: 0.86421\n",
      "[200]\ttrain's QWK: 0.876812\tvalid's QWK: 0.866772\n",
      "[225]\ttrain's QWK: 0.879613\tvalid's QWK: 0.87149\n",
      "[250]\ttrain's QWK: 0.881593\tvalid's QWK: 0.874549\n",
      "[275]\ttrain's QWK: 0.88313\tvalid's QWK: 0.877927\n",
      "[300]\ttrain's QWK: 0.884232\tvalid's QWK: 0.878604\n",
      "[325]\ttrain's QWK: 0.884826\tvalid's QWK: 0.882631\n",
      "[350]\ttrain's QWK: 0.88555\tvalid's QWK: 0.883861\n",
      "[375]\ttrain's QWK: 0.885969\tvalid's QWK: 0.884179\n",
      "[400]\ttrain's QWK: 0.886768\tvalid's QWK: 0.884811\n",
      "[425]\ttrain's QWK: 0.88689\tvalid's QWK: 0.884951\n",
      "[450]\ttrain's QWK: 0.887162\tvalid's QWK: 0.885996\n",
      "[475]\ttrain's QWK: 0.887624\tvalid's QWK: 0.885713\n",
      "[500]\ttrain's QWK: 0.887769\tvalid's QWK: 0.88678\n",
      "[525]\ttrain's QWK: 0.888076\tvalid's QWK: 0.887084\n",
      "[550]\ttrain's QWK: 0.888683\tvalid's QWK: 0.887084\n",
      "[575]\ttrain's QWK: 0.889016\tvalid's QWK: 0.887084\n",
      "Early stopping, best iteration is:\n",
      "[514]\ttrain's QWK: 0.888064\tvalid's QWK: 0.887084\n",
      "Evaluated only: QWK\n",
      "[LightGBM] [Info] Using self-defined objective function\n",
      "Training until validation scores don't improve for 75 rounds\n",
      "[25]\ttrain's QWK: 0.443241\tvalid's QWK: 0.435293\n",
      "[50]\ttrain's QWK: 0.735755\tvalid's QWK: 0.729311\n",
      "[75]\ttrain's QWK: 0.799278\tvalid's QWK: 0.79248\n",
      "[100]\ttrain's QWK: 0.836667\tvalid's QWK: 0.828778\n",
      "[125]\ttrain's QWK: 0.859773\tvalid's QWK: 0.855336\n",
      "[150]\ttrain's QWK: 0.867904\tvalid's QWK: 0.866002\n",
      "[175]\ttrain's QWK: 0.873303\tvalid's QWK: 0.870053\n",
      "[200]\ttrain's QWK: 0.876159\tvalid's QWK: 0.873688\n",
      "[225]\ttrain's QWK: 0.878815\tvalid's QWK: 0.87737\n",
      "[250]\ttrain's QWK: 0.881001\tvalid's QWK: 0.87583\n",
      "[275]\ttrain's QWK: 0.882517\tvalid's QWK: 0.877249\n",
      "[300]\ttrain's QWK: 0.883877\tvalid's QWK: 0.877345\n",
      "[325]\ttrain's QWK: 0.884389\tvalid's QWK: 0.877675\n",
      "[350]\ttrain's QWK: 0.885377\tvalid's QWK: 0.880103\n",
      "[375]\ttrain's QWK: 0.885964\tvalid's QWK: 0.881179\n",
      "[400]\ttrain's QWK: 0.886504\tvalid's QWK: 0.880742\n",
      "[425]\ttrain's QWK: 0.886967\tvalid's QWK: 0.879889\n",
      "Early stopping, best iteration is:\n",
      "[367]\ttrain's QWK: 0.885791\tvalid's QWK: 0.881179\n",
      "Evaluated only: QWK\n",
      "[LightGBM] [Info] Using self-defined objective function\n",
      "Training until validation scores don't improve for 75 rounds\n",
      "[25]\ttrain's QWK: 0.447398\tvalid's QWK: 0.476796\n",
      "[50]\ttrain's QWK: 0.738128\tvalid's QWK: 0.730538\n",
      "[75]\ttrain's QWK: 0.801698\tvalid's QWK: 0.792327\n",
      "[100]\ttrain's QWK: 0.838933\tvalid's QWK: 0.827369\n",
      "[125]\ttrain's QWK: 0.859496\tvalid's QWK: 0.848228\n",
      "[150]\ttrain's QWK: 0.868887\tvalid's QWK: 0.860555\n",
      "[175]\ttrain's QWK: 0.872886\tvalid's QWK: 0.86893\n",
      "[200]\ttrain's QWK: 0.876219\tvalid's QWK: 0.868528\n",
      "[225]\ttrain's QWK: 0.879199\tvalid's QWK: 0.870191\n",
      "[250]\ttrain's QWK: 0.881742\tvalid's QWK: 0.871638\n",
      "[275]\ttrain's QWK: 0.883549\tvalid's QWK: 0.877083\n",
      "[300]\ttrain's QWK: 0.884707\tvalid's QWK: 0.88138\n",
      "[325]\ttrain's QWK: 0.885117\tvalid's QWK: 0.882424\n",
      "[350]\ttrain's QWK: 0.885946\tvalid's QWK: 0.882102\n",
      "[375]\ttrain's QWK: 0.886351\tvalid's QWK: 0.881844\n",
      "[400]\ttrain's QWK: 0.886771\tvalid's QWK: 0.882425\n",
      "Early stopping, best iteration is:\n",
      "[332]\ttrain's QWK: 0.885404\tvalid's QWK: 0.883518\n",
      "Evaluated only: QWK\n",
      "[LightGBM] [Info] Using self-defined objective function\n",
      "Training until validation scores don't improve for 75 rounds\n",
      "[25]\ttrain's QWK: 0.435887\tvalid's QWK: 0.431104\n",
      "[50]\ttrain's QWK: 0.736971\tvalid's QWK: 0.720587\n",
      "[75]\ttrain's QWK: 0.798901\tvalid's QWK: 0.781815\n",
      "[100]\ttrain's QWK: 0.837595\tvalid's QWK: 0.823823\n",
      "[125]\ttrain's QWK: 0.860303\tvalid's QWK: 0.841442\n",
      "[150]\ttrain's QWK: 0.868577\tvalid's QWK: 0.850558\n",
      "[175]\ttrain's QWK: 0.873894\tvalid's QWK: 0.854913\n",
      "[200]\ttrain's QWK: 0.876715\tvalid's QWK: 0.857336\n",
      "[225]\ttrain's QWK: 0.880346\tvalid's QWK: 0.862224\n",
      "[250]\ttrain's QWK: 0.882425\tvalid's QWK: 0.865108\n",
      "[275]\ttrain's QWK: 0.883273\tvalid's QWK: 0.868637\n",
      "[300]\ttrain's QWK: 0.883666\tvalid's QWK: 0.868988\n",
      "[325]\ttrain's QWK: 0.884347\tvalid's QWK: 0.871639\n",
      "[350]\ttrain's QWK: 0.885182\tvalid's QWK: 0.871183\n",
      "[375]\ttrain's QWK: 0.885636\tvalid's QWK: 0.873556\n",
      "[400]\ttrain's QWK: 0.88605\tvalid's QWK: 0.874306\n",
      "[425]\ttrain's QWK: 0.886723\tvalid's QWK: 0.874784\n",
      "[450]\ttrain's QWK: 0.886763\tvalid's QWK: 0.875512\n",
      "[475]\ttrain's QWK: 0.886768\tvalid's QWK: 0.875512\n",
      "[500]\ttrain's QWK: 0.88741\tvalid's QWK: 0.876644\n",
      "[525]\ttrain's QWK: 0.887425\tvalid's QWK: 0.876499\n",
      "[550]\ttrain's QWK: 0.887931\tvalid's QWK: 0.877566\n",
      "[575]\ttrain's QWK: 0.888476\tvalid's QWK: 0.877145\n",
      "[600]\ttrain's QWK: 0.888981\tvalid's QWK: 0.877145\n",
      "Early stopping, best iteration is:\n",
      "[526]\ttrain's QWK: 0.887455\tvalid's QWK: 0.877566\n",
      "Evaluated only: QWK\n"
     ]
    }
   ],
   "source": [
    "oof_df = pd.DataFrame()\n",
    "\n",
    "for idx, (train_idx, valid_idx) in enumerate(skf.split(X, y)):\n",
    "    X_train, y_train = X.loc[train_idx], y.loc[train_idx]\n",
    "    X_valid, y_valid = X.loc[valid_idx], y.loc[valid_idx]\n",
    "    id_valid = ids.loc[valid_idx].to_numpy()\n",
    "\n",
    "    model, predictor = train_loop(X_train, y_train, X_valid, y_valid)\n",
    "\n",
    "    with open(f\"output/LGBM/{idx}.pkl\", \"wb\") as file:\n",
    "        pkl.dump({\"predictor\": predictor, \"model\": model}, file)\n",
    "\n",
    "    oof = validate_model(idx, X_valid, y_valid, id_valid, predictor)\n",
    "    oof_df = pd.concat([oof_df, oof])"
   ]
  },
  {
   "cell_type": "code",
   "execution_count": 15,
   "metadata": {},
   "outputs": [
    {
     "name": "stdout",
     "output_type": "stream",
     "text": [
      "Overall Score: 0.8862\n"
     ]
    }
   ],
   "source": [
    "score = get_score(oof_df[\"score\"], oof_df[\"pred_score\"])\n",
    "print(f'Overall Score: {score:<.4f}')\n",
    "wandb.log({\"CV/qwk_score\": score})"
   ]
  },
  {
   "cell_type": "code",
   "execution_count": 16,
   "metadata": {},
   "outputs": [],
   "source": [
    "wandb.log({\"oof_table\": wandb.Table(dataframe=oof_df)})"
   ]
  },
  {
   "cell_type": "code",
   "execution_count": 17,
   "metadata": {},
   "outputs": [],
   "source": [
    "oof_df.to_csv(\"output/oof.csv\", index=False)"
   ]
  },
  {
   "cell_type": "code",
   "execution_count": null,
   "metadata": {},
   "outputs": [],
   "source": [
    "best, threshold, xs, ys = find_thresholds(oof_df[\"score\"], oof_df[\"raw\"], steps=500)"
   ]
  },
  {
   "cell_type": "code",
   "execution_count": 18,
   "metadata": {},
   "outputs": [],
   "source": [
    "log_metrics(\n",
    "    pd.DataFrame(\n",
    "        {\n",
    "            \"score\": oof_df.score.to_numpy(),\n",
    "            \"pred_score\": oof_df.pred_score.to_numpy(),\n",
    "        }\n",
    "    ),\n",
    "    \"Overall\",\n",
    ")"
   ]
  },
  {
   "cell_type": "markdown",
   "metadata": {},
   "source": [
    "### Finding Optimal Thresholds"
   ]
  },
  {
   "cell_type": "code",
   "execution_count": null,
   "metadata": {},
   "outputs": [],
   "source": [
    "best, threshold, xs, ys = find_thresholds(oof_df[\"score\"] + 1, oof_df[\"raw\"], steps=500)"
   ]
  },
  {
   "cell_type": "code",
   "execution_count": null,
   "metadata": {},
   "outputs": [],
   "source": [
    "diff = 0.5\n",
    "nrows, ncols = 1, 5  # Define grid for 5 subplots (1 row, 5 columns)\n",
    "\n",
    "fig, axes = plt.subplots(nrows, ncols, figsize=(15, 3))  # Create figure and subplots\n",
    "\n",
    "# Loop through data and plot on each subplot\n",
    "for k in range(5):\n",
    "    ax = axes.flat[k]  # Access each subplot using flattened axes\n",
    "    ax.scatter(xs[k], ys[k], s=3)\n",
    "    m = k + 1.5\n",
    "    ax.set_xlim((m - diff, m + diff))\n",
    "    i = np.where((np.array(xs[k]) > m - diff) & (np.array(xs[k]) < m + diff))[0]\n",
    "    mn = np.min(np.array(ys[k])[i])\n",
    "    mx = np.max(np.array(ys[k])[i])\n",
    "    ax.set_ylim((mn, mx))\n",
    "\n",
    "    ax.plot(\n",
    "        [threshold[k], threshold[k]],\n",
    "        [mn, mx],\n",
    "        \"--\",\n",
    "        color=\"black\",\n",
    "        label=\"optimal threshold\",\n",
    "    )\n",
    "\n",
    "    ax.set_title(f\"Optimal Thresh: {threshold[k]:4.3f}\", size=12)  # Adjust title size\n",
    "    ax.set_xlabel(f\"Threshold between {k+1} and {k+2}\", size=10)\n",
    "    ax.set_ylabel(\"QWK CV score\", size=10)\n",
    "\n",
    "# Common legend for all subplots\n",
    "plt.suptitle(\"Optimal Thresholds\", size=12)\n",
    "plt.tight_layout()  # Adjust spacing between subplots\n",
    "plt.show()"
   ]
  },
  {
   "cell_type": "code",
   "execution_count": null,
   "metadata": {},
   "outputs": [],
   "source": [
    "with open(\"output/LGBM/threshold.pkl\", \"wb\") as file:\n",
    "    pkl.dump(threshold, file)"
   ]
  },
  {
   "cell_type": "code",
   "execution_count": 19,
   "metadata": {},
   "outputs": [
    {
     "data": {
      "application/vnd.jupyter.widget-view+json": {
       "model_id": "4eb5bf0487f1492192be58cbc56e1424",
       "version_major": 2,
       "version_minor": 0
      },
      "text/plain": [
       "VBox(children=(Label(value='1.190 MB of 1.190 MB uploaded\\r'), FloatProgress(value=1.0, max=1.0)))"
      ]
     },
     "metadata": {},
     "output_type": "display_data"
    },
    {
     "data": {
      "text/html": [
       "<style>\n",
       "    table.wandb td:nth-child(1) { padding: 0 10px; text-align: left ; width: auto;} td:nth-child(2) {text-align: left ; width: 100%}\n",
       "    .wandb-row { display: flex; flex-direction: row; flex-wrap: wrap; justify-content: flex-start; width: 100% }\n",
       "    .wandb-col { display: flex; flex-direction: column; flex-basis: 100%; flex: 1; padding: 10px; }\n",
       "    </style>\n",
       "<div class=\"wandb-row\"><div class=\"wandb-col\"><h3>Run history:</h3><br/><table class=\"wandb\"><tr><td>CV/qwk_score</td><td>▁</td></tr></table><br/></div><div class=\"wandb-col\"><h3>Run summary:</h3><br/><table class=\"wandb\"><tr><td>CV/qwk_score</td><td>0.88625</td></tr></table><br/></div></div>"
      ],
      "text/plain": [
       "<IPython.core.display.HTML object>"
      ]
     },
     "metadata": {},
     "output_type": "display_data"
    },
    {
     "data": {
      "text/html": [
       " View run <strong style=\"color:#cdcd00\">LGBM-ASE-13</strong> at: <a href='https://wandb.ai/laplacesdemon43/Kaggle_ASE_2.0/runs/j7fq74ak' target=\"_blank\">https://wandb.ai/laplacesdemon43/Kaggle_ASE_2.0/runs/j7fq74ak</a><br/> View project at: <a href='https://wandb.ai/laplacesdemon43/Kaggle_ASE_2.0' target=\"_blank\">https://wandb.ai/laplacesdemon43/Kaggle_ASE_2.0</a><br/>Synced 6 W&B file(s), 105 media file(s), 105 artifact file(s) and 1 other file(s)"
      ],
      "text/plain": [
       "<IPython.core.display.HTML object>"
      ]
     },
     "metadata": {},
     "output_type": "display_data"
    },
    {
     "data": {
      "text/html": [
       "Find logs at: <code>./wandb/run-20240608_170138-j7fq74ak/logs</code>"
      ],
      "text/plain": [
       "<IPython.core.display.HTML object>"
      ]
     },
     "metadata": {},
     "output_type": "display_data"
    }
   ],
   "source": [
    "wandb.finish()"
   ]
  }
 ],
 "metadata": {
  "kernelspec": {
   "display_name": "Python 3 (ipykernel)",
   "language": "python",
   "name": "python3"
  },
  "language_info": {
   "codemirror_mode": {
    "name": "ipython",
    "version": 3
   },
   "file_extension": ".py",
   "mimetype": "text/x-python",
   "name": "python",
   "nbconvert_exporter": "python",
   "pygments_lexer": "ipython3",
   "version": "3.11.8"
  }
 },
 "nbformat": 4,
 "nbformat_minor": 4
}
