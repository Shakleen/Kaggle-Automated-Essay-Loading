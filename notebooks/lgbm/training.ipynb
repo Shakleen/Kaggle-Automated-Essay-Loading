{
 "cells": [
  {
   "cell_type": "markdown",
   "metadata": {},
   "source": [
    "# LGBM - Training\n",
    "\n",
    "Sources\n",
    "1. [LGBM & Deberta Explained by ZULQARNAIN ALI](https://www.kaggle.com/code/zulqarnainalipk/lgbm-deberta-explained)"
   ]
  },
  {
   "cell_type": "markdown",
   "metadata": {},
   "source": [
    "## Setup"
   ]
  },
  {
   "cell_type": "code",
   "execution_count": 1,
   "metadata": {},
   "outputs": [],
   "source": [
    "import os\n",
    "import pandas as pd\n",
    "import numpy as np\n",
    "from sklearn.metrics import cohen_kappa_score\n",
    "import lightgbm as lgb\n",
    "import pickle as pkl\n",
    "import wandb\n",
    "from lightgbm import log_evaluation, early_stopping\n",
    "from sklearn.metrics import cohen_kappa_score\n",
    "from sklearn.model_selection import StratifiedKFold"
   ]
  },
  {
   "cell_type": "code",
   "execution_count": 2,
   "metadata": {},
   "outputs": [],
   "source": [
    "os.chdir(\"../../\")"
   ]
  },
  {
   "cell_type": "code",
   "execution_count": 3,
   "metadata": {},
   "outputs": [],
   "source": [
    "from lib.config import config\n",
    "from lib.paths import Paths\n",
    "from lib.utils.utils import seed_everything\n",
    "from lib.criterion.metrics import log_metrics\n",
    "from lib.model.utils import quadratic_weighted_kappa, qwk_obj, get_score"
   ]
  },
  {
   "cell_type": "code",
   "execution_count": 4,
   "metadata": {},
   "outputs": [],
   "source": [
    "seed_everything()"
   ]
  },
  {
   "cell_type": "markdown",
   "metadata": {},
   "source": [
    "### Setting Up WandB"
   ]
  },
  {
   "cell_type": "code",
   "execution_count": 5,
   "metadata": {},
   "outputs": [],
   "source": [
    "WANDB_PROJECT = \"Kaggle_ASE_2.0\"\n",
    "WANDB_NAME = f\"LGBM-ASE-3\""
   ]
  },
  {
   "cell_type": "code",
   "execution_count": 6,
   "metadata": {},
   "outputs": [
    {
     "name": "stderr",
     "output_type": "stream",
     "text": [
      "Failed to detect the name of this notebook, you can set it manually with the WANDB_NOTEBOOK_NAME environment variable to enable code saving.\n",
      "\u001b[34m\u001b[1mwandb\u001b[0m: Currently logged in as: \u001b[33mshakleenishfar\u001b[0m (\u001b[33mlaplacesdemon43\u001b[0m). Use \u001b[1m`wandb login --relogin`\u001b[0m to force relogin\n",
      "\u001b[34m\u001b[1mwandb\u001b[0m: \u001b[33mWARNING\u001b[0m If you're specifying your api key in code, ensure this code is not shared publicly.\n",
      "\u001b[34m\u001b[1mwandb\u001b[0m: \u001b[33mWARNING\u001b[0m Consider setting the WANDB_API_KEY environment variable, or running `wandb login` from the command line.\n",
      "\u001b[34m\u001b[1mwandb\u001b[0m: Appending key for api.wandb.ai to your netrc file: /home/ishfar/.netrc\n"
     ]
    },
    {
     "data": {
      "text/html": [
       "wandb version 0.17.0 is available!  To upgrade, please run:\n",
       " $ pip install wandb --upgrade"
      ],
      "text/plain": [
       "<IPython.core.display.HTML object>"
      ]
     },
     "metadata": {},
     "output_type": "display_data"
    },
    {
     "data": {
      "text/html": [
       "Tracking run with wandb version 0.16.6"
      ],
      "text/plain": [
       "<IPython.core.display.HTML object>"
      ]
     },
     "metadata": {},
     "output_type": "display_data"
    },
    {
     "data": {
      "text/html": [
       "Run data is saved locally in <code>/media/ishfar/New Volume/Studies/Projects/Kaggle-Automated-Essay-Scoring/wandb/run-20240530_080527-brgehzb7</code>"
      ],
      "text/plain": [
       "<IPython.core.display.HTML object>"
      ]
     },
     "metadata": {},
     "output_type": "display_data"
    },
    {
     "data": {
      "text/html": [
       "Syncing run <strong><a href='https://wandb.ai/laplacesdemon43/Kaggle_ASE_2.0/runs/brgehzb7' target=\"_blank\">LGBM-ASE-3</a></strong> to <a href='https://wandb.ai/laplacesdemon43/Kaggle_ASE_2.0' target=\"_blank\">Weights & Biases</a> (<a href='https://wandb.me/run' target=\"_blank\">docs</a>)<br/>"
      ],
      "text/plain": [
       "<IPython.core.display.HTML object>"
      ]
     },
     "metadata": {},
     "output_type": "display_data"
    },
    {
     "data": {
      "text/html": [
       " View project at <a href='https://wandb.ai/laplacesdemon43/Kaggle_ASE_2.0' target=\"_blank\">https://wandb.ai/laplacesdemon43/Kaggle_ASE_2.0</a>"
      ],
      "text/plain": [
       "<IPython.core.display.HTML object>"
      ]
     },
     "metadata": {},
     "output_type": "display_data"
    },
    {
     "data": {
      "text/html": [
       " View run at <a href='https://wandb.ai/laplacesdemon43/Kaggle_ASE_2.0/runs/brgehzb7' target=\"_blank\">https://wandb.ai/laplacesdemon43/Kaggle_ASE_2.0/runs/brgehzb7</a>"
      ],
      "text/plain": [
       "<IPython.core.display.HTML object>"
      ]
     },
     "metadata": {},
     "output_type": "display_data"
    }
   ],
   "source": [
    "wandb.login(key=os.environ.get('WANDB_API_KEY'))\n",
    "wandb.init(\n",
    "    project=WANDB_PROJECT,\n",
    "    name=WANDB_NAME,\n",
    "    save_code=True,\n",
    "    job_type=\"train\",\n",
    "    config=config,\n",
    ")\n",
    "config = wandb.config"
   ]
  },
  {
   "cell_type": "markdown",
   "metadata": {},
   "source": [
    "## Model Training"
   ]
  },
  {
   "cell_type": "markdown",
   "metadata": {},
   "source": [
    "### Dataset Creation"
   ]
  },
  {
   "cell_type": "code",
   "execution_count": 7,
   "metadata": {},
   "outputs": [
    {
     "data": {
      "text/plain": [
       "(17307, 22088)"
      ]
     },
     "execution_count": 7,
     "metadata": {},
     "output_type": "execute_result"
    }
   ],
   "source": [
    "df = pd.read_csv(Paths.FEATURE_ENGG_CSV_PATH)\n",
    "df.shape"
   ]
  },
  {
   "cell_type": "code",
   "execution_count": 8,
   "metadata": {},
   "outputs": [
    {
     "data": {
      "text/plain": [
       "((17307, 22086), (17307,))"
      ]
     },
     "execution_count": 8,
     "metadata": {},
     "output_type": "execute_result"
    }
   ],
   "source": [
    "ids = df.loc[:, \"essay_id\"]\n",
    "X, y = df.drop(columns=[\"score\", \"essay_id\"]), df.loc[:, \"score\"]\n",
    "del df\n",
    "\n",
    "X.shape, y.shape"
   ]
  },
  {
   "cell_type": "markdown",
   "metadata": {},
   "source": [
    "### Callbacks"
   ]
  },
  {
   "cell_type": "code",
   "execution_count": 9,
   "metadata": {},
   "outputs": [],
   "source": [
    "callbacks = [\n",
    "    log_evaluation(period=25),\n",
    "    early_stopping(stopping_rounds=75, first_metric_only=True),\n",
    "]"
   ]
  },
  {
   "cell_type": "markdown",
   "metadata": {},
   "source": [
    "### Constants"
   ]
  },
  {
   "cell_type": "code",
   "execution_count": 10,
   "metadata": {},
   "outputs": [],
   "source": [
    "a = config.lgbm_a\n",
    "b = config.lgbm_b"
   ]
  },
  {
   "cell_type": "markdown",
   "metadata": {},
   "source": [
    "### Training Loop"
   ]
  },
  {
   "cell_type": "code",
   "execution_count": 11,
   "metadata": {},
   "outputs": [],
   "source": [
    "def train_loop(X_train, y_train, X_valid, y_valid):\n",
    "    y_train = y_train.astype(np.float32) - a\n",
    "    y_valid = y_valid.astype(np.float32) - a\n",
    "\n",
    "    model = lgb.LGBMRegressor(\n",
    "        objective=qwk_obj,\n",
    "        metrics=\"None\",\n",
    "        learning_rate=0.01,\n",
    "        max_depth=5,\n",
    "        num_leaves=10,\n",
    "        colsample_bytree=0.3,\n",
    "        reg_alpha=0.7,\n",
    "        reg_lambda=0.1,\n",
    "        n_estimators=700,\n",
    "        random_state=config.random_seed,\n",
    "        extra_trees=True,\n",
    "        class_weight=\"balanced\",\n",
    "        n_jobs=6,\n",
    "        verbosity=0,\n",
    "    )\n",
    "\n",
    "    # Train model\n",
    "    predictor = model.fit(\n",
    "        X_train,\n",
    "        y_train,\n",
    "        eval_names=[\"train\", \"valid\"],\n",
    "        eval_set=[(X_train, y_train), (X_valid, y_valid)],\n",
    "        eval_metric=quadratic_weighted_kappa,\n",
    "        callbacks=callbacks,\n",
    "    )\n",
    "\n",
    "    return model, predictor"
   ]
  },
  {
   "cell_type": "code",
   "execution_count": 12,
   "metadata": {},
   "outputs": [],
   "source": [
    "def validate_model(idx, X_valid, y_valid, id_valid, predictor):\n",
    "    y_valid_int = y_valid.astype(np.int64).to_numpy()\n",
    "    preds = predictor.predict(X_valid) + a\n",
    "    preds = preds.clip(1, 6).round().astype(np.int64)\n",
    "\n",
    "    oof = pd.DataFrame(\n",
    "        {\n",
    "            \"essay_id\": id_valid,\n",
    "            \"score\": y_valid_int - 1,\n",
    "            \"pred_score\": preds - 1,\n",
    "        }\n",
    "    )\n",
    "    log_metrics(oof, f\"Fold {idx}\")\n",
    "\n",
    "    return oof"
   ]
  },
  {
   "cell_type": "markdown",
   "metadata": {},
   "source": [
    "### Fold Loop"
   ]
  },
  {
   "cell_type": "code",
   "execution_count": 13,
   "metadata": {},
   "outputs": [],
   "source": [
    "skf = StratifiedKFold(\n",
    "    n_splits=config.lgbm_n_folds,\n",
    "    random_state=config.random_seed,\n",
    "    shuffle=True,\n",
    ")"
   ]
  },
  {
   "cell_type": "code",
   "execution_count": 14,
   "metadata": {},
   "outputs": [
    {
     "name": "stdout",
     "output_type": "stream",
     "text": [
      "[LightGBM] [Info] Using self-defined objective function\n",
      "Training until validation scores don't improve for 75 rounds\n",
      "[25]\ttrain's QWK: 0.458596\tvalid's QWK: 0.499376\n",
      "[50]\ttrain's QWK: 0.737592\tvalid's QWK: 0.756291\n",
      "[75]\ttrain's QWK: 0.802188\tvalid's QWK: 0.813084\n",
      "[100]\ttrain's QWK: 0.83873\tvalid's QWK: 0.846248\n",
      "[125]\ttrain's QWK: 0.858927\tvalid's QWK: 0.866439\n",
      "[150]\ttrain's QWK: 0.868048\tvalid's QWK: 0.871713\n",
      "[175]\ttrain's QWK: 0.873852\tvalid's QWK: 0.88064\n",
      "[200]\ttrain's QWK: 0.876623\tvalid's QWK: 0.884809\n",
      "[225]\ttrain's QWK: 0.878918\tvalid's QWK: 0.890375\n",
      "[250]\ttrain's QWK: 0.881593\tvalid's QWK: 0.89245\n",
      "[275]\ttrain's QWK: 0.883424\tvalid's QWK: 0.892841\n",
      "[300]\ttrain's QWK: 0.884538\tvalid's QWK: 0.894883\n",
      "[325]\ttrain's QWK: 0.885408\tvalid's QWK: 0.895104\n",
      "[350]\ttrain's QWK: 0.885827\tvalid's QWK: 0.896707\n",
      "[375]\ttrain's QWK: 0.886283\tvalid's QWK: 0.896243\n",
      "[400]\ttrain's QWK: 0.886694\tvalid's QWK: 0.89638\n",
      "Early stopping, best iteration is:\n",
      "[337]\ttrain's QWK: 0.885635\tvalid's QWK: 0.896707\n",
      "Evaluated only: QWK\n",
      "[LightGBM] [Info] Using self-defined objective function\n",
      "Training until validation scores don't improve for 75 rounds\n",
      "[25]\ttrain's QWK: 0.458312\tvalid's QWK: 0.433208\n",
      "[50]\ttrain's QWK: 0.731751\tvalid's QWK: 0.726917\n",
      "[75]\ttrain's QWK: 0.79343\tvalid's QWK: 0.780834\n",
      "[100]\ttrain's QWK: 0.83556\tvalid's QWK: 0.833356\n",
      "[125]\ttrain's QWK: 0.860293\tvalid's QWK: 0.854521\n",
      "[150]\ttrain's QWK: 0.870163\tvalid's QWK: 0.864201\n",
      "[175]\ttrain's QWK: 0.874578\tvalid's QWK: 0.86852\n",
      "[200]\ttrain's QWK: 0.877517\tvalid's QWK: 0.867995\n",
      "[225]\ttrain's QWK: 0.879235\tvalid's QWK: 0.868863\n",
      "[250]\ttrain's QWK: 0.881504\tvalid's QWK: 0.875485\n",
      "[275]\ttrain's QWK: 0.883768\tvalid's QWK: 0.875224\n",
      "[300]\ttrain's QWK: 0.884187\tvalid's QWK: 0.876135\n",
      "[325]\ttrain's QWK: 0.88489\tvalid's QWK: 0.876119\n",
      "[350]\ttrain's QWK: 0.885839\tvalid's QWK: 0.878542\n",
      "[375]\ttrain's QWK: 0.885964\tvalid's QWK: 0.879027\n",
      "[400]\ttrain's QWK: 0.886337\tvalid's QWK: 0.880098\n",
      "[425]\ttrain's QWK: 0.886837\tvalid's QWK: 0.881423\n",
      "[450]\ttrain's QWK: 0.88751\tvalid's QWK: 0.883212\n",
      "[475]\ttrain's QWK: 0.887807\tvalid's QWK: 0.883212\n",
      "[500]\ttrain's QWK: 0.888206\tvalid's QWK: 0.883504\n",
      "[525]\ttrain's QWK: 0.888797\tvalid's QWK: 0.883238\n",
      "[550]\ttrain's QWK: 0.889132\tvalid's QWK: 0.883672\n",
      "Early stopping, best iteration is:\n",
      "[493]\ttrain's QWK: 0.88809\tvalid's QWK: 0.883941\n",
      "Evaluated only: QWK\n",
      "[LightGBM] [Info] Using self-defined objective function\n",
      "Training until validation scores don't improve for 75 rounds\n",
      "[25]\ttrain's QWK: 0.441357\tvalid's QWK: 0.462476\n",
      "[50]\ttrain's QWK: 0.739913\tvalid's QWK: 0.741299\n",
      "[75]\ttrain's QWK: 0.799334\tvalid's QWK: 0.811301\n",
      "[100]\ttrain's QWK: 0.832481\tvalid's QWK: 0.844018\n",
      "[125]\ttrain's QWK: 0.857916\tvalid's QWK: 0.867183\n",
      "[150]\ttrain's QWK: 0.867825\tvalid's QWK: 0.882092\n",
      "[175]\ttrain's QWK: 0.873808\tvalid's QWK: 0.884824\n",
      "[200]\ttrain's QWK: 0.876542\tvalid's QWK: 0.891566\n",
      "[225]\ttrain's QWK: 0.879444\tvalid's QWK: 0.892692\n",
      "[250]\ttrain's QWK: 0.881887\tvalid's QWK: 0.894867\n",
      "[275]\ttrain's QWK: 0.88287\tvalid's QWK: 0.894509\n",
      "[300]\ttrain's QWK: 0.883882\tvalid's QWK: 0.896485\n",
      "[325]\ttrain's QWK: 0.884591\tvalid's QWK: 0.897206\n",
      "[350]\ttrain's QWK: 0.885388\tvalid's QWK: 0.899021\n",
      "[375]\ttrain's QWK: 0.885825\tvalid's QWK: 0.899722\n",
      "[400]\ttrain's QWK: 0.886075\tvalid's QWK: 0.898969\n",
      "[425]\ttrain's QWK: 0.88615\tvalid's QWK: 0.89749\n",
      "Early stopping, best iteration is:\n",
      "[372]\ttrain's QWK: 0.88585\tvalid's QWK: 0.899722\n",
      "Evaluated only: QWK\n",
      "[LightGBM] [Info] Using self-defined objective function\n",
      "Training until validation scores don't improve for 75 rounds\n",
      "[25]\ttrain's QWK: 0.455827\tvalid's QWK: 0.431889\n",
      "[50]\ttrain's QWK: 0.734677\tvalid's QWK: 0.706873\n",
      "[75]\ttrain's QWK: 0.796872\tvalid's QWK: 0.782074\n",
      "[100]\ttrain's QWK: 0.835951\tvalid's QWK: 0.819405\n",
      "[125]\ttrain's QWK: 0.859263\tvalid's QWK: 0.849299\n",
      "[150]\ttrain's QWK: 0.868148\tvalid's QWK: 0.859202\n",
      "[175]\ttrain's QWK: 0.873956\tvalid's QWK: 0.865709\n",
      "[200]\ttrain's QWK: 0.877208\tvalid's QWK: 0.869434\n",
      "[225]\ttrain's QWK: 0.879829\tvalid's QWK: 0.873884\n",
      "[250]\ttrain's QWK: 0.882573\tvalid's QWK: 0.877731\n",
      "[275]\ttrain's QWK: 0.884205\tvalid's QWK: 0.878926\n",
      "[300]\ttrain's QWK: 0.88445\tvalid's QWK: 0.880199\n",
      "[325]\ttrain's QWK: 0.885368\tvalid's QWK: 0.882822\n",
      "[350]\ttrain's QWK: 0.886359\tvalid's QWK: 0.88223\n",
      "[375]\ttrain's QWK: 0.886929\tvalid's QWK: 0.88223\n",
      "Early stopping, best iteration is:\n",
      "[303]\ttrain's QWK: 0.884689\tvalid's QWK: 0.883416\n",
      "Evaluated only: QWK\n",
      "[LightGBM] [Info] Using self-defined objective function\n",
      "Training until validation scores don't improve for 75 rounds\n",
      "[25]\ttrain's QWK: 0.449853\tvalid's QWK: 0.445158\n",
      "[50]\ttrain's QWK: 0.738908\tvalid's QWK: 0.738471\n",
      "[75]\ttrain's QWK: 0.798767\tvalid's QWK: 0.801007\n",
      "[100]\ttrain's QWK: 0.834045\tvalid's QWK: 0.834402\n",
      "[125]\ttrain's QWK: 0.858215\tvalid's QWK: 0.85697\n",
      "[150]\ttrain's QWK: 0.86791\tvalid's QWK: 0.865865\n",
      "[175]\ttrain's QWK: 0.873109\tvalid's QWK: 0.867903\n",
      "[200]\ttrain's QWK: 0.876484\tvalid's QWK: 0.872927\n",
      "[225]\ttrain's QWK: 0.879308\tvalid's QWK: 0.875064\n",
      "[250]\ttrain's QWK: 0.881422\tvalid's QWK: 0.874744\n",
      "[275]\ttrain's QWK: 0.883065\tvalid's QWK: 0.875172\n",
      "[300]\ttrain's QWK: 0.884803\tvalid's QWK: 0.878079\n",
      "[325]\ttrain's QWK: 0.885497\tvalid's QWK: 0.880769\n",
      "[350]\ttrain's QWK: 0.886171\tvalid's QWK: 0.881066\n",
      "[375]\ttrain's QWK: 0.886837\tvalid's QWK: 0.880067\n",
      "[400]\ttrain's QWK: 0.887104\tvalid's QWK: 0.879814\n",
      "Early stopping, best iteration is:\n",
      "[327]\ttrain's QWK: 0.885653\tvalid's QWK: 0.881498\n",
      "Evaluated only: QWK\n",
      "[LightGBM] [Info] Using self-defined objective function\n",
      "Training until validation scores don't improve for 75 rounds\n",
      "[25]\ttrain's QWK: 0.453062\tvalid's QWK: 0.43524\n",
      "[50]\ttrain's QWK: 0.732122\tvalid's QWK: 0.708427\n",
      "[75]\ttrain's QWK: 0.795629\tvalid's QWK: 0.780757\n",
      "[100]\ttrain's QWK: 0.838174\tvalid's QWK: 0.832588\n",
      "[125]\ttrain's QWK: 0.860643\tvalid's QWK: 0.840487\n",
      "[150]\ttrain's QWK: 0.86967\tvalid's QWK: 0.853538\n",
      "[175]\ttrain's QWK: 0.874356\tvalid's QWK: 0.856721\n",
      "[200]\ttrain's QWK: 0.877515\tvalid's QWK: 0.860932\n",
      "[225]\ttrain's QWK: 0.880186\tvalid's QWK: 0.864305\n",
      "[250]\ttrain's QWK: 0.881641\tvalid's QWK: 0.868763\n",
      "[275]\ttrain's QWK: 0.884033\tvalid's QWK: 0.869123\n",
      "[300]\ttrain's QWK: 0.885093\tvalid's QWK: 0.869253\n",
      "[325]\ttrain's QWK: 0.886401\tvalid's QWK: 0.870927\n",
      "[350]\ttrain's QWK: 0.88717\tvalid's QWK: 0.871045\n",
      "[375]\ttrain's QWK: 0.887761\tvalid's QWK: 0.873814\n",
      "[400]\ttrain's QWK: 0.888211\tvalid's QWK: 0.874406\n",
      "[425]\ttrain's QWK: 0.888414\tvalid's QWK: 0.875074\n",
      "[450]\ttrain's QWK: 0.888802\tvalid's QWK: 0.874317\n",
      "[475]\ttrain's QWK: 0.889273\tvalid's QWK: 0.873173\n",
      "Early stopping, best iteration is:\n",
      "[422]\ttrain's QWK: 0.888464\tvalid's QWK: 0.875316\n",
      "Evaluated only: QWK\n",
      "[LightGBM] [Info] Using self-defined objective function\n",
      "Training until validation scores don't improve for 75 rounds\n",
      "[25]\ttrain's QWK: 0.462513\tvalid's QWK: 0.451188\n",
      "[50]\ttrain's QWK: 0.731174\tvalid's QWK: 0.729217\n",
      "[75]\ttrain's QWK: 0.800589\tvalid's QWK: 0.796381\n",
      "[100]\ttrain's QWK: 0.834522\tvalid's QWK: 0.834385\n",
      "[125]\ttrain's QWK: 0.860378\tvalid's QWK: 0.856622\n",
      "[150]\ttrain's QWK: 0.86969\tvalid's QWK: 0.866848\n",
      "[175]\ttrain's QWK: 0.874575\tvalid's QWK: 0.876975\n",
      "[200]\ttrain's QWK: 0.87721\tvalid's QWK: 0.874782\n",
      "[225]\ttrain's QWK: 0.87971\tvalid's QWK: 0.87712\n",
      "[250]\ttrain's QWK: 0.881543\tvalid's QWK: 0.877569\n",
      "[275]\ttrain's QWK: 0.882954\tvalid's QWK: 0.878841\n",
      "[300]\ttrain's QWK: 0.884148\tvalid's QWK: 0.884357\n",
      "[325]\ttrain's QWK: 0.88545\tvalid's QWK: 0.885392\n",
      "[350]\ttrain's QWK: 0.886072\tvalid's QWK: 0.887218\n",
      "[375]\ttrain's QWK: 0.886818\tvalid's QWK: 0.886057\n",
      "[400]\ttrain's QWK: 0.886818\tvalid's QWK: 0.886358\n",
      "[425]\ttrain's QWK: 0.887249\tvalid's QWK: 0.887679\n",
      "[450]\ttrain's QWK: 0.887693\tvalid's QWK: 0.887679\n",
      "[475]\ttrain's QWK: 0.88825\tvalid's QWK: 0.887679\n",
      "[500]\ttrain's QWK: 0.888653\tvalid's QWK: 0.889015\n",
      "[525]\ttrain's QWK: 0.888966\tvalid's QWK: 0.889015\n",
      "[550]\ttrain's QWK: 0.889171\tvalid's QWK: 0.890931\n",
      "[575]\ttrain's QWK: 0.889335\tvalid's QWK: 0.891528\n",
      "[600]\ttrain's QWK: 0.889839\tvalid's QWK: 0.891528\n",
      "[625]\ttrain's QWK: 0.890438\tvalid's QWK: 0.892124\n",
      "[650]\ttrain's QWK: 0.89092\tvalid's QWK: 0.892708\n",
      "[675]\ttrain's QWK: 0.891064\tvalid's QWK: 0.892708\n",
      "[700]\ttrain's QWK: 0.891559\tvalid's QWK: 0.892124\n",
      "Did not meet early stopping. Best iteration is:\n",
      "[690]\ttrain's QWK: 0.891293\tvalid's QWK: 0.89285\n",
      "Evaluated only: QWK\n",
      "[LightGBM] [Info] Using self-defined objective function\n",
      "Training until validation scores don't improve for 75 rounds\n",
      "[25]\ttrain's QWK: 0.439769\tvalid's QWK: 0.419862\n",
      "[50]\ttrain's QWK: 0.730737\tvalid's QWK: 0.717224\n",
      "[75]\ttrain's QWK: 0.798042\tvalid's QWK: 0.780726\n",
      "[100]\ttrain's QWK: 0.835401\tvalid's QWK: 0.827139\n",
      "[125]\ttrain's QWK: 0.858656\tvalid's QWK: 0.843778\n",
      "[150]\ttrain's QWK: 0.868156\tvalid's QWK: 0.858252\n",
      "[175]\ttrain's QWK: 0.873138\tvalid's QWK: 0.862742\n",
      "[200]\ttrain's QWK: 0.876587\tvalid's QWK: 0.866347\n",
      "[225]\ttrain's QWK: 0.878702\tvalid's QWK: 0.866445\n",
      "[250]\ttrain's QWK: 0.881644\tvalid's QWK: 0.870297\n",
      "[275]\ttrain's QWK: 0.88296\tvalid's QWK: 0.872738\n",
      "[300]\ttrain's QWK: 0.884058\tvalid's QWK: 0.875902\n",
      "[325]\ttrain's QWK: 0.885255\tvalid's QWK: 0.875991\n",
      "[350]\ttrain's QWK: 0.885925\tvalid's QWK: 0.87361\n",
      "[375]\ttrain's QWK: 0.885811\tvalid's QWK: 0.873369\n",
      "Early stopping, best iteration is:\n",
      "[321]\ttrain's QWK: 0.885145\tvalid's QWK: 0.877186\n",
      "Evaluated only: QWK\n",
      "[LightGBM] [Info] Using self-defined objective function\n",
      "Training until validation scores don't improve for 75 rounds\n",
      "[25]\ttrain's QWK: 0.437736\tvalid's QWK: 0.40097\n",
      "[50]\ttrain's QWK: 0.740214\tvalid's QWK: 0.735653\n",
      "[75]\ttrain's QWK: 0.794387\tvalid's QWK: 0.790333\n",
      "[100]\ttrain's QWK: 0.833843\tvalid's QWK: 0.823569\n",
      "[125]\ttrain's QWK: 0.858841\tvalid's QWK: 0.840708\n",
      "[150]\ttrain's QWK: 0.867915\tvalid's QWK: 0.860288\n",
      "[175]\ttrain's QWK: 0.872577\tvalid's QWK: 0.867825\n",
      "[200]\ttrain's QWK: 0.876122\tvalid's QWK: 0.870393\n",
      "[225]\ttrain's QWK: 0.879107\tvalid's QWK: 0.874615\n",
      "[250]\ttrain's QWK: 0.881578\tvalid's QWK: 0.876167\n",
      "[275]\ttrain's QWK: 0.882992\tvalid's QWK: 0.87917\n",
      "[300]\ttrain's QWK: 0.883931\tvalid's QWK: 0.88137\n",
      "[325]\ttrain's QWK: 0.884806\tvalid's QWK: 0.882451\n",
      "[350]\ttrain's QWK: 0.885659\tvalid's QWK: 0.881445\n",
      "[375]\ttrain's QWK: 0.88605\tvalid's QWK: 0.883291\n",
      "[400]\ttrain's QWK: 0.886753\tvalid's QWK: 0.883473\n",
      "[425]\ttrain's QWK: 0.886978\tvalid's QWK: 0.884228\n",
      "[450]\ttrain's QWK: 0.887606\tvalid's QWK: 0.885888\n",
      "[475]\ttrain's QWK: 0.887896\tvalid's QWK: 0.88561\n",
      "[500]\ttrain's QWK: 0.88802\tvalid's QWK: 0.886343\n",
      "[525]\ttrain's QWK: 0.888474\tvalid's QWK: 0.885882\n",
      "[550]\ttrain's QWK: 0.888683\tvalid's QWK: 0.885882\n",
      "[575]\ttrain's QWK: 0.88911\tvalid's QWK: 0.887939\n",
      "[600]\ttrain's QWK: 0.88973\tvalid's QWK: 0.887939\n",
      "[625]\ttrain's QWK: 0.889961\tvalid's QWK: 0.887939\n",
      "Early stopping, best iteration is:\n",
      "[571]\ttrain's QWK: 0.889141\tvalid's QWK: 0.887939\n",
      "Evaluated only: QWK\n",
      "[LightGBM] [Info] Using self-defined objective function\n",
      "Training until validation scores don't improve for 75 rounds\n",
      "[25]\ttrain's QWK: 0.437236\tvalid's QWK: 0.470542\n",
      "[50]\ttrain's QWK: 0.730029\tvalid's QWK: 0.734102\n",
      "[75]\ttrain's QWK: 0.797487\tvalid's QWK: 0.800551\n",
      "[100]\ttrain's QWK: 0.835883\tvalid's QWK: 0.858155\n",
      "[125]\ttrain's QWK: 0.858721\tvalid's QWK: 0.881038\n",
      "[150]\ttrain's QWK: 0.868637\tvalid's QWK: 0.882008\n",
      "[175]\ttrain's QWK: 0.872833\tvalid's QWK: 0.887535\n",
      "[200]\ttrain's QWK: 0.87621\tvalid's QWK: 0.890749\n",
      "[225]\ttrain's QWK: 0.879287\tvalid's QWK: 0.893699\n",
      "[250]\ttrain's QWK: 0.88145\tvalid's QWK: 0.89691\n",
      "[275]\ttrain's QWK: 0.882956\tvalid's QWK: 0.897322\n",
      "[300]\ttrain's QWK: 0.883885\tvalid's QWK: 0.897401\n",
      "[325]\ttrain's QWK: 0.88459\tvalid's QWK: 0.896639\n",
      "Early stopping, best iteration is:\n",
      "[252]\ttrain's QWK: 0.881688\tvalid's QWK: 0.897792\n",
      "Evaluated only: QWK\n",
      "[LightGBM] [Info] Using self-defined objective function\n",
      "Training until validation scores don't improve for 75 rounds\n",
      "[25]\ttrain's QWK: 0.437161\tvalid's QWK: 0.440662\n",
      "[50]\ttrain's QWK: 0.733672\tvalid's QWK: 0.74833\n",
      "[75]\ttrain's QWK: 0.796121\tvalid's QWK: 0.803864\n",
      "[100]\ttrain's QWK: 0.832933\tvalid's QWK: 0.846368\n",
      "[125]\ttrain's QWK: 0.857333\tvalid's QWK: 0.869722\n",
      "[150]\ttrain's QWK: 0.867699\tvalid's QWK: 0.876495\n",
      "[175]\ttrain's QWK: 0.873088\tvalid's QWK: 0.880105\n",
      "[200]\ttrain's QWK: 0.876318\tvalid's QWK: 0.884436\n",
      "[225]\ttrain's QWK: 0.878477\tvalid's QWK: 0.888332\n",
      "[250]\ttrain's QWK: 0.880367\tvalid's QWK: 0.888641\n",
      "[275]\ttrain's QWK: 0.882258\tvalid's QWK: 0.888218\n",
      "[300]\ttrain's QWK: 0.883656\tvalid's QWK: 0.891252\n",
      "[325]\ttrain's QWK: 0.884401\tvalid's QWK: 0.891709\n",
      "[350]\ttrain's QWK: 0.885347\tvalid's QWK: 0.894105\n",
      "[375]\ttrain's QWK: 0.88614\tvalid's QWK: 0.893939\n",
      "[400]\ttrain's QWK: 0.886385\tvalid's QWK: 0.893939\n",
      "Early stopping, best iteration is:\n",
      "[343]\ttrain's QWK: 0.885055\tvalid's QWK: 0.894858\n",
      "Evaluated only: QWK\n",
      "[LightGBM] [Info] Using self-defined objective function\n",
      "Training until validation scores don't improve for 75 rounds\n",
      "[25]\ttrain's QWK: 0.443157\tvalid's QWK: 0.453724\n",
      "[50]\ttrain's QWK: 0.732115\tvalid's QWK: 0.73886\n",
      "[75]\ttrain's QWK: 0.79773\tvalid's QWK: 0.81098\n",
      "[100]\ttrain's QWK: 0.839167\tvalid's QWK: 0.845012\n",
      "[125]\ttrain's QWK: 0.859386\tvalid's QWK: 0.859014\n",
      "[150]\ttrain's QWK: 0.869402\tvalid's QWK: 0.869512\n",
      "[175]\ttrain's QWK: 0.874416\tvalid's QWK: 0.873426\n",
      "[200]\ttrain's QWK: 0.876724\tvalid's QWK: 0.878226\n",
      "[225]\ttrain's QWK: 0.87882\tvalid's QWK: 0.881922\n",
      "[250]\ttrain's QWK: 0.881666\tvalid's QWK: 0.886903\n",
      "[275]\ttrain's QWK: 0.883528\tvalid's QWK: 0.887936\n",
      "[300]\ttrain's QWK: 0.884919\tvalid's QWK: 0.888844\n",
      "[325]\ttrain's QWK: 0.885943\tvalid's QWK: 0.886759\n",
      "[350]\ttrain's QWK: 0.886356\tvalid's QWK: 0.887213\n",
      "Early stopping, best iteration is:\n",
      "[298]\ttrain's QWK: 0.884866\tvalid's QWK: 0.888844\n",
      "Evaluated only: QWK\n",
      "[LightGBM] [Info] Using self-defined objective function\n",
      "Training until validation scores don't improve for 75 rounds\n",
      "[25]\ttrain's QWK: 0.429672\tvalid's QWK: 0.43429\n",
      "[50]\ttrain's QWK: 0.733074\tvalid's QWK: 0.755194\n",
      "[75]\ttrain's QWK: 0.802149\tvalid's QWK: 0.80441\n",
      "[100]\ttrain's QWK: 0.838631\tvalid's QWK: 0.842807\n",
      "[125]\ttrain's QWK: 0.8597\tvalid's QWK: 0.869862\n",
      "[150]\ttrain's QWK: 0.869461\tvalid's QWK: 0.873107\n",
      "[175]\ttrain's QWK: 0.874856\tvalid's QWK: 0.877165\n",
      "[200]\ttrain's QWK: 0.877382\tvalid's QWK: 0.881713\n",
      "[225]\ttrain's QWK: 0.880691\tvalid's QWK: 0.885634\n",
      "[250]\ttrain's QWK: 0.882404\tvalid's QWK: 0.884761\n",
      "[275]\ttrain's QWK: 0.883759\tvalid's QWK: 0.883606\n",
      "[300]\ttrain's QWK: 0.885487\tvalid's QWK: 0.884844\n",
      "Early stopping, best iteration is:\n",
      "[231]\ttrain's QWK: 0.881005\tvalid's QWK: 0.886281\n",
      "Evaluated only: QWK\n",
      "[LightGBM] [Info] Using self-defined objective function\n",
      "Training until validation scores don't improve for 75 rounds\n",
      "[25]\ttrain's QWK: 0.45119\tvalid's QWK: 0.452767\n",
      "[50]\ttrain's QWK: 0.733982\tvalid's QWK: 0.709138\n",
      "[75]\ttrain's QWK: 0.795823\tvalid's QWK: 0.778032\n",
      "[100]\ttrain's QWK: 0.834439\tvalid's QWK: 0.813711\n",
      "[125]\ttrain's QWK: 0.858863\tvalid's QWK: 0.843015\n",
      "[150]\ttrain's QWK: 0.869287\tvalid's QWK: 0.850909\n",
      "[175]\ttrain's QWK: 0.87413\tvalid's QWK: 0.861337\n",
      "[200]\ttrain's QWK: 0.877385\tvalid's QWK: 0.862703\n",
      "[225]\ttrain's QWK: 0.879973\tvalid's QWK: 0.866042\n",
      "[250]\ttrain's QWK: 0.881463\tvalid's QWK: 0.866928\n",
      "[275]\ttrain's QWK: 0.882858\tvalid's QWK: 0.865727\n",
      "Early stopping, best iteration is:\n",
      "[224]\ttrain's QWK: 0.879791\tvalid's QWK: 0.867059\n",
      "Evaluated only: QWK\n",
      "[LightGBM] [Info] Using self-defined objective function\n",
      "Training until validation scores don't improve for 75 rounds\n",
      "[25]\ttrain's QWK: 0.438333\tvalid's QWK: 0.459215\n",
      "[50]\ttrain's QWK: 0.731158\tvalid's QWK: 0.746749\n",
      "[75]\ttrain's QWK: 0.797187\tvalid's QWK: 0.810823\n",
      "[100]\ttrain's QWK: 0.835776\tvalid's QWK: 0.852192\n",
      "[125]\ttrain's QWK: 0.857078\tvalid's QWK: 0.873351\n",
      "[150]\ttrain's QWK: 0.867686\tvalid's QWK: 0.878827\n",
      "[175]\ttrain's QWK: 0.872665\tvalid's QWK: 0.883343\n",
      "[200]\ttrain's QWK: 0.875717\tvalid's QWK: 0.881101\n",
      "[225]\ttrain's QWK: 0.87826\tvalid's QWK: 0.88451\n",
      "[250]\ttrain's QWK: 0.880549\tvalid's QWK: 0.885016\n",
      "[275]\ttrain's QWK: 0.882709\tvalid's QWK: 0.888656\n",
      "[300]\ttrain's QWK: 0.883884\tvalid's QWK: 0.890585\n",
      "[325]\ttrain's QWK: 0.884739\tvalid's QWK: 0.889969\n",
      "[350]\ttrain's QWK: 0.885625\tvalid's QWK: 0.890697\n",
      "[375]\ttrain's QWK: 0.886418\tvalid's QWK: 0.890697\n",
      "[400]\ttrain's QWK: 0.886958\tvalid's QWK: 0.891416\n",
      "[425]\ttrain's QWK: 0.887271\tvalid's QWK: 0.891996\n",
      "[450]\ttrain's QWK: 0.887669\tvalid's QWK: 0.891701\n",
      "[475]\ttrain's QWK: 0.888113\tvalid's QWK: 0.892436\n",
      "[500]\ttrain's QWK: 0.888437\tvalid's QWK: 0.892436\n",
      "[525]\ttrain's QWK: 0.888922\tvalid's QWK: 0.893014\n",
      "[550]\ttrain's QWK: 0.889374\tvalid's QWK: 0.893014\n",
      "[575]\ttrain's QWK: 0.890085\tvalid's QWK: 0.893014\n",
      "Early stopping, best iteration is:\n",
      "[514]\ttrain's QWK: 0.888822\tvalid's QWK: 0.893014\n",
      "Evaluated only: QWK\n",
      "[LightGBM] [Info] Using self-defined objective function\n",
      "Training until validation scores don't improve for 75 rounds\n",
      "[25]\ttrain's QWK: 0.443929\tvalid's QWK: 0.439215\n",
      "[50]\ttrain's QWK: 0.733424\tvalid's QWK: 0.745965\n",
      "[75]\ttrain's QWK: 0.796466\tvalid's QWK: 0.808881\n",
      "[100]\ttrain's QWK: 0.839092\tvalid's QWK: 0.843914\n",
      "[125]\ttrain's QWK: 0.859629\tvalid's QWK: 0.865698\n",
      "[150]\ttrain's QWK: 0.8689\tvalid's QWK: 0.874168\n",
      "[175]\ttrain's QWK: 0.8726\tvalid's QWK: 0.877128\n",
      "[200]\ttrain's QWK: 0.876772\tvalid's QWK: 0.876966\n",
      "[225]\ttrain's QWK: 0.879243\tvalid's QWK: 0.876408\n",
      "[250]\ttrain's QWK: 0.882029\tvalid's QWK: 0.875557\n",
      "[275]\ttrain's QWK: 0.884027\tvalid's QWK: 0.874899\n",
      "Early stopping, best iteration is:\n",
      "[206]\ttrain's QWK: 0.877189\tvalid's QWK: 0.878057\n",
      "Evaluated only: QWK\n",
      "[LightGBM] [Info] Using self-defined objective function\n",
      "Training until validation scores don't improve for 75 rounds\n",
      "[25]\ttrain's QWK: 0.445925\tvalid's QWK: 0.469374\n",
      "[50]\ttrain's QWK: 0.738457\tvalid's QWK: 0.744752\n",
      "[75]\ttrain's QWK: 0.799145\tvalid's QWK: 0.793663\n",
      "[100]\ttrain's QWK: 0.832927\tvalid's QWK: 0.836562\n",
      "[125]\ttrain's QWK: 0.858535\tvalid's QWK: 0.86223\n",
      "[150]\ttrain's QWK: 0.869416\tvalid's QWK: 0.873831\n",
      "[175]\ttrain's QWK: 0.873735\tvalid's QWK: 0.877612\n",
      "[200]\ttrain's QWK: 0.876976\tvalid's QWK: 0.877117\n",
      "[225]\ttrain's QWK: 0.880053\tvalid's QWK: 0.878992\n",
      "[250]\ttrain's QWK: 0.882291\tvalid's QWK: 0.881668\n",
      "[275]\ttrain's QWK: 0.883912\tvalid's QWK: 0.883571\n",
      "[300]\ttrain's QWK: 0.884611\tvalid's QWK: 0.884231\n",
      "[325]\ttrain's QWK: 0.885552\tvalid's QWK: 0.886078\n",
      "[350]\ttrain's QWK: 0.886174\tvalid's QWK: 0.884883\n",
      "[375]\ttrain's QWK: 0.886806\tvalid's QWK: 0.885779\n",
      "[400]\ttrain's QWK: 0.887406\tvalid's QWK: 0.887248\n",
      "[425]\ttrain's QWK: 0.887785\tvalid's QWK: 0.886544\n",
      "[450]\ttrain's QWK: 0.888171\tvalid's QWK: 0.884811\n",
      "Early stopping, best iteration is:\n",
      "[391]\ttrain's QWK: 0.887265\tvalid's QWK: 0.887841\n",
      "Evaluated only: QWK\n",
      "[LightGBM] [Info] Using self-defined objective function\n",
      "Training until validation scores don't improve for 75 rounds\n",
      "[25]\ttrain's QWK: 0.447564\tvalid's QWK: 0.436958\n",
      "[50]\ttrain's QWK: 0.733975\tvalid's QWK: 0.725823\n",
      "[75]\ttrain's QWK: 0.801059\tvalid's QWK: 0.799682\n",
      "[100]\ttrain's QWK: 0.836068\tvalid's QWK: 0.830818\n",
      "[125]\ttrain's QWK: 0.859632\tvalid's QWK: 0.862568\n",
      "[150]\ttrain's QWK: 0.868483\tvalid's QWK: 0.867311\n",
      "[175]\ttrain's QWK: 0.873973\tvalid's QWK: 0.872986\n",
      "[200]\ttrain's QWK: 0.877056\tvalid's QWK: 0.876108\n",
      "[225]\ttrain's QWK: 0.879589\tvalid's QWK: 0.880613\n",
      "[250]\ttrain's QWK: 0.882115\tvalid's QWK: 0.882257\n",
      "[275]\ttrain's QWK: 0.883866\tvalid's QWK: 0.883691\n",
      "[300]\ttrain's QWK: 0.884497\tvalid's QWK: 0.886442\n",
      "[325]\ttrain's QWK: 0.88567\tvalid's QWK: 0.887356\n",
      "[350]\ttrain's QWK: 0.886576\tvalid's QWK: 0.886639\n",
      "[375]\ttrain's QWK: 0.886554\tvalid's QWK: 0.887657\n",
      "Early stopping, best iteration is:\n",
      "[304]\ttrain's QWK: 0.884753\tvalid's QWK: 0.887959\n",
      "Evaluated only: QWK\n",
      "[LightGBM] [Info] Using self-defined objective function\n",
      "Training until validation scores don't improve for 75 rounds\n",
      "[25]\ttrain's QWK: 0.431252\tvalid's QWK: 0.451422\n",
      "[50]\ttrain's QWK: 0.735196\tvalid's QWK: 0.750074\n",
      "[75]\ttrain's QWK: 0.800498\tvalid's QWK: 0.80498\n",
      "[100]\ttrain's QWK: 0.837355\tvalid's QWK: 0.831765\n",
      "[125]\ttrain's QWK: 0.858887\tvalid's QWK: 0.856878\n",
      "[150]\ttrain's QWK: 0.867779\tvalid's QWK: 0.86742\n",
      "[175]\ttrain's QWK: 0.87311\tvalid's QWK: 0.871109\n",
      "[200]\ttrain's QWK: 0.875908\tvalid's QWK: 0.877874\n",
      "[225]\ttrain's QWK: 0.878542\tvalid's QWK: 0.885723\n",
      "[250]\ttrain's QWK: 0.88111\tvalid's QWK: 0.885282\n",
      "[275]\ttrain's QWK: 0.883023\tvalid's QWK: 0.887081\n",
      "[300]\ttrain's QWK: 0.884245\tvalid's QWK: 0.887841\n",
      "[325]\ttrain's QWK: 0.884912\tvalid's QWK: 0.888321\n",
      "[350]\ttrain's QWK: 0.885691\tvalid's QWK: 0.890831\n",
      "[375]\ttrain's QWK: 0.886368\tvalid's QWK: 0.891121\n",
      "[400]\ttrain's QWK: 0.886443\tvalid's QWK: 0.891115\n",
      "[425]\ttrain's QWK: 0.886765\tvalid's QWK: 0.890679\n",
      "Early stopping, best iteration is:\n",
      "[358]\ttrain's QWK: 0.88608\tvalid's QWK: 0.891705\n",
      "Evaluated only: QWK\n",
      "[LightGBM] [Info] Using self-defined objective function\n",
      "Training until validation scores don't improve for 75 rounds\n",
      "[25]\ttrain's QWK: 0.459139\tvalid's QWK: 0.455823\n",
      "[50]\ttrain's QWK: 0.737783\tvalid's QWK: 0.751498\n",
      "[75]\ttrain's QWK: 0.79396\tvalid's QWK: 0.798621\n",
      "[100]\ttrain's QWK: 0.838796\tvalid's QWK: 0.838668\n",
      "[125]\ttrain's QWK: 0.86053\tvalid's QWK: 0.866644\n",
      "[150]\ttrain's QWK: 0.868949\tvalid's QWK: 0.878715\n",
      "[175]\ttrain's QWK: 0.872983\tvalid's QWK: 0.886774\n",
      "[200]\ttrain's QWK: 0.876307\tvalid's QWK: 0.894603\n",
      "[225]\ttrain's QWK: 0.87867\tvalid's QWK: 0.893175\n",
      "[250]\ttrain's QWK: 0.880451\tvalid's QWK: 0.893482\n",
      "[275]\ttrain's QWK: 0.882084\tvalid's QWK: 0.894691\n",
      "[300]\ttrain's QWK: 0.883763\tvalid's QWK: 0.896264\n",
      "[325]\ttrain's QWK: 0.884611\tvalid's QWK: 0.895789\n",
      "[350]\ttrain's QWK: 0.885141\tvalid's QWK: 0.896809\n",
      "[375]\ttrain's QWK: 0.886149\tvalid's QWK: 0.896219\n",
      "[400]\ttrain's QWK: 0.886872\tvalid's QWK: 0.89648\n",
      "[425]\ttrain's QWK: 0.887389\tvalid's QWK: 0.89648\n",
      "[450]\ttrain's QWK: 0.887545\tvalid's QWK: 0.897068\n",
      "Early stopping, best iteration is:\n",
      "[379]\ttrain's QWK: 0.886161\tvalid's QWK: 0.897686\n",
      "Evaluated only: QWK\n",
      "[LightGBM] [Info] Using self-defined objective function\n",
      "Training until validation scores don't improve for 75 rounds\n",
      "[25]\ttrain's QWK: 0.433372\tvalid's QWK: 0.402412\n",
      "[50]\ttrain's QWK: 0.734031\tvalid's QWK: 0.748722\n",
      "[75]\ttrain's QWK: 0.798427\tvalid's QWK: 0.805395\n",
      "[100]\ttrain's QWK: 0.83883\tvalid's QWK: 0.849781\n",
      "[125]\ttrain's QWK: 0.858774\tvalid's QWK: 0.875372\n",
      "[150]\ttrain's QWK: 0.867876\tvalid's QWK: 0.878293\n",
      "[175]\ttrain's QWK: 0.873381\tvalid's QWK: 0.87666\n",
      "[200]\ttrain's QWK: 0.875546\tvalid's QWK: 0.876356\n",
      "[225]\ttrain's QWK: 0.877761\tvalid's QWK: 0.880506\n",
      "[250]\ttrain's QWK: 0.880403\tvalid's QWK: 0.883686\n",
      "[275]\ttrain's QWK: 0.882503\tvalid's QWK: 0.887101\n",
      "[300]\ttrain's QWK: 0.884198\tvalid's QWK: 0.88576\n",
      "[325]\ttrain's QWK: 0.885334\tvalid's QWK: 0.887156\n",
      "[350]\ttrain's QWK: 0.886262\tvalid's QWK: 0.886696\n",
      "[375]\ttrain's QWK: 0.886727\tvalid's QWK: 0.887311\n",
      "[400]\ttrain's QWK: 0.887227\tvalid's QWK: 0.888813\n",
      "[425]\ttrain's QWK: 0.887725\tvalid's QWK: 0.889702\n",
      "[450]\ttrain's QWK: 0.888071\tvalid's QWK: 0.888656\n",
      "[475]\ttrain's QWK: 0.888657\tvalid's QWK: 0.888656\n",
      "Early stopping, best iteration is:\n",
      "[403]\ttrain's QWK: 0.887294\tvalid's QWK: 0.889702\n",
      "Evaluated only: QWK\n",
      "[LightGBM] [Info] Using self-defined objective function\n",
      "Training until validation scores don't improve for 75 rounds\n",
      "[25]\ttrain's QWK: 0.441912\tvalid's QWK: 0.419487\n",
      "[50]\ttrain's QWK: 0.733895\tvalid's QWK: 0.722522\n",
      "[75]\ttrain's QWK: 0.794139\tvalid's QWK: 0.789281\n",
      "[100]\ttrain's QWK: 0.838669\tvalid's QWK: 0.827303\n",
      "[125]\ttrain's QWK: 0.859298\tvalid's QWK: 0.85104\n",
      "[150]\ttrain's QWK: 0.868346\tvalid's QWK: 0.864977\n",
      "[175]\ttrain's QWK: 0.873099\tvalid's QWK: 0.867341\n",
      "[200]\ttrain's QWK: 0.87615\tvalid's QWK: 0.868266\n",
      "[225]\ttrain's QWK: 0.879033\tvalid's QWK: 0.874538\n",
      "[250]\ttrain's QWK: 0.881494\tvalid's QWK: 0.875592\n",
      "[275]\ttrain's QWK: 0.883451\tvalid's QWK: 0.878816\n",
      "[300]\ttrain's QWK: 0.884346\tvalid's QWK: 0.879136\n",
      "[325]\ttrain's QWK: 0.885398\tvalid's QWK: 0.879952\n",
      "[350]\ttrain's QWK: 0.885757\tvalid's QWK: 0.881496\n",
      "[375]\ttrain's QWK: 0.886003\tvalid's QWK: 0.883682\n",
      "[400]\ttrain's QWK: 0.886445\tvalid's QWK: 0.884762\n",
      "[425]\ttrain's QWK: 0.886809\tvalid's QWK: 0.885371\n",
      "[450]\ttrain's QWK: 0.887218\tvalid's QWK: 0.887034\n",
      "[475]\ttrain's QWK: 0.887911\tvalid's QWK: 0.887475\n",
      "[500]\ttrain's QWK: 0.887861\tvalid's QWK: 0.887626\n",
      "[525]\ttrain's QWK: 0.888488\tvalid's QWK: 0.88749\n",
      "Early stopping, best iteration is:\n",
      "[461]\ttrain's QWK: 0.887367\tvalid's QWK: 0.88793\n",
      "Evaluated only: QWK\n",
      "[LightGBM] [Info] Using self-defined objective function\n",
      "Training until validation scores don't improve for 75 rounds\n",
      "[25]\ttrain's QWK: 0.447441\tvalid's QWK: 0.450066\n",
      "[50]\ttrain's QWK: 0.73159\tvalid's QWK: 0.729059\n",
      "[75]\ttrain's QWK: 0.793432\tvalid's QWK: 0.787796\n",
      "[100]\ttrain's QWK: 0.838807\tvalid's QWK: 0.830896\n",
      "[125]\ttrain's QWK: 0.858526\tvalid's QWK: 0.85647\n",
      "[150]\ttrain's QWK: 0.86856\tvalid's QWK: 0.862955\n",
      "[175]\ttrain's QWK: 0.873448\tvalid's QWK: 0.869632\n",
      "[200]\ttrain's QWK: 0.875781\tvalid's QWK: 0.870953\n",
      "[225]\ttrain's QWK: 0.878778\tvalid's QWK: 0.874794\n",
      "[250]\ttrain's QWK: 0.881659\tvalid's QWK: 0.878941\n",
      "[275]\ttrain's QWK: 0.883394\tvalid's QWK: 0.878126\n",
      "[300]\ttrain's QWK: 0.884459\tvalid's QWK: 0.879391\n",
      "[325]\ttrain's QWK: 0.885343\tvalid's QWK: 0.87871\n",
      "[350]\ttrain's QWK: 0.886104\tvalid's QWK: 0.87811\n",
      "Early stopping, best iteration is:\n",
      "[297]\ttrain's QWK: 0.884371\tvalid's QWK: 0.880567\n",
      "Evaluated only: QWK\n",
      "[LightGBM] [Info] Using self-defined objective function\n",
      "Training until validation scores don't improve for 75 rounds\n",
      "[25]\ttrain's QWK: 0.454103\tvalid's QWK: 0.483724\n",
      "[50]\ttrain's QWK: 0.738381\tvalid's QWK: 0.732221\n",
      "[75]\ttrain's QWK: 0.796462\tvalid's QWK: 0.783335\n",
      "[100]\ttrain's QWK: 0.835048\tvalid's QWK: 0.822316\n",
      "[125]\ttrain's QWK: 0.860035\tvalid's QWK: 0.84619\n",
      "[150]\ttrain's QWK: 0.870515\tvalid's QWK: 0.858281\n",
      "[175]\ttrain's QWK: 0.873947\tvalid's QWK: 0.865797\n",
      "[200]\ttrain's QWK: 0.877105\tvalid's QWK: 0.865682\n",
      "[225]\ttrain's QWK: 0.87934\tvalid's QWK: 0.868903\n",
      "[250]\ttrain's QWK: 0.88198\tvalid's QWK: 0.871328\n",
      "[275]\ttrain's QWK: 0.883328\tvalid's QWK: 0.875443\n",
      "[300]\ttrain's QWK: 0.885203\tvalid's QWK: 0.877873\n",
      "[325]\ttrain's QWK: 0.885972\tvalid's QWK: 0.878765\n",
      "[350]\ttrain's QWK: 0.886694\tvalid's QWK: 0.878355\n",
      "[375]\ttrain's QWK: 0.887116\tvalid's QWK: 0.881039\n",
      "[400]\ttrain's QWK: 0.887312\tvalid's QWK: 0.881039\n",
      "[425]\ttrain's QWK: 0.88767\tvalid's QWK: 0.882806\n",
      "[450]\ttrain's QWK: 0.887954\tvalid's QWK: 0.883677\n",
      "[475]\ttrain's QWK: 0.888365\tvalid's QWK: 0.883677\n",
      "[500]\ttrain's QWK: 0.888714\tvalid's QWK: 0.883677\n",
      "Early stopping, best iteration is:\n",
      "[437]\ttrain's QWK: 0.887768\tvalid's QWK: 0.883677\n",
      "Evaluated only: QWK\n",
      "[LightGBM] [Info] Using self-defined objective function\n",
      "Training until validation scores don't improve for 75 rounds\n",
      "[25]\ttrain's QWK: 0.449979\tvalid's QWK: 0.472477\n",
      "[50]\ttrain's QWK: 0.736218\tvalid's QWK: 0.712938\n",
      "[75]\ttrain's QWK: 0.799186\tvalid's QWK: 0.790862\n",
      "[100]\ttrain's QWK: 0.837658\tvalid's QWK: 0.828622\n",
      "[125]\ttrain's QWK: 0.860267\tvalid's QWK: 0.842857\n",
      "[150]\ttrain's QWK: 0.870057\tvalid's QWK: 0.849975\n",
      "[175]\ttrain's QWK: 0.874322\tvalid's QWK: 0.857738\n",
      "[200]\ttrain's QWK: 0.87695\tvalid's QWK: 0.860135\n",
      "[225]\ttrain's QWK: 0.879815\tvalid's QWK: 0.86596\n",
      "[250]\ttrain's QWK: 0.882318\tvalid's QWK: 0.87199\n",
      "[275]\ttrain's QWK: 0.88378\tvalid's QWK: 0.872676\n",
      "[300]\ttrain's QWK: 0.884683\tvalid's QWK: 0.875187\n",
      "[325]\ttrain's QWK: 0.885726\tvalid's QWK: 0.875294\n",
      "[350]\ttrain's QWK: 0.88635\tvalid's QWK: 0.874873\n",
      "[375]\ttrain's QWK: 0.887075\tvalid's QWK: 0.874873\n",
      "Early stopping, best iteration is:\n",
      "[305]\ttrain's QWK: 0.885001\tvalid's QWK: 0.875942\n",
      "Evaluated only: QWK\n"
     ]
    }
   ],
   "source": [
    "oof_df = pd.DataFrame()\n",
    "\n",
    "for idx, (train_idx, valid_idx) in enumerate(skf.split(X, y)):\n",
    "    X_train, y_train = X.loc[train_idx], y.loc[train_idx]\n",
    "    X_valid, y_valid = X.loc[valid_idx], y.loc[valid_idx]\n",
    "    id_valid = ids.loc[valid_idx].to_numpy()\n",
    "\n",
    "    model, predictor = train_loop(X_train, y_train, X_valid, y_valid)\n",
    "\n",
    "    with open(f\"output/LGBM/{idx}.pkl\", \"wb\") as file:\n",
    "        pkl.dump({\"predictor\": predictor, \"model\": model}, file)\n",
    "\n",
    "    oof = validate_model(idx, X_valid, y_valid, id_valid, predictor)\n",
    "    oof_df = pd.concat([oof_df, oof])"
   ]
  },
  {
   "cell_type": "code",
   "execution_count": 15,
   "metadata": {},
   "outputs": [
    {
     "name": "stdout",
     "output_type": "stream",
     "text": [
      "Overall Score: 0.8868\n"
     ]
    }
   ],
   "source": [
    "score = get_score(oof_df[\"score\"], oof_df[\"pred_score\"])\n",
    "print(f'Overall Score: {score:<.4f}')\n",
    "wandb.log({\"CV/qwk_score\": score})"
   ]
  },
  {
   "cell_type": "code",
   "execution_count": 16,
   "metadata": {},
   "outputs": [],
   "source": [
    "wandb.log({\"oof_table\": wandb.Table(dataframe=oof_df)})"
   ]
  },
  {
   "cell_type": "code",
   "execution_count": 17,
   "metadata": {},
   "outputs": [],
   "source": [
    "log_metrics(\n",
    "    pd.DataFrame(\n",
    "        {\n",
    "            \"score\": oof_df.score.to_numpy(),\n",
    "            \"pred_score\": oof_df.pred_score.to_numpy(),\n",
    "        }\n",
    "    ),\n",
    "    \"Overall\",\n",
    ")"
   ]
  },
  {
   "cell_type": "code",
   "execution_count": 18,
   "metadata": {},
   "outputs": [
    {
     "data": {
      "application/vnd.jupyter.widget-view+json": {
       "model_id": "0c28a43527ba42d1a927d43ac16aee8a",
       "version_major": 2,
       "version_minor": 0
      },
      "text/plain": [
       "VBox(children=(Label(value='2.707 MB of 2.707 MB uploaded\\r'), FloatProgress(value=1.0, max=1.0)))"
      ]
     },
     "metadata": {},
     "output_type": "display_data"
    },
    {
     "data": {
      "text/html": [
       "<style>\n",
       "    table.wandb td:nth-child(1) { padding: 0 10px; text-align: left ; width: auto;} td:nth-child(2) {text-align: left ; width: 100%}\n",
       "    .wandb-row { display: flex; flex-direction: row; flex-wrap: wrap; justify-content: flex-start; width: 100% }\n",
       "    .wandb-col { display: flex; flex-direction: column; flex-basis: 100%; flex: 1; padding: 10px; }\n",
       "    </style>\n",
       "<div class=\"wandb-row\"><div class=\"wandb-col\"><h3>Run history:</h3><br/><table class=\"wandb\"><tr><td>CV/qwk_score</td><td>▁</td></tr></table><br/></div><div class=\"wandb-col\"><h3>Run summary:</h3><br/><table class=\"wandb\"><tr><td>CV/qwk_score</td><td>0.88676</td></tr></table><br/></div></div>"
      ],
      "text/plain": [
       "<IPython.core.display.HTML object>"
      ]
     },
     "metadata": {},
     "output_type": "display_data"
    },
    {
     "data": {
      "text/html": [
       " View run <strong style=\"color:#cdcd00\">LGBM-ASE-3</strong> at: <a href='https://wandb.ai/laplacesdemon43/Kaggle_ASE_2.0/runs/brgehzb7' target=\"_blank\">https://wandb.ai/laplacesdemon43/Kaggle_ASE_2.0/runs/brgehzb7</a><br/> View project at: <a href='https://wandb.ai/laplacesdemon43/Kaggle_ASE_2.0' target=\"_blank\">https://wandb.ai/laplacesdemon43/Kaggle_ASE_2.0</a><br/>Synced 6 W&B file(s), 105 media file(s), 105 artifact file(s) and 1 other file(s)"
      ],
      "text/plain": [
       "<IPython.core.display.HTML object>"
      ]
     },
     "metadata": {},
     "output_type": "display_data"
    },
    {
     "data": {
      "text/html": [
       "Find logs at: <code>./wandb/run-20240530_080527-brgehzb7/logs</code>"
      ],
      "text/plain": [
       "<IPython.core.display.HTML object>"
      ]
     },
     "metadata": {},
     "output_type": "display_data"
    }
   ],
   "source": [
    "wandb.finish()"
   ]
  }
 ],
 "metadata": {
  "kernelspec": {
   "display_name": "Python 3 (ipykernel)",
   "language": "python",
   "name": "python3"
  },
  "language_info": {
   "codemirror_mode": {
    "name": "ipython",
    "version": 3
   },
   "file_extension": ".py",
   "mimetype": "text/x-python",
   "name": "python",
   "nbconvert_exporter": "python",
   "pygments_lexer": "ipython3",
   "version": "3.11.8"
  }
 },
 "nbformat": 4,
 "nbformat_minor": 4
}
