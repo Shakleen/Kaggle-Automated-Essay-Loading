{
 "cells": [
  {
   "cell_type": "markdown",
   "metadata": {},
   "source": [
    "# LGBM - Hyperparameter Tuning"
   ]
  },
  {
   "cell_type": "markdown",
   "metadata": {},
   "source": [
    "## Setup"
   ]
  },
  {
   "cell_type": "markdown",
   "metadata": {},
   "source": [
    "### Environment Variables"
   ]
  },
  {
   "cell_type": "code",
   "execution_count": 1,
   "metadata": {},
   "outputs": [
    {
     "name": "stdout",
     "output_type": "stream",
     "text": [
      "env: TOKENIZERS_PARALLELISM=true\n"
     ]
    }
   ],
   "source": [
    "%env TOKENIZERS_PARALLELISM=true"
   ]
  },
  {
   "cell_type": "markdown",
   "metadata": {},
   "source": [
    "### Import Libraries"
   ]
  },
  {
   "cell_type": "code",
   "execution_count": 2,
   "metadata": {},
   "outputs": [],
   "source": [
    "import os\n",
    "import random\n",
    "from typing import Tuple, List\n",
    "import warnings\n",
    "import pickle as pkl\n",
    "import torch\n",
    "\n",
    "from dotenv import load_dotenv\n",
    "import wandb\n",
    "from tqdm import tqdm\n",
    "import pandas as pd, numpy as np\n",
    "import matplotlib.pyplot as plt\n",
    "import lightgbm as lgb\n",
    "from lightgbm import log_evaluation, early_stopping\n",
    "from sklearn.model_selection import StratifiedGroupKFold\n",
    "from sklearn.metrics import cohen_kappa_score"
   ]
  },
  {
   "cell_type": "code",
   "execution_count": 3,
   "metadata": {},
   "outputs": [
    {
     "data": {
      "text/plain": [
       "True"
      ]
     },
     "execution_count": 3,
     "metadata": {},
     "output_type": "execute_result"
    }
   ],
   "source": [
    "os.chdir(\"../../\")\n",
    "warnings.simplefilter('ignore')\n",
    "load_dotenv()"
   ]
  },
  {
   "cell_type": "code",
   "execution_count": 4,
   "metadata": {},
   "outputs": [],
   "source": [
    "from lib.criterion.metrics import log_metrics\n",
    "from lib.utils.find_threshold import find_thresholds\n",
    "from lib.model.utils import quadratic_weighted_kappa, qwk_obj, get_score"
   ]
  },
  {
   "cell_type": "markdown",
   "metadata": {},
   "source": [
    "### Paths"
   ]
  },
  {
   "cell_type": "code",
   "execution_count": 5,
   "metadata": {},
   "outputs": [],
   "source": [
    "class Paths:\n",
    "    # Competition data with added topic column\n",
    "    train_csv: str = \"data/processed/train.csv\"\n",
    "    test_csv: str = \"data/processed/test.csv\"\n",
    "    feature_csv: str = \"data/feature_engg/all_features.csv\"\n",
    "\n",
    "    # Output path\n",
    "    output_path: str = \"output/model_dir_ht\"\n",
    "    model_path: str = os.path.join(output_path, \"{model_name}\")\n",
    "    tokenizer_path: str = os.path.join(model_path, \"{model_name}_tokenizer\")\n",
    "    threshold_path: str = os.path.join(model_path, \"threshold.pkl\")\n",
    "    logging_path: str = os.path.join(model_path, \"logging\")"
   ]
  },
  {
   "cell_type": "markdown",
   "metadata": {},
   "source": [
    "### Configurations"
   ]
  },
  {
   "cell_type": "code",
   "execution_count": 6,
   "metadata": {},
   "outputs": [],
   "source": [
    "class CFG:\n",
    "    num_labels: int = 6\n",
    "    seed: int = 20\n",
    "    lgbm_a: float = 2.998\n",
    "    lgbm_b: float = 1.092\n",
    "    lgbm_n_folds: int = 7"
   ]
  },
  {
   "cell_type": "markdown",
   "metadata": {},
   "source": [
    "### Setting Random Seed"
   ]
  },
  {
   "cell_type": "code",
   "execution_count": 7,
   "metadata": {},
   "outputs": [],
   "source": [
    "def seed_everything() -> None:\n",
    "    \"\"\"Seed everything to ensure reproducibility\n",
    "\n",
    "    Sources:\n",
    "    1. https://www.kaggle.com/code/alejopaullier/aes-2-multi-class-classification-train\n",
    "    2. https://www.kaggle.com/code/hashidoyuto/deberta-baseline-aes2-0-train\n",
    "    \"\"\"\n",
    "    random.seed(CFG.seed)\n",
    "    os.environ[\"PYTHONHASHCFG.SEED\"] = str(CFG.seed)\n",
    "    np.random.seed(CFG.seed)\n",
    "    torch.manual_seed(CFG.seed)\n",
    "    torch.cuda.manual_seed(CFG.seed)\n",
    "    torch.backends.cudnn.deterministic = True\n",
    "    torch.backends.cudnn.benchmark = True\n",
    "\n",
    "seed_everything()"
   ]
  },
  {
   "cell_type": "markdown",
   "metadata": {},
   "source": [
    "### Sweep Configuration"
   ]
  },
  {
   "cell_type": "code",
   "execution_count": 8,
   "metadata": {},
   "outputs": [],
   "source": [
    "sweep_config = {\n",
    "    # How to perform hyperparameter tuning\n",
    "    \"method\": \"random\",\n",
    "    # How to evaluate which hyperparameter combination is good\n",
    "    \"metric\": {\n",
    "        \"name\": \"QWK\",\n",
    "        \"goal\": \"maximize\",\n",
    "    },\n",
    "    # Hyperparameters to tune\n",
    "    \"parameters\": {\n",
    "        \"learning_rate\": {\"distribution\": \"uniform\", \"min\": 0.01, \"max\": 0.1},\n",
    "        \"max_depth\": {\"distribution\": \"int_uniform\", \"min\": 3, \"max\": 10},\n",
    "        \"num_leaves\": {\"distribution\": \"int_uniform\", \"min\": 5, \"max\": 25},\n",
    "        \"n_estimators\": {\"distribution\": \"int_uniform\", \"min\": 100, \"max\": 2000},\n",
    "        \"class_weight\": {\"values\": [\"balanced\", None]},\n",
    "        \"reg_alpha\": {\"distribution\": \"uniform\", \"min\": 0.0, \"max\": 1.0},\n",
    "        \"reg_lambda\": {\"distribution\": \"uniform\", \"min\": 0.0, \"max\": 1.0},\n",
    "        \"colsample_bytree\": {\"distribution\": \"uniform\", \"min\": 0.0, \"max\": 1.0},\n",
    "    },\n",
    "}"
   ]
  },
  {
   "cell_type": "markdown",
   "metadata": {},
   "source": [
    "### WandB setup"
   ]
  },
  {
   "cell_type": "code",
   "execution_count": 9,
   "metadata": {},
   "outputs": [],
   "source": [
    "WANDB_PROJECT = \"Kaggle_ASE_2.0\""
   ]
  },
  {
   "cell_type": "code",
   "execution_count": 10,
   "metadata": {},
   "outputs": [
    {
     "name": "stderr",
     "output_type": "stream",
     "text": [
      "Failed to detect the name of this notebook, you can set it manually with the WANDB_NOTEBOOK_NAME environment variable to enable code saving.\n",
      "\u001b[34m\u001b[1mwandb\u001b[0m: Currently logged in as: \u001b[33mshakleenishfar\u001b[0m (\u001b[33mlaplacesdemon43\u001b[0m). Use \u001b[1m`wandb login --relogin`\u001b[0m to force relogin\n",
      "\u001b[34m\u001b[1mwandb\u001b[0m: \u001b[33mWARNING\u001b[0m If you're specifying your api key in code, ensure this code is not shared publicly.\n",
      "\u001b[34m\u001b[1mwandb\u001b[0m: \u001b[33mWARNING\u001b[0m Consider setting the WANDB_API_KEY environment variable, or running `wandb login` from the command line.\n",
      "\u001b[34m\u001b[1mwandb\u001b[0m: Appending key for api.wandb.ai to your netrc file: /home/ishfar/.netrc\n"
     ]
    },
    {
     "name": "stdout",
     "output_type": "stream",
     "text": [
      "Create sweep with ID: sg50uz5j\n",
      "Sweep URL: https://wandb.ai/laplacesdemon43/Kaggle_ASE_2.0/sweeps/sg50uz5j\n"
     ]
    }
   ],
   "source": [
    "wandb.login(key=os.environ.get('WANDB_API_KEY'))\n",
    "sweep_id = wandb.sweep(sweep_config, project=WANDB_PROJECT)"
   ]
  },
  {
   "cell_type": "markdown",
   "metadata": {},
   "source": [
    "## Data Preparation"
   ]
  },
  {
   "cell_type": "code",
   "execution_count": 11,
   "metadata": {},
   "outputs": [
    {
     "data": {
      "text/plain": [
       "((17307, 104), (17307,))"
      ]
     },
     "execution_count": 11,
     "metadata": {},
     "output_type": "execute_result"
    }
   ],
   "source": [
    "df = pd.read_csv(Paths.train_csv, usecols=[\"score\", \"topic\"])\n",
    "X = pd.read_csv(Paths.feature_csv)\n",
    "ids, X = X.loc[:, \"essay_id\"], X.drop(columns=[\"essay_id\"])\n",
    "topic, y = df.loc[:, \"topic\"], df.loc[:, \"score\"]\n",
    "\n",
    "del df\n",
    "X.shape, y.shape"
   ]
  },
  {
   "cell_type": "markdown",
   "metadata": {},
   "source": [
    "## Training"
   ]
  },
  {
   "cell_type": "code",
   "execution_count": 12,
   "metadata": {},
   "outputs": [],
   "source": [
    "a = CFG.lgbm_a\n",
    "b = CFG.lgbm_b"
   ]
  },
  {
   "cell_type": "code",
   "execution_count": 13,
   "metadata": {},
   "outputs": [],
   "source": [
    "callbacks = [\n",
    "    # log_evaluation(period=25),\n",
    "    early_stopping(stopping_rounds=75, first_metric_only=True),\n",
    "]"
   ]
  },
  {
   "cell_type": "markdown",
   "metadata": {},
   "source": [
    "### Utility Functions"
   ]
  },
  {
   "cell_type": "code",
   "execution_count": 14,
   "metadata": {},
   "outputs": [],
   "source": [
    "def validate_model(idx, X_valid, y_valid, id_valid, predictor):\n",
    "    y_valid_int = y_valid.astype(np.int64).to_numpy()\n",
    "    preds_raw = predictor.predict(X_valid) + a\n",
    "    preds = preds_raw.clip(1, 6).round().astype(np.int64)\n",
    "\n",
    "    oof = pd.DataFrame(\n",
    "        {\n",
    "            \"essay_id\": id_valid,\n",
    "            \"score\": y_valid_int - 1,\n",
    "            \"pred_score\": preds - 1,\n",
    "            \"raw\": preds_raw\n",
    "        }\n",
    "    )\n",
    "    log_metrics(oof, f\"Fold {idx}\")\n",
    "\n",
    "    return oof"
   ]
  },
  {
   "cell_type": "code",
   "execution_count": 15,
   "metadata": {},
   "outputs": [],
   "source": [
    "def train_loop(sweep_config, X_train, y_train, X_valid, y_valid):\n",
    "    y_train = y_train.astype(np.float32) - a\n",
    "    y_valid = y_valid.astype(np.float32) - a\n",
    "\n",
    "    model = lgb.LGBMRegressor(\n",
    "        objective=qwk_obj,\n",
    "        metrics=\"None\",\n",
    "        learning_rate=sweep_config.learning_rate,\n",
    "        max_depth=sweep_config.max_depth,\n",
    "        num_leaves=sweep_config.num_leaves,\n",
    "        colsample_bytree=sweep_config.colsample_bytree,\n",
    "        reg_alpha=sweep_config.reg_alpha,\n",
    "        reg_lambda=sweep_config.reg_lambda,\n",
    "        n_estimators=sweep_config.n_estimators,\n",
    "        random_state=CFG.seed,\n",
    "        extra_trees=True,\n",
    "        class_weight=sweep_config.class_weight,\n",
    "        n_jobs=6,\n",
    "        verbosity=0,\n",
    "    )\n",
    "\n",
    "    # Train model\n",
    "    predictor = model.fit(\n",
    "        X_train,\n",
    "        y_train,\n",
    "        eval_names=[\"train\", \"valid\"],\n",
    "        eval_set=[(X_train, y_train), (X_valid, y_valid)],\n",
    "        eval_metric=quadratic_weighted_kappa,\n",
    "        callbacks=callbacks,\n",
    "    )\n",
    "\n",
    "    return model, predictor"
   ]
  },
  {
   "cell_type": "markdown",
   "metadata": {},
   "source": [
    "### Training Model"
   ]
  },
  {
   "cell_type": "code",
   "execution_count": 16,
   "metadata": {},
   "outputs": [],
   "source": [
    "def main(sweep_config=None):\n",
    "    with wandb.init(config=sweep_config):\n",
    "        sweep_config = wandb.config\n",
    "        oof_df = pd.DataFrame()\n",
    "\n",
    "        skf = StratifiedGroupKFold(n_splits=7, random_state=CFG.seed, shuffle=True)\n",
    "\n",
    "        for idx, (train_idx, valid_idx) in enumerate(skf.split(X, y, groups=topic)):\n",
    "            X_train, y_train = X.loc[train_idx], y.loc[train_idx]\n",
    "            X_valid, y_valid = X.loc[valid_idx], y.loc[valid_idx]\n",
    "            id_valid = ids.loc[valid_idx].to_numpy()\n",
    "\n",
    "            _, predictor = train_loop(sweep_config, X_train, y_train, X_valid, y_valid)\n",
    "\n",
    "            oof = validate_model(idx, X_valid, y_valid, id_valid, predictor)\n",
    "            oof_df = pd.concat([oof_df, oof])\n",
    "\n",
    "        score = get_score(oof_df[\"score\"], oof_df[\"pred_score\"])\n",
    "        print(f\"Overall QWK Score: {score}\")\n",
    "        wandb.log({\"QWK\": score})"
   ]
  },
  {
   "cell_type": "markdown",
   "metadata": {},
   "source": [
    "### Initiate Sweep"
   ]
  },
  {
   "cell_type": "code",
   "execution_count": 17,
   "metadata": {},
   "outputs": [
    {
     "name": "stderr",
     "output_type": "stream",
     "text": [
      "\u001b[34m\u001b[1mwandb\u001b[0m: Agent Starting Run: 6qmwlcpj with config:\n",
      "\u001b[34m\u001b[1mwandb\u001b[0m: \tclass_weight: None\n",
      "\u001b[34m\u001b[1mwandb\u001b[0m: \tcolsample_bytree: 0.5840402580407215\n",
      "\u001b[34m\u001b[1mwandb\u001b[0m: \tlearning_rate: 0.08335541530874528\n",
      "\u001b[34m\u001b[1mwandb\u001b[0m: \tmax_depth: 8\n",
      "\u001b[34m\u001b[1mwandb\u001b[0m: \tn_estimators: 1856\n",
      "\u001b[34m\u001b[1mwandb\u001b[0m: \tnum_leaves: 11\n",
      "\u001b[34m\u001b[1mwandb\u001b[0m: \treg_alpha: 0.30461892741484864\n",
      "\u001b[34m\u001b[1mwandb\u001b[0m: \treg_lambda: 0.2847663024551428\n",
      "Failed to detect the name of this notebook, you can set it manually with the WANDB_NOTEBOOK_NAME environment variable to enable code saving.\n"
     ]
    },
    {
     "data": {
      "text/html": [
       "wandb version 0.17.1 is available!  To upgrade, please run:\n",
       " $ pip install wandb --upgrade"
      ],
      "text/plain": [
       "<IPython.core.display.HTML object>"
      ]
     },
     "metadata": {},
     "output_type": "display_data"
    },
    {
     "data": {
      "text/html": [
       "Tracking run with wandb version 0.16.6"
      ],
      "text/plain": [
       "<IPython.core.display.HTML object>"
      ]
     },
     "metadata": {},
     "output_type": "display_data"
    },
    {
     "data": {
      "text/html": [
       "Run data is saved locally in <code>/media/ishfar/New Volume/Studies/Projects/Kaggle-Automated-Essay-Scoring/wandb/run-20240615_133449-6qmwlcpj</code>"
      ],
      "text/plain": [
       "<IPython.core.display.HTML object>"
      ]
     },
     "metadata": {},
     "output_type": "display_data"
    },
    {
     "data": {
      "text/html": [
       "Syncing run <strong><a href='https://wandb.ai/laplacesdemon43/Kaggle_ASE_2.0/runs/6qmwlcpj' target=\"_blank\">royal-sweep-1</a></strong> to <a href='https://wandb.ai/laplacesdemon43/Kaggle_ASE_2.0' target=\"_blank\">Weights & Biases</a> (<a href='https://wandb.me/run' target=\"_blank\">docs</a>)<br/>Sweep page: <a href='https://wandb.ai/laplacesdemon43/Kaggle_ASE_2.0/sweeps/sg50uz5j' target=\"_blank\">https://wandb.ai/laplacesdemon43/Kaggle_ASE_2.0/sweeps/sg50uz5j</a>"
      ],
      "text/plain": [
       "<IPython.core.display.HTML object>"
      ]
     },
     "metadata": {},
     "output_type": "display_data"
    },
    {
     "data": {
      "text/html": [
       " View project at <a href='https://wandb.ai/laplacesdemon43/Kaggle_ASE_2.0' target=\"_blank\">https://wandb.ai/laplacesdemon43/Kaggle_ASE_2.0</a>"
      ],
      "text/plain": [
       "<IPython.core.display.HTML object>"
      ]
     },
     "metadata": {},
     "output_type": "display_data"
    },
    {
     "data": {
      "text/html": [
       " View sweep at <a href='https://wandb.ai/laplacesdemon43/Kaggle_ASE_2.0/sweeps/sg50uz5j' target=\"_blank\">https://wandb.ai/laplacesdemon43/Kaggle_ASE_2.0/sweeps/sg50uz5j</a>"
      ],
      "text/plain": [
       "<IPython.core.display.HTML object>"
      ]
     },
     "metadata": {},
     "output_type": "display_data"
    },
    {
     "data": {
      "text/html": [
       " View run at <a href='https://wandb.ai/laplacesdemon43/Kaggle_ASE_2.0/runs/6qmwlcpj' target=\"_blank\">https://wandb.ai/laplacesdemon43/Kaggle_ASE_2.0/runs/6qmwlcpj</a>"
      ],
      "text/plain": [
       "<IPython.core.display.HTML object>"
      ]
     },
     "metadata": {},
     "output_type": "display_data"
    },
    {
     "name": "stdout",
     "output_type": "stream",
     "text": [
      "[LightGBM] [Info] Using self-defined objective function\n",
      "Training until validation scores don't improve for 75 rounds\n",
      "Early stopping, best iteration is:\n",
      "[336]\ttrain's QWK: 0.826831\tvalid's QWK: 0.806407\n",
      "Evaluated only: QWK\n",
      "[LightGBM] [Info] Using self-defined objective function\n",
      "Training until validation scores don't improve for 75 rounds\n",
      "Early stopping, best iteration is:\n",
      "[455]\ttrain's QWK: 0.835826\tvalid's QWK: 0.756917\n",
      "Evaluated only: QWK\n",
      "[LightGBM] [Info] Using self-defined objective function\n",
      "Training until validation scores don't improve for 75 rounds\n",
      "Early stopping, best iteration is:\n",
      "[357]\ttrain's QWK: 0.825525\tvalid's QWK: 0.828182\n",
      "Evaluated only: QWK\n",
      "[LightGBM] [Info] Using self-defined objective function\n",
      "Training until validation scores don't improve for 75 rounds\n",
      "Early stopping, best iteration is:\n",
      "[245]\ttrain's QWK: 0.824961\tvalid's QWK: 0.614158\n",
      "Evaluated only: QWK\n",
      "[LightGBM] [Info] Using self-defined objective function\n",
      "Training until validation scores don't improve for 75 rounds\n",
      "Early stopping, best iteration is:\n",
      "[35]\ttrain's QWK: 0.783182\tvalid's QWK: 0.786725\n",
      "Evaluated only: QWK\n",
      "[LightGBM] [Info] Using self-defined objective function\n",
      "Training until validation scores don't improve for 75 rounds\n",
      "Early stopping, best iteration is:\n",
      "[22]\ttrain's QWK: 0.776542\tvalid's QWK: 0.702451\n",
      "Evaluated only: QWK\n",
      "[LightGBM] [Info] Using self-defined objective function\n",
      "Training until validation scores don't improve for 75 rounds\n",
      "Early stopping, best iteration is:\n",
      "[152]\ttrain's QWK: 0.811692\tvalid's QWK: 0.788335\n",
      "Evaluated only: QWK\n",
      "Overall QWK Score: 0.7896705094227859\n"
     ]
    },
    {
     "data": {
      "application/vnd.jupyter.widget-view+json": {
       "model_id": "97b1d99a79564853af00fe04d32fdb4f",
       "version_major": 2,
       "version_minor": 0
      },
      "text/plain": [
       "VBox(children=(Label(value='0.027 MB of 0.027 MB uploaded\\r'), FloatProgress(value=1.0, max=1.0)))"
      ]
     },
     "metadata": {},
     "output_type": "display_data"
    },
    {
     "data": {
      "text/html": [
       "<style>\n",
       "    table.wandb td:nth-child(1) { padding: 0 10px; text-align: left ; width: auto;} td:nth-child(2) {text-align: left ; width: 100%}\n",
       "    .wandb-row { display: flex; flex-direction: row; flex-wrap: wrap; justify-content: flex-start; width: 100% }\n",
       "    .wandb-col { display: flex; flex-direction: column; flex-basis: 100%; flex: 1; padding: 10px; }\n",
       "    </style>\n",
       "<div class=\"wandb-row\"><div class=\"wandb-col\"><h3>Run history:</h3><br/><table class=\"wandb\"><tr><td>QWK</td><td>▁</td></tr></table><br/></div><div class=\"wandb-col\"><h3>Run summary:</h3><br/><table class=\"wandb\"><tr><td>QWK</td><td>0.78967</td></tr></table><br/></div></div>"
      ],
      "text/plain": [
       "<IPython.core.display.HTML object>"
      ]
     },
     "metadata": {},
     "output_type": "display_data"
    },
    {
     "data": {
      "text/html": [
       " View run <strong style=\"color:#cdcd00\">royal-sweep-1</strong> at: <a href='https://wandb.ai/laplacesdemon43/Kaggle_ASE_2.0/runs/6qmwlcpj' target=\"_blank\">https://wandb.ai/laplacesdemon43/Kaggle_ASE_2.0/runs/6qmwlcpj</a><br/> View project at: <a href='https://wandb.ai/laplacesdemon43/Kaggle_ASE_2.0' target=\"_blank\">https://wandb.ai/laplacesdemon43/Kaggle_ASE_2.0</a><br/>Synced 5 W&B file(s), 28 media file(s), 28 artifact file(s) and 0 other file(s)"
      ],
      "text/plain": [
       "<IPython.core.display.HTML object>"
      ]
     },
     "metadata": {},
     "output_type": "display_data"
    },
    {
     "data": {
      "text/html": [
       "Find logs at: <code>./wandb/run-20240615_133449-6qmwlcpj/logs</code>"
      ],
      "text/plain": [
       "<IPython.core.display.HTML object>"
      ]
     },
     "metadata": {},
     "output_type": "display_data"
    },
    {
     "name": "stderr",
     "output_type": "stream",
     "text": [
      "\u001b[34m\u001b[1mwandb\u001b[0m: Agent Starting Run: 3fm84egg with config:\n",
      "\u001b[34m\u001b[1mwandb\u001b[0m: \tclass_weight: balanced\n",
      "\u001b[34m\u001b[1mwandb\u001b[0m: \tcolsample_bytree: 0.37953532216975494\n",
      "\u001b[34m\u001b[1mwandb\u001b[0m: \tlearning_rate: 0.06077595577180699\n",
      "\u001b[34m\u001b[1mwandb\u001b[0m: \tmax_depth: 6\n",
      "\u001b[34m\u001b[1mwandb\u001b[0m: \tn_estimators: 469\n",
      "\u001b[34m\u001b[1mwandb\u001b[0m: \tnum_leaves: 19\n",
      "\u001b[34m\u001b[1mwandb\u001b[0m: \treg_alpha: 0.4511734857169445\n",
      "\u001b[34m\u001b[1mwandb\u001b[0m: \treg_lambda: 0.6837531639048126\n",
      "Failed to detect the name of this notebook, you can set it manually with the WANDB_NOTEBOOK_NAME environment variable to enable code saving.\n"
     ]
    },
    {
     "data": {
      "text/html": [
       "wandb version 0.17.1 is available!  To upgrade, please run:\n",
       " $ pip install wandb --upgrade"
      ],
      "text/plain": [
       "<IPython.core.display.HTML object>"
      ]
     },
     "metadata": {},
     "output_type": "display_data"
    },
    {
     "data": {
      "text/html": [
       "Tracking run with wandb version 0.16.6"
      ],
      "text/plain": [
       "<IPython.core.display.HTML object>"
      ]
     },
     "metadata": {},
     "output_type": "display_data"
    },
    {
     "data": {
      "text/html": [
       "Run data is saved locally in <code>/media/ishfar/New Volume/Studies/Projects/Kaggle-Automated-Essay-Scoring/wandb/run-20240615_133546-3fm84egg</code>"
      ],
      "text/plain": [
       "<IPython.core.display.HTML object>"
      ]
     },
     "metadata": {},
     "output_type": "display_data"
    },
    {
     "data": {
      "text/html": [
       "Syncing run <strong><a href='https://wandb.ai/laplacesdemon43/Kaggle_ASE_2.0/runs/3fm84egg' target=\"_blank\">stoic-sweep-2</a></strong> to <a href='https://wandb.ai/laplacesdemon43/Kaggle_ASE_2.0' target=\"_blank\">Weights & Biases</a> (<a href='https://wandb.me/run' target=\"_blank\">docs</a>)<br/>Sweep page: <a href='https://wandb.ai/laplacesdemon43/Kaggle_ASE_2.0/sweeps/sg50uz5j' target=\"_blank\">https://wandb.ai/laplacesdemon43/Kaggle_ASE_2.0/sweeps/sg50uz5j</a>"
      ],
      "text/plain": [
       "<IPython.core.display.HTML object>"
      ]
     },
     "metadata": {},
     "output_type": "display_data"
    },
    {
     "data": {
      "text/html": [
       " View project at <a href='https://wandb.ai/laplacesdemon43/Kaggle_ASE_2.0' target=\"_blank\">https://wandb.ai/laplacesdemon43/Kaggle_ASE_2.0</a>"
      ],
      "text/plain": [
       "<IPython.core.display.HTML object>"
      ]
     },
     "metadata": {},
     "output_type": "display_data"
    },
    {
     "data": {
      "text/html": [
       " View sweep at <a href='https://wandb.ai/laplacesdemon43/Kaggle_ASE_2.0/sweeps/sg50uz5j' target=\"_blank\">https://wandb.ai/laplacesdemon43/Kaggle_ASE_2.0/sweeps/sg50uz5j</a>"
      ],
      "text/plain": [
       "<IPython.core.display.HTML object>"
      ]
     },
     "metadata": {},
     "output_type": "display_data"
    },
    {
     "data": {
      "text/html": [
       " View run at <a href='https://wandb.ai/laplacesdemon43/Kaggle_ASE_2.0/runs/3fm84egg' target=\"_blank\">https://wandb.ai/laplacesdemon43/Kaggle_ASE_2.0/runs/3fm84egg</a>"
      ],
      "text/plain": [
       "<IPython.core.display.HTML object>"
      ]
     },
     "metadata": {},
     "output_type": "display_data"
    },
    {
     "name": "stdout",
     "output_type": "stream",
     "text": [
      "[LightGBM] [Info] Using self-defined objective function\n",
      "Training until validation scores don't improve for 75 rounds\n",
      "[LightGBM] [Warning] No further splits with positive gain, best gain: -inf\n",
      "Early stopping, best iteration is:\n",
      "[238]\ttrain's QWK: 0.821854\tvalid's QWK: 0.806923\n",
      "Evaluated only: QWK\n",
      "[LightGBM] [Info] Using self-defined objective function\n",
      "Training until validation scores don't improve for 75 rounds\n",
      "[LightGBM] [Warning] No further splits with positive gain, best gain: -inf\n",
      "[LightGBM] [Warning] No further splits with positive gain, best gain: -inf\n",
      "[LightGBM] [Warning] No further splits with positive gain, best gain: -inf\n",
      "[LightGBM] [Warning] No further splits with positive gain, best gain: -inf\n",
      "[LightGBM] [Warning] No further splits with positive gain, best gain: -inf\n",
      "[LightGBM] [Warning] No further splits with positive gain, best gain: -inf\n",
      "Did not meet early stopping. Best iteration is:\n",
      "[442]\ttrain's QWK: 0.837152\tvalid's QWK: 0.748614\n",
      "Evaluated only: QWK\n",
      "[LightGBM] [Info] Using self-defined objective function\n",
      "Training until validation scores don't improve for 75 rounds\n",
      "[LightGBM] [Warning] No further splits with positive gain, best gain: -inf\n",
      "[LightGBM] [Warning] No further splits with positive gain, best gain: -inf\n",
      "[LightGBM] [Warning] No further splits with positive gain, best gain: -inf\n",
      "[LightGBM] [Warning] No further splits with positive gain, best gain: -inf\n",
      "Early stopping, best iteration is:\n",
      "[384]\ttrain's QWK: 0.830323\tvalid's QWK: 0.82581\n",
      "Evaluated only: QWK\n",
      "[LightGBM] [Info] Using self-defined objective function\n",
      "Training until validation scores don't improve for 75 rounds\n",
      "[LightGBM] [Warning] No further splits with positive gain, best gain: -inf\n",
      "[LightGBM] [Warning] No further splits with positive gain, best gain: -inf\n",
      "[LightGBM] [Warning] No further splits with positive gain, best gain: -inf\n",
      "[LightGBM] [Warning] No further splits with positive gain, best gain: -inf\n",
      "Early stopping, best iteration is:\n",
      "[349]\ttrain's QWK: 0.833354\tvalid's QWK: 0.60288\n",
      "Evaluated only: QWK\n",
      "[LightGBM] [Info] Using self-defined objective function\n",
      "Training until validation scores don't improve for 75 rounds\n",
      "Early stopping, best iteration is:\n",
      "[47]\ttrain's QWK: 0.774953\tvalid's QWK: 0.784803\n",
      "Evaluated only: QWK\n",
      "[LightGBM] [Info] Using self-defined objective function\n",
      "Training until validation scores don't improve for 75 rounds\n",
      "Early stopping, best iteration is:\n",
      "[46]\ttrain's QWK: 0.784352\tvalid's QWK: 0.715598\n",
      "Evaluated only: QWK\n",
      "[LightGBM] [Info] Using self-defined objective function\n",
      "Training until validation scores don't improve for 75 rounds\n",
      "[LightGBM] [Warning] No further splits with positive gain, best gain: -inf\n",
      "Did not meet early stopping. Best iteration is:\n",
      "[441]\ttrain's QWK: 0.836575\tvalid's QWK: 0.787255\n",
      "Evaluated only: QWK\n",
      "Overall QWK Score: 0.7882469149164845\n"
     ]
    },
    {
     "data": {
      "application/vnd.jupyter.widget-view+json": {
       "model_id": "6a09481c4dba410f8cc626ea3d3492ac",
       "version_major": 2,
       "version_minor": 0
      },
      "text/plain": [
       "VBox(children=(Label(value='0.027 MB of 0.027 MB uploaded\\r'), FloatProgress(value=1.0, max=1.0)))"
      ]
     },
     "metadata": {},
     "output_type": "display_data"
    },
    {
     "data": {
      "text/html": [
       "<style>\n",
       "    table.wandb td:nth-child(1) { padding: 0 10px; text-align: left ; width: auto;} td:nth-child(2) {text-align: left ; width: 100%}\n",
       "    .wandb-row { display: flex; flex-direction: row; flex-wrap: wrap; justify-content: flex-start; width: 100% }\n",
       "    .wandb-col { display: flex; flex-direction: column; flex-basis: 100%; flex: 1; padding: 10px; }\n",
       "    </style>\n",
       "<div class=\"wandb-row\"><div class=\"wandb-col\"><h3>Run history:</h3><br/><table class=\"wandb\"><tr><td>QWK</td><td>▁</td></tr></table><br/></div><div class=\"wandb-col\"><h3>Run summary:</h3><br/><table class=\"wandb\"><tr><td>QWK</td><td>0.78825</td></tr></table><br/></div></div>"
      ],
      "text/plain": [
       "<IPython.core.display.HTML object>"
      ]
     },
     "metadata": {},
     "output_type": "display_data"
    },
    {
     "data": {
      "text/html": [
       " View run <strong style=\"color:#cdcd00\">stoic-sweep-2</strong> at: <a href='https://wandb.ai/laplacesdemon43/Kaggle_ASE_2.0/runs/3fm84egg' target=\"_blank\">https://wandb.ai/laplacesdemon43/Kaggle_ASE_2.0/runs/3fm84egg</a><br/> View project at: <a href='https://wandb.ai/laplacesdemon43/Kaggle_ASE_2.0' target=\"_blank\">https://wandb.ai/laplacesdemon43/Kaggle_ASE_2.0</a><br/>Synced 5 W&B file(s), 28 media file(s), 28 artifact file(s) and 0 other file(s)"
      ],
      "text/plain": [
       "<IPython.core.display.HTML object>"
      ]
     },
     "metadata": {},
     "output_type": "display_data"
    },
    {
     "data": {
      "text/html": [
       "Find logs at: <code>./wandb/run-20240615_133546-3fm84egg/logs</code>"
      ],
      "text/plain": [
       "<IPython.core.display.HTML object>"
      ]
     },
     "metadata": {},
     "output_type": "display_data"
    },
    {
     "name": "stderr",
     "output_type": "stream",
     "text": [
      "\u001b[34m\u001b[1mwandb\u001b[0m: Agent Starting Run: gf08c6ev with config:\n",
      "\u001b[34m\u001b[1mwandb\u001b[0m: \tclass_weight: balanced\n",
      "\u001b[34m\u001b[1mwandb\u001b[0m: \tcolsample_bytree: 0.8160224862340288\n",
      "\u001b[34m\u001b[1mwandb\u001b[0m: \tlearning_rate: 0.04891955852092683\n",
      "\u001b[34m\u001b[1mwandb\u001b[0m: \tmax_depth: 6\n",
      "\u001b[34m\u001b[1mwandb\u001b[0m: \tn_estimators: 698\n",
      "\u001b[34m\u001b[1mwandb\u001b[0m: \tnum_leaves: 18\n",
      "\u001b[34m\u001b[1mwandb\u001b[0m: \treg_alpha: 0.7717803718818617\n",
      "\u001b[34m\u001b[1mwandb\u001b[0m: \treg_lambda: 0.80020756977463\n",
      "Failed to detect the name of this notebook, you can set it manually with the WANDB_NOTEBOOK_NAME environment variable to enable code saving.\n"
     ]
    },
    {
     "data": {
      "text/html": [
       "wandb version 0.17.1 is available!  To upgrade, please run:\n",
       " $ pip install wandb --upgrade"
      ],
      "text/plain": [
       "<IPython.core.display.HTML object>"
      ]
     },
     "metadata": {},
     "output_type": "display_data"
    },
    {
     "data": {
      "text/html": [
       "Tracking run with wandb version 0.16.6"
      ],
      "text/plain": [
       "<IPython.core.display.HTML object>"
      ]
     },
     "metadata": {},
     "output_type": "display_data"
    },
    {
     "data": {
      "text/html": [
       "Run data is saved locally in <code>/media/ishfar/New Volume/Studies/Projects/Kaggle-Automated-Essay-Scoring/wandb/run-20240615_133642-gf08c6ev</code>"
      ],
      "text/plain": [
       "<IPython.core.display.HTML object>"
      ]
     },
     "metadata": {},
     "output_type": "display_data"
    },
    {
     "data": {
      "text/html": [
       "Syncing run <strong><a href='https://wandb.ai/laplacesdemon43/Kaggle_ASE_2.0/runs/gf08c6ev' target=\"_blank\">happy-sweep-3</a></strong> to <a href='https://wandb.ai/laplacesdemon43/Kaggle_ASE_2.0' target=\"_blank\">Weights & Biases</a> (<a href='https://wandb.me/run' target=\"_blank\">docs</a>)<br/>Sweep page: <a href='https://wandb.ai/laplacesdemon43/Kaggle_ASE_2.0/sweeps/sg50uz5j' target=\"_blank\">https://wandb.ai/laplacesdemon43/Kaggle_ASE_2.0/sweeps/sg50uz5j</a>"
      ],
      "text/plain": [
       "<IPython.core.display.HTML object>"
      ]
     },
     "metadata": {},
     "output_type": "display_data"
    },
    {
     "data": {
      "text/html": [
       " View project at <a href='https://wandb.ai/laplacesdemon43/Kaggle_ASE_2.0' target=\"_blank\">https://wandb.ai/laplacesdemon43/Kaggle_ASE_2.0</a>"
      ],
      "text/plain": [
       "<IPython.core.display.HTML object>"
      ]
     },
     "metadata": {},
     "output_type": "display_data"
    },
    {
     "data": {
      "text/html": [
       " View sweep at <a href='https://wandb.ai/laplacesdemon43/Kaggle_ASE_2.0/sweeps/sg50uz5j' target=\"_blank\">https://wandb.ai/laplacesdemon43/Kaggle_ASE_2.0/sweeps/sg50uz5j</a>"
      ],
      "text/plain": [
       "<IPython.core.display.HTML object>"
      ]
     },
     "metadata": {},
     "output_type": "display_data"
    },
    {
     "data": {
      "text/html": [
       " View run at <a href='https://wandb.ai/laplacesdemon43/Kaggle_ASE_2.0/runs/gf08c6ev' target=\"_blank\">https://wandb.ai/laplacesdemon43/Kaggle_ASE_2.0/runs/gf08c6ev</a>"
      ],
      "text/plain": [
       "<IPython.core.display.HTML object>"
      ]
     },
     "metadata": {},
     "output_type": "display_data"
    },
    {
     "name": "stdout",
     "output_type": "stream",
     "text": [
      "[LightGBM] [Info] Using self-defined objective function\n",
      "Training until validation scores don't improve for 75 rounds\n",
      "[LightGBM] [Warning] No further splits with positive gain, best gain: -inf\n",
      "[LightGBM] [Warning] No further splits with positive gain, best gain: -inf\n",
      "[LightGBM] [Warning] No further splits with positive gain, best gain: -inf\n",
      "[LightGBM] [Warning] No further splits with positive gain, best gain: -inf\n",
      "Early stopping, best iteration is:\n",
      "[315]\ttrain's QWK: 0.828405\tvalid's QWK: 0.802173\n",
      "Evaluated only: QWK\n",
      "[LightGBM] [Info] Using self-defined objective function\n",
      "Training until validation scores don't improve for 75 rounds\n",
      "[LightGBM] [Warning] No further splits with positive gain, best gain: -inf\n",
      "[LightGBM] [Warning] No further splits with positive gain, best gain: -inf\n",
      "[LightGBM] [Warning] No further splits with positive gain, best gain: -inf\n",
      "[LightGBM] [Warning] No further splits with positive gain, best gain: -inf\n",
      "[LightGBM] [Warning] No further splits with positive gain, best gain: -inf\n",
      "[LightGBM] [Warning] No further splits with positive gain, best gain: -inf\n",
      "[LightGBM] [Warning] No further splits with positive gain, best gain: -inf\n",
      "[LightGBM] [Warning] No further splits with positive gain, best gain: -inf\n",
      "[LightGBM] [Warning] No further splits with positive gain, best gain: -inf\n",
      "[LightGBM] [Warning] No further splits with positive gain, best gain: -inf\n",
      "Did not meet early stopping. Best iteration is:\n",
      "[632]\ttrain's QWK: 0.846736\tvalid's QWK: 0.75861\n",
      "Evaluated only: QWK\n",
      "[LightGBM] [Info] Using self-defined objective function\n",
      "Training until validation scores don't improve for 75 rounds\n",
      "[LightGBM] [Warning] No further splits with positive gain, best gain: -inf\n",
      "[LightGBM] [Warning] No further splits with positive gain, best gain: -inf\n",
      "[LightGBM] [Warning] No further splits with positive gain, best gain: -inf\n",
      "Early stopping, best iteration is:\n",
      "[398]\ttrain's QWK: 0.829969\tvalid's QWK: 0.830823\n",
      "Evaluated only: QWK\n",
      "[LightGBM] [Info] Using self-defined objective function\n",
      "Training until validation scores don't improve for 75 rounds\n",
      "[LightGBM] [Warning] No further splits with positive gain, best gain: -inf\n",
      "Early stopping, best iteration is:\n",
      "[150]\ttrain's QWK: 0.818161\tvalid's QWK: 0.625042\n",
      "Evaluated only: QWK\n",
      "[LightGBM] [Info] Using self-defined objective function\n",
      "Training until validation scores don't improve for 75 rounds\n",
      "Early stopping, best iteration is:\n",
      "[57]\ttrain's QWK: 0.791517\tvalid's QWK: 0.787538\n",
      "Evaluated only: QWK\n",
      "[LightGBM] [Info] Using self-defined objective function\n",
      "Training until validation scores don't improve for 75 rounds\n",
      "Early stopping, best iteration is:\n",
      "[42]\ttrain's QWK: 0.798071\tvalid's QWK: 0.695651\n",
      "Evaluated only: QWK\n",
      "[LightGBM] [Info] Using self-defined objective function\n",
      "Training until validation scores don't improve for 75 rounds\n",
      "Early stopping, best iteration is:\n",
      "[258]\ttrain's QWK: 0.824393\tvalid's QWK: 0.797747\n",
      "Evaluated only: QWK\n",
      "Overall QWK Score: 0.7899296404652062\n"
     ]
    },
    {
     "data": {
      "application/vnd.jupyter.widget-view+json": {
       "model_id": "668859d67cf647ccae49fbecac08ae6d",
       "version_major": 2,
       "version_minor": 0
      },
      "text/plain": [
       "VBox(children=(Label(value='0.027 MB of 0.027 MB uploaded\\r'), FloatProgress(value=1.0, max=1.0)))"
      ]
     },
     "metadata": {},
     "output_type": "display_data"
    },
    {
     "data": {
      "text/html": [
       "<style>\n",
       "    table.wandb td:nth-child(1) { padding: 0 10px; text-align: left ; width: auto;} td:nth-child(2) {text-align: left ; width: 100%}\n",
       "    .wandb-row { display: flex; flex-direction: row; flex-wrap: wrap; justify-content: flex-start; width: 100% }\n",
       "    .wandb-col { display: flex; flex-direction: column; flex-basis: 100%; flex: 1; padding: 10px; }\n",
       "    </style>\n",
       "<div class=\"wandb-row\"><div class=\"wandb-col\"><h3>Run history:</h3><br/><table class=\"wandb\"><tr><td>QWK</td><td>▁</td></tr></table><br/></div><div class=\"wandb-col\"><h3>Run summary:</h3><br/><table class=\"wandb\"><tr><td>QWK</td><td>0.78993</td></tr></table><br/></div></div>"
      ],
      "text/plain": [
       "<IPython.core.display.HTML object>"
      ]
     },
     "metadata": {},
     "output_type": "display_data"
    },
    {
     "data": {
      "text/html": [
       " View run <strong style=\"color:#cdcd00\">happy-sweep-3</strong> at: <a href='https://wandb.ai/laplacesdemon43/Kaggle_ASE_2.0/runs/gf08c6ev' target=\"_blank\">https://wandb.ai/laplacesdemon43/Kaggle_ASE_2.0/runs/gf08c6ev</a><br/> View project at: <a href='https://wandb.ai/laplacesdemon43/Kaggle_ASE_2.0' target=\"_blank\">https://wandb.ai/laplacesdemon43/Kaggle_ASE_2.0</a><br/>Synced 5 W&B file(s), 28 media file(s), 28 artifact file(s) and 0 other file(s)"
      ],
      "text/plain": [
       "<IPython.core.display.HTML object>"
      ]
     },
     "metadata": {},
     "output_type": "display_data"
    },
    {
     "data": {
      "text/html": [
       "Find logs at: <code>./wandb/run-20240615_133642-gf08c6ev/logs</code>"
      ],
      "text/plain": [
       "<IPython.core.display.HTML object>"
      ]
     },
     "metadata": {},
     "output_type": "display_data"
    }
   ],
   "source": [
    "wandb.agent(sweep_id, main, count=3, project=WANDB_PROJECT)"
   ]
  },
  {
   "cell_type": "markdown",
   "metadata": {},
   "source": [
    "## Wrapping up"
   ]
  },
  {
   "cell_type": "code",
   "execution_count": 18,
   "metadata": {},
   "outputs": [],
   "source": [
    "wandb.finish()"
   ]
  }
 ],
 "metadata": {
  "kernelspec": {
   "display_name": "venv",
   "language": "python",
   "name": "python3"
  },
  "language_info": {
   "codemirror_mode": {
    "name": "ipython",
    "version": 3
   },
   "file_extension": ".py",
   "mimetype": "text/x-python",
   "name": "python",
   "nbconvert_exporter": "python",
   "pygments_lexer": "ipython3",
   "version": "3.11.8"
  }
 },
 "nbformat": 4,
 "nbformat_minor": 2
}
